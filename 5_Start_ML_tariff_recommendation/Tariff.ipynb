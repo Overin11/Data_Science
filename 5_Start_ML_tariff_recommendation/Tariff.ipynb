{
 "cells": [
  {
   "cell_type": "markdown",
   "metadata": {
    "toc": true
   },
   "source": [
    "<h1>Содержание<span class=\"tocSkip\"></span></h1>\n",
    "<div class=\"toc\"><ul class=\"toc-item\"><li><span><a href=\"#Откройте-и-изучите-файл\" data-toc-modified-id=\"Откройте-и-изучите-файл-1\"><span class=\"toc-item-num\">1&nbsp;&nbsp;</span>Откройте и изучите файл</a></span></li><li><span><a href=\"#Разбейте-данные-на-выборки\" data-toc-modified-id=\"Разбейте-данные-на-выборки-2\"><span class=\"toc-item-num\">2&nbsp;&nbsp;</span>Разбейте данные на выборки</a></span></li><li><span><a href=\"#Исследуйте-модели\" data-toc-modified-id=\"Исследуйте-модели-3\"><span class=\"toc-item-num\">3&nbsp;&nbsp;</span>Исследуйте модели</a></span></li><li><span><a href=\"#Проверьте-модель-на-тестовой-выборке\" data-toc-modified-id=\"Проверьте-модель-на-тестовой-выборке-4\"><span class=\"toc-item-num\">4&nbsp;&nbsp;</span>Проверьте модель на тестовой выборке</a></span></li><li><span><a href=\"#(бонус)-Проверьте-модели-на-адекватность\" data-toc-modified-id=\"(бонус)-Проверьте-модели-на-адекватность-5\"><span class=\"toc-item-num\">5&nbsp;&nbsp;</span>(бонус) Проверьте модели на адекватность</a></span></li><li><span><a href=\"#Чек-лист-готовности-проекта\" data-toc-modified-id=\"Чек-лист-готовности-проекта-6\"><span class=\"toc-item-num\">6&nbsp;&nbsp;</span>Чек-лист готовности проекта</a></span></li></ul></div>"
   ]
  },
  {
   "cell_type": "markdown",
   "metadata": {},
   "source": [
    "# Рекомендация тарифов"
   ]
  },
  {
   "cell_type": "markdown",
   "metadata": {},
   "source": [
    "В вашем распоряжении данные о поведении клиентов, которые уже перешли на эти тарифы (из проекта курса «Статистический анализ данных»). Нужно построить модель для задачи классификации, которая выберет подходящий тариф. Предобработка данных не понадобится — вы её уже сделали.\n",
    "\n",
    "Постройте модель с максимально большим значением *accuracy*. Чтобы сдать проект успешно, нужно довести долю правильных ответов по крайней мере до 0.75. Проверьте *accuracy* на тестовой выборке самостоятельно."
   ]
  },
  {
   "cell_type": "markdown",
   "metadata": {},
   "source": [
    "## Откройте и изучите файл"
   ]
  },
  {
   "cell_type": "code",
   "execution_count": 1,
   "metadata": {},
   "outputs": [],
   "source": [
    "import pandas as pd\n",
    "import numpy as np\n",
    "from sklearn.model_selection import train_test_split \n",
    "from sklearn.tree import DecisionTreeClassifier\n",
    "from sklearn.metrics import accuracy_score\n",
    "from sklearn.ensemble import RandomForestClassifier\n",
    "from sklearn.linear_model import LogisticRegression \n",
    "from sklearn.model_selection import GridSearchCV\n",
    "from sklearn.model_selection import cross_val_score\n",
    "from matplotlib import pyplot\n",
    "from sklearn.dummy import DummyClassifier\n",
    "from sklearn.svm import SVC"
   ]
  },
  {
   "cell_type": "markdown",
   "metadata": {},
   "source": [
    "    Импортирую всё, что буду использовать в проекте"
   ]
  },
  {
   "cell_type": "code",
   "execution_count": 2,
   "metadata": {},
   "outputs": [
    {
     "data": {
      "text/html": [
       "<div>\n",
       "<style scoped>\n",
       "    .dataframe tbody tr th:only-of-type {\n",
       "        vertical-align: middle;\n",
       "    }\n",
       "\n",
       "    .dataframe tbody tr th {\n",
       "        vertical-align: top;\n",
       "    }\n",
       "\n",
       "    .dataframe thead th {\n",
       "        text-align: right;\n",
       "    }\n",
       "</style>\n",
       "<table border=\"1\" class=\"dataframe\">\n",
       "  <thead>\n",
       "    <tr style=\"text-align: right;\">\n",
       "      <th></th>\n",
       "      <th>calls</th>\n",
       "      <th>minutes</th>\n",
       "      <th>messages</th>\n",
       "      <th>mb_used</th>\n",
       "      <th>is_ultra</th>\n",
       "    </tr>\n",
       "  </thead>\n",
       "  <tbody>\n",
       "    <tr>\n",
       "      <td>0</td>\n",
       "      <td>40.0</td>\n",
       "      <td>311.90</td>\n",
       "      <td>83.0</td>\n",
       "      <td>19915.42</td>\n",
       "      <td>0</td>\n",
       "    </tr>\n",
       "    <tr>\n",
       "      <td>1</td>\n",
       "      <td>85.0</td>\n",
       "      <td>516.75</td>\n",
       "      <td>56.0</td>\n",
       "      <td>22696.96</td>\n",
       "      <td>0</td>\n",
       "    </tr>\n",
       "    <tr>\n",
       "      <td>2</td>\n",
       "      <td>77.0</td>\n",
       "      <td>467.66</td>\n",
       "      <td>86.0</td>\n",
       "      <td>21060.45</td>\n",
       "      <td>0</td>\n",
       "    </tr>\n",
       "    <tr>\n",
       "      <td>3</td>\n",
       "      <td>106.0</td>\n",
       "      <td>745.53</td>\n",
       "      <td>81.0</td>\n",
       "      <td>8437.39</td>\n",
       "      <td>1</td>\n",
       "    </tr>\n",
       "    <tr>\n",
       "      <td>4</td>\n",
       "      <td>66.0</td>\n",
       "      <td>418.74</td>\n",
       "      <td>1.0</td>\n",
       "      <td>14502.75</td>\n",
       "      <td>0</td>\n",
       "    </tr>\n",
       "    <tr>\n",
       "      <td>...</td>\n",
       "      <td>...</td>\n",
       "      <td>...</td>\n",
       "      <td>...</td>\n",
       "      <td>...</td>\n",
       "      <td>...</td>\n",
       "    </tr>\n",
       "    <tr>\n",
       "      <td>3209</td>\n",
       "      <td>122.0</td>\n",
       "      <td>910.98</td>\n",
       "      <td>20.0</td>\n",
       "      <td>35124.90</td>\n",
       "      <td>1</td>\n",
       "    </tr>\n",
       "    <tr>\n",
       "      <td>3210</td>\n",
       "      <td>25.0</td>\n",
       "      <td>190.36</td>\n",
       "      <td>0.0</td>\n",
       "      <td>3275.61</td>\n",
       "      <td>0</td>\n",
       "    </tr>\n",
       "    <tr>\n",
       "      <td>3211</td>\n",
       "      <td>97.0</td>\n",
       "      <td>634.44</td>\n",
       "      <td>70.0</td>\n",
       "      <td>13974.06</td>\n",
       "      <td>0</td>\n",
       "    </tr>\n",
       "    <tr>\n",
       "      <td>3212</td>\n",
       "      <td>64.0</td>\n",
       "      <td>462.32</td>\n",
       "      <td>90.0</td>\n",
       "      <td>31239.78</td>\n",
       "      <td>0</td>\n",
       "    </tr>\n",
       "    <tr>\n",
       "      <td>3213</td>\n",
       "      <td>80.0</td>\n",
       "      <td>566.09</td>\n",
       "      <td>6.0</td>\n",
       "      <td>29480.52</td>\n",
       "      <td>1</td>\n",
       "    </tr>\n",
       "  </tbody>\n",
       "</table>\n",
       "<p>3214 rows × 5 columns</p>\n",
       "</div>"
      ],
      "text/plain": [
       "      calls  minutes  messages   mb_used  is_ultra\n",
       "0      40.0   311.90      83.0  19915.42         0\n",
       "1      85.0   516.75      56.0  22696.96         0\n",
       "2      77.0   467.66      86.0  21060.45         0\n",
       "3     106.0   745.53      81.0   8437.39         1\n",
       "4      66.0   418.74       1.0  14502.75         0\n",
       "...     ...      ...       ...       ...       ...\n",
       "3209  122.0   910.98      20.0  35124.90         1\n",
       "3210   25.0   190.36       0.0   3275.61         0\n",
       "3211   97.0   634.44      70.0  13974.06         0\n",
       "3212   64.0   462.32      90.0  31239.78         0\n",
       "3213   80.0   566.09       6.0  29480.52         1\n",
       "\n",
       "[3214 rows x 5 columns]"
      ]
     },
     "metadata": {},
     "output_type": "display_data"
    }
   ],
   "source": [
    "data = pd.read_csv('/datasets/users_behavior.csv')\n",
    "display(data)"
   ]
  },
  {
   "cell_type": "code",
   "execution_count": 3,
   "metadata": {
    "scrolled": true
   },
   "outputs": [
    {
     "name": "stdout",
     "output_type": "stream",
     "text": [
      "<class 'pandas.core.frame.DataFrame'>\n",
      "RangeIndex: 3214 entries, 0 to 3213\n",
      "Data columns (total 5 columns):\n",
      "calls       3214 non-null float64\n",
      "minutes     3214 non-null float64\n",
      "messages    3214 non-null float64\n",
      "mb_used     3214 non-null float64\n",
      "is_ultra    3214 non-null int64\n",
      "dtypes: float64(4), int64(1)\n",
      "memory usage: 125.7 KB\n"
     ]
    },
    {
     "data": {
      "text/plain": [
       "0    2229\n",
       "1     985\n",
       "Name: is_ultra, dtype: int64"
      ]
     },
     "execution_count": 3,
     "metadata": {},
     "output_type": "execute_result"
    }
   ],
   "source": [
    "data.info()\n",
    "data.is_ultra.value_counts()"
   ]
  },
  {
   "cell_type": "markdown",
   "metadata": {},
   "source": [
    "    Данные представленны в нужных типах"
   ]
  },
  {
   "cell_type": "code",
   "execution_count": 4,
   "metadata": {
    "scrolled": true
   },
   "outputs": [
    {
     "data": {
      "text/plain": [
       "calls       0\n",
       "minutes     0\n",
       "messages    0\n",
       "mb_used     0\n",
       "is_ultra    0\n",
       "dtype: int64"
      ]
     },
     "metadata": {},
     "output_type": "display_data"
    },
    {
     "data": {
      "text/plain": [
       "calls       0.0\n",
       "minutes     0.0\n",
       "messages    0.0\n",
       "mb_used     0.0\n",
       "is_ultra    0.0\n",
       "dtype: float64"
      ]
     },
     "metadata": {},
     "output_type": "display_data"
    }
   ],
   "source": [
    "display(data.isna().sum())\n",
    "display((100 * data.isna().sum() / len(data)).round(2))"
   ]
  },
  {
   "cell_type": "markdown",
   "metadata": {},
   "source": [
    "    Пропусков нет"
   ]
  },
  {
   "cell_type": "code",
   "execution_count": 5,
   "metadata": {
    "scrolled": true
   },
   "outputs": [
    {
     "data": {
      "text/plain": [
       "0"
      ]
     },
     "metadata": {},
     "output_type": "display_data"
    }
   ],
   "source": [
    "display(data.duplicated().sum())"
   ]
  },
  {
   "cell_type": "markdown",
   "metadata": {},
   "source": [
    "    Повторов нет"
   ]
  },
  {
   "cell_type": "markdown",
   "metadata": {},
   "source": [
    "## Разбейте данные на выборки"
   ]
  },
  {
   "cell_type": "code",
   "execution_count": 6,
   "metadata": {},
   "outputs": [
    {
     "data": {
      "text/plain": [
       "0    1783\n",
       "1     788\n",
       "Name: is_ultra, dtype: int64"
      ]
     },
     "metadata": {},
     "output_type": "display_data"
    },
    {
     "data": {
      "text/plain": [
       "0    446\n",
       "1    197\n",
       "Name: is_ultra, dtype: int64"
      ]
     },
     "metadata": {},
     "output_type": "display_data"
    },
    {
     "data": {
      "text/plain": [
       "0    69.35\n",
       "1    30.65\n",
       "Name: is_ultra, dtype: float64"
      ]
     },
     "metadata": {},
     "output_type": "display_data"
    },
    {
     "data": {
      "text/plain": [
       "0    69.36\n",
       "1    30.64\n",
       "Name: is_ultra, dtype: float64"
      ]
     },
     "metadata": {},
     "output_type": "display_data"
    }
   ],
   "source": [
    "X = data.drop(['is_ultra'], axis=1)\n",
    "y = data['is_ultra']\n",
    "\n",
    "X_train, X_test, y_train, y_test = train_test_split(\n",
    "    X, y, test_size=0.2, random_state=1234, stratify = y) #'stratify = y' для защиты от дисбаланса\n",
    "\n",
    "display(y_train.value_counts(),\n",
    "y_test.value_counts(), \n",
    "       (100 * y_train.value_counts() / len(y_train)).round(2), \n",
    "       (100 * y_test.value_counts() / len(y_test)).round(2))"
   ]
  },
  {
   "cell_type": "markdown",
   "metadata": {},
   "source": [
    "    Разделил данные в пропорции 1:4"
   ]
  },
  {
   "cell_type": "markdown",
   "metadata": {},
   "source": [
    "## Исследуйте модели"
   ]
  },
  {
   "cell_type": "markdown",
   "metadata": {},
   "source": [
    "    Проверку гиперпараметров моделей можно провести вручную, а можно с помощью инструментов библиотеки sci-kit learn, например GridSearchCV.\n",
    "    Каждая модель была проверена на тренировочной выборке и для каждой подобраны оптимальные гиперпараметры."
   ]
  },
  {
   "cell_type": "markdown",
   "metadata": {},
   "source": [
    "    Сначала выясняю какие гиперпараметры модели дерева принятия решений покажут наилучший результат на тренировочной выборке"
   ]
  },
  {
   "cell_type": "code",
   "execution_count": 7,
   "metadata": {},
   "outputs": [
    {
     "name": "stderr",
     "output_type": "stream",
     "text": [
      "/opt/conda/lib/python3.7/site-packages/sklearn/model_selection/_split.py:1978: FutureWarning: The default value of cv will change from 3 to 5 in version 0.22. Specify it explicitly to silence this warning.\n",
      "  warnings.warn(CV_WARNING, FutureWarning)\n"
     ]
    },
    {
     "name": "stdout",
     "output_type": "stream",
     "text": [
      "Лучшие гиперпараметры  {'criterion': 'gini', 'max_depth': 7, 'max_features': 2}\n",
      "Точность : 0.8004667444574096\n"
     ]
    }
   ],
   "source": [
    "dtc = DecisionTreeClassifier()\n",
    "param_grid = {\n",
    "    'criterion' : ['gini', 'entropy'], \n",
    "    'max_depth' : [i for i in range(1, 11)],\n",
    "    'max_features' : [2, 3, 4]\n",
    "    }\n",
    "CV_dtc = GridSearchCV(dtc, \n",
    "                      param_grid = param_grid, \n",
    "                      cv = None\n",
    "                      )\n",
    "CV_dtc.fit(X_train, y_train)\n",
    "print(\"Лучшие гиперпараметры \", CV_dtc.best_params_)\n",
    "print(\"Точность :\", CV_dtc.best_score_)"
   ]
  },
  {
   "cell_type": "markdown",
   "metadata": {},
   "source": [
    "Затем аналогично для 'случайного леса'"
   ]
  },
  {
   "cell_type": "code",
   "execution_count": 8,
   "metadata": {
    "scrolled": false
   },
   "outputs": [
    {
     "name": "stderr",
     "output_type": "stream",
     "text": [
      "/opt/conda/lib/python3.7/site-packages/sklearn/model_selection/_split.py:1978: FutureWarning: The default value of cv will change from 3 to 5 in version 0.22. Specify it explicitly to silence this warning.\n",
      "  warnings.warn(CV_WARNING, FutureWarning)\n"
     ]
    },
    {
     "name": "stdout",
     "output_type": "stream",
     "text": [
      "Лучшие гиперпараметры {'max_depth': 10, 'max_features': 3, 'n_estimators': 9}\n",
      "Точность : 0.8082458187475691\n"
     ]
    }
   ],
   "source": [
    "rfc = RandomForestClassifier()\n",
    "param_grid = { \n",
    "    'n_estimators': [i for i in range(1, 11)],\n",
    "    'max_depth' : [i for i in range(1, 11)],\n",
    "    'max_features' : [2, 3, 4]\n",
    "}\n",
    "CV_rfc = GridSearchCV(rfc, \n",
    "                      param_grid = param_grid, \n",
    "                      cv = None\n",
    "                      )\n",
    "CV_rfc.fit(X_train, y_train)\n",
    "\n",
    "print(\"Лучшие гиперпараметры\", CV_rfc.best_params_)\n",
    "print(\"Точность :\", CV_rfc.best_score_)"
   ]
  },
  {
   "cell_type": "markdown",
   "metadata": {},
   "source": [
    "    Модель логистической регрессии не требует настройки критических гиперпараметров(с) Tune Hyperparameters for Classification Machine Learning Algorithms by Jason Brownlee on December 13, 2019 in Python Machine Learning\n",
    "    Но для справедливого анализа каждой модели нужно провести проверку"
   ]
  },
  {
   "cell_type": "code",
   "execution_count": 9,
   "metadata": {
    "scrolled": true
   },
   "outputs": [
    {
     "name": "stderr",
     "output_type": "stream",
     "text": [
      "/opt/conda/lib/python3.7/site-packages/sklearn/model_selection/_split.py:1978: FutureWarning: The default value of cv will change from 3 to 5 in version 0.22. Specify it explicitly to silence this warning.\n",
      "  warnings.warn(CV_WARNING, FutureWarning)\n",
      "/opt/conda/lib/python3.7/site-packages/sklearn/svm/base.py:929: ConvergenceWarning: Liblinear failed to converge, increase the number of iterations.\n",
      "  \"the number of iterations.\", ConvergenceWarning)\n",
      "/opt/conda/lib/python3.7/site-packages/sklearn/svm/base.py:929: ConvergenceWarning: Liblinear failed to converge, increase the number of iterations.\n",
      "  \"the number of iterations.\", ConvergenceWarning)\n",
      "/opt/conda/lib/python3.7/site-packages/sklearn/svm/base.py:929: ConvergenceWarning: Liblinear failed to converge, increase the number of iterations.\n",
      "  \"the number of iterations.\", ConvergenceWarning)\n",
      "/opt/conda/lib/python3.7/site-packages/sklearn/svm/base.py:929: ConvergenceWarning: Liblinear failed to converge, increase the number of iterations.\n",
      "  \"the number of iterations.\", ConvergenceWarning)\n",
      "/opt/conda/lib/python3.7/site-packages/sklearn/svm/base.py:929: ConvergenceWarning: Liblinear failed to converge, increase the number of iterations.\n",
      "  \"the number of iterations.\", ConvergenceWarning)\n",
      "/opt/conda/lib/python3.7/site-packages/sklearn/svm/base.py:929: ConvergenceWarning: Liblinear failed to converge, increase the number of iterations.\n",
      "  \"the number of iterations.\", ConvergenceWarning)\n",
      "/opt/conda/lib/python3.7/site-packages/sklearn/svm/base.py:929: ConvergenceWarning: Liblinear failed to converge, increase the number of iterations.\n",
      "  \"the number of iterations.\", ConvergenceWarning)\n",
      "/opt/conda/lib/python3.7/site-packages/sklearn/svm/base.py:929: ConvergenceWarning: Liblinear failed to converge, increase the number of iterations.\n",
      "  \"the number of iterations.\", ConvergenceWarning)\n",
      "/opt/conda/lib/python3.7/site-packages/sklearn/svm/base.py:929: ConvergenceWarning: Liblinear failed to converge, increase the number of iterations.\n",
      "  \"the number of iterations.\", ConvergenceWarning)\n",
      "/opt/conda/lib/python3.7/site-packages/sklearn/svm/base.py:929: ConvergenceWarning: Liblinear failed to converge, increase the number of iterations.\n",
      "  \"the number of iterations.\", ConvergenceWarning)\n",
      "/opt/conda/lib/python3.7/site-packages/sklearn/svm/base.py:929: ConvergenceWarning: Liblinear failed to converge, increase the number of iterations.\n",
      "  \"the number of iterations.\", ConvergenceWarning)\n",
      "/opt/conda/lib/python3.7/site-packages/sklearn/svm/base.py:929: ConvergenceWarning: Liblinear failed to converge, increase the number of iterations.\n",
      "  \"the number of iterations.\", ConvergenceWarning)\n",
      "/opt/conda/lib/python3.7/site-packages/sklearn/svm/base.py:929: ConvergenceWarning: Liblinear failed to converge, increase the number of iterations.\n",
      "  \"the number of iterations.\", ConvergenceWarning)\n",
      "/opt/conda/lib/python3.7/site-packages/sklearn/svm/base.py:929: ConvergenceWarning: Liblinear failed to converge, increase the number of iterations.\n",
      "  \"the number of iterations.\", ConvergenceWarning)\n",
      "/opt/conda/lib/python3.7/site-packages/sklearn/svm/base.py:929: ConvergenceWarning: Liblinear failed to converge, increase the number of iterations.\n",
      "  \"the number of iterations.\", ConvergenceWarning)\n",
      "/opt/conda/lib/python3.7/site-packages/sklearn/svm/base.py:929: ConvergenceWarning: Liblinear failed to converge, increase the number of iterations.\n",
      "  \"the number of iterations.\", ConvergenceWarning)\n",
      "/opt/conda/lib/python3.7/site-packages/sklearn/svm/base.py:929: ConvergenceWarning: Liblinear failed to converge, increase the number of iterations.\n",
      "  \"the number of iterations.\", ConvergenceWarning)\n",
      "/opt/conda/lib/python3.7/site-packages/sklearn/svm/base.py:929: ConvergenceWarning: Liblinear failed to converge, increase the number of iterations.\n",
      "  \"the number of iterations.\", ConvergenceWarning)\n",
      "/opt/conda/lib/python3.7/site-packages/sklearn/svm/base.py:929: ConvergenceWarning: Liblinear failed to converge, increase the number of iterations.\n",
      "  \"the number of iterations.\", ConvergenceWarning)\n",
      "/opt/conda/lib/python3.7/site-packages/sklearn/svm/base.py:929: ConvergenceWarning: Liblinear failed to converge, increase the number of iterations.\n",
      "  \"the number of iterations.\", ConvergenceWarning)\n",
      "/opt/conda/lib/python3.7/site-packages/sklearn/svm/base.py:929: ConvergenceWarning: Liblinear failed to converge, increase the number of iterations.\n",
      "  \"the number of iterations.\", ConvergenceWarning)\n",
      "/opt/conda/lib/python3.7/site-packages/sklearn/svm/base.py:929: ConvergenceWarning: Liblinear failed to converge, increase the number of iterations.\n",
      "  \"the number of iterations.\", ConvergenceWarning)\n",
      "/opt/conda/lib/python3.7/site-packages/sklearn/svm/base.py:929: ConvergenceWarning: Liblinear failed to converge, increase the number of iterations.\n",
      "  \"the number of iterations.\", ConvergenceWarning)\n",
      "/opt/conda/lib/python3.7/site-packages/sklearn/svm/base.py:929: ConvergenceWarning: Liblinear failed to converge, increase the number of iterations.\n",
      "  \"the number of iterations.\", ConvergenceWarning)\n",
      "/opt/conda/lib/python3.7/site-packages/sklearn/svm/base.py:929: ConvergenceWarning: Liblinear failed to converge, increase the number of iterations.\n",
      "  \"the number of iterations.\", ConvergenceWarning)\n",
      "/opt/conda/lib/python3.7/site-packages/sklearn/svm/base.py:929: ConvergenceWarning: Liblinear failed to converge, increase the number of iterations.\n",
      "  \"the number of iterations.\", ConvergenceWarning)\n",
      "/opt/conda/lib/python3.7/site-packages/sklearn/svm/base.py:929: ConvergenceWarning: Liblinear failed to converge, increase the number of iterations.\n",
      "  \"the number of iterations.\", ConvergenceWarning)\n",
      "/opt/conda/lib/python3.7/site-packages/sklearn/svm/base.py:929: ConvergenceWarning: Liblinear failed to converge, increase the number of iterations.\n",
      "  \"the number of iterations.\", ConvergenceWarning)\n",
      "/opt/conda/lib/python3.7/site-packages/sklearn/svm/base.py:929: ConvergenceWarning: Liblinear failed to converge, increase the number of iterations.\n",
      "  \"the number of iterations.\", ConvergenceWarning)\n",
      "/opt/conda/lib/python3.7/site-packages/sklearn/svm/base.py:929: ConvergenceWarning: Liblinear failed to converge, increase the number of iterations.\n",
      "  \"the number of iterations.\", ConvergenceWarning)\n",
      "/opt/conda/lib/python3.7/site-packages/sklearn/svm/base.py:929: ConvergenceWarning: Liblinear failed to converge, increase the number of iterations.\n",
      "  \"the number of iterations.\", ConvergenceWarning)\n",
      "/opt/conda/lib/python3.7/site-packages/sklearn/svm/base.py:929: ConvergenceWarning: Liblinear failed to converge, increase the number of iterations.\n",
      "  \"the number of iterations.\", ConvergenceWarning)\n",
      "/opt/conda/lib/python3.7/site-packages/sklearn/svm/base.py:929: ConvergenceWarning: Liblinear failed to converge, increase the number of iterations.\n",
      "  \"the number of iterations.\", ConvergenceWarning)\n",
      "/opt/conda/lib/python3.7/site-packages/sklearn/svm/base.py:929: ConvergenceWarning: Liblinear failed to converge, increase the number of iterations.\n",
      "  \"the number of iterations.\", ConvergenceWarning)\n",
      "/opt/conda/lib/python3.7/site-packages/sklearn/svm/base.py:929: ConvergenceWarning: Liblinear failed to converge, increase the number of iterations.\n",
      "  \"the number of iterations.\", ConvergenceWarning)\n",
      "/opt/conda/lib/python3.7/site-packages/sklearn/svm/base.py:929: ConvergenceWarning: Liblinear failed to converge, increase the number of iterations.\n",
      "  \"the number of iterations.\", ConvergenceWarning)\n",
      "/opt/conda/lib/python3.7/site-packages/sklearn/svm/base.py:929: ConvergenceWarning: Liblinear failed to converge, increase the number of iterations.\n",
      "  \"the number of iterations.\", ConvergenceWarning)\n",
      "/opt/conda/lib/python3.7/site-packages/sklearn/svm/base.py:929: ConvergenceWarning: Liblinear failed to converge, increase the number of iterations.\n",
      "  \"the number of iterations.\", ConvergenceWarning)\n",
      "/opt/conda/lib/python3.7/site-packages/sklearn/svm/base.py:929: ConvergenceWarning: Liblinear failed to converge, increase the number of iterations.\n",
      "  \"the number of iterations.\", ConvergenceWarning)\n",
      "/opt/conda/lib/python3.7/site-packages/sklearn/svm/base.py:929: ConvergenceWarning: Liblinear failed to converge, increase the number of iterations.\n",
      "  \"the number of iterations.\", ConvergenceWarning)\n",
      "/opt/conda/lib/python3.7/site-packages/sklearn/svm/base.py:929: ConvergenceWarning: Liblinear failed to converge, increase the number of iterations.\n",
      "  \"the number of iterations.\", ConvergenceWarning)\n",
      "/opt/conda/lib/python3.7/site-packages/sklearn/svm/base.py:929: ConvergenceWarning: Liblinear failed to converge, increase the number of iterations.\n",
      "  \"the number of iterations.\", ConvergenceWarning)\n",
      "/opt/conda/lib/python3.7/site-packages/sklearn/svm/base.py:929: ConvergenceWarning: Liblinear failed to converge, increase the number of iterations.\n",
      "  \"the number of iterations.\", ConvergenceWarning)\n",
      "/opt/conda/lib/python3.7/site-packages/sklearn/svm/base.py:929: ConvergenceWarning: Liblinear failed to converge, increase the number of iterations.\n",
      "  \"the number of iterations.\", ConvergenceWarning)\n"
     ]
    },
    {
     "name": "stdout",
     "output_type": "stream",
     "text": [
      "Лучшие гиперпараметры {'C': 100, 'dual': False, 'max_iter': 100}\n",
      "Точность : 0.7125632049786076\n"
     ]
    },
    {
     "name": "stderr",
     "output_type": "stream",
     "text": [
      "/opt/conda/lib/python3.7/site-packages/sklearn/svm/base.py:929: ConvergenceWarning: Liblinear failed to converge, increase the number of iterations.\n",
      "  \"the number of iterations.\", ConvergenceWarning)\n",
      "/opt/conda/lib/python3.7/site-packages/sklearn/model_selection/_search.py:813: DeprecationWarning: The default of the `iid` parameter will change from True to False in version 0.22 and will be removed in 0.24. This will change numeric results when test-set sizes are unequal.\n",
      "  DeprecationWarning)\n"
     ]
    }
   ],
   "source": [
    "lr = LogisticRegression(solver = 'liblinear')\n",
    "param_grid = {\n",
    "    \"C\" : [100, 10, 1.0, 0.1, 0.01], \n",
    "    'max_iter' : [100, 700, 10000], \n",
    "    'dual' : [False, True]\n",
    "    }\n",
    "CV_lr=GridSearchCV(lr, \n",
    "                   param_grid = param_grid, \n",
    "                   cv = None, \n",
    "                   )\n",
    "CV_lr.fit(X_train, y_train)\n",
    "print(\"Лучшие гиперпараметры\",CV_lr.best_params_)\n",
    "print(\"Точность :\",CV_lr.best_score_)\n"
   ]
  },
  {
   "cell_type": "code",
   "execution_count": 10,
   "metadata": {},
   "outputs": [
    {
     "name": "stdout",
     "output_type": "stream",
     "text": [
      "Лучшие гиперпараметры {'C': 100, 'dual': False, 'max_iter': 100}\n"
     ]
    }
   ],
   "source": [
    "print(\"Лучшие гиперпараметры\",CV_lr.best_params_)"
   ]
  },
  {
   "cell_type": "markdown",
   "metadata": {},
   "source": [
    "    Лучшие результаты на тренировочной выборке показала модель RandomForestClassifier. Результаты LogisticRegression самые слабые.\n",
    "    Поэтому для решения поставленной задачи предпочтительнее использовать 'случайный лес'"
   ]
  },
  {
   "cell_type": "markdown",
   "metadata": {},
   "source": [
    "## Проверьте модель на тестовой выборке"
   ]
  },
  {
   "cell_type": "code",
   "execution_count": 11,
   "metadata": {},
   "outputs": [
    {
     "name": "stdout",
     "output_type": "stream",
     "text": [
      "Имя модели: точность на тренировочной выборке(среднее квадратичное отклонение) / точность на тестовой выборке выборке\n",
      "LR: train = 0.709 (0.020) / test = 0.733\n",
      "CART: train = 0.788 (0.010) / test = 0.776\n",
      "RF: train = 0.804 (0.023) / test = 0.806\n"
     ]
    },
    {
     "data": {
      "image/png": "[encoded data removed]",
      "text/plain": [
       "<Figure size 432x288 with 1 Axes>"
      ]
     },
     "metadata": {
      "needs_background": "light"
     },
     "output_type": "display_data"
    }
   ],
   "source": [
    "models = []                # создаю список имен моделей и самих моделей с самыми подходящими гиперпараметрами \n",
    "models.append(('LR', CV_lr.best_estimator_))\n",
    "models.append(('CART', CV_dtc.best_estimator_))\n",
    "models.append(('RF', CV_rfc.best_estimator_))\n",
    "\n",
    "scores = []\n",
    "names = []\n",
    "results = []\n",
    "predictions = []\n",
    "out_row = []\n",
    "print('Имя модели: точность на тренировочной выборке(среднее квадратичное отклонение) / точность на тестовой выборке выборке')\n",
    "for name, model in models: # в цикле прохожу по каждой модели\n",
    "    cv_results = cross_val_score(model, X_train, y_train, scoring='accuracy', cv=5)\n",
    "    names.append(name)\n",
    "    results.append(cv_results)\n",
    "    fit = model.fit(X_train, y_train)\n",
    "    predict = model.predict(X_test)\n",
    "    predictions.append(predict)\n",
    "    score = model.score(X_test, y_test)\n",
    "    scores.append(score)\n",
    "    out = \"%s: train = %.3f (%.3f) / test = %.3f\" % (name, cv_results.mean(), cv_results.std(), score)\n",
    "    out_row.append(out)\n",
    "    print(out)\n",
    "fig = pyplot.figure()\n",
    "fig.suptitle('Сравнение результатов моделей ')\n",
    "ax = fig.add_subplot(111)\n",
    "red_square = dict(markerfacecolor='b', marker='o')\n",
    "pyplot.boxplot(results, flierprops=red_square)\n",
    "ax.set_xticklabels(names, rotation=45)\n",
    "pyplot.show()"
   ]
  },
  {
   "cell_type": "markdown",
   "metadata": {},
   "source": [
    "## (бонус) Проверьте модели на адекватность"
   ]
  },
  {
   "cell_type": "code",
   "execution_count": 12,
   "metadata": {
    "scrolled": true
   },
   "outputs": [
    {
     "name": "stdout",
     "output_type": "stream",
     "text": [
      "0.6936236391912908\n"
     ]
    }
   ],
   "source": [
    "dc = DummyClassifier(strategy='most_frequent', random_state=0)\n",
    "dc.fit(X_train, y_train)\n",
    "print(dc.score(X_test, y_test))"
   ]
  },
  {
   "cell_type": "markdown",
   "metadata": {},
   "source": [
    "    Результат DummyClassifier, оказался ниже всех обученных моделей."
   ]
  }
 ],
 "metadata": {
  "ExecuteTimeLog": [
   {
    "duration": 461,
    "start_time": "2021-08-26T16:14:05.646Z"
   },
   {
    "duration": 1428,
    "start_time": "2021-08-26T16:14:11.412Z"
   },
   {
    "duration": 3791,
    "start_time": "2021-08-26T16:14:13.058Z"
   },
   {
    "duration": 3204,
    "start_time": "2021-08-26T16:14:28.513Z"
   },
   {
    "duration": 411,
    "start_time": "2021-08-26T16:14:43.516Z"
   },
   {
    "duration": 41,
    "start_time": "2021-08-26T16:15:09.717Z"
   },
   {
    "duration": 35,
    "start_time": "2021-08-26T16:15:16.855Z"
   },
   {
    "duration": 382,
    "start_time": "2021-08-26T16:17:17.725Z"
   },
   {
    "duration": 5,
    "start_time": "2021-08-26T16:18:07.005Z"
   },
   {
    "duration": 43,
    "start_time": "2021-08-26T16:18:07.013Z"
   },
   {
    "duration": 14,
    "start_time": "2021-08-26T16:18:07.059Z"
   },
   {
    "duration": 4,
    "start_time": "2021-08-26T16:18:07.075Z"
   },
   {
    "duration": 805,
    "start_time": "2021-08-26T16:21:58.317Z"
   },
   {
    "duration": 804,
    "start_time": "2021-08-26T16:23:55.286Z"
   },
   {
    "duration": 10597,
    "start_time": "2021-08-26T16:25:41.924Z"
   },
   {
    "duration": 1407,
    "start_time": "2021-08-26T16:27:57.406Z"
   },
   {
    "duration": 1184,
    "start_time": "2021-08-26T16:30:54.491Z"
   },
   {
    "duration": 1191,
    "start_time": "2021-08-26T16:33:48.203Z"
   },
   {
    "duration": 4,
    "start_time": "2021-08-26T16:35:30.829Z"
   },
   {
    "duration": 1197,
    "start_time": "2021-08-26T16:36:28.959Z"
   },
   {
    "duration": 1144,
    "start_time": "2021-08-26T16:37:11.897Z"
   },
   {
    "duration": 1115,
    "start_time": "2021-08-26T16:37:36.359Z"
   },
   {
    "duration": 2411,
    "start_time": "2021-08-26T16:38:15.141Z"
   },
   {
    "duration": 2324,
    "start_time": "2021-08-26T16:44:16.508Z"
   },
   {
    "duration": 2390,
    "start_time": "2021-08-26T16:44:24.567Z"
   },
   {
    "duration": 2438,
    "start_time": "2021-08-26T16:44:28.965Z"
   },
   {
    "duration": 2390,
    "start_time": "2021-08-26T16:56:03.210Z"
   },
   {
    "duration": 382,
    "start_time": "2021-08-26T16:56:05.603Z"
   },
   {
    "duration": 109,
    "start_time": "2021-08-26T16:56:38.368Z"
   },
   {
    "duration": 396,
    "start_time": "2021-08-26T16:57:33.642Z"
   },
   {
    "duration": 4,
    "start_time": "2021-08-26T16:57:57.735Z"
   },
   {
    "duration": 637,
    "start_time": "2021-08-26T16:58:02.375Z"
   },
   {
    "duration": 706,
    "start_time": "2021-08-26T16:59:52.931Z"
   },
   {
    "duration": 720,
    "start_time": "2021-08-26T17:00:03.530Z"
   },
   {
    "duration": 4,
    "start_time": "2021-08-26T17:00:42.476Z"
   },
   {
    "duration": 694,
    "start_time": "2021-08-26T17:07:20.642Z"
   },
   {
    "duration": 688,
    "start_time": "2021-08-26T17:07:35.046Z"
   },
   {
    "duration": 1062,
    "start_time": "2021-08-26T17:09:44.985Z"
   },
   {
    "duration": 1116,
    "start_time": "2021-08-26T17:11:38.724Z"
   },
   {
    "duration": 706,
    "start_time": "2021-08-26T17:11:57.894Z"
   },
   {
    "duration": 690,
    "start_time": "2021-08-26T17:16:18.311Z"
   },
   {
    "duration": 4,
    "start_time": "2021-08-26T17:17:14.036Z"
   },
   {
    "duration": 37,
    "start_time": "2021-08-26T17:17:14.043Z"
   },
   {
    "duration": 12,
    "start_time": "2021-08-26T17:17:14.083Z"
   },
   {
    "duration": 7,
    "start_time": "2021-08-26T17:17:14.098Z"
   },
   {
    "duration": 811,
    "start_time": "2021-08-26T17:17:14.107Z"
   },
   {
    "duration": 10510,
    "start_time": "2021-08-26T17:17:14.921Z"
   },
   {
    "duration": 2599,
    "start_time": "2021-08-26T17:17:25.433Z"
   },
   {
    "duration": 4,
    "start_time": "2021-08-26T17:17:28.035Z"
   },
   {
    "duration": 769,
    "start_time": "2021-08-26T17:17:28.042Z"
   },
   {
    "duration": 6,
    "start_time": "2021-08-26T17:21:47.755Z"
   },
   {
    "duration": 40,
    "start_time": "2021-08-26T17:21:47.763Z"
   },
   {
    "duration": 14,
    "start_time": "2021-08-26T17:21:47.806Z"
   },
   {
    "duration": 17,
    "start_time": "2021-08-26T17:21:47.822Z"
   },
   {
    "duration": 2262,
    "start_time": "2021-08-26T17:21:47.842Z"
   },
   {
    "duration": 10680,
    "start_time": "2021-08-26T17:21:50.107Z"
   },
   {
    "duration": 3523,
    "start_time": "2021-08-26T17:22:00.789Z"
   },
   {
    "duration": 3,
    "start_time": "2021-08-26T17:22:04.316Z"
   },
   {
    "duration": 784,
    "start_time": "2021-08-26T17:22:04.323Z"
   },
   {
    "duration": 141,
    "start_time": "2021-08-26T17:23:32.185Z"
   },
   {
    "duration": 137,
    "start_time": "2021-08-26T17:24:13.452Z"
   },
   {
    "duration": 403,
    "start_time": "2021-08-26T17:24:23.723Z"
   },
   {
    "duration": 408,
    "start_time": "2021-08-26T17:24:55.028Z"
   },
   {
    "duration": 574,
    "start_time": "2021-08-26T17:25:13.532Z"
   },
   {
    "duration": 6766,
    "start_time": "2021-08-26T17:25:27.849Z"
   },
   {
    "duration": 2397,
    "start_time": "2021-08-26T17:28:46.207Z"
   },
   {
    "duration": 2475,
    "start_time": "2021-08-26T17:28:55.296Z"
   },
   {
    "duration": 22794,
    "start_time": "2021-08-26T17:29:42.381Z"
   },
   {
    "duration": 6817,
    "start_time": "2021-08-26T17:31:40.714Z"
   },
   {
    "duration": 134,
    "start_time": "2021-08-26T17:32:47.570Z"
   },
   {
    "duration": 393,
    "start_time": "2021-08-26T17:32:52.032Z"
   },
   {
    "duration": 14229,
    "start_time": "2021-08-26T17:32:55.222Z"
   },
   {
    "duration": 6918,
    "start_time": "2021-08-26T17:34:38.494Z"
   },
   {
    "duration": 2169,
    "start_time": "2021-08-26T17:34:52.933Z"
   },
   {
    "duration": 137,
    "start_time": "2021-08-26T17:35:57.409Z"
   },
   {
    "duration": 420,
    "start_time": "2021-08-26T17:36:03.488Z"
   },
   {
    "duration": 53255,
    "start_time": "2021-08-26T17:37:18.973Z"
   },
   {
    "duration": 2244,
    "start_time": "2021-08-26T17:42:40.201Z"
   },
   {
    "duration": 5,
    "start_time": "2021-08-26T17:42:42.448Z"
   },
   {
    "duration": 6591,
    "start_time": "2021-08-26T17:43:04.243Z"
   },
   {
    "duration": 10120,
    "start_time": "2021-08-26T17:43:30.965Z"
   },
   {
    "duration": 10642,
    "start_time": "2021-08-26T17:43:42.280Z"
   },
   {
    "duration": 912,
    "start_time": "2021-08-26T17:44:45.964Z"
   },
   {
    "duration": 302328,
    "start_time": "2021-08-26T17:45:01.953Z"
   },
   {
    "duration": 18,
    "start_time": "2021-08-26T17:50:04.285Z"
   },
   {
    "duration": 391,
    "start_time": "2021-08-26T17:56:19.913Z"
   },
   {
    "duration": 8,
    "start_time": "2021-08-26T17:56:40.700Z"
   },
   {
    "duration": 5,
    "start_time": "2021-08-26T17:58:28.369Z"
   },
   {
    "duration": 39,
    "start_time": "2021-08-26T17:58:28.376Z"
   },
   {
    "duration": 12,
    "start_time": "2021-08-26T17:58:28.418Z"
   },
   {
    "duration": 11,
    "start_time": "2021-08-26T17:58:28.433Z"
   },
   {
    "duration": 2161,
    "start_time": "2021-08-26T17:58:28.446Z"
   },
   {
    "duration": 34950,
    "start_time": "2021-08-26T17:58:30.609Z"
   },
   {
    "duration": 263905,
    "start_time": "2021-08-26T17:59:05.561Z"
   },
   {
    "duration": 5,
    "start_time": "2021-08-26T18:03:29.468Z"
   },
   {
    "duration": 24,
    "start_time": "2021-08-26T18:03:29.476Z"
   },
   {
    "duration": 620,
    "start_time": "2021-08-26T18:03:29.503Z"
   },
   {
    "duration": 8,
    "start_time": "2021-08-26T18:03:30.126Z"
   },
   {
    "duration": 62330,
    "start_time": "2021-08-26T18:03:47.048Z"
   },
   {
    "duration": 1166,
    "start_time": "2021-08-26T20:51:08.764Z"
   },
   {
    "duration": 31,
    "start_time": "2021-08-26T20:51:09.932Z"
   },
   {
    "duration": 9,
    "start_time": "2021-08-26T20:51:09.967Z"
   },
   {
    "duration": 5,
    "start_time": "2021-08-26T20:51:09.978Z"
   },
   {
    "duration": 1506,
    "start_time": "2021-08-26T20:51:09.984Z"
   },
   {
    "duration": 25466,
    "start_time": "2021-08-26T20:51:11.491Z"
   },
   {
    "duration": 45331,
    "start_time": "2021-08-26T20:51:36.960Z"
   },
   {
    "duration": 3,
    "start_time": "2021-08-26T20:52:22.293Z"
   },
   {
    "duration": 7,
    "start_time": "2021-08-26T20:52:22.298Z"
   },
   {
    "duration": 620,
    "start_time": "2021-08-26T20:52:22.307Z"
   },
   {
    "duration": 14,
    "start_time": "2021-08-26T20:52:22.928Z"
   },
   {
    "duration": 1417,
    "start_time": "2021-08-27T12:27:25.695Z"
   },
   {
    "duration": 36,
    "start_time": "2021-08-27T12:27:27.114Z"
   },
   {
    "duration": 12,
    "start_time": "2021-08-27T12:27:27.153Z"
   },
   {
    "duration": 15,
    "start_time": "2021-08-27T12:27:27.167Z"
   },
   {
    "duration": 2020,
    "start_time": "2021-08-27T12:27:27.184Z"
   },
   {
    "duration": 34077,
    "start_time": "2021-08-27T12:27:29.207Z"
   },
   {
    "duration": 55484,
    "start_time": "2021-08-27T12:28:03.286Z"
   },
   {
    "duration": 11,
    "start_time": "2021-08-27T12:28:58.773Z"
   },
   {
    "duration": 8,
    "start_time": "2021-08-27T12:28:58.786Z"
   },
   {
    "duration": 630,
    "start_time": "2021-08-27T12:28:58.797Z"
   },
   {
    "duration": 6,
    "start_time": "2021-08-27T12:28:59.430Z"
   },
   {
    "duration": 1350,
    "start_time": "2021-08-27T12:50:48.624Z"
   },
   {
    "duration": 37,
    "start_time": "2021-08-27T12:50:49.976Z"
   },
   {
    "duration": 14,
    "start_time": "2021-08-27T12:50:50.016Z"
   },
   {
    "duration": 3,
    "start_time": "2021-08-27T12:50:50.033Z"
   },
   {
    "duration": 2006,
    "start_time": "2021-08-27T12:50:50.039Z"
   },
   {
    "duration": 33891,
    "start_time": "2021-08-27T12:50:52.047Z"
   },
   {
    "duration": 62473,
    "start_time": "2021-08-27T12:51:25.941Z"
   },
   {
    "duration": 5,
    "start_time": "2021-08-27T12:52:28.417Z"
   },
   {
    "duration": 4,
    "start_time": "2021-08-27T12:52:28.425Z"
   },
   {
    "duration": 679,
    "start_time": "2021-08-27T12:52:28.432Z"
   },
   {
    "duration": 6,
    "start_time": "2021-08-27T12:52:29.114Z"
   },
   {
    "duration": 1436,
    "start_time": "2021-08-27T12:53:37.147Z"
   },
   {
    "duration": 38,
    "start_time": "2021-08-27T12:53:38.586Z"
   },
   {
    "duration": 16,
    "start_time": "2021-08-27T12:53:38.628Z"
   },
   {
    "duration": 4,
    "start_time": "2021-08-27T12:53:38.648Z"
   },
   {
    "duration": 2253,
    "start_time": "2021-08-27T12:53:38.682Z"
   },
   {
    "duration": 33966,
    "start_time": "2021-08-27T12:53:40.937Z"
   },
   {
    "duration": 61746,
    "start_time": "2021-08-27T12:54:14.906Z"
   },
   {
    "duration": 5,
    "start_time": "2021-08-27T12:55:16.656Z"
   },
   {
    "duration": 4,
    "start_time": "2021-08-27T12:55:16.683Z"
   },
   {
    "duration": 510,
    "start_time": "2021-08-27T12:55:16.689Z"
   },
   {
    "duration": 9,
    "start_time": "2021-08-27T12:55:17.202Z"
   },
   {
    "duration": 302,
    "start_time": "2021-08-29T18:41:08.127Z"
   },
   {
    "duration": 1216,
    "start_time": "2021-08-29T18:41:13.747Z"
   },
   {
    "duration": 29,
    "start_time": "2021-08-29T18:41:15.242Z"
   },
   {
    "duration": 6,
    "start_time": "2021-08-29T18:41:16.521Z"
   },
   {
    "duration": 6,
    "start_time": "2021-08-29T18:42:24.635Z"
   },
   {
    "duration": 11,
    "start_time": "2021-08-29T18:42:45.785Z"
   },
   {
    "duration": 12,
    "start_time": "2021-08-29T18:43:13.186Z"
   },
   {
    "duration": 8,
    "start_time": "2021-08-29T18:43:17.960Z"
   },
   {
    "duration": 324,
    "start_time": "2021-08-29T19:09:45.754Z"
   },
   {
    "duration": 95,
    "start_time": "2021-08-29T19:10:12.926Z"
   },
   {
    "duration": 108,
    "start_time": "2021-08-29T19:10:21.624Z"
   },
   {
    "duration": 93,
    "start_time": "2021-08-29T19:10:40.307Z"
   },
   {
    "duration": 330,
    "start_time": "2021-08-29T19:10:52.358Z"
   },
   {
    "duration": 290,
    "start_time": "2021-08-29T19:13:07.789Z"
   },
   {
    "duration": 279,
    "start_time": "2021-08-29T19:14:42.319Z"
   },
   {
    "duration": 286,
    "start_time": "2021-08-29T19:15:06.545Z"
   },
   {
    "duration": 4,
    "start_time": "2021-08-29T19:15:16.591Z"
   },
   {
    "duration": 26,
    "start_time": "2021-08-29T19:15:17.348Z"
   },
   {
    "duration": 8,
    "start_time": "2021-08-29T19:15:18.090Z"
   },
   {
    "duration": 9,
    "start_time": "2021-08-29T19:15:21.538Z"
   },
   {
    "duration": 2,
    "start_time": "2021-08-29T19:15:26.061Z"
   },
   {
    "duration": 1311,
    "start_time": "2021-08-29T19:15:28.326Z"
   },
   {
    "duration": 276,
    "start_time": "2021-08-29T19:15:31.536Z"
   },
   {
    "duration": 22490,
    "start_time": "2021-08-29T19:16:37.598Z"
   },
   {
    "duration": 280,
    "start_time": "2021-08-29T19:17:54.986Z"
   },
   {
    "duration": 309,
    "start_time": "2021-08-29T19:18:32.896Z"
   },
   {
    "duration": 815,
    "start_time": "2021-08-29T19:19:40.560Z"
   },
   {
    "duration": 1157,
    "start_time": "2021-08-29T19:26:18.067Z"
   },
   {
    "duration": 34,
    "start_time": "2021-08-29T19:26:19.226Z"
   },
   {
    "duration": 11,
    "start_time": "2021-08-29T19:26:19.262Z"
   },
   {
    "duration": 9,
    "start_time": "2021-08-29T19:26:25.172Z"
   },
   {
    "duration": 2,
    "start_time": "2021-08-29T19:26:29.322Z"
   },
   {
    "duration": 1284,
    "start_time": "2021-08-29T19:26:31.248Z"
   },
   {
    "duration": 817,
    "start_time": "2021-08-29T19:26:34.071Z"
   },
   {
    "duration": 791,
    "start_time": "2021-08-29T19:27:12.890Z"
   },
   {
    "duration": 802,
    "start_time": "2021-08-29T19:28:35.841Z"
   },
   {
    "duration": 287,
    "start_time": "2021-08-29T19:34:48.200Z"
   },
   {
    "duration": 1336,
    "start_time": "2021-08-29T19:35:15.780Z"
   },
   {
    "duration": 21774,
    "start_time": "2021-08-29T19:35:17.149Z"
   },
   {
    "duration": 39935,
    "start_time": "2021-08-29T19:35:38.925Z"
   },
   {
    "duration": 4,
    "start_time": "2021-08-29T19:36:18.862Z"
   },
   {
    "duration": 1731,
    "start_time": "2021-08-29T19:36:18.867Z"
   },
   {
    "duration": 1478,
    "start_time": "2021-09-02T15:24:24.716Z"
   },
   {
    "duration": 32,
    "start_time": "2021-09-02T15:24:26.197Z"
   },
   {
    "duration": 13,
    "start_time": "2021-09-02T15:24:26.232Z"
   },
   {
    "duration": 15,
    "start_time": "2021-09-02T15:24:26.248Z"
   },
   {
    "duration": 3,
    "start_time": "2021-09-02T15:24:26.265Z"
   },
   {
    "duration": 1925,
    "start_time": "2021-09-02T15:24:26.269Z"
   },
   {
    "duration": 28218,
    "start_time": "2021-09-02T15:24:28.196Z"
   },
   {
    "duration": 46830,
    "start_time": "2021-09-02T15:24:56.417Z"
   },
   {
    "duration": 3,
    "start_time": "2021-09-02T15:25:43.249Z"
   },
   {
    "duration": 6,
    "start_time": "2021-09-02T15:25:43.254Z"
   },
   {
    "duration": 388,
    "start_time": "2021-09-02T15:25:43.262Z"
   },
   {
    "duration": 7,
    "start_time": "2021-09-02T15:25:43.653Z"
   },
   {
    "duration": 329,
    "start_time": "2021-11-07T14:08:36.869Z"
   },
   {
    "duration": 1801,
    "start_time": "2021-11-07T14:08:41.526Z"
   },
   {
    "duration": 39,
    "start_time": "2021-11-07T14:08:45.174Z"
   },
   {
    "duration": 14,
    "start_time": "2021-11-07T14:08:46.541Z"
   },
   {
    "duration": 19,
    "start_time": "2021-11-07T14:08:47.556Z"
   },
   {
    "duration": 402,
    "start_time": "2021-11-07T14:11:27.686Z"
   },
   {
    "duration": 10,
    "start_time": "2021-11-07T14:11:34.726Z"
   },
   {
    "duration": 307,
    "start_time": "2021-11-07T14:21:45.542Z"
   },
   {
    "duration": 3769,
    "start_time": "2021-11-07T14:22:06.543Z"
   },
   {
    "duration": 3526,
    "start_time": "2021-11-07T14:22:25.703Z"
   },
   {
    "duration": 3462,
    "start_time": "2021-11-07T14:22:45.992Z"
   },
   {
    "duration": 17,
    "start_time": "2021-11-07T14:23:16.346Z"
   },
   {
    "duration": 22,
    "start_time": "2021-11-07T14:24:08.633Z"
   },
   {
    "duration": 30,
    "start_time": "2021-11-07T14:24:24.640Z"
   },
   {
    "duration": 30,
    "start_time": "2021-11-07T14:24:37.564Z"
   },
   {
    "duration": 1445,
    "start_time": "2021-11-07T14:31:38.015Z"
   },
   {
    "duration": 39,
    "start_time": "2021-11-07T14:31:39.462Z"
   },
   {
    "duration": 22,
    "start_time": "2021-11-07T14:31:39.504Z"
   },
   {
    "duration": 14,
    "start_time": "2021-11-07T14:31:39.529Z"
   },
   {
    "duration": 9,
    "start_time": "2021-11-07T14:31:39.545Z"
   },
   {
    "duration": 69,
    "start_time": "2021-11-07T14:31:39.556Z"
   },
   {
    "duration": 1447,
    "start_time": "2021-11-07T14:31:39.627Z"
   },
   {
    "duration": 22979,
    "start_time": "2021-11-07T14:31:41.078Z"
   },
   {
    "duration": 43697,
    "start_time": "2021-11-07T14:32:04.060Z"
   },
   {
    "duration": 5,
    "start_time": "2021-11-07T14:32:47.760Z"
   },
   {
    "duration": 814,
    "start_time": "2021-11-07T14:32:47.768Z"
   },
   {
    "duration": 7,
    "start_time": "2021-11-07T14:32:48.585Z"
   }
  ],
  "kernelspec": {
   "display_name": "Python 3",
   "language": "python",
   "name": "python3"
  },
  "language_info": {
   "codemirror_mode": {
    "name": "ipython",
    "version": 3
   },
   "file_extension": ".py",
   "mimetype": "text/x-python",
   "name": "python",
   "nbconvert_exporter": "python",
   "pygments_lexer": "ipython3",
   "version": "3.7.8"
  },
  "toc": {
   "base_numbering": 1,
   "nav_menu": {},
   "number_sections": true,
   "sideBar": true,
   "skip_h1_title": true,
   "title_cell": "Содержание",
   "title_sidebar": "Contents",
   "toc_cell": true,
   "toc_position": {
    "height": "calc(100% - 180px)",
    "left": "10px",
    "top": "150px",
    "width": "165px"
   },
   "toc_section_display": true,
   "toc_window_display": true
  }
 },
 "nbformat": 4,
 "nbformat_minor": 2
}
