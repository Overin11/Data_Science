{
 "cells": [
  {
   "cell_type": "markdown",
   "metadata": {
    "toc": true
   },
   "source": [
    "<h1>Содержание<span class=\"tocSkip\"></span></h1>\n",
    "<div class=\"toc\"><ul class=\"toc-item\"><li><span><a href=\"#Подготовка-данных\" data-toc-modified-id=\"Подготовка-данных-1\"><span class=\"toc-item-num\">1&nbsp;&nbsp;</span>Подготовка данных</a></span><ul class=\"toc-item\"><li><span><a href=\"#Откройте-файлы-и-изучите-их.\" data-toc-modified-id=\"Откройте-файлы-и-изучите-их.-1.1\"><span class=\"toc-item-num\">1.1&nbsp;&nbsp;</span>Откройте файлы и изучите их.</a></span></li><li><span><a href=\"#Проверьте,-что-эффективность-обогащения-рассчитана-правильно.\" data-toc-modified-id=\"Проверьте,-что-эффективность-обогащения-рассчитана-правильно.-1.2\"><span class=\"toc-item-num\">1.2&nbsp;&nbsp;</span>Проверьте, что эффективность обогащения рассчитана правильно.</a></span></li><li><span><a href=\"#Проанализируйте-признаки,-недоступные-в-тестовой-выборке.\" data-toc-modified-id=\"Проанализируйте-признаки,-недоступные-в-тестовой-выборке.-1.3\"><span class=\"toc-item-num\">1.3&nbsp;&nbsp;</span>Проанализируйте признаки, недоступные в тестовой выборке.</a></span></li><li><span><a href=\"#Проведите-предобработку-данных.\" data-toc-modified-id=\"Проведите-предобработку-данных.-1.4\"><span class=\"toc-item-num\">1.4&nbsp;&nbsp;</span>Проведите предобработку данных.</a></span></li></ul></li><li><span><a href=\"#Анализ-данных\" data-toc-modified-id=\"Анализ-данных-2\"><span class=\"toc-item-num\">2&nbsp;&nbsp;</span>Анализ данных</a></span><ul class=\"toc-item\"><li><span><a href=\"#Посмотрите,-как-меняется-концентрация-металлов-(Au,-Ag,-Pb)-на-различных-этапах-очистки\" data-toc-modified-id=\"Посмотрите,-как-меняется-концентрация-металлов-(Au,-Ag,-Pb)-на-различных-этапах-очистки-2.1\"><span class=\"toc-item-num\">2.1&nbsp;&nbsp;</span>Посмотрите, как меняется концентрация металлов (Au, Ag, Pb) на различных этапах очистки</a></span></li><li><span><a href=\"#Сравните-распределения-размеров-гранул-сырья-на-обучающей-и-тестовой-выборках\" data-toc-modified-id=\"Сравните-распределения-размеров-гранул-сырья-на-обучающей-и-тестовой-выборках-2.2\"><span class=\"toc-item-num\">2.2&nbsp;&nbsp;</span>Сравните распределения размеров гранул сырья на обучающей и тестовой выборках</a></span></li><li><span><a href=\"#Исследуйте-суммарную-концентрацию-всех-веществ-на-разных-стадиях\" data-toc-modified-id=\"Исследуйте-суммарную-концентрацию-всех-веществ-на-разных-стадиях-2.3\"><span class=\"toc-item-num\">2.3&nbsp;&nbsp;</span>Исследуйте суммарную концентрацию всех веществ на разных стадиях</a></span></li></ul></li><li><span><a href=\"#Модель\" data-toc-modified-id=\"Модель-3\"><span class=\"toc-item-num\">3&nbsp;&nbsp;</span>Модель</a></span><ul class=\"toc-item\"><li><span><a href=\"#Напишите-функцию-для-вычисления-итоговой-sMAPE.\" data-toc-modified-id=\"Напишите-функцию-для-вычисления-итоговой-sMAPE.-3.1\"><span class=\"toc-item-num\">3.1&nbsp;&nbsp;</span>Напишите функцию для вычисления итоговой sMAPE.</a></span></li><li><span><a href=\"#Обучите-разные-модели-и-оцените-их-качество-кросс-валидацией.-Выберите-лучшую-модель-и-проверьте-её-на-тестовой-выборке.\" data-toc-modified-id=\"Обучите-разные-модели-и-оцените-их-качество-кросс-валидацией.-Выберите-лучшую-модель-и-проверьте-её-на-тестовой-выборке.-3.2\"><span class=\"toc-item-num\">3.2&nbsp;&nbsp;</span>Обучите разные модели и оцените их качество кросс-валидацией. Выберите лучшую модель и проверьте её на тестовой выборке.</a></span></li></ul></li><li><span><a href=\"#Вывод\" data-toc-modified-id=\"Вывод-4\"><span class=\"toc-item-num\">4&nbsp;&nbsp;</span>Вывод</a></span></li></ul></div>"
   ]
  },
  {
   "cell_type": "markdown",
   "metadata": {},
   "source": [
    "# Восстановление золота из руды"
   ]
  },
  {
   "cell_type": "markdown",
   "metadata": {},
   "source": [
    "Подготовьте прототип модели машинного обучения для «Цифры». Компания разрабатывает решения для эффективной работы промышленных предприятий.\n",
    "\n",
    "Модель должна предсказать коэффициент восстановления золота из золотосодержащей руды. Используйте данные с параметрами добычи и очистки. \n",
    "\n",
    "Модель поможет оптимизировать производство, чтобы не запускать предприятие с убыточными характеристиками.\n",
    "\n",
    "Вам нужно:\n",
    "\n",
    "1. Подготовить данные;\n",
    "2. Провести исследовательский анализ данных;\n",
    "3. Построить и обучить модель.\n",
    "\n",
    "Чтобы выполнить проект, обращайтесь к библиотекам *pandas*, *matplotlib* и *sklearn.* Вам поможет их документация."
   ]
  },
  {
   "cell_type": "code",
   "execution_count": 1,
   "metadata": {},
   "outputs": [],
   "source": [
    "import pandas as pd\n",
    "import numpy as np\n",
    "import matplotlib.pyplot as plt\n",
    "import seaborn as sns\n",
    "\n",
    "from sklearn.preprocessing import StandardScaler\n",
    "from sklearn.metrics import mean_squared_error\n",
    "from sklearn.model_selection import cross_val_score\n",
    "from sklearn.metrics import make_scorer\n",
    "from sklearn.tree import DecisionTreeRegressor\n",
    "from sklearn.ensemble import RandomForestRegressor\n",
    "from sklearn.dummy import DummyRegressor\n",
    "from sklearn.linear_model import LinearRegression\n",
    "from sklearn.metrics import mean_absolute_error"
   ]
  },
  {
   "cell_type": "markdown",
   "metadata": {},
   "source": [
    "## Подготовка данных"
   ]
  },
  {
   "cell_type": "markdown",
   "metadata": {},
   "source": [
    "### Откройте файлы и изучите их."
   ]
  },
  {
   "cell_type": "code",
   "execution_count": 2,
   "metadata": {},
   "outputs": [
    {
     "name": "stdout",
     "output_type": "stream",
     "text": [
      "<class 'pandas.core.frame.DataFrame'>\n",
      "RangeIndex: 19439 entries, 0 to 19438\n",
      "Data columns (total 87 columns):\n",
      "date                                                  19439 non-null object\n",
      "final.output.concentrate_ag                           19438 non-null float64\n",
      "final.output.concentrate_pb                           19438 non-null float64\n",
      "final.output.concentrate_sol                          19228 non-null float64\n",
      "final.output.concentrate_au                           19439 non-null float64\n",
      "final.output.recovery                                 19439 non-null float64\n",
      "final.output.tail_ag                                  19438 non-null float64\n",
      "final.output.tail_pb                                  19338 non-null float64\n",
      "final.output.tail_sol                                 19433 non-null float64\n",
      "final.output.tail_au                                  19439 non-null float64\n",
      "primary_cleaner.input.sulfate                         19415 non-null float64\n",
      "primary_cleaner.input.depressant                      19402 non-null float64\n",
      "primary_cleaner.input.feed_size                       19439 non-null float64\n",
      "primary_cleaner.input.xanthate                        19335 non-null float64\n",
      "primary_cleaner.output.concentrate_ag                 19439 non-null float64\n",
      "primary_cleaner.output.concentrate_pb                 19323 non-null float64\n",
      "primary_cleaner.output.concentrate_sol                19069 non-null float64\n",
      "primary_cleaner.output.concentrate_au                 19439 non-null float64\n",
      "primary_cleaner.output.tail_ag                        19435 non-null float64\n",
      "primary_cleaner.output.tail_pb                        19418 non-null float64\n",
      "primary_cleaner.output.tail_sol                       19377 non-null float64\n",
      "primary_cleaner.output.tail_au                        19439 non-null float64\n",
      "primary_cleaner.state.floatbank8_a_air                19435 non-null float64\n",
      "primary_cleaner.state.floatbank8_a_level              19438 non-null float64\n",
      "primary_cleaner.state.floatbank8_b_air                19435 non-null float64\n",
      "primary_cleaner.state.floatbank8_b_level              19438 non-null float64\n",
      "primary_cleaner.state.floatbank8_c_air                19437 non-null float64\n",
      "primary_cleaner.state.floatbank8_c_level              19438 non-null float64\n",
      "primary_cleaner.state.floatbank8_d_air                19436 non-null float64\n",
      "primary_cleaner.state.floatbank8_d_level              19438 non-null float64\n",
      "rougher.calculation.sulfate_to_au_concentrate         19437 non-null float64\n",
      "rougher.calculation.floatbank10_sulfate_to_au_feed    19437 non-null float64\n",
      "rougher.calculation.floatbank11_sulfate_to_au_feed    19437 non-null float64\n",
      "rougher.calculation.au_pb_ratio                       19439 non-null float64\n",
      "rougher.input.feed_ag                                 19439 non-null float64\n",
      "rougher.input.feed_pb                                 19339 non-null float64\n",
      "rougher.input.feed_rate                               19428 non-null float64\n",
      "rougher.input.feed_size                               19294 non-null float64\n",
      "rougher.input.feed_sol                                19340 non-null float64\n",
      "rougher.input.feed_au                                 19439 non-null float64\n",
      "rougher.input.floatbank10_sulfate                     19405 non-null float64\n",
      "rougher.input.floatbank10_xanthate                    19431 non-null float64\n",
      "rougher.input.floatbank11_sulfate                     19395 non-null float64\n",
      "rougher.input.floatbank11_xanthate                    18986 non-null float64\n",
      "rougher.output.concentrate_ag                         19439 non-null float64\n",
      "rougher.output.concentrate_pb                         19439 non-null float64\n",
      "rougher.output.concentrate_sol                        19416 non-null float64\n",
      "rougher.output.concentrate_au                         19439 non-null float64\n",
      "rougher.output.recovery                               19439 non-null float64\n",
      "rougher.output.tail_ag                                19438 non-null float64\n",
      "rougher.output.tail_pb                                19439 non-null float64\n",
      "rougher.output.tail_sol                               19439 non-null float64\n",
      "rougher.output.tail_au                                19439 non-null float64\n",
      "rougher.state.floatbank10_a_air                       19438 non-null float64\n",
      "rougher.state.floatbank10_a_level                     19438 non-null float64\n",
      "rougher.state.floatbank10_b_air                       19438 non-null float64\n",
      "rougher.state.floatbank10_b_level                     19438 non-null float64\n",
      "rougher.state.floatbank10_c_air                       19438 non-null float64\n",
      "rougher.state.floatbank10_c_level                     19438 non-null float64\n",
      "rougher.state.floatbank10_d_air                       19439 non-null float64\n",
      "rougher.state.floatbank10_d_level                     19439 non-null float64\n",
      "rougher.state.floatbank10_e_air                       19003 non-null float64\n",
      "rougher.state.floatbank10_e_level                     19439 non-null float64\n",
      "rougher.state.floatbank10_f_air                       19439 non-null float64\n",
      "rougher.state.floatbank10_f_level                     19439 non-null float64\n",
      "secondary_cleaner.output.tail_ag                      19437 non-null float64\n",
      "secondary_cleaner.output.tail_pb                      19427 non-null float64\n",
      "secondary_cleaner.output.tail_sol                     17691 non-null float64\n",
      "secondary_cleaner.output.tail_au                      19439 non-null float64\n",
      "secondary_cleaner.state.floatbank2_a_air              19219 non-null float64\n",
      "secondary_cleaner.state.floatbank2_a_level            19438 non-null float64\n",
      "secondary_cleaner.state.floatbank2_b_air              19416 non-null float64\n",
      "secondary_cleaner.state.floatbank2_b_level            19438 non-null float64\n",
      "secondary_cleaner.state.floatbank3_a_air              19426 non-null float64\n",
      "secondary_cleaner.state.floatbank3_a_level            19438 non-null float64\n",
      "secondary_cleaner.state.floatbank3_b_air              19438 non-null float64\n",
      "secondary_cleaner.state.floatbank3_b_level            19438 non-null float64\n",
      "secondary_cleaner.state.floatbank4_a_air              19433 non-null float64\n",
      "secondary_cleaner.state.floatbank4_a_level            19438 non-null float64\n",
      "secondary_cleaner.state.floatbank4_b_air              19438 non-null float64\n",
      "secondary_cleaner.state.floatbank4_b_level            19438 non-null float64\n",
      "secondary_cleaner.state.floatbank5_a_air              19438 non-null float64\n",
      "secondary_cleaner.state.floatbank5_a_level            19438 non-null float64\n",
      "secondary_cleaner.state.floatbank5_b_air              19438 non-null float64\n",
      "secondary_cleaner.state.floatbank5_b_level            19438 non-null float64\n",
      "secondary_cleaner.state.floatbank6_a_air              19437 non-null float64\n",
      "secondary_cleaner.state.floatbank6_a_level            19438 non-null float64\n",
      "dtypes: float64(86), object(1)\n",
      "memory usage: 12.9+ MB\n",
      "<class 'pandas.core.frame.DataFrame'>\n",
      "RangeIndex: 5290 entries, 0 to 5289\n",
      "Data columns (total 53 columns):\n",
      "date                                          5290 non-null object\n",
      "primary_cleaner.input.sulfate                 5286 non-null float64\n",
      "primary_cleaner.input.depressant              5285 non-null float64\n",
      "primary_cleaner.input.feed_size               5290 non-null float64\n",
      "primary_cleaner.input.xanthate                5286 non-null float64\n",
      "primary_cleaner.state.floatbank8_a_air        5290 non-null float64\n",
      "primary_cleaner.state.floatbank8_a_level      5290 non-null float64\n",
      "primary_cleaner.state.floatbank8_b_air        5290 non-null float64\n",
      "primary_cleaner.state.floatbank8_b_level      5290 non-null float64\n",
      "primary_cleaner.state.floatbank8_c_air        5290 non-null float64\n",
      "primary_cleaner.state.floatbank8_c_level      5290 non-null float64\n",
      "primary_cleaner.state.floatbank8_d_air        5290 non-null float64\n",
      "primary_cleaner.state.floatbank8_d_level      5290 non-null float64\n",
      "rougher.input.feed_ag                         5290 non-null float64\n",
      "rougher.input.feed_pb                         5290 non-null float64\n",
      "rougher.input.feed_rate                       5287 non-null float64\n",
      "rougher.input.feed_size                       5289 non-null float64\n",
      "rougher.input.feed_sol                        5269 non-null float64\n",
      "rougher.input.feed_au                         5290 non-null float64\n",
      "rougher.input.floatbank10_sulfate             5285 non-null float64\n",
      "rougher.input.floatbank10_xanthate            5290 non-null float64\n",
      "rougher.input.floatbank11_sulfate             5282 non-null float64\n",
      "rougher.input.floatbank11_xanthate            5265 non-null float64\n",
      "rougher.state.floatbank10_a_air               5290 non-null float64\n",
      "rougher.state.floatbank10_a_level             5290 non-null float64\n",
      "rougher.state.floatbank10_b_air               5290 non-null float64\n",
      "rougher.state.floatbank10_b_level             5290 non-null float64\n",
      "rougher.state.floatbank10_c_air               5290 non-null float64\n",
      "rougher.state.floatbank10_c_level             5290 non-null float64\n",
      "rougher.state.floatbank10_d_air               5290 non-null float64\n",
      "rougher.state.floatbank10_d_level             5290 non-null float64\n",
      "rougher.state.floatbank10_e_air               5290 non-null float64\n",
      "rougher.state.floatbank10_e_level             5290 non-null float64\n",
      "rougher.state.floatbank10_f_air               5290 non-null float64\n",
      "rougher.state.floatbank10_f_level             5290 non-null float64\n",
      "secondary_cleaner.state.floatbank2_a_air      5287 non-null float64\n",
      "secondary_cleaner.state.floatbank2_a_level    5290 non-null float64\n",
      "secondary_cleaner.state.floatbank2_b_air      5288 non-null float64\n",
      "secondary_cleaner.state.floatbank2_b_level    5290 non-null float64\n",
      "secondary_cleaner.state.floatbank3_a_air      5281 non-null float64\n",
      "secondary_cleaner.state.floatbank3_a_level    5290 non-null float64\n",
      "secondary_cleaner.state.floatbank3_b_air      5290 non-null float64\n",
      "secondary_cleaner.state.floatbank3_b_level    5290 non-null float64\n",
      "secondary_cleaner.state.floatbank4_a_air      5290 non-null float64\n",
      "secondary_cleaner.state.floatbank4_a_level    5290 non-null float64\n",
      "secondary_cleaner.state.floatbank4_b_air      5290 non-null float64\n",
      "secondary_cleaner.state.floatbank4_b_level    5290 non-null float64\n",
      "secondary_cleaner.state.floatbank5_a_air      5290 non-null float64\n",
      "secondary_cleaner.state.floatbank5_a_level    5290 non-null float64\n",
      "secondary_cleaner.state.floatbank5_b_air      5290 non-null float64\n",
      "secondary_cleaner.state.floatbank5_b_level    5290 non-null float64\n",
      "secondary_cleaner.state.floatbank6_a_air      5290 non-null float64\n",
      "secondary_cleaner.state.floatbank6_a_level    5290 non-null float64\n",
      "dtypes: float64(52), object(1)\n",
      "memory usage: 2.1+ MB\n",
      "<class 'pandas.core.frame.DataFrame'>\n",
      "RangeIndex: 14149 entries, 0 to 14148\n",
      "Data columns (total 87 columns):\n",
      "date                                                  14149 non-null object\n",
      "final.output.concentrate_ag                           14148 non-null float64\n",
      "final.output.concentrate_pb                           14148 non-null float64\n",
      "final.output.concentrate_sol                          13938 non-null float64\n",
      "final.output.concentrate_au                           14149 non-null float64\n",
      "final.output.recovery                                 14149 non-null float64\n",
      "final.output.tail_ag                                  14149 non-null float64\n",
      "final.output.tail_pb                                  14049 non-null float64\n",
      "final.output.tail_sol                                 14144 non-null float64\n",
      "final.output.tail_au                                  14149 non-null float64\n",
      "primary_cleaner.input.sulfate                         14129 non-null float64\n",
      "primary_cleaner.input.depressant                      14117 non-null float64\n",
      "primary_cleaner.input.feed_size                       14149 non-null float64\n",
      "primary_cleaner.input.xanthate                        14049 non-null float64\n",
      "primary_cleaner.output.concentrate_ag                 14149 non-null float64\n",
      "primary_cleaner.output.concentrate_pb                 14063 non-null float64\n",
      "primary_cleaner.output.concentrate_sol                13863 non-null float64\n",
      "primary_cleaner.output.concentrate_au                 14149 non-null float64\n",
      "primary_cleaner.output.tail_ag                        14148 non-null float64\n",
      "primary_cleaner.output.tail_pb                        14134 non-null float64\n",
      "primary_cleaner.output.tail_sol                       14103 non-null float64\n",
      "primary_cleaner.output.tail_au                        14149 non-null float64\n",
      "primary_cleaner.state.floatbank8_a_air                14145 non-null float64\n",
      "primary_cleaner.state.floatbank8_a_level              14148 non-null float64\n",
      "primary_cleaner.state.floatbank8_b_air                14145 non-null float64\n",
      "primary_cleaner.state.floatbank8_b_level              14148 non-null float64\n",
      "primary_cleaner.state.floatbank8_c_air                14147 non-null float64\n",
      "primary_cleaner.state.floatbank8_c_level              14148 non-null float64\n",
      "primary_cleaner.state.floatbank8_d_air                14146 non-null float64\n",
      "primary_cleaner.state.floatbank8_d_level              14148 non-null float64\n",
      "rougher.calculation.sulfate_to_au_concentrate         14148 non-null float64\n",
      "rougher.calculation.floatbank10_sulfate_to_au_feed    14148 non-null float64\n",
      "rougher.calculation.floatbank11_sulfate_to_au_feed    14148 non-null float64\n",
      "rougher.calculation.au_pb_ratio                       14149 non-null float64\n",
      "rougher.input.feed_ag                                 14149 non-null float64\n",
      "rougher.input.feed_pb                                 14049 non-null float64\n",
      "rougher.input.feed_rate                               14141 non-null float64\n",
      "rougher.input.feed_size                               14005 non-null float64\n",
      "rougher.input.feed_sol                                14071 non-null float64\n",
      "rougher.input.feed_au                                 14149 non-null float64\n",
      "rougher.input.floatbank10_sulfate                     14120 non-null float64\n",
      "rougher.input.floatbank10_xanthate                    14141 non-null float64\n",
      "rougher.input.floatbank11_sulfate                     14113 non-null float64\n",
      "rougher.input.floatbank11_xanthate                    13721 non-null float64\n",
      "rougher.output.concentrate_ag                         14149 non-null float64\n",
      "rougher.output.concentrate_pb                         14149 non-null float64\n",
      "rougher.output.concentrate_sol                        14127 non-null float64\n",
      "rougher.output.concentrate_au                         14149 non-null float64\n",
      "rougher.output.recovery                               14149 non-null float64\n",
      "rougher.output.tail_ag                                14148 non-null float64\n",
      "rougher.output.tail_pb                                14149 non-null float64\n",
      "rougher.output.tail_sol                               14149 non-null float64\n",
      "rougher.output.tail_au                                14149 non-null float64\n",
      "rougher.state.floatbank10_a_air                       14148 non-null float64\n",
      "rougher.state.floatbank10_a_level                     14148 non-null float64\n",
      "rougher.state.floatbank10_b_air                       14148 non-null float64\n",
      "rougher.state.floatbank10_b_level                     14148 non-null float64\n",
      "rougher.state.floatbank10_c_air                       14148 non-null float64\n",
      "rougher.state.floatbank10_c_level                     14148 non-null float64\n",
      "rougher.state.floatbank10_d_air                       14149 non-null float64\n",
      "rougher.state.floatbank10_d_level                     14149 non-null float64\n",
      "rougher.state.floatbank10_e_air                       13713 non-null float64\n",
      "rougher.state.floatbank10_e_level                     14149 non-null float64\n",
      "rougher.state.floatbank10_f_air                       14149 non-null float64\n",
      "rougher.state.floatbank10_f_level                     14149 non-null float64\n",
      "secondary_cleaner.output.tail_ag                      14147 non-null float64\n",
      "secondary_cleaner.output.tail_pb                      14139 non-null float64\n",
      "secondary_cleaner.output.tail_sol                     12544 non-null float64\n",
      "secondary_cleaner.output.tail_au                      14149 non-null float64\n",
      "secondary_cleaner.state.floatbank2_a_air              13932 non-null float64\n",
      "secondary_cleaner.state.floatbank2_a_level            14148 non-null float64\n",
      "secondary_cleaner.state.floatbank2_b_air              14128 non-null float64\n",
      "secondary_cleaner.state.floatbank2_b_level            14148 non-null float64\n",
      "secondary_cleaner.state.floatbank3_a_air              14145 non-null float64\n",
      "secondary_cleaner.state.floatbank3_a_level            14148 non-null float64\n",
      "secondary_cleaner.state.floatbank3_b_air              14148 non-null float64\n",
      "secondary_cleaner.state.floatbank3_b_level            14148 non-null float64\n",
      "secondary_cleaner.state.floatbank4_a_air              14143 non-null float64\n",
      "secondary_cleaner.state.floatbank4_a_level            14148 non-null float64\n",
      "secondary_cleaner.state.floatbank4_b_air              14148 non-null float64\n",
      "secondary_cleaner.state.floatbank4_b_level            14148 non-null float64\n",
      "secondary_cleaner.state.floatbank5_a_air              14148 non-null float64\n",
      "secondary_cleaner.state.floatbank5_a_level            14148 non-null float64\n",
      "secondary_cleaner.state.floatbank5_b_air              14148 non-null float64\n",
      "secondary_cleaner.state.floatbank5_b_level            14148 non-null float64\n",
      "secondary_cleaner.state.floatbank6_a_air              14147 non-null float64\n",
      "secondary_cleaner.state.floatbank6_a_level            14148 non-null float64\n",
      "dtypes: float64(86), object(1)\n",
      "memory usage: 9.4+ MB\n"
     ]
    }
   ],
   "source": [
    "data_full = pd.read_csv('/datasets/gold_recovery_full_new.csv')\n",
    "data_test = pd.read_csv('/datasets/gold_recovery_test_new.csv')\n",
    "data_train = pd.read_csv('/datasets/gold_recovery_train_new.csv')\n",
    "\n",
    "data_full.info()\n",
    "data_test.info()\n",
    "data_train.info()"
   ]
  },
  {
   "cell_type": "markdown",
   "metadata": {},
   "source": [
    "### Проверьте, что эффективность обогащения рассчитана правильно. "
   ]
  },
  {
   "cell_type": "code",
   "execution_count": 3,
   "metadata": {},
   "outputs": [
    {
     "data": {
      "text/plain": [
       "count    14149.000000\n",
       "mean        82.704502\n",
       "std         14.479156\n",
       "min          0.000000\n",
       "25%         79.993067\n",
       "50%         85.299462\n",
       "75%         90.165021\n",
       "max        100.000000\n",
       "Name: rougher.output.recovery, dtype: float64"
      ]
     },
     "metadata": {},
     "output_type": "display_data"
    },
    {
     "data": {
      "text/plain": [
       "'0.0000000000000097'"
      ]
     },
     "metadata": {},
     "output_type": "display_data"
    }
   ],
   "source": [
    "y_train = data_train['rougher.output.recovery']\n",
    "\n",
    "c = data_train['rougher.output.concentrate_au']\n",
    "f = data_train['rougher.input.feed_au']\n",
    "t = data_train['rougher.output.tail_au']\n",
    "\n",
    "y_rec = (c * (f - t)) / (f * (c - t)) * 100\n",
    "\n",
    "rougher_mae = mean_absolute_error(y_train, y_rec)\n",
    "display(y_train.describe())\n",
    "display(\"{:.16f}\".format(float(rougher_mae)))"
   ]
  },
  {
   "cell_type": "markdown",
   "metadata": {},
   "source": [
    "    MAE очень близко к 0, значит, что эффективность обогащения рассчитана правильно, отличия между табличными данными и моими рассчетами минимальны"
   ]
  },
  {
   "cell_type": "markdown",
   "metadata": {},
   "source": [
    "### Проанализируйте признаки, недоступные в тестовой выборке. "
   ]
  },
  {
   "cell_type": "code",
   "execution_count": 4,
   "metadata": {},
   "outputs": [
    {
     "name": "stdout",
     "output_type": "stream",
     "text": [
      "['final.output.concentrate_ag', 'final.output.concentrate_pb', 'final.output.concentrate_sol', 'final.output.concentrate_au', 'final.output.recovery', 'final.output.tail_ag', 'final.output.tail_pb', 'final.output.tail_sol', 'final.output.tail_au', 'primary_cleaner.output.concentrate_ag', 'primary_cleaner.output.concentrate_pb', 'primary_cleaner.output.concentrate_sol', 'primary_cleaner.output.concentrate_au', 'primary_cleaner.output.tail_ag', 'primary_cleaner.output.tail_pb', 'primary_cleaner.output.tail_sol', 'primary_cleaner.output.tail_au', 'rougher.calculation.sulfate_to_au_concentrate', 'rougher.calculation.floatbank10_sulfate_to_au_feed', 'rougher.calculation.floatbank11_sulfate_to_au_feed', 'rougher.calculation.au_pb_ratio', 'rougher.output.concentrate_ag', 'rougher.output.concentrate_pb', 'rougher.output.concentrate_sol', 'rougher.output.concentrate_au', 'rougher.output.recovery', 'rougher.output.tail_ag', 'rougher.output.tail_pb', 'rougher.output.tail_sol', 'rougher.output.tail_au', 'secondary_cleaner.output.tail_ag', 'secondary_cleaner.output.tail_pb', 'secondary_cleaner.output.tail_sol', 'secondary_cleaner.output.tail_au']\n"
     ]
    }
   ],
   "source": [
    "attribute_test = data_test.columns.to_list()\n",
    "attribute_full = data_full.columns.to_list()\n",
    "attribute_train = data_train.columns.to_list()\n",
    "for i in attribute_test:\n",
    "    attribute_full.remove(i)\n",
    "print(attribute_full)"
   ]
  },
  {
   "cell_type": "markdown",
   "metadata": {},
   "source": [
    "    В тестовой выборке недоступны в основном выходные параметры,в т ч целевые(final.output.concentrate_au) \n",
    "    Они относятся к количественным признакам"
   ]
  },
  {
   "cell_type": "markdown",
   "metadata": {},
   "source": [
    "### Проведите предобработку данных."
   ]
  },
  {
   "cell_type": "code",
   "execution_count": 5,
   "metadata": {},
   "outputs": [
    {
     "name": "stdout",
     "output_type": "stream",
     "text": [
      "<class 'pandas.core.frame.DataFrame'>\n",
      "RangeIndex: 14149 entries, 0 to 14148\n",
      "Data columns (total 87 columns):\n",
      "date                                                  14149 non-null object\n",
      "final.output.concentrate_ag                           14148 non-null float64\n",
      "final.output.concentrate_pb                           14148 non-null float64\n",
      "final.output.concentrate_sol                          13938 non-null float64\n",
      "final.output.concentrate_au                           14149 non-null float64\n",
      "final.output.recovery                                 14149 non-null float64\n",
      "final.output.tail_ag                                  14149 non-null float64\n",
      "final.output.tail_pb                                  14049 non-null float64\n",
      "final.output.tail_sol                                 14144 non-null float64\n",
      "final.output.tail_au                                  14149 non-null float64\n",
      "primary_cleaner.input.sulfate                         14129 non-null float64\n",
      "primary_cleaner.input.depressant                      14117 non-null float64\n",
      "primary_cleaner.input.feed_size                       14149 non-null float64\n",
      "primary_cleaner.input.xanthate                        14049 non-null float64\n",
      "primary_cleaner.output.concentrate_ag                 14149 non-null float64\n",
      "primary_cleaner.output.concentrate_pb                 14063 non-null float64\n",
      "primary_cleaner.output.concentrate_sol                13863 non-null float64\n",
      "primary_cleaner.output.concentrate_au                 14149 non-null float64\n",
      "primary_cleaner.output.tail_ag                        14148 non-null float64\n",
      "primary_cleaner.output.tail_pb                        14134 non-null float64\n",
      "primary_cleaner.output.tail_sol                       14103 non-null float64\n",
      "primary_cleaner.output.tail_au                        14149 non-null float64\n",
      "primary_cleaner.state.floatbank8_a_air                14145 non-null float64\n",
      "primary_cleaner.state.floatbank8_a_level              14148 non-null float64\n",
      "primary_cleaner.state.floatbank8_b_air                14145 non-null float64\n",
      "primary_cleaner.state.floatbank8_b_level              14148 non-null float64\n",
      "primary_cleaner.state.floatbank8_c_air                14147 non-null float64\n",
      "primary_cleaner.state.floatbank8_c_level              14148 non-null float64\n",
      "primary_cleaner.state.floatbank8_d_air                14146 non-null float64\n",
      "primary_cleaner.state.floatbank8_d_level              14148 non-null float64\n",
      "rougher.calculation.sulfate_to_au_concentrate         14148 non-null float64\n",
      "rougher.calculation.floatbank10_sulfate_to_au_feed    14148 non-null float64\n",
      "rougher.calculation.floatbank11_sulfate_to_au_feed    14148 non-null float64\n",
      "rougher.calculation.au_pb_ratio                       14149 non-null float64\n",
      "rougher.input.feed_ag                                 14149 non-null float64\n",
      "rougher.input.feed_pb                                 14049 non-null float64\n",
      "rougher.input.feed_rate                               14141 non-null float64\n",
      "rougher.input.feed_size                               14005 non-null float64\n",
      "rougher.input.feed_sol                                14071 non-null float64\n",
      "rougher.input.feed_au                                 14149 non-null float64\n",
      "rougher.input.floatbank10_sulfate                     14120 non-null float64\n",
      "rougher.input.floatbank10_xanthate                    14141 non-null float64\n",
      "rougher.input.floatbank11_sulfate                     14113 non-null float64\n",
      "rougher.input.floatbank11_xanthate                    13721 non-null float64\n",
      "rougher.output.concentrate_ag                         14149 non-null float64\n",
      "rougher.output.concentrate_pb                         14149 non-null float64\n",
      "rougher.output.concentrate_sol                        14127 non-null float64\n",
      "rougher.output.concentrate_au                         14149 non-null float64\n",
      "rougher.output.recovery                               14149 non-null float64\n",
      "rougher.output.tail_ag                                14148 non-null float64\n",
      "rougher.output.tail_pb                                14149 non-null float64\n",
      "rougher.output.tail_sol                               14149 non-null float64\n",
      "rougher.output.tail_au                                14149 non-null float64\n",
      "rougher.state.floatbank10_a_air                       14148 non-null float64\n",
      "rougher.state.floatbank10_a_level                     14148 non-null float64\n",
      "rougher.state.floatbank10_b_air                       14148 non-null float64\n",
      "rougher.state.floatbank10_b_level                     14148 non-null float64\n",
      "rougher.state.floatbank10_c_air                       14148 non-null float64\n",
      "rougher.state.floatbank10_c_level                     14148 non-null float64\n",
      "rougher.state.floatbank10_d_air                       14149 non-null float64\n",
      "rougher.state.floatbank10_d_level                     14149 non-null float64\n",
      "rougher.state.floatbank10_e_air                       13713 non-null float64\n",
      "rougher.state.floatbank10_e_level                     14149 non-null float64\n",
      "rougher.state.floatbank10_f_air                       14149 non-null float64\n",
      "rougher.state.floatbank10_f_level                     14149 non-null float64\n",
      "secondary_cleaner.output.tail_ag                      14147 non-null float64\n",
      "secondary_cleaner.output.tail_pb                      14139 non-null float64\n",
      "secondary_cleaner.output.tail_sol                     12544 non-null float64\n",
      "secondary_cleaner.output.tail_au                      14149 non-null float64\n",
      "secondary_cleaner.state.floatbank2_a_air              13932 non-null float64\n",
      "secondary_cleaner.state.floatbank2_a_level            14148 non-null float64\n",
      "secondary_cleaner.state.floatbank2_b_air              14128 non-null float64\n",
      "secondary_cleaner.state.floatbank2_b_level            14148 non-null float64\n",
      "secondary_cleaner.state.floatbank3_a_air              14145 non-null float64\n",
      "secondary_cleaner.state.floatbank3_a_level            14148 non-null float64\n",
      "secondary_cleaner.state.floatbank3_b_air              14148 non-null float64\n",
      "secondary_cleaner.state.floatbank3_b_level            14148 non-null float64\n",
      "secondary_cleaner.state.floatbank4_a_air              14143 non-null float64\n",
      "secondary_cleaner.state.floatbank4_a_level            14148 non-null float64\n",
      "secondary_cleaner.state.floatbank4_b_air              14148 non-null float64\n",
      "secondary_cleaner.state.floatbank4_b_level            14148 non-null float64\n",
      "secondary_cleaner.state.floatbank5_a_air              14148 non-null float64\n",
      "secondary_cleaner.state.floatbank5_a_level            14148 non-null float64\n",
      "secondary_cleaner.state.floatbank5_b_air              14148 non-null float64\n",
      "secondary_cleaner.state.floatbank5_b_level            14148 non-null float64\n",
      "secondary_cleaner.state.floatbank6_a_air              14147 non-null float64\n",
      "secondary_cleaner.state.floatbank6_a_level            14148 non-null float64\n",
      "dtypes: float64(86), object(1)\n",
      "memory usage: 9.4+ MB\n",
      "<class 'pandas.core.frame.DataFrame'>\n",
      "RangeIndex: 5290 entries, 0 to 5289\n",
      "Data columns (total 53 columns):\n",
      "date                                          5290 non-null object\n",
      "primary_cleaner.input.sulfate                 5286 non-null float64\n",
      "primary_cleaner.input.depressant              5285 non-null float64\n",
      "primary_cleaner.input.feed_size               5290 non-null float64\n",
      "primary_cleaner.input.xanthate                5286 non-null float64\n",
      "primary_cleaner.state.floatbank8_a_air        5290 non-null float64\n",
      "primary_cleaner.state.floatbank8_a_level      5290 non-null float64\n",
      "primary_cleaner.state.floatbank8_b_air        5290 non-null float64\n",
      "primary_cleaner.state.floatbank8_b_level      5290 non-null float64\n",
      "primary_cleaner.state.floatbank8_c_air        5290 non-null float64\n",
      "primary_cleaner.state.floatbank8_c_level      5290 non-null float64\n",
      "primary_cleaner.state.floatbank8_d_air        5290 non-null float64\n",
      "primary_cleaner.state.floatbank8_d_level      5290 non-null float64\n",
      "rougher.input.feed_ag                         5290 non-null float64\n",
      "rougher.input.feed_pb                         5290 non-null float64\n",
      "rougher.input.feed_rate                       5287 non-null float64\n",
      "rougher.input.feed_size                       5289 non-null float64\n",
      "rougher.input.feed_sol                        5269 non-null float64\n",
      "rougher.input.feed_au                         5290 non-null float64\n",
      "rougher.input.floatbank10_sulfate             5285 non-null float64\n",
      "rougher.input.floatbank10_xanthate            5290 non-null float64\n",
      "rougher.input.floatbank11_sulfate             5282 non-null float64\n",
      "rougher.input.floatbank11_xanthate            5265 non-null float64\n",
      "rougher.state.floatbank10_a_air               5290 non-null float64\n",
      "rougher.state.floatbank10_a_level             5290 non-null float64\n",
      "rougher.state.floatbank10_b_air               5290 non-null float64\n",
      "rougher.state.floatbank10_b_level             5290 non-null float64\n",
      "rougher.state.floatbank10_c_air               5290 non-null float64\n",
      "rougher.state.floatbank10_c_level             5290 non-null float64\n",
      "rougher.state.floatbank10_d_air               5290 non-null float64\n",
      "rougher.state.floatbank10_d_level             5290 non-null float64\n",
      "rougher.state.floatbank10_e_air               5290 non-null float64\n",
      "rougher.state.floatbank10_e_level             5290 non-null float64\n",
      "rougher.state.floatbank10_f_air               5290 non-null float64\n",
      "rougher.state.floatbank10_f_level             5290 non-null float64\n",
      "secondary_cleaner.state.floatbank2_a_air      5287 non-null float64\n",
      "secondary_cleaner.state.floatbank2_a_level    5290 non-null float64\n",
      "secondary_cleaner.state.floatbank2_b_air      5288 non-null float64\n",
      "secondary_cleaner.state.floatbank2_b_level    5290 non-null float64\n",
      "secondary_cleaner.state.floatbank3_a_air      5281 non-null float64\n",
      "secondary_cleaner.state.floatbank3_a_level    5290 non-null float64\n",
      "secondary_cleaner.state.floatbank3_b_air      5290 non-null float64\n",
      "secondary_cleaner.state.floatbank3_b_level    5290 non-null float64\n",
      "secondary_cleaner.state.floatbank4_a_air      5290 non-null float64\n",
      "secondary_cleaner.state.floatbank4_a_level    5290 non-null float64\n",
      "secondary_cleaner.state.floatbank4_b_air      5290 non-null float64\n",
      "secondary_cleaner.state.floatbank4_b_level    5290 non-null float64\n",
      "secondary_cleaner.state.floatbank5_a_air      5290 non-null float64\n",
      "secondary_cleaner.state.floatbank5_a_level    5290 non-null float64\n",
      "secondary_cleaner.state.floatbank5_b_air      5290 non-null float64\n",
      "secondary_cleaner.state.floatbank5_b_level    5290 non-null float64\n",
      "secondary_cleaner.state.floatbank6_a_air      5290 non-null float64\n",
      "secondary_cleaner.state.floatbank6_a_level    5290 non-null float64\n",
      "dtypes: float64(52), object(1)\n",
      "memory usage: 2.1+ MB\n"
     ]
    },
    {
     "data": {
      "text/plain": [
       "(5290, 55)"
      ]
     },
     "metadata": {},
     "output_type": "display_data"
    },
    {
     "data": {
      "text/plain": [
       "'date'"
      ]
     },
     "metadata": {},
     "output_type": "display_data"
    },
    {
     "data": {
      "text/plain": [
       "0"
      ]
     },
     "metadata": {},
     "output_type": "display_data"
    },
    {
     "data": {
      "text/plain": [
       "'final.output.recovery'"
      ]
     },
     "metadata": {},
     "output_type": "display_data"
    },
    {
     "data": {
      "text/plain": [
       "0"
      ]
     },
     "metadata": {},
     "output_type": "display_data"
    },
    {
     "data": {
      "text/plain": [
       "'primary_cleaner.input.sulfate'"
      ]
     },
     "metadata": {},
     "output_type": "display_data"
    },
    {
     "data": {
      "text/plain": [
       "20"
      ]
     },
     "metadata": {},
     "output_type": "display_data"
    },
    {
     "data": {
      "text/plain": [
       "'primary_cleaner.input.depressant'"
      ]
     },
     "metadata": {},
     "output_type": "display_data"
    },
    {
     "data": {
      "text/plain": [
       "32"
      ]
     },
     "metadata": {},
     "output_type": "display_data"
    },
    {
     "data": {
      "text/plain": [
       "'primary_cleaner.input.feed_size'"
      ]
     },
     "metadata": {},
     "output_type": "display_data"
    },
    {
     "data": {
      "text/plain": [
       "0"
      ]
     },
     "metadata": {},
     "output_type": "display_data"
    },
    {
     "data": {
      "text/plain": [
       "'primary_cleaner.input.xanthate'"
      ]
     },
     "metadata": {},
     "output_type": "display_data"
    },
    {
     "data": {
      "text/plain": [
       "100"
      ]
     },
     "metadata": {},
     "output_type": "display_data"
    },
    {
     "data": {
      "text/plain": [
       "'primary_cleaner.state.floatbank8_a_air'"
      ]
     },
     "metadata": {},
     "output_type": "display_data"
    },
    {
     "data": {
      "text/plain": [
       "4"
      ]
     },
     "metadata": {},
     "output_type": "display_data"
    },
    {
     "data": {
      "text/plain": [
       "'primary_cleaner.state.floatbank8_a_level'"
      ]
     },
     "metadata": {},
     "output_type": "display_data"
    },
    {
     "data": {
      "text/plain": [
       "1"
      ]
     },
     "metadata": {},
     "output_type": "display_data"
    },
    {
     "data": {
      "text/plain": [
       "'primary_cleaner.state.floatbank8_b_air'"
      ]
     },
     "metadata": {},
     "output_type": "display_data"
    },
    {
     "data": {
      "text/plain": [
       "4"
      ]
     },
     "metadata": {},
     "output_type": "display_data"
    },
    {
     "data": {
      "text/plain": [
       "'primary_cleaner.state.floatbank8_b_level'"
      ]
     },
     "metadata": {},
     "output_type": "display_data"
    },
    {
     "data": {
      "text/plain": [
       "1"
      ]
     },
     "metadata": {},
     "output_type": "display_data"
    },
    {
     "data": {
      "text/plain": [
       "'primary_cleaner.state.floatbank8_c_air'"
      ]
     },
     "metadata": {},
     "output_type": "display_data"
    },
    {
     "data": {
      "text/plain": [
       "2"
      ]
     },
     "metadata": {},
     "output_type": "display_data"
    },
    {
     "data": {
      "text/plain": [
       "'primary_cleaner.state.floatbank8_c_level'"
      ]
     },
     "metadata": {},
     "output_type": "display_data"
    },
    {
     "data": {
      "text/plain": [
       "1"
      ]
     },
     "metadata": {},
     "output_type": "display_data"
    },
    {
     "data": {
      "text/plain": [
       "'primary_cleaner.state.floatbank8_d_air'"
      ]
     },
     "metadata": {},
     "output_type": "display_data"
    },
    {
     "data": {
      "text/plain": [
       "3"
      ]
     },
     "metadata": {},
     "output_type": "display_data"
    },
    {
     "data": {
      "text/plain": [
       "'primary_cleaner.state.floatbank8_d_level'"
      ]
     },
     "metadata": {},
     "output_type": "display_data"
    },
    {
     "data": {
      "text/plain": [
       "1"
      ]
     },
     "metadata": {},
     "output_type": "display_data"
    },
    {
     "data": {
      "text/plain": [
       "'rougher.input.feed_ag'"
      ]
     },
     "metadata": {},
     "output_type": "display_data"
    },
    {
     "data": {
      "text/plain": [
       "0"
      ]
     },
     "metadata": {},
     "output_type": "display_data"
    },
    {
     "data": {
      "text/plain": [
       "'rougher.input.feed_pb'"
      ]
     },
     "metadata": {},
     "output_type": "display_data"
    },
    {
     "data": {
      "text/plain": [
       "100"
      ]
     },
     "metadata": {},
     "output_type": "display_data"
    },
    {
     "data": {
      "text/plain": [
       "'rougher.input.feed_rate'"
      ]
     },
     "metadata": {},
     "output_type": "display_data"
    },
    {
     "data": {
      "text/plain": [
       "8"
      ]
     },
     "metadata": {},
     "output_type": "display_data"
    },
    {
     "data": {
      "text/plain": [
       "'rougher.input.feed_size'"
      ]
     },
     "metadata": {},
     "output_type": "display_data"
    },
    {
     "data": {
      "text/plain": [
       "144"
      ]
     },
     "metadata": {},
     "output_type": "display_data"
    },
    {
     "data": {
      "text/plain": [
       "'rougher.input.feed_sol'"
      ]
     },
     "metadata": {},
     "output_type": "display_data"
    },
    {
     "data": {
      "text/plain": [
       "78"
      ]
     },
     "metadata": {},
     "output_type": "display_data"
    },
    {
     "data": {
      "text/plain": [
       "'rougher.input.feed_au'"
      ]
     },
     "metadata": {},
     "output_type": "display_data"
    },
    {
     "data": {
      "text/plain": [
       "0"
      ]
     },
     "metadata": {},
     "output_type": "display_data"
    },
    {
     "data": {
      "text/plain": [
       "'rougher.input.floatbank10_sulfate'"
      ]
     },
     "metadata": {},
     "output_type": "display_data"
    },
    {
     "data": {
      "text/plain": [
       "29"
      ]
     },
     "metadata": {},
     "output_type": "display_data"
    },
    {
     "data": {
      "text/plain": [
       "'rougher.input.floatbank10_xanthate'"
      ]
     },
     "metadata": {},
     "output_type": "display_data"
    },
    {
     "data": {
      "text/plain": [
       "8"
      ]
     },
     "metadata": {},
     "output_type": "display_data"
    },
    {
     "data": {
      "text/plain": [
       "'rougher.input.floatbank11_sulfate'"
      ]
     },
     "metadata": {},
     "output_type": "display_data"
    },
    {
     "data": {
      "text/plain": [
       "36"
      ]
     },
     "metadata": {},
     "output_type": "display_data"
    },
    {
     "data": {
      "text/plain": [
       "'rougher.input.floatbank11_xanthate'"
      ]
     },
     "metadata": {},
     "output_type": "display_data"
    },
    {
     "data": {
      "text/plain": [
       "428"
      ]
     },
     "metadata": {},
     "output_type": "display_data"
    },
    {
     "data": {
      "text/plain": [
       "'rougher.output.recovery'"
      ]
     },
     "metadata": {},
     "output_type": "display_data"
    },
    {
     "data": {
      "text/plain": [
       "0"
      ]
     },
     "metadata": {},
     "output_type": "display_data"
    },
    {
     "data": {
      "text/plain": [
       "'rougher.state.floatbank10_a_air'"
      ]
     },
     "metadata": {},
     "output_type": "display_data"
    },
    {
     "data": {
      "text/plain": [
       "1"
      ]
     },
     "metadata": {},
     "output_type": "display_data"
    },
    {
     "data": {
      "text/plain": [
       "'rougher.state.floatbank10_a_level'"
      ]
     },
     "metadata": {},
     "output_type": "display_data"
    },
    {
     "data": {
      "text/plain": [
       "1"
      ]
     },
     "metadata": {},
     "output_type": "display_data"
    },
    {
     "data": {
      "text/plain": [
       "'rougher.state.floatbank10_b_air'"
      ]
     },
     "metadata": {},
     "output_type": "display_data"
    },
    {
     "data": {
      "text/plain": [
       "1"
      ]
     },
     "metadata": {},
     "output_type": "display_data"
    },
    {
     "data": {
      "text/plain": [
       "'rougher.state.floatbank10_b_level'"
      ]
     },
     "metadata": {},
     "output_type": "display_data"
    },
    {
     "data": {
      "text/plain": [
       "1"
      ]
     },
     "metadata": {},
     "output_type": "display_data"
    },
    {
     "data": {
      "text/plain": [
       "'rougher.state.floatbank10_c_air'"
      ]
     },
     "metadata": {},
     "output_type": "display_data"
    },
    {
     "data": {
      "text/plain": [
       "1"
      ]
     },
     "metadata": {},
     "output_type": "display_data"
    },
    {
     "data": {
      "text/plain": [
       "'rougher.state.floatbank10_c_level'"
      ]
     },
     "metadata": {},
     "output_type": "display_data"
    },
    {
     "data": {
      "text/plain": [
       "1"
      ]
     },
     "metadata": {},
     "output_type": "display_data"
    },
    {
     "data": {
      "text/plain": [
       "'rougher.state.floatbank10_d_air'"
      ]
     },
     "metadata": {},
     "output_type": "display_data"
    },
    {
     "data": {
      "text/plain": [
       "0"
      ]
     },
     "metadata": {},
     "output_type": "display_data"
    },
    {
     "data": {
      "text/plain": [
       "'rougher.state.floatbank10_d_level'"
      ]
     },
     "metadata": {},
     "output_type": "display_data"
    },
    {
     "data": {
      "text/plain": [
       "0"
      ]
     },
     "metadata": {},
     "output_type": "display_data"
    },
    {
     "data": {
      "text/plain": [
       "'rougher.state.floatbank10_e_air'"
      ]
     },
     "metadata": {},
     "output_type": "display_data"
    },
    {
     "data": {
      "text/plain": [
       "436"
      ]
     },
     "metadata": {},
     "output_type": "display_data"
    },
    {
     "data": {
      "text/plain": [
       "'rougher.state.floatbank10_e_level'"
      ]
     },
     "metadata": {},
     "output_type": "display_data"
    },
    {
     "data": {
      "text/plain": [
       "0"
      ]
     },
     "metadata": {},
     "output_type": "display_data"
    },
    {
     "data": {
      "text/plain": [
       "'rougher.state.floatbank10_f_air'"
      ]
     },
     "metadata": {},
     "output_type": "display_data"
    },
    {
     "data": {
      "text/plain": [
       "0"
      ]
     },
     "metadata": {},
     "output_type": "display_data"
    },
    {
     "data": {
      "text/plain": [
       "'rougher.state.floatbank10_f_level'"
      ]
     },
     "metadata": {},
     "output_type": "display_data"
    },
    {
     "data": {
      "text/plain": [
       "0"
      ]
     },
     "metadata": {},
     "output_type": "display_data"
    },
    {
     "data": {
      "text/plain": [
       "'secondary_cleaner.state.floatbank2_a_air'"
      ]
     },
     "metadata": {},
     "output_type": "display_data"
    },
    {
     "data": {
      "text/plain": [
       "217"
      ]
     },
     "metadata": {},
     "output_type": "display_data"
    },
    {
     "data": {
      "text/plain": [
       "'secondary_cleaner.state.floatbank2_a_level'"
      ]
     },
     "metadata": {},
     "output_type": "display_data"
    },
    {
     "data": {
      "text/plain": [
       "1"
      ]
     },
     "metadata": {},
     "output_type": "display_data"
    },
    {
     "data": {
      "text/plain": [
       "'secondary_cleaner.state.floatbank2_b_air'"
      ]
     },
     "metadata": {},
     "output_type": "display_data"
    },
    {
     "data": {
      "text/plain": [
       "21"
      ]
     },
     "metadata": {},
     "output_type": "display_data"
    },
    {
     "data": {
      "text/plain": [
       "'secondary_cleaner.state.floatbank2_b_level'"
      ]
     },
     "metadata": {},
     "output_type": "display_data"
    },
    {
     "data": {
      "text/plain": [
       "1"
      ]
     },
     "metadata": {},
     "output_type": "display_data"
    },
    {
     "data": {
      "text/plain": [
       "'secondary_cleaner.state.floatbank3_a_air'"
      ]
     },
     "metadata": {},
     "output_type": "display_data"
    },
    {
     "data": {
      "text/plain": [
       "4"
      ]
     },
     "metadata": {},
     "output_type": "display_data"
    },
    {
     "data": {
      "text/plain": [
       "'secondary_cleaner.state.floatbank3_a_level'"
      ]
     },
     "metadata": {},
     "output_type": "display_data"
    },
    {
     "data": {
      "text/plain": [
       "1"
      ]
     },
     "metadata": {},
     "output_type": "display_data"
    },
    {
     "data": {
      "text/plain": [
       "'secondary_cleaner.state.floatbank3_b_air'"
      ]
     },
     "metadata": {},
     "output_type": "display_data"
    },
    {
     "data": {
      "text/plain": [
       "1"
      ]
     },
     "metadata": {},
     "output_type": "display_data"
    },
    {
     "data": {
      "text/plain": [
       "'secondary_cleaner.state.floatbank3_b_level'"
      ]
     },
     "metadata": {},
     "output_type": "display_data"
    },
    {
     "data": {
      "text/plain": [
       "1"
      ]
     },
     "metadata": {},
     "output_type": "display_data"
    },
    {
     "data": {
      "text/plain": [
       "'secondary_cleaner.state.floatbank4_a_air'"
      ]
     },
     "metadata": {},
     "output_type": "display_data"
    },
    {
     "data": {
      "text/plain": [
       "6"
      ]
     },
     "metadata": {},
     "output_type": "display_data"
    },
    {
     "data": {
      "text/plain": [
       "'secondary_cleaner.state.floatbank4_a_level'"
      ]
     },
     "metadata": {},
     "output_type": "display_data"
    },
    {
     "data": {
      "text/plain": [
       "1"
      ]
     },
     "metadata": {},
     "output_type": "display_data"
    },
    {
     "data": {
      "text/plain": [
       "'secondary_cleaner.state.floatbank4_b_air'"
      ]
     },
     "metadata": {},
     "output_type": "display_data"
    },
    {
     "data": {
      "text/plain": [
       "1"
      ]
     },
     "metadata": {},
     "output_type": "display_data"
    },
    {
     "data": {
      "text/plain": [
       "'secondary_cleaner.state.floatbank4_b_level'"
      ]
     },
     "metadata": {},
     "output_type": "display_data"
    },
    {
     "data": {
      "text/plain": [
       "1"
      ]
     },
     "metadata": {},
     "output_type": "display_data"
    },
    {
     "data": {
      "text/plain": [
       "'secondary_cleaner.state.floatbank5_a_air'"
      ]
     },
     "metadata": {},
     "output_type": "display_data"
    },
    {
     "data": {
      "text/plain": [
       "1"
      ]
     },
     "metadata": {},
     "output_type": "display_data"
    },
    {
     "data": {
      "text/plain": [
       "'secondary_cleaner.state.floatbank5_a_level'"
      ]
     },
     "metadata": {},
     "output_type": "display_data"
    },
    {
     "data": {
      "text/plain": [
       "1"
      ]
     },
     "metadata": {},
     "output_type": "display_data"
    },
    {
     "data": {
      "text/plain": [
       "'secondary_cleaner.state.floatbank5_b_air'"
      ]
     },
     "metadata": {},
     "output_type": "display_data"
    },
    {
     "data": {
      "text/plain": [
       "1"
      ]
     },
     "metadata": {},
     "output_type": "display_data"
    },
    {
     "data": {
      "text/plain": [
       "'secondary_cleaner.state.floatbank5_b_level'"
      ]
     },
     "metadata": {},
     "output_type": "display_data"
    },
    {
     "data": {
      "text/plain": [
       "1"
      ]
     },
     "metadata": {},
     "output_type": "display_data"
    },
    {
     "data": {
      "text/plain": [
       "'secondary_cleaner.state.floatbank6_a_air'"
      ]
     },
     "metadata": {},
     "output_type": "display_data"
    },
    {
     "data": {
      "text/plain": [
       "2"
      ]
     },
     "metadata": {},
     "output_type": "display_data"
    },
    {
     "data": {
      "text/plain": [
       "'secondary_cleaner.state.floatbank6_a_level'"
      ]
     },
     "metadata": {},
     "output_type": "display_data"
    },
    {
     "data": {
      "text/plain": [
       "1"
      ]
     },
     "metadata": {},
     "output_type": "display_data"
    },
    {
     "data": {
      "text/plain": [
       "'date'"
      ]
     },
     "metadata": {},
     "output_type": "display_data"
    },
    {
     "data": {
      "text/plain": [
       "0"
      ]
     },
     "metadata": {},
     "output_type": "display_data"
    },
    {
     "data": {
      "text/plain": [
       "'primary_cleaner.input.sulfate'"
      ]
     },
     "metadata": {},
     "output_type": "display_data"
    },
    {
     "data": {
      "text/plain": [
       "4"
      ]
     },
     "metadata": {},
     "output_type": "display_data"
    },
    {
     "data": {
      "text/plain": [
       "'primary_cleaner.input.depressant'"
      ]
     },
     "metadata": {},
     "output_type": "display_data"
    },
    {
     "data": {
      "text/plain": [
       "5"
      ]
     },
     "metadata": {},
     "output_type": "display_data"
    },
    {
     "data": {
      "text/plain": [
       "'primary_cleaner.input.feed_size'"
      ]
     },
     "metadata": {},
     "output_type": "display_data"
    },
    {
     "data": {
      "text/plain": [
       "0"
      ]
     },
     "metadata": {},
     "output_type": "display_data"
    },
    {
     "data": {
      "text/plain": [
       "'primary_cleaner.input.xanthate'"
      ]
     },
     "metadata": {},
     "output_type": "display_data"
    },
    {
     "data": {
      "text/plain": [
       "4"
      ]
     },
     "metadata": {},
     "output_type": "display_data"
    },
    {
     "data": {
      "text/plain": [
       "'primary_cleaner.state.floatbank8_a_air'"
      ]
     },
     "metadata": {},
     "output_type": "display_data"
    },
    {
     "data": {
      "text/plain": [
       "0"
      ]
     },
     "metadata": {},
     "output_type": "display_data"
    },
    {
     "data": {
      "text/plain": [
       "'primary_cleaner.state.floatbank8_a_level'"
      ]
     },
     "metadata": {},
     "output_type": "display_data"
    },
    {
     "data": {
      "text/plain": [
       "0"
      ]
     },
     "metadata": {},
     "output_type": "display_data"
    },
    {
     "data": {
      "text/plain": [
       "'primary_cleaner.state.floatbank8_b_air'"
      ]
     },
     "metadata": {},
     "output_type": "display_data"
    },
    {
     "data": {
      "text/plain": [
       "0"
      ]
     },
     "metadata": {},
     "output_type": "display_data"
    },
    {
     "data": {
      "text/plain": [
       "'primary_cleaner.state.floatbank8_b_level'"
      ]
     },
     "metadata": {},
     "output_type": "display_data"
    },
    {
     "data": {
      "text/plain": [
       "0"
      ]
     },
     "metadata": {},
     "output_type": "display_data"
    },
    {
     "data": {
      "text/plain": [
       "'primary_cleaner.state.floatbank8_c_air'"
      ]
     },
     "metadata": {},
     "output_type": "display_data"
    },
    {
     "data": {
      "text/plain": [
       "0"
      ]
     },
     "metadata": {},
     "output_type": "display_data"
    },
    {
     "data": {
      "text/plain": [
       "'primary_cleaner.state.floatbank8_c_level'"
      ]
     },
     "metadata": {},
     "output_type": "display_data"
    },
    {
     "data": {
      "text/plain": [
       "0"
      ]
     },
     "metadata": {},
     "output_type": "display_data"
    },
    {
     "data": {
      "text/plain": [
       "'primary_cleaner.state.floatbank8_d_air'"
      ]
     },
     "metadata": {},
     "output_type": "display_data"
    },
    {
     "data": {
      "text/plain": [
       "0"
      ]
     },
     "metadata": {},
     "output_type": "display_data"
    },
    {
     "data": {
      "text/plain": [
       "'primary_cleaner.state.floatbank8_d_level'"
      ]
     },
     "metadata": {},
     "output_type": "display_data"
    },
    {
     "data": {
      "text/plain": [
       "0"
      ]
     },
     "metadata": {},
     "output_type": "display_data"
    },
    {
     "data": {
      "text/plain": [
       "'rougher.input.feed_ag'"
      ]
     },
     "metadata": {},
     "output_type": "display_data"
    },
    {
     "data": {
      "text/plain": [
       "0"
      ]
     },
     "metadata": {},
     "output_type": "display_data"
    },
    {
     "data": {
      "text/plain": [
       "'rougher.input.feed_pb'"
      ]
     },
     "metadata": {},
     "output_type": "display_data"
    },
    {
     "data": {
      "text/plain": [
       "0"
      ]
     },
     "metadata": {},
     "output_type": "display_data"
    },
    {
     "data": {
      "text/plain": [
       "'rougher.input.feed_rate'"
      ]
     },
     "metadata": {},
     "output_type": "display_data"
    },
    {
     "data": {
      "text/plain": [
       "3"
      ]
     },
     "metadata": {},
     "output_type": "display_data"
    },
    {
     "data": {
      "text/plain": [
       "'rougher.input.feed_size'"
      ]
     },
     "metadata": {},
     "output_type": "display_data"
    },
    {
     "data": {
      "text/plain": [
       "1"
      ]
     },
     "metadata": {},
     "output_type": "display_data"
    },
    {
     "data": {
      "text/plain": [
       "'rougher.input.feed_sol'"
      ]
     },
     "metadata": {},
     "output_type": "display_data"
    },
    {
     "data": {
      "text/plain": [
       "21"
      ]
     },
     "metadata": {},
     "output_type": "display_data"
    },
    {
     "data": {
      "text/plain": [
       "'rougher.input.feed_au'"
      ]
     },
     "metadata": {},
     "output_type": "display_data"
    },
    {
     "data": {
      "text/plain": [
       "0"
      ]
     },
     "metadata": {},
     "output_type": "display_data"
    },
    {
     "data": {
      "text/plain": [
       "'rougher.input.floatbank10_sulfate'"
      ]
     },
     "metadata": {},
     "output_type": "display_data"
    },
    {
     "data": {
      "text/plain": [
       "5"
      ]
     },
     "metadata": {},
     "output_type": "display_data"
    },
    {
     "data": {
      "text/plain": [
       "'rougher.input.floatbank10_xanthate'"
      ]
     },
     "metadata": {},
     "output_type": "display_data"
    },
    {
     "data": {
      "text/plain": [
       "0"
      ]
     },
     "metadata": {},
     "output_type": "display_data"
    },
    {
     "data": {
      "text/plain": [
       "'rougher.input.floatbank11_sulfate'"
      ]
     },
     "metadata": {},
     "output_type": "display_data"
    },
    {
     "data": {
      "text/plain": [
       "8"
      ]
     },
     "metadata": {},
     "output_type": "display_data"
    },
    {
     "data": {
      "text/plain": [
       "'rougher.input.floatbank11_xanthate'"
      ]
     },
     "metadata": {},
     "output_type": "display_data"
    },
    {
     "data": {
      "text/plain": [
       "25"
      ]
     },
     "metadata": {},
     "output_type": "display_data"
    },
    {
     "data": {
      "text/plain": [
       "'rougher.state.floatbank10_a_air'"
      ]
     },
     "metadata": {},
     "output_type": "display_data"
    },
    {
     "data": {
      "text/plain": [
       "0"
      ]
     },
     "metadata": {},
     "output_type": "display_data"
    },
    {
     "data": {
      "text/plain": [
       "'rougher.state.floatbank10_a_level'"
      ]
     },
     "metadata": {},
     "output_type": "display_data"
    },
    {
     "data": {
      "text/plain": [
       "0"
      ]
     },
     "metadata": {},
     "output_type": "display_data"
    },
    {
     "data": {
      "text/plain": [
       "'rougher.state.floatbank10_b_air'"
      ]
     },
     "metadata": {},
     "output_type": "display_data"
    },
    {
     "data": {
      "text/plain": [
       "0"
      ]
     },
     "metadata": {},
     "output_type": "display_data"
    },
    {
     "data": {
      "text/plain": [
       "'rougher.state.floatbank10_b_level'"
      ]
     },
     "metadata": {},
     "output_type": "display_data"
    },
    {
     "data": {
      "text/plain": [
       "0"
      ]
     },
     "metadata": {},
     "output_type": "display_data"
    },
    {
     "data": {
      "text/plain": [
       "'rougher.state.floatbank10_c_air'"
      ]
     },
     "metadata": {},
     "output_type": "display_data"
    },
    {
     "data": {
      "text/plain": [
       "0"
      ]
     },
     "metadata": {},
     "output_type": "display_data"
    },
    {
     "data": {
      "text/plain": [
       "'rougher.state.floatbank10_c_level'"
      ]
     },
     "metadata": {},
     "output_type": "display_data"
    },
    {
     "data": {
      "text/plain": [
       "0"
      ]
     },
     "metadata": {},
     "output_type": "display_data"
    },
    {
     "data": {
      "text/plain": [
       "'rougher.state.floatbank10_d_air'"
      ]
     },
     "metadata": {},
     "output_type": "display_data"
    },
    {
     "data": {
      "text/plain": [
       "0"
      ]
     },
     "metadata": {},
     "output_type": "display_data"
    },
    {
     "data": {
      "text/plain": [
       "'rougher.state.floatbank10_d_level'"
      ]
     },
     "metadata": {},
     "output_type": "display_data"
    },
    {
     "data": {
      "text/plain": [
       "0"
      ]
     },
     "metadata": {},
     "output_type": "display_data"
    },
    {
     "data": {
      "text/plain": [
       "'rougher.state.floatbank10_e_air'"
      ]
     },
     "metadata": {},
     "output_type": "display_data"
    },
    {
     "data": {
      "text/plain": [
       "0"
      ]
     },
     "metadata": {},
     "output_type": "display_data"
    },
    {
     "data": {
      "text/plain": [
       "'rougher.state.floatbank10_e_level'"
      ]
     },
     "metadata": {},
     "output_type": "display_data"
    },
    {
     "data": {
      "text/plain": [
       "0"
      ]
     },
     "metadata": {},
     "output_type": "display_data"
    },
    {
     "data": {
      "text/plain": [
       "'rougher.state.floatbank10_f_air'"
      ]
     },
     "metadata": {},
     "output_type": "display_data"
    },
    {
     "data": {
      "text/plain": [
       "0"
      ]
     },
     "metadata": {},
     "output_type": "display_data"
    },
    {
     "data": {
      "text/plain": [
       "'rougher.state.floatbank10_f_level'"
      ]
     },
     "metadata": {},
     "output_type": "display_data"
    },
    {
     "data": {
      "text/plain": [
       "0"
      ]
     },
     "metadata": {},
     "output_type": "display_data"
    },
    {
     "data": {
      "text/plain": [
       "'secondary_cleaner.state.floatbank2_a_air'"
      ]
     },
     "metadata": {},
     "output_type": "display_data"
    },
    {
     "data": {
      "text/plain": [
       "3"
      ]
     },
     "metadata": {},
     "output_type": "display_data"
    },
    {
     "data": {
      "text/plain": [
       "'secondary_cleaner.state.floatbank2_a_level'"
      ]
     },
     "metadata": {},
     "output_type": "display_data"
    },
    {
     "data": {
      "text/plain": [
       "0"
      ]
     },
     "metadata": {},
     "output_type": "display_data"
    },
    {
     "data": {
      "text/plain": [
       "'secondary_cleaner.state.floatbank2_b_air'"
      ]
     },
     "metadata": {},
     "output_type": "display_data"
    },
    {
     "data": {
      "text/plain": [
       "2"
      ]
     },
     "metadata": {},
     "output_type": "display_data"
    },
    {
     "data": {
      "text/plain": [
       "'secondary_cleaner.state.floatbank2_b_level'"
      ]
     },
     "metadata": {},
     "output_type": "display_data"
    },
    {
     "data": {
      "text/plain": [
       "0"
      ]
     },
     "metadata": {},
     "output_type": "display_data"
    },
    {
     "data": {
      "text/plain": [
       "'secondary_cleaner.state.floatbank3_a_air'"
      ]
     },
     "metadata": {},
     "output_type": "display_data"
    },
    {
     "data": {
      "text/plain": [
       "9"
      ]
     },
     "metadata": {},
     "output_type": "display_data"
    },
    {
     "data": {
      "text/plain": [
       "'secondary_cleaner.state.floatbank3_a_level'"
      ]
     },
     "metadata": {},
     "output_type": "display_data"
    },
    {
     "data": {
      "text/plain": [
       "0"
      ]
     },
     "metadata": {},
     "output_type": "display_data"
    },
    {
     "data": {
      "text/plain": [
       "'secondary_cleaner.state.floatbank3_b_air'"
      ]
     },
     "metadata": {},
     "output_type": "display_data"
    },
    {
     "data": {
      "text/plain": [
       "0"
      ]
     },
     "metadata": {},
     "output_type": "display_data"
    },
    {
     "data": {
      "text/plain": [
       "'secondary_cleaner.state.floatbank3_b_level'"
      ]
     },
     "metadata": {},
     "output_type": "display_data"
    },
    {
     "data": {
      "text/plain": [
       "0"
      ]
     },
     "metadata": {},
     "output_type": "display_data"
    },
    {
     "data": {
      "text/plain": [
       "'secondary_cleaner.state.floatbank4_a_air'"
      ]
     },
     "metadata": {},
     "output_type": "display_data"
    },
    {
     "data": {
      "text/plain": [
       "0"
      ]
     },
     "metadata": {},
     "output_type": "display_data"
    },
    {
     "data": {
      "text/plain": [
       "'secondary_cleaner.state.floatbank4_a_level'"
      ]
     },
     "metadata": {},
     "output_type": "display_data"
    },
    {
     "data": {
      "text/plain": [
       "0"
      ]
     },
     "metadata": {},
     "output_type": "display_data"
    },
    {
     "data": {
      "text/plain": [
       "'secondary_cleaner.state.floatbank4_b_air'"
      ]
     },
     "metadata": {},
     "output_type": "display_data"
    },
    {
     "data": {
      "text/plain": [
       "0"
      ]
     },
     "metadata": {},
     "output_type": "display_data"
    },
    {
     "data": {
      "text/plain": [
       "'secondary_cleaner.state.floatbank4_b_level'"
      ]
     },
     "metadata": {},
     "output_type": "display_data"
    },
    {
     "data": {
      "text/plain": [
       "0"
      ]
     },
     "metadata": {},
     "output_type": "display_data"
    },
    {
     "data": {
      "text/plain": [
       "'secondary_cleaner.state.floatbank5_a_air'"
      ]
     },
     "metadata": {},
     "output_type": "display_data"
    },
    {
     "data": {
      "text/plain": [
       "0"
      ]
     },
     "metadata": {},
     "output_type": "display_data"
    },
    {
     "data": {
      "text/plain": [
       "'secondary_cleaner.state.floatbank5_a_level'"
      ]
     },
     "metadata": {},
     "output_type": "display_data"
    },
    {
     "data": {
      "text/plain": [
       "0"
      ]
     },
     "metadata": {},
     "output_type": "display_data"
    },
    {
     "data": {
      "text/plain": [
       "'secondary_cleaner.state.floatbank5_b_air'"
      ]
     },
     "metadata": {},
     "output_type": "display_data"
    },
    {
     "data": {
      "text/plain": [
       "0"
      ]
     },
     "metadata": {},
     "output_type": "display_data"
    },
    {
     "data": {
      "text/plain": [
       "'secondary_cleaner.state.floatbank5_b_level'"
      ]
     },
     "metadata": {},
     "output_type": "display_data"
    },
    {
     "data": {
      "text/plain": [
       "0"
      ]
     },
     "metadata": {},
     "output_type": "display_data"
    },
    {
     "data": {
      "text/plain": [
       "'secondary_cleaner.state.floatbank6_a_air'"
      ]
     },
     "metadata": {},
     "output_type": "display_data"
    },
    {
     "data": {
      "text/plain": [
       "0"
      ]
     },
     "metadata": {},
     "output_type": "display_data"
    },
    {
     "data": {
      "text/plain": [
       "'secondary_cleaner.state.floatbank6_a_level'"
      ]
     },
     "metadata": {},
     "output_type": "display_data"
    },
    {
     "data": {
      "text/plain": [
       "0"
      ]
     },
     "metadata": {},
     "output_type": "display_data"
    },
    {
     "data": {
      "text/plain": [
       "'rougher.output.recovery'"
      ]
     },
     "metadata": {},
     "output_type": "display_data"
    },
    {
     "data": {
      "text/plain": [
       "0"
      ]
     },
     "metadata": {},
     "output_type": "display_data"
    },
    {
     "data": {
      "text/plain": [
       "'final.output.recovery'"
      ]
     },
     "metadata": {},
     "output_type": "display_data"
    },
    {
     "data": {
      "text/plain": [
       "0"
      ]
     },
     "metadata": {},
     "output_type": "display_data"
    },
    {
     "data": {
      "text/plain": [
       "date                                            0\n",
       "final.output.recovery                           0\n",
       "primary_cleaner.input.sulfate                  20\n",
       "primary_cleaner.input.depressant               32\n",
       "primary_cleaner.input.feed_size                 0\n",
       "primary_cleaner.input.xanthate                100\n",
       "primary_cleaner.state.floatbank8_a_air          4\n",
       "primary_cleaner.state.floatbank8_a_level        1\n",
       "primary_cleaner.state.floatbank8_b_air          4\n",
       "primary_cleaner.state.floatbank8_b_level        1\n",
       "primary_cleaner.state.floatbank8_c_air          2\n",
       "primary_cleaner.state.floatbank8_c_level        1\n",
       "primary_cleaner.state.floatbank8_d_air          3\n",
       "primary_cleaner.state.floatbank8_d_level        1\n",
       "rougher.input.feed_ag                           0\n",
       "rougher.input.feed_pb                         100\n",
       "rougher.input.feed_rate                         8\n",
       "rougher.input.feed_size                       144\n",
       "rougher.input.feed_sol                         78\n",
       "rougher.input.feed_au                           0\n",
       "rougher.input.floatbank10_sulfate              29\n",
       "rougher.input.floatbank10_xanthate              8\n",
       "rougher.input.floatbank11_sulfate              36\n",
       "rougher.input.floatbank11_xanthate            428\n",
       "rougher.output.recovery                         0\n",
       "rougher.state.floatbank10_a_air                 1\n",
       "rougher.state.floatbank10_a_level               1\n",
       "rougher.state.floatbank10_b_air                 1\n",
       "rougher.state.floatbank10_b_level               1\n",
       "rougher.state.floatbank10_c_air                 1\n",
       "rougher.state.floatbank10_c_level               1\n",
       "rougher.state.floatbank10_d_air                 0\n",
       "rougher.state.floatbank10_d_level               0\n",
       "rougher.state.floatbank10_e_air               436\n",
       "rougher.state.floatbank10_e_level               0\n",
       "rougher.state.floatbank10_f_air                 0\n",
       "rougher.state.floatbank10_f_level               0\n",
       "secondary_cleaner.state.floatbank2_a_air      217\n",
       "secondary_cleaner.state.floatbank2_a_level      1\n",
       "secondary_cleaner.state.floatbank2_b_air       21\n",
       "secondary_cleaner.state.floatbank2_b_level      1\n",
       "secondary_cleaner.state.floatbank3_a_air        4\n",
       "secondary_cleaner.state.floatbank3_a_level      1\n",
       "secondary_cleaner.state.floatbank3_b_air        1\n",
       "secondary_cleaner.state.floatbank3_b_level      1\n",
       "secondary_cleaner.state.floatbank4_a_air        6\n",
       "secondary_cleaner.state.floatbank4_a_level      1\n",
       "secondary_cleaner.state.floatbank4_b_air        1\n",
       "secondary_cleaner.state.floatbank4_b_level      1\n",
       "secondary_cleaner.state.floatbank5_a_air        1\n",
       "secondary_cleaner.state.floatbank5_a_level      1\n",
       "secondary_cleaner.state.floatbank5_b_air        1\n",
       "secondary_cleaner.state.floatbank5_b_level      1\n",
       "secondary_cleaner.state.floatbank6_a_air        2\n",
       "secondary_cleaner.state.floatbank6_a_level      1\n",
       "dtype: int64"
      ]
     },
     "metadata": {},
     "output_type": "display_data"
    },
    {
     "data": {
      "text/plain": [
       "date                                           0\n",
       "primary_cleaner.input.sulfate                  4\n",
       "primary_cleaner.input.depressant               5\n",
       "primary_cleaner.input.feed_size                0\n",
       "primary_cleaner.input.xanthate                 4\n",
       "primary_cleaner.state.floatbank8_a_air         0\n",
       "primary_cleaner.state.floatbank8_a_level       0\n",
       "primary_cleaner.state.floatbank8_b_air         0\n",
       "primary_cleaner.state.floatbank8_b_level       0\n",
       "primary_cleaner.state.floatbank8_c_air         0\n",
       "primary_cleaner.state.floatbank8_c_level       0\n",
       "primary_cleaner.state.floatbank8_d_air         0\n",
       "primary_cleaner.state.floatbank8_d_level       0\n",
       "rougher.input.feed_ag                          0\n",
       "rougher.input.feed_pb                          0\n",
       "rougher.input.feed_rate                        3\n",
       "rougher.input.feed_size                        1\n",
       "rougher.input.feed_sol                        21\n",
       "rougher.input.feed_au                          0\n",
       "rougher.input.floatbank10_sulfate              5\n",
       "rougher.input.floatbank10_xanthate             0\n",
       "rougher.input.floatbank11_sulfate              8\n",
       "rougher.input.floatbank11_xanthate            25\n",
       "rougher.state.floatbank10_a_air                0\n",
       "rougher.state.floatbank10_a_level              0\n",
       "rougher.state.floatbank10_b_air                0\n",
       "rougher.state.floatbank10_b_level              0\n",
       "rougher.state.floatbank10_c_air                0\n",
       "rougher.state.floatbank10_c_level              0\n",
       "rougher.state.floatbank10_d_air                0\n",
       "rougher.state.floatbank10_d_level              0\n",
       "rougher.state.floatbank10_e_air                0\n",
       "rougher.state.floatbank10_e_level              0\n",
       "rougher.state.floatbank10_f_air                0\n",
       "rougher.state.floatbank10_f_level              0\n",
       "secondary_cleaner.state.floatbank2_a_air       3\n",
       "secondary_cleaner.state.floatbank2_a_level     0\n",
       "secondary_cleaner.state.floatbank2_b_air       2\n",
       "secondary_cleaner.state.floatbank2_b_level     0\n",
       "secondary_cleaner.state.floatbank3_a_air       9\n",
       "secondary_cleaner.state.floatbank3_a_level     0\n",
       "secondary_cleaner.state.floatbank3_b_air       0\n",
       "secondary_cleaner.state.floatbank3_b_level     0\n",
       "secondary_cleaner.state.floatbank4_a_air       0\n",
       "secondary_cleaner.state.floatbank4_a_level     0\n",
       "secondary_cleaner.state.floatbank4_b_air       0\n",
       "secondary_cleaner.state.floatbank4_b_level     0\n",
       "secondary_cleaner.state.floatbank5_a_air       0\n",
       "secondary_cleaner.state.floatbank5_a_level     0\n",
       "secondary_cleaner.state.floatbank5_b_air       0\n",
       "secondary_cleaner.state.floatbank5_b_level     0\n",
       "secondary_cleaner.state.floatbank6_a_air       0\n",
       "secondary_cleaner.state.floatbank6_a_level     0\n",
       "rougher.output.recovery                        0\n",
       "final.output.recovery                          0\n",
       "dtype: int64"
      ]
     },
     "metadata": {},
     "output_type": "display_data"
    }
   ],
   "source": [
    "data_train.info()\n",
    "data_test.info()\n",
    "\n",
    "# Добавил в тестовую выборку целевые признаки из full_data ['rougher.output.recovery' и 'final.output.recovery']\n",
    "data_test = data_test.merge(data_full[['date', 'rougher.output.recovery','final.output.recovery']], on='date')\n",
    "\n",
    "# Оставил в обучающей выборке признаки такие же как и в тестовой.\n",
    "\n",
    "other_columns=set(data_full.columns)-set(data_test.columns)\n",
    "other_columns = list(other_columns)\n",
    "\n",
    "for column in other_columns:\n",
    "    data_train = data_train.drop([column], axis=1)\n",
    "    \n",
    "display(data_test.shape)   \n",
    "\n",
    "# считаю сколько пропусков в каждом столбце\n",
    "\n",
    "def empty_str(data):\n",
    "    for i in data.columns:\n",
    "        display(i, data[i].isna().sum())    \n",
    "        \n",
    "\n",
    "empty_str(data_train)\n",
    "\n",
    "empty_str(data_test)   \n",
    "\n",
    "display(data_train.isna().sum(), data_test.isna().sum())#, sep='\\n')\n",
    "\n",
    "# Чтобы не терять данные, использую метод .fillna с параметром ffill\n",
    "\n",
    "data_train = data_train.fillna(method='ffill')\n",
    "data_test = data_test.fillna(method='ffill')"
   ]
  },
  {
   "cell_type": "code",
   "execution_count": 6,
   "metadata": {},
   "outputs": [
    {
     "data": {
      "text/plain": [
       "date                                          0\n",
       "final.output.recovery                         0\n",
       "primary_cleaner.input.sulfate                 0\n",
       "primary_cleaner.input.depressant              0\n",
       "primary_cleaner.input.feed_size               0\n",
       "primary_cleaner.input.xanthate                0\n",
       "primary_cleaner.state.floatbank8_a_air        0\n",
       "primary_cleaner.state.floatbank8_a_level      0\n",
       "primary_cleaner.state.floatbank8_b_air        0\n",
       "primary_cleaner.state.floatbank8_b_level      0\n",
       "primary_cleaner.state.floatbank8_c_air        0\n",
       "primary_cleaner.state.floatbank8_c_level      0\n",
       "primary_cleaner.state.floatbank8_d_air        0\n",
       "primary_cleaner.state.floatbank8_d_level      0\n",
       "rougher.input.feed_ag                         0\n",
       "rougher.input.feed_pb                         0\n",
       "rougher.input.feed_rate                       0\n",
       "rougher.input.feed_size                       0\n",
       "rougher.input.feed_sol                        0\n",
       "rougher.input.feed_au                         0\n",
       "rougher.input.floatbank10_sulfate             0\n",
       "rougher.input.floatbank10_xanthate            0\n",
       "rougher.input.floatbank11_sulfate             0\n",
       "rougher.input.floatbank11_xanthate            0\n",
       "rougher.output.recovery                       0\n",
       "rougher.state.floatbank10_a_air               0\n",
       "rougher.state.floatbank10_a_level             0\n",
       "rougher.state.floatbank10_b_air               0\n",
       "rougher.state.floatbank10_b_level             0\n",
       "rougher.state.floatbank10_c_air               0\n",
       "rougher.state.floatbank10_c_level             0\n",
       "rougher.state.floatbank10_d_air               0\n",
       "rougher.state.floatbank10_d_level             0\n",
       "rougher.state.floatbank10_e_air               0\n",
       "rougher.state.floatbank10_e_level             0\n",
       "rougher.state.floatbank10_f_air               0\n",
       "rougher.state.floatbank10_f_level             0\n",
       "secondary_cleaner.state.floatbank2_a_air      0\n",
       "secondary_cleaner.state.floatbank2_a_level    0\n",
       "secondary_cleaner.state.floatbank2_b_air      0\n",
       "secondary_cleaner.state.floatbank2_b_level    0\n",
       "secondary_cleaner.state.floatbank3_a_air      0\n",
       "secondary_cleaner.state.floatbank3_a_level    0\n",
       "secondary_cleaner.state.floatbank3_b_air      0\n",
       "secondary_cleaner.state.floatbank3_b_level    0\n",
       "secondary_cleaner.state.floatbank4_a_air      0\n",
       "secondary_cleaner.state.floatbank4_a_level    0\n",
       "secondary_cleaner.state.floatbank4_b_air      0\n",
       "secondary_cleaner.state.floatbank4_b_level    0\n",
       "secondary_cleaner.state.floatbank5_a_air      0\n",
       "secondary_cleaner.state.floatbank5_a_level    0\n",
       "secondary_cleaner.state.floatbank5_b_air      0\n",
       "secondary_cleaner.state.floatbank5_b_level    0\n",
       "secondary_cleaner.state.floatbank6_a_air      0\n",
       "secondary_cleaner.state.floatbank6_a_level    0\n",
       "dtype: int64"
      ]
     },
     "metadata": {},
     "output_type": "display_data"
    },
    {
     "data": {
      "text/plain": [
       "date                                          0\n",
       "primary_cleaner.input.sulfate                 0\n",
       "primary_cleaner.input.depressant              0\n",
       "primary_cleaner.input.feed_size               0\n",
       "primary_cleaner.input.xanthate                0\n",
       "primary_cleaner.state.floatbank8_a_air        0\n",
       "primary_cleaner.state.floatbank8_a_level      0\n",
       "primary_cleaner.state.floatbank8_b_air        0\n",
       "primary_cleaner.state.floatbank8_b_level      0\n",
       "primary_cleaner.state.floatbank8_c_air        0\n",
       "primary_cleaner.state.floatbank8_c_level      0\n",
       "primary_cleaner.state.floatbank8_d_air        0\n",
       "primary_cleaner.state.floatbank8_d_level      0\n",
       "rougher.input.feed_ag                         0\n",
       "rougher.input.feed_pb                         0\n",
       "rougher.input.feed_rate                       0\n",
       "rougher.input.feed_size                       0\n",
       "rougher.input.feed_sol                        0\n",
       "rougher.input.feed_au                         0\n",
       "rougher.input.floatbank10_sulfate             0\n",
       "rougher.input.floatbank10_xanthate            0\n",
       "rougher.input.floatbank11_sulfate             0\n",
       "rougher.input.floatbank11_xanthate            0\n",
       "rougher.state.floatbank10_a_air               0\n",
       "rougher.state.floatbank10_a_level             0\n",
       "rougher.state.floatbank10_b_air               0\n",
       "rougher.state.floatbank10_b_level             0\n",
       "rougher.state.floatbank10_c_air               0\n",
       "rougher.state.floatbank10_c_level             0\n",
       "rougher.state.floatbank10_d_air               0\n",
       "rougher.state.floatbank10_d_level             0\n",
       "rougher.state.floatbank10_e_air               0\n",
       "rougher.state.floatbank10_e_level             0\n",
       "rougher.state.floatbank10_f_air               0\n",
       "rougher.state.floatbank10_f_level             0\n",
       "secondary_cleaner.state.floatbank2_a_air      0\n",
       "secondary_cleaner.state.floatbank2_a_level    0\n",
       "secondary_cleaner.state.floatbank2_b_air      0\n",
       "secondary_cleaner.state.floatbank2_b_level    0\n",
       "secondary_cleaner.state.floatbank3_a_air      0\n",
       "secondary_cleaner.state.floatbank3_a_level    0\n",
       "secondary_cleaner.state.floatbank3_b_air      0\n",
       "secondary_cleaner.state.floatbank3_b_level    0\n",
       "secondary_cleaner.state.floatbank4_a_air      0\n",
       "secondary_cleaner.state.floatbank4_a_level    0\n",
       "secondary_cleaner.state.floatbank4_b_air      0\n",
       "secondary_cleaner.state.floatbank4_b_level    0\n",
       "secondary_cleaner.state.floatbank5_a_air      0\n",
       "secondary_cleaner.state.floatbank5_a_level    0\n",
       "secondary_cleaner.state.floatbank5_b_air      0\n",
       "secondary_cleaner.state.floatbank5_b_level    0\n",
       "secondary_cleaner.state.floatbank6_a_air      0\n",
       "secondary_cleaner.state.floatbank6_a_level    0\n",
       "rougher.output.recovery                       0\n",
       "final.output.recovery                         0\n",
       "dtype: int64"
      ]
     },
     "metadata": {},
     "output_type": "display_data"
    }
   ],
   "source": [
    "# проверяю ещё раз\n",
    "display(data_train.isna().sum(), data_test.isna().sum())"
   ]
  },
  {
   "cell_type": "markdown",
   "metadata": {},
   "source": [
    "## Анализ данных"
   ]
  },
  {
   "cell_type": "markdown",
   "metadata": {},
   "source": [
    "### Посмотрите, как меняется концентрация металлов (Au, Ag, Pb) на различных этапах очистки"
   ]
  },
  {
   "cell_type": "code",
   "execution_count": 7,
   "metadata": {},
   "outputs": [
    {
     "data": {
      "text/plain": [
       "'Концентрация золота после грубой очистки: '"
      ]
     },
     "metadata": {},
     "output_type": "display_data"
    },
    {
     "data": {
      "text/plain": [
       "19.772000139486334"
      ]
     },
     "metadata": {},
     "output_type": "display_data"
    },
    {
     "data": {
      "text/plain": [
       "'Концентрация золота после первичной очистки: '"
      ]
     },
     "metadata": {},
     "output_type": "display_data"
    },
    {
     "data": {
      "text/plain": [
       "32.1194004078766"
      ]
     },
     "metadata": {},
     "output_type": "display_data"
    },
    {
     "data": {
      "text/plain": [
       "'Концентрация золота финальной очистки: '"
      ]
     },
     "metadata": {},
     "output_type": "display_data"
    },
    {
     "data": {
      "text/plain": [
       "44.076512941952664"
      ]
     },
     "metadata": {},
     "output_type": "display_data"
    },
    {
     "data": {
      "text/plain": [
       "'Концентрация cеребра после грубой очистки: '"
      ]
     },
     "metadata": {},
     "output_type": "display_data"
    },
    {
     "data": {
      "text/plain": [
       "11.994759359873452"
      ]
     },
     "metadata": {},
     "output_type": "display_data"
    },
    {
     "data": {
      "text/plain": [
       "'Концентрация cеребра после первичной очистки: '"
      ]
     },
     "metadata": {},
     "output_type": "display_data"
    },
    {
     "data": {
      "text/plain": [
       "8.442408077719056"
      ]
     },
     "metadata": {},
     "output_type": "display_data"
    },
    {
     "data": {
      "text/plain": [
       "'Концентрация cеребра финальной очистки: '"
      ]
     },
     "metadata": {},
     "output_type": "display_data"
    },
    {
     "data": {
      "text/plain": [
       "5.168470373676826"
      ]
     },
     "metadata": {},
     "output_type": "display_data"
    },
    {
     "data": {
      "text/plain": [
       "'Концентрация свинца после грубой очистки: '"
      ]
     },
     "metadata": {},
     "output_type": "display_data"
    },
    {
     "data": {
      "text/plain": [
       "7.606272313194984"
      ]
     },
     "metadata": {},
     "output_type": "display_data"
    },
    {
     "data": {
      "text/plain": [
       "'Концентрация свинца после первичной очистки: '"
      ]
     },
     "metadata": {},
     "output_type": "display_data"
    },
    {
     "data": {
      "text/plain": [
       "9.829529774200587"
      ]
     },
     "metadata": {},
     "output_type": "display_data"
    },
    {
     "data": {
      "text/plain": [
       "'Концентрация свинца финальной очистки: '"
      ]
     },
     "metadata": {},
     "output_type": "display_data"
    },
    {
     "data": {
      "text/plain": [
       "9.978894911181714"
      ]
     },
     "metadata": {},
     "output_type": "display_data"
    },
    {
     "data": {
      "image/png": "[encoded data removed]",
      "text/plain": [
       "<Figure size 1080x540 with 1 Axes>"
      ]
     },
     "metadata": {
      "needs_background": "light"
     },
     "output_type": "display_data"
    },
    {
     "data": {
      "image/png": "[encoded data removed]",
      "text/plain": [
       "<Figure size 1080x540 with 1 Axes>"
      ]
     },
     "metadata": {
      "needs_background": "light"
     },
     "output_type": "display_data"
    },
    {
     "data": {
      "image/png": "[encoded data removed]",
      "text/plain": [
       "<Figure size 1080x540 with 1 Axes>"
      ]
     },
     "metadata": {
      "needs_background": "light"
     },
     "output_type": "display_data"
    }
   ],
   "source": [
    "data_concentrate = data_full[['rougher.output.concentrate_au', \n",
    "                              'primary_cleaner.output.concentrate_au', \n",
    "                              'final.output.concentrate_au', \n",
    "                              'rougher.output.concentrate_ag', \n",
    "                              'primary_cleaner.output.concentrate_ag', \n",
    "                              'final.output.concentrate_ag', \n",
    "                              'rougher.output.concentrate_pb', \n",
    "                              'primary_cleaner.output.concentrate_pb', \n",
    "                              'final.output.concentrate_pb']]\n",
    "\n",
    "count = 0\n",
    "out = ['Концентрация {} после грубой очистки: ', \n",
    "       'Концентрация {} после первичной очистки: ', \n",
    "       'Концентрация {} финальной очистки: '\n",
    "       ]\n",
    "name = ['золота', 'cеребра', 'свинца']\n",
    "\n",
    "data_concentrate_mean = np.mean(data_concentrate) # для графиков\n",
    "\n",
    "for i, j in zip(np.mean(data_concentrate), out * 3):\n",
    "    display(j.format(name[count // 3]), i)\n",
    "    count += 1\n",
    "    \n",
    "        \n",
    "n = 0\n",
    "levels = ['После флотации', 'После первого этапа очистки', 'После второго этапа очистки']\n",
    "for i in range(3):\n",
    "    plt.figure(figsize=(12, 6), dpi= 90)\n",
    "    data_concentrate_mean[n:n + 3].plot(kind = 'bar',\n",
    "                                        x = [data_concentrate_mean[n], \n",
    "                                             data_concentrate_mean[n+1], \n",
    "                                             data_concentrate_mean[n+2]], \n",
    "                                        grid = True, \n",
    "                                        alpha = 0.6\n",
    "                                        )\n",
    "    plt.ylabel('Концентрация')\n",
    "    plt.xlabel('Этапы очистки')     \n",
    "    for i, val in enumerate(data_concentrate_mean[n:n + 3].values.round(2)):\n",
    "        plt.text(i, \n",
    "                 val, \n",
    "                 float(val), \n",
    "                 horizontalalignment='center', \n",
    "                 verticalalignment='bottom', \n",
    "                 fontdict={'fontweight':500, 'size':12})                 \n",
    "    plt.gca().set_xticklabels(levels, rotation=30, horizontalalignment= 'right')\n",
    "    plt.show()\n",
    "    n += 3"
   ]
  },
  {
   "cell_type": "markdown",
   "metadata": {},
   "source": [
    "    Вывод: концентрация золота растет, что логично, в этом и состоит производственный процесс концентрация серебра снижается, что тоже нормально, а количество свинца увеличивается, хоть и немного(наверно), но растет\n"
   ]
  },
  {
   "cell_type": "markdown",
   "metadata": {},
   "source": [
    "### Сравните распределения размеров гранул сырья на обучающей и тестовой выборках"
   ]
  },
  {
   "cell_type": "code",
   "execution_count": 8,
   "metadata": {
    "scrolled": true
   },
   "outputs": [
    {
     "data": {
      "text/plain": [
       "count    5290.000000\n",
       "mean       55.952754\n",
       "std        19.080334\n",
       "min         0.046369\n",
       "25%        43.906504\n",
       "50%        50.846843\n",
       "75%        62.451165\n",
       "max       392.494040\n",
       "Name: rougher.input.feed_size, dtype: float64"
      ]
     },
     "metadata": {},
     "output_type": "display_data"
    },
    {
     "data": {
      "text/plain": [
       "count    14149.000000\n",
       "mean        60.239856\n",
       "std         23.005310\n",
       "min          9.659576\n",
       "25%         48.966751\n",
       "50%         55.269784\n",
       "75%         66.007526\n",
       "max        484.967466\n",
       "Name: rougher.input.feed_size, dtype: float64"
      ]
     },
     "metadata": {},
     "output_type": "display_data"
    },
    {
     "data": {
      "image/png": "[encoded data removed]",
      "text/plain": [
       "<Figure size 1350x630 with 2 Axes>"
      ]
     },
     "metadata": {
      "needs_background": "light"
     },
     "output_type": "display_data"
    },
    {
     "data": {
      "text/plain": [
       "count    5290.000000\n",
       "mean       55.952754\n",
       "std        19.080334\n",
       "min         0.046369\n",
       "25%        43.906504\n",
       "50%        50.846843\n",
       "75%        62.451165\n",
       "max       392.494040\n",
       "Name: rougher.input.feed_size, dtype: float64"
      ]
     },
     "metadata": {},
     "output_type": "display_data"
    },
    {
     "data": {
      "text/plain": [
       "count    14149.000000\n",
       "mean        60.239856\n",
       "std         23.005310\n",
       "min          9.659576\n",
       "25%         48.966751\n",
       "50%         55.269784\n",
       "75%         66.007526\n",
       "max        484.967466\n",
       "Name: rougher.input.feed_size, dtype: float64"
      ]
     },
     "metadata": {},
     "output_type": "display_data"
    }
   ],
   "source": [
    "# rougher.input.feed_size размер гранул на подаче грубой очистки\n",
    "# primary_cleaner.input.feed_size размер на подче первой очистки\n",
    "\n",
    "\n",
    "display(data_test['rougher.input.feed_size'].describe())\n",
    "\n",
    "display(data_train['rougher.input.feed_size'].describe())\n",
    "\n",
    "fig, (ax_box_0, ax_box_1) = plt.subplots(2, sharex=True, figsize=(15, 7), dpi= 90)\n",
    "\n",
    "sns.boxplot(data_train['rougher.input.feed_size'], ax=ax_box_0)\n",
    "sns.boxplot(data_test['rougher.input.feed_size'], ax=ax_box_1)\n",
    "\n",
    "plt.show()\n",
    "\n",
    "display(data_test['rougher.input.feed_size'].describe(), \n",
    "      data_train['rougher.input.feed_size'].describe(), \n",
    "      #sep='\\n'\n",
    "      )"
   ]
  },
  {
   "cell_type": "markdown",
   "metadata": {},
   "source": [
    "    Вывод: размер гранул отличается, в тестовой выборке они меньше, средние и медианы отличаются на 5, при максимальных зачениях 392(test) и 484(train)"
   ]
  },
  {
   "cell_type": "markdown",
   "metadata": {},
   "source": [
    "### Исследуйте суммарную концентрацию всех веществ на разных стадиях"
   ]
  },
  {
   "cell_type": "code",
   "execution_count": 9,
   "metadata": {
    "scrolled": true
   },
   "outputs": [
    {
     "data": {
      "text/plain": [
       "765372.3654042522"
      ]
     },
     "metadata": {},
     "output_type": "display_data"
    },
    {
     "data": {
      "text/plain": [
       "978416.9989783718"
      ]
     },
     "metadata": {},
     "output_type": "display_data"
    },
    {
     "data": {
      "text/plain": [
       "1151237.821485698"
      ]
     },
     "metadata": {},
     "output_type": "display_data"
    },
    {
     "data": {
      "text/plain": [
       "'После флотации cуммарная концентрация составила: 765372.37'"
      ]
     },
     "metadata": {},
     "output_type": "display_data"
    },
    {
     "data": {
      "text/plain": [
       "'После первого этапа очистки cуммарная концентрация составила: 978417.0'"
      ]
     },
     "metadata": {},
     "output_type": "display_data"
    },
    {
     "data": {
      "text/plain": [
       "'После второго этапа очистки cуммарная концентрация составила: 1151237.82'"
      ]
     },
     "metadata": {},
     "output_type": "display_data"
    },
    {
     "data": {
      "image/png": "[encoded data removed]",
      "text/plain": [
       "<Figure size 900x540 with 1 Axes>"
      ]
     },
     "metadata": {
      "needs_background": "light"
     },
     "output_type": "display_data"
    }
   ],
   "source": [
    "count = 0\n",
    "out = '{} cуммарная концентрация составила: {}'\n",
    "\n",
    "data_concentrate_sum = np.sum(data_concentrate) # для графиков\n",
    "data_concentrate_sum_plot = []\n",
    "for i in range(3):\n",
    "    display(np.sum([data_concentrate_sum[count], \n",
    "                 data_concentrate_sum[count + 3], \n",
    "                 data_concentrate_sum[count + 6]]))\n",
    "    count += 1                \n",
    "count = 0\n",
    "for i in levels:\n",
    "    display(out.format(i, np.sum([data_concentrate_sum[count], \n",
    "                                     data_concentrate_sum[count + 3], \n",
    "                                     data_concentrate_sum[count + 6]]).round(2)))\n",
    "    data_concentrate_sum_plot.append(np.sum([data_concentrate_sum[count], \n",
    "                                     data_concentrate_sum[count + 3], \n",
    "                                     data_concentrate_sum[count + 6]]))\n",
    "    count += 1\n",
    "\n",
    "\n",
    "data_concentrate_sum_plot = pd.Series(data_concentrate_sum_plot)\n",
    "\n",
    "\n",
    "plt.figure(figsize=(10, 6), dpi = 90)\n",
    "data_concentrate_sum_plot.plot(\n",
    "    kind = 'bar',\n",
    "    x = data_concentrate_sum_plot, \n",
    "    grid = True, \n",
    "    alpha = 0.6\n",
    "    )\n",
    "plt.ylabel('Суммарная концентрация')\n",
    "plt.xlabel('Этапы очистки')     \n",
    "for i, val in enumerate(data_concentrate_sum_plot.values.round(2)):\n",
    "    plt.text(\n",
    "        i, \n",
    "        val, \n",
    "        float(val), \n",
    "        horizontalalignment='center', \n",
    "        verticalalignment='bottom', \n",
    "        fontdict={'fontweight':500, 'size':12}\n",
    "    )\n",
    "plt.gca().set_xticklabels(levels, rotation=30, horizontalalignment = 'right')\n",
    "plt.show()"
   ]
  },
  {
   "cell_type": "code",
   "execution_count": 10,
   "metadata": {},
   "outputs": [
    {
     "data": {
      "text/plain": [
       "['final.output.concentrate_ag',\n",
       " 'final.output.concentrate_pb',\n",
       " 'final.output.concentrate_sol',\n",
       " 'final.output.concentrate_au',\n",
       " 'primary_cleaner.output.concentrate_ag',\n",
       " 'primary_cleaner.output.concentrate_pb',\n",
       " 'primary_cleaner.output.concentrate_sol',\n",
       " 'primary_cleaner.output.concentrate_au',\n",
       " 'rougher.calculation.sulfate_to_au_concentrate',\n",
       " 'rougher.output.concentrate_ag',\n",
       " 'rougher.output.concentrate_pb',\n",
       " 'rougher.output.concentrate_sol',\n",
       " 'rougher.output.concentrate_au']"
      ]
     },
     "metadata": {},
     "output_type": "display_data"
    },
    {
     "data": {
      "text/plain": [
       "['primary_cleaner.input.sulfate',\n",
       " 'primary_cleaner.input.depressant',\n",
       " 'primary_cleaner.input.feed_size',\n",
       " 'primary_cleaner.input.xanthate',\n",
       " 'rougher.input.feed_ag',\n",
       " 'rougher.input.feed_pb',\n",
       " 'rougher.input.feed_rate',\n",
       " 'rougher.input.feed_size',\n",
       " 'rougher.input.feed_sol',\n",
       " 'rougher.input.feed_au',\n",
       " 'rougher.input.floatbank10_sulfate',\n",
       " 'rougher.input.floatbank10_xanthate',\n",
       " 'rougher.input.floatbank11_sulfate',\n",
       " 'rougher.input.floatbank11_xanthate']"
      ]
     },
     "metadata": {},
     "output_type": "display_data"
    },
    {
     "name": "stdout",
     "output_type": "stream",
     "text": [
      "     sum_conc_final  sum_primary_cleaner  sum_rougher  sum_input\n",
      "min             0.0                  0.0          0.0       0.04\n"
     ]
    }
   ],
   "source": [
    "data_all_concentrate = data_full.copy()\n",
    "\n",
    "concentrate = []\n",
    "for i in data_all_concentrate.columns:\n",
    "    if 'concentrate' in i:        \n",
    "        concentrate.append(i)\n",
    "display(concentrate)\n",
    "\n",
    "# Нашёл данные несущие информацию о концентрации веществ после каждой стадии\n",
    "\n",
    "feed_input = []\n",
    "for i in data_all_concentrate.columns:\n",
    "    if 'input' in i:        \n",
    "        feed_input.append(i)\n",
    "display(feed_input)\n",
    "\n",
    "# Нашёл данные несущие информацию о концентрации веществ вначале процесса очистки.\n",
    "\n",
    "data_all_concentrate['sum_conc_final'] = data_all_concentrate[[\n",
    "    'final.output.concentrate_ag',\n",
    "    'final.output.concentrate_pb',\n",
    "    'final.output.concentrate_sol',\n",
    "    'final.output.concentrate_au'\n",
    "]].sum(axis=1)\n",
    "    \n",
    "data_all_concentrate['sum_primary_cleaner'] = data_all_concentrate[[\n",
    "    'primary_cleaner.output.concentrate_ag',\n",
    "    'primary_cleaner.output.concentrate_pb',\n",
    "    'primary_cleaner.output.concentrate_sol',\n",
    "    'primary_cleaner.output.concentrate_au'\n",
    "]].sum(axis=1)\n",
    "\n",
    "data_all_concentrate['sum_rougher'] = data_all_concentrate[[\n",
    "    'rougher.output.concentrate_ag',\n",
    "    'rougher.output.concentrate_pb',\n",
    "    'rougher.output.concentrate_sol',\n",
    "    'rougher.output.concentrate_au'\n",
    "]].sum(axis=1)\n",
    "\n",
    "data_all_concentrate['sum_input'] = data_all_concentrate[[\n",
    "    'rougher.input.feed_ag',\n",
    "    'rougher.input.feed_pb',\n",
    "    'rougher.input.feed_sol',\n",
    "    'rougher.input.feed_au'\n",
    "]].sum(axis=1)\n",
    "\n",
    "print(data_all_concentrate[['sum_conc_final', 'sum_primary_cleaner', 'sum_rougher','sum_input']].describe().loc[['min']])"
   ]
  },
  {
   "cell_type": "markdown",
   "metadata": {},
   "source": [
    "    В данных присутствуют нулевые значения. Эти означает, что в какой-то момент установка была пуста, и неизвестно шел ли процесс обработки, либо это ошибка измерений. \n",
    "    Удалим нулевые значения в данных сырья поступающего на очистку и в целевых признаках. Так же удалим пропуски в данных"
   ]
  },
  {
   "cell_type": "code",
   "execution_count": 11,
   "metadata": {},
   "outputs": [],
   "source": [
    "data_train_good = data_train.copy()\n",
    "data_test_good = data_test.copy()\n",
    "data_train_good.replace(0, np.nan, inplace=True)\n",
    "data_test_good.replace(0, np.nan, inplace=True)\n",
    "\n",
    "data_train_good = data_train.dropna()\n",
    "data_test_good = data_test.dropna()\n",
    "data_train_good = data_train_good.reset_index(drop=True)\n",
    "data_test_good = data_test_good.reset_index(drop=True)"
   ]
  },
  {
   "cell_type": "markdown",
   "metadata": {},
   "source": [
    "## Модель"
   ]
  },
  {
   "cell_type": "markdown",
   "metadata": {},
   "source": [
    "### Напишите функцию для вычисления итоговой sMAPE."
   ]
  },
  {
   "cell_type": "code",
   "execution_count": 12,
   "metadata": {},
   "outputs": [],
   "source": [
    "def total_smape(smape_rougher,smape_final):\n",
    "    return 0.25*smape_rougher + 0.75*smape_final"
   ]
  },
  {
   "cell_type": "markdown",
   "metadata": {},
   "source": [
    "### Обучите разные модели и оцените их качество кросс-валидацией. Выберите лучшую модель и проверьте её на тестовой выборке."
   ]
  },
  {
   "cell_type": "code",
   "execution_count": 13,
   "metadata": {},
   "outputs": [
    {
     "data": {
      "text/plain": [
       "(14149, 55)"
      ]
     },
     "execution_count": 13,
     "metadata": {},
     "output_type": "execute_result"
    }
   ],
   "source": [
    "data_train_good.shape"
   ]
  },
  {
   "cell_type": "code",
   "execution_count": 14,
   "metadata": {},
   "outputs": [
    {
     "data": {
      "text/plain": [
       "(5290, 55)"
      ]
     },
     "execution_count": 14,
     "metadata": {},
     "output_type": "execute_result"
    }
   ],
   "source": [
    "data_test_good.shape"
   ]
  },
  {
   "cell_type": "code",
   "execution_count": 15,
   "metadata": {},
   "outputs": [],
   "source": [
    "# Для обучающих и тестовых данных извлек признаки и целевой признак.\n",
    "# Целевой признак -'rougher.output.recovery' -\n",
    "\n",
    "features_train_rougher = data_train_good.drop(['rougher.output.recovery','final.output.recovery','date'], axis=1)\n",
    "target_train_rougher = data_train_good['rougher.output.recovery'] \n",
    "features_test_rougher = data_test_good.drop(['rougher.output.recovery','final.output.recovery','date'], axis=1) \n",
    "target_test_rougher = data_test_good['rougher.output.recovery']\n",
    "\n",
    "# Целевой признак -'final.output.recovery'-\n",
    "\n",
    "features_train_final = data_train_good.drop(['rougher.output.recovery','final.output.recovery','date'], axis=1)\n",
    "target_train_final = data_train_good['final.output.recovery'] \n",
    "features_test_final = data_test_good.drop(['rougher.output.recovery','final.output.recovery','date'], axis=1)\n",
    "target_test_final = data_test_good['final.output.recovery']"
   ]
  },
  {
   "cell_type": "code",
   "execution_count": 16,
   "metadata": {},
   "outputs": [],
   "source": [
    "# Создал объект структуры StandardScaler() и настроил его на обучающих данных и смасштабировал численные признаки.\n",
    "\n",
    "def scale(features_train, features_test):\n",
    "    scaler = StandardScaler()\n",
    "    cols_train = features_train.columns\n",
    "    cols_test = features_test.columns\n",
    "    scaler.fit(features_train[cols_train])\n",
    "    features_train[cols_train] = scaler.transform(features_train[cols_train])\n",
    "    features_test[cols_test] = scaler.transform(features_test[cols_test])\n",
    "    pd.options.mode.chained_assignment = None\n",
    "    \n",
    "    return features_train, features_test\n",
    "\n",
    "features_train_rougher, features_test_rougher = scale(features_train_rougher, features_test_rougher)\n",
    "features_train_final, features_test_final = scale(features_train_final, features_test_final)"
   ]
  },
  {
   "cell_type": "code",
   "execution_count": 17,
   "metadata": {},
   "outputs": [],
   "source": [
    "# Написал функцию для обучения модели и проверки качества кросс-валидацией, а так же нахождние итоговой sMAPE.\n",
    "\n",
    "def smape(target,predictions):\n",
    "    numerator = abs(predictions - target)\n",
    "    divider = (abs(target) + abs(predictions)) / 2\n",
    "    summa = (numerator / divider).sum()\n",
    "    smape = (1 / len(target)) * summa * 100\n",
    "    return smape\n",
    "\n",
    "def ml(model):  \n",
    "    model.fit(features_train_rougher, target_train_rougher)\n",
    "    predicted_train_rougher = model.predict(features_train_rougher)\n",
    "    smape_rougher = (cross_val_score(\n",
    "        model, \n",
    "        features_train_rougher, \n",
    "        target_train_rougher, \n",
    "        cv = 5, \n",
    "        scoring = make_scorer(\n",
    "            smape, \n",
    "            greater_is_better = False\n",
    "        )\n",
    "    ).mean())\n",
    "    \n",
    "    model.fit(features_train_final, target_train_final)\n",
    "    predicted_train_final = model.predict(features_train_final)        \n",
    "    smape_final = (cross_val_score(\n",
    "        model, \n",
    "        features_train_final, \n",
    "        target_train_final, \n",
    "        cv = 5, \n",
    "        scoring = make_scorer(\n",
    "            smape, \n",
    "            greater_is_better = False\n",
    "        )\n",
    "    ).mean())\n",
    "    \n",
    "    tot_smape = total_smape(smape_rougher,smape_final)     \n",
    "    \n",
    "    return tot_smape, smape_rougher, smape_final"
   ]
  },
  {
   "cell_type": "code",
   "execution_count": 18,
   "metadata": {},
   "outputs": [
    {
     "name": "stdout",
     "output_type": "stream",
     "text": [
      "Средняя оценка качества модели линейной регрессии после флотации: 12.802483458481984\n",
      "Средняя оценка качества модели линейной регрессии после финальной обработки: 12.245300320302253\n",
      "sMAPE_FINAL: 12.384596104847187\n"
     ]
    }
   ],
   "source": [
    "model = LinearRegression()\n",
    "tot_smape, smape_rougher, smape_final = ml(model)\n",
    "print('Средняя оценка качества модели линейной регрессии после флотации: {}'.format(-smape_rougher))\n",
    "print('Средняя оценка качества модели линейной регрессии после финальной обработки: {}'.format(-smape_final))\n",
    "print('sMAPE_FINAL: {}'.format(-tot_smape))"
   ]
  },
  {
   "cell_type": "code",
   "execution_count": 19,
   "metadata": {},
   "outputs": [
    {
     "name": "stdout",
     "output_type": "stream",
     "text": [
      "Средняя оценка качества модели дерева принятия решений после флотации: 13.673702299705525\n",
      "Средняя оценка качества модели дерева принятия решений после финальной обработки: 15.17426369060954\n",
      "sMAPE_FINAL: 14.799123342883536\n"
     ]
    }
   ],
   "source": [
    "best_tot_smape = 1000\n",
    "best_model_dt = None\n",
    "best_smape_rougher = 1000\n",
    "best_smape_final = 1000\n",
    "for depth in range(2,10):\n",
    "    model_dt = DecisionTreeRegressor(max_depth = depth, random_state = 12345)\n",
    "    tot_smape, smape_rougher, smape_final = ml(model_dt)\n",
    "    if abs(tot_smape) < abs(best_tot_smape):\n",
    "        best_model_dt = model_dt\n",
    "        best_tot_smape = tot_smape\n",
    "        best_smape_rougher = smape_rougher\n",
    "        best_smape_final = smape_final\n",
    "\n",
    "\n",
    "print('Средняя оценка качества модели дерева принятия решений после флотации: {}'.format(-smape_rougher))\n",
    "print('Средняя оценка качества модели дерева принятия решений после финальной обработки: {}'.format(-smape_final))\n",
    "print('sMAPE_FINAL: {}'.format(-tot_smape))"
   ]
  },
  {
   "cell_type": "code",
   "execution_count": 20,
   "metadata": {},
   "outputs": [
    {
     "name": "stdout",
     "output_type": "stream",
     "text": [
      "Средняя оценка качества модели случайного леса после флотации: 12.678960384698179\n",
      "Средняя оценка качества модели случайного леса после финальной обработки: 11.931426325750104\n",
      "sMAPE_FINAL: 12.118309840487123\n"
     ]
    }
   ],
   "source": [
    "best_tot_smape = 1000\n",
    "best_model_rf = None\n",
    "best_smape_rougher = 1000\n",
    "best_smape_final = 1000\n",
    "for est in range(2,10,3):\n",
    "    for depth in range(2,10,3):\n",
    "        model_rf = RandomForestRegressor(n_estimators = est,max_depth = depth)\n",
    "        tot_smape, smape_rougher, smape_final = ml(model_rf)\n",
    "        if abs(tot_smape) < abs(best_tot_smape):\n",
    "            best_model_rf = model_rf\n",
    "            best_tot_smape = tot_smape\n",
    "            best_smape_rougher = smape_rougher\n",
    "            best_smape_final = smape_final\n",
    "\n",
    "print('Средняя оценка качества модели случайного леса после флотации: {}'.format(-smape_rougher))\n",
    "print('Средняя оценка качества модели случайного леса после финальной обработки: {}'.format(-smape_final))\n",
    "print('sMAPE_FINAL: {}'.format(-tot_smape))"
   ]
  },
  {
   "cell_type": "code",
   "execution_count": 21,
   "metadata": {
    "scrolled": true
   },
   "outputs": [
    {
     "name": "stdout",
     "output_type": "stream",
     "text": [
      "Средняя оценка качества модели дамми-регрессии после флотации: 12.215336413217326\n",
      "Средняя оценка качества модели дамми-регрессии после финальной обработки: 11.361359303211872\n",
      "sMAPE_FINAL: 11.574853580713235\n"
     ]
    }
   ],
   "source": [
    "model = DummyRegressor()\n",
    "tot_smape, smape_rougher, smape_final = ml(model)\n",
    "print('Средняя оценка качества модели дамми-регрессии после флотации: {}'.format(-smape_rougher))\n",
    "print('Средняя оценка качества модели дамми-регрессии после финальной обработки: {}'.format(-smape_final))\n",
    "print('sMAPE_FINAL: {}'.format(-tot_smape))"
   ]
  },
  {
   "cell_type": "markdown",
   "metadata": {},
   "source": [
    "    Модель DecisionTreeRegressor, со значением метрики smape 11.02, показала лучший результат, что лучше чем значение smape константной модели 11.57\n",
    "    Проверим лучшую модель на тестовой выборке"
   ]
  },
  {
   "cell_type": "code",
   "execution_count": 22,
   "metadata": {},
   "outputs": [
    {
     "name": "stdout",
     "output_type": "stream",
     "text": [
      "Средняя оценка качества модели после флотации: 10.338348782952567\n",
      "Средняя оценка качества модели после финальной обработки: 9.935841920506107\n",
      "sMAPE_FINAL: 10.036468636117721\n"
     ]
    }
   ],
   "source": [
    "best_model_dt.fit(features_train_rougher, target_train_rougher)\n",
    "smape_rougher = (cross_val_score(best_model_dt,features_test_rougher,target_test_rougher, cv = 5, \n",
    "                                 scoring = make_scorer(smape, greater_is_better = False)).mean())\n",
    "smape_final = (cross_val_score(best_model_dt,features_test_final,target_test_final, cv = 5, \n",
    "                                 scoring = make_scorer(smape, greater_is_better = False)).mean())\n",
    "tot_smape = total_smape(smape_rougher,smape_final)\n",
    "print('Средняя оценка качества модели после флотации: {}'.format(-smape_rougher))\n",
    "print('Средняя оценка качества модели после финальной обработки: {}'.format(-smape_final))\n",
    "print('sMAPE_FINAL: {}'.format(-tot_smape))"
   ]
  },
  {
   "cell_type": "markdown",
   "metadata": {},
   "source": [
    "## Вывод"
   ]
  },
  {
   "cell_type": "markdown",
   "metadata": {},
   "source": [
    "    В ходе исследования я, проверил наличие пропусков, дубликатов. \n",
    "    В тестовых данных недоступны параметры готового продукта, т.к. эти параметры я получаил по окончании процесса очистки.\n",
    "    Обнаружил, что концентрация золота увеличивается с каждым этапом, а концентрация серебра снижается после флотации.\n",
    "    Распределение размеров гранул в train и test выборках примерно одинаковое.\n",
    "    В данных наблюдается множество нулевых значений и пропусков.\n",
    "    \n",
    "Наилучшая модель - DecisionTreeRegressor дала значение метрики smape 10.03 на тестовой выборке."
   ]
  }
 ],
 "metadata": {
  "ExecuteTimeLog": [
   {
    "duration": 1637,
    "start_time": "2021-10-07T06:46:00.738Z"
   },
   {
    "duration": 2377,
    "start_time": "2021-10-07T06:46:02.378Z"
   },
   {
    "duration": -667,
    "start_time": "2021-10-07T06:46:05.424Z"
   },
   {
    "duration": -680,
    "start_time": "2021-10-07T06:46:05.439Z"
   },
   {
    "duration": -693,
    "start_time": "2021-10-07T06:46:05.453Z"
   },
   {
    "duration": -707,
    "start_time": "2021-10-07T06:46:05.468Z"
   },
   {
    "duration": -717,
    "start_time": "2021-10-07T06:46:05.480Z"
   },
   {
    "duration": -721,
    "start_time": "2021-10-07T06:46:05.485Z"
   },
   {
    "duration": -732,
    "start_time": "2021-10-07T06:46:05.498Z"
   },
   {
    "duration": -737,
    "start_time": "2021-10-07T06:46:05.504Z"
   },
   {
    "duration": -746,
    "start_time": "2021-10-07T06:46:05.514Z"
   },
   {
    "duration": -749,
    "start_time": "2021-10-07T06:46:05.518Z"
   },
   {
    "duration": -759,
    "start_time": "2021-10-07T06:46:05.530Z"
   },
   {
    "duration": -763,
    "start_time": "2021-10-07T06:46:05.535Z"
   },
   {
    "duration": -920,
    "start_time": "2021-10-07T06:46:05.694Z"
   },
   {
    "duration": -924,
    "start_time": "2021-10-07T06:46:05.699Z"
   },
   {
    "duration": -927,
    "start_time": "2021-10-07T06:46:05.704Z"
   },
   {
    "duration": 965,
    "start_time": "2021-10-07T06:47:56.380Z"
   },
   {
    "duration": 25,
    "start_time": "2021-10-07T06:49:18.438Z"
   },
   {
    "duration": 6,
    "start_time": "2021-10-07T06:50:12.699Z"
   },
   {
    "duration": 262,
    "start_time": "2021-10-07T06:52:25.573Z"
   },
   {
    "duration": 14,
    "start_time": "2021-10-07T06:52:54.558Z"
   },
   {
    "duration": 14,
    "start_time": "2021-10-07T06:53:54.692Z"
   },
   {
    "duration": 349,
    "start_time": "2021-10-07T06:54:01.125Z"
   },
   {
    "duration": 16,
    "start_time": "2021-10-07T06:54:10.277Z"
   },
   {
    "duration": 358,
    "start_time": "2021-10-07T06:54:47.421Z"
   },
   {
    "duration": 1444,
    "start_time": "2021-10-07T06:55:57.275Z"
   },
   {
    "duration": 719,
    "start_time": "2021-10-07T06:56:48.566Z"
   },
   {
    "duration": 7471,
    "start_time": "2021-10-07T06:59:38.514Z"
   },
   {
    "duration": 430,
    "start_time": "2021-10-07T07:01:34.382Z"
   },
   {
    "duration": 185,
    "start_time": "2021-10-07T07:02:45.369Z"
   },
   {
    "duration": 32,
    "start_time": "2021-10-07T07:02:49.843Z"
   },
   {
    "duration": 4,
    "start_time": "2021-10-07T07:03:31.758Z"
   },
   {
    "duration": 260,
    "start_time": "2021-10-07T07:04:17.228Z"
   },
   {
    "duration": 293,
    "start_time": "2021-10-07T07:06:23.959Z"
   },
   {
    "duration": 5,
    "start_time": "2021-10-07T07:08:13.036Z"
   },
   {
    "duration": 6,
    "start_time": "2021-10-07T07:08:27.502Z"
   },
   {
    "duration": 5,
    "start_time": "2021-10-07T07:08:28.456Z"
   },
   {
    "duration": 1579,
    "start_time": "2021-10-07T07:09:14.439Z"
   },
   {
    "duration": 952,
    "start_time": "2021-10-07T07:09:16.938Z"
   },
   {
    "duration": 26,
    "start_time": "2021-10-07T07:09:20.442Z"
   },
   {
    "duration": 6,
    "start_time": "2021-10-07T07:09:22.671Z"
   },
   {
    "duration": 989,
    "start_time": "2021-10-07T07:09:24.879Z"
   },
   {
    "duration": 17,
    "start_time": "2021-10-07T07:09:25.871Z"
   },
   {
    "duration": 1363,
    "start_time": "2021-10-07T07:09:28.743Z"
   },
   {
    "duration": 724,
    "start_time": "2021-10-07T07:09:33.118Z"
   },
   {
    "duration": 448,
    "start_time": "2021-10-07T07:09:38.164Z"
   },
   {
    "duration": 187,
    "start_time": "2021-10-07T07:09:39.927Z"
   },
   {
    "duration": 30,
    "start_time": "2021-10-07T07:09:42.880Z"
   },
   {
    "duration": 4,
    "start_time": "2021-10-07T07:09:45.088Z"
   },
   {
    "duration": 5,
    "start_time": "2021-10-07T07:09:47.440Z"
   },
   {
    "duration": 5,
    "start_time": "2021-10-07T07:09:48.215Z"
   },
   {
    "duration": 20,
    "start_time": "2021-10-07T07:10:00.149Z"
   },
   {
    "duration": 81,
    "start_time": "2021-10-07T07:10:15.379Z"
   },
   {
    "duration": 81,
    "start_time": "2021-10-07T07:11:31.336Z"
   },
   {
    "duration": 8,
    "start_time": "2021-10-07T07:12:09.172Z"
   },
   {
    "duration": 3839,
    "start_time": "2021-10-07T07:12:15.528Z"
   },
   {
    "duration": 3405,
    "start_time": "2021-10-07T07:13:12.361Z"
   },
   {
    "duration": 39168,
    "start_time": "2021-10-07T07:13:37.910Z"
   },
   {
    "duration": 123814,
    "start_time": "2021-10-07T07:14:47.702Z"
   },
   {
    "duration": 82,
    "start_time": "2021-10-07T07:16:51.519Z"
   },
   {
    "duration": 801,
    "start_time": "2021-10-07T07:22:16.251Z"
   },
   {
    "duration": 95,
    "start_time": "2021-10-07T07:25:05.160Z"
   },
   {
    "duration": 1596,
    "start_time": "2021-10-07T07:26:47.040Z"
   },
   {
    "duration": 944,
    "start_time": "2021-10-07T07:26:48.638Z"
   },
   {
    "duration": 25,
    "start_time": "2021-10-07T07:26:49.586Z"
   },
   {
    "duration": 7,
    "start_time": "2021-10-07T07:26:49.614Z"
   },
   {
    "duration": 1073,
    "start_time": "2021-10-07T07:26:49.624Z"
   },
   {
    "duration": 15,
    "start_time": "2021-10-07T07:26:50.700Z"
   },
   {
    "duration": 1338,
    "start_time": "2021-10-07T07:26:50.718Z"
   },
   {
    "duration": 719,
    "start_time": "2021-10-07T07:26:52.060Z"
   },
   {
    "duration": 452,
    "start_time": "2021-10-07T07:26:52.782Z"
   },
   {
    "duration": 199,
    "start_time": "2021-10-07T07:26:53.237Z"
   },
   {
    "duration": 44,
    "start_time": "2021-10-07T07:26:53.438Z"
   },
   {
    "duration": 3,
    "start_time": "2021-10-07T07:26:53.485Z"
   },
   {
    "duration": 12,
    "start_time": "2021-10-07T07:26:53.491Z"
   },
   {
    "duration": 10,
    "start_time": "2021-10-07T07:26:53.505Z"
   },
   {
    "duration": 19,
    "start_time": "2021-10-07T07:26:53.518Z"
   },
   {
    "duration": 98,
    "start_time": "2021-10-07T07:26:53.540Z"
   },
   {
    "duration": 7,
    "start_time": "2021-10-07T07:26:53.641Z"
   },
   {
    "duration": 4228,
    "start_time": "2021-10-07T07:26:53.650Z"
   },
   {
    "duration": 39606,
    "start_time": "2021-10-07T07:26:57.881Z"
   },
   {
    "duration": 123661,
    "start_time": "2021-10-07T07:27:37.489Z"
   },
   {
    "duration": 83,
    "start_time": "2021-10-07T07:29:41.152Z"
   },
   {
    "duration": 940,
    "start_time": "2021-10-07T07:29:41.237Z"
   },
   {
    "duration": 1648,
    "start_time": "2021-10-07T08:55:54.206Z"
   },
   {
    "duration": 1025,
    "start_time": "2021-10-07T08:55:56.102Z"
   },
   {
    "duration": 26,
    "start_time": "2021-10-07T08:56:21.504Z"
   },
   {
    "duration": 5,
    "start_time": "2021-10-07T08:56:44.483Z"
   },
   {
    "duration": 1086,
    "start_time": "2021-10-07T08:57:18.572Z"
   },
   {
    "duration": 17,
    "start_time": "2021-10-07T08:57:20.632Z"
   },
   {
    "duration": 1116,
    "start_time": "2021-10-07T08:59:17.245Z"
   },
   {
    "duration": 532,
    "start_time": "2021-10-07T08:59:21.542Z"
   },
   {
    "duration": 355,
    "start_time": "2021-10-07T08:59:22.627Z"
   },
   {
    "duration": 125,
    "start_time": "2021-10-07T08:59:22.985Z"
   },
   {
    "duration": 32,
    "start_time": "2021-10-07T08:59:25.221Z"
   },
   {
    "duration": 3,
    "start_time": "2021-10-07T09:02:05.422Z"
   },
   {
    "duration": 6,
    "start_time": "2021-10-07T09:02:06.364Z"
   },
   {
    "duration": 5,
    "start_time": "2021-10-07T09:02:06.554Z"
   },
   {
    "duration": 17,
    "start_time": "2021-10-07T09:02:33.919Z"
   },
   {
    "duration": 85,
    "start_time": "2021-10-07T09:02:55.749Z"
   },
   {
    "duration": 7,
    "start_time": "2021-10-07T09:03:41.722Z"
   },
   {
    "duration": 3597,
    "start_time": "2021-10-07T09:04:30.035Z"
   },
   {
    "duration": 37638,
    "start_time": "2021-10-07T09:04:33.635Z"
   },
   {
    "duration": 121961,
    "start_time": "2021-10-07T09:05:11.276Z"
   },
   {
    "duration": 102,
    "start_time": "2021-10-07T09:07:13.240Z"
   },
   {
    "duration": 811,
    "start_time": "2021-10-07T09:07:13.345Z"
   },
   {
    "duration": 4,
    "start_time": "2022-02-08T14:39:37.857Z"
   },
   {
    "duration": 19,
    "start_time": "2022-02-08T14:41:57.255Z"
   },
   {
    "duration": 454,
    "start_time": "2022-02-08T14:48:18.172Z"
   },
   {
    "duration": 5,
    "start_time": "2022-02-08T14:50:17.800Z"
   },
   {
    "duration": 400,
    "start_time": "2022-02-08T14:51:30.156Z"
   },
   {
    "duration": 3,
    "start_time": "2022-02-08T14:51:51.369Z"
   },
   {
    "duration": 3,
    "start_time": "2022-02-08T14:52:12.298Z"
   },
   {
    "duration": 308,
    "start_time": "2022-02-08T14:52:13.498Z"
   },
   {
    "duration": 485,
    "start_time": "2022-02-08T14:52:38.430Z"
   },
   {
    "duration": 466,
    "start_time": "2022-02-08T14:53:38.123Z"
   },
   {
    "duration": 477,
    "start_time": "2022-02-08T14:55:41.677Z"
   },
   {
    "duration": 478,
    "start_time": "2022-02-08T14:55:50.269Z"
   },
   {
    "duration": 556,
    "start_time": "2022-02-08T14:56:02.362Z"
   },
   {
    "duration": 472,
    "start_time": "2022-02-08T14:58:27.219Z"
   },
   {
    "duration": 10,
    "start_time": "2022-02-08T14:59:15.405Z"
   },
   {
    "duration": 17,
    "start_time": "2022-02-08T15:02:44.711Z"
   },
   {
    "duration": 18,
    "start_time": "2022-02-08T15:02:53.530Z"
   },
   {
    "duration": 3,
    "start_time": "2022-02-08T15:02:55.967Z"
   },
   {
    "duration": 559,
    "start_time": "2022-02-08T15:02:56.769Z"
   },
   {
    "duration": 457,
    "start_time": "2022-02-08T15:02:58.082Z"
   },
   {
    "duration": 3,
    "start_time": "2022-02-08T15:05:20.574Z"
   },
   {
    "duration": 679,
    "start_time": "2022-02-08T15:05:20.578Z"
   },
   {
    "duration": 9,
    "start_time": "2022-02-08T15:05:21.259Z"
   },
   {
    "duration": 3,
    "start_time": "2022-02-08T15:05:21.269Z"
   },
   {
    "duration": 561,
    "start_time": "2022-02-08T15:05:21.274Z"
   },
   {
    "duration": 9,
    "start_time": "2022-02-08T15:05:21.837Z"
   },
   {
    "duration": 812,
    "start_time": "2022-02-08T15:05:21.848Z"
   },
   {
    "duration": 382,
    "start_time": "2022-02-08T15:05:22.663Z"
   },
   {
    "duration": 241,
    "start_time": "2022-02-08T15:05:23.047Z"
   },
   {
    "duration": 68,
    "start_time": "2022-02-08T15:05:23.289Z"
   },
   {
    "duration": 20,
    "start_time": "2022-02-08T15:05:23.358Z"
   },
   {
    "duration": 3,
    "start_time": "2022-02-08T15:05:23.379Z"
   },
   {
    "duration": 19,
    "start_time": "2022-02-08T15:05:23.383Z"
   },
   {
    "duration": 3,
    "start_time": "2022-02-08T15:05:23.403Z"
   },
   {
    "duration": 505,
    "start_time": "2022-02-08T15:05:23.407Z"
   },
   {
    "duration": 463,
    "start_time": "2022-02-08T15:05:23.913Z"
   },
   {
    "duration": 3,
    "start_time": "2022-02-08T15:05:24.377Z"
   },
   {
    "duration": 6,
    "start_time": "2022-02-08T15:05:24.381Z"
   },
   {
    "duration": 5,
    "start_time": "2022-02-08T15:05:24.390Z"
   },
   {
    "duration": 33,
    "start_time": "2022-02-08T15:05:24.397Z"
   },
   {
    "duration": 55,
    "start_time": "2022-02-08T15:05:24.431Z"
   },
   {
    "duration": 5,
    "start_time": "2022-02-08T15:05:24.488Z"
   },
   {
    "duration": 3640,
    "start_time": "2022-02-08T15:05:24.495Z"
   },
   {
    "duration": 29271,
    "start_time": "2022-02-08T15:05:28.136Z"
   },
   {
    "duration": 93319,
    "start_time": "2022-02-08T15:05:57.408Z"
   },
   {
    "duration": 47,
    "start_time": "2022-02-08T15:07:30.729Z"
   },
   {
    "duration": 606,
    "start_time": "2022-02-08T15:07:30.778Z"
   },
   {
    "duration": 576,
    "start_time": "2022-02-08T15:09:31.711Z"
   },
   {
    "duration": 574,
    "start_time": "2022-02-08T15:10:18.353Z"
   },
   {
    "duration": 621,
    "start_time": "2022-02-08T15:10:28.900Z"
   },
   {
    "duration": 1146,
    "start_time": "2022-02-08T16:29:54.662Z"
   },
   {
    "duration": 725,
    "start_time": "2022-02-08T16:29:55.810Z"
   },
   {
    "duration": 12,
    "start_time": "2022-02-08T16:29:56.537Z"
   },
   {
    "duration": 3,
    "start_time": "2022-02-08T16:29:56.551Z"
   },
   {
    "duration": 607,
    "start_time": "2022-02-08T16:29:56.555Z"
   },
   {
    "duration": 11,
    "start_time": "2022-02-08T16:29:57.164Z"
   },
   {
    "duration": 824,
    "start_time": "2022-02-08T16:29:57.177Z"
   },
   {
    "duration": 400,
    "start_time": "2022-02-08T16:29:58.003Z"
   },
   {
    "duration": 250,
    "start_time": "2022-02-08T16:29:58.405Z"
   },
   {
    "duration": 145,
    "start_time": "2022-02-08T16:29:58.657Z"
   },
   {
    "duration": 24,
    "start_time": "2022-02-08T16:29:58.803Z"
   },
   {
    "duration": 2,
    "start_time": "2022-02-08T16:29:58.829Z"
   },
   {
    "duration": 22,
    "start_time": "2022-02-08T16:29:58.833Z"
   },
   {
    "duration": 3,
    "start_time": "2022-02-08T16:29:58.857Z"
   },
   {
    "duration": 510,
    "start_time": "2022-02-08T16:29:58.861Z"
   },
   {
    "duration": 457,
    "start_time": "2022-02-08T16:29:59.372Z"
   },
   {
    "duration": 3,
    "start_time": "2022-02-08T16:29:59.830Z"
   },
   {
    "duration": 6,
    "start_time": "2022-02-08T16:29:59.834Z"
   },
   {
    "duration": 5,
    "start_time": "2022-02-08T16:29:59.841Z"
   },
   {
    "duration": 16,
    "start_time": "2022-02-08T16:29:59.848Z"
   },
   {
    "duration": 77,
    "start_time": "2022-02-08T16:29:59.865Z"
   },
   {
    "duration": 4,
    "start_time": "2022-02-08T16:29:59.944Z"
   },
   {
    "duration": 3182,
    "start_time": "2022-02-08T16:29:59.951Z"
   },
   {
    "duration": 29466,
    "start_time": "2022-02-08T16:30:03.138Z"
   },
   {
    "duration": 88316,
    "start_time": "2022-02-08T16:30:32.606Z"
   },
   {
    "duration": 39,
    "start_time": "2022-02-08T16:32:00.927Z"
   },
   {
    "duration": 785,
    "start_time": "2022-02-08T16:32:00.968Z"
   },
   {
    "duration": 1354,
    "start_time": "2022-02-08T16:36:06.082Z"
   },
   {
    "duration": 65,
    "start_time": "2022-02-08T16:36:13.458Z"
   },
   {
    "duration": 1133,
    "start_time": "2022-02-08T16:41:02.998Z"
   },
   {
    "duration": 728,
    "start_time": "2022-02-08T16:41:04.133Z"
   },
   {
    "duration": 17,
    "start_time": "2022-02-08T16:41:04.863Z"
   },
   {
    "duration": 4,
    "start_time": "2022-02-08T16:41:04.882Z"
   },
   {
    "duration": 658,
    "start_time": "2022-02-08T16:41:04.887Z"
   },
   {
    "duration": 10,
    "start_time": "2022-02-08T16:41:05.546Z"
   },
   {
    "duration": 766,
    "start_time": "2022-02-08T16:41:05.557Z"
   },
   {
    "duration": 392,
    "start_time": "2022-02-08T16:41:06.328Z"
   },
   {
    "duration": 264,
    "start_time": "2022-02-08T16:41:06.721Z"
   },
   {
    "duration": 150,
    "start_time": "2022-02-08T16:41:06.987Z"
   },
   {
    "duration": 21,
    "start_time": "2022-02-08T16:41:07.139Z"
   },
   {
    "duration": 3,
    "start_time": "2022-02-08T16:41:07.162Z"
   },
   {
    "duration": 11,
    "start_time": "2022-02-08T16:41:07.166Z"
   },
   {
    "duration": 11,
    "start_time": "2022-02-08T16:41:07.178Z"
   },
   {
    "duration": 13,
    "start_time": "2022-02-08T16:41:07.191Z"
   },
   {
    "duration": 74,
    "start_time": "2022-02-08T16:41:07.205Z"
   },
   {
    "duration": 5,
    "start_time": "2022-02-08T16:41:07.280Z"
   },
   {
    "duration": 3547,
    "start_time": "2022-02-08T16:41:07.286Z"
   },
   {
    "duration": 29922,
    "start_time": "2022-02-08T16:41:10.836Z"
   },
   {
    "duration": 89062,
    "start_time": "2022-02-08T16:41:40.760Z"
   },
   {
    "duration": 36,
    "start_time": "2022-02-08T16:43:09.827Z"
   },
   {
    "duration": 569,
    "start_time": "2022-02-08T16:43:09.865Z"
   }
  ],
  "kernelspec": {
   "display_name": "Python 3",
   "language": "python",
   "name": "python3"
  },
  "language_info": {
   "codemirror_mode": {
    "name": "ipython",
    "version": 3
   },
   "file_extension": ".py",
   "mimetype": "text/x-python",
   "name": "python",
   "nbconvert_exporter": "python",
   "pygments_lexer": "ipython3",
   "version": "3.7.8"
  },
  "toc": {
   "base_numbering": 1,
   "nav_menu": {},
   "number_sections": true,
   "sideBar": true,
   "skip_h1_title": true,
   "title_cell": "Содержание",
   "title_sidebar": "Contents",
   "toc_cell": true,
   "toc_position": {},
   "toc_section_display": true,
   "toc_window_display": false
  }
 },
 "nbformat": 4,
 "nbformat_minor": 2
}
