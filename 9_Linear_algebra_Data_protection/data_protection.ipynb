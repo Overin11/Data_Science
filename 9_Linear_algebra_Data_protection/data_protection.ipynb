{
 "cells": [
  {
   "cell_type": "markdown",
   "metadata": {
    "toc": true
   },
   "source": [
    "<h1>Содержание<span class=\"tocSkip\"></span></h1>\n",
    "<div class=\"toc\"><ul class=\"toc-item\"><li><span><a href=\"#Загрузка-данных\" data-toc-modified-id=\"Загрузка-данных-1\"><span class=\"toc-item-num\">1&nbsp;&nbsp;</span>Загрузка данных</a></span></li><li><span><a href=\"#Умножение-матриц\" data-toc-modified-id=\"Умножение-матриц-2\"><span class=\"toc-item-num\">2&nbsp;&nbsp;</span>Умножение матриц</a></span></li><li><span><a href=\"#Алгоритм-преобразования\" data-toc-modified-id=\"Алгоритм-преобразования-3\"><span class=\"toc-item-num\">3&nbsp;&nbsp;</span>Алгоритм преобразования</a></span></li><li><span><a href=\"#Проверка-алгоритма\" data-toc-modified-id=\"Проверка-алгоритма-4\"><span class=\"toc-item-num\">4&nbsp;&nbsp;</span>Проверка алгоритма</a></span></li><li><span><a href=\"#Чек-лист-проверки\" data-toc-modified-id=\"Чек-лист-проверки-5\"><span class=\"toc-item-num\">5&nbsp;&nbsp;</span>Чек-лист проверки</a></span></li></ul></div>"
   ]
  },
  {
   "cell_type": "markdown",
   "metadata": {},
   "source": [
    "# Защита персональных данных клиентов"
   ]
  },
  {
   "cell_type": "markdown",
   "metadata": {},
   "source": [
    "Вам нужно защитить данные клиентов страховой компании «Хоть потоп». Разработайте такой метод преобразования данных, чтобы по ним было сложно восстановить персональную информацию. Обоснуйте корректность его работы.\n",
    "\n",
    "Нужно защитить данные, чтобы при преобразовании качество моделей машинного обучения не ухудшилось. Подбирать наилучшую модель не требуется."
   ]
  },
  {
   "cell_type": "markdown",
   "metadata": {},
   "source": [
    "## Загрузка данных"
   ]
  },
  {
   "cell_type": "code",
   "execution_count": 1,
   "metadata": {},
   "outputs": [],
   "source": [
    "import pandas as pd\n",
    "import numpy as np\n",
    "from sklearn.metrics import r2_score"
   ]
  },
  {
   "cell_type": "code",
   "execution_count": 2,
   "metadata": {},
   "outputs": [
    {
     "name": "stdout",
     "output_type": "stream",
     "text": [
      "<class 'pandas.core.frame.DataFrame'>\n",
      "RangeIndex: 5000 entries, 0 to 4999\n",
      "Data columns (total 5 columns):\n",
      "Пол                  5000 non-null int64\n",
      "Возраст              5000 non-null float64\n",
      "Зарплата             5000 non-null float64\n",
      "Члены семьи          5000 non-null int64\n",
      "Страховые выплаты    5000 non-null int64\n",
      "dtypes: float64(2), int64(3)\n",
      "memory usage: 195.4 KB\n"
     ]
    }
   ],
   "source": [
    "data = pd.read_csv('/datasets/insurance.csv')\n",
    "data.info()"
   ]
  },
  {
   "cell_type": "code",
   "execution_count": 3,
   "metadata": {},
   "outputs": [
    {
     "data": {
      "text/html": [
       "<div>\n",
       "<style scoped>\n",
       "    .dataframe tbody tr th:only-of-type {\n",
       "        vertical-align: middle;\n",
       "    }\n",
       "\n",
       "    .dataframe tbody tr th {\n",
       "        vertical-align: top;\n",
       "    }\n",
       "\n",
       "    .dataframe thead th {\n",
       "        text-align: right;\n",
       "    }\n",
       "</style>\n",
       "<table border=\"1\" class=\"dataframe\">\n",
       "  <thead>\n",
       "    <tr style=\"text-align: right;\">\n",
       "      <th></th>\n",
       "      <th>Пол</th>\n",
       "      <th>Возраст</th>\n",
       "      <th>Зарплата</th>\n",
       "      <th>Члены семьи</th>\n",
       "      <th>Страховые выплаты</th>\n",
       "    </tr>\n",
       "  </thead>\n",
       "  <tbody>\n",
       "    <tr>\n",
       "      <td>0</td>\n",
       "      <td>1</td>\n",
       "      <td>41.0</td>\n",
       "      <td>49600.0</td>\n",
       "      <td>1</td>\n",
       "      <td>0</td>\n",
       "    </tr>\n",
       "    <tr>\n",
       "      <td>1</td>\n",
       "      <td>0</td>\n",
       "      <td>46.0</td>\n",
       "      <td>38000.0</td>\n",
       "      <td>1</td>\n",
       "      <td>1</td>\n",
       "    </tr>\n",
       "    <tr>\n",
       "      <td>2</td>\n",
       "      <td>0</td>\n",
       "      <td>29.0</td>\n",
       "      <td>21000.0</td>\n",
       "      <td>0</td>\n",
       "      <td>0</td>\n",
       "    </tr>\n",
       "    <tr>\n",
       "      <td>3</td>\n",
       "      <td>0</td>\n",
       "      <td>21.0</td>\n",
       "      <td>41700.0</td>\n",
       "      <td>2</td>\n",
       "      <td>0</td>\n",
       "    </tr>\n",
       "    <tr>\n",
       "      <td>4</td>\n",
       "      <td>1</td>\n",
       "      <td>28.0</td>\n",
       "      <td>26100.0</td>\n",
       "      <td>0</td>\n",
       "      <td>0</td>\n",
       "    </tr>\n",
       "  </tbody>\n",
       "</table>\n",
       "</div>"
      ],
      "text/plain": [
       "   Пол  Возраст  Зарплата  Члены семьи  Страховые выплаты\n",
       "0    1     41.0   49600.0            1                  0\n",
       "1    0     46.0   38000.0            1                  1\n",
       "2    0     29.0   21000.0            0                  0\n",
       "3    0     21.0   41700.0            2                  0\n",
       "4    1     28.0   26100.0            0                  0"
      ]
     },
     "metadata": {},
     "output_type": "display_data"
    }
   ],
   "source": [
    "display(data.head())"
   ]
  },
  {
   "cell_type": "code",
   "execution_count": 4,
   "metadata": {
    "scrolled": true
   },
   "outputs": [
    {
     "data": {
      "text/html": [
       "<div>\n",
       "<style scoped>\n",
       "    .dataframe tbody tr th:only-of-type {\n",
       "        vertical-align: middle;\n",
       "    }\n",
       "\n",
       "    .dataframe tbody tr th {\n",
       "        vertical-align: top;\n",
       "    }\n",
       "\n",
       "    .dataframe thead th {\n",
       "        text-align: right;\n",
       "    }\n",
       "</style>\n",
       "<table border=\"1\" class=\"dataframe\">\n",
       "  <thead>\n",
       "    <tr style=\"text-align: right;\">\n",
       "      <th></th>\n",
       "      <th>Возраст</th>\n",
       "      <th>Зарплата</th>\n",
       "      <th>Члены семьи</th>\n",
       "    </tr>\n",
       "  </thead>\n",
       "  <tbody>\n",
       "    <tr>\n",
       "      <td>min</td>\n",
       "      <td>18.0</td>\n",
       "      <td>5300.0</td>\n",
       "      <td>0.0</td>\n",
       "    </tr>\n",
       "    <tr>\n",
       "      <td>max</td>\n",
       "      <td>65.0</td>\n",
       "      <td>79000.0</td>\n",
       "      <td>6.0</td>\n",
       "    </tr>\n",
       "  </tbody>\n",
       "</table>\n",
       "</div>"
      ],
      "text/plain": [
       "     Возраст  Зарплата  Члены семьи\n",
       "min     18.0    5300.0          0.0\n",
       "max     65.0   79000.0          6.0"
      ]
     },
     "metadata": {},
     "output_type": "display_data"
    }
   ],
   "source": [
    "display(data[['Возраст', 'Зарплата', 'Члены семьи']].describe().loc[['min', 'max']])"
   ]
  },
  {
   "cell_type": "markdown",
   "metadata": {},
   "source": [
    "    0 - членов семьи, скорее всего, значит, что семьи нет.\n",
    "    Считаю, что в данных нет аномальных значений"
   ]
  },
  {
   "cell_type": "markdown",
   "metadata": {},
   "source": [
    "## Умножение матриц"
   ]
  },
  {
   "cell_type": "markdown",
   "metadata": {},
   "source": [
    "Обозначения:\n",
    "\n",
    "- $X$ — матрица признаков (нулевой столбец состоит из единиц)\n",
    "\n",
    "- $y$ — вектор целевого признака\n",
    "\n",
    "- $P$ — матрица, на которую умножаются признаки\n",
    "\n",
    "- $w$ — вектор весов линейной регрессии (нулевой элемент равен сдвигу)"
   ]
  },
  {
   "cell_type": "markdown",
   "metadata": {},
   "source": [
    "Предсказания:\n",
    "\n",
    "$$\n",
    "a = Xw\n",
    "$$\n",
    "\n",
    "Задача обучения:\n",
    "\n",
    "$$\n",
    "w = \\arg\\min_w MSE(Xw, y)\n",
    "$$\n",
    "\n",
    "Формула обучения:\n",
    "\n",
    "$$\n",
    "w = (X^T X)^{-1} X^T y\n",
    "$$"
   ]
  },
  {
   "cell_type": "markdown",
   "metadata": {},
   "source": [
    "# Признаки умножают на обратимую матрицу. Изменится ли качество линейной регрессии?"
   ]
  },
  {
   "cell_type": "markdown",
   "metadata": {},
   "source": [
    "**Ответ:** Не изменится\n",
    "\n",
    "**Обоснование:** Так как пресказания вычиляюся по формуле\n",
    "\n",
    "$$\n",
    "a = X\\cdot w\n",
    "$$\n",
    "\n",
    "Тогда после умножения признаков на обратимую матрицу М получаем:\n",
    "\n",
    "$$\n",
    "a_{1} = (M\\cdot X_{1})w\n",
    "$$\n",
    "\n",
    "или\n",
    "$$\n",
    "a_{1} = (M\\cdot X_{1})((M\\cdot X)^T\\cdot M\\cdot X)^{-1} (M\\cdot X)^T\\cdot y\n",
    "$$\n",
    "\n",
    "\n",
    "$$\n",
    "a_{1} = (M\\cdot X_{1})\\cdot(M^T)^{-1}\\cdot (X^T\\cdot X)^{-1}\\cdot M^{-1}\\cdot (X^T\\cdot M^T)\\cdot y\n",
    "$$\n",
    "\n",
    "\n",
    "$$\n",
    "a_{1} = E\\cdot X_{1}\\cdot E \\cdot (X^T\\cdot X)^{-1}\\cdot X^T\\cdot y\n",
    "$$\n",
    "\n",
    "при умножении на единичную матрицу (справа или слева) исходная матрица не изменяется.\n",
    "\n",
    "$$\n",
    "a_{1} =  X_{1}\\cdot(X^T\\cdot X)^{-1} \\cdot X^T\\cdot y\n",
    "$$\n"
   ]
  },
  {
   "cell_type": "markdown",
   "metadata": {},
   "source": [
    "$$\n",
    "w' = ((XP)^T XP)^{-1} (XP)^T y\n",
    "$$\n",
    "$$\n",
    "w' = (P^T (X^T X) P)^{-1} (XP)^T y\n",
    "$$\n",
    "$$\n",
    "w' = (P^T (X^T X) P)^{-1} P^T X^T y\n",
    "$$\n",
    "$$\n",
    "w' = P^{-1} (X^T X)^{-1} (P^T)^{-1} P^T X^T y\n",
    "$$\n",
    "$$\n",
    "w' = P^{-1} (X^T X)^{-1} E X^T y\n",
    "$$"
   ]
  },
  {
   "cell_type": "markdown",
   "metadata": {},
   "source": [
    "## Алгоритм преобразования"
   ]
  },
  {
   "cell_type": "markdown",
   "metadata": {},
   "source": [
    "**Алгоритм**\n",
    "$\\cdot $ Оцениваю качество линейной регресси \n",
    "\n",
    "$\\cdot $ Cоздаю случайную матрицу количество строк которой равно количеству столбцов обучающей выборки, также матрица должна быть квадратной\n",
    "\n",
    "$\\cdot $ Проверяю, что матрица обратимая\n",
    "\n",
    "$\\cdot $ Умножаю обучающую выборку на матрицу\n",
    "\n",
    "$\\cdot $ Вновь провожу оценку качества"
   ]
  },
  {
   "cell_type": "markdown",
   "metadata": {},
   "source": [
    "**Обоснование**\n",
    "$\\cdot $ Нужна первоначальная оценка линейной регрессии, для того, чтобы было с чем сравнивать\n",
    "\n",
    "$\\cdot $ Умножение матрицы на матрицу возможно, если ширина первой матрицы $ А (𝑚\\times 𝑛) $ равна высоте второй матрицы $ В (𝑛 \\times r) $. \n",
    "\n",
    "$\\cdot $ Матрица скорее всего обратима, но нужно проверить\n",
    "\n",
    "$\\cdot $ По двум оценкам можно проверить как изменились предсказания\n"
   ]
  },
  {
   "cell_type": "markdown",
   "metadata": {},
   "source": [
    "## Проверка алгоритма"
   ]
  },
  {
   "cell_type": "markdown",
   "metadata": {},
   "source": [
    "Разделил данные на целевой признак и обучающую выборку"
   ]
  },
  {
   "cell_type": "code",
   "execution_count": 5,
   "metadata": {},
   "outputs": [],
   "source": [
    "features = data.drop('Страховые выплаты', axis=1)\n",
    "target = data['Страховые выплаты']"
   ]
  },
  {
   "cell_type": "markdown",
   "metadata": {},
   "source": [
    "Создал класс модели обучения с атрибутами обучения и предсказания"
   ]
  },
  {
   "cell_type": "code",
   "execution_count": 6,
   "metadata": {},
   "outputs": [],
   "source": [
    "class LinearRegression:\n",
    "    def fit(self, train_features, train_target):\n",
    "        X = np.concatenate((np.ones((train_features.shape[0], 1)), train_features), axis=1)\n",
    "        y = train_target\n",
    "        w = np.linalg.inv(X.T.dot(X)).dot(X.T).dot(y)\n",
    "        self.w = w[1:]\n",
    "        self.w0 = w[0]\n",
    "        #print(self.w, self.w0, sep='\\n')\n",
    "\n",
    "    def predict(self, test_features):\n",
    "        return test_features.dot(self.w) + self.w0"
   ]
  },
  {
   "cell_type": "markdown",
   "metadata": {},
   "source": [
    "Создал экземпляр класса, обучил, рассчитал и оценил предсказания"
   ]
  },
  {
   "cell_type": "code",
   "execution_count": 7,
   "metadata": {},
   "outputs": [
    {
     "data": {
      "text/plain": [
       "0.42494550286668"
      ]
     },
     "metadata": {},
     "output_type": "display_data"
    }
   ],
   "source": [
    "model = LinearRegression()\n",
    "model.fit(features, target)\n",
    "predictions = model.predict(features)\n",
    "rate_a = r2_score(target, predictions)\n",
    "display(rate_a)"
   ]
  },
  {
   "cell_type": "markdown",
   "metadata": {},
   "source": [
    "Создал случаную матрицу, обратил её, умножил на неё обучающую выборку"
   ]
  },
  {
   "cell_type": "code",
   "execution_count": 8,
   "metadata": {},
   "outputs": [],
   "source": [
    "a = np.random.randint(10, size = (4, 4)) # случайная матрица\n",
    "a_inv = np.linalg.inv(a) # убедиться, что умножаю на обратимую матрицу\n",
    "features_inv = features.dot(a_inv)"
   ]
  },
  {
   "cell_type": "markdown",
   "metadata": {},
   "source": [
    "Повторил обучение, рассчет предсказаний и оценку качества предсазаний"
   ]
  },
  {
   "cell_type": "code",
   "execution_count": 9,
   "metadata": {},
   "outputs": [
    {
     "data": {
      "text/plain": [
       "0.4249455028651892"
      ]
     },
     "metadata": {},
     "output_type": "display_data"
    }
   ],
   "source": [
    "model.fit(features_inv, target)\n",
    "predictions = model.predict(features_inv)\n",
    "rate_a_inv = r2_score(target, predictions)\n",
    "display(rate_a_inv)"
   ]
  },
  {
   "cell_type": "code",
   "execution_count": 10,
   "metadata": {
    "scrolled": true
   },
   "outputs": [
    {
     "data": {
      "text/plain": [
       "1.0000000000035083"
      ]
     },
     "metadata": {},
     "output_type": "display_data"
    }
   ],
   "source": [
    "display(rate_a/rate_a_inv)"
   ]
  },
  {
   "cell_type": "code",
   "execution_count": 11,
   "metadata": {},
   "outputs": [
    {
     "data": {
      "text/html": [
       "<div>\n",
       "<style scoped>\n",
       "    .dataframe tbody tr th:only-of-type {\n",
       "        vertical-align: middle;\n",
       "    }\n",
       "\n",
       "    .dataframe tbody tr th {\n",
       "        vertical-align: top;\n",
       "    }\n",
       "\n",
       "    .dataframe thead th {\n",
       "        text-align: right;\n",
       "    }\n",
       "</style>\n",
       "<table border=\"1\" class=\"dataframe\">\n",
       "  <thead>\n",
       "    <tr style=\"text-align: right;\">\n",
       "      <th></th>\n",
       "      <th>0</th>\n",
       "      <th>1</th>\n",
       "      <th>2</th>\n",
       "      <th>3</th>\n",
       "    </tr>\n",
       "  </thead>\n",
       "  <tbody>\n",
       "    <tr>\n",
       "      <td>0</td>\n",
       "      <td>-8069.037886</td>\n",
       "      <td>21520.444666</td>\n",
       "      <td>-8118.068794</td>\n",
       "      <td>-4990.121635</td>\n",
       "    </tr>\n",
       "    <tr>\n",
       "      <td>1</td>\n",
       "      <td>-6185.081755</td>\n",
       "      <td>16491.064806</td>\n",
       "      <td>-6222.622134</td>\n",
       "      <td>-3821.578265</td>\n",
       "    </tr>\n",
       "    <tr>\n",
       "      <td>2</td>\n",
       "      <td>-3418.920239</td>\n",
       "      <td>9114.327019</td>\n",
       "      <td>-3439.539382</td>\n",
       "      <td>-2111.533400</td>\n",
       "    </tr>\n",
       "    <tr>\n",
       "      <td>3</td>\n",
       "      <td>-6780.908275</td>\n",
       "      <td>18089.976072</td>\n",
       "      <td>-6822.570289</td>\n",
       "      <td>-4196.863410</td>\n",
       "    </tr>\n",
       "    <tr>\n",
       "      <td>4</td>\n",
       "      <td>-4247.394816</td>\n",
       "      <td>11325.581256</td>\n",
       "      <td>-4272.980060</td>\n",
       "      <td>-2625.109671</td>\n",
       "    </tr>\n",
       "  </tbody>\n",
       "</table>\n",
       "</div>"
      ],
      "text/plain": [
       "             0             1            2            3\n",
       "0 -8069.037886  21520.444666 -8118.068794 -4990.121635\n",
       "1 -6185.081755  16491.064806 -6222.622134 -3821.578265\n",
       "2 -3418.920239   9114.327019 -3439.539382 -2111.533400\n",
       "3 -6780.908275  18089.976072 -6822.570289 -4196.863410\n",
       "4 -4247.394816  11325.581256 -4272.980060 -2625.109671"
      ]
     },
     "metadata": {},
     "output_type": "display_data"
    }
   ],
   "source": [
    "display(features_inv.head())"
   ]
  },
  {
   "cell_type": "code",
   "execution_count": 12,
   "metadata": {},
   "outputs": [
    {
     "data": {
      "text/html": [
       "<div>\n",
       "<style scoped>\n",
       "    .dataframe tbody tr th:only-of-type {\n",
       "        vertical-align: middle;\n",
       "    }\n",
       "\n",
       "    .dataframe tbody tr th {\n",
       "        vertical-align: top;\n",
       "    }\n",
       "\n",
       "    .dataframe thead th {\n",
       "        text-align: right;\n",
       "    }\n",
       "</style>\n",
       "<table border=\"1\" class=\"dataframe\">\n",
       "  <thead>\n",
       "    <tr style=\"text-align: right;\">\n",
       "      <th></th>\n",
       "      <th>0</th>\n",
       "      <th>1</th>\n",
       "      <th>2</th>\n",
       "      <th>3</th>\n",
       "    </tr>\n",
       "  </thead>\n",
       "  <tbody>\n",
       "    <tr>\n",
       "      <td>0</td>\n",
       "      <td>1.0</td>\n",
       "      <td>41.0</td>\n",
       "      <td>49600.0</td>\n",
       "      <td>1.0</td>\n",
       "    </tr>\n",
       "    <tr>\n",
       "      <td>1</td>\n",
       "      <td>0.0</td>\n",
       "      <td>46.0</td>\n",
       "      <td>38000.0</td>\n",
       "      <td>1.0</td>\n",
       "    </tr>\n",
       "    <tr>\n",
       "      <td>2</td>\n",
       "      <td>0.0</td>\n",
       "      <td>29.0</td>\n",
       "      <td>21000.0</td>\n",
       "      <td>0.0</td>\n",
       "    </tr>\n",
       "    <tr>\n",
       "      <td>3</td>\n",
       "      <td>0.0</td>\n",
       "      <td>21.0</td>\n",
       "      <td>41700.0</td>\n",
       "      <td>2.0</td>\n",
       "    </tr>\n",
       "    <tr>\n",
       "      <td>4</td>\n",
       "      <td>1.0</td>\n",
       "      <td>28.0</td>\n",
       "      <td>26100.0</td>\n",
       "      <td>0.0</td>\n",
       "    </tr>\n",
       "  </tbody>\n",
       "</table>\n",
       "</div>"
      ],
      "text/plain": [
       "     0     1        2    3\n",
       "0  1.0  41.0  49600.0  1.0\n",
       "1  0.0  46.0  38000.0  1.0\n",
       "2  0.0  29.0  21000.0  0.0\n",
       "3  0.0  21.0  41700.0  2.0\n",
       "4  1.0  28.0  26100.0  0.0"
      ]
     },
     "metadata": {},
     "output_type": "display_data"
    }
   ],
   "source": [
    "display(features_inv.dot(a).head().round(0))"
   ]
  },
  {
   "cell_type": "markdown",
   "metadata": {},
   "source": [
    "    Оценки качества линейной регресии совпадает почти на 100 %, это значит, что умножение признаков на обратимую матрицу никак не повлияли на качество регресии.\n",
    "    При этом сами данные понять невозможно, до тех пор, пока не произведено умножение полученных признаков на матрицу, обратную той, на которую умножалось в первый раз."
   ]
  }
 ],
 "metadata": {
  "ExecuteTimeLog": [
   {
    "duration": 1061,
    "start_time": "2021-10-24T15:31:42.824Z"
   },
   {
    "duration": 40,
    "start_time": "2021-10-24T15:31:58.673Z"
   },
   {
    "duration": 30,
    "start_time": "2021-10-24T15:32:11.978Z"
   },
   {
    "duration": 24,
    "start_time": "2021-10-24T15:32:35.778Z"
   },
   {
    "duration": 6,
    "start_time": "2021-10-24T15:32:38.657Z"
   },
   {
    "duration": 12,
    "start_time": "2021-10-24T15:32:40.034Z"
   },
   {
    "duration": 17,
    "start_time": "2021-10-24T15:33:06.011Z"
   },
   {
    "duration": 23,
    "start_time": "2021-10-24T15:33:25.315Z"
   },
   {
    "duration": 15,
    "start_time": "2021-10-24T15:33:32.058Z"
   },
   {
    "duration": 735,
    "start_time": "2021-10-24T15:54:06.120Z"
   },
   {
    "duration": 339,
    "start_time": "2021-10-24T15:54:16.408Z"
   },
   {
    "duration": 15,
    "start_time": "2021-10-24T15:55:45.723Z"
   },
   {
    "duration": 17,
    "start_time": "2021-10-24T15:55:52.986Z"
   },
   {
    "duration": 13,
    "start_time": "2021-10-24T15:55:59.649Z"
   },
   {
    "duration": 8944,
    "start_time": "2021-10-24T15:56:04.603Z"
   },
   {
    "duration": 16,
    "start_time": "2021-10-24T15:56:14.056Z"
   },
   {
    "duration": 328,
    "start_time": "2021-10-24T15:56:28.343Z"
   },
   {
    "duration": 364,
    "start_time": "2021-10-24T15:56:34.344Z"
   },
   {
    "duration": 8,
    "start_time": "2021-10-24T15:56:38.759Z"
   },
   {
    "duration": 18,
    "start_time": "2021-10-24T15:56:54.648Z"
   },
   {
    "duration": 300,
    "start_time": "2021-10-26T16:01:53.891Z"
   },
   {
    "duration": 969,
    "start_time": "2021-10-26T16:02:01.082Z"
   },
   {
    "duration": 45,
    "start_time": "2021-10-26T16:02:02.053Z"
   },
   {
    "duration": 16,
    "start_time": "2021-10-26T16:02:02.259Z"
   },
   {
    "duration": 20,
    "start_time": "2021-10-26T16:02:03.139Z"
   },
   {
    "duration": 4,
    "start_time": "2021-10-26T16:02:10.721Z"
   },
   {
    "duration": 4,
    "start_time": "2021-10-26T16:02:32.675Z"
   },
   {
    "duration": 15,
    "start_time": "2021-10-26T16:03:15.651Z"
   },
   {
    "duration": 4,
    "start_time": "2021-10-26T16:03:26.722Z"
   },
   {
    "duration": 15,
    "start_time": "2021-10-26T16:03:27.815Z"
   },
   {
    "duration": 4,
    "start_time": "2021-10-26T16:03:51.932Z"
   },
   {
    "duration": 12,
    "start_time": "2021-10-26T16:04:11.772Z"
   },
   {
    "duration": 16,
    "start_time": "2021-10-26T16:08:21.525Z"
   },
   {
    "duration": 7,
    "start_time": "2021-10-26T16:13:13.753Z"
   },
   {
    "duration": 8,
    "start_time": "2021-10-26T16:13:36.424Z"
   },
   {
    "duration": 3,
    "start_time": "2021-10-26T16:14:03.405Z"
   },
   {
    "duration": 106,
    "start_time": "2021-10-26T16:14:18.866Z"
   },
   {
    "duration": 87,
    "start_time": "2021-10-26T16:14:22.814Z"
   },
   {
    "duration": 4,
    "start_time": "2021-10-26T16:14:29.534Z"
   },
   {
    "duration": 6,
    "start_time": "2021-10-26T16:17:03.310Z"
   },
   {
    "duration": 10,
    "start_time": "2021-10-26T16:17:11.055Z"
   },
   {
    "duration": 335,
    "start_time": "2021-10-26T16:18:16.548Z"
   },
   {
    "duration": 8,
    "start_time": "2021-10-26T16:18:37.344Z"
   },
   {
    "duration": 11,
    "start_time": "2021-10-26T16:20:18.216Z"
   },
   {
    "duration": 10,
    "start_time": "2021-10-26T16:20:54.591Z"
   },
   {
    "duration": 1087,
    "start_time": "2021-10-26T16:24:00.352Z"
   },
   {
    "duration": 22,
    "start_time": "2021-10-26T16:24:01.441Z"
   },
   {
    "duration": 29,
    "start_time": "2021-10-26T16:24:01.465Z"
   },
   {
    "duration": 39,
    "start_time": "2021-10-26T16:24:01.498Z"
   },
   {
    "duration": 7,
    "start_time": "2021-10-26T16:24:01.538Z"
   },
   {
    "duration": 26,
    "start_time": "2021-10-26T16:24:01.546Z"
   },
   {
    "duration": 73,
    "start_time": "2021-10-26T16:24:01.573Z"
   },
   {
    "duration": 97,
    "start_time": "2021-10-26T16:24:01.650Z"
   },
   {
    "duration": 96,
    "start_time": "2021-10-26T16:24:01.750Z"
   },
   {
    "duration": 10,
    "start_time": "2021-10-26T16:24:01.849Z"
   },
   {
    "duration": 13,
    "start_time": "2021-10-26T16:24:01.945Z"
   },
   {
    "duration": 18,
    "start_time": "2021-10-26T16:24:01.960Z"
   },
   {
    "duration": 2,
    "start_time": "2021-10-26T16:27:14.637Z"
   },
   {
    "duration": 28,
    "start_time": "2021-10-26T16:27:14.641Z"
   },
   {
    "duration": 9,
    "start_time": "2021-10-26T16:27:14.672Z"
   },
   {
    "duration": 22,
    "start_time": "2021-10-26T16:27:14.684Z"
   },
   {
    "duration": 4,
    "start_time": "2021-10-26T16:27:14.708Z"
   },
   {
    "duration": 6,
    "start_time": "2021-10-26T16:27:14.714Z"
   },
   {
    "duration": 123,
    "start_time": "2021-10-26T16:27:14.722Z"
   },
   {
    "duration": 7,
    "start_time": "2021-10-26T16:27:14.847Z"
   },
   {
    "duration": 10,
    "start_time": "2021-10-26T16:27:14.946Z"
   },
   {
    "duration": 89,
    "start_time": "2021-10-26T16:27:14.958Z"
   },
   {
    "duration": 96,
    "start_time": "2021-10-26T16:27:15.050Z"
   },
   {
    "duration": 13,
    "start_time": "2021-10-26T16:27:15.148Z"
   },
   {
    "duration": 1358,
    "start_time": "2021-10-26T21:30:12.050Z"
   },
   {
    "duration": 26,
    "start_time": "2021-10-26T21:30:13.411Z"
   },
   {
    "duration": 24,
    "start_time": "2021-10-26T21:30:13.440Z"
   },
   {
    "duration": 55,
    "start_time": "2021-10-26T21:30:13.468Z"
   },
   {
    "duration": 5,
    "start_time": "2021-10-26T21:30:14.825Z"
   },
   {
    "duration": 6,
    "start_time": "2021-10-26T21:30:15.121Z"
   },
   {
    "duration": 80,
    "start_time": "2021-10-26T21:30:15.428Z"
   },
   {
    "duration": 7,
    "start_time": "2021-10-26T21:30:15.746Z"
   },
   {
    "duration": 64,
    "start_time": "2021-10-26T21:30:16.048Z"
   },
   {
    "duration": 6,
    "start_time": "2021-10-26T21:30:16.213Z"
   },
   {
    "duration": 12,
    "start_time": "2021-10-26T21:30:16.340Z"
   },
   {
    "duration": 16,
    "start_time": "2021-10-26T21:30:16.494Z"
   },
   {
    "duration": 1347,
    "start_time": "2021-10-27T09:42:17.194Z"
   },
   {
    "duration": 28,
    "start_time": "2021-10-27T09:42:18.543Z"
   },
   {
    "duration": 22,
    "start_time": "2021-10-27T09:42:18.574Z"
   },
   {
    "duration": 43,
    "start_time": "2021-10-27T09:42:18.599Z"
   },
   {
    "duration": 6,
    "start_time": "2021-10-27T09:42:18.644Z"
   },
   {
    "duration": 9,
    "start_time": "2021-10-27T09:42:18.653Z"
   },
   {
    "duration": 71,
    "start_time": "2021-10-27T09:42:18.664Z"
   },
   {
    "duration": 95,
    "start_time": "2021-10-27T09:42:18.739Z"
   },
   {
    "duration": 193,
    "start_time": "2021-10-27T09:42:18.837Z"
   },
   {
    "duration": 5,
    "start_time": "2021-10-27T09:42:19.033Z"
   },
   {
    "duration": 16,
    "start_time": "2021-10-27T09:42:19.040Z"
   },
   {
    "duration": 18,
    "start_time": "2021-10-27T09:42:19.058Z"
   },
   {
    "duration": 4,
    "start_time": "2021-10-27T10:27:44.182Z"
   },
   {
    "duration": 41,
    "start_time": "2021-10-27T10:27:44.190Z"
   },
   {
    "duration": 13,
    "start_time": "2021-10-27T10:27:44.235Z"
   },
   {
    "duration": 38,
    "start_time": "2021-10-27T10:27:44.251Z"
   },
   {
    "duration": 5,
    "start_time": "2021-10-27T10:27:44.292Z"
   },
   {
    "duration": 36,
    "start_time": "2021-10-27T10:27:44.299Z"
   },
   {
    "duration": 99,
    "start_time": "2021-10-27T10:27:44.337Z"
   },
   {
    "duration": 94,
    "start_time": "2021-10-27T10:27:44.439Z"
   },
   {
    "duration": 193,
    "start_time": "2021-10-27T10:27:44.538Z"
   },
   {
    "duration": 96,
    "start_time": "2021-10-27T10:27:44.737Z"
   },
   {
    "duration": 26,
    "start_time": "2021-10-27T10:27:44.835Z"
   },
   {
    "duration": 25,
    "start_time": "2021-10-27T10:27:44.864Z"
   },
   {
    "duration": 4,
    "start_time": "2021-10-27T12:42:01.593Z"
   },
   {
    "duration": 33,
    "start_time": "2021-10-27T12:42:01.603Z"
   },
   {
    "duration": 27,
    "start_time": "2021-10-27T12:42:01.639Z"
   },
   {
    "duration": 28,
    "start_time": "2021-10-27T12:42:01.668Z"
   },
   {
    "duration": 5,
    "start_time": "2021-10-27T12:42:01.780Z"
   },
   {
    "duration": 50,
    "start_time": "2021-10-27T12:42:01.788Z"
   },
   {
    "duration": 31,
    "start_time": "2021-10-27T12:42:01.841Z"
   },
   {
    "duration": 130,
    "start_time": "2021-10-27T12:42:01.932Z"
   },
   {
    "duration": 72,
    "start_time": "2021-10-27T12:42:02.066Z"
   },
   {
    "duration": 187,
    "start_time": "2021-10-27T12:42:02.142Z"
   },
   {
    "duration": 24,
    "start_time": "2021-10-27T12:42:02.332Z"
   },
   {
    "duration": 27,
    "start_time": "2021-10-27T12:42:02.359Z"
   },
   {
    "duration": 1302,
    "start_time": "2021-10-27T14:46:35.427Z"
   },
   {
    "duration": 24,
    "start_time": "2021-10-27T14:46:36.731Z"
   },
   {
    "duration": 19,
    "start_time": "2021-10-27T14:46:36.758Z"
   },
   {
    "duration": 28,
    "start_time": "2021-10-27T14:46:36.779Z"
   },
   {
    "duration": 5,
    "start_time": "2021-10-27T14:46:36.830Z"
   },
   {
    "duration": 6,
    "start_time": "2021-10-27T14:46:36.838Z"
   },
   {
    "duration": 86,
    "start_time": "2021-10-27T14:46:36.846Z"
   },
   {
    "duration": 96,
    "start_time": "2021-10-27T14:46:36.937Z"
   },
   {
    "duration": 100,
    "start_time": "2021-10-27T14:46:37.037Z"
   },
   {
    "duration": 7,
    "start_time": "2021-10-27T14:46:37.229Z"
   },
   {
    "duration": 17,
    "start_time": "2021-10-27T14:46:37.239Z"
   },
   {
    "duration": 78,
    "start_time": "2021-10-27T14:46:37.259Z"
   }
  ],
  "kernelspec": {
   "display_name": "Python 3",
   "language": "python",
   "name": "python3"
  },
  "language_info": {
   "codemirror_mode": {
    "name": "ipython",
    "version": 3
   },
   "file_extension": ".py",
   "mimetype": "text/x-python",
   "name": "python",
   "nbconvert_exporter": "python",
   "pygments_lexer": "ipython3",
   "version": "3.7.8"
  },
  "toc": {
   "base_numbering": 1,
   "nav_menu": {},
   "number_sections": true,
   "sideBar": true,
   "skip_h1_title": true,
   "title_cell": "Содержание",
   "title_sidebar": "Contents",
   "toc_cell": true,
   "toc_position": {
    "height": "calc(100% - 180px)",
    "left": "10px",
    "top": "150px",
    "width": "255.594px"
   },
   "toc_section_display": true,
   "toc_window_display": false
  }
 },
 "nbformat": 4,
 "nbformat_minor": 2
}
