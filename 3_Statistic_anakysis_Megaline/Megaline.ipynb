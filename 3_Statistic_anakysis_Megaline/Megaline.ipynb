{
 "cells": [
  {
   "cell_type": "markdown",
   "metadata": {
    "toc": true
   },
   "source": [
    "<h1>Содержание<span class=\"tocSkip\"></span></h1>\n",
    "<div class=\"toc\"><ul class=\"toc-item\"><li><span><a href=\"#Изучение-общей-информации\" data-toc-modified-id=\"Изучение-общей-информации-1\"><span class=\"toc-item-num\">1&nbsp;&nbsp;</span>Изучение общей информации</a></span></li><li><span><a href=\"#Подготовка-данных\" data-toc-modified-id=\"Подготовка-данных-2\"><span class=\"toc-item-num\">2&nbsp;&nbsp;</span>Подготовка данных</a></span></li><li><span><a href=\"#Посчитаю-для-каждого-пользователя:\" data-toc-modified-id=\"Посчитаю-для-каждого-пользователя:-3\"><span class=\"toc-item-num\">3&nbsp;&nbsp;</span>Посчитаю для каждого пользователя:</a></span><ul class=\"toc-item\"><li><span><a href=\"#Количество-сделанных-звонков-и-израсходованных-минут-разговора-по-месяцам:\" data-toc-modified-id=\"Количество-сделанных-звонков-и-израсходованных-минут-разговора-по-месяцам:-3.1\"><span class=\"toc-item-num\">3.1&nbsp;&nbsp;</span>Количество сделанных звонков и израсходованных минут разговора по месяцам:</a></span></li><li><span><a href=\"#Количество-отправленных-сообщений-по-месяцам:\" data-toc-modified-id=\"Количество-отправленных-сообщений-по-месяцам:-3.2\"><span class=\"toc-item-num\">3.2&nbsp;&nbsp;</span>Количество отправленных сообщений по месяцам:</a></span></li><li><span><a href=\"#Объем-израсходованного-интернет-трафика-по-месяцам:\" data-toc-modified-id=\"Объем-израсходованного-интернет-трафика-по-месяцам:-3.3\"><span class=\"toc-item-num\">3.3&nbsp;&nbsp;</span>Объем израсходованного интернет-трафика по месяцам:</a></span></li><li><span><a href=\"#Помесячную-выручку-с-каждого-пользователя:\" data-toc-modified-id=\"Помесячную-выручку-с-каждого-пользователя:-3.4\"><span class=\"toc-item-num\">3.4&nbsp;&nbsp;</span>Помесячную выручку с каждого пользователя:</a></span></li></ul></li><li><span><a href=\"#Анализ-данных\" data-toc-modified-id=\"Анализ-данных-4\"><span class=\"toc-item-num\">4&nbsp;&nbsp;</span>Анализ данных</a></span></li><li><span><a href=\"#Проверка-гипотез\" data-toc-modified-id=\"Проверка-гипотез-5\"><span class=\"toc-item-num\">5&nbsp;&nbsp;</span>Проверка гипотез</a></span><ul class=\"toc-item\"><li><span><a href=\"#Cредняя-выручка-пользователей-тарифов-«Ультра»-и-«Смарт»-различаются\" data-toc-modified-id=\"Cредняя-выручка-пользователей-тарифов-«Ультра»-и-«Смарт»-различаются-5.1\"><span class=\"toc-item-num\">5.1&nbsp;&nbsp;</span>Cредняя выручка пользователей тарифов «Ультра» и «Смарт» различаются</a></span></li><li><span><a href=\"#Cредняя-выручка-пользователи-из-Москвы-отличается-от-выручки-пользователей-из-других-регионов.\" data-toc-modified-id=\"Cредняя-выручка-пользователи-из-Москвы-отличается-от-выручки-пользователей-из-других-регионов.-5.2\"><span class=\"toc-item-num\">5.2&nbsp;&nbsp;</span>Cредняя выручка пользователи из Москвы отличается от выручки пользователей из других регионов.</a></span></li></ul></li><li><span><a href=\"#Вывод\" data-toc-modified-id=\"Вывод-6\"><span class=\"toc-item-num\">6&nbsp;&nbsp;</span>Вывод</a></span></li></ul></div>"
   ]
  },
  {
   "cell_type": "markdown",
   "metadata": {},
   "source": [
    "# Определение перспективного тарифа для телеком-компании\n",
    "Вы аналитик компании «Мегалайн» — федерального оператора сотовой связи. Клиентам предлагают два тарифных плана: «Смарт» и «Ультра». Чтобы скорректировать рекламный бюджет, коммерческий департамент хочет понять, какой тариф приносит больше денег.\n",
    "Вам предстоит сделать предварительный анализ тарифов на небольшой выборке клиентов. В вашем распоряжении данные 500 пользователей «Мегалайна»: кто они, откуда, каким тарифом пользуются, сколько звонков и сообщений каждый отправил за 2018 год. Нужно проанализировать поведение клиентов и сделать вывод — какой тариф лучше."
   ]
  },
  {
   "cell_type": "markdown",
   "metadata": {},
   "source": [
    "Описание тарифов:\n",
    "\n",
    "# Тариф «Смарт»\n",
    "Ежемесячная плата: 550 рублей\n",
    "Включено 500 минут разговора, 50 сообщений и 15 Гб интернет-трафика\n",
    "\n",
    "Стоимость услуг сверх тарифного пакета: \n",
    "- минута разговора: 3 рубля («Мегалайн» всегда округляет вверх значения минут и мегабайтов. Если пользователь проговорил всего 1 секунду, в тарифе засчитывается целая минута); \n",
    "- сообщение: 3 рубля; \n",
    "- 1 Гб интернет-трафика: 200 рублей.\n",
    "\n",
    "# Тариф «Ультра»\n",
    "Ежемесячная плата: 1950 рублей\n",
    "Включено 3000 минут разговора, 1000 сообщений и 30 Гб интернет-трафика\n",
    "\n",
    "Стоимость услуг сверх тарифного пакета: \n",
    "- минута разговора: 1 рубль; \n",
    "- сообщение: 1 рубль; \n",
    "- 1 Гб интернет-трафика: 150 рублей.\n",
    "\n",
    "    Примечание:\n",
    "«Мегалайн» всегда округляет секунды до минут, а мегабайты — до гигабайт. Каждый звонок округляется отдельно: даже если он длился всего 1 секунду, будет засчитан как 1 минута.\n",
    "Для веб-трафика отдельные сессии не считаются. Вместо этого общая сумма за месяц округляется в бо́льшую сторону. Если абонент использует 1025 мегабайт в этом месяце, с него возьмут плату за 2 гигабайта."
   ]
  },
  {
   "cell_type": "markdown",
   "metadata": {},
   "source": [
    "##   Изучение общей информации"
   ]
  },
  {
   "cell_type": "code",
   "execution_count": 1,
   "metadata": {},
   "outputs": [],
   "source": [
    "import pandas as pd\n",
    "import numpy as np\n",
    "import matplotlib.pyplot as plt\n",
    "import seaborn as sns\n",
    "from scipy import stats as st"
   ]
  },
  {
   "cell_type": "code",
   "execution_count": 2,
   "metadata": {},
   "outputs": [],
   "source": [
    "calls = pd.read_csv('/datasets/calls.csv')\n",
    "internet = pd.read_csv('/datasets/internet.csv')\n",
    "messages = pd.read_csv('/datasets/messages.csv')\n",
    "users = pd.read_csv('/datasets/users.csv')\n",
    "tariffs = pd.read_csv('/datasets/tariffs.csv')"
   ]
  },
  {
   "cell_type": "markdown",
   "metadata": {},
   "source": [
    "<div class=\"alert alert-success\">\n",
    "<b>Комментарий ревьюера v1:</b>\n",
    "\n",
    "\n",
    "Здорово, что загрузка библиотек и данных сгруппированы в начале проекта. \n",
    "\n",
    "</div>\n"
   ]
  },
  {
   "cell_type": "markdown",
   "metadata": {},
   "source": [
    "## Подготовка данных"
   ]
  },
  {
   "cell_type": "code",
   "execution_count": 3,
   "metadata": {},
   "outputs": [
    {
     "name": "stdout",
     "output_type": "stream",
     "text": [
      "<class 'pandas.core.frame.DataFrame'>\n",
      "RangeIndex: 202607 entries, 0 to 202606\n",
      "Data columns (total 4 columns):\n",
      "id           202607 non-null object\n",
      "call_date    202607 non-null object\n",
      "duration     202607 non-null float64\n",
      "user_id      202607 non-null int64\n",
      "dtypes: float64(1), int64(1), object(2)\n",
      "memory usage: 6.2+ MB\n"
     ]
    }
   ],
   "source": [
    "calls.info()"
   ]
  },
  {
   "cell_type": "code",
   "execution_count": 4,
   "metadata": {},
   "outputs": [
    {
     "name": "stdout",
     "output_type": "stream",
     "text": [
      "39613\n"
     ]
    },
    {
     "data": {
      "image/png": "[encoded data removed]",
      "text/plain": [
       "<Figure size 432x288 with 1 Axes>"
      ]
     },
     "metadata": {
      "needs_background": "light"
     },
     "output_type": "display_data"
    }
   ],
   "source": [
    "print(calls[calls['duration'] == 0]['duration'].count())\n",
    "calls['duration'].hist(bins= 100)\n",
    "plt.show()"
   ]
  },
  {
   "cell_type": "markdown",
   "metadata": {},
   "source": [
    "    Всего 200 тыс. звонков, из них 39 тыс. продолжительностью 0 минут, скорее всего это пропущенные входящие звонки (звонок есть, продолжительность 0)\n",
    "    Убрав их потеряю много данных, оставляю"
   ]
  },
  {
   "cell_type": "code",
   "execution_count": 5,
   "metadata": {},
   "outputs": [
    {
     "name": "stdout",
     "output_type": "stream",
     "text": [
      "19598\n",
      "Unnamed: 0      149396\n",
      "id              149396\n",
      "mb_used         149396\n",
      "session_date    149396\n",
      "user_id         149396\n",
      "dtype: int64\n"
     ]
    },
    {
     "data": {
      "image/png": "[encoded data removed]",
      "text/plain": [
       "<Figure size 432x288 with 1 Axes>"
      ]
     },
     "metadata": {
      "needs_background": "light"
     },
     "output_type": "display_data"
    }
   ],
   "source": [
    "print(internet[internet['mb_used'] == 0]['mb_used'].count(), internet.count(), sep='\\n')\n",
    "internet['mb_used'].hist(bins=100)\n",
    "plt.show()"
   ]
  },
  {
   "cell_type": "markdown",
   "metadata": {},
   "source": [
    "    Всего зафиксировано 150 тыс. сессий, из них почти в 20 тыс. объём 0 мб. Либо сессия была очень короткой и округлилась в меньшую сторону, либо это связвно с техническими особенностями оператора\n",
    "    Убирать эти данные не буду"
   ]
  },
  {
   "cell_type": "code",
   "execution_count": 6,
   "metadata": {},
   "outputs": [],
   "source": [
    "calls['call_date'] = pd.to_datetime(  #даты к формату дат\n",
    "    calls['call_date'], \n",
    "    format='%Y-%m-%d'\n",
    ")\n",
    "users['reg_date'] = pd.to_datetime(\n",
    "    users['reg_date'], \n",
    "    format='%Y-%m-%d'\n",
    ")\n",
    "internet['session_date'] = pd.to_datetime(\n",
    "    internet['session_date'], \n",
    "    format='%Y-%m-%d'\n",
    ")\n",
    "messages['message_date'] = pd.to_datetime(\n",
    "    messages['message_date'], \n",
    "    format='%Y-%m-%d'\n",
    ")"
   ]
  },
  {
   "cell_type": "markdown",
   "metadata": {},
   "source": [
    "    Привел даты к удобному формату"
   ]
  },
  {
   "cell_type": "code",
   "execution_count": 7,
   "metadata": {},
   "outputs": [],
   "source": [
    "def duble(smthng):\n",
    "    print(smthng.duplicated().sum())"
   ]
  },
  {
   "cell_type": "code",
   "execution_count": 8,
   "metadata": {},
   "outputs": [
    {
     "name": "stdout",
     "output_type": "stream",
     "text": [
      "0\n",
      "0\n",
      "0\n",
      "0\n"
     ]
    }
   ],
   "source": [
    "datum = [calls, users, internet, messages]\n",
    "for i in datum:\n",
    "    duble(i)"
   ]
  },
  {
   "cell_type": "markdown",
   "metadata": {},
   "source": [
    "    Повторов не было"
   ]
  },
  {
   "cell_type": "markdown",
   "metadata": {},
   "source": [
    "## Посчитаю для каждого пользователя: "
   ]
  },
  {
   "cell_type": "markdown",
   "metadata": {},
   "source": [
    "### Количество сделанных звонков и израсходованных минут разговора по месяцам:\n"
   ]
  },
  {
   "cell_type": "code",
   "execution_count": 9,
   "metadata": {},
   "outputs": [],
   "source": [
    "calls['duration'] = np.ceil(calls['duration'])"
   ]
  },
  {
   "cell_type": "markdown",
   "metadata": {},
   "source": [
    "    Округлил в большую сторону, как указано в тарифе"
   ]
  },
  {
   "cell_type": "code",
   "execution_count": 10,
   "metadata": {},
   "outputs": [],
   "source": [
    "calls['month'] = calls['call_date'].dt.month_name()"
   ]
  },
  {
   "cell_type": "markdown",
   "metadata": {},
   "source": [
    "    Добавил столбец с месяцами"
   ]
  },
  {
   "cell_type": "markdown",
   "metadata": {},
   "source": [
    "### Количество отправленных сообщений по месяцам:\n"
   ]
  },
  {
   "cell_type": "code",
   "execution_count": 11,
   "metadata": {},
   "outputs": [],
   "source": [
    "messages['month'] = messages['message_date'].dt.month_name()"
   ]
  },
  {
   "cell_type": "markdown",
   "metadata": {},
   "source": [
    "### Объем израсходованного интернет-трафика по месяцам:"
   ]
  },
  {
   "cell_type": "code",
   "execution_count": 12,
   "metadata": {},
   "outputs": [],
   "source": [
    "internet['month'] = internet['session_date'].dt.month_name()"
   ]
  },
  {
   "cell_type": "markdown",
   "metadata": {},
   "source": [
    "### Помесячную выручку с каждого пользователя:"
   ]
  },
  {
   "cell_type": "code",
   "execution_count": 13,
   "metadata": {},
   "outputs": [],
   "source": [
    "calls_monthly = calls.pivot_table(index=['user_id', 'month'], \n",
    "                                  values=['id','duration'], \n",
    "                                  aggfunc= {'id':'count',\n",
    "                                            'duration':'sum'\n",
    "                                            }  \n",
    ")\n",
    "calls_monthly.columns = ['duration', 'number_of_calls']"
   ]
  },
  {
   "cell_type": "markdown",
   "metadata": {},
   "source": [
    "    Посчитал количество звонков и общую длительность разговоров по месячно для каждого пользователя"
   ]
  },
  {
   "cell_type": "code",
   "execution_count": 14,
   "metadata": {},
   "outputs": [],
   "source": [
    "msg_monthly = internet.pivot_table(index=['user_id', 'month'], \n",
    "                                  values=['id'], \n",
    "                                  aggfunc='count'\n",
    ")\n",
    "msg_monthly.columns = ['number_of_messages']"
   ]
  },
  {
   "cell_type": "markdown",
   "metadata": {},
   "source": [
    "    Посчитал количество сообщений в месяц для каждого пользователя"
   ]
  },
  {
   "cell_type": "code",
   "execution_count": 15,
   "metadata": {},
   "outputs": [],
   "source": [
    "int_monthly = internet.pivot_table(index=['user_id', 'month'], \n",
    "                                  values= ['id', 'mb_used'], \n",
    "                                  aggfunc= {'id':'count',\n",
    "                                            'mb_used':'sum'\n",
    "                                            }                                    \n",
    ")\n",
    "int_monthly.columns = ['number_of_sessions', 'mb_used']"
   ]
  },
  {
   "cell_type": "markdown",
   "metadata": {},
   "source": [
    "    Аналогично для интернет трафика"
   ]
  },
  {
   "cell_type": "code",
   "execution_count": 16,
   "metadata": {},
   "outputs": [],
   "source": [
    "result = calls_monthly.merge(msg_monthly, \n",
    "                             on=['user_id', 'month'], \n",
    "                             how='outer'\n",
    ")\n",
    "result = result.merge(int_monthly,\n",
    "                      on=['user_id', 'month'], \n",
    "                      how='outer'\n",
    ")"
   ]
  },
  {
   "cell_type": "markdown",
   "metadata": {},
   "source": [
    "    Объединил в одну таблицу"
   ]
  },
  {
   "cell_type": "code",
   "execution_count": 17,
   "metadata": {},
   "outputs": [],
   "source": [
    "result = result.fillna(0)"
   ]
  },
  {
   "cell_type": "markdown",
   "metadata": {},
   "source": [
    "    Заполнил пропуски 0"
   ]
  },
  {
   "cell_type": "code",
   "execution_count": 18,
   "metadata": {},
   "outputs": [],
   "source": [
    "def full_gigabytes(df):                 \n",
    "    return np.ceil(df / 1024)\n",
    "\n",
    "result['full_gigabytes'] = result['mb_used'].apply(full_gigabytes)"
   ]
  },
  {
   "cell_type": "markdown",
   "metadata": {},
   "source": [
    "    Округляю трафик до Гб как по тарифу"
   ]
  },
  {
   "cell_type": "code",
   "execution_count": 19,
   "metadata": {},
   "outputs": [
    {
     "name": "stdout",
     "output_type": "stream",
     "text": [
      "Index(['messages_included', 'mb_per_month_included', 'minutes_included',\n",
      "       'rub_monthly_fee', 'rub_per_gb', 'rub_per_message', 'rub_per_minute',\n",
      "       'tariff'],\n",
      "      dtype='object')\n"
     ]
    }
   ],
   "source": [
    "result = result.join(users.set_index('user_id'), on='user_id')\n",
    "\n",
    "tariffs.set_axis(['messages_included', 'mb_per_month_included', 'minutes_included',\n",
    "       'rub_monthly_fee', 'rub_per_gb', 'rub_per_message', 'rub_per_minute',\n",
    "       'tariff'], axis= 'columns', inplace=True)\n",
    "print(tariffs.columns)                                              #поменял имя стобца для join`а\n",
    "result = result.join(tariffs.set_index('tariff'), on='tariff')"
   ]
  },
  {
   "cell_type": "markdown",
   "metadata": {},
   "source": [
    "    Добавил данные о пользователях, в т. ч. данные о тарифе"
   ]
  },
  {
   "cell_type": "code",
   "execution_count": 20,
   "metadata": {
    "scrolled": true
   },
   "outputs": [],
   "source": [
    "def income(df):\n",
    "    payment = 0\n",
    "    if df['tariff'] == 'smart':\n",
    "        if df['duration'] > df['minutes_included']:\n",
    "            payment = (df['duration'] - df['minutes_included']) * df['rub_per_minute']\n",
    "        if df['number_of_messages'] > df['messages_included']:\n",
    "            payment += (df['number_of_messages'] - df['messages_included']) * df['rub_per_message']\n",
    "        if df['full_gigabytes'] > np.ceil(df['mb_per_month_included'] / 1024):\n",
    "            payment += (df['full_gigabytes'] - np.ceil(df['mb_per_month_included'] / 1024)) * df['rub_per_gb']\n",
    "        return (df['rub_monthly_fee'] + payment)\n",
    "    if df['tariff'] == 'ultra':\n",
    "        if df['duration'] > df['minutes_included']:\n",
    "            payment = (df['duration'] - df['minutes_included']) * df['rub_per_minute']\n",
    "        if df['number_of_messages'] > df['messages_included']:\n",
    "            payment += (df['number_of_messages'] - df['messages_included']) * df['rub_per_message']\n",
    "        if df['full_gigabytes'] > np.ceil(df['mb_per_month_included'] / 1024):\n",
    "            payment += (df['full_gigabytes'] - np.ceil(df['mb_per_month_included'] / 1024)) * df['rub_per_gb']\n",
    "        return (df['rub_monthly_fee'] + payment)"
   ]
  },
  {
   "cell_type": "code",
   "execution_count": 21,
   "metadata": {},
   "outputs": [
    {
     "data": {
      "text/plain": [
       "Index(['duration', 'number_of_calls', 'number_of_messages',\n",
       "       'number_of_sessions', 'mb_used', 'full_gigabytes', 'age', 'churn_date',\n",
       "       'city', 'first_name', 'last_name', 'reg_date', 'tariff',\n",
       "       'messages_included', 'mb_per_month_included', 'minutes_included',\n",
       "       'rub_monthly_fee', 'rub_per_gb', 'rub_per_message', 'rub_per_minute'],\n",
       "      dtype='object')"
      ]
     },
     "execution_count": 21,
     "metadata": {},
     "output_type": "execute_result"
    }
   ],
   "source": [
    "result.columns"
   ]
  },
  {
   "cell_type": "code",
   "execution_count": 22,
   "metadata": {},
   "outputs": [],
   "source": [
    "result['income'] = result.apply(income, axis=1)"
   ]
  },
  {
   "cell_type": "markdown",
   "metadata": {},
   "source": [
    "    Посчитал помесячную выручку с каждого пользователя"
   ]
  },
  {
   "cell_type": "code",
   "execution_count": 23,
   "metadata": {},
   "outputs": [],
   "source": [
    "result = result.reset_index()"
   ]
  },
  {
   "cell_type": "markdown",
   "metadata": {},
   "source": [
    "## Анализ данных"
   ]
  },
  {
   "cell_type": "code",
   "execution_count": 24,
   "metadata": {},
   "outputs": [],
   "source": [
    "result_smart = result[result['tariff'] == 'smart']\n",
    "result_ultra = result[result['tariff'] == 'ultra']"
   ]
  },
  {
   "cell_type": "code",
   "execution_count": 25,
   "metadata": {},
   "outputs": [
    {
     "name": "stdout",
     "output_type": "stream",
     "text": [
      "Тариф smart\n"
     ]
    },
    {
     "data": {
      "text/plain": [
       "'mean'"
      ]
     },
     "metadata": {},
     "output_type": "display_data"
    },
    {
     "data": {
      "text/plain": [
       "'duration'"
      ]
     },
     "metadata": {},
     "output_type": "display_data"
    },
    {
     "data": {
      "text/plain": [
       "417"
      ]
     },
     "metadata": {},
     "output_type": "display_data"
    },
    {
     "name": "stdout",
     "output_type": "stream",
     "text": [
      "\n",
      "\n"
     ]
    },
    {
     "data": {
      "text/plain": [
       "'mean'"
      ]
     },
     "metadata": {},
     "output_type": "display_data"
    },
    {
     "data": {
      "text/plain": [
       "'full_gigabytes'"
      ]
     },
     "metadata": {},
     "output_type": "display_data"
    },
    {
     "data": {
      "text/plain": [
       "16"
      ]
     },
     "metadata": {},
     "output_type": "display_data"
    },
    {
     "name": "stdout",
     "output_type": "stream",
     "text": [
      "\n",
      "\n"
     ]
    },
    {
     "data": {
      "text/plain": [
       "'mean'"
      ]
     },
     "metadata": {},
     "output_type": "display_data"
    },
    {
     "data": {
      "text/plain": [
       "'number_of_messages'"
      ]
     },
     "metadata": {},
     "output_type": "display_data"
    },
    {
     "data": {
      "text/plain": [
       "50"
      ]
     },
     "metadata": {},
     "output_type": "display_data"
    },
    {
     "name": "stdout",
     "output_type": "stream",
     "text": [
      "\n",
      "\n"
     ]
    },
    {
     "data": {
      "text/plain": [
       "'var'"
      ]
     },
     "metadata": {},
     "output_type": "display_data"
    },
    {
     "data": {
      "text/plain": [
       "'duration'"
      ]
     },
     "metadata": {},
     "output_type": "display_data"
    },
    {
     "data": {
      "text/plain": [
       "36219"
      ]
     },
     "metadata": {},
     "output_type": "display_data"
    },
    {
     "name": "stdout",
     "output_type": "stream",
     "text": [
      "\n",
      "\n"
     ]
    },
    {
     "data": {
      "text/plain": [
       "'var'"
      ]
     },
     "metadata": {},
     "output_type": "display_data"
    },
    {
     "data": {
      "text/plain": [
       "'full_gigabytes'"
      ]
     },
     "metadata": {},
     "output_type": "display_data"
    },
    {
     "data": {
      "text/plain": [
       "33"
      ]
     },
     "metadata": {},
     "output_type": "display_data"
    },
    {
     "name": "stdout",
     "output_type": "stream",
     "text": [
      "\n",
      "\n"
     ]
    },
    {
     "data": {
      "text/plain": [
       "'var'"
      ]
     },
     "metadata": {},
     "output_type": "display_data"
    },
    {
     "data": {
      "text/plain": [
       "'number_of_messages'"
      ]
     },
     "metadata": {},
     "output_type": "display_data"
    },
    {
     "data": {
      "text/plain": [
       "301"
      ]
     },
     "metadata": {},
     "output_type": "display_data"
    },
    {
     "name": "stdout",
     "output_type": "stream",
     "text": [
      "\n",
      "\n"
     ]
    },
    {
     "data": {
      "text/plain": [
       "'std'"
      ]
     },
     "metadata": {},
     "output_type": "display_data"
    },
    {
     "data": {
      "text/plain": [
       "'duration'"
      ]
     },
     "metadata": {},
     "output_type": "display_data"
    },
    {
     "data": {
      "text/plain": [
       "190"
      ]
     },
     "metadata": {},
     "output_type": "display_data"
    },
    {
     "name": "stdout",
     "output_type": "stream",
     "text": [
      "\n",
      "\n"
     ]
    },
    {
     "data": {
      "text/plain": [
       "'std'"
      ]
     },
     "metadata": {},
     "output_type": "display_data"
    },
    {
     "data": {
      "text/plain": [
       "'full_gigabytes'"
      ]
     },
     "metadata": {},
     "output_type": "display_data"
    },
    {
     "data": {
      "text/plain": [
       "5"
      ]
     },
     "metadata": {},
     "output_type": "display_data"
    },
    {
     "name": "stdout",
     "output_type": "stream",
     "text": [
      "\n",
      "\n"
     ]
    },
    {
     "data": {
      "text/plain": [
       "'std'"
      ]
     },
     "metadata": {},
     "output_type": "display_data"
    },
    {
     "data": {
      "text/plain": [
       "'number_of_messages'"
      ]
     },
     "metadata": {},
     "output_type": "display_data"
    },
    {
     "data": {
      "text/plain": [
       "17"
      ]
     },
     "metadata": {},
     "output_type": "display_data"
    },
    {
     "name": "stdout",
     "output_type": "stream",
     "text": [
      "\n",
      "\n",
      "Тариф ultra\n"
     ]
    },
    {
     "data": {
      "text/plain": [
       "'mean'"
      ]
     },
     "metadata": {},
     "output_type": "display_data"
    },
    {
     "data": {
      "text/plain": [
       "'duration'"
      ]
     },
     "metadata": {},
     "output_type": "display_data"
    },
    {
     "data": {
      "text/plain": [
       "526"
      ]
     },
     "metadata": {},
     "output_type": "display_data"
    },
    {
     "name": "stdout",
     "output_type": "stream",
     "text": [
      "\n",
      "\n"
     ]
    },
    {
     "data": {
      "text/plain": [
       "'mean'"
      ]
     },
     "metadata": {},
     "output_type": "display_data"
    },
    {
     "data": {
      "text/plain": [
       "'full_gigabytes'"
      ]
     },
     "metadata": {},
     "output_type": "display_data"
    },
    {
     "data": {
      "text/plain": [
       "19"
      ]
     },
     "metadata": {},
     "output_type": "display_data"
    },
    {
     "name": "stdout",
     "output_type": "stream",
     "text": [
      "\n",
      "\n"
     ]
    },
    {
     "data": {
      "text/plain": [
       "'mean'"
      ]
     },
     "metadata": {},
     "output_type": "display_data"
    },
    {
     "data": {
      "text/plain": [
       "'number_of_messages'"
      ]
     },
     "metadata": {},
     "output_type": "display_data"
    },
    {
     "data": {
      "text/plain": [
       "38"
      ]
     },
     "metadata": {},
     "output_type": "display_data"
    },
    {
     "name": "stdout",
     "output_type": "stream",
     "text": [
      "\n",
      "\n"
     ]
    },
    {
     "data": {
      "text/plain": [
       "'var'"
      ]
     },
     "metadata": {},
     "output_type": "display_data"
    },
    {
     "data": {
      "text/plain": [
       "'duration'"
      ]
     },
     "metadata": {},
     "output_type": "display_data"
    },
    {
     "data": {
      "text/plain": [
       "100873"
      ]
     },
     "metadata": {},
     "output_type": "display_data"
    },
    {
     "name": "stdout",
     "output_type": "stream",
     "text": [
      "\n",
      "\n"
     ]
    },
    {
     "data": {
      "text/plain": [
       "'var'"
      ]
     },
     "metadata": {},
     "output_type": "display_data"
    },
    {
     "data": {
      "text/plain": [
       "'full_gigabytes'"
      ]
     },
     "metadata": {},
     "output_type": "display_data"
    },
    {
     "data": {
      "text/plain": [
       "97"
      ]
     },
     "metadata": {},
     "output_type": "display_data"
    },
    {
     "name": "stdout",
     "output_type": "stream",
     "text": [
      "\n",
      "\n"
     ]
    },
    {
     "data": {
      "text/plain": [
       "'var'"
      ]
     },
     "metadata": {},
     "output_type": "display_data"
    },
    {
     "data": {
      "text/plain": [
       "'number_of_messages'"
      ]
     },
     "metadata": {},
     "output_type": "display_data"
    },
    {
     "data": {
      "text/plain": [
       "385"
      ]
     },
     "metadata": {},
     "output_type": "display_data"
    },
    {
     "name": "stdout",
     "output_type": "stream",
     "text": [
      "\n",
      "\n"
     ]
    },
    {
     "data": {
      "text/plain": [
       "'std'"
      ]
     },
     "metadata": {},
     "output_type": "display_data"
    },
    {
     "data": {
      "text/plain": [
       "'duration'"
      ]
     },
     "metadata": {},
     "output_type": "display_data"
    },
    {
     "data": {
      "text/plain": [
       "317"
      ]
     },
     "metadata": {},
     "output_type": "display_data"
    },
    {
     "name": "stdout",
     "output_type": "stream",
     "text": [
      "\n",
      "\n"
     ]
    },
    {
     "data": {
      "text/plain": [
       "'std'"
      ]
     },
     "metadata": {},
     "output_type": "display_data"
    },
    {
     "data": {
      "text/plain": [
       "'full_gigabytes'"
      ]
     },
     "metadata": {},
     "output_type": "display_data"
    },
    {
     "data": {
      "text/plain": [
       "9"
      ]
     },
     "metadata": {},
     "output_type": "display_data"
    },
    {
     "name": "stdout",
     "output_type": "stream",
     "text": [
      "\n",
      "\n"
     ]
    },
    {
     "data": {
      "text/plain": [
       "'std'"
      ]
     },
     "metadata": {},
     "output_type": "display_data"
    },
    {
     "data": {
      "text/plain": [
       "'number_of_messages'"
      ]
     },
     "metadata": {},
     "output_type": "display_data"
    },
    {
     "data": {
      "text/plain": [
       "19"
      ]
     },
     "metadata": {},
     "output_type": "display_data"
    },
    {
     "name": "stdout",
     "output_type": "stream",
     "text": [
      "\n",
      "\n"
     ]
    }
   ],
   "source": [
    "smart_data = result_smart.pivot_table(index = 'tariff', \n",
    "                         values = ['duration', 'number_of_messages', 'full_gigabytes'], \n",
    "                         aggfunc = ['mean', 'var', 'std']\n",
    "                         ).astype(int)\n",
    "\n",
    "ultra_data = result_ultra.pivot_table(index = 'tariff', \n",
    "                         values = ['duration', 'number_of_messages', 'full_gigabytes'], \n",
    "                         aggfunc = ['mean', 'var', 'std']\n",
    "                         ).astype(int)\n",
    "print('Тариф smart')\n",
    "for i in range(9):\n",
    "    display(*smart_data.columns[i], smart_data.iloc[0, i])\n",
    "    print('\\n')\n",
    "print('Тариф ultra')\n",
    "for i in range(9):\n",
    "    display(*ultra_data.columns[i], ultra_data.iloc[0, i])\n",
    "    print('\\n')"
   ]
  },
  {
   "cell_type": "markdown",
   "metadata": {},
   "source": [
    "    Посчитал среднее количество, дисперсию и стандартное отклонение"
   ]
  },
  {
   "cell_type": "code",
   "execution_count": 26,
   "metadata": {},
   "outputs": [
    {
     "data": {
      "image/png": "[encoded data removed]",
      "text/plain": [
       "<Figure size 432x288 with 1 Axes>"
      ]
     },
     "metadata": {
      "needs_background": "light"
     },
     "output_type": "display_data"
    }
   ],
   "source": [
    "ax = result.loc[result['tariff'] == 'smart']['duration'].plot(   #ось\n",
    "    kind='hist',                      #тип графика\n",
    "    y='smart_duration',               #ось У\n",
    "    histtype='step',                  #тип гистограммы\n",
    "    bins=100,                         #корзина\n",
    "    linewidth=2,                      #ширина линии\n",
    "    alpha=0.6,                        #прозрачность, чтобы видеть пересечение\n",
    "    label='smart',                    #подпись\n",
    "    legend=True\n",
    ")\n",
    "result.loc[result['tariff'] == 'ultra']['duration'].plot(\n",
    "    kind='hist',\n",
    "    y='ultra_duration',\n",
    "    histtype='step',\n",
    "    bins=100,\n",
    "    linewidth=2,\n",
    "    alpha=0.6,\n",
    "    label='ultra',\n",
    "    ax=ax,                            #ось равно оси первого, чтобы были на одном\n",
    "    grid=True,                        #сетка\n",
    "    legend=True,                      #легенда\n",
    "    title  = 'Длительность разговора', \n",
    ")\n",
    "plt.show()"
   ]
  },
  {
   "cell_type": "code",
   "execution_count": 27,
   "metadata": {},
   "outputs": [
    {
     "data": {
      "image/png": "[encoded data removed]",
      "text/plain": [
       "<Figure size 1152x360 with 2 Axes>"
      ]
     },
     "metadata": {
      "needs_background": "light"
     },
     "output_type": "display_data"
    },
    {
     "data": {
      "image/png": "[encoded data removed]",
      "text/plain": [
       "<Figure size 1152x360 with 2 Axes>"
      ]
     },
     "metadata": {
      "needs_background": "light"
     },
     "output_type": "display_data"
    }
   ],
   "source": [
    "fig, (ax_box, ax_hist) = plt.subplots(2, sharex=True, figsize=(16, 5))\n",
    "sns.distplot(result.loc[result['tariff'] == 'smart']['duration'],ax=ax_hist)\n",
    "sns.boxplot(result.loc[result['tariff'] == 'smart']['duration'], ax=ax_box)\n",
    "plt.show()\n",
    "fig, (ax_box, ax_hist) = plt.subplots(2, sharex=True, figsize=(16, 5))\n",
    "sns.distplot(result.loc[result['tariff'] == 'ultra']['duration'],ax=ax_hist)\n",
    "sns.boxplot(result.loc[result['tariff'] == 'ultra']['duration'], ax=ax_box)\n",
    "plt.show()"
   ]
  },
  {
   "cell_type": "markdown",
   "metadata": {},
   "source": [
    "    Гистограмма длительности разгоровов"
   ]
  },
  {
   "cell_type": "code",
   "execution_count": 28,
   "metadata": {},
   "outputs": [
    {
     "data": {
      "image/png": "[encoded data removed]",
      "text/plain": [
       "<Figure size 432x288 with 1 Axes>"
      ]
     },
     "metadata": {
      "needs_background": "light"
     },
     "output_type": "display_data"
    }
   ],
   "source": [
    "ax = result.loc[result['tariff'] == 'smart']['mb_used'].plot(   #ось\n",
    "    kind='hist',                    #тип графика\n",
    "    y='smart_mb_used',              #ось У\n",
    "    histtype='step',                #тип гистограммы\n",
    "    bins=100,                       #корзина\n",
    "    linewidth=2,                    #ширина линии\n",
    "    alpha=0.6,                      #прозрачность, чтобы видеть пересечение\n",
    "    label='smart',                  #подпись\n",
    "    legend=True, \n",
    "    title  = 'Интернет трафик'\n",
    ")\n",
    "result.loc[result['tariff'] == 'ultra']['mb_used'].plot(\n",
    "    kind='hist',\n",
    "    y='ultra_mb_used',\n",
    "    histtype='step',\n",
    "    bins=100,\n",
    "    linewidth=2,\n",
    "    alpha=0.6,\n",
    "    label='ultra',\n",
    "    ax=ax,                          #ось равно оси первого, чтобы были на одном\n",
    "    grid=True,                      #сетка\n",
    "    legend=True,                    #легенда\n",
    ")\n",
    "plt.show()"
   ]
  },
  {
   "cell_type": "code",
   "execution_count": 29,
   "metadata": {},
   "outputs": [
    {
     "data": {
      "image/png": "[encoded data removed]",
      "text/plain": [
       "<Figure size 1152x360 with 2 Axes>"
      ]
     },
     "metadata": {
      "needs_background": "light"
     },
     "output_type": "display_data"
    },
    {
     "data": {
      "image/png": "[encoded data removed]",
      "text/plain": [
       "<Figure size 1152x360 with 2 Axes>"
      ]
     },
     "metadata": {
      "needs_background": "light"
     },
     "output_type": "display_data"
    }
   ],
   "source": [
    "fig, (ax_box, ax_hist) = plt.subplots(2, sharex=True, figsize=(16, 5))\n",
    "sns.distplot(result.loc[result['tariff'] == 'smart']['mb_used'],ax=ax_hist)\n",
    "sns.boxplot(result.loc[result['tariff'] == 'smart']['mb_used'], ax=ax_box)\n",
    "plt.show()\n",
    "fig, (ax_box, ax_hist) = plt.subplots(2, sharex=True, figsize=(16, 5))\n",
    "sns.distplot(result.loc[result['tariff'] == 'ultra']['mb_used'],ax=ax_hist)\n",
    "sns.boxplot(result.loc[result['tariff'] == 'ultra']['mb_used'], ax=ax_box)\n",
    "plt.show()"
   ]
  },
  {
   "cell_type": "markdown",
   "metadata": {},
   "source": [
    "    Гистограмма израсходованного интернет траффика"
   ]
  },
  {
   "cell_type": "code",
   "execution_count": 30,
   "metadata": {},
   "outputs": [
    {
     "data": {
      "image/png": "[encoded data removed]",
      "text/plain": [
       "<Figure size 432x288 with 1 Axes>"
      ]
     },
     "metadata": {
      "needs_background": "light"
     },
     "output_type": "display_data"
    }
   ],
   "source": [
    "ax = result.loc[result['tariff'] == 'smart']['number_of_messages'].plot(   #ось\n",
    "    kind='hist',                       #тип графика\n",
    "    y='smart_messages',                #ось У\n",
    "    histtype='barstacked',             #тип гистограммы\n",
    "    bins=100,                          #корзина\n",
    "    linewidth=2,                       #ширина линии\n",
    "    alpha=0.6,                         #прозрачность, чтобы видеть пересечение\n",
    "    label='smart',                     #подпись\n",
    "    legend=True\n",
    ")\n",
    "result.loc[result['tariff'] == 'ultra']['number_of_messages'].plot(\n",
    "    kind='hist',\n",
    "    y='ultra_messages',\n",
    "    histtype='barstacked',\n",
    "    bins=100,\n",
    "    linewidth=2,\n",
    "    alpha=0.6,\n",
    "    label='ultra',\n",
    "    ax=ax,                             #ось равно оси первого, чтобы были на одном\n",
    "    grid=True,                         #сетка\n",
    "    legend=True,                       #легенда\n",
    "    title  = 'Количество сообщений', \n",
    ")\n",
    "plt.show()"
   ]
  },
  {
   "cell_type": "code",
   "execution_count": 31,
   "metadata": {},
   "outputs": [
    {
     "data": {
      "image/png": "[encoded data removed]",
      "text/plain": [
       "<Figure size 1152x360 with 2 Axes>"
      ]
     },
     "metadata": {
      "needs_background": "light"
     },
     "output_type": "display_data"
    },
    {
     "data": {
      "image/png": "[encoded data removed]",
      "text/plain": [
       "<Figure size 1152x360 with 2 Axes>"
      ]
     },
     "metadata": {
      "needs_background": "light"
     },
     "output_type": "display_data"
    }
   ],
   "source": [
    "fig, (ax_box, ax_hist) = plt.subplots(2, sharex=True, figsize=(16, 5))\n",
    "sns.distplot(result.loc[result['tariff'] == 'smart']['number_of_messages'],ax=ax_hist)\n",
    "sns.boxplot(result.loc[result['tariff'] == 'smart']['number_of_messages'], ax=ax_box)\n",
    "plt.show()\n",
    "fig, (ax_box, ax_hist) = plt.subplots(2, sharex=True, figsize=(16, 5))\n",
    "sns.distplot(result.loc[result['tariff'] == 'ultra']['number_of_messages'],ax=ax_hist)\n",
    "sns.boxplot(result.loc[result['tariff'] == 'ultra']['number_of_messages'], ax=ax_box)\n",
    "plt.show()"
   ]
  },
  {
   "cell_type": "markdown",
   "metadata": {},
   "source": [
    "    Гистограмма сообщений"
   ]
  },
  {
   "cell_type": "code",
   "execution_count": 32,
   "metadata": {},
   "outputs": [
    {
     "name": "stdout",
     "output_type": "stream",
     "text": [
      "Средние значения тарифа Ultra\n"
     ]
    },
    {
     "data": {
      "text/plain": [
       "duration                518.00\n",
       "number_of_messages       38.00\n",
       "mb_used               19308.01\n",
       "Name: 50%, dtype: float64"
      ]
     },
     "execution_count": 32,
     "metadata": {},
     "output_type": "execute_result"
    }
   ],
   "source": [
    "print('Средние значения тарифа Ultra')\n",
    "result.loc[result['tariff'] == 'ultra'][['duration', 'number_of_messages','mb_used']].describe().loc['50%']"
   ]
  },
  {
   "cell_type": "code",
   "execution_count": 33,
   "metadata": {},
   "outputs": [
    {
     "name": "stdout",
     "output_type": "stream",
     "text": [
      "Средние значения тарифа Smart\n"
     ]
    },
    {
     "data": {
      "text/plain": [
       "duration                422.00\n",
       "number_of_messages       51.00\n",
       "mb_used               16506.84\n",
       "Name: 50%, dtype: float64"
      ]
     },
     "execution_count": 33,
     "metadata": {},
     "output_type": "execute_result"
    }
   ],
   "source": [
    "print('Средние значения тарифа Smart')\n",
    "result.loc[result['tariff'] == 'smart'][['duration', 'number_of_messages','mb_used']].describe().loc['50%']"
   ]
  },
  {
   "cell_type": "markdown",
   "metadata": {},
   "source": [
    "    1. Звонки:\n",
    "    Пользователи тарифа смарт чаще тратят на разговоры около 400-550 минут в месяц, пользователи тарифа ультра одинаково часто говорят примерно от 250 до 800 минут в месяц, хотя у них много звонков 0 минут(пропущенных).\n",
    "    2. Интернет:\n",
    "    На тарифе смарт у пользователей чаще уходит на интернер трафик от 13 до 20 Гб(лимит по тарифу 15, самая частая величина)\n",
    "    У пользователей ультра пик примерно между 13 и 23 Гб, хотя количество пользователей потративших меньше 13 или больше 23 Гб отличается незначительно.\n",
    "    3. Сообщения:\n",
    "    У пользователей смарт пик - 50(лимит тарифа), в общем они тратят от 40 до 70 сообщения в месяц чаще всего пользователи ультра отправляли гораздо меньше сообщений, чаще всего от 30 до 45, примерно"
   ]
  },
  {
   "cell_type": "markdown",
   "metadata": {},
   "source": [
    "## Проверка гипотез"
   ]
  },
  {
   "cell_type": "markdown",
   "metadata": {},
   "source": [
    "    Нулевая гипотеза всегда формулируется так, чтоб использовать знак равенства. Исходя из неё формулирую альтернативную гипотезу \n",
    "    Для проверки гипотез использовал t-критерий Стьюдента, потому что этот критерий оценивает насколько различаются средние выборки, и я считаю, что в данных нет выбросов, т.к. они сильно влияют на t-критерий"
   ]
  },
  {
   "cell_type": "markdown",
   "metadata": {},
   "source": [
    "### Cредняя выручка пользователей тарифов «Ультра» и «Смарт» различаются\n"
   ]
  },
  {
   "cell_type": "markdown",
   "metadata": {},
   "source": [
    "    Нулевая гипотеза: средняя выручка пользователей тарифов «Ультра» и «Смарт» равны\n",
    "    Альтернативная гипотеза: средняя выручка пользователей тарифов «Ультра» и «Смарт» различаются"
   ]
  },
  {
   "cell_type": "code",
   "execution_count": 34,
   "metadata": {},
   "outputs": [],
   "source": [
    "ultra_income_mean = np.random.choice(result.loc[result['tariff'] == 'ultra']['income'], 40)\n",
    "smart_income_mean = np.random.choice(result.loc[result['tariff'] == 'smart']['income'], 40)"
   ]
  },
  {
   "cell_type": "markdown",
   "metadata": {},
   "source": [
    "    Cлучайная выборка"
   ]
  },
  {
   "cell_type": "code",
   "execution_count": 35,
   "metadata": {},
   "outputs": [
    {
     "name": "stdout",
     "output_type": "stream",
     "text": [
      "p-значение:  0.002896154558514226\n",
      "Отвергаем нулевую гипотезу\n"
     ]
    }
   ],
   "source": [
    "check_hypo = st.ttest_ind(ultra_income_mean, smart_income_mean, equal_var=True)\n",
    "print('p-значение: ', check_hypo.pvalue)\n",
    "alpha = 0.05  # критический уровень статистической значимости\n",
    "# если p-value окажется меньше него - отвергнем гипотезу\n",
    "if check_hypo.pvalue < alpha:\n",
    "    print('Отвергаем нулевую гипотезу')\n",
    "else:\n",
    "    print('Не получилось отвергнуть нулевую гипотезу')"
   ]
  },
  {
   "cell_type": "markdown",
   "metadata": {},
   "source": [
    "    Вывод: По данной выборке можно сказать, что выручка по тарифам отличается, у пользователей тарифа 'Ultra' = чуть больше 2000, у 'Smart' - почти 1300"
   ]
  },
  {
   "cell_type": "markdown",
   "metadata": {},
   "source": [
    "### Cредняя выручка пользователи из Москвы отличается от выручки пользователей из других регионов."
   ]
  },
  {
   "cell_type": "markdown",
   "metadata": {},
   "source": [
    "    Нулевая гипотеза: средняя выручка пользователей из Москвы и из регионов равны\n",
    "    Альтернативная гипотеза: средняя выручка пользователей из Москвы и из регионов различаются"
   ]
  },
  {
   "cell_type": "code",
   "execution_count": 36,
   "metadata": {},
   "outputs": [],
   "source": [
    "moscow_income_mean = np.random.choice(result.loc[result['city'] == 'Москва']['income'], 40)\n",
    "region_income_mean = np.random.choice(result.loc[result['city'] != 'Москва']['income'], 40)"
   ]
  },
  {
   "cell_type": "markdown",
   "metadata": {},
   "source": [
    "    Случайная выборка"
   ]
  },
  {
   "cell_type": "code",
   "execution_count": 37,
   "metadata": {},
   "outputs": [
    {
     "name": "stdout",
     "output_type": "stream",
     "text": [
      "p-значение:  0.7046245426422919\n",
      "Не получилось отвергнуть нулевую гипотезу\n"
     ]
    }
   ],
   "source": [
    "check_hypo_city = st.ttest_ind(moscow_income_mean, region_income_mean, equal_var=True)\n",
    "print('p-значение: ', check_hypo_city.pvalue)\n",
    "alpha = 0.05  # критический уровень статистической значимости\n",
    "# если p-value окажется меньше него - отвергнем гипотезу\n",
    "if check_hypo_city.pvalue < alpha:\n",
    "    print('Отвергаем нулевую гипотезу')\n",
    "else:\n",
    "    print('Не получилось отвергнуть нулевую гипотезу')   \n"
   ]
  },
  {
   "cell_type": "code",
   "execution_count": 38,
   "metadata": {},
   "outputs": [
    {
     "name": "stdout",
     "output_type": "stream",
     "text": [
      "Средняя выручка по каждому тарифу\n",
      "             income\n",
      "tariff             \n",
      "smart   1292.677434\n",
      "ultra   2070.152284\n"
     ]
    }
   ],
   "source": [
    "income_mean = result.pivot_table(index='tariff', \n",
    "                                values='income', \n",
    "                                aggfunc='mean')\n",
    "print('Средняя выручка по каждому тарифу')\n",
    "print(income_mean)"
   ]
  },
  {
   "cell_type": "markdown",
   "metadata": {},
   "source": [
    "    Вывод: Гипотезу о том, что Пользователи из Москвы тратят на связь больше, чем пользователи регионов не удалось опровергнуть. Поэтому считаем, что их расходы равны"
   ]
  },
  {
   "cell_type": "markdown",
   "metadata": {},
   "source": [
    "## Вывод\n"
   ]
  },
  {
   "cell_type": "markdown",
   "metadata": {},
   "source": [
    "    Исходя из полученных данных средняя прибыль больше на тарифе 'Ultra'. На тарифе 'Smart' пользователи чаще выходят за лимит по собощениям, многие тратят больше минут, чем включено в тариф, и много пользователей расходуют трафик сверх лимита. На тарифе 'Ultra', только по инетернет трафику есть превышения лимита.\n",
    "\n",
    "        Средние значения тарифа Ultra:\n",
    "    \n",
    "- duration                518.00\n",
    "- number_of_messages       38.00\n",
    "- mb_used               19308.01\n",
    "\n",
    "\n",
    "        Средние значения тарифа Smart:\n",
    "    \n",
    "- duration                422.00\n",
    "- number_of_messages       51.00\n",
    "- mb_used               16506.84\n",
    "\n",
    "\n",
    "\n",
    "      В ходе исследования выяснилось, что пользователи из Москвы и других регионов, обоих тарифов тратят в среднем одинаково"
   ]
  },
  {
   "cell_type": "code",
   "execution_count": 39,
   "metadata": {
    "scrolled": true
   },
   "outputs": [
    {
     "data": {
      "image/png": "[encoded data removed]",
      "text/plain": [
       "<Figure size 432x288 with 1 Axes>"
      ]
     },
     "metadata": {
      "needs_background": "light"
     },
     "output_type": "display_data"
    }
   ],
   "source": [
    "ax = result.loc[result['tariff'] == 'smart']['income'].plot(   #ось\n",
    "    kind='hist',                       #тип графика\n",
    "    y='smart_incomes',                 #ось У\n",
    "    histtype='barstacked',             #тип гистограммы\n",
    "    bins=80,                           #корзина\n",
    "    linewidth=2,                       #ширина линии\n",
    "    alpha=0.6,                         #прозрачность, чтобы видеть пересечение\n",
    "    label='smart',                     #подпись\n",
    "    legend=True\n",
    ")\n",
    "result.loc[result['tariff'] == 'ultra']['income'].plot(\n",
    "    kind='hist',\n",
    "    y='ultra_income',\n",
    "    histtype='barstacked',\n",
    "    bins=80,\n",
    "    linewidth=2,\n",
    "    alpha=0.6,\n",
    "    label='ultra',\n",
    "    ax=ax,                             #ось равно оси первого, чтобы были на одном\n",
    "    grid=True,                         #сетка\n",
    "    legend=True,                       #легенда\n",
    "    title  = 'Прибыль', \n",
    ")\n",
    "plt.show()"
   ]
  },
  {
   "cell_type": "code",
   "execution_count": 40,
   "metadata": {
    "scrolled": true
   },
   "outputs": [
    {
     "data": {
      "text/plain": [
       "min      550.000000\n",
       "mean    1292.677434\n",
       "max     6875.000000\n",
       "Name: income, dtype: float64"
      ]
     },
     "execution_count": 40,
     "metadata": {},
     "output_type": "execute_result"
    }
   ],
   "source": [
    "result.loc[result['tariff'] == 'smart']['income'].describe().loc[['min', 'mean', 'max']]"
   ]
  },
  {
   "cell_type": "code",
   "execution_count": 41,
   "metadata": {},
   "outputs": [
    {
     "data": {
      "text/plain": [
       "min     1950.000000\n",
       "mean    2070.152284\n",
       "max     4800.000000\n",
       "Name: income, dtype: float64"
      ]
     },
     "execution_count": 41,
     "metadata": {},
     "output_type": "execute_result"
    }
   ],
   "source": [
    "result.loc[result['tariff'] == 'ultra']['income'].describe().loc[['min', 'mean', 'max']]"
   ]
  },
  {
   "cell_type": "markdown",
   "metadata": {},
   "source": [
    "1. В данных есть звонки длительностью 0 минут, их много и это, скорее всего, пропущенные.\n",
    "2. Так же присутствуют сессии с 0 потраченных мб, их тоже много. Они связаны и техническими особеностями или минимальным траффиком.\n",
    "3. Длительность разговора у пользователей тарифа 'Ultra' больше, чем у 'Smart'. 518.00 минут в среднем, против 422.00\n",
    "\n",
    "    А количество сообщений больше у пользователей 'Smart'. 51 и 38 \n",
    "    \n",
    "    \n",
    "    Пользователи тарифа 'Ultra' траятят 19308 мб траффика в среднем, а 'Smart' - 16506 мб.\n",
    "4. Средняя прибыль по кажому тарифу 'Ultra' - 2070, 'Smart' - 1292\n",
    "5. Пользователи из Москвы и рагионов тратят в среднем одинаково, не зависимо от тарифа"
   ]
  },
  {
   "cell_type": "markdown",
   "metadata": {},
   "source": [
    "    Исходя из данных и исследования, я делаю вывод, что лучше продвигать тариф 'Smart', независимо от региона. Пользователи тарифа 'Ultra' при абонентской плате 1950, в среднем тратят 2070, т.е. почти не выходят за месячный лимит по звонкам\\сообщениям\\траффику. У пользователей 'Smart', при абонентской плате 550, в среднем уходит 1292, т.е. им не хватает месячного лимита, и они готовы заплатить больше за дополнительные минуты\\сообщения\\трафиик"
   ]
  }
 ],
 "metadata": {
  "ExecuteTimeLog": [
   {
    "duration": 2373,
    "start_time": "2021-07-30T15:18:18.289Z"
   },
   {
    "duration": 37,
    "start_time": "2021-07-30T15:19:09.598Z"
   },
   {
    "duration": 12,
    "start_time": "2021-07-30T15:19:28.270Z"
   },
   {
    "duration": 28,
    "start_time": "2021-07-30T15:20:09.855Z"
   },
   {
    "duration": 13,
    "start_time": "2021-07-30T15:20:14.053Z"
   },
   {
    "duration": 9,
    "start_time": "2021-07-30T15:27:23.784Z"
   },
   {
    "duration": 535,
    "start_time": "2021-07-30T15:27:25.378Z"
   },
   {
    "duration": 124,
    "start_time": "2021-07-30T15:27:41.524Z"
   },
   {
    "duration": 109,
    "start_time": "2021-07-30T15:27:48.847Z"
   },
   {
    "duration": 8,
    "start_time": "2021-07-30T15:27:52.386Z"
   },
   {
    "duration": 98,
    "start_time": "2021-07-30T15:27:57.857Z"
   },
   {
    "duration": 53,
    "start_time": "2021-07-30T15:28:02.699Z"
   },
   {
    "duration": 69,
    "start_time": "2021-07-30T15:28:04.576Z"
   },
   {
    "duration": 64,
    "start_time": "2021-07-30T15:34:23.784Z"
   },
   {
    "duration": 81,
    "start_time": "2021-07-30T15:34:24.927Z"
   },
   {
    "duration": 117,
    "start_time": "2021-07-30T15:37:21.242Z"
   },
   {
    "duration": 69,
    "start_time": "2021-07-30T15:38:53.212Z"
   },
   {
    "duration": 62,
    "start_time": "2021-07-30T15:39:37.286Z"
   },
   {
    "duration": 403,
    "start_time": "2021-07-30T15:49:48.581Z"
   },
   {
    "duration": 27,
    "start_time": "2021-07-30T15:49:55.732Z"
   },
   {
    "duration": 7,
    "start_time": "2021-07-30T15:49:57.950Z"
   },
   {
    "duration": 12,
    "start_time": "2021-07-30T15:51:50.946Z"
   },
   {
    "duration": 11,
    "start_time": "2021-07-30T15:51:51.863Z"
   },
   {
    "duration": 1017,
    "start_time": "2021-07-30T15:54:02.834Z"
   },
   {
    "duration": 877,
    "start_time": "2021-07-30T16:00:50.838Z"
   },
   {
    "duration": 8,
    "start_time": "2021-07-30T16:01:17.812Z"
   },
   {
    "duration": 14,
    "start_time": "2021-07-30T16:01:24.488Z"
   },
   {
    "duration": 66,
    "start_time": "2021-07-30T16:01:26.841Z"
   },
   {
    "duration": 73,
    "start_time": "2021-07-30T16:02:03.800Z"
   },
   {
    "duration": 81,
    "start_time": "2021-07-30T16:02:21.320Z"
   },
   {
    "duration": 497,
    "start_time": "2021-07-30T16:03:13.287Z"
   },
   {
    "duration": 457,
    "start_time": "2021-07-30T16:03:31.489Z"
   },
   {
    "duration": 10427,
    "start_time": "2021-07-30T16:06:18.016Z"
   },
   {
    "duration": 453,
    "start_time": "2021-07-30T16:07:15.041Z"
   },
   {
    "duration": 462,
    "start_time": "2021-07-30T16:08:47.655Z"
   },
   {
    "duration": 77,
    "start_time": "2021-07-30T16:09:07.467Z"
   },
   {
    "duration": 65,
    "start_time": "2021-07-30T16:11:06.690Z"
   },
   {
    "duration": 65,
    "start_time": "2021-07-30T16:11:22.081Z"
   },
   {
    "duration": 62,
    "start_time": "2021-07-30T16:12:42.991Z"
   },
   {
    "duration": 9462,
    "start_time": "2021-07-30T16:13:05.052Z"
   },
   {
    "duration": 467,
    "start_time": "2021-07-30T16:13:28.783Z"
   },
   {
    "duration": 64,
    "start_time": "2021-07-30T16:13:39.815Z"
   },
   {
    "duration": 136,
    "start_time": "2021-07-30T16:14:27.897Z"
   },
   {
    "duration": 160,
    "start_time": "2021-07-30T16:15:23.699Z"
   },
   {
    "duration": 130,
    "start_time": "2021-07-30T16:15:31.189Z"
   },
   {
    "duration": 71,
    "start_time": "2021-07-30T16:15:49.898Z"
   },
   {
    "duration": 70,
    "start_time": "2021-07-30T16:16:07.491Z"
   },
   {
    "duration": 73,
    "start_time": "2021-07-30T16:16:19.282Z"
   },
   {
    "duration": 71,
    "start_time": "2021-07-30T16:17:03.827Z"
   },
   {
    "duration": 77,
    "start_time": "2021-07-30T16:18:46.733Z"
   },
   {
    "duration": 77,
    "start_time": "2021-07-30T16:19:40.854Z"
   },
   {
    "duration": 81,
    "start_time": "2021-07-30T16:20:12.044Z"
   },
   {
    "duration": 93,
    "start_time": "2021-07-30T16:20:34.058Z"
   },
   {
    "duration": 102,
    "start_time": "2021-07-30T16:20:49.833Z"
   },
   {
    "duration": 138,
    "start_time": "2021-07-30T16:21:24.560Z"
   },
   {
    "duration": 83,
    "start_time": "2021-07-30T16:21:30.789Z"
   },
   {
    "duration": 361,
    "start_time": "2021-07-30T16:22:54.073Z"
   },
   {
    "duration": 361,
    "start_time": "2021-07-30T16:24:03.888Z"
   },
   {
    "duration": 1065,
    "start_time": "2021-07-30T16:24:45.903Z"
   },
   {
    "duration": 1183,
    "start_time": "2021-07-30T16:27:53.354Z"
   },
   {
    "duration": 369,
    "start_time": "2021-07-30T16:28:01.243Z"
   },
   {
    "duration": 342,
    "start_time": "2021-07-30T16:28:04.410Z"
   },
   {
    "duration": 1115,
    "start_time": "2021-07-30T16:28:09.245Z"
   },
   {
    "duration": 358,
    "start_time": "2021-07-30T16:28:17.151Z"
   },
   {
    "duration": 1233,
    "start_time": "2021-07-30T16:28:21.516Z"
   },
   {
    "duration": 689,
    "start_time": "2021-07-30T16:29:05.813Z"
   },
   {
    "duration": 1078,
    "start_time": "2021-07-30T16:29:14.020Z"
   },
   {
    "duration": 159,
    "start_time": "2021-07-30T16:37:24.469Z"
   },
   {
    "duration": 1065,
    "start_time": "2021-07-30T16:37:43.361Z"
   },
   {
    "duration": 1194,
    "start_time": "2021-07-30T16:37:58.647Z"
   },
   {
    "duration": 1142,
    "start_time": "2021-07-30T16:38:12.500Z"
   },
   {
    "duration": 133,
    "start_time": "2021-07-30T16:39:34.824Z"
   },
   {
    "duration": 1067,
    "start_time": "2021-07-30T16:39:45.226Z"
   },
   {
    "duration": 136,
    "start_time": "2021-07-30T16:47:01.879Z"
   },
   {
    "duration": 370,
    "start_time": "2021-07-30T16:47:05.859Z"
   },
   {
    "duration": 11,
    "start_time": "2021-07-30T17:06:23.836Z"
   },
   {
    "duration": 10,
    "start_time": "2021-07-30T17:09:17.495Z"
   },
   {
    "duration": 7,
    "start_time": "2021-07-30T17:09:20.771Z"
   },
   {
    "duration": 7,
    "start_time": "2021-07-30T17:09:24.652Z"
   },
   {
    "duration": 977,
    "start_time": "2021-07-30T17:16:08.250Z"
   },
   {
    "duration": 136,
    "start_time": "2021-07-30T17:28:14.893Z"
   },
   {
    "duration": 14,
    "start_time": "2021-07-30T17:30:14.355Z"
   },
   {
    "duration": 9,
    "start_time": "2021-07-30T17:30:40.200Z"
   },
   {
    "duration": 7,
    "start_time": "2021-07-30T17:33:47.516Z"
   },
   {
    "duration": 215,
    "start_time": "2021-07-30T17:43:14.041Z"
   },
   {
    "duration": 242,
    "start_time": "2021-07-30T17:45:41.765Z"
   },
   {
    "duration": 222,
    "start_time": "2021-07-30T17:48:37.135Z"
   },
   {
    "duration": 407,
    "start_time": "2021-07-30T17:59:18.057Z"
   },
   {
    "duration": 426,
    "start_time": "2021-07-30T17:59:33.370Z"
   },
   {
    "duration": 15,
    "start_time": "2021-07-30T18:00:21.513Z"
   },
   {
    "duration": 14,
    "start_time": "2021-07-30T18:00:59.761Z"
   },
   {
    "duration": 415,
    "start_time": "2021-07-30T18:09:32.009Z"
   },
   {
    "duration": 26,
    "start_time": "2021-07-30T18:09:39.465Z"
   },
   {
    "duration": 382,
    "start_time": "2021-07-30T18:10:09.219Z"
   },
   {
    "duration": 27,
    "start_time": "2021-07-30T18:10:36.905Z"
   },
   {
    "duration": 44,
    "start_time": "2021-07-30T18:11:20.730Z"
   },
   {
    "duration": 27,
    "start_time": "2021-07-30T18:11:49.469Z"
   },
   {
    "duration": 26,
    "start_time": "2021-07-30T18:12:32.761Z"
   },
   {
    "duration": 26,
    "start_time": "2021-07-30T18:12:38.401Z"
   },
   {
    "duration": 26,
    "start_time": "2021-07-30T18:12:42.105Z"
   },
   {
    "duration": 28,
    "start_time": "2021-07-30T18:12:52.667Z"
   },
   {
    "duration": 1944,
    "start_time": "2021-07-30T18:24:30.619Z"
   },
   {
    "duration": 28,
    "start_time": "2021-07-30T18:24:32.566Z"
   },
   {
    "duration": 12,
    "start_time": "2021-07-30T18:24:32.597Z"
   },
   {
    "duration": 120,
    "start_time": "2021-07-30T18:24:32.611Z"
   },
   {
    "duration": 5,
    "start_time": "2021-07-30T18:24:32.733Z"
   },
   {
    "duration": 101,
    "start_time": "2021-07-30T18:24:32.740Z"
   },
   {
    "duration": 62,
    "start_time": "2021-07-30T18:24:32.843Z"
   },
   {
    "duration": 71,
    "start_time": "2021-07-30T18:24:32.909Z"
   },
   {
    "duration": 117,
    "start_time": "2021-07-30T18:24:32.983Z"
   },
   {
    "duration": 88,
    "start_time": "2021-07-30T18:24:33.102Z"
   },
   {
    "duration": 56,
    "start_time": "2021-07-30T18:24:33.193Z"
   },
   {
    "duration": 37,
    "start_time": "2021-07-30T18:24:33.252Z"
   },
   {
    "duration": 5,
    "start_time": "2021-07-30T18:24:33.292Z"
   },
   {
    "duration": 13,
    "start_time": "2021-07-30T18:24:33.299Z"
   },
   {
    "duration": 13,
    "start_time": "2021-07-30T18:24:33.314Z"
   },
   {
    "duration": 39,
    "start_time": "2021-07-30T18:24:33.329Z"
   },
   {
    "duration": 659,
    "start_time": "2021-07-30T18:24:33.370Z"
   },
   {
    "duration": 6,
    "start_time": "2021-07-30T18:24:34.032Z"
   },
   {
    "duration": 27,
    "start_time": "2021-07-30T18:24:34.041Z"
   },
   {
    "duration": 77,
    "start_time": "2021-07-30T18:24:34.071Z"
   },
   {
    "duration": 354,
    "start_time": "2021-07-30T18:24:34.168Z"
   },
   {
    "duration": 337,
    "start_time": "2021-07-30T18:24:34.524Z"
   },
   {
    "duration": 1014,
    "start_time": "2021-07-30T18:24:34.869Z"
   },
   {
    "duration": 27,
    "start_time": "2021-07-30T18:24:35.885Z"
   },
   {
    "duration": 52,
    "start_time": "2021-07-30T18:24:35.915Z"
   },
   {
    "duration": 10,
    "start_time": "2021-07-30T18:24:35.969Z"
   },
   {
    "duration": 7,
    "start_time": "2021-07-30T18:24:35.981Z"
   },
   {
    "duration": 12,
    "start_time": "2021-07-30T18:24:35.991Z"
   },
   {
    "duration": 7,
    "start_time": "2021-07-30T18:24:36.006Z"
   },
   {
    "duration": 1993,
    "start_time": "2021-07-31T10:42:14.077Z"
   },
   {
    "duration": 28,
    "start_time": "2021-07-31T10:42:16.073Z"
   },
   {
    "duration": 12,
    "start_time": "2021-07-31T10:42:16.104Z"
   },
   {
    "duration": 124,
    "start_time": "2021-07-31T10:42:16.119Z"
   },
   {
    "duration": 5,
    "start_time": "2021-07-31T10:42:16.246Z"
   },
   {
    "duration": 96,
    "start_time": "2021-07-31T10:42:16.253Z"
   },
   {
    "duration": 65,
    "start_time": "2021-07-31T10:42:16.352Z"
   },
   {
    "duration": 82,
    "start_time": "2021-07-31T10:42:16.422Z"
   },
   {
    "duration": 122,
    "start_time": "2021-07-31T10:42:16.508Z"
   },
   {
    "duration": 101,
    "start_time": "2021-07-31T10:42:16.632Z"
   },
   {
    "duration": 90,
    "start_time": "2021-07-31T10:42:16.736Z"
   },
   {
    "duration": 44,
    "start_time": "2021-07-31T10:42:16.828Z"
   },
   {
    "duration": 5,
    "start_time": "2021-07-31T10:42:16.874Z"
   },
   {
    "duration": 21,
    "start_time": "2021-07-31T10:42:16.881Z"
   },
   {
    "duration": 15,
    "start_time": "2021-07-31T10:42:16.904Z"
   },
   {
    "duration": 7,
    "start_time": "2021-07-31T10:42:16.921Z"
   },
   {
    "duration": 680,
    "start_time": "2021-07-31T10:42:16.930Z"
   },
   {
    "duration": 6,
    "start_time": "2021-07-31T10:42:17.613Z"
   },
   {
    "duration": 11,
    "start_time": "2021-07-31T10:42:17.622Z"
   },
   {
    "duration": 102,
    "start_time": "2021-07-31T10:42:17.635Z"
   },
   {
    "duration": 372,
    "start_time": "2021-07-31T10:42:17.739Z"
   },
   {
    "duration": 334,
    "start_time": "2021-07-31T10:42:18.113Z"
   },
   {
    "duration": 1009,
    "start_time": "2021-07-31T10:42:18.452Z"
   },
   {
    "duration": 25,
    "start_time": "2021-07-31T10:42:19.468Z"
   },
   {
    "duration": 26,
    "start_time": "2021-07-31T10:42:19.496Z"
   },
   {
    "duration": 46,
    "start_time": "2021-07-31T10:42:19.524Z"
   },
   {
    "duration": 10,
    "start_time": "2021-07-31T10:42:19.572Z"
   },
   {
    "duration": 17,
    "start_time": "2021-07-31T10:42:19.584Z"
   },
   {
    "duration": 6,
    "start_time": "2021-07-31T10:42:19.604Z"
   },
   {
    "duration": 32,
    "start_time": "2021-07-31T10:47:11.450Z"
   },
   {
    "duration": 94,
    "start_time": "2021-07-31T10:47:29.814Z"
   },
   {
    "duration": 26,
    "start_time": "2021-07-31T10:48:00.023Z"
   },
   {
    "duration": 34,
    "start_time": "2021-07-31T10:48:08.835Z"
   },
   {
    "duration": 28,
    "start_time": "2021-07-31T10:58:28.433Z"
   },
   {
    "duration": 345,
    "start_time": "2021-07-31T15:42:10.647Z"
   },
   {
    "duration": 228,
    "start_time": "2021-07-31T15:42:15.099Z"
   },
   {
    "duration": 2018,
    "start_time": "2021-07-31T15:42:22.549Z"
   },
   {
    "duration": 31,
    "start_time": "2021-07-31T15:42:24.712Z"
   },
   {
    "duration": 33,
    "start_time": "2021-07-31T15:42:26.956Z"
   },
   {
    "duration": 32,
    "start_time": "2021-07-31T15:42:43.361Z"
   },
   {
    "duration": 32,
    "start_time": "2021-07-31T15:43:47.498Z"
   },
   {
    "duration": 33,
    "start_time": "2021-07-31T15:43:55.099Z"
   },
   {
    "duration": 435,
    "start_time": "2021-07-31T15:44:08.043Z"
   },
   {
    "duration": 511,
    "start_time": "2021-07-31T15:44:15.034Z"
   },
   {
    "duration": 38,
    "start_time": "2021-07-31T15:44:24.726Z"
   },
   {
    "duration": 10,
    "start_time": "2021-07-31T15:48:26.756Z"
   },
   {
    "duration": 9,
    "start_time": "2021-07-31T15:48:32.479Z"
   },
   {
    "duration": 331,
    "start_time": "2021-07-31T15:49:03.312Z"
   },
   {
    "duration": 5144,
    "start_time": "2021-07-31T15:49:11.277Z"
   },
   {
    "duration": 5218,
    "start_time": "2021-07-31T15:49:22.923Z"
   },
   {
    "duration": 2757,
    "start_time": "2021-07-31T15:49:29.492Z"
   },
   {
    "duration": 2118,
    "start_time": "2021-07-31T15:49:39.155Z"
   },
   {
    "duration": 1815,
    "start_time": "2021-07-31T15:49:59.692Z"
   },
   {
    "duration": 888,
    "start_time": "2021-07-31T15:50:04.784Z"
   },
   {
    "duration": 926,
    "start_time": "2021-07-31T15:50:44.714Z"
   },
   {
    "duration": 1132,
    "start_time": "2021-07-31T15:57:25.733Z"
   },
   {
    "duration": 1015,
    "start_time": "2021-07-31T15:57:31.674Z"
   },
   {
    "duration": 289,
    "start_time": "2021-07-31T16:01:33.133Z"
   },
   {
    "duration": 146,
    "start_time": "2021-07-31T16:02:10.156Z"
   },
   {
    "duration": 10,
    "start_time": "2021-07-31T16:02:11.086Z"
   },
   {
    "duration": 105,
    "start_time": "2021-07-31T16:02:11.653Z"
   },
   {
    "duration": 61,
    "start_time": "2021-07-31T16:02:12.166Z"
   },
   {
    "duration": 8,
    "start_time": "2021-07-31T16:02:56.041Z"
   },
   {
    "duration": 553,
    "start_time": "2021-07-31T16:06:20.899Z"
   },
   {
    "duration": 30,
    "start_time": "2021-07-31T16:06:21.455Z"
   },
   {
    "duration": 750,
    "start_time": "2021-07-31T16:06:21.489Z"
   },
   {
    "duration": 623,
    "start_time": "2021-07-31T16:06:22.241Z"
   },
   {
    "duration": 105,
    "start_time": "2021-07-31T16:06:22.867Z"
   },
   {
    "duration": 141,
    "start_time": "2021-07-31T16:06:22.974Z"
   },
   {
    "duration": 12,
    "start_time": "2021-07-31T16:06:23.118Z"
   },
   {
    "duration": 122,
    "start_time": "2021-07-31T16:06:23.135Z"
   },
   {
    "duration": 55,
    "start_time": "2021-07-31T16:06:23.263Z"
   },
   {
    "duration": 6,
    "start_time": "2021-07-31T16:06:23.321Z"
   },
   {
    "duration": 132,
    "start_time": "2021-07-31T16:06:23.330Z"
   },
   {
    "duration": 59,
    "start_time": "2021-07-31T16:06:23.464Z"
   },
   {
    "duration": 85,
    "start_time": "2021-07-31T16:06:23.526Z"
   },
   {
    "duration": 101,
    "start_time": "2021-07-31T16:06:23.614Z"
   },
   {
    "duration": 78,
    "start_time": "2021-07-31T16:06:23.718Z"
   },
   {
    "duration": 63,
    "start_time": "2021-07-31T16:06:23.799Z"
   },
   {
    "duration": 27,
    "start_time": "2021-07-31T16:06:23.864Z"
   },
   {
    "duration": 4,
    "start_time": "2021-07-31T16:06:23.894Z"
   },
   {
    "duration": 20,
    "start_time": "2021-07-31T16:06:23.900Z"
   },
   {
    "duration": 15,
    "start_time": "2021-07-31T16:06:23.922Z"
   },
   {
    "duration": 28,
    "start_time": "2021-07-31T16:06:23.940Z"
   },
   {
    "duration": 646,
    "start_time": "2021-07-31T16:06:23.970Z"
   },
   {
    "duration": 7,
    "start_time": "2021-07-31T16:06:24.620Z"
   },
   {
    "duration": 32,
    "start_time": "2021-07-31T16:06:24.630Z"
   },
   {
    "duration": 88,
    "start_time": "2021-07-31T16:06:24.664Z"
   },
   {
    "duration": 363,
    "start_time": "2021-07-31T16:06:24.754Z"
   },
   {
    "duration": 464,
    "start_time": "2021-07-31T16:06:25.120Z"
   },
   {
    "duration": 1064,
    "start_time": "2021-07-31T16:06:25.587Z"
   },
   {
    "duration": 27,
    "start_time": "2021-07-31T16:06:26.662Z"
   },
   {
    "duration": 29,
    "start_time": "2021-07-31T16:06:26.692Z"
   },
   {
    "duration": 41,
    "start_time": "2021-07-31T16:06:26.723Z"
   },
   {
    "duration": 6,
    "start_time": "2021-07-31T16:06:26.767Z"
   },
   {
    "duration": 15,
    "start_time": "2021-07-31T16:06:26.775Z"
   },
   {
    "duration": 7,
    "start_time": "2021-07-31T16:06:26.792Z"
   },
   {
    "duration": 549,
    "start_time": "2021-07-31T16:07:04.435Z"
   },
   {
    "duration": 27,
    "start_time": "2021-07-31T16:07:04.987Z"
   },
   {
    "duration": 608,
    "start_time": "2021-07-31T16:07:05.018Z"
   },
   {
    "duration": 643,
    "start_time": "2021-07-31T16:07:05.629Z"
   },
   {
    "duration": 109,
    "start_time": "2021-07-31T16:07:06.274Z"
   },
   {
    "duration": 129,
    "start_time": "2021-07-31T16:07:06.386Z"
   },
   {
    "duration": 10,
    "start_time": "2021-07-31T16:07:06.518Z"
   },
   {
    "duration": 117,
    "start_time": "2021-07-31T16:07:06.532Z"
   },
   {
    "duration": 56,
    "start_time": "2021-07-31T16:07:06.652Z"
   },
   {
    "duration": 4,
    "start_time": "2021-07-31T16:07:06.711Z"
   },
   {
    "duration": 126,
    "start_time": "2021-07-31T16:07:06.718Z"
   },
   {
    "duration": 62,
    "start_time": "2021-07-31T16:07:06.846Z"
   },
   {
    "duration": 86,
    "start_time": "2021-07-31T16:07:06.910Z"
   },
   {
    "duration": 117,
    "start_time": "2021-07-31T16:07:06.999Z"
   },
   {
    "duration": 84,
    "start_time": "2021-07-31T16:07:07.119Z"
   },
   {
    "duration": 64,
    "start_time": "2021-07-31T16:07:07.206Z"
   },
   {
    "duration": 28,
    "start_time": "2021-07-31T16:07:07.273Z"
   },
   {
    "duration": 5,
    "start_time": "2021-07-31T16:07:07.303Z"
   },
   {
    "duration": 13,
    "start_time": "2021-07-31T16:07:07.310Z"
   },
   {
    "duration": 40,
    "start_time": "2021-07-31T16:07:07.326Z"
   },
   {
    "duration": 9,
    "start_time": "2021-07-31T16:07:07.369Z"
   },
   {
    "duration": 669,
    "start_time": "2021-07-31T16:07:07.380Z"
   },
   {
    "duration": 11,
    "start_time": "2021-07-31T16:07:08.055Z"
   },
   {
    "duration": 9,
    "start_time": "2021-07-31T16:07:08.070Z"
   },
   {
    "duration": 105,
    "start_time": "2021-07-31T16:07:08.082Z"
   },
   {
    "duration": 367,
    "start_time": "2021-07-31T16:07:08.190Z"
   },
   {
    "duration": 468,
    "start_time": "2021-07-31T16:07:08.563Z"
   },
   {
    "duration": 1040,
    "start_time": "2021-07-31T16:07:09.033Z"
   },
   {
    "duration": 27,
    "start_time": "2021-07-31T16:07:10.075Z"
   },
   {
    "duration": 57,
    "start_time": "2021-07-31T16:07:10.105Z"
   },
   {
    "duration": 13,
    "start_time": "2021-07-31T16:07:10.166Z"
   },
   {
    "duration": 8,
    "start_time": "2021-07-31T16:07:10.182Z"
   },
   {
    "duration": 18,
    "start_time": "2021-07-31T16:07:10.193Z"
   },
   {
    "duration": 9,
    "start_time": "2021-07-31T16:07:10.215Z"
   },
   {
    "duration": 533,
    "start_time": "2021-07-31T16:07:15.404Z"
   },
   {
    "duration": 33,
    "start_time": "2021-07-31T16:07:19.214Z"
   },
   {
    "duration": 594,
    "start_time": "2021-07-31T16:07:19.782Z"
   },
   {
    "duration": 10,
    "start_time": "2021-07-31T16:08:07.856Z"
   },
   {
    "duration": 304,
    "start_time": "2021-07-31T16:08:11.143Z"
   },
   {
    "duration": 7,
    "start_time": "2021-07-31T16:08:14.857Z"
   },
   {
    "duration": 211,
    "start_time": "2021-07-31T16:08:16.037Z"
   },
   {
    "duration": 5,
    "start_time": "2021-07-31T16:08:20.872Z"
   },
   {
    "duration": 7,
    "start_time": "2021-07-31T16:09:02.678Z"
   },
   {
    "duration": 208,
    "start_time": "2021-07-31T16:09:06.792Z"
   },
   {
    "duration": 284,
    "start_time": "2021-07-31T16:09:18.027Z"
   },
   {
    "duration": 535,
    "start_time": "2021-07-31T16:09:48.567Z"
   },
   {
    "duration": 26,
    "start_time": "2021-07-31T16:09:49.105Z"
   },
   {
    "duration": 575,
    "start_time": "2021-07-31T16:09:49.134Z"
   },
   {
    "duration": 604,
    "start_time": "2021-07-31T16:09:49.712Z"
   },
   {
    "duration": 101,
    "start_time": "2021-07-31T16:09:50.318Z"
   },
   {
    "duration": 135,
    "start_time": "2021-07-31T16:09:50.422Z"
   },
   {
    "duration": 10,
    "start_time": "2021-07-31T16:09:50.559Z"
   },
   {
    "duration": 110,
    "start_time": "2021-07-31T16:09:50.571Z"
   },
   {
    "duration": 52,
    "start_time": "2021-07-31T16:09:50.685Z"
   },
   {
    "duration": 23,
    "start_time": "2021-07-31T16:09:50.741Z"
   },
   {
    "duration": 240,
    "start_time": "2021-07-31T16:09:50.766Z"
   },
   {
    "duration": 61,
    "start_time": "2021-07-31T16:09:51.009Z"
   },
   {
    "duration": 64,
    "start_time": "2021-07-31T16:09:51.073Z"
   },
   {
    "duration": 94,
    "start_time": "2021-07-31T16:09:51.139Z"
   },
   {
    "duration": 74,
    "start_time": "2021-07-31T16:09:51.235Z"
   },
   {
    "duration": 62,
    "start_time": "2021-07-31T16:09:51.311Z"
   },
   {
    "duration": 26,
    "start_time": "2021-07-31T16:09:51.376Z"
   },
   {
    "duration": 4,
    "start_time": "2021-07-31T16:09:51.404Z"
   },
   {
    "duration": 13,
    "start_time": "2021-07-31T16:09:51.410Z"
   },
   {
    "duration": 39,
    "start_time": "2021-07-31T16:09:51.425Z"
   },
   {
    "duration": 11,
    "start_time": "2021-07-31T16:09:51.466Z"
   },
   {
    "duration": 636,
    "start_time": "2021-07-31T16:09:51.480Z"
   },
   {
    "duration": 6,
    "start_time": "2021-07-31T16:09:52.118Z"
   },
   {
    "duration": 31,
    "start_time": "2021-07-31T16:09:52.127Z"
   },
   {
    "duration": 79,
    "start_time": "2021-07-31T16:09:52.160Z"
   },
   {
    "duration": 382,
    "start_time": "2021-07-31T16:09:52.242Z"
   },
   {
    "duration": 450,
    "start_time": "2021-07-31T16:09:52.629Z"
   },
   {
    "duration": 1060,
    "start_time": "2021-07-31T16:09:53.082Z"
   },
   {
    "duration": 34,
    "start_time": "2021-07-31T16:09:54.144Z"
   },
   {
    "duration": 32,
    "start_time": "2021-07-31T16:09:54.180Z"
   },
   {
    "duration": 47,
    "start_time": "2021-07-31T16:09:54.215Z"
   },
   {
    "duration": 9,
    "start_time": "2021-07-31T16:09:54.265Z"
   },
   {
    "duration": 15,
    "start_time": "2021-07-31T16:09:54.277Z"
   },
   {
    "duration": 12,
    "start_time": "2021-07-31T16:09:54.296Z"
   },
   {
    "duration": 287,
    "start_time": "2021-07-31T16:10:09.728Z"
   },
   {
    "duration": 568,
    "start_time": "2021-07-31T16:10:29.554Z"
   },
   {
    "duration": 26,
    "start_time": "2021-07-31T16:10:30.124Z"
   },
   {
    "duration": 601,
    "start_time": "2021-07-31T16:10:30.154Z"
   },
   {
    "duration": 611,
    "start_time": "2021-07-31T16:10:30.766Z"
   },
   {
    "duration": 109,
    "start_time": "2021-07-31T16:10:31.380Z"
   },
   {
    "duration": 131,
    "start_time": "2021-07-31T16:10:31.491Z"
   },
   {
    "duration": 9,
    "start_time": "2021-07-31T16:10:31.624Z"
   },
   {
    "duration": 128,
    "start_time": "2021-07-31T16:10:31.635Z"
   },
   {
    "duration": 54,
    "start_time": "2021-07-31T16:10:31.767Z"
   },
   {
    "duration": 4,
    "start_time": "2021-07-31T16:10:31.824Z"
   },
   {
    "duration": 113,
    "start_time": "2021-07-31T16:10:31.831Z"
   },
   {
    "duration": 64,
    "start_time": "2021-07-31T16:10:31.947Z"
   },
   {
    "duration": 94,
    "start_time": "2021-07-31T16:10:32.014Z"
   },
   {
    "duration": 108,
    "start_time": "2021-07-31T16:10:32.111Z"
   },
   {
    "duration": 82,
    "start_time": "2021-07-31T16:10:32.221Z"
   },
   {
    "duration": 64,
    "start_time": "2021-07-31T16:10:32.305Z"
   },
   {
    "duration": 27,
    "start_time": "2021-07-31T16:10:32.372Z"
   },
   {
    "duration": 10,
    "start_time": "2021-07-31T16:10:32.402Z"
   },
   {
    "duration": 28,
    "start_time": "2021-07-31T16:10:32.415Z"
   },
   {
    "duration": 19,
    "start_time": "2021-07-31T16:10:32.446Z"
   },
   {
    "duration": 12,
    "start_time": "2021-07-31T16:10:32.468Z"
   },
   {
    "duration": 821,
    "start_time": "2021-07-31T16:10:32.483Z"
   },
   {
    "duration": 7,
    "start_time": "2021-07-31T16:10:33.307Z"
   },
   {
    "duration": 13,
    "start_time": "2021-07-31T16:10:33.316Z"
   },
   {
    "duration": 97,
    "start_time": "2021-07-31T16:10:33.332Z"
   },
   {
    "duration": 362,
    "start_time": "2021-07-31T16:10:33.432Z"
   },
   {
    "duration": 343,
    "start_time": "2021-07-31T16:10:33.798Z"
   },
   {
    "duration": 1017,
    "start_time": "2021-07-31T16:10:34.144Z"
   },
   {
    "duration": 26,
    "start_time": "2021-07-31T16:10:35.164Z"
   },
   {
    "duration": 26,
    "start_time": "2021-07-31T16:10:35.192Z"
   },
   {
    "duration": 42,
    "start_time": "2021-07-31T16:10:35.220Z"
   },
   {
    "duration": 13,
    "start_time": "2021-07-31T16:10:35.264Z"
   },
   {
    "duration": 26,
    "start_time": "2021-07-31T16:10:35.280Z"
   },
   {
    "duration": 16,
    "start_time": "2021-07-31T16:10:35.308Z"
   },
   {
    "duration": 12,
    "start_time": "2021-07-31T16:19:20.139Z"
   },
   {
    "duration": 260,
    "start_time": "2021-07-31T16:33:34.518Z"
   },
   {
    "duration": 574,
    "start_time": "2021-07-31T16:33:40.370Z"
   },
   {
    "duration": 27,
    "start_time": "2021-07-31T16:33:40.947Z"
   },
   {
    "duration": 603,
    "start_time": "2021-07-31T16:33:40.977Z"
   },
   {
    "duration": 602,
    "start_time": "2021-07-31T16:33:41.583Z"
   },
   {
    "duration": 104,
    "start_time": "2021-07-31T16:33:42.188Z"
   },
   {
    "duration": 125,
    "start_time": "2021-07-31T16:33:42.295Z"
   },
   {
    "duration": 15,
    "start_time": "2021-07-31T16:33:42.424Z"
   },
   {
    "duration": 110,
    "start_time": "2021-07-31T16:33:42.443Z"
   },
   {
    "duration": 58,
    "start_time": "2021-07-31T16:33:42.562Z"
   },
   {
    "duration": 5,
    "start_time": "2021-07-31T16:33:42.622Z"
   },
   {
    "duration": 109,
    "start_time": "2021-07-31T16:33:42.629Z"
   },
   {
    "duration": 70,
    "start_time": "2021-07-31T16:33:42.740Z"
   },
   {
    "duration": 82,
    "start_time": "2021-07-31T16:33:42.813Z"
   },
   {
    "duration": 93,
    "start_time": "2021-07-31T16:33:42.898Z"
   },
   {
    "duration": 69,
    "start_time": "2021-07-31T16:33:42.993Z"
   },
   {
    "duration": 72,
    "start_time": "2021-07-31T16:33:43.065Z"
   },
   {
    "duration": 56,
    "start_time": "2021-07-31T16:33:43.140Z"
   },
   {
    "duration": 7,
    "start_time": "2021-07-31T16:33:43.199Z"
   },
   {
    "duration": 14,
    "start_time": "2021-07-31T16:33:43.210Z"
   },
   {
    "duration": 317,
    "start_time": "2021-07-31T16:33:43.227Z"
   },
   {
    "duration": -195,
    "start_time": "2021-07-31T16:33:43.743Z"
   },
   {
    "duration": -196,
    "start_time": "2021-07-31T16:33:43.746Z"
   },
   {
    "duration": -197,
    "start_time": "2021-07-31T16:33:43.750Z"
   },
   {
    "duration": -198,
    "start_time": "2021-07-31T16:33:43.753Z"
   },
   {
    "duration": -201,
    "start_time": "2021-07-31T16:33:43.758Z"
   },
   {
    "duration": -208,
    "start_time": "2021-07-31T16:33:43.767Z"
   },
   {
    "duration": -210,
    "start_time": "2021-07-31T16:33:43.771Z"
   },
   {
    "duration": -211,
    "start_time": "2021-07-31T16:33:43.774Z"
   },
   {
    "duration": -211,
    "start_time": "2021-07-31T16:33:43.777Z"
   },
   {
    "duration": -213,
    "start_time": "2021-07-31T16:33:43.780Z"
   },
   {
    "duration": -214,
    "start_time": "2021-07-31T16:33:43.784Z"
   },
   {
    "duration": -217,
    "start_time": "2021-07-31T16:33:43.788Z"
   },
   {
    "duration": -220,
    "start_time": "2021-07-31T16:33:43.793Z"
   },
   {
    "duration": -220,
    "start_time": "2021-07-31T16:33:43.796Z"
   },
   {
    "duration": 556,
    "start_time": "2021-07-31T16:34:01.020Z"
   },
   {
    "duration": 28,
    "start_time": "2021-07-31T16:34:01.578Z"
   },
   {
    "duration": 612,
    "start_time": "2021-07-31T16:34:01.609Z"
   },
   {
    "duration": 775,
    "start_time": "2021-07-31T16:34:02.225Z"
   },
   {
    "duration": 109,
    "start_time": "2021-07-31T16:34:03.003Z"
   },
   {
    "duration": 123,
    "start_time": "2021-07-31T16:34:03.114Z"
   },
   {
    "duration": 24,
    "start_time": "2021-07-31T16:34:03.240Z"
   },
   {
    "duration": 102,
    "start_time": "2021-07-31T16:34:03.266Z"
   },
   {
    "duration": 57,
    "start_time": "2021-07-31T16:34:03.372Z"
   },
   {
    "duration": 4,
    "start_time": "2021-07-31T16:34:03.432Z"
   },
   {
    "duration": 102,
    "start_time": "2021-07-31T16:34:03.438Z"
   },
   {
    "duration": 66,
    "start_time": "2021-07-31T16:34:03.542Z"
   },
   {
    "duration": 74,
    "start_time": "2021-07-31T16:34:03.611Z"
   },
   {
    "duration": 95,
    "start_time": "2021-07-31T16:34:03.688Z"
   },
   {
    "duration": 62,
    "start_time": "2021-07-31T16:34:03.786Z"
   },
   {
    "duration": 50,
    "start_time": "2021-07-31T16:34:03.863Z"
   },
   {
    "duration": 46,
    "start_time": "2021-07-31T16:34:03.916Z"
   },
   {
    "duration": 5,
    "start_time": "2021-07-31T16:34:03.964Z"
   },
   {
    "duration": 18,
    "start_time": "2021-07-31T16:34:03.971Z"
   },
   {
    "duration": 25,
    "start_time": "2021-07-31T16:34:03.991Z"
   },
   {
    "duration": 105,
    "start_time": "2021-07-31T16:34:04.019Z"
   },
   {
    "duration": -171,
    "start_time": "2021-07-31T16:34:04.298Z"
   },
   {
    "duration": -180,
    "start_time": "2021-07-31T16:34:04.309Z"
   },
   {
    "duration": -199,
    "start_time": "2021-07-31T16:34:04.329Z"
   },
   {
    "duration": -202,
    "start_time": "2021-07-31T16:34:04.333Z"
   },
   {
    "duration": -207,
    "start_time": "2021-07-31T16:34:04.340Z"
   },
   {
    "duration": -209,
    "start_time": "2021-07-31T16:34:04.343Z"
   },
   {
    "duration": -211,
    "start_time": "2021-07-31T16:34:04.346Z"
   },
   {
    "duration": -214,
    "start_time": "2021-07-31T16:34:04.351Z"
   },
   {
    "duration": -221,
    "start_time": "2021-07-31T16:34:04.359Z"
   },
   {
    "duration": -222,
    "start_time": "2021-07-31T16:34:04.362Z"
   },
   {
    "duration": -225,
    "start_time": "2021-07-31T16:34:04.366Z"
   },
   {
    "duration": -232,
    "start_time": "2021-07-31T16:34:04.374Z"
   },
   {
    "duration": -233,
    "start_time": "2021-07-31T16:34:04.377Z"
   },
   {
    "duration": 532,
    "start_time": "2021-07-31T16:39:25.398Z"
   },
   {
    "duration": 28,
    "start_time": "2021-07-31T16:39:25.932Z"
   },
   {
    "duration": 702,
    "start_time": "2021-07-31T16:39:25.963Z"
   },
   {
    "duration": 609,
    "start_time": "2021-07-31T16:39:26.668Z"
   },
   {
    "duration": 103,
    "start_time": "2021-07-31T16:39:27.279Z"
   },
   {
    "duration": 144,
    "start_time": "2021-07-31T16:39:27.384Z"
   },
   {
    "duration": 12,
    "start_time": "2021-07-31T16:39:27.531Z"
   },
   {
    "duration": 117,
    "start_time": "2021-07-31T16:39:27.562Z"
   },
   {
    "duration": 55,
    "start_time": "2021-07-31T16:39:27.683Z"
   },
   {
    "duration": 23,
    "start_time": "2021-07-31T16:39:27.741Z"
   },
   {
    "duration": 112,
    "start_time": "2021-07-31T16:39:27.767Z"
   },
   {
    "duration": 55,
    "start_time": "2021-07-31T16:39:27.882Z"
   },
   {
    "duration": 80,
    "start_time": "2021-07-31T16:39:27.940Z"
   },
   {
    "duration": 114,
    "start_time": "2021-07-31T16:39:28.023Z"
   },
   {
    "duration": 84,
    "start_time": "2021-07-31T16:39:28.139Z"
   },
   {
    "duration": 64,
    "start_time": "2021-07-31T16:39:28.225Z"
   },
   {
    "duration": 26,
    "start_time": "2021-07-31T16:39:28.292Z"
   },
   {
    "duration": 5,
    "start_time": "2021-07-31T16:39:28.321Z"
   },
   {
    "duration": 36,
    "start_time": "2021-07-31T16:39:28.328Z"
   },
   {
    "duration": 26,
    "start_time": "2021-07-31T16:39:28.367Z"
   },
   {
    "duration": 13,
    "start_time": "2021-07-31T16:39:28.395Z"
   },
   {
    "duration": 7842,
    "start_time": "2021-07-31T16:39:28.411Z"
   },
   {
    "duration": -218,
    "start_time": "2021-07-31T16:39:36.474Z"
   },
   {
    "duration": -219,
    "start_time": "2021-07-31T16:39:36.477Z"
   },
   {
    "duration": -221,
    "start_time": "2021-07-31T16:39:36.480Z"
   },
   {
    "duration": -221,
    "start_time": "2021-07-31T16:39:36.483Z"
   },
   {
    "duration": -222,
    "start_time": "2021-07-31T16:39:36.486Z"
   },
   {
    "duration": -224,
    "start_time": "2021-07-31T16:39:36.489Z"
   },
   {
    "duration": -225,
    "start_time": "2021-07-31T16:39:36.492Z"
   },
   {
    "duration": -235,
    "start_time": "2021-07-31T16:39:36.503Z"
   },
   {
    "duration": -237,
    "start_time": "2021-07-31T16:39:36.506Z"
   },
   {
    "duration": -238,
    "start_time": "2021-07-31T16:39:36.509Z"
   },
   {
    "duration": -242,
    "start_time": "2021-07-31T16:39:36.514Z"
   },
   {
    "duration": -250,
    "start_time": "2021-07-31T16:39:36.524Z"
   },
   {
    "duration": 7964,
    "start_time": "2021-07-31T16:42:03.231Z"
   },
   {
    "duration": 7871,
    "start_time": "2021-07-31T16:42:48.812Z"
   },
   {
    "duration": 529,
    "start_time": "2021-07-31T16:46:37.841Z"
   },
   {
    "duration": 29,
    "start_time": "2021-07-31T16:46:38.372Z"
   },
   {
    "duration": 615,
    "start_time": "2021-07-31T16:46:38.404Z"
   },
   {
    "duration": 824,
    "start_time": "2021-07-31T16:46:39.022Z"
   },
   {
    "duration": 97,
    "start_time": "2021-07-31T16:46:39.849Z"
   },
   {
    "duration": 118,
    "start_time": "2021-07-31T16:46:39.949Z"
   },
   {
    "duration": 11,
    "start_time": "2021-07-31T16:46:40.069Z"
   },
   {
    "duration": 120,
    "start_time": "2021-07-31T16:46:40.084Z"
   },
   {
    "duration": 70,
    "start_time": "2021-07-31T16:46:40.208Z"
   },
   {
    "duration": 5,
    "start_time": "2021-07-31T16:46:40.281Z"
   },
   {
    "duration": 100,
    "start_time": "2021-07-31T16:46:40.289Z"
   },
   {
    "duration": 52,
    "start_time": "2021-07-31T16:46:40.392Z"
   },
   {
    "duration": 74,
    "start_time": "2021-07-31T16:46:40.447Z"
   },
   {
    "duration": 104,
    "start_time": "2021-07-31T16:46:40.523Z"
   },
   {
    "duration": 69,
    "start_time": "2021-07-31T16:46:40.630Z"
   },
   {
    "duration": 62,
    "start_time": "2021-07-31T16:46:40.702Z"
   },
   {
    "duration": 29,
    "start_time": "2021-07-31T16:46:40.766Z"
   },
   {
    "duration": 5,
    "start_time": "2021-07-31T16:46:40.797Z"
   },
   {
    "duration": 13,
    "start_time": "2021-07-31T16:46:40.805Z"
   },
   {
    "duration": 48,
    "start_time": "2021-07-31T16:46:40.820Z"
   },
   {
    "duration": 14,
    "start_time": "2021-07-31T16:46:40.870Z"
   },
   {
    "duration": 8579,
    "start_time": "2021-07-31T16:46:40.887Z"
   },
   {
    "duration": -223,
    "start_time": "2021-07-31T16:46:49.692Z"
   },
   {
    "duration": -224,
    "start_time": "2021-07-31T16:46:49.695Z"
   },
   {
    "duration": -226,
    "start_time": "2021-07-31T16:46:49.698Z"
   },
   {
    "duration": -228,
    "start_time": "2021-07-31T16:46:49.701Z"
   },
   {
    "duration": -233,
    "start_time": "2021-07-31T16:46:49.708Z"
   },
   {
    "duration": -234,
    "start_time": "2021-07-31T16:46:49.711Z"
   },
   {
    "duration": -237,
    "start_time": "2021-07-31T16:46:49.715Z"
   },
   {
    "duration": -239,
    "start_time": "2021-07-31T16:46:49.719Z"
   },
   {
    "duration": -244,
    "start_time": "2021-07-31T16:46:49.725Z"
   },
   {
    "duration": -246,
    "start_time": "2021-07-31T16:46:49.728Z"
   },
   {
    "duration": -247,
    "start_time": "2021-07-31T16:46:49.731Z"
   },
   {
    "duration": -249,
    "start_time": "2021-07-31T16:46:49.734Z"
   },
   {
    "duration": -253,
    "start_time": "2021-07-31T16:46:49.740Z"
   },
   {
    "duration": 538,
    "start_time": "2021-07-31T16:50:24.239Z"
   },
   {
    "duration": 27,
    "start_time": "2021-07-31T16:50:24.779Z"
   },
   {
    "duration": 647,
    "start_time": "2021-07-31T16:50:24.809Z"
   },
   {
    "duration": 624,
    "start_time": "2021-07-31T16:50:25.463Z"
   },
   {
    "duration": 104,
    "start_time": "2021-07-31T16:50:26.090Z"
   },
   {
    "duration": 115,
    "start_time": "2021-07-31T16:50:26.197Z"
   },
   {
    "duration": 10,
    "start_time": "2021-07-31T16:50:26.315Z"
   },
   {
    "duration": 122,
    "start_time": "2021-07-31T16:50:26.330Z"
   },
   {
    "duration": 60,
    "start_time": "2021-07-31T16:50:26.456Z"
   },
   {
    "duration": 5,
    "start_time": "2021-07-31T16:50:26.518Z"
   },
   {
    "duration": 107,
    "start_time": "2021-07-31T16:50:26.526Z"
   },
   {
    "duration": 61,
    "start_time": "2021-07-31T16:50:26.635Z"
   },
   {
    "duration": 79,
    "start_time": "2021-07-31T16:50:26.699Z"
   },
   {
    "duration": 98,
    "start_time": "2021-07-31T16:50:26.781Z"
   },
   {
    "duration": 64,
    "start_time": "2021-07-31T16:50:26.881Z"
   },
   {
    "duration": 64,
    "start_time": "2021-07-31T16:50:26.947Z"
   },
   {
    "duration": 49,
    "start_time": "2021-07-31T16:50:27.013Z"
   },
   {
    "duration": 5,
    "start_time": "2021-07-31T16:50:27.064Z"
   },
   {
    "duration": 23,
    "start_time": "2021-07-31T16:50:27.071Z"
   },
   {
    "duration": 32,
    "start_time": "2021-07-31T16:50:27.096Z"
   },
   {
    "duration": 32,
    "start_time": "2021-07-31T16:50:27.130Z"
   },
   {
    "duration": 310,
    "start_time": "2021-07-31T16:50:27.165Z"
   },
   {
    "duration": -175,
    "start_time": "2021-07-31T16:50:27.654Z"
   },
   {
    "duration": -184,
    "start_time": "2021-07-31T16:50:27.665Z"
   },
   {
    "duration": -191,
    "start_time": "2021-07-31T16:50:27.674Z"
   },
   {
    "duration": -198,
    "start_time": "2021-07-31T16:50:27.682Z"
   },
   {
    "duration": -199,
    "start_time": "2021-07-31T16:50:27.685Z"
   },
   {
    "duration": -202,
    "start_time": "2021-07-31T16:50:27.689Z"
   },
   {
    "duration": -213,
    "start_time": "2021-07-31T16:50:27.702Z"
   },
   {
    "duration": -216,
    "start_time": "2021-07-31T16:50:27.706Z"
   },
   {
    "duration": -222,
    "start_time": "2021-07-31T16:50:27.714Z"
   },
   {
    "duration": -225,
    "start_time": "2021-07-31T16:50:27.718Z"
   },
   {
    "duration": -228,
    "start_time": "2021-07-31T16:50:27.723Z"
   },
   {
    "duration": -236,
    "start_time": "2021-07-31T16:50:27.732Z"
   },
   {
    "duration": -238,
    "start_time": "2021-07-31T16:50:27.736Z"
   },
   {
    "duration": -242,
    "start_time": "2021-07-31T16:50:27.741Z"
   },
   {
    "duration": 539,
    "start_time": "2021-07-31T16:50:44.196Z"
   },
   {
    "duration": 26,
    "start_time": "2021-07-31T16:50:44.738Z"
   },
   {
    "duration": 603,
    "start_time": "2021-07-31T16:50:44.768Z"
   },
   {
    "duration": 720,
    "start_time": "2021-07-31T16:50:45.374Z"
   },
   {
    "duration": 104,
    "start_time": "2021-07-31T16:50:46.096Z"
   },
   {
    "duration": 120,
    "start_time": "2021-07-31T16:50:46.202Z"
   },
   {
    "duration": 10,
    "start_time": "2021-07-31T16:50:46.324Z"
   },
   {
    "duration": 106,
    "start_time": "2021-07-31T16:50:46.338Z"
   },
   {
    "duration": 61,
    "start_time": "2021-07-31T16:50:46.447Z"
   },
   {
    "duration": 5,
    "start_time": "2021-07-31T16:50:46.510Z"
   },
   {
    "duration": 104,
    "start_time": "2021-07-31T16:50:46.518Z"
   },
   {
    "duration": 58,
    "start_time": "2021-07-31T16:50:46.625Z"
   },
   {
    "duration": 263,
    "start_time": "2021-07-31T16:50:46.686Z"
   },
   {
    "duration": 87,
    "start_time": "2021-07-31T16:50:46.962Z"
   },
   {
    "duration": 61,
    "start_time": "2021-07-31T16:50:47.061Z"
   },
   {
    "duration": 67,
    "start_time": "2021-07-31T16:50:47.124Z"
   },
   {
    "duration": 29,
    "start_time": "2021-07-31T16:50:47.194Z"
   },
   {
    "duration": 5,
    "start_time": "2021-07-31T16:50:47.226Z"
   },
   {
    "duration": 36,
    "start_time": "2021-07-31T16:50:47.234Z"
   },
   {
    "duration": 18,
    "start_time": "2021-07-31T16:50:47.272Z"
   },
   {
    "duration": 14,
    "start_time": "2021-07-31T16:50:47.292Z"
   },
   {
    "duration": 14,
    "start_time": "2021-07-31T16:50:47.308Z"
   },
   {
    "duration": 8764,
    "start_time": "2021-07-31T16:50:47.327Z"
   },
   {
    "duration": -222,
    "start_time": "2021-07-31T16:50:56.315Z"
   },
   {
    "duration": -226,
    "start_time": "2021-07-31T16:50:56.321Z"
   },
   {
    "duration": -230,
    "start_time": "2021-07-31T16:50:56.326Z"
   },
   {
    "duration": -234,
    "start_time": "2021-07-31T16:50:56.331Z"
   },
   {
    "duration": -236,
    "start_time": "2021-07-31T16:50:56.335Z"
   },
   {
    "duration": -240,
    "start_time": "2021-07-31T16:50:56.340Z"
   },
   {
    "duration": -241,
    "start_time": "2021-07-31T16:50:56.343Z"
   },
   {
    "duration": -245,
    "start_time": "2021-07-31T16:50:56.348Z"
   },
   {
    "duration": -248,
    "start_time": "2021-07-31T16:50:56.352Z"
   },
   {
    "duration": -251,
    "start_time": "2021-07-31T16:50:56.356Z"
   },
   {
    "duration": -253,
    "start_time": "2021-07-31T16:50:56.359Z"
   },
   {
    "duration": -255,
    "start_time": "2021-07-31T16:50:56.362Z"
   },
   {
    "duration": -257,
    "start_time": "2021-07-31T16:50:56.366Z"
   },
   {
    "duration": 10,
    "start_time": "2021-07-31T16:58:05.686Z"
   },
   {
    "duration": 8212,
    "start_time": "2021-07-31T16:58:11.632Z"
   },
   {
    "duration": -209,
    "start_time": "2021-07-31T16:58:20.056Z"
   },
   {
    "duration": 9,
    "start_time": "2021-07-31T17:05:05.510Z"
   },
   {
    "duration": 7837,
    "start_time": "2021-07-31T17:05:13.870Z"
   },
   {
    "duration": 9,
    "start_time": "2021-07-31T17:08:52.507Z"
   },
   {
    "duration": 6,
    "start_time": "2021-07-31T17:08:55.128Z"
   },
   {
    "duration": 909,
    "start_time": "2021-07-31T17:08:56.612Z"
   },
   {
    "duration": 16,
    "start_time": "2021-07-31T17:09:00.802Z"
   },
   {
    "duration": 571,
    "start_time": "2021-07-31T17:09:27.179Z"
   },
   {
    "duration": 27,
    "start_time": "2021-07-31T17:09:27.753Z"
   },
   {
    "duration": 616,
    "start_time": "2021-07-31T17:09:27.783Z"
   },
   {
    "duration": 606,
    "start_time": "2021-07-31T17:09:28.402Z"
   },
   {
    "duration": 101,
    "start_time": "2021-07-31T17:09:29.010Z"
   },
   {
    "duration": 117,
    "start_time": "2021-07-31T17:09:29.113Z"
   },
   {
    "duration": 9,
    "start_time": "2021-07-31T17:09:29.232Z"
   },
   {
    "duration": 90,
    "start_time": "2021-07-31T17:09:29.261Z"
   },
   {
    "duration": 56,
    "start_time": "2021-07-31T17:09:29.362Z"
   },
   {
    "duration": 5,
    "start_time": "2021-07-31T17:09:29.420Z"
   },
   {
    "duration": 106,
    "start_time": "2021-07-31T17:09:29.427Z"
   },
   {
    "duration": 56,
    "start_time": "2021-07-31T17:09:29.536Z"
   },
   {
    "duration": 77,
    "start_time": "2021-07-31T17:09:29.594Z"
   },
   {
    "duration": 101,
    "start_time": "2021-07-31T17:09:29.674Z"
   },
   {
    "duration": 64,
    "start_time": "2021-07-31T17:09:29.777Z"
   },
   {
    "duration": 69,
    "start_time": "2021-07-31T17:09:29.843Z"
   },
   {
    "duration": 28,
    "start_time": "2021-07-31T17:09:29.914Z"
   },
   {
    "duration": 19,
    "start_time": "2021-07-31T17:09:29.944Z"
   },
   {
    "duration": 27,
    "start_time": "2021-07-31T17:09:29.966Z"
   },
   {
    "duration": 34,
    "start_time": "2021-07-31T17:09:29.995Z"
   },
   {
    "duration": 13,
    "start_time": "2021-07-31T17:09:30.032Z"
   },
   {
    "duration": 26,
    "start_time": "2021-07-31T17:09:30.048Z"
   },
   {
    "duration": 906,
    "start_time": "2021-07-31T17:09:30.081Z"
   },
   {
    "duration": 19,
    "start_time": "2021-07-31T17:09:30.990Z"
   },
   {
    "duration": 9,
    "start_time": "2021-07-31T17:09:31.012Z"
   },
   {
    "duration": 45,
    "start_time": "2021-07-31T17:09:31.024Z"
   },
   {
    "duration": 104,
    "start_time": "2021-07-31T17:09:31.073Z"
   },
   {
    "duration": 361,
    "start_time": "2021-07-31T17:09:31.180Z"
   },
   {
    "duration": 355,
    "start_time": "2021-07-31T17:09:31.544Z"
   },
   {
    "duration": 1051,
    "start_time": "2021-07-31T17:09:31.902Z"
   },
   {
    "duration": 27,
    "start_time": "2021-07-31T17:09:32.962Z"
   },
   {
    "duration": 30,
    "start_time": "2021-07-31T17:09:32.992Z"
   },
   {
    "duration": 41,
    "start_time": "2021-07-31T17:09:33.024Z"
   },
   {
    "duration": 14,
    "start_time": "2021-07-31T17:09:33.067Z"
   },
   {
    "duration": 27,
    "start_time": "2021-07-31T17:09:33.083Z"
   },
   {
    "duration": 8,
    "start_time": "2021-07-31T17:09:33.112Z"
   },
   {
    "duration": 16,
    "start_time": "2021-07-31T17:19:20.457Z"
   },
   {
    "duration": 1229,
    "start_time": "2021-07-31T17:27:37.580Z"
   },
   {
    "duration": 908,
    "start_time": "2021-07-31T17:28:04.728Z"
   },
   {
    "duration": 18,
    "start_time": "2021-07-31T17:28:39.949Z"
   },
   {
    "duration": 22,
    "start_time": "2021-07-31T17:28:57.090Z"
   },
   {
    "duration": 20,
    "start_time": "2021-07-31T17:29:01.184Z"
   },
   {
    "duration": 15,
    "start_time": "2021-07-31T17:29:08.818Z"
   },
   {
    "duration": 14,
    "start_time": "2021-07-31T17:29:15.037Z"
   },
   {
    "duration": 17,
    "start_time": "2021-07-31T17:29:56.951Z"
   },
   {
    "duration": 15,
    "start_time": "2021-07-31T17:30:01.168Z"
   },
   {
    "duration": 16,
    "start_time": "2021-07-31T17:30:12.031Z"
   },
   {
    "duration": 713,
    "start_time": "2021-07-31T17:54:59.317Z"
   },
   {
    "duration": 612,
    "start_time": "2021-07-31T17:55:20.062Z"
   },
   {
    "duration": 596,
    "start_time": "2021-07-31T17:55:30.575Z"
   },
   {
    "duration": 757,
    "start_time": "2021-07-31T17:55:47.756Z"
   },
   {
    "duration": 603,
    "start_time": "2021-07-31T17:56:08.916Z"
   },
   {
    "duration": 765,
    "start_time": "2021-07-31T17:57:11.930Z"
   },
   {
    "duration": 775,
    "start_time": "2021-07-31T17:57:16.393Z"
   },
   {
    "duration": 778,
    "start_time": "2021-07-31T17:57:50.814Z"
   },
   {
    "duration": 957,
    "start_time": "2021-07-31T17:58:32.438Z"
   },
   {
    "duration": 775,
    "start_time": "2021-07-31T17:58:57.625Z"
   },
   {
    "duration": 764,
    "start_time": "2021-07-31T17:59:02.248Z"
   },
   {
    "duration": 789,
    "start_time": "2021-07-31T17:59:09.676Z"
   },
   {
    "duration": 772,
    "start_time": "2021-07-31T17:59:41.129Z"
   },
   {
    "duration": 1111,
    "start_time": "2021-07-31T18:00:02.463Z"
   },
   {
    "duration": 1150,
    "start_time": "2021-07-31T18:02:07.715Z"
   },
   {
    "duration": 733,
    "start_time": "2021-07-31T18:02:31.146Z"
   },
   {
    "duration": 2215,
    "start_time": "2021-07-31T18:02:45.513Z"
   },
   {
    "duration": 1859,
    "start_time": "2021-07-31T18:03:00.811Z"
   },
   {
    "duration": 1619,
    "start_time": "2021-07-31T18:03:19.453Z"
   },
   {
    "duration": 590,
    "start_time": "2021-07-31T18:08:30.636Z"
   },
   {
    "duration": 829,
    "start_time": "2021-07-31T18:09:09.823Z"
   },
   {
    "duration": 712,
    "start_time": "2021-07-31T18:09:55.336Z"
   },
   {
    "duration": 636,
    "start_time": "2021-07-31T18:10:29.766Z"
   },
   {
    "duration": 739,
    "start_time": "2021-07-31T18:10:47.467Z"
   },
   {
    "duration": 982,
    "start_time": "2021-07-31T18:11:04.687Z"
   },
   {
    "duration": 718,
    "start_time": "2021-07-31T18:11:33.715Z"
   },
   {
    "duration": 742,
    "start_time": "2021-07-31T18:11:42.234Z"
   },
   {
    "duration": 861,
    "start_time": "2021-07-31T18:12:00.333Z"
   },
   {
    "duration": 741,
    "start_time": "2021-07-31T18:12:18.138Z"
   },
   {
    "duration": 744,
    "start_time": "2021-07-31T18:16:29.263Z"
   },
   {
    "duration": 734,
    "start_time": "2021-07-31T18:16:35.910Z"
   },
   {
    "duration": 747,
    "start_time": "2021-07-31T18:16:45.728Z"
   },
   {
    "duration": 724,
    "start_time": "2021-07-31T18:16:53.355Z"
   },
   {
    "duration": 704,
    "start_time": "2021-07-31T18:16:59.378Z"
   },
   {
    "duration": 729,
    "start_time": "2021-07-31T18:17:06.484Z"
   },
   {
    "duration": 966,
    "start_time": "2021-07-31T18:17:15.420Z"
   },
   {
    "duration": 712,
    "start_time": "2021-07-31T18:17:22.322Z"
   },
   {
    "duration": 721,
    "start_time": "2021-07-31T18:17:31.943Z"
   },
   {
    "duration": 750,
    "start_time": "2021-07-31T18:17:41.949Z"
   },
   {
    "duration": 718,
    "start_time": "2021-07-31T18:17:47.612Z"
   },
   {
    "duration": 820,
    "start_time": "2021-07-31T18:19:15.362Z"
   },
   {
    "duration": 872,
    "start_time": "2021-07-31T18:19:27.274Z"
   },
   {
    "duration": 618,
    "start_time": "2021-07-31T18:19:45.034Z"
   },
   {
    "duration": 583,
    "start_time": "2021-07-31T18:20:43.871Z"
   },
   {
    "duration": 674,
    "start_time": "2021-07-31T18:20:51.019Z"
   },
   {
    "duration": 570,
    "start_time": "2021-07-31T18:21:11.117Z"
   },
   {
    "duration": 653,
    "start_time": "2021-07-31T18:21:36.410Z"
   },
   {
    "duration": 1005,
    "start_time": "2021-07-31T18:21:59.465Z"
   },
   {
    "duration": 1348,
    "start_time": "2021-07-31T18:22:29.277Z"
   },
   {
    "duration": 1041,
    "start_time": "2021-07-31T18:22:59.215Z"
   },
   {
    "duration": 1077,
    "start_time": "2021-07-31T18:23:40.769Z"
   },
   {
    "duration": 1070,
    "start_time": "2021-07-31T18:24:08.426Z"
   },
   {
    "duration": 1353,
    "start_time": "2021-07-31T18:24:50.091Z"
   },
   {
    "duration": 1371,
    "start_time": "2021-07-31T18:25:15.061Z"
   },
   {
    "duration": 1372,
    "start_time": "2021-07-31T18:25:37.445Z"
   },
   {
    "duration": 1879,
    "start_time": "2021-07-31T20:06:08.975Z"
   },
   {
    "duration": 28,
    "start_time": "2021-07-31T20:06:10.857Z"
   },
   {
    "duration": 598,
    "start_time": "2021-07-31T20:06:10.888Z"
   },
   {
    "duration": 574,
    "start_time": "2021-07-31T20:06:11.489Z"
   },
   {
    "duration": 113,
    "start_time": "2021-07-31T20:06:12.066Z"
   },
   {
    "duration": 134,
    "start_time": "2021-07-31T20:06:12.182Z"
   },
   {
    "duration": 10,
    "start_time": "2021-07-31T20:06:12.318Z"
   },
   {
    "duration": 114,
    "start_time": "2021-07-31T20:06:12.333Z"
   },
   {
    "duration": 67,
    "start_time": "2021-07-31T20:06:12.450Z"
   },
   {
    "duration": 6,
    "start_time": "2021-07-31T20:06:12.520Z"
   },
   {
    "duration": 105,
    "start_time": "2021-07-31T20:06:12.529Z"
   },
   {
    "duration": 64,
    "start_time": "2021-07-31T20:06:12.636Z"
   },
   {
    "duration": 66,
    "start_time": "2021-07-31T20:06:12.703Z"
   },
   {
    "duration": 108,
    "start_time": "2021-07-31T20:06:12.771Z"
   },
   {
    "duration": 79,
    "start_time": "2021-07-31T20:06:12.881Z"
   },
   {
    "duration": 68,
    "start_time": "2021-07-31T20:06:12.962Z"
   },
   {
    "duration": 29,
    "start_time": "2021-07-31T20:06:13.032Z"
   },
   {
    "duration": 5,
    "start_time": "2021-07-31T20:06:13.064Z"
   },
   {
    "duration": 33,
    "start_time": "2021-07-31T20:06:13.072Z"
   },
   {
    "duration": 20,
    "start_time": "2021-07-31T20:06:13.108Z"
   },
   {
    "duration": 9,
    "start_time": "2021-07-31T20:06:13.131Z"
   },
   {
    "duration": 10,
    "start_time": "2021-07-31T20:06:13.143Z"
   },
   {
    "duration": 867,
    "start_time": "2021-07-31T20:06:13.158Z"
   },
   {
    "duration": 7,
    "start_time": "2021-07-31T20:06:14.028Z"
   },
   {
    "duration": 10,
    "start_time": "2021-07-31T20:06:14.037Z"
   },
   {
    "duration": 105,
    "start_time": "2021-07-31T20:06:14.050Z"
   },
   {
    "duration": 350,
    "start_time": "2021-07-31T20:06:14.157Z"
   },
   {
    "duration": 1372,
    "start_time": "2021-07-31T20:06:14.510Z"
   },
   {
    "duration": 327,
    "start_time": "2021-07-31T20:06:15.884Z"
   },
   {
    "duration": 1649,
    "start_time": "2021-07-31T20:06:16.214Z"
   },
   {
    "duration": 1071,
    "start_time": "2021-07-31T20:06:17.865Z"
   },
   {
    "duration": 1335,
    "start_time": "2021-07-31T20:06:18.939Z"
   },
   {
    "duration": 41,
    "start_time": "2021-07-31T20:06:20.278Z"
   },
   {
    "duration": 27,
    "start_time": "2021-07-31T20:06:20.322Z"
   },
   {
    "duration": 10,
    "start_time": "2021-07-31T20:06:20.353Z"
   },
   {
    "duration": 7,
    "start_time": "2021-07-31T20:06:20.402Z"
   },
   {
    "duration": 13,
    "start_time": "2021-07-31T20:06:20.411Z"
   },
   {
    "duration": 19,
    "start_time": "2021-07-31T20:06:20.426Z"
   },
   {
    "duration": 30,
    "start_time": "2021-07-31T20:06:20.447Z"
   },
   {
    "duration": 871,
    "start_time": "2021-07-31T20:06:20.480Z"
   },
   {
    "duration": 15,
    "start_time": "2021-07-31T20:06:21.353Z"
   },
   {
    "duration": 40,
    "start_time": "2021-07-31T20:06:21.370Z"
   },
   {
    "duration": 50,
    "start_time": "2021-07-31T20:09:28.072Z"
   },
   {
    "duration": 35,
    "start_time": "2021-07-31T20:09:38.384Z"
   },
   {
    "duration": 2162,
    "start_time": "2021-08-09T09:51:42.355Z"
   },
   {
    "duration": 25,
    "start_time": "2021-08-09T09:51:44.520Z"
   },
   {
    "duration": 591,
    "start_time": "2021-08-09T09:51:44.547Z"
   },
   {
    "duration": 594,
    "start_time": "2021-08-09T09:51:45.140Z"
   },
   {
    "duration": 96,
    "start_time": "2021-08-09T09:51:45.736Z"
   },
   {
    "duration": 119,
    "start_time": "2021-08-09T09:51:45.834Z"
   },
   {
    "duration": 10,
    "start_time": "2021-08-09T09:51:45.956Z"
   },
   {
    "duration": 104,
    "start_time": "2021-08-09T09:51:45.970Z"
   },
   {
    "duration": 53,
    "start_time": "2021-08-09T09:51:46.086Z"
   },
   {
    "duration": 5,
    "start_time": "2021-08-09T09:51:46.142Z"
   },
   {
    "duration": 113,
    "start_time": "2021-08-09T09:51:46.150Z"
   },
   {
    "duration": 55,
    "start_time": "2021-08-09T09:51:46.266Z"
   },
   {
    "duration": 76,
    "start_time": "2021-08-09T09:51:46.323Z"
   },
   {
    "duration": 105,
    "start_time": "2021-08-09T09:51:46.401Z"
   },
   {
    "duration": 58,
    "start_time": "2021-08-09T09:51:46.508Z"
   },
   {
    "duration": 67,
    "start_time": "2021-08-09T09:51:46.569Z"
   },
   {
    "duration": 54,
    "start_time": "2021-08-09T09:51:46.639Z"
   },
   {
    "duration": 4,
    "start_time": "2021-08-09T09:51:46.696Z"
   },
   {
    "duration": 11,
    "start_time": "2021-08-09T09:51:46.703Z"
   },
   {
    "duration": 17,
    "start_time": "2021-08-09T09:51:46.716Z"
   },
   {
    "duration": 9,
    "start_time": "2021-08-09T09:51:46.735Z"
   },
   {
    "duration": 47,
    "start_time": "2021-08-09T09:51:46.746Z"
   },
   {
    "duration": 913,
    "start_time": "2021-08-09T09:51:46.800Z"
   },
   {
    "duration": 9,
    "start_time": "2021-08-09T09:51:47.716Z"
   },
   {
    "duration": 10,
    "start_time": "2021-08-09T09:51:47.728Z"
   },
   {
    "duration": 113,
    "start_time": "2021-08-09T09:51:47.741Z"
   },
   {
    "duration": 356,
    "start_time": "2021-08-09T09:51:47.857Z"
   },
   {
    "duration": 1422,
    "start_time": "2021-08-09T09:51:48.215Z"
   },
   {
    "duration": 313,
    "start_time": "2021-08-09T09:51:49.639Z"
   },
   {
    "duration": 1358,
    "start_time": "2021-08-09T09:51:49.954Z"
   },
   {
    "duration": 1108,
    "start_time": "2021-08-09T09:51:51.315Z"
   },
   {
    "duration": 1435,
    "start_time": "2021-08-09T09:51:52.425Z"
   },
   {
    "duration": 41,
    "start_time": "2021-08-09T09:51:53.863Z"
   },
   {
    "duration": 27,
    "start_time": "2021-08-09T09:51:53.907Z"
   },
   {
    "duration": 9,
    "start_time": "2021-08-09T09:51:53.936Z"
   },
   {
    "duration": 13,
    "start_time": "2021-08-09T09:51:53.948Z"
   },
   {
    "duration": 12,
    "start_time": "2021-08-09T09:51:53.989Z"
   },
   {
    "duration": 8,
    "start_time": "2021-08-09T09:51:54.003Z"
   },
   {
    "duration": 17,
    "start_time": "2021-08-09T09:51:54.013Z"
   },
   {
    "duration": 898,
    "start_time": "2021-08-09T09:51:54.032Z"
   },
   {
    "duration": 14,
    "start_time": "2021-08-09T09:51:54.933Z"
   },
   {
    "duration": 38,
    "start_time": "2021-08-09T09:51:54.950Z"
   },
   {
    "duration": 267,
    "start_time": "2021-08-09T09:54:26.232Z"
   },
   {
    "duration": 219,
    "start_time": "2021-08-09T09:54:44.399Z"
   },
   {
    "duration": 263,
    "start_time": "2021-08-09T09:54:47.763Z"
   },
   {
    "duration": 2004,
    "start_time": "2021-09-24T18:35:16.447Z"
   },
   {
    "duration": 26,
    "start_time": "2021-09-24T18:35:18.453Z"
   },
   {
    "duration": 553,
    "start_time": "2021-09-24T18:35:18.482Z"
   },
   {
    "duration": 557,
    "start_time": "2021-09-24T18:35:19.038Z"
   },
   {
    "duration": 99,
    "start_time": "2021-09-24T18:35:19.598Z"
   },
   {
    "duration": 128,
    "start_time": "2021-09-24T18:35:19.700Z"
   },
   {
    "duration": 10,
    "start_time": "2021-09-24T18:35:19.830Z"
   },
   {
    "duration": 103,
    "start_time": "2021-09-24T18:35:19.842Z"
   },
   {
    "duration": 56,
    "start_time": "2021-09-24T18:35:19.949Z"
   },
   {
    "duration": 17,
    "start_time": "2021-09-24T18:35:20.007Z"
   },
   {
    "duration": 112,
    "start_time": "2021-09-24T18:35:20.027Z"
   },
   {
    "duration": 63,
    "start_time": "2021-09-24T18:35:20.141Z"
   },
   {
    "duration": 80,
    "start_time": "2021-09-24T18:35:20.207Z"
   },
   {
    "duration": 111,
    "start_time": "2021-09-24T18:35:20.289Z"
   },
   {
    "duration": 74,
    "start_time": "2021-09-24T18:35:20.402Z"
   },
   {
    "duration": 53,
    "start_time": "2021-09-24T18:35:20.479Z"
   },
   {
    "duration": 24,
    "start_time": "2021-09-24T18:35:20.534Z"
   },
   {
    "duration": 23,
    "start_time": "2021-09-24T18:35:20.560Z"
   },
   {
    "duration": 57,
    "start_time": "2021-09-24T18:35:20.586Z"
   },
   {
    "duration": 43,
    "start_time": "2021-09-24T18:35:20.645Z"
   },
   {
    "duration": 24,
    "start_time": "2021-09-24T18:35:20.690Z"
   },
   {
    "duration": 47,
    "start_time": "2021-09-24T18:35:20.717Z"
   },
   {
    "duration": 841,
    "start_time": "2021-09-24T18:35:20.766Z"
   },
   {
    "duration": 12,
    "start_time": "2021-09-24T18:35:21.610Z"
   },
   {
    "duration": 31,
    "start_time": "2021-09-24T18:35:21.625Z"
   },
   {
    "duration": 286,
    "start_time": "2021-09-24T18:35:21.658Z"
   },
   {
    "duration": 381,
    "start_time": "2021-09-24T18:35:21.949Z"
   },
   {
    "duration": 1802,
    "start_time": "2021-09-24T18:35:22.332Z"
   },
   {
    "duration": 562,
    "start_time": "2021-09-24T18:35:24.137Z"
   },
   {
    "duration": 1627,
    "start_time": "2021-09-24T18:35:24.702Z"
   },
   {
    "duration": 1026,
    "start_time": "2021-09-24T18:35:26.331Z"
   },
   {
    "duration": 1274,
    "start_time": "2021-09-24T18:35:27.359Z"
   },
   {
    "duration": 27,
    "start_time": "2021-09-24T18:35:28.635Z"
   },
   {
    "duration": 24,
    "start_time": "2021-09-24T18:35:28.664Z"
   },
   {
    "duration": 9,
    "start_time": "2021-09-24T18:35:28.722Z"
   },
   {
    "duration": 8,
    "start_time": "2021-09-24T18:35:28.733Z"
   },
   {
    "duration": 9,
    "start_time": "2021-09-24T18:35:28.744Z"
   },
   {
    "duration": 8,
    "start_time": "2021-09-24T18:35:28.756Z"
   },
   {
    "duration": 57,
    "start_time": "2021-09-24T18:35:28.767Z"
   },
   {
    "duration": 827,
    "start_time": "2021-09-24T18:35:28.827Z"
   },
   {
    "duration": 15,
    "start_time": "2021-09-24T18:35:29.656Z"
   },
   {
    "duration": 13,
    "start_time": "2021-09-24T18:35:29.674Z"
   },
   {
    "duration": 124,
    "start_time": "2021-11-07T12:52:29.521Z"
   },
   {
    "duration": 127,
    "start_time": "2021-11-07T12:53:23.886Z"
   },
   {
    "duration": 133,
    "start_time": "2021-11-07T12:53:44.382Z"
   },
   {
    "duration": 122,
    "start_time": "2021-11-07T12:56:15.628Z"
   },
   {
    "duration": 97,
    "start_time": "2021-11-07T12:57:47.790Z"
   },
   {
    "duration": 2059,
    "start_time": "2021-11-07T13:00:13.078Z"
   },
   {
    "duration": 586,
    "start_time": "2021-11-07T13:03:22.077Z"
   },
   {
    "duration": 28,
    "start_time": "2021-11-07T13:03:22.768Z"
   },
   {
    "duration": 626,
    "start_time": "2021-11-07T13:03:22.929Z"
   },
   {
    "duration": 148,
    "start_time": "2021-11-07T13:06:39.008Z"
   },
   {
    "duration": 4,
    "start_time": "2021-11-07T13:10:36.995Z"
   },
   {
    "duration": 622,
    "start_time": "2021-11-07T13:10:37.577Z"
   },
   {
    "duration": 34,
    "start_time": "2021-11-07T13:10:39.505Z"
   },
   {
    "duration": 675,
    "start_time": "2021-11-07T13:10:40.122Z"
   },
   {
    "duration": 632,
    "start_time": "2021-11-07T13:10:42.297Z"
   },
   {
    "duration": 108,
    "start_time": "2021-11-07T13:10:55.620Z"
   },
   {
    "duration": 4,
    "start_time": "2021-11-07T13:11:00.139Z"
   },
   {
    "duration": 311,
    "start_time": "2021-11-07T13:11:01.098Z"
   },
   {
    "duration": 272,
    "start_time": "2021-11-07T13:11:43.888Z"
   },
   {
    "duration": 1547,
    "start_time": "2021-11-07T13:30:00.192Z"
   },
   {
    "duration": 579,
    "start_time": "2021-11-07T13:30:01.742Z"
   },
   {
    "duration": 33,
    "start_time": "2021-11-07T13:30:02.326Z"
   },
   {
    "duration": 685,
    "start_time": "2021-11-07T13:30:02.362Z"
   },
   {
    "duration": 695,
    "start_time": "2021-11-07T13:30:03.051Z"
   },
   {
    "duration": 115,
    "start_time": "2021-11-07T13:30:03.749Z"
   },
   {
    "duration": 3,
    "start_time": "2021-11-07T13:30:03.867Z"
   },
   {
    "duration": 297,
    "start_time": "2021-11-07T13:30:03.873Z"
   },
   {
    "duration": 5,
    "start_time": "2021-11-07T13:30:04.173Z"
   },
   {
    "duration": 111,
    "start_time": "2021-11-07T13:30:04.182Z"
   },
   {
    "duration": 76,
    "start_time": "2021-11-07T13:30:04.296Z"
   },
   {
    "duration": 80,
    "start_time": "2021-11-07T13:30:04.374Z"
   },
   {
    "duration": 110,
    "start_time": "2021-11-07T13:30:04.456Z"
   },
   {
    "duration": 80,
    "start_time": "2021-11-07T13:30:04.568Z"
   },
   {
    "duration": 49,
    "start_time": "2021-11-07T13:30:04.650Z"
   },
   {
    "duration": 51,
    "start_time": "2021-11-07T13:30:04.702Z"
   },
   {
    "duration": 5,
    "start_time": "2021-11-07T13:30:04.755Z"
   },
   {
    "duration": 19,
    "start_time": "2021-11-07T13:30:04.763Z"
   },
   {
    "duration": 43,
    "start_time": "2021-11-07T13:30:04.785Z"
   },
   {
    "duration": 10,
    "start_time": "2021-11-07T13:30:04.832Z"
   },
   {
    "duration": 10,
    "start_time": "2021-11-07T13:30:04.844Z"
   },
   {
    "duration": 923,
    "start_time": "2021-11-07T13:30:04.857Z"
   },
   {
    "duration": 7,
    "start_time": "2021-11-07T13:30:05.785Z"
   },
   {
    "duration": 29,
    "start_time": "2021-11-07T13:30:05.795Z"
   },
   {
    "duration": 313,
    "start_time": "2021-11-07T13:30:05.828Z"
   },
   {
    "duration": 397,
    "start_time": "2021-11-07T13:30:06.143Z"
   },
   {
    "duration": 1463,
    "start_time": "2021-11-07T13:30:06.543Z"
   },
   {
    "duration": 354,
    "start_time": "2021-11-07T13:30:08.009Z"
   },
   {
    "duration": 1602,
    "start_time": "2021-11-07T13:30:08.365Z"
   },
   {
    "duration": 1160,
    "start_time": "2021-11-07T13:30:09.970Z"
   },
   {
    "duration": 1435,
    "start_time": "2021-11-07T13:30:11.133Z"
   },
   {
    "duration": 27,
    "start_time": "2021-11-07T13:30:12.570Z"
   },
   {
    "duration": 55,
    "start_time": "2021-11-07T13:30:12.599Z"
   },
   {
    "duration": 12,
    "start_time": "2021-11-07T13:30:12.656Z"
   },
   {
    "duration": 10,
    "start_time": "2021-11-07T13:30:12.670Z"
   },
   {
    "duration": 52,
    "start_time": "2021-11-07T13:30:12.682Z"
   },
   {
    "duration": 9,
    "start_time": "2021-11-07T13:30:12.737Z"
   },
   {
    "duration": 17,
    "start_time": "2021-11-07T13:30:12.749Z"
   },
   {
    "duration": 926,
    "start_time": "2021-11-07T13:30:12.768Z"
   },
   {
    "duration": 29,
    "start_time": "2021-11-07T13:30:13.696Z"
   },
   {
    "duration": 19,
    "start_time": "2021-11-07T13:30:13.728Z"
   }
  ],
  "kernelspec": {
   "display_name": "Python 3",
   "language": "python",
   "name": "python3"
  },
  "language_info": {
   "codemirror_mode": {
    "name": "ipython",
    "version": 3
   },
   "file_extension": ".py",
   "mimetype": "text/x-python",
   "name": "python",
   "nbconvert_exporter": "python",
   "pygments_lexer": "ipython3",
   "version": "3.7.8"
  },
  "toc": {
   "base_numbering": 1,
   "nav_menu": {},
   "number_sections": true,
   "sideBar": true,
   "skip_h1_title": true,
   "title_cell": "Содержание",
   "title_sidebar": "Contents",
   "toc_cell": true,
   "toc_position": {
    "height": "calc(100% - 180px)",
    "left": "10px",
    "top": "150px",
    "width": "273.188px"
   },
   "toc_section_display": true,
   "toc_window_display": true
  }
 },
 "nbformat": 4,
 "nbformat_minor": 2
}
