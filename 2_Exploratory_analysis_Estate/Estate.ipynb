{
 "cells": [
  {
   "cell_type": "markdown",
   "metadata": {
    "toc": true
   },
   "source": [
    "<h1>Содержание<span class=\"tocSkip\"></span></h1>\n",
    "<div class=\"toc\"><ul class=\"toc-item\"><li><span><a href=\"#Изучение-данных-из-файла\" data-toc-modified-id=\"Изучение-данных-из-файла-1\"><span class=\"toc-item-num\">1&nbsp;&nbsp;</span>Изучение данных из файла</a></span></li><li><span><a href=\"#Предобработка-данных\" data-toc-modified-id=\"Предобработка-данных-2\"><span class=\"toc-item-num\">2&nbsp;&nbsp;</span>Предобработка данных</a></span></li><li><span><a href=\"#Расчёты-и-добавление-результатов-в-таблицу\" data-toc-modified-id=\"Расчёты-и-добавление-результатов-в-таблицу-3\"><span class=\"toc-item-num\">3&nbsp;&nbsp;</span>Расчёты и добавление результатов в таблицу</a></span></li><li><span><a href=\"#Исследовательский-анализ-данных\" data-toc-modified-id=\"Исследовательский-анализ-данных-4\"><span class=\"toc-item-num\">4&nbsp;&nbsp;</span>Исследовательский анализ данных</a></span><ul class=\"toc-item\"><li><span><a href=\"#Цена\" data-toc-modified-id=\"Цена-4.1\"><span class=\"toc-item-num\">4.1&nbsp;&nbsp;</span>Цена</a></span></li><li><span><a href=\"#Площадь\" data-toc-modified-id=\"Площадь-4.2\"><span class=\"toc-item-num\">4.2&nbsp;&nbsp;</span>Площадь</a></span></li><li><span><a href=\"#Комнаты\" data-toc-modified-id=\"Комнаты-4.3\"><span class=\"toc-item-num\">4.3&nbsp;&nbsp;</span>Комнаты</a></span></li><li><span><a href=\"#Высота-потолков\" data-toc-modified-id=\"Высота-потолков-4.4\"><span class=\"toc-item-num\">4.4&nbsp;&nbsp;</span>Высота потолков</a></span></li><li><span><a href=\"#Зависимость-цены-от-этажа\" data-toc-modified-id=\"Зависимость-цены-от-этажа-4.5\"><span class=\"toc-item-num\">4.5&nbsp;&nbsp;</span>Зависимость цены от этажа</a></span></li><li><span><a href=\"#Зависимость-цены-от-количества-комнат\" data-toc-modified-id=\"Зависимость-цены-от-количества-комнат-4.6\"><span class=\"toc-item-num\">4.6&nbsp;&nbsp;</span>Зависимость цены от количества комнат</a></span></li><li><span><a href=\"#Зависимость-цены-от-расстояния-до-центра\" data-toc-modified-id=\"Зависимость-цены-от-расстояния-до-центра-4.7\"><span class=\"toc-item-num\">4.7&nbsp;&nbsp;</span>Зависимость цены от расстояния до центра</a></span></li><li><span><a href=\"#Зависимость-цены-от-дня-недели-публикации\" data-toc-modified-id=\"Зависимость-цены-от-дня-недели-публикации-4.8\"><span class=\"toc-item-num\">4.8&nbsp;&nbsp;</span>Зависимость цены от дня недели публикации</a></span></li><li><span><a href=\"#Зависимость-цены-от-месяца-публикации\" data-toc-modified-id=\"Зависимость-цены-от-месяца-публикации-4.9\"><span class=\"toc-item-num\">4.9&nbsp;&nbsp;</span>Зависимость цены от месяца публикации</a></span></li><li><span><a href=\"#Зависимость-цены-от-года-публикации\" data-toc-modified-id=\"Зависимость-цены-от-года-публикации-4.10\"><span class=\"toc-item-num\">4.10&nbsp;&nbsp;</span>Зависимость цены от года публикации</a></span></li><li><span><a href=\"#Топ-10\" data-toc-modified-id=\"Топ-10-4.11\"><span class=\"toc-item-num\">4.11&nbsp;&nbsp;</span>Топ-10</a></span></li><li><span><a href=\"#Расстояние-до-центра\" data-toc-modified-id=\"Расстояние-до-центра-4.12\"><span class=\"toc-item-num\">4.12&nbsp;&nbsp;</span>Расстояние до центра</a></span></li><li><span><a href=\"#Анализ-центра-города\" data-toc-modified-id=\"Анализ-центра-города-4.13\"><span class=\"toc-item-num\">4.13&nbsp;&nbsp;</span>Анализ центра города</a></span></li></ul></li><li><span><a href=\"#Общий-вывод\" data-toc-modified-id=\"Общий-вывод-5\"><span class=\"toc-item-num\">5&nbsp;&nbsp;</span>Общий вывод</a></span></li></ul></div>"
   ]
  },
  {
   "cell_type": "markdown",
   "metadata": {},
   "source": [
    "# Исследование объявлений о продаже квартир\n",
    "\n",
    "В вашем распоряжении данные сервиса Яндекс.Недвижимость — архив объявлений о продаже квартир в Санкт-Петербурге и соседних населённых пунктах за несколько лет. Нужно научиться определять рыночную стоимость объектов недвижимости. Ваша задача — установить параметры. Это позволит построить автоматизированную систему: она отследит аномалии и мошенническую деятельность. \n",
    "\n",
    "По каждой квартире на продажу доступны два вида данных. Первые вписаны пользователем, вторые получены автоматически на основе картографических данных. Например, расстояние до центра, аэропорта, ближайшего парка и водоёма. "
   ]
  },
  {
   "cell_type": "markdown",
   "metadata": {},
   "source": [
    "Описание данных:\n",
    " - airports_nearest — расстояние до ближайшего аэропорта в метрах (м)\n",
    " - balcony — число балконов\n",
    " - ceiling_height — высота потолков (м)\n",
    " - cityCenters_nearest — расстояние до центра города (м)\n",
    " - days_exposition — сколько дней было размещено объявление (от публикации до снятия)\n",
    " - first_day_exposition — дата публикации\n",
    " - floor — этаж\n",
    " - floors_total — всего этажей в доме\n",
    " - is_apartment — апартаменты (булев тип)\n",
    " - kitchen_area — площадь кухни в квадратных метрах (м²)\n",
    " - last_price — цена на момент снятия с публикации\n",
    " - living_area — жилая площадь в квадратных метрах (м²)\n",
    " - locality_name — название населённого пункта\n",
    " - open_plan — свободная планировка (булев тип)\n",
    " - parks_around3000 — число парков в радиусе 3 км\n",
    " - parks_nearest — расстояние до ближайшего парка (м)\n",
    " - ponds_around3000 — число водоёмов в радиусе 3 км\n",
    " - ponds_nearest — расстояние до ближайшего водоёма (м)\n",
    " - rooms — число комнат\n",
    " - studio — квартира-студия (булев тип)\n",
    " - total_area — площадь квартиры в квадратных метрах (м²)\n",
    " - total_images — число фотографий квартиры в объявлении"
   ]
  },
  {
   "cell_type": "markdown",
   "metadata": {},
   "source": [
    "## Изучение данных из файла"
   ]
  },
  {
   "cell_type": "code",
   "execution_count": 1,
   "metadata": {},
   "outputs": [],
   "source": [
    "import pandas as pd\n",
    "import numpy as np\n",
    "import matplotlib.pyplot as plt"
   ]
  },
  {
   "cell_type": "code",
   "execution_count": 2,
   "metadata": {},
   "outputs": [],
   "source": [
    "data = pd.read_csv('/datasets/real_estate_data.csv', sep='\\t')"
   ]
  },
  {
   "cell_type": "code",
   "execution_count": 3,
   "metadata": {},
   "outputs": [
    {
     "name": "stdout",
     "output_type": "stream",
     "text": [
      "<class 'pandas.core.frame.DataFrame'>\n",
      "RangeIndex: 23699 entries, 0 to 23698\n",
      "Data columns (total 22 columns):\n",
      "total_images            23699 non-null int64\n",
      "last_price              23699 non-null float64\n",
      "total_area              23699 non-null float64\n",
      "first_day_exposition    23699 non-null object\n",
      "rooms                   23699 non-null int64\n",
      "ceiling_height          14504 non-null float64\n",
      "floors_total            23613 non-null float64\n",
      "living_area             21796 non-null float64\n",
      "floor                   23699 non-null int64\n",
      "is_apartment            2775 non-null object\n",
      "studio                  23699 non-null bool\n",
      "open_plan               23699 non-null bool\n",
      "kitchen_area            21421 non-null float64\n",
      "balcony                 12180 non-null float64\n",
      "locality_name           23650 non-null object\n",
      "airports_nearest        18157 non-null float64\n",
      "cityCenters_nearest     18180 non-null float64\n",
      "parks_around3000        18181 non-null float64\n",
      "parks_nearest           8079 non-null float64\n",
      "ponds_around3000        18181 non-null float64\n",
      "ponds_nearest           9110 non-null float64\n",
      "days_exposition         20518 non-null float64\n",
      "dtypes: bool(2), float64(14), int64(3), object(3)\n",
      "memory usage: 3.7+ MB\n"
     ]
    }
   ],
   "source": [
    "data.info()"
   ]
  },
  {
   "cell_type": "code",
   "execution_count": 4,
   "metadata": {},
   "outputs": [
    {
     "data": {
      "text/plain": [
       "total_images                0\n",
       "last_price                  0\n",
       "total_area                  0\n",
       "first_day_exposition        0\n",
       "rooms                       0\n",
       "ceiling_height           9195\n",
       "floors_total               86\n",
       "living_area              1903\n",
       "floor                       0\n",
       "is_apartment            20924\n",
       "studio                      0\n",
       "open_plan                   0\n",
       "kitchen_area             2278\n",
       "balcony                 11519\n",
       "locality_name              49\n",
       "airports_nearest         5542\n",
       "cityCenters_nearest      5519\n",
       "parks_around3000         5518\n",
       "parks_nearest           15620\n",
       "ponds_around3000         5518\n",
       "ponds_nearest           14589\n",
       "days_exposition          3181\n",
       "dtype: int64"
      ]
     },
     "metadata": {},
     "output_type": "display_data"
    }
   ],
   "source": [
    "display(data.isna().sum())"
   ]
  },
  {
   "cell_type": "markdown",
   "metadata": {},
   "source": [
    "    Вывод: В данных есть пропуски и заполненые NaN строки"
   ]
  },
  {
   "cell_type": "markdown",
   "metadata": {},
   "source": [
    "## Предобработка данных"
   ]
  },
  {
   "cell_type": "code",
   "execution_count": 5,
   "metadata": {},
   "outputs": [],
   "source": [
    "data['last_price'] = data['last_price'].astype(int)     #цену в int"
   ]
  },
  {
   "cell_type": "markdown",
   "metadata": {},
   "source": [
    "    Перевел цену в int"
   ]
  },
  {
   "cell_type": "code",
   "execution_count": 6,
   "metadata": {},
   "outputs": [],
   "source": [
    "data['first_day_exposition'] = pd.to_datetime(\n",
    "    data['first_day_exposition'], \n",
    "    format='%Y-%m-%dT%H:%M:%S'\n",
    ")                                                       #дату к норм формату"
   ]
  },
  {
   "cell_type": "markdown",
   "metadata": {},
   "source": [
    "    Привел дату к удобному формату"
   ]
  },
  {
   "cell_type": "code",
   "execution_count": 7,
   "metadata": {},
   "outputs": [],
   "source": [
    "data['balcony'] = data['balcony'].fillna(0).astype(int) #замена NaN на 0, Г - Логика"
   ]
  },
  {
   "cell_type": "markdown",
   "metadata": {},
   "source": [
    "    Заменил NaN в столбце 'balcony' на 0"
   ]
  },
  {
   "cell_type": "code",
   "execution_count": 8,
   "metadata": {},
   "outputs": [],
   "source": [
    "#data.dropna(subset = ['floors_total'], inplace=True)    # убрал объявления без указания этажности\n",
    "data['floors_total'] = data['floors_total'].astype('Int64') #этаж в int"
   ]
  },
  {
   "cell_type": "markdown",
   "metadata": {},
   "source": [
    "    Убрал обявления без указания этажа, эти данные вязть неоткуда.\n",
    "    Сделать обязательным поле при заполнении формы на сайте."
   ]
  },
  {
   "cell_type": "code",
   "execution_count": 9,
   "metadata": {},
   "outputs": [],
   "source": [
    "data.dropna(subset = ['locality_name'], inplace=True)   # убрал без города"
   ]
  },
  {
   "cell_type": "markdown",
   "metadata": {},
   "source": [
    "    Убрал обявления без указания города.\n",
    "    Сделать обязательным поле при заполнении формы на сайте."
   ]
  },
  {
   "cell_type": "code",
   "execution_count": 10,
   "metadata": {},
   "outputs": [],
   "source": [
    "data['parks_around3000'] = data['parks_around3000'].fillna(0).astype(int)#если парка нет, то это не NaN, но 0"
   ]
  },
  {
   "cell_type": "markdown",
   "metadata": {},
   "source": [
    "    В столбце 'parks_around3000' заменил NaN на 0, т.к. парков ближе 3км нет"
   ]
  },
  {
   "cell_type": "code",
   "execution_count": 11,
   "metadata": {},
   "outputs": [],
   "source": [
    "data['ponds_around3000'] = data['ponds_around3000'].fillna(0).astype(int) #пруды аналогично"
   ]
  },
  {
   "cell_type": "markdown",
   "metadata": {},
   "source": [
    "    Аналогично паркам"
   ]
  },
  {
   "cell_type": "code",
   "execution_count": 12,
   "metadata": {},
   "outputs": [],
   "source": [
    "data = data.drop_duplicates(\n",
    "    [\n",
    "    'floors_total', \n",
    "    'locality_name', \n",
    "    'kitchen_area', \n",
    "    'floor', \n",
    "    'rooms', \n",
    "    'living_area', \n",
    "    #'total_area'\n",
    "    ]\n",
    ") "
   ]
  },
  {
   "cell_type": "markdown",
   "metadata": {},
   "source": [
    "    Убрал явные дубликаты"
   ]
  },
  {
   "cell_type": "code",
   "execution_count": 13,
   "metadata": {},
   "outputs": [],
   "source": [
    "data['city_center_km'] = data['cityCenters_nearest'] / 1000\n",
    "data['city_center_km'] = (\n",
    "    data['city_center_km'].fillna(0)\n",
    "    .astype(int)\n",
    "    .astype(object)\n",
    "    .where(data['city_center_km'].notnull())# google в помощь\n",
    ")"
   ]
  },
  {
   "cell_type": "code",
   "execution_count": 14,
   "metadata": {},
   "outputs": [],
   "source": [
    "def mean_locality_ceil(df):\n",
    "    ceil_mean = df.groupby('locality_name')['ceiling_height'].mean() # средний потолок по городам\n",
    "    unique_total_income = list(set(df['locality_name']))             # список городов\n",
    "    dict_mean = dict(ceil_mean)\n",
    "    for i in unique_total_income:                                    # заполняю пропуски средними значениями\n",
    "        df.loc[df[\"locality_name\"] == i,'ceiling_height'] \\\n",
    "        = df.loc[df[\"locality_name\"] == i,'ceiling_height'].fillna(dict_mean[i])\n"
   ]
  },
  {
   "cell_type": "code",
   "execution_count": 15,
   "metadata": {},
   "outputs": [],
   "source": [
    "mean_locality_ceil(data)"
   ]
  },
  {
   "cell_type": "markdown",
   "metadata": {},
   "source": [
    "    Заполнил пропуски в столбце 'ceiling_height' средними значениями по городу, где возможно"
   ]
  },
  {
   "cell_type": "code",
   "execution_count": 16,
   "metadata": {
    "scrolled": true
   },
   "outputs": [
    {
     "data": {
      "text/plain": [
       "120"
      ]
     },
     "metadata": {},
     "output_type": "display_data"
    }
   ],
   "source": [
    "display(data['ceiling_height'].isna().sum())#, sep='\\n')#пропусков в полоках осталось меньше процента"
   ]
  },
  {
   "cell_type": "code",
   "execution_count": 17,
   "metadata": {},
   "outputs": [],
   "source": [
    "#data.dropna(subset = ['ceiling_height'], inplace=True)    # -120 объявлений без указания высоты потолков"
   ]
  },
  {
   "cell_type": "markdown",
   "metadata": {},
   "source": [
    "    Убрал эти пропуски"
   ]
  },
  {
   "cell_type": "code",
   "execution_count": 18,
   "metadata": {},
   "outputs": [
    {
     "data": {
      "text/plain": [
       "('посёлок Мурино', 516)"
      ]
     },
     "metadata": {},
     "output_type": "display_data"
    },
    {
     "data": {
      "text/plain": [
       "('Всеволожск', 389)"
      ]
     },
     "metadata": {},
     "output_type": "display_data"
    },
    {
     "data": {
      "text/plain": [
       "('Гатчина', 300)"
      ]
     },
     "metadata": {},
     "output_type": "display_data"
    },
    {
     "data": {
      "text/plain": [
       "('деревня Кудрово', 294)"
      ]
     },
     "metadata": {},
     "output_type": "display_data"
    },
    {
     "data": {
      "text/plain": [
       "('Выборг', 220)"
      ]
     },
     "metadata": {},
     "output_type": "display_data"
    },
    {
     "data": {
      "text/plain": [
       "('Кудрово', 172)"
      ]
     },
     "metadata": {},
     "output_type": "display_data"
    },
    {
     "data": {
      "text/plain": [
       "('деревня Новое Девяткино', 143)"
      ]
     },
     "metadata": {},
     "output_type": "display_data"
    },
    {
     "data": {
      "text/plain": [
       "('Сертолово', 140)"
      ]
     },
     "metadata": {},
     "output_type": "display_data"
    },
    {
     "data": {
      "text/plain": [
       "('Кириши', 114)"
      ]
     },
     "metadata": {},
     "output_type": "display_data"
    },
    {
     "data": {
      "text/plain": [
       "('Волхов', 111)"
      ]
     },
     "metadata": {},
     "output_type": "display_data"
    },
    {
     "data": {
      "text/plain": [
       "('Сланцы', 105)"
      ]
     },
     "metadata": {},
     "output_type": "display_data"
    },
    {
     "data": {
      "text/plain": [
       "('Тосно', 103)"
      ]
     },
     "metadata": {},
     "output_type": "display_data"
    },
    {
     "data": {
      "text/plain": [
       "('Кингисепп', 97)"
      ]
     },
     "metadata": {},
     "output_type": "display_data"
    },
    {
     "data": {
      "text/plain": [
       "('Никольское', 92)"
      ]
     },
     "metadata": {},
     "output_type": "display_data"
    },
    {
     "data": {
      "text/plain": [
       "('Коммунар', 88)"
      ]
     },
     "metadata": {},
     "output_type": "display_data"
    },
    {
     "data": {
      "text/plain": [
       "('Сосновый Бор', 86)"
      ]
     },
     "metadata": {},
     "output_type": "display_data"
    },
    {
     "data": {
      "text/plain": [
       "('Кировск', 84)"
      ]
     },
     "metadata": {},
     "output_type": "display_data"
    },
    {
     "data": {
      "text/plain": [
       "('Отрадное', 80)"
      ]
     },
     "metadata": {},
     "output_type": "display_data"
    },
    {
     "data": {
      "text/plain": [
       "('Санкт-Петербург', 75)"
      ]
     },
     "metadata": {},
     "output_type": "display_data"
    },
    {
     "data": {
      "text/plain": [
       "('посёлок Бугры', 69)"
      ]
     },
     "metadata": {},
     "output_type": "display_data"
    },
    {
     "data": {
      "text/plain": [
       "('Приозерск', 66)"
      ]
     },
     "metadata": {},
     "output_type": "display_data"
    },
    {
     "data": {
      "text/plain": [
       "('деревня Старая', 63)"
      ]
     },
     "metadata": {},
     "output_type": "display_data"
    },
    {
     "data": {
      "text/plain": [
       "('городской посёлок Янино-1', 60)"
      ]
     },
     "metadata": {},
     "output_type": "display_data"
    },
    {
     "data": {
      "text/plain": [
       "('Шлиссельбург', 57)"
      ]
     },
     "metadata": {},
     "output_type": "display_data"
    },
    {
     "data": {
      "text/plain": [
       "('Луга', 54)"
      ]
     },
     "metadata": {},
     "output_type": "display_data"
    },
    {
     "data": {
      "text/plain": [
       "('Тихвин', 48)"
      ]
     },
     "metadata": {},
     "output_type": "display_data"
    },
    {
     "data": {
      "text/plain": [
       "('поселок Бугры', 45)"
      ]
     },
     "metadata": {},
     "output_type": "display_data"
    },
    {
     "data": {
      "text/plain": [
       "('посёлок Тельмана', 39)"
      ]
     },
     "metadata": {},
     "output_type": "display_data"
    },
    {
     "data": {
      "text/plain": [
       "('поселок Романовка', 36)"
      ]
     },
     "metadata": {},
     "output_type": "display_data"
    },
    {
     "data": {
      "text/plain": [
       "('Волосово', 35)"
      ]
     },
     "metadata": {},
     "output_type": "display_data"
    },
    {
     "data": {
      "text/plain": [
       "('Мурино', 34)"
      ]
     },
     "metadata": {},
     "output_type": "display_data"
    },
    {
     "data": {
      "text/plain": [
       "('поселок Мурино', 32)"
      ]
     },
     "metadata": {},
     "output_type": "display_data"
    },
    {
     "data": {
      "text/plain": [
       "('посёлок городского типа Сиверский', 29)"
      ]
     },
     "metadata": {},
     "output_type": "display_data"
    },
    {
     "data": {
      "text/plain": [
       "('Ивангород', 28)"
      ]
     },
     "metadata": {},
     "output_type": "display_data"
    },
    {
     "data": {
      "text/plain": [
       "('городской посёлок Новоселье', 28)"
      ]
     },
     "metadata": {},
     "output_type": "display_data"
    },
    {
     "data": {
      "text/plain": [
       "('городской посёлок Мга', 26)"
      ]
     },
     "metadata": {},
     "output_type": "display_data"
    },
    {
     "data": {
      "text/plain": [
       "('поселок городского типа имени Свердлова', 25)"
      ]
     },
     "metadata": {},
     "output_type": "display_data"
    },
    {
     "data": {
      "text/plain": [
       "('посёлок городского типа Кузьмоловский', 22)"
      ]
     },
     "metadata": {},
     "output_type": "display_data"
    },
    {
     "data": {
      "text/plain": [
       "('посёлок Щеглово', 22)"
      ]
     },
     "metadata": {},
     "output_type": "display_data"
    },
    {
     "data": {
      "text/plain": [
       "('поселок городского типа Синявино', 21)"
      ]
     },
     "metadata": {},
     "output_type": "display_data"
    },
    {
     "data": {
      "text/plain": [
       "('деревня Вартемяги', 20)"
      ]
     },
     "metadata": {},
     "output_type": "display_data"
    },
    {
     "data": {
      "text/plain": [
       "('посёлок Новогорелово', 20)"
      ]
     },
     "metadata": {},
     "output_type": "display_data"
    },
    {
     "data": {
      "text/plain": [
       "('Лодейное Поле', 20)"
      ]
     },
     "metadata": {},
     "output_type": "display_data"
    },
    {
     "data": {
      "text/plain": [
       "('Сясьстрой', 20)"
      ]
     },
     "metadata": {},
     "output_type": "display_data"
    },
    {
     "data": {
      "text/plain": [
       "('деревня Лесколово', 19)"
      ]
     },
     "metadata": {},
     "output_type": "display_data"
    },
    {
     "data": {
      "text/plain": [
       "('поселок городского типа Рощино', 19)"
      ]
     },
     "metadata": {},
     "output_type": "display_data"
    },
    {
     "data": {
      "text/plain": [
       "('Подпорожье', 19)"
      ]
     },
     "metadata": {},
     "output_type": "display_data"
    },
    {
     "data": {
      "text/plain": [
       "('посёлок Сосново', 18)"
      ]
     },
     "metadata": {},
     "output_type": "display_data"
    },
    {
     "data": {
      "text/plain": [
       "('Пикалёво', 18)"
      ]
     },
     "metadata": {},
     "output_type": "display_data"
    },
    {
     "data": {
      "text/plain": [
       "('посёлок Новый Свет', 17)"
      ]
     },
     "metadata": {},
     "output_type": "display_data"
    },
    {
     "data": {
      "text/plain": [
       "('деревня Бегуницы', 17)"
      ]
     },
     "metadata": {},
     "output_type": "display_data"
    },
    {
     "data": {
      "text/plain": [
       "('городской поселок Большая Ижора', 16)"
      ]
     },
     "metadata": {},
     "output_type": "display_data"
    },
    {
     "data": {
      "text/plain": [
       "('посёлок городского типа имени Морозова', 16)"
      ]
     },
     "metadata": {},
     "output_type": "display_data"
    },
    {
     "data": {
      "text/plain": [
       "('поселок городского типа Рахья', 15)"
      ]
     },
     "metadata": {},
     "output_type": "display_data"
    },
    {
     "data": {
      "text/plain": [
       "('поселок городского типа Дубровка', 15)"
      ]
     },
     "metadata": {},
     "output_type": "display_data"
    },
    {
     "data": {
      "text/plain": [
       "('Бокситогорск', 15)"
      ]
     },
     "metadata": {},
     "output_type": "display_data"
    },
    {
     "data": {
      "text/plain": [
       "('деревня Большие Колпаны', 15)"
      ]
     },
     "metadata": {},
     "output_type": "display_data"
    },
    {
     "data": {
      "text/plain": [
       "('городской посёлок Назия', 15)"
      ]
     },
     "metadata": {},
     "output_type": "display_data"
    },
    {
     "data": {
      "text/plain": [
       "('посёлок городского типа Токсово', 15)"
      ]
     },
     "metadata": {},
     "output_type": "display_data"
    },
    {
     "data": {
      "text/plain": [
       "('посёлок городского типа Рощино', 15)"
      ]
     },
     "metadata": {},
     "output_type": "display_data"
    },
    {
     "data": {
      "text/plain": [
       "('деревня Горбунки', 14)"
      ]
     },
     "metadata": {},
     "output_type": "display_data"
    },
    {
     "data": {
      "text/plain": [
       "('Новая Ладога', 14)"
      ]
     },
     "metadata": {},
     "output_type": "display_data"
    },
    {
     "data": {
      "text/plain": [
       "('деревня Гарболово', 13)"
      ]
     },
     "metadata": {},
     "output_type": "display_data"
    },
    {
     "data": {
      "text/plain": [
       "('посёлок городского типа Ульяновка', 13)"
      ]
     },
     "metadata": {},
     "output_type": "display_data"
    },
    {
     "data": {
      "text/plain": [
       "('поселок Елизаветино', 13)"
      ]
     },
     "metadata": {},
     "output_type": "display_data"
    },
    {
     "data": {
      "text/plain": [
       "('поселок городского типа Кузьмоловский', 13)"
      ]
     },
     "metadata": {},
     "output_type": "display_data"
    },
    {
     "data": {
      "text/plain": [
       "('посёлок городского типа Кузнечное', 13)"
      ]
     },
     "metadata": {},
     "output_type": "display_data"
    },
    {
     "data": {
      "text/plain": [
       "('Каменногорск', 13)"
      ]
     },
     "metadata": {},
     "output_type": "display_data"
    },
    {
     "data": {
      "text/plain": [
       "('поселок городского типа Вырица', 12)"
      ]
     },
     "metadata": {},
     "output_type": "display_data"
    },
    {
     "data": {
      "text/plain": [
       "('деревня Мистолово', 11)"
      ]
     },
     "metadata": {},
     "output_type": "display_data"
    },
    {
     "data": {
      "text/plain": [
       "('посёлок городского типа имени Свердлова', 11)"
      ]
     },
     "metadata": {},
     "output_type": "display_data"
    },
    {
     "data": {
      "text/plain": [
       "('Светогорск', 11)"
      ]
     },
     "metadata": {},
     "output_type": "display_data"
    },
    {
     "data": {
      "text/plain": [
       "('деревня Малое Верево', 11)"
      ]
     },
     "metadata": {},
     "output_type": "display_data"
    },
    {
     "data": {
      "text/plain": [
       "('деревня Колтуши', 11)"
      ]
     },
     "metadata": {},
     "output_type": "display_data"
    },
    {
     "data": {
      "text/plain": [
       "('посёлок городского типа Лебяжье', 11)"
      ]
     },
     "metadata": {},
     "output_type": "display_data"
    },
    {
     "data": {
      "text/plain": [
       "('деревня Гостилицы', 11)"
      ]
     },
     "metadata": {},
     "output_type": "display_data"
    },
    {
     "data": {
      "text/plain": [
       "('деревня Нурма', 11)"
      ]
     },
     "metadata": {},
     "output_type": "display_data"
    },
    {
     "data": {
      "text/plain": [
       "('посёлок Аннино', 11)"
      ]
     },
     "metadata": {},
     "output_type": "display_data"
    },
    {
     "data": {
      "text/plain": [
       "('посёлок городского типа Вырица', 10)"
      ]
     },
     "metadata": {},
     "output_type": "display_data"
    },
    {
     "data": {
      "text/plain": [
       "('деревня Лаголово', 10)"
      ]
     },
     "metadata": {},
     "output_type": "display_data"
    },
    {
     "data": {
      "text/plain": [
       "('деревня Белогорка', 10)"
      ]
     },
     "metadata": {},
     "output_type": "display_data"
    },
    {
     "data": {
      "text/plain": [
       "('деревня Сяськелево', 10)"
      ]
     },
     "metadata": {},
     "output_type": "display_data"
    },
    {
     "data": {
      "text/plain": [
       "('поселок Войсковицы', 10)"
      ]
     },
     "metadata": {},
     "output_type": "display_data"
    },
    {
     "data": {
      "text/plain": [
       "('поселок Сельцо', 9)"
      ]
     },
     "metadata": {},
     "output_type": "display_data"
    },
    {
     "data": {
      "text/plain": [
       "('поселок Молодцово', 9)"
      ]
     },
     "metadata": {},
     "output_type": "display_data"
    },
    {
     "data": {
      "text/plain": [
       "('село Русско-Высоцкое', 9)"
      ]
     },
     "metadata": {},
     "output_type": "display_data"
    },
    {
     "data": {
      "text/plain": [
       "('городской посёлок Павлово', 9)"
      ]
     },
     "metadata": {},
     "output_type": "display_data"
    },
    {
     "data": {
      "text/plain": [
       "('деревня Низино', 9)"
      ]
     },
     "metadata": {},
     "output_type": "display_data"
    },
    {
     "data": {
      "text/plain": [
       "('поселок городского типа Приладожский', 9)"
      ]
     },
     "metadata": {},
     "output_type": "display_data"
    },
    {
     "data": {
      "text/plain": [
       "('деревня Оржицы', 9)"
      ]
     },
     "metadata": {},
     "output_type": "display_data"
    },
    {
     "data": {
      "text/plain": [
       "('посёлок Пудость', 9)"
      ]
     },
     "metadata": {},
     "output_type": "display_data"
    },
    {
     "data": {
      "text/plain": [
       "('деревня Малое Карлино', 9)"
      ]
     },
     "metadata": {},
     "output_type": "display_data"
    },
    {
     "data": {
      "text/plain": [
       "('Любань', 8)"
      ]
     },
     "metadata": {},
     "output_type": "display_data"
    },
    {
     "data": {
      "text/plain": [
       "('Приморск', 8)"
      ]
     },
     "metadata": {},
     "output_type": "display_data"
    },
    {
     "data": {
      "text/plain": [
       "('деревня Батово', 8)"
      ]
     },
     "metadata": {},
     "output_type": "display_data"
    },
    {
     "data": {
      "text/plain": [
       "('поселок Запорожское', 8)"
      ]
     },
     "metadata": {},
     "output_type": "display_data"
    },
    {
     "data": {
      "text/plain": [
       "('поселок Первомайское', 8)"
      ]
     },
     "metadata": {},
     "output_type": "display_data"
    },
    {
     "data": {
      "text/plain": [
       "('поселок городского типа Советский', 8)"
      ]
     },
     "metadata": {},
     "output_type": "display_data"
    },
    {
     "data": {
      "text/plain": [
       "('поселок Суходолье', 8)"
      ]
     },
     "metadata": {},
     "output_type": "display_data"
    },
    {
     "data": {
      "text/plain": [
       "('деревня Фёдоровское', 8)"
      ]
     },
     "metadata": {},
     "output_type": "display_data"
    },
    {
     "data": {
      "text/plain": [
       "('деревня Извара', 7)"
      ]
     },
     "metadata": {},
     "output_type": "display_data"
    },
    {
     "data": {
      "text/plain": [
       "('село Павлово', 7)"
      ]
     },
     "metadata": {},
     "output_type": "display_data"
    },
    {
     "data": {
      "text/plain": [
       "('деревня Калитино', 7)"
      ]
     },
     "metadata": {},
     "output_type": "display_data"
    },
    {
     "data": {
      "text/plain": [
       "('деревня Малые Колпаны', 7)"
      ]
     },
     "metadata": {},
     "output_type": "display_data"
    },
    {
     "data": {
      "text/plain": [
       "('деревня Куттузи', 7)"
      ]
     },
     "metadata": {},
     "output_type": "display_data"
    },
    {
     "data": {
      "text/plain": [
       "('городской посёлок Фёдоровское', 7)"
      ]
     },
     "metadata": {},
     "output_type": "display_data"
    },
    {
     "data": {
      "text/plain": [
       "('деревня Кипень', 7)"
      ]
     },
     "metadata": {},
     "output_type": "display_data"
    },
    {
     "data": {
      "text/plain": [
       "('поселок городского типа Никольский', 7)"
      ]
     },
     "metadata": {},
     "output_type": "display_data"
    },
    {
     "data": {
      "text/plain": [
       "('деревня Кальтино', 7)"
      ]
     },
     "metadata": {},
     "output_type": "display_data"
    },
    {
     "data": {
      "text/plain": [
       "('деревня Кузьмолово', 7)"
      ]
     },
     "metadata": {},
     "output_type": "display_data"
    },
    {
     "data": {
      "text/plain": [
       "('городской поселок Янино-1', 7)"
      ]
     },
     "metadata": {},
     "output_type": "display_data"
    },
    {
     "data": {
      "text/plain": [
       "('посёлок Мичуринское', 6)"
      ]
     },
     "metadata": {},
     "output_type": "display_data"
    },
    {
     "data": {
      "text/plain": [
       "('поселок Углово', 6)"
      ]
     },
     "metadata": {},
     "output_type": "display_data"
    },
    {
     "data": {
      "text/plain": [
       "('деревня Лампово', 6)"
      ]
     },
     "metadata": {},
     "output_type": "display_data"
    },
    {
     "data": {
      "text/plain": [
       "('поселок Ушаки', 6)"
      ]
     },
     "metadata": {},
     "output_type": "display_data"
    },
    {
     "data": {
      "text/plain": [
       "('посёлок городского типа Тайцы', 6)"
      ]
     },
     "metadata": {},
     "output_type": "display_data"
    },
    {
     "data": {
      "text/plain": [
       "('деревня Пудомяги', 6)"
      ]
     },
     "metadata": {},
     "output_type": "display_data"
    },
    {
     "data": {
      "text/plain": [
       "('посёлок городского типа Важины', 6)"
      ]
     },
     "metadata": {},
     "output_type": "display_data"
    },
    {
     "data": {
      "text/plain": [
       "('деревня Яльгелево', 6)"
      ]
     },
     "metadata": {},
     "output_type": "display_data"
    },
    {
     "data": {
      "text/plain": [
       "('поселок Новый Учхоз', 6)"
      ]
     },
     "metadata": {},
     "output_type": "display_data"
    },
    {
     "data": {
      "text/plain": [
       "('посёлок Ильичёво', 6)"
      ]
     },
     "metadata": {},
     "output_type": "display_data"
    },
    {
     "data": {
      "text/plain": [
       "('деревня Лопухинка', 6)"
      ]
     },
     "metadata": {},
     "output_type": "display_data"
    },
    {
     "data": {
      "text/plain": [
       "('деревня Заневка', 6)"
      ]
     },
     "metadata": {},
     "output_type": "display_data"
    },
    {
     "data": {
      "text/plain": [
       "('посёлок городского типа Мга', 6)"
      ]
     },
     "metadata": {},
     "output_type": "display_data"
    },
    {
     "data": {
      "text/plain": [
       "('поселок Мичуринское', 5)"
      ]
     },
     "metadata": {},
     "output_type": "display_data"
    },
    {
     "data": {
      "text/plain": [
       "('поселок городского типа Дружная Горка', 5)"
      ]
     },
     "metadata": {},
     "output_type": "display_data"
    },
    {
     "data": {
      "text/plain": [
       "('посёлок Стеклянный', 5)"
      ]
     },
     "metadata": {},
     "output_type": "display_data"
    },
    {
     "data": {
      "text/plain": [
       "('поселок Глажево', 5)"
      ]
     },
     "metadata": {},
     "output_type": "display_data"
    },
    {
     "data": {
      "text/plain": [
       "('поселок Аннино', 5)"
      ]
     },
     "metadata": {},
     "output_type": "display_data"
    },
    {
     "data": {
      "text/plain": [
       "('поселок Селезнёво', 5)"
      ]
     },
     "metadata": {},
     "output_type": "display_data"
    },
    {
     "data": {
      "text/plain": [
       "('поселок Семрино', 5)"
      ]
     },
     "metadata": {},
     "output_type": "display_data"
    },
    {
     "data": {
      "text/plain": [
       "('село Копорье', 5)"
      ]
     },
     "metadata": {},
     "output_type": "display_data"
    },
    {
     "data": {
      "text/plain": [
       "('посёлок Плодовое', 5)"
      ]
     },
     "metadata": {},
     "output_type": "display_data"
    },
    {
     "data": {
      "text/plain": [
       "('посёлок Войскорово', 5)"
      ]
     },
     "metadata": {},
     "output_type": "display_data"
    },
    {
     "data": {
      "text/plain": [
       "('деревня Юкки', 5)"
      ]
     },
     "metadata": {},
     "output_type": "display_data"
    },
    {
     "data": {
      "text/plain": [
       "('поселок Новый Свет', 5)"
      ]
     },
     "metadata": {},
     "output_type": "display_data"
    },
    {
     "data": {
      "text/plain": [
       "('посёлок Кобралово', 5)"
      ]
     },
     "metadata": {},
     "output_type": "display_data"
    },
    {
     "data": {
      "text/plain": [
       "('городской посёлок Рощино', 5)"
      ]
     },
     "metadata": {},
     "output_type": "display_data"
    },
    {
     "data": {
      "text/plain": [
       "('деревня Пеники', 5)"
      ]
     },
     "metadata": {},
     "output_type": "display_data"
    },
    {
     "data": {
      "text/plain": [
       "('поселок Кобринское', 5)"
      ]
     },
     "metadata": {},
     "output_type": "display_data"
    },
    {
     "data": {
      "text/plain": [
       "('посёлок Суйда', 4)"
      ]
     },
     "metadata": {},
     "output_type": "display_data"
    },
    {
     "data": {
      "text/plain": [
       "('поселок городского типа Токсово', 4)"
      ]
     },
     "metadata": {},
     "output_type": "display_data"
    },
    {
     "data": {
      "text/plain": [
       "('поселок Гарболово', 4)"
      ]
     },
     "metadata": {},
     "output_type": "display_data"
    },
    {
     "data": {
      "text/plain": [
       "('Высоцк', 4)"
      ]
     },
     "metadata": {},
     "output_type": "display_data"
    },
    {
     "data": {
      "text/plain": [
       "('поселок Кобралово', 4)"
      ]
     },
     "metadata": {},
     "output_type": "display_data"
    },
    {
     "data": {
      "text/plain": [
       "('поселок городского типа Лебяжье', 4)"
      ]
     },
     "metadata": {},
     "output_type": "display_data"
    },
    {
     "data": {
      "text/plain": [
       "('городской посёлок Будогощь', 4)"
      ]
     },
     "metadata": {},
     "output_type": "display_data"
    },
    {
     "data": {
      "text/plain": [
       "('деревня Разбегаево', 4)"
      ]
     },
     "metadata": {},
     "output_type": "display_data"
    },
    {
     "data": {
      "text/plain": [
       "('посёлок Кикерино', 4)"
      ]
     },
     "metadata": {},
     "output_type": "display_data"
    },
    {
     "data": {
      "text/plain": [
       "('поселок городского типа Красный Бор', 4)"
      ]
     },
     "metadata": {},
     "output_type": "display_data"
    },
    {
     "data": {
      "text/plain": [
       "('посёлок Гаврилово', 4)"
      ]
     },
     "metadata": {},
     "output_type": "display_data"
    },
    {
     "data": {
      "text/plain": [
       "('посёлок городского типа Форносово', 4)"
      ]
     },
     "metadata": {},
     "output_type": "display_data"
    },
    {
     "data": {
      "text/plain": [
       "('деревня Большая Вруда', 4)"
      ]
     },
     "metadata": {},
     "output_type": "display_data"
    },
    {
     "data": {
      "text/plain": [
       "('поселок станции Вещево', 4)"
      ]
     },
     "metadata": {},
     "output_type": "display_data"
    },
    {
     "data": {
      "text/plain": [
       "('посёлок Поляны', 4)"
      ]
     },
     "metadata": {},
     "output_type": "display_data"
    },
    {
     "data": {
      "text/plain": [
       "('деревня Агалатово', 4)"
      ]
     },
     "metadata": {},
     "output_type": "display_data"
    },
    {
     "data": {
      "text/plain": [
       "('посёлок Усть-Луга', 4)"
      ]
     },
     "metadata": {},
     "output_type": "display_data"
    },
    {
     "data": {
      "text/plain": [
       "('посёлок Торфяное', 4)"
      ]
     },
     "metadata": {},
     "output_type": "display_data"
    },
    {
     "data": {
      "text/plain": [
       "('деревня Парицы', 4)"
      ]
     },
     "metadata": {},
     "output_type": "display_data"
    },
    {
     "data": {
      "text/plain": [
       "('посёлок Шушары', 4)"
      ]
     },
     "metadata": {},
     "output_type": "display_data"
    },
    {
     "data": {
      "text/plain": [
       "('посёлок Терволово', 4)"
      ]
     },
     "metadata": {},
     "output_type": "display_data"
    },
    {
     "data": {
      "text/plain": [
       "('деревня Келози', 4)"
      ]
     },
     "metadata": {},
     "output_type": "display_data"
    },
    {
     "data": {
      "text/plain": [
       "('посёлок Перово', 3)"
      ]
     },
     "metadata": {},
     "output_type": "display_data"
    },
    {
     "data": {
      "text/plain": [
       "('поселок Красная Долина', 3)"
      ]
     },
     "metadata": {},
     "output_type": "display_data"
    },
    {
     "data": {
      "text/plain": [
       "('поселок Заводской', 3)"
      ]
     },
     "metadata": {},
     "output_type": "display_data"
    },
    {
     "data": {
      "text/plain": [
       "('село Рождествено', 3)"
      ]
     },
     "metadata": {},
     "output_type": "display_data"
    },
    {
     "data": {
      "text/plain": [
       "('поселок Оредеж', 3)"
      ]
     },
     "metadata": {},
     "output_type": "display_data"
    },
    {
     "data": {
      "text/plain": [
       "('посёлок городского типа Красный Бор', 3)"
      ]
     },
     "metadata": {},
     "output_type": "display_data"
    },
    {
     "data": {
      "text/plain": [
       "('посёлок станции Громово', 3)"
      ]
     },
     "metadata": {},
     "output_type": "display_data"
    },
    {
     "data": {
      "text/plain": [
       "('поселок Мельниково', 3)"
      ]
     },
     "metadata": {},
     "output_type": "display_data"
    },
    {
     "data": {
      "text/plain": [
       "('поселок Зимитицы', 3)"
      ]
     },
     "metadata": {},
     "output_type": "display_data"
    },
    {
     "data": {
      "text/plain": [
       "('поселок Громово', 3)"
      ]
     },
     "metadata": {},
     "output_type": "display_data"
    },
    {
     "data": {
      "text/plain": [
       "('деревня Разметелево', 3)"
      ]
     },
     "metadata": {},
     "output_type": "display_data"
    },
    {
     "data": {
      "text/plain": [
       "('деревня Торошковичи', 3)"
      ]
     },
     "metadata": {},
     "output_type": "display_data"
    },
    {
     "data": {
      "text/plain": [
       "('посёлок Пригородный', 3)"
      ]
     },
     "metadata": {},
     "output_type": "display_data"
    },
    {
     "data": {
      "text/plain": [
       "('поселок городского типа Ефимовский', 3)"
      ]
     },
     "metadata": {},
     "output_type": "display_data"
    },
    {
     "data": {
      "text/plain": [
       "('поселок городского типа Лесогорский', 3)"
      ]
     },
     "metadata": {},
     "output_type": "display_data"
    },
    {
     "data": {
      "text/plain": [
       "('деревня Заклинье', 3)"
      ]
     },
     "metadata": {},
     "output_type": "display_data"
    },
    {
     "data": {
      "text/plain": [
       "('деревня Ваганово', 3)"
      ]
     },
     "metadata": {},
     "output_type": "display_data"
    },
    {
     "data": {
      "text/plain": [
       "('поселок Любань', 3)"
      ]
     },
     "metadata": {},
     "output_type": "display_data"
    },
    {
     "data": {
      "text/plain": [
       "('поселок Глебычево', 3)"
      ]
     },
     "metadata": {},
     "output_type": "display_data"
    },
    {
     "data": {
      "text/plain": [
       "('городской посёлок Виллози', 3)"
      ]
     },
     "metadata": {},
     "output_type": "display_data"
    },
    {
     "data": {
      "text/plain": [
       "('поселок Цвелодубово', 3)"
      ]
     },
     "metadata": {},
     "output_type": "display_data"
    },
    {
     "data": {
      "text/plain": [
       "('деревня Старосиверская', 3)"
      ]
     },
     "metadata": {},
     "output_type": "display_data"
    },
    {
     "data": {
      "text/plain": [
       "('поселок Котельский', 3)"
      ]
     },
     "metadata": {},
     "output_type": "display_data"
    },
    {
     "data": {
      "text/plain": [
       "('поселок Победа', 3)"
      ]
     },
     "metadata": {},
     "output_type": "display_data"
    },
    {
     "data": {
      "text/plain": [
       "('поселок Лукаши', 3)"
      ]
     },
     "metadata": {},
     "output_type": "display_data"
    },
    {
     "data": {
      "text/plain": [
       "('деревня Аро', 3)"
      ]
     },
     "metadata": {},
     "output_type": "display_data"
    },
    {
     "data": {
      "text/plain": [
       "('посёлок Петровское', 3)"
      ]
     },
     "metadata": {},
     "output_type": "display_data"
    },
    {
     "data": {
      "text/plain": [
       "('деревня Старополье', 3)"
      ]
     },
     "metadata": {},
     "output_type": "display_data"
    },
    {
     "data": {
      "text/plain": [
       "('поселок Торковичи', 3)"
      ]
     },
     "metadata": {},
     "output_type": "display_data"
    },
    {
     "data": {
      "text/plain": [
       "('поселок Стеклянный', 3)"
      ]
     },
     "metadata": {},
     "output_type": "display_data"
    },
    {
     "data": {
      "text/plain": [
       "('деревня Торосово', 3)"
      ]
     },
     "metadata": {},
     "output_type": "display_data"
    },
    {
     "data": {
      "text/plain": [
       "('посёлок Победа', 3)"
      ]
     },
     "metadata": {},
     "output_type": "display_data"
    },
    {
     "data": {
      "text/plain": [
       "('деревня Старые Бегуницы', 2)"
      ]
     },
     "metadata": {},
     "output_type": "display_data"
    },
    {
     "data": {
      "text/plain": [
       "('поселок Кингисеппский', 2)"
      ]
     },
     "metadata": {},
     "output_type": "display_data"
    },
    {
     "data": {
      "text/plain": [
       "('посёлок Сапёрное', 2)"
      ]
     },
     "metadata": {},
     "output_type": "display_data"
    },
    {
     "data": {
      "text/plain": [
       "('деревня Бор', 2)"
      ]
     },
     "metadata": {},
     "output_type": "display_data"
    },
    {
     "data": {
      "text/plain": [
       "('деревня Фалилеево', 2)"
      ]
     },
     "metadata": {},
     "output_type": "display_data"
    },
    {
     "data": {
      "text/plain": [
       "('деревня Рабитицы', 2)"
      ]
     },
     "metadata": {},
     "output_type": "display_data"
    },
    {
     "data": {
      "text/plain": [
       "('городской посёлок Лесогорский', 2)"
      ]
     },
     "metadata": {},
     "output_type": "display_data"
    },
    {
     "data": {
      "text/plain": [
       "('село Старая Ладога', 2)"
      ]
     },
     "metadata": {},
     "output_type": "display_data"
    },
    {
     "data": {
      "text/plain": [
       "('поселок Починок', 2)"
      ]
     },
     "metadata": {},
     "output_type": "display_data"
    },
    {
     "data": {
      "text/plain": [
       "('поселок Лесное', 2)"
      ]
     },
     "metadata": {},
     "output_type": "display_data"
    },
    {
     "data": {
      "text/plain": [
       "('деревня Выскатка', 2)"
      ]
     },
     "metadata": {},
     "output_type": "display_data"
    },
    {
     "data": {
      "text/plain": [
       "('поселок городского типа Форносово', 2)"
      ]
     },
     "metadata": {},
     "output_type": "display_data"
    },
    {
     "data": {
      "text/plain": [
       "('деревня Тарасово', 2)"
      ]
     },
     "metadata": {},
     "output_type": "display_data"
    },
    {
     "data": {
      "text/plain": [
       "('поселок Рябово', 2)"
      ]
     },
     "metadata": {},
     "output_type": "display_data"
    },
    {
     "data": {
      "text/plain": [
       "('деревня Ненимяки', 2)"
      ]
     },
     "metadata": {},
     "output_type": "display_data"
    },
    {
     "data": {
      "text/plain": [
       "('село Путилово', 2)"
      ]
     },
     "metadata": {},
     "output_type": "display_data"
    },
    {
     "data": {
      "text/plain": [
       "('поселок Совхозный', 2)"
      ]
     },
     "metadata": {},
     "output_type": "display_data"
    },
    {
     "data": {
      "text/plain": [
       "('поселок Пушное', 2)"
      ]
     },
     "metadata": {},
     "output_type": "display_data"
    },
    {
     "data": {
      "text/plain": [
       "('посёлок Ленинское', 2)"
      ]
     },
     "metadata": {},
     "output_type": "display_data"
    },
    {
     "data": {
      "text/plain": [
       "('поселок Барышево', 2)"
      ]
     },
     "metadata": {},
     "output_type": "display_data"
    },
    {
     "data": {
      "text/plain": [
       "('посёлок Мельниково', 2)"
      ]
     },
     "metadata": {},
     "output_type": "display_data"
    },
    {
     "data": {
      "text/plain": [
       "('поселок Поляны', 2)"
      ]
     },
     "metadata": {},
     "output_type": "display_data"
    },
    {
     "data": {
      "text/plain": [
       "('деревня Суоранда', 2)"
      ]
     },
     "metadata": {},
     "output_type": "display_data"
    },
    {
     "data": {
      "text/plain": [
       "('поселок Терволово', 2)"
      ]
     },
     "metadata": {},
     "output_type": "display_data"
    },
    {
     "data": {
      "text/plain": [
       "('деревня Глинка', 2)"
      ]
     },
     "metadata": {},
     "output_type": "display_data"
    },
    {
     "data": {
      "text/plain": [
       "('поселок Житково', 2)"
      ]
     },
     "metadata": {},
     "output_type": "display_data"
    },
    {
     "data": {
      "text/plain": [
       "('поселок Серебрянский', 2)"
      ]
     },
     "metadata": {},
     "output_type": "display_data"
    },
    {
     "data": {
      "text/plain": [
       "('поселок Ильичёво', 2)"
      ]
     },
     "metadata": {},
     "output_type": "display_data"
    },
    {
     "data": {
      "text/plain": [
       "('деревня Коркино', 2)"
      ]
     },
     "metadata": {},
     "output_type": "display_data"
    },
    {
     "data": {
      "text/plain": [
       "('посёлок Жилгородок', 2)"
      ]
     },
     "metadata": {},
     "output_type": "display_data"
    },
    {
     "data": {
      "text/plain": [
       "('поселок Старая Малукса', 2)"
      ]
     },
     "metadata": {},
     "output_type": "display_data"
    },
    {
     "data": {
      "text/plain": [
       "('посёлок городского типа Вознесенье', 2)"
      ]
     },
     "metadata": {},
     "output_type": "display_data"
    },
    {
     "data": {
      "text/plain": [
       "('деревня Ям-Тесово', 2)"
      ]
     },
     "metadata": {},
     "output_type": "display_data"
    },
    {
     "data": {
      "text/plain": [
       "('поселок городского типа Назия', 2)"
      ]
     },
     "metadata": {},
     "output_type": "display_data"
    },
    {
     "data": {
      "text/plain": [
       "('деревня Мины', 2)"
      ]
     },
     "metadata": {},
     "output_type": "display_data"
    },
    {
     "data": {
      "text/plain": [
       "('поселок Петровское', 2)"
      ]
     },
     "metadata": {},
     "output_type": "display_data"
    },
    {
     "data": {
      "text/plain": [
       "('поселок станции Приветнинское', 2)"
      ]
     },
     "metadata": {},
     "output_type": "display_data"
    },
    {
     "data": {
      "text/plain": [
       "('посёлок городского типа Павлово', 2)"
      ]
     },
     "metadata": {},
     "output_type": "display_data"
    },
    {
     "data": {
      "text/plain": [
       "('посёлок станции Свирь', 2)"
      ]
     },
     "metadata": {},
     "output_type": "display_data"
    },
    {
     "data": {
      "text/plain": [
       "('деревня Камышовка', 2)"
      ]
     },
     "metadata": {},
     "output_type": "display_data"
    },
    {
     "data": {
      "text/plain": [
       "('городской посёлок Советский', 2)"
      ]
     },
     "metadata": {},
     "output_type": "display_data"
    },
    {
     "data": {
      "text/plain": [
       "('посёлок Старая Малукса', 2)"
      ]
     },
     "metadata": {},
     "output_type": "display_data"
    },
    {
     "data": {
      "text/plain": [
       "('деревня Старая Пустошь', 2)"
      ]
     },
     "metadata": {},
     "output_type": "display_data"
    },
    {
     "data": {
      "text/plain": [
       "('поселок Тельмана', 2)"
      ]
     },
     "metadata": {},
     "output_type": "display_data"
    },
    {
     "data": {
      "text/plain": [
       "('посёлок Возрождение', 2)"
      ]
     },
     "metadata": {},
     "output_type": "display_data"
    },
    {
     "data": {
      "text/plain": [
       "('село Паша', 2)"
      ]
     },
     "metadata": {},
     "output_type": "display_data"
    },
    {
     "data": {
      "text/plain": [
       "('поселок Володарское', 1)"
      ]
     },
     "metadata": {},
     "output_type": "display_data"
    },
    {
     "data": {
      "text/plain": [
       "('поселок Гладкое', 1)"
      ]
     },
     "metadata": {},
     "output_type": "display_data"
    },
    {
     "data": {
      "text/plain": [
       "('деревня Снегирёвка', 1)"
      ]
     },
     "metadata": {},
     "output_type": "display_data"
    },
    {
     "data": {
      "text/plain": [
       "('поселок Жилпосёлок', 1)"
      ]
     },
     "metadata": {},
     "output_type": "display_data"
    },
    {
     "data": {
      "text/plain": [
       "('посёлок Пансионат Зелёный Бор', 1)"
      ]
     },
     "metadata": {},
     "output_type": "display_data"
    },
    {
     "data": {
      "text/plain": [
       "('коттеджный посёлок Лесное', 1)"
      ]
     },
     "metadata": {},
     "output_type": "display_data"
    },
    {
     "data": {
      "text/plain": [
       "('поселок Каложицы', 1)"
      ]
     },
     "metadata": {},
     "output_type": "display_data"
    },
    {
     "data": {
      "text/plain": [
       "('садовое товарищество Новая Ропша', 1)"
      ]
     },
     "metadata": {},
     "output_type": "display_data"
    },
    {
     "data": {
      "text/plain": [
       "('поселок станции Корнево', 1)"
      ]
     },
     "metadata": {},
     "output_type": "display_data"
    },
    {
     "data": {
      "text/plain": [
       "('деревня Терпилицы', 1)"
      ]
     },
     "metadata": {},
     "output_type": "display_data"
    },
    {
     "data": {
      "text/plain": [
       "('садоводческое некоммерческое товарищество Лесная Поляна', 1)"
      ]
     },
     "metadata": {},
     "output_type": "display_data"
    },
    {
     "data": {
      "text/plain": [
       "('деревня Пикколово', 1)"
      ]
     },
     "metadata": {},
     "output_type": "display_data"
    },
    {
     "data": {
      "text/plain": [
       "('деревня Кривко', 1)"
      ]
     },
     "metadata": {},
     "output_type": "display_data"
    },
    {
     "data": {
      "text/plain": [
       "('поселок Гончарово', 1)"
      ]
     },
     "metadata": {},
     "output_type": "display_data"
    },
    {
     "data": {
      "text/plain": [
       "('деревня Хязельки', 1)"
      ]
     },
     "metadata": {},
     "output_type": "display_data"
    },
    {
     "data": {
      "text/plain": [
       "('деревня Курковицы', 1)"
      ]
     },
     "metadata": {},
     "output_type": "display_data"
    },
    {
     "data": {
      "text/plain": [
       "('посёлок Ропша', 1)"
      ]
     },
     "metadata": {},
     "output_type": "display_data"
    },
    {
     "data": {
      "text/plain": [
       "('деревня Иссад', 1)"
      ]
     },
     "metadata": {},
     "output_type": "display_data"
    },
    {
     "data": {
      "text/plain": [
       "('поселок Ромашки', 1)"
      ]
     },
     "metadata": {},
     "output_type": "display_data"
    },
    {
     "data": {
      "text/plain": [
       "('поселок Почап', 1)"
      ]
     },
     "metadata": {},
     "output_type": "display_data"
    },
    {
     "data": {
      "text/plain": [
       "('городской посёлок Свирьстрой', 1)"
      ]
     },
     "metadata": {},
     "output_type": "display_data"
    },
    {
     "data": {
      "text/plain": [
       "('поселок Рабитицы', 1)"
      ]
     },
     "metadata": {},
     "output_type": "display_data"
    },
    {
     "data": {
      "text/plain": [
       "('деревня Котлы', 1)"
      ]
     },
     "metadata": {},
     "output_type": "display_data"
    },
    {
     "data": {
      "text/plain": [
       "('поселок Пчевжа', 1)"
      ]
     },
     "metadata": {},
     "output_type": "display_data"
    },
    {
     "data": {
      "text/plain": [
       "('поселок Цвылёво', 1)"
      ]
     },
     "metadata": {},
     "output_type": "display_data"
    },
    {
     "data": {
      "text/plain": [
       "('деревня Мануйлово', 1)"
      ]
     },
     "metadata": {},
     "output_type": "display_data"
    },
    {
     "data": {
      "text/plain": [
       "('поселок городского типа Рябово', 1)"
      ]
     },
     "metadata": {},
     "output_type": "display_data"
    },
    {
     "data": {
      "text/plain": [
       "('посёлок Высокоключевой', 1)"
      ]
     },
     "metadata": {},
     "output_type": "display_data"
    },
    {
     "data": {
      "text/plain": [
       "('деревня Зимитицы', 1)"
      ]
     },
     "metadata": {},
     "output_type": "display_data"
    },
    {
     "data": {
      "text/plain": [
       "('посёлок при железнодорожной станции Приветнинское', 1)"
      ]
     },
     "metadata": {},
     "output_type": "display_data"
    },
    {
     "data": {
      "text/plain": [
       "('садовое товарищество Приладожский', 1)"
      ]
     },
     "metadata": {},
     "output_type": "display_data"
    },
    {
     "data": {
      "text/plain": [
       "('село Никольское', 1)"
      ]
     },
     "metadata": {},
     "output_type": "display_data"
    },
    {
     "data": {
      "text/plain": [
       "('деревня Русско', 1)"
      ]
     },
     "metadata": {},
     "output_type": "display_data"
    },
    {
     "data": {
      "text/plain": [
       "('поселок Коммунары', 1)"
      ]
     },
     "metadata": {},
     "output_type": "display_data"
    },
    {
     "data": {
      "text/plain": [
       "('деревня Лаврики', 1)"
      ]
     },
     "metadata": {},
     "output_type": "display_data"
    },
    {
     "data": {
      "text/plain": [
       "('поселок Усть-Луга', 1)"
      ]
     },
     "metadata": {},
     "output_type": "display_data"
    },
    {
     "data": {
      "text/plain": [
       "('посёлок Дзержинского', 1)"
      ]
     },
     "metadata": {},
     "output_type": "display_data"
    },
    {
     "data": {
      "text/plain": [
       "('поселок Перово', 1)"
      ]
     },
     "metadata": {},
     "output_type": "display_data"
    },
    {
     "data": {
      "text/plain": [
       "('деревня Куровицы', 1)"
      ]
     },
     "metadata": {},
     "output_type": "display_data"
    },
    {
     "data": {
      "text/plain": [
       "('посёлок Плоское', 1)"
      ]
     },
     "metadata": {},
     "output_type": "display_data"
    },
    {
     "data": {
      "text/plain": [
       "('деревня Раздолье', 1)"
      ]
     },
     "metadata": {},
     "output_type": "display_data"
    },
    {
     "data": {
      "text/plain": [
       "('коттеджный поселок Счастье', 1)"
      ]
     },
     "metadata": {},
     "output_type": "display_data"
    },
    {
     "data": {
      "text/plain": [
       "('коттеджный поселок Кивеннапа Север', 1)"
      ]
     },
     "metadata": {},
     "output_type": "display_data"
    },
    {
     "data": {
      "text/plain": [
       "('деревня Борисова Грива', 1)"
      ]
     },
     "metadata": {},
     "output_type": "display_data"
    },
    {
     "data": {
      "text/plain": [
       "('поселок Красносельское', 1)"
      ]
     },
     "metadata": {},
     "output_type": "display_data"
    },
    {
     "data": {
      "text/plain": [
       "('деревня Тойворово', 1)"
      ]
     },
     "metadata": {},
     "output_type": "display_data"
    },
    {
     "data": {
      "text/plain": [
       "('деревня Шпаньково', 1)"
      ]
     },
     "metadata": {},
     "output_type": "display_data"
    },
    {
     "data": {
      "text/plain": [
       "('поселок Жилгородок', 1)"
      ]
     },
     "metadata": {},
     "output_type": "display_data"
    },
    {
     "data": {
      "text/plain": [
       "('деревня Щеглово', 1)"
      ]
     },
     "metadata": {},
     "output_type": "display_data"
    },
    {
     "data": {
      "text/plain": [
       "('деревня Пчева', 1)"
      ]
     },
     "metadata": {},
     "output_type": "display_data"
    },
    {
     "data": {
      "text/plain": [
       "('деревня Нижние Осельки', 1)"
      ]
     },
     "metadata": {},
     "output_type": "display_data"
    },
    {
     "data": {
      "text/plain": [
       "('деревня Сижно', 1)"
      ]
     },
     "metadata": {},
     "output_type": "display_data"
    },
    {
     "data": {
      "text/plain": [
       "('посёлок Форт Красная Горка', 1)"
      ]
     },
     "metadata": {},
     "output_type": "display_data"
    },
    {
     "data": {
      "text/plain": [
       "('село Шум', 1)"
      ]
     },
     "metadata": {},
     "output_type": "display_data"
    },
    {
     "data": {
      "text/plain": [
       "('Красное Село', 1)"
      ]
     },
     "metadata": {},
     "output_type": "display_data"
    },
    {
     "data": {
      "text/plain": [
       "('деревня Большое Рейзино', 1)"
      ]
     },
     "metadata": {},
     "output_type": "display_data"
    },
    {
     "data": {
      "text/plain": [
       "('деревня Малая Романовка', 1)"
      ]
     },
     "metadata": {},
     "output_type": "display_data"
    },
    {
     "data": {
      "text/plain": [
       "('деревня Каськово', 1)"
      ]
     },
     "metadata": {},
     "output_type": "display_data"
    },
    {
     "data": {
      "text/plain": [
       "('поселок Гаврилово', 1)"
      ]
     },
     "metadata": {},
     "output_type": "display_data"
    },
    {
     "data": {
      "text/plain": [
       "('деревня Пустынка', 1)"
      ]
     },
     "metadata": {},
     "output_type": "display_data"
    },
    {
     "data": {
      "text/plain": [
       "('посёлок Сумино', 1)"
      ]
     },
     "metadata": {},
     "output_type": "display_data"
    },
    {
     "data": {
      "text/plain": [
       "('поселок Кирпичное', 1)"
      ]
     },
     "metadata": {},
     "output_type": "display_data"
    },
    {
     "data": {
      "text/plain": [
       "('садовое товарищество Садко', 1)"
      ]
     },
     "metadata": {},
     "output_type": "display_data"
    },
    {
     "data": {
      "text/plain": [
       "('поселок Калитино', 1)"
      ]
     },
     "metadata": {},
     "output_type": "display_data"
    },
    {
     "data": {
      "text/plain": [
       "('поселок Пансионат Зелёный Бор', 1)"
      ]
     },
     "metadata": {},
     "output_type": "display_data"
    },
    {
     "data": {
      "text/plain": [
       "('деревня Лупполово', 1)"
      ]
     },
     "metadata": {},
     "output_type": "display_data"
    },
    {
     "data": {
      "text/plain": [
       "('посёлок Коробицыно', 1)"
      ]
     },
     "metadata": {},
     "output_type": "display_data"
    },
    {
     "data": {
      "text/plain": [
       "('деревня Кисельня', 1)"
      ]
     },
     "metadata": {},
     "output_type": "display_data"
    },
    {
     "data": {
      "text/plain": [
       "('деревня Ялгино', 1)"
      ]
     },
     "metadata": {},
     "output_type": "display_data"
    },
    {
     "data": {
      "text/plain": [
       "('поселок станции Лужайка', 1)"
      ]
     },
     "metadata": {},
     "output_type": "display_data"
    },
    {
     "data": {
      "text/plain": [
       "('деревня Реброво', 1)"
      ]
     },
     "metadata": {},
     "output_type": "display_data"
    },
    {
     "data": {
      "text/plain": [
       "('деревня Вахнова Кара', 1)"
      ]
     },
     "metadata": {},
     "output_type": "display_data"
    },
    {
     "data": {
      "text/plain": [
       "('деревня Хапо-Ое', 1)"
      ]
     },
     "metadata": {},
     "output_type": "display_data"
    },
    {
     "data": {
      "text/plain": [
       "('деревня Нижняя', 1)"
      ]
     },
     "metadata": {},
     "output_type": "display_data"
    },
    {
     "data": {
      "text/plain": [
       "('деревня Пижма', 1)"
      ]
     },
     "metadata": {},
     "output_type": "display_data"
    },
    {
     "data": {
      "text/plain": [
       "('поселок городского типа Большая Ижора', 1)"
      ]
     },
     "metadata": {},
     "output_type": "display_data"
    },
    {
     "data": {
      "text/plain": [
       "('поселок Сумино', 1)"
      ]
     },
     "metadata": {},
     "output_type": "display_data"
    },
    {
     "data": {
      "text/plain": [
       "('деревня Чудской Бор', 1)"
      ]
     },
     "metadata": {},
     "output_type": "display_data"
    },
    {
     "data": {
      "text/plain": [
       "('посёлок Шугозеро', 1)"
      ]
     },
     "metadata": {},
     "output_type": "display_data"
    },
    {
     "data": {
      "text/plain": [
       "('поселок Тёсово-4', 1)"
      ]
     },
     "metadata": {},
     "output_type": "display_data"
    },
    {
     "data": {
      "text/plain": [
       "('посёлок городского типа Рябово', 1)"
      ]
     },
     "metadata": {},
     "output_type": "display_data"
    },
    {
     "data": {
      "text/plain": [
       "('деревня Меньково', 1)"
      ]
     },
     "metadata": {},
     "output_type": "display_data"
    },
    {
     "data": {
      "text/plain": [
       "('поселок Возрождение', 1)"
      ]
     },
     "metadata": {},
     "output_type": "display_data"
    },
    {
     "data": {
      "text/plain": [
       "('деревня Тихковицы', 1)"
      ]
     },
     "metadata": {},
     "output_type": "display_data"
    },
    {
     "data": {
      "text/plain": [
       "('Ломоносов', 1)"
      ]
     },
     "metadata": {},
     "output_type": "display_data"
    },
    {
     "data": {
      "text/plain": [
       "('деревня Новолисино', 1)"
      ]
     },
     "metadata": {},
     "output_type": "display_data"
    },
    {
     "data": {
      "text/plain": [
       "('поселок Дружноселье', 1)"
      ]
     },
     "metadata": {},
     "output_type": "display_data"
    },
    {
     "data": {
      "text/plain": [
       "('садовое товарищество Рахья', 1)"
      ]
     },
     "metadata": {},
     "output_type": "display_data"
    },
    {
     "data": {
      "text/plain": [
       "('поселок Семиозерье', 1)"
      ]
     },
     "metadata": {},
     "output_type": "display_data"
    },
    {
     "data": {
      "text/plain": [
       "('деревня Старое Хинколово', 1)"
      ]
     },
     "metadata": {},
     "output_type": "display_data"
    },
    {
     "data": {
      "text/plain": [
       "('посёлок Алексеевка', 1)"
      ]
     },
     "metadata": {},
     "output_type": "display_data"
    },
    {
     "data": {
      "text/plain": [
       "('деревня Рапполово', 1)"
      ]
     },
     "metadata": {},
     "output_type": "display_data"
    },
    {
     "data": {
      "text/plain": [
       "('Колпино', 1)"
      ]
     },
     "metadata": {},
     "output_type": "display_data"
    },
    {
     "data": {
      "text/plain": [
       "('деревня Трубников Бор', 1)"
      ]
     },
     "metadata": {},
     "output_type": "display_data"
    },
    {
     "data": {
      "text/plain": [
       "('поселок Коробицыно', 1)"
      ]
     },
     "metadata": {},
     "output_type": "display_data"
    },
    {
     "data": {
      "text/plain": [
       "('поселок городского типа Кондратьево', 1)"
      ]
     },
     "metadata": {},
     "output_type": "display_data"
    },
    {
     "data": {
      "text/plain": [
       "('посёлок при железнодорожной станции Вещево', 1)"
      ]
     },
     "metadata": {},
     "output_type": "display_data"
    },
    {
     "data": {
      "text/plain": [
       "('деревня Пельгора', 1)"
      ]
     },
     "metadata": {},
     "output_type": "display_data"
    },
    {
     "data": {
      "text/plain": [
       "('поселок Севастьяново', 1)"
      ]
     },
     "metadata": {},
     "output_type": "display_data"
    },
    {
     "data": {
      "text/plain": [
       "('посёлок Мыза-Ивановка', 1)"
      ]
     },
     "metadata": {},
     "output_type": "display_data"
    },
    {
     "data": {
      "text/plain": [
       "('посёлок Платформа 69-й километр', 1)"
      ]
     },
     "metadata": {},
     "output_type": "display_data"
    },
    {
     "data": {
      "text/plain": [
       "('деревня Большая Пустомержа', 1)"
      ]
     },
     "metadata": {},
     "output_type": "display_data"
    },
    {
     "data": {
      "text/plain": [
       "('Кронштадт', 1)"
      ]
     },
     "metadata": {},
     "output_type": "display_data"
    },
    {
     "data": {
      "text/plain": [
       "('деревня Большой Сабск', 1)"
      ]
     },
     "metadata": {},
     "output_type": "display_data"
    }
   ],
   "source": [
    "null_airports = data[data['airports_nearest'].isnull()]\n",
    "for i in dict(null_airports['locality_name'].value_counts()).items():\n",
    "    display (i)  #('Санкт-Петербург', 84)"
   ]
  },
  {
   "cell_type": "markdown",
   "metadata": {},
   "source": [
    "    Из всех пропущенных строк в столбце 'airports_nearest', только 84 обявления из Санкт-Петербурга, а для остальных населеных пунктов эта информация неважна"
   ]
  },
  {
   "cell_type": "code",
   "execution_count": 19,
   "metadata": {},
   "outputs": [
    {
     "data": {
      "text/plain": [
       "('посёлок Мурино', 516)"
      ]
     },
     "metadata": {},
     "output_type": "display_data"
    },
    {
     "data": {
      "text/plain": [
       "('Всеволожск', 389)"
      ]
     },
     "metadata": {},
     "output_type": "display_data"
    },
    {
     "data": {
      "text/plain": [
       "('Гатчина', 300)"
      ]
     },
     "metadata": {},
     "output_type": "display_data"
    },
    {
     "data": {
      "text/plain": [
       "('деревня Кудрово', 294)"
      ]
     },
     "metadata": {},
     "output_type": "display_data"
    },
    {
     "data": {
      "text/plain": [
       "('Выборг', 220)"
      ]
     },
     "metadata": {},
     "output_type": "display_data"
    },
    {
     "data": {
      "text/plain": [
       "('Кудрово', 172)"
      ]
     },
     "metadata": {},
     "output_type": "display_data"
    },
    {
     "data": {
      "text/plain": [
       "('деревня Новое Девяткино', 143)"
      ]
     },
     "metadata": {},
     "output_type": "display_data"
    },
    {
     "data": {
      "text/plain": [
       "('Сертолово', 140)"
      ]
     },
     "metadata": {},
     "output_type": "display_data"
    },
    {
     "data": {
      "text/plain": [
       "('Кириши', 114)"
      ]
     },
     "metadata": {},
     "output_type": "display_data"
    },
    {
     "data": {
      "text/plain": [
       "('Волхов', 111)"
      ]
     },
     "metadata": {},
     "output_type": "display_data"
    },
    {
     "data": {
      "text/plain": [
       "('Сланцы', 105)"
      ]
     },
     "metadata": {},
     "output_type": "display_data"
    },
    {
     "data": {
      "text/plain": [
       "('Тосно', 103)"
      ]
     },
     "metadata": {},
     "output_type": "display_data"
    },
    {
     "data": {
      "text/plain": [
       "('Кингисепп', 97)"
      ]
     },
     "metadata": {},
     "output_type": "display_data"
    },
    {
     "data": {
      "text/plain": [
       "('Никольское', 92)"
      ]
     },
     "metadata": {},
     "output_type": "display_data"
    },
    {
     "data": {
      "text/plain": [
       "('Коммунар', 88)"
      ]
     },
     "metadata": {},
     "output_type": "display_data"
    },
    {
     "data": {
      "text/plain": [
       "('Сосновый Бор', 86)"
      ]
     },
     "metadata": {},
     "output_type": "display_data"
    },
    {
     "data": {
      "text/plain": [
       "('Кировск', 84)"
      ]
     },
     "metadata": {},
     "output_type": "display_data"
    },
    {
     "data": {
      "text/plain": [
       "('Отрадное', 80)"
      ]
     },
     "metadata": {},
     "output_type": "display_data"
    },
    {
     "data": {
      "text/plain": [
       "('посёлок Бугры', 69)"
      ]
     },
     "metadata": {},
     "output_type": "display_data"
    },
    {
     "data": {
      "text/plain": [
       "('Приозерск', 66)"
      ]
     },
     "metadata": {},
     "output_type": "display_data"
    },
    {
     "data": {
      "text/plain": [
       "('деревня Старая', 63)"
      ]
     },
     "metadata": {},
     "output_type": "display_data"
    },
    {
     "data": {
      "text/plain": [
       "('городской посёлок Янино-1', 60)"
      ]
     },
     "metadata": {},
     "output_type": "display_data"
    },
    {
     "data": {
      "text/plain": [
       "('Шлиссельбург', 57)"
      ]
     },
     "metadata": {},
     "output_type": "display_data"
    },
    {
     "data": {
      "text/plain": [
       "('Луга', 54)"
      ]
     },
     "metadata": {},
     "output_type": "display_data"
    },
    {
     "data": {
      "text/plain": [
       "('Санкт-Петербург', 51)"
      ]
     },
     "metadata": {},
     "output_type": "display_data"
    },
    {
     "data": {
      "text/plain": [
       "('Тихвин', 48)"
      ]
     },
     "metadata": {},
     "output_type": "display_data"
    },
    {
     "data": {
      "text/plain": [
       "('поселок Бугры', 45)"
      ]
     },
     "metadata": {},
     "output_type": "display_data"
    },
    {
     "data": {
      "text/plain": [
       "('посёлок Тельмана', 39)"
      ]
     },
     "metadata": {},
     "output_type": "display_data"
    },
    {
     "data": {
      "text/plain": [
       "('поселок Романовка', 36)"
      ]
     },
     "metadata": {},
     "output_type": "display_data"
    },
    {
     "data": {
      "text/plain": [
       "('Волосово', 35)"
      ]
     },
     "metadata": {},
     "output_type": "display_data"
    },
    {
     "data": {
      "text/plain": [
       "('Мурино', 34)"
      ]
     },
     "metadata": {},
     "output_type": "display_data"
    },
    {
     "data": {
      "text/plain": [
       "('поселок Мурино', 32)"
      ]
     },
     "metadata": {},
     "output_type": "display_data"
    },
    {
     "data": {
      "text/plain": [
       "('посёлок городского типа Сиверский', 29)"
      ]
     },
     "metadata": {},
     "output_type": "display_data"
    },
    {
     "data": {
      "text/plain": [
       "('Ивангород', 28)"
      ]
     },
     "metadata": {},
     "output_type": "display_data"
    },
    {
     "data": {
      "text/plain": [
       "('городской посёлок Новоселье', 28)"
      ]
     },
     "metadata": {},
     "output_type": "display_data"
    },
    {
     "data": {
      "text/plain": [
       "('городской посёлок Мга', 26)"
      ]
     },
     "metadata": {},
     "output_type": "display_data"
    },
    {
     "data": {
      "text/plain": [
       "('поселок городского типа имени Свердлова', 25)"
      ]
     },
     "metadata": {},
     "output_type": "display_data"
    },
    {
     "data": {
      "text/plain": [
       "('посёлок городского типа Кузьмоловский', 22)"
      ]
     },
     "metadata": {},
     "output_type": "display_data"
    },
    {
     "data": {
      "text/plain": [
       "('посёлок Щеглово', 22)"
      ]
     },
     "metadata": {},
     "output_type": "display_data"
    },
    {
     "data": {
      "text/plain": [
       "('поселок городского типа Синявино', 21)"
      ]
     },
     "metadata": {},
     "output_type": "display_data"
    },
    {
     "data": {
      "text/plain": [
       "('деревня Вартемяги', 20)"
      ]
     },
     "metadata": {},
     "output_type": "display_data"
    },
    {
     "data": {
      "text/plain": [
       "('посёлок Новогорелово', 20)"
      ]
     },
     "metadata": {},
     "output_type": "display_data"
    },
    {
     "data": {
      "text/plain": [
       "('Лодейное Поле', 20)"
      ]
     },
     "metadata": {},
     "output_type": "display_data"
    },
    {
     "data": {
      "text/plain": [
       "('Сясьстрой', 20)"
      ]
     },
     "metadata": {},
     "output_type": "display_data"
    },
    {
     "data": {
      "text/plain": [
       "('деревня Лесколово', 19)"
      ]
     },
     "metadata": {},
     "output_type": "display_data"
    },
    {
     "data": {
      "text/plain": [
       "('поселок городского типа Рощино', 19)"
      ]
     },
     "metadata": {},
     "output_type": "display_data"
    },
    {
     "data": {
      "text/plain": [
       "('Подпорожье', 19)"
      ]
     },
     "metadata": {},
     "output_type": "display_data"
    },
    {
     "data": {
      "text/plain": [
       "('посёлок Сосново', 18)"
      ]
     },
     "metadata": {},
     "output_type": "display_data"
    },
    {
     "data": {
      "text/plain": [
       "('Пикалёво', 18)"
      ]
     },
     "metadata": {},
     "output_type": "display_data"
    },
    {
     "data": {
      "text/plain": [
       "('посёлок Новый Свет', 17)"
      ]
     },
     "metadata": {},
     "output_type": "display_data"
    },
    {
     "data": {
      "text/plain": [
       "('деревня Бегуницы', 17)"
      ]
     },
     "metadata": {},
     "output_type": "display_data"
    },
    {
     "data": {
      "text/plain": [
       "('городской поселок Большая Ижора', 16)"
      ]
     },
     "metadata": {},
     "output_type": "display_data"
    },
    {
     "data": {
      "text/plain": [
       "('посёлок городского типа имени Морозова', 16)"
      ]
     },
     "metadata": {},
     "output_type": "display_data"
    },
    {
     "data": {
      "text/plain": [
       "('поселок городского типа Рахья', 15)"
      ]
     },
     "metadata": {},
     "output_type": "display_data"
    },
    {
     "data": {
      "text/plain": [
       "('поселок городского типа Дубровка', 15)"
      ]
     },
     "metadata": {},
     "output_type": "display_data"
    },
    {
     "data": {
      "text/plain": [
       "('Бокситогорск', 15)"
      ]
     },
     "metadata": {},
     "output_type": "display_data"
    },
    {
     "data": {
      "text/plain": [
       "('деревня Большие Колпаны', 15)"
      ]
     },
     "metadata": {},
     "output_type": "display_data"
    },
    {
     "data": {
      "text/plain": [
       "('городской посёлок Назия', 15)"
      ]
     },
     "metadata": {},
     "output_type": "display_data"
    },
    {
     "data": {
      "text/plain": [
       "('посёлок городского типа Токсово', 15)"
      ]
     },
     "metadata": {},
     "output_type": "display_data"
    },
    {
     "data": {
      "text/plain": [
       "('посёлок городского типа Рощино', 15)"
      ]
     },
     "metadata": {},
     "output_type": "display_data"
    },
    {
     "data": {
      "text/plain": [
       "('деревня Горбунки', 14)"
      ]
     },
     "metadata": {},
     "output_type": "display_data"
    },
    {
     "data": {
      "text/plain": [
       "('Новая Ладога', 14)"
      ]
     },
     "metadata": {},
     "output_type": "display_data"
    },
    {
     "data": {
      "text/plain": [
       "('деревня Гарболово', 13)"
      ]
     },
     "metadata": {},
     "output_type": "display_data"
    },
    {
     "data": {
      "text/plain": [
       "('посёлок городского типа Ульяновка', 13)"
      ]
     },
     "metadata": {},
     "output_type": "display_data"
    },
    {
     "data": {
      "text/plain": [
       "('поселок Елизаветино', 13)"
      ]
     },
     "metadata": {},
     "output_type": "display_data"
    },
    {
     "data": {
      "text/plain": [
       "('поселок городского типа Кузьмоловский', 13)"
      ]
     },
     "metadata": {},
     "output_type": "display_data"
    },
    {
     "data": {
      "text/plain": [
       "('посёлок городского типа Кузнечное', 13)"
      ]
     },
     "metadata": {},
     "output_type": "display_data"
    },
    {
     "data": {
      "text/plain": [
       "('Каменногорск', 13)"
      ]
     },
     "metadata": {},
     "output_type": "display_data"
    },
    {
     "data": {
      "text/plain": [
       "('поселок городского типа Вырица', 12)"
      ]
     },
     "metadata": {},
     "output_type": "display_data"
    },
    {
     "data": {
      "text/plain": [
       "('деревня Мистолово', 11)"
      ]
     },
     "metadata": {},
     "output_type": "display_data"
    },
    {
     "data": {
      "text/plain": [
       "('посёлок городского типа имени Свердлова', 11)"
      ]
     },
     "metadata": {},
     "output_type": "display_data"
    },
    {
     "data": {
      "text/plain": [
       "('Светогорск', 11)"
      ]
     },
     "metadata": {},
     "output_type": "display_data"
    },
    {
     "data": {
      "text/plain": [
       "('деревня Малое Верево', 11)"
      ]
     },
     "metadata": {},
     "output_type": "display_data"
    },
    {
     "data": {
      "text/plain": [
       "('деревня Колтуши', 11)"
      ]
     },
     "metadata": {},
     "output_type": "display_data"
    },
    {
     "data": {
      "text/plain": [
       "('посёлок городского типа Лебяжье', 11)"
      ]
     },
     "metadata": {},
     "output_type": "display_data"
    },
    {
     "data": {
      "text/plain": [
       "('деревня Гостилицы', 11)"
      ]
     },
     "metadata": {},
     "output_type": "display_data"
    },
    {
     "data": {
      "text/plain": [
       "('деревня Нурма', 11)"
      ]
     },
     "metadata": {},
     "output_type": "display_data"
    },
    {
     "data": {
      "text/plain": [
       "('посёлок Аннино', 11)"
      ]
     },
     "metadata": {},
     "output_type": "display_data"
    },
    {
     "data": {
      "text/plain": [
       "('посёлок городского типа Вырица', 10)"
      ]
     },
     "metadata": {},
     "output_type": "display_data"
    },
    {
     "data": {
      "text/plain": [
       "('деревня Лаголово', 10)"
      ]
     },
     "metadata": {},
     "output_type": "display_data"
    },
    {
     "data": {
      "text/plain": [
       "('деревня Белогорка', 10)"
      ]
     },
     "metadata": {},
     "output_type": "display_data"
    },
    {
     "data": {
      "text/plain": [
       "('деревня Сяськелево', 10)"
      ]
     },
     "metadata": {},
     "output_type": "display_data"
    },
    {
     "data": {
      "text/plain": [
       "('поселок Войсковицы', 10)"
      ]
     },
     "metadata": {},
     "output_type": "display_data"
    },
    {
     "data": {
      "text/plain": [
       "('поселок Сельцо', 9)"
      ]
     },
     "metadata": {},
     "output_type": "display_data"
    },
    {
     "data": {
      "text/plain": [
       "('поселок Молодцово', 9)"
      ]
     },
     "metadata": {},
     "output_type": "display_data"
    },
    {
     "data": {
      "text/plain": [
       "('село Русско-Высоцкое', 9)"
      ]
     },
     "metadata": {},
     "output_type": "display_data"
    },
    {
     "data": {
      "text/plain": [
       "('городской посёлок Павлово', 9)"
      ]
     },
     "metadata": {},
     "output_type": "display_data"
    },
    {
     "data": {
      "text/plain": [
       "('деревня Низино', 9)"
      ]
     },
     "metadata": {},
     "output_type": "display_data"
    },
    {
     "data": {
      "text/plain": [
       "('поселок городского типа Приладожский', 9)"
      ]
     },
     "metadata": {},
     "output_type": "display_data"
    },
    {
     "data": {
      "text/plain": [
       "('деревня Оржицы', 9)"
      ]
     },
     "metadata": {},
     "output_type": "display_data"
    },
    {
     "data": {
      "text/plain": [
       "('посёлок Пудость', 9)"
      ]
     },
     "metadata": {},
     "output_type": "display_data"
    },
    {
     "data": {
      "text/plain": [
       "('деревня Малое Карлино', 9)"
      ]
     },
     "metadata": {},
     "output_type": "display_data"
    },
    {
     "data": {
      "text/plain": [
       "('Любань', 8)"
      ]
     },
     "metadata": {},
     "output_type": "display_data"
    },
    {
     "data": {
      "text/plain": [
       "('Приморск', 8)"
      ]
     },
     "metadata": {},
     "output_type": "display_data"
    },
    {
     "data": {
      "text/plain": [
       "('деревня Батово', 8)"
      ]
     },
     "metadata": {},
     "output_type": "display_data"
    },
    {
     "data": {
      "text/plain": [
       "('поселок Запорожское', 8)"
      ]
     },
     "metadata": {},
     "output_type": "display_data"
    },
    {
     "data": {
      "text/plain": [
       "('поселок Первомайское', 8)"
      ]
     },
     "metadata": {},
     "output_type": "display_data"
    },
    {
     "data": {
      "text/plain": [
       "('поселок городского типа Советский', 8)"
      ]
     },
     "metadata": {},
     "output_type": "display_data"
    },
    {
     "data": {
      "text/plain": [
       "('поселок Суходолье', 8)"
      ]
     },
     "metadata": {},
     "output_type": "display_data"
    },
    {
     "data": {
      "text/plain": [
       "('деревня Фёдоровское', 8)"
      ]
     },
     "metadata": {},
     "output_type": "display_data"
    },
    {
     "data": {
      "text/plain": [
       "('деревня Извара', 7)"
      ]
     },
     "metadata": {},
     "output_type": "display_data"
    },
    {
     "data": {
      "text/plain": [
       "('село Павлово', 7)"
      ]
     },
     "metadata": {},
     "output_type": "display_data"
    },
    {
     "data": {
      "text/plain": [
       "('деревня Калитино', 7)"
      ]
     },
     "metadata": {},
     "output_type": "display_data"
    },
    {
     "data": {
      "text/plain": [
       "('деревня Малые Колпаны', 7)"
      ]
     },
     "metadata": {},
     "output_type": "display_data"
    },
    {
     "data": {
      "text/plain": [
       "('деревня Куттузи', 7)"
      ]
     },
     "metadata": {},
     "output_type": "display_data"
    },
    {
     "data": {
      "text/plain": [
       "('городской посёлок Фёдоровское', 7)"
      ]
     },
     "metadata": {},
     "output_type": "display_data"
    },
    {
     "data": {
      "text/plain": [
       "('деревня Кипень', 7)"
      ]
     },
     "metadata": {},
     "output_type": "display_data"
    },
    {
     "data": {
      "text/plain": [
       "('поселок городского типа Никольский', 7)"
      ]
     },
     "metadata": {},
     "output_type": "display_data"
    },
    {
     "data": {
      "text/plain": [
       "('деревня Кальтино', 7)"
      ]
     },
     "metadata": {},
     "output_type": "display_data"
    },
    {
     "data": {
      "text/plain": [
       "('деревня Кузьмолово', 7)"
      ]
     },
     "metadata": {},
     "output_type": "display_data"
    },
    {
     "data": {
      "text/plain": [
       "('городской поселок Янино-1', 7)"
      ]
     },
     "metadata": {},
     "output_type": "display_data"
    },
    {
     "data": {
      "text/plain": [
       "('посёлок Мичуринское', 6)"
      ]
     },
     "metadata": {},
     "output_type": "display_data"
    },
    {
     "data": {
      "text/plain": [
       "('поселок Углово', 6)"
      ]
     },
     "metadata": {},
     "output_type": "display_data"
    },
    {
     "data": {
      "text/plain": [
       "('деревня Лампово', 6)"
      ]
     },
     "metadata": {},
     "output_type": "display_data"
    },
    {
     "data": {
      "text/plain": [
       "('поселок Ушаки', 6)"
      ]
     },
     "metadata": {},
     "output_type": "display_data"
    },
    {
     "data": {
      "text/plain": [
       "('посёлок городского типа Тайцы', 6)"
      ]
     },
     "metadata": {},
     "output_type": "display_data"
    },
    {
     "data": {
      "text/plain": [
       "('деревня Пудомяги', 6)"
      ]
     },
     "metadata": {},
     "output_type": "display_data"
    },
    {
     "data": {
      "text/plain": [
       "('посёлок городского типа Важины', 6)"
      ]
     },
     "metadata": {},
     "output_type": "display_data"
    },
    {
     "data": {
      "text/plain": [
       "('деревня Яльгелево', 6)"
      ]
     },
     "metadata": {},
     "output_type": "display_data"
    },
    {
     "data": {
      "text/plain": [
       "('поселок Новый Учхоз', 6)"
      ]
     },
     "metadata": {},
     "output_type": "display_data"
    },
    {
     "data": {
      "text/plain": [
       "('посёлок Ильичёво', 6)"
      ]
     },
     "metadata": {},
     "output_type": "display_data"
    },
    {
     "data": {
      "text/plain": [
       "('деревня Лопухинка', 6)"
      ]
     },
     "metadata": {},
     "output_type": "display_data"
    },
    {
     "data": {
      "text/plain": [
       "('деревня Заневка', 6)"
      ]
     },
     "metadata": {},
     "output_type": "display_data"
    },
    {
     "data": {
      "text/plain": [
       "('посёлок городского типа Мга', 6)"
      ]
     },
     "metadata": {},
     "output_type": "display_data"
    },
    {
     "data": {
      "text/plain": [
       "('поселок Мичуринское', 5)"
      ]
     },
     "metadata": {},
     "output_type": "display_data"
    },
    {
     "data": {
      "text/plain": [
       "('поселок городского типа Дружная Горка', 5)"
      ]
     },
     "metadata": {},
     "output_type": "display_data"
    },
    {
     "data": {
      "text/plain": [
       "('посёлок Стеклянный', 5)"
      ]
     },
     "metadata": {},
     "output_type": "display_data"
    },
    {
     "data": {
      "text/plain": [
       "('поселок Глажево', 5)"
      ]
     },
     "metadata": {},
     "output_type": "display_data"
    },
    {
     "data": {
      "text/plain": [
       "('поселок Аннино', 5)"
      ]
     },
     "metadata": {},
     "output_type": "display_data"
    },
    {
     "data": {
      "text/plain": [
       "('поселок Селезнёво', 5)"
      ]
     },
     "metadata": {},
     "output_type": "display_data"
    },
    {
     "data": {
      "text/plain": [
       "('поселок Семрино', 5)"
      ]
     },
     "metadata": {},
     "output_type": "display_data"
    },
    {
     "data": {
      "text/plain": [
       "('село Копорье', 5)"
      ]
     },
     "metadata": {},
     "output_type": "display_data"
    },
    {
     "data": {
      "text/plain": [
       "('посёлок Плодовое', 5)"
      ]
     },
     "metadata": {},
     "output_type": "display_data"
    },
    {
     "data": {
      "text/plain": [
       "('посёлок Войскорово', 5)"
      ]
     },
     "metadata": {},
     "output_type": "display_data"
    },
    {
     "data": {
      "text/plain": [
       "('деревня Юкки', 5)"
      ]
     },
     "metadata": {},
     "output_type": "display_data"
    },
    {
     "data": {
      "text/plain": [
       "('поселок Новый Свет', 5)"
      ]
     },
     "metadata": {},
     "output_type": "display_data"
    },
    {
     "data": {
      "text/plain": [
       "('посёлок Кобралово', 5)"
      ]
     },
     "metadata": {},
     "output_type": "display_data"
    },
    {
     "data": {
      "text/plain": [
       "('городской посёлок Рощино', 5)"
      ]
     },
     "metadata": {},
     "output_type": "display_data"
    },
    {
     "data": {
      "text/plain": [
       "('деревня Пеники', 5)"
      ]
     },
     "metadata": {},
     "output_type": "display_data"
    },
    {
     "data": {
      "text/plain": [
       "('поселок Кобринское', 5)"
      ]
     },
     "metadata": {},
     "output_type": "display_data"
    },
    {
     "data": {
      "text/plain": [
       "('посёлок Суйда', 4)"
      ]
     },
     "metadata": {},
     "output_type": "display_data"
    },
    {
     "data": {
      "text/plain": [
       "('поселок городского типа Токсово', 4)"
      ]
     },
     "metadata": {},
     "output_type": "display_data"
    },
    {
     "data": {
      "text/plain": [
       "('поселок Гарболово', 4)"
      ]
     },
     "metadata": {},
     "output_type": "display_data"
    },
    {
     "data": {
      "text/plain": [
       "('Высоцк', 4)"
      ]
     },
     "metadata": {},
     "output_type": "display_data"
    },
    {
     "data": {
      "text/plain": [
       "('поселок Кобралово', 4)"
      ]
     },
     "metadata": {},
     "output_type": "display_data"
    },
    {
     "data": {
      "text/plain": [
       "('поселок городского типа Лебяжье', 4)"
      ]
     },
     "metadata": {},
     "output_type": "display_data"
    },
    {
     "data": {
      "text/plain": [
       "('городской посёлок Будогощь', 4)"
      ]
     },
     "metadata": {},
     "output_type": "display_data"
    },
    {
     "data": {
      "text/plain": [
       "('деревня Разбегаево', 4)"
      ]
     },
     "metadata": {},
     "output_type": "display_data"
    },
    {
     "data": {
      "text/plain": [
       "('посёлок Кикерино', 4)"
      ]
     },
     "metadata": {},
     "output_type": "display_data"
    },
    {
     "data": {
      "text/plain": [
       "('поселок городского типа Красный Бор', 4)"
      ]
     },
     "metadata": {},
     "output_type": "display_data"
    },
    {
     "data": {
      "text/plain": [
       "('посёлок Гаврилово', 4)"
      ]
     },
     "metadata": {},
     "output_type": "display_data"
    },
    {
     "data": {
      "text/plain": [
       "('посёлок городского типа Форносово', 4)"
      ]
     },
     "metadata": {},
     "output_type": "display_data"
    },
    {
     "data": {
      "text/plain": [
       "('деревня Большая Вруда', 4)"
      ]
     },
     "metadata": {},
     "output_type": "display_data"
    },
    {
     "data": {
      "text/plain": [
       "('поселок станции Вещево', 4)"
      ]
     },
     "metadata": {},
     "output_type": "display_data"
    },
    {
     "data": {
      "text/plain": [
       "('посёлок Поляны', 4)"
      ]
     },
     "metadata": {},
     "output_type": "display_data"
    },
    {
     "data": {
      "text/plain": [
       "('деревня Агалатово', 4)"
      ]
     },
     "metadata": {},
     "output_type": "display_data"
    },
    {
     "data": {
      "text/plain": [
       "('посёлок Усть-Луга', 4)"
      ]
     },
     "metadata": {},
     "output_type": "display_data"
    },
    {
     "data": {
      "text/plain": [
       "('посёлок Торфяное', 4)"
      ]
     },
     "metadata": {},
     "output_type": "display_data"
    },
    {
     "data": {
      "text/plain": [
       "('деревня Парицы', 4)"
      ]
     },
     "metadata": {},
     "output_type": "display_data"
    },
    {
     "data": {
      "text/plain": [
       "('посёлок Шушары', 4)"
      ]
     },
     "metadata": {},
     "output_type": "display_data"
    },
    {
     "data": {
      "text/plain": [
       "('посёлок Терволово', 4)"
      ]
     },
     "metadata": {},
     "output_type": "display_data"
    },
    {
     "data": {
      "text/plain": [
       "('деревня Келози', 4)"
      ]
     },
     "metadata": {},
     "output_type": "display_data"
    },
    {
     "data": {
      "text/plain": [
       "('посёлок Перово', 3)"
      ]
     },
     "metadata": {},
     "output_type": "display_data"
    },
    {
     "data": {
      "text/plain": [
       "('поселок Красная Долина', 3)"
      ]
     },
     "metadata": {},
     "output_type": "display_data"
    },
    {
     "data": {
      "text/plain": [
       "('поселок Заводской', 3)"
      ]
     },
     "metadata": {},
     "output_type": "display_data"
    },
    {
     "data": {
      "text/plain": [
       "('село Рождествено', 3)"
      ]
     },
     "metadata": {},
     "output_type": "display_data"
    },
    {
     "data": {
      "text/plain": [
       "('поселок Оредеж', 3)"
      ]
     },
     "metadata": {},
     "output_type": "display_data"
    },
    {
     "data": {
      "text/plain": [
       "('посёлок городского типа Красный Бор', 3)"
      ]
     },
     "metadata": {},
     "output_type": "display_data"
    },
    {
     "data": {
      "text/plain": [
       "('посёлок станции Громово', 3)"
      ]
     },
     "metadata": {},
     "output_type": "display_data"
    },
    {
     "data": {
      "text/plain": [
       "('поселок Мельниково', 3)"
      ]
     },
     "metadata": {},
     "output_type": "display_data"
    },
    {
     "data": {
      "text/plain": [
       "('поселок Зимитицы', 3)"
      ]
     },
     "metadata": {},
     "output_type": "display_data"
    },
    {
     "data": {
      "text/plain": [
       "('поселок Громово', 3)"
      ]
     },
     "metadata": {},
     "output_type": "display_data"
    },
    {
     "data": {
      "text/plain": [
       "('деревня Разметелево', 3)"
      ]
     },
     "metadata": {},
     "output_type": "display_data"
    },
    {
     "data": {
      "text/plain": [
       "('деревня Торошковичи', 3)"
      ]
     },
     "metadata": {},
     "output_type": "display_data"
    },
    {
     "data": {
      "text/plain": [
       "('посёлок Пригородный', 3)"
      ]
     },
     "metadata": {},
     "output_type": "display_data"
    },
    {
     "data": {
      "text/plain": [
       "('поселок городского типа Ефимовский', 3)"
      ]
     },
     "metadata": {},
     "output_type": "display_data"
    },
    {
     "data": {
      "text/plain": [
       "('поселок городского типа Лесогорский', 3)"
      ]
     },
     "metadata": {},
     "output_type": "display_data"
    },
    {
     "data": {
      "text/plain": [
       "('деревня Заклинье', 3)"
      ]
     },
     "metadata": {},
     "output_type": "display_data"
    },
    {
     "data": {
      "text/plain": [
       "('деревня Ваганово', 3)"
      ]
     },
     "metadata": {},
     "output_type": "display_data"
    },
    {
     "data": {
      "text/plain": [
       "('поселок Любань', 3)"
      ]
     },
     "metadata": {},
     "output_type": "display_data"
    },
    {
     "data": {
      "text/plain": [
       "('поселок Глебычево', 3)"
      ]
     },
     "metadata": {},
     "output_type": "display_data"
    },
    {
     "data": {
      "text/plain": [
       "('городской посёлок Виллози', 3)"
      ]
     },
     "metadata": {},
     "output_type": "display_data"
    },
    {
     "data": {
      "text/plain": [
       "('поселок Цвелодубово', 3)"
      ]
     },
     "metadata": {},
     "output_type": "display_data"
    },
    {
     "data": {
      "text/plain": [
       "('деревня Аро', 3)"
      ]
     },
     "metadata": {},
     "output_type": "display_data"
    },
    {
     "data": {
      "text/plain": [
       "('поселок Победа', 3)"
      ]
     },
     "metadata": {},
     "output_type": "display_data"
    },
    {
     "data": {
      "text/plain": [
       "('посёлок Победа', 3)"
      ]
     },
     "metadata": {},
     "output_type": "display_data"
    },
    {
     "data": {
      "text/plain": [
       "('деревня Старосиверская', 3)"
      ]
     },
     "metadata": {},
     "output_type": "display_data"
    },
    {
     "data": {
      "text/plain": [
       "('деревня Старополье', 3)"
      ]
     },
     "metadata": {},
     "output_type": "display_data"
    },
    {
     "data": {
      "text/plain": [
       "('поселок Лукаши', 3)"
      ]
     },
     "metadata": {},
     "output_type": "display_data"
    },
    {
     "data": {
      "text/plain": [
       "('деревня Торосово', 3)"
      ]
     },
     "metadata": {},
     "output_type": "display_data"
    },
    {
     "data": {
      "text/plain": [
       "('поселок Стеклянный', 3)"
      ]
     },
     "metadata": {},
     "output_type": "display_data"
    },
    {
     "data": {
      "text/plain": [
       "('поселок Котельский', 3)"
      ]
     },
     "metadata": {},
     "output_type": "display_data"
    },
    {
     "data": {
      "text/plain": [
       "('поселок Торковичи', 3)"
      ]
     },
     "metadata": {},
     "output_type": "display_data"
    },
    {
     "data": {
      "text/plain": [
       "('посёлок Петровское', 3)"
      ]
     },
     "metadata": {},
     "output_type": "display_data"
    },
    {
     "data": {
      "text/plain": [
       "('поселок городского типа Форносово', 2)"
      ]
     },
     "metadata": {},
     "output_type": "display_data"
    },
    {
     "data": {
      "text/plain": [
       "('поселок Рябово', 2)"
      ]
     },
     "metadata": {},
     "output_type": "display_data"
    },
    {
     "data": {
      "text/plain": [
       "('деревня Выскатка', 2)"
      ]
     },
     "metadata": {},
     "output_type": "display_data"
    },
    {
     "data": {
      "text/plain": [
       "('поселок Ильичёво', 2)"
      ]
     },
     "metadata": {},
     "output_type": "display_data"
    },
    {
     "data": {
      "text/plain": [
       "('поселок Лесное', 2)"
      ]
     },
     "metadata": {},
     "output_type": "display_data"
    },
    {
     "data": {
      "text/plain": [
       "('деревня Ям-Тесово', 2)"
      ]
     },
     "metadata": {},
     "output_type": "display_data"
    },
    {
     "data": {
      "text/plain": [
       "('село Путилово', 2)"
      ]
     },
     "metadata": {},
     "output_type": "display_data"
    },
    {
     "data": {
      "text/plain": [
       "('поселок Починок', 2)"
      ]
     },
     "metadata": {},
     "output_type": "display_data"
    },
    {
     "data": {
      "text/plain": [
       "('посёлок городского типа Вознесенье', 2)"
      ]
     },
     "metadata": {},
     "output_type": "display_data"
    },
    {
     "data": {
      "text/plain": [
       "('поселок Житково', 2)"
      ]
     },
     "metadata": {},
     "output_type": "display_data"
    },
    {
     "data": {
      "text/plain": [
       "('поселок Серебрянский', 2)"
      ]
     },
     "metadata": {},
     "output_type": "display_data"
    },
    {
     "data": {
      "text/plain": [
       "('деревня Старые Бегуницы', 2)"
      ]
     },
     "metadata": {},
     "output_type": "display_data"
    },
    {
     "data": {
      "text/plain": [
       "('село Старая Ладога', 2)"
      ]
     },
     "metadata": {},
     "output_type": "display_data"
    },
    {
     "data": {
      "text/plain": [
       "('деревня Фалилеево', 2)"
      ]
     },
     "metadata": {},
     "output_type": "display_data"
    },
    {
     "data": {
      "text/plain": [
       "('деревня Старая Пустошь', 2)"
      ]
     },
     "metadata": {},
     "output_type": "display_data"
    },
    {
     "data": {
      "text/plain": [
       "('деревня Рабитицы', 2)"
      ]
     },
     "metadata": {},
     "output_type": "display_data"
    },
    {
     "data": {
      "text/plain": [
       "('деревня Бор', 2)"
      ]
     },
     "metadata": {},
     "output_type": "display_data"
    },
    {
     "data": {
      "text/plain": [
       "('поселок городского типа Назия', 2)"
      ]
     },
     "metadata": {},
     "output_type": "display_data"
    },
    {
     "data": {
      "text/plain": [
       "('деревня Коркино', 2)"
      ]
     },
     "metadata": {},
     "output_type": "display_data"
    },
    {
     "data": {
      "text/plain": [
       "('посёлок Жилгородок', 2)"
      ]
     },
     "metadata": {},
     "output_type": "display_data"
    },
    {
     "data": {
      "text/plain": [
       "('посёлок Сапёрное', 2)"
      ]
     },
     "metadata": {},
     "output_type": "display_data"
    },
    {
     "data": {
      "text/plain": [
       "('поселок Кингисеппский', 2)"
      ]
     },
     "metadata": {},
     "output_type": "display_data"
    },
    {
     "data": {
      "text/plain": [
       "('деревня Тарасово', 2)"
      ]
     },
     "metadata": {},
     "output_type": "display_data"
    },
    {
     "data": {
      "text/plain": [
       "('городской посёлок Лесогорский', 2)"
      ]
     },
     "metadata": {},
     "output_type": "display_data"
    },
    {
     "data": {
      "text/plain": [
       "('поселок Старая Малукса', 2)"
      ]
     },
     "metadata": {},
     "output_type": "display_data"
    },
    {
     "data": {
      "text/plain": [
       "('деревня Ненимяки', 2)"
      ]
     },
     "metadata": {},
     "output_type": "display_data"
    },
    {
     "data": {
      "text/plain": [
       "('посёлок Возрождение', 2)"
      ]
     },
     "metadata": {},
     "output_type": "display_data"
    },
    {
     "data": {
      "text/plain": [
       "('поселок Терволово', 2)"
      ]
     },
     "metadata": {},
     "output_type": "display_data"
    },
    {
     "data": {
      "text/plain": [
       "('деревня Глинка', 2)"
      ]
     },
     "metadata": {},
     "output_type": "display_data"
    },
    {
     "data": {
      "text/plain": [
       "('поселок Тельмана', 2)"
      ]
     },
     "metadata": {},
     "output_type": "display_data"
    },
    {
     "data": {
      "text/plain": [
       "('посёлок станции Свирь', 2)"
      ]
     },
     "metadata": {},
     "output_type": "display_data"
    },
    {
     "data": {
      "text/plain": [
       "('поселок Петровское', 2)"
      ]
     },
     "metadata": {},
     "output_type": "display_data"
    },
    {
     "data": {
      "text/plain": [
       "('городской посёлок Советский', 2)"
      ]
     },
     "metadata": {},
     "output_type": "display_data"
    },
    {
     "data": {
      "text/plain": [
       "('село Паша', 2)"
      ]
     },
     "metadata": {},
     "output_type": "display_data"
    },
    {
     "data": {
      "text/plain": [
       "('поселок Совхозный', 2)"
      ]
     },
     "metadata": {},
     "output_type": "display_data"
    },
    {
     "data": {
      "text/plain": [
       "('посёлок городского типа Павлово', 2)"
      ]
     },
     "metadata": {},
     "output_type": "display_data"
    },
    {
     "data": {
      "text/plain": [
       "('посёлок Старая Малукса', 2)"
      ]
     },
     "metadata": {},
     "output_type": "display_data"
    },
    {
     "data": {
      "text/plain": [
       "('посёлок Ленинское', 2)"
      ]
     },
     "metadata": {},
     "output_type": "display_data"
    },
    {
     "data": {
      "text/plain": [
       "('деревня Камышовка', 2)"
      ]
     },
     "metadata": {},
     "output_type": "display_data"
    },
    {
     "data": {
      "text/plain": [
       "('поселок Пушное', 2)"
      ]
     },
     "metadata": {},
     "output_type": "display_data"
    },
    {
     "data": {
      "text/plain": [
       "('поселок Барышево', 2)"
      ]
     },
     "metadata": {},
     "output_type": "display_data"
    },
    {
     "data": {
      "text/plain": [
       "('поселок станции Приветнинское', 2)"
      ]
     },
     "metadata": {},
     "output_type": "display_data"
    },
    {
     "data": {
      "text/plain": [
       "('посёлок Мельниково', 2)"
      ]
     },
     "metadata": {},
     "output_type": "display_data"
    },
    {
     "data": {
      "text/plain": [
       "('деревня Мины', 2)"
      ]
     },
     "metadata": {},
     "output_type": "display_data"
    },
    {
     "data": {
      "text/plain": [
       "('поселок Поляны', 2)"
      ]
     },
     "metadata": {},
     "output_type": "display_data"
    },
    {
     "data": {
      "text/plain": [
       "('деревня Суоранда', 2)"
      ]
     },
     "metadata": {},
     "output_type": "display_data"
    },
    {
     "data": {
      "text/plain": [
       "('поселок Коммунары', 1)"
      ]
     },
     "metadata": {},
     "output_type": "display_data"
    },
    {
     "data": {
      "text/plain": [
       "('село Никольское', 1)"
      ]
     },
     "metadata": {},
     "output_type": "display_data"
    },
    {
     "data": {
      "text/plain": [
       "('деревня Иссад', 1)"
      ]
     },
     "metadata": {},
     "output_type": "display_data"
    },
    {
     "data": {
      "text/plain": [
       "('поселок Почап', 1)"
      ]
     },
     "metadata": {},
     "output_type": "display_data"
    },
    {
     "data": {
      "text/plain": [
       "('городской посёлок Свирьстрой', 1)"
      ]
     },
     "metadata": {},
     "output_type": "display_data"
    },
    {
     "data": {
      "text/plain": [
       "('посёлок Ропша', 1)"
      ]
     },
     "metadata": {},
     "output_type": "display_data"
    },
    {
     "data": {
      "text/plain": [
       "('деревня Русско', 1)"
      ]
     },
     "metadata": {},
     "output_type": "display_data"
    },
    {
     "data": {
      "text/plain": [
       "('посёлок Шугозеро', 1)"
      ]
     },
     "metadata": {},
     "output_type": "display_data"
    },
    {
     "data": {
      "text/plain": [
       "('деревня Сижно', 1)"
      ]
     },
     "metadata": {},
     "output_type": "display_data"
    },
    {
     "data": {
      "text/plain": [
       "('деревня Курковицы', 1)"
      ]
     },
     "metadata": {},
     "output_type": "display_data"
    },
    {
     "data": {
      "text/plain": [
       "('деревня Зимитицы', 1)"
      ]
     },
     "metadata": {},
     "output_type": "display_data"
    },
    {
     "data": {
      "text/plain": [
       "('посёлок городского типа Рябово', 1)"
      ]
     },
     "metadata": {},
     "output_type": "display_data"
    },
    {
     "data": {
      "text/plain": [
       "('посёлок Высокоключевой', 1)"
      ]
     },
     "metadata": {},
     "output_type": "display_data"
    },
    {
     "data": {
      "text/plain": [
       "('поселок городского типа Рябово', 1)"
      ]
     },
     "metadata": {},
     "output_type": "display_data"
    },
    {
     "data": {
      "text/plain": [
       "('деревня Мануйлово', 1)"
      ]
     },
     "metadata": {},
     "output_type": "display_data"
    },
    {
     "data": {
      "text/plain": [
       "('поселок Возрождение', 1)"
      ]
     },
     "metadata": {},
     "output_type": "display_data"
    },
    {
     "data": {
      "text/plain": [
       "('деревня Тихковицы', 1)"
      ]
     },
     "metadata": {},
     "output_type": "display_data"
    },
    {
     "data": {
      "text/plain": [
       "('Пушкин', 1)"
      ]
     },
     "metadata": {},
     "output_type": "display_data"
    },
    {
     "data": {
      "text/plain": [
       "('деревня Лаврики', 1)"
      ]
     },
     "metadata": {},
     "output_type": "display_data"
    },
    {
     "data": {
      "text/plain": [
       "('деревня Щеглово', 1)"
      ]
     },
     "metadata": {},
     "output_type": "display_data"
    },
    {
     "data": {
      "text/plain": [
       "('поселок Усть-Луга', 1)"
      ]
     },
     "metadata": {},
     "output_type": "display_data"
    },
    {
     "data": {
      "text/plain": [
       "('деревня Хязельки', 1)"
      ]
     },
     "metadata": {},
     "output_type": "display_data"
    },
    {
     "data": {
      "text/plain": [
       "('поселок Перово', 1)"
      ]
     },
     "metadata": {},
     "output_type": "display_data"
    },
    {
     "data": {
      "text/plain": [
       "('поселок Пчевжа', 1)"
      ]
     },
     "metadata": {},
     "output_type": "display_data"
    },
    {
     "data": {
      "text/plain": [
       "('деревня Тойворово', 1)"
      ]
     },
     "metadata": {},
     "output_type": "display_data"
    },
    {
     "data": {
      "text/plain": [
       "('поселок Красносельское', 1)"
      ]
     },
     "metadata": {},
     "output_type": "display_data"
    },
    {
     "data": {
      "text/plain": [
       "('деревня Борисова Грива', 1)"
      ]
     },
     "metadata": {},
     "output_type": "display_data"
    },
    {
     "data": {
      "text/plain": [
       "('коттеджный поселок Кивеннапа Север', 1)"
      ]
     },
     "metadata": {},
     "output_type": "display_data"
    },
    {
     "data": {
      "text/plain": [
       "('поселок Гладкое', 1)"
      ]
     },
     "metadata": {},
     "output_type": "display_data"
    },
    {
     "data": {
      "text/plain": [
       "('поселок Володарское', 1)"
      ]
     },
     "metadata": {},
     "output_type": "display_data"
    },
    {
     "data": {
      "text/plain": [
       "('поселок Жилпосёлок', 1)"
      ]
     },
     "metadata": {},
     "output_type": "display_data"
    },
    {
     "data": {
      "text/plain": [
       "('посёлок Пансионат Зелёный Бор', 1)"
      ]
     },
     "metadata": {},
     "output_type": "display_data"
    },
    {
     "data": {
      "text/plain": [
       "('деревня Раздолье', 1)"
      ]
     },
     "metadata": {},
     "output_type": "display_data"
    },
    {
     "data": {
      "text/plain": [
       "('коттеджный посёлок Лесное', 1)"
      ]
     },
     "metadata": {},
     "output_type": "display_data"
    },
    {
     "data": {
      "text/plain": [
       "('посёлок Плоское', 1)"
      ]
     },
     "metadata": {},
     "output_type": "display_data"
    },
    {
     "data": {
      "text/plain": [
       "('деревня Терпилицы', 1)"
      ]
     },
     "metadata": {},
     "output_type": "display_data"
    },
    {
     "data": {
      "text/plain": [
       "('деревня Пикколово', 1)"
      ]
     },
     "metadata": {},
     "output_type": "display_data"
    },
    {
     "data": {
      "text/plain": [
       "('деревня Куровицы', 1)"
      ]
     },
     "metadata": {},
     "output_type": "display_data"
    },
    {
     "data": {
      "text/plain": [
       "('деревня Котлы', 1)"
      ]
     },
     "metadata": {},
     "output_type": "display_data"
    },
    {
     "data": {
      "text/plain": [
       "('поселок Гончарово', 1)"
      ]
     },
     "metadata": {},
     "output_type": "display_data"
    },
    {
     "data": {
      "text/plain": [
       "('посёлок Дзержинского', 1)"
      ]
     },
     "metadata": {},
     "output_type": "display_data"
    },
    {
     "data": {
      "text/plain": [
       "('деревня Кривко', 1)"
      ]
     },
     "metadata": {},
     "output_type": "display_data"
    },
    {
     "data": {
      "text/plain": [
       "('поселок Севастьяново', 1)"
      ]
     },
     "metadata": {},
     "output_type": "display_data"
    },
    {
     "data": {
      "text/plain": [
       "('Ломоносов', 1)"
      ]
     },
     "metadata": {},
     "output_type": "display_data"
    },
    {
     "data": {
      "text/plain": [
       "('деревня Старое Хинколово', 1)"
      ]
     },
     "metadata": {},
     "output_type": "display_data"
    },
    {
     "data": {
      "text/plain": [
       "('деревня Нижняя', 1)"
      ]
     },
     "metadata": {},
     "output_type": "display_data"
    },
    {
     "data": {
      "text/plain": [
       "('деревня Вахнова Кара', 1)"
      ]
     },
     "metadata": {},
     "output_type": "display_data"
    },
    {
     "data": {
      "text/plain": [
       "('деревня Ялгино', 1)"
      ]
     },
     "metadata": {},
     "output_type": "display_data"
    },
    {
     "data": {
      "text/plain": [
       "('посёлок Коробицыно', 1)"
      ]
     },
     "metadata": {},
     "output_type": "display_data"
    },
    {
     "data": {
      "text/plain": [
       "('деревня Лупполово', 1)"
      ]
     },
     "metadata": {},
     "output_type": "display_data"
    },
    {
     "data": {
      "text/plain": [
       "('поселок Кирпичное', 1)"
      ]
     },
     "metadata": {},
     "output_type": "display_data"
    },
    {
     "data": {
      "text/plain": [
       "('деревня Каськово', 1)"
      ]
     },
     "metadata": {},
     "output_type": "display_data"
    },
    {
     "data": {
      "text/plain": [
       "('Красное Село', 1)"
      ]
     },
     "metadata": {},
     "output_type": "display_data"
    },
    {
     "data": {
      "text/plain": [
       "('село Шум', 1)"
      ]
     },
     "metadata": {},
     "output_type": "display_data"
    },
    {
     "data": {
      "text/plain": [
       "('поселок Сумино', 1)"
      ]
     },
     "metadata": {},
     "output_type": "display_data"
    },
    {
     "data": {
      "text/plain": [
       "('деревня Чудской Бор', 1)"
      ]
     },
     "metadata": {},
     "output_type": "display_data"
    },
    {
     "data": {
      "text/plain": [
       "('Кронштадт', 1)"
      ]
     },
     "metadata": {},
     "output_type": "display_data"
    },
    {
     "data": {
      "text/plain": [
       "('деревня Рапполово', 1)"
      ]
     },
     "metadata": {},
     "output_type": "display_data"
    },
    {
     "data": {
      "text/plain": [
       "('деревня Нижние Осельки', 1)"
      ]
     },
     "metadata": {},
     "output_type": "display_data"
    },
    {
     "data": {
      "text/plain": [
       "('деревня Новолисино', 1)"
      ]
     },
     "metadata": {},
     "output_type": "display_data"
    },
    {
     "data": {
      "text/plain": [
       "('деревня Пчева', 1)"
      ]
     },
     "metadata": {},
     "output_type": "display_data"
    },
    {
     "data": {
      "text/plain": [
       "('поселок Ромашки', 1)"
      ]
     },
     "metadata": {},
     "output_type": "display_data"
    },
    {
     "data": {
      "text/plain": [
       "('деревня Снегирёвка', 1)"
      ]
     },
     "metadata": {},
     "output_type": "display_data"
    },
    {
     "data": {
      "text/plain": [
       "('садовое товарищество Новая Ропша', 1)"
      ]
     },
     "metadata": {},
     "output_type": "display_data"
    },
    {
     "data": {
      "text/plain": [
       "('поселок Каложицы', 1)"
      ]
     },
     "metadata": {},
     "output_type": "display_data"
    },
    {
     "data": {
      "text/plain": [
       "('поселок Рабитицы', 1)"
      ]
     },
     "metadata": {},
     "output_type": "display_data"
    },
    {
     "data": {
      "text/plain": [
       "('садоводческое некоммерческое товарищество Лесная Поляна', 1)"
      ]
     },
     "metadata": {},
     "output_type": "display_data"
    },
    {
     "data": {
      "text/plain": [
       "('поселок Жилгородок', 1)"
      ]
     },
     "metadata": {},
     "output_type": "display_data"
    },
    {
     "data": {
      "text/plain": [
       "('деревня Шпаньково', 1)"
      ]
     },
     "metadata": {},
     "output_type": "display_data"
    },
    {
     "data": {
      "text/plain": [
       "('коттеджный поселок Счастье', 1)"
      ]
     },
     "metadata": {},
     "output_type": "display_data"
    },
    {
     "data": {
      "text/plain": [
       "('поселок Цвылёво', 1)"
      ]
     },
     "metadata": {},
     "output_type": "display_data"
    },
    {
     "data": {
      "text/plain": [
       "('садовое товарищество Приладожский', 1)"
      ]
     },
     "metadata": {},
     "output_type": "display_data"
    },
    {
     "data": {
      "text/plain": [
       "('посёлок при железнодорожной станции Приветнинское', 1)"
      ]
     },
     "metadata": {},
     "output_type": "display_data"
    },
    {
     "data": {
      "text/plain": [
       "('поселок станции Корнево', 1)"
      ]
     },
     "metadata": {},
     "output_type": "display_data"
    },
    {
     "data": {
      "text/plain": [
       "('деревня Меньково', 1)"
      ]
     },
     "metadata": {},
     "output_type": "display_data"
    },
    {
     "data": {
      "text/plain": [
       "('поселок городского типа Большая Ижора', 1)"
      ]
     },
     "metadata": {},
     "output_type": "display_data"
    },
    {
     "data": {
      "text/plain": [
       "('деревня Пижма', 1)"
      ]
     },
     "metadata": {},
     "output_type": "display_data"
    },
    {
     "data": {
      "text/plain": [
       "('поселок Дружноселье', 1)"
      ]
     },
     "metadata": {},
     "output_type": "display_data"
    },
    {
     "data": {
      "text/plain": [
       "('садовое товарищество Рахья', 1)"
      ]
     },
     "metadata": {},
     "output_type": "display_data"
    },
    {
     "data": {
      "text/plain": [
       "('поселок Семиозерье', 1)"
      ]
     },
     "metadata": {},
     "output_type": "display_data"
    },
    {
     "data": {
      "text/plain": [
       "('посёлок Алексеевка', 1)"
      ]
     },
     "metadata": {},
     "output_type": "display_data"
    },
    {
     "data": {
      "text/plain": [
       "('Колпино', 1)"
      ]
     },
     "metadata": {},
     "output_type": "display_data"
    },
    {
     "data": {
      "text/plain": [
       "('деревня Трубников Бор', 1)"
      ]
     },
     "metadata": {},
     "output_type": "display_data"
    },
    {
     "data": {
      "text/plain": [
       "('поселок Коробицыно', 1)"
      ]
     },
     "metadata": {},
     "output_type": "display_data"
    },
    {
     "data": {
      "text/plain": [
       "('поселок городского типа Кондратьево', 1)"
      ]
     },
     "metadata": {},
     "output_type": "display_data"
    },
    {
     "data": {
      "text/plain": [
       "('посёлок при железнодорожной станции Вещево', 1)"
      ]
     },
     "metadata": {},
     "output_type": "display_data"
    },
    {
     "data": {
      "text/plain": [
       "('деревня Пельгора', 1)"
      ]
     },
     "metadata": {},
     "output_type": "display_data"
    },
    {
     "data": {
      "text/plain": [
       "('посёлок Мыза-Ивановка', 1)"
      ]
     },
     "metadata": {},
     "output_type": "display_data"
    },
    {
     "data": {
      "text/plain": [
       "('посёлок Платформа 69-й километр', 1)"
      ]
     },
     "metadata": {},
     "output_type": "display_data"
    },
    {
     "data": {
      "text/plain": [
       "('деревня Большая Пустомержа', 1)"
      ]
     },
     "metadata": {},
     "output_type": "display_data"
    },
    {
     "data": {
      "text/plain": [
       "('поселок Тёсово-4', 1)"
      ]
     },
     "metadata": {},
     "output_type": "display_data"
    },
    {
     "data": {
      "text/plain": [
       "('посёлок Форт Красная Горка', 1)"
      ]
     },
     "metadata": {},
     "output_type": "display_data"
    },
    {
     "data": {
      "text/plain": [
       "('деревня Большое Рейзино', 1)"
      ]
     },
     "metadata": {},
     "output_type": "display_data"
    },
    {
     "data": {
      "text/plain": [
       "('деревня Малая Романовка', 1)"
      ]
     },
     "metadata": {},
     "output_type": "display_data"
    },
    {
     "data": {
      "text/plain": [
       "('поселок Гаврилово', 1)"
      ]
     },
     "metadata": {},
     "output_type": "display_data"
    },
    {
     "data": {
      "text/plain": [
       "('деревня Пустынка', 1)"
      ]
     },
     "metadata": {},
     "output_type": "display_data"
    },
    {
     "data": {
      "text/plain": [
       "('посёлок Сумино', 1)"
      ]
     },
     "metadata": {},
     "output_type": "display_data"
    },
    {
     "data": {
      "text/plain": [
       "('садовое товарищество Садко', 1)"
      ]
     },
     "metadata": {},
     "output_type": "display_data"
    },
    {
     "data": {
      "text/plain": [
       "('поселок Калитино', 1)"
      ]
     },
     "metadata": {},
     "output_type": "display_data"
    },
    {
     "data": {
      "text/plain": [
       "('поселок Пансионат Зелёный Бор', 1)"
      ]
     },
     "metadata": {},
     "output_type": "display_data"
    },
    {
     "data": {
      "text/plain": [
       "('деревня Кисельня', 1)"
      ]
     },
     "metadata": {},
     "output_type": "display_data"
    },
    {
     "data": {
      "text/plain": [
       "('поселок станции Лужайка', 1)"
      ]
     },
     "metadata": {},
     "output_type": "display_data"
    },
    {
     "data": {
      "text/plain": [
       "('деревня Реброво', 1)"
      ]
     },
     "metadata": {},
     "output_type": "display_data"
    },
    {
     "data": {
      "text/plain": [
       "('деревня Хапо-Ое', 1)"
      ]
     },
     "metadata": {},
     "output_type": "display_data"
    },
    {
     "data": {
      "text/plain": [
       "('деревня Большой Сабск', 1)"
      ]
     },
     "metadata": {},
     "output_type": "display_data"
    }
   ],
   "source": [
    "null_city_center = data[data['cityCenters_nearest'].isnull()]\n",
    "for i in dict(null_city_center['locality_name'].value_counts()).items():\n",
    "    display (i)  #('Санкт-Петербург', 60)"
   ]
  },
  {
   "cell_type": "markdown",
   "metadata": {},
   "source": [
    "    Аналогично расстоянию до аэропортов, 60 обявлений из Санкт-Петербугра.Оставляю как есть"
   ]
  },
  {
   "cell_type": "code",
   "execution_count": 20,
   "metadata": {
    "scrolled": false
   },
   "outputs": [
    {
     "data": {
      "text/plain": [
       "1     7462\n",
       "2     7407\n",
       "3     5513\n",
       "4     1142\n",
       "5      321\n",
       "0      197\n",
       "6      104\n",
       "7       58\n",
       "8       12\n",
       "9        8\n",
       "10       3\n",
       "14       2\n",
       "11       2\n",
       "19       1\n",
       "12       1\n",
       "16       1\n",
       "15       1\n",
       "Name: rooms, dtype: int64"
      ]
     },
     "metadata": {},
     "output_type": "display_data"
    }
   ],
   "source": [
    "display(data['rooms'].value_counts())"
   ]
  },
  {
   "cell_type": "markdown",
   "metadata": {},
   "source": [
    "192 квартиры с 0 комнат"
   ]
  },
  {
   "cell_type": "code",
   "execution_count": 21,
   "metadata": {},
   "outputs": [
    {
     "data": {
      "text/html": [
       "<div>\n",
       "<style scoped>\n",
       "    .dataframe tbody tr th:only-of-type {\n",
       "        vertical-align: middle;\n",
       "    }\n",
       "\n",
       "    .dataframe tbody tr th {\n",
       "        vertical-align: top;\n",
       "    }\n",
       "\n",
       "    .dataframe thead th {\n",
       "        text-align: right;\n",
       "    }\n",
       "</style>\n",
       "<table border=\"1\" class=\"dataframe\">\n",
       "  <thead>\n",
       "    <tr style=\"text-align: right;\">\n",
       "      <th></th>\n",
       "      <th>total_images</th>\n",
       "      <th>last_price</th>\n",
       "      <th>total_area</th>\n",
       "      <th>first_day_exposition</th>\n",
       "      <th>rooms</th>\n",
       "      <th>ceiling_height</th>\n",
       "      <th>floors_total</th>\n",
       "      <th>living_area</th>\n",
       "      <th>floor</th>\n",
       "      <th>is_apartment</th>\n",
       "      <th>...</th>\n",
       "      <th>balcony</th>\n",
       "      <th>locality_name</th>\n",
       "      <th>airports_nearest</th>\n",
       "      <th>cityCenters_nearest</th>\n",
       "      <th>parks_around3000</th>\n",
       "      <th>parks_nearest</th>\n",
       "      <th>ponds_around3000</th>\n",
       "      <th>ponds_nearest</th>\n",
       "      <th>days_exposition</th>\n",
       "      <th>city_center_km</th>\n",
       "    </tr>\n",
       "  </thead>\n",
       "  <tbody>\n",
       "  </tbody>\n",
       "</table>\n",
       "<p>0 rows × 23 columns</p>\n",
       "</div>"
      ],
      "text/plain": [
       "Empty DataFrame\n",
       "Columns: [total_images, last_price, total_area, first_day_exposition, rooms, ceiling_height, floors_total, living_area, floor, is_apartment, studio, open_plan, kitchen_area, balcony, locality_name, airports_nearest, cityCenters_nearest, parks_around3000, parks_nearest, ponds_around3000, ponds_nearest, days_exposition, city_center_km]\n",
       "Index: []\n",
       "\n",
       "[0 rows x 23 columns]"
      ]
     },
     "metadata": {},
     "output_type": "display_data"
    }
   ],
   "source": [
    "rooms_count = data.query('rooms == 0 and studio == False and open_plan == False')\n",
    "display(rooms_count)"
   ]
  },
  {
   "cell_type": "markdown",
   "metadata": {},
   "source": [
    "    Пустой series, значит есть только 0-комнатные студий или открытой планировки\n",
    "    вывод: 0 комнат, этот или студия, или открытая планировка"
   ]
  },
  {
   "cell_type": "code",
   "execution_count": 22,
   "metadata": {
    "scrolled": true
   },
   "outputs": [],
   "source": [
    "data.loc[data['rooms'] == 0, 'rooms'] = 1# 0 комнат, студия или открытая планировака, == 1"
   ]
  },
  {
   "cell_type": "markdown",
   "metadata": {},
   "source": [
    "    Меняю на 0 на 1"
   ]
  },
  {
   "cell_type": "code",
   "execution_count": 23,
   "metadata": {},
   "outputs": [],
   "source": [
    "data['is_apartment'] = data['is_apartment'].replace({np.nan: False})"
   ]
  },
  {
   "cell_type": "markdown",
   "metadata": {},
   "source": [
    "    Пропуски в 'is_apartment' считаю False, т.к. если в обявлении апартаменты, то это указывают, NaN говорит, что, скорее всего, в обявлении не апартаменты.\n",
    "    Пропуски в 'days_exposition' говорят, чтоб объявление на момент сбора данных не закрыто, и невозможно указать сколько дней оно было размещено (от публикации до снятия).\n",
    "    Пропуски в 'parks_nearest' и 'ponds_nearest' уазывают на то, что нет возможности указать расстояние до парка или пруда, если их нет в радиусе 3км"
   ]
  },
  {
   "cell_type": "code",
   "execution_count": 24,
   "metadata": {
    "scrolled": true
   },
   "outputs": [
    {
     "name": "stdout",
     "output_type": "stream",
     "text": [
      "<class 'pandas.core.frame.DataFrame'>\n",
      "Int64Index: 22235 entries, 0 to 23698\n",
      "Data columns (total 23 columns):\n",
      "total_images            22235 non-null int64\n",
      "last_price              22235 non-null int64\n",
      "total_area              22235 non-null float64\n",
      "first_day_exposition    22235 non-null datetime64[ns]\n",
      "rooms                   22235 non-null int64\n",
      "ceiling_height          22115 non-null float64\n",
      "floors_total            22153 non-null Int64\n",
      "living_area             20793 non-null float64\n",
      "floor                   22235 non-null int64\n",
      "is_apartment            22235 non-null bool\n",
      "studio                  22235 non-null bool\n",
      "open_plan               22235 non-null bool\n",
      "kitchen_area            20425 non-null float64\n",
      "balcony                 22235 non-null int64\n",
      "locality_name           22235 non-null object\n",
      "airports_nearest        16816 non-null float64\n",
      "cityCenters_nearest     16839 non-null float64\n",
      "parks_around3000        22235 non-null int64\n",
      "parks_nearest           7446 non-null float64\n",
      "ponds_around3000        22235 non-null int64\n",
      "ponds_nearest           8488 non-null float64\n",
      "days_exposition         19195 non-null float64\n",
      "city_center_km          16839 non-null object\n",
      "dtypes: Int64(1), bool(3), datetime64[ns](1), float64(9), int64(7), object(2)\n",
      "memory usage: 3.6+ MB\n"
     ]
    }
   ],
   "source": [
    "data.info()"
   ]
  },
  {
   "cell_type": "code",
   "execution_count": 25,
   "metadata": {},
   "outputs": [
    {
     "data": {
      "text/plain": [
       "total_images                0\n",
       "last_price                  0\n",
       "total_area                  0\n",
       "first_day_exposition        0\n",
       "rooms                       0\n",
       "ceiling_height            120\n",
       "floors_total               82\n",
       "living_area              1442\n",
       "floor                       0\n",
       "is_apartment                0\n",
       "studio                      0\n",
       "open_plan                   0\n",
       "kitchen_area             1810\n",
       "balcony                     0\n",
       "locality_name               0\n",
       "airports_nearest         5419\n",
       "cityCenters_nearest      5396\n",
       "parks_around3000            0\n",
       "parks_nearest           14789\n",
       "ponds_around3000            0\n",
       "ponds_nearest           13747\n",
       "days_exposition          3040\n",
       "city_center_km           5396\n",
       "dtype: int64"
      ]
     },
     "metadata": {},
     "output_type": "display_data"
    }
   ],
   "source": [
    "display(data.isna().sum())"
   ]
  },
  {
   "cell_type": "code",
   "execution_count": 26,
   "metadata": {},
   "outputs": [
    {
     "data": {
      "text/plain": [
       "total_images             0.00\n",
       "last_price               0.00\n",
       "total_area               0.00\n",
       "first_day_exposition     0.00\n",
       "rooms                    0.00\n",
       "ceiling_height           0.54\n",
       "floors_total             0.37\n",
       "living_area              6.49\n",
       "floor                    0.00\n",
       "is_apartment             0.00\n",
       "studio                   0.00\n",
       "open_plan                0.00\n",
       "kitchen_area             8.14\n",
       "balcony                  0.00\n",
       "locality_name            0.00\n",
       "airports_nearest        24.37\n",
       "cityCenters_nearest     24.27\n",
       "parks_around3000         0.00\n",
       "parks_nearest           66.51\n",
       "ponds_around3000         0.00\n",
       "ponds_nearest           61.83\n",
       "days_exposition         13.67\n",
       "city_center_km          24.27\n",
       "dtype: float64"
      ]
     },
     "metadata": {},
     "output_type": "display_data"
    }
   ],
   "source": [
    "display((100 * data.isna().sum() / len(data)).round(2))"
   ]
  },
  {
   "cell_type": "markdown",
   "metadata": {},
   "source": [
    "## Расчёты и добавление результатов в таблицу"
   ]
  },
  {
   "cell_type": "code",
   "execution_count": 27,
   "metadata": {},
   "outputs": [],
   "source": [
    "def square_price(df):\n",
    "    square_price =  df['last_price'] / df['total_area']\n",
    "    return int(square_price)                                #цену в int"
   ]
  },
  {
   "cell_type": "code",
   "execution_count": 28,
   "metadata": {},
   "outputs": [],
   "source": [
    "data['square_price'] = data.apply(square_price, axis=1) #цена за кв.метр"
   ]
  },
  {
   "cell_type": "markdown",
   "metadata": {},
   "source": [
    "    Добавил столбец со ценой на кв.м"
   ]
  },
  {
   "cell_type": "code",
   "execution_count": 29,
   "metadata": {},
   "outputs": [],
   "source": [
    "data['week'] = data['first_day_exposition'].dt.day_name()\n",
    "data['year'] = data['first_day_exposition'].dt.year\n",
    "data['month'] = data['first_day_exposition'].dt.month"
   ]
  },
  {
   "cell_type": "markdown",
   "metadata": {},
   "source": [
    "    Добавил столбцы с годом, месяцем и днём недели"
   ]
  },
  {
   "cell_type": "code",
   "execution_count": 30,
   "metadata": {},
   "outputs": [],
   "source": [
    "def floor_info(df):                      #категория этажей\n",
    "    if df['floor'] == df['floors_total']:\n",
    "        return 'последний'\n",
    "    elif df['floor'] == 1:\n",
    "        return 'первый'\n",
    "    else:\n",
    "        return 'другой'\n"
   ]
  },
  {
   "cell_type": "code",
   "execution_count": 31,
   "metadata": {},
   "outputs": [],
   "source": [
    "data['floor_info'] = data.apply(floor_info, axis=1)"
   ]
  },
  {
   "cell_type": "markdown",
   "metadata": {},
   "source": [
    "    Добавил стобец категории этажей"
   ]
  },
  {
   "cell_type": "code",
   "execution_count": 32,
   "metadata": {},
   "outputs": [],
   "source": [
    "def dif_kitchen(df):                    #площадь кухни 9% пропуков, общая есть\n",
    "    try:\n",
    "        diff = df['kitchen_area'] / df['total_area']\n",
    "        return diff\n",
    "    except:\n",
    "        return 'каких-то данных нет'"
   ]
  },
  {
   "cell_type": "code",
   "execution_count": 33,
   "metadata": {},
   "outputs": [],
   "source": [
    "data['kitchen_area_ratio'] = dif_kitchen(data)  #"
   ]
  },
  {
   "cell_type": "markdown",
   "metadata": {},
   "source": [
    "    Добавил соотношение площади кухни к общей.\n",
    "    В таблице отсутствуют данные о 9% площади кухни, но во всех есть данные об общей площади.\n",
    "    Поэтому решил оставить часть пропусков, т.к. заполнить их адекватно врядли получится    "
   ]
  },
  {
   "cell_type": "code",
   "execution_count": 34,
   "metadata": {},
   "outputs": [],
   "source": [
    "def dif_living(df):                     #жилая площать 7% пропусков, есть общая\n",
    "    try:\n",
    "        diff = df['living_area'] / df['total_area']\n",
    "        return diff\n",
    "    except:\n",
    "        return 'каких-то данных нет'"
   ]
  },
  {
   "cell_type": "code",
   "execution_count": 35,
   "metadata": {},
   "outputs": [],
   "source": [
    "data['living_area_ratio'] = dif_living(data)    #кухни и жилой, сумма больше общей"
   ]
  },
  {
   "cell_type": "markdown",
   "metadata": {},
   "source": [
    "    Добавил соотношение жилой площади к общей.\n",
    "    Аналогично с соотношением площади кухни\n",
    "    В данных о площадях есть несоответствия, когда сумма площади кухни и жилой больше общей площади квартиры.\n",
    "    Поэтому существующие данные о площади кухни и жилой площади, рекомендую считать некорректными.\n",
    "    Желательно добавить проверку при заполнении объявления: Sобщая >= Sжилая + Sкухни"
   ]
  },
  {
   "cell_type": "markdown",
   "metadata": {},
   "source": [
    "## Исследовательский анализ данных"
   ]
  },
  {
   "cell_type": "markdown",
   "metadata": {},
   "source": [
    "### Цена"
   ]
  },
  {
   "cell_type": "code",
   "execution_count": 36,
   "metadata": {},
   "outputs": [
    {
     "data": {
      "image/png": "[encoded data removed]",
      "text/plain": [
       "<Figure size 432x288 with 1 Axes>"
      ]
     },
     "metadata": {
      "needs_background": "light"
     },
     "output_type": "display_data"
    }
   ],
   "source": [
    "data['last_price'].hist(bins = 1000)\n",
    "plt.show()"
   ]
  },
  {
   "cell_type": "markdown",
   "metadata": {},
   "source": [
    "    График не является наглядным, цены почти от 0 до 800млн."
   ]
  },
  {
   "cell_type": "code",
   "execution_count": 37,
   "metadata": {
    "scrolled": false
   },
   "outputs": [
    {
     "data": {
      "text/plain": [
       "count        22235\n",
       "mean       6599294\n",
       "std       11071491\n",
       "min          12190\n",
       "25%        3400000\n",
       "50%        4700000\n",
       "75%        6899000\n",
       "max      763000000\n",
       "Name: last_price, dtype: int64"
      ]
     },
     "metadata": {},
     "output_type": "display_data"
    }
   ],
   "source": [
    "display(data['last_price'].describe().astype(int))#50% - median"
   ]
  },
  {
   "cell_type": "markdown",
   "metadata": {},
   "source": [
    "    Отмечаю разницу между средним и медианой"
   ]
  },
  {
   "cell_type": "code",
   "execution_count": 38,
   "metadata": {},
   "outputs": [
    {
     "data": {
      "image/png": "[encoded data removed]",
      "text/plain": [
       "<Figure size 432x288 with 1 Axes>"
      ]
     },
     "metadata": {
      "needs_background": "light"
     },
     "output_type": "display_data"
    }
   ],
   "source": [
    "plt.ylim(0, 15000000)\n",
    "data.boxplot(column='last_price')# первый квартиль от нуля-проверить, и max проверить\n",
    "plt.show()"
   ]
  },
  {
   "cell_type": "markdown",
   "metadata": {},
   "source": [
    "    Судя по диаграмме разброса - максимум чуть меньше 12 млн."
   ]
  },
  {
   "cell_type": "code",
   "execution_count": 39,
   "metadata": {},
   "outputs": [],
   "source": [
    "def price_cat(df):\n",
    "    if df < 1000000:\n",
    "        return 'до миллиона'\n",
    "    elif 1000000 <= df < 5000000:\n",
    "        return 'от 1 до 5 млн'\n",
    "    elif 5000000 <= df < 10000000:\n",
    "        return 'от 5 до 10 млн'\n",
    "    elif 10000000 <= df < 20000000:\n",
    "        return 'от 10 до 20'\n",
    "    elif 20000000 <= df < 100000000:\n",
    "        return 'от 20 до 100'\n",
    "    elif 100000000 <= df < 300000000:\n",
    "        return 'от 100 до 300'\n",
    "    else:\n",
    "        return 'более 300'"
   ]
  },
  {
   "cell_type": "markdown",
   "metadata": {},
   "source": [
    "    Дополнительные категории"
   ]
  },
  {
   "cell_type": "code",
   "execution_count": 40,
   "metadata": {},
   "outputs": [],
   "source": [
    "data['price_category'] = data['last_price'].apply(price_cat)"
   ]
  },
  {
   "cell_type": "code",
   "execution_count": 41,
   "metadata": {},
   "outputs": [
    {
     "data": {
      "text/html": [
       "<div>\n",
       "<style scoped>\n",
       "    .dataframe tbody tr th:only-of-type {\n",
       "        vertical-align: middle;\n",
       "    }\n",
       "\n",
       "    .dataframe tbody tr th {\n",
       "        vertical-align: top;\n",
       "    }\n",
       "\n",
       "    .dataframe thead tr th {\n",
       "        text-align: left;\n",
       "    }\n",
       "\n",
       "    .dataframe thead tr:last-of-type th {\n",
       "        text-align: right;\n",
       "    }\n",
       "</style>\n",
       "<table border=\"1\" class=\"dataframe\">\n",
       "  <thead>\n",
       "    <tr>\n",
       "      <th></th>\n",
       "      <th>median</th>\n",
       "      <th>count</th>\n",
       "    </tr>\n",
       "    <tr>\n",
       "      <th></th>\n",
       "      <th>last_price</th>\n",
       "      <th>last_price</th>\n",
       "    </tr>\n",
       "    <tr>\n",
       "      <th>price_category</th>\n",
       "      <th></th>\n",
       "      <th></th>\n",
       "    </tr>\n",
       "  </thead>\n",
       "  <tbody>\n",
       "    <tr>\n",
       "      <td>более 300</td>\n",
       "      <td>401300000</td>\n",
       "      <td>5</td>\n",
       "    </tr>\n",
       "    <tr>\n",
       "      <td>до миллиона</td>\n",
       "      <td>790000</td>\n",
       "      <td>215</td>\n",
       "    </tr>\n",
       "    <tr>\n",
       "      <td>от 1 до 5 млн</td>\n",
       "      <td>3580000</td>\n",
       "      <td>12010</td>\n",
       "    </tr>\n",
       "    <tr>\n",
       "      <td>от 10 до 20</td>\n",
       "      <td>12765000</td>\n",
       "      <td>1996</td>\n",
       "    </tr>\n",
       "    <tr>\n",
       "      <td>от 100 до 300</td>\n",
       "      <td>135000000</td>\n",
       "      <td>30</td>\n",
       "    </tr>\n",
       "    <tr>\n",
       "      <td>от 20 до 100</td>\n",
       "      <td>27966800</td>\n",
       "      <td>646</td>\n",
       "    </tr>\n",
       "    <tr>\n",
       "      <td>от 5 до 10 млн</td>\n",
       "      <td>6450000</td>\n",
       "      <td>7333</td>\n",
       "    </tr>\n",
       "  </tbody>\n",
       "</table>\n",
       "</div>"
      ],
      "text/plain": [
       "                   median      count\n",
       "               last_price last_price\n",
       "price_category                      \n",
       "более 300       401300000          5\n",
       "до миллиона        790000        215\n",
       "от 1 до 5 млн     3580000      12010\n",
       "от 10 до 20      12765000       1996\n",
       "от 100 до 300   135000000         30\n",
       "от 20 до 100     27966800        646\n",
       "от 5 до 10 млн    6450000       7333"
      ]
     },
     "metadata": {},
     "output_type": "display_data"
    }
   ],
   "source": [
    "depend_room_price = data.pivot_table(index='price_category', \n",
    "                                     values='last_price', \n",
    "                                     aggfunc=['median', 'count']\n",
    "                                    )        \n",
    "display(depend_room_price)# 1 12комнатная кв. зв 420млн\n"
   ]
  },
  {
   "cell_type": "code",
   "execution_count": 42,
   "metadata": {},
   "outputs": [],
   "source": [
    "good_data = data.query('100000 < last_price < 20000000') #разница ср и мед 1млн, убрал 3%, 713 обявлений"
   ]
  },
  {
   "cell_type": "markdown",
   "metadata": {},
   "source": [
    "    Убрал слишком низкие и слишком высокие цены, создал новый df с которым буду работать"
   ]
  },
  {
   "cell_type": "code",
   "execution_count": 43,
   "metadata": {
    "scrolled": true
   },
   "outputs": [
    {
     "data": {
      "image/png": "[encoded data removed]",
      "text/plain": [
       "<Figure size 432x288 with 1 Axes>"
      ]
     },
     "metadata": {
      "needs_background": "light"
     },
     "output_type": "display_data"
    }
   ],
   "source": [
    "good_data['last_price'].hist(bins = 1000)\n",
    "plt.show()"
   ]
  },
  {
   "cell_type": "markdown",
   "metadata": {},
   "source": [
    "    График более информативный"
   ]
  },
  {
   "cell_type": "code",
   "execution_count": 44,
   "metadata": {
    "scrolled": true
   },
   "outputs": [
    {
     "data": {
      "text/plain": [
       "count       21553\n",
       "mean      5457982\n",
       "std       3235197\n",
       "min        430000\n",
       "25%       3400000\n",
       "50%       4600000\n",
       "75%       6580000\n",
       "max      19999000\n",
       "Name: last_price, dtype: int64"
      ]
     },
     "metadata": {},
     "output_type": "display_data"
    }
   ],
   "source": [
    "display(good_data['last_price'].describe().astype(int))    #среднне стало ближе к медиане"
   ]
  },
  {
   "cell_type": "markdown",
   "metadata": {},
   "source": [
    "    Среднее значение цены стало ближе к медиане"
   ]
  },
  {
   "cell_type": "code",
   "execution_count": 45,
   "metadata": {
    "scrolled": true
   },
   "outputs": [
    {
     "data": {
      "image/png": "[encoded data removed]",
      "text/plain": [
       "<Figure size 432x288 with 1 Axes>"
      ]
     },
     "metadata": {
      "needs_background": "light"
     },
     "output_type": "display_data"
    }
   ],
   "source": [
    "good_data.boxplot(column='last_price')\n",
    "plt.show()"
   ]
  },
  {
   "cell_type": "markdown",
   "metadata": {},
   "source": [
    "### Площадь"
   ]
  },
  {
   "cell_type": "code",
   "execution_count": 46,
   "metadata": {
    "scrolled": true
   },
   "outputs": [
    {
     "data": {
      "image/png": "[encoded data removed]",
      "text/plain": [
       "<Figure size 432x288 with 1 Axes>"
      ]
     },
     "metadata": {
      "needs_background": "light"
     },
     "output_type": "display_data"
    }
   ],
   "source": [
    "data['total_area'].hist(bins = 1000)\n",
    "plt.show()"
   ]
  },
  {
   "cell_type": "markdown",
   "metadata": {},
   "source": [
    "    По графику видно, что есть выбросы"
   ]
  },
  {
   "cell_type": "code",
   "execution_count": 47,
   "metadata": {
    "scrolled": false
   },
   "outputs": [
    {
     "data": {
      "text/plain": [
       "count    22235\n",
       "mean        60\n",
       "std         35\n",
       "min         13\n",
       "25%         40\n",
       "50%         52\n",
       "75%         70\n",
       "max        900\n",
       "Name: total_area, dtype: int64"
      ]
     },
     "metadata": {},
     "output_type": "display_data"
    }
   ],
   "source": [
    "display(data['total_area'].describe().astype(int))"
   ]
  },
  {
   "cell_type": "markdown",
   "metadata": {},
   "source": [
    "    Отмечаю разницу между средним и медианой"
   ]
  },
  {
   "cell_type": "code",
   "execution_count": 48,
   "metadata": {
    "scrolled": true
   },
   "outputs": [
    {
     "data": {
      "image/png": "[encoded data removed]",
      "text/plain": [
       "<Figure size 432x288 with 1 Axes>"
      ]
     },
     "metadata": {
      "needs_background": "light"
     },
     "output_type": "display_data"
    }
   ],
   "source": [
    "plt.ylim(0, 200)\n",
    "data.boxplot(column='total_area')\n",
    "plt.show()"
   ]
  },
  {
   "cell_type": "markdown",
   "metadata": {},
   "source": [
    "    Всё что больше 115 - выбросы"
   ]
  },
  {
   "cell_type": "code",
   "execution_count": 49,
   "metadata": {},
   "outputs": [],
   "source": [
    "def area_cat(df):\n",
    "    if df < 25:\n",
    "        return 'меньше 25м'\n",
    "    elif 25 <= df < 50:\n",
    "        return 'от 25 до 50м'\n",
    "    elif 50 <= df < 75:\n",
    "        return'от 50 до 75м'\n",
    "    elif 75 <= df < 100:\n",
    "        return 'от 75 до 100м'\n",
    "    elif 100 <= df < 125:\n",
    "        return 'от 100 до 125м'\n",
    "    elif 125 <= df < 200:\n",
    "        return 'от 125 до 200м'\n",
    "    elif 200 <= df < 300:\n",
    "        return 'от 200 до 300м'\n",
    "    elif 300 <= df < 400:\n",
    "        return 'от 300 до 400м'\n",
    "    elif 400 <= df < 500:\n",
    "        return 'от 400 до 500м'\n",
    "    else:\n",
    "        return'больше 500 м'"
   ]
  },
  {
   "cell_type": "markdown",
   "metadata": {},
   "source": [
    "    Дополнительные категории"
   ]
  },
  {
   "cell_type": "code",
   "execution_count": 50,
   "metadata": {},
   "outputs": [],
   "source": [
    "data['area_category'] = data['total_area'].apply(area_cat)"
   ]
  },
  {
   "cell_type": "code",
   "execution_count": 51,
   "metadata": {},
   "outputs": [],
   "source": [
    "depend_area_price = data.pivot_table(\n",
    "    index='area_category', \n",
    "    values=['last_price', 'square_price'], \n",
    "    aggfunc={'last_price' : ['median', 'count'], \n",
    "              'square_price' : 'median'}\n",
    ") "
   ]
  },
  {
   "cell_type": "code",
   "execution_count": 52,
   "metadata": {
    "scrolled": true
   },
   "outputs": [
    {
     "data": {
      "text/html": [
       "<div>\n",
       "<style scoped>\n",
       "    .dataframe tbody tr th:only-of-type {\n",
       "        vertical-align: middle;\n",
       "    }\n",
       "\n",
       "    .dataframe tbody tr th {\n",
       "        vertical-align: top;\n",
       "    }\n",
       "\n",
       "    .dataframe thead tr th {\n",
       "        text-align: left;\n",
       "    }\n",
       "\n",
       "    .dataframe thead tr:last-of-type th {\n",
       "        text-align: right;\n",
       "    }\n",
       "</style>\n",
       "<table border=\"1\" class=\"dataframe\">\n",
       "  <thead>\n",
       "    <tr>\n",
       "      <th></th>\n",
       "      <th colspan=\"2\" halign=\"left\">last_price</th>\n",
       "      <th>square_price</th>\n",
       "    </tr>\n",
       "    <tr>\n",
       "      <th></th>\n",
       "      <th>count</th>\n",
       "      <th>median</th>\n",
       "      <th>median</th>\n",
       "    </tr>\n",
       "    <tr>\n",
       "      <th>area_category</th>\n",
       "      <th></th>\n",
       "      <th></th>\n",
       "      <th></th>\n",
       "    </tr>\n",
       "  </thead>\n",
       "  <tbody>\n",
       "    <tr>\n",
       "      <td>больше 500 м</td>\n",
       "      <td>8</td>\n",
       "      <td>140000000</td>\n",
       "      <td>221834.5</td>\n",
       "    </tr>\n",
       "    <tr>\n",
       "      <td>меньше 25м</td>\n",
       "      <td>179</td>\n",
       "      <td>2330000</td>\n",
       "      <td>104761.0</td>\n",
       "    </tr>\n",
       "    <tr>\n",
       "      <td>от 100 до 125м</td>\n",
       "      <td>918</td>\n",
       "      <td>12555500</td>\n",
       "      <td>114600.0</td>\n",
       "    </tr>\n",
       "    <tr>\n",
       "      <td>от 125 до 200м</td>\n",
       "      <td>704</td>\n",
       "      <td>18495000</td>\n",
       "      <td>122233.0</td>\n",
       "    </tr>\n",
       "    <tr>\n",
       "      <td>от 200 до 300м</td>\n",
       "      <td>164</td>\n",
       "      <td>29250000</td>\n",
       "      <td>125526.5</td>\n",
       "    </tr>\n",
       "    <tr>\n",
       "      <td>от 25 до 50м</td>\n",
       "      <td>9829</td>\n",
       "      <td>3600000</td>\n",
       "      <td>94918.0</td>\n",
       "    </tr>\n",
       "    <tr>\n",
       "      <td>от 300 до 400м</td>\n",
       "      <td>36</td>\n",
       "      <td>45984450</td>\n",
       "      <td>126267.0</td>\n",
       "    </tr>\n",
       "    <tr>\n",
       "      <td>от 400 до 500м</td>\n",
       "      <td>16</td>\n",
       "      <td>69500000</td>\n",
       "      <td>155856.5</td>\n",
       "    </tr>\n",
       "    <tr>\n",
       "      <td>от 50 до 75м</td>\n",
       "      <td>7642</td>\n",
       "      <td>5350000</td>\n",
       "      <td>89822.0</td>\n",
       "    </tr>\n",
       "    <tr>\n",
       "      <td>от 75 до 100м</td>\n",
       "      <td>2739</td>\n",
       "      <td>8300000</td>\n",
       "      <td>98018.0</td>\n",
       "    </tr>\n",
       "  </tbody>\n",
       "</table>\n",
       "</div>"
      ],
      "text/plain": [
       "               last_price            square_price\n",
       "                    count     median       median\n",
       "area_category                                    \n",
       "больше 500 м            8  140000000     221834.5\n",
       "меньше 25м            179    2330000     104761.0\n",
       "от 100 до 125м        918   12555500     114600.0\n",
       "от 125 до 200м        704   18495000     122233.0\n",
       "от 200 до 300м        164   29250000     125526.5\n",
       "от 25 до 50м         9829    3600000      94918.0\n",
       "от 300 до 400м         36   45984450     126267.0\n",
       "от 400 до 500м         16   69500000     155856.5\n",
       "от 50 до 75м         7642    5350000      89822.0\n",
       "от 75 до 100м        2739    8300000      98018.0"
      ]
     },
     "metadata": {},
     "output_type": "display_data"
    }
   ],
   "source": [
    "display(depend_area_price)# убираю больше 200м их 230, "
   ]
  },
  {
   "cell_type": "markdown",
   "metadata": {},
   "source": [
    "    Считаю сколько обявлений можно отбросить чтобы не пострадали расчеты и стали ближе к реальным"
   ]
  },
  {
   "cell_type": "code",
   "execution_count": 53,
   "metadata": {},
   "outputs": [],
   "source": [
    "good_data = good_data.query('total_area < 200') #разница ср и мед 2, стд откл 35\\26"
   ]
  },
  {
   "cell_type": "markdown",
   "metadata": {},
   "source": [
    "    Убрал квартиры с площадью более 200 кв.м"
   ]
  },
  {
   "cell_type": "code",
   "execution_count": 54,
   "metadata": {
    "scrolled": true
   },
   "outputs": [
    {
     "data": {
      "image/png": "[encoded data removed]",
      "text/plain": [
       "<Figure size 432x288 with 1 Axes>"
      ]
     },
     "metadata": {
      "needs_background": "light"
     },
     "output_type": "display_data"
    }
   ],
   "source": [
    "good_data['total_area'].hist(bins = 1000)\n",
    "plt.show()"
   ]
  },
  {
   "cell_type": "markdown",
   "metadata": {},
   "source": [
    "    Некоторые площади повторяются чаще других, скорее всего типовые дома, один застройщик"
   ]
  },
  {
   "cell_type": "code",
   "execution_count": 55,
   "metadata": {
    "scrolled": true
   },
   "outputs": [
    {
     "data": {
      "text/plain": [
       "count    21510\n",
       "mean        56\n",
       "std         23\n",
       "min         13\n",
       "25%         40\n",
       "50%         51\n",
       "75%         68\n",
       "max        199\n",
       "Name: total_area, dtype: int64"
      ]
     },
     "metadata": {},
     "output_type": "display_data"
    }
   ],
   "source": [
    "display(good_data['total_area'].describe().astype(int))    #среднне стало ближе к медиане"
   ]
  },
  {
   "cell_type": "markdown",
   "metadata": {},
   "source": [
    "    Среднее стало ближе к медиане"
   ]
  },
  {
   "cell_type": "code",
   "execution_count": 56,
   "metadata": {
    "scrolled": true
   },
   "outputs": [
    {
     "data": {
      "image/png": "[encoded data removed]",
      "text/plain": [
       "<Figure size 432x288 with 1 Axes>"
      ]
     },
     "metadata": {
      "needs_background": "light"
     },
     "output_type": "display_data"
    }
   ],
   "source": [
    "good_data.boxplot(column='total_area')\n",
    "plt.show()"
   ]
  },
  {
   "cell_type": "markdown",
   "metadata": {},
   "source": [
    "    Часть выбросов осталось, без них никак"
   ]
  },
  {
   "cell_type": "markdown",
   "metadata": {},
   "source": [
    "### Комнаты"
   ]
  },
  {
   "cell_type": "code",
   "execution_count": 57,
   "metadata": {
    "scrolled": true
   },
   "outputs": [
    {
     "data": {
      "image/png": "[encoded data removed]",
      "text/plain": [
       "<Figure size 432x288 with 1 Axes>"
      ]
     },
     "metadata": {
      "needs_background": "light"
     },
     "output_type": "display_data"
    }
   ],
   "source": [
    "data['rooms'].hist(bins = 50)\n",
    "plt.show()"
   ]
  },
  {
   "cell_type": "markdown",
   "metadata": {},
   "source": [
    "    Есть квартиры с большим количеством комнат"
   ]
  },
  {
   "cell_type": "code",
   "execution_count": 58,
   "metadata": {
    "scrolled": true
   },
   "outputs": [
    {
     "data": {
      "text/plain": [
       "count    22235\n",
       "mean         2\n",
       "std          1\n",
       "min          1\n",
       "25%          1\n",
       "50%          2\n",
       "75%          3\n",
       "max         19\n",
       "Name: rooms, dtype: int64"
      ]
     },
     "metadata": {},
     "output_type": "display_data"
    }
   ],
   "source": [
    "display(data['rooms'].describe().astype(int))# median = mean"
   ]
  },
  {
   "cell_type": "code",
   "execution_count": 59,
   "metadata": {
    "scrolled": false
   },
   "outputs": [
    {
     "data": {
      "image/png": "[encoded data removed]",
      "text/plain": [
       "<Figure size 432x288 with 1 Axes>"
      ]
     },
     "metadata": {
      "needs_background": "light"
     },
     "output_type": "display_data"
    }
   ],
   "source": [
    "data.boxplot(column='rooms')# 0 комнат, студия или открытая планировака, == 1\n",
    "plt.show()"
   ]
  },
  {
   "cell_type": "markdown",
   "metadata": {},
   "source": [
    "    Больше 6 - выбросы"
   ]
  },
  {
   "cell_type": "code",
   "execution_count": 60,
   "metadata": {},
   "outputs": [],
   "source": [
    "depend_rooms_price = data.pivot_table(\n",
    "      index='rooms', \n",
    "      values=['last_price', 'square_price'], \n",
    "      aggfunc={'last_price' : ['median', 'count'], \n",
    "              'square_price' : 'median'}\n",
    ").astype(int)"
   ]
  },
  {
   "cell_type": "code",
   "execution_count": 61,
   "metadata": {
    "scrolled": true
   },
   "outputs": [
    {
     "data": {
      "text/html": [
       "<div>\n",
       "<style scoped>\n",
       "    .dataframe tbody tr th:only-of-type {\n",
       "        vertical-align: middle;\n",
       "    }\n",
       "\n",
       "    .dataframe tbody tr th {\n",
       "        vertical-align: top;\n",
       "    }\n",
       "\n",
       "    .dataframe thead tr th {\n",
       "        text-align: left;\n",
       "    }\n",
       "\n",
       "    .dataframe thead tr:last-of-type th {\n",
       "        text-align: right;\n",
       "    }\n",
       "</style>\n",
       "<table border=\"1\" class=\"dataframe\">\n",
       "  <thead>\n",
       "    <tr>\n",
       "      <th></th>\n",
       "      <th colspan=\"2\" halign=\"left\">last_price</th>\n",
       "      <th>square_price</th>\n",
       "    </tr>\n",
       "    <tr>\n",
       "      <th></th>\n",
       "      <th>count</th>\n",
       "      <th>median</th>\n",
       "      <th>median</th>\n",
       "    </tr>\n",
       "    <tr>\n",
       "      <th>rooms</th>\n",
       "      <th></th>\n",
       "      <th></th>\n",
       "      <th></th>\n",
       "    </tr>\n",
       "  </thead>\n",
       "  <tbody>\n",
       "    <tr>\n",
       "      <td>1</td>\n",
       "      <td>7659</td>\n",
       "      <td>3599000</td>\n",
       "      <td>100000</td>\n",
       "    </tr>\n",
       "    <tr>\n",
       "      <td>2</td>\n",
       "      <td>7407</td>\n",
       "      <td>4800000</td>\n",
       "      <td>92920</td>\n",
       "    </tr>\n",
       "    <tr>\n",
       "      <td>3</td>\n",
       "      <td>5513</td>\n",
       "      <td>6200000</td>\n",
       "      <td>88967</td>\n",
       "    </tr>\n",
       "    <tr>\n",
       "      <td>4</td>\n",
       "      <td>1142</td>\n",
       "      <td>9000000</td>\n",
       "      <td>92666</td>\n",
       "    </tr>\n",
       "    <tr>\n",
       "      <td>5</td>\n",
       "      <td>321</td>\n",
       "      <td>14000000</td>\n",
       "      <td>96482</td>\n",
       "    </tr>\n",
       "    <tr>\n",
       "      <td>6</td>\n",
       "      <td>104</td>\n",
       "      <td>18888500</td>\n",
       "      <td>99390</td>\n",
       "    </tr>\n",
       "    <tr>\n",
       "      <td>7</td>\n",
       "      <td>58</td>\n",
       "      <td>24900000</td>\n",
       "      <td>109996</td>\n",
       "    </tr>\n",
       "    <tr>\n",
       "      <td>8</td>\n",
       "      <td>12</td>\n",
       "      <td>23095000</td>\n",
       "      <td>106760</td>\n",
       "    </tr>\n",
       "    <tr>\n",
       "      <td>9</td>\n",
       "      <td>8</td>\n",
       "      <td>23750000</td>\n",
       "      <td>92517</td>\n",
       "    </tr>\n",
       "    <tr>\n",
       "      <td>10</td>\n",
       "      <td>3</td>\n",
       "      <td>23000000</td>\n",
       "      <td>84372</td>\n",
       "    </tr>\n",
       "    <tr>\n",
       "      <td>11</td>\n",
       "      <td>2</td>\n",
       "      <td>25250000</td>\n",
       "      <td>132639</td>\n",
       "    </tr>\n",
       "    <tr>\n",
       "      <td>12</td>\n",
       "      <td>1</td>\n",
       "      <td>420000000</td>\n",
       "      <td>466666</td>\n",
       "    </tr>\n",
       "    <tr>\n",
       "      <td>14</td>\n",
       "      <td>2</td>\n",
       "      <td>26829500</td>\n",
       "      <td>92827</td>\n",
       "    </tr>\n",
       "    <tr>\n",
       "      <td>15</td>\n",
       "      <td>1</td>\n",
       "      <td>65000000</td>\n",
       "      <td>110169</td>\n",
       "    </tr>\n",
       "    <tr>\n",
       "      <td>16</td>\n",
       "      <td>1</td>\n",
       "      <td>28500000</td>\n",
       "      <td>105555</td>\n",
       "    </tr>\n",
       "    <tr>\n",
       "      <td>19</td>\n",
       "      <td>1</td>\n",
       "      <td>32250000</td>\n",
       "      <td>86091</td>\n",
       "    </tr>\n",
       "  </tbody>\n",
       "</table>\n",
       "</div>"
      ],
      "text/plain": [
       "      last_price            square_price\n",
       "           count     median       median\n",
       "rooms                                   \n",
       "1           7659    3599000       100000\n",
       "2           7407    4800000        92920\n",
       "3           5513    6200000        88967\n",
       "4           1142    9000000        92666\n",
       "5            321   14000000        96482\n",
       "6            104   18888500        99390\n",
       "7             58   24900000       109996\n",
       "8             12   23095000       106760\n",
       "9              8   23750000        92517\n",
       "10             3   23000000        84372\n",
       "11             2   25250000       132639\n",
       "12             1  420000000       466666\n",
       "14             2   26829500        92827\n",
       "15             1   65000000       110169\n",
       "16             1   28500000       105555\n",
       "19             1   32250000        86091"
      ]
     },
     "metadata": {},
     "output_type": "display_data"
    }
   ],
   "source": [
    "display(depend_rooms_price)#убираю больше 9 комнат"
   ]
  },
  {
   "cell_type": "code",
   "execution_count": 62,
   "metadata": {},
   "outputs": [],
   "source": [
    "good_data = good_data.query('rooms < 10') #беру срез от искомого df"
   ]
  },
  {
   "cell_type": "markdown",
   "metadata": {},
   "source": [
    "    Оставляю 9 и меньше комнат"
   ]
  },
  {
   "cell_type": "code",
   "execution_count": 63,
   "metadata": {},
   "outputs": [
    {
     "data": {
      "image/png": "[encoded data removed]",
      "text/plain": [
       "<Figure size 432x288 with 1 Axes>"
      ]
     },
     "metadata": {
      "needs_background": "light"
     },
     "output_type": "display_data"
    }
   ],
   "source": [
    "good_data['rooms'].hist(bins = 50)\n",
    "plt.show()"
   ]
  },
  {
   "cell_type": "code",
   "execution_count": 64,
   "metadata": {},
   "outputs": [
    {
     "data": {
      "text/plain": [
       "count    21509\n",
       "mean         2\n",
       "std          0\n",
       "min          1\n",
       "25%          1\n",
       "50%          2\n",
       "75%          3\n",
       "max          8\n",
       "Name: rooms, dtype: int64"
      ]
     },
     "metadata": {},
     "output_type": "display_data"
    }
   ],
   "source": [
    "display(good_data['rooms'].describe().astype(int))    #среднне стало ближе к медиане"
   ]
  },
  {
   "cell_type": "code",
   "execution_count": 65,
   "metadata": {},
   "outputs": [
    {
     "data": {
      "image/png": "[encoded data removed]",
      "text/plain": [
       "<Figure size 432x288 with 1 Axes>"
      ]
     },
     "metadata": {
      "needs_background": "light"
     },
     "output_type": "display_data"
    }
   ],
   "source": [
    "good_data.boxplot(column='rooms')\n",
    "plt.show()"
   ]
  },
  {
   "cell_type": "markdown",
   "metadata": {},
   "source": [
    "    Всё более менее в порядке"
   ]
  },
  {
   "cell_type": "markdown",
   "metadata": {},
   "source": [
    "### Высота потолков"
   ]
  },
  {
   "cell_type": "code",
   "execution_count": 66,
   "metadata": {
    "scrolled": true
   },
   "outputs": [
    {
     "data": {
      "image/png": "[encoded data removed]",
      "text/plain": [
       "<Figure size 432x288 with 1 Axes>"
      ]
     },
     "metadata": {
      "needs_background": "light"
     },
     "output_type": "display_data"
    }
   ],
   "source": [
    "data['ceiling_height'].hist(bins = 300)\n",
    "plt.show()"
   ]
  },
  {
   "cell_type": "markdown",
   "metadata": {},
   "source": [
    "    График не является наглядным, высота до 100м."
   ]
  },
  {
   "cell_type": "code",
   "execution_count": 67,
   "metadata": {
    "scrolled": false
   },
   "outputs": [
    {
     "data": {
      "text/plain": [
       "count    22115.000000\n",
       "mean         2.778492\n",
       "std          1.043499\n",
       "min          1.000000\n",
       "25%          2.600000\n",
       "50%          2.723583\n",
       "75%          2.815790\n",
       "max        100.000000\n",
       "Name: ceiling_height, dtype: float64"
      ]
     },
     "metadata": {},
     "output_type": "display_data"
    }
   ],
   "source": [
    "display(data['ceiling_height'].describe())"
   ]
  },
  {
   "cell_type": "markdown",
   "metadata": {},
   "source": [
    "    Разница между средним и медианой 0.05, минимум 1м, максимум 100м\n"
   ]
  },
  {
   "cell_type": "code",
   "execution_count": 68,
   "metadata": {
    "scrolled": false
   },
   "outputs": [
    {
     "data": {
      "image/png": "[encoded data removed]",
      "text/plain": [
       "<Figure size 432x288 with 1 Axes>"
      ]
     },
     "metadata": {
      "needs_background": "light"
     },
     "output_type": "display_data"
    }
   ],
   "source": [
    "data.boxplot(column='ceiling_height')\n",
    "plt.ylim(1, 4)\n",
    "plt.show()"
   ]
  },
  {
   "cell_type": "markdown",
   "metadata": {},
   "source": [
    "    Высота потолков чуть более 3м максимум, остальное выбросы"
   ]
  },
  {
   "cell_type": "code",
   "execution_count": 69,
   "metadata": {},
   "outputs": [
    {
     "name": "stderr",
     "output_type": "stream",
     "text": [
      "/opt/conda/lib/python3.7/site-packages/pandas/core/reshape/pivot.py:56: FutureWarning: Sorting because non-concatenation axis is not aligned. A future version\n",
      "of pandas will change to not sort by default.\n",
      "\n",
      "To accept the future behavior, pass 'sort=False'.\n",
      "\n",
      "To retain the current behavior and silence the warning, pass 'sort=True'.\n",
      "\n",
      "  return concat(pieces, keys=keys, axis=1)\n"
     ]
    }
   ],
   "source": [
    "depend_ceiling_locality = data.pivot_table(\n",
    "      index='locality_name', \n",
    "      values='ceiling_height', \n",
    "      aggfunc=['median', 'count']\n",
    ")"
   ]
  },
  {
   "cell_type": "code",
   "execution_count": 70,
   "metadata": {
    "scrolled": true
   },
   "outputs": [
    {
     "data": {
      "text/html": [
       "<div>\n",
       "<style scoped>\n",
       "    .dataframe tbody tr th:only-of-type {\n",
       "        vertical-align: middle;\n",
       "    }\n",
       "\n",
       "    .dataframe tbody tr th {\n",
       "        vertical-align: top;\n",
       "    }\n",
       "\n",
       "    .dataframe thead tr th {\n",
       "        text-align: left;\n",
       "    }\n",
       "</style>\n",
       "<table border=\"1\" class=\"dataframe\">\n",
       "  <thead>\n",
       "    <tr>\n",
       "      <th></th>\n",
       "      <th>median</th>\n",
       "      <th>count</th>\n",
       "    </tr>\n",
       "    <tr>\n",
       "      <th></th>\n",
       "      <th>ceiling_height</th>\n",
       "      <th>ceiling_height</th>\n",
       "    </tr>\n",
       "  </thead>\n",
       "  <tbody>\n",
       "    <tr>\n",
       "      <td>Бокситогорск</td>\n",
       "      <td>3.900000</td>\n",
       "      <td>15</td>\n",
       "    </tr>\n",
       "    <tr>\n",
       "      <td>Волосово</td>\n",
       "      <td>2.531579</td>\n",
       "      <td>35</td>\n",
       "    </tr>\n",
       "    <tr>\n",
       "      <td>Волхов</td>\n",
       "      <td>3.100000</td>\n",
       "      <td>111</td>\n",
       "    </tr>\n",
       "    <tr>\n",
       "      <td>Всеволожск</td>\n",
       "      <td>2.676767</td>\n",
       "      <td>389</td>\n",
       "    </tr>\n",
       "    <tr>\n",
       "      <td>Выборг</td>\n",
       "      <td>2.743000</td>\n",
       "      <td>220</td>\n",
       "    </tr>\n",
       "    <tr>\n",
       "      <td>...</td>\n",
       "      <td>...</td>\n",
       "      <td>...</td>\n",
       "    </tr>\n",
       "    <tr>\n",
       "      <td>село Путилово</td>\n",
       "      <td>2.550000</td>\n",
       "      <td>2</td>\n",
       "    </tr>\n",
       "    <tr>\n",
       "      <td>село Рождествено</td>\n",
       "      <td>NaN</td>\n",
       "      <td>0</td>\n",
       "    </tr>\n",
       "    <tr>\n",
       "      <td>село Русско-Высоцкое</td>\n",
       "      <td>2.580000</td>\n",
       "      <td>9</td>\n",
       "    </tr>\n",
       "    <tr>\n",
       "      <td>село Старая Ладога</td>\n",
       "      <td>NaN</td>\n",
       "      <td>0</td>\n",
       "    </tr>\n",
       "    <tr>\n",
       "      <td>село Шум</td>\n",
       "      <td>NaN</td>\n",
       "      <td>0</td>\n",
       "    </tr>\n",
       "  </tbody>\n",
       "</table>\n",
       "<p>364 rows × 2 columns</p>\n",
       "</div>"
      ],
      "text/plain": [
       "                             median          count\n",
       "                     ceiling_height ceiling_height\n",
       "Бокситогорск               3.900000             15\n",
       "Волосово                   2.531579             35\n",
       "Волхов                     3.100000            111\n",
       "Всеволожск                 2.676767            389\n",
       "Выборг                     2.743000            220\n",
       "...                             ...            ...\n",
       "село Путилово              2.550000              2\n",
       "село Рождествено                NaN              0\n",
       "село Русско-Высоцкое       2.580000              9\n",
       "село Старая Ладога              NaN              0\n",
       "село Шум                        NaN              0\n",
       "\n",
       "[364 rows x 2 columns]"
      ]
     },
     "metadata": {},
     "output_type": "display_data"
    }
   ],
   "source": [
    "display(depend_ceiling_locality)"
   ]
  },
  {
   "cell_type": "markdown",
   "metadata": {},
   "source": [
    "    Потолки сильно отличаются в разных городах"
   ]
  },
  {
   "cell_type": "code",
   "execution_count": 71,
   "metadata": {},
   "outputs": [],
   "source": [
    "def ceiling_cat(df):\n",
    "    if df < 1:\n",
    "        return 'меньше 15м'\n",
    "    elif 1 <= df < 2:\n",
    "        return 'от 1 до 2 м'\n",
    "    elif 2 <= df < 3:\n",
    "        return'от 2 до 3 м'\n",
    "    elif 3 <= df < 4:\n",
    "        return 'от 3 до 4 м'\n",
    "    elif 4 <= df < 5:\n",
    "        return 'от 4 до 5 м'\n",
    "    elif 5 <= df < 6:\n",
    "        return 'от 5 до 6 м'\n",
    "    elif 6 <= df < 7:\n",
    "        return 'от 6 до 7 м'\n",
    "    elif 7 <= df < 8:\n",
    "        return 'от 7 до 8 м'\n",
    "    elif 8 <= df < 9:\n",
    "        return 'от 8 до 9 м'\n",
    "    elif 9 <= df < 10:\n",
    "        return 'от 9 до 10 м'\n",
    "    elif 10 <= df < 11:\n",
    "        return 'от 10 до 11 м'\n",
    "    else:\n",
    "        return'больше 11 м'\n"
   ]
  },
  {
   "cell_type": "code",
   "execution_count": 72,
   "metadata": {},
   "outputs": [],
   "source": [
    "data['ceiling_category'] = data['ceiling_height'].apply(ceiling_cat)"
   ]
  },
  {
   "cell_type": "markdown",
   "metadata": {},
   "source": [
    "    Добавляю категории по высоте потолков"
   ]
  },
  {
   "cell_type": "code",
   "execution_count": 73,
   "metadata": {},
   "outputs": [],
   "source": [
    "depend_rooms_price = data.pivot_table(\n",
    "      index='ceiling_category', \n",
    "      values=['last_price', 'square_price'], \n",
    "      aggfunc={'last_price' : ['median', 'count'], \n",
    "              'square_price' : 'median'}\n",
    ")"
   ]
  },
  {
   "cell_type": "code",
   "execution_count": 74,
   "metadata": {
    "scrolled": false
   },
   "outputs": [
    {
     "data": {
      "text/html": [
       "<div>\n",
       "<style scoped>\n",
       "    .dataframe tbody tr th:only-of-type {\n",
       "        vertical-align: middle;\n",
       "    }\n",
       "\n",
       "    .dataframe tbody tr th {\n",
       "        vertical-align: top;\n",
       "    }\n",
       "\n",
       "    .dataframe thead tr th {\n",
       "        text-align: left;\n",
       "    }\n",
       "\n",
       "    .dataframe thead tr:last-of-type th {\n",
       "        text-align: right;\n",
       "    }\n",
       "</style>\n",
       "<table border=\"1\" class=\"dataframe\">\n",
       "  <thead>\n",
       "    <tr>\n",
       "      <th></th>\n",
       "      <th colspan=\"2\" halign=\"left\">last_price</th>\n",
       "      <th>square_price</th>\n",
       "    </tr>\n",
       "    <tr>\n",
       "      <th></th>\n",
       "      <th>count</th>\n",
       "      <th>median</th>\n",
       "      <th>median</th>\n",
       "    </tr>\n",
       "    <tr>\n",
       "      <th>ceiling_category</th>\n",
       "      <th></th>\n",
       "      <th></th>\n",
       "      <th></th>\n",
       "    </tr>\n",
       "  </thead>\n",
       "  <tbody>\n",
       "    <tr>\n",
       "      <td>больше 11 м</td>\n",
       "      <td>148.0</td>\n",
       "      <td>1800000.0</td>\n",
       "      <td>37969.5</td>\n",
       "    </tr>\n",
       "    <tr>\n",
       "      <td>от 1 до 2 м</td>\n",
       "      <td>3.0</td>\n",
       "      <td>4100000.0</td>\n",
       "      <td>102500.0</td>\n",
       "    </tr>\n",
       "    <tr>\n",
       "      <td>от 10 до 11 м</td>\n",
       "      <td>1.0</td>\n",
       "      <td>5300000.0</td>\n",
       "      <td>117777.0</td>\n",
       "    </tr>\n",
       "    <tr>\n",
       "      <td>от 2 до 3 м</td>\n",
       "      <td>19430.0</td>\n",
       "      <td>4499999.5</td>\n",
       "      <td>93333.0</td>\n",
       "    </tr>\n",
       "    <tr>\n",
       "      <td>от 3 до 4 м</td>\n",
       "      <td>2565.0</td>\n",
       "      <td>8600000.0</td>\n",
       "      <td>111633.0</td>\n",
       "    </tr>\n",
       "    <tr>\n",
       "      <td>от 4 до 5 м</td>\n",
       "      <td>77.0</td>\n",
       "      <td>11990000.0</td>\n",
       "      <td>140992.0</td>\n",
       "    </tr>\n",
       "    <tr>\n",
       "      <td>от 5 до 6 м</td>\n",
       "      <td>6.0</td>\n",
       "      <td>48900000.0</td>\n",
       "      <td>193686.5</td>\n",
       "    </tr>\n",
       "    <tr>\n",
       "      <td>от 6 до 7 м</td>\n",
       "      <td>1.0</td>\n",
       "      <td>119000000.0</td>\n",
       "      <td>634328.0</td>\n",
       "    </tr>\n",
       "    <tr>\n",
       "      <td>от 8 до 9 м</td>\n",
       "      <td>4.0</td>\n",
       "      <td>5475000.0</td>\n",
       "      <td>91328.0</td>\n",
       "    </tr>\n",
       "  </tbody>\n",
       "</table>\n",
       "</div>"
      ],
      "text/plain": [
       "                 last_price              square_price\n",
       "                      count       median       median\n",
       "ceiling_category                                     \n",
       "больше 11 м           148.0    1800000.0      37969.5\n",
       "от 1 до 2 м             3.0    4100000.0     102500.0\n",
       "от 10 до 11 м           1.0    5300000.0     117777.0\n",
       "от 2 до 3 м         19430.0    4499999.5      93333.0\n",
       "от 3 до 4 м          2565.0    8600000.0     111633.0\n",
       "от 4 до 5 м            77.0   11990000.0     140992.0\n",
       "от 5 до 6 м             6.0   48900000.0     193686.5\n",
       "от 6 до 7 м             1.0  119000000.0     634328.0\n",
       "от 8 до 9 м             4.0    5475000.0      91328.0"
      ]
     },
     "metadata": {},
     "output_type": "display_data"
    }
   ],
   "source": [
    "display(depend_rooms_price)"
   ]
  },
  {
   "cell_type": "markdown",
   "metadata": {},
   "source": [
    "    Убраю обявления со значениями высоты потолков меньше 2м и больше 10м, это не сильно повлияет на статистку"
   ]
  },
  {
   "cell_type": "code",
   "execution_count": 75,
   "metadata": {},
   "outputs": [],
   "source": [
    "good_data = good_data.query('2 < ceiling_height <= 6')"
   ]
  },
  {
   "cell_type": "code",
   "execution_count": 76,
   "metadata": {
    "scrolled": false
   },
   "outputs": [
    {
     "data": {
      "text/plain": [
       "count    21342.000000\n",
       "mean         2.735602\n",
       "std          0.215653\n",
       "min          2.200000\n",
       "25%          2.600000\n",
       "50%          2.709588\n",
       "75%          2.815790\n",
       "max          5.800000\n",
       "Name: ceiling_height, dtype: float64"
      ]
     },
     "metadata": {},
     "output_type": "display_data"
    }
   ],
   "source": [
    "display(good_data['ceiling_height'].describe())"
   ]
  },
  {
   "cell_type": "markdown",
   "metadata": {},
   "source": [
    "    Разница стала 0.03, и больше нетнеадекватно высоких и низких потолков"
   ]
  },
  {
   "cell_type": "code",
   "execution_count": 77,
   "metadata": {},
   "outputs": [
    {
     "data": {
      "image/png": "[encoded data removed]",
      "text/plain": [
       "<Figure size 432x288 with 1 Axes>"
      ]
     },
     "metadata": {
      "needs_background": "light"
     },
     "output_type": "display_data"
    }
   ],
   "source": [
    "good_data['ceiling_height'].hist(bins = 300)\n",
    "plt.show()"
   ]
  },
  {
   "cell_type": "code",
   "execution_count": 78,
   "metadata": {
    "scrolled": true
   },
   "outputs": [
    {
     "data": {
      "image/png": "[encoded data removed]",
      "text/plain": [
       "<Figure size 432x288 with 1 Axes>"
      ]
     },
     "metadata": {
      "needs_background": "light"
     },
     "output_type": "display_data"
    }
   ],
   "source": [
    "good_data.boxplot(column='ceiling_height')\n",
    "plt.show()"
   ]
  },
  {
   "cell_type": "code",
   "execution_count": 79,
   "metadata": {},
   "outputs": [
    {
     "data": {
      "text/html": [
       "<div>\n",
       "<style scoped>\n",
       "    .dataframe tbody tr th:only-of-type {\n",
       "        vertical-align: middle;\n",
       "    }\n",
       "\n",
       "    .dataframe tbody tr th {\n",
       "        vertical-align: top;\n",
       "    }\n",
       "\n",
       "    .dataframe thead th {\n",
       "        text-align: right;\n",
       "    }\n",
       "</style>\n",
       "<table border=\"1\" class=\"dataframe\">\n",
       "  <thead>\n",
       "    <tr style=\"text-align: right;\">\n",
       "      <th></th>\n",
       "      <th>last_price</th>\n",
       "      <th>total_area</th>\n",
       "      <th>rooms</th>\n",
       "      <th>ceiling_height</th>\n",
       "    </tr>\n",
       "  </thead>\n",
       "  <tbody>\n",
       "    <tr>\n",
       "      <td>min</td>\n",
       "      <td>430000.0</td>\n",
       "      <td>13.0</td>\n",
       "      <td>1.0</td>\n",
       "      <td>2.2</td>\n",
       "    </tr>\n",
       "    <tr>\n",
       "      <td>max</td>\n",
       "      <td>19999000.0</td>\n",
       "      <td>199.2</td>\n",
       "      <td>8.0</td>\n",
       "      <td>5.8</td>\n",
       "    </tr>\n",
       "  </tbody>\n",
       "</table>\n",
       "</div>"
      ],
      "text/plain": [
       "     last_price  total_area  rooms  ceiling_height\n",
       "min    430000.0        13.0    1.0             2.2\n",
       "max  19999000.0       199.2    8.0             5.8"
      ]
     },
     "execution_count": 79,
     "metadata": {},
     "output_type": "execute_result"
    }
   ],
   "source": [
    "good_data[['last_price', 'total_area','rooms', 'ceiling_height' ]].describe().loc[['min', 'max']]"
   ]
  },
  {
   "cell_type": "markdown",
   "metadata": {},
   "source": [
    "# Время продажи квартиры"
   ]
  },
  {
   "cell_type": "code",
   "execution_count": 80,
   "metadata": {},
   "outputs": [
    {
     "data": {
      "image/png": "[encoded data removed]",
      "text/plain": [
       "<Figure size 432x288 with 1 Axes>"
      ]
     },
     "metadata": {
      "needs_background": "light"
     },
     "output_type": "display_data"
    }
   ],
   "source": [
    "data['days_exposition'].hist(bins = 200, range=(0, 100))\n",
    "#пики на 45, 60, 90\n",
    "plt.show()"
   ]
  },
  {
   "cell_type": "markdown",
   "metadata": {},
   "source": [
    "    На графике заметны явные пики на 7, 30, 45, 60, 90 дней. Скорее всего в эти дни объявления закрывались сервисом.\n",
    "    Также заметны полосы, с чем они связаны сказать сложно"
   ]
  },
  {
   "cell_type": "code",
   "execution_count": 81,
   "metadata": {},
   "outputs": [
    {
     "data": {
      "text/plain": [
       "45.0    777\n",
       "60.0    472\n",
       "7.0     220\n",
       "30.0    188\n",
       "90.0    184\n",
       "4.0     165\n",
       "3.0     144\n",
       "5.0     140\n",
       "14.0    138\n",
       "9.0     132\n",
       "8.0     130\n",
       "11.0    130\n",
       "20.0    129\n",
       "18.0    124\n",
       "44.0    122\n",
       "13.0    120\n",
       "21.0    118\n",
       "28.0    118\n",
       "22.0    117\n",
       "10.0    117\n",
       "Name: days_exposition, dtype: int64"
      ]
     },
     "metadata": {},
     "output_type": "display_data"
    }
   ],
   "source": [
    "display(data['days_exposition'].sort_values().value_counts().head(20))"
   ]
  },
  {
   "cell_type": "code",
   "execution_count": 82,
   "metadata": {},
   "outputs": [
    {
     "data": {
      "image/png": "[encoded data removed]",
      "text/plain": [
       "<Figure size 432x288 with 1 Axes>"
      ]
     },
     "metadata": {
      "needs_background": "light"
     },
     "output_type": "display_data"
    }
   ],
   "source": [
    "data['days_exposition'].hist(bins = 500)\n",
    "\n",
    "plt.show()"
   ]
  },
  {
   "cell_type": "code",
   "execution_count": 83,
   "metadata": {
    "scrolled": true
   },
   "outputs": [
    {
     "data": {
      "text/plain": [
       "count    19195.000000\n",
       "mean       182.598854\n",
       "std        221.031931\n",
       "min          1.000000\n",
       "25%         45.000000\n",
       "50%         97.000000\n",
       "75%        233.000000\n",
       "max       1580.000000\n",
       "Name: days_exposition, dtype: float64"
      ]
     },
     "metadata": {},
     "output_type": "display_data"
    }
   ],
   "source": [
    "display(data['days_exposition'].describe())# ср от мед отличается почти в 2 раза"
   ]
  },
  {
   "cell_type": "markdown",
   "metadata": {},
   "source": [
    "    Большая разница между средним и медианой, минимум 1 день, максимум 1580 дней - 4 с лишним года"
   ]
  },
  {
   "cell_type": "code",
   "execution_count": 84,
   "metadata": {
    "scrolled": false
   },
   "outputs": [
    {
     "data": {
      "image/png": "[encoded data removed]",
      "text/plain": [
       "<Figure size 432x288 with 1 Axes>"
      ]
     },
     "metadata": {
      "needs_background": "light"
     },
     "output_type": "display_data"
    }
   ],
   "source": [
    "#plt.ylim(0, 20)\n",
    "data.boxplot(column='days_exposition')\n",
    "plt.show()"
   ]
  },
  {
   "cell_type": "code",
   "execution_count": 85,
   "metadata": {},
   "outputs": [],
   "source": [
    "def day_cat(df):\n",
    "    if df < 15:\n",
    "        return 'меньше 2 недель'\n",
    "    if 15 < df < 30:\n",
    "        return 'от 2х недель до месяца'\n",
    "    if 30 < df < 60:\n",
    "        return 'от 1 до 2х месяцев'\n",
    "    if 60 < df < 120:\n",
    "        return 'от 2х до 4х месяцев'\n",
    "    if 120 < df < 180:\n",
    "        return 'от 4 до 6 месяцев'\n",
    "    if 180 < df < 365:\n",
    "        return 'от полугода до года'\n",
    "    if 365 < df < 730:\n",
    "        return 'от года до двух лет'\n",
    "    if 730 < df < 1095:\n",
    "        return 'от двух до трех лет'\n",
    "    if 1095 > df:\n",
    "        return'больше 3х лет'    "
   ]
  },
  {
   "cell_type": "markdown",
   "metadata": {},
   "source": [
    "    Категории по сроку публикации объявления"
   ]
  },
  {
   "cell_type": "code",
   "execution_count": 86,
   "metadata": {},
   "outputs": [],
   "source": [
    "data['day_category'] = data['days_exposition'].apply(day_cat)"
   ]
  },
  {
   "cell_type": "markdown",
   "metadata": {},
   "source": [
    "    Чуть больше 500 и выше - выбросы"
   ]
  },
  {
   "cell_type": "code",
   "execution_count": 87,
   "metadata": {},
   "outputs": [],
   "source": [
    "depend_days_exposition_price = data.pivot_table(\n",
    "      index='day_category', \n",
    "      values=['last_price', 'square_price'], \n",
    "      aggfunc={'last_price' : ['median', 'count'], \n",
    "              'square_price' : 'median'}\n",
    ")"
   ]
  },
  {
   "cell_type": "code",
   "execution_count": 88,
   "metadata": {},
   "outputs": [
    {
     "data": {
      "text/html": [
       "<div>\n",
       "<style scoped>\n",
       "    .dataframe tbody tr th:only-of-type {\n",
       "        vertical-align: middle;\n",
       "    }\n",
       "\n",
       "    .dataframe tbody tr th {\n",
       "        vertical-align: top;\n",
       "    }\n",
       "\n",
       "    .dataframe thead tr th {\n",
       "        text-align: left;\n",
       "    }\n",
       "\n",
       "    .dataframe thead tr:last-of-type th {\n",
       "        text-align: right;\n",
       "    }\n",
       "</style>\n",
       "<table border=\"1\" class=\"dataframe\">\n",
       "  <thead>\n",
       "    <tr>\n",
       "      <th></th>\n",
       "      <th colspan=\"2\" halign=\"left\">last_price</th>\n",
       "      <th>square_price</th>\n",
       "    </tr>\n",
       "    <tr>\n",
       "      <th></th>\n",
       "      <th>count</th>\n",
       "      <th>median</th>\n",
       "      <th>median</th>\n",
       "    </tr>\n",
       "    <tr>\n",
       "      <th>day_category</th>\n",
       "      <th></th>\n",
       "      <th></th>\n",
       "      <th></th>\n",
       "    </tr>\n",
       "  </thead>\n",
       "  <tbody>\n",
       "    <tr>\n",
       "      <td>больше 3х лет</td>\n",
       "      <td>836</td>\n",
       "      <td>5400000</td>\n",
       "      <td>99494.5</td>\n",
       "    </tr>\n",
       "    <tr>\n",
       "      <td>меньше 2 недель</td>\n",
       "      <td>1653</td>\n",
       "      <td>4450000</td>\n",
       "      <td>96875.0</td>\n",
       "    </tr>\n",
       "    <tr>\n",
       "      <td>от 1 до 2х месяцев</td>\n",
       "      <td>3067</td>\n",
       "      <td>3978000</td>\n",
       "      <td>88948.0</td>\n",
       "    </tr>\n",
       "    <tr>\n",
       "      <td>от 2х до 4х месяцев</td>\n",
       "      <td>3782</td>\n",
       "      <td>4600000</td>\n",
       "      <td>95052.0</td>\n",
       "    </tr>\n",
       "    <tr>\n",
       "      <td>от 2х недель до месяца</td>\n",
       "      <td>1524</td>\n",
       "      <td>4400000</td>\n",
       "      <td>95545.5</td>\n",
       "    </tr>\n",
       "    <tr>\n",
       "      <td>от 4 до 6 месяцев</td>\n",
       "      <td>2180</td>\n",
       "      <td>4600000</td>\n",
       "      <td>93221.0</td>\n",
       "    </tr>\n",
       "    <tr>\n",
       "      <td>от года до двух лет</td>\n",
       "      <td>2176</td>\n",
       "      <td>4990000</td>\n",
       "      <td>94063.0</td>\n",
       "    </tr>\n",
       "    <tr>\n",
       "      <td>от двух до трех лет</td>\n",
       "      <td>554</td>\n",
       "      <td>5372500</td>\n",
       "      <td>94196.5</td>\n",
       "    </tr>\n",
       "    <tr>\n",
       "      <td>от полугода до года</td>\n",
       "      <td>3260</td>\n",
       "      <td>4700000</td>\n",
       "      <td>91935.0</td>\n",
       "    </tr>\n",
       "  </tbody>\n",
       "</table>\n",
       "</div>"
      ],
      "text/plain": [
       "                       last_price          square_price\n",
       "                            count   median       median\n",
       "day_category                                           \n",
       "больше 3х лет                 836  5400000      99494.5\n",
       "меньше 2 недель              1653  4450000      96875.0\n",
       "от 1 до 2х месяцев           3067  3978000      88948.0\n",
       "от 2х до 4х месяцев          3782  4600000      95052.0\n",
       "от 2х недель до месяца       1524  4400000      95545.5\n",
       "от 4 до 6 месяцев            2180  4600000      93221.0\n",
       "от года до двух лет          2176  4990000      94063.0\n",
       "от двух до трех лет           554  5372500      94196.5\n",
       "от полугода до года          3260  4700000      91935.0"
      ]
     },
     "metadata": {},
     "output_type": "display_data"
    }
   ],
   "source": [
    "display(depend_days_exposition_price)"
   ]
  },
  {
   "cell_type": "code",
   "execution_count": 89,
   "metadata": {},
   "outputs": [],
   "source": [
    "good_data = good_data.query('7 < days_exposition < 1095')\n",
    "#быстрее 7 дней слишком быстро, дольше 3 лет - слишком долго"
   ]
  },
  {
   "cell_type": "markdown",
   "metadata": {},
   "source": [
    "    Убираю объявления меньше 7 дней, и больше 1095 дней(3 года)"
   ]
  },
  {
   "cell_type": "code",
   "execution_count": 90,
   "metadata": {
    "scrolled": false
   },
   "outputs": [
    {
     "data": {
      "image/png": "[encoded data removed]",
      "text/plain": [
       "<Figure size 432x288 with 1 Axes>"
      ]
     },
     "metadata": {
      "needs_background": "light"
     },
     "output_type": "display_data"
    }
   ],
   "source": [
    "good_data['days_exposition'].hist(bins = 500)\n",
    "plt.show()"
   ]
  },
  {
   "cell_type": "markdown",
   "metadata": {},
   "source": [
    "    Убрал максимум без потери значений"
   ]
  },
  {
   "cell_type": "code",
   "execution_count": 91,
   "metadata": {
    "scrolled": true
   },
   "outputs": [
    {
     "data": {
      "image/png": "[encoded data removed]",
      "text/plain": [
       "<Figure size 432x288 with 1 Axes>"
      ]
     },
     "metadata": {
      "needs_background": "light"
     },
     "output_type": "display_data"
    }
   ],
   "source": [
    "#plt.ylim(0, 20)\n",
    "good_data.boxplot(column='days_exposition')\n",
    "plt.show()"
   ]
  },
  {
   "cell_type": "markdown",
   "metadata": {},
   "source": [
    "    Часть выбросов осталось"
   ]
  },
  {
   "cell_type": "code",
   "execution_count": 92,
   "metadata": {
    "scrolled": true
   },
   "outputs": [
    {
     "data": {
      "text/plain": [
       "count    17615.000000\n",
       "mean       178.604598\n",
       "std        197.888048\n",
       "min          8.000000\n",
       "25%         45.000000\n",
       "50%        101.000000\n",
       "75%        233.000000\n",
       "max       1094.000000\n",
       "Name: days_exposition, dtype: float64"
      ]
     },
     "metadata": {},
     "output_type": "display_data"
    }
   ],
   "source": [
    "display(good_data['days_exposition'].describe())"
   ]
  },
  {
   "cell_type": "markdown",
   "metadata": {},
   "source": [
    "    Разница стала чуть меньше"
   ]
  },
  {
   "cell_type": "markdown",
   "metadata": {},
   "source": [
    "### Зависимость цены от этажа"
   ]
  },
  {
   "cell_type": "code",
   "execution_count": 93,
   "metadata": {},
   "outputs": [
    {
     "data": {
      "text/html": [
       "<div>\n",
       "<style scoped>\n",
       "    .dataframe tbody tr th:only-of-type {\n",
       "        vertical-align: middle;\n",
       "    }\n",
       "\n",
       "    .dataframe tbody tr th {\n",
       "        vertical-align: top;\n",
       "    }\n",
       "\n",
       "    .dataframe thead th {\n",
       "        text-align: right;\n",
       "    }\n",
       "</style>\n",
       "<table border=\"1\" class=\"dataframe\">\n",
       "  <thead>\n",
       "    <tr style=\"text-align: right;\">\n",
       "      <th></th>\n",
       "      <th>last_price</th>\n",
       "    </tr>\n",
       "    <tr>\n",
       "      <th>floor_info</th>\n",
       "      <th></th>\n",
       "    </tr>\n",
       "  </thead>\n",
       "  <tbody>\n",
       "    <tr>\n",
       "      <td>другой</td>\n",
       "      <td>4700000.0</td>\n",
       "    </tr>\n",
       "    <tr>\n",
       "      <td>первый</td>\n",
       "      <td>3830000.0</td>\n",
       "    </tr>\n",
       "    <tr>\n",
       "      <td>последний</td>\n",
       "      <td>4208616.5</td>\n",
       "    </tr>\n",
       "  </tbody>\n",
       "</table>\n",
       "</div>"
      ],
      "text/plain": [
       "            last_price\n",
       "floor_info            \n",
       "другой       4700000.0\n",
       "первый       3830000.0\n",
       "последний    4208616.5"
      ]
     },
     "metadata": {},
     "output_type": "display_data"
    }
   ],
   "source": [
    "median_price_floor = good_data.pivot_table(\n",
    "    index= 'floor_info',\n",
    "    values= \"last_price\",\n",
    "    aggfunc='median'\n",
    ")\n",
    "display(median_price_floor)# первый дешевле, потом последний, остальные дороже"
   ]
  },
  {
   "cell_type": "markdown",
   "metadata": {},
   "source": [
    "    В среднем стоимость квариры на первом этаже ниже всего, затем квартиры на последнем, после все остальные. Скорее всего связано с возможными коммунальными проблемами(протекание крыши, проблемы с подвалом) "
   ]
  },
  {
   "cell_type": "markdown",
   "metadata": {},
   "source": [
    "### Зависимость цены от количества комнат"
   ]
  },
  {
   "cell_type": "code",
   "execution_count": 94,
   "metadata": {
    "scrolled": true
   },
   "outputs": [
    {
     "data": {
      "text/html": [
       "<div>\n",
       "<style scoped>\n",
       "    .dataframe tbody tr th:only-of-type {\n",
       "        vertical-align: middle;\n",
       "    }\n",
       "\n",
       "    .dataframe tbody tr th {\n",
       "        vertical-align: top;\n",
       "    }\n",
       "\n",
       "    .dataframe thead th {\n",
       "        text-align: right;\n",
       "    }\n",
       "</style>\n",
       "<table border=\"1\" class=\"dataframe\">\n",
       "  <thead>\n",
       "    <tr style=\"text-align: right;\">\n",
       "      <th></th>\n",
       "      <th>median</th>\n",
       "      <th>min_price</th>\n",
       "      <th>max_price</th>\n",
       "      <th>mean_price</th>\n",
       "    </tr>\n",
       "    <tr>\n",
       "      <th>rooms</th>\n",
       "      <th></th>\n",
       "      <th></th>\n",
       "      <th></th>\n",
       "      <th></th>\n",
       "    </tr>\n",
       "  </thead>\n",
       "  <tbody>\n",
       "    <tr>\n",
       "      <td>1</td>\n",
       "      <td>3562000</td>\n",
       "      <td>470000</td>\n",
       "      <td>19500000</td>\n",
       "      <td>3749297</td>\n",
       "    </tr>\n",
       "    <tr>\n",
       "      <td>2</td>\n",
       "      <td>4750000</td>\n",
       "      <td>450000</td>\n",
       "      <td>19837000</td>\n",
       "      <td>5284489</td>\n",
       "    </tr>\n",
       "    <tr>\n",
       "      <td>3</td>\n",
       "      <td>6000000</td>\n",
       "      <td>550000</td>\n",
       "      <td>19999000</td>\n",
       "      <td>6863842</td>\n",
       "    </tr>\n",
       "    <tr>\n",
       "      <td>4</td>\n",
       "      <td>7910000</td>\n",
       "      <td>999000</td>\n",
       "      <td>19900000</td>\n",
       "      <td>8706046</td>\n",
       "    </tr>\n",
       "    <tr>\n",
       "      <td>5</td>\n",
       "      <td>10995000</td>\n",
       "      <td>1750000</td>\n",
       "      <td>19500000</td>\n",
       "      <td>11125088</td>\n",
       "    </tr>\n",
       "    <tr>\n",
       "      <td>6</td>\n",
       "      <td>13000000</td>\n",
       "      <td>4390000</td>\n",
       "      <td>19500000</td>\n",
       "      <td>13469360</td>\n",
       "    </tr>\n",
       "    <tr>\n",
       "      <td>7</td>\n",
       "      <td>13700000</td>\n",
       "      <td>12000000</td>\n",
       "      <td>16000000</td>\n",
       "      <td>14025714</td>\n",
       "    </tr>\n",
       "  </tbody>\n",
       "</table>\n",
       "</div>"
      ],
      "text/plain": [
       "         median  min_price  max_price  mean_price\n",
       "rooms                                            \n",
       "1       3562000     470000   19500000     3749297\n",
       "2       4750000     450000   19837000     5284489\n",
       "3       6000000     550000   19999000     6863842\n",
       "4       7910000     999000   19900000     8706046\n",
       "5      10995000    1750000   19500000    11125088\n",
       "6      13000000    4390000   19500000    13469360\n",
       "7      13700000   12000000   16000000    14025714"
      ]
     },
     "metadata": {},
     "output_type": "display_data"
    }
   ],
   "source": [
    "median_price_rooms = good_data.pivot_table(\n",
    "    index= 'rooms',\n",
    "    values= \"last_price\",\n",
    "    aggfunc=['median', min, max, 'mean']\n",
    ").astype(int)\n",
    "\n",
    "median_price_rooms.set_axis(['median', 'min_price', 'max_price', 'mean_price'], \n",
    "                             axis='columns', \n",
    "                             inplace=True\n",
    ")\n",
    "display(median_price_rooms)# понятно больше - дороже, хотя мах +- одинаковый"
   ]
  },
  {
   "cell_type": "markdown",
   "metadata": {},
   "source": [
    "    Средняя стоимость квартиры меняется с количеством комнат, чем их больше - тем дороже"
   ]
  },
  {
   "cell_type": "code",
   "execution_count": 95,
   "metadata": {},
   "outputs": [
    {
     "data": {
      "image/png": "[encoded data removed]",
      "text/plain": [
       "<Figure size 432x288 with 1 Axes>"
      ]
     },
     "metadata": {
      "needs_background": "light"
     },
     "output_type": "display_data"
    }
   ],
   "source": [
    "median_price_rooms.plot(title = 'Комнаты\\Цены',grid=True, legend=True)\n",
    "plt.show()"
   ]
  },
  {
   "cell_type": "markdown",
   "metadata": {},
   "source": [
    "### Зависимость цены от расстояния до центра"
   ]
  },
  {
   "cell_type": "code",
   "execution_count": 96,
   "metadata": {
    "scrolled": false
   },
   "outputs": [
    {
     "data": {
      "text/html": [
       "<div>\n",
       "<style scoped>\n",
       "    .dataframe tbody tr th:only-of-type {\n",
       "        vertical-align: middle;\n",
       "    }\n",
       "\n",
       "    .dataframe tbody tr th {\n",
       "        vertical-align: top;\n",
       "    }\n",
       "\n",
       "    .dataframe thead th {\n",
       "        text-align: right;\n",
       "    }\n",
       "</style>\n",
       "<table border=\"1\" class=\"dataframe\">\n",
       "  <thead>\n",
       "    <tr style=\"text-align: right;\">\n",
       "      <th></th>\n",
       "      <th>median</th>\n",
       "      <th>min_price</th>\n",
       "      <th>max_price</th>\n",
       "      <th>mean_price</th>\n",
       "    </tr>\n",
       "    <tr>\n",
       "      <th>city_center_km</th>\n",
       "      <th></th>\n",
       "      <th></th>\n",
       "      <th></th>\n",
       "      <th></th>\n",
       "    </tr>\n",
       "  </thead>\n",
       "  <tbody>\n",
       "    <tr>\n",
       "      <td>0</td>\n",
       "      <td>9500000</td>\n",
       "      <td>5300000</td>\n",
       "      <td>19500000</td>\n",
       "      <td>10247617</td>\n",
       "    </tr>\n",
       "    <tr>\n",
       "      <td>1</td>\n",
       "      <td>9300000</td>\n",
       "      <td>3380000</td>\n",
       "      <td>19900000</td>\n",
       "      <td>9997420</td>\n",
       "    </tr>\n",
       "    <tr>\n",
       "      <td>2</td>\n",
       "      <td>8285000</td>\n",
       "      <td>2645000</td>\n",
       "      <td>19700000</td>\n",
       "      <td>8951650</td>\n",
       "    </tr>\n",
       "    <tr>\n",
       "      <td>3</td>\n",
       "      <td>7799000</td>\n",
       "      <td>2800000</td>\n",
       "      <td>19999000</td>\n",
       "      <td>8754424</td>\n",
       "    </tr>\n",
       "    <tr>\n",
       "      <td>4</td>\n",
       "      <td>8550000</td>\n",
       "      <td>2200000</td>\n",
       "      <td>19990000</td>\n",
       "      <td>9406347</td>\n",
       "    </tr>\n",
       "    <tr>\n",
       "      <td>5</td>\n",
       "      <td>7952000</td>\n",
       "      <td>1800000</td>\n",
       "      <td>19950000</td>\n",
       "      <td>8604170</td>\n",
       "    </tr>\n",
       "    <tr>\n",
       "      <td>6</td>\n",
       "      <td>6899000</td>\n",
       "      <td>2600000</td>\n",
       "      <td>19370000</td>\n",
       "      <td>8007825</td>\n",
       "    </tr>\n",
       "    <tr>\n",
       "      <td>7</td>\n",
       "      <td>6990000</td>\n",
       "      <td>2250000</td>\n",
       "      <td>19800000</td>\n",
       "      <td>8078791</td>\n",
       "    </tr>\n",
       "    <tr>\n",
       "      <td>8</td>\n",
       "      <td>6200000</td>\n",
       "      <td>2190000</td>\n",
       "      <td>19818230</td>\n",
       "      <td>7181935</td>\n",
       "    </tr>\n",
       "    <tr>\n",
       "      <td>9</td>\n",
       "      <td>4900000</td>\n",
       "      <td>2190000</td>\n",
       "      <td>19600000</td>\n",
       "      <td>5991523</td>\n",
       "    </tr>\n",
       "    <tr>\n",
       "      <td>10</td>\n",
       "      <td>5095000</td>\n",
       "      <td>2650000</td>\n",
       "      <td>19950000</td>\n",
       "      <td>6094986</td>\n",
       "    </tr>\n",
       "    <tr>\n",
       "      <td>11</td>\n",
       "      <td>4994500</td>\n",
       "      <td>2450000</td>\n",
       "      <td>18500000</td>\n",
       "      <td>5640445</td>\n",
       "    </tr>\n",
       "    <tr>\n",
       "      <td>12</td>\n",
       "      <td>4990000</td>\n",
       "      <td>1200000</td>\n",
       "      <td>19980000</td>\n",
       "      <td>5849192</td>\n",
       "    </tr>\n",
       "    <tr>\n",
       "      <td>13</td>\n",
       "      <td>5200000</td>\n",
       "      <td>2370000</td>\n",
       "      <td>19000000</td>\n",
       "      <td>5898989</td>\n",
       "    </tr>\n",
       "    <tr>\n",
       "      <td>14</td>\n",
       "      <td>4800000</td>\n",
       "      <td>1350000</td>\n",
       "      <td>18990000</td>\n",
       "      <td>5526868</td>\n",
       "    </tr>\n",
       "    <tr>\n",
       "      <td>15</td>\n",
       "      <td>4800000</td>\n",
       "      <td>1870000</td>\n",
       "      <td>18000000</td>\n",
       "      <td>5348814</td>\n",
       "    </tr>\n",
       "    <tr>\n",
       "      <td>16</td>\n",
       "      <td>4600000</td>\n",
       "      <td>2590000</td>\n",
       "      <td>19327000</td>\n",
       "      <td>5281368</td>\n",
       "    </tr>\n",
       "    <tr>\n",
       "      <td>17</td>\n",
       "      <td>4400000</td>\n",
       "      <td>1846648</td>\n",
       "      <td>19900000</td>\n",
       "      <td>4811546</td>\n",
       "    </tr>\n",
       "    <tr>\n",
       "      <td>18</td>\n",
       "      <td>4140000</td>\n",
       "      <td>1704062</td>\n",
       "      <td>15276000</td>\n",
       "      <td>4615118</td>\n",
       "    </tr>\n",
       "    <tr>\n",
       "      <td>19</td>\n",
       "      <td>4050000</td>\n",
       "      <td>2200000</td>\n",
       "      <td>12390000</td>\n",
       "      <td>4469050</td>\n",
       "    </tr>\n",
       "    <tr>\n",
       "      <td>20</td>\n",
       "      <td>4790750</td>\n",
       "      <td>2050000</td>\n",
       "      <td>10487000</td>\n",
       "      <td>5061647</td>\n",
       "    </tr>\n",
       "    <tr>\n",
       "      <td>21</td>\n",
       "      <td>4300000</td>\n",
       "      <td>1400000</td>\n",
       "      <td>16008000</td>\n",
       "      <td>4738920</td>\n",
       "    </tr>\n",
       "    <tr>\n",
       "      <td>22</td>\n",
       "      <td>4800000</td>\n",
       "      <td>2080000</td>\n",
       "      <td>15300000</td>\n",
       "      <td>5035256</td>\n",
       "    </tr>\n",
       "    <tr>\n",
       "      <td>23</td>\n",
       "      <td>4140000</td>\n",
       "      <td>2500000</td>\n",
       "      <td>7250000</td>\n",
       "      <td>4255047</td>\n",
       "    </tr>\n",
       "    <tr>\n",
       "      <td>24</td>\n",
       "      <td>3975000</td>\n",
       "      <td>2000000</td>\n",
       "      <td>12990000</td>\n",
       "      <td>4315284</td>\n",
       "    </tr>\n",
       "    <tr>\n",
       "      <td>25</td>\n",
       "      <td>3644362</td>\n",
       "      <td>2620000</td>\n",
       "      <td>13300000</td>\n",
       "      <td>4160469</td>\n",
       "    </tr>\n",
       "    <tr>\n",
       "      <td>26</td>\n",
       "      <td>3975000</td>\n",
       "      <td>2290000</td>\n",
       "      <td>16912000</td>\n",
       "      <td>4989059</td>\n",
       "    </tr>\n",
       "    <tr>\n",
       "      <td>27</td>\n",
       "      <td>4150000</td>\n",
       "      <td>2250000</td>\n",
       "      <td>16500000</td>\n",
       "      <td>4997116</td>\n",
       "    </tr>\n",
       "    <tr>\n",
       "      <td>28</td>\n",
       "      <td>3455000</td>\n",
       "      <td>2150000</td>\n",
       "      <td>9100000</td>\n",
       "      <td>3764739</td>\n",
       "    </tr>\n",
       "    <tr>\n",
       "      <td>29</td>\n",
       "      <td>3500000</td>\n",
       "      <td>1500000</td>\n",
       "      <td>15782000</td>\n",
       "      <td>3882726</td>\n",
       "    </tr>\n",
       "    <tr>\n",
       "      <td>30</td>\n",
       "      <td>4250000</td>\n",
       "      <td>2100000</td>\n",
       "      <td>16051000</td>\n",
       "      <td>4838873</td>\n",
       "    </tr>\n",
       "    <tr>\n",
       "      <td>31</td>\n",
       "      <td>3600000</td>\n",
       "      <td>2130000</td>\n",
       "      <td>17000000</td>\n",
       "      <td>4046356</td>\n",
       "    </tr>\n",
       "    <tr>\n",
       "      <td>32</td>\n",
       "      <td>3786000</td>\n",
       "      <td>2100000</td>\n",
       "      <td>11300000</td>\n",
       "      <td>4225023</td>\n",
       "    </tr>\n",
       "    <tr>\n",
       "      <td>33</td>\n",
       "      <td>4500000</td>\n",
       "      <td>1980000</td>\n",
       "      <td>14500000</td>\n",
       "      <td>4901931</td>\n",
       "    </tr>\n",
       "    <tr>\n",
       "      <td>34</td>\n",
       "      <td>4400000</td>\n",
       "      <td>1640000</td>\n",
       "      <td>18000000</td>\n",
       "      <td>4952894</td>\n",
       "    </tr>\n",
       "    <tr>\n",
       "      <td>35</td>\n",
       "      <td>4600000</td>\n",
       "      <td>1990000</td>\n",
       "      <td>16990000</td>\n",
       "      <td>5398882</td>\n",
       "    </tr>\n",
       "    <tr>\n",
       "      <td>36</td>\n",
       "      <td>3900000</td>\n",
       "      <td>2050000</td>\n",
       "      <td>7602000</td>\n",
       "      <td>4279938</td>\n",
       "    </tr>\n",
       "    <tr>\n",
       "      <td>37</td>\n",
       "      <td>3100000</td>\n",
       "      <td>2250000</td>\n",
       "      <td>5950000</td>\n",
       "      <td>3546000</td>\n",
       "    </tr>\n",
       "    <tr>\n",
       "      <td>39</td>\n",
       "      <td>3550000</td>\n",
       "      <td>2650000</td>\n",
       "      <td>5300000</td>\n",
       "      <td>3678428</td>\n",
       "    </tr>\n",
       "    <tr>\n",
       "      <td>40</td>\n",
       "      <td>3990000</td>\n",
       "      <td>2650000</td>\n",
       "      <td>5600000</td>\n",
       "      <td>3961428</td>\n",
       "    </tr>\n",
       "    <tr>\n",
       "      <td>41</td>\n",
       "      <td>2900000</td>\n",
       "      <td>1799000</td>\n",
       "      <td>4300000</td>\n",
       "      <td>2864142</td>\n",
       "    </tr>\n",
       "    <tr>\n",
       "      <td>42</td>\n",
       "      <td>7990000</td>\n",
       "      <td>6100000</td>\n",
       "      <td>11067416</td>\n",
       "      <td>8385805</td>\n",
       "    </tr>\n",
       "    <tr>\n",
       "      <td>43</td>\n",
       "      <td>4500000</td>\n",
       "      <td>4500000</td>\n",
       "      <td>4500000</td>\n",
       "      <td>4500000</td>\n",
       "    </tr>\n",
       "    <tr>\n",
       "      <td>45</td>\n",
       "      <td>5100000</td>\n",
       "      <td>5100000</td>\n",
       "      <td>5100000</td>\n",
       "      <td>5100000</td>\n",
       "    </tr>\n",
       "    <tr>\n",
       "      <td>46</td>\n",
       "      <td>3644500</td>\n",
       "      <td>2550000</td>\n",
       "      <td>7300000</td>\n",
       "      <td>3931450</td>\n",
       "    </tr>\n",
       "    <tr>\n",
       "      <td>47</td>\n",
       "      <td>3995000</td>\n",
       "      <td>2500000</td>\n",
       "      <td>5000000</td>\n",
       "      <td>3882142</td>\n",
       "    </tr>\n",
       "    <tr>\n",
       "      <td>48</td>\n",
       "      <td>3700000</td>\n",
       "      <td>2450000</td>\n",
       "      <td>10100000</td>\n",
       "      <td>4334538</td>\n",
       "    </tr>\n",
       "    <tr>\n",
       "      <td>49</td>\n",
       "      <td>3810000</td>\n",
       "      <td>2340000</td>\n",
       "      <td>8000000</td>\n",
       "      <td>3902300</td>\n",
       "    </tr>\n",
       "    <tr>\n",
       "      <td>50</td>\n",
       "      <td>3650000</td>\n",
       "      <td>1650000</td>\n",
       "      <td>11500000</td>\n",
       "      <td>3791025</td>\n",
       "    </tr>\n",
       "    <tr>\n",
       "      <td>51</td>\n",
       "      <td>3275000</td>\n",
       "      <td>1950000</td>\n",
       "      <td>17630000</td>\n",
       "      <td>3637846</td>\n",
       "    </tr>\n",
       "    <tr>\n",
       "      <td>52</td>\n",
       "      <td>3725000</td>\n",
       "      <td>2100000</td>\n",
       "      <td>9150000</td>\n",
       "      <td>4179444</td>\n",
       "    </tr>\n",
       "    <tr>\n",
       "      <td>53</td>\n",
       "      <td>3700000</td>\n",
       "      <td>1850000</td>\n",
       "      <td>6177600</td>\n",
       "      <td>3661600</td>\n",
       "    </tr>\n",
       "    <tr>\n",
       "      <td>54</td>\n",
       "      <td>9000000</td>\n",
       "      <td>2950000</td>\n",
       "      <td>10965000</td>\n",
       "      <td>7978750</td>\n",
       "    </tr>\n",
       "    <tr>\n",
       "      <td>59</td>\n",
       "      <td>3275000</td>\n",
       "      <td>2300000</td>\n",
       "      <td>4250000</td>\n",
       "      <td>3275000</td>\n",
       "    </tr>\n",
       "    <tr>\n",
       "      <td>60</td>\n",
       "      <td>1800000</td>\n",
       "      <td>1800000</td>\n",
       "      <td>1800000</td>\n",
       "      <td>1800000</td>\n",
       "    </tr>\n",
       "    <tr>\n",
       "      <td>61</td>\n",
       "      <td>3200000</td>\n",
       "      <td>3200000</td>\n",
       "      <td>3200000</td>\n",
       "      <td>3200000</td>\n",
       "    </tr>\n",
       "    <tr>\n",
       "      <td>62</td>\n",
       "      <td>3400000</td>\n",
       "      <td>3200000</td>\n",
       "      <td>3600000</td>\n",
       "      <td>3400000</td>\n",
       "    </tr>\n",
       "    <tr>\n",
       "      <td>64</td>\n",
       "      <td>3650000</td>\n",
       "      <td>3650000</td>\n",
       "      <td>3650000</td>\n",
       "      <td>3650000</td>\n",
       "    </tr>\n",
       "    <tr>\n",
       "      <td>65</td>\n",
       "      <td>3300000</td>\n",
       "      <td>3300000</td>\n",
       "      <td>3300000</td>\n",
       "      <td>3300000</td>\n",
       "    </tr>\n",
       "  </tbody>\n",
       "</table>\n",
       "</div>"
      ],
      "text/plain": [
       "                 median  min_price  max_price  mean_price\n",
       "city_center_km                                           \n",
       "0               9500000    5300000   19500000    10247617\n",
       "1               9300000    3380000   19900000     9997420\n",
       "2               8285000    2645000   19700000     8951650\n",
       "3               7799000    2800000   19999000     8754424\n",
       "4               8550000    2200000   19990000     9406347\n",
       "5               7952000    1800000   19950000     8604170\n",
       "6               6899000    2600000   19370000     8007825\n",
       "7               6990000    2250000   19800000     8078791\n",
       "8               6200000    2190000   19818230     7181935\n",
       "9               4900000    2190000   19600000     5991523\n",
       "10              5095000    2650000   19950000     6094986\n",
       "11              4994500    2450000   18500000     5640445\n",
       "12              4990000    1200000   19980000     5849192\n",
       "13              5200000    2370000   19000000     5898989\n",
       "14              4800000    1350000   18990000     5526868\n",
       "15              4800000    1870000   18000000     5348814\n",
       "16              4600000    2590000   19327000     5281368\n",
       "17              4400000    1846648   19900000     4811546\n",
       "18              4140000    1704062   15276000     4615118\n",
       "19              4050000    2200000   12390000     4469050\n",
       "20              4790750    2050000   10487000     5061647\n",
       "21              4300000    1400000   16008000     4738920\n",
       "22              4800000    2080000   15300000     5035256\n",
       "23              4140000    2500000    7250000     4255047\n",
       "24              3975000    2000000   12990000     4315284\n",
       "25              3644362    2620000   13300000     4160469\n",
       "26              3975000    2290000   16912000     4989059\n",
       "27              4150000    2250000   16500000     4997116\n",
       "28              3455000    2150000    9100000     3764739\n",
       "29              3500000    1500000   15782000     3882726\n",
       "30              4250000    2100000   16051000     4838873\n",
       "31              3600000    2130000   17000000     4046356\n",
       "32              3786000    2100000   11300000     4225023\n",
       "33              4500000    1980000   14500000     4901931\n",
       "34              4400000    1640000   18000000     4952894\n",
       "35              4600000    1990000   16990000     5398882\n",
       "36              3900000    2050000    7602000     4279938\n",
       "37              3100000    2250000    5950000     3546000\n",
       "39              3550000    2650000    5300000     3678428\n",
       "40              3990000    2650000    5600000     3961428\n",
       "41              2900000    1799000    4300000     2864142\n",
       "42              7990000    6100000   11067416     8385805\n",
       "43              4500000    4500000    4500000     4500000\n",
       "45              5100000    5100000    5100000     5100000\n",
       "46              3644500    2550000    7300000     3931450\n",
       "47              3995000    2500000    5000000     3882142\n",
       "48              3700000    2450000   10100000     4334538\n",
       "49              3810000    2340000    8000000     3902300\n",
       "50              3650000    1650000   11500000     3791025\n",
       "51              3275000    1950000   17630000     3637846\n",
       "52              3725000    2100000    9150000     4179444\n",
       "53              3700000    1850000    6177600     3661600\n",
       "54              9000000    2950000   10965000     7978750\n",
       "59              3275000    2300000    4250000     3275000\n",
       "60              1800000    1800000    1800000     1800000\n",
       "61              3200000    3200000    3200000     3200000\n",
       "62              3400000    3200000    3600000     3400000\n",
       "64              3650000    3650000    3650000     3650000\n",
       "65              3300000    3300000    3300000     3300000"
      ]
     },
     "metadata": {},
     "output_type": "display_data"
    }
   ],
   "source": [
    "median_price_center = good_data.pivot_table(\n",
    "    index= 'city_center_km',\n",
    "    values= \"last_price\",\n",
    "    aggfunc=['median', min, max, 'mean']\n",
    ").astype(int)\n",
    "median_price_center.set_axis(['median', 'min_price', 'max_price', 'mean_price'], \n",
    "                             axis='columns', \n",
    "                             inplace=True\n",
    ")\n",
    "display(median_price_center) #ближе к центру - дороже"
   ]
  },
  {
   "cell_type": "markdown",
   "metadata": {},
   "source": [
    "    В общем средняя цена меняется от большего к меньшему, удаляясь от центра, хотя есть исключения"
   ]
  },
  {
   "cell_type": "code",
   "execution_count": 97,
   "metadata": {},
   "outputs": [
    {
     "data": {
      "image/png": "[encoded data removed]",
      "text/plain": [
       "<Figure size 432x288 with 1 Axes>"
      ]
     },
     "metadata": {
      "needs_background": "light"
     },
     "output_type": "display_data"
    }
   ],
   "source": [
    "median_price_center.plot(title = 'Комнаты\\Цены',grid=True, legend=True)\n",
    "plt.show()"
   ]
  },
  {
   "cell_type": "markdown",
   "metadata": {},
   "source": [
    "### Зависимость цены от дня недели публикации"
   ]
  },
  {
   "cell_type": "code",
   "execution_count": 98,
   "metadata": {
    "scrolled": true
   },
   "outputs": [
    {
     "data": {
      "text/html": [
       "<div>\n",
       "<style scoped>\n",
       "    .dataframe tbody tr th:only-of-type {\n",
       "        vertical-align: middle;\n",
       "    }\n",
       "\n",
       "    .dataframe tbody tr th {\n",
       "        vertical-align: top;\n",
       "    }\n",
       "\n",
       "    .dataframe thead tr th {\n",
       "        text-align: left;\n",
       "    }\n",
       "\n",
       "    .dataframe thead tr:last-of-type th {\n",
       "        text-align: right;\n",
       "    }\n",
       "</style>\n",
       "<table border=\"1\" class=\"dataframe\">\n",
       "  <thead>\n",
       "    <tr>\n",
       "      <th></th>\n",
       "      <th>median</th>\n",
       "      <th>min</th>\n",
       "      <th>max</th>\n",
       "    </tr>\n",
       "    <tr>\n",
       "      <th></th>\n",
       "      <th>last_price</th>\n",
       "      <th>last_price</th>\n",
       "      <th>last_price</th>\n",
       "    </tr>\n",
       "    <tr>\n",
       "      <th>week</th>\n",
       "      <th></th>\n",
       "      <th></th>\n",
       "      <th></th>\n",
       "    </tr>\n",
       "  </thead>\n",
       "  <tbody>\n",
       "    <tr>\n",
       "      <td>Friday</td>\n",
       "      <td>4485450</td>\n",
       "      <td>520000</td>\n",
       "      <td>19980000</td>\n",
       "    </tr>\n",
       "    <tr>\n",
       "      <td>Monday</td>\n",
       "      <td>4500000</td>\n",
       "      <td>450000</td>\n",
       "      <td>19500000</td>\n",
       "    </tr>\n",
       "    <tr>\n",
       "      <td>Saturday</td>\n",
       "      <td>4500000</td>\n",
       "      <td>550000</td>\n",
       "      <td>19837000</td>\n",
       "    </tr>\n",
       "    <tr>\n",
       "      <td>Sunday</td>\n",
       "      <td>4450000</td>\n",
       "      <td>470000</td>\n",
       "      <td>19354948</td>\n",
       "    </tr>\n",
       "    <tr>\n",
       "      <td>Thursday</td>\n",
       "      <td>4550000</td>\n",
       "      <td>490000</td>\n",
       "      <td>19900000</td>\n",
       "    </tr>\n",
       "    <tr>\n",
       "      <td>Tuesday</td>\n",
       "      <td>4599000</td>\n",
       "      <td>500000</td>\n",
       "      <td>19800000</td>\n",
       "    </tr>\n",
       "    <tr>\n",
       "      <td>Wednesday</td>\n",
       "      <td>4550000</td>\n",
       "      <td>450000</td>\n",
       "      <td>19999000</td>\n",
       "    </tr>\n",
       "  </tbody>\n",
       "</table>\n",
       "</div>"
      ],
      "text/plain": [
       "              median        min        max\n",
       "          last_price last_price last_price\n",
       "week                                      \n",
       "Friday       4485450     520000   19980000\n",
       "Monday       4500000     450000   19500000\n",
       "Saturday     4500000     550000   19837000\n",
       "Sunday       4450000     470000   19354948\n",
       "Thursday     4550000     490000   19900000\n",
       "Tuesday      4599000     500000   19800000\n",
       "Wednesday    4550000     450000   19999000"
      ]
     },
     "metadata": {},
     "output_type": "display_data"
    }
   ],
   "source": [
    "median_price_day = good_data.pivot_table(\n",
    "    index= 'week',\n",
    "    values= \"last_price\",\n",
    "    aggfunc=['median', min, max]\n",
    ")\n",
    "\n",
    "display(median_price_day) #более менее одинаково"
   ]
  },
  {
   "cell_type": "markdown",
   "metadata": {},
   "source": [
    "    Средняя цена почти не меняется от дня недели"
   ]
  },
  {
   "cell_type": "markdown",
   "metadata": {},
   "source": [
    "### Зависимость цены от месяца публикации"
   ]
  },
  {
   "cell_type": "code",
   "execution_count": 99,
   "metadata": {
    "scrolled": false
   },
   "outputs": [
    {
     "data": {
      "text/html": [
       "<div>\n",
       "<style scoped>\n",
       "    .dataframe tbody tr th:only-of-type {\n",
       "        vertical-align: middle;\n",
       "    }\n",
       "\n",
       "    .dataframe tbody tr th {\n",
       "        vertical-align: top;\n",
       "    }\n",
       "\n",
       "    .dataframe thead tr th {\n",
       "        text-align: left;\n",
       "    }\n",
       "\n",
       "    .dataframe thead tr:last-of-type th {\n",
       "        text-align: right;\n",
       "    }\n",
       "</style>\n",
       "<table border=\"1\" class=\"dataframe\">\n",
       "  <thead>\n",
       "    <tr>\n",
       "      <th></th>\n",
       "      <th>median</th>\n",
       "      <th>min</th>\n",
       "      <th>max</th>\n",
       "    </tr>\n",
       "    <tr>\n",
       "      <th></th>\n",
       "      <th>last_price</th>\n",
       "      <th>last_price</th>\n",
       "      <th>last_price</th>\n",
       "    </tr>\n",
       "    <tr>\n",
       "      <th>month</th>\n",
       "      <th></th>\n",
       "      <th></th>\n",
       "      <th></th>\n",
       "    </tr>\n",
       "  </thead>\n",
       "  <tbody>\n",
       "    <tr>\n",
       "      <td>1</td>\n",
       "      <td>4500000</td>\n",
       "      <td>480000</td>\n",
       "      <td>19900000</td>\n",
       "    </tr>\n",
       "    <tr>\n",
       "      <td>2</td>\n",
       "      <td>4530000</td>\n",
       "      <td>470000</td>\n",
       "      <td>19770000</td>\n",
       "    </tr>\n",
       "    <tr>\n",
       "      <td>3</td>\n",
       "      <td>4500000</td>\n",
       "      <td>550000</td>\n",
       "      <td>19354948</td>\n",
       "    </tr>\n",
       "    <tr>\n",
       "      <td>4</td>\n",
       "      <td>4500000</td>\n",
       "      <td>550000</td>\n",
       "      <td>19950000</td>\n",
       "    </tr>\n",
       "    <tr>\n",
       "      <td>5</td>\n",
       "      <td>4500000</td>\n",
       "      <td>490000</td>\n",
       "      <td>19818230</td>\n",
       "    </tr>\n",
       "    <tr>\n",
       "      <td>6</td>\n",
       "      <td>4350000</td>\n",
       "      <td>560000</td>\n",
       "      <td>19837000</td>\n",
       "    </tr>\n",
       "    <tr>\n",
       "      <td>7</td>\n",
       "      <td>4500000</td>\n",
       "      <td>450000</td>\n",
       "      <td>19500000</td>\n",
       "    </tr>\n",
       "    <tr>\n",
       "      <td>8</td>\n",
       "      <td>4500000</td>\n",
       "      <td>500000</td>\n",
       "      <td>19980000</td>\n",
       "    </tr>\n",
       "    <tr>\n",
       "      <td>9</td>\n",
       "      <td>4600000</td>\n",
       "      <td>520000</td>\n",
       "      <td>19999000</td>\n",
       "    </tr>\n",
       "    <tr>\n",
       "      <td>10</td>\n",
       "      <td>4500000</td>\n",
       "      <td>600000</td>\n",
       "      <td>19900000</td>\n",
       "    </tr>\n",
       "    <tr>\n",
       "      <td>11</td>\n",
       "      <td>4610000</td>\n",
       "      <td>560000</td>\n",
       "      <td>19990000</td>\n",
       "    </tr>\n",
       "    <tr>\n",
       "      <td>12</td>\n",
       "      <td>4535000</td>\n",
       "      <td>600000</td>\n",
       "      <td>19800000</td>\n",
       "    </tr>\n",
       "  </tbody>\n",
       "</table>\n",
       "</div>"
      ],
      "text/plain": [
       "          median        min        max\n",
       "      last_price last_price last_price\n",
       "month                                 \n",
       "1        4500000     480000   19900000\n",
       "2        4530000     470000   19770000\n",
       "3        4500000     550000   19354948\n",
       "4        4500000     550000   19950000\n",
       "5        4500000     490000   19818230\n",
       "6        4350000     560000   19837000\n",
       "7        4500000     450000   19500000\n",
       "8        4500000     500000   19980000\n",
       "9        4600000     520000   19999000\n",
       "10       4500000     600000   19900000\n",
       "11       4610000     560000   19990000\n",
       "12       4535000     600000   19800000"
      ]
     },
     "metadata": {},
     "output_type": "display_data"
    }
   ],
   "source": [
    "median_price_month = good_data.pivot_table(\n",
    "    index= 'month',\n",
    "    values= \"last_price\",\n",
    "    aggfunc=['median', min, max]\n",
    ")\n",
    "\n",
    "display(median_price_month) # 10 и 12 самый высокий минимум"
   ]
  },
  {
   "cell_type": "markdown",
   "metadata": {},
   "source": [
    "    Средняя цена почти не зависит от месяца публикации"
   ]
  },
  {
   "cell_type": "markdown",
   "metadata": {},
   "source": [
    "### Зависимость цены от года публикации"
   ]
  },
  {
   "cell_type": "code",
   "execution_count": 100,
   "metadata": {},
   "outputs": [
    {
     "data": {
      "text/html": [
       "<div>\n",
       "<style scoped>\n",
       "    .dataframe tbody tr th:only-of-type {\n",
       "        vertical-align: middle;\n",
       "    }\n",
       "\n",
       "    .dataframe tbody tr th {\n",
       "        vertical-align: top;\n",
       "    }\n",
       "\n",
       "    .dataframe thead tr th {\n",
       "        text-align: left;\n",
       "    }\n",
       "\n",
       "    .dataframe thead tr:last-of-type th {\n",
       "        text-align: right;\n",
       "    }\n",
       "</style>\n",
       "<table border=\"1\" class=\"dataframe\">\n",
       "  <thead>\n",
       "    <tr>\n",
       "      <th></th>\n",
       "      <th>median</th>\n",
       "      <th>min</th>\n",
       "      <th>max</th>\n",
       "      <th>count</th>\n",
       "    </tr>\n",
       "    <tr>\n",
       "      <th></th>\n",
       "      <th>last_price</th>\n",
       "      <th>last_price</th>\n",
       "      <th>last_price</th>\n",
       "      <th>last_price</th>\n",
       "    </tr>\n",
       "    <tr>\n",
       "      <th>year</th>\n",
       "      <th></th>\n",
       "      <th></th>\n",
       "      <th></th>\n",
       "      <th></th>\n",
       "    </tr>\n",
       "  </thead>\n",
       "  <tbody>\n",
       "    <tr>\n",
       "      <td>2014</td>\n",
       "      <td>6295000</td>\n",
       "      <td>1300000</td>\n",
       "      <td>19800000</td>\n",
       "      <td>74</td>\n",
       "    </tr>\n",
       "    <tr>\n",
       "      <td>2015</td>\n",
       "      <td>5000000</td>\n",
       "      <td>700000</td>\n",
       "      <td>19335000</td>\n",
       "      <td>859</td>\n",
       "    </tr>\n",
       "    <tr>\n",
       "      <td>2016</td>\n",
       "      <td>4500000</td>\n",
       "      <td>490000</td>\n",
       "      <td>19818230</td>\n",
       "      <td>2414</td>\n",
       "    </tr>\n",
       "    <tr>\n",
       "      <td>2017</td>\n",
       "      <td>4500000</td>\n",
       "      <td>450000</td>\n",
       "      <td>19950000</td>\n",
       "      <td>6920</td>\n",
       "    </tr>\n",
       "    <tr>\n",
       "      <td>2018</td>\n",
       "      <td>4500000</td>\n",
       "      <td>450000</td>\n",
       "      <td>19999000</td>\n",
       "      <td>6514</td>\n",
       "    </tr>\n",
       "    <tr>\n",
       "      <td>2019</td>\n",
       "      <td>4800000</td>\n",
       "      <td>480000</td>\n",
       "      <td>19200000</td>\n",
       "      <td>834</td>\n",
       "    </tr>\n",
       "  </tbody>\n",
       "</table>\n",
       "</div>"
      ],
      "text/plain": [
       "         median        min        max      count\n",
       "     last_price last_price last_price last_price\n",
       "year                                            \n",
       "2014    6295000    1300000   19800000         74\n",
       "2015    5000000     700000   19335000        859\n",
       "2016    4500000     490000   19818230       2414\n",
       "2017    4500000     450000   19950000       6920\n",
       "2018    4500000     450000   19999000       6514\n",
       "2019    4800000     480000   19200000        834"
      ]
     },
     "metadata": {},
     "output_type": "display_data"
    }
   ],
   "source": [
    "median_price_year = good_data.pivot_table(\n",
    "    index= 'year',\n",
    "    values= \"last_price\",\n",
    "    aggfunc=['median', min, max, 'count']\n",
    ")\n",
    "\n",
    "display(median_price_year) #медиана снизилась, появилось больше дешевых квартир, \\\n",
    "#минимум снизился, мах почти не изменился"
   ]
  },
  {
   "cell_type": "markdown",
   "metadata": {},
   "source": [
    "    Учитвая количество обявлений в 2014 году, нельзя делать какие-то выводы. Начиная с 2015 года средняя цена немного ниже 5 млн."
   ]
  },
  {
   "cell_type": "markdown",
   "metadata": {},
   "source": [
    "### Топ-10"
   ]
  },
  {
   "cell_type": "code",
   "execution_count": 101,
   "metadata": {},
   "outputs": [
    {
     "data": {
      "text/plain": [
       "['Санкт-Петербург',\n",
       " 'посёлок Мурино',\n",
       " 'посёлок Шушары',\n",
       " 'Всеволожск',\n",
       " 'посёлок Парголово',\n",
       " 'деревня Кудрово',\n",
       " 'Колпино',\n",
       " 'Пушкин',\n",
       " 'Гатчина',\n",
       " 'Выборг']"
      ]
     },
     "metadata": {},
     "output_type": "display_data"
    },
    {
     "data": {
      "text/html": [
       "<div>\n",
       "<style scoped>\n",
       "    .dataframe tbody tr th:only-of-type {\n",
       "        vertical-align: middle;\n",
       "    }\n",
       "\n",
       "    .dataframe tbody tr th {\n",
       "        vertical-align: top;\n",
       "    }\n",
       "\n",
       "    .dataframe thead tr th {\n",
       "        text-align: left;\n",
       "    }\n",
       "\n",
       "    .dataframe thead tr:last-of-type th {\n",
       "        text-align: right;\n",
       "    }\n",
       "</style>\n",
       "<table border=\"1\" class=\"dataframe\">\n",
       "  <thead>\n",
       "    <tr>\n",
       "      <th></th>\n",
       "      <th colspan=\"2\" halign=\"left\">last_price</th>\n",
       "      <th>square_price</th>\n",
       "    </tr>\n",
       "    <tr>\n",
       "      <th></th>\n",
       "      <th>max</th>\n",
       "      <th>min</th>\n",
       "      <th>mean</th>\n",
       "    </tr>\n",
       "    <tr>\n",
       "      <th>locality_name</th>\n",
       "      <th></th>\n",
       "      <th></th>\n",
       "      <th></th>\n",
       "    </tr>\n",
       "  </thead>\n",
       "  <tbody>\n",
       "    <tr>\n",
       "      <td>Санкт-Петербург</td>\n",
       "      <td>19999000</td>\n",
       "      <td>1200000</td>\n",
       "      <td>107651.998057</td>\n",
       "    </tr>\n",
       "    <tr>\n",
       "      <td>Пушкин</td>\n",
       "      <td>17000000</td>\n",
       "      <td>1990000</td>\n",
       "      <td>100373.630037</td>\n",
       "    </tr>\n",
       "    <tr>\n",
       "      <td>деревня Кудрово</td>\n",
       "      <td>13000000</td>\n",
       "      <td>1800000</td>\n",
       "      <td>92409.251773</td>\n",
       "    </tr>\n",
       "    <tr>\n",
       "      <td>Колпино</td>\n",
       "      <td>12750000</td>\n",
       "      <td>2100000</td>\n",
       "      <td>74749.412811</td>\n",
       "    </tr>\n",
       "    <tr>\n",
       "      <td>Гатчина</td>\n",
       "      <td>12700000</td>\n",
       "      <td>850000</td>\n",
       "      <td>67823.875000</td>\n",
       "    </tr>\n",
       "    <tr>\n",
       "      <td>Всеволожск</td>\n",
       "      <td>10890000</td>\n",
       "      <td>965780</td>\n",
       "      <td>67129.556604</td>\n",
       "    </tr>\n",
       "    <tr>\n",
       "      <td>посёлок Шушары</td>\n",
       "      <td>10700000</td>\n",
       "      <td>1500000</td>\n",
       "      <td>78043.822165</td>\n",
       "    </tr>\n",
       "    <tr>\n",
       "      <td>посёлок Парголово</td>\n",
       "      <td>9140000</td>\n",
       "      <td>1400000</td>\n",
       "      <td>89168.365248</td>\n",
       "    </tr>\n",
       "    <tr>\n",
       "      <td>посёлок Мурино</td>\n",
       "      <td>8500000</td>\n",
       "      <td>1730000</td>\n",
       "      <td>85894.985386</td>\n",
       "    </tr>\n",
       "    <tr>\n",
       "      <td>Выборг</td>\n",
       "      <td>8350000</td>\n",
       "      <td>600000</td>\n",
       "      <td>57367.281081</td>\n",
       "    </tr>\n",
       "  </tbody>\n",
       "</table>\n",
       "</div>"
      ],
      "text/plain": [
       "                  last_price            square_price\n",
       "                         max      min           mean\n",
       "locality_name                                       \n",
       "Санкт-Петербург     19999000  1200000  107651.998057\n",
       "Пушкин              17000000  1990000  100373.630037\n",
       "деревня Кудрово     13000000  1800000   92409.251773\n",
       "Колпино             12750000  2100000   74749.412811\n",
       "Гатчина             12700000   850000   67823.875000\n",
       "Всеволожск          10890000   965780   67129.556604\n",
       "посёлок Шушары      10700000  1500000   78043.822165\n",
       "посёлок Парголово    9140000  1400000   89168.365248\n",
       "посёлок Мурино       8500000  1730000   85894.985386\n",
       "Выборг               8350000   600000   57367.281081"
      ]
     },
     "metadata": {},
     "output_type": "display_data"
    },
    {
     "data": {
      "text/html": [
       "<div>\n",
       "<style scoped>\n",
       "    .dataframe tbody tr th:only-of-type {\n",
       "        vertical-align: middle;\n",
       "    }\n",
       "\n",
       "    .dataframe tbody tr th {\n",
       "        vertical-align: top;\n",
       "    }\n",
       "\n",
       "    .dataframe thead tr th {\n",
       "        text-align: left;\n",
       "    }\n",
       "\n",
       "    .dataframe thead tr:last-of-type th {\n",
       "        text-align: right;\n",
       "    }\n",
       "</style>\n",
       "<table border=\"1\" class=\"dataframe\">\n",
       "  <thead>\n",
       "    <tr>\n",
       "      <th></th>\n",
       "      <th colspan=\"2\" halign=\"left\">last_price</th>\n",
       "      <th>square_price</th>\n",
       "    </tr>\n",
       "    <tr>\n",
       "      <th></th>\n",
       "      <th>max</th>\n",
       "      <th>min</th>\n",
       "      <th>mean</th>\n",
       "    </tr>\n",
       "    <tr>\n",
       "      <th>locality_name</th>\n",
       "      <th></th>\n",
       "      <th></th>\n",
       "      <th></th>\n",
       "    </tr>\n",
       "  </thead>\n",
       "  <tbody>\n",
       "    <tr>\n",
       "      <td>Выборг</td>\n",
       "      <td>8350000</td>\n",
       "      <td>600000</td>\n",
       "      <td>57367.281081</td>\n",
       "    </tr>\n",
       "    <tr>\n",
       "      <td>Гатчина</td>\n",
       "      <td>12700000</td>\n",
       "      <td>850000</td>\n",
       "      <td>67823.875000</td>\n",
       "    </tr>\n",
       "    <tr>\n",
       "      <td>Всеволожск</td>\n",
       "      <td>10890000</td>\n",
       "      <td>965780</td>\n",
       "      <td>67129.556604</td>\n",
       "    </tr>\n",
       "    <tr>\n",
       "      <td>Санкт-Петербург</td>\n",
       "      <td>19999000</td>\n",
       "      <td>1200000</td>\n",
       "      <td>107651.998057</td>\n",
       "    </tr>\n",
       "    <tr>\n",
       "      <td>посёлок Парголово</td>\n",
       "      <td>9140000</td>\n",
       "      <td>1400000</td>\n",
       "      <td>89168.365248</td>\n",
       "    </tr>\n",
       "    <tr>\n",
       "      <td>посёлок Шушары</td>\n",
       "      <td>10700000</td>\n",
       "      <td>1500000</td>\n",
       "      <td>78043.822165</td>\n",
       "    </tr>\n",
       "    <tr>\n",
       "      <td>посёлок Мурино</td>\n",
       "      <td>8500000</td>\n",
       "      <td>1730000</td>\n",
       "      <td>85894.985386</td>\n",
       "    </tr>\n",
       "    <tr>\n",
       "      <td>деревня Кудрово</td>\n",
       "      <td>13000000</td>\n",
       "      <td>1800000</td>\n",
       "      <td>92409.251773</td>\n",
       "    </tr>\n",
       "    <tr>\n",
       "      <td>Пушкин</td>\n",
       "      <td>17000000</td>\n",
       "      <td>1990000</td>\n",
       "      <td>100373.630037</td>\n",
       "    </tr>\n",
       "    <tr>\n",
       "      <td>Колпино</td>\n",
       "      <td>12750000</td>\n",
       "      <td>2100000</td>\n",
       "      <td>74749.412811</td>\n",
       "    </tr>\n",
       "  </tbody>\n",
       "</table>\n",
       "</div>"
      ],
      "text/plain": [
       "                  last_price            square_price\n",
       "                         max      min           mean\n",
       "locality_name                                       \n",
       "Выборг               8350000   600000   57367.281081\n",
       "Гатчина             12700000   850000   67823.875000\n",
       "Всеволожск          10890000   965780   67129.556604\n",
       "Санкт-Петербург     19999000  1200000  107651.998057\n",
       "посёлок Парголово    9140000  1400000   89168.365248\n",
       "посёлок Шушары      10700000  1500000   78043.822165\n",
       "посёлок Мурино       8500000  1730000   85894.985386\n",
       "деревня Кудрово     13000000  1800000   92409.251773\n",
       "Пушкин              17000000  1990000  100373.630037\n",
       "Колпино             12750000  2100000   74749.412811"
      ]
     },
     "metadata": {},
     "output_type": "display_data"
    }
   ],
   "source": [
    "top_10_cities = good_data['locality_name'].value_counts().head(10)\n",
    "cities = list(dict(top_10_cities).keys())\n",
    "display(cities)\n",
    "\n",
    "top_cities = good_data.query('locality_name in @cities')\n",
    "\n",
    "zztop_10_cities = top_cities.pivot_table(\n",
    "    index='locality_name', \n",
    "    values=['square_price', 'last_price'], \n",
    "    aggfunc={'last_price' : [min, max], \n",
    "              'square_price' : 'mean'}\n",
    ")\n",
    "display(zztop_10_cities.sort_values(by=('last_price', 'max'), ascending=False), \n",
    "     zztop_10_cities.sort_values(by=('last_price', 'min'), ascending=True)\n",
    "     )"
   ]
  },
  {
   "cell_type": "markdown",
   "metadata": {},
   "source": [
    "    Город с самой дорогой средней стоимостью жилья - Санкт-Петербург, с самой низкой - Выборг"
   ]
  },
  {
   "cell_type": "markdown",
   "metadata": {},
   "source": [
    "### Расстояние до центра"
   ]
  },
  {
   "cell_type": "code",
   "execution_count": 102,
   "metadata": {},
   "outputs": [],
   "source": [
    "my_city = ['Санкт-Петербург']\n",
    "saintp = good_data.query('locality_name in @my_city')"
   ]
  },
  {
   "cell_type": "markdown",
   "metadata": {},
   "source": [
    "    Фильтр по городу"
   ]
  },
  {
   "cell_type": "code",
   "execution_count": 103,
   "metadata": {
    "scrolled": false
   },
   "outputs": [
    {
     "data": {
      "text/html": [
       "<div>\n",
       "<style scoped>\n",
       "    .dataframe tbody tr th:only-of-type {\n",
       "        vertical-align: middle;\n",
       "    }\n",
       "\n",
       "    .dataframe tbody tr th {\n",
       "        vertical-align: top;\n",
       "    }\n",
       "\n",
       "    .dataframe thead tr th {\n",
       "        text-align: left;\n",
       "    }\n",
       "\n",
       "    .dataframe thead tr:last-of-type th {\n",
       "        text-align: right;\n",
       "    }\n",
       "</style>\n",
       "<table border=\"1\" class=\"dataframe\">\n",
       "  <thead>\n",
       "    <tr>\n",
       "      <th></th>\n",
       "      <th>mean</th>\n",
       "      <th>median</th>\n",
       "      <th>min</th>\n",
       "      <th>max</th>\n",
       "    </tr>\n",
       "    <tr>\n",
       "      <th></th>\n",
       "      <th>last_price</th>\n",
       "      <th>last_price</th>\n",
       "      <th>last_price</th>\n",
       "      <th>last_price</th>\n",
       "    </tr>\n",
       "    <tr>\n",
       "      <th>city_center_km</th>\n",
       "      <th></th>\n",
       "      <th></th>\n",
       "      <th></th>\n",
       "      <th></th>\n",
       "    </tr>\n",
       "  </thead>\n",
       "  <tbody>\n",
       "    <tr>\n",
       "      <td>0</td>\n",
       "      <td>10247617</td>\n",
       "      <td>9500000</td>\n",
       "      <td>5300000</td>\n",
       "      <td>19500000</td>\n",
       "    </tr>\n",
       "    <tr>\n",
       "      <td>1</td>\n",
       "      <td>9997420</td>\n",
       "      <td>9300000</td>\n",
       "      <td>3380000</td>\n",
       "      <td>19900000</td>\n",
       "    </tr>\n",
       "    <tr>\n",
       "      <td>2</td>\n",
       "      <td>8951650</td>\n",
       "      <td>8285000</td>\n",
       "      <td>2645000</td>\n",
       "      <td>19700000</td>\n",
       "    </tr>\n",
       "    <tr>\n",
       "      <td>3</td>\n",
       "      <td>8754424</td>\n",
       "      <td>7799000</td>\n",
       "      <td>2800000</td>\n",
       "      <td>19999000</td>\n",
       "    </tr>\n",
       "    <tr>\n",
       "      <td>4</td>\n",
       "      <td>9406347</td>\n",
       "      <td>8550000</td>\n",
       "      <td>2200000</td>\n",
       "      <td>19990000</td>\n",
       "    </tr>\n",
       "    <tr>\n",
       "      <td>5</td>\n",
       "      <td>8604170</td>\n",
       "      <td>7952000</td>\n",
       "      <td>1800000</td>\n",
       "      <td>19950000</td>\n",
       "    </tr>\n",
       "    <tr>\n",
       "      <td>6</td>\n",
       "      <td>8007825</td>\n",
       "      <td>6899000</td>\n",
       "      <td>2600000</td>\n",
       "      <td>19370000</td>\n",
       "    </tr>\n",
       "    <tr>\n",
       "      <td>7</td>\n",
       "      <td>8078791</td>\n",
       "      <td>6990000</td>\n",
       "      <td>2250000</td>\n",
       "      <td>19800000</td>\n",
       "    </tr>\n",
       "    <tr>\n",
       "      <td>8</td>\n",
       "      <td>7181935</td>\n",
       "      <td>6200000</td>\n",
       "      <td>2190000</td>\n",
       "      <td>19818230</td>\n",
       "    </tr>\n",
       "    <tr>\n",
       "      <td>9</td>\n",
       "      <td>5991523</td>\n",
       "      <td>4900000</td>\n",
       "      <td>2190000</td>\n",
       "      <td>19600000</td>\n",
       "    </tr>\n",
       "    <tr>\n",
       "      <td>10</td>\n",
       "      <td>6094986</td>\n",
       "      <td>5095000</td>\n",
       "      <td>2650000</td>\n",
       "      <td>19950000</td>\n",
       "    </tr>\n",
       "    <tr>\n",
       "      <td>11</td>\n",
       "      <td>5640445</td>\n",
       "      <td>4994500</td>\n",
       "      <td>2450000</td>\n",
       "      <td>18500000</td>\n",
       "    </tr>\n",
       "    <tr>\n",
       "      <td>12</td>\n",
       "      <td>5849192</td>\n",
       "      <td>4990000</td>\n",
       "      <td>1200000</td>\n",
       "      <td>19980000</td>\n",
       "    </tr>\n",
       "    <tr>\n",
       "      <td>13</td>\n",
       "      <td>5898989</td>\n",
       "      <td>5200000</td>\n",
       "      <td>2370000</td>\n",
       "      <td>19000000</td>\n",
       "    </tr>\n",
       "    <tr>\n",
       "      <td>14</td>\n",
       "      <td>5526868</td>\n",
       "      <td>4800000</td>\n",
       "      <td>1350000</td>\n",
       "      <td>18990000</td>\n",
       "    </tr>\n",
       "    <tr>\n",
       "      <td>15</td>\n",
       "      <td>5348814</td>\n",
       "      <td>4800000</td>\n",
       "      <td>1870000</td>\n",
       "      <td>18000000</td>\n",
       "    </tr>\n",
       "    <tr>\n",
       "      <td>16</td>\n",
       "      <td>5281368</td>\n",
       "      <td>4600000</td>\n",
       "      <td>2590000</td>\n",
       "      <td>19327000</td>\n",
       "    </tr>\n",
       "    <tr>\n",
       "      <td>17</td>\n",
       "      <td>4880695</td>\n",
       "      <td>4441742</td>\n",
       "      <td>1846648</td>\n",
       "      <td>19900000</td>\n",
       "    </tr>\n",
       "    <tr>\n",
       "      <td>18</td>\n",
       "      <td>5057004</td>\n",
       "      <td>4300000</td>\n",
       "      <td>1704062</td>\n",
       "      <td>15276000</td>\n",
       "    </tr>\n",
       "    <tr>\n",
       "      <td>19</td>\n",
       "      <td>4629060</td>\n",
       "      <td>4425000</td>\n",
       "      <td>2400000</td>\n",
       "      <td>12390000</td>\n",
       "    </tr>\n",
       "    <tr>\n",
       "      <td>20</td>\n",
       "      <td>5789711</td>\n",
       "      <td>5525000</td>\n",
       "      <td>2890000</td>\n",
       "      <td>10487000</td>\n",
       "    </tr>\n",
       "    <tr>\n",
       "      <td>21</td>\n",
       "      <td>5013075</td>\n",
       "      <td>4600000</td>\n",
       "      <td>2250000</td>\n",
       "      <td>16008000</td>\n",
       "    </tr>\n",
       "    <tr>\n",
       "      <td>22</td>\n",
       "      <td>5168047</td>\n",
       "      <td>4875000</td>\n",
       "      <td>2080000</td>\n",
       "      <td>15300000</td>\n",
       "    </tr>\n",
       "    <tr>\n",
       "      <td>23</td>\n",
       "      <td>4198583</td>\n",
       "      <td>4175000</td>\n",
       "      <td>2600000</td>\n",
       "      <td>6800000</td>\n",
       "    </tr>\n",
       "    <tr>\n",
       "      <td>24</td>\n",
       "      <td>3862235</td>\n",
       "      <td>3480000</td>\n",
       "      <td>2400000</td>\n",
       "      <td>5970000</td>\n",
       "    </tr>\n",
       "    <tr>\n",
       "      <td>25</td>\n",
       "      <td>3998442</td>\n",
       "      <td>3455000</td>\n",
       "      <td>2620000</td>\n",
       "      <td>7900000</td>\n",
       "    </tr>\n",
       "    <tr>\n",
       "      <td>26</td>\n",
       "      <td>3575000</td>\n",
       "      <td>3975000</td>\n",
       "      <td>2600000</td>\n",
       "      <td>4150000</td>\n",
       "    </tr>\n",
       "    <tr>\n",
       "      <td>27</td>\n",
       "      <td>8300000</td>\n",
       "      <td>8300000</td>\n",
       "      <td>2250000</td>\n",
       "      <td>14350000</td>\n",
       "    </tr>\n",
       "    <tr>\n",
       "      <td>28</td>\n",
       "      <td>4707625</td>\n",
       "      <td>4535000</td>\n",
       "      <td>3413000</td>\n",
       "      <td>7600000</td>\n",
       "    </tr>\n",
       "    <tr>\n",
       "      <td>29</td>\n",
       "      <td>3325000</td>\n",
       "      <td>3325000</td>\n",
       "      <td>2450000</td>\n",
       "      <td>4200000</td>\n",
       "    </tr>\n",
       "  </tbody>\n",
       "</table>\n",
       "</div>"
      ],
      "text/plain": [
       "                     mean     median        min        max\n",
       "               last_price last_price last_price last_price\n",
       "city_center_km                                            \n",
       "0                10247617    9500000    5300000   19500000\n",
       "1                 9997420    9300000    3380000   19900000\n",
       "2                 8951650    8285000    2645000   19700000\n",
       "3                 8754424    7799000    2800000   19999000\n",
       "4                 9406347    8550000    2200000   19990000\n",
       "5                 8604170    7952000    1800000   19950000\n",
       "6                 8007825    6899000    2600000   19370000\n",
       "7                 8078791    6990000    2250000   19800000\n",
       "8                 7181935    6200000    2190000   19818230\n",
       "9                 5991523    4900000    2190000   19600000\n",
       "10                6094986    5095000    2650000   19950000\n",
       "11                5640445    4994500    2450000   18500000\n",
       "12                5849192    4990000    1200000   19980000\n",
       "13                5898989    5200000    2370000   19000000\n",
       "14                5526868    4800000    1350000   18990000\n",
       "15                5348814    4800000    1870000   18000000\n",
       "16                5281368    4600000    2590000   19327000\n",
       "17                4880695    4441742    1846648   19900000\n",
       "18                5057004    4300000    1704062   15276000\n",
       "19                4629060    4425000    2400000   12390000\n",
       "20                5789711    5525000    2890000   10487000\n",
       "21                5013075    4600000    2250000   16008000\n",
       "22                5168047    4875000    2080000   15300000\n",
       "23                4198583    4175000    2600000    6800000\n",
       "24                3862235    3480000    2400000    5970000\n",
       "25                3998442    3455000    2620000    7900000\n",
       "26                3575000    3975000    2600000    4150000\n",
       "27                8300000    8300000    2250000   14350000\n",
       "28                4707625    4535000    3413000    7600000\n",
       "29                3325000    3325000    2450000    4200000"
      ]
     },
     "metadata": {},
     "output_type": "display_data"
    }
   ],
   "source": [
    "saintp_price_center = saintp.pivot_table(\n",
    "    index= 'city_center_km',\n",
    "    values= \"last_price\",\n",
    "    aggfunc=['mean', 'median', min, max]\n",
    ").astype('int')\n",
    "display(saintp_price_center)"
   ]
  },
  {
   "cell_type": "markdown",
   "metadata": {},
   "source": [
    "    Нашёл стоимость за каждый километр"
   ]
  },
  {
   "cell_type": "code",
   "execution_count": 104,
   "metadata": {
    "scrolled": false
   },
   "outputs": [
    {
     "data": {
      "image/png": "[encoded data removed]",
      "text/plain": [
       "<Figure size 864x864 with 1 Axes>"
      ]
     },
     "metadata": {
      "needs_background": "light"
     },
     "output_type": "display_data"
    }
   ],
   "source": [
    "saintp_price_center.set_axis(['mean_price', 'median', 'min_price', 'max_price'], \n",
    "                             axis='columns', \n",
    "                             inplace=True\n",
    ")\n",
    "saintp_price_center.plot(style='o-', \n",
    "                         title  = 'Цена\\Удаленность',\n",
    "                         figsize = (12, 12)\n",
    ")\n",
    "plt.legend(loc='upper right')\n",
    "plt.show()"
   ]
  },
  {
   "cell_type": "markdown",
   "metadata": {},
   "source": [
    "    После 3 км, цена выравнивается, считаю это границей центра города"
   ]
  },
  {
   "cell_type": "code",
   "execution_count": 105,
   "metadata": {},
   "outputs": [],
   "source": [
    "center_of_city = good_data.query('city_center_km < 3')"
   ]
  },
  {
   "cell_type": "markdown",
   "metadata": {},
   "source": [
    "    Отдельно выделяю центр"
   ]
  },
  {
   "cell_type": "markdown",
   "metadata": {},
   "source": [
    "### Анализ центра города"
   ]
  },
  {
   "cell_type": "code",
   "execution_count": 106,
   "metadata": {
    "scrolled": true
   },
   "outputs": [
    {
     "data": {
      "text/html": [
       "<div>\n",
       "<style scoped>\n",
       "    .dataframe tbody tr th:only-of-type {\n",
       "        vertical-align: middle;\n",
       "    }\n",
       "\n",
       "    .dataframe tbody tr th {\n",
       "        vertical-align: top;\n",
       "    }\n",
       "\n",
       "    .dataframe thead tr th {\n",
       "        text-align: left;\n",
       "    }\n",
       "\n",
       "    .dataframe thead tr:last-of-type th {\n",
       "        text-align: right;\n",
       "    }\n",
       "</style>\n",
       "<table border=\"1\" class=\"dataframe\">\n",
       "  <thead>\n",
       "    <tr>\n",
       "      <th></th>\n",
       "      <th>mean</th>\n",
       "      <th>median</th>\n",
       "      <th>min</th>\n",
       "      <th>max</th>\n",
       "      <th>count</th>\n",
       "    </tr>\n",
       "    <tr>\n",
       "      <th></th>\n",
       "      <th>total_area</th>\n",
       "      <th>total_area</th>\n",
       "      <th>total_area</th>\n",
       "      <th>total_area</th>\n",
       "      <th>total_area</th>\n",
       "    </tr>\n",
       "    <tr>\n",
       "      <th>city_center_km</th>\n",
       "      <th></th>\n",
       "      <th></th>\n",
       "      <th></th>\n",
       "      <th></th>\n",
       "      <th></th>\n",
       "    </tr>\n",
       "  </thead>\n",
       "  <tbody>\n",
       "    <tr>\n",
       "      <td>0</td>\n",
       "      <td>84</td>\n",
       "      <td>80</td>\n",
       "      <td>33</td>\n",
       "      <td>190</td>\n",
       "      <td>47</td>\n",
       "    </tr>\n",
       "    <tr>\n",
       "      <td>1</td>\n",
       "      <td>84</td>\n",
       "      <td>81</td>\n",
       "      <td>13</td>\n",
       "      <td>182</td>\n",
       "      <td>145</td>\n",
       "    </tr>\n",
       "    <tr>\n",
       "      <td>2</td>\n",
       "      <td>81</td>\n",
       "      <td>77</td>\n",
       "      <td>23</td>\n",
       "      <td>189</td>\n",
       "      <td>192</td>\n",
       "    </tr>\n",
       "  </tbody>\n",
       "</table>\n",
       "</div>"
      ],
      "text/plain": [
       "                     mean     median        min        max      count\n",
       "               total_area total_area total_area total_area total_area\n",
       "city_center_km                                                       \n",
       "0                      84         80         33        190         47\n",
       "1                      84         81         13        182        145\n",
       "2                      81         77         23        189        192"
      ]
     },
     "metadata": {},
     "output_type": "display_data"
    }
   ],
   "source": [
    "center_data_total_area = center_of_city.pivot_table(index='city_center_km', \n",
    "                           values= 'total_area', \n",
    "                           aggfunc=['mean', 'median', min, max, 'count']\n",
    ").astype('int')\n",
    "display(center_data_total_area)\n",
    "#число комнат, этаж, удалённость от центра, дата размещения объявления"
   ]
  },
  {
   "cell_type": "markdown",
   "metadata": {},
   "source": [
    "    Площадь при удалении от центра уменьшается"
   ]
  },
  {
   "cell_type": "code",
   "execution_count": 107,
   "metadata": {
    "scrolled": true
   },
   "outputs": [
    {
     "data": {
      "text/html": [
       "<div>\n",
       "<style scoped>\n",
       "    .dataframe tbody tr th:only-of-type {\n",
       "        vertical-align: middle;\n",
       "    }\n",
       "\n",
       "    .dataframe tbody tr th {\n",
       "        vertical-align: top;\n",
       "    }\n",
       "\n",
       "    .dataframe thead tr th {\n",
       "        text-align: left;\n",
       "    }\n",
       "\n",
       "    .dataframe thead tr:last-of-type th {\n",
       "        text-align: right;\n",
       "    }\n",
       "</style>\n",
       "<table border=\"1\" class=\"dataframe\">\n",
       "  <thead>\n",
       "    <tr>\n",
       "      <th></th>\n",
       "      <th>mean</th>\n",
       "      <th>median</th>\n",
       "      <th>min</th>\n",
       "      <th>max</th>\n",
       "      <th>count</th>\n",
       "    </tr>\n",
       "    <tr>\n",
       "      <th></th>\n",
       "      <th>last_price</th>\n",
       "      <th>last_price</th>\n",
       "      <th>last_price</th>\n",
       "      <th>last_price</th>\n",
       "      <th>last_price</th>\n",
       "    </tr>\n",
       "    <tr>\n",
       "      <th>city_center_km</th>\n",
       "      <th></th>\n",
       "      <th></th>\n",
       "      <th></th>\n",
       "      <th></th>\n",
       "      <th></th>\n",
       "    </tr>\n",
       "  </thead>\n",
       "  <tbody>\n",
       "    <tr>\n",
       "      <td>0</td>\n",
       "      <td>10247617</td>\n",
       "      <td>9500000</td>\n",
       "      <td>5300000</td>\n",
       "      <td>19500000</td>\n",
       "      <td>47</td>\n",
       "    </tr>\n",
       "    <tr>\n",
       "      <td>1</td>\n",
       "      <td>9997420</td>\n",
       "      <td>9300000</td>\n",
       "      <td>3380000</td>\n",
       "      <td>19900000</td>\n",
       "      <td>145</td>\n",
       "    </tr>\n",
       "    <tr>\n",
       "      <td>2</td>\n",
       "      <td>8951650</td>\n",
       "      <td>8285000</td>\n",
       "      <td>2645000</td>\n",
       "      <td>19700000</td>\n",
       "      <td>192</td>\n",
       "    </tr>\n",
       "  </tbody>\n",
       "</table>\n",
       "</div>"
      ],
      "text/plain": [
       "                     mean     median        min        max      count\n",
       "               last_price last_price last_price last_price last_price\n",
       "city_center_km                                                       \n",
       "0                10247617    9500000    5300000   19500000         47\n",
       "1                 9997420    9300000    3380000   19900000        145\n",
       "2                 8951650    8285000    2645000   19700000        192"
      ]
     },
     "metadata": {},
     "output_type": "display_data"
    }
   ],
   "source": [
    "center_data_last_price = center_of_city.pivot_table(index='city_center_km', \n",
    "                           values= 'last_price', \n",
    "                           aggfunc=['mean', 'median', min, max, 'count']\n",
    ").astype('int')\n",
    "display(center_data_last_price)"
   ]
  },
  {
   "cell_type": "markdown",
   "metadata": {},
   "source": [
    "    Цена уменьшается при удалении от центра"
   ]
  },
  {
   "cell_type": "code",
   "execution_count": 108,
   "metadata": {},
   "outputs": [
    {
     "data": {
      "text/html": [
       "<div>\n",
       "<style scoped>\n",
       "    .dataframe tbody tr th:only-of-type {\n",
       "        vertical-align: middle;\n",
       "    }\n",
       "\n",
       "    .dataframe tbody tr th {\n",
       "        vertical-align: top;\n",
       "    }\n",
       "\n",
       "    .dataframe thead tr th {\n",
       "        text-align: left;\n",
       "    }\n",
       "\n",
       "    .dataframe thead tr:last-of-type th {\n",
       "        text-align: right;\n",
       "    }\n",
       "</style>\n",
       "<table border=\"1\" class=\"dataframe\">\n",
       "  <thead>\n",
       "    <tr>\n",
       "      <th></th>\n",
       "      <th>mean</th>\n",
       "      <th>median</th>\n",
       "      <th>min</th>\n",
       "      <th>max</th>\n",
       "      <th>count</th>\n",
       "    </tr>\n",
       "    <tr>\n",
       "      <th></th>\n",
       "      <th>rooms</th>\n",
       "      <th>rooms</th>\n",
       "      <th>rooms</th>\n",
       "      <th>rooms</th>\n",
       "      <th>rooms</th>\n",
       "    </tr>\n",
       "    <tr>\n",
       "      <th>city_center_km</th>\n",
       "      <th></th>\n",
       "      <th></th>\n",
       "      <th></th>\n",
       "      <th></th>\n",
       "      <th></th>\n",
       "    </tr>\n",
       "  </thead>\n",
       "  <tbody>\n",
       "    <tr>\n",
       "      <td>0</td>\n",
       "      <td>2</td>\n",
       "      <td>3</td>\n",
       "      <td>1</td>\n",
       "      <td>6</td>\n",
       "      <td>47</td>\n",
       "    </tr>\n",
       "    <tr>\n",
       "      <td>1</td>\n",
       "      <td>2</td>\n",
       "      <td>3</td>\n",
       "      <td>1</td>\n",
       "      <td>6</td>\n",
       "      <td>145</td>\n",
       "    </tr>\n",
       "    <tr>\n",
       "      <td>2</td>\n",
       "      <td>2</td>\n",
       "      <td>3</td>\n",
       "      <td>1</td>\n",
       "      <td>7</td>\n",
       "      <td>192</td>\n",
       "    </tr>\n",
       "  </tbody>\n",
       "</table>\n",
       "</div>"
      ],
      "text/plain": [
       "                mean median   min   max count\n",
       "               rooms  rooms rooms rooms rooms\n",
       "city_center_km                               \n",
       "0                  2      3     1     6    47\n",
       "1                  2      3     1     6   145\n",
       "2                  2      3     1     7   192"
      ]
     },
     "metadata": {},
     "output_type": "display_data"
    }
   ],
   "source": [
    "center_data_rooms = center_of_city.pivot_table(index='city_center_km', \n",
    "                           values= 'rooms', \n",
    "                           aggfunc=['mean', 'median', min, max, 'count']\n",
    ").astype('int')\n",
    "display(center_data_rooms)"
   ]
  },
  {
   "cell_type": "markdown",
   "metadata": {},
   "source": [
    "    Среднее кличество комнат почти не меняетя, максимальное количество меняется неравномерно "
   ]
  },
  {
   "cell_type": "code",
   "execution_count": 109,
   "metadata": {},
   "outputs": [
    {
     "data": {
      "text/html": [
       "<div>\n",
       "<style scoped>\n",
       "    .dataframe tbody tr th:only-of-type {\n",
       "        vertical-align: middle;\n",
       "    }\n",
       "\n",
       "    .dataframe tbody tr th {\n",
       "        vertical-align: top;\n",
       "    }\n",
       "\n",
       "    .dataframe thead tr th {\n",
       "        text-align: left;\n",
       "    }\n",
       "\n",
       "    .dataframe thead tr:last-of-type th {\n",
       "        text-align: right;\n",
       "    }\n",
       "</style>\n",
       "<table border=\"1\" class=\"dataframe\">\n",
       "  <thead>\n",
       "    <tr>\n",
       "      <th></th>\n",
       "      <th>mean</th>\n",
       "      <th>median</th>\n",
       "      <th>min</th>\n",
       "      <th>max</th>\n",
       "      <th>count</th>\n",
       "    </tr>\n",
       "    <tr>\n",
       "      <th></th>\n",
       "      <th>ceiling_height</th>\n",
       "      <th>ceiling_height</th>\n",
       "      <th>ceiling_height</th>\n",
       "      <th>ceiling_height</th>\n",
       "      <th>ceiling_height</th>\n",
       "    </tr>\n",
       "    <tr>\n",
       "      <th>city_center_km</th>\n",
       "      <th></th>\n",
       "      <th></th>\n",
       "      <th></th>\n",
       "      <th></th>\n",
       "      <th></th>\n",
       "    </tr>\n",
       "  </thead>\n",
       "  <tbody>\n",
       "    <tr>\n",
       "      <td>0</td>\n",
       "      <td>3</td>\n",
       "      <td>3</td>\n",
       "      <td>2</td>\n",
       "      <td>4</td>\n",
       "      <td>47</td>\n",
       "    </tr>\n",
       "    <tr>\n",
       "      <td>1</td>\n",
       "      <td>3</td>\n",
       "      <td>3</td>\n",
       "      <td>2</td>\n",
       "      <td>5</td>\n",
       "      <td>145</td>\n",
       "    </tr>\n",
       "    <tr>\n",
       "      <td>2</td>\n",
       "      <td>3</td>\n",
       "      <td>3</td>\n",
       "      <td>2</td>\n",
       "      <td>4</td>\n",
       "      <td>192</td>\n",
       "    </tr>\n",
       "  </tbody>\n",
       "</table>\n",
       "</div>"
      ],
      "text/plain": [
       "                         mean         median            min            max  \\\n",
       "               ceiling_height ceiling_height ceiling_height ceiling_height   \n",
       "city_center_km                                                               \n",
       "0                           3              3              2              4   \n",
       "1                           3              3              2              5   \n",
       "2                           3              3              2              4   \n",
       "\n",
       "                        count  \n",
       "               ceiling_height  \n",
       "city_center_km                 \n",
       "0                          47  \n",
       "1                         145  \n",
       "2                         192  "
      ]
     },
     "metadata": {},
     "output_type": "display_data"
    }
   ],
   "source": [
    "center_data_ceiling_height = center_of_city.pivot_table(index='city_center_km', \n",
    "                           values= 'ceiling_height', \n",
    "                           aggfunc=['mean', 'median', min, max, 'count']\n",
    ").astype('int')\n",
    "display(center_data_ceiling_height)"
   ]
  },
  {
   "cell_type": "markdown",
   "metadata": {},
   "source": [
    "    Средняя высота потолков почти не меняется, а максимальная меняется неравномерно "
   ]
  },
  {
   "cell_type": "code",
   "execution_count": 110,
   "metadata": {
    "scrolled": true
   },
   "outputs": [
    {
     "data": {
      "text/html": [
       "<div>\n",
       "<style scoped>\n",
       "    .dataframe tbody tr th:only-of-type {\n",
       "        vertical-align: middle;\n",
       "    }\n",
       "\n",
       "    .dataframe tbody tr th {\n",
       "        vertical-align: top;\n",
       "    }\n",
       "\n",
       "    .dataframe thead th {\n",
       "        text-align: right;\n",
       "    }\n",
       "</style>\n",
       "<table border=\"1\" class=\"dataframe\">\n",
       "  <thead>\n",
       "    <tr style=\"text-align: right;\">\n",
       "      <th></th>\n",
       "      <th>mean_price</th>\n",
       "      <th>median_price</th>\n",
       "      <th>min_price</th>\n",
       "      <th>max_price</th>\n",
       "    </tr>\n",
       "    <tr>\n",
       "      <th>rooms</th>\n",
       "      <th></th>\n",
       "      <th></th>\n",
       "      <th></th>\n",
       "      <th></th>\n",
       "    </tr>\n",
       "  </thead>\n",
       "  <tbody>\n",
       "    <tr>\n",
       "      <td>1</td>\n",
       "      <td>6302628</td>\n",
       "      <td>5300000</td>\n",
       "      <td>2645000</td>\n",
       "      <td>14900000</td>\n",
       "    </tr>\n",
       "    <tr>\n",
       "      <td>2</td>\n",
       "      <td>8077608</td>\n",
       "      <td>7370000</td>\n",
       "      <td>3999000</td>\n",
       "      <td>17100000</td>\n",
       "    </tr>\n",
       "    <tr>\n",
       "      <td>3</td>\n",
       "      <td>10037836</td>\n",
       "      <td>9100000</td>\n",
       "      <td>4900000</td>\n",
       "      <td>19900000</td>\n",
       "    </tr>\n",
       "    <tr>\n",
       "      <td>4</td>\n",
       "      <td>10901500</td>\n",
       "      <td>10250000</td>\n",
       "      <td>6990000</td>\n",
       "      <td>18700000</td>\n",
       "    </tr>\n",
       "    <tr>\n",
       "      <td>5</td>\n",
       "      <td>13160791</td>\n",
       "      <td>12265000</td>\n",
       "      <td>9500000</td>\n",
       "      <td>19500000</td>\n",
       "    </tr>\n",
       "    <tr>\n",
       "      <td>6</td>\n",
       "      <td>13602500</td>\n",
       "      <td>13250000</td>\n",
       "      <td>4390000</td>\n",
       "      <td>19500000</td>\n",
       "    </tr>\n",
       "    <tr>\n",
       "      <td>7</td>\n",
       "      <td>16000000</td>\n",
       "      <td>16000000</td>\n",
       "      <td>16000000</td>\n",
       "      <td>16000000</td>\n",
       "    </tr>\n",
       "  </tbody>\n",
       "</table>\n",
       "</div>"
      ],
      "text/plain": [
       "       mean_price  median_price  min_price  max_price\n",
       "rooms                                                \n",
       "1         6302628       5300000    2645000   14900000\n",
       "2         8077608       7370000    3999000   17100000\n",
       "3        10037836       9100000    4900000   19900000\n",
       "4        10901500      10250000    6990000   18700000\n",
       "5        13160791      12265000    9500000   19500000\n",
       "6        13602500      13250000    4390000   19500000\n",
       "7        16000000      16000000   16000000   16000000"
      ]
     },
     "metadata": {},
     "output_type": "display_data"
    }
   ],
   "source": [
    "center_price_rooms = center_of_city.pivot_table(index='rooms', \n",
    "                           values= 'last_price', \n",
    "                           aggfunc=['mean', 'median', min, max]\n",
    ").astype('int')\n",
    "\n",
    "\n",
    "center_price_rooms.set_axis(['mean_price', 'median_price', 'min_price', 'max_price'], \n",
    "                             axis='columns', \n",
    "                             inplace=True\n",
    ")\n",
    "display(center_price_rooms)"
   ]
  },
  {
   "cell_type": "markdown",
   "metadata": {},
   "source": [
    "    Изменение цены - линейное, больше комнат - квартира дороже"
   ]
  },
  {
   "cell_type": "code",
   "execution_count": 111,
   "metadata": {},
   "outputs": [
    {
     "data": {
      "image/png": "[encoded data removed]",
      "text/plain": [
       "<Figure size 432x288 with 1 Axes>"
      ]
     },
     "metadata": {
      "needs_background": "light"
     },
     "output_type": "display_data"
    }
   ],
   "source": [
    "center_price_rooms.plot(title = 'Комнаты\\Цены',grid=True, legend=True)\n",
    "plt.show()"
   ]
  },
  {
   "cell_type": "code",
   "execution_count": 112,
   "metadata": {},
   "outputs": [
    {
     "data": {
      "text/html": [
       "<div>\n",
       "<style scoped>\n",
       "    .dataframe tbody tr th:only-of-type {\n",
       "        vertical-align: middle;\n",
       "    }\n",
       "\n",
       "    .dataframe tbody tr th {\n",
       "        vertical-align: top;\n",
       "    }\n",
       "\n",
       "    .dataframe thead tr th {\n",
       "        text-align: left;\n",
       "    }\n",
       "\n",
       "    .dataframe thead tr:last-of-type th {\n",
       "        text-align: right;\n",
       "    }\n",
       "</style>\n",
       "<table border=\"1\" class=\"dataframe\">\n",
       "  <thead>\n",
       "    <tr>\n",
       "      <th></th>\n",
       "      <th>mean</th>\n",
       "      <th>median</th>\n",
       "      <th>min</th>\n",
       "      <th>max</th>\n",
       "      <th>count</th>\n",
       "    </tr>\n",
       "    <tr>\n",
       "      <th></th>\n",
       "      <th>last_price</th>\n",
       "      <th>last_price</th>\n",
       "      <th>last_price</th>\n",
       "      <th>last_price</th>\n",
       "      <th>last_price</th>\n",
       "    </tr>\n",
       "    <tr>\n",
       "      <th>floor_info</th>\n",
       "      <th></th>\n",
       "      <th></th>\n",
       "      <th></th>\n",
       "      <th></th>\n",
       "      <th></th>\n",
       "    </tr>\n",
       "  </thead>\n",
       "  <tbody>\n",
       "    <tr>\n",
       "      <td>другой</td>\n",
       "      <td>10005689</td>\n",
       "      <td>9375000</td>\n",
       "      <td>2645000</td>\n",
       "      <td>19900000</td>\n",
       "      <td>222</td>\n",
       "    </tr>\n",
       "    <tr>\n",
       "      <td>первый</td>\n",
       "      <td>7703123</td>\n",
       "      <td>7000000</td>\n",
       "      <td>2750000</td>\n",
       "      <td>17000000</td>\n",
       "      <td>64</td>\n",
       "    </tr>\n",
       "    <tr>\n",
       "      <td>последний</td>\n",
       "      <td>9548142</td>\n",
       "      <td>8905000</td>\n",
       "      <td>4350000</td>\n",
       "      <td>19700000</td>\n",
       "      <td>98</td>\n",
       "    </tr>\n",
       "  </tbody>\n",
       "</table>\n",
       "</div>"
      ],
      "text/plain": [
       "                 mean     median        min        max      count\n",
       "           last_price last_price last_price last_price last_price\n",
       "floor_info                                                       \n",
       "другой       10005689    9375000    2645000   19900000        222\n",
       "первый        7703123    7000000    2750000   17000000         64\n",
       "последний     9548142    8905000    4350000   19700000         98"
      ]
     },
     "metadata": {},
     "output_type": "display_data"
    }
   ],
   "source": [
    "center_price_floor = center_of_city.pivot_table(index='floor_info', \n",
    "                           values= 'last_price', \n",
    "                           aggfunc=['mean', 'median', min, max, 'count']\n",
    ").astype('int')\n",
    "display(center_price_floor)"
   ]
  },
  {
   "cell_type": "markdown",
   "metadata": {},
   "source": [
    "    Первый этаж самый дешевый, затем - последний и прочие"
   ]
  },
  {
   "cell_type": "code",
   "execution_count": 113,
   "metadata": {},
   "outputs": [
    {
     "data": {
      "text/html": [
       "<div>\n",
       "<style scoped>\n",
       "    .dataframe tbody tr th:only-of-type {\n",
       "        vertical-align: middle;\n",
       "    }\n",
       "\n",
       "    .dataframe tbody tr th {\n",
       "        vertical-align: top;\n",
       "    }\n",
       "\n",
       "    .dataframe thead tr th {\n",
       "        text-align: left;\n",
       "    }\n",
       "\n",
       "    .dataframe thead tr:last-of-type th {\n",
       "        text-align: right;\n",
       "    }\n",
       "</style>\n",
       "<table border=\"1\" class=\"dataframe\">\n",
       "  <thead>\n",
       "    <tr>\n",
       "      <th></th>\n",
       "      <th>mean</th>\n",
       "      <th>median</th>\n",
       "      <th>min</th>\n",
       "      <th>max</th>\n",
       "      <th>count</th>\n",
       "    </tr>\n",
       "    <tr>\n",
       "      <th></th>\n",
       "      <th>last_price</th>\n",
       "      <th>last_price</th>\n",
       "      <th>last_price</th>\n",
       "      <th>last_price</th>\n",
       "      <th>last_price</th>\n",
       "    </tr>\n",
       "    <tr>\n",
       "      <th>city_center_km</th>\n",
       "      <th></th>\n",
       "      <th></th>\n",
       "      <th></th>\n",
       "      <th></th>\n",
       "      <th></th>\n",
       "    </tr>\n",
       "  </thead>\n",
       "  <tbody>\n",
       "    <tr>\n",
       "      <td>0</td>\n",
       "      <td>10247617</td>\n",
       "      <td>9500000</td>\n",
       "      <td>5300000</td>\n",
       "      <td>19500000</td>\n",
       "      <td>47</td>\n",
       "    </tr>\n",
       "    <tr>\n",
       "      <td>1</td>\n",
       "      <td>9997420</td>\n",
       "      <td>9300000</td>\n",
       "      <td>3380000</td>\n",
       "      <td>19900000</td>\n",
       "      <td>145</td>\n",
       "    </tr>\n",
       "    <tr>\n",
       "      <td>2</td>\n",
       "      <td>8951650</td>\n",
       "      <td>8285000</td>\n",
       "      <td>2645000</td>\n",
       "      <td>19700000</td>\n",
       "      <td>192</td>\n",
       "    </tr>\n",
       "  </tbody>\n",
       "</table>\n",
       "</div>"
      ],
      "text/plain": [
       "                     mean     median        min        max      count\n",
       "               last_price last_price last_price last_price last_price\n",
       "city_center_km                                                       \n",
       "0                10247617    9500000    5300000   19500000         47\n",
       "1                 9997420    9300000    3380000   19900000        145\n",
       "2                 8951650    8285000    2645000   19700000        192"
      ]
     },
     "metadata": {},
     "output_type": "display_data"
    }
   ],
   "source": [
    "center_price_km = center_of_city.pivot_table(index='city_center_km', \n",
    "                           values= 'last_price', \n",
    "                           aggfunc=['mean', 'median', min, max, 'count']\n",
    ").astype('int')\n",
    "display(center_price_km)"
   ]
  },
  {
   "cell_type": "code",
   "execution_count": 114,
   "metadata": {},
   "outputs": [
    {
     "data": {
      "text/html": [
       "<div>\n",
       "<style scoped>\n",
       "    .dataframe tbody tr th:only-of-type {\n",
       "        vertical-align: middle;\n",
       "    }\n",
       "\n",
       "    .dataframe tbody tr th {\n",
       "        vertical-align: top;\n",
       "    }\n",
       "\n",
       "    .dataframe thead tr th {\n",
       "        text-align: left;\n",
       "    }\n",
       "\n",
       "    .dataframe thead tr:last-of-type th {\n",
       "        text-align: right;\n",
       "    }\n",
       "</style>\n",
       "<table border=\"1\" class=\"dataframe\">\n",
       "  <thead>\n",
       "    <tr>\n",
       "      <th></th>\n",
       "      <th>mean</th>\n",
       "      <th>median</th>\n",
       "      <th>min</th>\n",
       "      <th>max</th>\n",
       "      <th>count</th>\n",
       "    </tr>\n",
       "    <tr>\n",
       "      <th></th>\n",
       "      <th>last_price</th>\n",
       "      <th>last_price</th>\n",
       "      <th>last_price</th>\n",
       "      <th>last_price</th>\n",
       "      <th>last_price</th>\n",
       "    </tr>\n",
       "    <tr>\n",
       "      <th>first_day_exposition</th>\n",
       "      <th></th>\n",
       "      <th></th>\n",
       "      <th></th>\n",
       "      <th></th>\n",
       "      <th></th>\n",
       "    </tr>\n",
       "  </thead>\n",
       "  <tbody>\n",
       "    <tr>\n",
       "      <td>2015-01-14</td>\n",
       "      <td>8200000</td>\n",
       "      <td>8200000</td>\n",
       "      <td>8200000</td>\n",
       "      <td>8200000</td>\n",
       "      <td>1</td>\n",
       "    </tr>\n",
       "    <tr>\n",
       "      <td>2015-01-16</td>\n",
       "      <td>13700000</td>\n",
       "      <td>13700000</td>\n",
       "      <td>13700000</td>\n",
       "      <td>13700000</td>\n",
       "      <td>1</td>\n",
       "    </tr>\n",
       "    <tr>\n",
       "      <td>2015-01-21</td>\n",
       "      <td>8700000</td>\n",
       "      <td>8700000</td>\n",
       "      <td>8700000</td>\n",
       "      <td>8700000</td>\n",
       "      <td>1</td>\n",
       "    </tr>\n",
       "    <tr>\n",
       "      <td>2015-02-11</td>\n",
       "      <td>6300000</td>\n",
       "      <td>6300000</td>\n",
       "      <td>6300000</td>\n",
       "      <td>6300000</td>\n",
       "      <td>1</td>\n",
       "    </tr>\n",
       "    <tr>\n",
       "      <td>2015-04-06</td>\n",
       "      <td>13400000</td>\n",
       "      <td>13400000</td>\n",
       "      <td>13400000</td>\n",
       "      <td>13400000</td>\n",
       "      <td>1</td>\n",
       "    </tr>\n",
       "    <tr>\n",
       "      <td>...</td>\n",
       "      <td>...</td>\n",
       "      <td>...</td>\n",
       "      <td>...</td>\n",
       "      <td>...</td>\n",
       "      <td>...</td>\n",
       "    </tr>\n",
       "    <tr>\n",
       "      <td>2019-02-25</td>\n",
       "      <td>15900000</td>\n",
       "      <td>15900000</td>\n",
       "      <td>15900000</td>\n",
       "      <td>15900000</td>\n",
       "      <td>1</td>\n",
       "    </tr>\n",
       "    <tr>\n",
       "      <td>2019-03-22</td>\n",
       "      <td>10999000</td>\n",
       "      <td>10999000</td>\n",
       "      <td>10999000</td>\n",
       "      <td>10999000</td>\n",
       "      <td>1</td>\n",
       "    </tr>\n",
       "    <tr>\n",
       "      <td>2019-04-01</td>\n",
       "      <td>12200000</td>\n",
       "      <td>12200000</td>\n",
       "      <td>12200000</td>\n",
       "      <td>12200000</td>\n",
       "      <td>1</td>\n",
       "    </tr>\n",
       "    <tr>\n",
       "      <td>2019-04-04</td>\n",
       "      <td>6900000</td>\n",
       "      <td>6900000</td>\n",
       "      <td>6900000</td>\n",
       "      <td>6900000</td>\n",
       "      <td>1</td>\n",
       "    </tr>\n",
       "    <tr>\n",
       "      <td>2019-04-05</td>\n",
       "      <td>9900000</td>\n",
       "      <td>9900000</td>\n",
       "      <td>9900000</td>\n",
       "      <td>9900000</td>\n",
       "      <td>1</td>\n",
       "    </tr>\n",
       "  </tbody>\n",
       "</table>\n",
       "<p>301 rows × 5 columns</p>\n",
       "</div>"
      ],
      "text/plain": [
       "                           mean     median        min        max      count\n",
       "                     last_price last_price last_price last_price last_price\n",
       "first_day_exposition                                                       \n",
       "2015-01-14              8200000    8200000    8200000    8200000          1\n",
       "2015-01-16             13700000   13700000   13700000   13700000          1\n",
       "2015-01-21              8700000    8700000    8700000    8700000          1\n",
       "2015-02-11              6300000    6300000    6300000    6300000          1\n",
       "2015-04-06             13400000   13400000   13400000   13400000          1\n",
       "...                         ...        ...        ...        ...        ...\n",
       "2019-02-25             15900000   15900000   15900000   15900000          1\n",
       "2019-03-22             10999000   10999000   10999000   10999000          1\n",
       "2019-04-01             12200000   12200000   12200000   12200000          1\n",
       "2019-04-04              6900000    6900000    6900000    6900000          1\n",
       "2019-04-05              9900000    9900000    9900000    9900000          1\n",
       "\n",
       "[301 rows x 5 columns]"
      ]
     },
     "metadata": {},
     "output_type": "display_data"
    }
   ],
   "source": [
    "center_price_date = center_of_city.pivot_table(index='first_day_exposition', \n",
    "                           values= 'last_price', \n",
    "                           aggfunc=['mean', 'median', min, max, 'count']\n",
    ").astype('int')\n",
    "display(center_price_date)"
   ]
  },
  {
   "cell_type": "code",
   "execution_count": 115,
   "metadata": {
    "scrolled": true
   },
   "outputs": [
    {
     "data": {
      "text/html": [
       "<div>\n",
       "<style scoped>\n",
       "    .dataframe tbody tr th:only-of-type {\n",
       "        vertical-align: middle;\n",
       "    }\n",
       "\n",
       "    .dataframe tbody tr th {\n",
       "        vertical-align: top;\n",
       "    }\n",
       "\n",
       "    .dataframe thead tr th {\n",
       "        text-align: left;\n",
       "    }\n",
       "\n",
       "    .dataframe thead tr:last-of-type th {\n",
       "        text-align: right;\n",
       "    }\n",
       "</style>\n",
       "<table border=\"1\" class=\"dataframe\">\n",
       "  <thead>\n",
       "    <tr>\n",
       "      <th></th>\n",
       "      <th>mean</th>\n",
       "      <th>median</th>\n",
       "      <th>min</th>\n",
       "      <th>max</th>\n",
       "      <th>count</th>\n",
       "    </tr>\n",
       "    <tr>\n",
       "      <th></th>\n",
       "      <th>last_price</th>\n",
       "      <th>last_price</th>\n",
       "      <th>last_price</th>\n",
       "      <th>last_price</th>\n",
       "      <th>last_price</th>\n",
       "    </tr>\n",
       "    <tr>\n",
       "      <th>year</th>\n",
       "      <th></th>\n",
       "      <th></th>\n",
       "      <th></th>\n",
       "      <th></th>\n",
       "      <th></th>\n",
       "    </tr>\n",
       "  </thead>\n",
       "  <tbody>\n",
       "    <tr>\n",
       "      <td>2015</td>\n",
       "      <td>9625615</td>\n",
       "      <td>8589000</td>\n",
       "      <td>4390000</td>\n",
       "      <td>18900000</td>\n",
       "      <td>39</td>\n",
       "    </tr>\n",
       "    <tr>\n",
       "      <td>2016</td>\n",
       "      <td>10204142</td>\n",
       "      <td>9900000</td>\n",
       "      <td>2750000</td>\n",
       "      <td>18700000</td>\n",
       "      <td>70</td>\n",
       "    </tr>\n",
       "    <tr>\n",
       "      <td>2017</td>\n",
       "      <td>9307611</td>\n",
       "      <td>8725000</td>\n",
       "      <td>3380000</td>\n",
       "      <td>19900000</td>\n",
       "      <td>160</td>\n",
       "    </tr>\n",
       "    <tr>\n",
       "      <td>2018</td>\n",
       "      <td>9136778</td>\n",
       "      <td>8400000</td>\n",
       "      <td>2645000</td>\n",
       "      <td>19500000</td>\n",
       "      <td>104</td>\n",
       "    </tr>\n",
       "    <tr>\n",
       "      <td>2019</td>\n",
       "      <td>10986272</td>\n",
       "      <td>10999000</td>\n",
       "      <td>6900000</td>\n",
       "      <td>15900000</td>\n",
       "      <td>11</td>\n",
       "    </tr>\n",
       "  </tbody>\n",
       "</table>\n",
       "</div>"
      ],
      "text/plain": [
       "           mean     median        min        max      count\n",
       "     last_price last_price last_price last_price last_price\n",
       "year                                                       \n",
       "2015    9625615    8589000    4390000   18900000         39\n",
       "2016   10204142    9900000    2750000   18700000         70\n",
       "2017    9307611    8725000    3380000   19900000        160\n",
       "2018    9136778    8400000    2645000   19500000        104\n",
       "2019   10986272   10999000    6900000   15900000         11"
      ]
     },
     "metadata": {},
     "output_type": "display_data"
    }
   ],
   "source": [
    "center_price_year = center_of_city.pivot_table(index='year', \n",
    "                           values= 'last_price', \n",
    "                           aggfunc=['mean', 'median', min, max, 'count']\n",
    ").astype('int')\n",
    "display(center_price_year)"
   ]
  },
  {
   "cell_type": "markdown",
   "metadata": {},
   "source": [
    "    В среднем квартиры дешевели от года к году, но максимальные цены почти не менялись"
   ]
  },
  {
   "cell_type": "code",
   "execution_count": 116,
   "metadata": {
    "scrolled": true
   },
   "outputs": [
    {
     "data": {
      "text/html": [
       "<div>\n",
       "<style scoped>\n",
       "    .dataframe tbody tr th:only-of-type {\n",
       "        vertical-align: middle;\n",
       "    }\n",
       "\n",
       "    .dataframe tbody tr th {\n",
       "        vertical-align: top;\n",
       "    }\n",
       "\n",
       "    .dataframe thead tr th {\n",
       "        text-align: left;\n",
       "    }\n",
       "\n",
       "    .dataframe thead tr:last-of-type th {\n",
       "        text-align: right;\n",
       "    }\n",
       "</style>\n",
       "<table border=\"1\" class=\"dataframe\">\n",
       "  <thead>\n",
       "    <tr>\n",
       "      <th></th>\n",
       "      <th>mean</th>\n",
       "      <th>median</th>\n",
       "      <th>min</th>\n",
       "      <th>max</th>\n",
       "      <th>count</th>\n",
       "    </tr>\n",
       "    <tr>\n",
       "      <th></th>\n",
       "      <th>last_price</th>\n",
       "      <th>last_price</th>\n",
       "      <th>last_price</th>\n",
       "      <th>last_price</th>\n",
       "      <th>last_price</th>\n",
       "    </tr>\n",
       "    <tr>\n",
       "      <th>month</th>\n",
       "      <th></th>\n",
       "      <th></th>\n",
       "      <th></th>\n",
       "      <th></th>\n",
       "      <th></th>\n",
       "    </tr>\n",
       "  </thead>\n",
       "  <tbody>\n",
       "    <tr>\n",
       "      <td>1</td>\n",
       "      <td>9455333</td>\n",
       "      <td>8309000</td>\n",
       "      <td>3380000</td>\n",
       "      <td>19900000</td>\n",
       "      <td>24</td>\n",
       "    </tr>\n",
       "    <tr>\n",
       "      <td>2</td>\n",
       "      <td>10080659</td>\n",
       "      <td>9000000</td>\n",
       "      <td>4300000</td>\n",
       "      <td>19700000</td>\n",
       "      <td>44</td>\n",
       "    </tr>\n",
       "    <tr>\n",
       "      <td>3</td>\n",
       "      <td>9459241</td>\n",
       "      <td>9300000</td>\n",
       "      <td>3290000</td>\n",
       "      <td>14950000</td>\n",
       "      <td>29</td>\n",
       "    </tr>\n",
       "    <tr>\n",
       "      <td>4</td>\n",
       "      <td>9745264</td>\n",
       "      <td>9425000</td>\n",
       "      <td>4390000</td>\n",
       "      <td>19500000</td>\n",
       "      <td>34</td>\n",
       "    </tr>\n",
       "    <tr>\n",
       "      <td>5</td>\n",
       "      <td>10070083</td>\n",
       "      <td>9670000</td>\n",
       "      <td>2750000</td>\n",
       "      <td>19000000</td>\n",
       "      <td>24</td>\n",
       "    </tr>\n",
       "    <tr>\n",
       "      <td>6</td>\n",
       "      <td>9639185</td>\n",
       "      <td>8600000</td>\n",
       "      <td>4250000</td>\n",
       "      <td>19500000</td>\n",
       "      <td>27</td>\n",
       "    </tr>\n",
       "    <tr>\n",
       "      <td>7</td>\n",
       "      <td>8860444</td>\n",
       "      <td>8900000</td>\n",
       "      <td>3200000</td>\n",
       "      <td>18000000</td>\n",
       "      <td>45</td>\n",
       "    </tr>\n",
       "    <tr>\n",
       "      <td>8</td>\n",
       "      <td>8905916</td>\n",
       "      <td>8275000</td>\n",
       "      <td>3999000</td>\n",
       "      <td>15500000</td>\n",
       "      <td>24</td>\n",
       "    </tr>\n",
       "    <tr>\n",
       "      <td>9</td>\n",
       "      <td>9153444</td>\n",
       "      <td>9100000</td>\n",
       "      <td>3990900</td>\n",
       "      <td>14450000</td>\n",
       "      <td>38</td>\n",
       "    </tr>\n",
       "    <tr>\n",
       "      <td>10</td>\n",
       "      <td>10401612</td>\n",
       "      <td>8700000</td>\n",
       "      <td>4100000</td>\n",
       "      <td>18900000</td>\n",
       "      <td>31</td>\n",
       "    </tr>\n",
       "    <tr>\n",
       "      <td>11</td>\n",
       "      <td>8708305</td>\n",
       "      <td>7865000</td>\n",
       "      <td>4250000</td>\n",
       "      <td>18500000</td>\n",
       "      <td>36</td>\n",
       "    </tr>\n",
       "    <tr>\n",
       "      <td>12</td>\n",
       "      <td>9845178</td>\n",
       "      <td>9150000</td>\n",
       "      <td>2645000</td>\n",
       "      <td>19000000</td>\n",
       "      <td>28</td>\n",
       "    </tr>\n",
       "  </tbody>\n",
       "</table>\n",
       "</div>"
      ],
      "text/plain": [
       "            mean     median        min        max      count\n",
       "      last_price last_price last_price last_price last_price\n",
       "month                                                       \n",
       "1        9455333    8309000    3380000   19900000         24\n",
       "2       10080659    9000000    4300000   19700000         44\n",
       "3        9459241    9300000    3290000   14950000         29\n",
       "4        9745264    9425000    4390000   19500000         34\n",
       "5       10070083    9670000    2750000   19000000         24\n",
       "6        9639185    8600000    4250000   19500000         27\n",
       "7        8860444    8900000    3200000   18000000         45\n",
       "8        8905916    8275000    3999000   15500000         24\n",
       "9        9153444    9100000    3990900   14450000         38\n",
       "10      10401612    8700000    4100000   18900000         31\n",
       "11       8708305    7865000    4250000   18500000         36\n",
       "12       9845178    9150000    2645000   19000000         28"
      ]
     },
     "metadata": {},
     "output_type": "display_data"
    }
   ],
   "source": [
    "center_price_month = center_of_city.pivot_table(index='month', \n",
    "                           values= 'last_price', \n",
    "                           aggfunc=['mean', 'median', min, max, 'count']\n",
    ").astype('int')\n",
    "display(center_price_month)"
   ]
  },
  {
   "cell_type": "markdown",
   "metadata": {},
   "source": [
    "    В зависимости от месяца есть разница в среднем, хотя не значительно, максимальная почти не менялась"
   ]
  },
  {
   "cell_type": "code",
   "execution_count": 117,
   "metadata": {},
   "outputs": [
    {
     "data": {
      "text/html": [
       "<div>\n",
       "<style scoped>\n",
       "    .dataframe tbody tr th:only-of-type {\n",
       "        vertical-align: middle;\n",
       "    }\n",
       "\n",
       "    .dataframe tbody tr th {\n",
       "        vertical-align: top;\n",
       "    }\n",
       "\n",
       "    .dataframe thead tr th {\n",
       "        text-align: left;\n",
       "    }\n",
       "\n",
       "    .dataframe thead tr:last-of-type th {\n",
       "        text-align: right;\n",
       "    }\n",
       "</style>\n",
       "<table border=\"1\" class=\"dataframe\">\n",
       "  <thead>\n",
       "    <tr>\n",
       "      <th></th>\n",
       "      <th>mean</th>\n",
       "      <th>median</th>\n",
       "      <th>min</th>\n",
       "      <th>max</th>\n",
       "      <th>count</th>\n",
       "    </tr>\n",
       "    <tr>\n",
       "      <th></th>\n",
       "      <th>last_price</th>\n",
       "      <th>last_price</th>\n",
       "      <th>last_price</th>\n",
       "      <th>last_price</th>\n",
       "      <th>last_price</th>\n",
       "    </tr>\n",
       "    <tr>\n",
       "      <th>week</th>\n",
       "      <th></th>\n",
       "      <th></th>\n",
       "      <th></th>\n",
       "      <th></th>\n",
       "      <th></th>\n",
       "    </tr>\n",
       "  </thead>\n",
       "  <tbody>\n",
       "    <tr>\n",
       "      <td>Friday</td>\n",
       "      <td>9368945</td>\n",
       "      <td>9000000</td>\n",
       "      <td>3200000</td>\n",
       "      <td>19700000</td>\n",
       "      <td>73</td>\n",
       "    </tr>\n",
       "    <tr>\n",
       "      <td>Monday</td>\n",
       "      <td>9729396</td>\n",
       "      <td>9000000</td>\n",
       "      <td>2645000</td>\n",
       "      <td>19000000</td>\n",
       "      <td>53</td>\n",
       "    </tr>\n",
       "    <tr>\n",
       "      <td>Saturday</td>\n",
       "      <td>8713296</td>\n",
       "      <td>7680000</td>\n",
       "      <td>2750000</td>\n",
       "      <td>15490000</td>\n",
       "      <td>27</td>\n",
       "    </tr>\n",
       "    <tr>\n",
       "      <td>Sunday</td>\n",
       "      <td>9521461</td>\n",
       "      <td>8850000</td>\n",
       "      <td>3400000</td>\n",
       "      <td>18500000</td>\n",
       "      <td>26</td>\n",
       "    </tr>\n",
       "    <tr>\n",
       "      <td>Thursday</td>\n",
       "      <td>9475388</td>\n",
       "      <td>8500000</td>\n",
       "      <td>3290000</td>\n",
       "      <td>19500000</td>\n",
       "      <td>85</td>\n",
       "    </tr>\n",
       "    <tr>\n",
       "      <td>Tuesday</td>\n",
       "      <td>9373733</td>\n",
       "      <td>9000000</td>\n",
       "      <td>3990900</td>\n",
       "      <td>19000000</td>\n",
       "      <td>53</td>\n",
       "    </tr>\n",
       "    <tr>\n",
       "      <td>Wednesday</td>\n",
       "      <td>9930701</td>\n",
       "      <td>9350000</td>\n",
       "      <td>3800000</td>\n",
       "      <td>19900000</td>\n",
       "      <td>67</td>\n",
       "    </tr>\n",
       "  </tbody>\n",
       "</table>\n",
       "</div>"
      ],
      "text/plain": [
       "                mean     median        min        max      count\n",
       "          last_price last_price last_price last_price last_price\n",
       "week                                                            \n",
       "Friday       9368945    9000000    3200000   19700000         73\n",
       "Monday       9729396    9000000    2645000   19000000         53\n",
       "Saturday     8713296    7680000    2750000   15490000         27\n",
       "Sunday       9521461    8850000    3400000   18500000         26\n",
       "Thursday     9475388    8500000    3290000   19500000         85\n",
       "Tuesday      9373733    9000000    3990900   19000000         53\n",
       "Wednesday    9930701    9350000    3800000   19900000         67"
      ]
     },
     "metadata": {},
     "output_type": "display_data"
    }
   ],
   "source": [
    "center_price_day = center_of_city.pivot_table(index='week', \n",
    "                           values= 'last_price', \n",
    "                           aggfunc=['mean', 'median', min, max, 'count']\n",
    ").astype('int')\n",
    "display(center_price_day)"
   ]
  },
  {
   "cell_type": "markdown",
   "metadata": {},
   "source": [
    "    Зависимость от дней недели средняя цена почти одинаковая.\n",
    "    Стоимость кваартир в центре города и в городе в целом имеют примерно одинаковые показатели зависимости от изученных параметров, больше клмнат - дороже, хотя стоимость в центре выше, чем по городу"
   ]
  },
  {
   "cell_type": "markdown",
   "metadata": {},
   "source": [
    "## Общий вывод"
   ]
  },
  {
   "cell_type": "markdown",
   "metadata": {},
   "source": [
    "В ходе исследования я выявил зависимость цен на квартиры от количества комнат(больше комнат - выше цена), расстояния от центра(в центре стоимлсть выше), от того на каком этаже распологается квартира(первый самый дешевый, самые дорогие - между первым и последним этажами). В среднем цена на квартиры от года к году снижается, из-за появления большего количества недорогого жилья, при этим максимальная цена на квартиры остается примерно на одном уровне, не зависимо от месторасположения.\n",
    "в данных есть выбросы и пропуски, часть из них можно было бы избежать при правильном заполнении.\n"
   ]
  },
  {
   "cell_type": "code",
   "execution_count": 118,
   "metadata": {},
   "outputs": [
    {
     "data": {
      "text/html": [
       "<div>\n",
       "<style scoped>\n",
       "    .dataframe tbody tr th:only-of-type {\n",
       "        vertical-align: middle;\n",
       "    }\n",
       "\n",
       "    .dataframe tbody tr th {\n",
       "        vertical-align: top;\n",
       "    }\n",
       "\n",
       "    .dataframe thead th {\n",
       "        text-align: right;\n",
       "    }\n",
       "</style>\n",
       "<table border=\"1\" class=\"dataframe\">\n",
       "  <thead>\n",
       "    <tr style=\"text-align: right;\">\n",
       "      <th></th>\n",
       "      <th>ceiling_height</th>\n",
       "      <th>last_price</th>\n",
       "      <th>total_area</th>\n",
       "    </tr>\n",
       "    <tr>\n",
       "      <th>rooms</th>\n",
       "      <th></th>\n",
       "      <th></th>\n",
       "      <th></th>\n",
       "    </tr>\n",
       "  </thead>\n",
       "  <tbody>\n",
       "    <tr>\n",
       "      <td>1</td>\n",
       "      <td>3.20</td>\n",
       "      <td>6302628.92</td>\n",
       "      <td>41.91</td>\n",
       "    </tr>\n",
       "    <tr>\n",
       "      <td>2</td>\n",
       "      <td>3.04</td>\n",
       "      <td>8077608.00</td>\n",
       "      <td>64.13</td>\n",
       "    </tr>\n",
       "    <tr>\n",
       "      <td>3</td>\n",
       "      <td>3.09</td>\n",
       "      <td>10037836.21</td>\n",
       "      <td>85.22</td>\n",
       "    </tr>\n",
       "    <tr>\n",
       "      <td>4</td>\n",
       "      <td>3.11</td>\n",
       "      <td>10901500.00</td>\n",
       "      <td>105.05</td>\n",
       "    </tr>\n",
       "    <tr>\n",
       "      <td>5</td>\n",
       "      <td>3.13</td>\n",
       "      <td>13160791.67</td>\n",
       "      <td>131.51</td>\n",
       "    </tr>\n",
       "    <tr>\n",
       "      <td>6</td>\n",
       "      <td>3.06</td>\n",
       "      <td>13602500.00</td>\n",
       "      <td>155.52</td>\n",
       "    </tr>\n",
       "    <tr>\n",
       "      <td>7</td>\n",
       "      <td>2.82</td>\n",
       "      <td>16000000.00</td>\n",
       "      <td>184.40</td>\n",
       "    </tr>\n",
       "  </tbody>\n",
       "</table>\n",
       "</div>"
      ],
      "text/plain": [
       "       ceiling_height   last_price  total_area\n",
       "rooms                                         \n",
       "1                3.20   6302628.92       41.91\n",
       "2                3.04   8077608.00       64.13\n",
       "3                3.09  10037836.21       85.22\n",
       "4                3.11  10901500.00      105.05\n",
       "5                3.13  13160791.67      131.51\n",
       "6                3.06  13602500.00      155.52\n",
       "7                2.82  16000000.00      184.40"
      ]
     },
     "metadata": {},
     "output_type": "display_data"
    },
    {
     "data": {
      "text/html": [
       "<div>\n",
       "<style scoped>\n",
       "    .dataframe tbody tr th:only-of-type {\n",
       "        vertical-align: middle;\n",
       "    }\n",
       "\n",
       "    .dataframe tbody tr th {\n",
       "        vertical-align: top;\n",
       "    }\n",
       "\n",
       "    .dataframe thead th {\n",
       "        text-align: right;\n",
       "    }\n",
       "</style>\n",
       "<table border=\"1\" class=\"dataframe\">\n",
       "  <thead>\n",
       "    <tr style=\"text-align: right;\">\n",
       "      <th></th>\n",
       "      <th>ceiling_height</th>\n",
       "      <th>last_price</th>\n",
       "      <th>total_area</th>\n",
       "    </tr>\n",
       "    <tr>\n",
       "      <th>rooms</th>\n",
       "      <th></th>\n",
       "      <th></th>\n",
       "      <th></th>\n",
       "    </tr>\n",
       "  </thead>\n",
       "  <tbody>\n",
       "    <tr>\n",
       "      <td>1</td>\n",
       "      <td>2.72</td>\n",
       "      <td>3749297.79</td>\n",
       "      <td>37.41</td>\n",
       "    </tr>\n",
       "    <tr>\n",
       "      <td>2</td>\n",
       "      <td>2.73</td>\n",
       "      <td>5284489.21</td>\n",
       "      <td>55.55</td>\n",
       "    </tr>\n",
       "    <tr>\n",
       "      <td>3</td>\n",
       "      <td>2.74</td>\n",
       "      <td>6863842.43</td>\n",
       "      <td>75.17</td>\n",
       "    </tr>\n",
       "    <tr>\n",
       "      <td>4</td>\n",
       "      <td>2.83</td>\n",
       "      <td>8706046.95</td>\n",
       "      <td>95.31</td>\n",
       "    </tr>\n",
       "    <tr>\n",
       "      <td>5</td>\n",
       "      <td>3.01</td>\n",
       "      <td>11125088.61</td>\n",
       "      <td>126.72</td>\n",
       "    </tr>\n",
       "    <tr>\n",
       "      <td>6</td>\n",
       "      <td>3.02</td>\n",
       "      <td>13469360.00</td>\n",
       "      <td>151.94</td>\n",
       "    </tr>\n",
       "    <tr>\n",
       "      <td>7</td>\n",
       "      <td>3.08</td>\n",
       "      <td>14025714.29</td>\n",
       "      <td>152.63</td>\n",
       "    </tr>\n",
       "  </tbody>\n",
       "</table>\n",
       "</div>"
      ],
      "text/plain": [
       "       ceiling_height   last_price  total_area\n",
       "rooms                                         \n",
       "1                2.72   3749297.79       37.41\n",
       "2                2.73   5284489.21       55.55\n",
       "3                2.74   6863842.43       75.17\n",
       "4                2.83   8706046.95       95.31\n",
       "5                3.01  11125088.61      126.72\n",
       "6                3.02  13469360.00      151.94\n",
       "7                3.08  14025714.29      152.63"
      ]
     },
     "metadata": {},
     "output_type": "display_data"
    },
    {
     "data": {
      "image/png": "[encoded data removed]",
      "text/plain": [
       "<Figure size 432x288 with 1 Axes>"
      ]
     },
     "metadata": {
      "needs_background": "light"
     },
     "output_type": "display_data"
    },
    {
     "data": {
      "image/png": "[encoded data removed]",
      "text/plain": [
       "<Figure size 432x288 with 1 Axes>"
      ]
     },
     "metadata": {
      "needs_background": "light"
     },
     "output_type": "display_data"
    },
    {
     "data": {
      "image/png": "[encoded data removed]",
      "text/plain": [
       "<Figure size 432x288 with 1 Axes>"
      ]
     },
     "metadata": {
      "needs_background": "light"
     },
     "output_type": "display_data"
    }
   ],
   "source": [
    "center_of_city_final_price = center_of_city.pivot_table(index='rooms', \n",
    "                           values= 'last_price', \n",
    "                           aggfunc='mean'\n",
    ")\n",
    "\n",
    "good_data_final_price = good_data.pivot_table(index='rooms', \n",
    "                           values= 'last_price', \n",
    "                           aggfunc='mean'\n",
    ")\n",
    "center_of_city_final_price.set_axis(['center_price'], \n",
    "                             axis='columns', \n",
    "                             inplace=True\n",
    ")\n",
    "center_of_city_final_total_area = center_of_city.pivot_table(index='rooms', \n",
    "                           values= 'total_area', \n",
    "                           aggfunc='mean'\n",
    ")\n",
    "\n",
    "good_data_final_total_area = good_data.pivot_table(index='rooms', \n",
    "                           values= 'total_area', \n",
    "                           aggfunc='mean'\n",
    ")\n",
    "\n",
    "center_of_city_final_total_area.set_axis(['center_total_area'], \n",
    "                             axis='columns', \n",
    "                             inplace=True\n",
    ")\n",
    "center_of_city_final_ceil = center_of_city.pivot_table(index='rooms', \n",
    "                           values= 'ceiling_height', \n",
    "                           aggfunc='mean'\n",
    ")\n",
    "\n",
    "good_data_final_ceil = good_data.pivot_table(index='rooms', \n",
    "                           values= 'ceiling_height', \n",
    "                           aggfunc='mean'\n",
    ")\n",
    "\n",
    "center_of_city_final_ceil.set_axis(['center_ceiling_height'], \n",
    "                             axis='columns', \n",
    "                             inplace=True\n",
    ")\n",
    "\n",
    "ax = center_of_city_final_price.plot(title = 'Комнаты\\Цены',grid=True, legend=True)\n",
    "good_data_final_price.plot(ax=ax, title = 'Комнаты\\Цены',grid=True, legend=True)\n",
    "\n",
    "ax1= center_of_city_final_total_area.plot(title = 'Комнаты\\Площадь',grid=True, legend=True)\n",
    "good_data_final_total_area.plot(ax=ax1, title = 'Комнаты\\Площадь',grid=True, legend=True)\n",
    "\n",
    "ax2 = center_of_city_final_ceil.plot(title = 'Комнаты\\Потолки',grid=True, legend=True)\n",
    "good_data_final_ceil.plot(ax=ax2, title = 'Комнаты\\Потолки',grid=True, legend=True)\n",
    "\n",
    "center_of_city_final = center_of_city.pivot_table(index='rooms', \n",
    "                           values= ['last_price','total_area','ceiling_height'],\n",
    "                           aggfunc='mean'\n",
    ")\n",
    "good_data_final = good_data.pivot_table(index='rooms', \n",
    "                           values= ['last_price','total_area', 'ceiling_height'], \n",
    "                           aggfunc='mean'\n",
    ")\n",
    "display(center_of_city_final.round(2), good_data_final.round(2))#, sep='\\n')"
   ]
  },
  {
   "cell_type": "code",
   "execution_count": 119,
   "metadata": {},
   "outputs": [
    {
     "data": {
      "text/plain": [
       "'Вся выборка:'"
      ]
     },
     "metadata": {},
     "output_type": "display_data"
    },
    {
     "data": {
      "text/plain": [
       "last_price        4.700000e+06\n",
       "total_area        5.280000e+01\n",
       "rooms             2.000000e+00\n",
       "ceiling_height    2.723583e+00\n",
       "Name: 50%, dtype: float64"
      ]
     },
     "execution_count": 119,
     "metadata": {},
     "output_type": "execute_result"
    }
   ],
   "source": [
    "display('Вся выборка:')\n",
    "data[['last_price', 'total_area','rooms', 'ceiling_height' ]].describe().loc['50%']"
   ]
  },
  {
   "cell_type": "code",
   "execution_count": 120,
   "metadata": {},
   "outputs": [
    {
     "data": {
      "text/plain": [
       "'Центр СПб:'"
      ]
     },
     "metadata": {},
     "output_type": "display_data"
    },
    {
     "data": {
      "text/plain": [
       "last_price        8990000.00\n",
       "total_area             78.85\n",
       "rooms                   3.00\n",
       "ceiling_height          3.00\n",
       "Name: 50%, dtype: float64"
      ]
     },
     "execution_count": 120,
     "metadata": {},
     "output_type": "execute_result"
    }
   ],
   "source": [
    "display('Центр СПб:')\n",
    "center_of_city[['last_price', 'total_area','rooms', 'ceiling_height' ]].describe().loc['50%']"
   ]
  }
 ],
 "metadata": {
  "ExecuteTimeLog": [
   {
    "duration": 578,
    "start_time": "2021-07-13T17:40:34.695Z"
   },
   {
    "duration": 62,
    "start_time": "2021-07-13T17:40:39.856Z"
   },
   {
    "duration": 64,
    "start_time": "2021-07-13T17:40:43.045Z"
   },
   {
    "duration": 69,
    "start_time": "2021-07-13T17:41:15.368Z"
   },
   {
    "duration": 1833,
    "start_time": "2021-07-13T17:41:49.066Z"
   },
   {
    "duration": 7,
    "start_time": "2021-07-13T17:42:40.529Z"
   },
   {
    "duration": 324,
    "start_time": "2021-07-21T16:30:31.731Z"
   },
   {
    "duration": 918,
    "start_time": "2021-07-21T16:30:37.905Z"
   },
   {
    "duration": 31,
    "start_time": "2021-07-21T16:30:38.825Z"
   },
   {
    "duration": 16,
    "start_time": "2021-07-21T16:30:38.859Z"
   },
   {
    "duration": 14,
    "start_time": "2021-07-21T16:38:37.586Z"
   },
   {
    "duration": 110,
    "start_time": "2021-07-21T16:39:04.407Z"
   },
   {
    "duration": 22,
    "start_time": "2021-07-21T16:39:04.521Z"
   },
   {
    "duration": 9,
    "start_time": "2021-07-21T16:39:04.556Z"
   },
   {
    "duration": 15,
    "start_time": "2021-07-21T16:39:04.569Z"
   },
   {
    "duration": 9,
    "start_time": "2021-07-21T16:39:04.587Z"
   },
   {
    "duration": 13,
    "start_time": "2021-07-21T16:39:04.599Z"
   },
   {
    "duration": 12,
    "start_time": "2021-07-21T16:39:04.657Z"
   },
   {
    "duration": 5,
    "start_time": "2021-07-21T16:39:04.673Z"
   },
   {
    "duration": 9,
    "start_time": "2021-07-21T16:39:04.681Z"
   },
   {
    "duration": 64,
    "start_time": "2021-07-21T16:39:04.692Z"
   },
   {
    "duration": 14,
    "start_time": "2021-07-21T16:39:04.758Z"
   },
   {
    "duration": 19,
    "start_time": "2021-07-21T16:42:11.063Z"
   },
   {
    "duration": 20,
    "start_time": "2021-07-21T16:42:43.185Z"
   },
   {
    "duration": 86,
    "start_time": "2021-07-21T16:42:51.792Z"
   },
   {
    "duration": 27,
    "start_time": "2021-07-21T16:42:51.880Z"
   },
   {
    "duration": 5,
    "start_time": "2021-07-21T16:42:51.910Z"
   },
   {
    "duration": 43,
    "start_time": "2021-07-21T16:42:51.917Z"
   },
   {
    "duration": 11,
    "start_time": "2021-07-21T16:42:51.962Z"
   },
   {
    "duration": 12,
    "start_time": "2021-07-21T16:42:51.976Z"
   },
   {
    "duration": 11,
    "start_time": "2021-07-21T16:42:51.990Z"
   },
   {
    "duration": 10,
    "start_time": "2021-07-21T16:42:52.004Z"
   },
   {
    "duration": 43,
    "start_time": "2021-07-21T16:42:52.018Z"
   },
   {
    "duration": 19,
    "start_time": "2021-07-21T16:42:52.063Z"
   },
   {
    "duration": 15,
    "start_time": "2021-07-21T16:42:52.084Z"
   },
   {
    "duration": 85,
    "start_time": "2021-07-21T16:43:50.896Z"
   },
   {
    "duration": 21,
    "start_time": "2021-07-21T16:43:50.984Z"
   },
   {
    "duration": 5,
    "start_time": "2021-07-21T16:43:51.008Z"
   },
   {
    "duration": 43,
    "start_time": "2021-07-21T16:43:51.016Z"
   },
   {
    "duration": 6,
    "start_time": "2021-07-21T16:43:51.061Z"
   },
   {
    "duration": 21,
    "start_time": "2021-07-21T16:43:51.069Z"
   },
   {
    "duration": 22,
    "start_time": "2021-07-21T16:43:51.094Z"
   },
   {
    "duration": 7,
    "start_time": "2021-07-21T16:43:51.120Z"
   },
   {
    "duration": 34,
    "start_time": "2021-07-21T16:43:51.129Z"
   },
   {
    "duration": 27,
    "start_time": "2021-07-21T16:43:51.165Z"
   },
   {
    "duration": 14,
    "start_time": "2021-07-21T16:43:51.195Z"
   },
   {
    "duration": 88,
    "start_time": "2021-07-21T17:11:18.118Z"
   },
   {
    "duration": 22,
    "start_time": "2021-07-21T17:11:18.209Z"
   },
   {
    "duration": 7,
    "start_time": "2021-07-21T17:11:18.255Z"
   },
   {
    "duration": 13,
    "start_time": "2021-07-21T17:11:18.266Z"
   },
   {
    "duration": 11,
    "start_time": "2021-07-21T17:11:18.281Z"
   },
   {
    "duration": 15,
    "start_time": "2021-07-21T17:11:18.295Z"
   },
   {
    "duration": 13,
    "start_time": "2021-07-21T17:11:18.356Z"
   },
   {
    "duration": 6,
    "start_time": "2021-07-21T17:11:18.372Z"
   },
   {
    "duration": 6,
    "start_time": "2021-07-21T17:11:18.382Z"
   },
   {
    "duration": 68,
    "start_time": "2021-07-21T17:11:18.391Z"
   },
   {
    "duration": 16,
    "start_time": "2021-07-21T17:11:18.462Z"
   },
   {
    "duration": 13,
    "start_time": "2021-07-21T17:11:18.481Z"
   },
   {
    "duration": 5,
    "start_time": "2021-07-21T17:11:18.497Z"
   },
   {
    "duration": 831,
    "start_time": "2021-07-21T17:11:18.505Z"
   },
   {
    "duration": 25,
    "start_time": "2021-07-21T17:11:19.338Z"
   },
   {
    "duration": 13,
    "start_time": "2021-07-21T17:11:19.365Z"
   },
   {
    "duration": 14,
    "start_time": "2021-07-21T17:11:19.380Z"
   },
   {
    "duration": 1068,
    "start_time": "2021-07-21T17:11:19.397Z"
   },
   {
    "duration": 4,
    "start_time": "2021-07-21T17:11:20.467Z"
   },
   {
    "duration": 19,
    "start_time": "2021-07-21T17:11:20.475Z"
   },
   {
    "duration": 5,
    "start_time": "2021-07-21T17:11:20.497Z"
   },
   {
    "duration": 14,
    "start_time": "2021-07-21T17:11:20.505Z"
   },
   {
    "duration": 16,
    "start_time": "2021-07-21T17:23:21.386Z"
   },
   {
    "duration": 86,
    "start_time": "2021-07-21T17:23:29.861Z"
   },
   {
    "duration": 20,
    "start_time": "2021-07-21T17:23:29.956Z"
   },
   {
    "duration": 7,
    "start_time": "2021-07-21T17:23:29.979Z"
   },
   {
    "duration": 14,
    "start_time": "2021-07-21T17:23:29.989Z"
   },
   {
    "duration": 8,
    "start_time": "2021-07-21T17:23:30.006Z"
   },
   {
    "duration": 18,
    "start_time": "2021-07-21T17:23:30.057Z"
   },
   {
    "duration": 16,
    "start_time": "2021-07-21T17:23:30.078Z"
   },
   {
    "duration": 11,
    "start_time": "2021-07-21T17:23:30.096Z"
   },
   {
    "duration": 7,
    "start_time": "2021-07-21T17:23:30.157Z"
   },
   {
    "duration": 41,
    "start_time": "2021-07-21T17:23:30.167Z"
   },
   {
    "duration": 28,
    "start_time": "2021-07-21T17:23:30.211Z"
   },
   {
    "duration": 2150,
    "start_time": "2021-07-21T17:23:30.242Z"
   },
   {
    "duration": 14,
    "start_time": "2021-07-21T17:23:32.395Z"
   },
   {
    "duration": 27,
    "start_time": "2021-07-21T17:23:32.411Z"
   },
   {
    "duration": 9,
    "start_time": "2021-07-21T17:23:32.457Z"
   },
   {
    "duration": 13,
    "start_time": "2021-07-21T17:23:32.468Z"
   },
   {
    "duration": 731,
    "start_time": "2021-07-21T17:23:32.483Z"
   },
   {
    "duration": 15,
    "start_time": "2021-07-21T17:23:33.217Z"
   },
   {
    "duration": 31,
    "start_time": "2021-07-21T17:23:33.235Z"
   },
   {
    "duration": 11,
    "start_time": "2021-07-21T17:23:33.268Z"
   },
   {
    "duration": 914,
    "start_time": "2021-07-21T17:23:33.282Z"
   },
   {
    "duration": 4,
    "start_time": "2021-07-21T17:23:34.198Z"
   },
   {
    "duration": 15,
    "start_time": "2021-07-21T17:23:34.205Z"
   },
   {
    "duration": 15,
    "start_time": "2021-07-21T17:23:34.222Z"
   },
   {
    "duration": 20,
    "start_time": "2021-07-21T17:23:34.239Z"
   },
   {
    "duration": 6,
    "start_time": "2021-07-21T17:24:00.057Z"
   },
   {
    "duration": 16,
    "start_time": "2021-07-21T17:25:46.124Z"
   },
   {
    "duration": 14,
    "start_time": "2021-07-21T17:25:54.168Z"
   },
   {
    "duration": 12,
    "start_time": "2021-07-21T17:25:57.943Z"
   },
   {
    "duration": 12,
    "start_time": "2021-07-21T17:26:01.963Z"
   },
   {
    "duration": 12,
    "start_time": "2021-07-21T17:31:51.419Z"
   },
   {
    "duration": 10,
    "start_time": "2021-07-21T17:32:12.872Z"
   },
   {
    "duration": 13,
    "start_time": "2021-07-21T17:32:23.263Z"
   },
   {
    "duration": 89,
    "start_time": "2021-07-21T17:32:50.447Z"
   },
   {
    "duration": 53,
    "start_time": "2021-07-21T17:33:39.087Z"
   },
   {
    "duration": 616,
    "start_time": "2021-07-21T17:44:32.431Z"
   },
   {
    "duration": 19,
    "start_time": "2021-07-21T17:44:43.990Z"
   },
   {
    "duration": 52,
    "start_time": "2021-07-21T17:49:57.250Z"
   },
   {
    "duration": 8,
    "start_time": "2021-07-21T18:00:28.097Z"
   },
   {
    "duration": 92,
    "start_time": "2021-07-21T18:02:24.070Z"
   },
   {
    "duration": 23,
    "start_time": "2021-07-21T18:02:24.166Z"
   },
   {
    "duration": 6,
    "start_time": "2021-07-21T18:02:24.192Z"
   },
   {
    "duration": 11,
    "start_time": "2021-07-21T18:02:24.201Z"
   },
   {
    "duration": 42,
    "start_time": "2021-07-21T18:02:24.214Z"
   },
   {
    "duration": 19,
    "start_time": "2021-07-21T18:02:24.258Z"
   },
   {
    "duration": 13,
    "start_time": "2021-07-21T18:02:24.279Z"
   },
   {
    "duration": 6,
    "start_time": "2021-07-21T18:02:24.295Z"
   },
   {
    "duration": 52,
    "start_time": "2021-07-21T18:02:24.304Z"
   },
   {
    "duration": 21,
    "start_time": "2021-07-21T18:02:24.358Z"
   },
   {
    "duration": 6,
    "start_time": "2021-07-21T18:02:24.381Z"
   },
   {
    "duration": 2174,
    "start_time": "2021-07-21T18:02:24.389Z"
   },
   {
    "duration": 6,
    "start_time": "2021-07-21T18:02:26.565Z"
   },
   {
    "duration": 13,
    "start_time": "2021-07-21T18:02:26.574Z"
   },
   {
    "duration": 103,
    "start_time": "2021-07-21T18:02:26.589Z"
   },
   {
    "duration": 94,
    "start_time": "2021-07-21T18:02:26.695Z"
   },
   {
    "duration": 7,
    "start_time": "2021-07-21T18:02:26.792Z"
   },
   {
    "duration": 62,
    "start_time": "2021-07-21T18:02:26.801Z"
   },
   {
    "duration": 10,
    "start_time": "2021-07-21T18:02:26.865Z"
   },
   {
    "duration": 4,
    "start_time": "2021-07-21T18:02:26.877Z"
   },
   {
    "duration": 824,
    "start_time": "2021-07-21T18:02:26.884Z"
   },
   {
    "duration": 17,
    "start_time": "2021-07-21T18:02:27.710Z"
   },
   {
    "duration": 29,
    "start_time": "2021-07-21T18:02:27.731Z"
   },
   {
    "duration": 5,
    "start_time": "2021-07-21T18:02:27.762Z"
   },
   {
    "duration": 938,
    "start_time": "2021-07-21T18:02:27.770Z"
   },
   {
    "duration": 3,
    "start_time": "2021-07-21T18:02:28.711Z"
   },
   {
    "duration": 11,
    "start_time": "2021-07-21T18:02:28.716Z"
   },
   {
    "duration": 27,
    "start_time": "2021-07-21T18:02:28.729Z"
   },
   {
    "duration": 9,
    "start_time": "2021-07-21T18:02:28.758Z"
   },
   {
    "duration": 19,
    "start_time": "2021-07-21T18:04:58.772Z"
   },
   {
    "duration": 19,
    "start_time": "2021-07-21T18:05:14.894Z"
   },
   {
    "duration": 10,
    "start_time": "2021-07-21T18:12:24.242Z"
   },
   {
    "duration": 13,
    "start_time": "2021-07-21T18:12:30.068Z"
   },
   {
    "duration": 8,
    "start_time": "2021-07-21T18:22:11.896Z"
   },
   {
    "duration": 12,
    "start_time": "2021-07-21T18:22:16.813Z"
   },
   {
    "duration": 11,
    "start_time": "2021-07-21T18:28:46.673Z"
   },
   {
    "duration": 3000,
    "start_time": "2021-07-21T18:38:13.128Z"
   },
   {
    "duration": 277,
    "start_time": "2021-07-21T18:38:23.608Z"
   },
   {
    "duration": 2940,
    "start_time": "2021-07-21T18:38:39.372Z"
   },
   {
    "duration": 10,
    "start_time": "2021-07-21T18:38:54.762Z"
   },
   {
    "duration": 204,
    "start_time": "2021-07-21T18:39:13.641Z"
   },
   {
    "duration": 30767,
    "start_time": "2021-07-21T18:39:28.634Z"
   },
   {
    "duration": 952,
    "start_time": "2021-07-21T18:40:06.639Z"
   },
   {
    "duration": 6614,
    "start_time": "2021-07-21T18:40:14.655Z"
   },
   {
    "duration": 218,
    "start_time": "2021-07-21T18:40:28.625Z"
   },
   {
    "duration": 211,
    "start_time": "2021-07-21T18:40:32.497Z"
   },
   {
    "duration": 5,
    "start_time": "2021-07-21T18:40:46.580Z"
   },
   {
    "duration": 19,
    "start_time": "2021-07-21T18:40:48.632Z"
   },
   {
    "duration": 38,
    "start_time": "2021-07-21T18:40:50.808Z"
   },
   {
    "duration": 3297,
    "start_time": "2021-07-21T18:41:10.018Z"
   },
   {
    "duration": 12,
    "start_time": "2021-07-21T18:41:13.352Z"
   },
   {
    "duration": 225,
    "start_time": "2021-07-21T18:41:17.025Z"
   },
   {
    "duration": 2938,
    "start_time": "2021-07-21T18:43:50.910Z"
   },
   {
    "duration": 2933,
    "start_time": "2021-07-21T18:44:12.957Z"
   },
   {
    "duration": 2968,
    "start_time": "2021-07-21T18:54:48.893Z"
   },
   {
    "duration": 221,
    "start_time": "2021-07-21T18:56:15.082Z"
   },
   {
    "duration": 292,
    "start_time": "2021-07-21T18:59:21.710Z"
   },
   {
    "duration": 2922,
    "start_time": "2021-07-21T18:59:29.649Z"
   },
   {
    "duration": 11,
    "start_time": "2021-07-21T19:00:08.841Z"
   },
   {
    "duration": 10,
    "start_time": "2021-07-21T19:00:28.655Z"
   },
   {
    "duration": 211,
    "start_time": "2021-07-21T19:01:17.584Z"
   },
   {
    "duration": 5,
    "start_time": "2021-07-21T19:02:49.909Z"
   },
   {
    "duration": 15,
    "start_time": "2021-07-21T19:02:52.808Z"
   },
   {
    "duration": 37,
    "start_time": "2021-07-21T19:03:00.363Z"
   },
   {
    "duration": 8,
    "start_time": "2021-07-21T19:03:03.409Z"
   },
   {
    "duration": 31,
    "start_time": "2021-07-21T19:05:20.162Z"
   },
   {
    "duration": 16,
    "start_time": "2021-07-21T19:08:58.804Z"
   },
   {
    "duration": 3216,
    "start_time": "2021-07-21T19:09:01.484Z"
   },
   {
    "duration": 13,
    "start_time": "2021-07-21T19:09:10.556Z"
   },
   {
    "duration": 626,
    "start_time": "2021-07-21T19:09:15.657Z"
   },
   {
    "duration": 2914,
    "start_time": "2021-07-21T19:09:20.734Z"
   },
   {
    "duration": 1510,
    "start_time": "2021-07-21T19:09:32.666Z"
   },
   {
    "duration": 3057,
    "start_time": "2021-07-21T19:09:37.666Z"
   },
   {
    "duration": 202,
    "start_time": "2021-07-21T19:11:32.615Z"
   },
   {
    "duration": 9,
    "start_time": "2021-07-21T19:13:15.783Z"
   },
   {
    "duration": 7,
    "start_time": "2021-07-21T19:13:35.532Z"
   },
   {
    "duration": 8,
    "start_time": "2021-07-21T19:14:07.438Z"
   },
   {
    "duration": 8,
    "start_time": "2021-07-21T19:14:11.705Z"
   },
   {
    "duration": 498,
    "start_time": "2021-07-21T19:15:19.243Z"
   },
   {
    "duration": 536,
    "start_time": "2021-07-21T19:15:25.483Z"
   },
   {
    "duration": 1507,
    "start_time": "2021-07-21T19:15:30.090Z"
   },
   {
    "duration": 2954,
    "start_time": "2021-07-21T19:15:35.190Z"
   },
   {
    "duration": 1722,
    "start_time": "2021-07-21T19:15:45.583Z"
   },
   {
    "duration": 427,
    "start_time": "2021-07-21T19:15:49.062Z"
   },
   {
    "duration": 13,
    "start_time": "2021-07-21T19:16:03.007Z"
   },
   {
    "duration": 211,
    "start_time": "2021-07-21T19:16:38.639Z"
   },
   {
    "duration": 213,
    "start_time": "2021-07-21T19:16:49.552Z"
   },
   {
    "duration": 210,
    "start_time": "2021-07-21T19:16:59.231Z"
   },
   {
    "duration": 29,
    "start_time": "2021-07-21T19:17:26.402Z"
   },
   {
    "duration": 32,
    "start_time": "2021-07-21T19:17:31.487Z"
   },
   {
    "duration": 9,
    "start_time": "2021-07-21T19:17:31.960Z"
   },
   {
    "duration": 30,
    "start_time": "2021-07-21T19:17:54.232Z"
   },
   {
    "duration": 8,
    "start_time": "2021-07-21T19:17:54.975Z"
   },
   {
    "duration": 15,
    "start_time": "2021-07-21T19:18:17.673Z"
   },
   {
    "duration": 389,
    "start_time": "2021-07-21T19:18:41.185Z"
   },
   {
    "duration": 509,
    "start_time": "2021-07-21T19:18:54.115Z"
   },
   {
    "duration": 758,
    "start_time": "2021-07-21T19:19:00.225Z"
   },
   {
    "duration": 409,
    "start_time": "2021-07-21T19:19:04.763Z"
   },
   {
    "duration": 12,
    "start_time": "2021-07-21T19:19:23.811Z"
   },
   {
    "duration": 310,
    "start_time": "2021-07-21T19:19:29.541Z"
   },
   {
    "duration": 97,
    "start_time": "2021-07-21T19:19:36.187Z"
   },
   {
    "duration": 20,
    "start_time": "2021-07-21T19:19:36.287Z"
   },
   {
    "duration": 5,
    "start_time": "2021-07-21T19:19:36.310Z"
   },
   {
    "duration": 41,
    "start_time": "2021-07-21T19:19:36.318Z"
   },
   {
    "duration": 7,
    "start_time": "2021-07-21T19:19:36.361Z"
   },
   {
    "duration": 13,
    "start_time": "2021-07-21T19:19:36.370Z"
   },
   {
    "duration": 16,
    "start_time": "2021-07-21T19:19:36.385Z"
   },
   {
    "duration": 15,
    "start_time": "2021-07-21T19:19:36.405Z"
   },
   {
    "duration": 37,
    "start_time": "2021-07-21T19:19:36.423Z"
   },
   {
    "duration": 29,
    "start_time": "2021-07-21T19:19:36.462Z"
   },
   {
    "duration": 6,
    "start_time": "2021-07-21T19:19:36.494Z"
   },
   {
    "duration": 2112,
    "start_time": "2021-07-21T19:19:36.502Z"
   },
   {
    "duration": 6,
    "start_time": "2021-07-21T19:19:38.616Z"
   },
   {
    "duration": 36,
    "start_time": "2021-07-21T19:19:38.624Z"
   },
   {
    "duration": 40,
    "start_time": "2021-07-21T19:19:38.662Z"
   },
   {
    "duration": 85,
    "start_time": "2021-07-21T19:19:38.716Z"
   },
   {
    "duration": 7,
    "start_time": "2021-07-21T19:19:38.804Z"
   },
   {
    "duration": 19,
    "start_time": "2021-07-21T19:19:38.856Z"
   },
   {
    "duration": 9,
    "start_time": "2021-07-21T19:19:38.877Z"
   },
   {
    "duration": 9,
    "start_time": "2021-07-21T19:19:38.888Z"
   },
   {
    "duration": 58,
    "start_time": "2021-07-21T19:19:38.899Z"
   },
   {
    "duration": 9,
    "start_time": "2021-07-21T19:19:38.959Z"
   },
   {
    "duration": 4,
    "start_time": "2021-07-21T19:19:38.975Z"
   },
   {
    "duration": 734,
    "start_time": "2021-07-21T19:19:38.982Z"
   },
   {
    "duration": 16,
    "start_time": "2021-07-21T19:19:39.719Z"
   },
   {
    "duration": 27,
    "start_time": "2021-07-21T19:19:39.738Z"
   },
   {
    "duration": 11,
    "start_time": "2021-07-21T19:19:39.767Z"
   },
   {
    "duration": 931,
    "start_time": "2021-07-21T19:19:39.780Z"
   },
   {
    "duration": 5,
    "start_time": "2021-07-21T19:19:40.713Z"
   },
   {
    "duration": 9,
    "start_time": "2021-07-21T19:19:40.721Z"
   },
   {
    "duration": 24,
    "start_time": "2021-07-21T19:19:40.732Z"
   },
   {
    "duration": 15,
    "start_time": "2021-07-21T19:19:40.759Z"
   },
   {
    "duration": 3079,
    "start_time": "2021-07-21T19:19:40.777Z"
   },
   {
    "duration": 11,
    "start_time": "2021-07-21T19:19:43.858Z"
   },
   {
    "duration": 236,
    "start_time": "2021-07-21T19:19:43.871Z"
   },
   {
    "duration": 5,
    "start_time": "2021-07-21T19:19:44.109Z"
   },
   {
    "duration": 16,
    "start_time": "2021-07-21T19:19:44.117Z"
   },
   {
    "duration": 31,
    "start_time": "2021-07-21T19:19:44.155Z"
   },
   {
    "duration": 13,
    "start_time": "2021-07-21T19:19:44.188Z"
   },
   {
    "duration": 3003,
    "start_time": "2021-07-21T19:19:44.204Z"
   },
   {
    "duration": 11,
    "start_time": "2021-07-21T19:19:47.210Z"
   },
   {
    "duration": 269,
    "start_time": "2021-07-21T19:19:47.223Z"
   },
   {
    "duration": 2894,
    "start_time": "2021-07-21T19:19:47.494Z"
   },
   {
    "duration": 10,
    "start_time": "2021-07-21T19:19:50.391Z"
   },
   {
    "duration": 233,
    "start_time": "2021-07-21T19:19:50.404Z"
   },
   {
    "duration": 17,
    "start_time": "2021-07-21T19:19:50.639Z"
   },
   {
    "duration": 30,
    "start_time": "2021-07-21T19:19:50.658Z"
   },
   {
    "duration": 31,
    "start_time": "2021-07-21T19:19:50.691Z"
   },
   {
    "duration": 7,
    "start_time": "2021-07-21T19:19:50.725Z"
   },
   {
    "duration": 33,
    "start_time": "2021-07-21T19:19:50.735Z"
   },
   {
    "duration": 2977,
    "start_time": "2021-07-21T19:19:50.770Z"
   },
   {
    "duration": 15,
    "start_time": "2021-07-21T19:19:53.750Z"
   },
   {
    "duration": 250,
    "start_time": "2021-07-21T19:19:53.768Z"
   },
   {
    "duration": 414,
    "start_time": "2021-07-21T19:19:54.020Z"
   },
   {
    "duration": 20,
    "start_time": "2021-07-21T19:19:54.436Z"
   },
   {
    "duration": 223,
    "start_time": "2021-07-21T19:19:54.458Z"
   },
   {
    "duration": 30,
    "start_time": "2021-07-21T19:19:54.684Z"
   },
   {
    "duration": 7,
    "start_time": "2021-07-21T19:19:54.716Z"
   },
   {
    "duration": 46,
    "start_time": "2021-07-21T19:19:54.726Z"
   },
   {
    "duration": 430,
    "start_time": "2021-07-21T19:19:54.775Z"
   },
   {
    "duration": 13,
    "start_time": "2021-07-21T19:19:55.208Z"
   },
   {
    "duration": 350,
    "start_time": "2021-07-21T19:19:55.224Z"
   },
   {
    "duration": 4,
    "start_time": "2021-07-21T19:24:00.466Z"
   },
   {
    "duration": 1517,
    "start_time": "2021-07-21T19:24:56.746Z"
   },
   {
    "duration": 11,
    "start_time": "2021-07-21T19:27:25.246Z"
   },
   {
    "duration": 11,
    "start_time": "2021-07-21T19:27:30.698Z"
   },
   {
    "duration": 217,
    "start_time": "2021-07-21T19:28:14.557Z"
   },
   {
    "duration": 217,
    "start_time": "2021-07-21T19:28:21.781Z"
   },
   {
    "duration": 28,
    "start_time": "2021-07-21T19:29:07.841Z"
   },
   {
    "duration": 14,
    "start_time": "2021-07-21T19:29:09.363Z"
   },
   {
    "duration": 10,
    "start_time": "2021-07-21T19:30:31.569Z"
   },
   {
    "duration": 7,
    "start_time": "2021-07-21T19:31:23.880Z"
   },
   {
    "duration": 19,
    "start_time": "2021-07-21T19:31:27.094Z"
   },
   {
    "duration": 37,
    "start_time": "2021-07-21T19:31:29.646Z"
   },
   {
    "duration": 8,
    "start_time": "2021-07-21T19:31:31.239Z"
   },
   {
    "duration": 8,
    "start_time": "2021-07-21T19:33:13.117Z"
   },
   {
    "duration": 14,
    "start_time": "2021-07-21T19:34:45.178Z"
   },
   {
    "duration": 11,
    "start_time": "2021-07-21T19:34:46.597Z"
   },
   {
    "duration": 10,
    "start_time": "2021-07-21T19:35:02.798Z"
   },
   {
    "duration": 12,
    "start_time": "2021-07-21T19:35:10.759Z"
   },
   {
    "duration": 518,
    "start_time": "2021-07-21T19:35:49.413Z"
   },
   {
    "duration": 676,
    "start_time": "2021-07-21T19:36:28.288Z"
   },
   {
    "duration": 1047,
    "start_time": "2021-07-21T19:36:32.915Z"
   },
   {
    "duration": 1009,
    "start_time": "2021-07-21T19:36:40.976Z"
   },
   {
    "duration": 201,
    "start_time": "2021-07-21T19:36:45.939Z"
   },
   {
    "duration": 14,
    "start_time": "2021-07-21T19:37:14.841Z"
   },
   {
    "duration": 12,
    "start_time": "2021-07-21T19:37:18.132Z"
   },
   {
    "duration": 1098,
    "start_time": "2021-07-21T19:37:23.361Z"
   },
   {
    "duration": 225,
    "start_time": "2021-07-21T19:37:27.100Z"
   },
   {
    "duration": 1898,
    "start_time": "2021-07-21T19:40:15.366Z"
   },
   {
    "duration": 1913,
    "start_time": "2021-07-21T19:41:01.675Z"
   },
   {
    "duration": 1983,
    "start_time": "2021-07-21T19:41:38.973Z"
   },
   {
    "duration": 2287,
    "start_time": "2021-07-21T19:41:54.224Z"
   },
   {
    "duration": 2678,
    "start_time": "2021-07-21T19:42:33.509Z"
   },
   {
    "duration": 1520,
    "start_time": "2021-07-21T19:42:53.857Z"
   },
   {
    "duration": 1736,
    "start_time": "2021-07-21T19:43:01.064Z"
   },
   {
    "duration": 1520,
    "start_time": "2021-07-21T19:44:38.989Z"
   },
   {
    "duration": 1799,
    "start_time": "2021-07-21T19:44:51.244Z"
   },
   {
    "duration": 1551,
    "start_time": "2021-07-21T19:45:10.996Z"
   },
   {
    "duration": 14393,
    "start_time": "2021-07-21T19:45:18.106Z"
   },
   {
    "duration": 295,
    "start_time": "2021-07-21T19:45:38.188Z"
   },
   {
    "duration": 1648,
    "start_time": "2021-07-21T19:45:49.326Z"
   },
   {
    "duration": 2181,
    "start_time": "2021-07-21T19:45:56.426Z"
   },
   {
    "duration": 1757,
    "start_time": "2021-07-21T19:46:21.482Z"
   },
   {
    "duration": 986,
    "start_time": "2021-07-21T19:46:29.697Z"
   },
   {
    "duration": 794,
    "start_time": "2021-07-21T19:46:41.399Z"
   },
   {
    "duration": 1545,
    "start_time": "2021-07-21T19:49:33.578Z"
   },
   {
    "duration": 11,
    "start_time": "2021-07-21T19:51:55.689Z"
   },
   {
    "duration": 319,
    "start_time": "2021-07-21T19:53:24.775Z"
   },
   {
    "duration": 12,
    "start_time": "2021-07-21T19:54:06.927Z"
   },
   {
    "duration": 275,
    "start_time": "2021-07-21T19:54:45.423Z"
   },
   {
    "duration": 286,
    "start_time": "2021-07-21T19:55:02.913Z"
   },
   {
    "duration": 365,
    "start_time": "2021-07-21T19:56:48.990Z"
   },
   {
    "duration": 7,
    "start_time": "2021-07-21T19:56:59.309Z"
   },
   {
    "duration": 22,
    "start_time": "2021-07-21T19:57:03.257Z"
   },
   {
    "duration": 34,
    "start_time": "2021-07-21T19:58:00.352Z"
   },
   {
    "duration": 8,
    "start_time": "2021-07-21T19:58:21.901Z"
   },
   {
    "duration": 1813,
    "start_time": "2021-07-21T19:59:40.514Z"
   },
   {
    "duration": 14,
    "start_time": "2021-07-21T19:59:42.998Z"
   },
   {
    "duration": 1916,
    "start_time": "2021-07-21T19:59:45.371Z"
   },
   {
    "duration": 14,
    "start_time": "2021-07-21T20:00:50.348Z"
   },
   {
    "duration": 1874,
    "start_time": "2021-07-21T20:00:54.125Z"
   },
   {
    "duration": 2297,
    "start_time": "2021-07-21T20:01:06.765Z"
   },
   {
    "duration": 312,
    "start_time": "2021-07-21T20:01:09.066Z"
   },
   {
    "duration": 1618,
    "start_time": "2021-07-21T20:03:21.295Z"
   },
   {
    "duration": 11,
    "start_time": "2021-07-21T20:04:54.609Z"
   },
   {
    "duration": 10,
    "start_time": "2021-07-21T20:05:52.602Z"
   },
   {
    "duration": 10,
    "start_time": "2021-07-21T20:06:08.875Z"
   },
   {
    "duration": 19,
    "start_time": "2021-07-21T20:10:18.320Z"
   },
   {
    "duration": 42,
    "start_time": "2021-07-21T20:12:48.677Z"
   },
   {
    "duration": 34,
    "start_time": "2021-07-21T20:13:09.142Z"
   },
   {
    "duration": 278,
    "start_time": "2021-07-21T20:15:02.632Z"
   },
   {
    "duration": 271,
    "start_time": "2021-07-21T20:15:13.817Z"
   },
   {
    "duration": 92,
    "start_time": "2021-07-21T20:16:37.943Z"
   },
   {
    "duration": 12,
    "start_time": "2021-07-21T20:16:57.642Z"
   },
   {
    "duration": 267,
    "start_time": "2021-07-21T20:17:10.427Z"
   },
   {
    "duration": 10,
    "start_time": "2021-07-21T20:18:22.395Z"
   },
   {
    "duration": 13,
    "start_time": "2021-07-21T20:19:10.287Z"
   },
   {
    "duration": 280,
    "start_time": "2021-07-21T20:19:45.181Z"
   },
   {
    "duration": 113,
    "start_time": "2021-07-21T20:19:57.945Z"
   },
   {
    "duration": 23,
    "start_time": "2021-07-21T20:19:58.061Z"
   },
   {
    "duration": 7,
    "start_time": "2021-07-21T20:19:58.087Z"
   },
   {
    "duration": 12,
    "start_time": "2021-07-21T20:19:58.097Z"
   },
   {
    "duration": 48,
    "start_time": "2021-07-21T20:19:58.112Z"
   },
   {
    "duration": 13,
    "start_time": "2021-07-21T20:19:58.163Z"
   },
   {
    "duration": 12,
    "start_time": "2021-07-21T20:19:58.178Z"
   },
   {
    "duration": 7,
    "start_time": "2021-07-21T20:19:58.195Z"
   },
   {
    "duration": 56,
    "start_time": "2021-07-21T20:19:58.205Z"
   },
   {
    "duration": 22,
    "start_time": "2021-07-21T20:19:58.264Z"
   },
   {
    "duration": 10,
    "start_time": "2021-07-21T20:19:58.288Z"
   },
   {
    "duration": 12,
    "start_time": "2021-07-21T20:19:58.300Z"
   },
   {
    "duration": 2160,
    "start_time": "2021-07-21T20:19:58.315Z"
   },
   {
    "duration": 5,
    "start_time": "2021-07-21T20:20:00.478Z"
   },
   {
    "duration": 29,
    "start_time": "2021-07-21T20:20:00.486Z"
   },
   {
    "duration": 91,
    "start_time": "2021-07-21T20:20:00.517Z"
   },
   {
    "duration": 110,
    "start_time": "2021-07-21T20:20:00.610Z"
   },
   {
    "duration": 35,
    "start_time": "2021-07-21T20:20:00.723Z"
   },
   {
    "duration": 22,
    "start_time": "2021-07-21T20:20:00.761Z"
   },
   {
    "duration": 8,
    "start_time": "2021-07-21T20:20:00.786Z"
   },
   {
    "duration": 17,
    "start_time": "2021-07-21T20:20:00.797Z"
   },
   {
    "duration": 45,
    "start_time": "2021-07-21T20:20:00.817Z"
   },
   {
    "duration": 10,
    "start_time": "2021-07-21T20:20:00.869Z"
   },
   {
    "duration": 9,
    "start_time": "2021-07-21T20:20:00.883Z"
   },
   {
    "duration": 760,
    "start_time": "2021-07-21T20:20:00.895Z"
   },
   {
    "duration": 16,
    "start_time": "2021-07-21T20:20:01.658Z"
   },
   {
    "duration": 13,
    "start_time": "2021-07-21T20:20:01.677Z"
   },
   {
    "duration": 14,
    "start_time": "2021-07-21T20:20:01.692Z"
   },
   {
    "duration": 942,
    "start_time": "2021-07-21T20:20:01.708Z"
   },
   {
    "duration": 4,
    "start_time": "2021-07-21T20:20:02.652Z"
   },
   {
    "duration": 29,
    "start_time": "2021-07-21T20:20:02.658Z"
   },
   {
    "duration": 21,
    "start_time": "2021-07-21T20:20:02.689Z"
   },
   {
    "duration": 33,
    "start_time": "2021-07-21T20:20:02.712Z"
   },
   {
    "duration": 3218,
    "start_time": "2021-07-21T20:20:02.747Z"
   },
   {
    "duration": 10,
    "start_time": "2021-07-21T20:20:05.967Z"
   },
   {
    "duration": 233,
    "start_time": "2021-07-21T20:20:05.980Z"
   },
   {
    "duration": 5,
    "start_time": "2021-07-21T20:20:06.215Z"
   },
   {
    "duration": 39,
    "start_time": "2021-07-21T20:20:06.223Z"
   },
   {
    "duration": 48,
    "start_time": "2021-07-21T20:20:06.264Z"
   },
   {
    "duration": 12,
    "start_time": "2021-07-21T20:20:06.315Z"
   },
   {
    "duration": 3007,
    "start_time": "2021-07-21T20:20:06.329Z"
   },
   {
    "duration": 18,
    "start_time": "2021-07-21T20:20:09.338Z"
   },
   {
    "duration": 248,
    "start_time": "2021-07-21T20:20:09.358Z"
   },
   {
    "duration": 2947,
    "start_time": "2021-07-21T20:20:09.609Z"
   },
   {
    "duration": 11,
    "start_time": "2021-07-21T20:20:12.559Z"
   },
   {
    "duration": 238,
    "start_time": "2021-07-21T20:20:12.573Z"
   },
   {
    "duration": 6,
    "start_time": "2021-07-21T20:20:12.814Z"
   },
   {
    "duration": 42,
    "start_time": "2021-07-21T20:20:12.822Z"
   },
   {
    "duration": 32,
    "start_time": "2021-07-21T20:20:12.866Z"
   },
   {
    "duration": 8,
    "start_time": "2021-07-21T20:20:12.901Z"
   },
   {
    "duration": 46,
    "start_time": "2021-07-21T20:20:12.911Z"
   },
   {
    "duration": 2974,
    "start_time": "2021-07-21T20:20:12.959Z"
   },
   {
    "duration": 23,
    "start_time": "2021-07-21T20:20:15.935Z"
   },
   {
    "duration": 235,
    "start_time": "2021-07-21T20:20:15.961Z"
   },
   {
    "duration": 398,
    "start_time": "2021-07-21T20:20:16.198Z"
   },
   {
    "duration": 10,
    "start_time": "2021-07-21T20:20:16.598Z"
   },
   {
    "duration": 221,
    "start_time": "2021-07-21T20:20:16.611Z"
   },
   {
    "duration": 40,
    "start_time": "2021-07-21T20:20:16.835Z"
   },
   {
    "duration": 8,
    "start_time": "2021-07-21T20:20:16.877Z"
   },
   {
    "duration": 20,
    "start_time": "2021-07-21T20:20:16.888Z"
   },
   {
    "duration": 645,
    "start_time": "2021-07-21T20:20:16.910Z"
   },
   {
    "duration": 11,
    "start_time": "2021-07-21T20:20:17.558Z"
   },
   {
    "duration": 226,
    "start_time": "2021-07-21T20:20:17.571Z"
   },
   {
    "duration": 997,
    "start_time": "2021-07-21T20:20:17.800Z"
   },
   {
    "duration": 14,
    "start_time": "2021-07-21T20:20:18.800Z"
   },
   {
    "duration": 249,
    "start_time": "2021-07-21T20:20:18.817Z"
   },
   {
    "duration": 27,
    "start_time": "2021-07-21T20:20:19.068Z"
   },
   {
    "duration": 9,
    "start_time": "2021-07-21T20:20:19.104Z"
   },
   {
    "duration": 39,
    "start_time": "2021-07-21T20:20:19.117Z"
   },
   {
    "duration": 18,
    "start_time": "2021-07-21T20:20:19.158Z"
   },
   {
    "duration": 39,
    "start_time": "2021-07-21T20:20:19.178Z"
   },
   {
    "duration": 37,
    "start_time": "2021-07-21T20:20:19.219Z"
   },
   {
    "duration": 14,
    "start_time": "2021-07-21T20:20:19.259Z"
   },
   {
    "duration": 10,
    "start_time": "2021-07-21T20:20:19.276Z"
   },
   {
    "duration": 1048,
    "start_time": "2021-07-21T20:20:19.288Z"
   },
   {
    "duration": 311,
    "start_time": "2021-07-21T20:20:20.338Z"
   },
   {
    "duration": 789,
    "start_time": "2021-07-21T20:20:20.652Z"
   },
   {
    "duration": 20,
    "start_time": "2021-07-21T20:20:21.443Z"
   },
   {
    "duration": 1582,
    "start_time": "2021-07-21T20:20:21.466Z"
   },
   {
    "duration": 12,
    "start_time": "2021-07-21T20:20:23.051Z"
   },
   {
    "duration": 252,
    "start_time": "2021-07-21T20:20:23.066Z"
   },
   {
    "duration": 6,
    "start_time": "2021-07-21T20:20:23.320Z"
   },
   {
    "duration": 46,
    "start_time": "2021-07-21T20:20:23.329Z"
   },
   {
    "duration": 35,
    "start_time": "2021-07-21T20:20:23.378Z"
   },
   {
    "duration": 40,
    "start_time": "2021-07-21T20:20:23.416Z"
   },
   {
    "duration": 117,
    "start_time": "2021-07-21T20:20:23.459Z"
   },
   {
    "duration": 1741,
    "start_time": "2021-07-21T20:20:23.579Z"
   },
   {
    "duration": 232,
    "start_time": "2021-07-21T20:20:25.323Z"
   },
   {
    "duration": 14,
    "start_time": "2021-07-21T20:20:25.557Z"
   },
   {
    "duration": 17,
    "start_time": "2021-07-21T20:20:25.573Z"
   },
   {
    "duration": 73,
    "start_time": "2021-07-21T20:20:25.592Z"
   },
   {
    "duration": 46,
    "start_time": "2021-07-21T20:20:25.668Z"
   },
   {
    "duration": 72,
    "start_time": "2021-07-21T20:20:25.717Z"
   },
   {
    "duration": 34,
    "start_time": "2021-07-21T20:20:25.792Z"
   },
   {
    "duration": 59,
    "start_time": "2021-07-21T20:20:25.828Z"
   },
   {
    "duration": 56,
    "start_time": "2021-07-21T20:27:31.617Z"
   },
   {
    "duration": 49,
    "start_time": "2021-07-21T20:30:39.825Z"
   },
   {
    "duration": 302,
    "start_time": "2021-07-21T20:31:55.204Z"
   },
   {
    "duration": 326,
    "start_time": "2021-07-21T20:32:01.866Z"
   },
   {
    "duration": 303,
    "start_time": "2021-07-21T20:33:15.468Z"
   },
   {
    "duration": 336,
    "start_time": "2021-07-21T20:33:27.728Z"
   },
   {
    "duration": 46,
    "start_time": "2021-07-21T20:33:33.324Z"
   },
   {
    "duration": 319,
    "start_time": "2021-07-21T20:34:00.771Z"
   },
   {
    "duration": 48,
    "start_time": "2021-07-21T20:34:36.009Z"
   },
   {
    "duration": 51,
    "start_time": "2021-07-21T20:34:45.947Z"
   },
   {
    "duration": 47,
    "start_time": "2021-07-21T20:35:06.969Z"
   },
   {
    "duration": 45,
    "start_time": "2021-07-21T20:35:12.889Z"
   },
   {
    "duration": 57,
    "start_time": "2021-07-21T20:35:36.538Z"
   },
   {
    "duration": 53,
    "start_time": "2021-07-21T20:36:03.588Z"
   },
   {
    "duration": 52,
    "start_time": "2021-07-21T20:36:13.696Z"
   },
   {
    "duration": 11,
    "start_time": "2021-07-21T20:43:00.806Z"
   },
   {
    "duration": 53,
    "start_time": "2021-07-21T20:43:02.758Z"
   },
   {
    "duration": 749,
    "start_time": "2021-07-21T20:43:40.962Z"
   },
   {
    "duration": 545,
    "start_time": "2021-07-21T20:44:17.876Z"
   },
   {
    "duration": 757,
    "start_time": "2021-07-21T20:45:19.679Z"
   },
   {
    "duration": 572,
    "start_time": "2021-07-21T20:45:43.304Z"
   },
   {
    "duration": 10,
    "start_time": "2021-07-21T20:46:56.609Z"
   },
   {
    "duration": 146,
    "start_time": "2021-07-21T20:48:54.092Z"
   },
   {
    "duration": 53,
    "start_time": "2021-07-21T20:50:12.507Z"
   },
   {
    "duration": 60,
    "start_time": "2021-07-21T20:55:31.799Z"
   },
   {
    "duration": 62,
    "start_time": "2021-07-21T20:55:58.518Z"
   },
   {
    "duration": 58,
    "start_time": "2021-07-21T20:56:52.866Z"
   },
   {
    "duration": 55,
    "start_time": "2021-07-21T20:57:25.368Z"
   },
   {
    "duration": 50,
    "start_time": "2021-07-21T20:57:43.778Z"
   },
   {
    "duration": 108,
    "start_time": "2021-07-21T20:58:40.305Z"
   },
   {
    "duration": 66,
    "start_time": "2021-07-21T21:03:36.029Z"
   },
   {
    "duration": 59,
    "start_time": "2021-07-21T21:04:23.533Z"
   },
   {
    "duration": 66,
    "start_time": "2021-07-21T21:04:29.835Z"
   },
   {
    "duration": 60,
    "start_time": "2021-07-21T21:04:58.034Z"
   },
   {
    "duration": 51,
    "start_time": "2021-07-21T21:05:57.781Z"
   },
   {
    "duration": 60,
    "start_time": "2021-07-21T21:07:02.233Z"
   },
   {
    "duration": 1038,
    "start_time": "2021-07-22T14:15:12.762Z"
   },
   {
    "duration": 30,
    "start_time": "2021-07-22T14:15:13.804Z"
   },
   {
    "duration": 17,
    "start_time": "2021-07-22T14:15:13.837Z"
   },
   {
    "duration": 17,
    "start_time": "2021-07-22T14:15:13.858Z"
   },
   {
    "duration": 10,
    "start_time": "2021-07-22T14:15:13.878Z"
   },
   {
    "duration": 25,
    "start_time": "2021-07-22T14:15:13.891Z"
   },
   {
    "duration": 40,
    "start_time": "2021-07-22T14:15:13.919Z"
   },
   {
    "duration": 9,
    "start_time": "2021-07-22T14:15:13.964Z"
   },
   {
    "duration": 12,
    "start_time": "2021-07-22T14:15:13.976Z"
   },
   {
    "duration": 28,
    "start_time": "2021-07-22T14:15:13.991Z"
   },
   {
    "duration": 59,
    "start_time": "2021-07-22T14:15:14.021Z"
   },
   {
    "duration": 5,
    "start_time": "2021-07-22T14:15:14.082Z"
   },
   {
    "duration": 2657,
    "start_time": "2021-07-22T14:15:14.089Z"
   },
   {
    "duration": 6,
    "start_time": "2021-07-22T14:15:16.749Z"
   },
   {
    "duration": 33,
    "start_time": "2021-07-22T14:15:16.758Z"
   },
   {
    "duration": 85,
    "start_time": "2021-07-22T14:15:16.794Z"
   },
   {
    "duration": 77,
    "start_time": "2021-07-22T14:15:16.881Z"
   },
   {
    "duration": 7,
    "start_time": "2021-07-22T14:15:16.961Z"
   },
   {
    "duration": 29,
    "start_time": "2021-07-22T14:15:16.970Z"
   },
   {
    "duration": 8,
    "start_time": "2021-07-22T14:15:17.001Z"
   },
   {
    "duration": 20,
    "start_time": "2021-07-22T14:15:17.011Z"
   },
   {
    "duration": 33,
    "start_time": "2021-07-22T14:15:17.033Z"
   },
   {
    "duration": 10,
    "start_time": "2021-07-22T14:15:17.072Z"
   },
   {
    "duration": 21,
    "start_time": "2021-07-22T14:15:17.086Z"
   },
   {
    "duration": 770,
    "start_time": "2021-07-22T14:15:17.109Z"
   },
   {
    "duration": 16,
    "start_time": "2021-07-22T14:15:17.881Z"
   },
   {
    "duration": 20,
    "start_time": "2021-07-22T14:15:17.900Z"
   },
   {
    "duration": 7,
    "start_time": "2021-07-22T14:15:17.922Z"
   },
   {
    "duration": 970,
    "start_time": "2021-07-22T14:15:17.932Z"
   },
   {
    "duration": 4,
    "start_time": "2021-07-22T14:15:18.905Z"
   },
   {
    "duration": 11,
    "start_time": "2021-07-22T14:15:18.912Z"
   },
   {
    "duration": 27,
    "start_time": "2021-07-22T14:15:18.926Z"
   },
   {
    "duration": 14,
    "start_time": "2021-07-22T14:15:18.956Z"
   },
   {
    "duration": 3106,
    "start_time": "2021-07-22T14:15:18.975Z"
   },
   {
    "duration": 9,
    "start_time": "2021-07-22T14:15:22.083Z"
   },
   {
    "duration": 238,
    "start_time": "2021-07-22T14:15:22.095Z"
   },
   {
    "duration": 5,
    "start_time": "2021-07-22T14:15:22.335Z"
   },
   {
    "duration": 18,
    "start_time": "2021-07-22T14:15:22.342Z"
   },
   {
    "duration": 38,
    "start_time": "2021-07-22T14:15:22.363Z"
   },
   {
    "duration": 14,
    "start_time": "2021-07-22T14:15:22.403Z"
   },
   {
    "duration": 3268,
    "start_time": "2021-07-22T14:15:22.420Z"
   },
   {
    "duration": 10,
    "start_time": "2021-07-22T14:15:25.690Z"
   },
   {
    "duration": 251,
    "start_time": "2021-07-22T14:15:25.703Z"
   },
   {
    "duration": 3123,
    "start_time": "2021-07-22T14:15:25.957Z"
   },
   {
    "duration": 11,
    "start_time": "2021-07-22T14:15:29.082Z"
   },
   {
    "duration": 238,
    "start_time": "2021-07-22T14:15:29.095Z"
   },
   {
    "duration": 6,
    "start_time": "2021-07-22T14:15:29.335Z"
   },
   {
    "duration": 35,
    "start_time": "2021-07-22T14:15:29.355Z"
   },
   {
    "duration": 56,
    "start_time": "2021-07-22T14:15:29.393Z"
   },
   {
    "duration": 10,
    "start_time": "2021-07-22T14:15:29.452Z"
   },
   {
    "duration": 37,
    "start_time": "2021-07-22T14:15:29.465Z"
   },
   {
    "duration": 5004,
    "start_time": "2021-07-22T14:15:29.505Z"
   },
   {
    "duration": 14,
    "start_time": "2021-07-22T14:15:34.512Z"
   },
   {
    "duration": 247,
    "start_time": "2021-07-22T14:15:34.528Z"
   },
   {
    "duration": 418,
    "start_time": "2021-07-22T14:15:34.777Z"
   },
   {
    "duration": 9,
    "start_time": "2021-07-22T14:15:35.198Z"
   },
   {
    "duration": 246,
    "start_time": "2021-07-22T14:15:35.210Z"
   },
   {
    "duration": 31,
    "start_time": "2021-07-22T14:15:35.458Z"
   },
   {
    "duration": 7,
    "start_time": "2021-07-22T14:15:35.492Z"
   },
   {
    "duration": 17,
    "start_time": "2021-07-22T14:15:35.501Z"
   },
   {
    "duration": 426,
    "start_time": "2021-07-22T14:15:35.521Z"
   },
   {
    "duration": 10,
    "start_time": "2021-07-22T14:15:35.954Z"
   },
   {
    "duration": 231,
    "start_time": "2021-07-22T14:15:35.966Z"
   },
   {
    "duration": 1297,
    "start_time": "2021-07-22T14:15:36.199Z"
   },
   {
    "duration": 13,
    "start_time": "2021-07-22T14:15:37.499Z"
   },
   {
    "duration": 242,
    "start_time": "2021-07-22T14:15:37.515Z"
   },
   {
    "duration": 29,
    "start_time": "2021-07-22T14:15:37.760Z"
   },
   {
    "duration": 10,
    "start_time": "2021-07-22T14:15:37.800Z"
   },
   {
    "duration": 40,
    "start_time": "2021-07-22T14:15:37.815Z"
   },
   {
    "duration": 32,
    "start_time": "2021-07-22T14:15:37.857Z"
   },
   {
    "duration": 52,
    "start_time": "2021-07-22T14:15:37.892Z"
   },
   {
    "duration": 9,
    "start_time": "2021-07-22T14:15:37.946Z"
   },
   {
    "duration": 31,
    "start_time": "2021-07-22T14:15:37.958Z"
   },
   {
    "duration": 21,
    "start_time": "2021-07-22T14:15:37.992Z"
   },
   {
    "duration": 1982,
    "start_time": "2021-07-22T14:15:38.016Z"
   },
   {
    "duration": 318,
    "start_time": "2021-07-22T14:15:40.001Z"
   },
   {
    "duration": 827,
    "start_time": "2021-07-22T14:15:40.354Z"
   },
   {
    "duration": 10,
    "start_time": "2021-07-22T14:15:41.184Z"
   },
   {
    "duration": 1711,
    "start_time": "2021-07-22T14:15:41.196Z"
   },
   {
    "duration": 13,
    "start_time": "2021-07-22T14:15:42.909Z"
   },
   {
    "duration": 256,
    "start_time": "2021-07-22T14:15:42.924Z"
   },
   {
    "duration": 6,
    "start_time": "2021-07-22T14:15:43.182Z"
   },
   {
    "duration": 25,
    "start_time": "2021-07-22T14:15:43.191Z"
   },
   {
    "duration": 51,
    "start_time": "2021-07-22T14:15:43.219Z"
   },
   {
    "duration": 8,
    "start_time": "2021-07-22T14:15:43.272Z"
   },
   {
    "duration": 15,
    "start_time": "2021-07-22T14:15:43.282Z"
   },
   {
    "duration": 1668,
    "start_time": "2021-07-22T14:15:43.299Z"
   },
   {
    "duration": 219,
    "start_time": "2021-07-22T14:15:44.969Z"
   },
   {
    "duration": 10,
    "start_time": "2021-07-22T14:15:45.191Z"
   },
   {
    "duration": 18,
    "start_time": "2021-07-22T14:15:45.203Z"
   },
   {
    "duration": 62,
    "start_time": "2021-07-22T14:15:45.223Z"
   },
   {
    "duration": 44,
    "start_time": "2021-07-22T14:15:45.287Z"
   },
   {
    "duration": 61,
    "start_time": "2021-07-22T14:15:45.333Z"
   },
   {
    "duration": 58,
    "start_time": "2021-07-22T14:15:45.396Z"
   },
   {
    "duration": 46,
    "start_time": "2021-07-22T14:15:45.457Z"
   },
   {
    "duration": 75,
    "start_time": "2021-07-22T14:15:45.505Z"
   },
   {
    "duration": 10,
    "start_time": "2021-07-22T14:15:45.582Z"
   },
   {
    "duration": 72,
    "start_time": "2021-07-22T14:15:45.594Z"
   },
   {
    "duration": 561,
    "start_time": "2021-07-22T14:15:45.669Z"
   },
   {
    "duration": 23,
    "start_time": "2021-07-22T14:15:46.232Z"
   },
   {
    "duration": 62,
    "start_time": "2021-07-22T14:15:46.257Z"
   },
   {
    "duration": 70,
    "start_time": "2021-07-22T14:15:46.322Z"
   },
   {
    "duration": 74,
    "start_time": "2021-07-22T14:15:46.395Z"
   },
   {
    "duration": 54,
    "start_time": "2021-07-22T14:15:46.471Z"
   },
   {
    "duration": 74,
    "start_time": "2021-07-22T14:15:46.527Z"
   },
   {
    "duration": 75,
    "start_time": "2021-07-22T14:15:46.603Z"
   },
   {
    "duration": 55,
    "start_time": "2021-07-22T14:15:46.681Z"
   },
   {
    "duration": 63,
    "start_time": "2021-07-22T14:15:46.755Z"
   },
   {
    "duration": 72,
    "start_time": "2021-07-22T14:15:46.820Z"
   },
   {
    "duration": 68,
    "start_time": "2021-07-22T14:15:46.895Z"
   },
   {
    "duration": 53,
    "start_time": "2021-07-22T14:15:46.965Z"
   },
   {
    "duration": 18,
    "start_time": "2021-07-22T14:19:52.593Z"
   },
   {
    "duration": 18,
    "start_time": "2021-07-22T14:23:41.204Z"
   },
   {
    "duration": 36,
    "start_time": "2021-07-22T14:29:05.476Z"
   },
   {
    "duration": 435,
    "start_time": "2021-07-24T09:18:27.855Z"
   },
   {
    "duration": 1407,
    "start_time": "2021-07-24T09:18:39.485Z"
   },
   {
    "duration": 23,
    "start_time": "2021-07-24T09:18:40.895Z"
   },
   {
    "duration": 7,
    "start_time": "2021-07-24T09:18:40.921Z"
   },
   {
    "duration": 12,
    "start_time": "2021-07-24T09:18:40.931Z"
   },
   {
    "duration": 7,
    "start_time": "2021-07-24T09:18:40.946Z"
   },
   {
    "duration": 426,
    "start_time": "2021-07-24T09:18:40.956Z"
   },
   {
    "duration": -489,
    "start_time": "2021-07-24T09:18:41.879Z"
   },
   {
    "duration": -501,
    "start_time": "2021-07-24T09:18:41.892Z"
   },
   {
    "duration": -509,
    "start_time": "2021-07-24T09:18:41.902Z"
   },
   {
    "duration": -521,
    "start_time": "2021-07-24T09:18:41.915Z"
   },
   {
    "duration": -530,
    "start_time": "2021-07-24T09:18:41.926Z"
   },
   {
    "duration": -542,
    "start_time": "2021-07-24T09:18:41.939Z"
   },
   {
    "duration": -553,
    "start_time": "2021-07-24T09:18:41.952Z"
   },
   {
    "duration": -587,
    "start_time": "2021-07-24T09:18:41.987Z"
   },
   {
    "duration": -601,
    "start_time": "2021-07-24T09:18:42.002Z"
   },
   {
    "duration": -613,
    "start_time": "2021-07-24T09:18:42.016Z"
   },
   {
    "duration": -622,
    "start_time": "2021-07-24T09:18:42.026Z"
   },
   {
    "duration": -633,
    "start_time": "2021-07-24T09:18:42.038Z"
   },
   {
    "duration": -641,
    "start_time": "2021-07-24T09:18:42.048Z"
   },
   {
    "duration": -653,
    "start_time": "2021-07-24T09:18:42.061Z"
   },
   {
    "duration": -662,
    "start_time": "2021-07-24T09:18:42.071Z"
   },
   {
    "duration": -691,
    "start_time": "2021-07-24T09:18:42.101Z"
   },
   {
    "duration": -705,
    "start_time": "2021-07-24T09:18:42.117Z"
   },
   {
    "duration": -720,
    "start_time": "2021-07-24T09:18:42.133Z"
   },
   {
    "duration": -730,
    "start_time": "2021-07-24T09:18:42.144Z"
   },
   {
    "duration": -741,
    "start_time": "2021-07-24T09:18:42.156Z"
   },
   {
    "duration": -750,
    "start_time": "2021-07-24T09:18:42.166Z"
   },
   {
    "duration": -760,
    "start_time": "2021-07-24T09:18:42.178Z"
   },
   {
    "duration": -770,
    "start_time": "2021-07-24T09:18:42.189Z"
   },
   {
    "duration": -792,
    "start_time": "2021-07-24T09:18:42.213Z"
   },
   {
    "duration": -801,
    "start_time": "2021-07-24T09:18:42.223Z"
   },
   {
    "duration": -813,
    "start_time": "2021-07-24T09:18:42.236Z"
   },
   {
    "duration": -822,
    "start_time": "2021-07-24T09:18:42.246Z"
   },
   {
    "duration": -833,
    "start_time": "2021-07-24T09:18:42.258Z"
   },
   {
    "duration": -842,
    "start_time": "2021-07-24T09:18:42.268Z"
   },
   {
    "duration": -853,
    "start_time": "2021-07-24T09:18:42.280Z"
   },
   {
    "duration": -863,
    "start_time": "2021-07-24T09:18:42.291Z"
   },
   {
    "duration": -880,
    "start_time": "2021-07-24T09:18:42.309Z"
   },
   {
    "duration": -905,
    "start_time": "2021-07-24T09:18:42.335Z"
   },
   {
    "duration": -917,
    "start_time": "2021-07-24T09:18:42.348Z"
   },
   {
    "duration": -926,
    "start_time": "2021-07-24T09:18:42.358Z"
   },
   {
    "duration": -937,
    "start_time": "2021-07-24T09:18:42.370Z"
   },
   {
    "duration": -946,
    "start_time": "2021-07-24T09:18:42.380Z"
   },
   {
    "duration": -956,
    "start_time": "2021-07-24T09:18:42.392Z"
   },
   {
    "duration": -964,
    "start_time": "2021-07-24T09:18:42.401Z"
   },
   {
    "duration": -975,
    "start_time": "2021-07-24T09:18:42.413Z"
   },
   {
    "duration": -983,
    "start_time": "2021-07-24T09:18:42.423Z"
   },
   {
    "duration": -1012,
    "start_time": "2021-07-24T09:18:42.453Z"
   },
   {
    "duration": -1036,
    "start_time": "2021-07-24T09:18:42.479Z"
   },
   {
    "duration": -1082,
    "start_time": "2021-07-24T09:18:42.526Z"
   },
   {
    "duration": -1080,
    "start_time": "2021-07-24T09:18:42.582Z"
   },
   {
    "duration": -1142,
    "start_time": "2021-07-24T09:18:42.646Z"
   },
   {
    "duration": -1154,
    "start_time": "2021-07-24T09:18:42.659Z"
   },
   {
    "duration": -1200,
    "start_time": "2021-07-24T09:18:42.707Z"
   },
   {
    "duration": -1256,
    "start_time": "2021-07-24T09:18:42.764Z"
   },
   {
    "duration": -1302,
    "start_time": "2021-07-24T09:18:42.812Z"
   },
   {
    "duration": -1378,
    "start_time": "2021-07-24T09:18:42.889Z"
   },
   {
    "duration": -1437,
    "start_time": "2021-07-24T09:18:42.950Z"
   },
   {
    "duration": -1502,
    "start_time": "2021-07-24T09:18:43.016Z"
   },
   {
    "duration": -1558,
    "start_time": "2021-07-24T09:18:43.073Z"
   },
   {
    "duration": -1585,
    "start_time": "2021-07-24T09:18:43.102Z"
   },
   {
    "duration": -1595,
    "start_time": "2021-07-24T09:18:43.114Z"
   },
   {
    "duration": -1604,
    "start_time": "2021-07-24T09:18:43.124Z"
   },
   {
    "duration": -1614,
    "start_time": "2021-07-24T09:18:43.136Z"
   },
   {
    "duration": -1623,
    "start_time": "2021-07-24T09:18:43.146Z"
   },
   {
    "duration": -1634,
    "start_time": "2021-07-24T09:18:43.158Z"
   },
   {
    "duration": -1643,
    "start_time": "2021-07-24T09:18:43.168Z"
   },
   {
    "duration": -1652,
    "start_time": "2021-07-24T09:18:43.179Z"
   },
   {
    "duration": -1661,
    "start_time": "2021-07-24T09:18:43.189Z"
   },
   {
    "duration": -1692,
    "start_time": "2021-07-24T09:18:43.221Z"
   },
   {
    "duration": -1700,
    "start_time": "2021-07-24T09:18:43.231Z"
   },
   {
    "duration": -1711,
    "start_time": "2021-07-24T09:18:43.243Z"
   },
   {
    "duration": -1720,
    "start_time": "2021-07-24T09:18:43.253Z"
   },
   {
    "duration": -1731,
    "start_time": "2021-07-24T09:18:43.265Z"
   },
   {
    "duration": -1741,
    "start_time": "2021-07-24T09:18:43.276Z"
   },
   {
    "duration": -1752,
    "start_time": "2021-07-24T09:18:43.289Z"
   },
   {
    "duration": -1700,
    "start_time": "2021-07-24T09:18:43.300Z"
   },
   {
    "duration": -1710,
    "start_time": "2021-07-24T09:18:43.312Z"
   },
   {
    "duration": -1740,
    "start_time": "2021-07-24T09:18:43.344Z"
   },
   {
    "duration": -1753,
    "start_time": "2021-07-24T09:18:43.358Z"
   },
   {
    "duration": -1764,
    "start_time": "2021-07-24T09:18:43.370Z"
   },
   {
    "duration": -1777,
    "start_time": "2021-07-24T09:18:43.384Z"
   },
   {
    "duration": -1787,
    "start_time": "2021-07-24T09:18:43.396Z"
   },
   {
    "duration": -1798,
    "start_time": "2021-07-24T09:18:43.408Z"
   },
   {
    "duration": -1807,
    "start_time": "2021-07-24T09:18:43.419Z"
   },
   {
    "duration": -1818,
    "start_time": "2021-07-24T09:18:43.431Z"
   },
   {
    "duration": -1847,
    "start_time": "2021-07-24T09:18:43.461Z"
   },
   {
    "duration": -1859,
    "start_time": "2021-07-24T09:18:43.475Z"
   },
   {
    "duration": -1870,
    "start_time": "2021-07-24T09:18:43.487Z"
   },
   {
    "duration": -1882,
    "start_time": "2021-07-24T09:18:43.500Z"
   },
   {
    "duration": -1930,
    "start_time": "2021-07-24T09:18:43.549Z"
   },
   {
    "duration": -1973,
    "start_time": "2021-07-24T09:18:43.594Z"
   },
   {
    "duration": -2001,
    "start_time": "2021-07-24T09:18:43.623Z"
   },
   {
    "duration": -2011,
    "start_time": "2021-07-24T09:18:43.635Z"
   },
   {
    "duration": -2026,
    "start_time": "2021-07-24T09:18:43.651Z"
   },
   {
    "duration": -2042,
    "start_time": "2021-07-24T09:18:43.668Z"
   },
   {
    "duration": -2055,
    "start_time": "2021-07-24T09:18:43.683Z"
   },
   {
    "duration": -2066,
    "start_time": "2021-07-24T09:18:43.695Z"
   },
   {
    "duration": -2078,
    "start_time": "2021-07-24T09:18:43.708Z"
   },
   {
    "duration": -2109,
    "start_time": "2021-07-24T09:18:43.740Z"
   },
   {
    "duration": -2117,
    "start_time": "2021-07-24T09:18:43.750Z"
   },
   {
    "duration": -2129,
    "start_time": "2021-07-24T09:18:43.763Z"
   },
   {
    "duration": -2143,
    "start_time": "2021-07-24T09:18:43.778Z"
   },
   {
    "duration": -2157,
    "start_time": "2021-07-24T09:18:43.794Z"
   },
   {
    "duration": -2170,
    "start_time": "2021-07-24T09:18:43.808Z"
   },
   {
    "duration": -2129,
    "start_time": "2021-07-24T09:18:43.828Z"
   },
   {
    "duration": -2156,
    "start_time": "2021-07-24T09:18:43.857Z"
   },
   {
    "duration": -2169,
    "start_time": "2021-07-24T09:18:43.871Z"
   },
   {
    "duration": -2180,
    "start_time": "2021-07-24T09:18:43.884Z"
   },
   {
    "duration": -2192,
    "start_time": "2021-07-24T09:18:43.898Z"
   },
   {
    "duration": -2201,
    "start_time": "2021-07-24T09:18:43.909Z"
   },
   {
    "duration": -2212,
    "start_time": "2021-07-24T09:18:43.922Z"
   },
   {
    "duration": -2220,
    "start_time": "2021-07-24T09:18:43.933Z"
   },
   {
    "duration": 7,
    "start_time": "2021-07-24T09:22:22.082Z"
   },
   {
    "duration": 5,
    "start_time": "2021-07-24T09:22:26.283Z"
   },
   {
    "duration": 17,
    "start_time": "2021-07-24T09:22:41.895Z"
   },
   {
    "duration": 5,
    "start_time": "2021-07-24T09:23:00.887Z"
   },
   {
    "duration": 22,
    "start_time": "2021-07-24T09:27:31.576Z"
   },
   {
    "duration": 119,
    "start_time": "2021-07-24T09:27:39.914Z"
   },
   {
    "duration": 32,
    "start_time": "2021-07-24T09:27:40.036Z"
   },
   {
    "duration": 7,
    "start_time": "2021-07-24T09:27:40.071Z"
   },
   {
    "duration": 12,
    "start_time": "2021-07-24T09:27:40.101Z"
   },
   {
    "duration": 8,
    "start_time": "2021-07-24T09:27:40.115Z"
   },
   {
    "duration": 6,
    "start_time": "2021-07-24T09:27:40.126Z"
   },
   {
    "duration": 22,
    "start_time": "2021-07-24T09:27:40.134Z"
   },
   {
    "duration": 8,
    "start_time": "2021-07-24T09:27:40.203Z"
   },
   {
    "duration": 12,
    "start_time": "2021-07-24T09:27:40.215Z"
   },
   {
    "duration": 35,
    "start_time": "2021-07-24T09:27:40.229Z"
   },
   {
    "duration": 46,
    "start_time": "2021-07-24T09:27:40.267Z"
   },
   {
    "duration": 6,
    "start_time": "2021-07-24T09:27:40.316Z"
   },
   {
    "duration": 2328,
    "start_time": "2021-07-24T09:27:40.325Z"
   },
   {
    "duration": 5,
    "start_time": "2021-07-24T09:27:42.656Z"
   },
   {
    "duration": 37,
    "start_time": "2021-07-24T09:27:42.663Z"
   },
   {
    "duration": 51,
    "start_time": "2021-07-24T09:27:42.703Z"
   },
   {
    "duration": 94,
    "start_time": "2021-07-24T09:27:42.765Z"
   },
   {
    "duration": 39,
    "start_time": "2021-07-24T09:27:42.861Z"
   },
   {
    "duration": 17,
    "start_time": "2021-07-24T09:27:42.903Z"
   },
   {
    "duration": 7,
    "start_time": "2021-07-24T09:27:42.923Z"
   },
   {
    "duration": 19,
    "start_time": "2021-07-24T09:27:42.933Z"
   },
   {
    "duration": 20,
    "start_time": "2021-07-24T09:27:42.954Z"
   },
   {
    "duration": 10,
    "start_time": "2021-07-24T09:27:43.005Z"
   },
   {
    "duration": 9,
    "start_time": "2021-07-24T09:27:43.018Z"
   },
   {
    "duration": 731,
    "start_time": "2021-07-24T09:27:43.029Z"
   },
   {
    "duration": 16,
    "start_time": "2021-07-24T09:27:43.763Z"
   },
   {
    "duration": 25,
    "start_time": "2021-07-24T09:27:43.782Z"
   },
   {
    "duration": 22,
    "start_time": "2021-07-24T09:27:43.810Z"
   },
   {
    "duration": 4,
    "start_time": "2021-07-24T09:27:43.835Z"
   },
   {
    "duration": 1022,
    "start_time": "2021-07-24T09:27:43.842Z"
   },
   {
    "duration": 5,
    "start_time": "2021-07-24T09:27:44.868Z"
   },
   {
    "duration": 7,
    "start_time": "2021-07-24T09:27:44.876Z"
   },
   {
    "duration": 14,
    "start_time": "2021-07-24T09:27:44.886Z"
   },
   {
    "duration": 7,
    "start_time": "2021-07-24T09:27:44.904Z"
   },
   {
    "duration": 3524,
    "start_time": "2021-07-24T09:27:44.914Z"
   },
   {
    "duration": 11,
    "start_time": "2021-07-24T09:27:48.441Z"
   },
   {
    "duration": 253,
    "start_time": "2021-07-24T09:27:48.455Z"
   },
   {
    "duration": 5,
    "start_time": "2021-07-24T09:27:48.711Z"
   },
   {
    "duration": 18,
    "start_time": "2021-07-24T09:27:48.718Z"
   },
   {
    "duration": 62,
    "start_time": "2021-07-24T09:27:48.738Z"
   },
   {
    "duration": 15,
    "start_time": "2021-07-24T09:27:48.803Z"
   },
   {
    "duration": 5792,
    "start_time": "2021-07-24T09:27:48.820Z"
   },
   {
    "duration": 15,
    "start_time": "2021-07-24T09:27:54.615Z"
   },
   {
    "duration": 299,
    "start_time": "2021-07-24T09:27:54.633Z"
   },
   {
    "duration": 3186,
    "start_time": "2021-07-24T09:27:54.935Z"
   },
   {
    "duration": 12,
    "start_time": "2021-07-24T09:27:58.123Z"
   },
   {
    "duration": 251,
    "start_time": "2021-07-24T09:27:58.138Z"
   },
   {
    "duration": 11,
    "start_time": "2021-07-24T09:27:58.391Z"
   },
   {
    "duration": 27,
    "start_time": "2021-07-24T09:27:58.404Z"
   },
   {
    "duration": 39,
    "start_time": "2021-07-24T09:27:58.433Z"
   },
   {
    "duration": 7,
    "start_time": "2021-07-24T09:27:58.475Z"
   },
   {
    "duration": 15,
    "start_time": "2021-07-24T09:27:58.500Z"
   },
   {
    "duration": 3111,
    "start_time": "2021-07-24T09:27:58.518Z"
   },
   {
    "duration": 12,
    "start_time": "2021-07-24T09:28:01.632Z"
   },
   {
    "duration": 243,
    "start_time": "2021-07-24T09:28:01.647Z"
   },
   {
    "duration": 422,
    "start_time": "2021-07-24T09:28:01.893Z"
   },
   {
    "duration": 10,
    "start_time": "2021-07-24T09:28:02.317Z"
   },
   {
    "duration": 241,
    "start_time": "2021-07-24T09:28:02.329Z"
   },
   {
    "duration": 43,
    "start_time": "2021-07-24T09:28:02.573Z"
   },
   {
    "duration": 7,
    "start_time": "2021-07-24T09:28:02.618Z"
   },
   {
    "duration": 16,
    "start_time": "2021-07-24T09:28:02.628Z"
   },
   {
    "duration": 409,
    "start_time": "2021-07-24T09:28:02.647Z"
   },
   {
    "duration": 9,
    "start_time": "2021-07-24T09:28:03.059Z"
   },
   {
    "duration": 231,
    "start_time": "2021-07-24T09:28:03.071Z"
   },
   {
    "duration": 1172,
    "start_time": "2021-07-24T09:28:03.305Z"
   },
   {
    "duration": 20,
    "start_time": "2021-07-24T09:28:04.480Z"
   },
   {
    "duration": 246,
    "start_time": "2021-07-24T09:28:04.503Z"
   },
   {
    "duration": 42,
    "start_time": "2021-07-24T09:28:04.758Z"
   },
   {
    "duration": 10,
    "start_time": "2021-07-24T09:28:04.804Z"
   },
   {
    "duration": 8,
    "start_time": "2021-07-24T09:28:04.817Z"
   },
   {
    "duration": 18,
    "start_time": "2021-07-24T09:28:04.827Z"
   },
   {
    "duration": 71,
    "start_time": "2021-07-24T09:28:04.847Z"
   },
   {
    "duration": 8,
    "start_time": "2021-07-24T09:28:04.920Z"
   },
   {
    "duration": 26,
    "start_time": "2021-07-24T09:28:04.930Z"
   },
   {
    "duration": 10,
    "start_time": "2021-07-24T09:28:04.958Z"
   },
   {
    "duration": 1047,
    "start_time": "2021-07-24T09:28:04.971Z"
   },
   {
    "duration": 233,
    "start_time": "2021-07-24T09:28:06.020Z"
   },
   {
    "duration": 50,
    "start_time": "2021-07-24T09:28:06.256Z"
   },
   {
    "duration": 795,
    "start_time": "2021-07-24T09:28:06.308Z"
   },
   {
    "duration": 11,
    "start_time": "2021-07-24T09:28:07.106Z"
   },
   {
    "duration": 1749,
    "start_time": "2021-07-24T09:28:07.119Z"
   },
   {
    "duration": 11,
    "start_time": "2021-07-24T09:28:08.870Z"
   },
   {
    "duration": 265,
    "start_time": "2021-07-24T09:28:08.884Z"
   },
   {
    "duration": 6,
    "start_time": "2021-07-24T09:28:09.151Z"
   },
   {
    "duration": 40,
    "start_time": "2021-07-24T09:28:09.160Z"
   },
   {
    "duration": 37,
    "start_time": "2021-07-24T09:28:09.203Z"
   },
   {
    "duration": 9,
    "start_time": "2021-07-24T09:28:09.243Z"
   },
   {
    "duration": 24,
    "start_time": "2021-07-24T09:28:09.254Z"
   },
   {
    "duration": 1782,
    "start_time": "2021-07-24T09:28:09.280Z"
   },
   {
    "duration": 233,
    "start_time": "2021-07-24T09:28:11.065Z"
   },
   {
    "duration": 13,
    "start_time": "2021-07-24T09:28:11.301Z"
   },
   {
    "duration": 29,
    "start_time": "2021-07-24T09:28:11.318Z"
   },
   {
    "duration": 67,
    "start_time": "2021-07-24T09:28:11.350Z"
   },
   {
    "duration": 45,
    "start_time": "2021-07-24T09:28:11.420Z"
   },
   {
    "duration": 66,
    "start_time": "2021-07-24T09:28:11.467Z"
   },
   {
    "duration": 38,
    "start_time": "2021-07-24T09:28:11.536Z"
   },
   {
    "duration": 66,
    "start_time": "2021-07-24T09:28:11.577Z"
   },
   {
    "duration": 108,
    "start_time": "2021-07-24T09:28:11.646Z"
   },
   {
    "duration": 14,
    "start_time": "2021-07-24T09:28:11.758Z"
   },
   {
    "duration": 99,
    "start_time": "2021-07-24T09:28:11.776Z"
   },
   {
    "duration": 861,
    "start_time": "2021-07-24T09:28:11.878Z"
   },
   {
    "duration": 14,
    "start_time": "2021-07-24T09:28:12.742Z"
   },
   {
    "duration": 75,
    "start_time": "2021-07-24T09:28:12.759Z"
   },
   {
    "duration": 84,
    "start_time": "2021-07-24T09:28:12.836Z"
   },
   {
    "duration": 79,
    "start_time": "2021-07-24T09:28:12.923Z"
   },
   {
    "duration": 67,
    "start_time": "2021-07-24T09:28:13.005Z"
   },
   {
    "duration": 77,
    "start_time": "2021-07-24T09:28:13.074Z"
   },
   {
    "duration": 92,
    "start_time": "2021-07-24T09:28:13.153Z"
   },
   {
    "duration": 74,
    "start_time": "2021-07-24T09:28:13.248Z"
   },
   {
    "duration": 75,
    "start_time": "2021-07-24T09:28:13.325Z"
   },
   {
    "duration": 60,
    "start_time": "2021-07-24T09:28:13.403Z"
   },
   {
    "duration": 76,
    "start_time": "2021-07-24T09:28:13.466Z"
   },
   {
    "duration": 70,
    "start_time": "2021-07-24T09:28:13.544Z"
   },
   {
    "duration": 88,
    "start_time": "2021-07-24T09:30:06.494Z"
   },
   {
    "duration": 31,
    "start_time": "2021-07-24T09:30:06.585Z"
   },
   {
    "duration": 5,
    "start_time": "2021-07-24T09:30:06.619Z"
   },
   {
    "duration": 14,
    "start_time": "2021-07-24T09:30:06.626Z"
   },
   {
    "duration": 6,
    "start_time": "2021-07-24T09:30:06.642Z"
   },
   {
    "duration": 51,
    "start_time": "2021-07-24T09:30:06.650Z"
   },
   {
    "duration": 14,
    "start_time": "2021-07-24T09:30:06.703Z"
   },
   {
    "duration": 5,
    "start_time": "2021-07-24T09:30:06.721Z"
   },
   {
    "duration": 8,
    "start_time": "2021-07-24T09:30:06.729Z"
   },
   {
    "duration": 21,
    "start_time": "2021-07-24T09:30:06.739Z"
   },
   {
    "duration": 46,
    "start_time": "2021-07-24T09:30:06.763Z"
   },
   {
    "duration": 5,
    "start_time": "2021-07-24T09:30:06.812Z"
   },
   {
    "duration": 2177,
    "start_time": "2021-07-24T09:30:06.820Z"
   },
   {
    "duration": 5,
    "start_time": "2021-07-24T09:30:09.000Z"
   },
   {
    "duration": 7,
    "start_time": "2021-07-24T09:30:09.007Z"
   },
   {
    "duration": 98,
    "start_time": "2021-07-24T09:30:09.016Z"
   },
   {
    "duration": 94,
    "start_time": "2021-07-24T09:30:09.117Z"
   },
   {
    "duration": 7,
    "start_time": "2021-07-24T09:30:09.213Z"
   },
   {
    "duration": 18,
    "start_time": "2021-07-24T09:30:09.223Z"
   },
   {
    "duration": 7,
    "start_time": "2021-07-24T09:30:09.244Z"
   },
   {
    "duration": 51,
    "start_time": "2021-07-24T09:30:09.253Z"
   },
   {
    "duration": 14,
    "start_time": "2021-07-24T09:30:09.307Z"
   },
   {
    "duration": 9,
    "start_time": "2021-07-24T09:30:09.327Z"
   },
   {
    "duration": 3,
    "start_time": "2021-07-24T09:30:09.340Z"
   },
   {
    "duration": 724,
    "start_time": "2021-07-24T09:30:09.346Z"
   },
   {
    "duration": 17,
    "start_time": "2021-07-24T09:30:10.072Z"
   },
   {
    "duration": 13,
    "start_time": "2021-07-24T09:30:10.101Z"
   },
   {
    "duration": 16,
    "start_time": "2021-07-24T09:30:10.116Z"
   },
   {
    "duration": 7,
    "start_time": "2021-07-24T09:30:10.135Z"
   },
   {
    "duration": 875,
    "start_time": "2021-07-24T09:30:10.145Z"
   },
   {
    "duration": 4,
    "start_time": "2021-07-24T09:30:11.022Z"
   },
   {
    "duration": 9,
    "start_time": "2021-07-24T09:30:11.028Z"
   },
   {
    "duration": 7,
    "start_time": "2021-07-24T09:30:11.040Z"
   },
   {
    "duration": 8,
    "start_time": "2021-07-24T09:30:11.049Z"
   },
   {
    "duration": 3170,
    "start_time": "2021-07-24T09:30:11.059Z"
   },
   {
    "duration": 10,
    "start_time": "2021-07-24T09:30:14.231Z"
   },
   {
    "duration": 242,
    "start_time": "2021-07-24T09:30:14.243Z"
   },
   {
    "duration": 5,
    "start_time": "2021-07-24T09:30:14.488Z"
   },
   {
    "duration": 15,
    "start_time": "2021-07-24T09:30:14.502Z"
   },
   {
    "duration": 34,
    "start_time": "2021-07-24T09:30:14.520Z"
   },
   {
    "duration": 49,
    "start_time": "2021-07-24T09:30:14.557Z"
   },
   {
    "duration": 3247,
    "start_time": "2021-07-24T09:30:14.609Z"
   },
   {
    "duration": 12,
    "start_time": "2021-07-24T09:30:17.860Z"
   },
   {
    "duration": 261,
    "start_time": "2021-07-24T09:30:17.875Z"
   },
   {
    "duration": 3012,
    "start_time": "2021-07-24T09:30:18.139Z"
   },
   {
    "duration": 12,
    "start_time": "2021-07-24T09:30:21.155Z"
   },
   {
    "duration": 257,
    "start_time": "2021-07-24T09:30:21.170Z"
   },
   {
    "duration": 7,
    "start_time": "2021-07-24T09:30:21.431Z"
   },
   {
    "duration": 19,
    "start_time": "2021-07-24T09:30:21.441Z"
   },
   {
    "duration": 65,
    "start_time": "2021-07-24T09:30:21.462Z"
   },
   {
    "duration": 8,
    "start_time": "2021-07-24T09:30:21.529Z"
   },
   {
    "duration": 14,
    "start_time": "2021-07-24T09:30:21.540Z"
   },
   {
    "duration": 3076,
    "start_time": "2021-07-24T09:30:21.556Z"
   },
   {
    "duration": 13,
    "start_time": "2021-07-24T09:30:24.635Z"
   },
   {
    "duration": 238,
    "start_time": "2021-07-24T09:30:24.650Z"
   },
   {
    "duration": 513,
    "start_time": "2021-07-24T09:30:24.891Z"
   },
   {
    "duration": 11,
    "start_time": "2021-07-24T09:30:25.407Z"
   },
   {
    "duration": 233,
    "start_time": "2021-07-24T09:30:25.421Z"
   },
   {
    "duration": 49,
    "start_time": "2021-07-24T09:30:25.656Z"
   },
   {
    "duration": 8,
    "start_time": "2021-07-24T09:30:25.708Z"
   },
   {
    "duration": 12,
    "start_time": "2021-07-24T09:30:25.718Z"
   },
   {
    "duration": 412,
    "start_time": "2021-07-24T09:30:25.732Z"
   },
   {
    "duration": 10,
    "start_time": "2021-07-24T09:30:26.147Z"
   },
   {
    "duration": 232,
    "start_time": "2021-07-24T09:30:26.160Z"
   },
   {
    "duration": 1056,
    "start_time": "2021-07-24T09:30:26.403Z"
   },
   {
    "duration": 10,
    "start_time": "2021-07-24T09:30:27.462Z"
   },
   {
    "duration": 227,
    "start_time": "2021-07-24T09:30:27.475Z"
   },
   {
    "duration": 28,
    "start_time": "2021-07-24T09:30:27.711Z"
   },
   {
    "duration": 8,
    "start_time": "2021-07-24T09:30:27.743Z"
   },
   {
    "duration": 7,
    "start_time": "2021-07-24T09:30:27.753Z"
   },
   {
    "duration": 52,
    "start_time": "2021-07-24T09:30:27.763Z"
   },
   {
    "duration": 36,
    "start_time": "2021-07-24T09:30:27.817Z"
   },
   {
    "duration": 9,
    "start_time": "2021-07-24T09:30:27.856Z"
   },
   {
    "duration": 40,
    "start_time": "2021-07-24T09:30:27.867Z"
   },
   {
    "duration": 15,
    "start_time": "2021-07-24T09:30:27.909Z"
   },
   {
    "duration": 1143,
    "start_time": "2021-07-24T09:30:27.926Z"
   },
   {
    "duration": 224,
    "start_time": "2021-07-24T09:30:29.071Z"
   },
   {
    "duration": 34,
    "start_time": "2021-07-24T09:30:29.301Z"
   },
   {
    "duration": 909,
    "start_time": "2021-07-24T09:30:29.338Z"
   },
   {
    "duration": 11,
    "start_time": "2021-07-24T09:30:30.249Z"
   },
   {
    "duration": 1724,
    "start_time": "2021-07-24T09:30:30.262Z"
   },
   {
    "duration": 17,
    "start_time": "2021-07-24T09:30:31.989Z"
   },
   {
    "duration": 249,
    "start_time": "2021-07-24T09:30:32.009Z"
   },
   {
    "duration": 6,
    "start_time": "2021-07-24T09:30:32.261Z"
   },
   {
    "duration": 40,
    "start_time": "2021-07-24T09:30:32.270Z"
   },
   {
    "duration": 36,
    "start_time": "2021-07-24T09:30:32.312Z"
   },
   {
    "duration": 8,
    "start_time": "2021-07-24T09:30:32.351Z"
   },
   {
    "duration": 42,
    "start_time": "2021-07-24T09:30:32.361Z"
   },
   {
    "duration": 1580,
    "start_time": "2021-07-24T09:30:32.405Z"
   },
   {
    "duration": 228,
    "start_time": "2021-07-24T09:30:33.988Z"
   },
   {
    "duration": 10,
    "start_time": "2021-07-24T09:30:34.219Z"
   },
   {
    "duration": 17,
    "start_time": "2021-07-24T09:30:34.231Z"
   },
   {
    "duration": 66,
    "start_time": "2021-07-24T09:30:34.250Z"
   },
   {
    "duration": 43,
    "start_time": "2021-07-24T09:30:34.318Z"
   },
   {
    "duration": 64,
    "start_time": "2021-07-24T09:30:34.364Z"
   },
   {
    "duration": 32,
    "start_time": "2021-07-24T09:30:34.431Z"
   },
   {
    "duration": 66,
    "start_time": "2021-07-24T09:30:34.466Z"
   },
   {
    "duration": 70,
    "start_time": "2021-07-24T09:30:34.534Z"
   },
   {
    "duration": 10,
    "start_time": "2021-07-24T09:30:34.607Z"
   },
   {
    "duration": 48,
    "start_time": "2021-07-24T09:30:34.620Z"
   },
   {
    "duration": 571,
    "start_time": "2021-07-24T09:30:34.670Z"
   },
   {
    "duration": 9,
    "start_time": "2021-07-24T09:30:35.244Z"
   },
   {
    "duration": 74,
    "start_time": "2021-07-24T09:30:35.256Z"
   },
   {
    "duration": 174,
    "start_time": "2021-07-24T09:30:35.333Z"
   },
   {
    "duration": 53,
    "start_time": "2021-07-24T09:30:35.509Z"
   },
   {
    "duration": 74,
    "start_time": "2021-07-24T09:30:35.564Z"
   },
   {
    "duration": 70,
    "start_time": "2021-07-24T09:30:35.640Z"
   },
   {
    "duration": 52,
    "start_time": "2021-07-24T09:30:35.713Z"
   },
   {
    "duration": 73,
    "start_time": "2021-07-24T09:30:35.768Z"
   },
   {
    "duration": 79,
    "start_time": "2021-07-24T09:30:35.844Z"
   },
   {
    "duration": 53,
    "start_time": "2021-07-24T09:30:35.925Z"
   },
   {
    "duration": 71,
    "start_time": "2021-07-24T09:30:35.981Z"
   },
   {
    "duration": 85,
    "start_time": "2021-07-24T09:30:36.055Z"
   },
   {
    "duration": 34,
    "start_time": "2021-07-24T09:33:57.215Z"
   },
   {
    "duration": 27,
    "start_time": "2021-07-24T09:34:24.331Z"
   },
   {
    "duration": 27,
    "start_time": "2021-07-24T09:34:26.742Z"
   },
   {
    "duration": 27,
    "start_time": "2021-07-24T09:34:28.763Z"
   },
   {
    "duration": 29,
    "start_time": "2021-07-24T09:34:33.102Z"
   },
   {
    "duration": 27,
    "start_time": "2021-07-24T09:34:35.869Z"
   },
   {
    "duration": 10,
    "start_time": "2021-07-24T09:34:39.039Z"
   },
   {
    "duration": 359,
    "start_time": "2021-07-24T09:37:18.463Z"
   },
   {
    "duration": 44,
    "start_time": "2021-07-24T09:37:47.134Z"
   },
   {
    "duration": 47,
    "start_time": "2021-07-24T09:38:01.381Z"
   },
   {
    "duration": 363,
    "start_time": "2021-07-24T09:38:07.368Z"
   },
   {
    "duration": 360,
    "start_time": "2021-07-24T09:40:12.736Z"
   },
   {
    "duration": 372,
    "start_time": "2021-07-24T09:40:44.458Z"
   },
   {
    "duration": 362,
    "start_time": "2021-07-24T09:42:18.623Z"
   },
   {
    "duration": 41,
    "start_time": "2021-07-24T09:44:46.971Z"
   },
   {
    "duration": 60,
    "start_time": "2021-07-24T09:45:10.608Z"
   },
   {
    "duration": 385,
    "start_time": "2021-07-24T09:45:14.066Z"
   },
   {
    "duration": 406,
    "start_time": "2021-07-24T09:45:32.135Z"
   },
   {
    "duration": 44,
    "start_time": "2021-07-24T09:45:43.704Z"
   },
   {
    "duration": 43,
    "start_time": "2021-07-24T09:46:02.799Z"
   },
   {
    "duration": 364,
    "start_time": "2021-07-24T09:46:06.894Z"
   },
   {
    "duration": 51,
    "start_time": "2021-07-24T09:47:43.451Z"
   },
   {
    "duration": 341,
    "start_time": "2021-07-24T09:48:12.859Z"
   },
   {
    "duration": 395,
    "start_time": "2021-07-24T09:48:34.195Z"
   },
   {
    "duration": 56,
    "start_time": "2021-07-24T09:48:40.490Z"
   },
   {
    "duration": 347,
    "start_time": "2021-07-24T09:48:46.229Z"
   },
   {
    "duration": 173,
    "start_time": "2021-07-24T09:49:15.298Z"
   },
   {
    "duration": 122,
    "start_time": "2021-07-24T09:49:23.023Z"
   },
   {
    "duration": 121,
    "start_time": "2021-07-24T09:49:28.505Z"
   },
   {
    "duration": 10,
    "start_time": "2021-07-24T09:55:43.683Z"
   },
   {
    "duration": 52,
    "start_time": "2021-07-24T09:55:48.438Z"
   },
   {
    "duration": 86,
    "start_time": "2021-07-24T09:55:59.246Z"
   },
   {
    "duration": 100,
    "start_time": "2021-07-24T09:56:05.002Z"
   },
   {
    "duration": 56,
    "start_time": "2021-07-24T09:56:44.211Z"
   },
   {
    "duration": 60,
    "start_time": "2021-07-24T09:56:58.000Z"
   },
   {
    "duration": 50,
    "start_time": "2021-07-24T09:59:39.266Z"
   },
   {
    "duration": 340,
    "start_time": "2021-07-24T09:59:53.217Z"
   },
   {
    "duration": 55,
    "start_time": "2021-07-24T10:00:08.087Z"
   },
   {
    "duration": 54,
    "start_time": "2021-07-24T10:00:10.464Z"
   },
   {
    "duration": 60,
    "start_time": "2021-07-24T10:00:13.470Z"
   },
   {
    "duration": 53,
    "start_time": "2021-07-24T10:00:42.544Z"
   },
   {
    "duration": 4,
    "start_time": "2021-07-24T10:01:12.905Z"
   },
   {
    "duration": 85,
    "start_time": "2021-07-24T10:01:16.656Z"
   },
   {
    "duration": 21,
    "start_time": "2021-07-24T10:01:16.744Z"
   },
   {
    "duration": 4,
    "start_time": "2021-07-24T10:01:16.769Z"
   },
   {
    "duration": 34,
    "start_time": "2021-07-24T10:01:16.776Z"
   },
   {
    "duration": 5,
    "start_time": "2021-07-24T10:01:16.813Z"
   },
   {
    "duration": 11,
    "start_time": "2021-07-24T10:01:16.820Z"
   },
   {
    "duration": 14,
    "start_time": "2021-07-24T10:01:16.833Z"
   },
   {
    "duration": 6,
    "start_time": "2021-07-24T10:01:16.850Z"
   },
   {
    "duration": 44,
    "start_time": "2021-07-24T10:01:16.859Z"
   },
   {
    "duration": 27,
    "start_time": "2021-07-24T10:01:16.905Z"
   },
   {
    "duration": 10,
    "start_time": "2021-07-24T10:01:16.935Z"
   },
   {
    "duration": 14,
    "start_time": "2021-07-24T10:01:16.947Z"
   },
   {
    "duration": 2174,
    "start_time": "2021-07-24T10:01:16.964Z"
   },
   {
    "duration": 6,
    "start_time": "2021-07-24T10:01:19.140Z"
   },
   {
    "duration": 23,
    "start_time": "2021-07-24T10:01:19.148Z"
   },
   {
    "duration": 58,
    "start_time": "2021-07-24T10:01:19.174Z"
   },
   {
    "duration": 98,
    "start_time": "2021-07-24T10:01:19.245Z"
   },
   {
    "duration": 7,
    "start_time": "2021-07-24T10:01:19.345Z"
   },
   {
    "duration": 52,
    "start_time": "2021-07-24T10:01:19.355Z"
   },
   {
    "duration": 8,
    "start_time": "2021-07-24T10:01:19.410Z"
   },
   {
    "duration": 24,
    "start_time": "2021-07-24T10:01:19.420Z"
   },
   {
    "duration": 20,
    "start_time": "2021-07-24T10:01:19.450Z"
   },
   {
    "duration": 14,
    "start_time": "2021-07-24T10:01:19.473Z"
   },
   {
    "duration": 3,
    "start_time": "2021-07-24T10:01:19.501Z"
   },
   {
    "duration": 767,
    "start_time": "2021-07-24T10:01:19.506Z"
   },
   {
    "duration": 28,
    "start_time": "2021-07-24T10:01:20.275Z"
   },
   {
    "duration": 12,
    "start_time": "2021-07-24T10:01:20.305Z"
   },
   {
    "duration": 17,
    "start_time": "2021-07-24T10:01:20.320Z"
   },
   {
    "duration": 5,
    "start_time": "2021-07-24T10:01:20.340Z"
   },
   {
    "duration": 890,
    "start_time": "2021-07-24T10:01:20.348Z"
   },
   {
    "duration": 5,
    "start_time": "2021-07-24T10:01:21.240Z"
   },
   {
    "duration": 15,
    "start_time": "2021-07-24T10:01:21.247Z"
   },
   {
    "duration": 10,
    "start_time": "2021-07-24T10:01:21.265Z"
   },
   {
    "duration": 24,
    "start_time": "2021-07-24T10:01:21.277Z"
   },
   {
    "duration": 2964,
    "start_time": "2021-07-24T10:01:21.304Z"
   },
   {
    "duration": 11,
    "start_time": "2021-07-24T10:01:24.270Z"
   },
   {
    "duration": 227,
    "start_time": "2021-07-24T10:01:24.301Z"
   },
   {
    "duration": 6,
    "start_time": "2021-07-24T10:01:24.531Z"
   },
   {
    "duration": 18,
    "start_time": "2021-07-24T10:01:24.539Z"
   },
   {
    "duration": 59,
    "start_time": "2021-07-24T10:01:24.560Z"
   },
   {
    "duration": 16,
    "start_time": "2021-07-24T10:01:24.622Z"
   },
   {
    "duration": 3361,
    "start_time": "2021-07-24T10:01:24.640Z"
   },
   {
    "duration": 10,
    "start_time": "2021-07-24T10:01:28.003Z"
   },
   {
    "duration": 250,
    "start_time": "2021-07-24T10:01:28.016Z"
   },
   {
    "duration": 3132,
    "start_time": "2021-07-24T10:01:28.269Z"
   },
   {
    "duration": 11,
    "start_time": "2021-07-24T10:01:31.403Z"
   },
   {
    "duration": 254,
    "start_time": "2021-07-24T10:01:31.416Z"
   },
   {
    "duration": 6,
    "start_time": "2021-07-24T10:01:31.672Z"
   },
   {
    "duration": 39,
    "start_time": "2021-07-24T10:01:31.680Z"
   },
   {
    "duration": 38,
    "start_time": "2021-07-24T10:01:31.721Z"
   },
   {
    "duration": 8,
    "start_time": "2021-07-24T10:01:31.761Z"
   },
   {
    "duration": 31,
    "start_time": "2021-07-24T10:01:31.772Z"
   },
   {
    "duration": 3134,
    "start_time": "2021-07-24T10:01:31.806Z"
   },
   {
    "duration": 13,
    "start_time": "2021-07-24T10:01:34.943Z"
   },
   {
    "duration": 235,
    "start_time": "2021-07-24T10:01:34.959Z"
   },
   {
    "duration": 406,
    "start_time": "2021-07-24T10:01:35.200Z"
   },
   {
    "duration": 9,
    "start_time": "2021-07-24T10:01:35.609Z"
   },
   {
    "duration": 223,
    "start_time": "2021-07-24T10:01:35.620Z"
   },
   {
    "duration": 32,
    "start_time": "2021-07-24T10:01:35.845Z"
   },
   {
    "duration": 24,
    "start_time": "2021-07-24T10:01:35.879Z"
   },
   {
    "duration": 15,
    "start_time": "2021-07-24T10:01:35.905Z"
   },
   {
    "duration": 427,
    "start_time": "2021-07-24T10:01:35.929Z"
   },
   {
    "duration": 10,
    "start_time": "2021-07-24T10:01:36.359Z"
   },
   {
    "duration": 232,
    "start_time": "2021-07-24T10:01:36.372Z"
   },
   {
    "duration": 1160,
    "start_time": "2021-07-24T10:01:36.607Z"
   },
   {
    "duration": 10,
    "start_time": "2021-07-24T10:01:37.770Z"
   },
   {
    "duration": 234,
    "start_time": "2021-07-24T10:01:37.783Z"
   },
   {
    "duration": 28,
    "start_time": "2021-07-24T10:01:38.020Z"
   },
   {
    "duration": 8,
    "start_time": "2021-07-24T10:01:38.050Z"
   },
   {
    "duration": 19,
    "start_time": "2021-07-24T10:01:38.061Z"
   },
   {
    "duration": 15,
    "start_time": "2021-07-24T10:01:38.101Z"
   },
   {
    "duration": 54,
    "start_time": "2021-07-24T10:01:38.118Z"
   },
   {
    "duration": 8,
    "start_time": "2021-07-24T10:01:38.174Z"
   },
   {
    "duration": 29,
    "start_time": "2021-07-24T10:01:38.184Z"
   },
   {
    "duration": 14,
    "start_time": "2021-07-24T10:01:38.216Z"
   },
   {
    "duration": 1265,
    "start_time": "2021-07-24T10:01:38.233Z"
   },
   {
    "duration": 221,
    "start_time": "2021-07-24T10:01:39.501Z"
   },
   {
    "duration": 32,
    "start_time": "2021-07-24T10:01:39.725Z"
   },
   {
    "duration": 790,
    "start_time": "2021-07-24T10:01:39.760Z"
   },
   {
    "duration": 11,
    "start_time": "2021-07-24T10:01:40.553Z"
   },
   {
    "duration": 1942,
    "start_time": "2021-07-24T10:01:40.566Z"
   },
   {
    "duration": 10,
    "start_time": "2021-07-24T10:01:42.511Z"
   },
   {
    "duration": 247,
    "start_time": "2021-07-24T10:01:42.523Z"
   },
   {
    "duration": 6,
    "start_time": "2021-07-24T10:01:42.772Z"
   },
   {
    "duration": 26,
    "start_time": "2021-07-24T10:01:42.780Z"
   },
   {
    "duration": 35,
    "start_time": "2021-07-24T10:01:42.808Z"
   },
   {
    "duration": 7,
    "start_time": "2021-07-24T10:01:42.846Z"
   },
   {
    "duration": 17,
    "start_time": "2021-07-24T10:01:42.856Z"
   },
   {
    "duration": 2021,
    "start_time": "2021-07-24T10:01:42.876Z"
   },
   {
    "duration": 221,
    "start_time": "2021-07-24T10:01:44.901Z"
   },
   {
    "duration": 11,
    "start_time": "2021-07-24T10:01:45.125Z"
   },
   {
    "duration": 20,
    "start_time": "2021-07-24T10:01:45.139Z"
   },
   {
    "duration": 80,
    "start_time": "2021-07-24T10:01:45.161Z"
   },
   {
    "duration": 385,
    "start_time": "2021-07-24T10:01:45.243Z"
   },
   {
    "duration": 54,
    "start_time": "2021-07-24T10:01:45.631Z"
   },
   {
    "duration": 382,
    "start_time": "2021-07-24T10:01:45.687Z"
   },
   {
    "duration": 51,
    "start_time": "2021-07-24T10:01:46.071Z"
   },
   {
    "duration": 32,
    "start_time": "2021-07-24T10:01:46.125Z"
   },
   {
    "duration": 64,
    "start_time": "2021-07-24T10:01:46.160Z"
   },
   {
    "duration": 94,
    "start_time": "2021-07-24T10:01:46.228Z"
   },
   {
    "duration": 15,
    "start_time": "2021-07-24T10:01:46.325Z"
   },
   {
    "duration": 94,
    "start_time": "2021-07-24T10:01:46.344Z"
   },
   {
    "duration": 564,
    "start_time": "2021-07-24T10:01:46.441Z"
   },
   {
    "duration": 9,
    "start_time": "2021-07-24T10:01:47.007Z"
   },
   {
    "duration": 55,
    "start_time": "2021-07-24T10:01:47.019Z"
   },
   {
    "duration": 70,
    "start_time": "2021-07-24T10:01:47.076Z"
   },
   {
    "duration": 78,
    "start_time": "2021-07-24T10:01:47.149Z"
   },
   {
    "duration": 78,
    "start_time": "2021-07-24T10:01:47.229Z"
   },
   {
    "duration": 45,
    "start_time": "2021-07-24T10:01:47.310Z"
   },
   {
    "duration": 379,
    "start_time": "2021-07-24T10:01:47.358Z"
   },
   {
    "duration": 74,
    "start_time": "2021-07-24T10:01:47.740Z"
   },
   {
    "duration": 55,
    "start_time": "2021-07-24T10:01:47.817Z"
   },
   {
    "duration": 79,
    "start_time": "2021-07-24T10:01:47.874Z"
   },
   {
    "duration": 79,
    "start_time": "2021-07-24T10:01:47.956Z"
   },
   {
    "duration": 72,
    "start_time": "2021-07-24T10:01:48.038Z"
   },
   {
    "duration": 54,
    "start_time": "2021-07-24T10:01:48.113Z"
   },
   {
    "duration": 49,
    "start_time": "2021-07-24T10:04:00.326Z"
   },
   {
    "duration": 54,
    "start_time": "2021-07-24T10:31:18.952Z"
   },
   {
    "duration": 56,
    "start_time": "2021-07-24T10:31:29.401Z"
   },
   {
    "duration": 52,
    "start_time": "2021-07-24T10:31:35.695Z"
   },
   {
    "duration": 33,
    "start_time": "2021-07-24T10:31:45.352Z"
   },
   {
    "duration": 51,
    "start_time": "2021-07-24T10:31:48.934Z"
   },
   {
    "duration": 55,
    "start_time": "2021-07-24T10:31:58.552Z"
   },
   {
    "duration": 54,
    "start_time": "2021-07-24T10:32:09.838Z"
   },
   {
    "duration": 565,
    "start_time": "2021-07-24T10:34:25.158Z"
   },
   {
    "duration": 97,
    "start_time": "2021-07-24T10:34:52.522Z"
   },
   {
    "duration": 119,
    "start_time": "2021-07-24T10:35:30.891Z"
   },
   {
    "duration": 111,
    "start_time": "2021-07-24T10:35:50.665Z"
   },
   {
    "duration": 72,
    "start_time": "2021-07-24T10:37:44.098Z"
   },
   {
    "duration": 33,
    "start_time": "2021-07-24T10:38:01.764Z"
   },
   {
    "duration": 33,
    "start_time": "2021-07-24T10:41:40.644Z"
   },
   {
    "duration": 34,
    "start_time": "2021-07-24T10:42:22.197Z"
   },
   {
    "duration": 53,
    "start_time": "2021-07-24T10:42:48.909Z"
   },
   {
    "duration": 34,
    "start_time": "2021-07-24T10:43:20.526Z"
   },
   {
    "duration": 115,
    "start_time": "2021-07-24T10:44:48.900Z"
   },
   {
    "duration": 116,
    "start_time": "2021-07-24T10:44:57.413Z"
   },
   {
    "duration": 118,
    "start_time": "2021-07-24T10:45:50.271Z"
   },
   {
    "duration": 381,
    "start_time": "2021-07-24T10:46:23.057Z"
   },
   {
    "duration": 389,
    "start_time": "2021-07-24T10:46:45.476Z"
   },
   {
    "duration": 53,
    "start_time": "2021-07-24T10:47:24.268Z"
   },
   {
    "duration": 40,
    "start_time": "2021-07-24T10:49:02.595Z"
   },
   {
    "duration": 39,
    "start_time": "2021-07-24T10:49:22.826Z"
   },
   {
    "duration": 39,
    "start_time": "2021-07-24T10:49:30.734Z"
   },
   {
    "duration": 384,
    "start_time": "2021-07-24T10:53:38.989Z"
   },
   {
    "duration": 399,
    "start_time": "2021-07-24T10:54:07.529Z"
   },
   {
    "duration": 352,
    "start_time": "2021-07-24T10:55:08.767Z"
   },
   {
    "duration": 717,
    "start_time": "2021-07-24T11:00:03.462Z"
   },
   {
    "duration": 1078,
    "start_time": "2021-07-24T11:00:14.855Z"
   },
   {
    "duration": 471,
    "start_time": "2021-07-24T11:01:30.535Z"
   },
   {
    "duration": 120,
    "start_time": "2021-07-24T11:05:15.708Z"
   },
   {
    "duration": 369,
    "start_time": "2021-07-24T11:05:31.708Z"
   },
   {
    "duration": 1975,
    "start_time": "2021-07-24T11:07:00.975Z"
   },
   {
    "duration": 436,
    "start_time": "2021-07-24T11:07:51.108Z"
   },
   {
    "duration": 1542,
    "start_time": "2021-07-24T11:08:00.400Z"
   },
   {
    "duration": 1471,
    "start_time": "2021-07-24T11:08:59.278Z"
   },
   {
    "duration": 1623,
    "start_time": "2021-07-24T11:09:46.640Z"
   },
   {
    "duration": 1299,
    "start_time": "2021-07-24T11:10:10.846Z"
   },
   {
    "duration": 1011,
    "start_time": "2021-07-24T11:10:27.433Z"
   },
   {
    "duration": 424,
    "start_time": "2021-07-24T11:12:35.631Z"
   },
   {
    "duration": 55,
    "start_time": "2021-07-24T11:13:16.555Z"
   },
   {
    "duration": 49,
    "start_time": "2021-07-24T11:13:41.683Z"
   },
   {
    "duration": 47,
    "start_time": "2021-07-24T11:14:05.716Z"
   },
   {
    "duration": 995,
    "start_time": "2021-07-24T11:14:36.278Z"
   },
   {
    "duration": 971,
    "start_time": "2021-07-24T11:15:51.532Z"
   },
   {
    "duration": 1104,
    "start_time": "2021-07-24T11:16:17.797Z"
   },
   {
    "duration": 201,
    "start_time": "2021-07-24T11:20:15.650Z"
   },
   {
    "duration": 1018,
    "start_time": "2021-07-24T11:20:24.082Z"
   },
   {
    "duration": 1135,
    "start_time": "2021-07-24T11:20:40.736Z"
   },
   {
    "duration": 1021,
    "start_time": "2021-07-24T11:20:53.163Z"
   },
   {
    "duration": 709,
    "start_time": "2021-07-24T19:16:48.204Z"
   },
   {
    "duration": 15,
    "start_time": "2021-07-24T19:16:48.915Z"
   },
   {
    "duration": 5,
    "start_time": "2021-07-24T19:16:48.932Z"
   },
   {
    "duration": 7,
    "start_time": "2021-07-24T19:16:48.939Z"
   },
   {
    "duration": 7,
    "start_time": "2021-07-24T19:16:48.947Z"
   },
   {
    "duration": 5,
    "start_time": "2021-07-24T19:16:48.955Z"
   },
   {
    "duration": 10,
    "start_time": "2021-07-24T19:16:48.991Z"
   },
   {
    "duration": 4,
    "start_time": "2021-07-24T19:16:49.003Z"
   },
   {
    "duration": 5,
    "start_time": "2021-07-24T19:16:49.008Z"
   },
   {
    "duration": 15,
    "start_time": "2021-07-24T19:16:49.014Z"
   },
   {
    "duration": 6,
    "start_time": "2021-07-24T19:16:49.030Z"
   },
   {
    "duration": 7,
    "start_time": "2021-07-24T19:16:49.037Z"
   },
   {
    "duration": 1301,
    "start_time": "2021-07-24T19:16:49.045Z"
   },
   {
    "duration": 4,
    "start_time": "2021-07-24T19:16:50.347Z"
   },
   {
    "duration": 5,
    "start_time": "2021-07-24T19:16:50.352Z"
   },
   {
    "duration": 55,
    "start_time": "2021-07-24T19:16:50.358Z"
   },
   {
    "duration": 43,
    "start_time": "2021-07-24T19:16:50.414Z"
   },
   {
    "duration": 6,
    "start_time": "2021-07-24T19:16:50.491Z"
   },
   {
    "duration": 16,
    "start_time": "2021-07-24T19:16:50.499Z"
   },
   {
    "duration": 7,
    "start_time": "2021-07-24T19:16:50.517Z"
   },
   {
    "duration": 7,
    "start_time": "2021-07-24T19:16:50.525Z"
   },
   {
    "duration": 11,
    "start_time": "2021-07-24T19:16:50.534Z"
   },
   {
    "duration": 5,
    "start_time": "2021-07-24T19:16:50.549Z"
   },
   {
    "duration": 2,
    "start_time": "2021-07-24T19:16:50.557Z"
   },
   {
    "duration": 440,
    "start_time": "2021-07-24T19:16:50.561Z"
   },
   {
    "duration": 11,
    "start_time": "2021-07-24T19:16:51.003Z"
   },
   {
    "duration": 9,
    "start_time": "2021-07-24T19:16:51.016Z"
   },
   {
    "duration": 20,
    "start_time": "2021-07-24T19:16:51.027Z"
   },
   {
    "duration": 2,
    "start_time": "2021-07-24T19:16:51.049Z"
   },
   {
    "duration": 773,
    "start_time": "2021-07-24T19:16:51.053Z"
   },
   {
    "duration": 3,
    "start_time": "2021-07-24T19:16:51.827Z"
   },
   {
    "duration": 6,
    "start_time": "2021-07-24T19:16:51.832Z"
   },
   {
    "duration": 4,
    "start_time": "2021-07-24T19:16:51.840Z"
   },
   {
    "duration": 7,
    "start_time": "2021-07-24T19:16:51.845Z"
   },
   {
    "duration": 1904,
    "start_time": "2021-07-24T19:16:51.853Z"
   },
   {
    "duration": 6,
    "start_time": "2021-07-24T19:16:53.759Z"
   },
   {
    "duration": 131,
    "start_time": "2021-07-24T19:16:53.767Z"
   },
   {
    "duration": 3,
    "start_time": "2021-07-24T19:16:53.899Z"
   },
   {
    "duration": 12,
    "start_time": "2021-07-24T19:16:53.904Z"
   },
   {
    "duration": 23,
    "start_time": "2021-07-24T19:16:53.917Z"
   },
   {
    "duration": 11,
    "start_time": "2021-07-24T19:16:53.942Z"
   },
   {
    "duration": 1841,
    "start_time": "2021-07-24T19:16:53.954Z"
   },
   {
    "duration": 9,
    "start_time": "2021-07-24T19:16:55.797Z"
   },
   {
    "duration": 153,
    "start_time": "2021-07-24T19:16:55.808Z"
   },
   {
    "duration": 1760,
    "start_time": "2021-07-24T19:16:55.962Z"
   },
   {
    "duration": 7,
    "start_time": "2021-07-24T19:16:57.724Z"
   },
   {
    "duration": 141,
    "start_time": "2021-07-24T19:16:57.733Z"
   },
   {
    "duration": 4,
    "start_time": "2021-07-24T19:16:57.875Z"
   },
   {
    "duration": 28,
    "start_time": "2021-07-24T19:16:57.881Z"
   },
   {
    "duration": 30,
    "start_time": "2021-07-24T19:16:57.910Z"
   },
   {
    "duration": 5,
    "start_time": "2021-07-24T19:16:57.941Z"
   },
   {
    "duration": 16,
    "start_time": "2021-07-24T19:16:57.947Z"
   },
   {
    "duration": 1689,
    "start_time": "2021-07-24T19:16:57.964Z"
   },
   {
    "duration": 7,
    "start_time": "2021-07-24T19:16:59.654Z"
   },
   {
    "duration": 131,
    "start_time": "2021-07-24T19:16:59.663Z"
   },
   {
    "duration": 225,
    "start_time": "2021-07-24T19:16:59.796Z"
   },
   {
    "duration": 7,
    "start_time": "2021-07-24T19:17:00.022Z"
   },
   {
    "duration": 127,
    "start_time": "2021-07-24T19:17:00.030Z"
   },
   {
    "duration": 21,
    "start_time": "2021-07-24T19:17:00.158Z"
   },
   {
    "duration": 14,
    "start_time": "2021-07-24T19:17:00.181Z"
   },
   {
    "duration": 17,
    "start_time": "2021-07-24T19:17:00.197Z"
   },
   {
    "duration": 229,
    "start_time": "2021-07-24T19:17:00.215Z"
   },
   {
    "duration": 6,
    "start_time": "2021-07-24T19:17:00.446Z"
   },
   {
    "duration": 125,
    "start_time": "2021-07-24T19:17:00.454Z"
   },
   {
    "duration": 687,
    "start_time": "2021-07-24T19:17:00.580Z"
   },
   {
    "duration": 7,
    "start_time": "2021-07-24T19:17:01.268Z"
   },
   {
    "duration": 134,
    "start_time": "2021-07-24T19:17:01.276Z"
   },
   {
    "duration": 17,
    "start_time": "2021-07-24T19:17:01.416Z"
   },
   {
    "duration": 7,
    "start_time": "2021-07-24T19:17:01.435Z"
   },
   {
    "duration": 6,
    "start_time": "2021-07-24T19:17:01.444Z"
   },
   {
    "duration": 16,
    "start_time": "2021-07-24T19:17:01.452Z"
   },
   {
    "duration": 35,
    "start_time": "2021-07-24T19:17:01.470Z"
   },
   {
    "duration": 5,
    "start_time": "2021-07-24T19:17:01.507Z"
   },
   {
    "duration": 17,
    "start_time": "2021-07-24T19:17:01.514Z"
   },
   {
    "duration": 8,
    "start_time": "2021-07-24T19:17:01.533Z"
   },
   {
    "duration": 569,
    "start_time": "2021-07-24T19:17:01.542Z"
   },
   {
    "duration": 137,
    "start_time": "2021-07-24T19:17:02.113Z"
   },
   {
    "duration": 22,
    "start_time": "2021-07-24T19:17:02.252Z"
   },
   {
    "duration": 429,
    "start_time": "2021-07-24T19:17:02.276Z"
   },
   {
    "duration": 9,
    "start_time": "2021-07-24T19:17:02.707Z"
   },
   {
    "duration": 960,
    "start_time": "2021-07-24T19:17:02.718Z"
   },
   {
    "duration": 11,
    "start_time": "2021-07-24T19:17:03.680Z"
   },
   {
    "duration": 131,
    "start_time": "2021-07-24T19:17:03.693Z"
   },
   {
    "duration": 4,
    "start_time": "2021-07-24T19:17:03.827Z"
   },
   {
    "duration": 18,
    "start_time": "2021-07-24T19:17:03.833Z"
   },
   {
    "duration": 45,
    "start_time": "2021-07-24T19:17:03.853Z"
   },
   {
    "duration": 5,
    "start_time": "2021-07-24T19:17:03.899Z"
   },
   {
    "duration": 12,
    "start_time": "2021-07-24T19:17:03.906Z"
   },
   {
    "duration": 932,
    "start_time": "2021-07-24T19:17:03.920Z"
   },
   {
    "duration": 130,
    "start_time": "2021-07-24T19:17:04.854Z"
   },
   {
    "duration": 11,
    "start_time": "2021-07-24T19:17:04.985Z"
   },
   {
    "duration": 11,
    "start_time": "2021-07-24T19:17:04.998Z"
   },
   {
    "duration": 26,
    "start_time": "2021-07-24T19:17:05.010Z"
   },
   {
    "duration": 217,
    "start_time": "2021-07-24T19:17:05.037Z"
   },
   {
    "duration": 40,
    "start_time": "2021-07-24T19:17:05.256Z"
   },
   {
    "duration": 205,
    "start_time": "2021-07-24T19:17:05.298Z"
   },
   {
    "duration": 23,
    "start_time": "2021-07-24T19:17:05.505Z"
   },
   {
    "duration": 20,
    "start_time": "2021-07-24T19:17:05.529Z"
   },
   {
    "duration": 42,
    "start_time": "2021-07-24T19:17:05.551Z"
   },
   {
    "duration": 32,
    "start_time": "2021-07-24T19:17:05.595Z"
   },
   {
    "duration": 7,
    "start_time": "2021-07-24T19:17:05.628Z"
   },
   {
    "duration": 31,
    "start_time": "2021-07-24T19:17:05.637Z"
   },
   {
    "duration": 326,
    "start_time": "2021-07-24T19:17:05.670Z"
   },
   {
    "duration": 7,
    "start_time": "2021-07-24T19:17:05.998Z"
   },
   {
    "duration": 36,
    "start_time": "2021-07-24T19:17:06.006Z"
   },
   {
    "duration": 28,
    "start_time": "2021-07-24T19:17:06.044Z"
   },
   {
    "duration": 29,
    "start_time": "2021-07-24T19:17:06.091Z"
   },
   {
    "duration": 39,
    "start_time": "2021-07-24T19:17:06.121Z"
   },
   {
    "duration": 33,
    "start_time": "2021-07-24T19:17:06.162Z"
   },
   {
    "duration": 201,
    "start_time": "2021-07-24T19:17:06.197Z"
   },
   {
    "duration": 30,
    "start_time": "2021-07-24T19:17:06.399Z"
   },
   {
    "duration": 29,
    "start_time": "2021-07-24T19:17:06.430Z"
   },
   {
    "duration": 53,
    "start_time": "2021-07-24T19:17:06.460Z"
   },
   {
    "duration": 29,
    "start_time": "2021-07-24T19:17:06.515Z"
   },
   {
    "duration": 45,
    "start_time": "2021-07-24T19:17:06.546Z"
   },
   {
    "duration": 29,
    "start_time": "2021-07-24T19:17:06.593Z"
   },
   {
    "duration": 587,
    "start_time": "2021-07-24T19:17:06.624Z"
   },
   {
    "duration": 22,
    "start_time": "2021-07-24T19:17:13.740Z"
   },
   {
    "duration": 24,
    "start_time": "2021-07-24T19:17:21.674Z"
   },
   {
    "duration": 95,
    "start_time": "2021-07-24T19:17:30.557Z"
   },
   {
    "duration": 20,
    "start_time": "2021-07-24T19:17:33.019Z"
   },
   {
    "duration": 20,
    "start_time": "2021-07-24T19:17:48.738Z"
   },
   {
    "duration": 21,
    "start_time": "2021-07-24T19:18:00.573Z"
   },
   {
    "duration": 20,
    "start_time": "2021-07-24T19:18:09.818Z"
   },
   {
    "duration": 18,
    "start_time": "2021-07-24T19:18:49.010Z"
   },
   {
    "duration": 983,
    "start_time": "2021-07-31T15:40:55.783Z"
   },
   {
    "duration": 23,
    "start_time": "2021-07-31T15:40:56.769Z"
   },
   {
    "duration": 6,
    "start_time": "2021-07-31T15:40:56.795Z"
   },
   {
    "duration": 25,
    "start_time": "2021-07-31T15:40:56.804Z"
   },
   {
    "duration": 31,
    "start_time": "2021-07-31T15:40:56.832Z"
   },
   {
    "duration": 31,
    "start_time": "2021-07-31T15:40:56.865Z"
   },
   {
    "duration": 23,
    "start_time": "2021-07-31T15:40:56.899Z"
   },
   {
    "duration": 8,
    "start_time": "2021-07-31T15:40:56.927Z"
   },
   {
    "duration": 13,
    "start_time": "2021-07-31T15:40:56.939Z"
   },
   {
    "duration": 27,
    "start_time": "2021-07-31T15:40:56.954Z"
   },
   {
    "duration": 14,
    "start_time": "2021-07-31T15:40:56.984Z"
   },
   {
    "duration": 17,
    "start_time": "2021-07-31T15:40:57.001Z"
   },
   {
    "duration": 2287,
    "start_time": "2021-07-31T15:40:57.021Z"
   },
   {
    "duration": 5,
    "start_time": "2021-07-31T15:40:59.311Z"
   },
   {
    "duration": 12,
    "start_time": "2021-07-31T15:40:59.318Z"
   },
   {
    "duration": 77,
    "start_time": "2021-07-31T15:40:59.332Z"
   },
   {
    "duration": 89,
    "start_time": "2021-07-31T15:40:59.411Z"
   },
   {
    "duration": 7,
    "start_time": "2021-07-31T15:40:59.502Z"
   },
   {
    "duration": 51,
    "start_time": "2021-07-31T15:40:59.511Z"
   },
   {
    "duration": 8,
    "start_time": "2021-07-31T15:40:59.564Z"
   },
   {
    "duration": 14,
    "start_time": "2021-07-31T15:40:59.574Z"
   },
   {
    "duration": 14,
    "start_time": "2021-07-31T15:40:59.591Z"
   },
   {
    "duration": 9,
    "start_time": "2021-07-31T15:40:59.611Z"
   },
   {
    "duration": 38,
    "start_time": "2021-07-31T15:40:59.624Z"
   },
   {
    "duration": 740,
    "start_time": "2021-07-31T15:40:59.664Z"
   },
   {
    "duration": 16,
    "start_time": "2021-07-31T15:41:00.406Z"
   },
   {
    "duration": 31,
    "start_time": "2021-07-31T15:41:00.424Z"
   },
   {
    "duration": 27,
    "start_time": "2021-07-31T15:41:00.458Z"
   },
   {
    "duration": 33,
    "start_time": "2021-07-31T15:41:00.487Z"
   },
   {
    "duration": 965,
    "start_time": "2021-07-31T15:41:00.523Z"
   },
   {
    "duration": 4,
    "start_time": "2021-07-31T15:41:01.490Z"
   },
   {
    "duration": 28,
    "start_time": "2021-07-31T15:41:01.496Z"
   },
   {
    "duration": 20,
    "start_time": "2021-07-31T15:41:01.526Z"
   },
   {
    "duration": 19,
    "start_time": "2021-07-31T15:41:01.548Z"
   },
   {
    "duration": 3057,
    "start_time": "2021-07-31T15:41:01.570Z"
   },
   {
    "duration": 10,
    "start_time": "2021-07-31T15:41:04.629Z"
   },
   {
    "duration": 248,
    "start_time": "2021-07-31T15:41:04.642Z"
   },
   {
    "duration": 5,
    "start_time": "2021-07-31T15:41:04.893Z"
   },
   {
    "duration": 19,
    "start_time": "2021-07-31T15:41:04.900Z"
   },
   {
    "duration": 54,
    "start_time": "2021-07-31T15:41:04.922Z"
   },
   {
    "duration": 17,
    "start_time": "2021-07-31T15:41:04.978Z"
   },
   {
    "duration": 3310,
    "start_time": "2021-07-31T15:41:04.997Z"
   },
   {
    "duration": 10,
    "start_time": "2021-07-31T15:41:08.309Z"
   },
   {
    "duration": 260,
    "start_time": "2021-07-31T15:41:08.321Z"
   },
   {
    "duration": 3138,
    "start_time": "2021-07-31T15:41:08.583Z"
   },
   {
    "duration": 12,
    "start_time": "2021-07-31T15:41:11.724Z"
   },
   {
    "duration": 262,
    "start_time": "2021-07-31T15:41:11.738Z"
   },
   {
    "duration": 6,
    "start_time": "2021-07-31T15:41:12.002Z"
   },
   {
    "duration": 51,
    "start_time": "2021-07-31T15:41:12.011Z"
   },
   {
    "duration": 49,
    "start_time": "2021-07-31T15:41:12.065Z"
   },
   {
    "duration": 9,
    "start_time": "2021-07-31T15:41:12.117Z"
   },
   {
    "duration": 37,
    "start_time": "2021-07-31T15:41:12.129Z"
   },
   {
    "duration": 5281,
    "start_time": "2021-07-31T15:41:12.169Z"
   },
   {
    "duration": 14,
    "start_time": "2021-07-31T15:41:17.461Z"
   },
   {
    "duration": 239,
    "start_time": "2021-07-31T15:41:17.478Z"
   },
   {
    "duration": 429,
    "start_time": "2021-07-31T15:41:17.719Z"
   },
   {
    "duration": 18,
    "start_time": "2021-07-31T15:41:18.151Z"
   },
   {
    "duration": 241,
    "start_time": "2021-07-31T15:41:18.172Z"
   },
   {
    "duration": 34,
    "start_time": "2021-07-31T15:41:18.415Z"
   },
   {
    "duration": 9,
    "start_time": "2021-07-31T15:41:18.462Z"
   },
   {
    "duration": 19,
    "start_time": "2021-07-31T15:41:18.473Z"
   },
   {
    "duration": 541,
    "start_time": "2021-07-31T15:41:18.494Z"
   },
   {
    "duration": 25,
    "start_time": "2021-07-31T15:41:19.037Z"
   },
   {
    "duration": 227,
    "start_time": "2021-07-31T15:41:19.064Z"
   },
   {
    "duration": 1206,
    "start_time": "2021-07-31T15:41:19.294Z"
   },
   {
    "duration": 10,
    "start_time": "2021-07-31T15:41:20.503Z"
   },
   {
    "duration": 226,
    "start_time": "2021-07-31T15:41:20.515Z"
   },
   {
    "duration": 37,
    "start_time": "2021-07-31T15:41:20.750Z"
   },
   {
    "duration": 9,
    "start_time": "2021-07-31T15:41:20.791Z"
   },
   {
    "duration": 18,
    "start_time": "2021-07-31T15:41:20.802Z"
   },
   {
    "duration": 42,
    "start_time": "2021-07-31T15:41:20.822Z"
   },
   {
    "duration": 38,
    "start_time": "2021-07-31T15:41:20.866Z"
   },
   {
    "duration": 8,
    "start_time": "2021-07-31T15:41:20.907Z"
   },
   {
    "duration": 28,
    "start_time": "2021-07-31T15:41:20.918Z"
   },
   {
    "duration": 21,
    "start_time": "2021-07-31T15:41:20.948Z"
   },
   {
    "duration": 1061,
    "start_time": "2021-07-31T15:41:20.971Z"
   },
   {
    "duration": 235,
    "start_time": "2021-07-31T15:41:22.034Z"
   },
   {
    "duration": 34,
    "start_time": "2021-07-31T15:41:22.271Z"
   },
   {
    "duration": 822,
    "start_time": "2021-07-31T15:41:22.307Z"
   },
   {
    "duration": 10,
    "start_time": "2021-07-31T15:41:23.131Z"
   },
   {
    "duration": 1738,
    "start_time": "2021-07-31T15:41:23.143Z"
   },
   {
    "duration": 11,
    "start_time": "2021-07-31T15:41:24.883Z"
   },
   {
    "duration": 257,
    "start_time": "2021-07-31T15:41:24.897Z"
   },
   {
    "duration": 8,
    "start_time": "2021-07-31T15:41:25.161Z"
   },
   {
    "duration": 34,
    "start_time": "2021-07-31T15:41:25.172Z"
   },
   {
    "duration": 71,
    "start_time": "2021-07-31T15:41:25.209Z"
   },
   {
    "duration": 10,
    "start_time": "2021-07-31T15:41:25.284Z"
   },
   {
    "duration": 28,
    "start_time": "2021-07-31T15:41:25.297Z"
   },
   {
    "duration": 2815,
    "start_time": "2021-07-31T15:41:25.328Z"
   },
   {
    "duration": 325,
    "start_time": "2021-07-31T15:41:28.146Z"
   },
   {
    "duration": 13,
    "start_time": "2021-07-31T15:41:28.474Z"
   },
   {
    "duration": 28,
    "start_time": "2021-07-31T15:41:28.490Z"
   },
   {
    "duration": 94,
    "start_time": "2021-07-31T15:41:28.521Z"
   },
   {
    "duration": 558,
    "start_time": "2021-07-31T15:41:28.618Z"
   },
   {
    "duration": 90,
    "start_time": "2021-07-31T15:41:29.179Z"
   },
   {
    "duration": 565,
    "start_time": "2021-07-31T15:41:29.272Z"
   },
   {
    "duration": 73,
    "start_time": "2021-07-31T15:41:29.840Z"
   },
   {
    "duration": 67,
    "start_time": "2021-07-31T15:41:29.916Z"
   },
   {
    "duration": 77,
    "start_time": "2021-07-31T15:41:29.986Z"
   },
   {
    "duration": 101,
    "start_time": "2021-07-31T15:41:30.066Z"
   },
   {
    "duration": 12,
    "start_time": "2021-07-31T15:41:30.171Z"
   },
   {
    "duration": 96,
    "start_time": "2021-07-31T15:41:30.186Z"
   },
   {
    "duration": 801,
    "start_time": "2021-07-31T15:41:30.285Z"
   },
   {
    "duration": 12,
    "start_time": "2021-07-31T15:41:31.090Z"
   },
   {
    "duration": 80,
    "start_time": "2021-07-31T15:41:31.105Z"
   },
   {
    "duration": 75,
    "start_time": "2021-07-31T15:41:31.188Z"
   },
   {
    "duration": 56,
    "start_time": "2021-07-31T15:41:31.265Z"
   },
   {
    "duration": 86,
    "start_time": "2021-07-31T15:41:31.323Z"
   },
   {
    "duration": 63,
    "start_time": "2021-07-31T15:41:31.412Z"
   },
   {
    "duration": 384,
    "start_time": "2021-07-31T15:41:31.478Z"
   },
   {
    "duration": 55,
    "start_time": "2021-07-31T15:41:31.864Z"
   },
   {
    "duration": 82,
    "start_time": "2021-07-31T15:41:31.921Z"
   },
   {
    "duration": 77,
    "start_time": "2021-07-31T15:41:32.006Z"
   },
   {
    "duration": 77,
    "start_time": "2021-07-31T15:41:32.085Z"
   },
   {
    "duration": 57,
    "start_time": "2021-07-31T15:41:32.164Z"
   },
   {
    "duration": 79,
    "start_time": "2021-07-31T15:41:32.224Z"
   },
   {
    "duration": 1057,
    "start_time": "2021-07-31T15:41:32.305Z"
   },
   {
    "duration": 32,
    "start_time": "2021-07-31T15:41:33.364Z"
   },
   {
    "duration": 30,
    "start_time": "2021-07-31T15:41:33.399Z"
   },
   {
    "duration": 980,
    "start_time": "2021-09-24T18:35:40.097Z"
   },
   {
    "duration": 20,
    "start_time": "2021-09-24T18:35:41.079Z"
   },
   {
    "duration": 11,
    "start_time": "2021-09-24T18:35:41.102Z"
   },
   {
    "duration": 13,
    "start_time": "2021-09-24T18:35:41.123Z"
   },
   {
    "duration": 15,
    "start_time": "2021-09-24T18:35:41.138Z"
   },
   {
    "duration": 14,
    "start_time": "2021-09-24T18:35:41.155Z"
   },
   {
    "duration": 22,
    "start_time": "2021-09-24T18:35:41.172Z"
   },
   {
    "duration": 12,
    "start_time": "2021-09-24T18:35:41.198Z"
   },
   {
    "duration": 24,
    "start_time": "2021-09-24T18:35:41.213Z"
   },
   {
    "duration": 31,
    "start_time": "2021-09-24T18:35:41.239Z"
   },
   {
    "duration": 13,
    "start_time": "2021-09-24T18:35:41.273Z"
   },
   {
    "duration": 6,
    "start_time": "2021-09-24T18:35:41.288Z"
   },
   {
    "duration": 2176,
    "start_time": "2021-09-24T18:35:41.296Z"
   },
   {
    "duration": 5,
    "start_time": "2021-09-24T18:35:43.474Z"
   },
   {
    "duration": 12,
    "start_time": "2021-09-24T18:35:43.482Z"
   },
   {
    "duration": 77,
    "start_time": "2021-09-24T18:35:43.496Z"
   },
   {
    "duration": 90,
    "start_time": "2021-09-24T18:35:43.576Z"
   },
   {
    "duration": 8,
    "start_time": "2021-09-24T18:35:43.676Z"
   },
   {
    "duration": 51,
    "start_time": "2021-09-24T18:35:43.686Z"
   },
   {
    "duration": 8,
    "start_time": "2021-09-24T18:35:43.740Z"
   },
   {
    "duration": 13,
    "start_time": "2021-09-24T18:35:43.751Z"
   },
   {
    "duration": 19,
    "start_time": "2021-09-24T18:35:43.766Z"
   },
   {
    "duration": 36,
    "start_time": "2021-09-24T18:35:43.792Z"
   },
   {
    "duration": 13,
    "start_time": "2021-09-24T18:35:43.832Z"
   },
   {
    "duration": 710,
    "start_time": "2021-09-24T18:35:43.847Z"
   },
   {
    "duration": 16,
    "start_time": "2021-09-24T18:35:44.560Z"
   },
   {
    "duration": 24,
    "start_time": "2021-09-24T18:35:44.578Z"
   },
   {
    "duration": 38,
    "start_time": "2021-09-24T18:35:44.605Z"
   },
   {
    "duration": 27,
    "start_time": "2021-09-24T18:35:44.646Z"
   },
   {
    "duration": 928,
    "start_time": "2021-09-24T18:35:44.675Z"
   },
   {
    "duration": 5,
    "start_time": "2021-09-24T18:35:45.606Z"
   },
   {
    "duration": 42,
    "start_time": "2021-09-24T18:35:45.622Z"
   },
   {
    "duration": 16,
    "start_time": "2021-09-24T18:35:45.667Z"
   },
   {
    "duration": 23,
    "start_time": "2021-09-24T18:35:45.685Z"
   },
   {
    "duration": 2813,
    "start_time": "2021-09-24T18:35:45.711Z"
   },
   {
    "duration": 10,
    "start_time": "2021-09-24T18:35:48.526Z"
   },
   {
    "duration": 226,
    "start_time": "2021-09-24T18:35:48.538Z"
   },
   {
    "duration": 5,
    "start_time": "2021-09-24T18:35:48.767Z"
   },
   {
    "duration": 39,
    "start_time": "2021-09-24T18:35:48.774Z"
   },
   {
    "duration": 44,
    "start_time": "2021-09-24T18:35:48.815Z"
   },
   {
    "duration": 15,
    "start_time": "2021-09-24T18:35:48.861Z"
   },
   {
    "duration": 2948,
    "start_time": "2021-09-24T18:35:48.879Z"
   },
   {
    "duration": 10,
    "start_time": "2021-09-24T18:35:51.830Z"
   },
   {
    "duration": 234,
    "start_time": "2021-09-24T18:35:51.843Z"
   },
   {
    "duration": 3127,
    "start_time": "2021-09-24T18:35:52.079Z"
   },
   {
    "duration": 21,
    "start_time": "2021-09-24T18:35:55.208Z"
   },
   {
    "duration": 212,
    "start_time": "2021-09-24T18:35:55.231Z"
   },
   {
    "duration": 6,
    "start_time": "2021-09-24T18:35:55.446Z"
   },
   {
    "duration": 52,
    "start_time": "2021-09-24T18:35:55.454Z"
   },
   {
    "duration": 38,
    "start_time": "2021-09-24T18:35:55.508Z"
   },
   {
    "duration": 8,
    "start_time": "2021-09-24T18:35:55.549Z"
   },
   {
    "duration": 24,
    "start_time": "2021-09-24T18:35:55.560Z"
   },
   {
    "duration": 3013,
    "start_time": "2021-09-24T18:35:55.586Z"
   },
   {
    "duration": 24,
    "start_time": "2021-09-24T18:35:58.601Z"
   },
   {
    "duration": 221,
    "start_time": "2021-09-24T18:35:58.628Z"
   },
   {
    "duration": 427,
    "start_time": "2021-09-24T18:35:58.851Z"
   },
   {
    "duration": 9,
    "start_time": "2021-09-24T18:35:59.281Z"
   },
   {
    "duration": 225,
    "start_time": "2021-09-24T18:35:59.293Z"
   },
   {
    "duration": 31,
    "start_time": "2021-09-24T18:35:59.523Z"
   },
   {
    "duration": 8,
    "start_time": "2021-09-24T18:35:59.556Z"
   },
   {
    "duration": 18,
    "start_time": "2021-09-24T18:35:59.567Z"
   },
   {
    "duration": 414,
    "start_time": "2021-09-24T18:35:59.588Z"
   },
   {
    "duration": 18,
    "start_time": "2021-09-24T18:36:00.004Z"
   },
   {
    "duration": 242,
    "start_time": "2021-09-24T18:36:00.024Z"
   },
   {
    "duration": 1208,
    "start_time": "2021-09-24T18:36:00.268Z"
   },
   {
    "duration": 10,
    "start_time": "2021-09-24T18:36:01.478Z"
   },
   {
    "duration": 235,
    "start_time": "2021-09-24T18:36:01.491Z"
   },
   {
    "duration": 31,
    "start_time": "2021-09-24T18:36:01.736Z"
   },
   {
    "duration": 9,
    "start_time": "2021-09-24T18:36:01.772Z"
   },
   {
    "duration": 55,
    "start_time": "2021-09-24T18:36:01.784Z"
   },
   {
    "duration": 53,
    "start_time": "2021-09-24T18:36:01.841Z"
   },
   {
    "duration": 47,
    "start_time": "2021-09-24T18:36:01.897Z"
   },
   {
    "duration": 7,
    "start_time": "2021-09-24T18:36:01.947Z"
   },
   {
    "duration": 33,
    "start_time": "2021-09-24T18:36:01.957Z"
   },
   {
    "duration": 21,
    "start_time": "2021-09-24T18:36:01.993Z"
   },
   {
    "duration": 1038,
    "start_time": "2021-09-24T18:36:02.016Z"
   },
   {
    "duration": 327,
    "start_time": "2021-09-24T18:36:03.057Z"
   },
   {
    "duration": 47,
    "start_time": "2021-09-24T18:36:03.387Z"
   },
   {
    "duration": 772,
    "start_time": "2021-09-24T18:36:03.436Z"
   },
   {
    "duration": 19,
    "start_time": "2021-09-24T18:36:04.210Z"
   },
   {
    "duration": 1760,
    "start_time": "2021-09-24T18:36:04.232Z"
   },
   {
    "duration": 32,
    "start_time": "2021-09-24T18:36:05.996Z"
   },
   {
    "duration": 245,
    "start_time": "2021-09-24T18:36:06.031Z"
   },
   {
    "duration": 6,
    "start_time": "2021-09-24T18:36:06.280Z"
   },
   {
    "duration": 44,
    "start_time": "2021-09-24T18:36:06.288Z"
   },
   {
    "duration": 36,
    "start_time": "2021-09-24T18:36:06.334Z"
   },
   {
    "duration": 7,
    "start_time": "2021-09-24T18:36:06.372Z"
   },
   {
    "duration": 41,
    "start_time": "2021-09-24T18:36:06.382Z"
   },
   {
    "duration": 1728,
    "start_time": "2021-09-24T18:36:06.425Z"
   },
   {
    "duration": 220,
    "start_time": "2021-09-24T18:36:08.156Z"
   },
   {
    "duration": 12,
    "start_time": "2021-09-24T18:36:08.379Z"
   },
   {
    "duration": 65,
    "start_time": "2021-09-24T18:36:08.394Z"
   },
   {
    "duration": 60,
    "start_time": "2021-09-24T18:36:08.462Z"
   },
   {
    "duration": 368,
    "start_time": "2021-09-24T18:36:08.525Z"
   },
   {
    "duration": 64,
    "start_time": "2021-09-24T18:36:08.897Z"
   },
   {
    "duration": 379,
    "start_time": "2021-09-24T18:36:08.965Z"
   },
   {
    "duration": 39,
    "start_time": "2021-09-24T18:36:09.347Z"
   },
   {
    "duration": 60,
    "start_time": "2021-09-24T18:36:09.388Z"
   },
   {
    "duration": 42,
    "start_time": "2021-09-24T18:36:09.450Z"
   },
   {
    "duration": 74,
    "start_time": "2021-09-24T18:36:09.495Z"
   },
   {
    "duration": 9,
    "start_time": "2021-09-24T18:36:09.571Z"
   },
   {
    "duration": 71,
    "start_time": "2021-09-24T18:36:09.583Z"
   },
   {
    "duration": 555,
    "start_time": "2021-09-24T18:36:09.656Z"
   },
   {
    "duration": 12,
    "start_time": "2021-09-24T18:36:10.213Z"
   },
   {
    "duration": 69,
    "start_time": "2021-09-24T18:36:10.227Z"
   },
   {
    "duration": 65,
    "start_time": "2021-09-24T18:36:10.298Z"
   },
   {
    "duration": 70,
    "start_time": "2021-09-24T18:36:10.365Z"
   },
   {
    "duration": 53,
    "start_time": "2021-09-24T18:36:10.438Z"
   },
   {
    "duration": 69,
    "start_time": "2021-09-24T18:36:10.493Z"
   },
   {
    "duration": 360,
    "start_time": "2021-09-24T18:36:10.565Z"
   },
   {
    "duration": 52,
    "start_time": "2021-09-24T18:36:10.928Z"
   },
   {
    "duration": 74,
    "start_time": "2021-09-24T18:36:10.982Z"
   },
   {
    "duration": 73,
    "start_time": "2021-09-24T18:36:11.058Z"
   },
   {
    "duration": 51,
    "start_time": "2021-09-24T18:36:11.133Z"
   },
   {
    "duration": 69,
    "start_time": "2021-09-24T18:36:11.187Z"
   },
   {
    "duration": 76,
    "start_time": "2021-09-24T18:36:11.259Z"
   },
   {
    "duration": 1205,
    "start_time": "2021-09-24T18:36:11.338Z"
   },
   {
    "duration": 28,
    "start_time": "2021-09-24T18:36:12.546Z"
   },
   {
    "duration": 51,
    "start_time": "2021-09-24T18:36:12.577Z"
   },
   {
    "duration": 729,
    "start_time": "2021-10-30T12:54:59.777Z"
   },
   {
    "duration": 20,
    "start_time": "2021-10-30T12:55:02.247Z"
   },
   {
    "duration": 8,
    "start_time": "2021-10-30T12:55:59.549Z"
   },
   {
    "duration": 10,
    "start_time": "2021-10-30T12:56:08.105Z"
   },
   {
    "duration": 64,
    "start_time": "2021-10-30T12:57:03.608Z"
   },
   {
    "duration": 9,
    "start_time": "2021-10-30T12:57:03.674Z"
   },
   {
    "duration": 7,
    "start_time": "2021-10-30T12:57:03.685Z"
   },
   {
    "duration": 4,
    "start_time": "2021-10-30T12:57:03.694Z"
   },
   {
    "duration": 13,
    "start_time": "2021-10-30T12:57:03.699Z"
   },
   {
    "duration": 9,
    "start_time": "2021-10-30T12:57:03.713Z"
   },
   {
    "duration": 25,
    "start_time": "2021-10-30T12:57:03.723Z"
   },
   {
    "duration": 9,
    "start_time": "2021-10-30T12:57:03.750Z"
   },
   {
    "duration": 4,
    "start_time": "2021-10-30T12:57:03.761Z"
   },
   {
    "duration": 19,
    "start_time": "2021-10-30T12:57:03.766Z"
   },
   {
    "duration": 23,
    "start_time": "2021-10-30T12:57:03.786Z"
   },
   {
    "duration": 10,
    "start_time": "2021-10-30T12:57:03.811Z"
   },
   {
    "duration": 4,
    "start_time": "2021-10-30T12:57:03.823Z"
   },
   {
    "duration": 1524,
    "start_time": "2021-10-30T12:57:03.828Z"
   },
   {
    "duration": 328,
    "start_time": "2021-10-30T12:57:05.354Z"
   },
   {
    "duration": -2621,
    "start_time": "2021-10-30T12:57:08.308Z"
   },
   {
    "duration": -2679,
    "start_time": "2021-10-30T12:57:08.366Z"
   },
   {
    "duration": -2695,
    "start_time": "2021-10-30T12:57:08.383Z"
   },
   {
    "duration": -2713,
    "start_time": "2021-10-30T12:57:08.402Z"
   },
   {
    "duration": -2728,
    "start_time": "2021-10-30T12:57:08.418Z"
   },
   {
    "duration": -2744,
    "start_time": "2021-10-30T12:57:08.436Z"
   },
   {
    "duration": -2762,
    "start_time": "2021-10-30T12:57:08.455Z"
   },
   {
    "duration": -2798,
    "start_time": "2021-10-30T12:57:08.492Z"
   },
   {
    "duration": -2813,
    "start_time": "2021-10-30T12:57:08.508Z"
   },
   {
    "duration": -2835,
    "start_time": "2021-10-30T12:57:08.530Z"
   },
   {
    "duration": -2856,
    "start_time": "2021-10-30T12:57:08.552Z"
   },
   {
    "duration": -2879,
    "start_time": "2021-10-30T12:57:08.576Z"
   },
   {
    "duration": -2909,
    "start_time": "2021-10-30T12:57:08.607Z"
   },
   {
    "duration": -2940,
    "start_time": "2021-10-30T12:57:08.639Z"
   },
   {
    "duration": -2952,
    "start_time": "2021-10-30T12:57:08.652Z"
   },
   {
    "duration": -2965,
    "start_time": "2021-10-30T12:57:08.666Z"
   },
   {
    "duration": -2974,
    "start_time": "2021-10-30T12:57:08.676Z"
   },
   {
    "duration": -2990,
    "start_time": "2021-10-30T12:57:08.693Z"
   },
   {
    "duration": -3015,
    "start_time": "2021-10-30T12:57:08.719Z"
   },
   {
    "duration": -3026,
    "start_time": "2021-10-30T12:57:08.731Z"
   },
   {
    "duration": -3037,
    "start_time": "2021-10-30T12:57:08.743Z"
   },
   {
    "duration": -3053,
    "start_time": "2021-10-30T12:57:08.760Z"
   },
   {
    "duration": -3065,
    "start_time": "2021-10-30T12:57:08.773Z"
   },
   {
    "duration": -3076,
    "start_time": "2021-10-30T12:57:08.785Z"
   },
   {
    "duration": -3085,
    "start_time": "2021-10-30T12:57:08.795Z"
   },
   {
    "duration": -3097,
    "start_time": "2021-10-30T12:57:08.808Z"
   },
   {
    "duration": -3122,
    "start_time": "2021-10-30T12:57:08.834Z"
   },
   {
    "duration": -3138,
    "start_time": "2021-10-30T12:57:08.851Z"
   },
   {
    "duration": -3148,
    "start_time": "2021-10-30T12:57:08.862Z"
   },
   {
    "duration": -3159,
    "start_time": "2021-10-30T12:57:08.874Z"
   },
   {
    "duration": -3168,
    "start_time": "2021-10-30T12:57:08.884Z"
   },
   {
    "duration": -3186,
    "start_time": "2021-10-30T12:57:08.903Z"
   },
   {
    "duration": -3200,
    "start_time": "2021-10-30T12:57:08.918Z"
   },
   {
    "duration": -3212,
    "start_time": "2021-10-30T12:57:08.931Z"
   },
   {
    "duration": -3240,
    "start_time": "2021-10-30T12:57:08.960Z"
   },
   {
    "duration": -3256,
    "start_time": "2021-10-30T12:57:08.977Z"
   },
   {
    "duration": -3267,
    "start_time": "2021-10-30T12:57:08.988Z"
   },
   {
    "duration": -3277,
    "start_time": "2021-10-30T12:57:09.000Z"
   },
   {
    "duration": -3288,
    "start_time": "2021-10-30T12:57:09.011Z"
   },
   {
    "duration": -3280,
    "start_time": "2021-10-30T12:57:09.023Z"
   },
   {
    "duration": -3288,
    "start_time": "2021-10-30T12:57:09.033Z"
   },
   {
    "duration": -3301,
    "start_time": "2021-10-30T12:57:09.047Z"
   },
   {
    "duration": -3326,
    "start_time": "2021-10-30T12:57:09.073Z"
   },
   {
    "duration": -3337,
    "start_time": "2021-10-30T12:57:09.085Z"
   },
   {
    "duration": -3347,
    "start_time": "2021-10-30T12:57:09.096Z"
   },
   {
    "duration": -3358,
    "start_time": "2021-10-30T12:57:09.108Z"
   },
   {
    "duration": -3369,
    "start_time": "2021-10-30T12:57:09.120Z"
   },
   {
    "duration": -3382,
    "start_time": "2021-10-30T12:57:09.134Z"
   },
   {
    "duration": -3392,
    "start_time": "2021-10-30T12:57:09.145Z"
   },
   {
    "duration": -3403,
    "start_time": "2021-10-30T12:57:09.157Z"
   },
   {
    "duration": -3413,
    "start_time": "2021-10-30T12:57:09.168Z"
   },
   {
    "duration": -3441,
    "start_time": "2021-10-30T12:57:09.197Z"
   },
   {
    "duration": -3451,
    "start_time": "2021-10-30T12:57:09.208Z"
   },
   {
    "duration": -3464,
    "start_time": "2021-10-30T12:57:09.222Z"
   },
   {
    "duration": -3474,
    "start_time": "2021-10-30T12:57:09.233Z"
   },
   {
    "duration": -3485,
    "start_time": "2021-10-30T12:57:09.245Z"
   },
   {
    "duration": -3494,
    "start_time": "2021-10-30T12:57:09.255Z"
   },
   {
    "duration": -3505,
    "start_time": "2021-10-30T12:57:09.267Z"
   },
   {
    "duration": -3516,
    "start_time": "2021-10-30T12:57:09.279Z"
   },
   {
    "duration": -3530,
    "start_time": "2021-10-30T12:57:09.294Z"
   },
   {
    "duration": -3560,
    "start_time": "2021-10-30T12:57:09.325Z"
   },
   {
    "duration": -3571,
    "start_time": "2021-10-30T12:57:09.337Z"
   },
   {
    "duration": -3580,
    "start_time": "2021-10-30T12:57:09.347Z"
   },
   {
    "duration": -3593,
    "start_time": "2021-10-30T12:57:09.361Z"
   },
   {
    "duration": -3602,
    "start_time": "2021-10-30T12:57:09.371Z"
   },
   {
    "duration": -3613,
    "start_time": "2021-10-30T12:57:09.383Z"
   },
   {
    "duration": -3624,
    "start_time": "2021-10-30T12:57:09.395Z"
   },
   {
    "duration": -3635,
    "start_time": "2021-10-30T12:57:09.407Z"
   },
   {
    "duration": -3644,
    "start_time": "2021-10-30T12:57:09.417Z"
   },
   {
    "duration": -3672,
    "start_time": "2021-10-30T12:57:09.446Z"
   },
   {
    "duration": -3682,
    "start_time": "2021-10-30T12:57:09.457Z"
   },
   {
    "duration": -3694,
    "start_time": "2021-10-30T12:57:09.470Z"
   },
   {
    "duration": -3705,
    "start_time": "2021-10-30T12:57:09.482Z"
   },
   {
    "duration": -3717,
    "start_time": "2021-10-30T12:57:09.495Z"
   },
   {
    "duration": -3727,
    "start_time": "2021-10-30T12:57:09.506Z"
   },
   {
    "duration": -3738,
    "start_time": "2021-10-30T12:57:09.518Z"
   },
   {
    "duration": -3748,
    "start_time": "2021-10-30T12:57:09.529Z"
   },
   {
    "duration": -3697,
    "start_time": "2021-10-30T12:57:09.541Z"
   },
   {
    "duration": -3724,
    "start_time": "2021-10-30T12:57:09.570Z"
   },
   {
    "duration": -3738,
    "start_time": "2021-10-30T12:57:09.585Z"
   },
   {
    "duration": -3748,
    "start_time": "2021-10-30T12:57:09.596Z"
   },
   {
    "duration": -3758,
    "start_time": "2021-10-30T12:57:09.607Z"
   },
   {
    "duration": -3769,
    "start_time": "2021-10-30T12:57:09.619Z"
   },
   {
    "duration": -3780,
    "start_time": "2021-10-30T12:57:09.631Z"
   },
   {
    "duration": -3790,
    "start_time": "2021-10-30T12:57:09.642Z"
   },
   {
    "duration": -3801,
    "start_time": "2021-10-30T12:57:09.654Z"
   },
   {
    "duration": -3810,
    "start_time": "2021-10-30T12:57:09.664Z"
   },
   {
    "duration": -3840,
    "start_time": "2021-10-30T12:57:09.695Z"
   },
   {
    "duration": -3850,
    "start_time": "2021-10-30T12:57:09.706Z"
   },
   {
    "duration": -3861,
    "start_time": "2021-10-30T12:57:09.718Z"
   },
   {
    "duration": -3871,
    "start_time": "2021-10-30T12:57:09.729Z"
   },
   {
    "duration": -3882,
    "start_time": "2021-10-30T12:57:09.741Z"
   },
   {
    "duration": -3891,
    "start_time": "2021-10-30T12:57:09.751Z"
   },
   {
    "duration": -3906,
    "start_time": "2021-10-30T12:57:09.767Z"
   },
   {
    "duration": -3918,
    "start_time": "2021-10-30T12:57:09.780Z"
   },
   {
    "duration": -3948,
    "start_time": "2021-10-30T12:57:09.811Z"
   },
   {
    "duration": -3985,
    "start_time": "2021-10-30T12:57:09.849Z"
   },
   {
    "duration": -3997,
    "start_time": "2021-10-30T12:57:09.862Z"
   },
   {
    "duration": -4007,
    "start_time": "2021-10-30T12:57:09.873Z"
   },
   {
    "duration": -4026,
    "start_time": "2021-10-30T12:57:09.893Z"
   },
   {
    "duration": -4039,
    "start_time": "2021-10-30T12:57:09.907Z"
   },
   {
    "duration": -4068,
    "start_time": "2021-10-30T12:57:09.937Z"
   },
   {
    "duration": -4078,
    "start_time": "2021-10-30T12:57:09.948Z"
   },
   {
    "duration": -4089,
    "start_time": "2021-10-30T12:57:09.960Z"
   },
   {
    "duration": -4099,
    "start_time": "2021-10-30T12:57:09.971Z"
   },
   {
    "duration": 260,
    "start_time": "2021-10-30T12:57:28.689Z"
   },
   {
    "duration": 5,
    "start_time": "2021-10-30T12:57:38.491Z"
   },
   {
    "duration": 70,
    "start_time": "2021-10-30T12:57:53.788Z"
   },
   {
    "duration": 12,
    "start_time": "2021-10-30T12:57:53.860Z"
   },
   {
    "duration": 9,
    "start_time": "2021-10-30T12:57:53.874Z"
   },
   {
    "duration": 4,
    "start_time": "2021-10-30T12:57:53.886Z"
   },
   {
    "duration": 11,
    "start_time": "2021-10-30T12:57:53.892Z"
   },
   {
    "duration": 39,
    "start_time": "2021-10-30T12:57:53.905Z"
   },
   {
    "duration": 5,
    "start_time": "2021-10-30T12:57:53.946Z"
   },
   {
    "duration": 15,
    "start_time": "2021-10-30T12:57:53.952Z"
   },
   {
    "duration": 4,
    "start_time": "2021-10-30T12:57:53.971Z"
   },
   {
    "duration": 6,
    "start_time": "2021-10-30T12:57:53.977Z"
   },
   {
    "duration": 22,
    "start_time": "2021-10-30T12:57:53.984Z"
   },
   {
    "duration": 7,
    "start_time": "2021-10-30T12:57:54.007Z"
   },
   {
    "duration": 4,
    "start_time": "2021-10-30T12:57:54.015Z"
   },
   {
    "duration": 1510,
    "start_time": "2021-10-30T12:57:54.021Z"
   },
   {
    "duration": 4,
    "start_time": "2021-10-30T12:57:55.533Z"
   },
   {
    "duration": 6,
    "start_time": "2021-10-30T12:57:55.539Z"
   },
   {
    "duration": 46,
    "start_time": "2021-10-30T12:57:55.547Z"
   },
   {
    "duration": 77,
    "start_time": "2021-10-30T12:57:55.595Z"
   },
   {
    "duration": 5,
    "start_time": "2021-10-30T12:57:55.674Z"
   },
   {
    "duration": 11,
    "start_time": "2021-10-30T12:57:55.681Z"
   },
   {
    "duration": 9,
    "start_time": "2021-10-30T12:57:55.693Z"
   },
   {
    "duration": 9,
    "start_time": "2021-10-30T12:57:55.704Z"
   },
   {
    "duration": 39,
    "start_time": "2021-10-30T12:57:55.714Z"
   },
   {
    "duration": 7,
    "start_time": "2021-10-30T12:57:55.755Z"
   },
   {
    "duration": 3,
    "start_time": "2021-10-30T12:57:55.766Z"
   },
   {
    "duration": 446,
    "start_time": "2021-10-30T12:57:55.771Z"
   },
   {
    "duration": 12,
    "start_time": "2021-10-30T12:57:56.218Z"
   },
   {
    "duration": 19,
    "start_time": "2021-10-30T12:57:56.231Z"
   },
   {
    "duration": 13,
    "start_time": "2021-10-30T12:57:56.252Z"
   },
   {
    "duration": 3,
    "start_time": "2021-10-30T12:57:56.267Z"
   },
   {
    "duration": 593,
    "start_time": "2021-10-30T12:57:56.271Z"
   },
   {
    "duration": 3,
    "start_time": "2021-10-30T12:57:56.866Z"
   },
   {
    "duration": 15,
    "start_time": "2021-10-30T12:57:56.871Z"
   },
   {
    "duration": 6,
    "start_time": "2021-10-30T12:57:56.887Z"
   },
   {
    "duration": 8,
    "start_time": "2021-10-30T12:57:56.895Z"
   },
   {
    "duration": 1811,
    "start_time": "2021-10-30T12:57:56.904Z"
   },
   {
    "duration": 6,
    "start_time": "2021-10-30T12:57:58.717Z"
   },
   {
    "duration": 150,
    "start_time": "2021-10-30T12:57:58.725Z"
   },
   {
    "duration": 4,
    "start_time": "2021-10-30T12:57:58.877Z"
   },
   {
    "duration": 15,
    "start_time": "2021-10-30T12:57:58.882Z"
   },
   {
    "duration": 25,
    "start_time": "2021-10-30T12:57:58.899Z"
   },
   {
    "duration": 24,
    "start_time": "2021-10-30T12:57:58.926Z"
   },
   {
    "duration": 1905,
    "start_time": "2021-10-30T12:57:58.952Z"
   },
   {
    "duration": 9,
    "start_time": "2021-10-30T12:58:00.860Z"
   },
   {
    "duration": 233,
    "start_time": "2021-10-30T12:58:00.871Z"
   },
   {
    "duration": 1867,
    "start_time": "2021-10-30T12:58:01.106Z"
   },
   {
    "duration": 8,
    "start_time": "2021-10-30T12:58:02.975Z"
   },
   {
    "duration": 144,
    "start_time": "2021-10-30T12:58:02.985Z"
   },
   {
    "duration": 4,
    "start_time": "2021-10-30T12:58:03.131Z"
   },
   {
    "duration": 10,
    "start_time": "2021-10-30T12:58:03.144Z"
   },
   {
    "duration": 29,
    "start_time": "2021-10-30T12:58:03.156Z"
   },
   {
    "duration": 5,
    "start_time": "2021-10-30T12:58:03.187Z"
   },
   {
    "duration": 14,
    "start_time": "2021-10-30T12:58:03.194Z"
   },
   {
    "duration": 1790,
    "start_time": "2021-10-30T12:58:03.210Z"
   },
   {
    "duration": 10,
    "start_time": "2021-10-30T12:58:05.003Z"
   },
   {
    "duration": 145,
    "start_time": "2021-10-30T12:58:05.015Z"
   },
   {
    "duration": 245,
    "start_time": "2021-10-30T12:58:05.162Z"
   },
   {
    "duration": 7,
    "start_time": "2021-10-30T12:58:05.408Z"
   },
   {
    "duration": 141,
    "start_time": "2021-10-30T12:58:05.416Z"
   },
   {
    "duration": 22,
    "start_time": "2021-10-30T12:58:05.558Z"
   },
   {
    "duration": 5,
    "start_time": "2021-10-30T12:58:05.582Z"
   },
   {
    "duration": 16,
    "start_time": "2021-10-30T12:58:05.588Z"
   },
   {
    "duration": 257,
    "start_time": "2021-10-30T12:58:05.606Z"
   },
   {
    "duration": 6,
    "start_time": "2021-10-30T12:58:05.865Z"
   },
   {
    "duration": 133,
    "start_time": "2021-10-30T12:58:05.873Z"
   },
   {
    "duration": 736,
    "start_time": "2021-10-30T12:58:06.008Z"
   },
   {
    "duration": 8,
    "start_time": "2021-10-30T12:58:06.746Z"
   },
   {
    "duration": 143,
    "start_time": "2021-10-30T12:58:06.755Z"
   },
   {
    "duration": 19,
    "start_time": "2021-10-30T12:58:06.900Z"
   },
   {
    "duration": 20,
    "start_time": "2021-10-30T12:58:06.925Z"
   },
   {
    "duration": 5,
    "start_time": "2021-10-30T12:58:06.947Z"
   },
   {
    "duration": 16,
    "start_time": "2021-10-30T12:58:06.954Z"
   },
   {
    "duration": 25,
    "start_time": "2021-10-30T12:58:06.972Z"
   },
   {
    "duration": 6,
    "start_time": "2021-10-30T12:58:06.999Z"
   },
   {
    "duration": 37,
    "start_time": "2021-10-30T12:58:07.007Z"
   },
   {
    "duration": 10,
    "start_time": "2021-10-30T12:58:07.046Z"
   },
   {
    "duration": 634,
    "start_time": "2021-10-30T12:58:07.058Z"
   },
   {
    "duration": 149,
    "start_time": "2021-10-30T12:58:07.694Z"
   },
   {
    "duration": 26,
    "start_time": "2021-10-30T12:58:07.845Z"
   },
   {
    "duration": 574,
    "start_time": "2021-10-30T12:58:07.873Z"
   },
   {
    "duration": 9,
    "start_time": "2021-10-30T12:58:08.448Z"
   },
   {
    "duration": 998,
    "start_time": "2021-10-30T12:58:08.459Z"
   },
   {
    "duration": 10,
    "start_time": "2021-10-30T12:58:09.459Z"
   },
   {
    "duration": 150,
    "start_time": "2021-10-30T12:58:09.470Z"
   },
   {
    "duration": 4,
    "start_time": "2021-10-30T12:58:09.621Z"
   },
   {
    "duration": 24,
    "start_time": "2021-10-30T12:58:09.627Z"
   },
   {
    "duration": 28,
    "start_time": "2021-10-30T12:58:09.653Z"
   },
   {
    "duration": 5,
    "start_time": "2021-10-30T12:58:09.683Z"
   },
   {
    "duration": 11,
    "start_time": "2021-10-30T12:58:09.690Z"
   },
   {
    "duration": 974,
    "start_time": "2021-10-30T12:58:09.703Z"
   },
   {
    "duration": 135,
    "start_time": "2021-10-30T12:58:10.678Z"
   },
   {
    "duration": 7,
    "start_time": "2021-10-30T12:58:10.815Z"
   },
   {
    "duration": 26,
    "start_time": "2021-10-30T12:58:10.824Z"
   },
   {
    "duration": 27,
    "start_time": "2021-10-30T12:58:10.852Z"
   },
   {
    "duration": 408,
    "start_time": "2021-10-30T12:58:10.881Z"
   },
   {
    "duration": 80,
    "start_time": "2021-10-30T12:58:11.291Z"
   },
   {
    "duration": 230,
    "start_time": "2021-10-30T12:58:11.373Z"
   },
   {
    "duration": 39,
    "start_time": "2021-10-30T12:58:11.606Z"
   },
   {
    "duration": 23,
    "start_time": "2021-10-30T12:58:11.647Z"
   },
   {
    "duration": 28,
    "start_time": "2021-10-30T12:58:11.672Z"
   },
   {
    "duration": 63,
    "start_time": "2021-10-30T12:58:11.702Z"
   },
   {
    "duration": 8,
    "start_time": "2021-10-30T12:58:11.767Z"
   },
   {
    "duration": 31,
    "start_time": "2021-10-30T12:58:11.777Z"
   },
   {
    "duration": 353,
    "start_time": "2021-10-30T12:58:11.810Z"
   },
   {
    "duration": 6,
    "start_time": "2021-10-30T12:58:12.165Z"
   },
   {
    "duration": 37,
    "start_time": "2021-10-30T12:58:12.173Z"
   },
   {
    "duration": 49,
    "start_time": "2021-10-30T12:58:12.212Z"
   },
   {
    "duration": 35,
    "start_time": "2021-10-30T12:58:12.263Z"
   },
   {
    "duration": 53,
    "start_time": "2021-10-30T12:58:12.300Z"
   },
   {
    "duration": 27,
    "start_time": "2021-10-30T12:58:12.355Z"
   },
   {
    "duration": 233,
    "start_time": "2021-10-30T12:58:12.383Z"
   },
   {
    "duration": 43,
    "start_time": "2021-10-30T12:58:12.618Z"
   },
   {
    "duration": 35,
    "start_time": "2021-10-30T12:58:12.663Z"
   },
   {
    "duration": 57,
    "start_time": "2021-10-30T12:58:12.699Z"
   },
   {
    "duration": 33,
    "start_time": "2021-10-30T12:58:12.758Z"
   },
   {
    "duration": 34,
    "start_time": "2021-10-30T12:58:12.793Z"
   },
   {
    "duration": 35,
    "start_time": "2021-10-30T12:58:12.844Z"
   },
   {
    "duration": 645,
    "start_time": "2021-10-30T12:58:12.881Z"
   },
   {
    "duration": 29,
    "start_time": "2021-10-30T12:58:13.528Z"
   },
   {
    "duration": 18,
    "start_time": "2021-10-30T12:58:13.559Z"
   },
   {
    "duration": 704,
    "start_time": "2021-10-30T12:58:31.659Z"
   },
   {
    "duration": 599,
    "start_time": "2021-10-30T12:58:43.080Z"
   },
   {
    "duration": 6,
    "start_time": "2021-10-30T12:58:50.383Z"
   },
   {
    "duration": 18,
    "start_time": "2021-10-30T12:58:57.324Z"
   },
   {
    "duration": 13,
    "start_time": "2021-10-30T12:59:11.015Z"
   },
   {
    "duration": 7,
    "start_time": "2021-10-30T12:59:17.458Z"
   },
   {
    "duration": 21,
    "start_time": "2021-10-30T12:59:23.458Z"
   },
   {
    "duration": 8,
    "start_time": "2021-10-30T12:59:29.469Z"
   },
   {
    "duration": 8,
    "start_time": "2021-10-30T12:59:34.598Z"
   },
   {
    "duration": 9,
    "start_time": "2021-10-30T12:59:39.996Z"
   },
   {
    "duration": 8,
    "start_time": "2021-10-30T12:59:46.693Z"
   },
   {
    "duration": 8,
    "start_time": "2021-10-30T12:59:55.565Z"
   },
   {
    "duration": 9,
    "start_time": "2021-10-30T13:00:01.312Z"
   },
   {
    "duration": 8,
    "start_time": "2021-10-30T13:00:18.510Z"
   },
   {
    "duration": 9,
    "start_time": "2021-10-30T13:00:25.742Z"
   },
   {
    "duration": 10,
    "start_time": "2021-10-30T13:00:30.122Z"
   },
   {
    "duration": 9,
    "start_time": "2021-10-30T13:00:36.061Z"
   },
   {
    "duration": 8,
    "start_time": "2021-10-30T13:00:41.999Z"
   },
   {
    "duration": 8,
    "start_time": "2021-10-30T13:00:45.778Z"
   },
   {
    "duration": 10,
    "start_time": "2021-10-30T13:00:59.586Z"
   },
   {
    "duration": 10,
    "start_time": "2021-10-30T13:01:05.168Z"
   },
   {
    "duration": 9,
    "start_time": "2021-10-30T13:01:09.995Z"
   },
   {
    "duration": 19,
    "start_time": "2021-10-30T13:01:19.320Z"
   },
   {
    "duration": 29,
    "start_time": "2021-10-30T13:01:24.171Z"
   },
   {
    "duration": 41,
    "start_time": "2021-10-30T13:01:29.440Z"
   },
   {
    "duration": 27,
    "start_time": "2021-10-30T13:01:36.698Z"
   },
   {
    "duration": 26,
    "start_time": "2021-10-30T13:01:44.808Z"
   },
   {
    "duration": 29,
    "start_time": "2021-10-30T13:01:50.832Z"
   },
   {
    "duration": 46,
    "start_time": "2021-10-30T13:02:00.014Z"
   },
   {
    "duration": 35,
    "start_time": "2021-10-30T13:02:06.713Z"
   },
   {
    "duration": 38,
    "start_time": "2021-10-30T13:02:17.971Z"
   },
   {
    "duration": 37,
    "start_time": "2021-10-30T13:02:23.959Z"
   },
   {
    "duration": 35,
    "start_time": "2021-10-30T13:02:29.538Z"
   },
   {
    "duration": 36,
    "start_time": "2021-10-30T13:02:35.165Z"
   },
   {
    "duration": 30,
    "start_time": "2021-10-30T13:02:41.541Z"
   },
   {
    "duration": 42,
    "start_time": "2021-10-30T13:02:47.190Z"
   },
   {
    "duration": 38,
    "start_time": "2021-10-30T13:02:53.850Z"
   },
   {
    "duration": 51,
    "start_time": "2021-10-30T13:03:02.142Z"
   },
   {
    "duration": 36,
    "start_time": "2021-10-30T13:03:11.251Z"
   },
   {
    "duration": 36,
    "start_time": "2021-10-30T13:03:17.886Z"
   },
   {
    "duration": 34,
    "start_time": "2021-10-30T13:03:24.473Z"
   },
   {
    "duration": 631,
    "start_time": "2021-10-30T13:03:40.045Z"
   },
   {
    "duration": 24,
    "start_time": "2021-10-30T13:04:01.341Z"
   },
   {
    "duration": 18,
    "start_time": "2021-10-30T13:04:04.783Z"
   },
   {
    "duration": 68,
    "start_time": "2021-10-30T13:04:40.168Z"
   },
   {
    "duration": 10,
    "start_time": "2021-10-30T13:04:40.238Z"
   },
   {
    "duration": 8,
    "start_time": "2021-10-30T13:04:40.250Z"
   },
   {
    "duration": 3,
    "start_time": "2021-10-30T13:04:40.260Z"
   },
   {
    "duration": 11,
    "start_time": "2021-10-30T13:04:40.265Z"
   },
   {
    "duration": 13,
    "start_time": "2021-10-30T13:04:40.278Z"
   },
   {
    "duration": 9,
    "start_time": "2021-10-30T13:04:40.293Z"
   },
   {
    "duration": 12,
    "start_time": "2021-10-30T13:04:40.304Z"
   },
   {
    "duration": 5,
    "start_time": "2021-10-30T13:04:40.318Z"
   },
   {
    "duration": 5,
    "start_time": "2021-10-30T13:04:40.345Z"
   },
   {
    "duration": 20,
    "start_time": "2021-10-30T13:04:40.352Z"
   },
   {
    "duration": 8,
    "start_time": "2021-10-30T13:04:40.374Z"
   },
   {
    "duration": 5,
    "start_time": "2021-10-30T13:04:40.383Z"
   },
   {
    "duration": 1607,
    "start_time": "2021-10-30T13:04:40.390Z"
   },
   {
    "duration": 5,
    "start_time": "2021-10-30T13:04:41.998Z"
   },
   {
    "duration": 4,
    "start_time": "2021-10-30T13:04:42.007Z"
   },
   {
    "duration": 747,
    "start_time": "2021-10-30T13:04:42.013Z"
   },
   {
    "duration": 802,
    "start_time": "2021-10-30T13:04:42.763Z"
   },
   {
    "duration": 6,
    "start_time": "2021-10-30T13:04:43.567Z"
   },
   {
    "duration": 71,
    "start_time": "2021-10-30T13:04:43.575Z"
   },
   {
    "duration": 6,
    "start_time": "2021-10-30T13:04:43.647Z"
   },
   {
    "duration": 11,
    "start_time": "2021-10-30T13:04:43.655Z"
   },
   {
    "duration": 12,
    "start_time": "2021-10-30T13:04:43.667Z"
   },
   {
    "duration": 9,
    "start_time": "2021-10-30T13:04:43.681Z"
   },
   {
    "duration": 52,
    "start_time": "2021-10-30T13:04:43.692Z"
   },
   {
    "duration": 517,
    "start_time": "2021-10-30T13:04:43.747Z"
   },
   {
    "duration": 13,
    "start_time": "2021-10-30T13:04:44.266Z"
   },
   {
    "duration": 10,
    "start_time": "2021-10-30T13:04:44.280Z"
   },
   {
    "duration": 12,
    "start_time": "2021-10-30T13:04:44.291Z"
   },
   {
    "duration": 7,
    "start_time": "2021-10-30T13:04:44.304Z"
   },
   {
    "duration": 982,
    "start_time": "2021-10-30T13:04:44.313Z"
   },
   {
    "duration": 3,
    "start_time": "2021-10-30T13:04:45.297Z"
   },
   {
    "duration": 9,
    "start_time": "2021-10-30T13:04:45.302Z"
   },
   {
    "duration": 4,
    "start_time": "2021-10-30T13:04:45.313Z"
   },
   {
    "duration": 11,
    "start_time": "2021-10-30T13:04:45.319Z"
   },
   {
    "duration": 2864,
    "start_time": "2021-10-30T13:04:45.332Z"
   },
   {
    "duration": 9,
    "start_time": "2021-10-30T13:04:48.198Z"
   },
   {
    "duration": 207,
    "start_time": "2021-10-30T13:04:48.209Z"
   },
   {
    "duration": 5,
    "start_time": "2021-10-30T13:04:48.422Z"
   },
   {
    "duration": 24,
    "start_time": "2021-10-30T13:04:48.431Z"
   },
   {
    "duration": 32,
    "start_time": "2021-10-30T13:04:48.457Z"
   },
   {
    "duration": 12,
    "start_time": "2021-10-30T13:04:48.491Z"
   },
   {
    "duration": 3004,
    "start_time": "2021-10-30T13:04:48.504Z"
   },
   {
    "duration": 11,
    "start_time": "2021-10-30T13:04:51.510Z"
   },
   {
    "duration": 229,
    "start_time": "2021-10-30T13:04:51.522Z"
   },
   {
    "duration": 3036,
    "start_time": "2021-10-30T13:04:51.754Z"
   },
   {
    "duration": 11,
    "start_time": "2021-10-30T13:04:54.792Z"
   },
   {
    "duration": 208,
    "start_time": "2021-10-30T13:04:54.805Z"
   },
   {
    "duration": 6,
    "start_time": "2021-10-30T13:04:55.015Z"
   },
   {
    "duration": 23,
    "start_time": "2021-10-30T13:04:55.023Z"
   },
   {
    "duration": 25,
    "start_time": "2021-10-30T13:04:55.047Z"
   },
   {
    "duration": 8,
    "start_time": "2021-10-30T13:04:55.073Z"
   },
   {
    "duration": 17,
    "start_time": "2021-10-30T13:04:55.082Z"
   },
   {
    "duration": 1776,
    "start_time": "2021-10-30T13:04:55.100Z"
   },
   {
    "duration": 8,
    "start_time": "2021-10-30T13:04:56.878Z"
   },
   {
    "duration": 146,
    "start_time": "2021-10-30T13:04:56.888Z"
   },
   {
    "duration": 246,
    "start_time": "2021-10-30T13:04:57.036Z"
   },
   {
    "duration": 7,
    "start_time": "2021-10-30T13:04:57.284Z"
   },
   {
    "duration": 142,
    "start_time": "2021-10-30T13:04:57.293Z"
   },
   {
    "duration": 24,
    "start_time": "2021-10-30T13:04:57.437Z"
   },
   {
    "duration": 8,
    "start_time": "2021-10-30T13:04:57.463Z"
   },
   {
    "duration": 10,
    "start_time": "2021-10-30T13:04:57.473Z"
   },
   {
    "duration": 259,
    "start_time": "2021-10-30T13:04:57.486Z"
   },
   {
    "duration": 8,
    "start_time": "2021-10-30T13:04:57.747Z"
   },
   {
    "duration": 140,
    "start_time": "2021-10-30T13:04:57.757Z"
   },
   {
    "duration": 707,
    "start_time": "2021-10-30T13:04:57.899Z"
   },
   {
    "duration": 8,
    "start_time": "2021-10-30T13:04:58.607Z"
   },
   {
    "duration": 142,
    "start_time": "2021-10-30T13:04:58.617Z"
   },
   {
    "duration": 18,
    "start_time": "2021-10-30T13:04:58.761Z"
   },
   {
    "duration": 10,
    "start_time": "2021-10-30T13:04:58.780Z"
   },
   {
    "duration": 7,
    "start_time": "2021-10-30T13:04:58.791Z"
   },
   {
    "duration": 17,
    "start_time": "2021-10-30T13:04:58.799Z"
   },
   {
    "duration": 41,
    "start_time": "2021-10-30T13:04:58.818Z"
   },
   {
    "duration": 9,
    "start_time": "2021-10-30T13:04:58.861Z"
   },
   {
    "duration": 11,
    "start_time": "2021-10-30T13:04:58.871Z"
   },
   {
    "duration": 7,
    "start_time": "2021-10-30T13:04:58.884Z"
   },
   {
    "duration": 746,
    "start_time": "2021-10-30T13:04:58.893Z"
   },
   {
    "duration": 131,
    "start_time": "2021-10-30T13:04:59.641Z"
   },
   {
    "duration": 20,
    "start_time": "2021-10-30T13:04:59.774Z"
   },
   {
    "duration": 543,
    "start_time": "2021-10-30T13:04:59.796Z"
   },
   {
    "duration": 8,
    "start_time": "2021-10-30T13:05:00.344Z"
   },
   {
    "duration": 885,
    "start_time": "2021-10-30T13:05:00.354Z"
   },
   {
    "duration": 8,
    "start_time": "2021-10-30T13:05:01.244Z"
   },
   {
    "duration": 160,
    "start_time": "2021-10-30T13:05:01.254Z"
   },
   {
    "duration": 4,
    "start_time": "2021-10-30T13:05:01.416Z"
   },
   {
    "duration": 25,
    "start_time": "2021-10-30T13:05:01.422Z"
   },
   {
    "duration": 29,
    "start_time": "2021-10-30T13:05:01.449Z"
   },
   {
    "duration": 9,
    "start_time": "2021-10-30T13:05:01.480Z"
   },
   {
    "duration": 14,
    "start_time": "2021-10-30T13:05:01.491Z"
   },
   {
    "duration": 1031,
    "start_time": "2021-10-30T13:05:01.507Z"
   },
   {
    "duration": 129,
    "start_time": "2021-10-30T13:05:02.544Z"
   },
   {
    "duration": 9,
    "start_time": "2021-10-30T13:05:02.675Z"
   },
   {
    "duration": 22,
    "start_time": "2021-10-30T13:05:02.685Z"
   },
   {
    "duration": 42,
    "start_time": "2021-10-30T13:05:02.709Z"
   },
   {
    "duration": 232,
    "start_time": "2021-10-30T13:05:02.753Z"
   },
   {
    "duration": 38,
    "start_time": "2021-10-30T13:05:02.987Z"
   },
   {
    "duration": 221,
    "start_time": "2021-10-30T13:05:03.026Z"
   },
   {
    "duration": 27,
    "start_time": "2021-10-30T13:05:03.248Z"
   },
   {
    "duration": 23,
    "start_time": "2021-10-30T13:05:03.277Z"
   },
   {
    "duration": 48,
    "start_time": "2021-10-30T13:05:03.301Z"
   },
   {
    "duration": 38,
    "start_time": "2021-10-30T13:05:03.351Z"
   },
   {
    "duration": 7,
    "start_time": "2021-10-30T13:05:03.390Z"
   },
   {
    "duration": 58,
    "start_time": "2021-10-30T13:05:03.398Z"
   },
   {
    "duration": 321,
    "start_time": "2021-10-30T13:05:03.458Z"
   },
   {
    "duration": 8,
    "start_time": "2021-10-30T13:05:03.781Z"
   },
   {
    "duration": 36,
    "start_time": "2021-10-30T13:05:03.791Z"
   },
   {
    "duration": 48,
    "start_time": "2021-10-30T13:05:03.829Z"
   },
   {
    "duration": 35,
    "start_time": "2021-10-30T13:05:03.884Z"
   },
   {
    "duration": 64,
    "start_time": "2021-10-30T13:05:03.920Z"
   },
   {
    "duration": 34,
    "start_time": "2021-10-30T13:05:03.986Z"
   },
   {
    "duration": 216,
    "start_time": "2021-10-30T13:05:04.044Z"
   },
   {
    "duration": 37,
    "start_time": "2021-10-30T13:05:04.262Z"
   },
   {
    "duration": 57,
    "start_time": "2021-10-30T13:05:04.301Z"
   },
   {
    "duration": 41,
    "start_time": "2021-10-30T13:05:04.360Z"
   },
   {
    "duration": 57,
    "start_time": "2021-10-30T13:05:04.402Z"
   },
   {
    "duration": 47,
    "start_time": "2021-10-30T13:05:04.461Z"
   },
   {
    "duration": 45,
    "start_time": "2021-10-30T13:05:04.510Z"
   },
   {
    "duration": 618,
    "start_time": "2021-10-30T13:05:04.557Z"
   },
   {
    "duration": 20,
    "start_time": "2021-10-30T13:05:05.177Z"
   },
   {
    "duration": 17,
    "start_time": "2021-10-30T13:05:05.199Z"
   },
   {
    "duration": 5407,
    "start_time": "2021-11-04T15:46:26.207Z"
   },
   {
    "duration": 98,
    "start_time": "2021-11-04T15:46:31.617Z"
   },
   {
    "duration": 197,
    "start_time": "2021-11-04T15:46:31.717Z"
   },
   {
    "duration": 98,
    "start_time": "2021-11-04T15:46:37.307Z"
   },
   {
    "duration": 100,
    "start_time": "2021-11-04T15:46:37.908Z"
   },
   {
    "duration": 7,
    "start_time": "2021-11-04T15:46:40.108Z"
   },
   {
    "duration": 98,
    "start_time": "2021-11-04T15:46:41.208Z"
   },
   {
    "duration": 107,
    "start_time": "2021-11-04T15:46:41.908Z"
   },
   {
    "duration": 6,
    "start_time": "2021-11-04T15:46:42.807Z"
   },
   {
    "duration": 8,
    "start_time": "2021-11-04T15:46:43.807Z"
   },
   {
    "duration": 111,
    "start_time": "2021-11-04T15:46:44.708Z"
   },
   {
    "duration": 13,
    "start_time": "2021-11-04T15:46:45.790Z"
   },
   {
    "duration": 4,
    "start_time": "2021-11-04T15:46:46.365Z"
   },
   {
    "duration": 18509,
    "start_time": "2021-11-04T15:46:47.007Z"
   },
   {
    "duration": 93,
    "start_time": "2021-11-04T15:47:05.519Z"
   },
   {
    "duration": 89,
    "start_time": "2021-11-04T15:47:05.620Z"
   },
   {
    "duration": 4602,
    "start_time": "2021-11-04T15:47:10.107Z"
   },
   {
    "duration": 5200,
    "start_time": "2021-11-04T15:47:14.711Z"
   },
   {
    "duration": 95,
    "start_time": "2021-11-04T15:47:19.914Z"
   },
   {
    "duration": 102,
    "start_time": "2021-11-04T15:47:27.616Z"
   },
   {
    "duration": 98,
    "start_time": "2021-11-04T15:48:01.008Z"
   },
   {
    "duration": 99,
    "start_time": "2021-11-04T15:48:03.207Z"
   },
   {
    "duration": 95,
    "start_time": "2021-11-04T15:48:08.519Z"
   },
   {
    "duration": 202,
    "start_time": "2021-11-04T15:48:11.507Z"
   },
   {
    "duration": 112,
    "start_time": "2021-11-04T15:48:46.907Z"
   },
   {
    "duration": 89,
    "start_time": "2021-11-04T15:49:06.219Z"
   },
   {
    "duration": 4101,
    "start_time": "2021-11-04T15:49:08.010Z"
   },
   {
    "duration": 13,
    "start_time": "2021-11-04T15:49:12.113Z"
   },
   {
    "duration": 8,
    "start_time": "2021-11-04T15:51:54.760Z"
   },
   {
    "duration": 23,
    "start_time": "2021-11-04T15:52:15.098Z"
   },
   {
    "duration": 5,
    "start_time": "2021-11-04T15:52:16.344Z"
   },
   {
    "duration": 464,
    "start_time": "2021-11-04T15:54:37.048Z"
   },
   {
    "duration": 347,
    "start_time": "2021-11-04T15:59:37.522Z"
   },
   {
    "duration": 75,
    "start_time": "2021-11-04T16:04:39.237Z"
   },
   {
    "duration": 11,
    "start_time": "2021-11-04T16:04:40.370Z"
   },
   {
    "duration": 3,
    "start_time": "2021-11-04T16:05:02.858Z"
   },
   {
    "duration": 68,
    "start_time": "2021-11-04T16:05:03.379Z"
   },
   {
    "duration": 12,
    "start_time": "2021-11-04T16:05:04.378Z"
   },
   {
    "duration": 23,
    "start_time": "2021-11-04T16:05:12.346Z"
   },
   {
    "duration": 348,
    "start_time": "2021-11-04T16:05:14.067Z"
   },
   {
    "duration": 23,
    "start_time": "2021-11-04T16:07:15.885Z"
   },
   {
    "duration": 701,
    "start_time": "2021-11-04T16:07:48.062Z"
   },
   {
    "duration": 85,
    "start_time": "2021-11-04T16:07:48.765Z"
   },
   {
    "duration": 14,
    "start_time": "2021-11-04T16:07:48.852Z"
   },
   {
    "duration": 18,
    "start_time": "2021-11-04T16:07:48.868Z"
   },
   {
    "duration": 7,
    "start_time": "2021-11-04T16:07:48.908Z"
   },
   {
    "duration": 27,
    "start_time": "2021-11-04T16:07:48.917Z"
   },
   {
    "duration": 17,
    "start_time": "2021-11-04T16:07:48.945Z"
   },
   {
    "duration": 16,
    "start_time": "2021-11-04T16:07:48.966Z"
   },
   {
    "duration": 32,
    "start_time": "2021-11-04T16:07:48.984Z"
   },
   {
    "duration": 12,
    "start_time": "2021-11-04T16:07:49.018Z"
   },
   {
    "duration": 24,
    "start_time": "2021-11-04T16:07:49.032Z"
   },
   {
    "duration": 34,
    "start_time": "2021-11-04T16:07:49.058Z"
   },
   {
    "duration": 21,
    "start_time": "2021-11-04T16:07:49.094Z"
   },
   {
    "duration": 17,
    "start_time": "2021-11-04T16:07:49.117Z"
   },
   {
    "duration": 1554,
    "start_time": "2021-11-04T16:07:49.136Z"
   },
   {
    "duration": 4,
    "start_time": "2021-11-04T16:07:50.692Z"
   },
   {
    "duration": 2,
    "start_time": "2021-11-04T16:07:50.707Z"
   },
   {
    "duration": 798,
    "start_time": "2021-11-04T16:07:50.710Z"
   },
   {
    "duration": 825,
    "start_time": "2021-11-04T16:07:51.510Z"
   },
   {
    "duration": 5,
    "start_time": "2021-11-04T16:07:52.337Z"
   },
   {
    "duration": 79,
    "start_time": "2021-11-04T16:07:52.344Z"
   },
   {
    "duration": 6,
    "start_time": "2021-11-04T16:07:52.424Z"
   },
   {
    "duration": 8,
    "start_time": "2021-11-04T16:07:52.434Z"
   },
   {
    "duration": 70,
    "start_time": "2021-11-04T16:07:52.445Z"
   },
   {
    "duration": 12,
    "start_time": "2021-11-04T16:07:52.517Z"
   },
   {
    "duration": 13,
    "start_time": "2021-11-04T16:07:52.532Z"
   },
   {
    "duration": 59,
    "start_time": "2021-11-04T16:07:52.547Z"
   },
   {
    "duration": 468,
    "start_time": "2021-11-04T16:07:52.609Z"
   },
   {
    "duration": 27,
    "start_time": "2021-11-04T16:07:53.079Z"
   },
   {
    "duration": 4,
    "start_time": "2021-11-04T16:07:53.108Z"
   },
   {
    "duration": 634,
    "start_time": "2021-11-04T16:07:53.114Z"
   },
   {
    "duration": 3,
    "start_time": "2021-11-04T16:07:53.750Z"
   },
   {
    "duration": 6,
    "start_time": "2021-11-04T16:07:53.755Z"
   },
   {
    "duration": 10,
    "start_time": "2021-11-04T16:07:53.763Z"
   },
   {
    "duration": 26,
    "start_time": "2021-11-04T16:07:53.775Z"
   },
   {
    "duration": 1838,
    "start_time": "2021-11-04T16:07:53.803Z"
   },
   {
    "duration": 9,
    "start_time": "2021-11-04T16:07:55.643Z"
   },
   {
    "duration": 164,
    "start_time": "2021-11-04T16:07:55.654Z"
   },
   {
    "duration": 3,
    "start_time": "2021-11-04T16:07:55.820Z"
   },
   {
    "duration": 16,
    "start_time": "2021-11-04T16:07:55.825Z"
   },
   {
    "duration": 28,
    "start_time": "2021-11-04T16:07:55.843Z"
   },
   {
    "duration": 11,
    "start_time": "2021-11-04T16:07:55.872Z"
   },
   {
    "duration": 2076,
    "start_time": "2021-11-04T16:07:55.906Z"
   },
   {
    "duration": 15,
    "start_time": "2021-11-04T16:07:57.985Z"
   },
   {
    "duration": 228,
    "start_time": "2021-11-04T16:07:58.002Z"
   },
   {
    "duration": 1928,
    "start_time": "2021-11-04T16:07:58.232Z"
   },
   {
    "duration": 9,
    "start_time": "2021-11-04T16:08:00.162Z"
   },
   {
    "duration": 157,
    "start_time": "2021-11-04T16:08:00.172Z"
   },
   {
    "duration": 4,
    "start_time": "2021-11-04T16:08:00.331Z"
   },
   {
    "duration": 21,
    "start_time": "2021-11-04T16:08:00.336Z"
   },
   {
    "duration": 65,
    "start_time": "2021-11-04T16:08:00.359Z"
   },
   {
    "duration": 9,
    "start_time": "2021-11-04T16:08:00.426Z"
   },
   {
    "duration": 29,
    "start_time": "2021-11-04T16:08:00.437Z"
   },
   {
    "duration": 2130,
    "start_time": "2021-11-04T16:08:00.468Z"
   },
   {
    "duration": 13,
    "start_time": "2021-11-04T16:08:02.600Z"
   },
   {
    "duration": 154,
    "start_time": "2021-11-04T16:08:02.614Z"
   },
   {
    "duration": 263,
    "start_time": "2021-11-04T16:08:02.769Z"
   },
   {
    "duration": 8,
    "start_time": "2021-11-04T16:08:03.034Z"
   },
   {
    "duration": 153,
    "start_time": "2021-11-04T16:08:03.043Z"
   },
   {
    "duration": 26,
    "start_time": "2021-11-04T16:08:03.198Z"
   },
   {
    "duration": 12,
    "start_time": "2021-11-04T16:08:03.226Z"
   },
   {
    "duration": 43,
    "start_time": "2021-11-04T16:08:03.240Z"
   },
   {
    "duration": 280,
    "start_time": "2021-11-04T16:08:03.284Z"
   },
   {
    "duration": 7,
    "start_time": "2021-11-04T16:08:03.566Z"
   },
   {
    "duration": 159,
    "start_time": "2021-11-04T16:08:03.575Z"
   },
   {
    "duration": 801,
    "start_time": "2021-11-04T16:08:03.735Z"
   },
   {
    "duration": 9,
    "start_time": "2021-11-04T16:08:04.538Z"
   },
   {
    "duration": 159,
    "start_time": "2021-11-04T16:08:04.553Z"
   },
   {
    "duration": 21,
    "start_time": "2021-11-04T16:08:04.714Z"
   },
   {
    "duration": 10,
    "start_time": "2021-11-04T16:08:04.737Z"
   },
   {
    "duration": 5,
    "start_time": "2021-11-04T16:08:04.749Z"
   },
   {
    "duration": 25,
    "start_time": "2021-11-04T16:08:04.756Z"
   },
   {
    "duration": 41,
    "start_time": "2021-11-04T16:08:04.783Z"
   },
   {
    "duration": 10,
    "start_time": "2021-11-04T16:08:04.826Z"
   },
   {
    "duration": 17,
    "start_time": "2021-11-04T16:08:04.838Z"
   },
   {
    "duration": 12,
    "start_time": "2021-11-04T16:08:04.856Z"
   },
   {
    "duration": 666,
    "start_time": "2021-11-04T16:08:04.870Z"
   },
   {
    "duration": 149,
    "start_time": "2021-11-04T16:08:05.538Z"
   },
   {
    "duration": 33,
    "start_time": "2021-11-04T16:08:05.689Z"
   },
   {
    "duration": 488,
    "start_time": "2021-11-04T16:08:05.724Z"
   },
   {
    "duration": 10,
    "start_time": "2021-11-04T16:08:06.214Z"
   },
   {
    "duration": 1246,
    "start_time": "2021-11-04T16:08:06.226Z"
   },
   {
    "duration": 9,
    "start_time": "2021-11-04T16:08:07.474Z"
   },
   {
    "duration": 162,
    "start_time": "2021-11-04T16:08:07.484Z"
   },
   {
    "duration": 4,
    "start_time": "2021-11-04T16:08:07.648Z"
   },
   {
    "duration": 16,
    "start_time": "2021-11-04T16:08:07.654Z"
   },
   {
    "duration": 41,
    "start_time": "2021-11-04T16:08:07.672Z"
   },
   {
    "duration": 8,
    "start_time": "2021-11-04T16:08:07.715Z"
   },
   {
    "duration": 19,
    "start_time": "2021-11-04T16:08:07.725Z"
   },
   {
    "duration": 1042,
    "start_time": "2021-11-04T16:08:07.746Z"
   },
   {
    "duration": 142,
    "start_time": "2021-11-04T16:08:08.790Z"
   },
   {
    "duration": 8,
    "start_time": "2021-11-04T16:08:08.934Z"
   },
   {
    "duration": 23,
    "start_time": "2021-11-04T16:08:08.943Z"
   },
   {
    "duration": 43,
    "start_time": "2021-11-04T16:08:08.967Z"
   },
   {
    "duration": 240,
    "start_time": "2021-11-04T16:08:09.011Z"
   },
   {
    "duration": 40,
    "start_time": "2021-11-04T16:08:09.253Z"
   },
   {
    "duration": 242,
    "start_time": "2021-11-04T16:08:09.295Z"
   },
   {
    "duration": 409,
    "start_time": "2021-11-04T16:08:09.539Z"
   },
   {
    "duration": 247,
    "start_time": "2021-11-04T16:08:09.703Z"
   },
   {
    "duration": 234,
    "start_time": "2021-11-04T16:08:09.718Z"
   },
   {
    "duration": 224,
    "start_time": "2021-11-04T16:08:09.729Z"
   },
   {
    "duration": 214,
    "start_time": "2021-11-04T16:08:09.741Z"
   },
   {
    "duration": 206,
    "start_time": "2021-11-04T16:08:09.751Z"
   },
   {
    "duration": 193,
    "start_time": "2021-11-04T16:08:09.765Z"
   },
   {
    "duration": 183,
    "start_time": "2021-11-04T16:08:09.776Z"
   },
   {
    "duration": 171,
    "start_time": "2021-11-04T16:08:09.790Z"
   },
   {
    "duration": 159,
    "start_time": "2021-11-04T16:08:09.804Z"
   },
   {
    "duration": 116,
    "start_time": "2021-11-04T16:08:09.848Z"
   },
   {
    "duration": 107,
    "start_time": "2021-11-04T16:08:09.858Z"
   },
   {
    "duration": 96,
    "start_time": "2021-11-04T16:08:09.871Z"
   },
   {
    "duration": 84,
    "start_time": "2021-11-04T16:08:09.884Z"
   },
   {
    "duration": 72,
    "start_time": "2021-11-04T16:08:09.898Z"
   },
   {
    "duration": 62,
    "start_time": "2021-11-04T16:08:09.909Z"
   },
   {
    "duration": 52,
    "start_time": "2021-11-04T16:08:09.921Z"
   },
   {
    "duration": 41,
    "start_time": "2021-11-04T16:08:09.933Z"
   },
   {
    "duration": 28,
    "start_time": "2021-11-04T16:08:09.948Z"
   },
   {
    "duration": 15,
    "start_time": "2021-11-04T16:08:09.962Z"
   },
   {
    "duration": 5,
    "start_time": "2021-11-04T16:08:09.974Z"
   },
   {
    "duration": -4,
    "start_time": "2021-11-04T16:08:09.984Z"
   },
   {
    "duration": -14,
    "start_time": "2021-11-04T16:08:09.996Z"
   },
   {
    "duration": 30,
    "start_time": "2021-11-04T16:22:20.945Z"
   },
   {
    "duration": 29,
    "start_time": "2021-11-04T16:22:30.797Z"
   },
   {
    "duration": 32,
    "start_time": "2021-11-04T16:22:32.511Z"
   },
   {
    "duration": 45,
    "start_time": "2021-11-04T16:22:32.961Z"
   },
   {
    "duration": 8,
    "start_time": "2021-11-04T16:22:33.389Z"
   },
   {
    "duration": 38,
    "start_time": "2021-11-04T16:22:33.659Z"
   },
   {
    "duration": 355,
    "start_time": "2021-11-04T16:22:33.896Z"
   },
   {
    "duration": 7,
    "start_time": "2021-11-04T16:22:34.253Z"
   },
   {
    "duration": 40,
    "start_time": "2021-11-04T16:22:34.547Z"
   },
   {
    "duration": 39,
    "start_time": "2021-11-04T16:22:34.867Z"
   },
   {
    "duration": 42,
    "start_time": "2021-11-04T16:22:35.189Z"
   },
   {
    "duration": 39,
    "start_time": "2021-11-04T16:22:35.535Z"
   },
   {
    "duration": 35,
    "start_time": "2021-11-04T16:22:35.825Z"
   },
   {
    "duration": 234,
    "start_time": "2021-11-04T16:22:36.180Z"
   },
   {
    "duration": 37,
    "start_time": "2021-11-04T16:22:36.416Z"
   },
   {
    "duration": 40,
    "start_time": "2021-11-04T16:22:36.669Z"
   },
   {
    "duration": 42,
    "start_time": "2021-11-04T16:22:36.835Z"
   },
   {
    "duration": 41,
    "start_time": "2021-11-04T16:22:36.991Z"
   },
   {
    "duration": 40,
    "start_time": "2021-11-04T16:22:37.337Z"
   },
   {
    "duration": 489,
    "start_time": "2021-11-04T16:22:37.691Z"
   },
   {
    "duration": 668,
    "start_time": "2021-11-04T16:22:38.744Z"
   },
   {
    "duration": 24,
    "start_time": "2021-11-04T16:22:39.536Z"
   },
   {
    "duration": 21,
    "start_time": "2021-11-04T16:22:40.438Z"
   },
   {
    "duration": 40,
    "start_time": "2021-11-04T16:23:01.793Z"
   },
   {
    "duration": 724,
    "start_time": "2021-11-04T16:23:26.427Z"
   },
   {
    "duration": 79,
    "start_time": "2021-11-04T16:23:27.152Z"
   },
   {
    "duration": 11,
    "start_time": "2021-11-04T16:23:27.233Z"
   },
   {
    "duration": 13,
    "start_time": "2021-11-04T16:23:27.246Z"
   },
   {
    "duration": 6,
    "start_time": "2021-11-04T16:23:27.261Z"
   },
   {
    "duration": 41,
    "start_time": "2021-11-04T16:23:27.268Z"
   },
   {
    "duration": 12,
    "start_time": "2021-11-04T16:23:27.310Z"
   },
   {
    "duration": 10,
    "start_time": "2021-11-04T16:23:27.325Z"
   },
   {
    "duration": 16,
    "start_time": "2021-11-04T16:23:27.337Z"
   },
   {
    "duration": 6,
    "start_time": "2021-11-04T16:23:27.355Z"
   },
   {
    "duration": 11,
    "start_time": "2021-11-04T16:23:27.362Z"
   },
   {
    "duration": 31,
    "start_time": "2021-11-04T16:23:27.375Z"
   },
   {
    "duration": 8,
    "start_time": "2021-11-04T16:23:27.408Z"
   },
   {
    "duration": 4,
    "start_time": "2021-11-04T16:23:27.418Z"
   },
   {
    "duration": 1516,
    "start_time": "2021-11-04T16:23:27.424Z"
   },
   {
    "duration": 4,
    "start_time": "2021-11-04T16:23:28.942Z"
   },
   {
    "duration": 21,
    "start_time": "2021-11-04T16:23:28.948Z"
   },
   {
    "duration": 749,
    "start_time": "2021-11-04T16:23:28.971Z"
   },
   {
    "duration": 800,
    "start_time": "2021-11-04T16:23:29.723Z"
   },
   {
    "duration": 6,
    "start_time": "2021-11-04T16:23:30.524Z"
   },
   {
    "duration": 79,
    "start_time": "2021-11-04T16:23:30.532Z"
   },
   {
    "duration": 6,
    "start_time": "2021-11-04T16:23:30.613Z"
   },
   {
    "duration": 24,
    "start_time": "2021-11-04T16:23:30.623Z"
   },
   {
    "duration": 29,
    "start_time": "2021-11-04T16:23:30.649Z"
   },
   {
    "duration": 29,
    "start_time": "2021-11-04T16:23:30.680Z"
   },
   {
    "duration": 17,
    "start_time": "2021-11-04T16:23:30.711Z"
   },
   {
    "duration": 11,
    "start_time": "2021-11-04T16:23:30.730Z"
   },
   {
    "duration": 478,
    "start_time": "2021-11-04T16:23:30.743Z"
   },
   {
    "duration": 19,
    "start_time": "2021-11-04T16:23:31.223Z"
   },
   {
    "duration": 8,
    "start_time": "2021-11-04T16:23:31.244Z"
   },
   {
    "duration": 706,
    "start_time": "2021-11-04T16:23:31.254Z"
   },
   {
    "duration": 3,
    "start_time": "2021-11-04T16:23:31.962Z"
   },
   {
    "duration": 17,
    "start_time": "2021-11-04T16:23:31.967Z"
   },
   {
    "duration": 8,
    "start_time": "2021-11-04T16:23:31.986Z"
   },
   {
    "duration": 34,
    "start_time": "2021-11-04T16:23:31.996Z"
   },
   {
    "duration": 1808,
    "start_time": "2021-11-04T16:23:32.032Z"
   },
   {
    "duration": 8,
    "start_time": "2021-11-04T16:23:33.842Z"
   },
   {
    "duration": 166,
    "start_time": "2021-11-04T16:23:33.852Z"
   },
   {
    "duration": 3,
    "start_time": "2021-11-04T16:23:34.020Z"
   },
   {
    "duration": 21,
    "start_time": "2021-11-04T16:23:34.025Z"
   },
   {
    "duration": 30,
    "start_time": "2021-11-04T16:23:34.047Z"
   },
   {
    "duration": 12,
    "start_time": "2021-11-04T16:23:34.079Z"
   },
   {
    "duration": 2004,
    "start_time": "2021-11-04T16:23:34.107Z"
   },
   {
    "duration": 8,
    "start_time": "2021-11-04T16:23:36.113Z"
   },
   {
    "duration": 160,
    "start_time": "2021-11-04T16:23:36.123Z"
   },
   {
    "duration": 1812,
    "start_time": "2021-11-04T16:23:36.285Z"
   },
   {
    "duration": 13,
    "start_time": "2021-11-04T16:23:38.099Z"
   },
   {
    "duration": 146,
    "start_time": "2021-11-04T16:23:38.114Z"
   },
   {
    "duration": 4,
    "start_time": "2021-11-04T16:23:38.262Z"
   },
   {
    "duration": 16,
    "start_time": "2021-11-04T16:23:38.267Z"
   },
   {
    "duration": 38,
    "start_time": "2021-11-04T16:23:38.285Z"
   },
   {
    "duration": 8,
    "start_time": "2021-11-04T16:23:38.325Z"
   },
   {
    "duration": 19,
    "start_time": "2021-11-04T16:23:38.335Z"
   },
   {
    "duration": 1864,
    "start_time": "2021-11-04T16:23:38.356Z"
   },
   {
    "duration": 8,
    "start_time": "2021-11-04T16:23:40.222Z"
   },
   {
    "duration": 144,
    "start_time": "2021-11-04T16:23:40.232Z"
   },
   {
    "duration": 257,
    "start_time": "2021-11-04T16:23:40.378Z"
   },
   {
    "duration": 8,
    "start_time": "2021-11-04T16:23:40.637Z"
   },
   {
    "duration": 152,
    "start_time": "2021-11-04T16:23:40.647Z"
   },
   {
    "duration": 26,
    "start_time": "2021-11-04T16:23:40.800Z"
   },
   {
    "duration": 8,
    "start_time": "2021-11-04T16:23:40.828Z"
   },
   {
    "duration": 14,
    "start_time": "2021-11-04T16:23:40.838Z"
   },
   {
    "duration": 266,
    "start_time": "2021-11-04T16:23:40.854Z"
   },
   {
    "duration": 8,
    "start_time": "2021-11-04T16:23:41.121Z"
   },
   {
    "duration": 150,
    "start_time": "2021-11-04T16:23:41.131Z"
   },
   {
    "duration": 753,
    "start_time": "2021-11-04T16:23:41.283Z"
   },
   {
    "duration": 8,
    "start_time": "2021-11-04T16:23:42.038Z"
   },
   {
    "duration": 146,
    "start_time": "2021-11-04T16:23:42.052Z"
   },
   {
    "duration": 25,
    "start_time": "2021-11-04T16:23:42.200Z"
   },
   {
    "duration": 11,
    "start_time": "2021-11-04T16:23:42.226Z"
   },
   {
    "duration": 5,
    "start_time": "2021-11-04T16:23:42.239Z"
   },
   {
    "duration": 13,
    "start_time": "2021-11-04T16:23:42.246Z"
   },
   {
    "duration": 52,
    "start_time": "2021-11-04T16:23:42.260Z"
   },
   {
    "duration": 9,
    "start_time": "2021-11-04T16:23:42.314Z"
   },
   {
    "duration": 15,
    "start_time": "2021-11-04T16:23:42.325Z"
   },
   {
    "duration": 8,
    "start_time": "2021-11-04T16:23:42.341Z"
   },
   {
    "duration": 669,
    "start_time": "2021-11-04T16:23:42.350Z"
   },
   {
    "duration": 147,
    "start_time": "2021-11-04T16:23:43.020Z"
   },
   {
    "duration": 24,
    "start_time": "2021-11-04T16:23:43.168Z"
   },
   {
    "duration": 500,
    "start_time": "2021-11-04T16:23:43.193Z"
   },
   {
    "duration": 13,
    "start_time": "2021-11-04T16:23:43.695Z"
   },
   {
    "duration": 1059,
    "start_time": "2021-11-04T16:23:43.710Z"
   },
   {
    "duration": 8,
    "start_time": "2021-11-04T16:23:44.770Z"
   },
   {
    "duration": 146,
    "start_time": "2021-11-04T16:23:44.780Z"
   },
   {
    "duration": 4,
    "start_time": "2021-11-04T16:23:44.928Z"
   },
   {
    "duration": 26,
    "start_time": "2021-11-04T16:23:44.934Z"
   },
   {
    "duration": 31,
    "start_time": "2021-11-04T16:23:44.962Z"
   },
   {
    "duration": 9,
    "start_time": "2021-11-04T16:23:44.995Z"
   },
   {
    "duration": 25,
    "start_time": "2021-11-04T16:23:45.006Z"
   },
   {
    "duration": 997,
    "start_time": "2021-11-04T16:23:45.033Z"
   },
   {
    "duration": 143,
    "start_time": "2021-11-04T16:23:46.032Z"
   },
   {
    "duration": 8,
    "start_time": "2021-11-04T16:23:46.177Z"
   },
   {
    "duration": 28,
    "start_time": "2021-11-04T16:23:46.187Z"
   },
   {
    "duration": 36,
    "start_time": "2021-11-04T16:23:46.217Z"
   },
   {
    "duration": 253,
    "start_time": "2021-11-04T16:23:46.255Z"
   },
   {
    "duration": 39,
    "start_time": "2021-11-04T16:23:46.511Z"
   },
   {
    "duration": 240,
    "start_time": "2021-11-04T16:23:46.552Z"
   },
   {
    "duration": 37,
    "start_time": "2021-11-04T16:23:46.794Z"
   },
   {
    "duration": 25,
    "start_time": "2021-11-04T16:23:46.833Z"
   },
   {
    "duration": 51,
    "start_time": "2021-11-04T16:23:46.860Z"
   },
   {
    "duration": 41,
    "start_time": "2021-11-04T16:23:46.913Z"
   },
   {
    "duration": 7,
    "start_time": "2021-11-04T16:23:46.956Z"
   },
   {
    "duration": 65,
    "start_time": "2021-11-04T16:23:46.964Z"
   },
   {
    "duration": 350,
    "start_time": "2021-11-04T16:23:47.031Z"
   },
   {
    "duration": 6,
    "start_time": "2021-11-04T16:23:47.383Z"
   },
   {
    "duration": 45,
    "start_time": "2021-11-04T16:23:47.390Z"
   },
   {
    "duration": 38,
    "start_time": "2021-11-04T16:23:47.437Z"
   },
   {
    "duration": 60,
    "start_time": "2021-11-04T16:23:47.477Z"
   },
   {
    "duration": 53,
    "start_time": "2021-11-04T16:23:47.539Z"
   },
   {
    "duration": 36,
    "start_time": "2021-11-04T16:23:47.594Z"
   },
   {
    "duration": 224,
    "start_time": "2021-11-04T16:23:47.632Z"
   },
   {
    "duration": 35,
    "start_time": "2021-11-04T16:23:47.858Z"
   },
   {
    "duration": 48,
    "start_time": "2021-11-04T16:23:47.894Z"
   },
   {
    "duration": 64,
    "start_time": "2021-11-04T16:23:47.944Z"
   },
   {
    "duration": 39,
    "start_time": "2021-11-04T16:23:48.010Z"
   },
   {
    "duration": 56,
    "start_time": "2021-11-04T16:23:48.050Z"
   },
   {
    "duration": 38,
    "start_time": "2021-11-04T16:23:48.108Z"
   },
   {
    "duration": 685,
    "start_time": "2021-11-04T16:23:48.147Z"
   },
   {
    "duration": 20,
    "start_time": "2021-11-04T16:23:48.834Z"
   },
   {
    "duration": 17,
    "start_time": "2021-11-04T16:23:48.856Z"
   },
   {
    "duration": 1016,
    "start_time": "2021-11-07T11:57:51.156Z"
   },
   {
    "duration": 103,
    "start_time": "2021-11-07T11:57:52.178Z"
   },
   {
    "duration": 16,
    "start_time": "2021-11-07T11:57:52.284Z"
   },
   {
    "duration": 39,
    "start_time": "2021-11-07T11:57:52.303Z"
   },
   {
    "duration": 10,
    "start_time": "2021-11-07T11:57:52.345Z"
   },
   {
    "duration": 12,
    "start_time": "2021-11-07T11:57:52.358Z"
   },
   {
    "duration": 8,
    "start_time": "2021-11-07T11:57:52.373Z"
   },
   {
    "duration": 44,
    "start_time": "2021-11-07T11:57:52.385Z"
   },
   {
    "duration": 22,
    "start_time": "2021-11-07T11:57:52.433Z"
   },
   {
    "duration": 6,
    "start_time": "2021-11-07T11:57:52.457Z"
   },
   {
    "duration": 6,
    "start_time": "2021-11-07T11:57:52.466Z"
   },
   {
    "duration": 65,
    "start_time": "2021-11-07T11:57:52.475Z"
   },
   {
    "duration": 18,
    "start_time": "2021-11-07T11:57:52.544Z"
   },
   {
    "duration": 7,
    "start_time": "2021-11-07T11:57:52.564Z"
   },
   {
    "duration": 2452,
    "start_time": "2021-11-07T11:57:52.574Z"
   },
   {
    "duration": 8,
    "start_time": "2021-11-07T11:57:55.029Z"
   },
   {
    "duration": 11,
    "start_time": "2021-11-07T11:57:55.040Z"
   },
   {
    "duration": 1317,
    "start_time": "2021-11-07T11:57:55.053Z"
   },
   {
    "duration": 1399,
    "start_time": "2021-11-07T11:57:56.372Z"
   },
   {
    "duration": 8,
    "start_time": "2021-11-07T11:57:57.774Z"
   },
   {
    "duration": 71,
    "start_time": "2021-11-07T11:57:57.784Z"
   },
   {
    "duration": 11,
    "start_time": "2021-11-07T11:57:57.858Z"
   },
   {
    "duration": 45,
    "start_time": "2021-11-07T11:57:57.879Z"
   },
   {
    "duration": 23,
    "start_time": "2021-11-07T11:57:57.929Z"
   },
   {
    "duration": 13,
    "start_time": "2021-11-07T11:57:57.956Z"
   },
   {
    "duration": 70,
    "start_time": "2021-11-07T11:57:57.972Z"
   },
   {
    "duration": 5,
    "start_time": "2021-11-07T11:57:58.045Z"
   },
   {
    "duration": 1401,
    "start_time": "2021-11-07T11:57:58.053Z"
   },
   {
    "duration": 24,
    "start_time": "2021-11-07T11:57:59.456Z"
   },
   {
    "duration": 4,
    "start_time": "2021-11-07T11:57:59.483Z"
   },
   {
    "duration": 1053,
    "start_time": "2021-11-07T11:57:59.489Z"
   },
   {
    "duration": 5,
    "start_time": "2021-11-07T11:58:00.545Z"
   },
   {
    "duration": 6,
    "start_time": "2021-11-07T11:58:00.555Z"
   },
   {
    "duration": 10,
    "start_time": "2021-11-07T11:58:00.563Z"
   },
   {
    "duration": 17,
    "start_time": "2021-11-07T11:58:00.575Z"
   },
   {
    "duration": 3421,
    "start_time": "2021-11-07T11:58:00.594Z"
   },
   {
    "duration": 16,
    "start_time": "2021-11-07T11:58:04.018Z"
   },
   {
    "duration": 264,
    "start_time": "2021-11-07T11:58:04.041Z"
   },
   {
    "duration": 6,
    "start_time": "2021-11-07T11:58:04.307Z"
   },
   {
    "duration": 20,
    "start_time": "2021-11-07T11:58:04.324Z"
   },
   {
    "duration": 40,
    "start_time": "2021-11-07T11:58:04.349Z"
   },
   {
    "duration": 48,
    "start_time": "2021-11-07T11:58:04.391Z"
   },
   {
    "duration": 3633,
    "start_time": "2021-11-07T11:58:04.442Z"
   },
   {
    "duration": 11,
    "start_time": "2021-11-07T11:58:08.077Z"
   },
   {
    "duration": 277,
    "start_time": "2021-11-07T11:58:08.091Z"
   },
   {
    "duration": 3534,
    "start_time": "2021-11-07T11:58:08.370Z"
   },
   {
    "duration": 29,
    "start_time": "2021-11-07T11:58:11.907Z"
   },
   {
    "duration": 250,
    "start_time": "2021-11-07T11:58:11.939Z"
   },
   {
    "duration": 7,
    "start_time": "2021-11-07T11:58:12.191Z"
   },
   {
    "duration": 49,
    "start_time": "2021-11-07T11:58:12.200Z"
   },
   {
    "duration": 39,
    "start_time": "2021-11-07T11:58:12.251Z"
   },
   {
    "duration": 12,
    "start_time": "2021-11-07T11:58:12.292Z"
   },
   {
    "duration": 21,
    "start_time": "2021-11-07T11:58:12.324Z"
   },
   {
    "duration": 3466,
    "start_time": "2021-11-07T11:58:12.348Z"
   },
   {
    "duration": 19,
    "start_time": "2021-11-07T11:58:15.816Z"
   },
   {
    "duration": 256,
    "start_time": "2021-11-07T11:58:15.843Z"
   },
   {
    "duration": 464,
    "start_time": "2021-11-07T11:58:16.101Z"
   },
   {
    "duration": 13,
    "start_time": "2021-11-07T11:58:16.568Z"
   },
   {
    "duration": 262,
    "start_time": "2021-11-07T11:58:16.584Z"
   },
   {
    "duration": 36,
    "start_time": "2021-11-07T11:58:16.851Z"
   },
   {
    "duration": 42,
    "start_time": "2021-11-07T11:58:16.890Z"
   },
   {
    "duration": 23,
    "start_time": "2021-11-07T11:58:16.935Z"
   },
   {
    "duration": 573,
    "start_time": "2021-11-07T11:58:16.961Z"
   },
   {
    "duration": 18,
    "start_time": "2021-11-07T11:58:17.536Z"
   },
   {
    "duration": 256,
    "start_time": "2021-11-07T11:58:17.557Z"
   },
   {
    "duration": 1337,
    "start_time": "2021-11-07T11:58:17.816Z"
   },
   {
    "duration": 13,
    "start_time": "2021-11-07T11:58:19.155Z"
   },
   {
    "duration": 257,
    "start_time": "2021-11-07T11:58:19.178Z"
   },
   {
    "duration": 35,
    "start_time": "2021-11-07T11:58:19.439Z"
   },
   {
    "duration": 15,
    "start_time": "2021-11-07T11:58:19.476Z"
   },
   {
    "duration": 40,
    "start_time": "2021-11-07T11:58:19.493Z"
   },
   {
    "duration": 23,
    "start_time": "2021-11-07T11:58:19.537Z"
   },
   {
    "duration": 62,
    "start_time": "2021-11-07T11:58:19.563Z"
   },
   {
    "duration": 20,
    "start_time": "2021-11-07T11:58:19.628Z"
   },
   {
    "duration": 22,
    "start_time": "2021-11-07T11:58:19.652Z"
   },
   {
    "duration": 18,
    "start_time": "2021-11-07T11:58:19.676Z"
   },
   {
    "duration": 1428,
    "start_time": "2021-11-07T11:58:19.696Z"
   },
   {
    "duration": 251,
    "start_time": "2021-11-07T11:58:21.128Z"
   },
   {
    "duration": 58,
    "start_time": "2021-11-07T11:58:21.382Z"
   },
   {
    "duration": 884,
    "start_time": "2021-11-07T11:58:21.443Z"
   },
   {
    "duration": 20,
    "start_time": "2021-11-07T11:58:22.330Z"
   },
   {
    "duration": 2020,
    "start_time": "2021-11-07T11:58:22.353Z"
   },
   {
    "duration": 12,
    "start_time": "2021-11-07T11:58:24.376Z"
   },
   {
    "duration": 268,
    "start_time": "2021-11-07T11:58:24.390Z"
   },
   {
    "duration": 6,
    "start_time": "2021-11-07T11:58:24.661Z"
   },
   {
    "duration": 26,
    "start_time": "2021-11-07T11:58:24.669Z"
   },
   {
    "duration": 61,
    "start_time": "2021-11-07T11:58:24.698Z"
   },
   {
    "duration": 13,
    "start_time": "2021-11-07T11:58:24.761Z"
   },
   {
    "duration": 14,
    "start_time": "2021-11-07T11:58:24.777Z"
   },
   {
    "duration": 1897,
    "start_time": "2021-11-07T11:58:24.794Z"
   },
   {
    "duration": 258,
    "start_time": "2021-11-07T11:58:26.693Z"
   },
   {
    "duration": 12,
    "start_time": "2021-11-07T11:58:26.954Z"
   },
   {
    "duration": 21,
    "start_time": "2021-11-07T11:58:26.969Z"
   },
   {
    "duration": 87,
    "start_time": "2021-11-07T11:58:26.992Z"
   },
   {
    "duration": 416,
    "start_time": "2021-11-07T11:58:27.082Z"
   },
   {
    "duration": 92,
    "start_time": "2021-11-07T11:58:27.501Z"
   },
   {
    "duration": 393,
    "start_time": "2021-11-07T11:58:27.595Z"
   },
   {
    "duration": 69,
    "start_time": "2021-11-07T11:58:27.990Z"
   },
   {
    "duration": 63,
    "start_time": "2021-11-07T11:58:28.062Z"
   },
   {
    "duration": 55,
    "start_time": "2021-11-07T11:58:28.129Z"
   },
   {
    "duration": 91,
    "start_time": "2021-11-07T11:58:28.187Z"
   },
   {
    "duration": 17,
    "start_time": "2021-11-07T11:58:28.280Z"
   },
   {
    "duration": 83,
    "start_time": "2021-11-07T11:58:28.299Z"
   },
   {
    "duration": 605,
    "start_time": "2021-11-07T11:58:28.385Z"
   },
   {
    "duration": 9,
    "start_time": "2021-11-07T11:58:28.993Z"
   },
   {
    "duration": 75,
    "start_time": "2021-11-07T11:58:29.005Z"
   },
   {
    "duration": 90,
    "start_time": "2021-11-07T11:58:29.082Z"
   },
   {
    "duration": 89,
    "start_time": "2021-11-07T11:58:29.175Z"
   },
   {
    "duration": 81,
    "start_time": "2021-11-07T11:58:29.267Z"
   },
   {
    "duration": 73,
    "start_time": "2021-11-07T11:58:29.352Z"
   },
   {
    "duration": 376,
    "start_time": "2021-11-07T11:58:29.427Z"
   },
   {
    "duration": 80,
    "start_time": "2021-11-07T11:58:29.806Z"
   },
   {
    "duration": 82,
    "start_time": "2021-11-07T11:58:29.889Z"
   },
   {
    "duration": 106,
    "start_time": "2021-11-07T11:58:29.973Z"
   },
   {
    "duration": 74,
    "start_time": "2021-11-07T11:58:30.081Z"
   },
   {
    "duration": 93,
    "start_time": "2021-11-07T11:58:30.158Z"
   },
   {
    "duration": 75,
    "start_time": "2021-11-07T11:58:30.254Z"
   },
   {
    "duration": 1183,
    "start_time": "2021-11-07T11:58:30.333Z"
   },
   {
    "duration": 41,
    "start_time": "2021-11-07T11:58:31.522Z"
   },
   {
    "duration": 28,
    "start_time": "2021-11-07T11:58:31.565Z"
   },
   {
    "duration": 365,
    "start_time": "2021-11-07T12:24:17.063Z"
   },
   {
    "duration": 914,
    "start_time": "2021-11-07T12:27:34.670Z"
   },
   {
    "duration": 94,
    "start_time": "2021-11-07T12:27:35.587Z"
   },
   {
    "duration": 14,
    "start_time": "2021-11-07T12:27:35.684Z"
   },
   {
    "duration": 29,
    "start_time": "2021-11-07T12:27:35.701Z"
   },
   {
    "duration": 7,
    "start_time": "2021-11-07T12:27:35.733Z"
   },
   {
    "duration": 17,
    "start_time": "2021-11-07T12:27:35.742Z"
   },
   {
    "duration": 15,
    "start_time": "2021-11-07T12:27:35.763Z"
   },
   {
    "duration": 42,
    "start_time": "2021-11-07T12:27:35.782Z"
   },
   {
    "duration": 19,
    "start_time": "2021-11-07T12:27:35.829Z"
   },
   {
    "duration": 5,
    "start_time": "2021-11-07T12:27:35.851Z"
   },
   {
    "duration": 6,
    "start_time": "2021-11-07T12:27:35.858Z"
   },
   {
    "duration": 24,
    "start_time": "2021-11-07T12:27:35.866Z"
   },
   {
    "duration": 15,
    "start_time": "2021-11-07T12:27:35.924Z"
   },
   {
    "duration": 6,
    "start_time": "2021-11-07T12:27:35.941Z"
   },
   {
    "duration": 2268,
    "start_time": "2021-11-07T12:27:35.949Z"
   },
   {
    "duration": 8,
    "start_time": "2021-11-07T12:27:38.222Z"
   },
   {
    "duration": 7,
    "start_time": "2021-11-07T12:27:38.233Z"
   },
   {
    "duration": 1304,
    "start_time": "2021-11-07T12:27:38.242Z"
   },
   {
    "duration": 1378,
    "start_time": "2021-11-07T12:27:39.549Z"
   },
   {
    "duration": 12,
    "start_time": "2021-11-07T12:27:40.931Z"
   },
   {
    "duration": 35,
    "start_time": "2021-11-07T12:27:40.946Z"
   },
   {
    "duration": 46,
    "start_time": "2021-11-07T12:27:40.985Z"
   },
   {
    "duration": 15,
    "start_time": "2021-11-07T12:27:41.042Z"
   },
   {
    "duration": 25,
    "start_time": "2021-11-07T12:27:41.062Z"
   },
   {
    "duration": 12,
    "start_time": "2021-11-07T12:27:41.090Z"
   },
   {
    "duration": 39,
    "start_time": "2021-11-07T12:27:41.104Z"
   },
   {
    "duration": 5,
    "start_time": "2021-11-07T12:27:41.146Z"
   },
   {
    "duration": 892,
    "start_time": "2021-11-07T12:27:41.154Z"
   },
   {
    "duration": 28,
    "start_time": "2021-11-07T12:27:42.048Z"
   },
   {
    "duration": 4,
    "start_time": "2021-11-07T12:27:42.079Z"
   },
   {
    "duration": 1040,
    "start_time": "2021-11-07T12:27:42.085Z"
   },
   {
    "duration": 5,
    "start_time": "2021-11-07T12:27:43.128Z"
   },
   {
    "duration": 8,
    "start_time": "2021-11-07T12:27:43.136Z"
   },
   {
    "duration": 9,
    "start_time": "2021-11-07T12:27:43.147Z"
   },
   {
    "duration": 20,
    "start_time": "2021-11-07T12:27:43.158Z"
   },
   {
    "duration": 3250,
    "start_time": "2021-11-07T12:27:43.180Z"
   },
   {
    "duration": 12,
    "start_time": "2021-11-07T12:27:46.437Z"
   },
   {
    "duration": 253,
    "start_time": "2021-11-07T12:27:46.452Z"
   },
   {
    "duration": 16,
    "start_time": "2021-11-07T12:27:46.708Z"
   },
   {
    "duration": 19,
    "start_time": "2021-11-07T12:27:46.728Z"
   },
   {
    "duration": 38,
    "start_time": "2021-11-07T12:27:46.749Z"
   },
   {
    "duration": 43,
    "start_time": "2021-11-07T12:27:46.789Z"
   },
   {
    "duration": 4005,
    "start_time": "2021-11-07T12:27:46.836Z"
   },
   {
    "duration": 11,
    "start_time": "2021-11-07T12:27:50.844Z"
   },
   {
    "duration": 381,
    "start_time": "2021-11-07T12:27:50.857Z"
   },
   {
    "duration": 3771,
    "start_time": "2021-11-07T12:27:51.241Z"
   },
   {
    "duration": 21,
    "start_time": "2021-11-07T12:27:55.015Z"
   },
   {
    "duration": 254,
    "start_time": "2021-11-07T12:27:55.039Z"
   },
   {
    "duration": 6,
    "start_time": "2021-11-07T12:27:55.296Z"
   },
   {
    "duration": 38,
    "start_time": "2021-11-07T12:27:55.305Z"
   },
   {
    "duration": 42,
    "start_time": "2021-11-07T12:27:55.345Z"
   },
   {
    "duration": 12,
    "start_time": "2021-11-07T12:27:55.389Z"
   },
   {
    "duration": 22,
    "start_time": "2021-11-07T12:27:55.424Z"
   },
   {
    "duration": 3342,
    "start_time": "2021-11-07T12:27:55.448Z"
   },
   {
    "duration": 11,
    "start_time": "2021-11-07T12:27:58.793Z"
   },
   {
    "duration": 252,
    "start_time": "2021-11-07T12:27:58.806Z"
   },
   {
    "duration": 437,
    "start_time": "2021-11-07T12:27:59.060Z"
   },
   {
    "duration": 22,
    "start_time": "2021-11-07T12:27:59.500Z"
   },
   {
    "duration": 233,
    "start_time": "2021-11-07T12:27:59.525Z"
   },
   {
    "duration": 33,
    "start_time": "2021-11-07T12:27:59.762Z"
   },
   {
    "duration": 37,
    "start_time": "2021-11-07T12:27:59.798Z"
   },
   {
    "duration": 13,
    "start_time": "2021-11-07T12:27:59.839Z"
   },
   {
    "duration": 456,
    "start_time": "2021-11-07T12:27:59.855Z"
   },
   {
    "duration": 22,
    "start_time": "2021-11-07T12:28:00.313Z"
   },
   {
    "duration": 242,
    "start_time": "2021-11-07T12:28:00.338Z"
   },
   {
    "duration": 1293,
    "start_time": "2021-11-07T12:28:00.582Z"
   },
   {
    "duration": 12,
    "start_time": "2021-11-07T12:28:01.877Z"
   },
   {
    "duration": 257,
    "start_time": "2021-11-07T12:28:01.899Z"
   },
   {
    "duration": 29,
    "start_time": "2021-11-07T12:28:02.160Z"
   },
   {
    "duration": 44,
    "start_time": "2021-11-07T12:28:02.192Z"
   },
   {
    "duration": 13,
    "start_time": "2021-11-07T12:28:02.239Z"
   },
   {
    "duration": 22,
    "start_time": "2021-11-07T12:28:02.254Z"
   },
   {
    "duration": 53,
    "start_time": "2021-11-07T12:28:02.279Z"
   },
   {
    "duration": 15,
    "start_time": "2021-11-07T12:28:02.335Z"
   },
   {
    "duration": 56,
    "start_time": "2021-11-07T12:28:02.354Z"
   },
   {
    "duration": 24,
    "start_time": "2021-11-07T12:28:02.413Z"
   },
   {
    "duration": 1245,
    "start_time": "2021-11-07T12:28:02.440Z"
   },
   {
    "duration": 248,
    "start_time": "2021-11-07T12:28:03.688Z"
   },
   {
    "duration": 35,
    "start_time": "2021-11-07T12:28:03.939Z"
   },
   {
    "duration": 860,
    "start_time": "2021-11-07T12:28:03.977Z"
   },
   {
    "duration": 12,
    "start_time": "2021-11-07T12:28:04.840Z"
   },
   {
    "duration": 1958,
    "start_time": "2021-11-07T12:28:04.854Z"
   },
   {
    "duration": 18,
    "start_time": "2021-11-07T12:28:06.823Z"
   },
   {
    "duration": 262,
    "start_time": "2021-11-07T12:28:06.843Z"
   },
   {
    "duration": 18,
    "start_time": "2021-11-07T12:28:07.107Z"
   },
   {
    "duration": 34,
    "start_time": "2021-11-07T12:28:07.128Z"
   },
   {
    "duration": 35,
    "start_time": "2021-11-07T12:28:07.168Z"
   },
   {
    "duration": 27,
    "start_time": "2021-11-07T12:28:07.205Z"
   },
   {
    "duration": 15,
    "start_time": "2021-11-07T12:28:07.235Z"
   },
   {
    "duration": 1921,
    "start_time": "2021-11-07T12:28:07.252Z"
   },
   {
    "duration": 234,
    "start_time": "2021-11-07T12:28:09.176Z"
   },
   {
    "duration": 24,
    "start_time": "2021-11-07T12:28:09.412Z"
   },
   {
    "duration": 23,
    "start_time": "2021-11-07T12:28:09.440Z"
   },
   {
    "duration": 93,
    "start_time": "2021-11-07T12:28:09.465Z"
   },
   {
    "duration": 379,
    "start_time": "2021-11-07T12:28:09.561Z"
   },
   {
    "duration": 87,
    "start_time": "2021-11-07T12:28:09.943Z"
   },
   {
    "duration": 398,
    "start_time": "2021-11-07T12:28:10.034Z"
   },
   {
    "duration": 49,
    "start_time": "2021-11-07T12:28:10.435Z"
   },
   {
    "duration": 71,
    "start_time": "2021-11-07T12:28:10.487Z"
   },
   {
    "duration": 65,
    "start_time": "2021-11-07T12:28:10.562Z"
   },
   {
    "duration": 67,
    "start_time": "2021-11-07T12:28:10.630Z"
   },
   {
    "duration": 33,
    "start_time": "2021-11-07T12:28:10.699Z"
   },
   {
    "duration": 60,
    "start_time": "2021-11-07T12:28:10.736Z"
   },
   {
    "duration": 600,
    "start_time": "2021-11-07T12:28:10.824Z"
   },
   {
    "duration": 15,
    "start_time": "2021-11-07T12:28:11.428Z"
   },
   {
    "duration": 111,
    "start_time": "2021-11-07T12:28:11.446Z"
   },
   {
    "duration": 82,
    "start_time": "2021-11-07T12:28:11.559Z"
   },
   {
    "duration": 91,
    "start_time": "2021-11-07T12:28:11.643Z"
   },
   {
    "duration": 59,
    "start_time": "2021-11-07T12:28:11.739Z"
   },
   {
    "duration": 56,
    "start_time": "2021-11-07T12:28:11.825Z"
   },
   {
    "duration": 397,
    "start_time": "2021-11-07T12:28:11.884Z"
   },
   {
    "duration": 83,
    "start_time": "2021-11-07T12:28:12.284Z"
   },
   {
    "duration": 81,
    "start_time": "2021-11-07T12:28:12.369Z"
   },
   {
    "duration": 99,
    "start_time": "2021-11-07T12:28:12.453Z"
   },
   {
    "duration": 90,
    "start_time": "2021-11-07T12:28:12.555Z"
   },
   {
    "duration": 64,
    "start_time": "2021-11-07T12:28:12.650Z"
   },
   {
    "duration": 68,
    "start_time": "2021-11-07T12:28:12.725Z"
   },
   {
    "duration": 1187,
    "start_time": "2021-11-07T12:28:12.796Z"
   },
   {
    "duration": 57,
    "start_time": "2021-11-07T12:28:13.985Z"
   },
   {
    "duration": 29,
    "start_time": "2021-11-07T12:28:14.045Z"
   }
  ],
  "kernelspec": {
   "display_name": "Python 3",
   "language": "python",
   "name": "python3"
  },
  "language_info": {
   "codemirror_mode": {
    "name": "ipython",
    "version": 3
   },
   "file_extension": ".py",
   "mimetype": "text/x-python",
   "name": "python",
   "nbconvert_exporter": "python",
   "pygments_lexer": "ipython3",
   "version": "3.7.8"
  },
  "toc": {
   "base_numbering": 1,
   "nav_menu": {},
   "number_sections": true,
   "sideBar": true,
   "skip_h1_title": true,
   "title_cell": "Содержание",
   "title_sidebar": "Contents",
   "toc_cell": true,
   "toc_position": {
    "height": "calc(100% - 180px)",
    "left": "10px",
    "top": "150px",
    "width": "165px"
   },
   "toc_section_display": true,
   "toc_window_display": true
  }
 },
 "nbformat": 4,
 "nbformat_minor": 2
}
