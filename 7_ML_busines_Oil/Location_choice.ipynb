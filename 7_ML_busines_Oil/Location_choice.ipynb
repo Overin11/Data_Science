{
 "cells": [
  {
   "cell_type": "markdown",
   "metadata": {
    "toc": true
   },
   "source": [
    "<h1>Содержание<span class=\"tocSkip\"></span></h1>\n",
    "<div class=\"toc\"><ul class=\"toc-item\"><li><span><a href=\"#Загрузка-и-подготовка-данных\" data-toc-modified-id=\"Загрузка-и-подготовка-данных-1\"><span class=\"toc-item-num\">1&nbsp;&nbsp;</span>Загрузка и подготовка данных</a></span></li><li><span><a href=\"#Обучение-и-проверка-модели\" data-toc-modified-id=\"Обучение-и-проверка-модели-2\"><span class=\"toc-item-num\">2&nbsp;&nbsp;</span>Обучение и проверка модели</a></span><ul class=\"toc-item\"><li><span><a href=\"#Разбил-данные-на-обучающую-и-валидационную-выборки-в-соотношении-75:25.\" data-toc-modified-id=\"Разбил-данные-на-обучающую-и-валидационную-выборки-в-соотношении-75:25.-2.1\"><span class=\"toc-item-num\">2.1&nbsp;&nbsp;</span>Разбил данные на обучающую и валидационную выборки в соотношении 75:25.</a></span></li><li><span><a href=\"#Обучил-модель-и-сделал-предсказания-на-валидационной-выборке.\" data-toc-modified-id=\"Обучил-модель-и-сделал-предсказания-на-валидационной-выборке.-2.2\"><span class=\"toc-item-num\">2.2&nbsp;&nbsp;</span>Обучил модель и сделал предсказания на валидационной выборке.</a></span></li><li><span><a href=\"#Напечатайте-на-экране-средний-запас-предсказанного-сырья-и-RMSE-модели\" data-toc-modified-id=\"Напечатайте-на-экране-средний-запас-предсказанного-сырья-и-RMSE-модели-2.3\"><span class=\"toc-item-num\">2.3&nbsp;&nbsp;</span>Напечатайте на экране средний запас предсказанного сырья и RMSE модели</a></span></li></ul></li><li><span><a href=\"#Подготовка-к-расчёту-прибыли\" data-toc-modified-id=\"Подготовка-к-расчёту-прибыли-3\"><span class=\"toc-item-num\">3&nbsp;&nbsp;</span>Подготовка к расчёту прибыли</a></span><ul class=\"toc-item\"><li><span><a href=\"#Все-ключевые-значения-для-расчётов-сохранил-в-отдельных-переменных\" data-toc-modified-id=\"Все-ключевые-значения-для-расчётов-сохранил-в-отдельных-переменных-3.1\"><span class=\"toc-item-num\">3.1&nbsp;&nbsp;</span>Все ключевые значения для расчётов сохранил в отдельных переменных</a></span></li><li><span><a href=\"#Рассчитал-достаточный-объём-сырья-для-безубыточной-разработки-новой-скважины.-Сравнил-полученный-объём-сырья-со-средним-запасом-в-каждом-регионе.\" data-toc-modified-id=\"Рассчитал-достаточный-объём-сырья-для-безубыточной-разработки-новой-скважины.-Сравнил-полученный-объём-сырья-со-средним-запасом-в-каждом-регионе.-3.2\"><span class=\"toc-item-num\">3.2&nbsp;&nbsp;</span>Рассчитал достаточный объём сырья для безубыточной разработки новой скважины. Сравнил полученный объём сырья со средним запасом в каждом регионе.</a></span></li></ul></li><li><span><a href=\"#Расчёт-прибыли-и-рисков\" data-toc-modified-id=\"Расчёт-прибыли-и-рисков-4\"><span class=\"toc-item-num\">4&nbsp;&nbsp;</span>Расчёт прибыли и рисков</a></span><ul class=\"toc-item\"><li><span><a href=\"#Выбрал-скважины-с-максимальными-значениями-предсказаний,-просуммировал-целевое-значение-объёма-сырья,-соответствующее-этим-предсказаниям.-Рассчитал-прибыль-для-полученного-объёма-сырья.\" data-toc-modified-id=\"Выбрал-скважины-с-максимальными-значениями-предсказаний,-просуммировал-целевое-значение-объёма-сырья,-соответствующее-этим-предсказаниям.-Рассчитал-прибыль-для-полученного-объёма-сырья.-4.1\"><span class=\"toc-item-num\">4.1&nbsp;&nbsp;</span>Выбрал скважины с максимальными значениями предсказаний, просуммировал целевое значение объёма сырья, соответствующее этим предсказаниям. Рассчитал прибыль для полученного объёма сырья.</a></span></li><li><span><a href=\"#Графики\" data-toc-modified-id=\"Графики-4.2\"><span class=\"toc-item-num\">4.2&nbsp;&nbsp;</span>Графики</a></span></li></ul></li><li><span><a href=\"#Рассчёт-риски-и-прибыль-для-каждого-региона:\" data-toc-modified-id=\"Рассчёт-риски-и-прибыль-для-каждого-региона:-5\"><span class=\"toc-item-num\">5&nbsp;&nbsp;</span>Рассчёт риски и прибыль для каждого региона:</a></span><ul class=\"toc-item\"><li><span><a href=\"#Применил-технику-Bootstrap-с-1000-выборок,-чтобы-найти-распределение-прибыли.\" data-toc-modified-id=\"Применил-технику-Bootstrap-с-1000-выборок,-чтобы-найти-распределение-прибыли.-5.1\"><span class=\"toc-item-num\">5.1&nbsp;&nbsp;</span>Применил технику Bootstrap с 1000 выборок, чтобы найти распределение прибыли.</a></span></li><li><span><a href=\"#Нашёл-среднюю-прибыль,-95%-й-доверительный-интервал-и-риск-убытков.\" data-toc-modified-id=\"Нашёл-среднюю-прибыль,-95%-й-доверительный-интервал-и-риск-убытков.-5.2\"><span class=\"toc-item-num\">5.2&nbsp;&nbsp;</span>Нашёл среднюю прибыль, 95%-й доверительный интервал и риск убытков.</a></span></li></ul></li><li><span><a href=\"#Вывод\" data-toc-modified-id=\"Вывод-6\"><span class=\"toc-item-num\">6&nbsp;&nbsp;</span>Вывод</a></span></li><li><span><a href=\"#Чек-лист-готовности-проекта\" data-toc-modified-id=\"Чек-лист-готовности-проекта-7\"><span class=\"toc-item-num\">7&nbsp;&nbsp;</span>Чек-лист готовности проекта</a></span></li></ul></div>"
   ]
  },
  {
   "cell_type": "markdown",
   "metadata": {},
   "source": [
    "# Выбор локации для скважины"
   ]
  },
  {
   "cell_type": "markdown",
   "metadata": {},
   "source": [
    "Допустим, вы работаете в добывающей компании «ГлавРосГосНефть». Нужно решить, где бурить новую скважину.\n",
    "\n",
    "Вам предоставлены пробы нефти в трёх регионах: в каждом 10 000 месторождений, где измерили качество нефти и объём её запасов. Постройте модель машинного обучения, которая поможет определить регион, где добыча принесёт наибольшую прибыль. Проанализируйте возможную прибыль и риски техникой *Bootstrap.*\n",
    "\n",
    "Шаги для выбора локации:\n",
    "\n",
    "- В избранном регионе ищут месторождения, для каждого определяют значения признаков;\n",
    "- Строят модель и оценивают объём запасов;\n",
    "- Выбирают месторождения с самым высокими оценками значений. Количество месторождений зависит от бюджета компании и стоимости разработки одной скважины;\n",
    "- Прибыль равна суммарной прибыли отобранных месторождений."
   ]
  },
  {
   "cell_type": "markdown",
   "metadata": {},
   "source": [
    "-    id — уникальный идентификатор скважины;\n",
    "-    f0, f1, f2 — три признака точек (неважно, что они означают, но сами признаки значимы);\n",
    "-    product — объём запасов в скважине (тыс. баррелей)."
   ]
  },
  {
   "cell_type": "markdown",
   "metadata": {},
   "source": [
    "## Загрузка и подготовка данных"
   ]
  },
  {
   "cell_type": "markdown",
   "metadata": {},
   "source": [
    "    Импортирую все необходимые библиотеки в начале проекта"
   ]
  },
  {
   "cell_type": "code",
   "execution_count": 1,
   "metadata": {},
   "outputs": [],
   "source": [
    "import pandas as pd\n",
    "import numpy as np\n",
    "\n",
    "from sklearn.model_selection import train_test_split \n",
    "from sklearn.linear_model import LinearRegression\n",
    "from sklearn.metrics import mean_squared_error\n",
    "import seaborn as sns\n",
    "import matplotlib.pyplot as plt\n",
    "from scipy import stats as st"
   ]
  },
  {
   "cell_type": "markdown",
   "metadata": {},
   "source": [
    "    Загружаю данные по трем регионам"
   ]
  },
  {
   "cell_type": "code",
   "execution_count": 2,
   "metadata": {},
   "outputs": [],
   "source": [
    "data_0 = pd.read_csv('/datasets/geo_data_0.csv')\n",
    "data_1 = pd.read_csv('/datasets/geo_data_1.csv')\n",
    "data_2 = pd.read_csv('/datasets/geo_data_2.csv')"
   ]
  },
  {
   "cell_type": "markdown",
   "metadata": {},
   "source": [
    "    Исследую данные"
   ]
  },
  {
   "cell_type": "code",
   "execution_count": 3,
   "metadata": {
    "scrolled": false
   },
   "outputs": [
    {
     "name": "stdout",
     "output_type": "stream",
     "text": [
      "<class 'pandas.core.frame.DataFrame'>\n",
      "RangeIndex: 100000 entries, 0 to 99999\n",
      "Data columns (total 5 columns):\n",
      "id         100000 non-null object\n",
      "f0         100000 non-null float64\n",
      "f1         100000 non-null float64\n",
      "f2         100000 non-null float64\n",
      "product    100000 non-null float64\n",
      "dtypes: float64(4), object(1)\n",
      "memory usage: 3.8+ MB\n",
      "<class 'pandas.core.frame.DataFrame'>\n",
      "RangeIndex: 100000 entries, 0 to 99999\n",
      "Data columns (total 5 columns):\n",
      "id         100000 non-null object\n",
      "f0         100000 non-null float64\n",
      "f1         100000 non-null float64\n",
      "f2         100000 non-null float64\n",
      "product    100000 non-null float64\n",
      "dtypes: float64(4), object(1)\n",
      "memory usage: 3.8+ MB\n",
      "<class 'pandas.core.frame.DataFrame'>\n",
      "RangeIndex: 100000 entries, 0 to 99999\n",
      "Data columns (total 5 columns):\n",
      "id         100000 non-null object\n",
      "f0         100000 non-null float64\n",
      "f1         100000 non-null float64\n",
      "f2         100000 non-null float64\n",
      "product    100000 non-null float64\n",
      "dtypes: float64(4), object(1)\n",
      "memory usage: 3.8+ MB\n"
     ]
    }
   ],
   "source": [
    "data_0.info()\n",
    "data_1.info()\n",
    "data_2.info()"
   ]
  },
  {
   "cell_type": "markdown",
   "metadata": {},
   "source": [
    "Нулевых значений нет"
   ]
  },
  {
   "cell_type": "code",
   "execution_count": 4,
   "metadata": {
    "scrolled": true
   },
   "outputs": [
    {
     "data": {
      "text/plain": [
       "count    100000.000000\n",
       "mean         92.500000\n",
       "std          44.288691\n",
       "min           0.000000\n",
       "25%          56.497507\n",
       "50%          91.849972\n",
       "75%         128.564089\n",
       "max         185.364347\n",
       "Name: product, dtype: float64"
      ]
     },
     "metadata": {},
     "output_type": "display_data"
    },
    {
     "data": {
      "text/plain": [
       "count    100000.000000\n",
       "mean         68.825000\n",
       "std          45.944423\n",
       "min           0.000000\n",
       "25%          26.953261\n",
       "50%          57.085625\n",
       "75%         107.813044\n",
       "max         137.945408\n",
       "Name: product, dtype: float64"
      ]
     },
     "metadata": {},
     "output_type": "display_data"
    },
    {
     "data": {
      "text/plain": [
       "count    100000.000000\n",
       "mean         95.000000\n",
       "std          44.749921\n",
       "min           0.000000\n",
       "25%          59.450441\n",
       "50%          94.925613\n",
       "75%         130.595027\n",
       "max         190.029838\n",
       "Name: product, dtype: float64"
      ]
     },
     "metadata": {},
     "output_type": "display_data"
    }
   ],
   "source": [
    "display(data_0['product'].describe(), \n",
    "      data_1['product'].describe(), \n",
    "      data_2['product'].describe(), \n",
    "      #sep='\\n'\n",
    "      )"
   ]
  },
  {
   "cell_type": "markdown",
   "metadata": {},
   "source": [
    "    В данных, в столбце 'product' есть 0, т.е. это объём запасов в скважине (тыс. баррелей), оставляю эти данные бесполезны, т.к. они пригодятся при исследовании.\n",
    "    Далее проверяю наличие повторов среди id — уникальных идентификаторов скважин"
   ]
  },
  {
   "cell_type": "code",
   "execution_count": 5,
   "metadata": {
    "scrolled": true
   },
   "outputs": [
    {
     "data": {
      "text/plain": [
       "10"
      ]
     },
     "metadata": {},
     "output_type": "display_data"
    },
    {
     "data": {
      "text/plain": [
       "4"
      ]
     },
     "metadata": {},
     "output_type": "display_data"
    },
    {
     "data": {
      "text/plain": [
       "4"
      ]
     },
     "metadata": {},
     "output_type": "display_data"
    }
   ],
   "source": [
    "display(\n",
    "    data_0['id'].duplicated().sum(), \n",
    "    data_1['id'].duplicated().sum(), \n",
    "    data_2['id'].duplicated().sum(), \n",
    "    )"
   ]
  },
  {
   "cell_type": "markdown",
   "metadata": {},
   "source": [
    "    Не очень уникальные, удаляю повторы"
   ]
  },
  {
   "cell_type": "code",
   "execution_count": 6,
   "metadata": {},
   "outputs": [],
   "source": [
    "data_0 = data_0.drop_duplicates(['id'])\n",
    "data_1 = data_1.drop_duplicates(['id'])\n",
    "data_2 = data_2.drop_duplicates(['id'])"
   ]
  },
  {
   "cell_type": "markdown",
   "metadata": {},
   "source": [
    "    Т.к. для обучения модели столбец 'id' не понадобится, удаляю"
   ]
  },
  {
   "cell_type": "code",
   "execution_count": 7,
   "metadata": {},
   "outputs": [],
   "source": [
    "data_0 = data_0.drop(['id'], axis = 1)\n",
    "data_1 = data_1.drop(['id'], axis = 1)\n",
    "data_2 = data_2.drop(['id'], axis = 1)"
   ]
  },
  {
   "cell_type": "markdown",
   "metadata": {},
   "source": [
    "## Обучение и проверка модели"
   ]
  },
  {
   "cell_type": "markdown",
   "metadata": {},
   "source": [
    "### Разбил данные на обучающую и валидационную выборки в соотношении 75:25."
   ]
  },
  {
   "cell_type": "code",
   "execution_count": 8,
   "metadata": {},
   "outputs": [],
   "source": [
    "X_0 = data_0.drop(['product'], axis = 1)\n",
    "y_0 = data_0['product']\n",
    "\n",
    "X_1 = data_1.drop(['product'], axis = 1)\n",
    "y_1 = data_1['product']\n",
    "\n",
    "X_2 = data_2.drop(['product'], axis = 1)\n",
    "y_2 = data_2['product']"
   ]
  },
  {
   "cell_type": "code",
   "execution_count": 9,
   "metadata": {},
   "outputs": [],
   "source": [
    "X_train_0, X_valid_0, y_train_0, y_valid_0 = train_test_split(\n",
    "    X_0, y_0, test_size=0.25, random_state=1234)\n",
    "\n",
    "X_train_1, X_valid_1, y_train_1, y_valid_1 = train_test_split(\n",
    "    X_1, y_1, test_size=0.25, random_state=1234)\n",
    "\n",
    "X_train_2, X_valid_2, y_train_2, y_valid_2 = train_test_split(\n",
    "    X_2, y_2, test_size=0.25, random_state=1234)"
   ]
  },
  {
   "cell_type": "markdown",
   "metadata": {},
   "source": [
    "### Обучил модель и сделал предсказания на валидационной выборке."
   ]
  },
  {
   "cell_type": "code",
   "execution_count": 10,
   "metadata": {},
   "outputs": [
    {
     "data": {
      "text/plain": [
       "LinearRegression()"
      ]
     },
     "execution_count": 10,
     "metadata": {},
     "output_type": "execute_result"
    }
   ],
   "source": [
    "lr_0 = LinearRegression()\n",
    "lr_0.fit(X_train_0, y_train_0)\n",
    "\n",
    "lr_1 = LinearRegression()\n",
    "lr_1.fit(X_train_1, y_train_1)\n",
    "\n",
    "lr_2 = LinearRegression()\n",
    "lr_2.fit(X_train_2, y_train_2)"
   ]
  },
  {
   "cell_type": "code",
   "execution_count": 11,
   "metadata": {},
   "outputs": [],
   "source": [
    "predictions_0 = lr_0.predict(X_valid_0) \n",
    "predictions_1 = lr_1.predict(X_valid_1)\n",
    "predictions_2 = lr_2.predict(X_valid_2)"
   ]
  },
  {
   "cell_type": "markdown",
   "metadata": {},
   "source": [
    "### Напечатайте на экране средний запас предсказанного сырья и RMSE модели"
   ]
  },
  {
   "cell_type": "code",
   "execution_count": 12,
   "metadata": {},
   "outputs": [],
   "source": [
    "#mse_0 = mean_squared_error(target_valid_0, predictions_0)\n",
    "#rmse_0 = mse_0 ** 0.5 \n",
    "\n",
    "#mse_1 = mean_squared_error(target_valid_1, predictions_1)\n",
    "#rmse_1 = mse_1 ** 0.5 \n",
    "\n",
    "#mse_2 = mean_squared_error(target_valid_2, predictions_2)\n",
    "#rmse_2 = mse_2 ** 0.5 "
   ]
  },
  {
   "cell_type": "code",
   "execution_count": 13,
   "metadata": {},
   "outputs": [],
   "source": [
    "#display(\"RMSE #1: {: >20.2f} тыс. баррелей\".format(rmse_0))\n",
    "#display('Предсказания {: >16.2f} тыс. баррелей'.format(np.mean(predictions_0)))\n",
    "#display(\"RMSE #2: {: >19.2f} тыс. баррелей\".format(rmse_1))\n",
    "#display('Предсказания {: >16.2f} тыс. баррелей'.format(np.mean(predictions_1)))\n",
    "#display(\"RMSE #3: {: >20.2f} тыс. баррелей\".format(rmse_2))\n",
    "#display('Предсказания {: >16.2f} тыс. баррелей'.format(np.mean(predictions_2)))"
   ]
  },
  {
   "cell_type": "code",
   "execution_count": 14,
   "metadata": {
    "scrolled": true
   },
   "outputs": [
    {
     "name": "stdout",
     "output_type": "stream",
     "text": [
      "RMSE модели 1 региона:                37.77 тыс. баррелей\n",
      "Предсказания 1 региона                92.47 тыс. баррелей\n",
      "RMSE модели 2 региона:                 0.89 тыс. баррелей\n",
      "Предсказания 2 региона                68.62 тыс. баррелей\n",
      "RMSE модели 3 региона:                40.25 тыс. баррелей\n",
      "Предсказания 3 региона                95.22 тыс. баррелей\n"
     ]
    }
   ],
   "source": [
    "y_valid = [y_valid_0, y_valid_1, y_valid_2] \n",
    "predictions = [predictions_0, predictions_1, predictions_2]\n",
    "count = 1\n",
    "RMSE_list = []\n",
    "predict_list = []\n",
    "def mse_rmse(y_valid, predictions):\n",
    "    mse = mean_squared_error(y_valid, predictions)\n",
    "    rmse = mse ** 0.5 \n",
    "    RMSE_list.append(rmse.round(2))\n",
    "    predict_list.append(np.mean(predictions).round(2))\n",
    "    print(\"RMSE модели {} региона: {: >20.2f} тыс. баррелей\".format(count, rmse))\n",
    "    print('Предсказания {} региона {: >20.2f} тыс. баррелей'.format(count, np.mean(predictions)))\n",
    "\n",
    "\n",
    "for i, j in zip(y_valid, predictions):\n",
    "    mse_rmse(i, j)\n",
    "    count += 1"
   ]
  },
  {
   "cell_type": "markdown",
   "metadata": {},
   "source": [
    "    Создам таблицу для записи результатов "
   ]
  },
  {
   "cell_type": "code",
   "execution_count": 15,
   "metadata": {},
   "outputs": [],
   "source": [
    "resultation_table = pd.DataFrame(\n",
    "    {'Регионы' : ['Первый', 'Второй', 'Третий'],\n",
    "     'RMSE модели региона' : RMSE_list, \n",
    "     'Предсказания ' : predict_list\n",
    "     }\n",
    ")"
   ]
  },
  {
   "cell_type": "code",
   "execution_count": 16,
   "metadata": {},
   "outputs": [
    {
     "data": {
      "text/plain": [
       "'Превый регион'"
      ]
     },
     "metadata": {},
     "output_type": "display_data"
    },
    {
     "data": {
      "text/html": [
       "<div>\n",
       "<style scoped>\n",
       "    .dataframe tbody tr th:only-of-type {\n",
       "        vertical-align: middle;\n",
       "    }\n",
       "\n",
       "    .dataframe tbody tr th {\n",
       "        vertical-align: top;\n",
       "    }\n",
       "\n",
       "    .dataframe thead th {\n",
       "        text-align: right;\n",
       "    }\n",
       "</style>\n",
       "<table border=\"1\" class=\"dataframe\">\n",
       "  <thead>\n",
       "    <tr style=\"text-align: right;\">\n",
       "      <th></th>\n",
       "      <th>f0</th>\n",
       "      <th>f1</th>\n",
       "      <th>f2</th>\n",
       "      <th>product</th>\n",
       "    </tr>\n",
       "  </thead>\n",
       "  <tbody>\n",
       "    <tr>\n",
       "      <td>f0</td>\n",
       "      <td>1.000000</td>\n",
       "      <td>-0.440717</td>\n",
       "      <td>-0.003211</td>\n",
       "      <td>0.143504</td>\n",
       "    </tr>\n",
       "    <tr>\n",
       "      <td>f1</td>\n",
       "      <td>-0.440717</td>\n",
       "      <td>1.000000</td>\n",
       "      <td>0.001764</td>\n",
       "      <td>-0.192351</td>\n",
       "    </tr>\n",
       "    <tr>\n",
       "      <td>f2</td>\n",
       "      <td>-0.003211</td>\n",
       "      <td>0.001764</td>\n",
       "      <td>1.000000</td>\n",
       "      <td>0.483631</td>\n",
       "    </tr>\n",
       "    <tr>\n",
       "      <td>product</td>\n",
       "      <td>0.143504</td>\n",
       "      <td>-0.192351</td>\n",
       "      <td>0.483631</td>\n",
       "      <td>1.000000</td>\n",
       "    </tr>\n",
       "  </tbody>\n",
       "</table>\n",
       "</div>"
      ],
      "text/plain": [
       "               f0        f1        f2   product\n",
       "f0       1.000000 -0.440717 -0.003211  0.143504\n",
       "f1      -0.440717  1.000000  0.001764 -0.192351\n",
       "f2      -0.003211  0.001764  1.000000  0.483631\n",
       "product  0.143504 -0.192351  0.483631  1.000000"
      ]
     },
     "metadata": {},
     "output_type": "display_data"
    },
    {
     "data": {
      "text/plain": [
       "'Второй регион'"
      ]
     },
     "metadata": {},
     "output_type": "display_data"
    },
    {
     "data": {
      "text/html": [
       "<div>\n",
       "<style scoped>\n",
       "    .dataframe tbody tr th:only-of-type {\n",
       "        vertical-align: middle;\n",
       "    }\n",
       "\n",
       "    .dataframe tbody tr th {\n",
       "        vertical-align: top;\n",
       "    }\n",
       "\n",
       "    .dataframe thead th {\n",
       "        text-align: right;\n",
       "    }\n",
       "</style>\n",
       "<table border=\"1\" class=\"dataframe\">\n",
       "  <thead>\n",
       "    <tr style=\"text-align: right;\">\n",
       "      <th></th>\n",
       "      <th>f0</th>\n",
       "      <th>f1</th>\n",
       "      <th>f2</th>\n",
       "      <th>product</th>\n",
       "    </tr>\n",
       "  </thead>\n",
       "  <tbody>\n",
       "    <tr>\n",
       "      <td>f0</td>\n",
       "      <td>1.000000</td>\n",
       "      <td>0.182279</td>\n",
       "      <td>-0.001810</td>\n",
       "      <td>-0.030523</td>\n",
       "    </tr>\n",
       "    <tr>\n",
       "      <td>f1</td>\n",
       "      <td>0.182279</td>\n",
       "      <td>1.000000</td>\n",
       "      <td>-0.002594</td>\n",
       "      <td>-0.010154</td>\n",
       "    </tr>\n",
       "    <tr>\n",
       "      <td>f2</td>\n",
       "      <td>-0.001810</td>\n",
       "      <td>-0.002594</td>\n",
       "      <td>1.000000</td>\n",
       "      <td>0.999397</td>\n",
       "    </tr>\n",
       "    <tr>\n",
       "      <td>product</td>\n",
       "      <td>-0.030523</td>\n",
       "      <td>-0.010154</td>\n",
       "      <td>0.999397</td>\n",
       "      <td>1.000000</td>\n",
       "    </tr>\n",
       "  </tbody>\n",
       "</table>\n",
       "</div>"
      ],
      "text/plain": [
       "               f0        f1        f2   product\n",
       "f0       1.000000  0.182279 -0.001810 -0.030523\n",
       "f1       0.182279  1.000000 -0.002594 -0.010154\n",
       "f2      -0.001810 -0.002594  1.000000  0.999397\n",
       "product -0.030523 -0.010154  0.999397  1.000000"
      ]
     },
     "metadata": {},
     "output_type": "display_data"
    },
    {
     "data": {
      "text/plain": [
       "'Третий регион'"
      ]
     },
     "metadata": {},
     "output_type": "display_data"
    },
    {
     "data": {
      "text/html": [
       "<div>\n",
       "<style scoped>\n",
       "    .dataframe tbody tr th:only-of-type {\n",
       "        vertical-align: middle;\n",
       "    }\n",
       "\n",
       "    .dataframe tbody tr th {\n",
       "        vertical-align: top;\n",
       "    }\n",
       "\n",
       "    .dataframe thead th {\n",
       "        text-align: right;\n",
       "    }\n",
       "</style>\n",
       "<table border=\"1\" class=\"dataframe\">\n",
       "  <thead>\n",
       "    <tr style=\"text-align: right;\">\n",
       "      <th></th>\n",
       "      <th>f0</th>\n",
       "      <th>f1</th>\n",
       "      <th>f2</th>\n",
       "      <th>product</th>\n",
       "    </tr>\n",
       "  </thead>\n",
       "  <tbody>\n",
       "    <tr>\n",
       "      <td>f0</td>\n",
       "      <td>1.000000</td>\n",
       "      <td>0.000506</td>\n",
       "      <td>-0.000452</td>\n",
       "      <td>-0.001978</td>\n",
       "    </tr>\n",
       "    <tr>\n",
       "      <td>f1</td>\n",
       "      <td>0.000506</td>\n",
       "      <td>1.000000</td>\n",
       "      <td>0.000753</td>\n",
       "      <td>-0.001055</td>\n",
       "    </tr>\n",
       "    <tr>\n",
       "      <td>f2</td>\n",
       "      <td>-0.000452</td>\n",
       "      <td>0.000753</td>\n",
       "      <td>1.000000</td>\n",
       "      <td>0.445867</td>\n",
       "    </tr>\n",
       "    <tr>\n",
       "      <td>product</td>\n",
       "      <td>-0.001978</td>\n",
       "      <td>-0.001055</td>\n",
       "      <td>0.445867</td>\n",
       "      <td>1.000000</td>\n",
       "    </tr>\n",
       "  </tbody>\n",
       "</table>\n",
       "</div>"
      ],
      "text/plain": [
       "               f0        f1        f2   product\n",
       "f0       1.000000  0.000506 -0.000452 -0.001978\n",
       "f1       0.000506  1.000000  0.000753 -0.001055\n",
       "f2      -0.000452  0.000753  1.000000  0.445867\n",
       "product -0.001978 -0.001055  0.445867  1.000000"
      ]
     },
     "metadata": {},
     "output_type": "display_data"
    }
   ],
   "source": [
    "corr_0 = data_0.corr(method=\"pearson\")\n",
    "corr_1 = data_1.corr(method=\"pearson\")\n",
    "corr_2 = data_2.corr(method=\"pearson\")\n",
    "display('Превый регион', corr_0,\n",
    "        'Второй регион', corr_1, \n",
    "        'Третий регион', corr_2, \n",
    "        )"
   ]
  },
  {
   "cell_type": "code",
   "execution_count": 17,
   "metadata": {},
   "outputs": [
    {
     "data": {
      "image/png": "[encoded data removed]",
      "text/plain": [
       "<Figure size 960x800 with 2 Axes>"
      ]
     },
     "metadata": {
      "needs_background": "light"
     },
     "output_type": "display_data"
    },
    {
     "data": {
      "image/png": "[encoded data removed]",
      "text/plain": [
       "<Figure size 960x800 with 2 Axes>"
      ]
     },
     "metadata": {
      "needs_background": "light"
     },
     "output_type": "display_data"
    },
    {
     "data": {
      "image/png": "[encoded data removed]",
      "text/plain": [
       "<Figure size 960x800 with 2 Axes>"
      ]
     },
     "metadata": {
      "needs_background": "light"
     },
     "output_type": "display_data"
    }
   ],
   "source": [
    "for plot in [data_0, data_1, data_2]:\n",
    "    plt.figure(figsize=(12,10), dpi= 80)\n",
    "    sns.heatmap(plot.corr(), \n",
    "                #xticklabels=data_0.corr().columns, \n",
    "                #yticklabels=data_0.corr().columns, \n",
    "                cmap='coolwarm', # посмотреть другие цвета \n",
    "                center=0, # ставит центр цветового ряда на 0 \n",
    "                annot=True # аннотация(цифры на графике)\n",
    "                )\n",
    "\n",
    "    plt.title('Корреляция данных', fontsize=22)\n",
    "    plt.xticks(fontsize=12)\n",
    "    plt.yticks(fontsize=12)\n",
    "    plt.show()"
   ]
  },
  {
   "cell_type": "markdown",
   "metadata": {},
   "source": [
    "    Вывод: если судить по предсказаниям модели, то самым перспективыным является третий регион с запасом нефти объемом 94.89 тысяч баррелей, затем идет первый регион с 92.31 тысячами баррелей и потом второй регион с 75.16 тысячами баррелей.\n",
    "    Но если взять в расчет среднеквадратичную ошибку, то она самая большая у предсказаний третьего региона, самая маленькая - у первого, меньше 1, из-за сильной корреляции 3 признака и целевого параметра"
   ]
  },
  {
   "cell_type": "markdown",
   "metadata": {},
   "source": [
    "## Подготовка к расчёту прибыли"
   ]
  },
  {
   "cell_type": "markdown",
   "metadata": {},
   "source": [
    "### Все ключевые значения для расчётов сохранил в отдельных переменных"
   ]
  },
  {
   "cell_type": "code",
   "execution_count": 18,
   "metadata": {},
   "outputs": [],
   "source": [
    "# Бюджет на разработку месторождений\n",
    "BUDGET = 10_000_000_000\n",
    "WELL_COST = 50_000_000\n",
    "well_number = BUDGET // WELL_COST\n",
    "# доход с каждой единицы продукта 1 тыс. баррелей\n",
    "INCOME = 450_000"
   ]
  },
  {
   "cell_type": "markdown",
   "metadata": {},
   "source": [
    "### Рассчитал достаточный объём сырья для безубыточной разработки новой скважины. Сравнил полученный объём сырья со средним запасом в каждом регионе."
   ]
  },
  {
   "cell_type": "code",
   "execution_count": 19,
   "metadata": {
    "scrolled": true
   },
   "outputs": [
    {
     "name": "stdout",
     "output_type": "stream",
     "text": [
      "Достаточный объём сырья для безубыточной разработки новой скважины:     22222.22 тыс. баррелей\n",
      "Средний запас в первом регионе:                                         9249043.42 тыс. баррелей\n",
      "Одна скважина в первом регионе в среднем принесет                       20.81 млрд.\n",
      "Средний запас во втором регионе:                                        6882116.30 тыс. баррелей\n",
      "Одна скважина в первом регионе в среднем принесет                       15.48 млрд.\n",
      "Средний запас в третьем регионе:                                        9499454.22 тыс. баррелей\n",
      "Одна скважина в первом регионе в среднем принесет                       21.37 млрд.\n"
     ]
    }
   ],
   "source": [
    "volume = BUDGET / INCOME\n",
    "print(\n",
    "    'Достаточный объём сырья для безубыточной разработки новой скважины: {: >12.2f} тыс. баррелей'.format(volume), \n",
    "    'Средний запас в первом регионе: {: >50.2f} тыс. баррелей'.format(np.mean(sum(data_0['product']))), \n",
    "    'Одна скважина в первом регионе в среднем принесет{: >28.2f} млрд.'.format(np.mean(sum(data_0['product'])) / 200 * INCOME / 1000000000), \n",
    "    'Средний запас во втором регионе: {: >49.2f} тыс. баррелей'.format(np.mean(sum(data_1['product']))), \n",
    "    'Одна скважина в первом регионе в среднем принесет{: >28.2f} млрд.'.format(np.mean(sum(data_1['product'])) / 200 * INCOME / 1000000000), \n",
    "    'Средний запас в третьем регионе: {: >49.2f} тыс. баррелей'.format(np.mean(sum(data_2['product']))), \n",
    "    'Одна скважина в первом регионе в среднем принесет{: >28.2f} млрд.'.format(np.mean(sum(data_2['product'])) / 200 * INCOME / 1000000000),\n",
    "    sep='\\n'\n",
    "    )\n",
    "mean_vol_list = [\n",
    "    np.mean(sum(data_0['product'])).round(2), \n",
    "    np.mean(sum(data_1['product'])).round(2), \n",
    "    np.mean(sum(data_2['product'])).round(2)\n",
    "]\n",
    "mean_well = [\n",
    "    (np.mean(sum(data_0['product'])) / 200 * INCOME / 1000000000).round(2), \n",
    "    (np.mean(sum(data_1['product'])) / 200 * INCOME / 1000000000).round(2), \n",
    "    (np.mean(sum(data_2['product'])) / 200 * INCOME / 1000000000).round(2)\n",
    "    ]"
   ]
  },
  {
   "cell_type": "markdown",
   "metadata": {},
   "source": [
    "    Вывод: при вложении 10 млрд. рублей, для безубыточной разработки, запасы должны быть не менее 22222.22 тыс. баррелей. Все 3 региона соответствуют этому критерию, средний запас больше этого значения"
   ]
  },
  {
   "cell_type": "code",
   "execution_count": 20,
   "metadata": {},
   "outputs": [],
   "source": [
    "resultation_table['Средний запас в регионе (тыс. баррелей)'] = mean_vol_list\n",
    "resultation_table['Одна скважина в регионе в среднем принесет (млрд.)'] = mean_well"
   ]
  },
  {
   "cell_type": "markdown",
   "metadata": {},
   "source": [
    "## Расчёт прибыли и рисков "
   ]
  },
  {
   "cell_type": "markdown",
   "metadata": {},
   "source": [
    "### Выбрал скважины с максимальными значениями предсказаний, просуммировал целевое значение объёма сырья, соответствующее этим предсказаниям. Рассчитал прибыль для полученного объёма сырья."
   ]
  },
  {
   "cell_type": "code",
   "execution_count": 21,
   "metadata": {
    "scrolled": false
   },
   "outputs": [
    {
     "name": "stdout",
     "output_type": "stream",
     "text": [
      "Сумма целевого значения сырья: 1 региона    74723.08 тыс баррелей\n",
      "Прибыль 1 региона:                          33.63 млрд рублей\n",
      "\n",
      "Сумма целевого значения сырья: 2 региона    68972.70 тыс баррелей\n",
      "Прибыль 2 региона:                          31.04 млрд рублей\n",
      "\n",
      "Сумма целевого значения сырья: 3 региона    70300.65 тыс баррелей\n",
      "Прибыль 3 региона:                          31.64 млрд рублей\n",
      "\n"
     ]
    }
   ],
   "source": [
    "def calculate(data, features, lr):\n",
    "    data['predict'] = lr.predict(features)\n",
    "    data_income = data.sort_values('predict', ascending=False).head(500)\n",
    "    raw_volume = sum(data_income['product'])        \n",
    "    income_volume = sum(data_income['product']) * 450 / 1000000\n",
    "    target_value_list.append(round(raw_volume, 2))\n",
    "    income_list.append(round(income_volume, 2))\n",
    "    print('Сумма целевого значения сырья: {} региона {: >11.2f} тыс баррелей'.format(count, raw_volume))\n",
    "    print('Прибыль {} региона: {: >30.2f} млрд рублей'.format(count, income_volume))\n",
    "    print()\n",
    "target_value_list = []\n",
    "income_list = []\n",
    "data = [data_0, data_1, data_2]\n",
    "features = [X_0, X_1, X_2]\n",
    "lr = [lr_0, lr_1, lr_2]\n",
    "count = 1\n",
    "for  i, j, l in zip (data, features, lr):\n",
    "    calculate(i, j, l)\n",
    "    count += 1"
   ]
  },
  {
   "cell_type": "code",
   "execution_count": 22,
   "metadata": {},
   "outputs": [],
   "source": [
    "resultation_table['Сумма целевого значения сырья (тыс. баррелей)'] = target_value_list\n",
    "resultation_table['Прибыль региона (млрд. рублей)'] = income_list"
   ]
  },
  {
   "cell_type": "markdown",
   "metadata": {},
   "source": [
    "### Графики"
   ]
  },
  {
   "cell_type": "code",
   "execution_count": 23,
   "metadata": {
    "scrolled": true
   },
   "outputs": [
    {
     "data": {
      "image/png": "[encoded data removed]",
      "text/plain": [
       "<Figure size 432x288 with 1 Axes>"
      ]
     },
     "metadata": {
      "needs_background": "light"
     },
     "output_type": "display_data"
    },
    {
     "data": {
      "image/png": "[encoded data removed]",
      "text/plain": [
       "<Figure size 432x288 with 1 Axes>"
      ]
     },
     "metadata": {
      "needs_background": "light"
     },
     "output_type": "display_data"
    }
   ],
   "source": [
    "data_income_0 = data_0.sort_values('predict', ascending=False).head(500)\n",
    "data_income_1 = data_1.sort_values('predict', ascending=False).head(500)\n",
    "data_income_2 = data_2.sort_values('predict', ascending=False).head(500)\n",
    "\n",
    "income_volume_0 = sum(data_income_0['product']) * 450 / 1000000\n",
    "income_volume_1 = sum(data_income_1['product']) * 450 / 1000000\n",
    "income_volume_2 = sum(data_income_2['product']) * 450 / 1000000\n",
    "    \n",
    "data_income = pd.DataFrame({'Суммарный объем первого региона' : [sum(data_income_0['product'])], \n",
    "                            'Суммарный объем второго региона' : [sum(data_income_1['product'])], \n",
    "                            'Суммарный объем третьего региона' : [sum(data_income_2['product'])], }\n",
    "                            )\n",
    "data_income.plot(kind ='bar', \n",
    "                 grid = True, \n",
    "                 alpha = 0.6, \n",
    "                 )\n",
    "plt.xlabel('Регионы')\n",
    "plt.ylabel('тыс баррелей')\n",
    "plt.legend(loc='lower left', \n",
    "           bbox_to_anchor=(1, 0.5)\n",
    "           )\n",
    "plt.title('Суммарный объем сырья', fontsize=22)\n",
    "plt.xticks(fontsize=1)\n",
    "plt.yticks(fontsize=12)\n",
    "plt.show()    \n",
    "    \n",
    "income_volume = pd.DataFrame({'Прибыль первого региона' : [income_volume_0], \n",
    "                            'Прибыль второго региона' : [income_volume_1], \n",
    "                            'Прибыль третьего региона' : [income_volume_2]}\n",
    "                            )\n",
    "income_volume.plot(kind ='bar', \n",
    "                    grid = True, \n",
    "                    alpha = 0.6, \n",
    "                    \n",
    "                    )\n",
    "plt.ylabel('млрд рублей')\n",
    "plt.xlabel('Регионы')\n",
    "plt.legend(loc='lower left',\n",
    "            bbox_to_anchor=(1, 0.5))\n",
    "plt.title('Прибыль регионов', fontsize=22)\n",
    "plt.xticks(fontsize=1)\n",
    "plt.yticks(fontsize=12)\n",
    "plt.show()"
   ]
  },
  {
   "cell_type": "markdown",
   "metadata": {},
   "source": [
    "## Рассчёт риски и прибыль для каждого региона:"
   ]
  },
  {
   "cell_type": "markdown",
   "metadata": {},
   "source": [
    "### Применил технику Bootstrap с 1000 выборок, чтобы найти распределение прибыли."
   ]
  },
  {
   "cell_type": "markdown",
   "metadata": {},
   "source": [
    "### Нашёл среднюю прибыль, 95%-й доверительный интервал и риск убытков."
   ]
  },
  {
   "cell_type": "code",
   "execution_count": 24,
   "metadata": {
    "scrolled": false
   },
   "outputs": [
    {
     "name": "stdout",
     "output_type": "stream",
     "text": [
      "Средняя выручка 1 региона:               428.76 млрд. рублей\n",
      "95%-ый доверительный интервал 1 региона: [-124574523.79627915, 958131888.2910002]\n",
      "Убыток 1 региона:                        6.20\n",
      "\n",
      "Средняя выручка 2 региона:               487.94 млрд. рублей\n",
      "95%-ый доверительный интервал 2 региона: [98782015.1405389, 906740742.801116]\n",
      "Убыток 2 региона:                        0.50\n",
      "\n",
      "Средняя выручка 3 региона:               397.83 млрд. рублей\n",
      "95%-ый доверительный интервал 3 региона: [-166795415.1870822, 963275850.1670955]\n",
      "Убыток 3 региона:                        8.50\n",
      "\n"
     ]
    }
   ],
   "source": [
    "# BUDGET = 10000000000\n",
    "# WELL_NUMBER = 200\n",
    "# WELL_COST = BUDGET / WELL_NUMBER\n",
    "# INCOME = 450000\n",
    "\n",
    "def profit(y, predictions):\n",
    "    predictions_sorted = predictions.sort_values(ascending=False)\n",
    "    selected_points = y[predictions_sorted.index][:well_number]\n",
    "    product = selected_points.sum()\n",
    "    revenue = product * INCOME\n",
    "    cost = WELL_COST * well_number\n",
    "    return revenue - cost\n",
    "\n",
    "state = np.random.RandomState(1234)\n",
    "    \n",
    "values = []\n",
    "\n",
    "data_0['predictions'] = lr_0.predict(X_0) \n",
    "data_1['predictions'] = lr_1.predict(X_1) \n",
    "data_2['predictions'] = lr_2.predict(X_2) \n",
    "\n",
    "mean_plot = [] #plot для графиков средней выручки\n",
    "\n",
    "y_valid_0\n",
    "data_0['predictions']\n",
    "\n",
    "def risk_income(y_valid, data):\n",
    "    values = []\n",
    "    for i in range(1000):\n",
    "        target_subsample_0 = y_valid.sample(n=500, replace=True, random_state=state)\n",
    "        probs_subsample_0 = data[target_subsample_0.index]\n",
    "        values.append(profit(target_subsample_0, probs_subsample_0))\n",
    "\n",
    "    values = pd.Series(values)\n",
    "    lower = values.quantile(0.05) \n",
    "    mean = values.mean()\n",
    "    mean_income_list.append(round(mean / 1000000, 2))\n",
    "    #print(mean)\n",
    "    mean_plot.append(mean)\n",
    "    confidence_interval = st.t.interval(0.95, len(values) - 1, values.mean(), values.sem()) # < напишите код здесь >\n",
    "    #loss = (values < 0).mean()\n",
    "    loss = st.percentileofscore(values, 0) #показывает % в values меньше второго аргумента\n",
    "    loss_list.append(round(loss, 2))\n",
    "    \n",
    "    print(\"Средняя выручка {} региона: {: >20.2f} млрд. рублей\".format(count, mean / 1000000))\n",
    "    #print(\"95%-ый доверительный интервал {} региона: {}\".format(count, confidence_interval))\n",
    "    print(\"95%-ый доверительный интервал {} региона: {}\".format(count, [np.quantile(values, 0.025), np.quantile(values, 0.975)]))\n",
    "    print(\"Убыток {} региона: {: >27.2f}\".format(count, loss))\n",
    "    print()\n",
    "\n",
    "mean_income_list =[]\n",
    "loss_list = []\n",
    "count = 1   \n",
    "#target_valid = [target_valid_0, target_valid_1, target_valid_2]    \n",
    "data_012 = [data_0['predictions'], data_1['predictions'], data_2['predictions']]\n",
    "for  i, j in zip (y_valid, data_012):\n",
    "    risk_income(i, j)\n",
    "    count += 1\n"
   ]
  },
  {
   "cell_type": "code",
   "execution_count": 25,
   "metadata": {},
   "outputs": [],
   "source": [
    "resultation_table['Средняя выручка региона (млрд. рублей)'] = mean_income_list\n",
    "resultation_table['Убыток региона'] = loss_list"
   ]
  },
  {
   "cell_type": "code",
   "execution_count": 26,
   "metadata": {},
   "outputs": [],
   "source": [
    "# Вывод до исправления\n",
    "\n",
    "# Средняя выручка 1 региона:               428.76 млрд. рублей\n",
    "# 95%-ый доверительный интервал 1 региона: (411837723.74485, 445678271.9971178)\n",
    "# Убыток 1 региона:                        0.06\n",
    "# \n",
    "# Средняя выручка 2 региона:               487.94 млрд. рублей\n",
    "# 95%-ый доверительный интервал 2 региона: (474936723.87195045, 500936182.20507175)\n",
    "# Убыток 2 региона:                        0.01\n",
    "# \n",
    "# Средняя выручка 3 региона:               397.83 млрд. рублей\n",
    "# 95%-ый доверительный интервал 3 региона: (380299360.1455248, 415350658.0864517)\n",
    "# Убыток 3 региона:                        0.09\n"
   ]
  },
  {
   "cell_type": "code",
   "execution_count": 27,
   "metadata": {},
   "outputs": [],
   "source": [
    "mean_plot = pd.DataFrame({'Выручка первого региона' : [mean_plot[0]], \n",
    "                          'Выручка второго региона' : [mean_plot[1]], \n",
    "                          'Выручка третьего региона' : [mean_plot[2]]}\n",
    "                         )"
   ]
  },
  {
   "cell_type": "code",
   "execution_count": 28,
   "metadata": {},
   "outputs": [
    {
     "data": {
      "image/png": "[encoded data removed]",
      "text/plain": [
       "<Figure size 432x288 with 1 Axes>"
      ]
     },
     "metadata": {
      "needs_background": "light"
     },
     "output_type": "display_data"
    }
   ],
   "source": [
    "mean_plot.plot(kind ='bar', \n",
    "               grid = True, \n",
    "               alpha = 0.6, \n",
    "               legend = True\n",
    "              )\n",
    "plt.ylabel('млрд рублей')\n",
    "plt.xlabel('Регионы')\n",
    "plt.legend(loc='lower left',\n",
    "           bbox_to_anchor=(1, 0.5)\n",
    "           )\n",
    "plt.title('Выручка регионов', fontsize=22)\n",
    "plt.xticks(fontsize=1)\n",
    "plt.yticks(fontsize=12)\n",
    "plt.show()"
   ]
  },
  {
   "cell_type": "markdown",
   "metadata": {},
   "source": [
    "## Вывод"
   ]
  },
  {
   "cell_type": "code",
   "execution_count": 29,
   "metadata": {},
   "outputs": [
    {
     "data": {
      "text/html": [
       "<div>\n",
       "<style scoped>\n",
       "    .dataframe tbody tr th:only-of-type {\n",
       "        vertical-align: middle;\n",
       "    }\n",
       "\n",
       "    .dataframe tbody tr th {\n",
       "        vertical-align: top;\n",
       "    }\n",
       "\n",
       "    .dataframe thead th {\n",
       "        text-align: right;\n",
       "    }\n",
       "</style>\n",
       "<table border=\"1\" class=\"dataframe\">\n",
       "  <thead>\n",
       "    <tr style=\"text-align: right;\">\n",
       "      <th></th>\n",
       "      <th>Регионы</th>\n",
       "      <th>RMSE модели региона</th>\n",
       "      <th>Предсказания</th>\n",
       "      <th>Средний запас в регионе (тыс. баррелей)</th>\n",
       "      <th>Одна скважина в регионе в среднем принесет (млрд.)</th>\n",
       "      <th>Сумма целевого значения сырья (тыс. баррелей)</th>\n",
       "      <th>Прибыль региона (млрд. рублей)</th>\n",
       "      <th>Средняя выручка региона (млрд. рублей)</th>\n",
       "      <th>Убыток региона</th>\n",
       "    </tr>\n",
       "  </thead>\n",
       "  <tbody>\n",
       "    <tr>\n",
       "      <td>0</td>\n",
       "      <td>Первый</td>\n",
       "      <td>37.77</td>\n",
       "      <td>92.47</td>\n",
       "      <td>9249043.42</td>\n",
       "      <td>20.81</td>\n",
       "      <td>74723.08</td>\n",
       "      <td>33.63</td>\n",
       "      <td>428.76</td>\n",
       "      <td>6.2</td>\n",
       "    </tr>\n",
       "    <tr>\n",
       "      <td>1</td>\n",
       "      <td>Второй</td>\n",
       "      <td>0.89</td>\n",
       "      <td>68.62</td>\n",
       "      <td>6882116.30</td>\n",
       "      <td>15.48</td>\n",
       "      <td>68972.70</td>\n",
       "      <td>31.04</td>\n",
       "      <td>487.94</td>\n",
       "      <td>0.5</td>\n",
       "    </tr>\n",
       "    <tr>\n",
       "      <td>2</td>\n",
       "      <td>Третий</td>\n",
       "      <td>40.25</td>\n",
       "      <td>95.22</td>\n",
       "      <td>9499454.22</td>\n",
       "      <td>21.37</td>\n",
       "      <td>70300.65</td>\n",
       "      <td>31.64</td>\n",
       "      <td>397.83</td>\n",
       "      <td>8.5</td>\n",
       "    </tr>\n",
       "  </tbody>\n",
       "</table>\n",
       "</div>"
      ],
      "text/plain": [
       "  Регионы  RMSE модели региона  Предсказания   \\\n",
       "0  Первый                37.77          92.47   \n",
       "1  Второй                 0.89          68.62   \n",
       "2  Третий                40.25          95.22   \n",
       "\n",
       "   Средний запас в регионе (тыс. баррелей)  \\\n",
       "0                               9249043.42   \n",
       "1                               6882116.30   \n",
       "2                               9499454.22   \n",
       "\n",
       "   Одна скважина в регионе в среднем принесет (млрд.)  \\\n",
       "0                                              20.81    \n",
       "1                                              15.48    \n",
       "2                                              21.37    \n",
       "\n",
       "   Сумма целевого значения сырья (тыс. баррелей)  \\\n",
       "0                                       74723.08   \n",
       "1                                       68972.70   \n",
       "2                                       70300.65   \n",
       "\n",
       "   Прибыль региона (млрд. рублей)  Средняя выручка региона (млрд. рублей)  \\\n",
       "0                           33.63                                  428.76   \n",
       "1                           31.04                                  487.94   \n",
       "2                           31.64                                  397.83   \n",
       "\n",
       "   Убыток региона  \n",
       "0             6.2  \n",
       "1             0.5  \n",
       "2             8.5  "
      ]
     },
     "metadata": {},
     "output_type": "display_data"
    }
   ],
   "source": [
    "display(resultation_table)"
   ]
  },
  {
   "cell_type": "markdown",
   "metadata": {},
   "source": [
    "    Вывод: Во время исследования я использовал модель линейной регрессии для опредения региона который принесет наибольшую прибыль. После разделения данных на обучающую и тестовую выборки и обучение модели, я получил такие результаты предсказаний запасов объема нефти: \n",
    "        Первый регион - 92.42 тыс. баррелей,\n",
    "        Второй регион - 74.94 тыс. баррелей,\n",
    "        Третий регион - 94.94 тыс. баррелей.\n",
    "    Среднеквадратичная ошибка: \n",
    "        Первый регион - 37.62 тыс. баррелей,\n",
    "        Второй регион - 0.89 тыс. баррелей,\n",
    "        Третий регион - 40.22 тыс. баррелей.\n",
    "    Предсказания запасов делают третий регион самым привлекательным для инвестиций, но среднеквадратичная ошибка указывает на то, что нужно провести дополнительные исследования.\n",
    "    \n",
    "    Рассчитал достаточный объем сырья для безубыточной разработки. Все регионы соответствуют этому параметру.\n",
    "    Затем выбрал 500 скважин с максимальными значениями предсказаний. Просуммировал целевое значение объёма сырья, соответствующее этим предсказаниям. Рассчитал прибыль для полученного объёма сырья.\n",
    "    Прибыль 1 региона: 33.64 млрд рублей\n",
    "    Прибыль 2 региона: 31.04 млрд рублей\n",
    "    Прибыль 3 региона: 31.65 млрд рублей\n",
    "    Разница в почти 2 млрд, при вложении 100 млрд. Хотя самым прибыльным остался 1 регион.\n",
    "    После этого применил технику Bootstrap с 1000 выборок, чтобы найти распределение прибыли. Нашёл среднюю прибыль, 95%-й доверительный интервал и риск убытков. \n",
    "    В результате получил такие результаты:\n",
    "    Средняя выручка 1 региона:    436.65 млрд. рублей\n",
    "    Убыток 1 региона:             0.05\n",
    "\n",
    "    Средняя выручка 2 региона:    768.25 млрд. рублей\n",
    "    Убыток 2 региона:             0.00\n",
    "\n",
    "    Средняя выручка 3 региона:    433.73 млрд. рублей\n",
    "    Убыток 3 региона:             0.07\n",
    "    \n",
    "    При расчёте модели у второго региона оказалось самое низкое предсказание запаса объема нефти. При этом самая маленькая среднеквадратичная ошибка. Прибыль от разработки скважин 2 региона уступает остальным, но разница 2 млрд при 100 млрд инвестиций. \n",
    "    После применения техники bootstrap средняя выручка оказалась самой большой, поэтому предлагаю именно 2 регион для разработки скважин."
   ]
  }
 ],
 "metadata": {
  "ExecuteTimeLog": [
   {
    "duration": 3883,
    "start_time": "2021-09-26T15:24:21.122Z"
   },
   {
    "duration": 7992,
    "start_time": "2021-09-26T15:25:22.072Z"
   },
   {
    "duration": 4415,
    "start_time": "2021-09-26T15:27:14.908Z"
   },
   {
    "duration": 5106,
    "start_time": "2021-09-26T15:27:59.276Z"
   },
   {
    "duration": 1670,
    "start_time": "2021-09-28T15:00:49.287Z"
   },
   {
    "duration": 530,
    "start_time": "2021-09-28T15:01:36.804Z"
   },
   {
    "duration": 42,
    "start_time": "2021-09-28T15:01:49.835Z"
   },
   {
    "duration": 38,
    "start_time": "2021-09-28T15:05:56.398Z"
   },
   {
    "duration": 39,
    "start_time": "2021-09-28T15:06:22.190Z"
   },
   {
    "duration": 36,
    "start_time": "2021-09-28T15:06:34.499Z"
   },
   {
    "duration": 30,
    "start_time": "2021-09-28T15:07:27.199Z"
   },
   {
    "duration": 30,
    "start_time": "2021-09-28T15:08:00.415Z"
   },
   {
    "duration": 60,
    "start_time": "2021-09-28T15:08:38.874Z"
   },
   {
    "duration": 109,
    "start_time": "2021-09-28T15:09:19.196Z"
   },
   {
    "duration": 60,
    "start_time": "2021-09-28T15:09:21.267Z"
   },
   {
    "duration": 25,
    "start_time": "2021-09-28T15:09:34.349Z"
   },
   {
    "duration": 11,
    "start_time": "2021-09-28T15:09:53.235Z"
   },
   {
    "duration": 52,
    "start_time": "2021-09-28T15:10:03.730Z"
   },
   {
    "duration": 35,
    "start_time": "2021-09-28T15:10:13.816Z"
   },
   {
    "duration": 35,
    "start_time": "2021-09-28T15:10:36.887Z"
   },
   {
    "duration": 113,
    "start_time": "2021-09-28T15:10:52.466Z"
   },
   {
    "duration": 10,
    "start_time": "2021-09-28T15:11:07.293Z"
   },
   {
    "duration": 9,
    "start_time": "2021-09-28T15:12:52.103Z"
   },
   {
    "duration": 1202,
    "start_time": "2021-09-28T15:22:15.105Z"
   },
   {
    "duration": 299,
    "start_time": "2021-09-28T15:22:23.230Z"
   },
   {
    "duration": 323,
    "start_time": "2021-09-28T15:22:34.640Z"
   },
   {
    "duration": 7,
    "start_time": "2021-09-28T15:23:09.097Z"
   },
   {
    "duration": 9,
    "start_time": "2021-09-28T15:23:20.327Z"
   },
   {
    "duration": 10,
    "start_time": "2021-09-28T15:23:26.660Z"
   },
   {
    "duration": 11,
    "start_time": "2021-09-28T15:23:32.279Z"
   },
   {
    "duration": 312,
    "start_time": "2021-09-28T15:23:39.860Z"
   },
   {
    "duration": 8,
    "start_time": "2021-09-28T15:23:43.630Z"
   },
   {
    "duration": 9,
    "start_time": "2021-09-28T15:23:58.670Z"
   },
   {
    "duration": 14,
    "start_time": "2021-09-28T15:24:17.966Z"
   },
   {
    "duration": 8,
    "start_time": "2021-09-28T15:24:23.785Z"
   },
   {
    "duration": 13,
    "start_time": "2021-09-28T15:24:30.348Z"
   },
   {
    "duration": 8,
    "start_time": "2021-09-28T15:24:37.818Z"
   },
   {
    "duration": 8,
    "start_time": "2021-09-28T15:24:43.024Z"
   },
   {
    "duration": 9,
    "start_time": "2021-09-28T15:25:34.239Z"
   },
   {
    "duration": 10,
    "start_time": "2021-09-28T15:25:40.472Z"
   },
   {
    "duration": 296,
    "start_time": "2021-09-28T15:26:15.629Z"
   },
   {
    "duration": 1247,
    "start_time": "2021-09-28T15:26:29.660Z"
   },
   {
    "duration": 366,
    "start_time": "2021-09-28T15:27:00.634Z"
   },
   {
    "duration": 9,
    "start_time": "2021-09-28T15:27:12.750Z"
   },
   {
    "duration": 16,
    "start_time": "2021-09-28T15:27:17.765Z"
   },
   {
    "duration": 9,
    "start_time": "2021-09-28T15:27:22.458Z"
   },
   {
    "duration": 13,
    "start_time": "2021-09-28T15:27:46.105Z"
   },
   {
    "duration": 239,
    "start_time": "2021-09-28T15:28:20.827Z"
   },
   {
    "duration": 44,
    "start_time": "2021-09-28T15:29:20.982Z"
   },
   {
    "duration": 1734,
    "start_time": "2021-09-28T15:29:49.026Z"
   },
   {
    "duration": 2236,
    "start_time": "2021-09-28T15:30:06.598Z"
   },
   {
    "duration": 50,
    "start_time": "2021-09-28T15:31:06.716Z"
   },
   {
    "duration": 79,
    "start_time": "2021-09-28T15:31:16.840Z"
   },
   {
    "duration": 48,
    "start_time": "2021-09-28T15:31:21.816Z"
   },
   {
    "duration": 72,
    "start_time": "2021-09-28T15:31:26.937Z"
   },
   {
    "duration": 103,
    "start_time": "2021-09-28T15:31:35.744Z"
   },
   {
    "duration": 58,
    "start_time": "2021-09-28T15:32:03.711Z"
   },
   {
    "duration": 48,
    "start_time": "2021-09-28T15:32:08.512Z"
   },
   {
    "duration": 69,
    "start_time": "2021-09-28T15:32:12.472Z"
   },
   {
    "duration": 82,
    "start_time": "2021-09-28T15:32:15.050Z"
   },
   {
    "duration": 62,
    "start_time": "2021-09-28T15:32:18.776Z"
   },
   {
    "duration": 104,
    "start_time": "2021-09-28T15:32:22.152Z"
   },
   {
    "duration": 111,
    "start_time": "2021-09-28T15:32:32.959Z"
   },
   {
    "duration": 53,
    "start_time": "2021-09-28T15:32:39.097Z"
   },
   {
    "duration": 51,
    "start_time": "2021-09-28T15:32:44.611Z"
   },
   {
    "duration": 66,
    "start_time": "2021-09-28T15:32:49.424Z"
   },
   {
    "duration": 71,
    "start_time": "2021-09-28T15:32:58.556Z"
   },
   {
    "duration": 108,
    "start_time": "2021-09-28T15:33:04.690Z"
   },
   {
    "duration": 101,
    "start_time": "2021-09-28T15:33:08.205Z"
   },
   {
    "duration": 71,
    "start_time": "2021-09-28T15:33:11.270Z"
   },
   {
    "duration": 105,
    "start_time": "2021-09-28T15:33:14.449Z"
   },
   {
    "duration": 99,
    "start_time": "2021-09-28T15:33:23.605Z"
   },
   {
    "duration": 71,
    "start_time": "2021-09-28T15:33:29.754Z"
   },
   {
    "duration": 514,
    "start_time": "2021-09-28T15:33:55.362Z"
   },
   {
    "duration": 455,
    "start_time": "2021-09-28T15:34:19.015Z"
   },
   {
    "duration": 404,
    "start_time": "2021-09-28T15:34:23.767Z"
   },
   {
    "duration": 528,
    "start_time": "2021-09-28T15:34:27.359Z"
   },
   {
    "duration": 388,
    "start_time": "2021-09-28T15:34:44.624Z"
   },
   {
    "duration": 313,
    "start_time": "2021-09-28T15:34:49.965Z"
   },
   {
    "duration": 500,
    "start_time": "2021-09-28T15:34:53.881Z"
   },
   {
    "duration": 459,
    "start_time": "2021-09-28T15:34:57.240Z"
   },
   {
    "duration": 530,
    "start_time": "2021-09-28T15:35:01.247Z"
   },
   {
    "duration": 520,
    "start_time": "2021-09-28T15:35:39.296Z"
   },
   {
    "duration": 1038,
    "start_time": "2021-09-28T15:36:22.622Z"
   },
   {
    "duration": 786,
    "start_time": "2021-09-28T15:36:58.473Z"
   },
   {
    "duration": 1294,
    "start_time": "2021-09-28T15:37:36.890Z"
   },
   {
    "duration": 757,
    "start_time": "2021-09-28T15:38:05.034Z"
   },
   {
    "duration": 1080,
    "start_time": "2021-09-28T15:38:25.508Z"
   },
   {
    "duration": 838,
    "start_time": "2021-09-28T15:38:37.868Z"
   },
   {
    "duration": 866,
    "start_time": "2021-09-28T15:39:09.040Z"
   },
   {
    "duration": 753,
    "start_time": "2021-09-28T15:39:33.948Z"
   },
   {
    "duration": 20667,
    "start_time": "2021-09-28T15:42:50.739Z"
   },
   {
    "duration": 549,
    "start_time": "2021-09-28T15:43:20.009Z"
   },
   {
    "duration": 8702,
    "start_time": "2021-09-28T15:43:55.507Z"
   },
   {
    "duration": 18983,
    "start_time": "2021-09-28T15:44:19.096Z"
   },
   {
    "duration": 19414,
    "start_time": "2021-09-28T15:44:55.018Z"
   },
   {
    "duration": 324,
    "start_time": "2021-09-28T15:45:24.970Z"
   },
   {
    "duration": 8773,
    "start_time": "2021-09-28T15:45:39.983Z"
   },
   {
    "duration": 9452,
    "start_time": "2021-09-28T15:46:08.177Z"
   },
   {
    "duration": 14819,
    "start_time": "2021-09-28T15:46:28.623Z"
   },
   {
    "duration": 8,
    "start_time": "2021-09-28T15:46:56.565Z"
   },
   {
    "duration": 562,
    "start_time": "2021-09-28T15:46:56.577Z"
   },
   {
    "duration": 52,
    "start_time": "2021-09-28T15:46:57.142Z"
   },
   {
    "duration": 37,
    "start_time": "2021-09-28T15:46:57.197Z"
   },
   {
    "duration": 66,
    "start_time": "2021-09-28T15:46:57.237Z"
   },
   {
    "duration": 33,
    "start_time": "2021-09-28T15:46:57.308Z"
   },
   {
    "duration": 77,
    "start_time": "2021-09-28T15:46:57.344Z"
   },
   {
    "duration": 126,
    "start_time": "2021-09-28T15:46:57.424Z"
   },
   {
    "duration": 30,
    "start_time": "2021-09-28T15:46:57.555Z"
   },
   {
    "duration": 23,
    "start_time": "2021-09-28T15:46:57.588Z"
   },
   {
    "duration": 62,
    "start_time": "2021-09-28T15:46:57.613Z"
   },
   {
    "duration": 38,
    "start_time": "2021-09-28T15:46:57.677Z"
   },
   {
    "duration": 9,
    "start_time": "2021-09-28T15:46:57.717Z"
   },
   {
    "duration": 46,
    "start_time": "2021-09-28T15:46:57.728Z"
   },
   {
    "duration": 35,
    "start_time": "2021-09-28T15:46:57.777Z"
   },
   {
    "duration": 60,
    "start_time": "2021-09-28T15:46:57.869Z"
   },
   {
    "duration": 2184,
    "start_time": "2021-09-28T15:46:57.931Z"
   },
   {
    "duration": 77,
    "start_time": "2021-09-28T15:47:00.118Z"
   },
   {
    "duration": 517,
    "start_time": "2021-09-28T15:47:00.198Z"
   },
   {
    "duration": 787,
    "start_time": "2021-09-28T15:47:00.718Z"
   },
   {
    "duration": 19707,
    "start_time": "2021-09-28T15:47:01.508Z"
   },
   {
    "duration": 339,
    "start_time": "2021-09-28T15:47:21.218Z"
   },
   {
    "duration": -418,
    "start_time": "2021-09-28T15:47:21.979Z"
   },
   {
    "duration": 9706,
    "start_time": "2021-09-28T15:47:36.393Z"
   },
   {
    "duration": 7,
    "start_time": "2021-09-28T15:47:59.083Z"
   },
   {
    "duration": 651,
    "start_time": "2021-09-28T15:47:59.093Z"
   },
   {
    "duration": 62,
    "start_time": "2021-09-28T15:47:59.747Z"
   },
   {
    "duration": 38,
    "start_time": "2021-09-28T15:47:59.816Z"
   },
   {
    "duration": 53,
    "start_time": "2021-09-28T15:47:59.857Z"
   },
   {
    "duration": 34,
    "start_time": "2021-09-28T15:47:59.913Z"
   },
   {
    "duration": 81,
    "start_time": "2021-09-28T15:47:59.949Z"
   },
   {
    "duration": 122,
    "start_time": "2021-09-28T15:48:00.032Z"
   },
   {
    "duration": 40,
    "start_time": "2021-09-28T15:48:00.159Z"
   },
   {
    "duration": 12,
    "start_time": "2021-09-28T15:48:00.225Z"
   },
   {
    "duration": 57,
    "start_time": "2021-09-28T15:48:00.240Z"
   },
   {
    "duration": 34,
    "start_time": "2021-09-28T15:48:00.300Z"
   },
   {
    "duration": 67,
    "start_time": "2021-09-28T15:48:00.337Z"
   },
   {
    "duration": 88,
    "start_time": "2021-09-28T15:48:00.407Z"
   },
   {
    "duration": 72,
    "start_time": "2021-09-28T15:48:00.504Z"
   },
   {
    "duration": 62,
    "start_time": "2021-09-28T15:48:00.587Z"
   },
   {
    "duration": 2204,
    "start_time": "2021-09-28T15:48:00.653Z"
   },
   {
    "duration": 85,
    "start_time": "2021-09-28T15:48:02.860Z"
   },
   {
    "duration": 572,
    "start_time": "2021-09-28T15:48:02.948Z"
   },
   {
    "duration": 870,
    "start_time": "2021-09-28T15:48:03.523Z"
   },
   {
    "duration": 21720,
    "start_time": "2021-09-28T15:48:04.396Z"
   },
   {
    "duration": 16,
    "start_time": "2021-09-28T15:48:26.119Z"
   },
   {
    "duration": 379,
    "start_time": "2021-09-28T15:48:26.137Z"
   },
   {
    "duration": 381,
    "start_time": "2021-09-28T15:49:31.743Z"
   },
   {
    "duration": 742,
    "start_time": "2021-09-28T15:50:08.314Z"
   },
   {
    "duration": 642,
    "start_time": "2021-09-28T15:50:19.084Z"
   },
   {
    "duration": 334,
    "start_time": "2021-09-28T15:50:42.309Z"
   },
   {
    "duration": 328,
    "start_time": "2021-09-28T15:50:52.070Z"
   },
   {
    "duration": 326,
    "start_time": "2021-09-28T15:51:07.925Z"
   },
   {
    "duration": 316,
    "start_time": "2021-09-28T15:51:12.303Z"
   },
   {
    "duration": 643,
    "start_time": "2021-09-28T15:52:26.540Z"
   },
   {
    "duration": 756,
    "start_time": "2021-09-28T15:53:36.464Z"
   },
   {
    "duration": 617,
    "start_time": "2021-09-28T15:53:43.542Z"
   },
   {
    "duration": 334,
    "start_time": "2021-09-28T15:54:04.861Z"
   },
   {
    "duration": 328,
    "start_time": "2021-09-28T15:54:36.125Z"
   },
   {
    "duration": 11,
    "start_time": "2021-09-28T15:54:41.182Z"
   },
   {
    "duration": 454,
    "start_time": "2021-09-28T15:54:52.416Z"
   },
   {
    "duration": 332,
    "start_time": "2021-09-28T15:55:43.445Z"
   },
   {
    "duration": 358,
    "start_time": "2021-09-28T15:55:50.185Z"
   },
   {
    "duration": 7485,
    "start_time": "2021-09-28T15:55:55.698Z"
   },
   {
    "duration": 1664,
    "start_time": "2021-09-28T15:56:47.288Z"
   },
   {
    "duration": 569,
    "start_time": "2021-09-28T15:56:48.955Z"
   },
   {
    "duration": 54,
    "start_time": "2021-09-28T15:56:49.527Z"
   },
   {
    "duration": 37,
    "start_time": "2021-09-28T15:56:49.584Z"
   },
   {
    "duration": 53,
    "start_time": "2021-09-28T15:56:49.623Z"
   },
   {
    "duration": 40,
    "start_time": "2021-09-28T15:56:49.682Z"
   },
   {
    "duration": 87,
    "start_time": "2021-09-28T15:56:49.724Z"
   },
   {
    "duration": 125,
    "start_time": "2021-09-28T15:56:49.815Z"
   },
   {
    "duration": 32,
    "start_time": "2021-09-28T15:56:49.944Z"
   },
   {
    "duration": 24,
    "start_time": "2021-09-28T15:56:49.979Z"
   },
   {
    "duration": 53,
    "start_time": "2021-09-28T15:56:50.006Z"
   },
   {
    "duration": 43,
    "start_time": "2021-09-28T15:56:50.068Z"
   },
   {
    "duration": 64,
    "start_time": "2021-09-28T15:56:50.113Z"
   },
   {
    "duration": 104,
    "start_time": "2021-09-28T15:56:50.181Z"
   },
   {
    "duration": 90,
    "start_time": "2021-09-28T15:56:50.304Z"
   },
   {
    "duration": 35,
    "start_time": "2021-09-28T15:56:50.402Z"
   },
   {
    "duration": 2091,
    "start_time": "2021-09-28T15:56:50.439Z"
   },
   {
    "duration": 82,
    "start_time": "2021-09-28T15:56:52.533Z"
   },
   {
    "duration": 460,
    "start_time": "2021-09-28T15:56:52.617Z"
   },
   {
    "duration": 757,
    "start_time": "2021-09-28T15:56:53.080Z"
   },
   {
    "duration": 19372,
    "start_time": "2021-09-28T15:56:53.840Z"
   },
   {
    "duration": 5,
    "start_time": "2021-09-28T15:57:13.214Z"
   },
   {
    "duration": 363,
    "start_time": "2021-09-28T15:57:13.223Z"
   },
   {
    "duration": 123,
    "start_time": "2021-09-28T16:19:10.178Z"
   },
   {
    "duration": 120,
    "start_time": "2021-09-28T16:19:43.005Z"
   },
   {
    "duration": 578,
    "start_time": "2021-09-28T16:19:53.276Z"
   },
   {
    "duration": 567,
    "start_time": "2021-09-28T16:20:07.827Z"
   },
   {
    "duration": 18964,
    "start_time": "2021-09-28T16:20:33.580Z"
   },
   {
    "duration": 18779,
    "start_time": "2021-09-28T16:21:38.320Z"
   },
   {
    "duration": 18332,
    "start_time": "2021-09-28T16:22:25.728Z"
   },
   {
    "duration": 18168,
    "start_time": "2021-09-28T16:22:59.181Z"
   },
   {
    "duration": 7626,
    "start_time": "2021-09-28T16:23:35.841Z"
   },
   {
    "duration": 18424,
    "start_time": "2021-09-28T16:24:32.414Z"
   },
   {
    "duration": 18717,
    "start_time": "2021-09-28T16:25:35.391Z"
   },
   {
    "duration": 18888,
    "start_time": "2021-09-28T16:26:03.002Z"
   },
   {
    "duration": 19335,
    "start_time": "2021-09-28T16:28:05.009Z"
   },
   {
    "duration": 6975,
    "start_time": "2021-09-28T16:28:33.905Z"
   },
   {
    "duration": 6956,
    "start_time": "2021-09-28T16:28:49.375Z"
   },
   {
    "duration": 17483,
    "start_time": "2021-09-28T16:29:24.569Z"
   },
   {
    "duration": 7,
    "start_time": "2021-09-28T16:30:09.418Z"
   },
   {
    "duration": 312,
    "start_time": "2021-09-28T16:30:13.331Z"
   },
   {
    "duration": 301,
    "start_time": "2021-09-28T16:36:07.934Z"
   },
   {
    "duration": 37,
    "start_time": "2021-09-28T16:36:16.998Z"
   },
   {
    "duration": 36,
    "start_time": "2021-09-28T16:37:36.703Z"
   },
   {
    "duration": 1473,
    "start_time": "2021-09-28T16:38:02.014Z"
   },
   {
    "duration": 497,
    "start_time": "2021-09-28T16:38:03.558Z"
   },
   {
    "duration": 36,
    "start_time": "2021-09-28T16:38:05.753Z"
   },
   {
    "duration": 39,
    "start_time": "2021-09-28T16:38:12.714Z"
   },
   {
    "duration": 29,
    "start_time": "2021-09-28T16:38:39.034Z"
   },
   {
    "duration": 33,
    "start_time": "2021-09-28T16:39:06.506Z"
   },
   {
    "duration": 31,
    "start_time": "2021-09-28T16:39:09.014Z"
   },
   {
    "duration": 50,
    "start_time": "2021-09-28T16:39:13.166Z"
   },
   {
    "duration": 44,
    "start_time": "2021-09-28T16:41:13.392Z"
   },
   {
    "duration": 20,
    "start_time": "2021-09-28T16:43:39.731Z"
   },
   {
    "duration": 463,
    "start_time": "2021-09-28T16:46:44.068Z"
   },
   {
    "duration": 23,
    "start_time": "2021-09-28T16:46:51.762Z"
   },
   {
    "duration": 29,
    "start_time": "2021-09-28T16:46:53.222Z"
   },
   {
    "duration": 7484,
    "start_time": "2021-09-28T16:46:55.607Z"
   },
   {
    "duration": -684,
    "start_time": "2021-09-28T16:47:03.780Z"
   },
   {
    "duration": -685,
    "start_time": "2021-09-28T16:47:03.783Z"
   },
   {
    "duration": 296,
    "start_time": "2021-09-28T16:47:16.560Z"
   },
   {
    "duration": 273,
    "start_time": "2021-09-28T16:47:29.745Z"
   },
   {
    "duration": 12,
    "start_time": "2021-09-28T16:47:36.726Z"
   },
   {
    "duration": 43,
    "start_time": "2021-09-28T16:47:39.291Z"
   },
   {
    "duration": 32,
    "start_time": "2021-09-28T16:47:47.350Z"
   },
   {
    "duration": 28,
    "start_time": "2021-09-28T16:47:52.718Z"
   },
   {
    "duration": 8,
    "start_time": "2021-09-28T16:52:04.790Z"
   },
   {
    "duration": 9,
    "start_time": "2021-09-28T16:52:05.723Z"
   },
   {
    "duration": 34,
    "start_time": "2021-09-28T16:52:09.129Z"
   },
   {
    "duration": 1960,
    "start_time": "2021-09-28T16:52:09.412Z"
   },
   {
    "duration": 9,
    "start_time": "2021-09-28T16:56:32.161Z"
   },
   {
    "duration": 9,
    "start_time": "2021-09-28T16:57:08.191Z"
   },
   {
    "duration": 9,
    "start_time": "2021-09-28T16:57:21.605Z"
   },
   {
    "duration": 50,
    "start_time": "2021-09-28T17:05:38.979Z"
   },
   {
    "duration": 4,
    "start_time": "2021-09-28T17:08:32.129Z"
   },
   {
    "duration": 38,
    "start_time": "2021-09-28T17:08:41.528Z"
   },
   {
    "duration": 377,
    "start_time": "2021-09-28T17:10:01.500Z"
   },
   {
    "duration": 45,
    "start_time": "2021-09-28T17:10:05.556Z"
   },
   {
    "duration": 5,
    "start_time": "2021-09-28T17:10:50.933Z"
   },
   {
    "duration": 477,
    "start_time": "2021-09-28T17:10:51.803Z"
   },
   {
    "duration": 34,
    "start_time": "2021-09-28T17:10:54.975Z"
   },
   {
    "duration": 37,
    "start_time": "2021-09-28T17:11:01.072Z"
   },
   {
    "duration": 26,
    "start_time": "2021-09-28T17:11:06.347Z"
   },
   {
    "duration": 294,
    "start_time": "2021-09-28T17:11:35.951Z"
   },
   {
    "duration": 32,
    "start_time": "2021-09-28T17:11:39.855Z"
   },
   {
    "duration": 53,
    "start_time": "2021-09-28T17:11:49.543Z"
   },
   {
    "duration": 98,
    "start_time": "2021-09-28T17:11:53.450Z"
   },
   {
    "duration": 17,
    "start_time": "2021-09-28T17:11:57.382Z"
   },
   {
    "duration": 11,
    "start_time": "2021-09-28T17:12:00.441Z"
   },
   {
    "duration": 43,
    "start_time": "2021-09-28T17:12:01.567Z"
   },
   {
    "duration": 26,
    "start_time": "2021-09-28T17:12:03.732Z"
   },
   {
    "duration": 279,
    "start_time": "2021-09-28T17:12:04.789Z"
   },
   {
    "duration": 7,
    "start_time": "2021-09-28T17:12:06.292Z"
   },
   {
    "duration": 21,
    "start_time": "2021-09-28T17:12:14.407Z"
   },
   {
    "duration": 16,
    "start_time": "2021-09-28T17:12:32.852Z"
   },
   {
    "duration": 52,
    "start_time": "2021-09-28T17:12:37.292Z"
   },
   {
    "duration": 1929,
    "start_time": "2021-09-28T17:12:42.644Z"
   },
   {
    "duration": 4,
    "start_time": "2021-09-28T17:12:53.093Z"
   },
   {
    "duration": 43,
    "start_time": "2021-09-28T17:12:57.989Z"
   },
   {
    "duration": 548,
    "start_time": "2021-09-28T17:19:41.725Z"
   },
   {
    "duration": 661,
    "start_time": "2021-09-28T17:21:41.349Z"
   },
   {
    "duration": 298,
    "start_time": "2021-09-28T17:23:24.979Z"
   },
   {
    "duration": 4,
    "start_time": "2021-09-28T17:23:35.818Z"
   },
   {
    "duration": 737,
    "start_time": "2021-09-28T17:24:54.962Z"
   },
   {
    "duration": 16183,
    "start_time": "2021-09-28T17:25:10.690Z"
   },
   {
    "duration": 6,
    "start_time": "2021-09-28T17:28:01.360Z"
   },
   {
    "duration": 295,
    "start_time": "2021-09-28T17:28:05.503Z"
   },
   {
    "duration": 1497,
    "start_time": "2021-09-28T18:18:22.408Z"
   },
   {
    "duration": 477,
    "start_time": "2021-09-28T18:18:23.908Z"
   },
   {
    "duration": 36,
    "start_time": "2021-09-28T18:18:24.389Z"
   },
   {
    "duration": 66,
    "start_time": "2021-09-28T18:18:24.429Z"
   },
   {
    "duration": 33,
    "start_time": "2021-09-28T18:18:24.498Z"
   },
   {
    "duration": 66,
    "start_time": "2021-09-28T18:18:24.533Z"
   },
   {
    "duration": 82,
    "start_time": "2021-09-28T18:18:24.602Z"
   },
   {
    "duration": 112,
    "start_time": "2021-09-28T18:18:24.688Z"
   },
   {
    "duration": 17,
    "start_time": "2021-09-28T18:18:24.804Z"
   },
   {
    "duration": 19,
    "start_time": "2021-09-28T18:18:24.824Z"
   },
   {
    "duration": 61,
    "start_time": "2021-09-28T18:18:24.846Z"
   },
   {
    "duration": 31,
    "start_time": "2021-09-28T18:18:24.909Z"
   },
   {
    "duration": 37,
    "start_time": "2021-09-28T18:18:24.942Z"
   },
   {
    "duration": 97,
    "start_time": "2021-09-28T18:18:25.070Z"
   },
   {
    "duration": 21,
    "start_time": "2021-09-28T18:18:25.170Z"
   },
   {
    "duration": 86,
    "start_time": "2021-09-28T18:18:25.193Z"
   },
   {
    "duration": 1899,
    "start_time": "2021-09-28T18:18:25.281Z"
   },
   {
    "duration": 4,
    "start_time": "2021-09-28T18:18:27.182Z"
   },
   {
    "duration": 57,
    "start_time": "2021-09-28T18:18:27.188Z"
   },
   {
    "duration": 614,
    "start_time": "2021-09-28T18:18:27.268Z"
   },
   {
    "duration": 667,
    "start_time": "2021-09-28T18:18:27.885Z"
   },
   {
    "duration": 16536,
    "start_time": "2021-09-28T18:18:28.554Z"
   },
   {
    "duration": 5,
    "start_time": "2021-09-28T18:18:45.094Z"
   },
   {
    "duration": 304,
    "start_time": "2021-09-28T18:18:45.102Z"
   },
   {
    "duration": 1283,
    "start_time": "2021-09-29T07:49:06.242Z"
   },
   {
    "duration": 378,
    "start_time": "2021-09-29T07:49:07.527Z"
   },
   {
    "duration": 26,
    "start_time": "2021-09-29T07:49:07.907Z"
   },
   {
    "duration": 37,
    "start_time": "2021-09-29T07:49:07.935Z"
   },
   {
    "duration": 24,
    "start_time": "2021-09-29T07:49:07.974Z"
   },
   {
    "duration": 24,
    "start_time": "2021-09-29T07:49:08.000Z"
   },
   {
    "duration": 52,
    "start_time": "2021-09-29T07:49:08.050Z"
   },
   {
    "duration": 91,
    "start_time": "2021-09-29T07:49:08.104Z"
   },
   {
    "duration": 15,
    "start_time": "2021-09-29T07:49:08.197Z"
   },
   {
    "duration": 14,
    "start_time": "2021-09-29T07:49:08.213Z"
   },
   {
    "duration": 55,
    "start_time": "2021-09-29T07:49:08.228Z"
   },
   {
    "duration": 25,
    "start_time": "2021-09-29T07:49:08.285Z"
   },
   {
    "duration": 41,
    "start_time": "2021-09-29T07:49:08.312Z"
   },
   {
    "duration": 95,
    "start_time": "2021-09-29T07:49:08.355Z"
   },
   {
    "duration": 101,
    "start_time": "2021-09-29T07:49:08.452Z"
   },
   {
    "duration": 35,
    "start_time": "2021-09-29T07:49:08.555Z"
   },
   {
    "duration": 1485,
    "start_time": "2021-09-29T07:49:08.592Z"
   },
   {
    "duration": 2,
    "start_time": "2021-09-29T07:49:10.079Z"
   },
   {
    "duration": 35,
    "start_time": "2021-09-29T07:49:10.083Z"
   },
   {
    "duration": 641,
    "start_time": "2021-09-29T07:49:10.120Z"
   },
   {
    "duration": 524,
    "start_time": "2021-09-29T07:49:10.763Z"
   },
   {
    "duration": 9733,
    "start_time": "2021-09-29T07:49:11.289Z"
   },
   {
    "duration": 4,
    "start_time": "2021-09-29T07:49:21.025Z"
   },
   {
    "duration": 188,
    "start_time": "2021-09-29T07:49:21.030Z"
   },
   {
    "duration": 4,
    "start_time": "2021-09-29T08:12:05.830Z"
   },
   {
    "duration": 1550,
    "start_time": "2021-09-29T16:17:18.837Z"
   },
   {
    "duration": 483,
    "start_time": "2021-09-29T16:17:20.390Z"
   },
   {
    "duration": 34,
    "start_time": "2021-09-29T16:17:20.876Z"
   },
   {
    "duration": 55,
    "start_time": "2021-09-29T16:17:20.913Z"
   },
   {
    "duration": 31,
    "start_time": "2021-09-29T16:17:20.971Z"
   },
   {
    "duration": 97,
    "start_time": "2021-09-29T16:17:21.004Z"
   },
   {
    "duration": 131,
    "start_time": "2021-09-29T16:17:21.103Z"
   },
   {
    "duration": 30,
    "start_time": "2021-09-29T16:17:21.238Z"
   },
   {
    "duration": 19,
    "start_time": "2021-09-29T16:17:21.272Z"
   },
   {
    "duration": 85,
    "start_time": "2021-09-29T16:17:21.294Z"
   },
   {
    "duration": 41,
    "start_time": "2021-09-29T16:17:21.382Z"
   },
   {
    "duration": 46,
    "start_time": "2021-09-29T16:17:21.426Z"
   },
   {
    "duration": 197,
    "start_time": "2021-09-29T16:17:21.476Z"
   },
   {
    "duration": 49,
    "start_time": "2021-09-29T16:17:21.675Z"
   },
   {
    "duration": 1915,
    "start_time": "2021-09-29T16:17:21.768Z"
   },
   {
    "duration": 4,
    "start_time": "2021-09-29T16:17:23.687Z"
   },
   {
    "duration": 75,
    "start_time": "2021-09-29T16:17:23.694Z"
   },
   {
    "duration": 614,
    "start_time": "2021-09-29T16:17:23.771Z"
   },
   {
    "duration": 717,
    "start_time": "2021-09-29T16:17:24.388Z"
   },
   {
    "duration": 16314,
    "start_time": "2021-09-29T16:17:25.109Z"
   },
   {
    "duration": 5,
    "start_time": "2021-09-29T16:17:41.426Z"
   },
   {
    "duration": 295,
    "start_time": "2021-09-29T16:17:41.433Z"
   },
   {
    "duration": 18,
    "start_time": "2021-09-29T16:18:06.149Z"
   },
   {
    "duration": 463,
    "start_time": "2021-09-29T16:24:43.652Z"
   },
   {
    "duration": 4,
    "start_time": "2021-09-29T16:24:52.225Z"
   },
   {
    "duration": 87,
    "start_time": "2021-09-29T16:24:54.728Z"
   },
   {
    "duration": 97,
    "start_time": "2021-09-29T16:25:22.931Z"
   },
   {
    "duration": 78,
    "start_time": "2021-09-29T16:25:28.270Z"
   },
   {
    "duration": 76,
    "start_time": "2021-09-29T16:25:34.188Z"
   },
   {
    "duration": 78,
    "start_time": "2021-09-29T16:25:38.444Z"
   },
   {
    "duration": 83,
    "start_time": "2021-09-29T16:26:30.409Z"
   },
   {
    "duration": 90,
    "start_time": "2021-09-29T16:26:59.817Z"
   },
   {
    "duration": 90,
    "start_time": "2021-09-29T16:27:04.657Z"
   },
   {
    "duration": 103,
    "start_time": "2021-09-29T16:27:34.697Z"
   },
   {
    "duration": 77,
    "start_time": "2021-09-29T16:27:51.956Z"
   },
   {
    "duration": 80,
    "start_time": "2021-09-29T16:28:00.953Z"
   },
   {
    "duration": 82,
    "start_time": "2021-09-29T16:28:39.649Z"
   },
   {
    "duration": 112,
    "start_time": "2021-09-29T16:42:46.312Z"
   },
   {
    "duration": 6202,
    "start_time": "2021-09-29T16:42:56.407Z"
   },
   {
    "duration": 6371,
    "start_time": "2021-09-29T16:43:05.388Z"
   },
   {
    "duration": 6200,
    "start_time": "2021-09-29T16:43:32.067Z"
   },
   {
    "duration": 16894,
    "start_time": "2021-09-29T16:43:54.443Z"
   },
   {
    "duration": 119,
    "start_time": "2021-09-29T17:02:33.014Z"
   },
   {
    "duration": 3,
    "start_time": "2021-09-29T17:03:56.866Z"
   },
   {
    "duration": 3,
    "start_time": "2021-09-29T17:14:07.179Z"
   },
   {
    "duration": 4,
    "start_time": "2021-09-29T17:14:55.860Z"
   },
   {
    "duration": 3,
    "start_time": "2021-09-29T17:14:58.354Z"
   },
   {
    "duration": 3,
    "start_time": "2021-09-29T17:18:23.747Z"
   },
   {
    "duration": 1496,
    "start_time": "2021-09-29T17:20:53.080Z"
   },
   {
    "duration": 495,
    "start_time": "2021-09-29T17:20:54.579Z"
   },
   {
    "duration": 36,
    "start_time": "2021-09-29T17:20:55.078Z"
   },
   {
    "duration": 65,
    "start_time": "2021-09-29T17:20:55.116Z"
   },
   {
    "duration": 4,
    "start_time": "2021-09-29T17:20:55.183Z"
   },
   {
    "duration": 54,
    "start_time": "2021-09-29T17:20:55.189Z"
   },
   {
    "duration": 71,
    "start_time": "2021-09-29T17:20:55.246Z"
   },
   {
    "duration": 126,
    "start_time": "2021-09-29T17:20:55.321Z"
   },
   {
    "duration": 33,
    "start_time": "2021-09-29T17:20:55.450Z"
   },
   {
    "duration": 24,
    "start_time": "2021-09-29T17:20:55.485Z"
   },
   {
    "duration": 56,
    "start_time": "2021-09-29T17:20:55.511Z"
   },
   {
    "duration": 30,
    "start_time": "2021-09-29T17:20:55.569Z"
   },
   {
    "duration": 68,
    "start_time": "2021-09-29T17:20:55.601Z"
   },
   {
    "duration": 4,
    "start_time": "2021-09-29T17:20:55.673Z"
   },
   {
    "duration": 91,
    "start_time": "2021-09-29T17:20:55.681Z"
   },
   {
    "duration": 25,
    "start_time": "2021-09-29T17:20:55.775Z"
   },
   {
    "duration": 114,
    "start_time": "2021-09-29T17:20:55.802Z"
   },
   {
    "duration": 2263,
    "start_time": "2021-09-29T17:20:55.918Z"
   },
   {
    "duration": 4,
    "start_time": "2021-09-29T17:20:58.183Z"
   },
   {
    "duration": 101,
    "start_time": "2021-09-29T17:20:58.190Z"
   },
   {
    "duration": 584,
    "start_time": "2021-09-29T17:20:58.293Z"
   },
   {
    "duration": 650,
    "start_time": "2021-09-29T17:20:58.879Z"
   },
   {
    "duration": 16600,
    "start_time": "2021-09-29T17:20:59.534Z"
   },
   {
    "duration": 4,
    "start_time": "2021-09-29T17:21:16.136Z"
   },
   {
    "duration": 25,
    "start_time": "2021-09-29T17:21:16.143Z"
   },
   {
    "duration": 278,
    "start_time": "2021-09-29T17:21:16.170Z"
   },
   {
    "duration": 1233,
    "start_time": "2021-10-31T10:17:30.833Z"
   },
   {
    "duration": 372,
    "start_time": "2021-10-31T10:17:32.069Z"
   },
   {
    "duration": 26,
    "start_time": "2021-10-31T10:17:32.443Z"
   },
   {
    "duration": 48,
    "start_time": "2021-10-31T10:17:32.471Z"
   },
   {
    "duration": 3,
    "start_time": "2021-10-31T10:17:32.521Z"
   },
   {
    "duration": 26,
    "start_time": "2021-10-31T10:17:35.121Z"
   },
   {
    "duration": 46,
    "start_time": "2021-10-31T10:17:36.394Z"
   },
   {
    "duration": 64,
    "start_time": "2021-10-31T10:17:37.641Z"
   },
   {
    "duration": 16,
    "start_time": "2021-10-31T10:17:38.963Z"
   },
   {
    "duration": 9,
    "start_time": "2021-10-31T10:17:41.177Z"
   },
   {
    "duration": 37,
    "start_time": "2021-10-31T10:17:41.836Z"
   },
   {
    "duration": 24,
    "start_time": "2021-10-31T10:17:43.841Z"
   },
   {
    "duration": 11,
    "start_time": "2021-10-31T10:17:45.576Z"
   },
   {
    "duration": 3,
    "start_time": "2021-10-31T10:17:46.833Z"
   },
   {
    "duration": 3,
    "start_time": "2021-10-31T10:17:47.465Z"
   },
   {
    "duration": 13,
    "start_time": "2021-10-31T10:17:48.324Z"
   },
   {
    "duration": 35,
    "start_time": "2021-10-31T10:17:53.258Z"
   },
   {
    "duration": 129,
    "start_time": "2021-10-31T10:18:10.405Z"
   },
   {
    "duration": 35,
    "start_time": "2021-10-31T10:18:18.490Z"
   },
   {
    "duration": 107,
    "start_time": "2021-10-31T10:18:44.075Z"
   },
   {
    "duration": 108,
    "start_time": "2021-10-31T10:18:53.738Z"
   },
   {
    "duration": 114,
    "start_time": "2021-10-31T10:19:05.190Z"
   },
   {
    "duration": 38,
    "start_time": "2021-10-31T10:19:12.322Z"
   },
   {
    "duration": 118,
    "start_time": "2021-10-31T10:19:22.890Z"
   },
   {
    "duration": 36,
    "start_time": "2021-10-31T10:19:43.071Z"
   },
   {
    "duration": 15,
    "start_time": "2021-10-31T10:21:09.490Z"
   },
   {
    "duration": 14,
    "start_time": "2021-10-31T10:21:41.281Z"
   },
   {
    "duration": 34,
    "start_time": "2021-10-31T10:21:49.635Z"
   },
   {
    "duration": 1279,
    "start_time": "2021-10-31T10:21:51.611Z"
   },
   {
    "duration": 13,
    "start_time": "2021-10-31T10:24:25.900Z"
   },
   {
    "duration": 37,
    "start_time": "2021-10-31T10:24:38.515Z"
   },
   {
    "duration": 1445,
    "start_time": "2021-10-31T10:24:40.019Z"
   },
   {
    "duration": 530,
    "start_time": "2021-10-31T10:25:16.451Z"
   },
   {
    "duration": 3,
    "start_time": "2021-10-31T10:25:29.867Z"
   },
   {
    "duration": 61,
    "start_time": "2021-10-31T10:25:33.573Z"
   },
   {
    "duration": 618,
    "start_time": "2021-10-31T10:25:44.889Z"
   },
   {
    "duration": 418,
    "start_time": "2021-10-31T10:25:57.139Z"
   },
   {
    "duration": 10258,
    "start_time": "2021-10-31T10:26:09.923Z"
   },
   {
    "duration": 3,
    "start_time": "2021-10-31T10:26:20.183Z"
   },
   {
    "duration": 4,
    "start_time": "2021-10-31T10:26:55.544Z"
   },
   {
    "duration": 169,
    "start_time": "2021-10-31T10:26:58.116Z"
   },
   {
    "duration": 2520,
    "start_time": "2021-11-07T18:36:33.534Z"
   },
   {
    "duration": 1056,
    "start_time": "2021-11-07T18:36:41.489Z"
   },
   {
    "duration": 83,
    "start_time": "2021-11-07T18:36:43.940Z"
   },
   {
    "duration": 71,
    "start_time": "2021-11-07T18:36:45.765Z"
   },
   {
    "duration": 158,
    "start_time": "2021-11-07T18:36:47.269Z"
   },
   {
    "duration": 216,
    "start_time": "2021-11-07T18:36:49.341Z"
   },
   {
    "duration": 51,
    "start_time": "2021-11-07T18:36:53.574Z"
   },
   {
    "duration": 13,
    "start_time": "2021-11-07T18:37:06.918Z"
   },
   {
    "duration": 125,
    "start_time": "2021-11-07T18:37:08.908Z"
   },
   {
    "duration": 62,
    "start_time": "2021-11-07T18:37:11.092Z"
   },
   {
    "duration": 162,
    "start_time": "2021-11-07T18:37:12.164Z"
   },
   {
    "duration": 3,
    "start_time": "2021-11-07T18:37:23.788Z"
   },
   {
    "duration": 3,
    "start_time": "2021-11-07T18:37:24.475Z"
   },
   {
    "duration": 1743,
    "start_time": "2021-11-07T18:37:25.460Z"
   },
   {
    "duration": 13,
    "start_time": "2021-11-07T18:37:39.865Z"
   },
   {
    "duration": 142,
    "start_time": "2021-11-07T18:37:47.986Z"
   },
   {
    "duration": 3795,
    "start_time": "2021-11-07T18:38:03.957Z"
   },
   {
    "duration": 4,
    "start_time": "2021-11-07T18:38:30.061Z"
   },
   {
    "duration": 135,
    "start_time": "2021-11-07T18:38:33.502Z"
   },
   {
    "duration": 282,
    "start_time": "2021-11-07T18:38:37.812Z"
   },
   {
    "duration": 681,
    "start_time": "2021-11-07T18:39:02.562Z"
   },
   {
    "duration": 1229,
    "start_time": "2021-11-07T18:39:14.717Z"
   },
   {
    "duration": 2586,
    "start_time": "2021-11-07T18:39:53.464Z"
   },
   {
    "duration": 1010,
    "start_time": "2021-11-07T18:39:56.053Z"
   },
   {
    "duration": 82,
    "start_time": "2021-11-07T18:39:57.066Z"
   },
   {
    "duration": 97,
    "start_time": "2021-11-07T18:39:57.151Z"
   },
   {
    "duration": 108,
    "start_time": "2021-11-07T18:39:57.251Z"
   },
   {
    "duration": 204,
    "start_time": "2021-11-07T18:39:57.423Z"
   },
   {
    "duration": 20,
    "start_time": "2021-11-07T18:39:57.630Z"
   },
   {
    "duration": 72,
    "start_time": "2021-11-07T18:39:57.654Z"
   },
   {
    "duration": 101,
    "start_time": "2021-11-07T18:39:57.730Z"
   },
   {
    "duration": 91,
    "start_time": "2021-11-07T18:39:57.834Z"
   },
   {
    "duration": 96,
    "start_time": "2021-11-07T18:39:57.928Z"
   },
   {
    "duration": 92,
    "start_time": "2021-11-07T18:39:58.032Z"
   },
   {
    "duration": 6,
    "start_time": "2021-11-07T18:39:58.127Z"
   },
   {
    "duration": 14,
    "start_time": "2021-11-07T18:39:58.136Z"
   },
   {
    "duration": 192,
    "start_time": "2021-11-07T18:39:58.153Z"
   },
   {
    "duration": 3305,
    "start_time": "2021-11-07T18:39:58.347Z"
   },
   {
    "duration": 4,
    "start_time": "2021-11-07T18:40:01.656Z"
   },
   {
    "duration": 186,
    "start_time": "2021-11-07T18:40:01.663Z"
   },
   {
    "duration": 687,
    "start_time": "2021-11-07T18:40:01.851Z"
   },
   {
    "duration": 1311,
    "start_time": "2021-11-07T18:40:02.541Z"
   },
   {
    "duration": 35767,
    "start_time": "2021-11-07T18:40:03.855Z"
   },
   {
    "duration": 4,
    "start_time": "2021-11-07T18:40:39.624Z"
   },
   {
    "duration": 22,
    "start_time": "2021-11-07T18:40:39.631Z"
   },
   {
    "duration": 705,
    "start_time": "2021-11-07T18:40:39.655Z"
   },
   {
    "duration": 13,
    "start_time": "2021-11-07T19:33:47.934Z"
   },
   {
    "duration": 6,
    "start_time": "2021-11-07T19:33:49.100Z"
   },
   {
    "duration": 131,
    "start_time": "2021-11-07T19:34:21.395Z"
   },
   {
    "duration": 16,
    "start_time": "2021-11-07T19:34:30.948Z"
   },
   {
    "duration": 4,
    "start_time": "2021-11-07T19:34:32.452Z"
   },
   {
    "duration": 12,
    "start_time": "2021-11-07T19:34:40.468Z"
   },
   {
    "duration": 4,
    "start_time": "2021-11-07T19:34:40.740Z"
   },
   {
    "duration": 13,
    "start_time": "2021-11-07T19:38:14.339Z"
   },
   {
    "duration": 142,
    "start_time": "2021-11-07T19:45:07.206Z"
   },
   {
    "duration": 15,
    "start_time": "2021-11-07T19:45:09.061Z"
   },
   {
    "duration": 414,
    "start_time": "2021-11-07T19:45:29.790Z"
   },
   {
    "duration": 143,
    "start_time": "2021-11-07T19:46:31.158Z"
   },
   {
    "duration": 14,
    "start_time": "2021-11-07T19:46:33.013Z"
   },
   {
    "duration": 587,
    "start_time": "2021-11-07T19:49:40.756Z"
   },
   {
    "duration": 5,
    "start_time": "2021-11-07T19:49:57.350Z"
   },
   {
    "duration": 1060,
    "start_time": "2021-11-07T19:50:12.431Z"
   },
   {
    "duration": 426,
    "start_time": "2021-11-07T19:50:13.068Z"
   },
   {
    "duration": 514,
    "start_time": "2021-11-07T19:50:38.167Z"
   },
   {
    "duration": 544,
    "start_time": "2021-11-07T19:50:49.185Z"
   },
   {
    "duration": 4,
    "start_time": "2021-11-07T19:50:49.732Z"
   },
   {
    "duration": 539,
    "start_time": "2021-11-07T19:51:26.687Z"
   },
   {
    "duration": 452,
    "start_time": "2021-11-07T19:52:26.160Z"
   },
   {
    "duration": 612,
    "start_time": "2021-11-07T19:52:33.618Z"
   },
   {
    "duration": 6,
    "start_time": "2021-11-07T19:52:35.980Z"
   },
   {
    "duration": 287,
    "start_time": "2021-11-07T19:55:56.952Z"
   },
   {
    "duration": 17,
    "start_time": "2021-11-07T19:56:10.705Z"
   },
   {
    "duration": 141,
    "start_time": "2021-11-07T19:59:09.209Z"
   },
   {
    "duration": 16371,
    "start_time": "2021-11-07T19:59:23.321Z"
   },
   {
    "duration": 27,
    "start_time": "2021-11-07T19:59:39.695Z"
   },
   {
    "duration": 20,
    "start_time": "2021-11-07T20:00:09.952Z"
   },
   {
    "duration": 20,
    "start_time": "2021-11-07T20:00:16.642Z"
   },
   {
    "duration": 1513,
    "start_time": "2021-11-07T20:03:13.811Z"
   },
   {
    "duration": 475,
    "start_time": "2021-11-07T20:03:15.327Z"
   },
   {
    "duration": 37,
    "start_time": "2021-11-07T20:03:15.805Z"
   },
   {
    "duration": 37,
    "start_time": "2021-11-07T20:03:15.845Z"
   },
   {
    "duration": 77,
    "start_time": "2021-11-07T20:03:15.885Z"
   },
   {
    "duration": 126,
    "start_time": "2021-11-07T20:03:15.965Z"
   },
   {
    "duration": 29,
    "start_time": "2021-11-07T20:03:16.093Z"
   },
   {
    "duration": 13,
    "start_time": "2021-11-07T20:03:16.128Z"
   },
   {
    "duration": 77,
    "start_time": "2021-11-07T20:03:16.145Z"
   },
   {
    "duration": 36,
    "start_time": "2021-11-07T20:03:16.225Z"
   },
   {
    "duration": 65,
    "start_time": "2021-11-07T20:03:16.264Z"
   },
   {
    "duration": 92,
    "start_time": "2021-11-07T20:03:16.333Z"
   },
   {
    "duration": 95,
    "start_time": "2021-11-07T20:03:16.429Z"
   },
   {
    "duration": 12,
    "start_time": "2021-11-07T20:03:16.526Z"
   },
   {
    "duration": 7,
    "start_time": "2021-11-07T20:03:16.541Z"
   },
   {
    "duration": 90,
    "start_time": "2021-11-07T20:03:16.550Z"
   },
   {
    "duration": 1922,
    "start_time": "2021-11-07T20:03:16.642Z"
   },
   {
    "duration": 3,
    "start_time": "2021-11-07T20:03:18.567Z"
   },
   {
    "duration": 145,
    "start_time": "2021-11-07T20:03:18.572Z"
   },
   {
    "duration": 6,
    "start_time": "2021-11-07T20:03:18.719Z"
   },
   {
    "duration": 611,
    "start_time": "2021-11-07T20:03:18.727Z"
   },
   {
    "duration": 5,
    "start_time": "2021-11-07T20:03:19.340Z"
   },
   {
    "duration": 636,
    "start_time": "2021-11-07T20:03:19.350Z"
   },
   {
    "duration": 19752,
    "start_time": "2021-11-07T20:03:19.989Z"
   },
   {
    "duration": 81,
    "start_time": "2021-11-07T20:03:39.744Z"
   },
   {
    "duration": 14,
    "start_time": "2021-11-07T20:03:39.829Z"
   },
   {
    "duration": 7,
    "start_time": "2021-11-07T20:03:39.846Z"
   },
   {
    "duration": 924,
    "start_time": "2021-11-07T20:03:39.923Z"
   },
   {
    "duration": 17,
    "start_time": "2021-11-07T20:04:00.965Z"
   },
   {
    "duration": 1651,
    "start_time": "2021-11-07T20:05:40.192Z"
   },
   {
    "duration": 486,
    "start_time": "2021-11-07T20:05:41.846Z"
   },
   {
    "duration": 35,
    "start_time": "2021-11-07T20:05:42.335Z"
   },
   {
    "duration": 60,
    "start_time": "2021-11-07T20:05:42.373Z"
   },
   {
    "duration": 56,
    "start_time": "2021-11-07T20:05:42.436Z"
   },
   {
    "duration": 112,
    "start_time": "2021-11-07T20:05:42.522Z"
   },
   {
    "duration": 21,
    "start_time": "2021-11-07T20:05:42.636Z"
   },
   {
    "duration": 15,
    "start_time": "2021-11-07T20:05:42.663Z"
   },
   {
    "duration": 71,
    "start_time": "2021-11-07T20:05:42.682Z"
   },
   {
    "duration": 37,
    "start_time": "2021-11-07T20:05:42.756Z"
   },
   {
    "duration": 134,
    "start_time": "2021-11-07T20:05:42.795Z"
   },
   {
    "duration": 8,
    "start_time": "2021-11-07T20:05:43.022Z"
   },
   {
    "duration": 14,
    "start_time": "2021-11-07T20:05:43.121Z"
   },
   {
    "duration": 19,
    "start_time": "2021-11-07T20:05:43.137Z"
   },
   {
    "duration": 17,
    "start_time": "2021-11-07T20:05:43.158Z"
   },
   {
    "duration": 62,
    "start_time": "2021-11-07T20:05:43.177Z"
   },
   {
    "duration": 1921,
    "start_time": "2021-11-07T20:05:43.241Z"
   },
   {
    "duration": 5,
    "start_time": "2021-11-07T20:05:45.165Z"
   },
   {
    "duration": 157,
    "start_time": "2021-11-07T20:05:45.173Z"
   },
   {
    "duration": 6,
    "start_time": "2021-11-07T20:05:45.332Z"
   },
   {
    "duration": 596,
    "start_time": "2021-11-07T20:05:45.340Z"
   },
   {
    "duration": 5,
    "start_time": "2021-11-07T20:05:45.939Z"
   },
   {
    "duration": 659,
    "start_time": "2021-11-07T20:05:45.948Z"
   },
   {
    "duration": 16048,
    "start_time": "2021-11-07T20:05:46.611Z"
   },
   {
    "duration": 7,
    "start_time": "2021-11-07T20:06:02.662Z"
   },
   {
    "duration": 17,
    "start_time": "2021-11-07T20:06:02.672Z"
   },
   {
    "duration": 19,
    "start_time": "2021-11-07T20:06:02.691Z"
   },
   {
    "duration": 292,
    "start_time": "2021-11-07T20:06:02.712Z"
   },
   {
    "duration": 24,
    "start_time": "2021-11-07T20:06:03.007Z"
   }
  ],
  "kernelspec": {
   "display_name": "Python 3",
   "language": "python",
   "name": "python3"
  },
  "language_info": {
   "codemirror_mode": {
    "name": "ipython",
    "version": 3
   },
   "file_extension": ".py",
   "mimetype": "text/x-python",
   "name": "python",
   "nbconvert_exporter": "python",
   "pygments_lexer": "ipython3",
   "version": "3.7.8"
  },
  "toc": {
   "base_numbering": 1,
   "nav_menu": {},
   "number_sections": true,
   "sideBar": true,
   "skip_h1_title": true,
   "title_cell": "Содержание",
   "title_sidebar": "Contents",
   "toc_cell": true,
   "toc_position": {
    "height": "calc(100% - 180px)",
    "left": "10px",
    "top": "150px",
    "width": "255.594px"
   },
   "toc_section_display": true,
   "toc_window_display": true
  }
 },
 "nbformat": 4,
 "nbformat_minor": 2
}
