{
  "cells": [
    {
      "cell_type": "markdown",
      "metadata": {
        "id": "o7K4Qm7RfoIS"
      },
      "source": [
        "# Определение стоимости автомобилей"
      ]
    },
    {
      "cell_type": "markdown",
      "metadata": {
        "id": "PCcyxyz3foIe"
      },
      "source": [
        "Сервис по продаже автомобилей с пробегом «Не бит, не крашен» разрабатывает приложение для привлечения новых клиентов. В нём можно быстро узнать рыночную стоимость своего автомобиля. В вашем распоряжении исторические данные: технические характеристики, комплектации и цены автомобилей. Вам нужно построить модель для определения стоимости. \n",
        "\n",
        "Заказчику важны:\n",
        "\n",
        "- качество предсказания;\n",
        "- скорость предсказания;\n",
        "- время обучения."
      ]
    },
    {
      "cell_type": "markdown",
      "metadata": {
        "id": "f9KI4haIfoIi"
      },
      "source": [
        "Признаки:\n",
        " - DateCrawled — дата скачивания анкеты из базы\n",
        " - VehicleType — тип автомобильного кузова\n",
        " - RegistrationYear — год регистрации автомобиля\n",
        " - Gearbox — тип коробки передач\n",
        " - Power — мощность (л. с.)\n",
        " - Model — модель автомобиля\n",
        " - Kilometer — пробег (км)\n",
        " - RegistrationMonth — месяц регистрации автомобиля\n",
        " - FuelType — тип топлива\n",
        " - Brand — марка автомобиля\n",
        " - NotRepaired — была машина в ремонте или нет\n",
        " - DateCreated — дата создания анкеты\n",
        " - NumberOfPictures — количество фотографий автомобиля\n",
        " - PostalCode — почтовый индекс владельца анкеты (пользователя)\n",
        " - LastSeen — дата последней активности пользователя\n",
        " \n",
        "Целевой признак:\n",
        " - Price — цена (евро)"
      ]
    },
    {
      "cell_type": "markdown",
      "metadata": {
        "id": "e_fJXdxhfoIk"
      },
      "source": [
        "## Подготовка данных"
      ]
    },
    {
      "cell_type": "code",
      "source": [
        "#pip install lightgbm"
      ],
      "metadata": {
        "id": "0gyue_e5foIk"
      },
      "execution_count": 1,
      "outputs": []
    },
    {
      "cell_type": "code",
      "source": [
        "#pip install catboost"
      ],
      "metadata": {
        "id": "7uf6wtITgwrT"
      },
      "execution_count": 2,
      "outputs": []
    },
    {
      "cell_type": "code",
      "source": [
        "from google.colab import drive\n",
        "drive.mount('/content/drive/')"
      ],
      "metadata": {
        "colab": {
          "base_uri": "https://localhost:8080/"
        },
        "id": "lgYw58NTftFo",
        "outputId": "ca4721e9-160f-48e3-f549-2a102fad8d7c"
      },
      "execution_count": 3,
      "outputs": [
        {
          "output_type": "stream",
          "name": "stdout",
          "text": [
            "Drive already mounted at /content/drive/; to attempt to forcibly remount, call drive.mount(\"/content/drive/\", force_remount=True).\n"
          ]
        }
      ]
    },
    {
      "cell_type": "code",
      "execution_count": 4,
      "metadata": {
        "id": "6IoNMXDyfoIm"
      },
      "outputs": [],
      "source": [
        "import pandas as pd\n",
        "import numpy as np\n",
        "import matplotlib.pyplot as plt\n",
        "from sklearn.model_selection import train_test_split \n",
        "from sklearn.linear_model import LinearRegression\n",
        "from sklearn.tree import DecisionTreeRegressor\n",
        "from sklearn.ensemble import RandomForestRegressor\n",
        "from sklearn.metrics import mean_squared_error\n",
        "from catboost import CatBoostRegressor\n",
        "from lightgbm import LGBMRegressor\n",
        "\n",
        "from IPython.display import Audio\n",
        "sound_file = 'https://www.mediacollege.com/downloads/sound-effects/weapons/machinegun-01.wav'"
      ]
    },
    {
      "cell_type": "code",
      "execution_count": 5,
      "metadata": {
        "scrolled": true,
        "colab": {
          "base_uri": "https://localhost:8080/"
        },
        "id": "yx_RO4p-foIn",
        "outputId": "2fe19d08-59c6-4b5c-b8ea-ac87dc9a038b"
      },
      "outputs": [
        {
          "output_type": "stream",
          "name": "stdout",
          "text": [
            "<class 'pandas.core.frame.DataFrame'>\n",
            "RangeIndex: 354369 entries, 0 to 354368\n",
            "Data columns (total 16 columns):\n",
            " #   Column             Non-Null Count   Dtype \n",
            "---  ------             --------------   ----- \n",
            " 0   DateCrawled        354369 non-null  object\n",
            " 1   Price              354369 non-null  int64 \n",
            " 2   VehicleType        316879 non-null  object\n",
            " 3   RegistrationYear   354369 non-null  int64 \n",
            " 4   Gearbox            334536 non-null  object\n",
            " 5   Power              354369 non-null  int64 \n",
            " 6   Model              334664 non-null  object\n",
            " 7   Kilometer          354369 non-null  int64 \n",
            " 8   RegistrationMonth  354369 non-null  int64 \n",
            " 9   FuelType           321474 non-null  object\n",
            " 10  Brand              354369 non-null  object\n",
            " 11  NotRepaired        283215 non-null  object\n",
            " 12  DateCreated        354369 non-null  object\n",
            " 13  NumberOfPictures   354369 non-null  int64 \n",
            " 14  PostalCode         354369 non-null  int64 \n",
            " 15  LastSeen           354369 non-null  object\n",
            "dtypes: int64(7), object(9)\n",
            "memory usage: 43.3+ MB\n"
          ]
        }
      ],
      "source": [
        "#data = pd.read_csv('/datasets/autos.csv')\n",
        "data = pd.read_csv('/content/drive/MyDrive/Colab_Notebooks/10_Num_meth_Car_prices/autos.csv')\n",
        "data.info()"
      ]
    },
    {
      "cell_type": "markdown",
      "metadata": {
        "id": "uQVROj29foIq"
      },
      "source": [
        "В данных есть пропуски, посмотрю в каких столбцах и сколько"
      ]
    },
    {
      "cell_type": "code",
      "execution_count": 6,
      "metadata": {
        "colab": {
          "base_uri": "https://localhost:8080/",
          "height": 444
        },
        "id": "fJdm_ksCfoIq",
        "outputId": "bac5e680-64e1-41c7-ed20-54f6f6843db4"
      },
      "outputs": [
        {
          "output_type": "execute_result",
          "data": {
            "text/html": [
              "\n",
              "  <div id=\"df-72ac9a5f-dc02-4d74-8c28-88f6f9a5bc3d\">\n",
              "    <div class=\"colab-df-container\">\n",
              "      <div>\n",
              "<style scoped>\n",
              "    .dataframe tbody tr th:only-of-type {\n",
              "        vertical-align: middle;\n",
              "    }\n",
              "\n",
              "    .dataframe tbody tr th {\n",
              "        vertical-align: top;\n",
              "    }\n",
              "\n",
              "    .dataframe thead th {\n",
              "        text-align: right;\n",
              "    }\n",
              "</style>\n",
              "<table border=\"1\" class=\"dataframe\">\n",
              "  <thead>\n",
              "    <tr style=\"text-align: right;\">\n",
              "      <th></th>\n",
              "      <th>DateCrawled</th>\n",
              "      <th>Price</th>\n",
              "      <th>VehicleType</th>\n",
              "      <th>RegistrationYear</th>\n",
              "      <th>Gearbox</th>\n",
              "      <th>Power</th>\n",
              "      <th>Model</th>\n",
              "      <th>Kilometer</th>\n",
              "      <th>RegistrationMonth</th>\n",
              "      <th>FuelType</th>\n",
              "      <th>Brand</th>\n",
              "      <th>NotRepaired</th>\n",
              "      <th>DateCreated</th>\n",
              "      <th>NumberOfPictures</th>\n",
              "      <th>PostalCode</th>\n",
              "      <th>LastSeen</th>\n",
              "    </tr>\n",
              "  </thead>\n",
              "  <tbody>\n",
              "    <tr>\n",
              "      <th>0</th>\n",
              "      <td>2016-03-24 11:52:17</td>\n",
              "      <td>480</td>\n",
              "      <td>NaN</td>\n",
              "      <td>1993</td>\n",
              "      <td>manual</td>\n",
              "      <td>0</td>\n",
              "      <td>golf</td>\n",
              "      <td>150000</td>\n",
              "      <td>0</td>\n",
              "      <td>petrol</td>\n",
              "      <td>volkswagen</td>\n",
              "      <td>NaN</td>\n",
              "      <td>2016-03-24 00:00:00</td>\n",
              "      <td>0</td>\n",
              "      <td>70435</td>\n",
              "      <td>2016-04-07 03:16:57</td>\n",
              "    </tr>\n",
              "    <tr>\n",
              "      <th>1</th>\n",
              "      <td>2016-03-24 10:58:45</td>\n",
              "      <td>18300</td>\n",
              "      <td>coupe</td>\n",
              "      <td>2011</td>\n",
              "      <td>manual</td>\n",
              "      <td>190</td>\n",
              "      <td>NaN</td>\n",
              "      <td>125000</td>\n",
              "      <td>5</td>\n",
              "      <td>gasoline</td>\n",
              "      <td>audi</td>\n",
              "      <td>yes</td>\n",
              "      <td>2016-03-24 00:00:00</td>\n",
              "      <td>0</td>\n",
              "      <td>66954</td>\n",
              "      <td>2016-04-07 01:46:50</td>\n",
              "    </tr>\n",
              "    <tr>\n",
              "      <th>2</th>\n",
              "      <td>2016-03-14 12:52:21</td>\n",
              "      <td>9800</td>\n",
              "      <td>suv</td>\n",
              "      <td>2004</td>\n",
              "      <td>auto</td>\n",
              "      <td>163</td>\n",
              "      <td>grand</td>\n",
              "      <td>125000</td>\n",
              "      <td>8</td>\n",
              "      <td>gasoline</td>\n",
              "      <td>jeep</td>\n",
              "      <td>NaN</td>\n",
              "      <td>2016-03-14 00:00:00</td>\n",
              "      <td>0</td>\n",
              "      <td>90480</td>\n",
              "      <td>2016-04-05 12:47:46</td>\n",
              "    </tr>\n",
              "    <tr>\n",
              "      <th>3</th>\n",
              "      <td>2016-03-17 16:54:04</td>\n",
              "      <td>1500</td>\n",
              "      <td>small</td>\n",
              "      <td>2001</td>\n",
              "      <td>manual</td>\n",
              "      <td>75</td>\n",
              "      <td>golf</td>\n",
              "      <td>150000</td>\n",
              "      <td>6</td>\n",
              "      <td>petrol</td>\n",
              "      <td>volkswagen</td>\n",
              "      <td>no</td>\n",
              "      <td>2016-03-17 00:00:00</td>\n",
              "      <td>0</td>\n",
              "      <td>91074</td>\n",
              "      <td>2016-03-17 17:40:17</td>\n",
              "    </tr>\n",
              "    <tr>\n",
              "      <th>4</th>\n",
              "      <td>2016-03-31 17:25:20</td>\n",
              "      <td>3600</td>\n",
              "      <td>small</td>\n",
              "      <td>2008</td>\n",
              "      <td>manual</td>\n",
              "      <td>69</td>\n",
              "      <td>fabia</td>\n",
              "      <td>90000</td>\n",
              "      <td>7</td>\n",
              "      <td>gasoline</td>\n",
              "      <td>skoda</td>\n",
              "      <td>no</td>\n",
              "      <td>2016-03-31 00:00:00</td>\n",
              "      <td>0</td>\n",
              "      <td>60437</td>\n",
              "      <td>2016-04-06 10:17:21</td>\n",
              "    </tr>\n",
              "  </tbody>\n",
              "</table>\n",
              "</div>\n",
              "      <button class=\"colab-df-convert\" onclick=\"convertToInteractive('df-72ac9a5f-dc02-4d74-8c28-88f6f9a5bc3d')\"\n",
              "              title=\"Convert this dataframe to an interactive table.\"\n",
              "              style=\"display:none;\">\n",
              "        \n",
              "  <svg xmlns=\"http://www.w3.org/2000/svg\" height=\"24px\"viewBox=\"0 0 24 24\"\n",
              "       width=\"24px\">\n",
              "    <path d=\"M0 0h24v24H0V0z\" fill=\"none\"/>\n",
              "    <path d=\"M18.56 5.44l.94 2.06.94-2.06 2.06-.94-2.06-.94-.94-2.06-.94 2.06-2.06.94zm-11 1L8.5 8.5l.94-2.06 2.06-.94-2.06-.94L8.5 2.5l-.94 2.06-2.06.94zm10 10l.94 2.06.94-2.06 2.06-.94-2.06-.94-.94-2.06-.94 2.06-2.06.94z\"/><path d=\"M17.41 7.96l-1.37-1.37c-.4-.4-.92-.59-1.43-.59-.52 0-1.04.2-1.43.59L10.3 9.45l-7.72 7.72c-.78.78-.78 2.05 0 2.83L4 21.41c.39.39.9.59 1.41.59.51 0 1.02-.2 1.41-.59l7.78-7.78 2.81-2.81c.8-.78.8-2.07 0-2.86zM5.41 20L4 18.59l7.72-7.72 1.47 1.35L5.41 20z\"/>\n",
              "  </svg>\n",
              "      </button>\n",
              "      \n",
              "  <style>\n",
              "    .colab-df-container {\n",
              "      display:flex;\n",
              "      flex-wrap:wrap;\n",
              "      gap: 12px;\n",
              "    }\n",
              "\n",
              "    .colab-df-convert {\n",
              "      background-color: #E8F0FE;\n",
              "      border: none;\n",
              "      border-radius: 50%;\n",
              "      cursor: pointer;\n",
              "      display: none;\n",
              "      fill: #1967D2;\n",
              "      height: 32px;\n",
              "      padding: 0 0 0 0;\n",
              "      width: 32px;\n",
              "    }\n",
              "\n",
              "    .colab-df-convert:hover {\n",
              "      background-color: #E2EBFA;\n",
              "      box-shadow: 0px 1px 2px rgba(60, 64, 67, 0.3), 0px 1px 3px 1px rgba(60, 64, 67, 0.15);\n",
              "      fill: #174EA6;\n",
              "    }\n",
              "\n",
              "    [theme=dark] .colab-df-convert {\n",
              "      background-color: #3B4455;\n",
              "      fill: #D2E3FC;\n",
              "    }\n",
              "\n",
              "    [theme=dark] .colab-df-convert:hover {\n",
              "      background-color: #434B5C;\n",
              "      box-shadow: 0px 1px 3px 1px rgba(0, 0, 0, 0.15);\n",
              "      filter: drop-shadow(0px 1px 2px rgba(0, 0, 0, 0.3));\n",
              "      fill: #FFFFFF;\n",
              "    }\n",
              "  </style>\n",
              "\n",
              "      <script>\n",
              "        const buttonEl =\n",
              "          document.querySelector('#df-72ac9a5f-dc02-4d74-8c28-88f6f9a5bc3d button.colab-df-convert');\n",
              "        buttonEl.style.display =\n",
              "          google.colab.kernel.accessAllowed ? 'block' : 'none';\n",
              "\n",
              "        async function convertToInteractive(key) {\n",
              "          const element = document.querySelector('#df-72ac9a5f-dc02-4d74-8c28-88f6f9a5bc3d');\n",
              "          const dataTable =\n",
              "            await google.colab.kernel.invokeFunction('convertToInteractive',\n",
              "                                                     [key], {});\n",
              "          if (!dataTable) return;\n",
              "\n",
              "          const docLinkHtml = 'Like what you see? Visit the ' +\n",
              "            '<a target=\"_blank\" href=https://colab.research.google.com/notebooks/data_table.ipynb>data table notebook</a>'\n",
              "            + ' to learn more about interactive tables.';\n",
              "          element.innerHTML = '';\n",
              "          dataTable['output_type'] = 'display_data';\n",
              "          await google.colab.output.renderOutput(dataTable, element);\n",
              "          const docLink = document.createElement('div');\n",
              "          docLink.innerHTML = docLinkHtml;\n",
              "          element.appendChild(docLink);\n",
              "        }\n",
              "      </script>\n",
              "    </div>\n",
              "  </div>\n",
              "  "
            ],
            "text/plain": [
              "           DateCrawled  Price  ... PostalCode             LastSeen\n",
              "0  2016-03-24 11:52:17    480  ...      70435  2016-04-07 03:16:57\n",
              "1  2016-03-24 10:58:45  18300  ...      66954  2016-04-07 01:46:50\n",
              "2  2016-03-14 12:52:21   9800  ...      90480  2016-04-05 12:47:46\n",
              "3  2016-03-17 16:54:04   1500  ...      91074  2016-03-17 17:40:17\n",
              "4  2016-03-31 17:25:20   3600  ...      60437  2016-04-06 10:17:21\n",
              "\n",
              "[5 rows x 16 columns]"
            ]
          },
          "metadata": {},
          "execution_count": 6
        }
      ],
      "source": [
        "data.head()"
      ]
    },
    {
      "cell_type": "code",
      "execution_count": 7,
      "metadata": {
        "colab": {
          "base_uri": "https://localhost:8080/",
          "height": 312
        },
        "id": "EY8FurqpfoIr",
        "outputId": "f01319f4-347f-4bee-deed-2370b8b85c31"
      },
      "outputs": [
        {
          "output_type": "display_data",
          "data": {
            "text/plain": [
              "DateCrawled              0\n",
              "Price                    0\n",
              "VehicleType          37490\n",
              "RegistrationYear         0\n",
              "Gearbox              19833\n",
              "Power                    0\n",
              "Model                19705\n",
              "Kilometer                0\n",
              "RegistrationMonth        0\n",
              "FuelType             32895\n",
              "Brand                    0\n",
              "NotRepaired          71154\n",
              "DateCreated              0\n",
              "NumberOfPictures         0\n",
              "PostalCode               0\n",
              "LastSeen                 0\n",
              "dtype: int64"
            ]
          },
          "metadata": {}
        }
      ],
      "source": [
        "display(data.isna().sum())"
      ]
    },
    {
      "cell_type": "markdown",
      "metadata": {
        "id": "a_AsIPGcfoIs"
      },
      "source": [
        "Пропуски в 5 столбцах, проверю сколько процентов данных пропущено"
      ]
    },
    {
      "cell_type": "code",
      "execution_count": 8,
      "metadata": {
        "scrolled": false,
        "colab": {
          "base_uri": "https://localhost:8080/",
          "height": 312
        },
        "id": "ka-Of7w0foIt",
        "outputId": "abff0ca5-d671-4460-adb2-08a847c49038"
      },
      "outputs": [
        {
          "output_type": "display_data",
          "data": {
            "text/plain": [
              "DateCrawled           0.00\n",
              "Price                 0.00\n",
              "VehicleType          10.58\n",
              "RegistrationYear      0.00\n",
              "Gearbox               5.60\n",
              "Power                 0.00\n",
              "Model                 5.56\n",
              "Kilometer             0.00\n",
              "RegistrationMonth     0.00\n",
              "FuelType              9.28\n",
              "Brand                 0.00\n",
              "NotRepaired          20.08\n",
              "DateCreated           0.00\n",
              "NumberOfPictures      0.00\n",
              "PostalCode            0.00\n",
              "LastSeen              0.00\n",
              "dtype: float64"
            ]
          },
          "metadata": {}
        }
      ],
      "source": [
        "display((100 * data.isna().sum() / len(data)).round(2))"
      ]
    },
    {
      "cell_type": "markdown",
      "metadata": {
        "id": "3T2ty9BofoIt"
      },
      "source": [
        "    В данных есть до 20% пропусков в одном признаке. \n",
        "    Восполнить эти данные неоткуда, но можно добавить категорию 'неизвестно'"
      ]
    },
    {
      "cell_type": "code",
      "execution_count": 9,
      "metadata": {
        "id": "VdBtfXtffoIu"
      },
      "outputs": [],
      "source": [
        "data = data.fillna(value = {'NotRepaired' : 'unknown'})"
      ]
    },
    {
      "cell_type": "code",
      "execution_count": 10,
      "metadata": {
        "colab": {
          "base_uri": "https://localhost:8080/"
        },
        "id": "tZmiXs9wfoIu",
        "outputId": "0dc9245f-7bf3-4935-9102-62995de04e06"
      },
      "outputs": [
        {
          "output_type": "stream",
          "name": "stdout",
          "text": [
            "<class 'pandas.core.frame.DataFrame'>\n",
            "RangeIndex: 354369 entries, 0 to 354368\n",
            "Data columns (total 16 columns):\n",
            " #   Column             Non-Null Count   Dtype \n",
            "---  ------             --------------   ----- \n",
            " 0   DateCrawled        354369 non-null  object\n",
            " 1   Price              354369 non-null  int64 \n",
            " 2   VehicleType        316879 non-null  object\n",
            " 3   RegistrationYear   354369 non-null  int64 \n",
            " 4   Gearbox            334536 non-null  object\n",
            " 5   Power              354369 non-null  int64 \n",
            " 6   Model              334664 non-null  object\n",
            " 7   Kilometer          354369 non-null  int64 \n",
            " 8   RegistrationMonth  354369 non-null  int64 \n",
            " 9   FuelType           321474 non-null  object\n",
            " 10  Brand              354369 non-null  object\n",
            " 11  NotRepaired        354369 non-null  object\n",
            " 12  DateCreated        354369 non-null  object\n",
            " 13  NumberOfPictures   354369 non-null  int64 \n",
            " 14  PostalCode         354369 non-null  int64 \n",
            " 15  LastSeen           354369 non-null  object\n",
            "dtypes: int64(7), object(9)\n",
            "memory usage: 43.3+ MB\n"
          ]
        }
      ],
      "source": [
        "data.info()"
      ]
    },
    {
      "cell_type": "code",
      "execution_count": 11,
      "metadata": {
        "scrolled": true,
        "colab": {
          "base_uri": "https://localhost:8080/",
          "height": 312
        },
        "id": "lnuhLBjTfoIv",
        "outputId": "f1e71362-2eb8-475a-b4fc-5070db7df80e"
      },
      "outputs": [
        {
          "output_type": "display_data",
          "data": {
            "text/plain": [
              "DateCrawled           0.00\n",
              "Price                 0.00\n",
              "VehicleType          10.58\n",
              "RegistrationYear      0.00\n",
              "Gearbox               5.60\n",
              "Power                 0.00\n",
              "Model                 5.56\n",
              "Kilometer             0.00\n",
              "RegistrationMonth     0.00\n",
              "FuelType              9.28\n",
              "Brand                 0.00\n",
              "NotRepaired           0.00\n",
              "DateCreated           0.00\n",
              "NumberOfPictures      0.00\n",
              "PostalCode            0.00\n",
              "LastSeen              0.00\n",
              "dtype: float64"
            ]
          },
          "metadata": {}
        }
      ],
      "source": [
        "display((100 * data.isna().sum() / len(data)).round(2))"
      ]
    },
    {
      "cell_type": "markdown",
      "metadata": {
        "id": "rxWzQLVrfoIv"
      },
      "source": [
        "Оставшихся пропусков не так много, поэтому избавлюсь от них"
      ]
    },
    {
      "cell_type": "code",
      "execution_count": 12,
      "metadata": {
        "id": "pWDqs4IBfoIw"
      },
      "outputs": [],
      "source": [
        "data = data.dropna()"
      ]
    },
    {
      "cell_type": "markdown",
      "metadata": {
        "id": "f2UL5GsLfoIw"
      },
      "source": [
        "    Проверяю на наличие повторов"
      ]
    },
    {
      "cell_type": "code",
      "execution_count": 13,
      "metadata": {
        "colab": {
          "base_uri": "https://localhost:8080/",
          "height": 34
        },
        "id": "iieE9UfgfoIw",
        "outputId": "535c4fa7-3da7-4adb-b2ac-c92a62baa2d9"
      },
      "outputs": [
        {
          "output_type": "display_data",
          "data": {
            "text/plain": [
              "18870"
            ]
          },
          "metadata": {}
        }
      ],
      "source": [
        "display(data[['Price', \n",
        "            'VehicleType', \n",
        "            'RegistrationYear', \n",
        "            'Gearbox', \n",
        "            'Power', \n",
        "            'Model', \n",
        "            'Kilometer', \n",
        "            'FuelType', \n",
        "            'Brand', \n",
        "            'NotRepaired', \n",
        "            'RegistrationMonth', \n",
        "            'PostalCode']].duplicated().sum())"
      ]
    },
    {
      "cell_type": "markdown",
      "metadata": {
        "id": "WsTCRj49foIz"
      },
      "source": [
        "    Случайные совпадения по этим признакам невозможны, поэтому считаю, что это повторы и удаляю"
      ]
    },
    {
      "cell_type": "code",
      "execution_count": 14,
      "metadata": {
        "id": "8vbLO2D4foI0"
      },
      "outputs": [],
      "source": [
        "data = data.drop_duplicates(['Price', \n",
        "                             'VehicleType', \n",
        "                             'RegistrationYear', \n",
        "                             'Gearbox', \n",
        "                             'Power', \n",
        "                             'Model', \n",
        "                             'Kilometer', \n",
        "                             'FuelType', \n",
        "                             'Brand', \n",
        "                             'NotRepaired', \n",
        "                             'RegistrationMonth', \n",
        "                             'PostalCode']\n",
        "                            )"
      ]
    },
    {
      "cell_type": "markdown",
      "metadata": {
        "id": "xZ6rqBgUfoI0"
      },
      "source": [
        "    Проверяю данные на адекватность"
      ]
    },
    {
      "cell_type": "code",
      "execution_count": 15,
      "metadata": {
        "scrolled": true,
        "colab": {
          "base_uri": "https://localhost:8080/",
          "height": 112
        },
        "id": "0ajgKGh9foI3",
        "outputId": "d6bac5fc-6d65-44cf-9466-2d9b90322b46"
      },
      "outputs": [
        {
          "output_type": "display_data",
          "data": {
            "text/html": [
              "\n",
              "  <div id=\"df-d6cfe46d-2933-4754-ba37-616c854328b2\">\n",
              "    <div class=\"colab-df-container\">\n",
              "      <div>\n",
              "<style scoped>\n",
              "    .dataframe tbody tr th:only-of-type {\n",
              "        vertical-align: middle;\n",
              "    }\n",
              "\n",
              "    .dataframe tbody tr th {\n",
              "        vertical-align: top;\n",
              "    }\n",
              "\n",
              "    .dataframe thead th {\n",
              "        text-align: right;\n",
              "    }\n",
              "</style>\n",
              "<table border=\"1\" class=\"dataframe\">\n",
              "  <thead>\n",
              "    <tr style=\"text-align: right;\">\n",
              "      <th></th>\n",
              "      <th>Price</th>\n",
              "      <th>RegistrationYear</th>\n",
              "      <th>Power</th>\n",
              "      <th>Kilometer</th>\n",
              "      <th>RegistrationMonth</th>\n",
              "      <th>NumberOfPictures</th>\n",
              "      <th>PostalCode</th>\n",
              "    </tr>\n",
              "  </thead>\n",
              "  <tbody>\n",
              "    <tr>\n",
              "      <th>min</th>\n",
              "      <td>0.0</td>\n",
              "      <td>1910.0</td>\n",
              "      <td>0.0</td>\n",
              "      <td>5000.0</td>\n",
              "      <td>0.0</td>\n",
              "      <td>0.0</td>\n",
              "      <td>1067.0</td>\n",
              "    </tr>\n",
              "    <tr>\n",
              "      <th>max</th>\n",
              "      <td>20000.0</td>\n",
              "      <td>2018.0</td>\n",
              "      <td>20000.0</td>\n",
              "      <td>150000.0</td>\n",
              "      <td>12.0</td>\n",
              "      <td>0.0</td>\n",
              "      <td>99998.0</td>\n",
              "    </tr>\n",
              "  </tbody>\n",
              "</table>\n",
              "</div>\n",
              "      <button class=\"colab-df-convert\" onclick=\"convertToInteractive('df-d6cfe46d-2933-4754-ba37-616c854328b2')\"\n",
              "              title=\"Convert this dataframe to an interactive table.\"\n",
              "              style=\"display:none;\">\n",
              "        \n",
              "  <svg xmlns=\"http://www.w3.org/2000/svg\" height=\"24px\"viewBox=\"0 0 24 24\"\n",
              "       width=\"24px\">\n",
              "    <path d=\"M0 0h24v24H0V0z\" fill=\"none\"/>\n",
              "    <path d=\"M18.56 5.44l.94 2.06.94-2.06 2.06-.94-2.06-.94-.94-2.06-.94 2.06-2.06.94zm-11 1L8.5 8.5l.94-2.06 2.06-.94-2.06-.94L8.5 2.5l-.94 2.06-2.06.94zm10 10l.94 2.06.94-2.06 2.06-.94-2.06-.94-.94-2.06-.94 2.06-2.06.94z\"/><path d=\"M17.41 7.96l-1.37-1.37c-.4-.4-.92-.59-1.43-.59-.52 0-1.04.2-1.43.59L10.3 9.45l-7.72 7.72c-.78.78-.78 2.05 0 2.83L4 21.41c.39.39.9.59 1.41.59.51 0 1.02-.2 1.41-.59l7.78-7.78 2.81-2.81c.8-.78.8-2.07 0-2.86zM5.41 20L4 18.59l7.72-7.72 1.47 1.35L5.41 20z\"/>\n",
              "  </svg>\n",
              "      </button>\n",
              "      \n",
              "  <style>\n",
              "    .colab-df-container {\n",
              "      display:flex;\n",
              "      flex-wrap:wrap;\n",
              "      gap: 12px;\n",
              "    }\n",
              "\n",
              "    .colab-df-convert {\n",
              "      background-color: #E8F0FE;\n",
              "      border: none;\n",
              "      border-radius: 50%;\n",
              "      cursor: pointer;\n",
              "      display: none;\n",
              "      fill: #1967D2;\n",
              "      height: 32px;\n",
              "      padding: 0 0 0 0;\n",
              "      width: 32px;\n",
              "    }\n",
              "\n",
              "    .colab-df-convert:hover {\n",
              "      background-color: #E2EBFA;\n",
              "      box-shadow: 0px 1px 2px rgba(60, 64, 67, 0.3), 0px 1px 3px 1px rgba(60, 64, 67, 0.15);\n",
              "      fill: #174EA6;\n",
              "    }\n",
              "\n",
              "    [theme=dark] .colab-df-convert {\n",
              "      background-color: #3B4455;\n",
              "      fill: #D2E3FC;\n",
              "    }\n",
              "\n",
              "    [theme=dark] .colab-df-convert:hover {\n",
              "      background-color: #434B5C;\n",
              "      box-shadow: 0px 1px 3px 1px rgba(0, 0, 0, 0.15);\n",
              "      filter: drop-shadow(0px 1px 2px rgba(0, 0, 0, 0.3));\n",
              "      fill: #FFFFFF;\n",
              "    }\n",
              "  </style>\n",
              "\n",
              "      <script>\n",
              "        const buttonEl =\n",
              "          document.querySelector('#df-d6cfe46d-2933-4754-ba37-616c854328b2 button.colab-df-convert');\n",
              "        buttonEl.style.display =\n",
              "          google.colab.kernel.accessAllowed ? 'block' : 'none';\n",
              "\n",
              "        async function convertToInteractive(key) {\n",
              "          const element = document.querySelector('#df-d6cfe46d-2933-4754-ba37-616c854328b2');\n",
              "          const dataTable =\n",
              "            await google.colab.kernel.invokeFunction('convertToInteractive',\n",
              "                                                     [key], {});\n",
              "          if (!dataTable) return;\n",
              "\n",
              "          const docLinkHtml = 'Like what you see? Visit the ' +\n",
              "            '<a target=\"_blank\" href=https://colab.research.google.com/notebooks/data_table.ipynb>data table notebook</a>'\n",
              "            + ' to learn more about interactive tables.';\n",
              "          element.innerHTML = '';\n",
              "          dataTable['output_type'] = 'display_data';\n",
              "          await google.colab.output.renderOutput(dataTable, element);\n",
              "          const docLink = document.createElement('div');\n",
              "          docLink.innerHTML = docLinkHtml;\n",
              "          element.appendChild(docLink);\n",
              "        }\n",
              "      </script>\n",
              "    </div>\n",
              "  </div>\n",
              "  "
            ],
            "text/plain": [
              "       Price  RegistrationYear  ...  NumberOfPictures  PostalCode\n",
              "min      0.0            1910.0  ...               0.0      1067.0\n",
              "max  20000.0            2018.0  ...               0.0     99998.0\n",
              "\n",
              "[2 rows x 7 columns]"
            ]
          },
          "metadata": {}
        }
      ],
      "source": [
        "display(data[['Price', \n",
        "            'RegistrationYear', \n",
        "            'Power', 'Kilometer', \n",
        "            'RegistrationMonth', \n",
        "            'NumberOfPictures', \n",
        "            'PostalCode'\n",
        "            ]].describe().loc[['min', 'max']])"
      ]
    },
    {
      "cell_type": "code",
      "execution_count": 16,
      "metadata": {
        "colab": {
          "base_uri": "https://localhost:8080/",
          "height": 1000
        },
        "id": "oifRdNrOfoI4",
        "outputId": "5b8da564-bf57-4c71-8b4f-d8f56b0a481a"
      },
      "outputs": [
        {
          "output_type": "display_data",
          "data": {
            "text/html": [
              "\n",
              "  <div id=\"df-afabb77f-a9e7-46c7-acc7-cb94174ad3e3\">\n",
              "    <div class=\"colab-df-container\">\n",
              "      <div>\n",
              "<style scoped>\n",
              "    .dataframe tbody tr th:only-of-type {\n",
              "        vertical-align: middle;\n",
              "    }\n",
              "\n",
              "    .dataframe tbody tr th {\n",
              "        vertical-align: top;\n",
              "    }\n",
              "\n",
              "    .dataframe thead th {\n",
              "        text-align: right;\n",
              "    }\n",
              "</style>\n",
              "<table border=\"1\" class=\"dataframe\">\n",
              "  <thead>\n",
              "    <tr style=\"text-align: right;\">\n",
              "      <th></th>\n",
              "      <th>DateCrawled</th>\n",
              "      <th>Price</th>\n",
              "      <th>VehicleType</th>\n",
              "      <th>RegistrationYear</th>\n",
              "      <th>Gearbox</th>\n",
              "      <th>Power</th>\n",
              "      <th>Model</th>\n",
              "      <th>Kilometer</th>\n",
              "      <th>RegistrationMonth</th>\n",
              "      <th>FuelType</th>\n",
              "      <th>Brand</th>\n",
              "      <th>NotRepaired</th>\n",
              "      <th>DateCreated</th>\n",
              "      <th>NumberOfPictures</th>\n",
              "      <th>PostalCode</th>\n",
              "      <th>LastSeen</th>\n",
              "    </tr>\n",
              "  </thead>\n",
              "  <tbody>\n",
              "    <tr>\n",
              "      <th>43600</th>\n",
              "      <td>2016-03-17 18:47:56</td>\n",
              "      <td>12999</td>\n",
              "      <td>wagon</td>\n",
              "      <td>2004</td>\n",
              "      <td>auto</td>\n",
              "      <td>600</td>\n",
              "      <td>a6</td>\n",
              "      <td>150000</td>\n",
              "      <td>2</td>\n",
              "      <td>petrol</td>\n",
              "      <td>audi</td>\n",
              "      <td>unknown</td>\n",
              "      <td>2016-03-17 00:00:00</td>\n",
              "      <td>0</td>\n",
              "      <td>84160</td>\n",
              "      <td>2016-03-24 14:44:59</td>\n",
              "    </tr>\n",
              "    <tr>\n",
              "      <th>102613</th>\n",
              "      <td>2016-03-19 12:39:11</td>\n",
              "      <td>19500</td>\n",
              "      <td>coupe</td>\n",
              "      <td>1974</td>\n",
              "      <td>auto</td>\n",
              "      <td>600</td>\n",
              "      <td>other</td>\n",
              "      <td>5000</td>\n",
              "      <td>7</td>\n",
              "      <td>petrol</td>\n",
              "      <td>chevrolet</td>\n",
              "      <td>no</td>\n",
              "      <td>2016-03-19 00:00:00</td>\n",
              "      <td>0</td>\n",
              "      <td>38527</td>\n",
              "      <td>2016-03-28 13:15:43</td>\n",
              "    </tr>\n",
              "    <tr>\n",
              "      <th>151744</th>\n",
              "      <td>2016-03-24 20:00:09</td>\n",
              "      <td>12500</td>\n",
              "      <td>wagon</td>\n",
              "      <td>2004</td>\n",
              "      <td>auto</td>\n",
              "      <td>600</td>\n",
              "      <td>a6</td>\n",
              "      <td>150000</td>\n",
              "      <td>0</td>\n",
              "      <td>petrol</td>\n",
              "      <td>audi</td>\n",
              "      <td>unknown</td>\n",
              "      <td>2016-03-24 00:00:00</td>\n",
              "      <td>0</td>\n",
              "      <td>84160</td>\n",
              "      <td>2016-04-05 13:16:47</td>\n",
              "    </tr>\n",
              "    <tr>\n",
              "      <th>162460</th>\n",
              "      <td>2016-03-16 11:37:02</td>\n",
              "      <td>12000</td>\n",
              "      <td>sedan</td>\n",
              "      <td>2002</td>\n",
              "      <td>auto</td>\n",
              "      <td>600</td>\n",
              "      <td>s_type</td>\n",
              "      <td>150000</td>\n",
              "      <td>12</td>\n",
              "      <td>petrol</td>\n",
              "      <td>jaguar</td>\n",
              "      <td>no</td>\n",
              "      <td>2016-03-16 00:00:00</td>\n",
              "      <td>0</td>\n",
              "      <td>13595</td>\n",
              "      <td>2016-03-22 16:19:52</td>\n",
              "    </tr>\n",
              "    <tr>\n",
              "      <th>186427</th>\n",
              "      <td>2016-03-11 11:56:50</td>\n",
              "      <td>16500</td>\n",
              "      <td>coupe</td>\n",
              "      <td>2000</td>\n",
              "      <td>manual</td>\n",
              "      <td>600</td>\n",
              "      <td>other</td>\n",
              "      <td>5000</td>\n",
              "      <td>4</td>\n",
              "      <td>petrol</td>\n",
              "      <td>toyota</td>\n",
              "      <td>no</td>\n",
              "      <td>2016-03-11 00:00:00</td>\n",
              "      <td>0</td>\n",
              "      <td>15738</td>\n",
              "      <td>2016-04-07 03:46:16</td>\n",
              "    </tr>\n",
              "    <tr>\n",
              "      <th>243042</th>\n",
              "      <td>2016-03-27 20:53:40</td>\n",
              "      <td>15900</td>\n",
              "      <td>sedan</td>\n",
              "      <td>2003</td>\n",
              "      <td>auto</td>\n",
              "      <td>600</td>\n",
              "      <td>s_klasse</td>\n",
              "      <td>150000</td>\n",
              "      <td>10</td>\n",
              "      <td>petrol</td>\n",
              "      <td>mercedes_benz</td>\n",
              "      <td>no</td>\n",
              "      <td>2016-03-27 00:00:00</td>\n",
              "      <td>0</td>\n",
              "      <td>49082</td>\n",
              "      <td>2016-04-05 19:45:39</td>\n",
              "    </tr>\n",
              "  </tbody>\n",
              "</table>\n",
              "</div>\n",
              "      <button class=\"colab-df-convert\" onclick=\"convertToInteractive('df-afabb77f-a9e7-46c7-acc7-cb94174ad3e3')\"\n",
              "              title=\"Convert this dataframe to an interactive table.\"\n",
              "              style=\"display:none;\">\n",
              "        \n",
              "  <svg xmlns=\"http://www.w3.org/2000/svg\" height=\"24px\"viewBox=\"0 0 24 24\"\n",
              "       width=\"24px\">\n",
              "    <path d=\"M0 0h24v24H0V0z\" fill=\"none\"/>\n",
              "    <path d=\"M18.56 5.44l.94 2.06.94-2.06 2.06-.94-2.06-.94-.94-2.06-.94 2.06-2.06.94zm-11 1L8.5 8.5l.94-2.06 2.06-.94-2.06-.94L8.5 2.5l-.94 2.06-2.06.94zm10 10l.94 2.06.94-2.06 2.06-.94-2.06-.94-.94-2.06-.94 2.06-2.06.94z\"/><path d=\"M17.41 7.96l-1.37-1.37c-.4-.4-.92-.59-1.43-.59-.52 0-1.04.2-1.43.59L10.3 9.45l-7.72 7.72c-.78.78-.78 2.05 0 2.83L4 21.41c.39.39.9.59 1.41.59.51 0 1.02-.2 1.41-.59l7.78-7.78 2.81-2.81c.8-.78.8-2.07 0-2.86zM5.41 20L4 18.59l7.72-7.72 1.47 1.35L5.41 20z\"/>\n",
              "  </svg>\n",
              "      </button>\n",
              "      \n",
              "  <style>\n",
              "    .colab-df-container {\n",
              "      display:flex;\n",
              "      flex-wrap:wrap;\n",
              "      gap: 12px;\n",
              "    }\n",
              "\n",
              "    .colab-df-convert {\n",
              "      background-color: #E8F0FE;\n",
              "      border: none;\n",
              "      border-radius: 50%;\n",
              "      cursor: pointer;\n",
              "      display: none;\n",
              "      fill: #1967D2;\n",
              "      height: 32px;\n",
              "      padding: 0 0 0 0;\n",
              "      width: 32px;\n",
              "    }\n",
              "\n",
              "    .colab-df-convert:hover {\n",
              "      background-color: #E2EBFA;\n",
              "      box-shadow: 0px 1px 2px rgba(60, 64, 67, 0.3), 0px 1px 3px 1px rgba(60, 64, 67, 0.15);\n",
              "      fill: #174EA6;\n",
              "    }\n",
              "\n",
              "    [theme=dark] .colab-df-convert {\n",
              "      background-color: #3B4455;\n",
              "      fill: #D2E3FC;\n",
              "    }\n",
              "\n",
              "    [theme=dark] .colab-df-convert:hover {\n",
              "      background-color: #434B5C;\n",
              "      box-shadow: 0px 1px 3px 1px rgba(0, 0, 0, 0.15);\n",
              "      filter: drop-shadow(0px 1px 2px rgba(0, 0, 0, 0.3));\n",
              "      fill: #FFFFFF;\n",
              "    }\n",
              "  </style>\n",
              "\n",
              "      <script>\n",
              "        const buttonEl =\n",
              "          document.querySelector('#df-afabb77f-a9e7-46c7-acc7-cb94174ad3e3 button.colab-df-convert');\n",
              "        buttonEl.style.display =\n",
              "          google.colab.kernel.accessAllowed ? 'block' : 'none';\n",
              "\n",
              "        async function convertToInteractive(key) {\n",
              "          const element = document.querySelector('#df-afabb77f-a9e7-46c7-acc7-cb94174ad3e3');\n",
              "          const dataTable =\n",
              "            await google.colab.kernel.invokeFunction('convertToInteractive',\n",
              "                                                     [key], {});\n",
              "          if (!dataTable) return;\n",
              "\n",
              "          const docLinkHtml = 'Like what you see? Visit the ' +\n",
              "            '<a target=\"_blank\" href=https://colab.research.google.com/notebooks/data_table.ipynb>data table notebook</a>'\n",
              "            + ' to learn more about interactive tables.';\n",
              "          element.innerHTML = '';\n",
              "          dataTable['output_type'] = 'display_data';\n",
              "          await google.colab.output.renderOutput(dataTable, element);\n",
              "          const docLink = document.createElement('div');\n",
              "          docLink.innerHTML = docLinkHtml;\n",
              "          element.appendChild(docLink);\n",
              "        }\n",
              "      </script>\n",
              "    </div>\n",
              "  </div>\n",
              "  "
            ],
            "text/plain": [
              "                DateCrawled  Price  ... PostalCode             LastSeen\n",
              "43600   2016-03-17 18:47:56  12999  ...      84160  2016-03-24 14:44:59\n",
              "102613  2016-03-19 12:39:11  19500  ...      38527  2016-03-28 13:15:43\n",
              "151744  2016-03-24 20:00:09  12500  ...      84160  2016-04-05 13:16:47\n",
              "162460  2016-03-16 11:37:02  12000  ...      13595  2016-03-22 16:19:52\n",
              "186427  2016-03-11 11:56:50  16500  ...      15738  2016-04-07 03:46:16\n",
              "243042  2016-03-27 20:53:40  15900  ...      49082  2016-04-05 19:45:39\n",
              "\n",
              "[6 rows x 16 columns]"
            ]
          },
          "metadata": {}
        },
        {
          "output_type": "display_data",
          "data": {
            "text/html": [
              "\n",
              "  <div id=\"df-81c13b19-c5d0-443a-a00f-77bed62e8b97\">\n",
              "    <div class=\"colab-df-container\">\n",
              "      <div>\n",
              "<style scoped>\n",
              "    .dataframe tbody tr th:only-of-type {\n",
              "        vertical-align: middle;\n",
              "    }\n",
              "\n",
              "    .dataframe tbody tr th {\n",
              "        vertical-align: top;\n",
              "    }\n",
              "\n",
              "    .dataframe thead th {\n",
              "        text-align: right;\n",
              "    }\n",
              "</style>\n",
              "<table border=\"1\" class=\"dataframe\">\n",
              "  <thead>\n",
              "    <tr style=\"text-align: right;\">\n",
              "      <th></th>\n",
              "      <th>DateCrawled</th>\n",
              "      <th>Price</th>\n",
              "      <th>VehicleType</th>\n",
              "      <th>RegistrationYear</th>\n",
              "      <th>Gearbox</th>\n",
              "      <th>Power</th>\n",
              "      <th>Model</th>\n",
              "      <th>Kilometer</th>\n",
              "      <th>RegistrationMonth</th>\n",
              "      <th>FuelType</th>\n",
              "      <th>Brand</th>\n",
              "      <th>NotRepaired</th>\n",
              "      <th>DateCreated</th>\n",
              "      <th>NumberOfPictures</th>\n",
              "      <th>PostalCode</th>\n",
              "      <th>LastSeen</th>\n",
              "    </tr>\n",
              "  </thead>\n",
              "  <tbody>\n",
              "    <tr>\n",
              "      <th>23750</th>\n",
              "      <td>2016-03-16 19:58:34</td>\n",
              "      <td>3900</td>\n",
              "      <td>wagon</td>\n",
              "      <td>1910</td>\n",
              "      <td>manual</td>\n",
              "      <td>90</td>\n",
              "      <td>passat</td>\n",
              "      <td>150000</td>\n",
              "      <td>0</td>\n",
              "      <td>petrol</td>\n",
              "      <td>volkswagen</td>\n",
              "      <td>unknown</td>\n",
              "      <td>2016-03-16 00:00:00</td>\n",
              "      <td>0</td>\n",
              "      <td>88662</td>\n",
              "      <td>2016-04-07 05:45:53</td>\n",
              "    </tr>\n",
              "    <tr>\n",
              "      <th>33638</th>\n",
              "      <td>2016-03-16 09:47:50</td>\n",
              "      <td>5400</td>\n",
              "      <td>small</td>\n",
              "      <td>1937</td>\n",
              "      <td>manual</td>\n",
              "      <td>0</td>\n",
              "      <td>other</td>\n",
              "      <td>20000</td>\n",
              "      <td>3</td>\n",
              "      <td>petrol</td>\n",
              "      <td>opel</td>\n",
              "      <td>no</td>\n",
              "      <td>2016-03-16 00:00:00</td>\n",
              "      <td>0</td>\n",
              "      <td>7907</td>\n",
              "      <td>2016-03-17 07:47:51</td>\n",
              "    </tr>\n",
              "    <tr>\n",
              "      <th>34055</th>\n",
              "      <td>2016-03-25 00:55:47</td>\n",
              "      <td>2900</td>\n",
              "      <td>small</td>\n",
              "      <td>1937</td>\n",
              "      <td>manual</td>\n",
              "      <td>34</td>\n",
              "      <td>other</td>\n",
              "      <td>40000</td>\n",
              "      <td>7</td>\n",
              "      <td>petrol</td>\n",
              "      <td>ford</td>\n",
              "      <td>yes</td>\n",
              "      <td>2016-03-25 00:00:00</td>\n",
              "      <td>0</td>\n",
              "      <td>33378</td>\n",
              "      <td>2016-04-02 07:16:41</td>\n",
              "    </tr>\n",
              "    <tr>\n",
              "      <th>68185</th>\n",
              "      <td>2016-03-25 14:48:15</td>\n",
              "      <td>19900</td>\n",
              "      <td>convertible</td>\n",
              "      <td>1932</td>\n",
              "      <td>manual</td>\n",
              "      <td>18</td>\n",
              "      <td>other</td>\n",
              "      <td>5000</td>\n",
              "      <td>2</td>\n",
              "      <td>petrol</td>\n",
              "      <td>bmw</td>\n",
              "      <td>no</td>\n",
              "      <td>2016-03-25 00:00:00</td>\n",
              "      <td>0</td>\n",
              "      <td>99735</td>\n",
              "      <td>2016-04-06 18:15:26</td>\n",
              "    </tr>\n",
              "    <tr>\n",
              "      <th>76529</th>\n",
              "      <td>2016-03-30 22:42:50</td>\n",
              "      <td>4800</td>\n",
              "      <td>sedan</td>\n",
              "      <td>1937</td>\n",
              "      <td>manual</td>\n",
              "      <td>38</td>\n",
              "      <td>other</td>\n",
              "      <td>5000</td>\n",
              "      <td>0</td>\n",
              "      <td>petrol</td>\n",
              "      <td>mercedes_benz</td>\n",
              "      <td>unknown</td>\n",
              "      <td>2016-03-30 00:00:00</td>\n",
              "      <td>0</td>\n",
              "      <td>23936</td>\n",
              "      <td>2016-03-30 22:42:50</td>\n",
              "    </tr>\n",
              "    <tr>\n",
              "      <th>97923</th>\n",
              "      <td>2016-03-22 17:38:09</td>\n",
              "      <td>0</td>\n",
              "      <td>other</td>\n",
              "      <td>1935</td>\n",
              "      <td>manual</td>\n",
              "      <td>100</td>\n",
              "      <td>other</td>\n",
              "      <td>10000</td>\n",
              "      <td>7</td>\n",
              "      <td>petrol</td>\n",
              "      <td>ford</td>\n",
              "      <td>unknown</td>\n",
              "      <td>2016-03-22 00:00:00</td>\n",
              "      <td>0</td>\n",
              "      <td>88709</td>\n",
              "      <td>2016-04-06 08:17:04</td>\n",
              "    </tr>\n",
              "    <tr>\n",
              "      <th>98056</th>\n",
              "      <td>2016-04-01 12:46:44</td>\n",
              "      <td>1</td>\n",
              "      <td>sedan</td>\n",
              "      <td>1910</td>\n",
              "      <td>manual</td>\n",
              "      <td>10</td>\n",
              "      <td>other</td>\n",
              "      <td>5000</td>\n",
              "      <td>2</td>\n",
              "      <td>gasoline</td>\n",
              "      <td>mercedes_benz</td>\n",
              "      <td>no</td>\n",
              "      <td>2016-04-01 00:00:00</td>\n",
              "      <td>0</td>\n",
              "      <td>70173</td>\n",
              "      <td>2016-04-01 12:46:44</td>\n",
              "    </tr>\n",
              "    <tr>\n",
              "      <th>117371</th>\n",
              "      <td>2016-03-14 14:00:30</td>\n",
              "      <td>8750</td>\n",
              "      <td>convertible</td>\n",
              "      <td>1923</td>\n",
              "      <td>manual</td>\n",
              "      <td>11</td>\n",
              "      <td>c3</td>\n",
              "      <td>5000</td>\n",
              "      <td>0</td>\n",
              "      <td>petrol</td>\n",
              "      <td>citroen</td>\n",
              "      <td>no</td>\n",
              "      <td>2016-03-14 00:00:00</td>\n",
              "      <td>0</td>\n",
              "      <td>27299</td>\n",
              "      <td>2016-04-05 16:44:28</td>\n",
              "    </tr>\n",
              "    <tr>\n",
              "      <th>122879</th>\n",
              "      <td>2016-03-08 03:58:35</td>\n",
              "      <td>8000</td>\n",
              "      <td>other</td>\n",
              "      <td>1930</td>\n",
              "      <td>manual</td>\n",
              "      <td>23</td>\n",
              "      <td>other</td>\n",
              "      <td>150000</td>\n",
              "      <td>0</td>\n",
              "      <td>petrol</td>\n",
              "      <td>peugeot</td>\n",
              "      <td>unknown</td>\n",
              "      <td>2016-03-08 00:00:00</td>\n",
              "      <td>0</td>\n",
              "      <td>74523</td>\n",
              "      <td>2016-03-29 09:45:15</td>\n",
              "    </tr>\n",
              "    <tr>\n",
              "      <th>137547</th>\n",
              "      <td>2016-03-28 23:53:28</td>\n",
              "      <td>0</td>\n",
              "      <td>suv</td>\n",
              "      <td>1910</td>\n",
              "      <td>auto</td>\n",
              "      <td>0</td>\n",
              "      <td>gl</td>\n",
              "      <td>5000</td>\n",
              "      <td>0</td>\n",
              "      <td>lpg</td>\n",
              "      <td>mercedes_benz</td>\n",
              "      <td>no</td>\n",
              "      <td>2016-03-28 00:00:00</td>\n",
              "      <td>0</td>\n",
              "      <td>51145</td>\n",
              "      <td>2016-04-05 14:47:29</td>\n",
              "    </tr>\n",
              "    <tr>\n",
              "      <th>143747</th>\n",
              "      <td>2016-03-14 22:56:36</td>\n",
              "      <td>0</td>\n",
              "      <td>wagon</td>\n",
              "      <td>1930</td>\n",
              "      <td>manual</td>\n",
              "      <td>99</td>\n",
              "      <td>spark</td>\n",
              "      <td>20000</td>\n",
              "      <td>6</td>\n",
              "      <td>hybrid</td>\n",
              "      <td>chevrolet</td>\n",
              "      <td>no</td>\n",
              "      <td>2016-03-14 00:00:00</td>\n",
              "      <td>0</td>\n",
              "      <td>6842</td>\n",
              "      <td>2016-03-17 20:15:29</td>\n",
              "    </tr>\n",
              "    <tr>\n",
              "      <th>145609</th>\n",
              "      <td>2016-03-06 14:39:02</td>\n",
              "      <td>1</td>\n",
              "      <td>other</td>\n",
              "      <td>1934</td>\n",
              "      <td>auto</td>\n",
              "      <td>0</td>\n",
              "      <td>other</td>\n",
              "      <td>5000</td>\n",
              "      <td>7</td>\n",
              "      <td>petrol</td>\n",
              "      <td>citroen</td>\n",
              "      <td>unknown</td>\n",
              "      <td>2016-03-06 00:00:00</td>\n",
              "      <td>0</td>\n",
              "      <td>39343</td>\n",
              "      <td>2016-04-02 13:15:51</td>\n",
              "    </tr>\n",
              "    <tr>\n",
              "      <th>146207</th>\n",
              "      <td>2016-04-01 19:46:02</td>\n",
              "      <td>12999</td>\n",
              "      <td>small</td>\n",
              "      <td>1938</td>\n",
              "      <td>manual</td>\n",
              "      <td>40</td>\n",
              "      <td>2_reihe</td>\n",
              "      <td>70000</td>\n",
              "      <td>1</td>\n",
              "      <td>petrol</td>\n",
              "      <td>peugeot</td>\n",
              "      <td>no</td>\n",
              "      <td>2016-04-01 00:00:00</td>\n",
              "      <td>0</td>\n",
              "      <td>54673</td>\n",
              "      <td>2016-04-05 15:47:26</td>\n",
              "    </tr>\n",
              "    <tr>\n",
              "      <th>154559</th>\n",
              "      <td>2016-04-03 12:40:19</td>\n",
              "      <td>0</td>\n",
              "      <td>small</td>\n",
              "      <td>1910</td>\n",
              "      <td>manual</td>\n",
              "      <td>0</td>\n",
              "      <td>colt</td>\n",
              "      <td>150000</td>\n",
              "      <td>0</td>\n",
              "      <td>petrol</td>\n",
              "      <td>mitsubishi</td>\n",
              "      <td>unknown</td>\n",
              "      <td>2016-04-03 00:00:00</td>\n",
              "      <td>0</td>\n",
              "      <td>46397</td>\n",
              "      <td>2016-04-07 14:57:06</td>\n",
              "    </tr>\n",
              "    <tr>\n",
              "      <th>157965</th>\n",
              "      <td>2016-03-15 14:57:07</td>\n",
              "      <td>3350</td>\n",
              "      <td>other</td>\n",
              "      <td>1934</td>\n",
              "      <td>manual</td>\n",
              "      <td>0</td>\n",
              "      <td>other</td>\n",
              "      <td>5000</td>\n",
              "      <td>0</td>\n",
              "      <td>petrol</td>\n",
              "      <td>opel</td>\n",
              "      <td>yes</td>\n",
              "      <td>2016-03-15 00:00:00</td>\n",
              "      <td>0</td>\n",
              "      <td>49828</td>\n",
              "      <td>2016-04-06 06:17:51</td>\n",
              "    </tr>\n",
              "    <tr>\n",
              "      <th>165188</th>\n",
              "      <td>2016-04-05 15:06:17</td>\n",
              "      <td>16000</td>\n",
              "      <td>other</td>\n",
              "      <td>1935</td>\n",
              "      <td>manual</td>\n",
              "      <td>23</td>\n",
              "      <td>other</td>\n",
              "      <td>30000</td>\n",
              "      <td>1</td>\n",
              "      <td>petrol</td>\n",
              "      <td>opel</td>\n",
              "      <td>unknown</td>\n",
              "      <td>2016-04-05 00:00:00</td>\n",
              "      <td>0</td>\n",
              "      <td>65195</td>\n",
              "      <td>2016-04-05 15:06:17</td>\n",
              "    </tr>\n",
              "    <tr>\n",
              "      <th>168401</th>\n",
              "      <td>2016-03-14 20:36:18</td>\n",
              "      <td>0</td>\n",
              "      <td>sedan</td>\n",
              "      <td>1910</td>\n",
              "      <td>manual</td>\n",
              "      <td>0</td>\n",
              "      <td>100</td>\n",
              "      <td>150000</td>\n",
              "      <td>4</td>\n",
              "      <td>petrol</td>\n",
              "      <td>audi</td>\n",
              "      <td>unknown</td>\n",
              "      <td>2016-03-14 00:00:00</td>\n",
              "      <td>0</td>\n",
              "      <td>86971</td>\n",
              "      <td>2016-03-14 21:42:11</td>\n",
              "    </tr>\n",
              "    <tr>\n",
              "      <th>174278</th>\n",
              "      <td>2016-03-28 16:55:31</td>\n",
              "      <td>20000</td>\n",
              "      <td>sedan</td>\n",
              "      <td>1936</td>\n",
              "      <td>manual</td>\n",
              "      <td>23</td>\n",
              "      <td>other</td>\n",
              "      <td>30000</td>\n",
              "      <td>0</td>\n",
              "      <td>petrol</td>\n",
              "      <td>opel</td>\n",
              "      <td>unknown</td>\n",
              "      <td>2016-03-28 00:00:00</td>\n",
              "      <td>0</td>\n",
              "      <td>66879</td>\n",
              "      <td>2016-04-06 22:17:51</td>\n",
              "    </tr>\n",
              "    <tr>\n",
              "      <th>197739</th>\n",
              "      <td>2016-04-01 09:39:11</td>\n",
              "      <td>0</td>\n",
              "      <td>other</td>\n",
              "      <td>1919</td>\n",
              "      <td>manual</td>\n",
              "      <td>0</td>\n",
              "      <td>other</td>\n",
              "      <td>150000</td>\n",
              "      <td>6</td>\n",
              "      <td>petrol</td>\n",
              "      <td>ford</td>\n",
              "      <td>yes</td>\n",
              "      <td>2016-04-01 00:00:00</td>\n",
              "      <td>0</td>\n",
              "      <td>23863</td>\n",
              "      <td>2016-04-01 09:39:11</td>\n",
              "    </tr>\n",
              "    <tr>\n",
              "      <th>218273</th>\n",
              "      <td>2016-03-23 00:49:23</td>\n",
              "      <td>1</td>\n",
              "      <td>convertible</td>\n",
              "      <td>1910</td>\n",
              "      <td>manual</td>\n",
              "      <td>0</td>\n",
              "      <td>other</td>\n",
              "      <td>5000</td>\n",
              "      <td>0</td>\n",
              "      <td>petrol</td>\n",
              "      <td>fiat</td>\n",
              "      <td>unknown</td>\n",
              "      <td>2016-03-22 00:00:00</td>\n",
              "      <td>0</td>\n",
              "      <td>47169</td>\n",
              "      <td>2016-04-05 01:44:25</td>\n",
              "    </tr>\n",
              "    <tr>\n",
              "      <th>230095</th>\n",
              "      <td>2016-03-09 16:52:31</td>\n",
              "      <td>11500</td>\n",
              "      <td>convertible</td>\n",
              "      <td>1929</td>\n",
              "      <td>manual</td>\n",
              "      <td>15</td>\n",
              "      <td>other</td>\n",
              "      <td>5000</td>\n",
              "      <td>1</td>\n",
              "      <td>petrol</td>\n",
              "      <td>bmw</td>\n",
              "      <td>yes</td>\n",
              "      <td>2016-03-09 00:00:00</td>\n",
              "      <td>0</td>\n",
              "      <td>70569</td>\n",
              "      <td>2016-04-07 06:44:38</td>\n",
              "    </tr>\n",
              "    <tr>\n",
              "      <th>235505</th>\n",
              "      <td>2016-03-17 07:37:03</td>\n",
              "      <td>9999</td>\n",
              "      <td>convertible</td>\n",
              "      <td>1928</td>\n",
              "      <td>manual</td>\n",
              "      <td>40</td>\n",
              "      <td>other</td>\n",
              "      <td>150000</td>\n",
              "      <td>6</td>\n",
              "      <td>petrol</td>\n",
              "      <td>ford</td>\n",
              "      <td>unknown</td>\n",
              "      <td>2016-03-17 00:00:00</td>\n",
              "      <td>0</td>\n",
              "      <td>27419</td>\n",
              "      <td>2016-04-06 05:16:30</td>\n",
              "    </tr>\n",
              "    <tr>\n",
              "      <th>247198</th>\n",
              "      <td>2016-03-08 14:49:15</td>\n",
              "      <td>5500</td>\n",
              "      <td>sedan</td>\n",
              "      <td>1937</td>\n",
              "      <td>manual</td>\n",
              "      <td>0</td>\n",
              "      <td>other</td>\n",
              "      <td>30000</td>\n",
              "      <td>3</td>\n",
              "      <td>petrol</td>\n",
              "      <td>opel</td>\n",
              "      <td>no</td>\n",
              "      <td>2016-03-08 00:00:00</td>\n",
              "      <td>0</td>\n",
              "      <td>7907</td>\n",
              "      <td>2016-03-09 05:45:44</td>\n",
              "    </tr>\n",
              "    <tr>\n",
              "      <th>251167</th>\n",
              "      <td>2016-03-06 12:38:33</td>\n",
              "      <td>5900</td>\n",
              "      <td>sedan</td>\n",
              "      <td>1932</td>\n",
              "      <td>manual</td>\n",
              "      <td>0</td>\n",
              "      <td>other</td>\n",
              "      <td>150000</td>\n",
              "      <td>0</td>\n",
              "      <td>petrol</td>\n",
              "      <td>peugeot</td>\n",
              "      <td>unknown</td>\n",
              "      <td>2016-03-06 00:00:00</td>\n",
              "      <td>0</td>\n",
              "      <td>93083</td>\n",
              "      <td>2016-04-06 05:45:27</td>\n",
              "    </tr>\n",
              "    <tr>\n",
              "      <th>263574</th>\n",
              "      <td>2016-04-03 20:37:38</td>\n",
              "      <td>4700</td>\n",
              "      <td>other</td>\n",
              "      <td>1931</td>\n",
              "      <td>auto</td>\n",
              "      <td>40</td>\n",
              "      <td>other</td>\n",
              "      <td>150000</td>\n",
              "      <td>1</td>\n",
              "      <td>petrol</td>\n",
              "      <td>ford</td>\n",
              "      <td>yes</td>\n",
              "      <td>2016-04-03 00:00:00</td>\n",
              "      <td>0</td>\n",
              "      <td>23769</td>\n",
              "      <td>2016-04-05 21:16:51</td>\n",
              "    </tr>\n",
              "    <tr>\n",
              "      <th>270911</th>\n",
              "      <td>2016-03-23 11:48:08</td>\n",
              "      <td>0</td>\n",
              "      <td>other</td>\n",
              "      <td>1910</td>\n",
              "      <td>manual</td>\n",
              "      <td>0</td>\n",
              "      <td>other</td>\n",
              "      <td>5000</td>\n",
              "      <td>0</td>\n",
              "      <td>petrol</td>\n",
              "      <td>citroen</td>\n",
              "      <td>no</td>\n",
              "      <td>2016-03-23 00:00:00</td>\n",
              "      <td>0</td>\n",
              "      <td>98630</td>\n",
              "      <td>2016-03-23 11:48:08</td>\n",
              "    </tr>\n",
              "    <tr>\n",
              "      <th>271260</th>\n",
              "      <td>2016-03-26 18:55:51</td>\n",
              "      <td>5000</td>\n",
              "      <td>sedan</td>\n",
              "      <td>1938</td>\n",
              "      <td>manual</td>\n",
              "      <td>0</td>\n",
              "      <td>kadett</td>\n",
              "      <td>5000</td>\n",
              "      <td>0</td>\n",
              "      <td>petrol</td>\n",
              "      <td>opel</td>\n",
              "      <td>unknown</td>\n",
              "      <td>2016-03-26 00:00:00</td>\n",
              "      <td>0</td>\n",
              "      <td>36369</td>\n",
              "      <td>2016-04-06 08:17:31</td>\n",
              "    </tr>\n",
              "    <tr>\n",
              "      <th>299914</th>\n",
              "      <td>2016-03-12 08:36:21</td>\n",
              "      <td>16500</td>\n",
              "      <td>convertible</td>\n",
              "      <td>1927</td>\n",
              "      <td>manual</td>\n",
              "      <td>40</td>\n",
              "      <td>other</td>\n",
              "      <td>5000</td>\n",
              "      <td>5</td>\n",
              "      <td>petrol</td>\n",
              "      <td>ford</td>\n",
              "      <td>unknown</td>\n",
              "      <td>2016-03-12 00:00:00</td>\n",
              "      <td>0</td>\n",
              "      <td>74821</td>\n",
              "      <td>2016-03-15 12:45:12</td>\n",
              "    </tr>\n",
              "    <tr>\n",
              "      <th>306463</th>\n",
              "      <td>2016-03-29 03:36:23</td>\n",
              "      <td>16800</td>\n",
              "      <td>other</td>\n",
              "      <td>1930</td>\n",
              "      <td>manual</td>\n",
              "      <td>24</td>\n",
              "      <td>other</td>\n",
              "      <td>150000</td>\n",
              "      <td>1</td>\n",
              "      <td>petrol</td>\n",
              "      <td>ford</td>\n",
              "      <td>no</td>\n",
              "      <td>2016-03-29 00:00:00</td>\n",
              "      <td>0</td>\n",
              "      <td>51063</td>\n",
              "      <td>2016-04-05 17:25:58</td>\n",
              "    </tr>\n",
              "    <tr>\n",
              "      <th>309657</th>\n",
              "      <td>2016-04-05 15:25:19</td>\n",
              "      <td>19000</td>\n",
              "      <td>sedan</td>\n",
              "      <td>1933</td>\n",
              "      <td>manual</td>\n",
              "      <td>23</td>\n",
              "      <td>other</td>\n",
              "      <td>50000</td>\n",
              "      <td>1</td>\n",
              "      <td>petrol</td>\n",
              "      <td>opel</td>\n",
              "      <td>unknown</td>\n",
              "      <td>2016-04-05 00:00:00</td>\n",
              "      <td>0</td>\n",
              "      <td>65195</td>\n",
              "      <td>2016-04-05 15:25:19</td>\n",
              "    </tr>\n",
              "    <tr>\n",
              "      <th>324049</th>\n",
              "      <td>2016-03-16 17:57:29</td>\n",
              "      <td>8750</td>\n",
              "      <td>convertible</td>\n",
              "      <td>1923</td>\n",
              "      <td>manual</td>\n",
              "      <td>8</td>\n",
              "      <td>c3</td>\n",
              "      <td>5000</td>\n",
              "      <td>1</td>\n",
              "      <td>petrol</td>\n",
              "      <td>citroen</td>\n",
              "      <td>no</td>\n",
              "      <td>2016-03-16 00:00:00</td>\n",
              "      <td>0</td>\n",
              "      <td>27299</td>\n",
              "      <td>2016-04-04 22:16:07</td>\n",
              "    </tr>\n",
              "    <tr>\n",
              "      <th>335547</th>\n",
              "      <td>2016-03-27 12:44:33</td>\n",
              "      <td>9000</td>\n",
              "      <td>sedan</td>\n",
              "      <td>1938</td>\n",
              "      <td>manual</td>\n",
              "      <td>1</td>\n",
              "      <td>kadett</td>\n",
              "      <td>5000</td>\n",
              "      <td>0</td>\n",
              "      <td>petrol</td>\n",
              "      <td>opel</td>\n",
              "      <td>unknown</td>\n",
              "      <td>2016-03-27 00:00:00</td>\n",
              "      <td>0</td>\n",
              "      <td>93437</td>\n",
              "      <td>2016-03-27 12:44:33</td>\n",
              "    </tr>\n",
              "    <tr>\n",
              "      <th>336104</th>\n",
              "      <td>2016-03-11 11:51:33</td>\n",
              "      <td>20000</td>\n",
              "      <td>coupe</td>\n",
              "      <td>1929</td>\n",
              "      <td>manual</td>\n",
              "      <td>12</td>\n",
              "      <td>other</td>\n",
              "      <td>10000</td>\n",
              "      <td>4</td>\n",
              "      <td>petrol</td>\n",
              "      <td>bmw</td>\n",
              "      <td>unknown</td>\n",
              "      <td>2016-03-11 00:00:00</td>\n",
              "      <td>0</td>\n",
              "      <td>74523</td>\n",
              "      <td>2016-04-07 05:45:00</td>\n",
              "    </tr>\n",
              "    <tr>\n",
              "      <th>338109</th>\n",
              "      <td>2016-03-05 17:45:32</td>\n",
              "      <td>7000</td>\n",
              "      <td>coupe</td>\n",
              "      <td>1937</td>\n",
              "      <td>manual</td>\n",
              "      <td>85</td>\n",
              "      <td>other</td>\n",
              "      <td>5000</td>\n",
              "      <td>8</td>\n",
              "      <td>petrol</td>\n",
              "      <td>ford</td>\n",
              "      <td>yes</td>\n",
              "      <td>2016-03-05 00:00:00</td>\n",
              "      <td>0</td>\n",
              "      <td>8359</td>\n",
              "      <td>2016-04-07 10:44:39</td>\n",
              "    </tr>\n",
              "    <tr>\n",
              "      <th>353531</th>\n",
              "      <td>2016-03-16 21:56:55</td>\n",
              "      <td>6000</td>\n",
              "      <td>sedan</td>\n",
              "      <td>1937</td>\n",
              "      <td>manual</td>\n",
              "      <td>38</td>\n",
              "      <td>other</td>\n",
              "      <td>5000</td>\n",
              "      <td>0</td>\n",
              "      <td>petrol</td>\n",
              "      <td>mercedes_benz</td>\n",
              "      <td>unknown</td>\n",
              "      <td>2016-03-16 00:00:00</td>\n",
              "      <td>0</td>\n",
              "      <td>23936</td>\n",
              "      <td>2016-03-30 18:47:41</td>\n",
              "    </tr>\n",
              "  </tbody>\n",
              "</table>\n",
              "</div>\n",
              "      <button class=\"colab-df-convert\" onclick=\"convertToInteractive('df-81c13b19-c5d0-443a-a00f-77bed62e8b97')\"\n",
              "              title=\"Convert this dataframe to an interactive table.\"\n",
              "              style=\"display:none;\">\n",
              "        \n",
              "  <svg xmlns=\"http://www.w3.org/2000/svg\" height=\"24px\"viewBox=\"0 0 24 24\"\n",
              "       width=\"24px\">\n",
              "    <path d=\"M0 0h24v24H0V0z\" fill=\"none\"/>\n",
              "    <path d=\"M18.56 5.44l.94 2.06.94-2.06 2.06-.94-2.06-.94-.94-2.06-.94 2.06-2.06.94zm-11 1L8.5 8.5l.94-2.06 2.06-.94-2.06-.94L8.5 2.5l-.94 2.06-2.06.94zm10 10l.94 2.06.94-2.06 2.06-.94-2.06-.94-.94-2.06-.94 2.06-2.06.94z\"/><path d=\"M17.41 7.96l-1.37-1.37c-.4-.4-.92-.59-1.43-.59-.52 0-1.04.2-1.43.59L10.3 9.45l-7.72 7.72c-.78.78-.78 2.05 0 2.83L4 21.41c.39.39.9.59 1.41.59.51 0 1.02-.2 1.41-.59l7.78-7.78 2.81-2.81c.8-.78.8-2.07 0-2.86zM5.41 20L4 18.59l7.72-7.72 1.47 1.35L5.41 20z\"/>\n",
              "  </svg>\n",
              "      </button>\n",
              "      \n",
              "  <style>\n",
              "    .colab-df-container {\n",
              "      display:flex;\n",
              "      flex-wrap:wrap;\n",
              "      gap: 12px;\n",
              "    }\n",
              "\n",
              "    .colab-df-convert {\n",
              "      background-color: #E8F0FE;\n",
              "      border: none;\n",
              "      border-radius: 50%;\n",
              "      cursor: pointer;\n",
              "      display: none;\n",
              "      fill: #1967D2;\n",
              "      height: 32px;\n",
              "      padding: 0 0 0 0;\n",
              "      width: 32px;\n",
              "    }\n",
              "\n",
              "    .colab-df-convert:hover {\n",
              "      background-color: #E2EBFA;\n",
              "      box-shadow: 0px 1px 2px rgba(60, 64, 67, 0.3), 0px 1px 3px 1px rgba(60, 64, 67, 0.15);\n",
              "      fill: #174EA6;\n",
              "    }\n",
              "\n",
              "    [theme=dark] .colab-df-convert {\n",
              "      background-color: #3B4455;\n",
              "      fill: #D2E3FC;\n",
              "    }\n",
              "\n",
              "    [theme=dark] .colab-df-convert:hover {\n",
              "      background-color: #434B5C;\n",
              "      box-shadow: 0px 1px 3px 1px rgba(0, 0, 0, 0.15);\n",
              "      filter: drop-shadow(0px 1px 2px rgba(0, 0, 0, 0.3));\n",
              "      fill: #FFFFFF;\n",
              "    }\n",
              "  </style>\n",
              "\n",
              "      <script>\n",
              "        const buttonEl =\n",
              "          document.querySelector('#df-81c13b19-c5d0-443a-a00f-77bed62e8b97 button.colab-df-convert');\n",
              "        buttonEl.style.display =\n",
              "          google.colab.kernel.accessAllowed ? 'block' : 'none';\n",
              "\n",
              "        async function convertToInteractive(key) {\n",
              "          const element = document.querySelector('#df-81c13b19-c5d0-443a-a00f-77bed62e8b97');\n",
              "          const dataTable =\n",
              "            await google.colab.kernel.invokeFunction('convertToInteractive',\n",
              "                                                     [key], {});\n",
              "          if (!dataTable) return;\n",
              "\n",
              "          const docLinkHtml = 'Like what you see? Visit the ' +\n",
              "            '<a target=\"_blank\" href=https://colab.research.google.com/notebooks/data_table.ipynb>data table notebook</a>'\n",
              "            + ' to learn more about interactive tables.';\n",
              "          element.innerHTML = '';\n",
              "          dataTable['output_type'] = 'display_data';\n",
              "          await google.colab.output.renderOutput(dataTable, element);\n",
              "          const docLink = document.createElement('div');\n",
              "          docLink.innerHTML = docLinkHtml;\n",
              "          element.appendChild(docLink);\n",
              "        }\n",
              "      </script>\n",
              "    </div>\n",
              "  </div>\n",
              "  "
            ],
            "text/plain": [
              "                DateCrawled  Price  ... PostalCode             LastSeen\n",
              "23750   2016-03-16 19:58:34   3900  ...      88662  2016-04-07 05:45:53\n",
              "33638   2016-03-16 09:47:50   5400  ...       7907  2016-03-17 07:47:51\n",
              "34055   2016-03-25 00:55:47   2900  ...      33378  2016-04-02 07:16:41\n",
              "68185   2016-03-25 14:48:15  19900  ...      99735  2016-04-06 18:15:26\n",
              "76529   2016-03-30 22:42:50   4800  ...      23936  2016-03-30 22:42:50\n",
              "97923   2016-03-22 17:38:09      0  ...      88709  2016-04-06 08:17:04\n",
              "98056   2016-04-01 12:46:44      1  ...      70173  2016-04-01 12:46:44\n",
              "117371  2016-03-14 14:00:30   8750  ...      27299  2016-04-05 16:44:28\n",
              "122879  2016-03-08 03:58:35   8000  ...      74523  2016-03-29 09:45:15\n",
              "137547  2016-03-28 23:53:28      0  ...      51145  2016-04-05 14:47:29\n",
              "143747  2016-03-14 22:56:36      0  ...       6842  2016-03-17 20:15:29\n",
              "145609  2016-03-06 14:39:02      1  ...      39343  2016-04-02 13:15:51\n",
              "146207  2016-04-01 19:46:02  12999  ...      54673  2016-04-05 15:47:26\n",
              "154559  2016-04-03 12:40:19      0  ...      46397  2016-04-07 14:57:06\n",
              "157965  2016-03-15 14:57:07   3350  ...      49828  2016-04-06 06:17:51\n",
              "165188  2016-04-05 15:06:17  16000  ...      65195  2016-04-05 15:06:17\n",
              "168401  2016-03-14 20:36:18      0  ...      86971  2016-03-14 21:42:11\n",
              "174278  2016-03-28 16:55:31  20000  ...      66879  2016-04-06 22:17:51\n",
              "197739  2016-04-01 09:39:11      0  ...      23863  2016-04-01 09:39:11\n",
              "218273  2016-03-23 00:49:23      1  ...      47169  2016-04-05 01:44:25\n",
              "230095  2016-03-09 16:52:31  11500  ...      70569  2016-04-07 06:44:38\n",
              "235505  2016-03-17 07:37:03   9999  ...      27419  2016-04-06 05:16:30\n",
              "247198  2016-03-08 14:49:15   5500  ...       7907  2016-03-09 05:45:44\n",
              "251167  2016-03-06 12:38:33   5900  ...      93083  2016-04-06 05:45:27\n",
              "263574  2016-04-03 20:37:38   4700  ...      23769  2016-04-05 21:16:51\n",
              "270911  2016-03-23 11:48:08      0  ...      98630  2016-03-23 11:48:08\n",
              "271260  2016-03-26 18:55:51   5000  ...      36369  2016-04-06 08:17:31\n",
              "299914  2016-03-12 08:36:21  16500  ...      74821  2016-03-15 12:45:12\n",
              "306463  2016-03-29 03:36:23  16800  ...      51063  2016-04-05 17:25:58\n",
              "309657  2016-04-05 15:25:19  19000  ...      65195  2016-04-05 15:25:19\n",
              "324049  2016-03-16 17:57:29   8750  ...      27299  2016-04-04 22:16:07\n",
              "335547  2016-03-27 12:44:33   9000  ...      93437  2016-03-27 12:44:33\n",
              "336104  2016-03-11 11:51:33  20000  ...      74523  2016-04-07 05:45:00\n",
              "338109  2016-03-05 17:45:32   7000  ...       8359  2016-04-07 10:44:39\n",
              "353531  2016-03-16 21:56:55   6000  ...      23936  2016-03-30 18:47:41\n",
              "\n",
              "[35 rows x 16 columns]"
            ]
          },
          "metadata": {}
        }
      ],
      "source": [
        "display(data[data['Power'] == 600])\n",
        "display(data[data['RegistrationYear'] < 1940])"
      ]
    },
    {
      "cell_type": "markdown",
      "metadata": {
        "id": "SdxGBhszfoI5"
      },
      "source": [
        "    Цена, мощность - не могут быть 0, как и нулевой месяц, если есть 12й\n",
        "    Jaguar S-Type R, 2002г, 4.2, Supercharged, 4196 см3, 395 л.с никак не 600\n",
        "    До 600л.с. ещё реальные мощности, ну и 6 л.с. для авто 1919 это нормально, меньше - нет\n",
        "    Число фото - 0, дроп, индекс аналогично, набор цифр, для модели не играют роли\n",
        "    Год регистрации, пробег в порядке\n",
        "    140 евро это примерно 10000 рублей, возьму такую минимальную цену\n",
        "    В 'FuelType' gasoline и petrol по сути одно и тоже, оставлю так, хотя можно было бы избавить от одной категории"
      ]
    },
    {
      "cell_type": "code",
      "execution_count": 17,
      "metadata": {
        "id": "kJba_eoXfoI6"
      },
      "outputs": [],
      "source": [
        "#data['RegistrationYear'] = pd.to_datetime(data.RegistrationYear)"
      ]
    },
    {
      "cell_type": "code",
      "execution_count": 18,
      "metadata": {
        "scrolled": true,
        "colab": {
          "base_uri": "https://localhost:8080/",
          "height": 112
        },
        "id": "gtJGJ-P2foI6",
        "outputId": "a9c3587a-9361-43ee-81e2-6ff01bbfb9b9"
      },
      "outputs": [
        {
          "output_type": "display_data",
          "data": {
            "text/html": [
              "\n",
              "  <div id=\"df-8d8267c9-2f4a-49d2-8ae7-d813da66487d\">\n",
              "    <div class=\"colab-df-container\">\n",
              "      <div>\n",
              "<style scoped>\n",
              "    .dataframe tbody tr th:only-of-type {\n",
              "        vertical-align: middle;\n",
              "    }\n",
              "\n",
              "    .dataframe tbody tr th {\n",
              "        vertical-align: top;\n",
              "    }\n",
              "\n",
              "    .dataframe thead th {\n",
              "        text-align: right;\n",
              "    }\n",
              "</style>\n",
              "<table border=\"1\" class=\"dataframe\">\n",
              "  <thead>\n",
              "    <tr style=\"text-align: right;\">\n",
              "      <th></th>\n",
              "      <th>Price</th>\n",
              "      <th>Power</th>\n",
              "      <th>RegistrationMonth</th>\n",
              "    </tr>\n",
              "  </thead>\n",
              "  <tbody>\n",
              "    <tr>\n",
              "      <th>min</th>\n",
              "      <td>142.0</td>\n",
              "      <td>6.0</td>\n",
              "      <td>1.0</td>\n",
              "    </tr>\n",
              "    <tr>\n",
              "      <th>max</th>\n",
              "      <td>20000.0</td>\n",
              "      <td>585.0</td>\n",
              "      <td>12.0</td>\n",
              "    </tr>\n",
              "  </tbody>\n",
              "</table>\n",
              "</div>\n",
              "      <button class=\"colab-df-convert\" onclick=\"convertToInteractive('df-8d8267c9-2f4a-49d2-8ae7-d813da66487d')\"\n",
              "              title=\"Convert this dataframe to an interactive table.\"\n",
              "              style=\"display:none;\">\n",
              "        \n",
              "  <svg xmlns=\"http://www.w3.org/2000/svg\" height=\"24px\"viewBox=\"0 0 24 24\"\n",
              "       width=\"24px\">\n",
              "    <path d=\"M0 0h24v24H0V0z\" fill=\"none\"/>\n",
              "    <path d=\"M18.56 5.44l.94 2.06.94-2.06 2.06-.94-2.06-.94-.94-2.06-.94 2.06-2.06.94zm-11 1L8.5 8.5l.94-2.06 2.06-.94-2.06-.94L8.5 2.5l-.94 2.06-2.06.94zm10 10l.94 2.06.94-2.06 2.06-.94-2.06-.94-.94-2.06-.94 2.06-2.06.94z\"/><path d=\"M17.41 7.96l-1.37-1.37c-.4-.4-.92-.59-1.43-.59-.52 0-1.04.2-1.43.59L10.3 9.45l-7.72 7.72c-.78.78-.78 2.05 0 2.83L4 21.41c.39.39.9.59 1.41.59.51 0 1.02-.2 1.41-.59l7.78-7.78 2.81-2.81c.8-.78.8-2.07 0-2.86zM5.41 20L4 18.59l7.72-7.72 1.47 1.35L5.41 20z\"/>\n",
              "  </svg>\n",
              "      </button>\n",
              "      \n",
              "  <style>\n",
              "    .colab-df-container {\n",
              "      display:flex;\n",
              "      flex-wrap:wrap;\n",
              "      gap: 12px;\n",
              "    }\n",
              "\n",
              "    .colab-df-convert {\n",
              "      background-color: #E8F0FE;\n",
              "      border: none;\n",
              "      border-radius: 50%;\n",
              "      cursor: pointer;\n",
              "      display: none;\n",
              "      fill: #1967D2;\n",
              "      height: 32px;\n",
              "      padding: 0 0 0 0;\n",
              "      width: 32px;\n",
              "    }\n",
              "\n",
              "    .colab-df-convert:hover {\n",
              "      background-color: #E2EBFA;\n",
              "      box-shadow: 0px 1px 2px rgba(60, 64, 67, 0.3), 0px 1px 3px 1px rgba(60, 64, 67, 0.15);\n",
              "      fill: #174EA6;\n",
              "    }\n",
              "\n",
              "    [theme=dark] .colab-df-convert {\n",
              "      background-color: #3B4455;\n",
              "      fill: #D2E3FC;\n",
              "    }\n",
              "\n",
              "    [theme=dark] .colab-df-convert:hover {\n",
              "      background-color: #434B5C;\n",
              "      box-shadow: 0px 1px 3px 1px rgba(0, 0, 0, 0.15);\n",
              "      filter: drop-shadow(0px 1px 2px rgba(0, 0, 0, 0.3));\n",
              "      fill: #FFFFFF;\n",
              "    }\n",
              "  </style>\n",
              "\n",
              "      <script>\n",
              "        const buttonEl =\n",
              "          document.querySelector('#df-8d8267c9-2f4a-49d2-8ae7-d813da66487d button.colab-df-convert');\n",
              "        buttonEl.style.display =\n",
              "          google.colab.kernel.accessAllowed ? 'block' : 'none';\n",
              "\n",
              "        async function convertToInteractive(key) {\n",
              "          const element = document.querySelector('#df-8d8267c9-2f4a-49d2-8ae7-d813da66487d');\n",
              "          const dataTable =\n",
              "            await google.colab.kernel.invokeFunction('convertToInteractive',\n",
              "                                                     [key], {});\n",
              "          if (!dataTable) return;\n",
              "\n",
              "          const docLinkHtml = 'Like what you see? Visit the ' +\n",
              "            '<a target=\"_blank\" href=https://colab.research.google.com/notebooks/data_table.ipynb>data table notebook</a>'\n",
              "            + ' to learn more about interactive tables.';\n",
              "          element.innerHTML = '';\n",
              "          dataTable['output_type'] = 'display_data';\n",
              "          await google.colab.output.renderOutput(dataTable, element);\n",
              "          const docLink = document.createElement('div');\n",
              "          docLink.innerHTML = docLinkHtml;\n",
              "          element.appendChild(docLink);\n",
              "        }\n",
              "      </script>\n",
              "    </div>\n",
              "  </div>\n",
              "  "
            ],
            "text/plain": [
              "       Price  Power  RegistrationMonth\n",
              "min    142.0    6.0                1.0\n",
              "max  20000.0  585.0               12.0"
            ]
          },
          "metadata": {}
        }
      ],
      "source": [
        "data = data[(data[['Power']] < 600).all(axis=1) & (5 < data[['Power']]).all(axis=1)]\n",
        "data = data[(data[['Price']] > 140).all(axis=1)]\n",
        "data = data[(data[['RegistrationMonth']] > 0).all(axis=1)]\n",
        "display(data[['Price', \n",
        "              'Power',\n",
        "              'RegistrationMonth'\n",
        "              ]].describe().loc[['min', 'max']])"
      ]
    },
    {
      "cell_type": "markdown",
      "metadata": {
        "id": "DT3nnv2IfoI7"
      },
      "source": [
        "Графики:"
      ]
    },
    {
      "cell_type": "code",
      "execution_count": 19,
      "metadata": {
        "scrolled": true,
        "colab": {
          "base_uri": "https://localhost:8080/",
          "height": 460
        },
        "id": "bqzZSpJ2foI7",
        "outputId": "3935d6f6-d6be-499b-ec17-8aa01920fdc5"
      },
      "outputs": [
        {
          "output_type": "display_data",
          "data": {
            "image/png": "[encoded data removed]",
            "text/plain": [
              "<Figure size 1440x504 with 1 Axes>"
            ]
          },
          "metadata": {
            "needs_background": "light"
          }
        }
      ],
      "source": [
        "year_count_1 = data['RegistrationYear'].value_counts(sort = False)\n",
        "year_count_1.plot(\n",
        "    title = 'Количество авто по годам регистрации',  \n",
        "    figsize=(20, 7), \n",
        "    kind='bar',\n",
        "    legend = False, \n",
        "    grid = True\n",
        "    )\n",
        "plt.show()"
      ]
    },
    {
      "cell_type": "code",
      "execution_count": 20,
      "metadata": {
        "colab": {
          "base_uri": "https://localhost:8080/",
          "height": 490
        },
        "id": "QgsO-keifoI8",
        "outputId": "6c2c9b7c-aba2-437c-ca1e-22b7b0502282"
      },
      "outputs": [
        {
          "output_type": "display_data",
          "data": {
            "image/png": "[encoded data removed]",
            "text/plain": [
              "<Figure size 1440x504 with 1 Axes>"
            ]
          },
          "metadata": {
            "needs_background": "light"
          }
        }
      ],
      "source": [
        "type_count_1 = data['VehicleType'].value_counts(sort = False)\n",
        "type_count_1.plot(\n",
        "    title = 'Количество авто по типам кузова',  \n",
        "    figsize=(20, 7), \n",
        "    kind='bar',\n",
        "    legend = False, \n",
        "    grid = True\n",
        "    )\n",
        "plt.show()"
      ]
    },
    {
      "cell_type": "code",
      "execution_count": 21,
      "metadata": {
        "colab": {
          "base_uri": "https://localhost:8080/",
          "height": 512
        },
        "id": "mGe5z726foI8",
        "outputId": "422427ce-11b5-4030-d145-013d90f59fdc"
      },
      "outputs": [
        {
          "output_type": "display_data",
          "data": {
            "image/png": "[encoded data removed]",
            "text/plain": [
              "<Figure size 1440x504 with 1 Axes>"
            ]
          },
          "metadata": {
            "needs_background": "light"
          }
        }
      ],
      "source": [
        "brand_count_1 = data['Brand'].value_counts(sort = False)\n",
        "brand_count_1.plot(\n",
        "    title = 'Количество авто по маркам',  \n",
        "    figsize=(20, 7), \n",
        "    kind='bar',\n",
        "    legend = False, \n",
        "    grid = True\n",
        "    )\n",
        "plt.show()"
      ]
    },
    {
      "cell_type": "code",
      "execution_count": 22,
      "metadata": {
        "colab": {
          "base_uri": "https://localhost:8080/",
          "height": 472
        },
        "id": "BntgjxeUfoI9",
        "outputId": "13b09063-1471-4047-bd9d-9bee74c19366"
      },
      "outputs": [
        {
          "output_type": "display_data",
          "data": {
            "image/png": "[encoded data removed]",
            "text/plain": [
              "<Figure size 1440x504 with 1 Axes>"
            ]
          },
          "metadata": {
            "needs_background": "light"
          }
        }
      ],
      "source": [
        "gear_count_1 = data['Gearbox'].value_counts(sort = False)\n",
        "gear_count_1.plot(\n",
        "    title = 'Количество авто по типам коробки передач',  \n",
        "    figsize=(20, 7), \n",
        "    kind='bar',\n",
        "    legend = False, \n",
        "    grid = True\n",
        "    )\n",
        "plt.show()"
      ]
    },
    {
      "cell_type": "code",
      "execution_count": 23,
      "metadata": {
        "scrolled": true,
        "colab": {
          "base_uri": "https://localhost:8080/",
          "height": 476
        },
        "id": "hccrMDQmfoI9",
        "outputId": "5c56dc3a-b6f5-4b5c-906c-2193412c70fa"
      },
      "outputs": [
        {
          "output_type": "display_data",
          "data": {
            "image/png": "[encoded data removed]",
            "text/plain": [
              "<Figure size 1440x504 with 1 Axes>"
            ]
          },
          "metadata": {
            "needs_background": "light"
          }
        }
      ],
      "source": [
        "fuel_count_1 = data['FuelType'].value_counts(sort = False)\n",
        "fuel_count_1.plot(\n",
        "    title = 'Количество авто по типам топлива',  \n",
        "    figsize=(20, 7), \n",
        "    kind='bar',\n",
        "    legend = False, \n",
        "    grid = True\n",
        "    )\n",
        "plt.show()"
      ]
    },
    {
      "cell_type": "markdown",
      "metadata": {
        "id": "cMouC6XffoI9"
      },
      "source": [
        "Средние цены по разным категориям"
      ]
    },
    {
      "cell_type": "code",
      "execution_count": 24,
      "metadata": {
        "colab": {
          "base_uri": "https://localhost:8080/",
          "height": 526
        },
        "id": "QErqwsJwfoI-",
        "outputId": "76b5e0df-e96a-4ca9-8faf-7eba0f21301a"
      },
      "outputs": [
        {
          "output_type": "display_data",
          "data": {
            "image/png": "[encoded data removed]",
            "text/plain": [
              "<Figure size 1440x504 with 1 Axes>"
            ]
          },
          "metadata": {
            "needs_background": "light"
          }
        }
      ],
      "source": [
        "model_price = data.pivot_table(\n",
        "    index = 'Brand', \n",
        "    values = 'Price', \n",
        "    aggfunc = 'mean'\n",
        "    )\n",
        "model_price.plot(\n",
        "    title = 'Зависимость средней цены от марки',  \n",
        "    figsize=(20, 7), \n",
        "    kind='bar',\n",
        "    legend = False, \n",
        "    grid = True\n",
        "    )\n",
        "plt.show()\n"
      ]
    },
    {
      "cell_type": "code",
      "execution_count": 25,
      "metadata": {
        "colab": {
          "base_uri": "https://localhost:8080/",
          "height": 486
        },
        "id": "eamWxrJHfoI-",
        "outputId": "0fb15716-39d8-4a2d-e1f7-8246f90f1899"
      },
      "outputs": [
        {
          "output_type": "display_data",
          "data": {
            "image/png": "[encoded data removed]",
            "text/plain": [
              "<Figure size 1440x504 with 1 Axes>"
            ]
          },
          "metadata": {
            "needs_background": "light"
          }
        }
      ],
      "source": [
        "gear_price = data.pivot_table(\n",
        "    index = 'Gearbox', \n",
        "    values = 'Price', \n",
        "    aggfunc = 'mean'\n",
        "    )\n",
        "gear_price.plot(\n",
        "    title = 'Зависимость средней цены от типа коробки',  \n",
        "    figsize=(20, 7), \n",
        "    kind='bar',\n",
        "    legend = False, \n",
        "    grid = True\n",
        "    )\n",
        "plt.show()"
      ]
    },
    {
      "cell_type": "code",
      "execution_count": 26,
      "metadata": {
        "colab": {
          "base_uri": "https://localhost:8080/",
          "height": 486
        },
        "id": "wOCW3h0IfoI_",
        "outputId": "76390e39-5e70-46a0-8827-4be74975f683"
      },
      "outputs": [
        {
          "output_type": "display_data",
          "data": {
            "image/png": "[encoded data removed]",
            "text/plain": [
              "<Figure size 1440x504 with 1 Axes>"
            ]
          },
          "metadata": {
            "needs_background": "light"
          }
        }
      ],
      "source": [
        "km_price = data.pivot_table(\n",
        "    index= 'Kilometer', \n",
        "    values = 'Price', \n",
        "    aggfunc = 'mean'\n",
        "    )\n",
        "km_price.plot(\n",
        "    title = 'Зависимость средней цены от пробега',  \n",
        "    figsize=(20, 7), \n",
        "    kind='bar',\n",
        "    legend = False, \n",
        "    grid = True\n",
        "    )\n",
        "plt.show()"
      ]
    },
    {
      "cell_type": "code",
      "execution_count": 27,
      "metadata": {
        "colab": {
          "base_uri": "https://localhost:8080/",
          "height": 474
        },
        "id": "nHxflciSfoJA",
        "outputId": "a8e116fe-f068-4c7a-a4ec-affb286566a7"
      },
      "outputs": [
        {
          "output_type": "display_data",
          "data": {
            "image/png": "[encoded data removed]",
            "text/plain": [
              "<Figure size 1440x504 with 1 Axes>"
            ]
          },
          "metadata": {
            "needs_background": "light"
          }
        }
      ],
      "source": [
        "year_price = data.pivot_table(\n",
        "    index= 'RegistrationYear', \n",
        "    values = 'Price', \n",
        "    aggfunc = 'mean'\n",
        "    )\n",
        "year_price.plot(\n",
        "    title = 'Зависимость средней цены от года',  \n",
        "    figsize=(20, 7), \n",
        "    kind='bar',\n",
        "    legend = False, \n",
        "    grid = True\n",
        "    )\n",
        "plt.show()"
      ]
    },
    {
      "cell_type": "code",
      "execution_count": 28,
      "metadata": {
        "colab": {
          "base_uri": "https://localhost:8080/",
          "height": 494
        },
        "id": "PSQMTc4afoJA",
        "outputId": "65cd53e4-d8b7-499b-da41-c6e784209c24"
      },
      "outputs": [
        {
          "output_type": "display_data",
          "data": {
            "image/png": "[encoded data removed]",
            "text/plain": [
              "<Figure size 1440x504 with 1 Axes>"
            ]
          },
          "metadata": {
            "needs_background": "light"
          }
        }
      ],
      "source": [
        "repair_price = data.pivot_table(\n",
        "    index= 'NotRepaired', \n",
        "    values = 'Price', \n",
        "    aggfunc = 'mean'\n",
        "    )\n",
        "repair_price.plot(\n",
        "    title = 'Зависимость средней цены от ремонта',  \n",
        "    figsize=(20, 7), \n",
        "    kind='bar',\n",
        "    legend = False, \n",
        "    grid = True\n",
        "    )\n",
        "plt.show()"
      ]
    },
    {
      "cell_type": "markdown",
      "metadata": {
        "id": "xMxNx9v9foJB"
      },
      "source": [
        "## Обучение моделей"
      ]
    },
    {
      "cell_type": "markdown",
      "metadata": {
        "id": "f1lnqTFDfoJB"
      },
      "source": [
        "    Для начала избавлюсь от  неинформативных признаков"
      ]
    },
    {
      "cell_type": "code",
      "execution_count": 29,
      "metadata": {
        "id": "XJPqR7aofoJB"
      },
      "outputs": [],
      "source": [
        "good_data = data.drop(['NumberOfPictures', \n",
        "                  'PostalCode', \n",
        "                  'DateCrawled', \n",
        "                  'LastSeen', \n",
        "                  'DateCreated'\n",
        "                  ], axis = 1)"
      ]
    },
    {
      "cell_type": "markdown",
      "metadata": {
        "id": "4KQl-fYKfoJB"
      },
      "source": [
        "    Так как для Модели CatBooostRegressor не нужно преобразовыввать категориальные признаки, сначала использую её"
      ]
    },
    {
      "cell_type": "code",
      "execution_count": 30,
      "metadata": {
        "id": "MYokIF9JfoJC"
      },
      "outputs": [],
      "source": [
        "X = good_data.drop(['Price'], axis = 1)\n",
        "y = good_data['Price']\n",
        "\n",
        "X_train, X_test, y_train, y_test = train_test_split(\n",
        "    X, y, test_size=0.2, random_state=1234)"
      ]
    },
    {
      "cell_type": "code",
      "execution_count": 31,
      "metadata": {
        "id": "4nwKC6lXfoJC"
      },
      "outputs": [],
      "source": [
        "model_cbr = CatBoostRegressor(loss_function='RMSE', iterations=150) \n",
        "cat_features = ['VehicleType', 'Gearbox', 'Model',\n",
        "                'FuelType', 'Brand', 'NotRepaired']"
      ]
    },
    {
      "cell_type": "code",
      "execution_count": 32,
      "metadata": {
        "colab": {
          "base_uri": "https://localhost:8080/"
        },
        "id": "dt69hM_TfoJC",
        "outputId": "90af76e5-470f-4133-e6eb-9be89d864890"
      },
      "outputs": [
        {
          "output_type": "stream",
          "name": "stdout",
          "text": [
            "Learning rate set to 0.437911\n",
            "0:\tlearn: 3387.0065692\ttotal: 201ms\tremaining: 29.9s\n",
            "50:\tlearn: 1648.3289857\ttotal: 7.08s\tremaining: 13.8s\n",
            "100:\tlearn: 1580.4012105\ttotal: 13.8s\tremaining: 6.7s\n",
            "149:\tlearn: 1544.0731355\ttotal: 17.2s\tremaining: 0us\n",
            "CPU times: user 18.6 s, sys: 587 ms, total: 19.2 s\n",
            "Wall time: 18 s\n"
          ]
        },
        {
          "output_type": "execute_result",
          "data": {
            "text/plain": [
              "<catboost.core.CatBoostRegressor at 0x7fabe0b4e310>"
            ]
          },
          "metadata": {},
          "execution_count": 32
        }
      ],
      "source": [
        "%%time\n",
        "\n",
        "model_cbr.fit(X_train, y_train, cat_features = cat_features, verbose=50)"
      ]
    },
    {
      "cell_type": "code",
      "execution_count": 33,
      "metadata": {
        "colab": {
          "base_uri": "https://localhost:8080/"
        },
        "id": "yCzHxrtyfoJD",
        "outputId": "6b806573-bfd8-43b4-b1cb-1b09adebe298"
      },
      "outputs": [
        {
          "output_type": "stream",
          "name": "stdout",
          "text": [
            "CPU times: user 93 ms, sys: 2.95 ms, total: 96 ms\n",
            "Wall time: 73.3 ms\n"
          ]
        }
      ],
      "source": [
        "%%time\n",
        "\n",
        "predictions = model_cbr.predict(X_test)"
      ]
    },
    {
      "cell_type": "code",
      "execution_count": 34,
      "metadata": {
        "colab": {
          "base_uri": "https://localhost:8080/"
        },
        "id": "xxrVDqg2foJD",
        "outputId": "982b2d5d-c4d4-49c1-f185-0e08e0d625e1"
      },
      "outputs": [
        {
          "output_type": "stream",
          "name": "stdout",
          "text": [
            "Модель: <catboost.core.CatBoostRegressor object at 0x7fabe0b4e310> \n",
            " RMSE = 1590.9045202561724\n"
          ]
        }
      ],
      "source": [
        "mse =  mean_squared_error(y_test, predictions)\n",
        "rmse = mse ** 0.5\n",
        "print('Модель: {}'.format(model_cbr), '\\n', 'RMSE =',  rmse)"
      ]
    },
    {
      "cell_type": "markdown",
      "metadata": {
        "id": "feOOPrfHfoJD"
      },
      "source": [
        "    Подбор гиперпараметров"
      ]
    },
    {
      "cell_type": "code",
      "execution_count": null,
      "metadata": {
        "colab": {
          "base_uri": "https://localhost:8080/"
        },
        "id": "DGnf9DX_foJE",
        "outputId": "4999b0b9-4239-45ca-9c3b-144ee97d8890"
      },
      "outputs": [
        {
          "output_type": "stream",
          "name": "stdout",
          "text": [
            "Learning rate set to 0.5\n",
            "0:\tlearn: 3234.9837983\ttotal: 88.9ms\tremaining: 4.36s\n",
            "49:\tlearn: 1652.5935138\ttotal: 3.37s\tremaining: 0us\n",
            "Learning rate set to 0.164545\n",
            "0:\tlearn: 4159.9567736\ttotal: 266ms\tremaining: 2m 12s\n",
            "50:\tlearn: 1718.4607784\ttotal: 8.4s\tremaining: 1m 13s\n",
            "100:\tlearn: 1641.5275703\ttotal: 16.5s\tremaining: 1m 5s\n",
            "150:\tlearn: 1602.1786853\ttotal: 24.5s\tremaining: 56.7s\n",
            "200:\tlearn: 1576.0362220\ttotal: 32.6s\tremaining: 48.5s\n",
            "250:\tlearn: 1557.5675697\ttotal: 40.3s\tremaining: 40s\n",
            "300:\tlearn: 1543.1425330\ttotal: 48.1s\tremaining: 31.8s\n",
            "350:\tlearn: 1531.6093557\ttotal: 56.1s\tremaining: 23.8s\n",
            "400:\tlearn: 1521.7792246\ttotal: 1m 4s\tremaining: 15.9s\n",
            "450:\tlearn: 1512.7642158\ttotal: 1m 12s\tremaining: 7.88s\n",
            "499:\tlearn: 1503.6700985\ttotal: 1m 20s\tremaining: 0us\n",
            "Learning rate set to 0.093659\n",
            "0:\tlearn: 4380.4637316\ttotal: 235ms\tremaining: 3m 54s\n",
            "50:\tlearn: 1802.8841288\ttotal: 8.96s\tremaining: 2m 46s\n",
            "100:\tlearn: 1705.3740219\ttotal: 16.9s\tremaining: 2m 30s\n",
            "150:\tlearn: 1656.7129918\ttotal: 25s\tremaining: 2m 20s\n",
            "200:\tlearn: 1626.5492823\ttotal: 33.2s\tremaining: 2m 11s\n",
            "300:\tlearn: 1586.9941651\ttotal: 49.2s\tremaining: 1m 54s\n",
            "350:\tlearn: 1572.6265185\ttotal: 57.1s\tremaining: 1m 45s\n",
            "400:\tlearn: 1562.0485998\ttotal: 1m 5s\tremaining: 1m 37s\n",
            "450:\tlearn: 1552.2055527\ttotal: 1m 12s\tremaining: 1m 28s\n",
            "500:\tlearn: 1543.7732919\ttotal: 1m 21s\tremaining: 1m 20s\n",
            "550:\tlearn: 1535.8585225\ttotal: 1m 28s\tremaining: 1m 12s\n",
            "600:\tlearn: 1529.4384468\ttotal: 1m 36s\tremaining: 1m 4s\n",
            "650:\tlearn: 1524.2132535\ttotal: 1m 44s\tremaining: 56.2s\n",
            "700:\tlearn: 1518.1636362\ttotal: 1m 53s\tremaining: 48.2s\n",
            "750:\tlearn: 1512.7836613\ttotal: 2m 1s\tremaining: 40.3s\n",
            "800:\tlearn: 1507.7146739\ttotal: 2m 9s\tremaining: 32.2s\n",
            "850:\tlearn: 1502.2191995\ttotal: 2m 18s\tremaining: 24.2s\n"
          ]
        }
      ],
      "source": [
        "best_rsme = 99999\n",
        "for iter in [50, 500, 1000]:\n",
        "    model_cbr = CatBoostRegressor(loss_function='RMSE', iterations=iter) \n",
        "    model_cbr.fit(X_train, y_train, cat_features = cat_features, verbose=50)\n",
        "    rmse = (mean_squared_error(y_test, model_cbr.predict(X_test))) ** 0.5\n",
        "    if rmse < best_rsme:\n",
        "        best_model = model_cbr\n",
        "        best_rsme = rmse\n",
        "        best_iter = iter\n",
        "rmse = (mean_squared_error(y_test, best_model.predict(X_test))) ** 0.5\n",
        "print('RMSE = ', rmse)\n",
        "print('best_iter', best_iter)\n",
        "print(best_model)\n",
        "\n",
        "#Audio(sound_file, autoplay=True)"
      ]
    },
    {
      "cell_type": "code",
      "execution_count": 36,
      "metadata": {
        "colab": {
          "base_uri": "https://localhost:8080/"
        },
        "id": "UHEx1ribfoJF",
        "outputId": "ba458ab8-e5a4-4e32-8b62-f529c7edf5af"
      },
      "outputs": [
        {
          "output_type": "stream",
          "name": "stdout",
          "text": [
            "Learning rate set to 0.5\n",
            "0:\tlearn: 3277.0899388\ttotal: 67.3ms\tremaining: 3.29s\n",
            "10:\tlearn: 1871.5073158\ttotal: 672ms\tremaining: 2.38s\n",
            "20:\tlearn: 1782.7895342\ttotal: 1.23s\tremaining: 1.7s\n",
            "30:\tlearn: 1731.5438044\ttotal: 1.8s\tremaining: 1.11s\n",
            "40:\tlearn: 1700.0021383\ttotal: 2.37s\tremaining: 520ms\n",
            "49:\tlearn: 1681.8263043\ttotal: 2.88s\tremaining: 0us\n",
            "Learning rate set to 0.5\n",
            "0:\tlearn: 3234.9837983\ttotal: 76.2ms\tremaining: 3.73s\n",
            "10:\tlearn: 1832.6584105\ttotal: 766ms\tremaining: 2.72s\n",
            "20:\tlearn: 1747.3578697\ttotal: 1.43s\tremaining: 1.98s\n",
            "30:\tlearn: 1702.5772615\ttotal: 2.09s\tremaining: 1.28s\n",
            "40:\tlearn: 1671.6149151\ttotal: 2.74s\tremaining: 601ms\n",
            "49:\tlearn: 1652.5935138\ttotal: 3.32s\tremaining: 0us\n",
            "Learning rate set to 0.5\n",
            "0:\tlearn: 3183.1471481\ttotal: 86.1ms\tremaining: 4.22s\n",
            "10:\tlearn: 1783.7251787\ttotal: 872ms\tremaining: 3.09s\n",
            "20:\tlearn: 1698.9229238\ttotal: 1.62s\tremaining: 2.23s\n",
            "30:\tlearn: 1658.1486461\ttotal: 2.36s\tremaining: 1.45s\n",
            "40:\tlearn: 1626.7596454\ttotal: 3.13s\tremaining: 688ms\n",
            "49:\tlearn: 1608.3542242\ttotal: 3.81s\tremaining: 0us\n",
            "Learning rate set to 0.5\n",
            "0:\tlearn: 3163.7226452\ttotal: 95.4ms\tremaining: 4.68s\n",
            "10:\tlearn: 1754.8634739\ttotal: 1.01s\tremaining: 3.6s\n",
            "20:\tlearn: 1671.8152062\ttotal: 1.87s\tremaining: 2.58s\n",
            "30:\tlearn: 1632.8032810\ttotal: 2.72s\tremaining: 1.67s\n",
            "40:\tlearn: 1602.9714744\ttotal: 3.57s\tremaining: 785ms\n",
            "49:\tlearn: 1579.0106529\ttotal: 4.33s\tremaining: 0us\n",
            "Learning rate set to 0.5\n",
            "0:\tlearn: 3151.4845360\ttotal: 106ms\tremaining: 5.17s\n",
            "10:\tlearn: 1718.9012536\ttotal: 1.11s\tremaining: 3.93s\n",
            "20:\tlearn: 1632.9377466\ttotal: 2.08s\tremaining: 2.87s\n",
            "30:\tlearn: 1588.0764560\ttotal: 3.06s\tremaining: 1.87s\n",
            "40:\tlearn: 1558.1516844\ttotal: 4.02s\tremaining: 883ms\n",
            "49:\tlearn: 1535.0666563\ttotal: 4.9s\tremaining: 0us\n",
            "Learning rate set to 0.5\n",
            "0:\tlearn: 3132.4991779\ttotal: 120ms\tremaining: 5.87s\n",
            "10:\tlearn: 1689.8546673\ttotal: 1.27s\tremaining: 4.51s\n",
            "20:\tlearn: 1609.2744667\ttotal: 2.38s\tremaining: 3.29s\n",
            "30:\tlearn: 1568.1307486\ttotal: 3.51s\tremaining: 2.15s\n",
            "40:\tlearn: 1534.2867770\ttotal: 4.64s\tremaining: 1.02s\n",
            "49:\tlearn: 1505.8782687\ttotal: 5.65s\tremaining: 0us\n",
            "Learning rate set to 0.5\n",
            "0:\tlearn: 3104.5665908\ttotal: 142ms\tremaining: 6.94s\n",
            "10:\tlearn: 1658.7217381\ttotal: 1.5s\tremaining: 5.33s\n",
            "20:\tlearn: 1580.7304585\ttotal: 2.82s\tremaining: 3.89s\n",
            "30:\tlearn: 1531.7240055\ttotal: 4.14s\tremaining: 2.54s\n",
            "40:\tlearn: 1489.7448977\ttotal: 5.46s\tremaining: 1.2s\n",
            "49:\tlearn: 1453.0684262\ttotal: 6.67s\tremaining: 0us\n",
            "Learning rate set to 0.5\n",
            "0:\tlearn: 3097.7333318\ttotal: 170ms\tremaining: 8.34s\n",
            "10:\tlearn: 1623.7008182\ttotal: 1.86s\tremaining: 6.6s\n",
            "20:\tlearn: 1538.8908984\ttotal: 3.53s\tremaining: 4.88s\n",
            "30:\tlearn: 1477.1277692\ttotal: 5.2s\tremaining: 3.19s\n",
            "40:\tlearn: 1438.1355571\ttotal: 6.86s\tremaining: 1.51s\n",
            "49:\tlearn: 1406.8833788\ttotal: 8.37s\tremaining: 0us\n",
            "Learning rate set to 0.5\n",
            "0:\tlearn: 3072.7331052\ttotal: 227ms\tremaining: 11.1s\n",
            "10:\tlearn: 1600.2221534\ttotal: 2.44s\tremaining: 8.65s\n",
            "20:\tlearn: 1505.5081074\ttotal: 4.63s\tremaining: 6.4s\n",
            "30:\tlearn: 1444.8605854\ttotal: 6.83s\tremaining: 4.19s\n",
            "40:\tlearn: 1402.4313679\ttotal: 9.04s\tremaining: 1.98s\n",
            "49:\tlearn: 1364.3558242\ttotal: 11s\tremaining: 0us\n",
            "Learning rate set to 0.5\n",
            "0:\tlearn: 3059.4440957\ttotal: 354ms\tremaining: 17.3s\n",
            "10:\tlearn: 1575.0014179\ttotal: 3.76s\tremaining: 13.3s\n",
            "20:\tlearn: 1481.3825063\ttotal: 7.16s\tremaining: 9.88s\n",
            "30:\tlearn: 1407.0982343\ttotal: 10.5s\tremaining: 6.46s\n",
            "40:\tlearn: 1354.5179388\ttotal: 13.9s\tremaining: 3.05s\n",
            "49:\tlearn: 1312.0064929\ttotal: 17s\tremaining: 0us\n",
            "RMSE =  1578.6841363662115\n",
            "Best_depth 14\n",
            "<catboost.core.CatBoostRegressor object at 0x7fabe0d41a90>\n"
          ]
        }
      ],
      "source": [
        "best_rsme = 99999\n",
        "for depth in np.arange(5,15):\n",
        "    model_cbr = CatBoostRegressor(loss_function='RMSE', iterations=50, depth=depth) \n",
        "    model_cbr.fit(X_train, y_train, cat_features = cat_features, verbose=10)\n",
        "    rmse = (mean_squared_error(y_test, model_cbr.predict(X_test))) ** 0.5\n",
        "    if rmse < best_rsme:\n",
        "        best_model = model_cbr\n",
        "        best_rsme = rmse\n",
        "        best_depth = depth\n",
        "rmse = (mean_squared_error(y_test, best_model.predict(X_test))) ** 0.5\n",
        "print('RMSE = ', rmse)\n",
        "print('Best_depth', depth)\n",
        "print(best_model)\n",
        "\n",
        "#Audio(sound_file, autoplay=True)"
      ]
    },
    {
      "cell_type": "code",
      "execution_count": 37,
      "metadata": {
        "colab": {
          "base_uri": "https://localhost:8080/"
        },
        "id": "pOnapqcmfoJF",
        "outputId": "67ee4534-a558-4aff-8d7c-f32cc3b37d70"
      },
      "outputs": [
        {
          "output_type": "stream",
          "name": "stdout",
          "text": [
            "0:\tlearn: 4583.6089493\ttotal: 76.5ms\tremaining: 3.75s\n",
            "10:\tlearn: 3785.4006753\ttotal: 779ms\tremaining: 2.76s\n",
            "20:\tlearn: 3236.4200117\ttotal: 1.47s\tremaining: 2.03s\n",
            "30:\tlearn: 2852.1355831\ttotal: 2.13s\tremaining: 1.3s\n",
            "40:\tlearn: 2576.1621826\ttotal: 2.81s\tremaining: 616ms\n",
            "49:\tlearn: 2392.4605696\ttotal: 3.4s\tremaining: 0us\n",
            "0:\tlearn: 4583.6390561\ttotal: 76.4ms\tremaining: 3.74s\n",
            "10:\tlearn: 3785.7218167\ttotal: 774ms\tremaining: 2.74s\n",
            "20:\tlearn: 3236.8545202\ttotal: 1.44s\tremaining: 1.99s\n",
            "30:\tlearn: 2855.5069350\ttotal: 2.11s\tremaining: 1.29s\n",
            "40:\tlearn: 2583.7083661\ttotal: 2.78s\tremaining: 611ms\n",
            "49:\tlearn: 2397.8674954\ttotal: 3.38s\tremaining: 0us\n",
            "0:\tlearn: 4583.6690889\ttotal: 78.7ms\tremaining: 3.86s\n",
            "10:\tlearn: 3785.8860539\ttotal: 769ms\tremaining: 2.72s\n",
            "20:\tlearn: 3237.5166547\ttotal: 1.46s\tremaining: 2.01s\n",
            "30:\tlearn: 2853.3025467\ttotal: 2.13s\tremaining: 1.31s\n",
            "40:\tlearn: 2579.3461461\ttotal: 2.8s\tremaining: 615ms\n",
            "49:\tlearn: 2395.6934989\ttotal: 3.4s\tremaining: 0us\n",
            "0:\tlearn: 4583.6990483\ttotal: 76.3ms\tremaining: 3.74s\n",
            "10:\tlearn: 3786.2070540\ttotal: 775ms\tremaining: 2.75s\n",
            "20:\tlearn: 3238.0201829\ttotal: 1.47s\tremaining: 2.03s\n",
            "30:\tlearn: 2853.8459909\ttotal: 2.13s\tremaining: 1.3s\n",
            "40:\tlearn: 2579.8836040\ttotal: 2.8s\tremaining: 615ms\n",
            "49:\tlearn: 2397.9401650\ttotal: 3.4s\tremaining: 0us\n",
            "0:\tlearn: 4583.7289349\ttotal: 78ms\tremaining: 3.82s\n",
            "10:\tlearn: 3786.7484457\ttotal: 773ms\tremaining: 2.74s\n",
            "20:\tlearn: 3237.1742367\ttotal: 1.45s\tremaining: 2s\n",
            "30:\tlearn: 2855.6757163\ttotal: 2.12s\tremaining: 1.3s\n",
            "40:\tlearn: 2582.4311423\ttotal: 2.79s\tremaining: 613ms\n",
            "49:\tlearn: 2398.6684710\ttotal: 3.38s\tremaining: 0us\n",
            "RMSE =  2398.180424417095\n",
            "Best_l2_leaf_reg 9\n",
            "<catboost.core.CatBoostRegressor object at 0x7fabe1506f10>\n"
          ]
        }
      ],
      "source": [
        "best_rsme = 99999\n",
        "for l2_leaf_reg in [1, 3, 5, 7, 9]:\n",
        "    model_cbr = CatBoostRegressor(loss_function='RMSE', l2_leaf_reg=l2_leaf_reg, iterations=50) \n",
        "    model_cbr.fit(X_train, y_train, cat_features = cat_features, verbose=10)\n",
        "    rmse = (mean_squared_error(y_test, model_cbr.predict(X_test))) ** 0.5\n",
        "    if rmse < best_rsme:\n",
        "        best_model = model_cbr\n",
        "        best_rsme = rmse\n",
        "        best_l2_leaf_reg = l2_leaf_reg\n",
        "rmse = (mean_squared_error(y_test, best_model.predict(X_test))) ** 0.5\n",
        "print('RMSE = ', rmse)\n",
        "print('Best_l2_leaf_reg', l2_leaf_reg)\n",
        "print(best_model)\n",
        "\n",
        "#Audio(sound_file, autoplay=True)"
      ]
    },
    {
      "cell_type": "code",
      "execution_count": null,
      "metadata": {
        "id": "HKetelKFfoJG"
      },
      "outputs": [],
      "source": [
        "best_rsme = 99999\n",
        "for learning_rate in [0.1, 0.03, 0.003]:\n",
        "    model_cbr = CatBoostRegressor(loss_function='RMSE', learning_rate=learning_rate, iterations=50) \n",
        "    model_cbr.fit(X_train, y_train, cat_features = cat_features, verbose=10)\n",
        "    rmse = (mean_squared_error(y_test, model_cbr.predict(X_test))) ** 0.5\n",
        "    if rmse < best_rsme:\n",
        "        best_model = model_cbr\n",
        "        best_rsme = rmse\n",
        "        best_learning_rate = learning_rate\n",
        "rmse = (mean_squared_error(y_test, best_model.predict(X_test))) ** 0.5\n",
        "print('RMSE = ', rmse)\n",
        "print('Best_learning_rate', learning_rate)\n",
        "print(best_model)\n",
        "\n",
        "#Audio(sound_file, autoplay=True)"
      ]
    },
    {
      "cell_type": "markdown",
      "metadata": {
        "id": "OJmqL6PzfoJG"
      },
      "source": [
        "    Проверка выбранных гиперпараметров"
      ]
    },
    {
      "cell_type": "code",
      "execution_count": 39,
      "metadata": {
        "id": "FpWOjgPNfoJG"
      },
      "outputs": [],
      "source": [
        "model_cbr = CatBoostRegressor(loss_function='RMSE', iterations=1000, depth = 14, l2_leaf_reg = 9, learning_rate = 0.003) "
      ]
    },
    {
      "cell_type": "code",
      "execution_count": null,
      "metadata": {
        "id": "8f0ao8gwfoJH"
      },
      "outputs": [],
      "source": [
        "%%time\n",
        "\n",
        "model_cbr.fit(X_train, y_train, verbose=50, cat_features = cat_features)"
      ]
    },
    {
      "cell_type": "code",
      "execution_count": 41,
      "metadata": {
        "scrolled": true,
        "colab": {
          "base_uri": "https://localhost:8080/"
        },
        "id": "7BEIF4VNfoJH",
        "outputId": "92ba67f7-8eff-4a7e-898a-a9a4a25c0a7b"
      },
      "outputs": [
        {
          "output_type": "stream",
          "name": "stdout",
          "text": [
            "CPU times: user 767 ms, sys: 18 ms, total: 785 ms\n",
            "Wall time: 427 ms\n"
          ]
        }
      ],
      "source": [
        "%%time\n",
        "\n",
        "predictions = model_cbr.predict(X_test)"
      ]
    },
    {
      "cell_type": "code",
      "execution_count": null,
      "metadata": {
        "id": "-4MURiUNfoJH"
      },
      "outputs": [],
      "source": [
        "mse =  mean_squared_error(y_test, predictions)\n",
        "rmse = mse ** 0.5\n",
        "\n",
        "print('Модель: {}'.format(model_cbr), '\\n', 'RMSE =',  rmse)"
      ]
    },
    {
      "cell_type": "markdown",
      "metadata": {
        "id": "XTGHTNDbfoJJ"
      },
      "source": [
        "    Создам таблицу, куда буду вносить результаты"
      ]
    },
    {
      "cell_type": "code",
      "execution_count": null,
      "metadata": {
        "id": "aDMOA-SMfoJK"
      },
      "outputs": [],
      "source": [
        "resultation_table = pd.DataFrame(\n",
        "    {'Модель': 'CatBoostRegressor', \n",
        "     'Качество предсказания' : 1692, \n",
        "     'Скорость предсказания': '749 ms', \n",
        "     'Время обучения' : '22min 22s', \n",
        "     }, index = [0]\n",
        ")# из раза в раз данные немного отличаются "
      ]
    },
    {
      "cell_type": "code",
      "execution_count": 44,
      "metadata": {
        "id": "bJ6f_6r8foJK"
      },
      "outputs": [],
      "source": [
        "del model_cbr "
      ]
    },
    {
      "cell_type": "markdown",
      "metadata": {
        "id": "iXYiPNLKfoJL"
      },
      "source": [
        "    Преобразую категориальные признаки техникой OHE"
      ]
    },
    {
      "cell_type": "code",
      "execution_count": 45,
      "metadata": {
        "id": "6bIrI9KcfoJL"
      },
      "outputs": [],
      "source": [
        "good_data_ohe = pd.get_dummies(good_data, drop_first=True)"
      ]
    },
    {
      "cell_type": "markdown",
      "metadata": {
        "id": "7zTj_9AlfoJM"
      },
      "source": [
        "Отделил целевой признак"
      ]
    },
    {
      "cell_type": "code",
      "execution_count": 46,
      "metadata": {
        "id": "1QUWYCRzfoJM"
      },
      "outputs": [],
      "source": [
        "X = good_data_ohe.drop(['Price'], axis = 1)\n",
        "y = good_data_ohe['Price']"
      ]
    },
    {
      "cell_type": "markdown",
      "metadata": {
        "id": "78WhxUn7foJN"
      },
      "source": [
        "Разбил на обучающую и тестовую выборки в соотношении 4:1"
      ]
    },
    {
      "cell_type": "code",
      "execution_count": 47,
      "metadata": {
        "id": "wsGL9c87foJO"
      },
      "outputs": [],
      "source": [
        "X_train, X_test, y_train, y_test = train_test_split(\n",
        "    X, y, test_size=0.2, random_state=1234)"
      ]
    },
    {
      "cell_type": "markdown",
      "metadata": {
        "id": "j37yRcBGfoJO"
      },
      "source": [
        "    После проверяю остальные модели: LGBMRegressor, RandomForestRegressor, DecisionTreeRegressor, LinearRegression"
      ]
    },
    {
      "cell_type": "code",
      "execution_count": 48,
      "metadata": {
        "colab": {
          "base_uri": "https://localhost:8080/"
        },
        "id": "Bp-dhXAbfoJb",
        "outputId": "018be245-ea18-457b-c022-367745011aa2"
      },
      "outputs": [
        {
          "output_type": "stream",
          "name": "stdout",
          "text": [
            "CPU times: user 4.73 s, sys: 279 ms, total: 5.01 s\n",
            "Wall time: 2.92 s\n"
          ]
        }
      ],
      "source": [
        "%%time\n",
        "\n",
        "LGBM_model = LGBMRegressor(random_state=1234).fit(X_train, y_train)"
      ]
    },
    {
      "cell_type": "code",
      "execution_count": 49,
      "metadata": {
        "colab": {
          "base_uri": "https://localhost:8080/"
        },
        "id": "xN0wk4zdfoJc",
        "outputId": "a5a68593-52ed-48d7-e23a-22d7ab58f57a"
      },
      "outputs": [
        {
          "output_type": "stream",
          "name": "stdout",
          "text": [
            "CPU times: user 6min 26s, sys: 766 ms, total: 6min 27s\n",
            "Wall time: 6min 27s\n"
          ]
        }
      ],
      "source": [
        "%%time\n",
        "\n",
        "model_0 = RandomForestRegressor(random_state=1234).fit(X_train, y_train)"
      ]
    },
    {
      "cell_type": "code",
      "execution_count": 50,
      "metadata": {
        "colab": {
          "base_uri": "https://localhost:8080/"
        },
        "id": "RHUBxFYdfoJc",
        "outputId": "1763c932-9ccc-421b-fe09-b9b221e84132"
      },
      "outputs": [
        {
          "output_type": "stream",
          "name": "stdout",
          "text": [
            "CPU times: user 6.51 s, sys: 183 ms, total: 6.69 s\n",
            "Wall time: 6.7 s\n"
          ]
        }
      ],
      "source": [
        "%%time\n",
        "\n",
        "model_1 = DecisionTreeRegressor(random_state=1234).fit(X_train, y_train)"
      ]
    },
    {
      "cell_type": "code",
      "execution_count": 51,
      "metadata": {
        "scrolled": false,
        "colab": {
          "base_uri": "https://localhost:8080/"
        },
        "id": "k5SkC0UOfoJd",
        "outputId": "21728211-1bde-480e-d27d-8d2b455447ae"
      },
      "outputs": [
        {
          "output_type": "stream",
          "name": "stdout",
          "text": [
            "CPU times: user 9.03 s, sys: 1.61 s, total: 10.6 s\n",
            "Wall time: 6.84 s\n"
          ]
        }
      ],
      "source": [
        "%%time\n",
        "\n",
        "model_2 = LinearRegression().fit(X_train, y_train)"
      ]
    },
    {
      "cell_type": "markdown",
      "metadata": {
        "id": "PSfJFMgRfoJe"
      },
      "source": [
        "    Функция обучения, получения предсказания и оценки моделей"
      ]
    },
    {
      "cell_type": "code",
      "execution_count": 52,
      "metadata": {
        "id": "nX7-A_F0foJf"
      },
      "outputs": [],
      "source": [
        "def learn(model):\n",
        "    #model.fit(X_train, y_train)\n",
        "    predictions = model.predict(X_test)\n",
        "    mse =  mean_squared_error(y_test, predictions)\n",
        "    rmse = mse ** 0.5\n",
        "   \n",
        "   \n",
        "    display(\n",
        "        'Модель: {}'.format(i),\n",
        "        'MSE =', mse,\n",
        "        'RMSE =', rmse\n",
        "        )\n",
        "    print()"
      ]
    },
    {
      "cell_type": "code",
      "execution_count": 53,
      "metadata": {
        "colab": {
          "base_uri": "https://localhost:8080/",
          "height": 446
        },
        "id": "zVjpbUgdfoJf",
        "outputId": "5dd1ed6f-4043-4cc9-db73-1d1e25e0dc20"
      },
      "outputs": [
        {
          "output_type": "display_data",
          "data": {
            "application/vnd.google.colaboratory.intrinsic+json": {
              "type": "string"
            },
            "text/plain": [
              "'Модель: LGBMRegressor(random_state=1234)'"
            ]
          },
          "metadata": {}
        },
        {
          "output_type": "display_data",
          "data": {
            "application/vnd.google.colaboratory.intrinsic+json": {
              "type": "string"
            },
            "text/plain": [
              "'MSE ='"
            ]
          },
          "metadata": {}
        },
        {
          "output_type": "display_data",
          "data": {
            "text/plain": [
              "2648390.7760127066"
            ]
          },
          "metadata": {}
        },
        {
          "output_type": "display_data",
          "data": {
            "application/vnd.google.colaboratory.intrinsic+json": {
              "type": "string"
            },
            "text/plain": [
              "'RMSE ='"
            ]
          },
          "metadata": {}
        },
        {
          "output_type": "display_data",
          "data": {
            "text/plain": [
              "1627.3877153317542"
            ]
          },
          "metadata": {}
        },
        {
          "output_type": "stream",
          "name": "stdout",
          "text": [
            "\n"
          ]
        },
        {
          "output_type": "display_data",
          "data": {
            "application/vnd.google.colaboratory.intrinsic+json": {
              "type": "string"
            },
            "text/plain": [
              "'Модель: RandomForestRegressor(random_state=1234)'"
            ]
          },
          "metadata": {}
        },
        {
          "output_type": "display_data",
          "data": {
            "application/vnd.google.colaboratory.intrinsic+json": {
              "type": "string"
            },
            "text/plain": [
              "'MSE ='"
            ]
          },
          "metadata": {}
        },
        {
          "output_type": "display_data",
          "data": {
            "text/plain": [
              "2492235.569973504"
            ]
          },
          "metadata": {}
        },
        {
          "output_type": "display_data",
          "data": {
            "application/vnd.google.colaboratory.intrinsic+json": {
              "type": "string"
            },
            "text/plain": [
              "'RMSE ='"
            ]
          },
          "metadata": {}
        },
        {
          "output_type": "display_data",
          "data": {
            "text/plain": [
              "1578.6815923337751"
            ]
          },
          "metadata": {}
        },
        {
          "output_type": "stream",
          "name": "stdout",
          "text": [
            "\n"
          ]
        },
        {
          "output_type": "display_data",
          "data": {
            "application/vnd.google.colaboratory.intrinsic+json": {
              "type": "string"
            },
            "text/plain": [
              "'Модель: DecisionTreeRegressor(random_state=1234)'"
            ]
          },
          "metadata": {}
        },
        {
          "output_type": "display_data",
          "data": {
            "application/vnd.google.colaboratory.intrinsic+json": {
              "type": "string"
            },
            "text/plain": [
              "'MSE ='"
            ]
          },
          "metadata": {}
        },
        {
          "output_type": "display_data",
          "data": {
            "text/plain": [
              "3974255.9206721163"
            ]
          },
          "metadata": {}
        },
        {
          "output_type": "display_data",
          "data": {
            "application/vnd.google.colaboratory.intrinsic+json": {
              "type": "string"
            },
            "text/plain": [
              "'RMSE ='"
            ]
          },
          "metadata": {}
        },
        {
          "output_type": "display_data",
          "data": {
            "text/plain": [
              "1993.5535911211707"
            ]
          },
          "metadata": {}
        },
        {
          "output_type": "stream",
          "name": "stdout",
          "text": [
            "\n"
          ]
        },
        {
          "output_type": "display_data",
          "data": {
            "application/vnd.google.colaboratory.intrinsic+json": {
              "type": "string"
            },
            "text/plain": [
              "'Модель: LinearRegression()'"
            ]
          },
          "metadata": {}
        },
        {
          "output_type": "display_data",
          "data": {
            "application/vnd.google.colaboratory.intrinsic+json": {
              "type": "string"
            },
            "text/plain": [
              "'MSE ='"
            ]
          },
          "metadata": {}
        },
        {
          "output_type": "display_data",
          "data": {
            "text/plain": [
              "6349713.691229327"
            ]
          },
          "metadata": {}
        },
        {
          "output_type": "display_data",
          "data": {
            "application/vnd.google.colaboratory.intrinsic+json": {
              "type": "string"
            },
            "text/plain": [
              "'RMSE ='"
            ]
          },
          "metadata": {}
        },
        {
          "output_type": "display_data",
          "data": {
            "text/plain": [
              "2519.8638239455177"
            ]
          },
          "metadata": {}
        },
        {
          "output_type": "stream",
          "name": "stdout",
          "text": [
            "\n"
          ]
        }
      ],
      "source": [
        "models = [LGBM_model, model_0, model_1, model_2]\n",
        "for i in models:\n",
        "    learn(i)"
      ]
    },
    {
      "cell_type": "markdown",
      "metadata": {
        "id": "uPAlYGw7foJg"
      },
      "source": [
        "    Модели обучены и оценены, перехожу к подбору гиперпараметров"
      ]
    },
    {
      "cell_type": "markdown",
      "metadata": {
        "id": "SeCsro2RfoJg"
      },
      "source": [
        "    Подбор гиперпараметорв LGBMRegressor:"
      ]
    },
    {
      "cell_type": "code",
      "execution_count": 54,
      "metadata": {
        "colab": {
          "base_uri": "https://localhost:8080/"
        },
        "id": "UhRcQsyMfoJg",
        "outputId": "fa6c2fc1-bde9-4766-91aa-6af64af9d7ba"
      },
      "outputs": [
        {
          "output_type": "stream",
          "name": "stdout",
          "text": [
            "RMSE =  1627.3877153317542\n",
            "Best_learning_rate 0.003\n",
            "LGBMRegressor(random_state=1234)\n"
          ]
        }
      ],
      "source": [
        "best_rsme = 99999\n",
        "for learning_rate in [0.1, 0.03, 0.003]:\n",
        "    LGBM_model = LGBMRegressor(random_state=1234, learning_rate=learning_rate) \n",
        "    LGBM_model.fit(X_train, y_train)\n",
        "    rmse = (mean_squared_error(y_test, LGBM_model.predict(X_test))) ** 0.5\n",
        "    if rmse < best_rsme:\n",
        "        best_model = LGBM_model\n",
        "        best_rsme = rmse\n",
        "        best_learning_rate = learning_rate\n",
        "rmse = (mean_squared_error(y_test, best_model.predict(X_test))) ** 0.5\n",
        "print('RMSE = ', rmse)\n",
        "print('Best_learning_rate', learning_rate)\n",
        "print(best_model)\n",
        "\n",
        "#Audio(sound_file, autoplay=True)"
      ]
    },
    {
      "cell_type": "code",
      "execution_count": 55,
      "metadata": {
        "colab": {
          "base_uri": "https://localhost:8080/"
        },
        "id": "NTloTj0EfoJg",
        "outputId": "66e576f8-edde-47de-a395-8bd5254da5d0"
      },
      "outputs": [
        {
          "output_type": "stream",
          "name": "stdout",
          "text": [
            "RMSE =  1587.0809400352257\n",
            "best_num_leaves 54\n",
            "LGBMRegressor(num_leaves=54, random_state=1234)\n"
          ]
        }
      ],
      "source": [
        "best_rsme = 99999\n",
        "for num_leaves in np.arange(45,55):\n",
        "    LGBM_model = LGBMRegressor(random_state=1234, num_leaves=num_leaves) \n",
        "    LGBM_model.fit(X_train, y_train)\n",
        "    rmse = (mean_squared_error(y_test, LGBM_model.predict(X_test))) ** 0.5\n",
        "    if rmse < best_rsme:\n",
        "        best_model = LGBM_model\n",
        "        best_rsme = rmse\n",
        "        best_num_leaves = num_leaves\n",
        "rmse = (mean_squared_error(y_test, best_model.predict(X_test))) ** 0.5\n",
        "print('RMSE = ', rmse)\n",
        "print('best_num_leaves', num_leaves)\n",
        "print(best_model)\n",
        "\n",
        "#Audio(sound_file, autoplay=True)"
      ]
    },
    {
      "cell_type": "code",
      "execution_count": 56,
      "metadata": {
        "colab": {
          "base_uri": "https://localhost:8080/"
        },
        "id": "Xp0mLNmCfoJh",
        "outputId": "3d94c141-51a3-4adc-f0f4-37686f189023"
      },
      "outputs": [
        {
          "output_type": "stream",
          "name": "stdout",
          "text": [
            "RMSE =  1627.3877153317542\n",
            "best_max_depth 5\n",
            "LGBMRegressor(random_state=1234)\n"
          ]
        }
      ],
      "source": [
        "best_rsme = 99999\n",
        "for max_depth in [-1, 3, 5]:\n",
        "    LGBM_model = LGBMRegressor(random_state=1234, max_depth=max_depth) \n",
        "    LGBM_model.fit(X_train, y_train)\n",
        "    rmse = (mean_squared_error(y_test, LGBM_model.predict(X_test))) ** 0.5\n",
        "    if rmse < best_rsme:\n",
        "        best_model = LGBM_model\n",
        "        best_rsme = rmse\n",
        "        best_max_depth = max_depth\n",
        "rmse = (mean_squared_error(y_test, best_model.predict(X_test))) ** 0.5\n",
        "print('RMSE = ', rmse)\n",
        "print('best_max_depth', max_depth)\n",
        "print(best_model)\n",
        "\n",
        "#Audio(sound_file, autoplay=True)"
      ]
    },
    {
      "cell_type": "code",
      "execution_count": 57,
      "metadata": {
        "colab": {
          "base_uri": "https://localhost:8080/"
        },
        "id": "_RPwvLALfoJh",
        "outputId": "93a25c8d-7f7d-4c15-e113-560546e07b84"
      },
      "outputs": [
        {
          "output_type": "stream",
          "name": "stdout",
          "text": [
            "RMSE =  1529.038983168362\n",
            "best_n_estimators 700\n",
            "LGBMRegressor(n_estimators=700, random_state=1234)\n"
          ]
        }
      ],
      "source": [
        "best_rsme = 99999\n",
        "for n_estimators in [100, 200, 500, 700]:\n",
        "    LGBM_model = LGBMRegressor(random_state=1234, n_estimators=n_estimators) \n",
        "    LGBM_model.fit(X_train, y_train)\n",
        "    rmse = (mean_squared_error(y_test, LGBM_model.predict(X_test))) ** 0.5\n",
        "    if rmse < best_rsme:\n",
        "        best_model = LGBM_model\n",
        "        best_rsme = rmse\n",
        "        best_n_estimators = n_estimators\n",
        "rmse = (mean_squared_error(y_test, best_model.predict(X_test))) ** 0.5\n",
        "print('RMSE = ', rmse)\n",
        "print('best_n_estimators', n_estimators)\n",
        "print(best_model)\n",
        "\n",
        "#Audio(sound_file, autoplay=True)"
      ]
    },
    {
      "cell_type": "code",
      "execution_count": 58,
      "metadata": {
        "id": "J4JIRJb2foJi"
      },
      "outputs": [],
      "source": [
        "LGBM_model_test = LGBMRegressor(\n",
        "    random_state=1234, \n",
        "    learning_rate = 0.1, \n",
        "    max_depth = -1, \n",
        "    n_estimators = 500, \n",
        "    num_leaves = 50)"
      ]
    },
    {
      "cell_type": "code",
      "execution_count": 59,
      "metadata": {
        "colab": {
          "base_uri": "https://localhost:8080/"
        },
        "id": "Bj_W-6KQfoJi",
        "outputId": "54ea9262-ca2f-40a5-bda4-e230509a191d"
      },
      "outputs": [
        {
          "output_type": "stream",
          "name": "stdout",
          "text": [
            "CPU times: user 13.9 s, sys: 169 ms, total: 14 s\n",
            "Wall time: 7.38 s\n"
          ]
        },
        {
          "output_type": "execute_result",
          "data": {
            "text/plain": [
              "LGBMRegressor(n_estimators=500, num_leaves=50, random_state=1234)"
            ]
          },
          "metadata": {},
          "execution_count": 59
        }
      ],
      "source": [
        "%%time\n",
        "\n",
        "LGBM_model_test.fit(X_train, y_train)"
      ]
    },
    {
      "cell_type": "code",
      "execution_count": 60,
      "metadata": {
        "colab": {
          "base_uri": "https://localhost:8080/"
        },
        "id": "_JnDkzPtfoJi",
        "outputId": "21d72428-32f8-4151-fd31-13c2abe6ddf2"
      },
      "outputs": [
        {
          "output_type": "stream",
          "name": "stdout",
          "text": [
            "CPU times: user 2.07 s, sys: 11.9 ms, total: 2.08 s\n",
            "Wall time: 1.12 s\n"
          ]
        }
      ],
      "source": [
        "%%time\n",
        "\n",
        "predictions = LGBM_model_test.predict(X_test)"
      ]
    },
    {
      "cell_type": "code",
      "execution_count": 61,
      "metadata": {
        "colab": {
          "base_uri": "https://localhost:8080/"
        },
        "id": "MnVaku6AfoJi",
        "outputId": "bb5aa60a-cde3-4dcc-e456-4580bb320904"
      },
      "outputs": [
        {
          "output_type": "stream",
          "name": "stdout",
          "text": [
            "RMSE =  1525.1669139817534\n",
            "CPU times: user 2.07 s, sys: 9.76 ms, total: 2.08 s\n",
            "Wall time: 1.13 s\n"
          ]
        }
      ],
      "source": [
        "%%time\n",
        "\n",
        "rmse = (mean_squared_error(y_test, LGBM_model_test.predict(X_test))) ** 0.5\n",
        "print('RMSE = ', rmse)"
      ]
    },
    {
      "cell_type": "code",
      "execution_count": 62,
      "metadata": {
        "id": "QLxE_c1NfoJi"
      },
      "outputs": [],
      "source": [
        "del LGBM_model_test "
      ]
    },
    {
      "cell_type": "code",
      "execution_count": 63,
      "metadata": {
        "id": "RnyvrKrtfoJj"
      },
      "outputs": [],
      "source": [
        "resultation_table.loc[1] = {\n",
        "    'Модель': 'LGBMRegressor', \n",
        "    'Качество предсказания' : 1514, \n",
        "    'Скорость предсказания': '2.1 s', \n",
        "    'Время обучения' : '29.9 s'}"
      ]
    },
    {
      "cell_type": "markdown",
      "metadata": {
        "id": "_iTYkqFhfoJj"
      },
      "source": [
        "    Подбор гиперпараметорв RandomForestRegressor:"
      ]
    },
    {
      "cell_type": "code",
      "execution_count": 64,
      "metadata": {
        "colab": {
          "base_uri": "https://localhost:8080/"
        },
        "id": "sSEh609RfoJj",
        "outputId": "d8cb1d70-a174-4a1e-b5fb-5c43721fb786"
      },
      "outputs": [
        {
          "output_type": "stream",
          "name": "stdout",
          "text": [
            "RMSE =  1590.6250355586749\n",
            "Best n_estimators 40\n",
            "RandomForestRegressor(n_estimators=40, random_state=12345)\n",
            "CPU times: user 5min 5s, sys: 499 ms, total: 5min 5s\n",
            "Wall time: 5min 5s\n"
          ]
        }
      ],
      "source": [
        "%%time\n",
        "\n",
        "best_rsme = 99999\n",
        "for est in [35, 40]:\n",
        "    model_0 = RandomForestRegressor(random_state=12345, n_estimators=est) \n",
        "    model_0.fit(X_train, y_train) \n",
        "    rmse = (mean_squared_error(y_test, model_0.predict(X_test))) ** 0.5\n",
        "    if rmse < best_rsme:\n",
        "        best_model = model_0\n",
        "        best_rsme = rmse  \n",
        "        best_n_estimators = est\n",
        "\n",
        "#rmse = (mean_squared_error(y_test, best_model.predict(X_test))) ** 0.5\n",
        "print('RMSE = ', best_rsme)\n",
        "print('Best n_estimators', best_n_estimators)\n",
        "print(best_model)\n",
        "\n",
        "#Audio(sound_file, autoplay=True)"
      ]
    },
    {
      "cell_type": "code",
      "execution_count": 65,
      "metadata": {
        "colab": {
          "base_uri": "https://localhost:8080/"
        },
        "id": "-yDYq30xfoJj",
        "outputId": "3e3899f2-3c76-4a7e-cfa0-98a3b6b309f7"
      },
      "outputs": [
        {
          "output_type": "stream",
          "name": "stdout",
          "text": [
            "RMSE =  1570.083661650239\n",
            "Best_depth 24\n",
            "RandomForestRegressor(max_depth=24, random_state=12345)\n"
          ]
        }
      ],
      "source": [
        "best_rsme = 99999\n",
        "for depth in [22, 23, 24]:\n",
        "    model_0 = RandomForestRegressor(random_state=12345, max_depth=depth)\n",
        "    model_0.fit(X_train, y_train)\n",
        "    rmse = (mean_squared_error(y_test, model_0.predict(X_test))) ** 0.5\n",
        "    if rmse < best_rsme:\n",
        "        best_model = model_0\n",
        "        best_rsme = rmse\n",
        "        best_depth = depth\n",
        "rmse = (mean_squared_error(y_test, best_model.predict(X_test))) ** 0.5\n",
        "print('RMSE = ', rmse)\n",
        "print('Best_depth', best_depth)\n",
        "print(best_model)\n",
        "\n",
        "#Audio(sound_file, autoplay=True)"
      ]
    },
    {
      "cell_type": "code",
      "execution_count": 66,
      "metadata": {
        "colab": {
          "base_uri": "https://localhost:8080/"
        },
        "id": "X0jGtS8ofoJk",
        "outputId": "4b91e096-650f-4c3f-c4f7-698f8bd7c46c"
      },
      "outputs": [
        {
          "output_type": "stream",
          "name": "stdout",
          "text": [
            "CPU times: user 48 µs, sys: 0 ns, total: 48 µs\n",
            "Wall time: 53.4 µs\n"
          ]
        }
      ],
      "source": [
        "%%time\n",
        "\n",
        "model_0 = RandomForestRegressor(random_state=12345, max_depth=22, n_estimators=40) "
      ]
    },
    {
      "cell_type": "code",
      "execution_count": 67,
      "metadata": {
        "colab": {
          "base_uri": "https://localhost:8080/"
        },
        "id": "G4bb8FoUfoJk",
        "outputId": "a6ee0d5f-cdde-423b-c74c-ac550b67b26e"
      },
      "outputs": [
        {
          "output_type": "stream",
          "name": "stdout",
          "text": [
            "CPU times: user 2min 16s, sys: 164 ms, total: 2min 16s\n",
            "Wall time: 2min 16s\n"
          ]
        },
        {
          "output_type": "execute_result",
          "data": {
            "text/plain": [
              "RandomForestRegressor(max_depth=22, n_estimators=40, random_state=12345)"
            ]
          },
          "metadata": {},
          "execution_count": 67
        }
      ],
      "source": [
        "%%time\n",
        "\n",
        "model_0.fit(X_train, y_train)"
      ]
    },
    {
      "cell_type": "code",
      "execution_count": 68,
      "metadata": {
        "colab": {
          "base_uri": "https://localhost:8080/"
        },
        "id": "jczEP-lGfoJk",
        "outputId": "2a7936fe-4f32-47fe-c239-9bb2151614b7"
      },
      "outputs": [
        {
          "output_type": "stream",
          "name": "stdout",
          "text": [
            "CPU times: user 801 ms, sys: 45 ms, total: 846 ms\n",
            "Wall time: 854 ms\n"
          ]
        }
      ],
      "source": [
        "%%time\n",
        "\n",
        "predictions = model_0.predict(X_test)"
      ]
    },
    {
      "cell_type": "code",
      "execution_count": 69,
      "metadata": {
        "colab": {
          "base_uri": "https://localhost:8080/"
        },
        "id": "QRfsHMPGfoJk",
        "outputId": "c4545d10-bdd7-41a8-b2c8-0f4eaf0dc652"
      },
      "outputs": [
        {
          "output_type": "stream",
          "name": "stdout",
          "text": [
            "RMSE =  1578.714345386257\n"
          ]
        }
      ],
      "source": [
        "rmse = (mean_squared_error(y_test, model_0.predict(X_test))) ** 0.5\n",
        "print('RMSE = ', rmse)"
      ]
    },
    {
      "cell_type": "code",
      "execution_count": 70,
      "metadata": {
        "id": "Y-KMIV5NfoJk"
      },
      "outputs": [],
      "source": [
        "del model_0 "
      ]
    },
    {
      "cell_type": "code",
      "execution_count": 71,
      "metadata": {
        "id": "lPn_j2BDfoJl"
      },
      "outputs": [],
      "source": [
        "resultation_table.loc[2] = {\n",
        "    'Модель': 'RandomForestRegressor', \n",
        "    'Качество предсказания' : '1579', \n",
        "    'Скорость предсказания': '733 ms', \n",
        "    'Время обучения' : '2min 7s'\n",
        "}"
      ]
    },
    {
      "cell_type": "markdown",
      "metadata": {
        "id": "4UUZfty8foJl"
      },
      "source": [
        "    Подбор гиперпараметров DecisionTreeRegressor:"
      ]
    },
    {
      "cell_type": "code",
      "execution_count": 72,
      "metadata": {
        "colab": {
          "base_uri": "https://localhost:8080/"
        },
        "id": "Tsd2BHsOfoJl",
        "outputId": "fe4ff6fd-d8af-43d3-bb25-27a8cfeb4088"
      },
      "outputs": [
        {
          "output_type": "stream",
          "name": "stdout",
          "text": [
            "RMSE =  1815.7136820410885\n",
            "Best depth 16\n",
            "DecisionTreeRegressor(max_depth=16, random_state=12345)\n"
          ]
        }
      ],
      "source": [
        "best_rsme = 99999\n",
        "for depth in np.arange(10,20):\n",
        "    model_1 = DecisionTreeRegressor(random_state=12345, max_depth=depth)\n",
        "    model_1.fit(X_train, y_train)\n",
        "    rmse = (mean_squared_error(y_test, model_1.predict(X_test))) ** 0.5\n",
        "    if rmse < best_rsme:\n",
        "        best_model = model_1\n",
        "        best_rsme = rmse\n",
        "        best_depth = depth\n",
        "        \n",
        "rmse = (mean_squared_error(y_test, best_model.predict(X_test))) ** 0.5\n",
        "print('RMSE = ', rmse)\n",
        "print('Best depth', best_depth)\n",
        "print(best_model)\n",
        "\n",
        "#Audio(sound_file, autoplay=True)"
      ]
    },
    {
      "cell_type": "code",
      "execution_count": 73,
      "metadata": {
        "scrolled": true,
        "colab": {
          "base_uri": "https://localhost:8080/"
        },
        "id": "Fig9qFgafoJl",
        "outputId": "b946f1b7-039d-462a-f944-980671a1324d"
      },
      "outputs": [
        {
          "output_type": "stream",
          "name": "stdout",
          "text": [
            "RMSE =  1832.2518680369053\n",
            "best min_samples_split 9\n",
            "DecisionTreeRegressor(min_samples_split=9, random_state=12345)\n"
          ]
        }
      ],
      "source": [
        "best_rsme = 99999\n",
        "for sample in np.arange(2, 10):\n",
        "    model_1 = DecisionTreeRegressor(random_state=12345, min_samples_split=sample)\n",
        "    model_1.fit(X_train, y_train) \n",
        "    rmse = (mean_squared_error(y_test, model_1.predict(X_test))) ** 0.5\n",
        "    if rmse < best_rsme:\n",
        "        best_model = model_1\n",
        "        best_rsme = rmse\n",
        "        best_sample = sample\n",
        "rmse = (mean_squared_error(y_test, best_model.predict(X_test))) ** 0.5\n",
        "print('RMSE = ', rmse)\n",
        "print('best min_samples_split', best_sample)\n",
        "print(best_model)\n",
        "\n",
        "#Audio(sound_file, autoplay=True)"
      ]
    },
    {
      "cell_type": "code",
      "execution_count": 74,
      "metadata": {
        "colab": {
          "base_uri": "https://localhost:8080/"
        },
        "id": "-3PELK9dfoJl",
        "outputId": "81569eaf-92c7-4257-987f-695b9cd748b8"
      },
      "outputs": [
        {
          "output_type": "stream",
          "name": "stdout",
          "text": [
            "CPU times: user 26 µs, sys: 1e+03 ns, total: 27 µs\n",
            "Wall time: 32.2 µs\n"
          ]
        }
      ],
      "source": [
        "%%time\n",
        "\n",
        "model_1 = DecisionTreeRegressor(random_state=12345, max_depth=16, min_samples_split=9)\n"
      ]
    },
    {
      "cell_type": "code",
      "execution_count": 75,
      "metadata": {
        "colab": {
          "base_uri": "https://localhost:8080/"
        },
        "id": "9rhi4oWbfoJm",
        "outputId": "294f9c39-c7f7-4b4d-ca44-8e2c3fa34189"
      },
      "outputs": [
        {
          "output_type": "stream",
          "name": "stdout",
          "text": [
            "CPU times: user 4.55 s, sys: 7.97 ms, total: 4.56 s\n",
            "Wall time: 4.56 s\n"
          ]
        },
        {
          "output_type": "execute_result",
          "data": {
            "text/plain": [
              "DecisionTreeRegressor(max_depth=16, min_samples_split=9, random_state=12345)"
            ]
          },
          "metadata": {},
          "execution_count": 75
        }
      ],
      "source": [
        "%%time\n",
        "\n",
        "model_1.fit(X_train, y_train) "
      ]
    },
    {
      "cell_type": "code",
      "execution_count": 76,
      "metadata": {
        "colab": {
          "base_uri": "https://localhost:8080/"
        },
        "id": "60gkZET4foJm",
        "outputId": "ff829489-2525-4260-c862-3e32bf785a4e"
      },
      "outputs": [
        {
          "output_type": "stream",
          "name": "stdout",
          "text": [
            "CPU times: user 76.3 ms, sys: 2.99 ms, total: 79.2 ms\n",
            "Wall time: 79.3 ms\n"
          ]
        }
      ],
      "source": [
        "%%time\n",
        "\n",
        "predictions = model_1.predict(X_test)"
      ]
    },
    {
      "cell_type": "code",
      "execution_count": 77,
      "metadata": {
        "colab": {
          "base_uri": "https://localhost:8080/"
        },
        "id": "XYiJUJFSfoJm",
        "outputId": "e6ed2c2d-328b-43c5-8316-628d624857d6"
      },
      "outputs": [
        {
          "output_type": "stream",
          "name": "stdout",
          "text": [
            "RMSE =  1790.7898188275335\n"
          ]
        }
      ],
      "source": [
        "rmse = (mean_squared_error(y_test, model_1.predict(X_test))) ** 0.5\n",
        "print('RMSE = ', rmse)"
      ]
    },
    {
      "cell_type": "code",
      "execution_count": 78,
      "metadata": {
        "id": "mJFiAlN5foJm"
      },
      "outputs": [],
      "source": [
        "del model_1 "
      ]
    },
    {
      "cell_type": "code",
      "execution_count": 79,
      "metadata": {
        "id": "5CebtJHMfoJm"
      },
      "outputs": [],
      "source": [
        "resultation_table.loc[3] = {\n",
        "    'Модель': 'DecisionTreeRegressor', \n",
        "    'Качество предсказания' : '1791', \n",
        "    'Скорость предсказания': '43.4 ms', \n",
        "    'Время обучения' : '4.28 s'\n",
        "}"
      ]
    },
    {
      "cell_type": "markdown",
      "metadata": {
        "id": "DU9qzo9HfoJn"
      },
      "source": [
        "    Подбор гиперпараметров для линейной регрессии:"
      ]
    },
    {
      "cell_type": "markdown",
      "metadata": {
        "id": "UQahHnp0foJn"
      },
      "source": [
        "Линейная регрессия не имеет параметров, поэтому невозможно контролировать сложность модели."
      ]
    },
    {
      "cell_type": "code",
      "execution_count": 80,
      "metadata": {
        "colab": {
          "base_uri": "https://localhost:8080/"
        },
        "id": "8tBz98yyfoJn",
        "outputId": "a3741ba5-8545-4358-b349-bc383c9b913a"
      },
      "outputs": [
        {
          "output_type": "stream",
          "name": "stdout",
          "text": [
            "CPU times: user 105 ms, sys: 8.99 ms, total: 114 ms\n",
            "Wall time: 100 ms\n"
          ]
        }
      ],
      "source": [
        "%%time\n",
        "\n",
        "predictions = model_2.predict(X_test)"
      ]
    },
    {
      "cell_type": "code",
      "execution_count": 81,
      "metadata": {
        "colab": {
          "base_uri": "https://localhost:8080/"
        },
        "id": "NUJg39rLfoJn",
        "outputId": "cdd0a613-483e-4b3c-ae1d-ffa590e2ac28"
      },
      "outputs": [
        {
          "output_type": "stream",
          "name": "stdout",
          "text": [
            "CPU times: user 9.03 s, sys: 656 ms, total: 9.69 s\n",
            "Wall time: 5.28 s\n"
          ]
        },
        {
          "output_type": "execute_result",
          "data": {
            "text/plain": [
              "LinearRegression()"
            ]
          },
          "metadata": {},
          "execution_count": 81
        }
      ],
      "source": [
        "%%time\n",
        "\n",
        "model_2.fit(X_train, y_train)"
      ]
    },
    {
      "cell_type": "code",
      "execution_count": 82,
      "metadata": {
        "id": "Wskji5TKfoJo"
      },
      "outputs": [],
      "source": [
        "resultation_table.loc[4] = {\n",
        "    'Модель': 'LinearRegression', \n",
        "    'Качество предсказания' : '2496', \n",
        "    'Скорость предсказания': '33.5 ms', \n",
        "    'Время обучения' : '13.9 s'\n",
        "}"
      ]
    },
    {
      "cell_type": "markdown",
      "metadata": {
        "id": "G6nqEf6_foJo"
      },
      "source": [
        "## Анализ моделей"
      ]
    },
    {
      "cell_type": "code",
      "execution_count": 83,
      "metadata": {
        "colab": {
          "base_uri": "https://localhost:8080/",
          "height": 206
        },
        "id": "EZX5gYoKfoJo",
        "outputId": "b8b97e51-75ec-46eb-a0ce-6e241cafcd48"
      },
      "outputs": [
        {
          "output_type": "display_data",
          "data": {
            "text/html": [
              "\n",
              "  <div id=\"df-b6b4c216-1ba8-4e24-a7dd-f1880e99e71c\">\n",
              "    <div class=\"colab-df-container\">\n",
              "      <div>\n",
              "<style scoped>\n",
              "    .dataframe tbody tr th:only-of-type {\n",
              "        vertical-align: middle;\n",
              "    }\n",
              "\n",
              "    .dataframe tbody tr th {\n",
              "        vertical-align: top;\n",
              "    }\n",
              "\n",
              "    .dataframe thead th {\n",
              "        text-align: right;\n",
              "    }\n",
              "</style>\n",
              "<table border=\"1\" class=\"dataframe\">\n",
              "  <thead>\n",
              "    <tr style=\"text-align: right;\">\n",
              "      <th></th>\n",
              "      <th>Модель</th>\n",
              "      <th>Качество предсказания</th>\n",
              "      <th>Скорость предсказания</th>\n",
              "      <th>Время обучения</th>\n",
              "    </tr>\n",
              "  </thead>\n",
              "  <tbody>\n",
              "    <tr>\n",
              "      <th>0</th>\n",
              "      <td>CatBoostRegressor</td>\n",
              "      <td>1692</td>\n",
              "      <td>749 ms</td>\n",
              "      <td>22min 22s</td>\n",
              "    </tr>\n",
              "    <tr>\n",
              "      <th>1</th>\n",
              "      <td>LGBMRegressor</td>\n",
              "      <td>1514</td>\n",
              "      <td>2.1 s</td>\n",
              "      <td>29.9 s</td>\n",
              "    </tr>\n",
              "    <tr>\n",
              "      <th>2</th>\n",
              "      <td>RandomForestRegressor</td>\n",
              "      <td>1579</td>\n",
              "      <td>733 ms</td>\n",
              "      <td>2min 7s</td>\n",
              "    </tr>\n",
              "    <tr>\n",
              "      <th>3</th>\n",
              "      <td>DecisionTreeRegressor</td>\n",
              "      <td>1791</td>\n",
              "      <td>43.4 ms</td>\n",
              "      <td>4.28 s</td>\n",
              "    </tr>\n",
              "    <tr>\n",
              "      <th>4</th>\n",
              "      <td>LinearRegression</td>\n",
              "      <td>2496</td>\n",
              "      <td>33.5 ms</td>\n",
              "      <td>13.9 s</td>\n",
              "    </tr>\n",
              "  </tbody>\n",
              "</table>\n",
              "</div>\n",
              "      <button class=\"colab-df-convert\" onclick=\"convertToInteractive('df-b6b4c216-1ba8-4e24-a7dd-f1880e99e71c')\"\n",
              "              title=\"Convert this dataframe to an interactive table.\"\n",
              "              style=\"display:none;\">\n",
              "        \n",
              "  <svg xmlns=\"http://www.w3.org/2000/svg\" height=\"24px\"viewBox=\"0 0 24 24\"\n",
              "       width=\"24px\">\n",
              "    <path d=\"M0 0h24v24H0V0z\" fill=\"none\"/>\n",
              "    <path d=\"M18.56 5.44l.94 2.06.94-2.06 2.06-.94-2.06-.94-.94-2.06-.94 2.06-2.06.94zm-11 1L8.5 8.5l.94-2.06 2.06-.94-2.06-.94L8.5 2.5l-.94 2.06-2.06.94zm10 10l.94 2.06.94-2.06 2.06-.94-2.06-.94-.94-2.06-.94 2.06-2.06.94z\"/><path d=\"M17.41 7.96l-1.37-1.37c-.4-.4-.92-.59-1.43-.59-.52 0-1.04.2-1.43.59L10.3 9.45l-7.72 7.72c-.78.78-.78 2.05 0 2.83L4 21.41c.39.39.9.59 1.41.59.51 0 1.02-.2 1.41-.59l7.78-7.78 2.81-2.81c.8-.78.8-2.07 0-2.86zM5.41 20L4 18.59l7.72-7.72 1.47 1.35L5.41 20z\"/>\n",
              "  </svg>\n",
              "      </button>\n",
              "      \n",
              "  <style>\n",
              "    .colab-df-container {\n",
              "      display:flex;\n",
              "      flex-wrap:wrap;\n",
              "      gap: 12px;\n",
              "    }\n",
              "\n",
              "    .colab-df-convert {\n",
              "      background-color: #E8F0FE;\n",
              "      border: none;\n",
              "      border-radius: 50%;\n",
              "      cursor: pointer;\n",
              "      display: none;\n",
              "      fill: #1967D2;\n",
              "      height: 32px;\n",
              "      padding: 0 0 0 0;\n",
              "      width: 32px;\n",
              "    }\n",
              "\n",
              "    .colab-df-convert:hover {\n",
              "      background-color: #E2EBFA;\n",
              "      box-shadow: 0px 1px 2px rgba(60, 64, 67, 0.3), 0px 1px 3px 1px rgba(60, 64, 67, 0.15);\n",
              "      fill: #174EA6;\n",
              "    }\n",
              "\n",
              "    [theme=dark] .colab-df-convert {\n",
              "      background-color: #3B4455;\n",
              "      fill: #D2E3FC;\n",
              "    }\n",
              "\n",
              "    [theme=dark] .colab-df-convert:hover {\n",
              "      background-color: #434B5C;\n",
              "      box-shadow: 0px 1px 3px 1px rgba(0, 0, 0, 0.15);\n",
              "      filter: drop-shadow(0px 1px 2px rgba(0, 0, 0, 0.3));\n",
              "      fill: #FFFFFF;\n",
              "    }\n",
              "  </style>\n",
              "\n",
              "      <script>\n",
              "        const buttonEl =\n",
              "          document.querySelector('#df-b6b4c216-1ba8-4e24-a7dd-f1880e99e71c button.colab-df-convert');\n",
              "        buttonEl.style.display =\n",
              "          google.colab.kernel.accessAllowed ? 'block' : 'none';\n",
              "\n",
              "        async function convertToInteractive(key) {\n",
              "          const element = document.querySelector('#df-b6b4c216-1ba8-4e24-a7dd-f1880e99e71c');\n",
              "          const dataTable =\n",
              "            await google.colab.kernel.invokeFunction('convertToInteractive',\n",
              "                                                     [key], {});\n",
              "          if (!dataTable) return;\n",
              "\n",
              "          const docLinkHtml = 'Like what you see? Visit the ' +\n",
              "            '<a target=\"_blank\" href=https://colab.research.google.com/notebooks/data_table.ipynb>data table notebook</a>'\n",
              "            + ' to learn more about interactive tables.';\n",
              "          element.innerHTML = '';\n",
              "          dataTable['output_type'] = 'display_data';\n",
              "          await google.colab.output.renderOutput(dataTable, element);\n",
              "          const docLink = document.createElement('div');\n",
              "          docLink.innerHTML = docLinkHtml;\n",
              "          element.appendChild(docLink);\n",
              "        }\n",
              "      </script>\n",
              "    </div>\n",
              "  </div>\n",
              "  "
            ],
            "text/plain": [
              "                  Модель  ... Время обучения\n",
              "0      CatBoostRegressor  ...      22min 22s\n",
              "1          LGBMRegressor  ...         29.9 s\n",
              "2  RandomForestRegressor  ...        2min 7s\n",
              "3  DecisionTreeRegressor  ...         4.28 s\n",
              "4       LinearRegression  ...         13.9 s\n",
              "\n",
              "[5 rows x 4 columns]"
            ]
          },
          "metadata": {}
        }
      ],
      "source": [
        "display(resultation_table)"
      ]
    },
    {
      "cell_type": "code",
      "execution_count": 84,
      "metadata": {
        "colab": {
          "base_uri": "https://localhost:8080/",
          "height": 75
        },
        "id": "swz0RwJCfoJp",
        "outputId": "f5de762b-8463-4839-b391-9fa7de225f64"
      },
      "outputs": [
        {
          "output_type": "execute_result",
          "data": {
            "text/html": [
              "\n",
              "                <audio controls=\"controls\" autoplay=\"autoplay\">\n",
              "                    <source src=\"data:audio/x-wav;base64,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\" type=\"audio/x-wav\" />\n",
              "                    Your browser does not support the audio element.\n",
              "                </audio>\n",
              "              "
            ],
            "text/plain": [
              "<IPython.lib.display.Audio object>"
            ]
          },
          "metadata": {},
          "execution_count": 84
        }
      ],
      "source": [
        "Audio(sound_file, autoplay=True)"
      ]
    },
    {
      "cell_type": "markdown",
      "metadata": {
        "id": "WkX0OiMmfoJp"
      },
      "source": [
        "    После обучения моделей и их оценки, я подобрал гиперпараметры и снова провел обучение и оценку. \n",
        "    Получились такие результаты:\n",
        "Лучшее качество продсказания показала модель LGBMRegressor, затем, поубыванию RandomForestRegressor, CatBoostRegressor, DecisionTreeRegressor и самое низкое качество у LinearRegression.\n",
        "Скорость предсказания у всех моделей высокая, самая медленная - LGBMRegressor, 2.1 секунда.\n",
        "\n",
        "Время обучения:\n",
        " - DecisionTreeRegressor  (4.28 s)\t\n",
        " - LinearRegression       (13.9 s)\n",
        " - LGBMRegressor          (29.9 s)\n",
        " - RandomForestRegressor  (2min 7s)\n",
        " - CatBoostRegressor      (22min 22s)\n"
      ]
    },
    {
      "cell_type": "markdown",
      "metadata": {
        "id": "T6TrgzddfoJp"
      },
      "source": [
        "Вывод: Модель LGBMRegressor\tна данной выборке показала самый высокий результат по качеству предсказания, при этом третье время по скорости обучения. Скорость предсказания у неё самый низкий, но это 2.1 секунды\n",
        "\n",
        "Минусом можно считать долгое время подбора гиперпараметров\n",
        "\n",
        "P.S. у модели CatBoostRegressor можно увеличить число итераций это сильно увеличит время обучения, но качество предсказаний увеличится."
      ]
    }
  ],
  "metadata": {
    "ExecuteTimeLog": [
      {
        "duration": 599,
        "start_time": "2021-10-30T12:51:45.151Z"
      },
      {
        "duration": 910,
        "start_time": "2021-10-30T12:51:46.530Z"
      },
      {
        "duration": 111,
        "start_time": "2021-10-30T12:52:44.164Z"
      },
      {
        "duration": 113,
        "start_time": "2021-10-30T12:56:22.612Z"
      },
      {
        "duration": 3,
        "start_time": "2021-10-30T13:06:34.027Z"
      },
      {
        "duration": 867,
        "start_time": "2021-10-30T13:06:35.077Z"
      },
      {
        "duration": 111,
        "start_time": "2021-10-30T13:06:36.244Z"
      },
      {
        "duration": 369,
        "start_time": "2021-10-31T09:57:40.246Z"
      },
      {
        "duration": 653,
        "start_time": "2021-10-31T09:57:44.715Z"
      },
      {
        "duration": 921,
        "start_time": "2021-10-31T09:57:45.485Z"
      },
      {
        "duration": 119,
        "start_time": "2021-10-31T09:57:47.676Z"
      },
      {
        "duration": 129,
        "start_time": "2021-10-31T09:57:48.882Z"
      },
      {
        "duration": 508,
        "start_time": "2021-10-31T09:58:10.266Z"
      },
      {
        "duration": 115,
        "start_time": "2021-10-31T09:58:28.644Z"
      },
      {
        "duration": 120,
        "start_time": "2021-10-31T09:58:37.156Z"
      },
      {
        "duration": 119,
        "start_time": "2021-10-31T09:58:41.716Z"
      },
      {
        "duration": 241,
        "start_time": "2021-10-31T09:59:06.052Z"
      },
      {
        "duration": 120,
        "start_time": "2021-10-31T09:59:36.028Z"
      },
      {
        "duration": 117,
        "start_time": "2021-10-31T09:59:37.315Z"
      },
      {
        "duration": 112,
        "start_time": "2021-10-31T10:41:03.255Z"
      },
      {
        "duration": 352,
        "start_time": "2021-10-31T11:14:08.675Z"
      },
      {
        "duration": 319,
        "start_time": "2021-10-31T11:14:15.074Z"
      },
      {
        "duration": 241,
        "start_time": "2021-10-31T11:14:19.082Z"
      },
      {
        "duration": 255,
        "start_time": "2021-10-31T11:14:49.960Z"
      },
      {
        "duration": 100,
        "start_time": "2021-10-31T11:15:06.400Z"
      },
      {
        "duration": 114,
        "start_time": "2021-10-31T11:15:11.999Z"
      },
      {
        "duration": 238,
        "start_time": "2021-10-31T11:15:13.650Z"
      },
      {
        "duration": 220,
        "start_time": "2021-10-31T11:15:15.072Z"
      },
      {
        "duration": 104,
        "start_time": "2021-10-31T11:15:16.295Z"
      },
      {
        "duration": 643,
        "start_time": "2021-10-31T11:16:03.031Z"
      },
      {
        "duration": 1001,
        "start_time": "2021-10-31T11:16:03.676Z"
      },
      {
        "duration": 139,
        "start_time": "2021-10-31T11:16:04.679Z"
      },
      {
        "duration": 140,
        "start_time": "2021-10-31T11:16:04.820Z"
      },
      {
        "duration": 187,
        "start_time": "2021-10-31T11:16:04.962Z"
      },
      {
        "duration": 168,
        "start_time": "2021-10-31T11:16:05.151Z"
      },
      {
        "duration": 179,
        "start_time": "2021-10-31T11:16:05.321Z"
      },
      {
        "duration": 83,
        "start_time": "2021-10-31T11:16:05.502Z"
      },
      {
        "duration": 91,
        "start_time": "2021-11-01T12:07:11.583Z"
      },
      {
        "duration": 319,
        "start_time": "2021-11-01T12:07:17.816Z"
      },
      {
        "duration": 645,
        "start_time": "2021-11-01T12:07:26.862Z"
      },
      {
        "duration": 1005,
        "start_time": "2021-11-01T12:07:27.509Z"
      },
      {
        "duration": 139,
        "start_time": "2021-11-01T12:07:28.517Z"
      },
      {
        "duration": 134,
        "start_time": "2021-11-01T12:07:28.658Z"
      },
      {
        "duration": 177,
        "start_time": "2021-11-01T12:07:28.794Z"
      },
      {
        "duration": 176,
        "start_time": "2021-11-01T12:07:28.973Z"
      },
      {
        "duration": 181,
        "start_time": "2021-11-01T12:07:29.150Z"
      },
      {
        "duration": 95,
        "start_time": "2021-11-01T12:07:29.334Z"
      },
      {
        "duration": 14,
        "start_time": "2021-11-01T12:07:29.432Z"
      },
      {
        "duration": 25,
        "start_time": "2021-11-01T12:08:45.898Z"
      },
      {
        "duration": 32,
        "start_time": "2021-11-01T12:09:14.127Z"
      },
      {
        "duration": 107,
        "start_time": "2021-11-01T12:10:55.783Z"
      },
      {
        "duration": 86,
        "start_time": "2021-11-01T12:12:19.818Z"
      },
      {
        "duration": 1377,
        "start_time": "2021-11-01T12:12:24.651Z"
      },
      {
        "duration": 659,
        "start_time": "2021-11-01T12:12:41.489Z"
      },
      {
        "duration": 2408,
        "start_time": "2021-11-01T12:12:46.819Z"
      },
      {
        "duration": 1684,
        "start_time": "2021-11-01T12:13:09.374Z"
      },
      {
        "duration": 304,
        "start_time": "2021-11-01T12:13:44.954Z"
      },
      {
        "duration": 466,
        "start_time": "2021-11-01T12:13:45.459Z"
      },
      {
        "duration": 392,
        "start_time": "2021-11-01T12:13:45.927Z"
      },
      {
        "duration": 285,
        "start_time": "2021-11-01T12:13:46.723Z"
      },
      {
        "duration": 514,
        "start_time": "2021-11-01T12:15:49.731Z"
      },
      {
        "duration": 286,
        "start_time": "2021-11-01T12:15:55.802Z"
      },
      {
        "duration": 334,
        "start_time": "2021-11-01T12:16:03.068Z"
      },
      {
        "duration": 1169,
        "start_time": "2021-11-01T12:16:08.021Z"
      },
      {
        "duration": 279,
        "start_time": "2021-11-01T12:16:16.284Z"
      },
      {
        "duration": 33,
        "start_time": "2021-11-01T12:17:20.690Z"
      },
      {
        "duration": 409,
        "start_time": "2021-11-01T12:17:46.514Z"
      },
      {
        "duration": 132,
        "start_time": "2021-11-01T12:18:36.365Z"
      },
      {
        "duration": 461,
        "start_time": "2021-11-01T12:19:00.924Z"
      },
      {
        "duration": 17652,
        "start_time": "2021-11-01T12:19:57.212Z"
      },
      {
        "duration": 6408,
        "start_time": "2021-11-01T12:24:30.291Z"
      },
      {
        "duration": 42362,
        "start_time": "2021-11-01T12:24:36.701Z"
      },
      {
        "duration": 2704,
        "start_time": "2021-11-01T12:25:19.065Z"
      },
      {
        "duration": 83596,
        "start_time": "2021-11-01T12:25:21.771Z"
      },
      {
        "duration": 5095,
        "start_time": "2021-11-01T12:26:45.369Z"
      },
      {
        "duration": 97,
        "start_time": "2021-11-01T12:26:50.467Z"
      },
      {
        "duration": 4,
        "start_time": "2021-11-01T12:26:53.955Z"
      },
      {
        "duration": 4,
        "start_time": "2021-11-01T12:28:15.787Z"
      },
      {
        "duration": 4,
        "start_time": "2021-11-01T12:28:19.579Z"
      },
      {
        "duration": 946,
        "start_time": "2021-11-01T12:28:20.563Z"
      },
      {
        "duration": 4,
        "start_time": "2021-11-01T12:28:50.772Z"
      },
      {
        "duration": 3,
        "start_time": "2021-11-01T12:28:57.029Z"
      },
      {
        "duration": 2949,
        "start_time": "2021-11-01T12:28:57.916Z"
      },
      {
        "duration": 248,
        "start_time": "2021-11-01T12:36:25.422Z"
      },
      {
        "duration": 4,
        "start_time": "2021-11-01T12:36:31.910Z"
      },
      {
        "duration": 1767650,
        "start_time": "2021-11-01T12:36:36.937Z"
      },
      {
        "duration": 256685,
        "start_time": "2021-11-01T13:07:08.141Z"
      },
      {
        "duration": 142266,
        "start_time": "2021-11-01T13:11:59.027Z"
      },
      {
        "duration": 41157,
        "start_time": "2021-11-01T13:15:55.115Z"
      },
      {
        "duration": 6342,
        "start_time": "2021-11-01T13:16:36.274Z"
      },
      {
        "duration": 250,
        "start_time": "2021-11-01T13:16:42.618Z"
      },
      {
        "duration": -500,
        "start_time": "2021-11-01T13:16:43.370Z"
      },
      {
        "duration": -506,
        "start_time": "2021-11-01T13:16:43.377Z"
      },
      {
        "duration": -508,
        "start_time": "2021-11-01T13:16:43.380Z"
      },
      {
        "duration": -510,
        "start_time": "2021-11-01T13:16:43.383Z"
      },
      {
        "duration": -511,
        "start_time": "2021-11-01T13:16:43.385Z"
      },
      {
        "duration": 243,
        "start_time": "2021-11-01T13:17:42.895Z"
      },
      {
        "duration": 15880,
        "start_time": "2021-11-01T13:18:37.985Z"
      },
      {
        "duration": 3100,
        "start_time": "2021-11-01T13:18:53.868Z"
      },
      {
        "duration": 66695,
        "start_time": "2021-11-01T13:18:56.973Z"
      },
      {
        "duration": 5995,
        "start_time": "2021-11-01T13:20:03.673Z"
      },
      {
        "duration": 93,
        "start_time": "2021-11-01T13:20:09.671Z"
      },
      {
        "duration": 4398,
        "start_time": "2021-11-01T13:20:09.767Z"
      },
      {
        "duration": 930777,
        "start_time": "2021-11-01T13:22:07.754Z"
      },
      {
        "duration": 32979,
        "start_time": "2021-11-01T13:38:32.063Z"
      },
      {
        "duration": 24829,
        "start_time": "2021-11-01T13:39:09.864Z"
      },
      {
        "duration": 187173,
        "start_time": "2021-11-01T13:39:40.152Z"
      },
      {
        "duration": 81313,
        "start_time": "2021-11-01T13:43:36.392Z"
      },
      {
        "duration": 108,
        "start_time": "2021-11-01T13:45:34.876Z"
      },
      {
        "duration": 344116,
        "start_time": "2021-11-01T13:45:58.984Z"
      },
      {
        "duration": 1014313,
        "start_time": "2021-11-01T13:52:15.445Z"
      },
      {
        "duration": 479943,
        "start_time": "2021-11-01T14:09:44.919Z"
      },
      {
        "duration": 974071,
        "start_time": "2021-11-01T14:18:17.354Z"
      },
      {
        "duration": 88472,
        "start_time": "2021-11-01T15:06:37.856Z"
      },
      {
        "duration": 244892,
        "start_time": "2021-11-01T15:10:28.276Z"
      },
      {
        "duration": 940932,
        "start_time": "2021-11-01T15:16:17.510Z"
      },
      {
        "duration": 249,
        "start_time": "2021-11-01T16:45:31.100Z"
      },
      {
        "duration": 4,
        "start_time": "2021-11-01T16:46:05.204Z"
      },
      {
        "duration": 1106,
        "start_time": "2021-11-01T16:46:05.214Z"
      },
      {
        "duration": 123,
        "start_time": "2021-11-01T16:46:06.322Z"
      },
      {
        "duration": 140,
        "start_time": "2021-11-01T16:46:06.447Z"
      },
      {
        "duration": 192,
        "start_time": "2021-11-01T16:46:06.589Z"
      },
      {
        "duration": 196,
        "start_time": "2021-11-01T16:46:06.783Z"
      },
      {
        "duration": 216,
        "start_time": "2021-11-01T16:46:06.981Z"
      },
      {
        "duration": 89,
        "start_time": "2021-11-01T16:46:07.199Z"
      },
      {
        "duration": 29,
        "start_time": "2021-11-01T16:46:07.289Z"
      },
      {
        "duration": 130,
        "start_time": "2021-11-01T16:46:07.320Z"
      },
      {
        "duration": 1246,
        "start_time": "2021-11-01T16:46:07.452Z"
      },
      {
        "duration": 329,
        "start_time": "2021-11-01T16:46:08.700Z"
      },
      {
        "duration": 494,
        "start_time": "2021-11-01T16:46:09.031Z"
      },
      {
        "duration": 293,
        "start_time": "2021-11-01T16:46:09.526Z"
      },
      {
        "duration": 317,
        "start_time": "2021-11-01T16:46:09.821Z"
      },
      {
        "duration": 608,
        "start_time": "2021-11-01T16:46:10.140Z"
      },
      {
        "duration": 295,
        "start_time": "2021-11-01T16:46:10.750Z"
      },
      {
        "duration": 442,
        "start_time": "2021-11-01T16:46:11.048Z"
      },
      {
        "duration": 1162,
        "start_time": "2021-11-01T16:46:11.492Z"
      },
      {
        "duration": 282,
        "start_time": "2021-11-01T16:46:12.656Z"
      },
      {
        "duration": 43,
        "start_time": "2021-11-01T16:46:12.940Z"
      },
      {
        "duration": 616,
        "start_time": "2021-11-01T16:46:12.985Z"
      },
      {
        "duration": 122,
        "start_time": "2021-11-01T16:46:13.603Z"
      },
      {
        "duration": 469,
        "start_time": "2021-11-01T16:46:13.727Z"
      },
      {
        "duration": 42527,
        "start_time": "2021-11-01T16:46:14.198Z"
      },
      {
        "duration": 6668,
        "start_time": "2021-11-01T16:46:56.727Z"
      },
      {
        "duration": 16274,
        "start_time": "2021-11-01T16:47:03.396Z"
      },
      {
        "duration": 2602,
        "start_time": "2021-11-01T16:47:19.674Z"
      },
      {
        "duration": 88703,
        "start_time": "2021-11-01T16:47:22.365Z"
      },
      {
        "duration": 5298,
        "start_time": "2021-11-01T16:48:51.070Z"
      },
      {
        "duration": 94,
        "start_time": "2021-11-01T16:48:56.371Z"
      },
      {
        "duration": 4401,
        "start_time": "2021-11-01T16:48:56.468Z"
      },
      {
        "duration": 250,
        "start_time": "2021-11-01T16:49:00.871Z"
      },
      {
        "duration": 240,
        "start_time": "2021-11-01T16:49:58.812Z"
      },
      {
        "duration": 4632,
        "start_time": "2021-11-01T16:51:24.656Z"
      },
      {
        "duration": 4936,
        "start_time": "2021-11-01T16:51:47.954Z"
      },
      {
        "duration": 231288,
        "start_time": "2021-11-01T16:52:10.432Z"
      },
      {
        "duration": 255997,
        "start_time": "2021-11-01T16:56:48.367Z"
      },
      {
        "duration": 429717,
        "start_time": "2021-11-01T17:01:49.642Z"
      },
      {
        "duration": 364978,
        "start_time": "2021-11-01T17:11:06.259Z"
      },
      {
        "duration": 333308,
        "start_time": "2021-11-01T17:18:44.518Z"
      },
      {
        "duration": 54533,
        "start_time": "2021-11-01T17:28:22.551Z"
      },
      {
        "duration": 101866,
        "start_time": "2021-11-01T17:29:53.104Z"
      },
      {
        "duration": 102642,
        "start_time": "2021-11-01T17:33:13.351Z"
      },
      {
        "duration": 108303,
        "start_time": "2021-11-01T17:35:53.303Z"
      },
      {
        "duration": 107886,
        "start_time": "2021-11-01T17:38:10.282Z"
      },
      {
        "duration": 109783,
        "start_time": "2021-11-01T17:41:15.491Z"
      },
      {
        "duration": 149473,
        "start_time": "2021-11-01T17:44:36.203Z"
      },
      {
        "duration": 143370,
        "start_time": "2021-11-01T17:48:08.155Z"
      },
      {
        "duration": 2955391,
        "start_time": "2021-11-01T17:52:22.699Z"
      },
      {
        "duration": 1208,
        "start_time": "2021-11-02T09:29:16.562Z"
      },
      {
        "duration": 921,
        "start_time": "2021-11-02T09:29:17.772Z"
      },
      {
        "duration": 122,
        "start_time": "2021-11-02T09:29:18.695Z"
      },
      {
        "duration": 129,
        "start_time": "2021-11-02T09:29:19.425Z"
      },
      {
        "duration": 164,
        "start_time": "2021-11-02T09:29:20.158Z"
      },
      {
        "duration": 143,
        "start_time": "2021-11-02T09:29:21.124Z"
      },
      {
        "duration": 152,
        "start_time": "2021-11-02T09:29:21.740Z"
      },
      {
        "duration": 73,
        "start_time": "2021-11-02T09:29:22.259Z"
      },
      {
        "duration": 30,
        "start_time": "2021-11-02T09:29:22.694Z"
      },
      {
        "duration": 91,
        "start_time": "2021-11-02T09:29:23.760Z"
      },
      {
        "duration": 1123,
        "start_time": "2021-11-02T09:29:24.778Z"
      },
      {
        "duration": 326,
        "start_time": "2021-11-02T09:29:25.903Z"
      },
      {
        "duration": 531,
        "start_time": "2021-11-02T09:29:26.231Z"
      },
      {
        "duration": 525,
        "start_time": "2021-11-02T09:29:26.765Z"
      },
      {
        "duration": 351,
        "start_time": "2021-11-02T09:29:27.292Z"
      },
      {
        "duration": 515,
        "start_time": "2021-11-02T09:29:27.723Z"
      },
      {
        "duration": 294,
        "start_time": "2021-11-02T09:29:28.399Z"
      },
      {
        "duration": 340,
        "start_time": "2021-11-02T09:29:29.018Z"
      },
      {
        "duration": 1152,
        "start_time": "2021-11-02T09:29:29.788Z"
      },
      {
        "duration": 317,
        "start_time": "2021-11-02T09:29:30.944Z"
      },
      {
        "duration": 24,
        "start_time": "2021-11-02T09:29:34.186Z"
      },
      {
        "duration": 432,
        "start_time": "2021-11-02T09:29:35.412Z"
      },
      {
        "duration": 118,
        "start_time": "2021-11-02T09:29:37.114Z"
      },
      {
        "duration": 445,
        "start_time": "2021-11-02T09:29:38.380Z"
      },
      {
        "duration": 38360,
        "start_time": "2021-11-02T09:29:39.169Z"
      },
      {
        "duration": 6355,
        "start_time": "2021-11-02T09:30:17.532Z"
      },
      {
        "duration": 15458,
        "start_time": "2021-11-02T09:30:23.889Z"
      },
      {
        "duration": 3112,
        "start_time": "2021-11-02T09:30:39.349Z"
      },
      {
        "duration": 121599,
        "start_time": "2021-11-02T09:30:42.545Z"
      },
      {
        "duration": 7296,
        "start_time": "2021-11-02T09:32:44.149Z"
      },
      {
        "duration": 7,
        "start_time": "2021-11-02T09:32:51.448Z"
      },
      {
        "duration": 3993,
        "start_time": "2021-11-02T09:32:51.463Z"
      },
      {
        "duration": 87,
        "start_time": "2021-11-02T09:32:55.459Z"
      },
      {
        "duration": 2726758,
        "start_time": "2021-11-02T09:34:05.778Z"
      },
      {
        "duration": 364,
        "start_time": "2021-11-02T10:23:26.922Z"
      },
      {
        "duration": 249,
        "start_time": "2021-11-02T10:24:41.677Z"
      },
      {
        "duration": 71085,
        "start_time": "2021-11-02T10:25:07.474Z"
      },
      {
        "duration": 6965698,
        "start_time": "2021-11-02T10:29:01.630Z"
      },
      {
        "duration": -666,
        "start_time": "2021-11-02T12:25:07.996Z"
      },
      {
        "duration": 120,
        "start_time": "2021-11-02T12:37:41.625Z"
      },
      {
        "duration": -1390,
        "start_time": "2021-11-02T12:41:19.230Z"
      },
      {
        "duration": -2995,
        "start_time": "2021-11-02T12:41:20.842Z"
      },
      {
        "duration": 1381,
        "start_time": "2021-11-02T12:41:33.605Z"
      },
      {
        "duration": 990,
        "start_time": "2021-11-02T12:41:34.988Z"
      },
      {
        "duration": 119,
        "start_time": "2021-11-02T12:41:37.206Z"
      },
      {
        "duration": 120,
        "start_time": "2021-11-02T12:41:38.949Z"
      },
      {
        "duration": 168,
        "start_time": "2021-11-02T12:41:39.749Z"
      },
      {
        "duration": 139,
        "start_time": "2021-11-02T12:41:40.322Z"
      },
      {
        "duration": 146,
        "start_time": "2021-11-02T12:41:41.262Z"
      },
      {
        "duration": 80,
        "start_time": "2021-11-02T12:41:42.041Z"
      },
      {
        "duration": 28,
        "start_time": "2021-11-02T12:41:42.790Z"
      },
      {
        "duration": 97,
        "start_time": "2021-11-02T12:41:44.675Z"
      },
      {
        "duration": 1134,
        "start_time": "2021-11-02T12:41:45.750Z"
      },
      {
        "duration": 372,
        "start_time": "2021-11-02T12:41:46.886Z"
      },
      {
        "duration": 529,
        "start_time": "2021-11-02T12:41:47.264Z"
      },
      {
        "duration": 387,
        "start_time": "2021-11-02T12:41:47.795Z"
      },
      {
        "duration": 338,
        "start_time": "2021-11-02T12:41:48.184Z"
      },
      {
        "duration": 561,
        "start_time": "2021-11-02T12:41:48.524Z"
      },
      {
        "duration": 306,
        "start_time": "2021-11-02T12:41:49.088Z"
      },
      {
        "duration": 371,
        "start_time": "2021-11-02T12:41:49.396Z"
      },
      {
        "duration": 1148,
        "start_time": "2021-11-02T12:41:49.769Z"
      },
      {
        "duration": 287,
        "start_time": "2021-11-02T12:41:50.918Z"
      },
      {
        "duration": 28,
        "start_time": "2021-11-02T12:41:52.894Z"
      },
      {
        "duration": 446,
        "start_time": "2021-11-02T12:41:54.453Z"
      },
      {
        "duration": 123,
        "start_time": "2021-11-02T12:41:55.979Z"
      },
      {
        "duration": 475,
        "start_time": "2021-11-02T12:41:57.158Z"
      },
      {
        "duration": 38500,
        "start_time": "2021-11-02T12:41:58.090Z"
      },
      {
        "duration": 6046,
        "start_time": "2021-11-02T12:42:36.592Z"
      },
      {
        "duration": 18700,
        "start_time": "2021-11-02T12:42:42.644Z"
      },
      {
        "duration": 4201,
        "start_time": "2021-11-02T12:43:01.347Z"
      },
      {
        "duration": 108600,
        "start_time": "2021-11-02T12:43:05.552Z"
      },
      {
        "duration": 4892,
        "start_time": "2021-11-02T12:44:54.155Z"
      },
      {
        "duration": 1384,
        "start_time": "2021-11-02T13:09:58.525Z"
      },
      {
        "duration": 1453,
        "start_time": "2021-11-02T13:09:59.912Z"
      },
      {
        "duration": 223,
        "start_time": "2021-11-02T13:10:01.368Z"
      },
      {
        "duration": 248,
        "start_time": "2021-11-02T13:10:01.593Z"
      },
      {
        "duration": 275,
        "start_time": "2021-11-02T13:10:02.138Z"
      },
      {
        "duration": 152,
        "start_time": "2021-11-02T13:10:02.556Z"
      },
      {
        "duration": 154,
        "start_time": "2021-11-02T13:10:03.093Z"
      },
      {
        "duration": 85,
        "start_time": "2021-11-02T13:10:03.510Z"
      },
      {
        "duration": 28,
        "start_time": "2021-11-02T13:10:04.070Z"
      },
      {
        "duration": 108,
        "start_time": "2021-11-02T13:10:06.179Z"
      },
      {
        "duration": 1103,
        "start_time": "2021-11-02T13:10:08.042Z"
      },
      {
        "duration": 345,
        "start_time": "2021-11-02T13:10:11.531Z"
      },
      {
        "duration": 560,
        "start_time": "2021-11-02T13:10:11.878Z"
      },
      {
        "duration": 412,
        "start_time": "2021-11-02T13:10:12.445Z"
      },
      {
        "duration": 347,
        "start_time": "2021-11-02T13:10:12.860Z"
      },
      {
        "duration": 582,
        "start_time": "2021-11-02T13:10:13.209Z"
      },
      {
        "duration": 314,
        "start_time": "2021-11-02T13:10:13.794Z"
      },
      {
        "duration": 399,
        "start_time": "2021-11-02T13:10:14.110Z"
      },
      {
        "duration": 1161,
        "start_time": "2021-11-02T13:10:14.511Z"
      },
      {
        "duration": 318,
        "start_time": "2021-11-02T13:10:15.674Z"
      },
      {
        "duration": 29,
        "start_time": "2021-11-02T13:10:18.066Z"
      },
      {
        "duration": 416,
        "start_time": "2021-11-02T13:10:19.785Z"
      },
      {
        "duration": 126,
        "start_time": "2021-11-02T13:10:21.967Z"
      },
      {
        "duration": 487,
        "start_time": "2021-11-02T13:10:24.375Z"
      },
      {
        "duration": 40502,
        "start_time": "2021-11-02T13:10:30.434Z"
      },
      {
        "duration": 6392,
        "start_time": "2021-11-02T13:11:10.939Z"
      },
      {
        "duration": 20335,
        "start_time": "2021-11-02T13:11:17.334Z"
      },
      {
        "duration": 4117,
        "start_time": "2021-11-02T13:11:37.751Z"
      },
      {
        "duration": 182911,
        "start_time": "2021-11-02T13:11:41.953Z"
      },
      {
        "duration": 9576,
        "start_time": "2021-11-02T13:14:44.872Z"
      },
      {
        "duration": 13,
        "start_time": "2021-11-02T13:14:54.463Z"
      },
      {
        "duration": 4203,
        "start_time": "2021-11-02T13:14:54.551Z"
      },
      {
        "duration": 314109,
        "start_time": "2021-11-02T13:27:17.289Z"
      },
      {
        "duration": 116623,
        "start_time": "2021-11-02T13:32:31.400Z"
      },
      {
        "duration": 147404,
        "start_time": "2021-11-02T13:41:27.460Z"
      },
      {
        "duration": 216,
        "start_time": "2021-11-02T13:43:54.866Z"
      },
      {
        "duration": 20557,
        "start_time": "2021-11-02T13:49:09.360Z"
      },
      {
        "duration": 46401,
        "start_time": "2021-11-02T13:50:19.325Z"
      },
      {
        "duration": 87,
        "start_time": "2021-11-02T13:53:47.608Z"
      },
      {
        "duration": 620,
        "start_time": "2021-11-02T13:53:54.387Z"
      },
      {
        "duration": 527,
        "start_time": "2021-11-02T13:54:11.017Z"
      },
      {
        "duration": 53834,
        "start_time": "2021-11-02T13:54:31.393Z"
      },
      {
        "duration": 138752,
        "start_time": "2021-11-02T13:57:47.632Z"
      },
      {
        "duration": -1161,
        "start_time": "2021-11-02T14:00:07.817Z"
      },
      {
        "duration": -1180,
        "start_time": "2021-11-02T14:00:07.837Z"
      },
      {
        "duration": -1186,
        "start_time": "2021-11-02T14:00:07.844Z"
      },
      {
        "duration": 4424,
        "start_time": "2021-11-02T14:07:08.523Z"
      },
      {
        "duration": 76,
        "start_time": "2021-11-02T14:07:12.949Z"
      },
      {
        "duration": 756,
        "start_time": "2021-11-02T14:15:51.055Z"
      },
      {
        "duration": 274,
        "start_time": "2021-11-02T14:32:17.795Z"
      },
      {
        "duration": 22529,
        "start_time": "2021-11-02T14:32:54.643Z"
      },
      {
        "duration": 279206,
        "start_time": "2021-11-02T14:38:54.223Z"
      },
      {
        "duration": 108408,
        "start_time": "2021-11-02T14:46:42.105Z"
      },
      {
        "duration": 135247,
        "start_time": "2021-11-02T14:50:31.178Z"
      },
      {
        "duration": 688,
        "start_time": "2021-11-02T14:52:46.427Z"
      },
      {
        "duration": 137211,
        "start_time": "2021-11-02T14:53:26.809Z"
      },
      {
        "duration": 776,
        "start_time": "2021-11-02T14:55:44.022Z"
      },
      {
        "duration": 44008,
        "start_time": "2021-11-02T15:00:51.950Z"
      },
      {
        "duration": 98,
        "start_time": "2021-11-02T15:01:35.960Z"
      },
      {
        "duration": 115,
        "start_time": "2021-11-02T15:02:45.625Z"
      },
      {
        "duration": 107,
        "start_time": "2021-11-02T15:02:59.235Z"
      },
      {
        "duration": 47604,
        "start_time": "2021-11-02T15:03:06.375Z"
      },
      {
        "duration": 4473,
        "start_time": "2021-11-02T15:08:15.157Z"
      },
      {
        "duration": 57,
        "start_time": "2021-11-02T15:08:19.632Z"
      },
      {
        "duration": 293217,
        "start_time": "2021-11-02T15:09:13.272Z"
      },
      {
        "duration": 105132,
        "start_time": "2021-11-02T15:14:06.492Z"
      },
      {
        "duration": 135456,
        "start_time": "2021-11-02T15:15:51.626Z"
      },
      {
        "duration": 747,
        "start_time": "2021-11-02T15:18:07.084Z"
      },
      {
        "duration": 45192,
        "start_time": "2021-11-02T15:18:07.833Z"
      },
      {
        "duration": 47456,
        "start_time": "2021-11-02T15:18:53.026Z"
      },
      {
        "duration": 4536,
        "start_time": "2021-11-02T15:19:40.483Z"
      },
      {
        "duration": 60,
        "start_time": "2021-11-02T15:19:45.021Z"
      },
      {
        "duration": 48,
        "start_time": "2021-11-02T15:24:24.476Z"
      },
      {
        "duration": 49,
        "start_time": "2021-11-02T15:24:29.819Z"
      },
      {
        "duration": 49,
        "start_time": "2021-11-02T15:24:38.787Z"
      },
      {
        "duration": 128,
        "start_time": "2021-11-02T15:24:48.401Z"
      },
      {
        "duration": 48,
        "start_time": "2021-11-02T15:24:53.567Z"
      },
      {
        "duration": 51,
        "start_time": "2021-11-02T15:25:14.292Z"
      },
      {
        "duration": 49,
        "start_time": "2021-11-02T15:25:23.797Z"
      },
      {
        "duration": 222,
        "start_time": "2021-11-02T15:25:30.342Z"
      },
      {
        "duration": 4,
        "start_time": "2021-11-02T15:25:35.634Z"
      },
      {
        "duration": 108,
        "start_time": "2021-11-02T15:25:40.752Z"
      },
      {
        "duration": 4,
        "start_time": "2021-11-02T15:25:49.745Z"
      },
      {
        "duration": 49,
        "start_time": "2021-11-02T15:26:08.379Z"
      },
      {
        "duration": 14,
        "start_time": "2021-11-02T15:35:51.193Z"
      },
      {
        "duration": 303,
        "start_time": "2021-11-02T15:35:54.577Z"
      },
      {
        "duration": 5,
        "start_time": "2021-11-02T15:36:18.459Z"
      },
      {
        "duration": 202,
        "start_time": "2021-11-02T15:36:24.548Z"
      },
      {
        "duration": 564,
        "start_time": "2021-11-02T15:36:34.843Z"
      },
      {
        "duration": 11673,
        "start_time": "2021-11-02T15:37:37.022Z"
      },
      {
        "duration": 1994,
        "start_time": "2021-11-02T15:38:19.258Z"
      },
      {
        "duration": 975,
        "start_time": "2021-11-02T15:38:22.418Z"
      },
      {
        "duration": 122,
        "start_time": "2021-11-02T15:38:23.436Z"
      },
      {
        "duration": 129,
        "start_time": "2021-11-02T15:38:24.035Z"
      },
      {
        "duration": 208,
        "start_time": "2021-11-02T15:38:24.289Z"
      },
      {
        "duration": 203,
        "start_time": "2021-11-02T15:38:24.513Z"
      },
      {
        "duration": 167,
        "start_time": "2021-11-02T15:38:24.850Z"
      },
      {
        "duration": 77,
        "start_time": "2021-11-02T15:38:25.218Z"
      },
      {
        "duration": 29,
        "start_time": "2021-11-02T15:38:25.571Z"
      },
      {
        "duration": 98,
        "start_time": "2021-11-02T15:38:26.242Z"
      },
      {
        "duration": 1084,
        "start_time": "2021-11-02T15:38:26.941Z"
      },
      {
        "duration": 345,
        "start_time": "2021-11-02T15:38:28.027Z"
      },
      {
        "duration": 517,
        "start_time": "2021-11-02T15:38:28.373Z"
      },
      {
        "duration": 290,
        "start_time": "2021-11-02T15:38:28.892Z"
      },
      {
        "duration": 324,
        "start_time": "2021-11-02T15:38:29.184Z"
      },
      {
        "duration": 656,
        "start_time": "2021-11-02T15:38:29.510Z"
      },
      {
        "duration": 291,
        "start_time": "2021-11-02T15:38:30.168Z"
      },
      {
        "duration": 343,
        "start_time": "2021-11-02T15:38:30.460Z"
      },
      {
        "duration": 1091,
        "start_time": "2021-11-02T15:38:30.805Z"
      },
      {
        "duration": 278,
        "start_time": "2021-11-02T15:38:31.897Z"
      },
      {
        "duration": 22,
        "start_time": "2021-11-02T15:38:46.456Z"
      },
      {
        "duration": 6,
        "start_time": "2021-11-02T15:38:47.380Z"
      },
      {
        "duration": 849,
        "start_time": "2021-11-02T15:38:48.626Z"
      },
      {
        "duration": 29,
        "start_time": "2021-11-02T15:39:01.093Z"
      },
      {
        "duration": 6,
        "start_time": "2021-11-02T15:39:01.988Z"
      },
      {
        "duration": 629,
        "start_time": "2021-11-02T15:39:03.155Z"
      },
      {
        "duration": 652,
        "start_time": "2021-11-02T15:40:23.820Z"
      },
      {
        "duration": 34,
        "start_time": "2021-11-02T15:40:44.639Z"
      },
      {
        "duration": 20,
        "start_time": "2021-11-02T15:40:45.284Z"
      },
      {
        "duration": 2566,
        "start_time": "2021-11-02T15:40:46.315Z"
      },
      {
        "duration": 29,
        "start_time": "2021-11-02T15:43:12.908Z"
      },
      {
        "duration": 6,
        "start_time": "2021-11-02T15:43:13.633Z"
      },
      {
        "duration": 9622,
        "start_time": "2021-11-02T15:43:18.191Z"
      },
      {
        "duration": 7,
        "start_time": "2021-11-02T15:45:18.741Z"
      },
      {
        "duration": 204,
        "start_time": "2021-11-02T15:45:43.540Z"
      },
      {
        "duration": 26,
        "start_time": "2021-11-02T15:45:50.420Z"
      },
      {
        "duration": 8,
        "start_time": "2021-11-02T15:45:51.173Z"
      },
      {
        "duration": 1245,
        "start_time": "2021-11-02T15:45:51.925Z"
      },
      {
        "duration": 144,
        "start_time": "2021-11-02T15:46:09.188Z"
      },
      {
        "duration": 9,
        "start_time": "2021-11-02T15:46:10.021Z"
      },
      {
        "duration": 1434,
        "start_time": "2021-11-02T15:46:11.021Z"
      },
      {
        "duration": 133,
        "start_time": "2021-11-02T15:46:58.070Z"
      },
      {
        "duration": 77,
        "start_time": "2021-11-02T15:46:58.692Z"
      },
      {
        "duration": 6,
        "start_time": "2021-11-02T15:46:59.835Z"
      },
      {
        "duration": 1314,
        "start_time": "2021-11-02T15:47:00.540Z"
      },
      {
        "duration": 127,
        "start_time": "2021-11-02T15:47:31.021Z"
      },
      {
        "duration": 74,
        "start_time": "2021-11-02T15:47:31.492Z"
      },
      {
        "duration": 7,
        "start_time": "2021-11-02T15:47:32.027Z"
      },
      {
        "duration": 18067,
        "start_time": "2021-11-02T15:47:32.876Z"
      },
      {
        "duration": 20,
        "start_time": "2021-11-02T15:48:42.165Z"
      },
      {
        "duration": 74,
        "start_time": "2021-11-02T15:48:43.982Z"
      },
      {
        "duration": 39,
        "start_time": "2021-11-02T15:48:44.892Z"
      },
      {
        "duration": 6,
        "start_time": "2021-11-02T15:48:45.452Z"
      },
      {
        "duration": 16602,
        "start_time": "2021-11-02T15:48:46.157Z"
      },
      {
        "duration": 284,
        "start_time": "2021-11-02T15:51:41.164Z"
      },
      {
        "duration": 58,
        "start_time": "2021-11-02T15:51:51.741Z"
      },
      {
        "duration": 3,
        "start_time": "2021-11-02T15:51:52.586Z"
      },
      {
        "duration": 5146,
        "start_time": "2021-11-02T15:51:53.565Z"
      },
      {
        "duration": 330,
        "start_time": "2021-11-02T15:52:09.141Z"
      },
      {
        "duration": 100,
        "start_time": "2021-11-02T15:52:20.583Z"
      },
      {
        "duration": 64,
        "start_time": "2021-11-02T15:52:48.519Z"
      },
      {
        "duration": 3,
        "start_time": "2021-11-02T15:52:55.321Z"
      },
      {
        "duration": 10583,
        "start_time": "2021-11-02T15:53:02.714Z"
      },
      {
        "duration": 92,
        "start_time": "2021-11-02T15:53:16.657Z"
      },
      {
        "duration": 4,
        "start_time": "2021-11-02T15:53:22.889Z"
      },
      {
        "duration": 26308,
        "start_time": "2021-11-02T15:53:23.381Z"
      },
      {
        "duration": 71,
        "start_time": "2021-11-02T15:53:49.691Z"
      },
      {
        "duration": 26569,
        "start_time": "2021-11-02T15:56:01.885Z"
      },
      {
        "duration": 26588,
        "start_time": "2021-11-02T15:56:37.710Z"
      },
      {
        "duration": 3,
        "start_time": "2021-11-02T15:57:15.534Z"
      },
      {
        "duration": 81597,
        "start_time": "2021-11-02T15:57:21.498Z"
      },
      {
        "duration": 159,
        "start_time": "2021-11-02T15:58:43.097Z"
      },
      {
        "duration": 3,
        "start_time": "2021-11-02T15:59:38.041Z"
      },
      {
        "duration": 116435,
        "start_time": "2021-11-02T15:59:40.352Z"
      },
      {
        "duration": 1165,
        "start_time": "2021-11-02T16:01:59.883Z"
      },
      {
        "duration": 1049,
        "start_time": "2021-11-02T16:02:01.050Z"
      },
      {
        "duration": 160,
        "start_time": "2021-11-02T16:02:02.101Z"
      },
      {
        "duration": 177,
        "start_time": "2021-11-02T16:02:02.264Z"
      },
      {
        "duration": 179,
        "start_time": "2021-11-02T16:02:02.443Z"
      },
      {
        "duration": 168,
        "start_time": "2021-11-02T16:02:02.625Z"
      },
      {
        "duration": 168,
        "start_time": "2021-11-02T16:02:02.795Z"
      },
      {
        "duration": 91,
        "start_time": "2021-11-02T16:02:02.966Z"
      },
      {
        "duration": 37,
        "start_time": "2021-11-02T16:02:03.059Z"
      },
      {
        "duration": 124,
        "start_time": "2021-11-02T16:02:03.098Z"
      },
      {
        "duration": 1101,
        "start_time": "2021-11-02T16:02:03.224Z"
      },
      {
        "duration": 358,
        "start_time": "2021-11-02T16:02:04.327Z"
      },
      {
        "duration": 510,
        "start_time": "2021-11-02T16:02:04.687Z"
      },
      {
        "duration": 383,
        "start_time": "2021-11-02T16:02:05.199Z"
      },
      {
        "duration": 330,
        "start_time": "2021-11-02T16:02:05.584Z"
      },
      {
        "duration": 623,
        "start_time": "2021-11-02T16:02:05.916Z"
      },
      {
        "duration": 289,
        "start_time": "2021-11-02T16:02:06.540Z"
      },
      {
        "duration": 394,
        "start_time": "2021-11-02T16:02:06.831Z"
      },
      {
        "duration": 1182,
        "start_time": "2021-11-02T16:02:07.227Z"
      },
      {
        "duration": 318,
        "start_time": "2021-11-02T16:02:08.411Z"
      },
      {
        "duration": 36,
        "start_time": "2021-11-02T16:02:08.731Z"
      },
      {
        "duration": 443,
        "start_time": "2021-11-02T16:02:08.769Z"
      },
      {
        "duration": 129,
        "start_time": "2021-11-02T16:02:09.216Z"
      },
      {
        "duration": 443,
        "start_time": "2021-11-02T16:02:09.348Z"
      },
      {
        "duration": 38958,
        "start_time": "2021-11-02T16:02:09.792Z"
      },
      {
        "duration": 5979,
        "start_time": "2021-11-02T16:02:48.752Z"
      },
      {
        "duration": 15321,
        "start_time": "2021-11-02T16:02:54.733Z"
      },
      {
        "duration": 4,
        "start_time": "2021-11-02T16:03:10.145Z"
      },
      {
        "duration": 1007,
        "start_time": "2021-11-02T16:03:10.151Z"
      },
      {
        "duration": -244,
        "start_time": "2021-11-02T16:03:11.403Z"
      },
      {
        "duration": -246,
        "start_time": "2021-11-02T16:03:11.406Z"
      },
      {
        "duration": -248,
        "start_time": "2021-11-02T16:03:11.409Z"
      },
      {
        "duration": -250,
        "start_time": "2021-11-02T16:03:11.412Z"
      },
      {
        "duration": -251,
        "start_time": "2021-11-02T16:03:11.414Z"
      },
      {
        "duration": -253,
        "start_time": "2021-11-02T16:03:11.417Z"
      },
      {
        "duration": -254,
        "start_time": "2021-11-02T16:03:11.419Z"
      },
      {
        "duration": -255,
        "start_time": "2021-11-02T16:03:11.421Z"
      },
      {
        "duration": -258,
        "start_time": "2021-11-02T16:03:11.424Z"
      },
      {
        "duration": -260,
        "start_time": "2021-11-02T16:03:11.427Z"
      },
      {
        "duration": -262,
        "start_time": "2021-11-02T16:03:11.430Z"
      },
      {
        "duration": -263,
        "start_time": "2021-11-02T16:03:11.432Z"
      },
      {
        "duration": -266,
        "start_time": "2021-11-02T16:03:11.435Z"
      },
      {
        "duration": 1258,
        "start_time": "2021-11-03T09:32:39.919Z"
      },
      {
        "duration": 1129,
        "start_time": "2021-11-03T09:32:41.179Z"
      },
      {
        "duration": 140,
        "start_time": "2021-11-03T09:32:42.311Z"
      },
      {
        "duration": 152,
        "start_time": "2021-11-03T09:32:42.452Z"
      },
      {
        "duration": 173,
        "start_time": "2021-11-03T09:32:42.606Z"
      },
      {
        "duration": 167,
        "start_time": "2021-11-03T09:32:42.781Z"
      },
      {
        "duration": 170,
        "start_time": "2021-11-03T09:32:42.950Z"
      },
      {
        "duration": 89,
        "start_time": "2021-11-03T09:32:43.122Z"
      },
      {
        "duration": 31,
        "start_time": "2021-11-03T09:32:43.213Z"
      },
      {
        "duration": 113,
        "start_time": "2021-11-03T09:32:43.245Z"
      },
      {
        "duration": 1117,
        "start_time": "2021-11-03T09:32:43.360Z"
      },
      {
        "duration": 327,
        "start_time": "2021-11-03T09:32:44.479Z"
      },
      {
        "duration": 515,
        "start_time": "2021-11-03T09:32:44.808Z"
      },
      {
        "duration": 382,
        "start_time": "2021-11-03T09:32:45.324Z"
      },
      {
        "duration": 327,
        "start_time": "2021-11-03T09:32:45.708Z"
      },
      {
        "duration": 525,
        "start_time": "2021-11-03T09:32:46.036Z"
      },
      {
        "duration": 306,
        "start_time": "2021-11-03T09:32:46.563Z"
      },
      {
        "duration": 352,
        "start_time": "2021-11-03T09:32:46.871Z"
      },
      {
        "duration": 1101,
        "start_time": "2021-11-03T09:32:47.225Z"
      },
      {
        "duration": 305,
        "start_time": "2021-11-03T09:32:48.327Z"
      },
      {
        "duration": 26,
        "start_time": "2021-11-03T09:32:48.633Z"
      },
      {
        "duration": 413,
        "start_time": "2021-11-03T09:32:48.661Z"
      },
      {
        "duration": 129,
        "start_time": "2021-11-03T09:32:49.078Z"
      },
      {
        "duration": 467,
        "start_time": "2021-11-03T09:32:49.209Z"
      },
      {
        "duration": 37899,
        "start_time": "2021-11-03T09:32:49.678Z"
      },
      {
        "duration": 5950,
        "start_time": "2021-11-03T09:33:27.580Z"
      },
      {
        "duration": 16876,
        "start_time": "2021-11-03T09:33:33.531Z"
      },
      {
        "duration": 4,
        "start_time": "2021-11-03T09:33:50.410Z"
      },
      {
        "duration": 702,
        "start_time": "2021-11-03T09:33:50.416Z"
      },
      {
        "duration": 282459,
        "start_time": "2021-11-03T09:33:51.120Z"
      },
      {
        "duration": 105157,
        "start_time": "2021-11-03T09:38:33.581Z"
      },
      {
        "duration": 141322,
        "start_time": "2021-11-03T09:40:18.740Z"
      },
      {
        "duration": 815,
        "start_time": "2021-11-03T09:42:40.064Z"
      },
      {
        "duration": 45614,
        "start_time": "2021-11-03T09:42:40.880Z"
      },
      {
        "duration": 47848,
        "start_time": "2021-11-03T09:43:26.496Z"
      },
      {
        "duration": 4520,
        "start_time": "2021-11-03T09:44:14.346Z"
      },
      {
        "duration": 64,
        "start_time": "2021-11-03T09:44:18.867Z"
      },
      {
        "duration": 509,
        "start_time": "2021-11-03T09:44:18.932Z"
      },
      {
        "duration": -90,
        "start_time": "2021-11-03T09:44:19.533Z"
      },
      {
        "duration": -91,
        "start_time": "2021-11-03T09:44:19.535Z"
      },
      {
        "duration": -92,
        "start_time": "2021-11-03T09:44:19.538Z"
      },
      {
        "duration": -94,
        "start_time": "2021-11-03T09:44:19.541Z"
      },
      {
        "duration": 354,
        "start_time": "2021-11-03T09:49:12.958Z"
      },
      {
        "duration": 56,
        "start_time": "2021-11-03T09:49:32.583Z"
      },
      {
        "duration": 3,
        "start_time": "2021-11-03T09:49:34.574Z"
      },
      {
        "duration": 116794,
        "start_time": "2021-11-03T09:49:34.579Z"
      },
      {
        "duration": 157,
        "start_time": "2021-11-03T09:51:31.375Z"
      },
      {
        "duration": 48,
        "start_time": "2021-11-03T09:57:55.033Z"
      },
      {
        "duration": 622,
        "start_time": "2021-11-03T09:57:56.543Z"
      },
      {
        "duration": 3,
        "start_time": "2021-11-03T09:58:02.018Z"
      },
      {
        "duration": 41102,
        "start_time": "2021-11-03T09:58:17.257Z"
      },
      {
        "duration": 34,
        "start_time": "2021-11-03T09:59:02.075Z"
      },
      {
        "duration": 3,
        "start_time": "2021-11-03T09:59:12.372Z"
      },
      {
        "duration": 56793,
        "start_time": "2021-11-03T09:59:12.837Z"
      },
      {
        "duration": 23,
        "start_time": "2021-11-03T10:00:09.632Z"
      },
      {
        "duration": 3,
        "start_time": "2021-11-03T10:00:20.085Z"
      },
      {
        "duration": 109642,
        "start_time": "2021-11-03T10:00:27.572Z"
      },
      {
        "duration": 108,
        "start_time": "2021-11-03T10:02:17.216Z"
      },
      {
        "duration": 3,
        "start_time": "2021-11-03T10:06:34.943Z"
      },
      {
        "duration": 910,
        "start_time": "2021-11-03T10:06:35.100Z"
      },
      {
        "duration": 183,
        "start_time": "2021-11-03T10:06:36.012Z"
      },
      {
        "duration": 241,
        "start_time": "2021-11-03T10:06:36.205Z"
      },
      {
        "duration": 175,
        "start_time": "2021-11-03T10:06:36.449Z"
      },
      {
        "duration": 134,
        "start_time": "2021-11-03T10:06:36.625Z"
      },
      {
        "duration": 164,
        "start_time": "2021-11-03T10:06:36.761Z"
      },
      {
        "duration": 81,
        "start_time": "2021-11-03T10:06:36.927Z"
      },
      {
        "duration": 28,
        "start_time": "2021-11-03T10:06:37.079Z"
      },
      {
        "duration": 95,
        "start_time": "2021-11-03T10:06:37.893Z"
      },
      {
        "duration": 1116,
        "start_time": "2021-11-03T10:06:39.059Z"
      },
      {
        "duration": 347,
        "start_time": "2021-11-03T10:06:40.176Z"
      },
      {
        "duration": 528,
        "start_time": "2021-11-03T10:06:40.525Z"
      },
      {
        "duration": 320,
        "start_time": "2021-11-03T10:06:41.055Z"
      },
      {
        "duration": 324,
        "start_time": "2021-11-03T10:06:41.377Z"
      },
      {
        "duration": 552,
        "start_time": "2021-11-03T10:06:41.707Z"
      },
      {
        "duration": 315,
        "start_time": "2021-11-03T10:06:42.261Z"
      },
      {
        "duration": 452,
        "start_time": "2021-11-03T10:06:42.578Z"
      },
      {
        "duration": 1148,
        "start_time": "2021-11-03T10:06:43.031Z"
      },
      {
        "duration": 298,
        "start_time": "2021-11-03T10:06:44.181Z"
      },
      {
        "duration": 12,
        "start_time": "2021-11-03T10:06:51.939Z"
      },
      {
        "duration": 372,
        "start_time": "2021-11-03T10:06:53.171Z"
      },
      {
        "duration": 79,
        "start_time": "2021-11-03T10:06:55.093Z"
      },
      {
        "duration": 455,
        "start_time": "2021-11-03T10:06:56.876Z"
      },
      {
        "duration": 20,
        "start_time": "2021-11-03T10:08:16.519Z"
      },
      {
        "duration": 8,
        "start_time": "2021-11-03T10:09:07.405Z"
      },
      {
        "duration": 3,
        "start_time": "2021-11-03T10:09:08.060Z"
      },
      {
        "duration": 10253,
        "start_time": "2021-11-03T10:09:08.700Z"
      },
      {
        "duration": 346,
        "start_time": "2021-11-03T10:09:18.955Z"
      },
      {
        "duration": 7,
        "start_time": "2021-11-03T10:10:17.669Z"
      },
      {
        "duration": 8,
        "start_time": "2021-11-03T10:10:18.188Z"
      },
      {
        "duration": 3,
        "start_time": "2021-11-03T10:10:18.664Z"
      },
      {
        "duration": 4492,
        "start_time": "2021-11-03T10:10:19.206Z"
      },
      {
        "duration": 8,
        "start_time": "2021-11-03T10:10:23.699Z"
      },
      {
        "duration": 1247,
        "start_time": "2021-11-03T10:12:25.449Z"
      },
      {
        "duration": 1011,
        "start_time": "2021-11-03T10:12:26.698Z"
      },
      {
        "duration": 143,
        "start_time": "2021-11-03T10:12:27.712Z"
      },
      {
        "duration": 152,
        "start_time": "2021-11-03T10:12:27.857Z"
      },
      {
        "duration": 180,
        "start_time": "2021-11-03T10:12:28.011Z"
      },
      {
        "duration": 180,
        "start_time": "2021-11-03T10:12:28.193Z"
      },
      {
        "duration": 169,
        "start_time": "2021-11-03T10:12:28.388Z"
      },
      {
        "duration": 78,
        "start_time": "2021-11-03T10:12:28.617Z"
      },
      {
        "duration": 31,
        "start_time": "2021-11-03T10:12:28.977Z"
      },
      {
        "duration": 98,
        "start_time": "2021-11-03T10:12:29.654Z"
      },
      {
        "duration": 1202,
        "start_time": "2021-11-03T10:12:30.504Z"
      },
      {
        "duration": 341,
        "start_time": "2021-11-03T10:12:31.709Z"
      },
      {
        "duration": 537,
        "start_time": "2021-11-03T10:12:32.052Z"
      },
      {
        "duration": 410,
        "start_time": "2021-11-03T10:12:32.591Z"
      },
      {
        "duration": 367,
        "start_time": "2021-11-03T10:12:33.003Z"
      },
      {
        "duration": 541,
        "start_time": "2021-11-03T10:12:33.373Z"
      },
      {
        "duration": 416,
        "start_time": "2021-11-03T10:12:33.916Z"
      },
      {
        "duration": 359,
        "start_time": "2021-11-03T10:12:34.399Z"
      },
      {
        "duration": 1158,
        "start_time": "2021-11-03T10:12:34.898Z"
      },
      {
        "duration": 298,
        "start_time": "2021-11-03T10:12:36.058Z"
      },
      {
        "duration": 23,
        "start_time": "2021-11-03T10:12:50.529Z"
      },
      {
        "duration": 7,
        "start_time": "2021-11-03T10:12:51.183Z"
      },
      {
        "duration": 12,
        "start_time": "2021-11-03T10:12:51.912Z"
      },
      {
        "duration": 6451,
        "start_time": "2021-11-03T10:12:52.728Z"
      },
      {
        "duration": 8,
        "start_time": "2021-11-03T10:12:59.181Z"
      },
      {
        "duration": 4,
        "start_time": "2021-11-03T10:13:09.033Z"
      },
      {
        "duration": 5827,
        "start_time": "2021-11-03T10:13:09.492Z"
      },
      {
        "duration": 12,
        "start_time": "2021-11-03T10:13:15.321Z"
      },
      {
        "duration": 3,
        "start_time": "2021-11-03T10:13:23.961Z"
      },
      {
        "duration": 9117,
        "start_time": "2021-11-03T10:13:24.329Z"
      },
      {
        "duration": 8,
        "start_time": "2021-11-03T10:13:33.448Z"
      },
      {
        "duration": 465,
        "start_time": "2021-11-03T10:14:10.314Z"
      },
      {
        "duration": 366,
        "start_time": "2021-11-03T10:14:17.465Z"
      },
      {
        "duration": 4,
        "start_time": "2021-11-03T10:14:31.506Z"
      },
      {
        "duration": 928,
        "start_time": "2021-11-03T10:14:31.673Z"
      },
      {
        "duration": 133,
        "start_time": "2021-11-03T10:14:32.606Z"
      },
      {
        "duration": 137,
        "start_time": "2021-11-03T10:14:32.741Z"
      },
      {
        "duration": 179,
        "start_time": "2021-11-03T10:14:32.880Z"
      },
      {
        "duration": 166,
        "start_time": "2021-11-03T10:14:33.061Z"
      },
      {
        "duration": 184,
        "start_time": "2021-11-03T10:14:33.230Z"
      },
      {
        "duration": 73,
        "start_time": "2021-11-03T10:14:33.416Z"
      },
      {
        "duration": 39,
        "start_time": "2021-11-03T10:14:33.492Z"
      },
      {
        "duration": 94,
        "start_time": "2021-11-03T10:14:33.649Z"
      },
      {
        "duration": 1241,
        "start_time": "2021-11-03T10:14:34.147Z"
      },
      {
        "duration": 351,
        "start_time": "2021-11-03T10:14:35.390Z"
      },
      {
        "duration": 562,
        "start_time": "2021-11-03T10:14:35.744Z"
      },
      {
        "duration": 327,
        "start_time": "2021-11-03T10:14:36.308Z"
      },
      {
        "duration": 334,
        "start_time": "2021-11-03T10:14:36.637Z"
      },
      {
        "duration": 577,
        "start_time": "2021-11-03T10:14:36.973Z"
      },
      {
        "duration": 306,
        "start_time": "2021-11-03T10:14:37.552Z"
      },
      {
        "duration": 365,
        "start_time": "2021-11-03T10:14:37.860Z"
      },
      {
        "duration": 1262,
        "start_time": "2021-11-03T10:14:38.227Z"
      },
      {
        "duration": 306,
        "start_time": "2021-11-03T10:14:39.491Z"
      },
      {
        "duration": 12,
        "start_time": "2021-11-03T10:14:39.843Z"
      },
      {
        "duration": 380,
        "start_time": "2021-11-03T10:14:41.239Z"
      },
      {
        "duration": 124,
        "start_time": "2021-11-03T10:14:42.696Z"
      },
      {
        "duration": 452,
        "start_time": "2021-11-03T10:14:44.223Z"
      },
      {
        "duration": 3,
        "start_time": "2021-11-03T10:14:45.105Z"
      },
      {
        "duration": 106799,
        "start_time": "2021-11-03T10:14:45.704Z"
      },
      {
        "duration": 111,
        "start_time": "2021-11-03T10:16:32.506Z"
      },
      {
        "duration": 4,
        "start_time": "2021-11-03T10:16:46.676Z"
      },
      {
        "duration": 934,
        "start_time": "2021-11-03T10:16:46.857Z"
      },
      {
        "duration": 137,
        "start_time": "2021-11-03T10:16:47.793Z"
      },
      {
        "duration": 140,
        "start_time": "2021-11-03T10:16:47.932Z"
      },
      {
        "duration": 183,
        "start_time": "2021-11-03T10:16:48.074Z"
      },
      {
        "duration": 167,
        "start_time": "2021-11-03T10:16:48.259Z"
      },
      {
        "duration": 170,
        "start_time": "2021-11-03T10:16:48.428Z"
      },
      {
        "duration": 74,
        "start_time": "2021-11-03T10:16:48.601Z"
      },
      {
        "duration": 47,
        "start_time": "2021-11-03T10:16:48.677Z"
      },
      {
        "duration": 101,
        "start_time": "2021-11-03T10:16:48.802Z"
      },
      {
        "duration": 1075,
        "start_time": "2021-11-03T10:16:49.172Z"
      },
      {
        "duration": 334,
        "start_time": "2021-11-03T10:16:50.249Z"
      },
      {
        "duration": 510,
        "start_time": "2021-11-03T10:16:50.586Z"
      },
      {
        "duration": 302,
        "start_time": "2021-11-03T10:16:51.098Z"
      },
      {
        "duration": 406,
        "start_time": "2021-11-03T10:16:51.407Z"
      },
      {
        "duration": 517,
        "start_time": "2021-11-03T10:16:51.815Z"
      },
      {
        "duration": 289,
        "start_time": "2021-11-03T10:16:52.335Z"
      },
      {
        "duration": 419,
        "start_time": "2021-11-03T10:16:52.626Z"
      },
      {
        "duration": 1202,
        "start_time": "2021-11-03T10:16:53.047Z"
      },
      {
        "duration": 291,
        "start_time": "2021-11-03T10:16:54.251Z"
      },
      {
        "duration": 32,
        "start_time": "2021-11-03T10:17:02.699Z"
      },
      {
        "duration": 353,
        "start_time": "2021-11-03T10:17:04.089Z"
      },
      {
        "duration": 3,
        "start_time": "2021-11-03T10:17:04.657Z"
      },
      {
        "duration": 241,
        "start_time": "2021-11-03T10:17:05.226Z"
      },
      {
        "duration": 357,
        "start_time": "2021-11-03T10:17:05.802Z"
      },
      {
        "duration": 4,
        "start_time": "2021-11-03T10:17:25.969Z"
      },
      {
        "duration": 892,
        "start_time": "2021-11-03T10:17:26.177Z"
      },
      {
        "duration": 139,
        "start_time": "2021-11-03T10:17:27.071Z"
      },
      {
        "duration": 147,
        "start_time": "2021-11-03T10:17:27.393Z"
      },
      {
        "duration": 183,
        "start_time": "2021-11-03T10:17:27.736Z"
      },
      {
        "duration": 150,
        "start_time": "2021-11-03T10:17:28.134Z"
      },
      {
        "duration": 148,
        "start_time": "2021-11-03T10:17:28.553Z"
      },
      {
        "duration": 81,
        "start_time": "2021-11-03T10:17:29.000Z"
      },
      {
        "duration": 30,
        "start_time": "2021-11-03T10:17:29.454Z"
      },
      {
        "duration": 105,
        "start_time": "2021-11-03T10:17:30.442Z"
      },
      {
        "duration": 1259,
        "start_time": "2021-11-03T10:17:31.278Z"
      },
      {
        "duration": 339,
        "start_time": "2021-11-03T10:17:32.539Z"
      },
      {
        "duration": 567,
        "start_time": "2021-11-03T10:17:32.879Z"
      },
      {
        "duration": 313,
        "start_time": "2021-11-03T10:17:33.859Z"
      },
      {
        "duration": 348,
        "start_time": "2021-11-03T10:17:34.175Z"
      },
      {
        "duration": 560,
        "start_time": "2021-11-03T10:17:34.525Z"
      },
      {
        "duration": 320,
        "start_time": "2021-11-03T10:17:35.087Z"
      },
      {
        "duration": 365,
        "start_time": "2021-11-03T10:17:35.409Z"
      },
      {
        "duration": 1336,
        "start_time": "2021-11-03T10:17:35.777Z"
      },
      {
        "duration": 301,
        "start_time": "2021-11-03T10:17:37.116Z"
      },
      {
        "duration": 25,
        "start_time": "2021-11-03T10:17:50.653Z"
      },
      {
        "duration": 339,
        "start_time": "2021-11-03T10:17:57.265Z"
      },
      {
        "duration": 365,
        "start_time": "2021-11-03T10:18:30.082Z"
      },
      {
        "duration": 399,
        "start_time": "2021-11-03T10:19:19.601Z"
      },
      {
        "duration": 1412,
        "start_time": "2021-11-03T10:19:32.470Z"
      },
      {
        "duration": 975,
        "start_time": "2021-11-03T10:19:34.321Z"
      },
      {
        "duration": 137,
        "start_time": "2021-11-03T10:19:35.298Z"
      },
      {
        "duration": 140,
        "start_time": "2021-11-03T10:19:35.438Z"
      },
      {
        "duration": 181,
        "start_time": "2021-11-03T10:19:35.580Z"
      },
      {
        "duration": 180,
        "start_time": "2021-11-03T10:19:35.763Z"
      },
      {
        "duration": 176,
        "start_time": "2021-11-03T10:19:35.945Z"
      },
      {
        "duration": 100,
        "start_time": "2021-11-03T10:19:36.124Z"
      },
      {
        "duration": 30,
        "start_time": "2021-11-03T10:19:36.226Z"
      },
      {
        "duration": 120,
        "start_time": "2021-11-03T10:19:36.258Z"
      },
      {
        "duration": 1152,
        "start_time": "2021-11-03T10:19:36.619Z"
      },
      {
        "duration": 337,
        "start_time": "2021-11-03T10:19:37.773Z"
      },
      {
        "duration": 544,
        "start_time": "2021-11-03T10:19:38.113Z"
      },
      {
        "duration": 388,
        "start_time": "2021-11-03T10:19:38.659Z"
      },
      {
        "duration": 339,
        "start_time": "2021-11-03T10:19:39.049Z"
      },
      {
        "duration": 546,
        "start_time": "2021-11-03T10:19:39.390Z"
      },
      {
        "duration": 307,
        "start_time": "2021-11-03T10:19:39.938Z"
      },
      {
        "duration": 356,
        "start_time": "2021-11-03T10:19:40.248Z"
      },
      {
        "duration": 1161,
        "start_time": "2021-11-03T10:19:40.606Z"
      },
      {
        "duration": 394,
        "start_time": "2021-11-03T10:19:41.769Z"
      },
      {
        "duration": 23,
        "start_time": "2021-11-03T10:19:52.340Z"
      },
      {
        "duration": 439,
        "start_time": "2021-11-03T10:19:54.520Z"
      },
      {
        "duration": 8,
        "start_time": "2021-11-03T10:20:12.479Z"
      },
      {
        "duration": 7,
        "start_time": "2021-11-03T10:20:51.938Z"
      },
      {
        "duration": 3,
        "start_time": "2021-11-03T10:21:17.298Z"
      },
      {
        "duration": 967,
        "start_time": "2021-11-03T10:21:17.987Z"
      },
      {
        "duration": 138,
        "start_time": "2021-11-03T10:21:18.956Z"
      },
      {
        "duration": 137,
        "start_time": "2021-11-03T10:21:19.343Z"
      },
      {
        "duration": 187,
        "start_time": "2021-11-03T10:21:19.733Z"
      },
      {
        "duration": 164,
        "start_time": "2021-11-03T10:21:20.381Z"
      },
      {
        "duration": 175,
        "start_time": "2021-11-03T10:21:20.886Z"
      },
      {
        "duration": 78,
        "start_time": "2021-11-03T10:21:21.390Z"
      },
      {
        "duration": 32,
        "start_time": "2021-11-03T10:21:21.921Z"
      },
      {
        "duration": 101,
        "start_time": "2021-11-03T10:21:22.930Z"
      },
      {
        "duration": 1255,
        "start_time": "2021-11-03T10:21:23.955Z"
      },
      {
        "duration": 348,
        "start_time": "2021-11-03T10:21:25.213Z"
      },
      {
        "duration": 536,
        "start_time": "2021-11-03T10:21:25.563Z"
      },
      {
        "duration": 319,
        "start_time": "2021-11-03T10:21:26.101Z"
      },
      {
        "duration": 338,
        "start_time": "2021-11-03T10:21:26.422Z"
      },
      {
        "duration": 554,
        "start_time": "2021-11-03T10:21:26.762Z"
      },
      {
        "duration": 324,
        "start_time": "2021-11-03T10:21:27.319Z"
      },
      {
        "duration": 451,
        "start_time": "2021-11-03T10:21:27.645Z"
      },
      {
        "duration": 1225,
        "start_time": "2021-11-03T10:21:28.098Z"
      },
      {
        "duration": 303,
        "start_time": "2021-11-03T10:21:29.325Z"
      },
      {
        "duration": 25,
        "start_time": "2021-11-03T10:21:36.873Z"
      },
      {
        "duration": 27,
        "start_time": "2021-11-03T10:21:49.680Z"
      },
      {
        "duration": 7,
        "start_time": "2021-11-03T10:21:50.669Z"
      },
      {
        "duration": 9,
        "start_time": "2021-11-03T10:21:56.001Z"
      },
      {
        "duration": 423,
        "start_time": "2021-11-03T10:22:13.033Z"
      },
      {
        "duration": 7,
        "start_time": "2021-11-03T10:22:13.567Z"
      },
      {
        "duration": 3,
        "start_time": "2021-11-03T10:22:27.336Z"
      },
      {
        "duration": 1032,
        "start_time": "2021-11-03T10:22:27.484Z"
      },
      {
        "duration": 146,
        "start_time": "2021-11-03T10:22:28.519Z"
      },
      {
        "duration": 151,
        "start_time": "2021-11-03T10:22:28.667Z"
      },
      {
        "duration": 180,
        "start_time": "2021-11-03T10:22:28.821Z"
      },
      {
        "duration": 156,
        "start_time": "2021-11-03T10:22:29.006Z"
      },
      {
        "duration": 171,
        "start_time": "2021-11-03T10:22:29.164Z"
      },
      {
        "duration": 94,
        "start_time": "2021-11-03T10:22:29.337Z"
      },
      {
        "duration": 27,
        "start_time": "2021-11-03T10:22:29.434Z"
      },
      {
        "duration": 133,
        "start_time": "2021-11-03T10:22:29.463Z"
      },
      {
        "duration": 1197,
        "start_time": "2021-11-03T10:22:29.597Z"
      },
      {
        "duration": 391,
        "start_time": "2021-11-03T10:22:30.796Z"
      },
      {
        "duration": 580,
        "start_time": "2021-11-03T10:22:31.190Z"
      },
      {
        "duration": 304,
        "start_time": "2021-11-03T10:22:31.772Z"
      },
      {
        "duration": 422,
        "start_time": "2021-11-03T10:22:32.077Z"
      },
      {
        "duration": 543,
        "start_time": "2021-11-03T10:22:32.501Z"
      },
      {
        "duration": 356,
        "start_time": "2021-11-03T10:22:33.046Z"
      },
      {
        "duration": 381,
        "start_time": "2021-11-03T10:22:33.406Z"
      },
      {
        "duration": 1252,
        "start_time": "2021-11-03T10:22:33.789Z"
      },
      {
        "duration": 301,
        "start_time": "2021-11-03T10:22:35.042Z"
      },
      {
        "duration": 68,
        "start_time": "2021-11-03T10:22:44.511Z"
      },
      {
        "duration": 25,
        "start_time": "2021-11-03T10:22:46.502Z"
      },
      {
        "duration": 58,
        "start_time": "2021-11-03T10:22:48.111Z"
      },
      {
        "duration": 3,
        "start_time": "2021-11-03T10:22:49.094Z"
      },
      {
        "duration": 331783,
        "start_time": "2021-11-03T10:22:50.185Z"
      },
      {
        "duration": 352,
        "start_time": "2021-11-03T10:28:21.970Z"
      },
      {
        "duration": 351,
        "start_time": "2021-11-03T10:28:22.325Z"
      },
      {
        "duration": 75,
        "start_time": "2021-11-03T10:28:57.229Z"
      },
      {
        "duration": 67,
        "start_time": "2021-11-03T10:29:03.211Z"
      },
      {
        "duration": 20,
        "start_time": "2021-11-03T10:29:35.728Z"
      },
      {
        "duration": 824,
        "start_time": "2021-11-03T10:29:50.164Z"
      },
      {
        "duration": -128,
        "start_time": "2021-11-03T10:29:51.119Z"
      },
      {
        "duration": 21,
        "start_time": "2021-11-03T10:30:26.387Z"
      },
      {
        "duration": 24,
        "start_time": "2021-11-03T10:30:29.501Z"
      },
      {
        "duration": 73,
        "start_time": "2021-11-03T10:30:33.871Z"
      },
      {
        "duration": 3,
        "start_time": "2021-11-03T10:30:34.322Z"
      },
      {
        "duration": 325820,
        "start_time": "2021-11-03T10:30:35.053Z"
      },
      {
        "duration": 341,
        "start_time": "2021-11-03T10:36:00.875Z"
      },
      {
        "duration": 22,
        "start_time": "2021-11-03T10:36:01.219Z"
      },
      {
        "duration": 23,
        "start_time": "2021-11-03T10:38:13.031Z"
      },
      {
        "duration": 23,
        "start_time": "2021-11-03T10:38:16.192Z"
      },
      {
        "duration": 63,
        "start_time": "2021-11-03T10:38:20.455Z"
      },
      {
        "duration": 4,
        "start_time": "2021-11-03T10:38:24.303Z"
      },
      {
        "duration": 324539,
        "start_time": "2021-11-03T10:38:25.033Z"
      },
      {
        "duration": 346,
        "start_time": "2021-11-03T10:43:49.574Z"
      },
      {
        "duration": 3,
        "start_time": "2021-11-03T10:43:49.923Z"
      },
      {
        "duration": 110,
        "start_time": "2021-11-03T10:43:49.929Z"
      },
      {
        "duration": 3,
        "start_time": "2021-11-03T10:43:50.041Z"
      },
      {
        "duration": 115614,
        "start_time": "2021-11-03T10:43:50.046Z"
      },
      {
        "duration": 165,
        "start_time": "2021-11-03T10:45:45.661Z"
      },
      {
        "duration": 3,
        "start_time": "2021-11-03T10:46:02.089Z"
      },
      {
        "duration": 344,
        "start_time": "2021-11-03T10:46:02.620Z"
      },
      {
        "duration": 13110,
        "start_time": "2021-11-03T10:47:11.016Z"
      },
      {
        "duration": 750,
        "start_time": "2021-11-03T10:47:29.604Z"
      },
      {
        "duration": 383,
        "start_time": "2021-11-03T10:47:32.123Z"
      },
      {
        "duration": 5,
        "start_time": "2021-11-03T10:47:55.898Z"
      },
      {
        "duration": 124,
        "start_time": "2021-11-03T10:48:00.263Z"
      },
      {
        "duration": 7,
        "start_time": "2021-11-03T10:48:53.176Z"
      },
      {
        "duration": 905,
        "start_time": "2021-11-03T10:49:18.751Z"
      },
      {
        "duration": 352,
        "start_time": "2021-11-03T10:51:01.509Z"
      },
      {
        "duration": 9877,
        "start_time": "2021-11-03T10:51:32.385Z"
      },
      {
        "duration": 339,
        "start_time": "2021-11-03T10:52:58.250Z"
      },
      {
        "duration": 6,
        "start_time": "2021-11-03T10:53:04.266Z"
      },
      {
        "duration": 932,
        "start_time": "2021-11-03T10:53:04.443Z"
      },
      {
        "duration": 134,
        "start_time": "2021-11-03T10:53:05.378Z"
      },
      {
        "duration": 128,
        "start_time": "2021-11-03T10:53:05.515Z"
      },
      {
        "duration": 196,
        "start_time": "2021-11-03T10:53:05.645Z"
      },
      {
        "duration": 153,
        "start_time": "2021-11-03T10:53:05.843Z"
      },
      {
        "duration": 164,
        "start_time": "2021-11-03T10:53:05.998Z"
      },
      {
        "duration": 85,
        "start_time": "2021-11-03T10:53:06.163Z"
      },
      {
        "duration": 32,
        "start_time": "2021-11-03T10:53:06.250Z"
      },
      {
        "duration": 108,
        "start_time": "2021-11-03T10:53:06.284Z"
      },
      {
        "duration": 1108,
        "start_time": "2021-11-03T10:53:06.394Z"
      },
      {
        "duration": 342,
        "start_time": "2021-11-03T10:53:07.504Z"
      },
      {
        "duration": 640,
        "start_time": "2021-11-03T10:53:07.848Z"
      },
      {
        "duration": 310,
        "start_time": "2021-11-03T10:53:08.490Z"
      },
      {
        "duration": 333,
        "start_time": "2021-11-03T10:53:08.806Z"
      },
      {
        "duration": 571,
        "start_time": "2021-11-03T10:53:09.141Z"
      },
      {
        "duration": 315,
        "start_time": "2021-11-03T10:53:09.715Z"
      },
      {
        "duration": 370,
        "start_time": "2021-11-03T10:53:10.032Z"
      },
      {
        "duration": 1158,
        "start_time": "2021-11-03T10:53:10.406Z"
      },
      {
        "duration": 303,
        "start_time": "2021-11-03T10:53:11.566Z"
      },
      {
        "duration": 13,
        "start_time": "2021-11-03T10:53:11.871Z"
      },
      {
        "duration": 432,
        "start_time": "2021-11-03T10:53:11.886Z"
      },
      {
        "duration": 119,
        "start_time": "2021-11-03T10:53:14.152Z"
      },
      {
        "duration": 466,
        "start_time": "2021-11-03T10:53:14.795Z"
      },
      {
        "duration": 3,
        "start_time": "2021-11-03T10:53:15.389Z"
      },
      {
        "duration": 1258,
        "start_time": "2021-11-03T11:03:54.059Z"
      },
      {
        "duration": 1049,
        "start_time": "2021-11-03T11:03:55.321Z"
      },
      {
        "duration": 147,
        "start_time": "2021-11-03T11:03:56.374Z"
      },
      {
        "duration": 138,
        "start_time": "2021-11-03T11:03:56.523Z"
      },
      {
        "duration": 182,
        "start_time": "2021-11-03T11:03:56.663Z"
      },
      {
        "duration": 152,
        "start_time": "2021-11-03T11:03:56.847Z"
      },
      {
        "duration": 153,
        "start_time": "2021-11-03T11:03:57.006Z"
      },
      {
        "duration": 89,
        "start_time": "2021-11-03T11:03:57.161Z"
      },
      {
        "duration": 31,
        "start_time": "2021-11-03T11:03:57.550Z"
      },
      {
        "duration": 102,
        "start_time": "2021-11-03T11:03:58.481Z"
      },
      {
        "duration": 1122,
        "start_time": "2021-11-03T11:03:59.431Z"
      },
      {
        "duration": 351,
        "start_time": "2021-11-03T11:04:00.555Z"
      },
      {
        "duration": 600,
        "start_time": "2021-11-03T11:04:00.909Z"
      },
      {
        "duration": 397,
        "start_time": "2021-11-03T11:04:01.512Z"
      },
      {
        "duration": 341,
        "start_time": "2021-11-03T11:04:01.912Z"
      },
      {
        "duration": 545,
        "start_time": "2021-11-03T11:04:02.256Z"
      },
      {
        "duration": 310,
        "start_time": "2021-11-03T11:04:02.807Z"
      },
      {
        "duration": 371,
        "start_time": "2021-11-03T11:04:03.120Z"
      },
      {
        "duration": 1187,
        "start_time": "2021-11-03T11:04:03.494Z"
      },
      {
        "duration": 315,
        "start_time": "2021-11-03T11:04:04.683Z"
      },
      {
        "duration": 13,
        "start_time": "2021-11-03T11:04:07.037Z"
      },
      {
        "duration": 122,
        "start_time": "2021-11-03T11:04:09.454Z"
      },
      {
        "duration": 5,
        "start_time": "2021-11-03T11:04:12.714Z"
      },
      {
        "duration": 10900,
        "start_time": "2021-11-03T11:04:14.151Z"
      },
      {
        "duration": 370,
        "start_time": "2021-11-03T11:04:25.053Z"
      },
      {
        "duration": 22,
        "start_time": "2021-11-03T11:05:01.131Z"
      },
      {
        "duration": 71,
        "start_time": "2021-11-03T11:05:03.817Z"
      },
      {
        "duration": 3,
        "start_time": "2021-11-03T11:05:04.839Z"
      },
      {
        "duration": 324278,
        "start_time": "2021-11-03T11:05:06.338Z"
      },
      {
        "duration": 314,
        "start_time": "2021-11-03T11:10:30.622Z"
      },
      {
        "duration": 3,
        "start_time": "2021-11-03T11:10:47.676Z"
      },
      {
        "duration": 166796,
        "start_time": "2021-11-03T11:10:48.587Z"
      },
      {
        "duration": 10602,
        "start_time": "2021-11-03T11:15:33.171Z"
      },
      {
        "duration": 389,
        "start_time": "2021-11-03T11:18:17.237Z"
      },
      {
        "duration": 125,
        "start_time": "2021-11-03T11:18:18.690Z"
      },
      {
        "duration": 476,
        "start_time": "2021-11-03T11:18:19.897Z"
      },
      {
        "duration": 3,
        "start_time": "2021-11-03T11:18:21.041Z"
      },
      {
        "duration": 302,
        "start_time": "2021-11-03T11:18:23.335Z"
      },
      {
        "duration": 459,
        "start_time": "2021-11-03T11:18:23.980Z"
      },
      {
        "duration": 59695,
        "start_time": "2021-11-03T11:18:59.973Z"
      },
      {
        "duration": 47,
        "start_time": "2021-11-03T11:19:59.669Z"
      },
      {
        "duration": 1923762,
        "start_time": "2021-11-03T11:20:45.812Z"
      },
      {
        "duration": 3,
        "start_time": "2021-11-03T11:53:30.502Z"
      },
      {
        "duration": 2088633,
        "start_time": "2021-11-03T11:54:06.284Z"
      },
      {
        "duration": 3297,
        "start_time": "2021-11-03T12:28:54.920Z"
      },
      {
        "duration": 3,
        "start_time": "2021-11-03T12:28:58.353Z"
      },
      {
        "duration": 19,
        "start_time": "2021-11-03T12:28:58.358Z"
      },
      {
        "duration": 33341,
        "start_time": "2021-11-03T12:28:58.379Z"
      },
      {
        "duration": 694,
        "start_time": "2021-11-03T12:29:31.722Z"
      },
      {
        "duration": 5,
        "start_time": "2021-11-03T12:36:23.305Z"
      },
      {
        "duration": 24,
        "start_time": "2021-11-03T12:36:35.942Z"
      },
      {
        "duration": 273,
        "start_time": "2021-11-03T12:38:09.179Z"
      },
      {
        "duration": 4,
        "start_time": "2021-11-03T12:40:28.937Z"
      },
      {
        "duration": 235,
        "start_time": "2021-11-03T12:40:29.752Z"
      },
      {
        "duration": 90999,
        "start_time": "2021-11-03T12:40:58.991Z"
      },
      {
        "duration": 231,
        "start_time": "2021-11-03T12:42:29.993Z"
      },
      {
        "duration": 19,
        "start_time": "2021-11-03T12:43:38.609Z"
      },
      {
        "duration": 65,
        "start_time": "2021-11-03T12:43:40.799Z"
      },
      {
        "duration": 5,
        "start_time": "2021-11-03T12:44:00.096Z"
      },
      {
        "duration": 169150,
        "start_time": "2021-11-03T12:44:01.108Z"
      },
      {
        "duration": 180,
        "start_time": "2021-11-03T12:46:50.260Z"
      },
      {
        "duration": 5,
        "start_time": "2021-11-03T12:47:54.217Z"
      },
      {
        "duration": 321828,
        "start_time": "2021-11-03T12:48:06.760Z"
      },
      {
        "duration": 17,
        "start_time": "2021-11-03T12:54:22.362Z"
      },
      {
        "duration": 65,
        "start_time": "2021-11-03T12:54:23.507Z"
      },
      {
        "duration": 3,
        "start_time": "2021-11-03T12:54:26.936Z"
      },
      {
        "duration": 3,
        "start_time": "2021-11-03T12:54:27.595Z"
      },
      {
        "duration": 439,
        "start_time": "2021-11-03T12:54:28.567Z"
      },
      {
        "duration": 3,
        "start_time": "2021-11-03T13:02:59.493Z"
      },
      {
        "duration": 986,
        "start_time": "2021-11-03T13:02:59.917Z"
      },
      {
        "duration": -132,
        "start_time": "2021-11-03T13:03:01.036Z"
      },
      {
        "duration": 386,
        "start_time": "2021-11-03T13:03:07.027Z"
      },
      {
        "duration": 122,
        "start_time": "2021-11-03T13:03:09.287Z"
      },
      {
        "duration": 457,
        "start_time": "2021-11-03T13:03:12.402Z"
      },
      {
        "duration": 3,
        "start_time": "2021-11-03T13:03:13.692Z"
      },
      {
        "duration": 8934,
        "start_time": "2021-11-03T13:03:14.683Z"
      },
      {
        "duration": 689,
        "start_time": "2021-11-03T13:03:23.619Z"
      },
      {
        "duration": 1411,
        "start_time": "2021-11-03T13:03:24.311Z"
      },
      {
        "duration": 346,
        "start_time": "2021-11-03T13:08:32.168Z"
      },
      {
        "duration": 351,
        "start_time": "2021-11-03T13:09:27.521Z"
      },
      {
        "duration": 352,
        "start_time": "2021-11-03T13:09:43.865Z"
      },
      {
        "duration": 1038,
        "start_time": "2021-11-03T13:10:41.791Z"
      },
      {
        "duration": 12013803,
        "start_time": "2021-11-03T13:11:15.202Z"
      },
      {
        "duration": 14724,
        "start_time": "2021-11-03T16:45:59.875Z"
      },
      {
        "duration": 14856837,
        "start_time": "2021-11-03T16:47:24.089Z"
      },
      {
        "duration": 5,
        "start_time": "2021-11-03T21:17:27.564Z"
      },
      {
        "duration": 3,
        "start_time": "2021-11-03T21:18:31.481Z"
      },
      {
        "duration": 3,
        "start_time": "2021-11-03T21:20:41.048Z"
      },
      {
        "duration": 8162,
        "start_time": "2021-11-03T21:20:41.645Z"
      },
      {
        "duration": 229,
        "start_time": "2021-11-03T21:20:49.809Z"
      },
      {
        "duration": 33194,
        "start_time": "2021-11-03T21:21:00.721Z"
      },
      {
        "duration": 2597,
        "start_time": "2021-11-03T21:21:33.917Z"
      },
      {
        "duration": 1335,
        "start_time": "2021-11-04T09:41:43.276Z"
      },
      {
        "duration": 951,
        "start_time": "2021-11-04T09:41:44.613Z"
      },
      {
        "duration": 129,
        "start_time": "2021-11-04T09:41:45.566Z"
      },
      {
        "duration": 124,
        "start_time": "2021-11-04T09:41:47.059Z"
      },
      {
        "duration": 176,
        "start_time": "2021-11-04T09:41:48.381Z"
      },
      {
        "duration": 188,
        "start_time": "2021-11-04T09:41:49.085Z"
      },
      {
        "duration": 158,
        "start_time": "2021-11-04T09:41:50.096Z"
      },
      {
        "duration": 74,
        "start_time": "2021-11-04T09:41:50.869Z"
      },
      {
        "duration": 28,
        "start_time": "2021-11-04T09:41:51.603Z"
      },
      {
        "duration": 104,
        "start_time": "2021-11-04T09:41:52.937Z"
      },
      {
        "duration": 1059,
        "start_time": "2021-11-04T09:41:54.602Z"
      },
      {
        "duration": 316,
        "start_time": "2021-11-04T09:41:55.663Z"
      },
      {
        "duration": 498,
        "start_time": "2021-11-04T09:41:55.981Z"
      },
      {
        "duration": 368,
        "start_time": "2021-11-04T09:41:57.675Z"
      },
      {
        "duration": 304,
        "start_time": "2021-11-04T09:41:58.851Z"
      },
      {
        "duration": 501,
        "start_time": "2021-11-04T09:42:01.275Z"
      },
      {
        "duration": 289,
        "start_time": "2021-11-04T09:42:02.082Z"
      },
      {
        "duration": 437,
        "start_time": "2021-11-04T09:42:03.210Z"
      },
      {
        "duration": 1086,
        "start_time": "2021-11-04T09:42:04.434Z"
      },
      {
        "duration": 270,
        "start_time": "2021-11-04T09:42:06.794Z"
      },
      {
        "duration": 15,
        "start_time": "2021-11-04T09:42:11.959Z"
      },
      {
        "duration": 70,
        "start_time": "2021-11-04T09:42:21.801Z"
      },
      {
        "duration": 68,
        "start_time": "2021-11-04T09:43:28.150Z"
      },
      {
        "duration": 3,
        "start_time": "2021-11-04T09:44:33.388Z"
      },
      {
        "duration": 166107,
        "start_time": "2021-11-04T09:44:35.156Z"
      },
      {
        "duration": 159,
        "start_time": "2021-11-04T09:47:21.265Z"
      },
      {
        "duration": 6,
        "start_time": "2021-11-04T09:47:21.426Z"
      },
      {
        "duration": 3,
        "start_time": "2021-11-04T09:48:28.435Z"
      },
      {
        "duration": 165794,
        "start_time": "2021-11-04T09:48:29.574Z"
      },
      {
        "duration": 148,
        "start_time": "2021-11-04T09:51:15.370Z"
      },
      {
        "duration": 5,
        "start_time": "2021-11-04T09:51:15.520Z"
      },
      {
        "duration": 15278,
        "start_time": "2021-11-04T09:53:32.393Z"
      },
      {
        "duration": 130,
        "start_time": "2021-11-04T09:55:36.024Z"
      },
      {
        "duration": 11241,
        "start_time": "2021-11-04T09:55:46.647Z"
      },
      {
        "duration": 11446,
        "start_time": "2021-11-04T09:56:11.238Z"
      },
      {
        "duration": 11385,
        "start_time": "2021-11-04T09:56:32.792Z"
      },
      {
        "duration": 509921,
        "start_time": "2021-11-04T09:57:09.251Z"
      },
      {
        "duration": 6860822,
        "start_time": "2021-11-04T10:06:05.571Z"
      },
      {
        "duration": 515180,
        "start_time": "2021-11-04T12:00:26.395Z"
      },
      {
        "duration": 311367,
        "start_time": "2021-11-04T12:09:01.577Z"
      },
      {
        "duration": 380,
        "start_time": "2021-11-04T12:14:12.947Z"
      },
      {
        "duration": 124,
        "start_time": "2021-11-04T12:14:13.329Z"
      },
      {
        "duration": 454,
        "start_time": "2021-11-04T12:14:13.455Z"
      },
      {
        "duration": 364,
        "start_time": "2021-11-04T12:14:13.911Z"
      },
      {
        "duration": 85,
        "start_time": "2021-11-04T12:14:14.192Z"
      },
      {
        "duration": 70,
        "start_time": "2021-11-04T12:14:14.208Z"
      },
      {
        "duration": 64,
        "start_time": "2021-11-04T12:14:14.215Z"
      },
      {
        "duration": 60,
        "start_time": "2021-11-04T12:14:14.220Z"
      },
      {
        "duration": 58,
        "start_time": "2021-11-04T12:14:14.224Z"
      },
      {
        "duration": 56,
        "start_time": "2021-11-04T12:14:14.227Z"
      },
      {
        "duration": 54,
        "start_time": "2021-11-04T12:14:14.230Z"
      },
      {
        "duration": 52,
        "start_time": "2021-11-04T12:14:14.233Z"
      },
      {
        "duration": 50,
        "start_time": "2021-11-04T12:14:14.236Z"
      },
      {
        "duration": 20,
        "start_time": "2021-11-04T12:58:56.907Z"
      },
      {
        "duration": 351,
        "start_time": "2021-11-04T12:58:57.842Z"
      },
      {
        "duration": 4,
        "start_time": "2021-11-04T13:01:15.285Z"
      },
      {
        "duration": 3,
        "start_time": "2021-11-04T13:01:16.923Z"
      },
      {
        "duration": 3,
        "start_time": "2021-11-04T13:02:05.799Z"
      },
      {
        "duration": 263,
        "start_time": "2021-11-04T13:02:07.270Z"
      },
      {
        "duration": 14,
        "start_time": "2021-11-04T13:02:28.073Z"
      },
      {
        "duration": 57,
        "start_time": "2021-11-04T13:02:29.337Z"
      },
      {
        "duration": 3,
        "start_time": "2021-11-04T13:02:37.589Z"
      },
      {
        "duration": 142,
        "start_time": "2021-11-04T13:36:36.499Z"
      },
      {
        "duration": 398,
        "start_time": "2021-11-04T13:37:15.562Z"
      },
      {
        "duration": 1292,
        "start_time": "2021-11-04T13:37:50.038Z"
      },
      {
        "duration": 468,
        "start_time": "2021-11-04T13:38:06.430Z"
      },
      {
        "duration": 357,
        "start_time": "2021-11-04T13:38:28.874Z"
      },
      {
        "duration": 5,
        "start_time": "2021-11-04T13:39:05.236Z"
      },
      {
        "duration": 11,
        "start_time": "2021-11-04T13:39:08.562Z"
      },
      {
        "duration": 1283,
        "start_time": "2021-11-04T13:43:12.427Z"
      },
      {
        "duration": 952,
        "start_time": "2021-11-04T13:43:13.712Z"
      },
      {
        "duration": 131,
        "start_time": "2021-11-04T13:43:14.666Z"
      },
      {
        "duration": 132,
        "start_time": "2021-11-04T13:43:14.799Z"
      },
      {
        "duration": 179,
        "start_time": "2021-11-04T13:43:14.933Z"
      },
      {
        "duration": 167,
        "start_time": "2021-11-04T13:43:15.114Z"
      },
      {
        "duration": 174,
        "start_time": "2021-11-04T13:43:15.282Z"
      },
      {
        "duration": 92,
        "start_time": "2021-11-04T13:43:15.458Z"
      },
      {
        "duration": 31,
        "start_time": "2021-11-04T13:43:15.552Z"
      },
      {
        "duration": 165,
        "start_time": "2021-11-04T13:43:15.585Z"
      },
      {
        "duration": 1058,
        "start_time": "2021-11-04T13:43:15.751Z"
      },
      {
        "duration": 315,
        "start_time": "2021-11-04T13:43:16.811Z"
      },
      {
        "duration": 492,
        "start_time": "2021-11-04T13:43:17.127Z"
      },
      {
        "duration": 371,
        "start_time": "2021-11-04T13:43:17.621Z"
      },
      {
        "duration": 314,
        "start_time": "2021-11-04T13:43:17.994Z"
      },
      {
        "duration": 521,
        "start_time": "2021-11-04T13:43:18.310Z"
      },
      {
        "duration": 380,
        "start_time": "2021-11-04T13:43:18.833Z"
      },
      {
        "duration": 339,
        "start_time": "2021-11-04T13:43:19.215Z"
      },
      {
        "duration": 1085,
        "start_time": "2021-11-04T13:43:19.555Z"
      },
      {
        "duration": 280,
        "start_time": "2021-11-04T13:43:20.642Z"
      },
      {
        "duration": 14,
        "start_time": "2021-11-04T13:43:20.924Z"
      },
      {
        "duration": 110,
        "start_time": "2021-11-04T13:43:20.940Z"
      },
      {
        "duration": 9,
        "start_time": "2021-11-04T13:43:21.056Z"
      },
      {
        "duration": 167508,
        "start_time": "2021-11-04T13:43:21.068Z"
      },
      {
        "duration": 144,
        "start_time": "2021-11-04T13:46:08.578Z"
      },
      {
        "duration": 4,
        "start_time": "2021-11-04T13:46:08.724Z"
      },
      {
        "duration": 498432,
        "start_time": "2021-11-04T13:46:08.730Z"
      },
      {
        "duration": 3298030,
        "start_time": "2021-11-04T13:54:27.163Z"
      },
      {
        "duration": 817135,
        "start_time": "2021-11-04T14:49:25.195Z"
      },
      {
        "duration": 492207,
        "start_time": "2021-11-04T15:03:02.332Z"
      },
      {
        "duration": 3,
        "start_time": "2021-11-04T15:11:14.541Z"
      },
      {
        "duration": 1342816,
        "start_time": "2021-11-04T15:11:14.545Z"
      },
      {
        "duration": 752,
        "start_time": "2021-11-04T15:33:37.363Z"
      },
      {
        "duration": 4,
        "start_time": "2021-11-04T15:33:38.117Z"
      },
      {
        "duration": 9,
        "start_time": "2021-11-04T15:33:38.123Z"
      },
      {
        "duration": 446,
        "start_time": "2021-11-04T15:33:38.134Z"
      },
      {
        "duration": 124,
        "start_time": "2021-11-04T15:33:38.582Z"
      },
      {
        "duration": 437,
        "start_time": "2021-11-04T15:33:38.708Z"
      },
      {
        "duration": 4,
        "start_time": "2021-11-04T15:33:39.147Z"
      },
      {
        "duration": 11,
        "start_time": "2021-11-04T15:33:39.153Z"
      },
      {
        "duration": 10,
        "start_time": "2021-11-04T15:33:39.166Z"
      },
      {
        "duration": 11,
        "start_time": "2021-11-04T15:33:39.178Z"
      },
      {
        "duration": 18,
        "start_time": "2021-11-04T15:33:39.191Z"
      },
      {
        "duration": 665,
        "start_time": "2021-11-04T15:40:42.954Z"
      },
      {
        "duration": 388,
        "start_time": "2021-11-04T15:41:06.644Z"
      },
      {
        "duration": 1263,
        "start_time": "2021-11-04T15:41:18.154Z"
      },
      {
        "duration": 1183,
        "start_time": "2021-11-04T15:41:19.419Z"
      },
      {
        "duration": 132,
        "start_time": "2021-11-04T15:41:20.607Z"
      },
      {
        "duration": 136,
        "start_time": "2021-11-04T15:41:20.741Z"
      },
      {
        "duration": 183,
        "start_time": "2021-11-04T15:41:20.878Z"
      },
      {
        "duration": 167,
        "start_time": "2021-11-04T15:41:21.063Z"
      },
      {
        "duration": 180,
        "start_time": "2021-11-04T15:41:21.233Z"
      },
      {
        "duration": 92,
        "start_time": "2021-11-04T15:41:21.415Z"
      },
      {
        "duration": 35,
        "start_time": "2021-11-04T15:41:21.509Z"
      },
      {
        "duration": 156,
        "start_time": "2021-11-04T15:41:21.545Z"
      },
      {
        "duration": 1047,
        "start_time": "2021-11-04T15:41:22.074Z"
      },
      {
        "duration": 328,
        "start_time": "2021-11-04T15:41:23.123Z"
      },
      {
        "duration": 507,
        "start_time": "2021-11-04T15:41:23.453Z"
      },
      {
        "duration": 371,
        "start_time": "2021-11-04T15:41:23.962Z"
      },
      {
        "duration": 314,
        "start_time": "2021-11-04T15:41:24.335Z"
      },
      {
        "duration": 508,
        "start_time": "2021-11-04T15:41:24.651Z"
      },
      {
        "duration": 296,
        "start_time": "2021-11-04T15:41:25.161Z"
      },
      {
        "duration": 344,
        "start_time": "2021-11-04T15:41:25.460Z"
      },
      {
        "duration": 1074,
        "start_time": "2021-11-04T15:41:25.807Z"
      },
      {
        "duration": 273,
        "start_time": "2021-11-04T15:41:26.883Z"
      },
      {
        "duration": 14,
        "start_time": "2021-11-04T15:41:30.268Z"
      },
      {
        "duration": 464,
        "start_time": "2021-11-04T15:41:52.087Z"
      },
      {
        "duration": 4,
        "start_time": "2021-11-04T15:42:16.351Z"
      },
      {
        "duration": 8,
        "start_time": "2021-11-04T15:42:26.965Z"
      },
      {
        "duration": 390,
        "start_time": "2021-11-04T15:42:39.683Z"
      },
      {
        "duration": 120,
        "start_time": "2021-11-04T15:42:40.786Z"
      },
      {
        "duration": 490,
        "start_time": "2021-11-04T15:42:41.727Z"
      },
      {
        "duration": 6,
        "start_time": "2021-11-04T15:42:42.428Z"
      },
      {
        "duration": 4,
        "start_time": "2021-11-04T15:42:42.741Z"
      },
      {
        "duration": 5,
        "start_time": "2021-11-04T15:42:43.036Z"
      },
      {
        "duration": 5,
        "start_time": "2021-11-04T15:42:43.295Z"
      },
      {
        "duration": 3,
        "start_time": "2021-11-04T15:42:43.845Z"
      },
      {
        "duration": 94714,
        "start_time": "2021-11-04T15:42:44.093Z"
      },
      {
        "duration": 36193,
        "start_time": "2021-11-04T15:44:18.810Z"
      },
      {
        "duration": 111067,
        "start_time": "2021-11-04T15:44:55.005Z"
      },
      {
        "duration": 51486,
        "start_time": "2021-11-04T15:46:46.074Z"
      },
      {
        "duration": 95190,
        "start_time": "2021-11-04T15:47:37.563Z"
      },
      {
        "duration": 2,
        "start_time": "2021-11-04T15:49:12.755Z"
      },
      {
        "duration": 29954,
        "start_time": "2021-11-04T15:49:12.759Z"
      },
      {
        "duration": 2096,
        "start_time": "2021-11-04T15:49:42.716Z"
      },
      {
        "duration": 7,
        "start_time": "2021-11-04T15:49:44.815Z"
      },
      {
        "duration": 272675,
        "start_time": "2021-11-04T15:49:44.824Z"
      },
      {
        "duration": 106436,
        "start_time": "2021-11-04T15:54:17.501Z"
      },
      {
        "duration": 138977,
        "start_time": "2021-11-04T15:56:03.939Z"
      },
      {
        "duration": 749,
        "start_time": "2021-11-04T15:58:22.918Z"
      },
      {
        "duration": 7,
        "start_time": "2021-11-04T15:58:23.669Z"
      },
      {
        "duration": 41156,
        "start_time": "2021-11-04T15:58:23.678Z"
      },
      {
        "duration": 44210,
        "start_time": "2021-11-04T15:59:04.836Z"
      },
      {
        "duration": 4142,
        "start_time": "2021-11-04T15:59:49.048Z"
      },
      {
        "duration": 58,
        "start_time": "2021-11-04T15:59:53.192Z"
      },
      {
        "duration": 7,
        "start_time": "2021-11-04T15:59:53.252Z"
      },
      {
        "duration": 11,
        "start_time": "2021-11-04T15:59:53.261Z"
      },
      {
        "duration": 14,
        "start_time": "2021-11-04T15:59:53.273Z"
      },
      {
        "duration": 20,
        "start_time": "2021-11-04T15:59:53.289Z"
      },
      {
        "duration": 40,
        "start_time": "2021-11-04T16:13:10.825Z"
      },
      {
        "duration": 13901,
        "start_time": "2021-11-04T16:14:22.814Z"
      },
      {
        "duration": 4,
        "start_time": "2021-11-04T16:17:17.790Z"
      },
      {
        "duration": 2100,
        "start_time": "2021-11-04T16:18:21.008Z"
      },
      {
        "duration": 7,
        "start_time": "2021-11-04T16:18:35.601Z"
      },
      {
        "duration": 736,
        "start_time": "2021-11-04T16:19:30.998Z"
      },
      {
        "duration": 127682,
        "start_time": "2021-11-04T16:19:46.454Z"
      },
      {
        "duration": 4287,
        "start_time": "2021-11-04T16:21:54.138Z"
      },
      {
        "duration": 47,
        "start_time": "2021-11-04T16:21:58.427Z"
      },
      {
        "duration": 9,
        "start_time": "2021-11-04T16:25:47.245Z"
      },
      {
        "duration": 9,
        "start_time": "2021-11-04T16:26:06.145Z"
      },
      {
        "duration": 8,
        "start_time": "2021-11-04T16:26:13.009Z"
      },
      {
        "duration": 7,
        "start_time": "2021-11-04T16:26:17.906Z"
      },
      {
        "duration": 7,
        "start_time": "2021-11-04T16:26:21.807Z"
      },
      {
        "duration": 10,
        "start_time": "2021-11-04T16:26:27.519Z"
      },
      {
        "duration": 7,
        "start_time": "2021-11-04T16:26:45.225Z"
      },
      {
        "duration": 6,
        "start_time": "2021-11-04T16:26:47.856Z"
      },
      {
        "duration": 6,
        "start_time": "2021-11-04T16:26:50.178Z"
      },
      {
        "duration": 6,
        "start_time": "2021-11-04T16:26:53.193Z"
      },
      {
        "duration": 10,
        "start_time": "2021-11-04T16:26:58.553Z"
      },
      {
        "duration": 4,
        "start_time": "2021-11-04T16:27:27.194Z"
      },
      {
        "duration": 6,
        "start_time": "2021-11-04T16:27:40.201Z"
      },
      {
        "duration": 4,
        "start_time": "2021-11-04T16:27:48.688Z"
      },
      {
        "duration": 7,
        "start_time": "2021-11-04T16:27:53.439Z"
      },
      {
        "duration": 8,
        "start_time": "2021-11-04T16:27:55.930Z"
      },
      {
        "duration": 6,
        "start_time": "2021-11-04T16:27:58.090Z"
      },
      {
        "duration": 7,
        "start_time": "2021-11-04T16:28:00.932Z"
      },
      {
        "duration": 7,
        "start_time": "2021-11-04T16:28:03.313Z"
      },
      {
        "duration": 9,
        "start_time": "2021-11-04T16:28:07.849Z"
      },
      {
        "duration": 3,
        "start_time": "2021-11-04T16:28:24.034Z"
      },
      {
        "duration": 4,
        "start_time": "2021-11-04T16:28:39.822Z"
      },
      {
        "duration": 4,
        "start_time": "2021-11-04T16:28:43.506Z"
      },
      {
        "duration": 7,
        "start_time": "2021-11-04T16:28:49.373Z"
      },
      {
        "duration": 7,
        "start_time": "2021-11-04T16:28:52.445Z"
      },
      {
        "duration": 6,
        "start_time": "2021-11-04T16:28:55.881Z"
      },
      {
        "duration": 7,
        "start_time": "2021-11-04T16:28:59.538Z"
      },
      {
        "duration": 9,
        "start_time": "2021-11-04T16:29:02.130Z"
      },
      {
        "duration": 8,
        "start_time": "2021-11-04T16:30:44.994Z"
      },
      {
        "duration": 9,
        "start_time": "2021-11-04T16:30:52.408Z"
      },
      {
        "duration": 338,
        "start_time": "2021-11-04T16:31:14.535Z"
      },
      {
        "duration": 138,
        "start_time": "2021-11-04T16:32:25.795Z"
      },
      {
        "duration": 124,
        "start_time": "2021-11-04T16:32:38.785Z"
      },
      {
        "duration": 119,
        "start_time": "2021-11-04T16:32:54.329Z"
      },
      {
        "duration": 449,
        "start_time": "2021-11-04T16:33:06.991Z"
      },
      {
        "duration": 4,
        "start_time": "2021-11-04T16:33:12.930Z"
      },
      {
        "duration": 7,
        "start_time": "2021-11-04T16:33:35.548Z"
      },
      {
        "duration": 4,
        "start_time": "2021-11-04T16:34:03.843Z"
      },
      {
        "duration": 7,
        "start_time": "2021-11-04T16:34:07.188Z"
      },
      {
        "duration": 388,
        "start_time": "2021-11-04T16:36:25.636Z"
      },
      {
        "duration": 7,
        "start_time": "2021-11-04T16:37:20.838Z"
      },
      {
        "duration": 8,
        "start_time": "2021-11-04T16:37:32.742Z"
      },
      {
        "duration": 8,
        "start_time": "2021-11-04T16:38:17.717Z"
      },
      {
        "duration": 11,
        "start_time": "2021-11-04T16:38:41.205Z"
      },
      {
        "duration": 5,
        "start_time": "2021-11-04T16:38:53.124Z"
      },
      {
        "duration": 6,
        "start_time": "2021-11-04T16:38:56.355Z"
      },
      {
        "duration": 7,
        "start_time": "2021-11-04T16:38:59.840Z"
      },
      {
        "duration": 130,
        "start_time": "2021-11-04T16:39:05.547Z"
      },
      {
        "duration": 7,
        "start_time": "2021-11-04T16:39:09.395Z"
      },
      {
        "duration": 8,
        "start_time": "2021-11-04T16:39:11.690Z"
      },
      {
        "duration": 8,
        "start_time": "2021-11-04T16:39:40.668Z"
      },
      {
        "duration": 4,
        "start_time": "2021-11-04T16:39:44.879Z"
      },
      {
        "duration": 9,
        "start_time": "2021-11-04T16:39:45.484Z"
      },
      {
        "duration": 8,
        "start_time": "2021-11-04T16:40:20.498Z"
      },
      {
        "duration": 1254,
        "start_time": "2021-11-04T16:54:43.524Z"
      },
      {
        "duration": 937,
        "start_time": "2021-11-04T16:54:44.781Z"
      },
      {
        "duration": 126,
        "start_time": "2021-11-04T16:54:45.720Z"
      },
      {
        "duration": 138,
        "start_time": "2021-11-04T16:54:45.848Z"
      },
      {
        "duration": 173,
        "start_time": "2021-11-04T16:54:45.988Z"
      },
      {
        "duration": 161,
        "start_time": "2021-11-04T16:54:46.163Z"
      },
      {
        "duration": 156,
        "start_time": "2021-11-04T16:54:46.326Z"
      },
      {
        "duration": 79,
        "start_time": "2021-11-04T16:54:46.485Z"
      },
      {
        "duration": 45,
        "start_time": "2021-11-04T16:54:46.566Z"
      },
      {
        "duration": 155,
        "start_time": "2021-11-04T16:54:46.613Z"
      },
      {
        "duration": 1057,
        "start_time": "2021-11-04T16:54:46.769Z"
      },
      {
        "duration": 320,
        "start_time": "2021-11-04T16:54:47.828Z"
      },
      {
        "duration": 512,
        "start_time": "2021-11-04T16:54:48.149Z"
      },
      {
        "duration": 370,
        "start_time": "2021-11-04T16:54:48.663Z"
      },
      {
        "duration": 323,
        "start_time": "2021-11-04T16:54:49.035Z"
      },
      {
        "duration": 523,
        "start_time": "2021-11-04T16:54:49.360Z"
      },
      {
        "duration": 292,
        "start_time": "2021-11-04T16:54:49.885Z"
      },
      {
        "duration": 354,
        "start_time": "2021-11-04T16:54:50.180Z"
      },
      {
        "duration": 1115,
        "start_time": "2021-11-04T16:54:50.536Z"
      },
      {
        "duration": 280,
        "start_time": "2021-11-04T16:54:51.653Z"
      },
      {
        "duration": 13,
        "start_time": "2021-11-04T16:54:51.935Z"
      },
      {
        "duration": 116,
        "start_time": "2021-11-04T16:54:51.950Z"
      },
      {
        "duration": 3,
        "start_time": "2021-11-04T16:54:52.070Z"
      },
      {
        "duration": 164590,
        "start_time": "2021-11-04T16:54:52.076Z"
      },
      {
        "duration": 242,
        "start_time": "2021-11-04T16:57:36.668Z"
      },
      {
        "duration": 6,
        "start_time": "2021-11-04T16:57:36.912Z"
      },
      {
        "duration": 497050,
        "start_time": "2021-11-04T16:57:36.919Z"
      },
      {
        "duration": 3283281,
        "start_time": "2021-11-04T17:05:53.971Z"
      },
      {
        "duration": 829304,
        "start_time": "2021-11-04T18:00:37.254Z"
      },
      {
        "duration": 502866,
        "start_time": "2021-11-04T18:14:26.560Z"
      },
      {
        "duration": 3,
        "start_time": "2021-11-04T18:22:49.428Z"
      },
      {
        "duration": 170639,
        "start_time": "2021-11-04T18:22:49.433Z"
      },
      {
        "duration": 139,
        "start_time": "2021-11-04T18:25:40.073Z"
      },
      {
        "duration": 5,
        "start_time": "2021-11-04T18:25:40.213Z"
      },
      {
        "duration": 19,
        "start_time": "2021-11-04T18:25:40.220Z"
      },
      {
        "duration": 390,
        "start_time": "2021-11-04T18:25:40.240Z"
      },
      {
        "duration": 120,
        "start_time": "2021-11-04T18:25:40.632Z"
      },
      {
        "duration": 424,
        "start_time": "2021-11-04T18:25:40.754Z"
      },
      {
        "duration": 4,
        "start_time": "2021-11-04T18:25:41.180Z"
      },
      {
        "duration": 9,
        "start_time": "2021-11-04T18:25:41.186Z"
      },
      {
        "duration": 13,
        "start_time": "2021-11-04T18:25:41.197Z"
      },
      {
        "duration": 19,
        "start_time": "2021-11-04T18:25:41.211Z"
      },
      {
        "duration": 9,
        "start_time": "2021-11-04T18:25:41.231Z"
      },
      {
        "duration": 65766,
        "start_time": "2021-11-04T18:25:41.242Z"
      },
      {
        "duration": 30152,
        "start_time": "2021-11-04T18:26:47.011Z"
      },
      {
        "duration": 110852,
        "start_time": "2021-11-04T18:27:17.165Z"
      },
      {
        "duration": 22265,
        "start_time": "2021-11-04T18:29:08.019Z"
      },
      {
        "duration": 91307,
        "start_time": "2021-11-04T18:29:30.286Z"
      },
      {
        "duration": 3,
        "start_time": "2021-11-04T18:31:01.595Z"
      },
      {
        "duration": 29819,
        "start_time": "2021-11-04T18:31:01.600Z"
      },
      {
        "duration": 2085,
        "start_time": "2021-11-04T18:31:31.421Z"
      },
      {
        "duration": 2007,
        "start_time": "2021-11-04T18:31:33.508Z"
      },
      {
        "duration": 7,
        "start_time": "2021-11-04T18:31:35.517Z"
      },
      {
        "duration": 269844,
        "start_time": "2021-11-04T18:31:35.525Z"
      },
      {
        "duration": 103027,
        "start_time": "2021-11-04T18:36:05.370Z"
      },
      {
        "duration": 4,
        "start_time": "2021-11-04T18:37:48.399Z"
      },
      {
        "duration": 132428,
        "start_time": "2021-11-04T18:37:48.406Z"
      },
      {
        "duration": 753,
        "start_time": "2021-11-04T18:40:00.836Z"
      },
      {
        "duration": 677,
        "start_time": "2021-11-04T18:40:01.591Z"
      },
      {
        "duration": 6,
        "start_time": "2021-11-04T18:40:02.270Z"
      },
      {
        "duration": 41720,
        "start_time": "2021-11-04T18:40:02.278Z"
      },
      {
        "duration": 45182,
        "start_time": "2021-11-04T18:40:44.000Z"
      },
      {
        "duration": 4,
        "start_time": "2021-11-04T18:41:29.184Z"
      },
      {
        "duration": 4236,
        "start_time": "2021-11-04T18:41:29.190Z"
      },
      {
        "duration": 49,
        "start_time": "2021-11-04T18:41:33.428Z"
      },
      {
        "duration": 62,
        "start_time": "2021-11-04T18:41:33.480Z"
      },
      {
        "duration": 6,
        "start_time": "2021-11-04T18:41:33.544Z"
      },
      {
        "duration": 56,
        "start_time": "2021-11-04T18:41:33.555Z"
      },
      {
        "duration": 270,
        "start_time": "2021-11-04T18:52:25.729Z"
      },
      {
        "duration": 344,
        "start_time": "2021-11-04T18:52:26.372Z"
      },
      {
        "duration": 1307,
        "start_time": "2021-11-04T18:52:54.501Z"
      },
      {
        "duration": 965,
        "start_time": "2021-11-04T18:52:55.810Z"
      },
      {
        "duration": 131,
        "start_time": "2021-11-04T18:52:56.777Z"
      },
      {
        "duration": 136,
        "start_time": "2021-11-04T18:52:56.910Z"
      },
      {
        "duration": 179,
        "start_time": "2021-11-04T18:52:57.048Z"
      },
      {
        "duration": 168,
        "start_time": "2021-11-04T18:52:57.229Z"
      },
      {
        "duration": 182,
        "start_time": "2021-11-04T18:52:57.399Z"
      },
      {
        "duration": 89,
        "start_time": "2021-11-04T18:52:57.584Z"
      },
      {
        "duration": 36,
        "start_time": "2021-11-04T18:52:57.676Z"
      },
      {
        "duration": 152,
        "start_time": "2021-11-04T18:52:57.713Z"
      },
      {
        "duration": 1081,
        "start_time": "2021-11-04T18:52:57.866Z"
      },
      {
        "duration": 333,
        "start_time": "2021-11-04T18:52:58.949Z"
      },
      {
        "duration": 527,
        "start_time": "2021-11-04T18:52:59.284Z"
      },
      {
        "duration": 479,
        "start_time": "2021-11-04T18:52:59.813Z"
      },
      {
        "duration": 334,
        "start_time": "2021-11-04T18:53:00.294Z"
      },
      {
        "duration": 533,
        "start_time": "2021-11-04T18:53:00.631Z"
      },
      {
        "duration": 307,
        "start_time": "2021-11-04T18:53:01.166Z"
      },
      {
        "duration": 354,
        "start_time": "2021-11-04T18:53:01.475Z"
      },
      {
        "duration": 1217,
        "start_time": "2021-11-04T18:53:01.831Z"
      },
      {
        "duration": 285,
        "start_time": "2021-11-04T18:53:03.050Z"
      },
      {
        "duration": 15,
        "start_time": "2021-11-04T18:53:03.338Z"
      },
      {
        "duration": 91,
        "start_time": "2021-11-04T18:53:03.355Z"
      },
      {
        "duration": 3,
        "start_time": "2021-11-04T18:53:03.451Z"
      },
      {
        "duration": 165032,
        "start_time": "2021-11-04T18:53:03.457Z"
      },
      {
        "duration": 222,
        "start_time": "2021-11-04T18:55:48.490Z"
      },
      {
        "duration": 5,
        "start_time": "2021-11-04T18:55:48.714Z"
      },
      {
        "duration": 84433,
        "start_time": "2021-11-04T18:55:48.721Z"
      },
      {
        "duration": -59,
        "start_time": "2021-11-04T18:57:13.215Z"
      },
      {
        "duration": -99,
        "start_time": "2021-11-04T18:57:13.256Z"
      },
      {
        "duration": -136,
        "start_time": "2021-11-04T18:57:13.294Z"
      },
      {
        "duration": -147,
        "start_time": "2021-11-04T18:57:13.306Z"
      },
      {
        "duration": -155,
        "start_time": "2021-11-04T18:57:13.315Z"
      },
      {
        "duration": -162,
        "start_time": "2021-11-04T18:57:13.323Z"
      },
      {
        "duration": -169,
        "start_time": "2021-11-04T18:57:13.331Z"
      },
      {
        "duration": -177,
        "start_time": "2021-11-04T18:57:13.340Z"
      },
      {
        "duration": -185,
        "start_time": "2021-11-04T18:57:13.349Z"
      },
      {
        "duration": -192,
        "start_time": "2021-11-04T18:57:13.357Z"
      },
      {
        "duration": -468,
        "start_time": "2021-11-04T18:57:13.634Z"
      },
      {
        "duration": -598,
        "start_time": "2021-11-04T18:57:13.764Z"
      },
      {
        "duration": -602,
        "start_time": "2021-11-04T18:57:13.769Z"
      },
      {
        "duration": -608,
        "start_time": "2021-11-04T18:57:13.776Z"
      },
      {
        "duration": -613,
        "start_time": "2021-11-04T18:57:13.782Z"
      },
      {
        "duration": -618,
        "start_time": "2021-11-04T18:57:13.788Z"
      },
      {
        "duration": -623,
        "start_time": "2021-11-04T18:57:13.794Z"
      },
      {
        "duration": -630,
        "start_time": "2021-11-04T18:57:13.801Z"
      },
      {
        "duration": -634,
        "start_time": "2021-11-04T18:57:13.806Z"
      },
      {
        "duration": -640,
        "start_time": "2021-11-04T18:57:13.813Z"
      },
      {
        "duration": -644,
        "start_time": "2021-11-04T18:57:13.818Z"
      },
      {
        "duration": -649,
        "start_time": "2021-11-04T18:57:13.824Z"
      },
      {
        "duration": -655,
        "start_time": "2021-11-04T18:57:13.831Z"
      },
      {
        "duration": -660,
        "start_time": "2021-11-04T18:57:13.837Z"
      },
      {
        "duration": -664,
        "start_time": "2021-11-04T18:57:13.842Z"
      },
      {
        "duration": -672,
        "start_time": "2021-11-04T18:57:13.850Z"
      },
      {
        "duration": -677,
        "start_time": "2021-11-04T18:57:13.856Z"
      },
      {
        "duration": -684,
        "start_time": "2021-11-04T18:57:13.864Z"
      },
      {
        "duration": -706,
        "start_time": "2021-11-04T18:57:13.887Z"
      },
      {
        "duration": -717,
        "start_time": "2021-11-04T18:57:13.899Z"
      },
      {
        "duration": -725,
        "start_time": "2021-11-04T18:57:13.907Z"
      },
      {
        "duration": -735,
        "start_time": "2021-11-04T18:57:13.918Z"
      },
      {
        "duration": -742,
        "start_time": "2021-11-04T18:57:13.926Z"
      },
      {
        "duration": -753,
        "start_time": "2021-11-04T18:57:13.938Z"
      },
      {
        "duration": -760,
        "start_time": "2021-11-04T18:57:13.946Z"
      },
      {
        "duration": -768,
        "start_time": "2021-11-04T18:57:13.955Z"
      },
      {
        "duration": -775,
        "start_time": "2021-11-04T18:57:13.963Z"
      },
      {
        "duration": -794,
        "start_time": "2021-11-04T18:57:13.983Z"
      },
      {
        "duration": -815,
        "start_time": "2021-11-04T18:57:14.005Z"
      },
      {
        "duration": -822,
        "start_time": "2021-11-04T18:57:14.013Z"
      },
      {
        "duration": -826,
        "start_time": "2021-11-04T18:57:14.018Z"
      },
      {
        "duration": -831,
        "start_time": "2021-11-04T18:57:14.024Z"
      },
      {
        "duration": -837,
        "start_time": "2021-11-04T18:57:14.031Z"
      },
      {
        "duration": -834,
        "start_time": "2021-11-04T18:57:14.040Z"
      },
      {
        "duration": 1251,
        "start_time": "2021-11-04T18:58:40.342Z"
      },
      {
        "duration": 982,
        "start_time": "2021-11-04T18:58:41.595Z"
      },
      {
        "duration": 140,
        "start_time": "2021-11-04T18:58:42.579Z"
      },
      {
        "duration": 134,
        "start_time": "2021-11-04T18:58:42.720Z"
      },
      {
        "duration": 177,
        "start_time": "2021-11-04T18:58:42.856Z"
      },
      {
        "duration": 179,
        "start_time": "2021-11-04T18:58:43.035Z"
      },
      {
        "duration": 169,
        "start_time": "2021-11-04T18:58:43.216Z"
      },
      {
        "duration": 83,
        "start_time": "2021-11-04T18:58:43.388Z"
      },
      {
        "duration": 41,
        "start_time": "2021-11-04T18:58:43.473Z"
      },
      {
        "duration": 154,
        "start_time": "2021-11-04T18:58:43.516Z"
      },
      {
        "duration": 1073,
        "start_time": "2021-11-04T18:58:43.672Z"
      },
      {
        "duration": 323,
        "start_time": "2021-11-04T18:58:44.747Z"
      },
      {
        "duration": 507,
        "start_time": "2021-11-04T18:58:45.072Z"
      },
      {
        "duration": 368,
        "start_time": "2021-11-04T18:58:45.581Z"
      },
      {
        "duration": 330,
        "start_time": "2021-11-04T18:58:45.951Z"
      },
      {
        "duration": 514,
        "start_time": "2021-11-04T18:58:46.283Z"
      },
      {
        "duration": 285,
        "start_time": "2021-11-04T18:58:46.806Z"
      },
      {
        "duration": 341,
        "start_time": "2021-11-04T18:58:47.092Z"
      },
      {
        "duration": 1096,
        "start_time": "2021-11-04T18:58:47.435Z"
      },
      {
        "duration": 276,
        "start_time": "2021-11-04T18:58:48.533Z"
      },
      {
        "duration": 14,
        "start_time": "2021-11-04T18:58:48.810Z"
      },
      {
        "duration": 82,
        "start_time": "2021-11-04T18:58:48.826Z"
      },
      {
        "duration": 3,
        "start_time": "2021-11-04T18:58:48.912Z"
      },
      {
        "duration": 165146,
        "start_time": "2021-11-04T18:58:48.917Z"
      },
      {
        "duration": 159,
        "start_time": "2021-11-04T19:01:34.065Z"
      },
      {
        "duration": 83,
        "start_time": "2021-11-04T19:01:34.226Z"
      },
      {
        "duration": 20324,
        "start_time": "2021-11-04T19:01:34.311Z"
      },
      {
        "duration": -476,
        "start_time": "2021-11-04T19:01:55.114Z"
      },
      {
        "duration": -546,
        "start_time": "2021-11-04T19:01:55.186Z"
      },
      {
        "duration": -551,
        "start_time": "2021-11-04T19:01:55.192Z"
      },
      {
        "duration": -567,
        "start_time": "2021-11-04T19:01:55.210Z"
      },
      {
        "duration": -621,
        "start_time": "2021-11-04T19:01:55.265Z"
      },
      {
        "duration": -629,
        "start_time": "2021-11-04T19:01:55.275Z"
      },
      {
        "duration": -633,
        "start_time": "2021-11-04T19:01:55.280Z"
      },
      {
        "duration": -636,
        "start_time": "2021-11-04T19:01:55.285Z"
      },
      {
        "duration": -640,
        "start_time": "2021-11-04T19:01:55.291Z"
      },
      {
        "duration": -645,
        "start_time": "2021-11-04T19:01:55.297Z"
      },
      {
        "duration": -648,
        "start_time": "2021-11-04T19:01:55.302Z"
      },
      {
        "duration": -652,
        "start_time": "2021-11-04T19:01:55.307Z"
      },
      {
        "duration": -654,
        "start_time": "2021-11-04T19:01:55.312Z"
      },
      {
        "duration": -659,
        "start_time": "2021-11-04T19:01:55.318Z"
      },
      {
        "duration": -664,
        "start_time": "2021-11-04T19:01:55.325Z"
      },
      {
        "duration": -670,
        "start_time": "2021-11-04T19:01:55.332Z"
      },
      {
        "duration": -675,
        "start_time": "2021-11-04T19:01:55.339Z"
      },
      {
        "duration": -688,
        "start_time": "2021-11-04T19:01:55.354Z"
      },
      {
        "duration": -696,
        "start_time": "2021-11-04T19:01:55.363Z"
      },
      {
        "duration": -744,
        "start_time": "2021-11-04T19:01:55.413Z"
      },
      {
        "duration": -750,
        "start_time": "2021-11-04T19:01:55.420Z"
      },
      {
        "duration": -759,
        "start_time": "2021-11-04T19:01:55.431Z"
      },
      {
        "duration": -766,
        "start_time": "2021-11-04T19:01:55.440Z"
      },
      {
        "duration": -744,
        "start_time": "2021-11-04T19:01:55.450Z"
      },
      {
        "duration": -748,
        "start_time": "2021-11-04T19:01:55.456Z"
      },
      {
        "duration": -756,
        "start_time": "2021-11-04T19:01:55.466Z"
      },
      {
        "duration": -761,
        "start_time": "2021-11-04T19:01:55.472Z"
      },
      {
        "duration": -767,
        "start_time": "2021-11-04T19:01:55.480Z"
      },
      {
        "duration": -772,
        "start_time": "2021-11-04T19:01:55.486Z"
      },
      {
        "duration": -781,
        "start_time": "2021-11-04T19:01:55.497Z"
      },
      {
        "duration": -787,
        "start_time": "2021-11-04T19:01:55.505Z"
      },
      {
        "duration": -806,
        "start_time": "2021-11-04T19:01:55.525Z"
      },
      {
        "duration": -811,
        "start_time": "2021-11-04T19:01:55.532Z"
      },
      {
        "duration": -816,
        "start_time": "2021-11-04T19:01:55.538Z"
      },
      {
        "duration": -820,
        "start_time": "2021-11-04T19:01:55.544Z"
      },
      {
        "duration": -828,
        "start_time": "2021-11-04T19:01:55.553Z"
      },
      {
        "duration": -832,
        "start_time": "2021-11-04T19:01:55.559Z"
      },
      {
        "duration": -837,
        "start_time": "2021-11-04T19:01:55.565Z"
      },
      {
        "duration": -841,
        "start_time": "2021-11-04T19:01:55.571Z"
      },
      {
        "duration": -847,
        "start_time": "2021-11-04T19:01:55.578Z"
      },
      {
        "duration": -850,
        "start_time": "2021-11-04T19:01:55.583Z"
      },
      {
        "duration": -857,
        "start_time": "2021-11-04T19:01:55.591Z"
      },
      {
        "duration": -861,
        "start_time": "2021-11-04T19:01:55.597Z"
      },
      {
        "duration": -867,
        "start_time": "2021-11-04T19:01:55.605Z"
      },
      {
        "duration": 1256,
        "start_time": "2021-11-04T19:02:14.946Z"
      },
      {
        "duration": 930,
        "start_time": "2021-11-04T19:02:16.206Z"
      },
      {
        "duration": 127,
        "start_time": "2021-11-04T19:02:17.138Z"
      },
      {
        "duration": 130,
        "start_time": "2021-11-04T19:02:17.267Z"
      },
      {
        "duration": 171,
        "start_time": "2021-11-04T19:02:17.398Z"
      },
      {
        "duration": 154,
        "start_time": "2021-11-04T19:02:17.571Z"
      },
      {
        "duration": 152,
        "start_time": "2021-11-04T19:02:17.727Z"
      },
      {
        "duration": 78,
        "start_time": "2021-11-04T19:02:17.881Z"
      },
      {
        "duration": 27,
        "start_time": "2021-11-04T19:02:17.962Z"
      },
      {
        "duration": 155,
        "start_time": "2021-11-04T19:02:17.991Z"
      },
      {
        "duration": 1064,
        "start_time": "2021-11-04T19:02:18.147Z"
      },
      {
        "duration": 320,
        "start_time": "2021-11-04T19:02:19.213Z"
      },
      {
        "duration": 503,
        "start_time": "2021-11-04T19:02:19.534Z"
      },
      {
        "duration": 361,
        "start_time": "2021-11-04T19:02:20.039Z"
      },
      {
        "duration": 312,
        "start_time": "2021-11-04T19:02:20.406Z"
      },
      {
        "duration": 515,
        "start_time": "2021-11-04T19:02:20.720Z"
      },
      {
        "duration": 300,
        "start_time": "2021-11-04T19:02:21.237Z"
      },
      {
        "duration": 337,
        "start_time": "2021-11-04T19:02:21.539Z"
      },
      {
        "duration": 1093,
        "start_time": "2021-11-04T19:02:21.878Z"
      },
      {
        "duration": 280,
        "start_time": "2021-11-04T19:02:22.973Z"
      },
      {
        "duration": 13,
        "start_time": "2021-11-04T19:02:23.254Z"
      },
      {
        "duration": 76,
        "start_time": "2021-11-04T19:02:23.269Z"
      },
      {
        "duration": 3,
        "start_time": "2021-11-04T19:02:23.349Z"
      },
      {
        "duration": 167509,
        "start_time": "2021-11-04T19:02:23.354Z"
      },
      {
        "duration": 246,
        "start_time": "2021-11-04T19:05:10.865Z"
      },
      {
        "duration": 7,
        "start_time": "2021-11-04T19:05:11.113Z"
      },
      {
        "duration": 497654,
        "start_time": "2021-11-04T19:05:11.122Z"
      },
      {
        "duration": 181618,
        "start_time": "2021-11-04T19:13:28.777Z"
      },
      {
        "duration": 55396,
        "start_time": "2021-11-04T19:16:30.396Z"
      },
      {
        "duration": 35996,
        "start_time": "2021-11-04T19:17:25.793Z"
      },
      {
        "duration": 3,
        "start_time": "2021-11-04T19:18:01.790Z"
      },
      {
        "duration": 10878,
        "start_time": "2021-11-04T19:18:01.795Z"
      },
      {
        "duration": 82,
        "start_time": "2021-11-04T19:18:12.675Z"
      },
      {
        "duration": 5,
        "start_time": "2021-11-04T19:18:12.759Z"
      },
      {
        "duration": 44,
        "start_time": "2021-11-04T19:18:12.765Z"
      },
      {
        "duration": 401,
        "start_time": "2021-11-04T19:18:12.811Z"
      },
      {
        "duration": 120,
        "start_time": "2021-11-04T19:18:13.214Z"
      },
      {
        "duration": 444,
        "start_time": "2021-11-04T19:18:13.336Z"
      },
      {
        "duration": 3,
        "start_time": "2021-11-04T19:18:13.782Z"
      },
      {
        "duration": 10,
        "start_time": "2021-11-04T19:18:13.787Z"
      },
      {
        "duration": 5,
        "start_time": "2021-11-04T19:18:13.806Z"
      },
      {
        "duration": 8,
        "start_time": "2021-11-04T19:18:13.813Z"
      },
      {
        "duration": 7,
        "start_time": "2021-11-04T19:18:13.823Z"
      },
      {
        "duration": 1327,
        "start_time": "2021-11-04T19:21:24.230Z"
      },
      {
        "duration": 977,
        "start_time": "2021-11-04T19:21:25.559Z"
      },
      {
        "duration": 132,
        "start_time": "2021-11-04T19:21:26.539Z"
      },
      {
        "duration": 132,
        "start_time": "2021-11-04T19:21:26.673Z"
      },
      {
        "duration": 179,
        "start_time": "2021-11-04T19:21:26.807Z"
      },
      {
        "duration": 178,
        "start_time": "2021-11-04T19:21:26.988Z"
      },
      {
        "duration": 184,
        "start_time": "2021-11-04T19:21:27.169Z"
      },
      {
        "duration": 88,
        "start_time": "2021-11-04T19:21:27.354Z"
      },
      {
        "duration": 35,
        "start_time": "2021-11-04T19:21:27.445Z"
      },
      {
        "duration": 179,
        "start_time": "2021-11-04T19:21:27.483Z"
      },
      {
        "duration": 1219,
        "start_time": "2021-11-04T19:21:27.663Z"
      },
      {
        "duration": 467,
        "start_time": "2021-11-04T19:21:28.885Z"
      },
      {
        "duration": 803,
        "start_time": "2021-11-04T19:21:29.354Z"
      },
      {
        "duration": 570,
        "start_time": "2021-11-04T19:21:30.160Z"
      },
      {
        "duration": 399,
        "start_time": "2021-11-04T19:21:30.732Z"
      },
      {
        "duration": 525,
        "start_time": "2021-11-04T19:21:31.133Z"
      },
      {
        "duration": 300,
        "start_time": "2021-11-04T19:21:31.661Z"
      },
      {
        "duration": 358,
        "start_time": "2021-11-04T19:21:31.963Z"
      },
      {
        "duration": 1096,
        "start_time": "2021-11-04T19:21:32.323Z"
      },
      {
        "duration": 285,
        "start_time": "2021-11-04T19:21:33.421Z"
      },
      {
        "duration": 14,
        "start_time": "2021-11-04T19:21:33.708Z"
      },
      {
        "duration": 87,
        "start_time": "2021-11-04T19:21:33.724Z"
      },
      {
        "duration": 3,
        "start_time": "2021-11-04T19:21:33.813Z"
      },
      {
        "duration": 162148,
        "start_time": "2021-11-04T19:21:33.817Z"
      },
      {
        "duration": 246,
        "start_time": "2021-11-04T19:24:15.966Z"
      },
      {
        "duration": 5,
        "start_time": "2021-11-04T19:24:16.214Z"
      },
      {
        "duration": 493020,
        "start_time": "2021-11-04T19:24:16.224Z"
      },
      {
        "duration": 179151,
        "start_time": "2021-11-04T19:32:29.246Z"
      },
      {
        "duration": 55470,
        "start_time": "2021-11-04T19:35:28.399Z"
      },
      {
        "duration": 33539,
        "start_time": "2021-11-04T19:36:23.871Z"
      },
      {
        "duration": 3,
        "start_time": "2021-11-04T19:36:57.412Z"
      },
      {
        "duration": 1356774,
        "start_time": "2021-11-04T19:36:57.417Z"
      },
      {
        "duration": 630,
        "start_time": "2021-11-04T19:59:34.193Z"
      },
      {
        "duration": 518,
        "start_time": "2021-11-04T19:59:34.825Z"
      },
      {
        "duration": 230,
        "start_time": "2021-11-04T19:59:35.116Z"
      },
      {
        "duration": 218,
        "start_time": "2021-11-04T19:59:35.129Z"
      },
      {
        "duration": 191,
        "start_time": "2021-11-04T19:59:35.158Z"
      },
      {
        "duration": 173,
        "start_time": "2021-11-04T19:59:35.177Z"
      },
      {
        "duration": 169,
        "start_time": "2021-11-04T19:59:35.183Z"
      },
      {
        "duration": 164,
        "start_time": "2021-11-04T19:59:35.190Z"
      },
      {
        "duration": 159,
        "start_time": "2021-11-04T19:59:35.196Z"
      },
      {
        "duration": 154,
        "start_time": "2021-11-04T19:59:35.203Z"
      },
      {
        "duration": 150,
        "start_time": "2021-11-04T19:59:35.208Z"
      },
      {
        "duration": 146,
        "start_time": "2021-11-04T19:59:35.214Z"
      },
      {
        "duration": 137,
        "start_time": "2021-11-04T19:59:35.224Z"
      },
      {
        "duration": 129,
        "start_time": "2021-11-04T19:59:35.233Z"
      },
      {
        "duration": 122,
        "start_time": "2021-11-04T19:59:35.241Z"
      },
      {
        "duration": 114,
        "start_time": "2021-11-04T19:59:35.250Z"
      },
      {
        "duration": 107,
        "start_time": "2021-11-04T19:59:35.259Z"
      },
      {
        "duration": 100,
        "start_time": "2021-11-04T19:59:35.267Z"
      },
      {
        "duration": 95,
        "start_time": "2021-11-04T19:59:35.273Z"
      },
      {
        "duration": 68,
        "start_time": "2021-11-04T19:59:35.301Z"
      },
      {
        "duration": -312,
        "start_time": "2021-11-04T19:59:35.682Z"
      },
      {
        "duration": -331,
        "start_time": "2021-11-04T19:59:35.702Z"
      },
      {
        "duration": -336,
        "start_time": "2021-11-04T19:59:35.709Z"
      },
      {
        "duration": -343,
        "start_time": "2021-11-04T19:59:35.717Z"
      },
      {
        "duration": -349,
        "start_time": "2021-11-04T19:59:35.724Z"
      },
      {
        "duration": -374,
        "start_time": "2021-11-04T19:59:35.750Z"
      },
      {
        "duration": -381,
        "start_time": "2021-11-04T19:59:35.758Z"
      },
      {
        "duration": -387,
        "start_time": "2021-11-04T19:59:35.765Z"
      },
      {
        "duration": -392,
        "start_time": "2021-11-04T19:59:35.771Z"
      },
      {
        "duration": -397,
        "start_time": "2021-11-04T19:59:35.777Z"
      },
      {
        "duration": -402,
        "start_time": "2021-11-04T19:59:35.783Z"
      },
      {
        "duration": -412,
        "start_time": "2021-11-04T19:59:35.794Z"
      },
      {
        "duration": -446,
        "start_time": "2021-11-04T19:59:35.829Z"
      },
      {
        "duration": -452,
        "start_time": "2021-11-04T19:59:35.836Z"
      },
      {
        "duration": -437,
        "start_time": "2021-11-04T19:59:35.843Z"
      },
      {
        "duration": -466,
        "start_time": "2021-11-04T19:59:35.874Z"
      },
      {
        "duration": -503,
        "start_time": "2021-11-04T19:59:35.912Z"
      },
      {
        "duration": -538,
        "start_time": "2021-11-04T19:59:35.948Z"
      },
      {
        "duration": -556,
        "start_time": "2021-11-04T19:59:35.967Z"
      },
      {
        "duration": 666,
        "start_time": "2021-11-04T20:00:15.971Z"
      },
      {
        "duration": 68,
        "start_time": "2021-11-04T20:00:16.639Z"
      },
      {
        "duration": 4,
        "start_time": "2021-11-04T20:00:16.709Z"
      },
      {
        "duration": 393,
        "start_time": "2021-11-04T20:00:16.715Z"
      },
      {
        "duration": 124,
        "start_time": "2021-11-04T20:00:17.110Z"
      },
      {
        "duration": 426,
        "start_time": "2021-11-04T20:00:17.236Z"
      },
      {
        "duration": 4,
        "start_time": "2021-11-04T20:00:17.663Z"
      },
      {
        "duration": 6,
        "start_time": "2021-11-04T20:00:17.669Z"
      },
      {
        "duration": 4,
        "start_time": "2021-11-04T20:00:17.677Z"
      },
      {
        "duration": 25,
        "start_time": "2021-11-04T20:00:17.683Z"
      },
      {
        "duration": 5,
        "start_time": "2021-11-04T20:00:17.710Z"
      },
      {
        "duration": 370,
        "start_time": "2021-11-04T20:02:46.552Z"
      },
      {
        "duration": 305,
        "start_time": "2021-11-04T20:02:46.619Z"
      },
      {
        "duration": 298,
        "start_time": "2021-11-04T20:02:46.628Z"
      },
      {
        "duration": 290,
        "start_time": "2021-11-04T20:02:46.636Z"
      },
      {
        "duration": 282,
        "start_time": "2021-11-04T20:02:46.645Z"
      },
      {
        "duration": 260,
        "start_time": "2021-11-04T20:02:46.668Z"
      },
      {
        "duration": 254,
        "start_time": "2021-11-04T20:02:46.675Z"
      },
      {
        "duration": 248,
        "start_time": "2021-11-04T20:02:46.682Z"
      },
      {
        "duration": 240,
        "start_time": "2021-11-04T20:02:46.691Z"
      },
      {
        "duration": 234,
        "start_time": "2021-11-04T20:02:46.698Z"
      },
      {
        "duration": 228,
        "start_time": "2021-11-04T20:02:46.705Z"
      },
      {
        "duration": 219,
        "start_time": "2021-11-04T20:02:46.715Z"
      },
      {
        "duration": 213,
        "start_time": "2021-11-04T20:02:46.722Z"
      },
      {
        "duration": 204,
        "start_time": "2021-11-04T20:02:46.732Z"
      },
      {
        "duration": 193,
        "start_time": "2021-11-04T20:02:46.744Z"
      },
      {
        "duration": 185,
        "start_time": "2021-11-04T20:02:46.753Z"
      },
      {
        "duration": 179,
        "start_time": "2021-11-04T20:02:46.760Z"
      },
      {
        "duration": 157,
        "start_time": "2021-11-04T20:02:46.783Z"
      },
      {
        "duration": 149,
        "start_time": "2021-11-04T20:02:46.791Z"
      },
      {
        "duration": 143,
        "start_time": "2021-11-04T20:02:46.799Z"
      },
      {
        "duration": 133,
        "start_time": "2021-11-04T20:02:46.809Z"
      },
      {
        "duration": 126,
        "start_time": "2021-11-04T20:02:46.817Z"
      },
      {
        "duration": 119,
        "start_time": "2021-11-04T20:02:46.825Z"
      },
      {
        "duration": 111,
        "start_time": "2021-11-04T20:02:46.834Z"
      },
      {
        "duration": 102,
        "start_time": "2021-11-04T20:02:46.844Z"
      },
      {
        "duration": 94,
        "start_time": "2021-11-04T20:02:46.853Z"
      },
      {
        "duration": 87,
        "start_time": "2021-11-04T20:02:46.861Z"
      },
      {
        "duration": 81,
        "start_time": "2021-11-04T20:02:46.868Z"
      },
      {
        "duration": 1278,
        "start_time": "2021-11-04T20:03:06.869Z"
      },
      {
        "duration": 1048,
        "start_time": "2021-11-04T20:03:08.150Z"
      },
      {
        "duration": 139,
        "start_time": "2021-11-04T20:03:09.200Z"
      },
      {
        "duration": 202,
        "start_time": "2021-11-04T20:03:09.341Z"
      },
      {
        "duration": 212,
        "start_time": "2021-11-04T20:03:09.546Z"
      },
      {
        "duration": 286,
        "start_time": "2021-11-04T20:03:09.760Z"
      },
      {
        "duration": 191,
        "start_time": "2021-11-04T20:03:10.048Z"
      },
      {
        "duration": 98,
        "start_time": "2021-11-04T20:03:10.242Z"
      },
      {
        "duration": 29,
        "start_time": "2021-11-04T20:03:10.342Z"
      },
      {
        "duration": 177,
        "start_time": "2021-11-04T20:03:10.373Z"
      },
      {
        "duration": 1332,
        "start_time": "2021-11-04T20:03:10.552Z"
      },
      {
        "duration": 344,
        "start_time": "2021-11-04T20:03:11.886Z"
      },
      {
        "duration": 660,
        "start_time": "2021-11-04T20:03:12.231Z"
      },
      {
        "duration": 378,
        "start_time": "2021-11-04T20:03:12.893Z"
      },
      {
        "duration": 305,
        "start_time": "2021-11-04T20:03:13.273Z"
      },
      {
        "duration": 493,
        "start_time": "2021-11-04T20:03:13.579Z"
      },
      {
        "duration": 293,
        "start_time": "2021-11-04T20:03:14.074Z"
      },
      {
        "duration": 333,
        "start_time": "2021-11-04T20:03:14.368Z"
      },
      {
        "duration": 1059,
        "start_time": "2021-11-04T20:03:14.706Z"
      },
      {
        "duration": 280,
        "start_time": "2021-11-04T20:03:15.766Z"
      },
      {
        "duration": 18,
        "start_time": "2021-11-04T20:03:16.048Z"
      },
      {
        "duration": 100,
        "start_time": "2021-11-04T20:03:16.068Z"
      },
      {
        "duration": 3,
        "start_time": "2021-11-04T20:03:16.173Z"
      },
      {
        "duration": 164487,
        "start_time": "2021-11-04T20:03:16.179Z"
      },
      {
        "duration": 157,
        "start_time": "2021-11-04T20:06:00.668Z"
      },
      {
        "duration": 82,
        "start_time": "2021-11-04T20:06:00.827Z"
      },
      {
        "duration": 497678,
        "start_time": "2021-11-04T20:06:00.910Z"
      },
      {
        "duration": 180280,
        "start_time": "2021-11-04T20:14:18.590Z"
      },
      {
        "duration": 55381,
        "start_time": "2021-11-04T20:17:18.872Z"
      },
      {
        "duration": 33359,
        "start_time": "2021-11-04T20:18:14.255Z"
      },
      {
        "duration": 3,
        "start_time": "2021-11-04T20:18:47.617Z"
      },
      {
        "duration": 1351062,
        "start_time": "2021-11-04T20:18:47.622Z"
      },
      {
        "duration": 724,
        "start_time": "2021-11-04T20:41:18.686Z"
      },
      {
        "duration": 4,
        "start_time": "2021-11-04T20:41:19.412Z"
      },
      {
        "duration": 9,
        "start_time": "2021-11-04T20:41:19.418Z"
      },
      {
        "duration": 430,
        "start_time": "2021-11-04T20:41:19.429Z"
      },
      {
        "duration": 127,
        "start_time": "2021-11-04T20:41:19.861Z"
      },
      {
        "duration": 429,
        "start_time": "2021-11-04T20:41:19.990Z"
      },
      {
        "duration": 3,
        "start_time": "2021-11-04T20:41:20.421Z"
      },
      {
        "duration": 25,
        "start_time": "2021-11-04T20:41:20.426Z"
      },
      {
        "duration": 6,
        "start_time": "2021-11-04T20:41:20.453Z"
      },
      {
        "duration": 19,
        "start_time": "2021-11-04T20:41:20.460Z"
      },
      {
        "duration": 17,
        "start_time": "2021-11-04T20:41:20.481Z"
      },
      {
        "duration": 388,
        "start_time": "2021-11-04T20:42:33.601Z"
      },
      {
        "duration": 1311,
        "start_time": "2021-11-04T20:44:00.589Z"
      },
      {
        "duration": 956,
        "start_time": "2021-11-04T20:44:01.903Z"
      },
      {
        "duration": 128,
        "start_time": "2021-11-04T20:44:02.861Z"
      },
      {
        "duration": 134,
        "start_time": "2021-11-04T20:44:02.991Z"
      },
      {
        "duration": 176,
        "start_time": "2021-11-04T20:44:03.127Z"
      },
      {
        "duration": 170,
        "start_time": "2021-11-04T20:44:03.306Z"
      },
      {
        "duration": 178,
        "start_time": "2021-11-04T20:44:03.478Z"
      },
      {
        "duration": 89,
        "start_time": "2021-11-04T20:44:03.660Z"
      },
      {
        "duration": 28,
        "start_time": "2021-11-04T20:44:03.752Z"
      },
      {
        "duration": 163,
        "start_time": "2021-11-04T20:44:03.781Z"
      },
      {
        "duration": 1080,
        "start_time": "2021-11-04T20:44:03.946Z"
      },
      {
        "duration": 326,
        "start_time": "2021-11-04T20:44:05.028Z"
      },
      {
        "duration": 521,
        "start_time": "2021-11-04T20:44:05.356Z"
      },
      {
        "duration": 382,
        "start_time": "2021-11-04T20:44:05.878Z"
      },
      {
        "duration": 326,
        "start_time": "2021-11-04T20:44:06.262Z"
      },
      {
        "duration": 517,
        "start_time": "2021-11-04T20:44:06.590Z"
      },
      {
        "duration": 293,
        "start_time": "2021-11-04T20:44:07.109Z"
      },
      {
        "duration": 342,
        "start_time": "2021-11-04T20:44:07.403Z"
      },
      {
        "duration": 1159,
        "start_time": "2021-11-04T20:44:07.747Z"
      },
      {
        "duration": 285,
        "start_time": "2021-11-04T20:44:08.908Z"
      },
      {
        "duration": 21,
        "start_time": "2021-11-04T20:44:09.195Z"
      },
      {
        "duration": 80,
        "start_time": "2021-11-04T20:44:09.218Z"
      },
      {
        "duration": 3,
        "start_time": "2021-11-04T20:44:09.306Z"
      },
      {
        "duration": 166858,
        "start_time": "2021-11-04T20:44:09.312Z"
      },
      {
        "duration": 237,
        "start_time": "2021-11-04T20:46:56.171Z"
      },
      {
        "duration": 6,
        "start_time": "2021-11-04T20:46:56.410Z"
      },
      {
        "duration": 503556,
        "start_time": "2021-11-04T20:46:56.419Z"
      },
      {
        "duration": 185116,
        "start_time": "2021-11-04T20:55:19.977Z"
      },
      {
        "duration": 55880,
        "start_time": "2021-11-04T20:58:25.095Z"
      },
      {
        "duration": 33758,
        "start_time": "2021-11-04T20:59:20.976Z"
      },
      {
        "duration": 5,
        "start_time": "2021-11-04T20:59:54.736Z"
      },
      {
        "duration": 1345442,
        "start_time": "2021-11-04T20:59:54.743Z"
      },
      {
        "duration": 637,
        "start_time": "2021-11-04T21:22:20.186Z"
      },
      {
        "duration": 4,
        "start_time": "2021-11-04T21:22:20.825Z"
      },
      {
        "duration": 27,
        "start_time": "2021-11-04T21:22:20.831Z"
      },
      {
        "duration": 455,
        "start_time": "2021-11-04T21:22:20.860Z"
      },
      {
        "duration": 123,
        "start_time": "2021-11-04T21:22:21.317Z"
      },
      {
        "duration": 422,
        "start_time": "2021-11-04T21:22:21.441Z"
      },
      {
        "duration": 3,
        "start_time": "2021-11-04T21:22:21.865Z"
      },
      {
        "duration": 18,
        "start_time": "2021-11-04T21:22:21.870Z"
      },
      {
        "duration": 21,
        "start_time": "2021-11-04T21:22:21.890Z"
      },
      {
        "duration": 16,
        "start_time": "2021-11-04T21:22:21.913Z"
      },
      {
        "duration": 26,
        "start_time": "2021-11-04T21:22:21.931Z"
      },
      {
        "duration": 12,
        "start_time": "2021-11-04T21:22:21.959Z"
      },
      {
        "duration": 295697,
        "start_time": "2021-11-04T21:26:27.575Z"
      },
      {
        "duration": 9233,
        "start_time": "2021-11-04T21:34:46.660Z"
      },
      {
        "duration": 1321,
        "start_time": "2021-11-04T21:34:55.895Z"
      },
      {
        "duration": 965,
        "start_time": "2021-11-04T21:34:57.218Z"
      },
      {
        "duration": 129,
        "start_time": "2021-11-04T21:34:58.185Z"
      },
      {
        "duration": 133,
        "start_time": "2021-11-04T21:34:58.315Z"
      },
      {
        "duration": 181,
        "start_time": "2021-11-04T21:34:58.449Z"
      },
      {
        "duration": 175,
        "start_time": "2021-11-04T21:34:58.632Z"
      },
      {
        "duration": 175,
        "start_time": "2021-11-04T21:34:58.810Z"
      },
      {
        "duration": 84,
        "start_time": "2021-11-04T21:34:58.988Z"
      },
      {
        "duration": 45,
        "start_time": "2021-11-04T21:34:59.073Z"
      },
      {
        "duration": 151,
        "start_time": "2021-11-04T21:34:59.120Z"
      },
      {
        "duration": 1082,
        "start_time": "2021-11-04T21:34:59.273Z"
      },
      {
        "duration": 326,
        "start_time": "2021-11-04T21:35:00.357Z"
      },
      {
        "duration": 508,
        "start_time": "2021-11-04T21:35:00.685Z"
      },
      {
        "duration": 376,
        "start_time": "2021-11-04T21:35:01.195Z"
      },
      {
        "duration": 323,
        "start_time": "2021-11-04T21:35:01.572Z"
      },
      {
        "duration": 510,
        "start_time": "2021-11-04T21:35:01.897Z"
      },
      {
        "duration": 297,
        "start_time": "2021-11-04T21:35:02.410Z"
      },
      {
        "duration": 341,
        "start_time": "2021-11-04T21:35:02.709Z"
      },
      {
        "duration": 1098,
        "start_time": "2021-11-04T21:35:03.052Z"
      },
      {
        "duration": 287,
        "start_time": "2021-11-04T21:35:04.152Z"
      },
      {
        "duration": 14,
        "start_time": "2021-11-04T21:35:04.441Z"
      },
      {
        "duration": 84,
        "start_time": "2021-11-04T21:35:04.459Z"
      },
      {
        "duration": 4,
        "start_time": "2021-11-04T21:35:04.547Z"
      },
      {
        "duration": 1317,
        "start_time": "2021-11-04T21:35:13.572Z"
      },
      {
        "duration": 932,
        "start_time": "2021-11-04T21:35:14.891Z"
      },
      {
        "duration": 130,
        "start_time": "2021-11-04T21:35:15.825Z"
      },
      {
        "duration": 139,
        "start_time": "2021-11-04T21:35:15.957Z"
      },
      {
        "duration": 180,
        "start_time": "2021-11-04T21:35:16.098Z"
      },
      {
        "duration": 173,
        "start_time": "2021-11-04T21:35:16.279Z"
      },
      {
        "duration": 177,
        "start_time": "2021-11-04T21:35:16.454Z"
      },
      {
        "duration": 87,
        "start_time": "2021-11-04T21:35:16.634Z"
      },
      {
        "duration": 28,
        "start_time": "2021-11-04T21:35:16.723Z"
      },
      {
        "duration": 163,
        "start_time": "2021-11-04T21:35:16.753Z"
      },
      {
        "duration": 1151,
        "start_time": "2021-11-04T21:35:16.918Z"
      },
      {
        "duration": 390,
        "start_time": "2021-11-04T21:35:18.071Z"
      },
      {
        "duration": 505,
        "start_time": "2021-11-04T21:35:18.464Z"
      },
      {
        "duration": 371,
        "start_time": "2021-11-04T21:35:18.971Z"
      },
      {
        "duration": 327,
        "start_time": "2021-11-04T21:35:19.343Z"
      },
      {
        "duration": 496,
        "start_time": "2021-11-04T21:35:19.672Z"
      },
      {
        "duration": 283,
        "start_time": "2021-11-04T21:35:20.170Z"
      },
      {
        "duration": 337,
        "start_time": "2021-11-04T21:35:20.454Z"
      },
      {
        "duration": 1100,
        "start_time": "2021-11-04T21:35:20.793Z"
      },
      {
        "duration": 295,
        "start_time": "2021-11-04T21:35:21.894Z"
      },
      {
        "duration": 21,
        "start_time": "2021-11-04T21:35:22.191Z"
      },
      {
        "duration": 73,
        "start_time": "2021-11-04T21:35:22.213Z"
      },
      {
        "duration": 16,
        "start_time": "2021-11-04T21:35:22.291Z"
      },
      {
        "duration": 136749,
        "start_time": "2021-11-04T21:35:22.309Z"
      },
      {
        "duration": 259,
        "start_time": "2021-11-04T21:37:39.059Z"
      },
      {
        "duration": 341,
        "start_time": "2021-11-04T21:37:39.319Z"
      },
      {
        "duration": 355,
        "start_time": "2021-11-04T21:37:39.307Z"
      },
      {
        "duration": 348,
        "start_time": "2021-11-04T21:37:39.315Z"
      },
      {
        "duration": 341,
        "start_time": "2021-11-04T21:37:39.323Z"
      },
      {
        "duration": 336,
        "start_time": "2021-11-04T21:37:39.330Z"
      },
      {
        "duration": 329,
        "start_time": "2021-11-04T21:37:39.337Z"
      },
      {
        "duration": 215,
        "start_time": "2021-11-04T21:37:39.452Z"
      },
      {
        "duration": -71,
        "start_time": "2021-11-04T21:37:39.739Z"
      },
      {
        "duration": -124,
        "start_time": "2021-11-04T21:37:39.793Z"
      },
      {
        "duration": -166,
        "start_time": "2021-11-04T21:37:39.836Z"
      },
      {
        "duration": -173,
        "start_time": "2021-11-04T21:37:39.844Z"
      },
      {
        "duration": -178,
        "start_time": "2021-11-04T21:37:39.850Z"
      },
      {
        "duration": -186,
        "start_time": "2021-11-04T21:37:39.859Z"
      },
      {
        "duration": -192,
        "start_time": "2021-11-04T21:37:39.866Z"
      },
      {
        "duration": -200,
        "start_time": "2021-11-04T21:37:39.875Z"
      },
      {
        "duration": -205,
        "start_time": "2021-11-04T21:37:39.881Z"
      },
      {
        "duration": -212,
        "start_time": "2021-11-04T21:37:39.889Z"
      },
      {
        "duration": -217,
        "start_time": "2021-11-04T21:37:39.895Z"
      },
      {
        "duration": -224,
        "start_time": "2021-11-04T21:37:39.903Z"
      },
      {
        "duration": -230,
        "start_time": "2021-11-04T21:37:39.910Z"
      },
      {
        "duration": -242,
        "start_time": "2021-11-04T21:37:39.923Z"
      },
      {
        "duration": -249,
        "start_time": "2021-11-04T21:37:39.931Z"
      },
      {
        "duration": -279,
        "start_time": "2021-11-04T21:37:39.962Z"
      },
      {
        "duration": -284,
        "start_time": "2021-11-04T21:37:39.968Z"
      },
      {
        "duration": -292,
        "start_time": "2021-11-04T21:37:39.977Z"
      },
      {
        "duration": -298,
        "start_time": "2021-11-04T21:37:39.984Z"
      },
      {
        "duration": -305,
        "start_time": "2021-11-04T21:37:39.992Z"
      },
      {
        "duration": -310,
        "start_time": "2021-11-04T21:37:39.998Z"
      },
      {
        "duration": -317,
        "start_time": "2021-11-04T21:37:40.006Z"
      },
      {
        "duration": -324,
        "start_time": "2021-11-04T21:37:40.014Z"
      },
      {
        "duration": -329,
        "start_time": "2021-11-04T21:37:40.020Z"
      },
      {
        "duration": -336,
        "start_time": "2021-11-04T21:37:40.028Z"
      },
      {
        "duration": -342,
        "start_time": "2021-11-04T21:37:40.035Z"
      },
      {
        "duration": -348,
        "start_time": "2021-11-04T21:37:40.041Z"
      },
      {
        "duration": -354,
        "start_time": "2021-11-04T21:37:40.048Z"
      },
      {
        "duration": -359,
        "start_time": "2021-11-04T21:37:40.054Z"
      },
      {
        "duration": -399,
        "start_time": "2021-11-04T21:37:40.095Z"
      },
      {
        "duration": -430,
        "start_time": "2021-11-04T21:37:40.127Z"
      },
      {
        "duration": -468,
        "start_time": "2021-11-04T21:37:40.166Z"
      },
      {
        "duration": -491,
        "start_time": "2021-11-04T21:37:40.189Z"
      },
      {
        "duration": -497,
        "start_time": "2021-11-04T21:37:40.197Z"
      },
      {
        "duration": -495,
        "start_time": "2021-11-04T21:37:40.202Z"
      },
      {
        "duration": -501,
        "start_time": "2021-11-04T21:37:40.209Z"
      },
      {
        "duration": -505,
        "start_time": "2021-11-04T21:37:40.214Z"
      },
      {
        "duration": -511,
        "start_time": "2021-11-04T21:37:40.221Z"
      },
      {
        "duration": -515,
        "start_time": "2021-11-04T21:37:40.226Z"
      },
      {
        "duration": -521,
        "start_time": "2021-11-04T21:37:40.232Z"
      },
      {
        "duration": -527,
        "start_time": "2021-11-04T21:37:40.239Z"
      },
      {
        "duration": -535,
        "start_time": "2021-11-04T21:37:40.248Z"
      },
      {
        "duration": -570,
        "start_time": "2021-11-04T21:37:40.284Z"
      },
      {
        "duration": 1312,
        "start_time": "2021-11-04T21:37:57.990Z"
      },
      {
        "duration": 954,
        "start_time": "2021-11-04T21:37:59.306Z"
      },
      {
        "duration": 134,
        "start_time": "2021-11-04T21:38:00.262Z"
      },
      {
        "duration": 134,
        "start_time": "2021-11-04T21:38:00.398Z"
      },
      {
        "duration": 182,
        "start_time": "2021-11-04T21:38:00.534Z"
      },
      {
        "duration": 174,
        "start_time": "2021-11-04T21:38:00.718Z"
      },
      {
        "duration": 177,
        "start_time": "2021-11-04T21:38:00.893Z"
      },
      {
        "duration": 91,
        "start_time": "2021-11-04T21:38:01.072Z"
      },
      {
        "duration": 43,
        "start_time": "2021-11-04T21:38:01.166Z"
      },
      {
        "duration": 154,
        "start_time": "2021-11-04T21:38:01.211Z"
      },
      {
        "duration": 1067,
        "start_time": "2021-11-04T21:38:01.367Z"
      },
      {
        "duration": 328,
        "start_time": "2021-11-04T21:38:02.436Z"
      },
      {
        "duration": 502,
        "start_time": "2021-11-04T21:38:02.766Z"
      },
      {
        "duration": 365,
        "start_time": "2021-11-04T21:38:03.269Z"
      },
      {
        "duration": 318,
        "start_time": "2021-11-04T21:38:03.636Z"
      },
      {
        "duration": 516,
        "start_time": "2021-11-04T21:38:03.956Z"
      },
      {
        "duration": 287,
        "start_time": "2021-11-04T21:38:04.473Z"
      },
      {
        "duration": 346,
        "start_time": "2021-11-04T21:38:04.762Z"
      },
      {
        "duration": 1091,
        "start_time": "2021-11-04T21:38:05.110Z"
      },
      {
        "duration": 284,
        "start_time": "2021-11-04T21:38:06.207Z"
      },
      {
        "duration": 20,
        "start_time": "2021-11-04T21:38:06.493Z"
      },
      {
        "duration": 75,
        "start_time": "2021-11-04T21:38:06.515Z"
      },
      {
        "duration": 3,
        "start_time": "2021-11-04T21:38:06.592Z"
      },
      {
        "duration": 27380,
        "start_time": "2021-11-04T21:38:06.607Z"
      },
      {
        "duration": 121,
        "start_time": "2021-11-04T21:38:33.989Z"
      },
      {
        "duration": 5,
        "start_time": "2021-11-04T21:38:34.112Z"
      },
      {
        "duration": 496847,
        "start_time": "2021-11-04T21:38:34.121Z"
      },
      {
        "duration": 179343,
        "start_time": "2021-11-04T21:46:50.971Z"
      },
      {
        "duration": 54770,
        "start_time": "2021-11-04T21:49:50.316Z"
      },
      {
        "duration": 33027,
        "start_time": "2021-11-04T21:50:45.087Z"
      },
      {
        "duration": 3,
        "start_time": "2021-11-04T21:51:18.116Z"
      },
      {
        "duration": 1362324,
        "start_time": "2021-11-04T21:51:18.121Z"
      },
      {
        "duration": 679,
        "start_time": "2021-11-04T22:14:00.447Z"
      },
      {
        "duration": 6,
        "start_time": "2021-11-04T22:14:01.128Z"
      },
      {
        "duration": 71,
        "start_time": "2021-11-04T22:14:01.137Z"
      },
      {
        "duration": 8,
        "start_time": "2021-11-04T22:14:01.209Z"
      },
      {
        "duration": 395,
        "start_time": "2021-11-04T22:14:01.218Z"
      },
      {
        "duration": 140,
        "start_time": "2021-11-04T22:14:01.615Z"
      },
      {
        "duration": 442,
        "start_time": "2021-11-04T22:14:01.757Z"
      },
      {
        "duration": 9,
        "start_time": "2021-11-04T22:14:02.200Z"
      },
      {
        "duration": 14,
        "start_time": "2021-11-04T22:14:02.210Z"
      },
      {
        "duration": 10,
        "start_time": "2021-11-04T22:14:02.225Z"
      },
      {
        "duration": 11,
        "start_time": "2021-11-04T22:14:02.236Z"
      },
      {
        "duration": 15,
        "start_time": "2021-11-04T22:14:02.249Z"
      },
      {
        "duration": 448,
        "start_time": "2021-11-04T22:15:17.392Z"
      },
      {
        "duration": 1333,
        "start_time": "2021-11-04T22:19:12.982Z"
      },
      {
        "duration": 1020,
        "start_time": "2021-11-04T22:19:14.317Z"
      },
      {
        "duration": 133,
        "start_time": "2021-11-04T22:19:15.342Z"
      },
      {
        "duration": 130,
        "start_time": "2021-11-04T22:19:15.477Z"
      },
      {
        "duration": 176,
        "start_time": "2021-11-04T22:19:15.609Z"
      },
      {
        "duration": 169,
        "start_time": "2021-11-04T22:19:15.787Z"
      },
      {
        "duration": 175,
        "start_time": "2021-11-04T22:19:15.959Z"
      },
      {
        "duration": 88,
        "start_time": "2021-11-04T22:19:16.136Z"
      },
      {
        "duration": 28,
        "start_time": "2021-11-04T22:19:16.225Z"
      },
      {
        "duration": 157,
        "start_time": "2021-11-04T22:19:16.255Z"
      },
      {
        "duration": 1065,
        "start_time": "2021-11-04T22:19:16.413Z"
      },
      {
        "duration": 326,
        "start_time": "2021-11-04T22:19:17.480Z"
      },
      {
        "duration": 507,
        "start_time": "2021-11-04T22:19:17.808Z"
      },
      {
        "duration": 373,
        "start_time": "2021-11-04T22:19:18.317Z"
      },
      {
        "duration": 318,
        "start_time": "2021-11-04T22:19:18.691Z"
      },
      {
        "duration": 510,
        "start_time": "2021-11-04T22:19:19.011Z"
      },
      {
        "duration": 291,
        "start_time": "2021-11-04T22:19:19.522Z"
      },
      {
        "duration": 340,
        "start_time": "2021-11-04T22:19:19.815Z"
      },
      {
        "duration": 1098,
        "start_time": "2021-11-04T22:19:20.157Z"
      },
      {
        "duration": 290,
        "start_time": "2021-11-04T22:19:21.257Z"
      },
      {
        "duration": 14,
        "start_time": "2021-11-04T22:19:21.549Z"
      },
      {
        "duration": 86,
        "start_time": "2021-11-04T22:19:21.567Z"
      },
      {
        "duration": 3,
        "start_time": "2021-11-04T22:19:21.656Z"
      },
      {
        "duration": 27128,
        "start_time": "2021-11-04T22:19:21.661Z"
      },
      {
        "duration": 67,
        "start_time": "2021-11-04T22:19:48.791Z"
      },
      {
        "duration": 46,
        "start_time": "2021-11-04T22:19:48.860Z"
      },
      {
        "duration": 489054,
        "start_time": "2021-11-04T22:19:48.908Z"
      },
      {
        "duration": 176293,
        "start_time": "2021-11-04T22:27:57.963Z"
      },
      {
        "duration": 54810,
        "start_time": "2021-11-04T22:30:54.259Z"
      },
      {
        "duration": 33249,
        "start_time": "2021-11-04T22:31:49.071Z"
      },
      {
        "duration": 3,
        "start_time": "2021-11-04T22:32:22.323Z"
      },
      {
        "duration": 1503,
        "start_time": "2021-11-05T09:50:55.539Z"
      },
      {
        "duration": 1157,
        "start_time": "2021-11-05T09:50:57.044Z"
      },
      {
        "duration": 159,
        "start_time": "2021-11-05T09:50:58.203Z"
      },
      {
        "duration": 1638,
        "start_time": "2021-11-05T13:33:31.649Z"
      },
      {
        "duration": 1295,
        "start_time": "2021-11-05T13:33:33.290Z"
      },
      {
        "duration": 164,
        "start_time": "2021-11-05T13:33:34.588Z"
      },
      {
        "duration": 171,
        "start_time": "2021-11-05T13:33:34.754Z"
      },
      {
        "duration": 235,
        "start_time": "2021-11-05T13:33:34.928Z"
      },
      {
        "duration": 223,
        "start_time": "2021-11-05T13:33:35.168Z"
      },
      {
        "duration": 257,
        "start_time": "2021-11-05T13:33:35.393Z"
      },
      {
        "duration": 101,
        "start_time": "2021-11-05T13:33:35.652Z"
      },
      {
        "duration": 46,
        "start_time": "2021-11-05T13:33:35.769Z"
      },
      {
        "duration": 236,
        "start_time": "2021-11-05T13:33:35.819Z"
      },
      {
        "duration": 1776,
        "start_time": "2021-11-05T13:33:36.058Z"
      },
      {
        "duration": 540,
        "start_time": "2021-11-05T13:33:37.836Z"
      },
      {
        "duration": 845,
        "start_time": "2021-11-05T13:33:38.378Z"
      },
      {
        "duration": 557,
        "start_time": "2021-11-05T13:33:39.226Z"
      },
      {
        "duration": 525,
        "start_time": "2021-11-05T13:33:39.786Z"
      },
      {
        "duration": 877,
        "start_time": "2021-11-05T13:33:40.314Z"
      },
      {
        "duration": 473,
        "start_time": "2021-11-05T13:33:41.194Z"
      },
      {
        "duration": 564,
        "start_time": "2021-11-05T13:33:41.670Z"
      },
      {
        "duration": 1790,
        "start_time": "2021-11-05T13:33:42.236Z"
      },
      {
        "duration": 466,
        "start_time": "2021-11-05T13:33:44.028Z"
      },
      {
        "duration": 20,
        "start_time": "2021-11-05T13:33:44.497Z"
      },
      {
        "duration": 137,
        "start_time": "2021-11-05T13:33:44.519Z"
      },
      {
        "duration": 8,
        "start_time": "2021-11-05T13:33:44.659Z"
      },
      {
        "duration": 37356,
        "start_time": "2021-11-05T13:33:44.669Z"
      },
      {
        "duration": 145,
        "start_time": "2021-11-05T13:34:22.028Z"
      },
      {
        "duration": 7,
        "start_time": "2021-11-05T13:34:22.175Z"
      },
      {
        "duration": 715112,
        "start_time": "2021-11-05T13:34:22.188Z"
      },
      {
        "duration": 238456,
        "start_time": "2021-11-05T13:46:17.305Z"
      },
      {
        "duration": 72084,
        "start_time": "2021-11-05T13:50:15.764Z"
      },
      {
        "duration": 43512,
        "start_time": "2021-11-05T13:51:27.850Z"
      },
      {
        "duration": 4,
        "start_time": "2021-11-05T13:52:11.364Z"
      },
      {
        "duration": 1151729,
        "start_time": "2021-11-05T13:52:11.371Z"
      },
      {
        "duration": 271,
        "start_time": "2021-11-05T14:11:23.103Z"
      },
      {
        "duration": 7,
        "start_time": "2021-11-05T14:11:23.376Z"
      },
      {
        "duration": 7,
        "start_time": "2021-11-05T14:11:23.385Z"
      },
      {
        "duration": 7,
        "start_time": "2021-11-05T14:11:23.394Z"
      },
      {
        "duration": 453,
        "start_time": "2021-11-05T14:11:23.403Z"
      },
      {
        "duration": 149,
        "start_time": "2021-11-05T14:11:23.859Z"
      },
      {
        "duration": 630,
        "start_time": "2021-11-05T14:11:24.010Z"
      },
      {
        "duration": 15026,
        "start_time": "2021-11-05T14:11:24.643Z"
      },
      {
        "duration": 5241,
        "start_time": "2021-11-05T14:11:39.672Z"
      },
      {
        "duration": 5,
        "start_time": "2021-11-05T15:56:07.219Z"
      },
      {
        "duration": 1202,
        "start_time": "2021-11-05T15:56:07.624Z"
      },
      {
        "duration": 149,
        "start_time": "2021-11-05T15:56:08.829Z"
      },
      {
        "duration": 167,
        "start_time": "2021-11-05T15:56:08.981Z"
      },
      {
        "duration": 205,
        "start_time": "2021-11-05T15:56:09.942Z"
      },
      {
        "duration": 199,
        "start_time": "2021-11-05T15:56:13.047Z"
      },
      {
        "duration": 221,
        "start_time": "2021-11-05T15:56:14.192Z"
      },
      {
        "duration": 88,
        "start_time": "2021-11-05T15:56:15.088Z"
      },
      {
        "duration": 44,
        "start_time": "2021-11-05T15:56:16.561Z"
      },
      {
        "duration": 1292,
        "start_time": "2022-03-02T16:08:50.906Z"
      },
      {
        "duration": 875,
        "start_time": "2022-03-02T16:08:52.200Z"
      },
      {
        "duration": 17,
        "start_time": "2022-03-02T16:08:53.077Z"
      },
      {
        "duration": 140,
        "start_time": "2022-03-02T16:08:53.096Z"
      },
      {
        "duration": 221,
        "start_time": "2022-03-02T16:08:53.238Z"
      },
      {
        "duration": 267,
        "start_time": "2022-03-02T16:08:54.612Z"
      },
      {
        "duration": 14,
        "start_time": "2022-03-02T16:09:33.216Z"
      },
      {
        "duration": 3,
        "start_time": "2022-03-02T16:16:08.532Z"
      },
      {
        "duration": 4710,
        "start_time": "2022-03-02T16:16:41.710Z"
      },
      {
        "duration": 149,
        "start_time": "2022-03-02T16:17:18.715Z"
      },
      {
        "duration": 19,
        "start_time": "2022-03-02T16:17:32.194Z"
      },
      {
        "duration": 5,
        "start_time": "2022-03-02T16:18:00.290Z"
      },
      {
        "duration": 895,
        "start_time": "2022-03-02T16:18:01.603Z"
      },
      {
        "duration": 14,
        "start_time": "2022-03-02T16:18:03.761Z"
      },
      {
        "duration": 14,
        "start_time": "2022-03-02T16:18:05.878Z"
      },
      {
        "duration": 135,
        "start_time": "2022-03-02T16:18:07.033Z"
      },
      {
        "duration": 125,
        "start_time": "2022-03-02T16:18:10.409Z"
      },
      {
        "duration": 4,
        "start_time": "2022-03-02T16:18:14.426Z"
      },
      {
        "duration": 10448,
        "start_time": "2022-03-02T16:18:15.554Z"
      },
      {
        "duration": 233,
        "start_time": "2022-03-02T16:18:26.004Z"
      },
      {
        "duration": 19,
        "start_time": "2022-03-02T16:18:26.242Z"
      },
      {
        "duration": 4,
        "start_time": "2022-03-02T16:20:57.182Z"
      },
      {
        "duration": 1100,
        "start_time": "2022-03-02T16:20:58.049Z"
      },
      {
        "duration": 12,
        "start_time": "2022-03-02T16:20:59.418Z"
      },
      {
        "duration": 13,
        "start_time": "2022-03-02T16:21:01.770Z"
      },
      {
        "duration": 123,
        "start_time": "2022-03-02T16:21:02.946Z"
      },
      {
        "duration": 119,
        "start_time": "2022-03-02T16:21:04.746Z"
      },
      {
        "duration": 334,
        "start_time": "2022-03-02T16:21:51.070Z"
      },
      {
        "duration": 175,
        "start_time": "2022-03-02T16:23:24.770Z"
      },
      {
        "duration": 64,
        "start_time": "2022-03-02T16:24:00.221Z"
      },
      {
        "duration": 121,
        "start_time": "2022-03-02T16:24:05.190Z"
      },
      {
        "duration": 119,
        "start_time": "2022-03-02T16:25:46.683Z"
      },
      {
        "duration": 165,
        "start_time": "2022-03-02T16:26:48.178Z"
      },
      {
        "duration": 1203,
        "start_time": "2022-03-02T16:31:00.314Z"
      },
      {
        "duration": 917,
        "start_time": "2022-03-02T16:31:01.519Z"
      },
      {
        "duration": 22,
        "start_time": "2022-03-02T16:31:02.439Z"
      },
      {
        "duration": 18,
        "start_time": "2022-03-02T16:31:02.462Z"
      },
      {
        "duration": 141,
        "start_time": "2022-03-02T16:31:02.483Z"
      },
      {
        "duration": 167,
        "start_time": "2022-03-02T16:31:02.626Z"
      },
      {
        "duration": 89,
        "start_time": "2022-03-02T16:31:02.794Z"
      },
      {
        "duration": 138,
        "start_time": "2022-03-02T16:31:02.885Z"
      },
      {
        "duration": 186,
        "start_time": "2022-03-02T16:31:03.026Z"
      },
      {
        "duration": 234,
        "start_time": "2022-03-02T16:31:03.215Z"
      },
      {
        "duration": 170,
        "start_time": "2022-03-02T16:31:03.451Z"
      },
      {
        "duration": 72,
        "start_time": "2022-03-02T16:31:03.623Z"
      },
      {
        "duration": 388,
        "start_time": "2022-03-02T16:31:03.697Z"
      },
      {
        "duration": -30,
        "start_time": "2022-03-02T16:31:04.119Z"
      },
      {
        "duration": -34,
        "start_time": "2022-03-02T16:31:04.124Z"
      },
      {
        "duration": -37,
        "start_time": "2022-03-02T16:31:04.128Z"
      },
      {
        "duration": -40,
        "start_time": "2022-03-02T16:31:04.132Z"
      },
      {
        "duration": -42,
        "start_time": "2022-03-02T16:31:04.135Z"
      },
      {
        "duration": -46,
        "start_time": "2022-03-02T16:31:04.140Z"
      },
      {
        "duration": -50,
        "start_time": "2022-03-02T16:31:04.145Z"
      },
      {
        "duration": -54,
        "start_time": "2022-03-02T16:31:04.150Z"
      },
      {
        "duration": -57,
        "start_time": "2022-03-02T16:31:04.154Z"
      },
      {
        "duration": -59,
        "start_time": "2022-03-02T16:31:04.157Z"
      },
      {
        "duration": -62,
        "start_time": "2022-03-02T16:31:04.161Z"
      },
      {
        "duration": -64,
        "start_time": "2022-03-02T16:31:04.164Z"
      },
      {
        "duration": -66,
        "start_time": "2022-03-02T16:31:04.167Z"
      },
      {
        "duration": -70,
        "start_time": "2022-03-02T16:31:04.171Z"
      },
      {
        "duration": -73,
        "start_time": "2022-03-02T16:31:04.175Z"
      },
      {
        "duration": -74,
        "start_time": "2022-03-02T16:31:04.177Z"
      },
      {
        "duration": -77,
        "start_time": "2022-03-02T16:31:04.181Z"
      },
      {
        "duration": -79,
        "start_time": "2022-03-02T16:31:04.184Z"
      },
      {
        "duration": -83,
        "start_time": "2022-03-02T16:31:04.188Z"
      },
      {
        "duration": -85,
        "start_time": "2022-03-02T16:31:04.191Z"
      },
      {
        "duration": -88,
        "start_time": "2022-03-02T16:31:04.195Z"
      },
      {
        "duration": -90,
        "start_time": "2022-03-02T16:31:04.198Z"
      },
      {
        "duration": -92,
        "start_time": "2022-03-02T16:31:04.201Z"
      },
      {
        "duration": -138,
        "start_time": "2022-03-02T16:31:04.247Z"
      },
      {
        "duration": -141,
        "start_time": "2022-03-02T16:31:04.251Z"
      },
      {
        "duration": -143,
        "start_time": "2022-03-02T16:31:04.254Z"
      },
      {
        "duration": -146,
        "start_time": "2022-03-02T16:31:04.258Z"
      },
      {
        "duration": -148,
        "start_time": "2022-03-02T16:31:04.261Z"
      },
      {
        "duration": -151,
        "start_time": "2022-03-02T16:31:04.264Z"
      },
      {
        "duration": -153,
        "start_time": "2022-03-02T16:31:04.267Z"
      },
      {
        "duration": -157,
        "start_time": "2022-03-02T16:31:04.272Z"
      },
      {
        "duration": -160,
        "start_time": "2022-03-02T16:31:04.276Z"
      },
      {
        "duration": -164,
        "start_time": "2022-03-02T16:31:04.281Z"
      },
      {
        "duration": -168,
        "start_time": "2022-03-02T16:31:04.285Z"
      },
      {
        "duration": -172,
        "start_time": "2022-03-02T16:31:04.290Z"
      },
      {
        "duration": -174,
        "start_time": "2022-03-02T16:31:04.293Z"
      },
      {
        "duration": -176,
        "start_time": "2022-03-02T16:31:04.296Z"
      },
      {
        "duration": -178,
        "start_time": "2022-03-02T16:31:04.299Z"
      },
      {
        "duration": -181,
        "start_time": "2022-03-02T16:31:04.303Z"
      },
      {
        "duration": -184,
        "start_time": "2022-03-02T16:31:04.307Z"
      },
      {
        "duration": -187,
        "start_time": "2022-03-02T16:31:04.311Z"
      },
      {
        "duration": -182,
        "start_time": "2022-03-02T16:31:04.314Z"
      },
      {
        "duration": -186,
        "start_time": "2022-03-02T16:31:04.319Z"
      },
      {
        "duration": -189,
        "start_time": "2022-03-02T16:31:04.323Z"
      },
      {
        "duration": -190,
        "start_time": "2022-03-02T16:31:04.326Z"
      },
      {
        "duration": -192,
        "start_time": "2022-03-02T16:31:04.330Z"
      },
      {
        "duration": -194,
        "start_time": "2022-03-02T16:31:04.333Z"
      },
      {
        "duration": -197,
        "start_time": "2022-03-02T16:31:04.336Z"
      },
      {
        "duration": -201,
        "start_time": "2022-03-02T16:31:04.341Z"
      },
      {
        "duration": -204,
        "start_time": "2022-03-02T16:31:04.345Z"
      },
      {
        "duration": -245,
        "start_time": "2022-03-02T16:31:04.387Z"
      },
      {
        "duration": -247,
        "start_time": "2022-03-02T16:31:04.390Z"
      },
      {
        "duration": -250,
        "start_time": "2022-03-02T16:31:04.394Z"
      },
      {
        "duration": -252,
        "start_time": "2022-03-02T16:31:04.397Z"
      },
      {
        "duration": -254,
        "start_time": "2022-03-02T16:31:04.400Z"
      },
      {
        "duration": -254,
        "start_time": "2022-03-02T16:31:04.403Z"
      },
      {
        "duration": -257,
        "start_time": "2022-03-02T16:31:04.407Z"
      },
      {
        "duration": -260,
        "start_time": "2022-03-02T16:31:04.411Z"
      },
      {
        "duration": -262,
        "start_time": "2022-03-02T16:31:04.414Z"
      },
      {
        "duration": -264,
        "start_time": "2022-03-02T16:31:04.418Z"
      },
      {
        "duration": -267,
        "start_time": "2022-03-02T16:31:04.422Z"
      },
      {
        "duration": -271,
        "start_time": "2022-03-02T16:31:04.427Z"
      },
      {
        "duration": -273,
        "start_time": "2022-03-02T16:31:04.431Z"
      },
      {
        "duration": -275,
        "start_time": "2022-03-02T16:31:04.434Z"
      },
      {
        "duration": -279,
        "start_time": "2022-03-02T16:31:04.439Z"
      },
      {
        "duration": -281,
        "start_time": "2022-03-02T16:31:04.443Z"
      },
      {
        "duration": -284,
        "start_time": "2022-03-02T16:31:04.447Z"
      },
      {
        "duration": 3,
        "start_time": "2022-03-02T16:31:56.954Z"
      },
      {
        "duration": 960,
        "start_time": "2022-03-02T16:31:57.281Z"
      },
      {
        "duration": 17,
        "start_time": "2022-03-02T16:31:58.243Z"
      },
      {
        "duration": 14,
        "start_time": "2022-03-02T16:31:58.778Z"
      },
      {
        "duration": 6,
        "start_time": "2022-03-02T16:32:12.107Z"
      },
      {
        "duration": 881,
        "start_time": "2022-03-02T16:32:12.425Z"
      },
      {
        "duration": 12,
        "start_time": "2022-03-02T16:32:13.855Z"
      },
      {
        "duration": 6,
        "start_time": "2022-03-02T16:32:13.869Z"
      },
      {
        "duration": 126,
        "start_time": "2022-03-02T16:32:14.425Z"
      },
      {
        "duration": 119,
        "start_time": "2022-03-02T16:32:15.361Z"
      },
      {
        "duration": 39,
        "start_time": "2022-03-02T16:32:16.224Z"
      },
      {
        "duration": 116,
        "start_time": "2022-03-02T16:32:16.657Z"
      },
      {
        "duration": 164,
        "start_time": "2022-03-02T16:32:17.928Z"
      },
      {
        "duration": 124,
        "start_time": "2022-03-02T16:32:18.980Z"
      },
      {
        "duration": 138,
        "start_time": "2022-03-02T16:32:20.162Z"
      },
      {
        "duration": 76,
        "start_time": "2022-03-02T16:32:21.794Z"
      },
      {
        "duration": 47,
        "start_time": "2022-03-02T16:32:22.617Z"
      },
      {
        "duration": 11,
        "start_time": "2022-03-02T16:32:26.186Z"
      },
      {
        "duration": 141,
        "start_time": "2022-03-02T16:32:27.248Z"
      },
      {
        "duration": 1279,
        "start_time": "2022-03-02T16:32:43.819Z"
      },
      {
        "duration": 1297,
        "start_time": "2022-03-02T16:32:45.100Z"
      },
      {
        "duration": 21,
        "start_time": "2022-03-02T16:32:46.400Z"
      },
      {
        "duration": 122,
        "start_time": "2022-03-02T16:32:46.434Z"
      },
      {
        "duration": 134,
        "start_time": "2022-03-02T16:32:46.558Z"
      },
      {
        "duration": 80,
        "start_time": "2022-03-02T16:32:46.693Z"
      },
      {
        "duration": 120,
        "start_time": "2022-03-02T16:32:46.774Z"
      },
      {
        "duration": 171,
        "start_time": "2022-03-02T16:32:46.896Z"
      },
      {
        "duration": 172,
        "start_time": "2022-03-02T16:32:47.069Z"
      },
      {
        "duration": 233,
        "start_time": "2022-03-02T16:32:47.243Z"
      },
      {
        "duration": 119,
        "start_time": "2022-03-02T16:32:47.478Z"
      },
      {
        "duration": 44,
        "start_time": "2022-03-02T16:32:47.599Z"
      },
      {
        "duration": 13,
        "start_time": "2022-03-02T16:32:47.645Z"
      },
      {
        "duration": 155,
        "start_time": "2022-03-02T16:32:47.660Z"
      },
      {
        "duration": 1813,
        "start_time": "2022-03-02T16:32:47.816Z"
      },
      {
        "duration": 313,
        "start_time": "2022-03-02T16:32:49.635Z"
      },
      {
        "duration": 566,
        "start_time": "2022-03-02T16:32:49.950Z"
      },
      {
        "duration": 290,
        "start_time": "2022-03-02T16:32:50.518Z"
      },
      {
        "duration": 309,
        "start_time": "2022-03-02T16:32:50.810Z"
      },
      {
        "duration": 487,
        "start_time": "2022-03-02T16:32:51.121Z"
      },
      {
        "duration": 277,
        "start_time": "2022-03-02T16:32:51.610Z"
      },
      {
        "duration": 322,
        "start_time": "2022-03-02T16:32:51.889Z"
      },
      {
        "duration": 1782,
        "start_time": "2022-03-02T16:32:52.215Z"
      },
      {
        "duration": 379,
        "start_time": "2022-03-02T16:32:54.000Z"
      },
      {
        "duration": 14,
        "start_time": "2022-03-02T16:32:54.381Z"
      },
      {
        "duration": 118,
        "start_time": "2022-03-02T16:32:54.397Z"
      },
      {
        "duration": 3,
        "start_time": "2022-03-02T16:32:54.517Z"
      },
      {
        "duration": 31418,
        "start_time": "2022-03-02T16:32:54.522Z"
      },
      {
        "duration": 205,
        "start_time": "2022-03-02T16:33:25.943Z"
      },
      {
        "duration": 6,
        "start_time": "2022-03-02T16:33:26.150Z"
      },
      {
        "duration": 576950,
        "start_time": "2022-03-02T16:33:26.157Z"
      },
      {
        "duration": 181966,
        "start_time": "2022-03-02T16:43:03.109Z"
      },
      {
        "duration": 58603,
        "start_time": "2022-03-02T16:46:05.077Z"
      },
      {
        "duration": 33221,
        "start_time": "2022-03-02T16:47:03.682Z"
      },
      {
        "duration": 2,
        "start_time": "2022-03-02T16:47:36.905Z"
      },
      {
        "duration": 1503374,
        "start_time": "2022-03-02T16:47:36.909Z"
      },
      {
        "duration": 764,
        "start_time": "2022-03-02T17:12:40.285Z"
      },
      {
        "duration": 5,
        "start_time": "2022-03-02T17:12:41.051Z"
      },
      {
        "duration": 10,
        "start_time": "2022-03-02T17:12:41.058Z"
      },
      {
        "duration": 5,
        "start_time": "2022-03-02T17:12:41.070Z"
      },
      {
        "duration": 433,
        "start_time": "2022-03-02T17:12:41.077Z"
      },
      {
        "duration": 154,
        "start_time": "2022-03-02T17:12:41.511Z"
      },
      {
        "duration": 503,
        "start_time": "2022-03-02T17:12:41.666Z"
      },
      {
        "duration": 314,
        "start_time": "2022-03-02T17:12:42.170Z"
      },
      {
        "duration": 2484,
        "start_time": "2022-03-02T17:12:42.486Z"
      },
      {
        "duration": 2002,
        "start_time": "2022-03-02T17:12:44.971Z"
      },
      {
        "duration": 1943,
        "start_time": "2022-03-02T17:12:46.975Z"
      },
      {
        "duration": 3,
        "start_time": "2022-03-02T17:12:48.920Z"
      },
      {
        "duration": 354,
        "start_time": "2022-03-02T17:12:48.924Z"
      },
      {
        "duration": 39,
        "start_time": "2022-03-02T17:12:49.241Z"
      },
      {
        "duration": 25,
        "start_time": "2022-03-02T17:12:49.257Z"
      },
      {
        "duration": 23,
        "start_time": "2022-03-02T17:12:49.260Z"
      },
      {
        "duration": 20,
        "start_time": "2022-03-02T17:12:49.264Z"
      },
      {
        "duration": 19,
        "start_time": "2022-03-02T17:12:49.267Z"
      },
      {
        "duration": 16,
        "start_time": "2022-03-02T17:12:49.271Z"
      },
      {
        "duration": 14,
        "start_time": "2022-03-02T17:12:49.274Z"
      },
      {
        "duration": 12,
        "start_time": "2022-03-02T17:12:49.277Z"
      },
      {
        "duration": 10,
        "start_time": "2022-03-02T17:12:49.280Z"
      },
      {
        "duration": -8,
        "start_time": "2022-03-02T17:12:49.300Z"
      },
      {
        "duration": -11,
        "start_time": "2022-03-02T17:12:49.304Z"
      },
      {
        "duration": -13,
        "start_time": "2022-03-02T17:12:49.308Z"
      },
      {
        "duration": -15,
        "start_time": "2022-03-02T17:12:49.311Z"
      },
      {
        "duration": -17,
        "start_time": "2022-03-02T17:12:49.315Z"
      },
      {
        "duration": -19,
        "start_time": "2022-03-02T17:12:49.318Z"
      },
      {
        "duration": -20,
        "start_time": "2022-03-02T17:12:49.321Z"
      },
      {
        "duration": -23,
        "start_time": "2022-03-02T17:12:49.325Z"
      },
      {
        "duration": -25,
        "start_time": "2022-03-02T17:12:49.328Z"
      },
      {
        "duration": -27,
        "start_time": "2022-03-02T17:12:49.331Z"
      },
      {
        "duration": -29,
        "start_time": "2022-03-02T17:12:49.335Z"
      },
      {
        "duration": -31,
        "start_time": "2022-03-02T17:12:49.338Z"
      },
      {
        "duration": -34,
        "start_time": "2022-03-02T17:12:49.342Z"
      },
      {
        "duration": -36,
        "start_time": "2022-03-02T17:12:49.345Z"
      },
      {
        "duration": -38,
        "start_time": "2022-03-02T17:12:49.348Z"
      },
      {
        "duration": -67,
        "start_time": "2022-03-02T17:12:49.378Z"
      },
      {
        "duration": -70,
        "start_time": "2022-03-02T17:12:49.383Z"
      },
      {
        "duration": -72,
        "start_time": "2022-03-02T17:12:49.386Z"
      },
      {
        "duration": -75,
        "start_time": "2022-03-02T17:12:49.390Z"
      },
      {
        "duration": -76,
        "start_time": "2022-03-02T17:12:49.393Z"
      },
      {
        "duration": -78,
        "start_time": "2022-03-02T17:12:49.396Z"
      },
      {
        "duration": 78,
        "start_time": "2022-03-02T17:45:48.651Z"
      },
      {
        "duration": 1226,
        "start_time": "2022-03-02T17:46:58.696Z"
      },
      {
        "duration": 1101,
        "start_time": "2022-03-02T17:46:59.924Z"
      },
      {
        "duration": 26,
        "start_time": "2022-03-02T17:47:01.035Z"
      },
      {
        "duration": 191,
        "start_time": "2022-03-02T17:47:01.062Z"
      },
      {
        "duration": 158,
        "start_time": "2022-03-02T17:47:01.255Z"
      },
      {
        "duration": 94,
        "start_time": "2022-03-02T17:47:01.415Z"
      },
      {
        "duration": 163,
        "start_time": "2022-03-02T17:47:01.512Z"
      },
      {
        "duration": 164,
        "start_time": "2022-03-02T17:47:01.677Z"
      },
      {
        "duration": 248,
        "start_time": "2022-03-02T17:47:01.843Z"
      },
      {
        "duration": 210,
        "start_time": "2022-03-02T17:47:02.093Z"
      },
      {
        "duration": 195,
        "start_time": "2022-03-02T17:47:02.305Z"
      },
      {
        "duration": 103,
        "start_time": "2022-03-02T17:47:02.502Z"
      },
      {
        "duration": 58,
        "start_time": "2022-03-02T17:47:02.608Z"
      },
      {
        "duration": 2,
        "start_time": "2022-03-02T17:47:02.668Z"
      },
      {
        "duration": 192,
        "start_time": "2022-03-02T17:47:02.672Z"
      },
      {
        "duration": 1312,
        "start_time": "2022-03-02T17:47:02.866Z"
      },
      {
        "duration": 340,
        "start_time": "2022-03-02T17:47:04.180Z"
      },
      {
        "duration": 670,
        "start_time": "2022-03-02T17:47:04.522Z"
      },
      {
        "duration": 347,
        "start_time": "2022-03-02T17:47:05.194Z"
      },
      {
        "duration": 334,
        "start_time": "2022-03-02T17:47:05.543Z"
      },
      {
        "duration": 506,
        "start_time": "2022-03-02T17:47:05.879Z"
      },
      {
        "duration": 278,
        "start_time": "2022-03-02T17:47:06.389Z"
      },
      {
        "duration": 331,
        "start_time": "2022-03-02T17:47:06.670Z"
      },
      {
        "duration": 1076,
        "start_time": "2022-03-02T17:47:07.003Z"
      },
      {
        "duration": 275,
        "start_time": "2022-03-02T17:47:08.080Z"
      },
      {
        "duration": 16,
        "start_time": "2022-03-02T17:47:08.356Z"
      },
      {
        "duration": 86,
        "start_time": "2022-03-02T17:47:08.373Z"
      },
      {
        "duration": 3,
        "start_time": "2022-03-02T17:47:08.461Z"
      },
      {
        "duration": 29782,
        "start_time": "2022-03-02T17:47:08.465Z"
      },
      {
        "duration": 227,
        "start_time": "2022-03-02T17:47:38.250Z"
      },
      {
        "duration": 4,
        "start_time": "2022-03-02T17:47:38.479Z"
      },
      {
        "duration": 2632,
        "start_time": "2022-03-02T17:47:38.484Z"
      },
      {
        "duration": 30,
        "start_time": "2022-03-02T17:47:41.088Z"
      },
      {
        "duration": 27,
        "start_time": "2022-03-02T17:47:41.092Z"
      },
      {
        "duration": 18,
        "start_time": "2022-03-02T17:47:41.101Z"
      },
      {
        "duration": 16,
        "start_time": "2022-03-02T17:47:41.105Z"
      },
      {
        "duration": -23,
        "start_time": "2022-03-02T17:47:41.145Z"
      },
      {
        "duration": -27,
        "start_time": "2022-03-02T17:47:41.150Z"
      },
      {
        "duration": -29,
        "start_time": "2022-03-02T17:47:41.153Z"
      },
      {
        "duration": -32,
        "start_time": "2022-03-02T17:47:41.157Z"
      },
      {
        "duration": -34,
        "start_time": "2022-03-02T17:47:41.160Z"
      },
      {
        "duration": -38,
        "start_time": "2022-03-02T17:47:41.165Z"
      },
      {
        "duration": -40,
        "start_time": "2022-03-02T17:47:41.168Z"
      },
      {
        "duration": -43,
        "start_time": "2022-03-02T17:47:41.172Z"
      },
      {
        "duration": -46,
        "start_time": "2022-03-02T17:47:41.176Z"
      },
      {
        "duration": -49,
        "start_time": "2022-03-02T17:47:41.180Z"
      },
      {
        "duration": -47,
        "start_time": "2022-03-02T17:47:41.186Z"
      },
      {
        "duration": -52,
        "start_time": "2022-03-02T17:47:41.193Z"
      },
      {
        "duration": -54,
        "start_time": "2022-03-02T17:47:41.196Z"
      },
      {
        "duration": -57,
        "start_time": "2022-03-02T17:47:41.200Z"
      },
      {
        "duration": -60,
        "start_time": "2022-03-02T17:47:41.204Z"
      },
      {
        "duration": -63,
        "start_time": "2022-03-02T17:47:41.208Z"
      },
      {
        "duration": -66,
        "start_time": "2022-03-02T17:47:41.212Z"
      },
      {
        "duration": -69,
        "start_time": "2022-03-02T17:47:41.216Z"
      },
      {
        "duration": -72,
        "start_time": "2022-03-02T17:47:41.219Z"
      },
      {
        "duration": -75,
        "start_time": "2022-03-02T17:47:41.223Z"
      },
      {
        "duration": -77,
        "start_time": "2022-03-02T17:47:41.226Z"
      },
      {
        "duration": -80,
        "start_time": "2022-03-02T17:47:41.230Z"
      },
      {
        "duration": -83,
        "start_time": "2022-03-02T17:47:41.234Z"
      },
      {
        "duration": -86,
        "start_time": "2022-03-02T17:47:41.238Z"
      },
      {
        "duration": -90,
        "start_time": "2022-03-02T17:47:41.243Z"
      },
      {
        "duration": -148,
        "start_time": "2022-03-02T17:47:41.302Z"
      },
      {
        "duration": -152,
        "start_time": "2022-03-02T17:47:41.307Z"
      },
      {
        "duration": -156,
        "start_time": "2022-03-02T17:47:41.312Z"
      },
      {
        "duration": -159,
        "start_time": "2022-03-02T17:47:41.316Z"
      },
      {
        "duration": -162,
        "start_time": "2022-03-02T17:47:41.321Z"
      },
      {
        "duration": -164,
        "start_time": "2022-03-02T17:47:41.324Z"
      },
      {
        "duration": -167,
        "start_time": "2022-03-02T17:47:41.328Z"
      },
      {
        "duration": -170,
        "start_time": "2022-03-02T17:47:41.332Z"
      },
      {
        "duration": -173,
        "start_time": "2022-03-02T17:47:41.336Z"
      },
      {
        "duration": -175,
        "start_time": "2022-03-02T17:47:41.339Z"
      },
      {
        "duration": -178,
        "start_time": "2022-03-02T17:47:41.343Z"
      },
      {
        "duration": -181,
        "start_time": "2022-03-02T17:47:41.347Z"
      },
      {
        "duration": -184,
        "start_time": "2022-03-02T17:47:41.351Z"
      },
      {
        "duration": -185,
        "start_time": "2022-03-02T17:47:41.354Z"
      },
      {
        "duration": -187,
        "start_time": "2022-03-02T17:47:41.357Z"
      },
      {
        "duration": -190,
        "start_time": "2022-03-02T17:47:41.361Z"
      },
      {
        "duration": -193,
        "start_time": "2022-03-02T17:47:41.365Z"
      },
      {
        "duration": -195,
        "start_time": "2022-03-02T17:47:41.368Z"
      },
      {
        "duration": -198,
        "start_time": "2022-03-02T17:47:41.372Z"
      },
      {
        "duration": 1138,
        "start_time": "2022-03-02T17:47:47.467Z"
      },
      {
        "duration": 950,
        "start_time": "2022-03-02T17:47:48.607Z"
      },
      {
        "duration": 15,
        "start_time": "2022-03-02T17:47:49.559Z"
      },
      {
        "duration": 143,
        "start_time": "2022-03-02T17:47:49.576Z"
      },
      {
        "duration": 133,
        "start_time": "2022-03-02T17:47:49.721Z"
      },
      {
        "duration": 91,
        "start_time": "2022-03-02T17:47:49.856Z"
      },
      {
        "duration": 127,
        "start_time": "2022-03-02T17:47:49.950Z"
      },
      {
        "duration": 127,
        "start_time": "2022-03-02T17:47:50.079Z"
      },
      {
        "duration": 181,
        "start_time": "2022-03-02T17:47:50.207Z"
      },
      {
        "duration": 176,
        "start_time": "2022-03-02T17:47:50.389Z"
      },
      {
        "duration": 169,
        "start_time": "2022-03-02T17:47:50.567Z"
      },
      {
        "duration": 82,
        "start_time": "2022-03-02T17:47:50.738Z"
      },
      {
        "duration": 37,
        "start_time": "2022-03-02T17:47:50.822Z"
      },
      {
        "duration": 2,
        "start_time": "2022-03-02T17:47:50.861Z"
      },
      {
        "duration": 164,
        "start_time": "2022-03-02T17:47:50.865Z"
      },
      {
        "duration": 1056,
        "start_time": "2022-03-02T17:47:51.030Z"
      },
      {
        "duration": 313,
        "start_time": "2022-03-02T17:47:52.088Z"
      },
      {
        "duration": 540,
        "start_time": "2022-03-02T17:47:52.402Z"
      },
      {
        "duration": 290,
        "start_time": "2022-03-02T17:47:52.943Z"
      },
      {
        "duration": 313,
        "start_time": "2022-03-02T17:47:53.234Z"
      },
      {
        "duration": 475,
        "start_time": "2022-03-02T17:47:53.549Z"
      },
      {
        "duration": 281,
        "start_time": "2022-03-02T17:47:54.025Z"
      },
      {
        "duration": 322,
        "start_time": "2022-03-02T17:47:54.310Z"
      },
      {
        "duration": 1057,
        "start_time": "2022-03-02T17:47:54.641Z"
      },
      {
        "duration": 278,
        "start_time": "2022-03-02T17:47:55.699Z"
      },
      {
        "duration": 14,
        "start_time": "2022-03-02T17:47:55.979Z"
      },
      {
        "duration": 86,
        "start_time": "2022-03-02T17:47:55.995Z"
      },
      {
        "duration": 4,
        "start_time": "2022-03-02T17:47:56.082Z"
      },
      {
        "duration": 5940,
        "start_time": "2022-03-02T17:47:56.088Z"
      },
      {
        "duration": 137,
        "start_time": "2022-03-02T17:48:02.030Z"
      },
      {
        "duration": 179,
        "start_time": "2022-03-02T17:48:02.169Z"
      },
      {
        "duration": 42,
        "start_time": "2022-03-02T17:48:02.308Z"
      },
      {
        "duration": 40,
        "start_time": "2022-03-02T17:48:02.311Z"
      },
      {
        "duration": 20,
        "start_time": "2022-03-02T17:48:02.332Z"
      },
      {
        "duration": 18,
        "start_time": "2022-03-02T17:48:02.335Z"
      },
      {
        "duration": 14,
        "start_time": "2022-03-02T17:48:02.339Z"
      },
      {
        "duration": 12,
        "start_time": "2022-03-02T17:48:02.342Z"
      },
      {
        "duration": 9,
        "start_time": "2022-03-02T17:48:02.346Z"
      },
      {
        "duration": 6,
        "start_time": "2022-03-02T17:48:02.350Z"
      },
      {
        "duration": 4,
        "start_time": "2022-03-02T17:48:02.353Z"
      },
      {
        "duration": 1,
        "start_time": "2022-03-02T17:48:02.356Z"
      },
      {
        "duration": -2,
        "start_time": "2022-03-02T17:48:02.360Z"
      },
      {
        "duration": -5,
        "start_time": "2022-03-02T17:48:02.364Z"
      },
      {
        "duration": -10,
        "start_time": "2022-03-02T17:48:02.370Z"
      },
      {
        "duration": -13,
        "start_time": "2022-03-02T17:48:02.374Z"
      },
      {
        "duration": -18,
        "start_time": "2022-03-02T17:48:02.379Z"
      },
      {
        "duration": -23,
        "start_time": "2022-03-02T17:48:02.385Z"
      },
      {
        "duration": -55,
        "start_time": "2022-03-02T17:48:02.418Z"
      },
      {
        "duration": -58,
        "start_time": "2022-03-02T17:48:02.422Z"
      },
      {
        "duration": -60,
        "start_time": "2022-03-02T17:48:02.425Z"
      },
      {
        "duration": -62,
        "start_time": "2022-03-02T17:48:02.428Z"
      },
      {
        "duration": -67,
        "start_time": "2022-03-02T17:48:02.433Z"
      },
      {
        "duration": -68,
        "start_time": "2022-03-02T17:48:02.435Z"
      },
      {
        "duration": -71,
        "start_time": "2022-03-02T17:48:02.439Z"
      },
      {
        "duration": -74,
        "start_time": "2022-03-02T17:48:02.443Z"
      },
      {
        "duration": -77,
        "start_time": "2022-03-02T17:48:02.447Z"
      },
      {
        "duration": -77,
        "start_time": "2022-03-02T17:48:02.450Z"
      },
      {
        "duration": -81,
        "start_time": "2022-03-02T17:48:02.454Z"
      },
      {
        "duration": -82,
        "start_time": "2022-03-02T17:48:02.456Z"
      },
      {
        "duration": -84,
        "start_time": "2022-03-02T17:48:02.459Z"
      },
      {
        "duration": -86,
        "start_time": "2022-03-02T17:48:02.462Z"
      },
      {
        "duration": -89,
        "start_time": "2022-03-02T17:48:02.466Z"
      },
      {
        "duration": -91,
        "start_time": "2022-03-02T17:48:02.469Z"
      },
      {
        "duration": -93,
        "start_time": "2022-03-02T17:48:02.472Z"
      },
      {
        "duration": -95,
        "start_time": "2022-03-02T17:48:02.475Z"
      },
      {
        "duration": -97,
        "start_time": "2022-03-02T17:48:02.478Z"
      },
      {
        "duration": -99,
        "start_time": "2022-03-02T17:48:02.481Z"
      },
      {
        "duration": -102,
        "start_time": "2022-03-02T17:48:02.484Z"
      },
      {
        "duration": -104,
        "start_time": "2022-03-02T17:48:02.487Z"
      },
      {
        "duration": -112,
        "start_time": "2022-03-02T17:48:02.496Z"
      },
      {
        "duration": -114,
        "start_time": "2022-03-02T17:48:02.499Z"
      },
      {
        "duration": -117,
        "start_time": "2022-03-02T17:48:02.503Z"
      },
      {
        "duration": -119,
        "start_time": "2022-03-02T17:48:02.506Z"
      },
      {
        "duration": -121,
        "start_time": "2022-03-02T17:48:02.509Z"
      },
      {
        "duration": -76,
        "start_time": "2022-03-02T17:48:02.512Z"
      },
      {
        "duration": -135,
        "start_time": "2022-03-02T17:48:02.572Z"
      },
      {
        "duration": -130,
        "start_time": "2022-03-02T17:48:02.574Z"
      },
      {
        "duration": -131,
        "start_time": "2022-03-02T17:48:02.577Z"
      },
      {
        "duration": -134,
        "start_time": "2022-03-02T17:48:02.581Z"
      },
      {
        "duration": -136,
        "start_time": "2022-03-02T17:48:02.585Z"
      },
      {
        "duration": -137,
        "start_time": "2022-03-02T17:48:02.587Z"
      },
      {
        "duration": 7449,
        "start_time": "2022-03-02T17:48:12.390Z"
      },
      {
        "duration": 1193,
        "start_time": "2022-03-02T17:48:47.021Z"
      },
      {
        "duration": 888,
        "start_time": "2022-03-02T17:48:48.215Z"
      },
      {
        "duration": 15,
        "start_time": "2022-03-02T17:48:49.105Z"
      },
      {
        "duration": 140,
        "start_time": "2022-03-02T17:48:49.122Z"
      },
      {
        "duration": 128,
        "start_time": "2022-03-02T17:48:49.263Z"
      },
      {
        "duration": 78,
        "start_time": "2022-03-02T17:48:49.392Z"
      },
      {
        "duration": 128,
        "start_time": "2022-03-02T17:48:49.471Z"
      },
      {
        "duration": 122,
        "start_time": "2022-03-02T17:48:49.601Z"
      },
      {
        "duration": 188,
        "start_time": "2022-03-02T17:48:49.726Z"
      },
      {
        "duration": 184,
        "start_time": "2022-03-02T17:48:49.916Z"
      },
      {
        "duration": 182,
        "start_time": "2022-03-02T17:48:50.102Z"
      },
      {
        "duration": 94,
        "start_time": "2022-03-02T17:48:50.286Z"
      },
      {
        "duration": 32,
        "start_time": "2022-03-02T17:48:50.381Z"
      },
      {
        "duration": 19,
        "start_time": "2022-03-02T17:48:50.415Z"
      },
      {
        "duration": 142,
        "start_time": "2022-03-02T17:48:50.441Z"
      },
      {
        "duration": 1040,
        "start_time": "2022-03-02T17:48:50.585Z"
      },
      {
        "duration": 304,
        "start_time": "2022-03-02T17:48:51.632Z"
      },
      {
        "duration": 545,
        "start_time": "2022-03-02T17:48:51.938Z"
      },
      {
        "duration": 275,
        "start_time": "2022-03-02T17:48:52.485Z"
      },
      {
        "duration": 300,
        "start_time": "2022-03-02T17:48:52.762Z"
      },
      {
        "duration": 484,
        "start_time": "2022-03-02T17:48:53.063Z"
      },
      {
        "duration": 278,
        "start_time": "2022-03-02T17:48:53.548Z"
      },
      {
        "duration": 326,
        "start_time": "2022-03-02T17:48:53.827Z"
      },
      {
        "duration": 1057,
        "start_time": "2022-03-02T17:48:54.154Z"
      },
      {
        "duration": 273,
        "start_time": "2022-03-02T17:48:55.212Z"
      },
      {
        "duration": 15,
        "start_time": "2022-03-02T17:48:55.487Z"
      },
      {
        "duration": 86,
        "start_time": "2022-03-02T17:48:55.506Z"
      },
      {
        "duration": 3,
        "start_time": "2022-03-02T17:48:55.595Z"
      },
      {
        "duration": 29877,
        "start_time": "2022-03-02T17:48:55.600Z"
      },
      {
        "duration": 79,
        "start_time": "2022-03-02T17:49:25.479Z"
      },
      {
        "duration": 5,
        "start_time": "2022-03-02T17:49:25.559Z"
      },
      {
        "duration": 571990,
        "start_time": "2022-03-02T17:49:25.565Z"
      },
      {
        "duration": 186049,
        "start_time": "2022-03-02T17:58:57.556Z"
      },
      {
        "duration": 56681,
        "start_time": "2022-03-02T18:02:03.607Z"
      },
      {
        "duration": 34783,
        "start_time": "2022-03-02T18:03:00.289Z"
      },
      {
        "duration": 3,
        "start_time": "2022-03-02T18:03:35.073Z"
      },
      {
        "duration": 1528778,
        "start_time": "2022-03-02T18:03:35.078Z"
      },
      {
        "duration": 724,
        "start_time": "2022-03-02T18:29:03.858Z"
      },
      {
        "duration": 6,
        "start_time": "2022-03-02T18:29:04.633Z"
      },
      {
        "duration": 9,
        "start_time": "2022-03-02T18:29:04.643Z"
      },
      {
        "duration": 5,
        "start_time": "2022-03-02T18:29:04.654Z"
      },
      {
        "duration": 435,
        "start_time": "2022-03-02T18:29:04.661Z"
      },
      {
        "duration": 151,
        "start_time": "2022-03-02T18:29:05.097Z"
      },
      {
        "duration": 686,
        "start_time": "2022-03-02T18:29:05.250Z"
      },
      {
        "duration": 87116,
        "start_time": "2022-03-02T18:29:05.937Z"
      },
      {
        "duration": 40454,
        "start_time": "2022-03-02T18:30:33.054Z"
      },
      {
        "duration": 6397,
        "start_time": "2022-03-02T18:31:13.509Z"
      },
      {
        "duration": 19846,
        "start_time": "2022-03-02T18:31:19.908Z"
      },
      {
        "duration": 3,
        "start_time": "2022-03-02T18:31:39.844Z"
      },
      {
        "duration": 1300,
        "start_time": "2022-03-02T18:31:39.849Z"
      },
      {
        "duration": 209153,
        "start_time": "2022-03-02T18:31:41.151Z"
      },
      {
        "duration": 626558,
        "start_time": "2022-03-02T18:35:10.305Z"
      },
      {
        "duration": 92585,
        "start_time": "2022-03-02T18:45:36.865Z"
      },
      {
        "duration": 602198,
        "start_time": "2022-03-02T18:47:09.451Z"
      },
      {
        "duration": 3,
        "start_time": "2022-03-02T18:57:11.650Z"
      },
      {
        "duration": 183200,
        "start_time": "2022-03-02T18:57:11.654Z"
      },
      {
        "duration": 2192,
        "start_time": "2022-03-02T19:00:14.855Z"
      },
      {
        "duration": 2196,
        "start_time": "2022-03-02T19:00:17.049Z"
      },
      {
        "duration": 2,
        "start_time": "2022-03-02T19:00:19.247Z"
      },
      {
        "duration": 11,
        "start_time": "2022-03-02T19:00:19.251Z"
      }
    ],
    "kernelspec": {
      "display_name": "Python 3",
      "language": "python",
      "name": "python3"
    },
    "language_info": {
      "codemirror_mode": {
        "name": "ipython",
        "version": 3
      },
      "file_extension": ".py",
      "mimetype": "text/x-python",
      "name": "python",
      "nbconvert_exporter": "python",
      "pygments_lexer": "ipython3",
      "version": "3.7.8"
    },
    "toc": {
      "base_numbering": 1,
      "nav_menu": {},
      "number_sections": true,
      "sideBar": true,
      "skip_h1_title": true,
      "title_cell": "Table of Contents",
      "title_sidebar": "Contents",
      "toc_cell": false,
      "toc_position": {
        "height": "calc(100% - 180px)",
        "left": "10px",
        "top": "150px",
        "width": "255.594px"
      },
      "toc_section_display": true,
      "toc_window_display": false
    },
    "colab": {
      "name": "car_price.ipynb",
      "provenance": [],
      "collapsed_sections": []
    }
  },
  "nbformat": 4,
  "nbformat_minor": 0
}