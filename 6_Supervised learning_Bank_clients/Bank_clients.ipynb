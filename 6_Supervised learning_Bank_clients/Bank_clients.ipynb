{
 "cells": [
  {
   "cell_type": "markdown",
   "metadata": {
    "toc": true
   },
   "source": [
    "<h1>Содержание<span class=\"tocSkip\"></span></h1>\n",
    "<div class=\"toc\"><ul class=\"toc-item\"><li><span><a href=\"#Подготовка-данных\" data-toc-modified-id=\"Подготовка-данных-1\"><span class=\"toc-item-num\">1&nbsp;&nbsp;</span>Подготовка данных</a></span></li><li><span><a href=\"#Исследование-задачи\" data-toc-modified-id=\"Исследование-задачи-2\"><span class=\"toc-item-num\">2&nbsp;&nbsp;</span>Исследование задачи</a></span></li><li><span><a href=\"#Борьба-с-дисбалансом\" data-toc-modified-id=\"Борьба-с-дисбалансом-3\"><span class=\"toc-item-num\">3&nbsp;&nbsp;</span>Борьба с дисбалансом</a></span><ul class=\"toc-item\"><li><span><a href=\"#Баланс-классов\" data-toc-modified-id=\"Баланс-классов-3.1\"><span class=\"toc-item-num\">3.1&nbsp;&nbsp;</span>Баланс классов</a></span></li><li><span><a href=\"#Увеличение-выборки\" data-toc-modified-id=\"Увеличение-выборки-3.2\"><span class=\"toc-item-num\">3.2&nbsp;&nbsp;</span>Увеличение выборки</a></span></li><li><span><a href=\"#Уменьшение-выборки\" data-toc-modified-id=\"Уменьшение-выборки-3.3\"><span class=\"toc-item-num\">3.3&nbsp;&nbsp;</span>Уменьшение выборки</a></span></li><li><span><a href=\"#Изменение-порога\" data-toc-modified-id=\"Изменение-порога-3.4\"><span class=\"toc-item-num\">3.4&nbsp;&nbsp;</span>Изменение порога</a></span></li><li><span><a href=\"#PR---кривая\" data-toc-modified-id=\"PR---кривая-3.5\"><span class=\"toc-item-num\">3.5&nbsp;&nbsp;</span>PR - кривая</a></span></li><li><span><a href=\"#TPR-и-FPR\" data-toc-modified-id=\"TPR-и-FPR-3.6\"><span class=\"toc-item-num\">3.6&nbsp;&nbsp;</span>TPR и FPR</a></span></li><li><span><a href=\"#ROC-кривая\" data-toc-modified-id=\"ROC-кривая-3.7\"><span class=\"toc-item-num\">3.7&nbsp;&nbsp;</span>ROC-кривая</a></span></li><li><span><a href=\"#Сравнение-разных-моделей\" data-toc-modified-id=\"Сравнение-разных-моделей-3.8\"><span class=\"toc-item-num\">3.8&nbsp;&nbsp;</span>Сравнение разных моделей</a></span></li></ul></li><li><span><a href=\"#Тестирование-модели\" data-toc-modified-id=\"Тестирование-модели-4\"><span class=\"toc-item-num\">4&nbsp;&nbsp;</span>Тестирование модели</a></span></li></ul></div>"
   ]
  },
  {
   "cell_type": "markdown",
   "metadata": {},
   "source": [
    "# Отток клиентов"
   ]
  },
  {
   "cell_type": "markdown",
   "metadata": {},
   "source": [
    "Из «Бета-Банка» стали уходить клиенты. Каждый месяц. Немного, но заметно. Банковские маркетологи посчитали: сохранять текущих клиентов дешевле, чем привлекать новых.\n",
    "\n",
    "Нужно спрогнозировать, уйдёт клиент из банка в ближайшее время или нет. Вам предоставлены исторические данные о поведении клиентов и расторжении договоров с банком. \n",
    "\n",
    "Постройте модель с предельно большим значением *F1*-меры. Чтобы сдать проект успешно, нужно довести метрику до 0.59. Проверьте *F1*-меру на тестовой выборке самостоятельно.\n",
    "\n",
    "Дополнительно измеряйте *AUC-ROC*, сравнивайте её значение с *F1*-мерой.\n",
    "\n",
    "Источник данных: [https://www.kaggle.com/barelydedicated/bank-customer-churn-modeling](https://www.kaggle.com/barelydedicated/bank-customer-churn-modeling)"
   ]
  },
  {
   "cell_type": "markdown",
   "metadata": {},
   "source": [
    "# Признаки\n",
    "    \n",
    "    RowNumber — индекс строки в данных\n",
    "    CustomerId — уникальный идентификатор клиента\n",
    "    Surname — фамилия\n",
    "    CreditScore — кредитный рейтинг\n",
    "    Geography — страна проживания\n",
    "    Gender — пол\n",
    "    Age — возраст\n",
    "    Tenure — сколько лет человек является клиентом банка\n",
    "    Balance — баланс на счёте\n",
    "    NumOfProducts — количество продуктов банка, используемых клиентом\n",
    "    HasCrCard — наличие кредитной карты\n",
    "    IsActiveMember — активность клиента\n",
    "    EstimatedSalary — предполагаемая зарплата\n",
    "# Целевой признак\n",
    "\n",
    "    Exited — факт ухода клиента   "
   ]
  },
  {
   "cell_type": "markdown",
   "metadata": {},
   "source": [
    "## Подготовка данных"
   ]
  },
  {
   "cell_type": "code",
   "execution_count": 1,
   "metadata": {},
   "outputs": [],
   "source": [
    "#pip install --upgrade scikit-learn"
   ]
  },
  {
   "cell_type": "code",
   "execution_count": 2,
   "metadata": {
    "scrolled": true
   },
   "outputs": [],
   "source": [
    "import pandas as pd\n",
    "import numpy as np\n",
    "from sklearn.model_selection import train_test_split \n",
    "from sklearn.tree import DecisionTreeClassifier\n",
    "from sklearn.metrics import confusion_matrix\n",
    "from sklearn.metrics import plot_confusion_matrix\n",
    "import matplotlib.pyplot as plt  \n",
    "import seaborn as sn\n",
    "from sklearn.metrics import recall_score\n",
    "from sklearn.metrics import precision_score\n",
    "from sklearn.metrics import f1_score\n",
    "from sklearn.utils import shuffle\n",
    "from sklearn.metrics import precision_recall_curve\n",
    "from sklearn.metrics import roc_curve \n",
    "from sklearn.metrics import roc_auc_score\n",
    "from sklearn import metrics\n",
    "from sklearn.metrics import accuracy_score\n",
    "from sklearn.ensemble import RandomForestClassifier\n",
    "from sklearn.linear_model import LogisticRegression \n",
    "from sklearn.model_selection import GridSearchCV\n",
    "import time\n",
    "\n",
    "from IPython.display import Audio\n",
    "sound_file = 'https://www.mediacollege.com/downloads/sound-effects/weapons/machinegun-01.wav'"
   ]
  },
  {
   "cell_type": "code",
   "execution_count": 3,
   "metadata": {
    "scrolled": true
   },
   "outputs": [
    {
     "name": "stdout",
     "output_type": "stream",
     "text": [
      "<class 'pandas.core.frame.DataFrame'>\n",
      "RangeIndex: 10000 entries, 0 to 9999\n",
      "Data columns (total 14 columns):\n",
      "RowNumber          10000 non-null int64\n",
      "CustomerId         10000 non-null int64\n",
      "Surname            10000 non-null object\n",
      "CreditScore        10000 non-null int64\n",
      "Geography          10000 non-null object\n",
      "Gender             10000 non-null object\n",
      "Age                10000 non-null int64\n",
      "Tenure             9091 non-null float64\n",
      "Balance            10000 non-null float64\n",
      "NumOfProducts      10000 non-null int64\n",
      "HasCrCard          10000 non-null int64\n",
      "IsActiveMember     10000 non-null int64\n",
      "EstimatedSalary    10000 non-null float64\n",
      "Exited             10000 non-null int64\n",
      "dtypes: float64(3), int64(8), object(3)\n",
      "memory usage: 1.1+ MB\n"
     ]
    },
    {
     "data": {
      "text/html": [
       "<div>\n",
       "<style scoped>\n",
       "    .dataframe tbody tr th:only-of-type {\n",
       "        vertical-align: middle;\n",
       "    }\n",
       "\n",
       "    .dataframe tbody tr th {\n",
       "        vertical-align: top;\n",
       "    }\n",
       "\n",
       "    .dataframe thead th {\n",
       "        text-align: right;\n",
       "    }\n",
       "</style>\n",
       "<table border=\"1\" class=\"dataframe\">\n",
       "  <thead>\n",
       "    <tr style=\"text-align: right;\">\n",
       "      <th></th>\n",
       "      <th>RowNumber</th>\n",
       "      <th>CustomerId</th>\n",
       "      <th>Surname</th>\n",
       "      <th>CreditScore</th>\n",
       "      <th>Geography</th>\n",
       "      <th>Gender</th>\n",
       "      <th>Age</th>\n",
       "      <th>Tenure</th>\n",
       "      <th>Balance</th>\n",
       "      <th>NumOfProducts</th>\n",
       "      <th>HasCrCard</th>\n",
       "      <th>IsActiveMember</th>\n",
       "      <th>EstimatedSalary</th>\n",
       "      <th>Exited</th>\n",
       "    </tr>\n",
       "  </thead>\n",
       "  <tbody>\n",
       "    <tr>\n",
       "      <td>0</td>\n",
       "      <td>1</td>\n",
       "      <td>15634602</td>\n",
       "      <td>Hargrave</td>\n",
       "      <td>619</td>\n",
       "      <td>France</td>\n",
       "      <td>Female</td>\n",
       "      <td>42</td>\n",
       "      <td>2.0</td>\n",
       "      <td>0.00</td>\n",
       "      <td>1</td>\n",
       "      <td>1</td>\n",
       "      <td>1</td>\n",
       "      <td>101348.88</td>\n",
       "      <td>1</td>\n",
       "    </tr>\n",
       "    <tr>\n",
       "      <td>1</td>\n",
       "      <td>2</td>\n",
       "      <td>15647311</td>\n",
       "      <td>Hill</td>\n",
       "      <td>608</td>\n",
       "      <td>Spain</td>\n",
       "      <td>Female</td>\n",
       "      <td>41</td>\n",
       "      <td>1.0</td>\n",
       "      <td>83807.86</td>\n",
       "      <td>1</td>\n",
       "      <td>0</td>\n",
       "      <td>1</td>\n",
       "      <td>112542.58</td>\n",
       "      <td>0</td>\n",
       "    </tr>\n",
       "    <tr>\n",
       "      <td>2</td>\n",
       "      <td>3</td>\n",
       "      <td>15619304</td>\n",
       "      <td>Onio</td>\n",
       "      <td>502</td>\n",
       "      <td>France</td>\n",
       "      <td>Female</td>\n",
       "      <td>42</td>\n",
       "      <td>8.0</td>\n",
       "      <td>159660.80</td>\n",
       "      <td>3</td>\n",
       "      <td>1</td>\n",
       "      <td>0</td>\n",
       "      <td>113931.57</td>\n",
       "      <td>1</td>\n",
       "    </tr>\n",
       "    <tr>\n",
       "      <td>3</td>\n",
       "      <td>4</td>\n",
       "      <td>15701354</td>\n",
       "      <td>Boni</td>\n",
       "      <td>699</td>\n",
       "      <td>France</td>\n",
       "      <td>Female</td>\n",
       "      <td>39</td>\n",
       "      <td>1.0</td>\n",
       "      <td>0.00</td>\n",
       "      <td>2</td>\n",
       "      <td>0</td>\n",
       "      <td>0</td>\n",
       "      <td>93826.63</td>\n",
       "      <td>0</td>\n",
       "    </tr>\n",
       "    <tr>\n",
       "      <td>4</td>\n",
       "      <td>5</td>\n",
       "      <td>15737888</td>\n",
       "      <td>Mitchell</td>\n",
       "      <td>850</td>\n",
       "      <td>Spain</td>\n",
       "      <td>Female</td>\n",
       "      <td>43</td>\n",
       "      <td>2.0</td>\n",
       "      <td>125510.82</td>\n",
       "      <td>1</td>\n",
       "      <td>1</td>\n",
       "      <td>1</td>\n",
       "      <td>79084.10</td>\n",
       "      <td>0</td>\n",
       "    </tr>\n",
       "  </tbody>\n",
       "</table>\n",
       "</div>"
      ],
      "text/plain": [
       "   RowNumber  CustomerId   Surname  CreditScore Geography  Gender  Age  \\\n",
       "0          1    15634602  Hargrave          619    France  Female   42   \n",
       "1          2    15647311      Hill          608     Spain  Female   41   \n",
       "2          3    15619304      Onio          502    France  Female   42   \n",
       "3          4    15701354      Boni          699    France  Female   39   \n",
       "4          5    15737888  Mitchell          850     Spain  Female   43   \n",
       "\n",
       "   Tenure    Balance  NumOfProducts  HasCrCard  IsActiveMember  \\\n",
       "0     2.0       0.00              1          1               1   \n",
       "1     1.0   83807.86              1          0               1   \n",
       "2     8.0  159660.80              3          1               0   \n",
       "3     1.0       0.00              2          0               0   \n",
       "4     2.0  125510.82              1          1               1   \n",
       "\n",
       "   EstimatedSalary  Exited  \n",
       "0        101348.88       1  \n",
       "1        112542.58       0  \n",
       "2        113931.57       1  \n",
       "3         93826.63       0  \n",
       "4         79084.10       0  "
      ]
     },
     "execution_count": 3,
     "metadata": {},
     "output_type": "execute_result"
    }
   ],
   "source": [
    "data = pd.read_csv('/datasets/Churn.csv')\n",
    "data.info()\n",
    "data.head()"
   ]
  },
  {
   "cell_type": "markdown",
   "metadata": {},
   "source": [
    "    Признак 'RowNumber' не несёт никакой информации,он лишний, т.к. есть индекс\n",
    "    Также есть пропуски в 'Tenure' — сколько лет человек является клиентом банка.\n",
    "    Целевой признак есть примерно у 20% выборки"
   ]
  },
  {
   "cell_type": "code",
   "execution_count": 4,
   "metadata": {
    "scrolled": true
   },
   "outputs": [
    {
     "data": {
      "text/plain": [
       "9091"
      ]
     },
     "metadata": {},
     "output_type": "display_data"
    },
    {
     "data": {
      "text/plain": [
       "909"
      ]
     },
     "metadata": {},
     "output_type": "display_data"
    }
   ],
   "source": [
    "display(data.Tenure.value_counts().sum(), data.Tenure.isna().sum())"
   ]
  },
  {
   "cell_type": "markdown",
   "metadata": {},
   "source": [
    "    В 'Tenure' отсутствует около 10% данных, просто удалить их нельзя, поэтому заменю NaN средними значениями взятыми по трём признакам: страна, пол, возраст"
   ]
  },
  {
   "cell_type": "code",
   "execution_count": 5,
   "metadata": {
    "scrolled": false
   },
   "outputs": [
    {
     "data": {
      "text/html": [
       "<div>\n",
       "<style scoped>\n",
       "    .dataframe tbody tr th:only-of-type {\n",
       "        vertical-align: middle;\n",
       "    }\n",
       "\n",
       "    .dataframe tbody tr th {\n",
       "        vertical-align: top;\n",
       "    }\n",
       "\n",
       "    .dataframe thead th {\n",
       "        text-align: right;\n",
       "    }\n",
       "</style>\n",
       "<table border=\"1\" class=\"dataframe\">\n",
       "  <thead>\n",
       "    <tr style=\"text-align: right;\">\n",
       "      <th></th>\n",
       "      <th></th>\n",
       "      <th></th>\n",
       "      <th>Tenure</th>\n",
       "    </tr>\n",
       "    <tr>\n",
       "      <th>Geography</th>\n",
       "      <th>Gender</th>\n",
       "      <th>Age</th>\n",
       "      <th></th>\n",
       "    </tr>\n",
       "  </thead>\n",
       "  <tbody>\n",
       "    <tr>\n",
       "      <td rowspan=\"5\" valign=\"top\">France</td>\n",
       "      <td rowspan=\"5\" valign=\"top\">Female</td>\n",
       "      <td>19</td>\n",
       "      <td>3</td>\n",
       "    </tr>\n",
       "    <tr>\n",
       "      <td>20</td>\n",
       "      <td>6</td>\n",
       "    </tr>\n",
       "    <tr>\n",
       "      <td>21</td>\n",
       "      <td>5</td>\n",
       "    </tr>\n",
       "    <tr>\n",
       "      <td>22</td>\n",
       "      <td>6</td>\n",
       "    </tr>\n",
       "    <tr>\n",
       "      <td>23</td>\n",
       "      <td>5</td>\n",
       "    </tr>\n",
       "    <tr>\n",
       "      <td>...</td>\n",
       "      <td>...</td>\n",
       "      <td>...</td>\n",
       "      <td>...</td>\n",
       "    </tr>\n",
       "    <tr>\n",
       "      <td rowspan=\"5\" valign=\"top\">Spain</td>\n",
       "      <td rowspan=\"5\" valign=\"top\">Male</td>\n",
       "      <td>76</td>\n",
       "      <td>6</td>\n",
       "    </tr>\n",
       "    <tr>\n",
       "      <td>77</td>\n",
       "      <td>5</td>\n",
       "    </tr>\n",
       "    <tr>\n",
       "      <td>78</td>\n",
       "      <td>2</td>\n",
       "    </tr>\n",
       "    <tr>\n",
       "      <td>80</td>\n",
       "      <td>8</td>\n",
       "    </tr>\n",
       "    <tr>\n",
       "      <td>88</td>\n",
       "      <td>10</td>\n",
       "    </tr>\n",
       "  </tbody>\n",
       "</table>\n",
       "<p>372 rows × 1 columns</p>\n",
       "</div>"
      ],
      "text/plain": [
       "                      Tenure\n",
       "Geography Gender Age        \n",
       "France    Female 19        3\n",
       "                 20        6\n",
       "                 21        5\n",
       "                 22        6\n",
       "                 23        5\n",
       "...                      ...\n",
       "Spain     Male   76        6\n",
       "                 77        5\n",
       "                 78        2\n",
       "                 80        8\n",
       "                 88       10\n",
       "\n",
       "[372 rows x 1 columns]"
      ]
     },
     "metadata": {},
     "output_type": "display_data"
    }
   ],
   "source": [
    "Tenure_fill = data.pivot_table(index = ['Geography', 'Gender', 'Age'], \n",
    "                               values = 'Tenure', \n",
    "                               aggfunc = 'mean'\n",
    "                               ).round().astype(int)\n",
    "display(Tenure_fill)"
   ]
  },
  {
   "cell_type": "markdown",
   "metadata": {},
   "source": [
    "    Для того, чтоб заполнить пропуски, создам в data такие же индексы, как в таблице со средними"
   ]
  },
  {
   "cell_type": "code",
   "execution_count": 6,
   "metadata": {},
   "outputs": [
    {
     "name": "stdout",
     "output_type": "stream",
     "text": [
      "<class 'pandas.core.frame.DataFrame'>\n",
      "RangeIndex: 10000 entries, 0 to 9999\n",
      "Data columns (total 14 columns):\n",
      "Geography          10000 non-null object\n",
      "Gender             10000 non-null object\n",
      "Age                10000 non-null int64\n",
      "RowNumber          10000 non-null int64\n",
      "CustomerId         10000 non-null int64\n",
      "Surname            10000 non-null object\n",
      "CreditScore        10000 non-null int64\n",
      "Tenure             9997 non-null float64\n",
      "Balance            10000 non-null float64\n",
      "NumOfProducts      10000 non-null int64\n",
      "HasCrCard          10000 non-null int64\n",
      "IsActiveMember     10000 non-null int64\n",
      "EstimatedSalary    10000 non-null float64\n",
      "Exited             10000 non-null int64\n",
      "dtypes: float64(3), int64(8), object(3)\n",
      "memory usage: 1.1+ MB\n"
     ]
    }
   ],
   "source": [
    "data = data.set_index(['Geography', 'Gender', 'Age'])\n",
    "data['Tenure'] = data['Tenure'].fillna(Tenure_fill['Tenure'], axis = 0)\n",
    "data = data.reset_index()\n",
    "data.info()"
   ]
  },
  {
   "cell_type": "markdown",
   "metadata": {},
   "source": [
    "    Осталось 3 пропуска, их удалю\n",
    "    Проверяю на дубликаты. Уникальным признаком является только 'CustomerId'"
   ]
  },
  {
   "cell_type": "code",
   "execution_count": 7,
   "metadata": {
    "scrolled": true
   },
   "outputs": [
    {
     "name": "stdout",
     "output_type": "stream",
     "text": [
      "<class 'pandas.core.frame.DataFrame'>\n",
      "Int64Index: 10000 entries, 0 to 9999\n",
      "Data columns (total 14 columns):\n",
      "Geography          10000 non-null object\n",
      "Gender             10000 non-null object\n",
      "Age                10000 non-null int64\n",
      "RowNumber          10000 non-null int64\n",
      "CustomerId         10000 non-null int64\n",
      "Surname            10000 non-null object\n",
      "CreditScore        10000 non-null int64\n",
      "Tenure             9997 non-null float64\n",
      "Balance            10000 non-null float64\n",
      "NumOfProducts      10000 non-null int64\n",
      "HasCrCard          10000 non-null int64\n",
      "IsActiveMember     10000 non-null int64\n",
      "EstimatedSalary    10000 non-null float64\n",
      "Exited             10000 non-null int64\n",
      "dtypes: float64(3), int64(8), object(3)\n",
      "memory usage: 1.1+ MB\n"
     ]
    }
   ],
   "source": [
    "data = data.drop_duplicates(['CustomerId'])\n",
    "data.info()"
   ]
  },
  {
   "cell_type": "markdown",
   "metadata": {},
   "source": [
    "     Повторов нет. Прежде чем обучать модель нужно провести порядковое кодирование, т. к. некоторые признаки являются категориальными, нужны численные\n",
    "    'Surname' больше не понадобиться, этот принак никак не влияет на 'Exit', избавлюсь как и от оставшихся NaN"
   ]
  },
  {
   "cell_type": "code",
   "execution_count": 8,
   "metadata": {
    "scrolled": false
   },
   "outputs": [
    {
     "name": "stdout",
     "output_type": "stream",
     "text": [
      "<class 'pandas.core.frame.DataFrame'>\n",
      "Int64Index: 9997 entries, 0 to 9999\n",
      "Data columns (total 12 columns):\n",
      "Geography          9997 non-null object\n",
      "Gender             9997 non-null object\n",
      "Age                9997 non-null int64\n",
      "CustomerId         9997 non-null int64\n",
      "CreditScore        9997 non-null int64\n",
      "Tenure             9997 non-null int64\n",
      "Balance            9997 non-null float64\n",
      "NumOfProducts      9997 non-null int64\n",
      "HasCrCard          9997 non-null int64\n",
      "IsActiveMember     9997 non-null int64\n",
      "EstimatedSalary    9997 non-null float64\n",
      "Exited             9997 non-null int64\n",
      "dtypes: float64(2), int64(8), object(2)\n",
      "memory usage: 1015.3+ KB\n"
     ]
    }
   ],
   "source": [
    "good_data = data.drop(['Surname', 'RowNumber'], axis = 1)\n",
    "good_data = good_data.dropna()\n",
    "good_data['Tenure'] = good_data['Tenure'].astype('int64') # количество лет - целое число\n",
    "good_data.info()"
   ]
  },
  {
   "cell_type": "code",
   "execution_count": 9,
   "metadata": {
    "scrolled": false
   },
   "outputs": [
    {
     "data": {
      "text/html": [
       "<div>\n",
       "<style scoped>\n",
       "    .dataframe tbody tr th:only-of-type {\n",
       "        vertical-align: middle;\n",
       "    }\n",
       "\n",
       "    .dataframe tbody tr th {\n",
       "        vertical-align: top;\n",
       "    }\n",
       "\n",
       "    .dataframe thead th {\n",
       "        text-align: right;\n",
       "    }\n",
       "</style>\n",
       "<table border=\"1\" class=\"dataframe\">\n",
       "  <thead>\n",
       "    <tr style=\"text-align: right;\">\n",
       "      <th></th>\n",
       "      <th>Age</th>\n",
       "      <th>CustomerId</th>\n",
       "      <th>CreditScore</th>\n",
       "      <th>Tenure</th>\n",
       "      <th>Balance</th>\n",
       "      <th>NumOfProducts</th>\n",
       "      <th>HasCrCard</th>\n",
       "      <th>IsActiveMember</th>\n",
       "      <th>EstimatedSalary</th>\n",
       "      <th>Exited</th>\n",
       "      <th>Geography_Germany</th>\n",
       "      <th>Geography_Spain</th>\n",
       "      <th>Gender_Male</th>\n",
       "    </tr>\n",
       "  </thead>\n",
       "  <tbody>\n",
       "    <tr>\n",
       "      <td>0</td>\n",
       "      <td>42</td>\n",
       "      <td>15634602</td>\n",
       "      <td>619</td>\n",
       "      <td>2</td>\n",
       "      <td>0.00</td>\n",
       "      <td>1</td>\n",
       "      <td>1</td>\n",
       "      <td>1</td>\n",
       "      <td>101348.88</td>\n",
       "      <td>1</td>\n",
       "      <td>0</td>\n",
       "      <td>0</td>\n",
       "      <td>0</td>\n",
       "    </tr>\n",
       "    <tr>\n",
       "      <td>1</td>\n",
       "      <td>41</td>\n",
       "      <td>15647311</td>\n",
       "      <td>608</td>\n",
       "      <td>1</td>\n",
       "      <td>83807.86</td>\n",
       "      <td>1</td>\n",
       "      <td>0</td>\n",
       "      <td>1</td>\n",
       "      <td>112542.58</td>\n",
       "      <td>0</td>\n",
       "      <td>0</td>\n",
       "      <td>1</td>\n",
       "      <td>0</td>\n",
       "    </tr>\n",
       "    <tr>\n",
       "      <td>2</td>\n",
       "      <td>42</td>\n",
       "      <td>15619304</td>\n",
       "      <td>502</td>\n",
       "      <td>8</td>\n",
       "      <td>159660.80</td>\n",
       "      <td>3</td>\n",
       "      <td>1</td>\n",
       "      <td>0</td>\n",
       "      <td>113931.57</td>\n",
       "      <td>1</td>\n",
       "      <td>0</td>\n",
       "      <td>0</td>\n",
       "      <td>0</td>\n",
       "    </tr>\n",
       "    <tr>\n",
       "      <td>3</td>\n",
       "      <td>39</td>\n",
       "      <td>15701354</td>\n",
       "      <td>699</td>\n",
       "      <td>1</td>\n",
       "      <td>0.00</td>\n",
       "      <td>2</td>\n",
       "      <td>0</td>\n",
       "      <td>0</td>\n",
       "      <td>93826.63</td>\n",
       "      <td>0</td>\n",
       "      <td>0</td>\n",
       "      <td>0</td>\n",
       "      <td>0</td>\n",
       "    </tr>\n",
       "    <tr>\n",
       "      <td>4</td>\n",
       "      <td>43</td>\n",
       "      <td>15737888</td>\n",
       "      <td>850</td>\n",
       "      <td>2</td>\n",
       "      <td>125510.82</td>\n",
       "      <td>1</td>\n",
       "      <td>1</td>\n",
       "      <td>1</td>\n",
       "      <td>79084.10</td>\n",
       "      <td>0</td>\n",
       "      <td>0</td>\n",
       "      <td>1</td>\n",
       "      <td>0</td>\n",
       "    </tr>\n",
       "    <tr>\n",
       "      <td>...</td>\n",
       "      <td>...</td>\n",
       "      <td>...</td>\n",
       "      <td>...</td>\n",
       "      <td>...</td>\n",
       "      <td>...</td>\n",
       "      <td>...</td>\n",
       "      <td>...</td>\n",
       "      <td>...</td>\n",
       "      <td>...</td>\n",
       "      <td>...</td>\n",
       "      <td>...</td>\n",
       "      <td>...</td>\n",
       "      <td>...</td>\n",
       "    </tr>\n",
       "    <tr>\n",
       "      <td>9995</td>\n",
       "      <td>39</td>\n",
       "      <td>15606229</td>\n",
       "      <td>771</td>\n",
       "      <td>5</td>\n",
       "      <td>0.00</td>\n",
       "      <td>2</td>\n",
       "      <td>1</td>\n",
       "      <td>0</td>\n",
       "      <td>96270.64</td>\n",
       "      <td>0</td>\n",
       "      <td>0</td>\n",
       "      <td>0</td>\n",
       "      <td>1</td>\n",
       "    </tr>\n",
       "    <tr>\n",
       "      <td>9996</td>\n",
       "      <td>35</td>\n",
       "      <td>15569892</td>\n",
       "      <td>516</td>\n",
       "      <td>10</td>\n",
       "      <td>57369.61</td>\n",
       "      <td>1</td>\n",
       "      <td>1</td>\n",
       "      <td>1</td>\n",
       "      <td>101699.77</td>\n",
       "      <td>0</td>\n",
       "      <td>0</td>\n",
       "      <td>0</td>\n",
       "      <td>1</td>\n",
       "    </tr>\n",
       "    <tr>\n",
       "      <td>9997</td>\n",
       "      <td>36</td>\n",
       "      <td>15584532</td>\n",
       "      <td>709</td>\n",
       "      <td>7</td>\n",
       "      <td>0.00</td>\n",
       "      <td>1</td>\n",
       "      <td>0</td>\n",
       "      <td>1</td>\n",
       "      <td>42085.58</td>\n",
       "      <td>1</td>\n",
       "      <td>0</td>\n",
       "      <td>0</td>\n",
       "      <td>0</td>\n",
       "    </tr>\n",
       "    <tr>\n",
       "      <td>9998</td>\n",
       "      <td>42</td>\n",
       "      <td>15682355</td>\n",
       "      <td>772</td>\n",
       "      <td>3</td>\n",
       "      <td>75075.31</td>\n",
       "      <td>2</td>\n",
       "      <td>1</td>\n",
       "      <td>0</td>\n",
       "      <td>92888.52</td>\n",
       "      <td>1</td>\n",
       "      <td>1</td>\n",
       "      <td>0</td>\n",
       "      <td>1</td>\n",
       "    </tr>\n",
       "    <tr>\n",
       "      <td>9999</td>\n",
       "      <td>28</td>\n",
       "      <td>15628319</td>\n",
       "      <td>792</td>\n",
       "      <td>5</td>\n",
       "      <td>130142.79</td>\n",
       "      <td>1</td>\n",
       "      <td>1</td>\n",
       "      <td>0</td>\n",
       "      <td>38190.78</td>\n",
       "      <td>0</td>\n",
       "      <td>0</td>\n",
       "      <td>0</td>\n",
       "      <td>0</td>\n",
       "    </tr>\n",
       "  </tbody>\n",
       "</table>\n",
       "<p>9997 rows × 13 columns</p>\n",
       "</div>"
      ],
      "text/plain": [
       "      Age  CustomerId  CreditScore  Tenure    Balance  NumOfProducts  \\\n",
       "0      42    15634602          619       2       0.00              1   \n",
       "1      41    15647311          608       1   83807.86              1   \n",
       "2      42    15619304          502       8  159660.80              3   \n",
       "3      39    15701354          699       1       0.00              2   \n",
       "4      43    15737888          850       2  125510.82              1   \n",
       "...   ...         ...          ...     ...        ...            ...   \n",
       "9995   39    15606229          771       5       0.00              2   \n",
       "9996   35    15569892          516      10   57369.61              1   \n",
       "9997   36    15584532          709       7       0.00              1   \n",
       "9998   42    15682355          772       3   75075.31              2   \n",
       "9999   28    15628319          792       5  130142.79              1   \n",
       "\n",
       "      HasCrCard  IsActiveMember  EstimatedSalary  Exited  Geography_Germany  \\\n",
       "0             1               1        101348.88       1                  0   \n",
       "1             0               1        112542.58       0                  0   \n",
       "2             1               0        113931.57       1                  0   \n",
       "3             0               0         93826.63       0                  0   \n",
       "4             1               1         79084.10       0                  0   \n",
       "...         ...             ...              ...     ...                ...   \n",
       "9995          1               0         96270.64       0                  0   \n",
       "9996          1               1        101699.77       0                  0   \n",
       "9997          0               1         42085.58       1                  0   \n",
       "9998          1               0         92888.52       1                  1   \n",
       "9999          1               0         38190.78       0                  0   \n",
       "\n",
       "      Geography_Spain  Gender_Male  \n",
       "0                   0            0  \n",
       "1                   1            0  \n",
       "2                   0            0  \n",
       "3                   0            0  \n",
       "4                   1            0  \n",
       "...               ...          ...  \n",
       "9995                0            1  \n",
       "9996                0            1  \n",
       "9997                0            0  \n",
       "9998                0            1  \n",
       "9999                0            0  \n",
       "\n",
       "[9997 rows x 13 columns]"
      ]
     },
     "metadata": {},
     "output_type": "display_data"
    }
   ],
   "source": [
    "data_ohe = pd.get_dummies(good_data, drop_first=True)\n",
    "display(data_ohe)"
   ]
  },
  {
   "cell_type": "markdown",
   "metadata": {},
   "source": [
    "## Исследование задачи"
   ]
  },
  {
   "cell_type": "markdown",
   "metadata": {},
   "source": [
    "    Отношение целевого признака к остальным - 1 к 4(80% - 0, 20% - 1)"
   ]
  },
  {
   "cell_type": "code",
   "execution_count": 10,
   "metadata": {
    "scrolled": false
   },
   "outputs": [
    {
     "data": {
      "text/plain": [
       "0    7960\n",
       "1    2037\n",
       "Name: Exited, dtype: int64"
      ]
     },
     "metadata": {},
     "output_type": "display_data"
    }
   ],
   "source": [
    "display(data_ohe.Exited.value_counts())"
   ]
  },
  {
   "cell_type": "markdown",
   "metadata": {},
   "source": [
    "    Начну исследование с построения матрицы неточностей, для этого возьму модель дерева принятия решений"
   ]
  },
  {
   "cell_type": "code",
   "execution_count": 11,
   "metadata": {
    "scrolled": true
   },
   "outputs": [
    {
     "name": "stderr",
     "output_type": "stream",
     "text": [
      "/home/jovyan/.local/lib/python3.7/site-packages/sklearn/utils/deprecation.py:87: FutureWarning: Function plot_confusion_matrix is deprecated; Function `plot_confusion_matrix` is deprecated in 1.0 and will be removed in 1.2. Use one of the class methods: ConfusionMatrixDisplay.from_predictions or ConfusionMatrixDisplay.from_estimator.\n",
      "  warnings.warn(msg, category=FutureWarning)\n"
     ]
    },
    {
     "data": {
      "image/png": "[encoded data removed]",
      "text/plain": [
       "<Figure size 432x288 with 2 Axes>"
      ]
     },
     "metadata": {
      "needs_background": "light"
     },
     "output_type": "display_data"
    }
   ],
   "source": [
    "target = data_ohe['Exited']\n",
    "features = data_ohe.drop('Exited', axis=1)\n",
    "features_train, features_valid, target_train, target_valid = train_test_split(\n",
    "    features, target, test_size=0.25, random_state=1234)\n",
    "\n",
    "model = LogisticRegression(random_state=12345, solver='liblinear')\n",
    "model.fit(features_train, target_train)\n",
    "predicted_valid = model.predict(features_valid)\n",
    "\n",
    "cm = plot_confusion_matrix(model, features_valid, target_valid, cmap=\"Blues\")  \n",
    "plt.show()"
   ]
  },
  {
   "cell_type": "markdown",
   "metadata": {},
   "source": [
    "    По графику видно, что модель хорошо определяет, когда клиент остался, но плохо понимает, когда клиент ушёл"
   ]
  },
  {
   "cell_type": "markdown",
   "metadata": {},
   "source": [
    "Оценю метрики модели"
   ]
  },
  {
   "cell_type": "markdown",
   "metadata": {},
   "source": [
    "# Качество"
   ]
  },
  {
   "cell_type": "code",
   "execution_count": 12,
   "metadata": {},
   "outputs": [
    {
     "data": {
      "text/plain": [
       "0.796"
      ]
     },
     "metadata": {},
     "output_type": "display_data"
    }
   ],
   "source": [
    "display(accuracy_score(target_valid, predicted_valid))"
   ]
  },
  {
   "cell_type": "markdown",
   "metadata": {},
   "source": [
    "    Сложно оценить только по одной метрике, нужно посмотреть остальные"
   ]
  },
  {
   "cell_type": "markdown",
   "metadata": {},
   "source": [
    "# Полнота"
   ]
  },
  {
   "cell_type": "code",
   "execution_count": 13,
   "metadata": {
    "scrolled": true
   },
   "outputs": [
    {
     "data": {
      "text/plain": [
       "0.0"
      ]
     },
     "metadata": {},
     "output_type": "display_data"
    }
   ],
   "source": [
    "display(recall_score(target_valid, predicted_valid))"
   ]
  },
  {
   "cell_type": "markdown",
   "metadata": {},
   "source": [
    "Т.к. полнота стремится к 1, результат не самый лучший"
   ]
  },
  {
   "cell_type": "markdown",
   "metadata": {},
   "source": [
    "# Точность"
   ]
  },
  {
   "cell_type": "code",
   "execution_count": 14,
   "metadata": {
    "scrolled": true
   },
   "outputs": [
    {
     "name": "stderr",
     "output_type": "stream",
     "text": [
      "/home/jovyan/.local/lib/python3.7/site-packages/sklearn/metrics/_classification.py:1308: UndefinedMetricWarning: Precision is ill-defined and being set to 0.0 due to no predicted samples. Use `zero_division` parameter to control this behavior.\n",
      "  _warn_prf(average, modifier, msg_start, len(result))\n"
     ]
    },
    {
     "data": {
      "text/plain": [
       "0.0"
      ]
     },
     "metadata": {},
     "output_type": "display_data"
    }
   ],
   "source": [
    "display(precision_score(target_valid, predicted_valid))"
   ]
  },
  {
   "cell_type": "markdown",
   "metadata": {},
   "source": [
    "Аналогично"
   ]
  },
  {
   "cell_type": "markdown",
   "metadata": {},
   "source": [
    "# F1"
   ]
  },
  {
   "cell_type": "code",
   "execution_count": 15,
   "metadata": {
    "scrolled": true
   },
   "outputs": [
    {
     "data": {
      "text/plain": [
       "0.0"
      ]
     },
     "metadata": {},
     "output_type": "display_data"
    }
   ],
   "source": [
    "display(f1_score(target_valid, predicted_valid))"
   ]
  },
  {
   "cell_type": "markdown",
   "metadata": {},
   "source": [
    "    Для успешной сдачи метрика должна быть неменее 0.59"
   ]
  },
  {
   "cell_type": "markdown",
   "metadata": {},
   "source": [
    "# Вывод:\n",
    "    Модель совсем не понимает как определять целевой признак, выбирая везде 0 она показала качество на уровне 80%, но фактически нечему не научилась\n",
    "    Т.к. метрики качества продемонстрировали невысокие результаты, попробую увеличить показатели "
   ]
  },
  {
   "cell_type": "markdown",
   "metadata": {},
   "source": [
    "## Борьба с дисбалансом"
   ]
  },
  {
   "cell_type": "markdown",
   "metadata": {},
   "source": [
    "###  Баланс классов"
   ]
  },
  {
   "cell_type": "markdown",
   "metadata": {},
   "source": [
    "    Обучу модель со сбалансированными весами классов"
   ]
  },
  {
   "cell_type": "code",
   "execution_count": 16,
   "metadata": {},
   "outputs": [
    {
     "name": "stderr",
     "output_type": "stream",
     "text": [
      "/home/jovyan/.local/lib/python3.7/site-packages/sklearn/utils/deprecation.py:87: FutureWarning: Function plot_confusion_matrix is deprecated; Function `plot_confusion_matrix` is deprecated in 1.0 and will be removed in 1.2. Use one of the class methods: ConfusionMatrixDisplay.from_predictions or ConfusionMatrixDisplay.from_estimator.\n",
      "  warnings.warn(msg, category=FutureWarning)\n"
     ]
    },
    {
     "name": "stdout",
     "output_type": "stream",
     "text": [
      "Balanced: 0.4828070175438597\n"
     ]
    },
    {
     "data": {
      "image/png": "[encoded data removed]",
      "text/plain": [
       "<Figure size 432x288 with 2 Axes>"
      ]
     },
     "metadata": {
      "needs_background": "light"
     },
     "output_type": "display_data"
    }
   ],
   "source": [
    "model = LogisticRegression(random_state=1234, solver='liblinear', class_weight='balanced')\n",
    "model.fit(features_train, target_train)\n",
    "predicted_valid = model.predict(features_valid)\n",
    "print('Balanced: {}'.format(f1_score(target_valid, predicted_valid)))\n",
    "cm = plot_confusion_matrix(model, features_valid, target_valid, cmap=\"Blues\")  \n",
    "plt.show()"
   ]
  },
  {
   "cell_type": "markdown",
   "metadata": {},
   "source": [
    "    Показатель стал ещё ниже"
   ]
  },
  {
   "cell_type": "markdown",
   "metadata": {},
   "source": [
    "### Увеличение выборки"
   ]
  },
  {
   "cell_type": "markdown",
   "metadata": {},
   "source": [
    "    Проверяю как повлияет на модель увеличение выборки"
   ]
  },
  {
   "cell_type": "code",
   "execution_count": 17,
   "metadata": {
    "scrolled": true
   },
   "outputs": [
    {
     "name": "stdout",
     "output_type": "stream",
     "text": [
      "Upsampled: 0.4892086330935252\n"
     ]
    },
    {
     "name": "stderr",
     "output_type": "stream",
     "text": [
      "/home/jovyan/.local/lib/python3.7/site-packages/sklearn/utils/deprecation.py:87: FutureWarning: Function plot_confusion_matrix is deprecated; Function `plot_confusion_matrix` is deprecated in 1.0 and will be removed in 1.2. Use one of the class methods: ConfusionMatrixDisplay.from_predictions or ConfusionMatrixDisplay.from_estimator.\n",
      "  warnings.warn(msg, category=FutureWarning)\n"
     ]
    },
    {
     "data": {
      "image/png": "[encoded data removed]",
      "text/plain": [
       "<Figure size 432x288 with 2 Axes>"
      ]
     },
     "metadata": {
      "needs_background": "light"
     },
     "output_type": "display_data"
    }
   ],
   "source": [
    "def upsample(features, target, repeat):\n",
    "    features_zeros = features[target == 0]\n",
    "    features_ones = features[target == 1]\n",
    "    target_zeros = target[target == 0]\n",
    "    target_ones = target[target == 1]\n",
    "\n",
    "    features_upsampled = pd.concat([features_zeros] + [features_ones] * repeat)\n",
    "    target_upsampled = pd.concat([target_zeros] + [target_ones] * repeat)\n",
    "    \n",
    "    features_upsampled, target_upsampled = shuffle(\n",
    "        features_upsampled, target_upsampled, random_state=1234\n",
    "        )\n",
    "    \n",
    "    return features_upsampled, target_upsampled\n",
    "\n",
    "features_upsampled, target_upsampled = upsample(features_train, target_train, 10)\n",
    "\n",
    "\n",
    "model.fit(features_upsampled, target_upsampled)\n",
    "predicted_valid_upsampled = model.predict(features_valid)\n",
    "\n",
    "\n",
    "print('Upsampled: {}'.format(f1_score(target_valid, predicted_valid_upsampled)))\n",
    "cm = plot_confusion_matrix(model, features_valid, target_valid, cmap=\"Blues\")  \n",
    "plt.show()"
   ]
  },
  {
   "cell_type": "markdown",
   "metadata": {},
   "source": [
    "    Примерно на том же уровне"
   ]
  },
  {
   "cell_type": "markdown",
   "metadata": {},
   "source": [
    "### Уменьшение выборки"
   ]
  },
  {
   "cell_type": "markdown",
   "metadata": {},
   "source": [
    "    Аналогично проверяю уменьшение выборки"
   ]
  },
  {
   "cell_type": "code",
   "execution_count": 18,
   "metadata": {},
   "outputs": [
    {
     "name": "stdout",
     "output_type": "stream",
     "text": [
      "Downsampled: 0.4596443228454173\n"
     ]
    },
    {
     "name": "stderr",
     "output_type": "stream",
     "text": [
      "/home/jovyan/.local/lib/python3.7/site-packages/sklearn/utils/deprecation.py:87: FutureWarning: Function plot_confusion_matrix is deprecated; Function `plot_confusion_matrix` is deprecated in 1.0 and will be removed in 1.2. Use one of the class methods: ConfusionMatrixDisplay.from_predictions or ConfusionMatrixDisplay.from_estimator.\n",
      "  warnings.warn(msg, category=FutureWarning)\n"
     ]
    },
    {
     "data": {
      "image/png": "[encoded data removed]",
      "text/plain": [
       "<Figure size 432x288 with 2 Axes>"
      ]
     },
     "metadata": {
      "needs_background": "light"
     },
     "output_type": "display_data"
    }
   ],
   "source": [
    "def downsample(features, target, fraction):\n",
    "    features_zeros = features[target == 0]\n",
    "    features_ones = features[target == 1]\n",
    "    target_zeros = target[target == 0]\n",
    "    target_ones = target[target == 1]\n",
    "\n",
    "    features_downsampled = pd.concat(\n",
    "        [features_zeros.sample(frac=fraction, random_state=1234)] + [features_ones])\n",
    "    target_downsampled = pd.concat(\n",
    "        [target_zeros.sample(frac=fraction, random_state=1234)] + [target_ones])\n",
    "    \n",
    "    features_downsampled, target_downsampled = shuffle(\n",
    "        features_downsampled, target_downsampled, random_state=1234)\n",
    "    \n",
    "    return features_downsampled, target_downsampled\n",
    "\n",
    "features_downsampled, target_downsampled = downsample(features_train, target_train, 0.1)\n",
    "\n",
    "\n",
    "model.fit(features_downsampled, target_downsampled)\n",
    "predicted_valid_downsampled = model.predict(features_valid)\n",
    "\n",
    "\n",
    "print('Downsampled: {}'.format(f1_score(target_valid, predicted_valid_downsampled)))\n",
    "cm = plot_confusion_matrix(model, features_valid, target_valid, cmap=\"Blues\")  \n",
    "plt.show()"
   ]
  },
  {
   "cell_type": "markdown",
   "metadata": {},
   "source": [
    "    увы"
   ]
  },
  {
   "cell_type": "markdown",
   "metadata": {},
   "source": [
    "### Изменение порога"
   ]
  },
  {
   "cell_type": "markdown",
   "metadata": {},
   "source": [
    "    Далее проверяю влияние изменения пороговой вероятности класса"
   ]
  },
  {
   "cell_type": "code",
   "execution_count": 19,
   "metadata": {
    "scrolled": false
   },
   "outputs": [
    {
     "name": "stdout",
     "output_type": "stream",
     "text": [
      "Порог = 0.00 | Точность = 0.204, Полнота = 1.000, f1 = 0.339\n",
      "Порог = 0.02 | Точность = 0.204, Полнота = 1.000, f1 = 0.339\n",
      "Порог = 0.04 | Точность = 0.204, Полнота = 1.000, f1 = 0.339\n",
      "Порог = 0.06 | Точность = 0.204, Полнота = 1.000, f1 = 0.339\n",
      "Порог = 0.08 | Точность = 0.204, Полнота = 1.000, f1 = 0.339\n",
      "Порог = 0.10 | Точность = 0.204, Полнота = 1.000, f1 = 0.339\n",
      "Порог = 0.12 | Точность = 0.204, Полнота = 1.000, f1 = 0.339\n",
      "Порог = 0.14 | Точность = 0.204, Полнота = 1.000, f1 = 0.339\n",
      "Порог = 0.16 | Точность = 0.251, Полнота = 0.780, f1 = 0.380\n",
      "Порог = 0.18 | Точность = 0.251, Полнота = 0.775, f1 = 0.379\n",
      "Порог = 0.20 | Точность = 0.255, Полнота = 0.739, f1 = 0.380\n",
      "Порог = 0.22 | Точность = 0.270, Полнота = 0.590, f1 = 0.371\n",
      "Порог = 0.24 | Точность = 0.249, Полнота = 0.271, f1 = 0.259\n",
      "Порог = 0.26 | Точность = 0.253, Полнота = 0.088, f1 = 0.131\n",
      "Порог = 0.28 | Точность = 0.364, Полнота = 0.031, f1 = 0.058\n",
      "Порог = 0.30 | Точность = 0.667, Полнота = 0.008, f1 = 0.016\n"
     ]
    }
   ],
   "source": [
    "model = LogisticRegression(random_state=1234, solver='liblinear')\n",
    "model.fit(features_train, target_train)\n",
    "\n",
    "probabilities_valid = model.predict_proba(features_valid)\n",
    "probabilities_one_valid = probabilities_valid[:, 1]\n",
    "\n",
    "\n",
    "for threshold in np.arange(0, 0.32, 0.02):\n",
    "    predicted_valid = probabilities_one_valid > threshold \n",
    "    precision = precision_score(target_valid, predicted_valid) \n",
    "    recall = recall_score(target_valid, predicted_valid)\n",
    "    f1 = f1_score(target_valid, predicted_valid)\n",
    "\n",
    "    print(\"Порог = {:.2f} | Точность = {:.3f}, Полнота = {:.3f}, f1 = {:.3f}\".format(\n",
    "        threshold, precision, recall, f1))"
   ]
  },
  {
   "cell_type": "markdown",
   "metadata": {},
   "source": [
    "    Добавив параметр f1 выбираю наилучшее значение порога"
   ]
  },
  {
   "cell_type": "markdown",
   "metadata": {},
   "source": [
    "### PR - кривая"
   ]
  },
  {
   "cell_type": "code",
   "execution_count": 20,
   "metadata": {},
   "outputs": [
    {
     "data": {
      "image/png": "[encoded data removed]",
      "text/plain": [
       "<Figure size 432x432 with 1 Axes>"
      ]
     },
     "metadata": {
      "needs_background": "light"
     },
     "output_type": "display_data"
    }
   ],
   "source": [
    "precision, recall, thresholds = precision_recall_curve(target_valid, probabilities_valid[:, 1])\n",
    "\n",
    "plt.figure(figsize=(6, 6))\n",
    "plt.step(recall, precision, where='post')\n",
    "plt.xlabel('Recall')\n",
    "plt.ylabel('Precision')\n",
    "plt.ylim([0.0, 1.05])\n",
    "plt.xlim([0.0, 1.0])\n",
    "plt.title('Кривая Precision-Recall')\n",
    "plt.show() "
   ]
  },
  {
   "cell_type": "markdown",
   "metadata": {},
   "source": [
    "### TPR и FPR"
   ]
  },
  {
   "cell_type": "code",
   "execution_count": 21,
   "metadata": {},
   "outputs": [
    {
     "name": "stdout",
     "output_type": "stream",
     "text": [
      "AUC ROC: 0.604134397477584\n"
     ]
    }
   ],
   "source": [
    "auc_roc = roc_auc_score(target_valid, probabilities_one_valid)\n",
    "\n",
    "print('AUC ROC:', auc_roc)\n",
    "fpr, tpr, thresholds = roc_curve(target_valid, probabilities_one_valid) "
   ]
  },
  {
   "cell_type": "markdown",
   "metadata": {},
   "source": [
    "### ROC-кривая"
   ]
  },
  {
   "cell_type": "code",
   "execution_count": 22,
   "metadata": {
    "scrolled": false
   },
   "outputs": [
    {
     "data": {
      "image/png": "[encoded data removed]",
      "text/plain": [
       "<Figure size 432x288 with 1 Axes>"
      ]
     },
     "metadata": {
      "needs_background": "light"
     },
     "output_type": "display_data"
    }
   ],
   "source": [
    "plt.figure()\n",
    "plt.plot(fpr, tpr)\n",
    "plt.xlim([0.0, 1.0])\n",
    "plt.ylim([0.0, 1.0])\n",
    "plt.xlabel('False Positive Rate')\n",
    "plt.ylabel('True Positive Rate')\n",
    "plt.title('ROC-кривая')\n",
    "plt.plot([0, 1], [0, 1], linestyle='--')\n",
    "plt.show()"
   ]
  },
  {
   "cell_type": "markdown",
   "metadata": {},
   "source": [
    "### Сравнение разных моделей"
   ]
  },
  {
   "cell_type": "markdown",
   "metadata": {},
   "source": [
    "    Буду сравнивать 3 модели: логистическую регрессию, дерево принятия решений и случайный лес. Сравнение буду проводить на моделях без дополнительных настроек "
   ]
  },
  {
   "cell_type": "markdown",
   "metadata": {},
   "source": [
    "# Logistic Regression"
   ]
  },
  {
   "cell_type": "code",
   "execution_count": 23,
   "metadata": {},
   "outputs": [],
   "source": [
    "model_LR = LogisticRegression(random_state=1234, solver='liblinear')"
   ]
  },
  {
   "cell_type": "code",
   "execution_count": 24,
   "metadata": {
    "scrolled": false
   },
   "outputs": [
    {
     "name": "stdout",
     "output_type": "stream",
     "text": [
      "F1 score: 0.0\n",
      "AUC ROC: 0.604134397477584\n"
     ]
    }
   ],
   "source": [
    "model_LR.fit(features_train, target_train)\n",
    "predicted_valid = model_LR.predict(features_valid)\n",
    "print('F1 score: {}'.format(f1_score(target_valid, predicted_valid)))\n",
    "\n",
    "probabilities_valid = model_LR.predict_proba(features_valid)\n",
    "probabilities_one_valid = probabilities_valid[:, 1]\n",
    "auc_roc = roc_auc_score(target_valid, probabilities_one_valid)\n",
    "print('AUC ROC:', auc_roc)"
   ]
  },
  {
   "cell_type": "markdown",
   "metadata": {},
   "source": [
    "# Decision Tree Classifier"
   ]
  },
  {
   "cell_type": "code",
   "execution_count": 25,
   "metadata": {
    "scrolled": true
   },
   "outputs": [
    {
     "name": "stdout",
     "output_type": "stream",
     "text": [
      "F1 score: 0.4788461538461538\n",
      "AUC ROC: 0.6735146319834466\n"
     ]
    }
   ],
   "source": [
    "model_dtc = DecisionTreeClassifier(random_state=1234)\n",
    "model_dtc.fit(features_train, target_train)\n",
    "predicted_valid = model_dtc.predict(features_valid)\n",
    "print('F1 score: {}'.format(f1_score(target_valid, predicted_valid)))\n",
    "\n",
    "probabilities_valid = model_dtc.predict_proba(features_valid)\n",
    "probabilities_one_valid = probabilities_valid[:, 1]\n",
    "auc_roc = roc_auc_score(target_valid, probabilities_one_valid)\n",
    "print('AUC ROC:', auc_roc)"
   ]
  },
  {
   "cell_type": "markdown",
   "metadata": {},
   "source": [
    "# Random Forest Classifier"
   ]
  },
  {
   "cell_type": "code",
   "execution_count": 26,
   "metadata": {
    "scrolled": true
   },
   "outputs": [
    {
     "name": "stdout",
     "output_type": "stream",
     "text": [
      "F1 score: 0.4788461538461538\n",
      "AUC ROC: 0.8404424081190265\n"
     ]
    }
   ],
   "source": [
    "model_rfc = RandomForestClassifier(random_state=1234)\n",
    "model_rfc.fit(features_train, target_train)\n",
    "predicted_valid_upsampled = model_rfc.predict(features_valid)\n",
    "print('F1 score: {}'.format(f1_score(target_valid, predicted_valid)))\n",
    "\n",
    "probabilities_valid = model_rfc.predict_proba(features_valid)\n",
    "probabilities_one_valid = probabilities_valid[:, 1]\n",
    "auc_roc = roc_auc_score(target_valid, probabilities_one_valid)\n",
    "print('AUC ROC:', auc_roc)"
   ]
  },
  {
   "cell_type": "markdown",
   "metadata": {},
   "source": [
    "    Лучшие показатели оказались у модели случайного лес, на ней и буду проводить тест"
   ]
  },
  {
   "cell_type": "markdown",
   "metadata": {},
   "source": [
    "## Тестирование модели"
   ]
  },
  {
   "cell_type": "markdown",
   "metadata": {},
   "source": [
    "Для тестирования подберу наилучшие гиперпараметры, также применю техники которые показали лучшие результаты: взвешивание классов и увеличение выборки"
   ]
  },
  {
   "cell_type": "code",
   "execution_count": 27,
   "metadata": {},
   "outputs": [
    {
     "name": "stdout",
     "output_type": "stream",
     "text": [
      "Лучшие гиперпараметры {'max_depth': 14, 'max_features': 2, 'n_estimators': 36}\n",
      "Точность : 0.8551419168334444\n"
     ]
    },
    {
     "data": {
      "text/html": [
       "\n",
       "                <audio  controls=\"controls\" autoplay=\"autoplay\">\n",
       "                    <source src=\"data:audio/x-wav;base64,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\" type=\"audio/x-wav\" />\n",
       "                    Your browser does not support the audio element.\n",
       "                </audio>\n",
       "              "
      ],
      "text/plain": [
       "<IPython.lib.display.Audio object>"
      ]
     },
     "execution_count": 27,
     "metadata": {},
     "output_type": "execute_result"
    }
   ],
   "source": [
    "rfc = RandomForestClassifier(random_state=1234, class_weight='balanced')\n",
    "param_grid = { \n",
    "    'n_estimators': [i for i in range(34, 37)],\n",
    "    'max_depth' : [j for j in range(10, 15)],\n",
    "    'max_features' : [k for k in range(2, 3)]\n",
    "}\n",
    "CV_rfc = GridSearchCV(rfc, \n",
    "                      param_grid = param_grid, \n",
    "                      cv = 5\n",
    "                      )\n",
    "CV_rfc.fit(features_train, target_train)\n",
    "\n",
    "print(\"Лучшие гиперпараметры\", CV_rfc.best_params_)\n",
    "print(\"Точность :\", CV_rfc.best_score_)\n",
    "\n",
    "Audio(sound_file, autoplay=True)# звук окончания обучения"
   ]
  },
  {
   "cell_type": "code",
   "execution_count": 28,
   "metadata": {},
   "outputs": [
    {
     "name": "stdout",
     "output_type": "stream",
     "text": [
      "F1 balanced upsampled: 0.5970149253731343\n",
      "AUC ROC 0.8394728544684205\n"
     ]
    }
   ],
   "source": [
    "model_rfc = CV_rfc.best_estimator_\n",
    "model_rfc.fit(features_upsampled, target_upsampled)\n",
    "predicted_valid_upsampled = model_rfc.predict(features_valid)\n",
    "print('F1 balanced upsampled:', f1_score(target_valid, predicted_valid_upsampled))\n",
    "\n",
    "probabilities_valid = model_rfc.predict_proba(features_valid)\n",
    "probabilities_one_valid = probabilities_valid[:, 1]\n",
    "auc_roc = roc_auc_score(target_valid, probabilities_one_valid)\n",
    "print('AUC ROC', auc_roc)"
   ]
  },
  {
   "cell_type": "markdown",
   "metadata": {},
   "source": [
    "    Подбор гиперепараметров и применение взвешивания классов и увеличения выборки помогли достичь F1-меры уровня 0.6"
   ]
  },
  {
   "cell_type": "markdown",
   "metadata": {},
   "source": [
    "# PS"
   ]
  },
  {
   "cell_type": "markdown",
   "metadata": {},
   "source": [
    "    Можно добавить в функции train_test_split параметр stratify и указать целевой признак"
   ]
  },
  {
   "cell_type": "code",
   "execution_count": 29,
   "metadata": {},
   "outputs": [],
   "source": [
    "another_features_train, another_features_valid, another_target_train, another_target_valid = train_test_split(\n",
    "    features, \n",
    "    target, \n",
    "    test_size=0.25, \n",
    "    random_state=1234, \n",
    "    stratify = target\n",
    ")"
   ]
  },
  {
   "cell_type": "markdown",
   "metadata": {},
   "source": [
    "Тогда модель изначально лучше понимает где 0, где 1"
   ]
  },
  {
   "cell_type": "code",
   "execution_count": 30,
   "metadata": {},
   "outputs": [
    {
     "name": "stdout",
     "output_type": "stream",
     "text": [
      "[[1922   69]\n",
      " [ 277  232]]\n"
     ]
    }
   ],
   "source": [
    "another_model = RandomForestClassifier(random_state=1234, class_weight='balanced')\n",
    "another_model.fit(another_features_train, another_target_train)\n",
    "another_predicted_valid = another_model.predict(another_features_valid)\n",
    "print(confusion_matrix(another_target_valid, another_predicted_valid))"
   ]
  },
  {
   "cell_type": "code",
   "execution_count": 31,
   "metadata": {
    "scrolled": false
   },
   "outputs": [
    {
     "data": {
      "image/png": "[encoded data removed]",
      "text/plain": [
       "<Figure size 432x288 with 2 Axes>"
      ]
     },
     "metadata": {
      "needs_background": "light"
     },
     "output_type": "display_data"
    }
   ],
   "source": [
    "conf_matr = confusion_matrix(another_target_valid, another_predicted_valid)\n",
    "sn.heatmap(conf_matr, annot=True, fmt=\"d\", cmap=\"Blues\")\n",
    "plt.show() "
   ]
  },
  {
   "cell_type": "markdown",
   "metadata": {},
   "source": [
    "    Достаточно подобрать подходящие гиперпараметры"
   ]
  },
  {
   "cell_type": "code",
   "execution_count": 32,
   "metadata": {
    "scrolled": true
   },
   "outputs": [
    {
     "name": "stdout",
     "output_type": "stream",
     "text": [
      "Лучшие гиперпараметры {'max_depth': 14, 'max_features': 2, 'n_estimators': 32}\n",
      "Точность: 0.8536755170113409\n"
     ]
    },
    {
     "data": {
      "text/html": [
       "\n",
       "                <audio  controls=\"controls\" autoplay=\"autoplay\">\n",
       "                    <source src=\"data:audio/x-wav;base64,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\" type=\"audio/x-wav\" />\n",
       "                    Your browser does not support the audio element.\n",
       "                </audio>\n",
       "              "
      ],
      "text/plain": [
       "<IPython.lib.display.Audio object>"
      ]
     },
     "execution_count": 32,
     "metadata": {},
     "output_type": "execute_result"
    }
   ],
   "source": [
    "another_rfc = RandomForestClassifier(random_state=1234)\n",
    "param_grid = { \n",
    "    'n_estimators': [i for i in range(32, 36)],\n",
    "    'max_depth' : [j for j in range(10, 15)],\n",
    "    'max_features' : [k for k in range(1, 3)]\n",
    "}\n",
    "CV_rfc = GridSearchCV(rfc, \n",
    "                      param_grid = param_grid, \n",
    "                      cv = 5\n",
    "                      )\n",
    "CV_rfc.fit(another_features_train, another_target_train)\n",
    "\n",
    "print(\"Лучшие гиперпараметры\", CV_rfc.best_params_)\n",
    "print(\"Точность:\", CV_rfc.best_score_)\n",
    "\n",
    "Audio(sound_file, autoplay=True)# звук окончания обучения"
   ]
  },
  {
   "cell_type": "markdown",
   "metadata": {},
   "source": [
    "    F1-мера при таком способе разделения при подходящих гиперпараметрах - 0.59"
   ]
  },
  {
   "cell_type": "code",
   "execution_count": 33,
   "metadata": {},
   "outputs": [
    {
     "name": "stdout",
     "output_type": "stream",
     "text": [
      "F1 balanced upsampled 0.5924276169265033\n",
      "AUC ROC 0.838903257191744\n"
     ]
    }
   ],
   "source": [
    "another_model_rfc = CV_rfc.best_estimator_\n",
    "another_model_rfc.fit(another_features_train, another_target_train)\n",
    "another_predicted_valid_upsampled = another_model_rfc.predict(another_features_valid)\n",
    "print('F1 balanced upsampled', f1_score(another_target_valid, another_predicted_valid_upsampled))\n",
    "\n",
    "another_probabilities_valid = another_model_rfc.predict_proba(another_features_valid)\n",
    "another_probabilities_one_valid = another_probabilities_valid[:, 1]\n",
    "another_auc_roc = roc_auc_score(another_target_valid, another_probabilities_one_valid)\n",
    "print('AUC ROC', another_auc_roc)"
   ]
  },
  {
   "cell_type": "markdown",
   "metadata": {},
   "source": [
    "    Оценю какие признаки оказались самыми значимыми:"
   ]
  },
  {
   "cell_type": "code",
   "execution_count": 34,
   "metadata": {},
   "outputs": [
    {
     "name": "stdout",
     "output_type": "stream",
     "text": [
      "['Age', 'CustomerId', 'CreditScore', 'Tenure', 'Balance', 'NumOfProducts', 'HasCrCard', 'IsActiveMember', 'EstimatedSalary', 'Geography_Germany', 'Geography_Spain', 'Gender_Male']\n"
     ]
    }
   ],
   "source": [
    "feature_names = [f'{i}' for i in features_upsampled]\n",
    "print(feature_names)"
   ]
  },
  {
   "cell_type": "code",
   "execution_count": 35,
   "metadata": {},
   "outputs": [
    {
     "name": "stdout",
     "output_type": "stream",
     "text": [
      "Elapsed time to compute the importances: 0.006 seconds\n"
     ]
    }
   ],
   "source": [
    "start_time = time.time()\n",
    "importances = model_rfc.feature_importances_\n",
    "std = np.std([\n",
    "    tree.feature_importances_ for tree in model_rfc.estimators_], axis=0)\n",
    "elapsed_time = time.time() - start_time\n",
    "\n",
    "print(f\"Elapsed time to compute the importances: \"\n",
    "      f\"{elapsed_time:.3f} seconds\")"
   ]
  },
  {
   "cell_type": "code",
   "execution_count": 36,
   "metadata": {
    "scrolled": true
   },
   "outputs": [
    {
     "data": {
      "image/png": "[encoded data removed]",
      "text/plain": [
       "<Figure size 432x288 with 1 Axes>"
      ]
     },
     "metadata": {
      "needs_background": "light"
     },
     "output_type": "display_data"
    }
   ],
   "source": [
    "model_rfc_importances = pd.Series(importances, index=feature_names)\n",
    "\n",
    "fig, ax = plt.subplots()\n",
    "model_rfc_importances.plot.bar(yerr=std, ax=ax)\n",
    "ax.set_title(\"Важность признаков\")\n",
    "ax.set_ylabel(\"Показатель влияния\")\n",
    "ax.set_xlabel(\"Признаки\")\n",
    "fig.tight_layout()"
   ]
  },
  {
   "cell_type": "code",
   "execution_count": 37,
   "metadata": {},
   "outputs": [
    {
     "name": "stdout",
     "output_type": "stream",
     "text": [
      "Elapsed time to compute the importances: 5.398 seconds\n"
     ]
    }
   ],
   "source": [
    "from sklearn.inspection import permutation_importance\n",
    "\n",
    "start_time = time.time()\n",
    "result = permutation_importance(\n",
    "    model_rfc, features_valid, target_valid, n_repeats=10, random_state=1234, n_jobs=2)\n",
    "elapsed_time = time.time() - start_time\n",
    "print(f\"Elapsed time to compute the importances: \"\n",
    "      f\"{elapsed_time:.3f} seconds\")\n",
    "\n",
    "forest_importances = pd.Series(result.importances_mean, index=feature_names)"
   ]
  },
  {
   "cell_type": "code",
   "execution_count": 38,
   "metadata": {
    "scrolled": true
   },
   "outputs": [
    {
     "data": {
      "image/png": "[encoded data removed]",
      "text/plain": [
       "<Figure size 432x288 with 1 Axes>"
      ]
     },
     "metadata": {
      "needs_background": "light"
     },
     "output_type": "display_data"
    }
   ],
   "source": [
    "fig, ax = plt.subplots()\n",
    "forest_importances.plot.bar(yerr=result.importances_std, ax=ax)\n",
    "ax.set_title(\"Важность функций \")\n",
    "ax.set_ylabel(\"Среднее снижение точности\")\n",
    "fig.tight_layout()\n",
    "plt.show()"
   ]
  }
 ],
 "metadata": {
  "ExecuteTimeLog": [
   {
    "duration": 2629,
    "start_time": "2021-09-07T17:57:44.860Z"
   },
   {
    "duration": 35,
    "start_time": "2021-09-07T17:58:12.215Z"
   },
   {
    "duration": 37,
    "start_time": "2021-09-07T17:58:31.916Z"
   },
   {
    "duration": 37,
    "start_time": "2021-09-07T17:58:44.138Z"
   },
   {
    "duration": 1941,
    "start_time": "2021-09-09T15:40:19.457Z"
   },
   {
    "duration": -386,
    "start_time": "2021-09-09T15:40:21.787Z"
   },
   {
    "duration": 369,
    "start_time": "2021-09-09T15:41:31.619Z"
   },
   {
    "duration": 3972,
    "start_time": "2021-09-09T15:43:15.515Z"
   },
   {
    "duration": 3205,
    "start_time": "2021-09-09T15:43:47.564Z"
   },
   {
    "duration": 1780,
    "start_time": "2021-09-09T15:43:50.771Z"
   },
   {
    "duration": -299,
    "start_time": "2021-09-09T15:43:52.852Z"
   },
   {
    "duration": 15420,
    "start_time": "2021-09-09T15:44:04.528Z"
   },
   {
    "duration": 3031,
    "start_time": "2021-09-09T15:44:38.564Z"
   },
   {
    "duration": 1979,
    "start_time": "2021-09-09T15:44:44.318Z"
   },
   {
    "duration": 3177,
    "start_time": "2021-09-09T15:44:48.439Z"
   },
   {
    "duration": 139,
    "start_time": "2021-09-09T15:45:32.347Z"
   },
   {
    "duration": 51,
    "start_time": "2021-09-09T15:48:00.498Z"
   },
   {
    "duration": 7,
    "start_time": "2021-09-09T15:51:26.740Z"
   },
   {
    "duration": 9,
    "start_time": "2021-09-09T15:53:08.740Z"
   },
   {
    "duration": 7,
    "start_time": "2021-09-09T15:54:02.702Z"
   },
   {
    "duration": 23,
    "start_time": "2021-09-09T15:57:29.797Z"
   },
   {
    "duration": 90,
    "start_time": "2021-09-09T15:59:22.648Z"
   },
   {
    "duration": 9,
    "start_time": "2021-09-09T16:00:58.426Z"
   },
   {
    "duration": 8,
    "start_time": "2021-09-09T16:02:02.445Z"
   },
   {
    "duration": 13,
    "start_time": "2021-09-09T16:02:14.623Z"
   },
   {
    "duration": 12,
    "start_time": "2021-09-09T16:05:39.114Z"
   },
   {
    "duration": 6,
    "start_time": "2021-09-09T16:06:16.426Z"
   },
   {
    "duration": 11,
    "start_time": "2021-09-09T16:06:23.404Z"
   },
   {
    "duration": 7,
    "start_time": "2021-09-09T16:06:37.152Z"
   },
   {
    "duration": 16,
    "start_time": "2021-09-09T16:07:05.021Z"
   },
   {
    "duration": 31,
    "start_time": "2021-09-09T16:07:19.242Z"
   },
   {
    "duration": 12,
    "start_time": "2021-09-09T16:08:10.616Z"
   },
   {
    "duration": 30,
    "start_time": "2021-09-09T16:08:14.773Z"
   },
   {
    "duration": 3043,
    "start_time": "2021-09-09T16:08:26.544Z"
   },
   {
    "duration": 5,
    "start_time": "2021-09-09T16:08:29.589Z"
   },
   {
    "duration": 52,
    "start_time": "2021-09-09T16:08:29.596Z"
   },
   {
    "duration": 7,
    "start_time": "2021-09-09T16:08:29.650Z"
   },
   {
    "duration": 27,
    "start_time": "2021-09-09T16:08:29.659Z"
   },
   {
    "duration": 23,
    "start_time": "2021-09-09T16:08:29.687Z"
   },
   {
    "duration": 12,
    "start_time": "2021-09-09T16:08:29.712Z"
   },
   {
    "duration": 12,
    "start_time": "2021-09-09T16:08:29.725Z"
   },
   {
    "duration": 59,
    "start_time": "2021-09-09T16:08:29.739Z"
   },
   {
    "duration": 6,
    "start_time": "2021-09-09T16:08:29.800Z"
   },
   {
    "duration": 3,
    "start_time": "2021-09-09T16:10:06.357Z"
   },
   {
    "duration": 6,
    "start_time": "2021-09-09T16:10:06.362Z"
   },
   {
    "duration": 46,
    "start_time": "2021-09-09T16:10:06.370Z"
   },
   {
    "duration": 6,
    "start_time": "2021-09-09T16:10:06.418Z"
   },
   {
    "duration": 29,
    "start_time": "2021-09-09T16:10:06.426Z"
   },
   {
    "duration": 32,
    "start_time": "2021-09-09T16:10:06.457Z"
   },
   {
    "duration": 12,
    "start_time": "2021-09-09T16:10:06.491Z"
   },
   {
    "duration": 12,
    "start_time": "2021-09-09T16:10:06.505Z"
   },
   {
    "duration": 60,
    "start_time": "2021-09-09T16:10:06.518Z"
   },
   {
    "duration": 6,
    "start_time": "2021-09-09T16:10:06.580Z"
   },
   {
    "duration": 31,
    "start_time": "2021-09-09T16:13:31.548Z"
   },
   {
    "duration": 31,
    "start_time": "2021-09-09T16:13:49.138Z"
   },
   {
    "duration": 2,
    "start_time": "2021-09-09T16:14:15.872Z"
   },
   {
    "duration": 8,
    "start_time": "2021-09-09T16:14:15.876Z"
   },
   {
    "duration": 51,
    "start_time": "2021-09-09T16:14:15.886Z"
   },
   {
    "duration": 7,
    "start_time": "2021-09-09T16:14:15.939Z"
   },
   {
    "duration": 33,
    "start_time": "2021-09-09T16:14:15.948Z"
   },
   {
    "duration": 23,
    "start_time": "2021-09-09T16:14:15.983Z"
   },
   {
    "duration": 12,
    "start_time": "2021-09-09T16:14:16.008Z"
   },
   {
    "duration": 12,
    "start_time": "2021-09-09T16:14:16.023Z"
   },
   {
    "duration": 66,
    "start_time": "2021-09-09T16:14:16.037Z"
   },
   {
    "duration": 6,
    "start_time": "2021-09-09T16:14:16.105Z"
   },
   {
    "duration": 224,
    "start_time": "2021-09-09T16:14:45.552Z"
   },
   {
    "duration": 32,
    "start_time": "2021-09-09T16:14:59.727Z"
   },
   {
    "duration": 214,
    "start_time": "2021-09-09T16:15:01.066Z"
   },
   {
    "duration": 233,
    "start_time": "2021-09-09T16:15:14.099Z"
   },
   {
    "duration": 401,
    "start_time": "2021-09-09T16:15:56.062Z"
   },
   {
    "duration": 378,
    "start_time": "2021-09-09T16:16:15.847Z"
   },
   {
    "duration": 3,
    "start_time": "2021-09-09T16:16:17.699Z"
   },
   {
    "duration": 5,
    "start_time": "2021-09-09T16:16:17.704Z"
   },
   {
    "duration": 47,
    "start_time": "2021-09-09T16:16:17.711Z"
   },
   {
    "duration": 7,
    "start_time": "2021-09-09T16:16:17.760Z"
   },
   {
    "duration": 26,
    "start_time": "2021-09-09T16:16:17.769Z"
   },
   {
    "duration": 27,
    "start_time": "2021-09-09T16:16:17.797Z"
   },
   {
    "duration": 11,
    "start_time": "2021-09-09T16:16:17.826Z"
   },
   {
    "duration": 43,
    "start_time": "2021-09-09T16:16:17.840Z"
   },
   {
    "duration": 31,
    "start_time": "2021-09-09T16:16:17.885Z"
   },
   {
    "duration": 6,
    "start_time": "2021-09-09T16:16:17.917Z"
   },
   {
    "duration": 241,
    "start_time": "2021-09-09T16:20:15.900Z"
   },
   {
    "duration": 8,
    "start_time": "2021-09-09T16:24:26.165Z"
   },
   {
    "duration": 7,
    "start_time": "2021-09-09T16:24:38.419Z"
   },
   {
    "duration": 8,
    "start_time": "2021-09-09T16:25:27.779Z"
   },
   {
    "duration": 6,
    "start_time": "2021-09-09T16:25:57.077Z"
   },
   {
    "duration": 6,
    "start_time": "2021-09-09T16:26:24.120Z"
   },
   {
    "duration": 538,
    "start_time": "2021-09-09T16:38:41.641Z"
   },
   {
    "duration": 3,
    "start_time": "2021-09-09T16:38:45.660Z"
   },
   {
    "duration": 5,
    "start_time": "2021-09-09T16:38:45.665Z"
   },
   {
    "duration": 47,
    "start_time": "2021-09-09T16:38:45.672Z"
   },
   {
    "duration": 7,
    "start_time": "2021-09-09T16:38:45.721Z"
   },
   {
    "duration": 24,
    "start_time": "2021-09-09T16:38:45.729Z"
   },
   {
    "duration": 864,
    "start_time": "2021-09-09T16:38:45.755Z"
   },
   {
    "duration": -322,
    "start_time": "2021-09-09T16:38:46.943Z"
   },
   {
    "duration": -324,
    "start_time": "2021-09-09T16:38:46.946Z"
   },
   {
    "duration": -325,
    "start_time": "2021-09-09T16:38:46.948Z"
   },
   {
    "duration": -326,
    "start_time": "2021-09-09T16:38:46.950Z"
   },
   {
    "duration": -327,
    "start_time": "2021-09-09T16:38:46.952Z"
   },
   {
    "duration": -328,
    "start_time": "2021-09-09T16:38:46.954Z"
   },
   {
    "duration": -330,
    "start_time": "2021-09-09T16:38:46.957Z"
   },
   {
    "duration": -337,
    "start_time": "2021-09-09T16:38:46.965Z"
   },
   {
    "duration": -339,
    "start_time": "2021-09-09T16:38:46.968Z"
   },
   {
    "duration": 3,
    "start_time": "2021-09-09T16:39:06.091Z"
   },
   {
    "duration": 2099,
    "start_time": "2021-09-09T16:39:06.097Z"
   },
   {
    "duration": 49,
    "start_time": "2021-09-09T16:39:08.199Z"
   },
   {
    "duration": 7,
    "start_time": "2021-09-09T16:39:08.250Z"
   },
   {
    "duration": 37,
    "start_time": "2021-09-09T16:39:08.259Z"
   },
   {
    "duration": 573,
    "start_time": "2021-09-09T16:39:08.297Z"
   },
   {
    "duration": -341,
    "start_time": "2021-09-09T16:39:09.213Z"
   },
   {
    "duration": -342,
    "start_time": "2021-09-09T16:39:09.215Z"
   },
   {
    "duration": -343,
    "start_time": "2021-09-09T16:39:09.217Z"
   },
   {
    "duration": -353,
    "start_time": "2021-09-09T16:39:09.228Z"
   },
   {
    "duration": -354,
    "start_time": "2021-09-09T16:39:09.230Z"
   },
   {
    "duration": -355,
    "start_time": "2021-09-09T16:39:09.232Z"
   },
   {
    "duration": -357,
    "start_time": "2021-09-09T16:39:09.234Z"
   },
   {
    "duration": -357,
    "start_time": "2021-09-09T16:39:09.235Z"
   },
   {
    "duration": -358,
    "start_time": "2021-09-09T16:39:09.237Z"
   },
   {
    "duration": 3,
    "start_time": "2021-09-09T16:39:51.664Z"
   },
   {
    "duration": 1855,
    "start_time": "2021-09-09T16:39:51.669Z"
   },
   {
    "duration": 50,
    "start_time": "2021-09-09T16:39:53.527Z"
   },
   {
    "duration": 7,
    "start_time": "2021-09-09T16:39:53.580Z"
   },
   {
    "duration": 25,
    "start_time": "2021-09-09T16:39:53.589Z"
   },
   {
    "duration": 111,
    "start_time": "2021-09-09T16:39:53.616Z"
   },
   {
    "duration": 12,
    "start_time": "2021-09-09T16:39:53.729Z"
   },
   {
    "duration": 33,
    "start_time": "2021-09-09T16:39:53.744Z"
   },
   {
    "duration": 30,
    "start_time": "2021-09-09T16:39:53.779Z"
   },
   {
    "duration": 259,
    "start_time": "2021-09-09T16:39:53.810Z"
   },
   {
    "duration": 9,
    "start_time": "2021-09-09T16:39:54.071Z"
   },
   {
    "duration": 9,
    "start_time": "2021-09-09T16:39:54.081Z"
   },
   {
    "duration": 7,
    "start_time": "2021-09-09T16:39:54.092Z"
   },
   {
    "duration": 6,
    "start_time": "2021-09-09T16:39:54.101Z"
   },
   {
    "duration": 6,
    "start_time": "2021-09-09T16:39:54.109Z"
   },
   {
    "duration": 470,
    "start_time": "2021-09-09T16:40:15.558Z"
   },
   {
    "duration": 13,
    "start_time": "2021-09-09T16:40:28.470Z"
   },
   {
    "duration": 455,
    "start_time": "2021-09-09T16:40:34.201Z"
   },
   {
    "duration": 14,
    "start_time": "2021-09-09T16:41:04.074Z"
   },
   {
    "duration": 15,
    "start_time": "2021-09-09T16:41:25.579Z"
   },
   {
    "duration": 424,
    "start_time": "2021-09-09T16:49:11.364Z"
   },
   {
    "duration": 58,
    "start_time": "2021-09-09T16:49:29.055Z"
   },
   {
    "duration": 103,
    "start_time": "2021-09-09T16:50:49.064Z"
   },
   {
    "duration": 104,
    "start_time": "2021-09-09T16:51:06.003Z"
   },
   {
    "duration": 30,
    "start_time": "2021-09-09T16:53:35.716Z"
   },
   {
    "duration": 64,
    "start_time": "2021-09-09T16:54:59.074Z"
   },
   {
    "duration": 65,
    "start_time": "2021-09-09T16:57:53.485Z"
   },
   {
    "duration": 108,
    "start_time": "2021-09-09T17:06:13.260Z"
   },
   {
    "duration": 163,
    "start_time": "2021-09-09T17:14:54.164Z"
   },
   {
    "duration": 146,
    "start_time": "2021-09-09T17:15:05.156Z"
   },
   {
    "duration": 141,
    "start_time": "2021-09-09T17:15:12.561Z"
   },
   {
    "duration": 254,
    "start_time": "2021-09-09T17:17:29.870Z"
   },
   {
    "duration": 271,
    "start_time": "2021-09-09T17:18:34.375Z"
   },
   {
    "duration": 216,
    "start_time": "2021-09-09T17:21:50.741Z"
   },
   {
    "duration": 60,
    "start_time": "2021-09-09T17:22:20.523Z"
   },
   {
    "duration": 110,
    "start_time": "2021-09-09T17:22:38.081Z"
   },
   {
    "duration": 34,
    "start_time": "2021-09-09T17:22:51.013Z"
   },
   {
    "duration": 247,
    "start_time": "2021-09-09T17:23:08.861Z"
   },
   {
    "duration": 3,
    "start_time": "2021-09-09T17:23:30.174Z"
   },
   {
    "duration": 14,
    "start_time": "2021-09-09T17:23:30.179Z"
   },
   {
    "duration": 57,
    "start_time": "2021-09-09T17:23:30.195Z"
   },
   {
    "duration": 6,
    "start_time": "2021-09-09T17:23:30.254Z"
   },
   {
    "duration": 27,
    "start_time": "2021-09-09T17:23:30.261Z"
   },
   {
    "duration": 24,
    "start_time": "2021-09-09T17:23:30.289Z"
   },
   {
    "duration": 9,
    "start_time": "2021-09-09T17:23:30.315Z"
   },
   {
    "duration": 15,
    "start_time": "2021-09-09T17:23:30.326Z"
   },
   {
    "duration": 55,
    "start_time": "2021-09-09T17:23:30.344Z"
   },
   {
    "duration": 237,
    "start_time": "2021-09-09T17:23:30.402Z"
   },
   {
    "duration": 6,
    "start_time": "2021-09-09T17:23:30.641Z"
   },
   {
    "duration": 31,
    "start_time": "2021-09-09T17:23:30.649Z"
   },
   {
    "duration": 13,
    "start_time": "2021-09-09T17:23:30.682Z"
   },
   {
    "duration": 8,
    "start_time": "2021-09-09T17:23:30.697Z"
   },
   {
    "duration": 9,
    "start_time": "2021-09-09T17:23:30.707Z"
   },
   {
    "duration": 70,
    "start_time": "2021-09-09T17:23:30.718Z"
   },
   {
    "duration": 113,
    "start_time": "2021-09-09T17:23:30.789Z"
   },
   {
    "duration": 30,
    "start_time": "2021-09-09T17:23:30.903Z"
   },
   {
    "duration": 260,
    "start_time": "2021-09-09T17:23:30.935Z"
   },
   {
    "duration": 3,
    "start_time": "2021-09-09T17:23:40.756Z"
   },
   {
    "duration": 4,
    "start_time": "2021-09-09T17:23:40.761Z"
   },
   {
    "duration": 44,
    "start_time": "2021-09-09T17:23:40.767Z"
   },
   {
    "duration": 6,
    "start_time": "2021-09-09T17:23:40.813Z"
   },
   {
    "duration": 21,
    "start_time": "2021-09-09T17:23:40.821Z"
   },
   {
    "duration": 50,
    "start_time": "2021-09-09T17:23:40.844Z"
   },
   {
    "duration": 9,
    "start_time": "2021-09-09T17:23:40.896Z"
   },
   {
    "duration": 13,
    "start_time": "2021-09-09T17:23:40.907Z"
   },
   {
    "duration": 26,
    "start_time": "2021-09-09T17:23:40.922Z"
   },
   {
    "duration": 242,
    "start_time": "2021-09-09T17:23:40.950Z"
   },
   {
    "duration": 4,
    "start_time": "2021-09-09T17:23:41.194Z"
   },
   {
    "duration": 5,
    "start_time": "2021-09-09T17:23:41.200Z"
   },
   {
    "duration": 5,
    "start_time": "2021-09-09T17:23:41.207Z"
   },
   {
    "duration": 5,
    "start_time": "2021-09-09T17:23:41.214Z"
   },
   {
    "duration": 7,
    "start_time": "2021-09-09T17:23:41.221Z"
   },
   {
    "duration": 91,
    "start_time": "2021-09-09T17:23:41.230Z"
   },
   {
    "duration": 111,
    "start_time": "2021-09-09T17:23:41.323Z"
   },
   {
    "duration": 29,
    "start_time": "2021-09-09T17:23:41.436Z"
   },
   {
    "duration": 257,
    "start_time": "2021-09-09T17:23:41.477Z"
   },
   {
    "duration": 241,
    "start_time": "2021-09-09T17:24:46.739Z"
   },
   {
    "duration": 4,
    "start_time": "2021-09-10T09:55:46.642Z"
   },
   {
    "duration": 1920,
    "start_time": "2021-09-10T09:55:46.649Z"
   },
   {
    "duration": -1176,
    "start_time": "2021-09-10T09:55:49.749Z"
   },
   {
    "duration": -1197,
    "start_time": "2021-09-10T09:55:49.771Z"
   },
   {
    "duration": -1219,
    "start_time": "2021-09-10T09:55:49.795Z"
   },
   {
    "duration": -1226,
    "start_time": "2021-09-10T09:55:49.803Z"
   },
   {
    "duration": -1231,
    "start_time": "2021-09-10T09:55:49.810Z"
   },
   {
    "duration": -1236,
    "start_time": "2021-09-10T09:55:49.816Z"
   },
   {
    "duration": -1377,
    "start_time": "2021-09-10T09:55:49.959Z"
   },
   {
    "duration": -1382,
    "start_time": "2021-09-10T09:55:49.966Z"
   },
   {
    "duration": -1387,
    "start_time": "2021-09-10T09:55:49.972Z"
   },
   {
    "duration": -1392,
    "start_time": "2021-09-10T09:55:49.978Z"
   },
   {
    "duration": -1397,
    "start_time": "2021-09-10T09:55:49.984Z"
   },
   {
    "duration": -1401,
    "start_time": "2021-09-10T09:55:49.989Z"
   },
   {
    "duration": -1405,
    "start_time": "2021-09-10T09:55:49.994Z"
   },
   {
    "duration": -1408,
    "start_time": "2021-09-10T09:55:49.999Z"
   },
   {
    "duration": -1413,
    "start_time": "2021-09-10T09:55:50.005Z"
   },
   {
    "duration": -1418,
    "start_time": "2021-09-10T09:55:50.011Z"
   },
   {
    "duration": -1422,
    "start_time": "2021-09-10T09:55:50.017Z"
   },
   {
    "duration": 3,
    "start_time": "2021-09-10T09:58:03.300Z"
   },
   {
    "duration": 406,
    "start_time": "2021-09-10T09:58:03.306Z"
   },
   {
    "duration": -1164,
    "start_time": "2021-09-10T09:58:04.880Z"
   },
   {
    "duration": -1169,
    "start_time": "2021-09-10T09:58:04.887Z"
   },
   {
    "duration": -1173,
    "start_time": "2021-09-10T09:58:04.893Z"
   },
   {
    "duration": -1176,
    "start_time": "2021-09-10T09:58:04.898Z"
   },
   {
    "duration": -1179,
    "start_time": "2021-09-10T09:58:04.903Z"
   },
   {
    "duration": -1182,
    "start_time": "2021-09-10T09:58:04.909Z"
   },
   {
    "duration": -1199,
    "start_time": "2021-09-10T09:58:04.928Z"
   },
   {
    "duration": -1204,
    "start_time": "2021-09-10T09:58:04.935Z"
   },
   {
    "duration": -1213,
    "start_time": "2021-09-10T09:58:04.946Z"
   },
   {
    "duration": -1217,
    "start_time": "2021-09-10T09:58:04.952Z"
   },
   {
    "duration": -1222,
    "start_time": "2021-09-10T09:58:04.959Z"
   },
   {
    "duration": -1225,
    "start_time": "2021-09-10T09:58:04.964Z"
   },
   {
    "duration": -1227,
    "start_time": "2021-09-10T09:58:04.968Z"
   },
   {
    "duration": -1233,
    "start_time": "2021-09-10T09:58:04.976Z"
   },
   {
    "duration": -1236,
    "start_time": "2021-09-10T09:58:04.982Z"
   },
   {
    "duration": -1240,
    "start_time": "2021-09-10T09:58:04.988Z"
   },
   {
    "duration": -1244,
    "start_time": "2021-09-10T09:58:04.993Z"
   },
   {
    "duration": 11486,
    "start_time": "2021-09-10T09:58:42.108Z"
   },
   {
    "duration": 2125,
    "start_time": "2021-09-10T09:58:53.597Z"
   },
   {
    "duration": 65,
    "start_time": "2021-09-10T09:58:55.725Z"
   },
   {
    "duration": 10,
    "start_time": "2021-09-10T09:58:55.793Z"
   },
   {
    "duration": 59,
    "start_time": "2021-09-10T09:58:55.805Z"
   },
   {
    "duration": 123,
    "start_time": "2021-09-10T09:58:55.867Z"
   },
   {
    "duration": 15,
    "start_time": "2021-09-10T09:58:55.992Z"
   },
   {
    "duration": 19,
    "start_time": "2021-09-10T09:58:56.009Z"
   },
   {
    "duration": 44,
    "start_time": "2021-09-10T09:58:56.056Z"
   },
   {
    "duration": 360,
    "start_time": "2021-09-10T09:58:56.103Z"
   },
   {
    "duration": 6,
    "start_time": "2021-09-10T09:58:56.465Z"
   },
   {
    "duration": 10,
    "start_time": "2021-09-10T09:58:56.473Z"
   },
   {
    "duration": 11,
    "start_time": "2021-09-10T09:58:56.485Z"
   },
   {
    "duration": 25,
    "start_time": "2021-09-10T09:58:56.498Z"
   },
   {
    "duration": 10,
    "start_time": "2021-09-10T09:58:56.526Z"
   },
   {
    "duration": 74,
    "start_time": "2021-09-10T09:58:56.556Z"
   },
   {
    "duration": 186,
    "start_time": "2021-09-10T09:58:56.632Z"
   },
   {
    "duration": 57,
    "start_time": "2021-09-10T09:58:56.820Z"
   },
   {
    "duration": 362,
    "start_time": "2021-09-10T09:58:56.879Z"
   },
   {
    "duration": 517,
    "start_time": "2021-09-10T10:00:05.607Z"
   },
   {
    "duration": 299,
    "start_time": "2021-09-10T10:00:54.635Z"
   },
   {
    "duration": 286,
    "start_time": "2021-09-10T10:01:07.093Z"
   },
   {
    "duration": 243,
    "start_time": "2021-09-10T10:01:20.690Z"
   },
   {
    "duration": 8,
    "start_time": "2021-09-10T10:07:12.613Z"
   },
   {
    "duration": 267,
    "start_time": "2021-09-10T10:07:23.661Z"
   },
   {
    "duration": 498,
    "start_time": "2021-09-10T11:23:39.309Z"
   },
   {
    "duration": 367,
    "start_time": "2021-09-10T11:23:43.023Z"
   },
   {
    "duration": 7,
    "start_time": "2021-09-10T11:24:25.438Z"
   },
   {
    "duration": 354,
    "start_time": "2021-09-10T11:24:36.643Z"
   },
   {
    "duration": 351,
    "start_time": "2021-09-10T11:24:57.269Z"
   },
   {
    "duration": 12,
    "start_time": "2021-09-10T11:25:05.737Z"
   },
   {
    "duration": 272,
    "start_time": "2021-09-10T11:25:08.940Z"
   },
   {
    "duration": 7513,
    "start_time": "2021-09-11T09:57:17.680Z"
   },
   {
    "duration": 1738,
    "start_time": "2021-09-11T09:57:25.196Z"
   },
   {
    "duration": 52,
    "start_time": "2021-09-11T09:57:26.937Z"
   },
   {
    "duration": 9,
    "start_time": "2021-09-11T09:57:26.991Z"
   },
   {
    "duration": 32,
    "start_time": "2021-09-11T09:57:27.002Z"
   },
   {
    "duration": 100,
    "start_time": "2021-09-11T09:57:27.041Z"
   },
   {
    "duration": 12,
    "start_time": "2021-09-11T09:57:27.144Z"
   },
   {
    "duration": 18,
    "start_time": "2021-09-11T09:57:27.160Z"
   },
   {
    "duration": 39,
    "start_time": "2021-09-11T09:57:27.181Z"
   },
   {
    "duration": 265,
    "start_time": "2021-09-11T09:57:27.222Z"
   },
   {
    "duration": 4,
    "start_time": "2021-09-11T09:57:27.489Z"
   },
   {
    "duration": 19,
    "start_time": "2021-09-11T09:57:27.495Z"
   },
   {
    "duration": 23,
    "start_time": "2021-09-11T09:57:27.516Z"
   },
   {
    "duration": 21,
    "start_time": "2021-09-11T09:57:27.541Z"
   },
   {
    "duration": 10,
    "start_time": "2021-09-11T09:57:27.563Z"
   },
   {
    "duration": 72,
    "start_time": "2021-09-11T09:57:27.575Z"
   },
   {
    "duration": 119,
    "start_time": "2021-09-11T09:57:27.649Z"
   },
   {
    "duration": 31,
    "start_time": "2021-09-11T09:57:27.769Z"
   },
   {
    "duration": 294,
    "start_time": "2021-09-11T09:57:27.802Z"
   },
   {
    "duration": 249,
    "start_time": "2021-09-11T09:57:28.098Z"
   },
   {
    "duration": 10,
    "start_time": "2021-09-11T09:57:28.349Z"
   },
   {
    "duration": 181,
    "start_time": "2021-09-11T09:57:28.361Z"
   },
   {
    "duration": 249,
    "start_time": "2021-09-11T10:37:56.470Z"
   },
   {
    "duration": 2,
    "start_time": "2021-09-11T10:45:56.082Z"
   },
   {
    "duration": 2,
    "start_time": "2021-09-11T10:45:57.696Z"
   },
   {
    "duration": 90,
    "start_time": "2021-09-11T10:46:02.844Z"
   },
   {
    "duration": 97,
    "start_time": "2021-09-11T10:46:06.834Z"
   },
   {
    "duration": 92,
    "start_time": "2021-09-11T10:47:13.311Z"
   },
   {
    "duration": 15,
    "start_time": "2021-09-11T10:47:19.372Z"
   },
   {
    "duration": 2791,
    "start_time": "2021-09-11T10:47:48.457Z"
   },
   {
    "duration": 5,
    "start_time": "2021-09-11T10:47:51.251Z"
   },
   {
    "duration": 56,
    "start_time": "2021-09-11T10:47:51.259Z"
   },
   {
    "duration": 7,
    "start_time": "2021-09-11T10:47:51.317Z"
   },
   {
    "duration": 31,
    "start_time": "2021-09-11T10:47:51.326Z"
   },
   {
    "duration": 27,
    "start_time": "2021-09-11T10:47:51.360Z"
   },
   {
    "duration": 12,
    "start_time": "2021-09-11T10:47:51.390Z"
   },
   {
    "duration": 45,
    "start_time": "2021-09-11T10:47:51.404Z"
   },
   {
    "duration": 31,
    "start_time": "2021-09-11T10:47:51.452Z"
   },
   {
    "duration": 249,
    "start_time": "2021-09-11T10:47:51.486Z"
   },
   {
    "duration": 5,
    "start_time": "2021-09-11T10:47:51.741Z"
   },
   {
    "duration": 7,
    "start_time": "2021-09-11T10:47:51.748Z"
   },
   {
    "duration": 6,
    "start_time": "2021-09-11T10:47:51.757Z"
   },
   {
    "duration": 7,
    "start_time": "2021-09-11T10:47:51.764Z"
   },
   {
    "duration": 5,
    "start_time": "2021-09-11T10:47:51.773Z"
   },
   {
    "duration": 91,
    "start_time": "2021-09-11T10:47:51.780Z"
   },
   {
    "duration": 125,
    "start_time": "2021-09-11T10:47:51.873Z"
   },
   {
    "duration": 46,
    "start_time": "2021-09-11T10:47:52.000Z"
   },
   {
    "duration": 292,
    "start_time": "2021-09-11T10:47:52.049Z"
   },
   {
    "duration": 188,
    "start_time": "2021-09-11T10:47:52.343Z"
   },
   {
    "duration": 13,
    "start_time": "2021-09-11T10:47:52.532Z"
   },
   {
    "duration": 184,
    "start_time": "2021-09-11T10:47:52.547Z"
   },
   {
    "duration": 7,
    "start_time": "2021-09-11T10:47:52.734Z"
   },
   {
    "duration": 12,
    "start_time": "2021-09-11T10:47:52.744Z"
   },
   {
    "duration": 105,
    "start_time": "2021-09-11T10:47:52.757Z"
   },
   {
    "duration": 15,
    "start_time": "2021-09-11T10:47:52.864Z"
   },
   {
    "duration": 4,
    "start_time": "2021-09-11T10:49:05.454Z"
   },
   {
    "duration": 4,
    "start_time": "2021-09-11T10:50:06.862Z"
   },
   {
    "duration": 93,
    "start_time": "2021-09-11T10:50:54.901Z"
   },
   {
    "duration": 1961,
    "start_time": "2021-09-11T10:50:57.232Z"
   },
   {
    "duration": 2016,
    "start_time": "2021-09-11T10:50:59.546Z"
   },
   {
    "duration": 96,
    "start_time": "2021-09-11T10:58:51.430Z"
   },
   {
    "duration": 17,
    "start_time": "2021-09-11T10:58:52.550Z"
   },
   {
    "duration": 104,
    "start_time": "2021-09-11T10:59:07.336Z"
   },
   {
    "duration": 2034,
    "start_time": "2021-09-11T10:59:15.027Z"
   },
   {
    "duration": 11828,
    "start_time": "2021-09-11T14:57:12.238Z"
   },
   {
    "duration": 1972,
    "start_time": "2021-09-11T14:57:24.069Z"
   },
   {
    "duration": 58,
    "start_time": "2021-09-11T14:57:26.044Z"
   },
   {
    "duration": 10,
    "start_time": "2021-09-11T14:57:26.105Z"
   },
   {
    "duration": 64,
    "start_time": "2021-09-11T14:57:26.118Z"
   },
   {
    "duration": 122,
    "start_time": "2021-09-11T14:57:26.185Z"
   },
   {
    "duration": 16,
    "start_time": "2021-09-11T14:57:26.311Z"
   },
   {
    "duration": 41,
    "start_time": "2021-09-11T14:57:26.329Z"
   },
   {
    "duration": 42,
    "start_time": "2021-09-11T14:57:26.374Z"
   },
   {
    "duration": 359,
    "start_time": "2021-09-11T14:57:26.420Z"
   },
   {
    "duration": 6,
    "start_time": "2021-09-11T14:57:26.782Z"
   },
   {
    "duration": 8,
    "start_time": "2021-09-11T14:57:26.790Z"
   },
   {
    "duration": 7,
    "start_time": "2021-09-11T14:57:26.801Z"
   },
   {
    "duration": 8,
    "start_time": "2021-09-11T14:57:26.811Z"
   },
   {
    "duration": 11,
    "start_time": "2021-09-11T14:57:26.863Z"
   },
   {
    "duration": 102,
    "start_time": "2021-09-11T14:57:26.876Z"
   },
   {
    "duration": 171,
    "start_time": "2021-09-11T14:57:26.981Z"
   },
   {
    "duration": 42,
    "start_time": "2021-09-11T14:57:27.161Z"
   },
   {
    "duration": 369,
    "start_time": "2021-09-11T14:57:27.205Z"
   },
   {
    "duration": 294,
    "start_time": "2021-09-11T14:57:27.577Z"
   },
   {
    "duration": 9,
    "start_time": "2021-09-11T14:57:27.874Z"
   },
   {
    "duration": 284,
    "start_time": "2021-09-11T14:57:27.886Z"
   },
   {
    "duration": 3,
    "start_time": "2021-09-11T14:57:28.173Z"
   },
   {
    "duration": 10,
    "start_time": "2021-09-11T14:57:28.178Z"
   },
   {
    "duration": 155,
    "start_time": "2021-09-11T14:57:28.190Z"
   },
   {
    "duration": 33,
    "start_time": "2021-09-11T14:57:28.347Z"
   },
   {
    "duration": 154,
    "start_time": "2021-09-11T14:57:28.385Z"
   },
   {
    "duration": 461,
    "start_time": "2021-09-11T14:57:28.541Z"
   },
   {
    "duration": 3827,
    "start_time": "2021-09-11T14:57:29.064Z"
   },
   {
    "duration": 7,
    "start_time": "2021-09-11T14:57:32.894Z"
   },
   {
    "duration": 1205,
    "start_time": "2021-09-11T14:57:32.903Z"
   },
   {
    "duration": 241,
    "start_time": "2021-09-11T14:57:34.111Z"
   },
   {
    "duration": 257,
    "start_time": "2021-09-11T14:57:34.355Z"
   },
   {
    "duration": 49,
    "start_time": "2021-09-11T14:57:34.614Z"
   },
   {
    "duration": 409,
    "start_time": "2021-09-11T14:57:34.666Z"
   },
   {
    "duration": -230,
    "start_time": "2021-09-11T14:57:35.309Z"
   },
   {
    "duration": -232,
    "start_time": "2021-09-11T14:57:35.312Z"
   },
   {
    "duration": -235,
    "start_time": "2021-09-11T14:57:35.317Z"
   },
   {
    "duration": -245,
    "start_time": "2021-09-11T14:57:35.328Z"
   },
   {
    "duration": -247,
    "start_time": "2021-09-11T14:57:35.331Z"
   },
   {
    "duration": -254,
    "start_time": "2021-09-11T14:57:35.340Z"
   },
   {
    "duration": -255,
    "start_time": "2021-09-11T14:57:35.342Z"
   },
   {
    "duration": -257,
    "start_time": "2021-09-11T14:57:35.345Z"
   },
   {
    "duration": -260,
    "start_time": "2021-09-11T14:57:35.349Z"
   },
   {
    "duration": -269,
    "start_time": "2021-09-11T14:57:35.360Z"
   },
   {
    "duration": -272,
    "start_time": "2021-09-11T14:57:35.364Z"
   },
   {
    "duration": -281,
    "start_time": "2021-09-11T14:57:35.374Z"
   },
   {
    "duration": -282,
    "start_time": "2021-09-11T14:57:35.377Z"
   },
   {
    "duration": -284,
    "start_time": "2021-09-11T14:57:35.380Z"
   },
   {
    "duration": -286,
    "start_time": "2021-09-11T14:57:35.383Z"
   },
   {
    "duration": -295,
    "start_time": "2021-09-11T14:57:35.393Z"
   },
   {
    "duration": -297,
    "start_time": "2021-09-11T14:57:35.397Z"
   },
   {
    "duration": -309,
    "start_time": "2021-09-11T14:57:35.410Z"
   },
   {
    "duration": -311,
    "start_time": "2021-09-11T14:57:35.413Z"
   },
   {
    "duration": -313,
    "start_time": "2021-09-11T14:57:35.416Z"
   },
   {
    "duration": -322,
    "start_time": "2021-09-11T14:57:35.427Z"
   },
   {
    "duration": 3680,
    "start_time": "2021-09-11T14:57:42.915Z"
   },
   {
    "duration": 3503,
    "start_time": "2021-09-11T14:57:57.804Z"
   },
   {
    "duration": 1939,
    "start_time": "2021-09-11T14:58:01.311Z"
   },
   {
    "duration": 58,
    "start_time": "2021-09-11T14:58:03.253Z"
   },
   {
    "duration": 10,
    "start_time": "2021-09-11T14:58:03.314Z"
   },
   {
    "duration": 56,
    "start_time": "2021-09-11T14:58:03.326Z"
   },
   {
    "duration": 129,
    "start_time": "2021-09-11T14:58:03.385Z"
   },
   {
    "duration": 15,
    "start_time": "2021-09-11T14:58:03.517Z"
   },
   {
    "duration": 36,
    "start_time": "2021-09-11T14:58:03.536Z"
   },
   {
    "duration": 61,
    "start_time": "2021-09-11T14:58:03.577Z"
   },
   {
    "duration": 374,
    "start_time": "2021-09-11T14:58:03.663Z"
   },
   {
    "duration": 22,
    "start_time": "2021-09-11T14:58:04.039Z"
   },
   {
    "duration": 9,
    "start_time": "2021-09-11T14:58:04.063Z"
   },
   {
    "duration": 10,
    "start_time": "2021-09-11T14:58:04.074Z"
   },
   {
    "duration": 13,
    "start_time": "2021-09-11T14:58:04.087Z"
   },
   {
    "duration": 7,
    "start_time": "2021-09-11T14:58:04.103Z"
   },
   {
    "duration": 112,
    "start_time": "2021-09-11T14:58:04.113Z"
   },
   {
    "duration": 180,
    "start_time": "2021-09-11T14:58:04.229Z"
   },
   {
    "duration": 60,
    "start_time": "2021-09-11T14:58:04.412Z"
   },
   {
    "duration": 329,
    "start_time": "2021-09-11T14:58:04.476Z"
   },
   {
    "duration": 286,
    "start_time": "2021-09-11T14:58:04.808Z"
   },
   {
    "duration": 13,
    "start_time": "2021-09-11T14:58:05.098Z"
   },
   {
    "duration": 286,
    "start_time": "2021-09-11T14:58:05.114Z"
   },
   {
    "duration": 3,
    "start_time": "2021-09-11T14:58:05.404Z"
   },
   {
    "duration": 7,
    "start_time": "2021-09-11T14:58:05.410Z"
   },
   {
    "duration": 159,
    "start_time": "2021-09-11T14:58:05.420Z"
   },
   {
    "duration": 22,
    "start_time": "2021-09-11T14:58:05.581Z"
   },
   {
    "duration": 174,
    "start_time": "2021-09-11T14:58:05.605Z"
   },
   {
    "duration": 73,
    "start_time": "2021-09-11T14:58:05.781Z"
   },
   {
    "duration": 3059,
    "start_time": "2021-09-11T15:00:07.019Z"
   },
   {
    "duration": 502,
    "start_time": "2021-09-11T15:11:59.804Z"
   },
   {
    "duration": 129,
    "start_time": "2021-09-11T15:12:31.437Z"
   },
   {
    "duration": 363,
    "start_time": "2021-09-11T15:13:20.301Z"
   },
   {
    "duration": 71,
    "start_time": "2021-09-11T15:13:28.390Z"
   },
   {
    "duration": 331,
    "start_time": "2021-09-11T15:13:38.445Z"
   },
   {
    "duration": 891,
    "start_time": "2021-09-11T15:25:00.022Z"
   },
   {
    "duration": 479,
    "start_time": "2021-09-11T15:34:15.108Z"
   },
   {
    "duration": 5319,
    "start_time": "2021-09-11T15:35:41.435Z"
   },
   {
    "duration": -191,
    "start_time": "2021-09-11T15:37:00.930Z"
   },
   {
    "duration": -197,
    "start_time": "2021-09-11T15:37:00.939Z"
   },
   {
    "duration": -200,
    "start_time": "2021-09-11T15:37:00.945Z"
   },
   {
    "duration": -201,
    "start_time": "2021-09-11T15:37:00.949Z"
   },
   {
    "duration": -191,
    "start_time": "2021-09-11T15:37:00.954Z"
   },
   {
    "duration": -191,
    "start_time": "2021-09-11T15:37:00.958Z"
   },
   {
    "duration": -196,
    "start_time": "2021-09-11T15:37:00.966Z"
   },
   {
    "duration": -197,
    "start_time": "2021-09-11T15:37:00.970Z"
   },
   {
    "duration": -199,
    "start_time": "2021-09-11T15:37:00.974Z"
   },
   {
    "duration": -198,
    "start_time": "2021-09-11T15:37:00.977Z"
   },
   {
    "duration": -199,
    "start_time": "2021-09-11T15:37:00.980Z"
   },
   {
    "duration": -208,
    "start_time": "2021-09-11T15:37:00.992Z"
   },
   {
    "duration": -209,
    "start_time": "2021-09-11T15:37:00.996Z"
   },
   {
    "duration": -209,
    "start_time": "2021-09-11T15:37:00.999Z"
   },
   {
    "duration": -209,
    "start_time": "2021-09-11T15:37:01.002Z"
   },
   {
    "duration": -210,
    "start_time": "2021-09-11T15:37:01.005Z"
   },
   {
    "duration": -221,
    "start_time": "2021-09-11T15:37:01.019Z"
   },
   {
    "duration": -220,
    "start_time": "2021-09-11T15:37:01.084Z"
   },
   {
    "duration": -221,
    "start_time": "2021-09-11T15:37:01.087Z"
   },
   {
    "duration": -221,
    "start_time": "2021-09-11T15:37:01.089Z"
   },
   {
    "duration": -224,
    "start_time": "2021-09-11T15:37:01.094Z"
   },
   {
    "duration": -225,
    "start_time": "2021-09-11T15:37:01.097Z"
   },
   {
    "duration": -226,
    "start_time": "2021-09-11T15:37:01.100Z"
   },
   {
    "duration": -252,
    "start_time": "2021-09-11T15:37:01.128Z"
   },
   {
    "duration": -251,
    "start_time": "2021-09-11T15:37:01.130Z"
   },
   {
    "duration": -252,
    "start_time": "2021-09-11T15:37:01.133Z"
   },
   {
    "duration": -252,
    "start_time": "2021-09-11T15:37:01.136Z"
   },
   {
    "duration": -253,
    "start_time": "2021-09-11T15:37:01.139Z"
   },
   {
    "duration": 4,
    "start_time": "2021-09-11T15:38:09.773Z"
   },
   {
    "duration": 24,
    "start_time": "2021-09-11T15:38:09.780Z"
   },
   {
    "duration": 66,
    "start_time": "2021-09-11T15:38:09.807Z"
   },
   {
    "duration": 10,
    "start_time": "2021-09-11T15:38:09.877Z"
   },
   {
    "duration": 50,
    "start_time": "2021-09-11T15:38:09.889Z"
   },
   {
    "duration": 38,
    "start_time": "2021-09-11T15:38:09.962Z"
   },
   {
    "duration": 15,
    "start_time": "2021-09-11T15:38:10.003Z"
   },
   {
    "duration": 50,
    "start_time": "2021-09-11T15:38:10.024Z"
   },
   {
    "duration": 43,
    "start_time": "2021-09-11T15:38:10.077Z"
   },
   {
    "duration": 44558,
    "start_time": "2021-09-11T15:38:10.123Z"
   },
   {
    "duration": -202,
    "start_time": "2021-09-11T15:38:54.886Z"
   },
   {
    "duration": -205,
    "start_time": "2021-09-11T15:38:54.890Z"
   },
   {
    "duration": -207,
    "start_time": "2021-09-11T15:38:54.894Z"
   },
   {
    "duration": -209,
    "start_time": "2021-09-11T15:38:54.897Z"
   },
   {
    "duration": -210,
    "start_time": "2021-09-11T15:38:54.899Z"
   },
   {
    "duration": -211,
    "start_time": "2021-09-11T15:38:54.902Z"
   },
   {
    "duration": -213,
    "start_time": "2021-09-11T15:38:54.905Z"
   },
   {
    "duration": -214,
    "start_time": "2021-09-11T15:38:54.908Z"
   },
   {
    "duration": -216,
    "start_time": "2021-09-11T15:38:54.911Z"
   },
   {
    "duration": -217,
    "start_time": "2021-09-11T15:38:54.913Z"
   },
   {
    "duration": -233,
    "start_time": "2021-09-11T15:38:54.930Z"
   },
   {
    "duration": -234,
    "start_time": "2021-09-11T15:38:54.933Z"
   },
   {
    "duration": -237,
    "start_time": "2021-09-11T15:38:54.937Z"
   },
   {
    "duration": -240,
    "start_time": "2021-09-11T15:38:54.941Z"
   },
   {
    "duration": -241,
    "start_time": "2021-09-11T15:38:54.944Z"
   },
   {
    "duration": -242,
    "start_time": "2021-09-11T15:38:54.946Z"
   },
   {
    "duration": -244,
    "start_time": "2021-09-11T15:38:54.949Z"
   },
   {
    "duration": -246,
    "start_time": "2021-09-11T15:38:54.952Z"
   },
   {
    "duration": 3,
    "start_time": "2021-09-11T15:39:22.008Z"
   },
   {
    "duration": 12,
    "start_time": "2021-09-11T15:39:22.014Z"
   },
   {
    "duration": 61,
    "start_time": "2021-09-11T15:39:22.029Z"
   },
   {
    "duration": 10,
    "start_time": "2021-09-11T15:39:22.092Z"
   },
   {
    "duration": 33,
    "start_time": "2021-09-11T15:39:22.104Z"
   },
   {
    "duration": 37,
    "start_time": "2021-09-11T15:39:22.162Z"
   },
   {
    "duration": 14,
    "start_time": "2021-09-11T15:39:22.202Z"
   },
   {
    "duration": 46,
    "start_time": "2021-09-11T15:39:22.219Z"
   },
   {
    "duration": 42,
    "start_time": "2021-09-11T15:39:22.270Z"
   },
   {
    "duration": 495,
    "start_time": "2021-09-11T15:39:22.315Z"
   },
   {
    "duration": 6,
    "start_time": "2021-09-11T15:39:22.813Z"
   },
   {
    "duration": 32,
    "start_time": "2021-09-11T15:39:22.822Z"
   },
   {
    "duration": 13,
    "start_time": "2021-09-11T15:39:22.856Z"
   },
   {
    "duration": 18,
    "start_time": "2021-09-11T15:39:22.872Z"
   },
   {
    "duration": 11,
    "start_time": "2021-09-11T15:39:22.892Z"
   },
   {
    "duration": 256,
    "start_time": "2021-09-11T15:39:22.906Z"
   },
   {
    "duration": 398,
    "start_time": "2021-09-11T15:39:23.164Z"
   },
   {
    "duration": 140,
    "start_time": "2021-09-11T15:39:23.566Z"
   },
   {
    "duration": 417,
    "start_time": "2021-09-11T15:39:23.764Z"
   },
   {
    "duration": 284,
    "start_time": "2021-09-11T15:39:24.184Z"
   },
   {
    "duration": 11,
    "start_time": "2021-09-11T15:39:24.471Z"
   },
   {
    "duration": 285,
    "start_time": "2021-09-11T15:39:24.485Z"
   },
   {
    "duration": 4,
    "start_time": "2021-09-11T15:39:24.772Z"
   },
   {
    "duration": 6,
    "start_time": "2021-09-11T15:39:24.778Z"
   },
   {
    "duration": 181,
    "start_time": "2021-09-11T15:39:24.787Z"
   },
   {
    "duration": 192,
    "start_time": "2021-09-11T15:39:24.971Z"
   },
   {
    "duration": 251,
    "start_time": "2021-09-11T15:39:25.172Z"
   },
   {
    "duration": 3196,
    "start_time": "2021-09-11T15:39:25.425Z"
   },
   {
    "duration": 4,
    "start_time": "2021-09-11T15:41:02.370Z"
   },
   {
    "duration": 2171,
    "start_time": "2021-09-11T15:41:02.377Z"
   },
   {
    "duration": 62,
    "start_time": "2021-09-11T15:41:04.551Z"
   },
   {
    "duration": 9,
    "start_time": "2021-09-11T15:41:04.615Z"
   },
   {
    "duration": 56,
    "start_time": "2021-09-11T15:41:04.627Z"
   },
   {
    "duration": 130,
    "start_time": "2021-09-11T15:41:04.685Z"
   },
   {
    "duration": 13,
    "start_time": "2021-09-11T15:41:04.818Z"
   },
   {
    "duration": 39,
    "start_time": "2021-09-11T15:41:04.835Z"
   },
   {
    "duration": 40,
    "start_time": "2021-09-11T15:41:04.877Z"
   },
   {
    "duration": 491,
    "start_time": "2021-09-11T15:41:04.919Z"
   },
   {
    "duration": 8,
    "start_time": "2021-09-11T15:41:05.412Z"
   },
   {
    "duration": 38,
    "start_time": "2021-09-11T15:41:05.423Z"
   },
   {
    "duration": 16,
    "start_time": "2021-09-11T15:41:05.464Z"
   },
   {
    "duration": 10,
    "start_time": "2021-09-11T15:41:05.484Z"
   },
   {
    "duration": 9,
    "start_time": "2021-09-11T15:41:05.497Z"
   },
   {
    "duration": 254,
    "start_time": "2021-09-11T15:41:05.508Z"
   },
   {
    "duration": 399,
    "start_time": "2021-09-11T15:41:05.765Z"
   },
   {
    "duration": 197,
    "start_time": "2021-09-11T15:41:06.167Z"
   },
   {
    "duration": 422,
    "start_time": "2021-09-11T15:41:06.367Z"
   },
   {
    "duration": 291,
    "start_time": "2021-09-11T15:41:06.792Z"
   },
   {
    "duration": 11,
    "start_time": "2021-09-11T15:41:07.086Z"
   },
   {
    "duration": 291,
    "start_time": "2021-09-11T15:41:07.100Z"
   },
   {
    "duration": 3,
    "start_time": "2021-09-11T15:41:07.396Z"
   },
   {
    "duration": 11,
    "start_time": "2021-09-11T15:41:07.402Z"
   },
   {
    "duration": 151,
    "start_time": "2021-09-11T15:41:07.415Z"
   },
   {
    "duration": 203,
    "start_time": "2021-09-11T15:41:07.568Z"
   },
   {
    "duration": 172,
    "start_time": "2021-09-11T15:41:07.863Z"
   },
   {
    "duration": 3106,
    "start_time": "2021-09-11T15:41:08.037Z"
   },
   {
    "duration": 3,
    "start_time": "2021-09-11T15:41:53.051Z"
   },
   {
    "duration": 11,
    "start_time": "2021-09-11T15:41:53.057Z"
   },
   {
    "duration": 57,
    "start_time": "2021-09-11T15:41:53.071Z"
   },
   {
    "duration": 32,
    "start_time": "2021-09-11T15:41:53.131Z"
   },
   {
    "duration": 35,
    "start_time": "2021-09-11T15:41:53.166Z"
   },
   {
    "duration": 69,
    "start_time": "2021-09-11T15:41:53.203Z"
   },
   {
    "duration": 14,
    "start_time": "2021-09-11T15:41:53.274Z"
   },
   {
    "duration": 18,
    "start_time": "2021-09-11T15:41:53.291Z"
   },
   {
    "duration": 73,
    "start_time": "2021-09-11T15:41:53.313Z"
   },
   {
    "duration": 519,
    "start_time": "2021-09-11T15:41:53.389Z"
   },
   {
    "duration": 7,
    "start_time": "2021-09-11T15:41:53.910Z"
   },
   {
    "duration": 12,
    "start_time": "2021-09-11T15:41:53.919Z"
   },
   {
    "duration": 36,
    "start_time": "2021-09-11T15:41:53.933Z"
   },
   {
    "duration": 11,
    "start_time": "2021-09-11T15:41:53.971Z"
   },
   {
    "duration": 15,
    "start_time": "2021-09-11T15:41:53.984Z"
   },
   {
    "duration": 165,
    "start_time": "2021-09-11T15:41:54.001Z"
   },
   {
    "duration": 498,
    "start_time": "2021-09-11T15:41:54.169Z"
   },
   {
    "duration": 194,
    "start_time": "2021-09-11T15:41:54.670Z"
   },
   {
    "duration": 411,
    "start_time": "2021-09-11T15:41:54.868Z"
   },
   {
    "duration": 292,
    "start_time": "2021-09-11T15:41:55.281Z"
   },
   {
    "duration": 9,
    "start_time": "2021-09-11T15:41:55.576Z"
   },
   {
    "duration": 267,
    "start_time": "2021-09-11T15:41:55.587Z"
   },
   {
    "duration": 4,
    "start_time": "2021-09-11T15:41:55.861Z"
   },
   {
    "duration": 10,
    "start_time": "2021-09-11T15:41:55.867Z"
   },
   {
    "duration": 93,
    "start_time": "2021-09-11T15:41:55.880Z"
   },
   {
    "duration": 201,
    "start_time": "2021-09-11T15:41:56.063Z"
   },
   {
    "duration": 252,
    "start_time": "2021-09-11T15:41:56.271Z"
   },
   {
    "duration": 3194,
    "start_time": "2021-09-11T15:41:56.525Z"
   },
   {
    "duration": 475,
    "start_time": "2021-09-11T15:42:24.535Z"
   },
   {
    "duration": 444,
    "start_time": "2021-09-11T15:42:41.988Z"
   },
   {
    "duration": 470,
    "start_time": "2021-09-11T15:43:49.498Z"
   },
   {
    "duration": 408,
    "start_time": "2021-09-11T15:43:59.016Z"
   },
   {
    "duration": 99,
    "start_time": "2021-09-11T15:46:01.067Z"
   },
   {
    "duration": 831,
    "start_time": "2021-09-11T15:46:24.411Z"
   },
   {
    "duration": 504,
    "start_time": "2021-09-11T15:46:42.203Z"
   },
   {
    "duration": 463,
    "start_time": "2021-09-11T15:47:48.799Z"
   },
   {
    "duration": 389,
    "start_time": "2021-09-11T15:50:48.511Z"
   },
   {
    "duration": 542,
    "start_time": "2021-09-11T15:55:55.446Z"
   },
   {
    "duration": 842,
    "start_time": "2021-09-11T15:56:03.452Z"
   },
   {
    "duration": 503,
    "start_time": "2021-09-11T15:56:15.890Z"
   },
   {
    "duration": 185,
    "start_time": "2021-09-11T15:59:43.477Z"
   },
   {
    "duration": 124,
    "start_time": "2021-09-11T15:59:48.041Z"
   },
   {
    "duration": 40,
    "start_time": "2021-09-11T15:59:52.429Z"
   },
   {
    "duration": 88,
    "start_time": "2021-09-11T15:59:58.181Z"
   },
   {
    "duration": 344,
    "start_time": "2021-09-11T16:00:06.427Z"
   },
   {
    "duration": 207,
    "start_time": "2021-09-11T16:00:11.160Z"
   },
   {
    "duration": 57,
    "start_time": "2021-09-11T16:00:18.109Z"
   },
   {
    "duration": 59,
    "start_time": "2021-09-11T16:04:53.404Z"
   },
   {
    "duration": 195,
    "start_time": "2021-09-11T16:05:53.167Z"
   },
   {
    "duration": 81,
    "start_time": "2021-09-11T16:05:59.686Z"
   },
   {
    "duration": 4,
    "start_time": "2021-09-11T16:07:57.848Z"
   },
   {
    "duration": 3,
    "start_time": "2021-09-11T16:07:59.330Z"
   },
   {
    "duration": 371,
    "start_time": "2021-09-11T16:08:00.300Z"
   },
   {
    "duration": 203,
    "start_time": "2021-09-11T16:08:05.262Z"
   },
   {
    "duration": 161,
    "start_time": "2021-09-11T16:08:12.203Z"
   },
   {
    "duration": 148,
    "start_time": "2021-09-11T16:08:58.571Z"
   },
   {
    "duration": 156,
    "start_time": "2021-09-11T16:09:10.074Z"
   },
   {
    "duration": 3060,
    "start_time": "2021-09-11T16:09:15.688Z"
   },
   {
    "duration": 201,
    "start_time": "2021-09-11T16:10:58.062Z"
   },
   {
    "duration": 156,
    "start_time": "2021-09-11T16:11:02.352Z"
   },
   {
    "duration": 3005,
    "start_time": "2021-09-11T16:11:16.978Z"
   },
   {
    "duration": 3052,
    "start_time": "2021-09-11T16:11:46.610Z"
   },
   {
    "duration": 270,
    "start_time": "2021-09-11T16:29:26.503Z"
   },
   {
    "duration": 4,
    "start_time": "2021-09-11T16:30:22.597Z"
   },
   {
    "duration": 35,
    "start_time": "2021-09-11T16:30:24.831Z"
   },
   {
    "duration": 4,
    "start_time": "2021-09-11T16:30:43.937Z"
   },
   {
    "duration": 81,
    "start_time": "2021-09-11T16:32:15.176Z"
   },
   {
    "duration": 220,
    "start_time": "2021-09-11T16:33:43.546Z"
   },
   {
    "duration": 1437,
    "start_time": "2021-09-11T16:34:49.941Z"
   },
   {
    "duration": 66020,
    "start_time": "2021-09-11T16:52:12.888Z"
   },
   {
    "duration": 317,
    "start_time": "2021-09-11T16:53:55.682Z"
   },
   {
    "duration": 66558,
    "start_time": "2021-09-11T16:54:09.419Z"
   },
   {
    "duration": 255,
    "start_time": "2021-09-11T16:57:35.811Z"
   },
   {
    "duration": 67945,
    "start_time": "2021-09-11T17:00:16.355Z"
   },
   {
    "duration": 133748,
    "start_time": "2021-09-11T17:03:26.857Z"
   },
   {
    "duration": 292,
    "start_time": "2021-09-11T17:26:16.191Z"
   },
   {
    "duration": 288,
    "start_time": "2021-09-11T17:26:41.046Z"
   },
   {
    "duration": 21953,
    "start_time": "2021-09-11T17:27:05.086Z"
   },
   {
    "duration": -372,
    "start_time": "2021-09-11T17:27:27.415Z"
   },
   {
    "duration": 576,
    "start_time": "2021-09-11T17:28:30.534Z"
   },
   {
    "duration": 126614,
    "start_time": "2021-09-11T17:28:49.449Z"
   },
   {
    "duration": 322,
    "start_time": "2021-09-11T17:31:46.454Z"
   },
   {
    "duration": 296,
    "start_time": "2021-09-11T17:33:49.222Z"
   },
   {
    "duration": 67520,
    "start_time": "2021-09-11T17:34:52.990Z"
   },
   {
    "duration": 4023,
    "start_time": "2021-09-11T17:38:45.616Z"
   },
   {
    "duration": 514,
    "start_time": "2021-09-11T17:41:48.940Z"
   },
   {
    "duration": 7,
    "start_time": "2021-09-11T17:42:06.238Z"
   },
   {
    "duration": 263,
    "start_time": "2021-09-11T17:42:41.348Z"
   },
   {
    "duration": 66731,
    "start_time": "2021-09-11T17:43:01.104Z"
   },
   {
    "duration": 278,
    "start_time": "2021-09-11T17:45:05.668Z"
   },
   {
    "duration": 282,
    "start_time": "2021-09-11T17:45:14.424Z"
   },
   {
    "duration": 3486,
    "start_time": "2021-09-11T17:45:33.350Z"
   },
   {
    "duration": 3218,
    "start_time": "2021-09-11T17:47:20.572Z"
   },
   {
    "duration": 3032,
    "start_time": "2021-09-11T17:47:38.024Z"
   },
   {
    "duration": 117873,
    "start_time": "2021-09-11T17:50:34.111Z"
   },
   {
    "duration": 440,
    "start_time": "2021-09-11T17:52:55.101Z"
   },
   {
    "duration": 279872,
    "start_time": "2021-09-11T17:54:37.644Z"
   },
   {
    "duration": 6,
    "start_time": "2021-09-11T17:59:17.519Z"
   },
   {
    "duration": 475,
    "start_time": "2021-09-11T17:59:56.357Z"
   },
   {
    "duration": 463,
    "start_time": "2021-09-11T18:04:44.099Z"
   },
   {
    "duration": 6,
    "start_time": "2021-09-11T18:05:06.255Z"
   },
   {
    "duration": 436152,
    "start_time": "2021-09-11T18:05:15.491Z"
   },
   {
    "duration": 611,
    "start_time": "2021-09-11T18:15:57.309Z"
   },
   {
    "duration": 3,
    "start_time": "2021-09-12T16:31:22.602Z"
   },
   {
    "duration": 1270,
    "start_time": "2021-09-12T16:31:22.609Z"
   },
   {
    "duration": -114,
    "start_time": "2021-09-12T16:31:23.996Z"
   },
   {
    "duration": -121,
    "start_time": "2021-09-12T16:31:24.004Z"
   },
   {
    "duration": -334,
    "start_time": "2021-09-12T16:31:24.218Z"
   },
   {
    "duration": -351,
    "start_time": "2021-09-12T16:31:24.236Z"
   },
   {
    "duration": -357,
    "start_time": "2021-09-12T16:31:24.243Z"
   },
   {
    "duration": -363,
    "start_time": "2021-09-12T16:31:24.250Z"
   },
   {
    "duration": -368,
    "start_time": "2021-09-12T16:31:24.256Z"
   },
   {
    "duration": -375,
    "start_time": "2021-09-12T16:31:24.264Z"
   },
   {
    "duration": -380,
    "start_time": "2021-09-12T16:31:24.270Z"
   },
   {
    "duration": -386,
    "start_time": "2021-09-12T16:31:24.277Z"
   },
   {
    "duration": -395,
    "start_time": "2021-09-12T16:31:24.287Z"
   },
   {
    "duration": -405,
    "start_time": "2021-09-12T16:31:24.298Z"
   },
   {
    "duration": -412,
    "start_time": "2021-09-12T16:31:24.306Z"
   },
   {
    "duration": -447,
    "start_time": "2021-09-12T16:31:24.342Z"
   },
   {
    "duration": -475,
    "start_time": "2021-09-12T16:31:24.371Z"
   },
   {
    "duration": -512,
    "start_time": "2021-09-12T16:31:24.409Z"
   },
   {
    "duration": -548,
    "start_time": "2021-09-12T16:31:24.446Z"
   },
   {
    "duration": -578,
    "start_time": "2021-09-12T16:31:24.477Z"
   },
   {
    "duration": -598,
    "start_time": "2021-09-12T16:31:24.498Z"
   },
   {
    "duration": -634,
    "start_time": "2021-09-12T16:31:24.535Z"
   },
   {
    "duration": -642,
    "start_time": "2021-09-12T16:31:24.544Z"
   },
   {
    "duration": -651,
    "start_time": "2021-09-12T16:31:24.554Z"
   },
   {
    "duration": -659,
    "start_time": "2021-09-12T16:31:24.563Z"
   },
   {
    "duration": -667,
    "start_time": "2021-09-12T16:31:24.572Z"
   },
   {
    "duration": -672,
    "start_time": "2021-09-12T16:31:24.578Z"
   },
   {
    "duration": -824,
    "start_time": "2021-09-12T16:31:24.731Z"
   },
   {
    "duration": -856,
    "start_time": "2021-09-12T16:31:24.764Z"
   },
   {
    "duration": -889,
    "start_time": "2021-09-12T16:31:24.798Z"
   },
   {
    "duration": -907,
    "start_time": "2021-09-12T16:31:24.817Z"
   },
   {
    "duration": -940,
    "start_time": "2021-09-12T16:31:24.851Z"
   },
   {
    "duration": -947,
    "start_time": "2021-09-12T16:31:24.859Z"
   },
   {
    "duration": 8158,
    "start_time": "2021-09-12T16:31:38.640Z"
   },
   {
    "duration": 198,
    "start_time": "2021-09-12T16:31:46.800Z"
   },
   {
    "duration": 31,
    "start_time": "2021-09-12T16:31:46.970Z"
   },
   {
    "duration": -18,
    "start_time": "2021-09-12T16:31:47.020Z"
   },
   {
    "duration": -46,
    "start_time": "2021-09-12T16:31:47.049Z"
   },
   {
    "duration": -58,
    "start_time": "2021-09-12T16:31:47.063Z"
   },
   {
    "duration": -67,
    "start_time": "2021-09-12T16:31:47.073Z"
   },
   {
    "duration": -82,
    "start_time": "2021-09-12T16:31:47.090Z"
   },
   {
    "duration": -98,
    "start_time": "2021-09-12T16:31:47.107Z"
   },
   {
    "duration": -102,
    "start_time": "2021-09-12T16:31:47.112Z"
   },
   {
    "duration": -107,
    "start_time": "2021-09-12T16:31:47.119Z"
   },
   {
    "duration": -118,
    "start_time": "2021-09-12T16:31:47.131Z"
   },
   {
    "duration": -130,
    "start_time": "2021-09-12T16:31:47.145Z"
   },
   {
    "duration": -134,
    "start_time": "2021-09-12T16:31:47.150Z"
   },
   {
    "duration": -147,
    "start_time": "2021-09-12T16:31:47.164Z"
   },
   {
    "duration": -150,
    "start_time": "2021-09-12T16:31:47.169Z"
   },
   {
    "duration": -162,
    "start_time": "2021-09-12T16:31:47.182Z"
   },
   {
    "duration": -177,
    "start_time": "2021-09-12T16:31:47.199Z"
   },
   {
    "duration": -184,
    "start_time": "2021-09-12T16:31:47.207Z"
   },
   {
    "duration": -188,
    "start_time": "2021-09-12T16:31:47.212Z"
   },
   {
    "duration": -193,
    "start_time": "2021-09-12T16:31:47.219Z"
   },
   {
    "duration": -197,
    "start_time": "2021-09-12T16:31:47.224Z"
   },
   {
    "duration": -201,
    "start_time": "2021-09-12T16:31:47.230Z"
   },
   {
    "duration": -205,
    "start_time": "2021-09-12T16:31:47.235Z"
   },
   {
    "duration": -209,
    "start_time": "2021-09-12T16:31:47.240Z"
   },
   {
    "duration": -213,
    "start_time": "2021-09-12T16:31:47.246Z"
   },
   {
    "duration": -218,
    "start_time": "2021-09-12T16:31:47.252Z"
   },
   {
    "duration": -223,
    "start_time": "2021-09-12T16:31:47.258Z"
   },
   {
    "duration": -228,
    "start_time": "2021-09-12T16:31:47.265Z"
   },
   {
    "duration": -232,
    "start_time": "2021-09-12T16:31:47.270Z"
   },
   {
    "duration": -191,
    "start_time": "2021-09-12T16:31:47.276Z"
   },
   {
    "duration": -221,
    "start_time": "2021-09-12T16:31:47.308Z"
   },
   {
    "duration": -228,
    "start_time": "2021-09-12T16:31:47.316Z"
   },
   {
    "duration": 3,
    "start_time": "2021-09-12T16:32:16.373Z"
   },
   {
    "duration": 1385,
    "start_time": "2021-09-12T16:32:16.378Z"
   },
   {
    "duration": 45,
    "start_time": "2021-09-12T16:32:17.765Z"
   },
   {
    "duration": 6,
    "start_time": "2021-09-12T16:32:17.812Z"
   },
   {
    "duration": 22,
    "start_time": "2021-09-12T16:32:17.820Z"
   },
   {
    "duration": 102,
    "start_time": "2021-09-12T16:32:17.844Z"
   },
   {
    "duration": 9,
    "start_time": "2021-09-12T16:32:17.949Z"
   },
   {
    "duration": 27,
    "start_time": "2021-09-12T16:32:17.960Z"
   },
   {
    "duration": 26,
    "start_time": "2021-09-12T16:32:17.988Z"
   },
   {
    "duration": 5,
    "start_time": "2021-09-12T16:32:18.015Z"
   },
   {
    "duration": 430,
    "start_time": "2021-09-12T16:32:18.022Z"
   },
   {
    "duration": 5,
    "start_time": "2021-09-12T16:32:18.453Z"
   },
   {
    "duration": 7,
    "start_time": "2021-09-12T16:32:18.459Z"
   },
   {
    "duration": 19,
    "start_time": "2021-09-12T16:32:18.468Z"
   },
   {
    "duration": 6,
    "start_time": "2021-09-12T16:32:18.488Z"
   },
   {
    "duration": 441,
    "start_time": "2021-09-12T16:32:18.495Z"
   },
   {
    "duration": 602,
    "start_time": "2021-09-12T16:32:18.938Z"
   },
   {
    "duration": 391,
    "start_time": "2021-09-12T16:32:19.542Z"
   },
   {
    "duration": 216,
    "start_time": "2021-09-12T16:32:19.937Z"
   },
   {
    "duration": 198,
    "start_time": "2021-09-12T16:32:20.156Z"
   },
   {
    "duration": 8,
    "start_time": "2021-09-12T16:32:20.356Z"
   },
   {
    "duration": 181,
    "start_time": "2021-09-12T16:32:20.366Z"
   },
   {
    "duration": 3,
    "start_time": "2021-09-12T16:32:20.549Z"
   },
   {
    "duration": 133,
    "start_time": "2021-09-12T16:32:20.554Z"
   },
   {
    "duration": 149,
    "start_time": "2021-09-12T16:32:20.689Z"
   },
   {
    "duration": 988,
    "start_time": "2021-09-12T16:32:20.839Z"
   },
   {
    "duration": 298,
    "start_time": "2021-09-12T16:32:21.829Z"
   },
   {
    "duration": -201,
    "start_time": "2021-09-12T16:32:22.330Z"
   },
   {
    "duration": -208,
    "start_time": "2021-09-12T16:32:22.338Z"
   },
   {
    "duration": -216,
    "start_time": "2021-09-12T16:32:22.347Z"
   },
   {
    "duration": -224,
    "start_time": "2021-09-12T16:32:22.355Z"
   },
   {
    "duration": -230,
    "start_time": "2021-09-12T16:32:22.362Z"
   },
   {
    "duration": -236,
    "start_time": "2021-09-12T16:32:22.369Z"
   },
   {
    "duration": 193,
    "start_time": "2021-09-12T16:32:55.582Z"
   },
   {
    "duration": 305834,
    "start_time": "2021-09-12T16:33:06.097Z"
   },
   {
    "duration": 355,
    "start_time": "2021-09-12T16:38:20.510Z"
   },
   {
    "duration": 34487,
    "start_time": "2021-09-12T16:38:42.716Z"
   },
   {
    "duration": 100,
    "start_time": "2021-09-12T16:39:40.904Z"
   },
   {
    "duration": 120328,
    "start_time": "2021-09-12T16:40:28.485Z"
   },
   {
    "duration": 163,
    "start_time": "2021-09-12T16:42:33.126Z"
   },
   {
    "duration": 54,
    "start_time": "2021-09-12T16:43:41.138Z"
   },
   {
    "duration": 162,
    "start_time": "2021-09-12T16:43:49.945Z"
   },
   {
    "duration": 197691,
    "start_time": "2021-09-12T16:44:00.187Z"
   },
   {
    "duration": 234,
    "start_time": "2021-09-12T16:47:23.453Z"
   },
   {
    "duration": 220,
    "start_time": "2021-09-12T16:49:21.404Z"
   },
   {
    "duration": 315675,
    "start_time": "2021-09-12T16:50:02.928Z"
   },
   {
    "duration": 223,
    "start_time": "2021-09-12T16:56:05.793Z"
   },
   {
    "duration": 287991,
    "start_time": "2021-09-12T16:56:20.654Z"
   },
   {
    "duration": 278,
    "start_time": "2021-09-12T17:01:22.777Z"
   },
   {
    "duration": 337522,
    "start_time": "2021-09-12T17:02:12.487Z"
   },
   {
    "duration": 288,
    "start_time": "2021-09-12T17:07:54.810Z"
   },
   {
    "duration": 93405,
    "start_time": "2021-09-12T17:08:47.589Z"
   },
   {
    "duration": 465,
    "start_time": "2021-09-12T17:10:25.662Z"
   },
   {
    "duration": 68530,
    "start_time": "2021-09-12T17:12:53.000Z"
   },
   {
    "duration": 571,
    "start_time": "2021-09-12T17:14:08.813Z"
   },
   {
    "duration": 92948,
    "start_time": "2021-09-12T17:14:35.204Z"
   },
   {
    "duration": 759,
    "start_time": "2021-09-12T17:16:12.842Z"
   },
   {
    "duration": 1392444,
    "start_time": "2021-09-12T17:16:55.003Z"
   },
   {
    "duration": 812,
    "start_time": "2021-09-12T17:40:17.216Z"
   },
   {
    "duration": 475,
    "start_time": "2021-09-12T17:41:37.513Z"
   },
   {
    "duration": 485,
    "start_time": "2021-09-12T17:41:47.435Z"
   },
   {
    "duration": 482,
    "start_time": "2021-09-12T17:42:13.703Z"
   },
   {
    "duration": 507,
    "start_time": "2021-09-12T17:42:20.067Z"
   },
   {
    "duration": 504,
    "start_time": "2021-09-12T17:42:26.892Z"
   },
   {
    "duration": 470,
    "start_time": "2021-09-12T17:42:34.232Z"
   },
   {
    "duration": 446,
    "start_time": "2021-09-12T17:42:40.891Z"
   },
   {
    "duration": 467,
    "start_time": "2021-09-12T17:42:47.135Z"
   },
   {
    "duration": 484,
    "start_time": "2021-09-12T17:42:54.428Z"
   },
   {
    "duration": 510,
    "start_time": "2021-09-12T17:42:59.026Z"
   },
   {
    "duration": 521,
    "start_time": "2021-09-12T17:43:10.442Z"
   },
   {
    "duration": 561,
    "start_time": "2021-09-12T17:43:16.885Z"
   },
   {
    "duration": 589,
    "start_time": "2021-09-12T17:43:21.848Z"
   },
   {
    "duration": 536,
    "start_time": "2021-09-12T17:43:30.429Z"
   },
   {
    "duration": 581,
    "start_time": "2021-09-12T17:43:35.828Z"
   },
   {
    "duration": 611,
    "start_time": "2021-09-12T17:43:40.959Z"
   },
   {
    "duration": 568,
    "start_time": "2021-09-12T17:46:04.871Z"
   },
   {
    "duration": 608,
    "start_time": "2021-09-12T17:46:09.539Z"
   },
   {
    "duration": 602,
    "start_time": "2021-09-12T17:46:14.947Z"
   },
   {
    "duration": 652,
    "start_time": "2021-09-12T17:46:34.809Z"
   },
   {
    "duration": 762512,
    "start_time": "2021-09-12T17:53:32.044Z"
   },
   {
    "duration": 641,
    "start_time": "2021-09-12T18:06:29.271Z"
   },
   {
    "duration": 3,
    "start_time": "2021-09-12T18:09:07.604Z"
   },
   {
    "duration": 1506,
    "start_time": "2021-09-12T18:09:07.609Z"
   },
   {
    "duration": 45,
    "start_time": "2021-09-12T18:09:09.116Z"
   },
   {
    "duration": 6,
    "start_time": "2021-09-12T18:09:09.162Z"
   },
   {
    "duration": 34,
    "start_time": "2021-09-12T18:09:09.169Z"
   },
   {
    "duration": 95,
    "start_time": "2021-09-12T18:09:09.205Z"
   },
   {
    "duration": 10,
    "start_time": "2021-09-12T18:09:09.301Z"
   },
   {
    "duration": 13,
    "start_time": "2021-09-12T18:09:09.313Z"
   },
   {
    "duration": 23,
    "start_time": "2021-09-12T18:09:09.328Z"
   },
   {
    "duration": 10,
    "start_time": "2021-09-12T18:09:09.353Z"
   },
   {
    "duration": 355,
    "start_time": "2021-09-12T18:09:09.385Z"
   },
   {
    "duration": 5,
    "start_time": "2021-09-12T18:09:09.741Z"
   },
   {
    "duration": 9,
    "start_time": "2021-09-12T18:09:09.747Z"
   },
   {
    "duration": 8,
    "start_time": "2021-09-12T18:09:09.757Z"
   },
   {
    "duration": 19,
    "start_time": "2021-09-12T18:09:09.767Z"
   },
   {
    "duration": 449,
    "start_time": "2021-09-12T18:09:09.787Z"
   },
   {
    "duration": 604,
    "start_time": "2021-09-12T18:09:10.238Z"
   },
   {
    "duration": 388,
    "start_time": "2021-09-12T18:09:10.844Z"
   },
   {
    "duration": 219,
    "start_time": "2021-09-12T18:09:11.234Z"
   },
   {
    "duration": 192,
    "start_time": "2021-09-12T18:09:11.455Z"
   },
   {
    "duration": 7,
    "start_time": "2021-09-12T18:09:11.649Z"
   },
   {
    "duration": 182,
    "start_time": "2021-09-12T18:09:11.658Z"
   },
   {
    "duration": 3,
    "start_time": "2021-09-12T18:09:11.843Z"
   },
   {
    "duration": 139,
    "start_time": "2021-09-12T18:09:11.847Z"
   },
   {
    "duration": 144,
    "start_time": "2021-09-12T18:09:11.989Z"
   },
   {
    "duration": 950,
    "start_time": "2021-09-12T18:09:12.135Z"
   },
   {
    "duration": 759648,
    "start_time": "2021-09-12T18:09:13.087Z"
   },
   {
    "duration": 643,
    "start_time": "2021-09-12T18:21:52.737Z"
   },
   {
    "duration": 661,
    "start_time": "2021-09-12T18:26:32.240Z"
   },
   {
    "duration": 9,
    "start_time": "2021-09-12T18:32:20.722Z"
   },
   {
    "duration": 51,
    "start_time": "2021-09-12T18:32:22.022Z"
   },
   {
    "duration": 264,
    "start_time": "2021-09-12T18:32:25.046Z"
   },
   {
    "duration": 9,
    "start_time": "2021-09-12T18:32:58.813Z"
   },
   {
    "duration": 239,
    "start_time": "2021-09-12T18:33:18.695Z"
   },
   {
    "duration": 844,
    "start_time": "2021-09-12T18:33:37.244Z"
   },
   {
    "duration": 10,
    "start_time": "2021-09-12T18:34:01.760Z"
   },
   {
    "duration": 901,
    "start_time": "2021-09-12T18:34:03.285Z"
   },
   {
    "duration": 7,
    "start_time": "2021-09-12T18:36:00.924Z"
   },
   {
    "duration": 464,
    "start_time": "2021-09-12T18:38:43.170Z"
   },
   {
    "duration": 3,
    "start_time": "2021-09-12T18:40:24.514Z"
   },
   {
    "duration": 8,
    "start_time": "2021-09-12T18:40:24.519Z"
   },
   {
    "duration": 46,
    "start_time": "2021-09-12T18:40:24.529Z"
   },
   {
    "duration": 6,
    "start_time": "2021-09-12T18:40:24.577Z"
   },
   {
    "duration": 24,
    "start_time": "2021-09-12T18:40:24.584Z"
   },
   {
    "duration": 112,
    "start_time": "2021-09-12T18:40:24.610Z"
   },
   {
    "duration": 9,
    "start_time": "2021-09-12T18:40:24.724Z"
   },
   {
    "duration": 12,
    "start_time": "2021-09-12T18:40:24.735Z"
   },
   {
    "duration": 46,
    "start_time": "2021-09-12T18:40:24.749Z"
   },
   {
    "duration": 6,
    "start_time": "2021-09-12T18:40:24.796Z"
   },
   {
    "duration": 337,
    "start_time": "2021-09-12T18:40:24.804Z"
   },
   {
    "duration": 495,
    "start_time": "2021-09-12T18:40:25.142Z"
   },
   {
    "duration": 4,
    "start_time": "2021-09-12T18:40:25.639Z"
   },
   {
    "duration": 14,
    "start_time": "2021-09-12T18:40:25.645Z"
   },
   {
    "duration": 17,
    "start_time": "2021-09-12T18:40:25.661Z"
   },
   {
    "duration": 10,
    "start_time": "2021-09-12T18:40:25.680Z"
   },
   {
    "duration": 446,
    "start_time": "2021-09-12T18:40:25.692Z"
   },
   {
    "duration": 585,
    "start_time": "2021-09-12T18:40:26.140Z"
   },
   {
    "duration": 411,
    "start_time": "2021-09-12T18:40:26.727Z"
   },
   {
    "duration": 210,
    "start_time": "2021-09-12T18:40:27.139Z"
   },
   {
    "duration": 190,
    "start_time": "2021-09-12T18:40:27.350Z"
   },
   {
    "duration": 6,
    "start_time": "2021-09-12T18:40:27.542Z"
   },
   {
    "duration": 168,
    "start_time": "2021-09-12T18:40:27.549Z"
   },
   {
    "duration": 3,
    "start_time": "2021-09-12T18:40:27.718Z"
   },
   {
    "duration": 164,
    "start_time": "2021-09-12T18:40:27.722Z"
   },
   {
    "duration": 145,
    "start_time": "2021-09-12T18:40:27.888Z"
   },
   {
    "duration": 931,
    "start_time": "2021-09-12T18:40:28.035Z"
   },
   {
    "duration": 645,
    "start_time": "2021-09-12T18:40:28.968Z"
   },
   {
    "duration": 9,
    "start_time": "2021-09-12T18:40:29.614Z"
   },
   {
    "duration": 867,
    "start_time": "2021-09-12T18:40:29.625Z"
   },
   {
    "duration": 439,
    "start_time": "2021-09-12T18:40:30.495Z"
   },
   {
    "duration": 5,
    "start_time": "2021-09-12T18:40:30.936Z"
   },
   {
    "duration": 870,
    "start_time": "2021-09-12T18:55:39.353Z"
   },
   {
    "duration": 257,
    "start_time": "2021-09-12T18:55:41.949Z"
   },
   {
    "duration": 6,
    "start_time": "2021-09-12T18:55:45.276Z"
   },
   {
    "duration": 854,
    "start_time": "2021-09-12T18:57:11.441Z"
   },
   {
    "duration": 335,
    "start_time": "2021-09-12T18:57:14.093Z"
   },
   {
    "duration": 6,
    "start_time": "2021-09-12T18:57:17.333Z"
   },
   {
    "duration": 290,
    "start_time": "2021-09-12T19:01:11.673Z"
   },
   {
    "duration": 10,
    "start_time": "2021-09-12T19:01:27.993Z"
   },
   {
    "duration": 864,
    "start_time": "2021-09-12T19:01:29.630Z"
   },
   {
    "duration": 178,
    "start_time": "2021-09-12T19:01:32.214Z"
   },
   {
    "duration": 215,
    "start_time": "2021-09-12T19:02:54.911Z"
   },
   {
    "duration": 756482,
    "start_time": "2021-09-12T19:02:58.886Z"
   },
   {
    "duration": 291,
    "start_time": "2021-09-12T19:20:07.414Z"
   },
   {
    "duration": 1069,
    "start_time": "2021-09-12T19:22:40.981Z"
   },
   {
    "duration": 866,
    "start_time": "2021-09-12T19:23:00.501Z"
   },
   {
    "duration": 1788,
    "start_time": "2021-09-13T16:08:35.190Z"
   },
   {
    "duration": 12291,
    "start_time": "2021-09-13T16:08:52.811Z"
   },
   {
    "duration": 5,
    "start_time": "2021-09-13T16:18:36.223Z"
   },
   {
    "duration": 1965,
    "start_time": "2021-09-13T16:18:36.230Z"
   },
   {
    "duration": 56,
    "start_time": "2021-09-13T16:18:38.197Z"
   },
   {
    "duration": 9,
    "start_time": "2021-09-13T16:18:38.256Z"
   },
   {
    "duration": 47,
    "start_time": "2021-09-13T16:18:38.267Z"
   },
   {
    "duration": 107,
    "start_time": "2021-09-13T16:18:38.316Z"
   },
   {
    "duration": 13,
    "start_time": "2021-09-13T16:18:38.426Z"
   },
   {
    "duration": 18,
    "start_time": "2021-09-13T16:18:38.442Z"
   },
   {
    "duration": 59,
    "start_time": "2021-09-13T16:18:38.482Z"
   },
   {
    "duration": 7,
    "start_time": "2021-09-13T16:18:38.544Z"
   },
   {
    "duration": 460,
    "start_time": "2021-09-13T16:18:38.553Z"
   },
   {
    "duration": 7,
    "start_time": "2021-09-13T16:18:39.015Z"
   },
   {
    "duration": 11,
    "start_time": "2021-09-13T16:18:39.025Z"
   },
   {
    "duration": 9,
    "start_time": "2021-09-13T16:18:39.039Z"
   },
   {
    "duration": 39,
    "start_time": "2021-09-13T16:18:39.050Z"
   },
   {
    "duration": 712,
    "start_time": "2021-09-13T16:18:39.092Z"
   },
   {
    "duration": 1005,
    "start_time": "2021-09-13T16:18:39.807Z"
   },
   {
    "duration": 490,
    "start_time": "2021-09-13T16:18:40.815Z"
   },
   {
    "duration": 286,
    "start_time": "2021-09-13T16:18:41.310Z"
   },
   {
    "duration": 263,
    "start_time": "2021-09-13T16:18:41.599Z"
   },
   {
    "duration": 18,
    "start_time": "2021-09-13T16:18:41.864Z"
   },
   {
    "duration": 289,
    "start_time": "2021-09-13T16:18:41.884Z"
   },
   {
    "duration": 8,
    "start_time": "2021-09-13T16:18:42.175Z"
   },
   {
    "duration": 200,
    "start_time": "2021-09-13T16:18:42.185Z"
   },
   {
    "duration": 163,
    "start_time": "2021-09-13T16:18:42.388Z"
   },
   {
    "duration": 1395,
    "start_time": "2021-09-13T16:18:42.553Z"
   },
   {
    "duration": 1155041,
    "start_time": "2021-09-13T16:18:43.951Z"
   },
   {
    "duration": 1063,
    "start_time": "2021-09-13T16:37:58.994Z"
   },
   {
    "duration": 24,
    "start_time": "2021-09-13T16:38:00.059Z"
   },
   {
    "duration": 1253,
    "start_time": "2021-09-13T16:38:00.086Z"
   },
   {
    "duration": 388,
    "start_time": "2021-09-13T16:38:01.341Z"
   },
   {
    "duration": 1177256,
    "start_time": "2021-09-13T16:38:01.732Z"
   },
   {
    "duration": 459,
    "start_time": "2021-09-13T16:57:38.990Z"
   },
   {
    "duration": 4,
    "start_time": "2021-09-13T16:57:39.451Z"
   },
   {
    "duration": 30,
    "start_time": "2021-09-13T16:57:39.458Z"
   },
   {
    "duration": 630,
    "start_time": "2021-09-13T16:57:39.491Z"
   },
   {
    "duration": 5,
    "start_time": "2021-09-13T16:58:28.074Z"
   },
   {
    "duration": 5,
    "start_time": "2021-09-13T16:59:39.824Z"
   },
   {
    "duration": 4,
    "start_time": "2021-09-13T17:00:38.434Z"
   },
   {
    "duration": 11,
    "start_time": "2021-09-13T17:00:44.474Z"
   },
   {
    "duration": 433,
    "start_time": "2021-09-13T17:00:47.055Z"
   },
   {
    "duration": 486,
    "start_time": "2021-09-13T17:00:59.592Z"
   },
   {
    "duration": 4,
    "start_time": "2021-09-13T17:02:32.439Z"
   },
   {
    "duration": 257,
    "start_time": "2021-09-13T17:02:36.350Z"
   },
   {
    "duration": 4,
    "start_time": "2021-09-13T17:03:35.112Z"
   },
   {
    "duration": 14,
    "start_time": "2021-09-13T17:03:37.559Z"
   },
   {
    "duration": 456,
    "start_time": "2021-09-13T17:03:48.880Z"
   },
   {
    "duration": 862,
    "start_time": "2021-09-13T17:18:00.650Z"
   },
   {
    "duration": 9638,
    "start_time": "2021-09-13T17:18:09.565Z"
   },
   {
    "duration": 503,
    "start_time": "2021-09-13T17:18:58.406Z"
   },
   {
    "duration": 335,
    "start_time": "2021-11-07T17:05:37.154Z"
   },
   {
    "duration": 4,
    "start_time": "2021-11-07T17:15:08.933Z"
   },
   {
    "duration": 1789,
    "start_time": "2021-11-07T17:15:08.940Z"
   },
   {
    "duration": 410,
    "start_time": "2021-11-07T17:15:10.324Z"
   },
   {
    "duration": 368,
    "start_time": "2021-11-07T17:15:10.367Z"
   },
   {
    "duration": 360,
    "start_time": "2021-11-07T17:15:10.377Z"
   },
   {
    "duration": 352,
    "start_time": "2021-11-07T17:15:10.387Z"
   },
   {
    "duration": 346,
    "start_time": "2021-11-07T17:15:10.395Z"
   },
   {
    "duration": 337,
    "start_time": "2021-11-07T17:15:10.406Z"
   },
   {
    "duration": 328,
    "start_time": "2021-11-07T17:15:10.418Z"
   },
   {
    "duration": 324,
    "start_time": "2021-11-07T17:15:10.424Z"
   },
   {
    "duration": 318,
    "start_time": "2021-11-07T17:15:10.432Z"
   },
   {
    "duration": 316,
    "start_time": "2021-11-07T17:15:10.436Z"
   },
   {
    "duration": 283,
    "start_time": "2021-11-07T17:15:10.471Z"
   },
   {
    "duration": 280,
    "start_time": "2021-11-07T17:15:10.478Z"
   },
   {
    "duration": 273,
    "start_time": "2021-11-07T17:15:10.487Z"
   },
   {
    "duration": 268,
    "start_time": "2021-11-07T17:15:10.494Z"
   },
   {
    "duration": 262,
    "start_time": "2021-11-07T17:15:10.502Z"
   },
   {
    "duration": 257,
    "start_time": "2021-11-07T17:15:10.509Z"
   },
   {
    "duration": 251,
    "start_time": "2021-11-07T17:15:10.517Z"
   },
   {
    "duration": 247,
    "start_time": "2021-11-07T17:15:10.523Z"
   },
   {
    "duration": 244,
    "start_time": "2021-11-07T17:15:10.528Z"
   },
   {
    "duration": 290,
    "start_time": "2021-11-07T17:15:10.533Z"
   },
   {
    "duration": 278,
    "start_time": "2021-11-07T17:15:10.548Z"
   },
   {
    "duration": 275,
    "start_time": "2021-11-07T17:15:10.553Z"
   },
   {
    "duration": 271,
    "start_time": "2021-11-07T17:15:10.559Z"
   },
   {
    "duration": 202,
    "start_time": "2021-11-07T17:15:10.631Z"
   },
   {
    "duration": 197,
    "start_time": "2021-11-07T17:15:10.638Z"
   },
   {
    "duration": 186,
    "start_time": "2021-11-07T17:15:10.651Z"
   },
   {
    "duration": 184,
    "start_time": "2021-11-07T17:15:10.657Z"
   },
   {
    "duration": 180,
    "start_time": "2021-11-07T17:15:10.663Z"
   },
   {
    "duration": 177,
    "start_time": "2021-11-07T17:15:10.668Z"
   },
   {
    "duration": 176,
    "start_time": "2021-11-07T17:15:10.672Z"
   },
   {
    "duration": 169,
    "start_time": "2021-11-07T17:15:10.681Z"
   },
   {
    "duration": 166,
    "start_time": "2021-11-07T17:15:10.686Z"
   },
   {
    "duration": 163,
    "start_time": "2021-11-07T17:15:10.692Z"
   },
   {
    "duration": 160,
    "start_time": "2021-11-07T17:15:10.697Z"
   },
   {
    "duration": 157,
    "start_time": "2021-11-07T17:15:10.702Z"
   },
   {
    "duration": 210,
    "start_time": "2021-11-07T17:15:10.712Z"
   },
   {
    "duration": 9905,
    "start_time": "2021-11-07T17:18:31.311Z"
   },
   {
    "duration": 292,
    "start_time": "2021-11-07T17:18:41.219Z"
   },
   {
    "duration": 405,
    "start_time": "2021-11-07T17:18:41.110Z"
   },
   {
    "duration": 373,
    "start_time": "2021-11-07T17:18:41.143Z"
   },
   {
    "duration": 370,
    "start_time": "2021-11-07T17:18:41.148Z"
   },
   {
    "duration": 367,
    "start_time": "2021-11-07T17:18:41.152Z"
   },
   {
    "duration": 361,
    "start_time": "2021-11-07T17:18:41.160Z"
   },
   {
    "duration": 313,
    "start_time": "2021-11-07T17:18:41.209Z"
   },
   {
    "duration": 286,
    "start_time": "2021-11-07T17:18:41.237Z"
   },
   {
    "duration": 281,
    "start_time": "2021-11-07T17:18:41.244Z"
   },
   {
    "duration": 276,
    "start_time": "2021-11-07T17:18:41.250Z"
   },
   {
    "duration": 269,
    "start_time": "2021-11-07T17:18:41.258Z"
   },
   {
    "duration": 264,
    "start_time": "2021-11-07T17:18:41.264Z"
   },
   {
    "duration": 228,
    "start_time": "2021-11-07T17:18:41.302Z"
   },
   {
    "duration": 223,
    "start_time": "2021-11-07T17:18:41.308Z"
   },
   {
    "duration": 219,
    "start_time": "2021-11-07T17:18:41.313Z"
   },
   {
    "duration": 217,
    "start_time": "2021-11-07T17:18:41.317Z"
   },
   {
    "duration": 212,
    "start_time": "2021-11-07T17:18:41.323Z"
   },
   {
    "duration": 209,
    "start_time": "2021-11-07T17:18:41.327Z"
   },
   {
    "duration": 203,
    "start_time": "2021-11-07T17:18:41.334Z"
   },
   {
    "duration": 131,
    "start_time": "2021-11-07T17:18:41.407Z"
   },
   {
    "duration": 126,
    "start_time": "2021-11-07T17:18:41.414Z"
   },
   {
    "duration": 122,
    "start_time": "2021-11-07T17:18:41.419Z"
   },
   {
    "duration": 116,
    "start_time": "2021-11-07T17:18:41.426Z"
   },
   {
    "duration": 108,
    "start_time": "2021-11-07T17:18:41.435Z"
   },
   {
    "duration": 101,
    "start_time": "2021-11-07T17:18:41.443Z"
   },
   {
    "duration": 96,
    "start_time": "2021-11-07T17:18:41.450Z"
   },
   {
    "duration": 49,
    "start_time": "2021-11-07T17:18:41.498Z"
   },
   {
    "duration": 8,
    "start_time": "2021-11-07T17:18:41.540Z"
   },
   {
    "duration": 0,
    "start_time": "2021-11-07T17:18:41.549Z"
   },
   {
    "duration": -4,
    "start_time": "2021-11-07T17:18:41.555Z"
   },
   {
    "duration": -9,
    "start_time": "2021-11-07T17:18:41.561Z"
   },
   {
    "duration": -14,
    "start_time": "2021-11-07T17:18:41.567Z"
   },
   {
    "duration": -18,
    "start_time": "2021-11-07T17:18:41.573Z"
   },
   {
    "duration": -23,
    "start_time": "2021-11-07T17:18:41.579Z"
   },
   {
    "duration": -27,
    "start_time": "2021-11-07T17:18:41.585Z"
   },
   {
    "duration": -31,
    "start_time": "2021-11-07T17:18:41.591Z"
   },
   {
    "duration": -36,
    "start_time": "2021-11-07T17:18:41.597Z"
   },
   {
    "duration": 5,
    "start_time": "2021-11-07T17:18:58.014Z"
   },
   {
    "duration": 1615,
    "start_time": "2021-11-07T17:18:58.023Z"
   },
   {
    "duration": 64,
    "start_time": "2021-11-07T17:18:59.640Z"
   },
   {
    "duration": 16,
    "start_time": "2021-11-07T17:18:59.707Z"
   },
   {
    "duration": 37,
    "start_time": "2021-11-07T17:18:59.726Z"
   },
   {
    "duration": 93,
    "start_time": "2021-11-07T17:18:59.765Z"
   },
   {
    "duration": 16,
    "start_time": "2021-11-07T17:18:59.860Z"
   },
   {
    "duration": 21,
    "start_time": "2021-11-07T17:18:59.878Z"
   },
   {
    "duration": 43,
    "start_time": "2021-11-07T17:18:59.925Z"
   },
   {
    "duration": 8,
    "start_time": "2021-11-07T17:18:59.971Z"
   },
   {
    "duration": 510,
    "start_time": "2021-11-07T17:18:59.982Z"
   },
   {
    "duration": 8,
    "start_time": "2021-11-07T17:19:00.495Z"
   },
   {
    "duration": 10,
    "start_time": "2021-11-07T17:19:00.524Z"
   },
   {
    "duration": 16,
    "start_time": "2021-11-07T17:19:00.536Z"
   },
   {
    "duration": 17,
    "start_time": "2021-11-07T17:19:00.555Z"
   },
   {
    "duration": 784,
    "start_time": "2021-11-07T17:19:00.575Z"
   },
   {
    "duration": 1005,
    "start_time": "2021-11-07T17:19:01.362Z"
   },
   {
    "duration": 596,
    "start_time": "2021-11-07T17:19:02.369Z"
   },
   {
    "duration": 346,
    "start_time": "2021-11-07T17:19:02.968Z"
   },
   {
    "duration": 297,
    "start_time": "2021-11-07T17:19:03.316Z"
   },
   {
    "duration": 13,
    "start_time": "2021-11-07T17:19:03.623Z"
   },
   {
    "duration": 308,
    "start_time": "2021-11-07T17:19:03.639Z"
   },
   {
    "duration": 4,
    "start_time": "2021-11-07T17:19:03.950Z"
   },
   {
    "duration": 263,
    "start_time": "2021-11-07T17:19:03.961Z"
   },
   {
    "duration": 171,
    "start_time": "2021-11-07T17:19:04.228Z"
   },
   {
    "duration": 1537,
    "start_time": "2021-11-07T17:19:04.401Z"
   },
   {
    "duration": 1251045,
    "start_time": "2021-11-07T17:19:05.941Z"
   },
   {
    "duration": 884,
    "start_time": "2021-11-07T17:39:56.989Z"
   },
   {
    "duration": 14,
    "start_time": "2021-11-07T17:39:57.875Z"
   },
   {
    "duration": 1367,
    "start_time": "2021-11-07T17:39:57.892Z"
   },
   {
    "duration": 364,
    "start_time": "2021-11-07T17:39:59.262Z"
   },
   {
    "duration": 322,
    "start_time": "2021-11-07T17:47:45.466Z"
   },
   {
    "duration": 281,
    "start_time": "2021-11-07T17:47:45.508Z"
   },
   {
    "duration": 278,
    "start_time": "2021-11-07T17:47:45.513Z"
   },
   {
    "duration": 271,
    "start_time": "2021-11-07T17:47:45.521Z"
   },
   {
    "duration": 215,
    "start_time": "2021-11-07T17:47:45.578Z"
   },
   {
    "duration": 205,
    "start_time": "2021-11-07T17:47:45.590Z"
   },
   {
    "duration": 199,
    "start_time": "2021-11-07T17:47:45.597Z"
   },
   {
    "duration": 193,
    "start_time": "2021-11-07T17:47:45.604Z"
   },
   {
    "duration": 190,
    "start_time": "2021-11-07T17:47:45.609Z"
   },
   {
    "duration": 185,
    "start_time": "2021-11-07T17:47:45.615Z"
   },
   {
    "duration": 181,
    "start_time": "2021-11-07T17:47:45.620Z"
   },
   {
    "duration": 197,
    "start_time": "2021-11-07T17:47:45.626Z"
   },
   {
    "duration": 189,
    "start_time": "2021-11-07T17:47:45.635Z"
   },
   {
    "duration": 183,
    "start_time": "2021-11-07T17:47:45.643Z"
   },
   {
    "duration": 177,
    "start_time": "2021-11-07T17:47:45.651Z"
   },
   {
    "duration": 171,
    "start_time": "2021-11-07T17:47:45.659Z"
   },
   {
    "duration": 166,
    "start_time": "2021-11-07T17:47:45.665Z"
   },
   {
    "duration": 159,
    "start_time": "2021-11-07T17:47:45.673Z"
   },
   {
    "duration": 115,
    "start_time": "2021-11-07T17:47:45.719Z"
   },
   {
    "duration": 109,
    "start_time": "2021-11-07T17:47:45.726Z"
   },
   {
    "duration": 107,
    "start_time": "2021-11-07T17:47:45.730Z"
   },
   {
    "duration": 102,
    "start_time": "2021-11-07T17:47:45.736Z"
   },
   {
    "duration": 99,
    "start_time": "2021-11-07T17:47:45.741Z"
   },
   {
    "duration": 95,
    "start_time": "2021-11-07T17:47:45.746Z"
   },
   {
    "duration": 93,
    "start_time": "2021-11-07T17:47:45.750Z"
   },
   {
    "duration": 88,
    "start_time": "2021-11-07T17:47:45.756Z"
   },
   {
    "duration": 85,
    "start_time": "2021-11-07T17:47:45.760Z"
   },
   {
    "duration": 82,
    "start_time": "2021-11-07T17:47:45.765Z"
   },
   {
    "duration": 79,
    "start_time": "2021-11-07T17:47:45.769Z"
   },
   {
    "duration": 75,
    "start_time": "2021-11-07T17:47:45.775Z"
   },
   {
    "duration": 71,
    "start_time": "2021-11-07T17:47:45.780Z"
   },
   {
    "duration": 67,
    "start_time": "2021-11-07T17:47:45.785Z"
   },
   {
    "duration": 65,
    "start_time": "2021-11-07T17:47:45.789Z"
   },
   {
    "duration": 60,
    "start_time": "2021-11-07T17:47:45.795Z"
   },
   {
    "duration": 58,
    "start_time": "2021-11-07T17:47:45.799Z"
   },
   {
    "duration": 53,
    "start_time": "2021-11-07T17:47:45.805Z"
   },
   {
    "duration": 46,
    "start_time": "2021-11-07T17:47:45.813Z"
   },
   {
    "duration": -10,
    "start_time": "2021-11-07T17:47:45.870Z"
   },
   {
    "duration": 5,
    "start_time": "2021-11-07T17:47:52.088Z"
   },
   {
    "duration": 1567,
    "start_time": "2021-11-07T17:47:52.097Z"
   },
   {
    "duration": 68,
    "start_time": "2021-11-07T17:47:53.667Z"
   },
   {
    "duration": 10,
    "start_time": "2021-11-07T17:47:53.738Z"
   },
   {
    "duration": 41,
    "start_time": "2021-11-07T17:47:53.750Z"
   },
   {
    "duration": 64,
    "start_time": "2021-11-07T17:47:53.794Z"
   },
   {
    "duration": 18,
    "start_time": "2021-11-07T17:47:53.861Z"
   },
   {
    "duration": 59,
    "start_time": "2021-11-07T17:47:53.882Z"
   },
   {
    "duration": 46,
    "start_time": "2021-11-07T17:47:53.945Z"
   },
   {
    "duration": 35,
    "start_time": "2021-11-07T17:47:53.995Z"
   },
   {
    "duration": 643,
    "start_time": "2021-11-07T17:47:54.032Z"
   },
   {
    "duration": 7,
    "start_time": "2021-11-07T17:47:54.678Z"
   },
   {
    "duration": 8,
    "start_time": "2021-11-07T17:47:54.688Z"
   },
   {
    "duration": 11,
    "start_time": "2021-11-07T17:47:54.722Z"
   },
   {
    "duration": 9,
    "start_time": "2021-11-07T17:47:54.736Z"
   },
   {
    "duration": 763,
    "start_time": "2021-11-07T17:47:54.748Z"
   },
   {
    "duration": 869,
    "start_time": "2021-11-07T17:47:55.514Z"
   },
   {
    "duration": 534,
    "start_time": "2021-11-07T17:47:56.385Z"
   },
   {
    "duration": 320,
    "start_time": "2021-11-07T17:47:56.922Z"
   },
   {
    "duration": 289,
    "start_time": "2021-11-07T17:47:57.245Z"
   },
   {
    "duration": 11,
    "start_time": "2021-11-07T17:47:57.536Z"
   },
   {
    "duration": 288,
    "start_time": "2021-11-07T17:47:57.549Z"
   },
   {
    "duration": 4,
    "start_time": "2021-11-07T17:47:57.840Z"
   },
   {
    "duration": 280,
    "start_time": "2021-11-07T17:47:57.851Z"
   },
   {
    "duration": 161,
    "start_time": "2021-11-07T17:47:58.135Z"
   },
   {
    "duration": 1600,
    "start_time": "2021-11-07T17:47:58.323Z"
   },
   {
    "duration": 275390,
    "start_time": "2021-11-07T17:47:59.925Z"
   },
   {
    "duration": -1012,
    "start_time": "2021-11-07T17:52:36.330Z"
   },
   {
    "duration": -1029,
    "start_time": "2021-11-07T17:52:36.348Z"
   },
   {
    "duration": -1034,
    "start_time": "2021-11-07T17:52:36.355Z"
   },
   {
    "duration": -1040,
    "start_time": "2021-11-07T17:52:36.362Z"
   },
   {
    "duration": -1043,
    "start_time": "2021-11-07T17:52:36.367Z"
   },
   {
    "duration": -1049,
    "start_time": "2021-11-07T17:52:36.374Z"
   },
   {
    "duration": -1051,
    "start_time": "2021-11-07T17:52:36.378Z"
   },
   {
    "duration": -1057,
    "start_time": "2021-11-07T17:52:36.386Z"
   },
   {
    "duration": -1061,
    "start_time": "2021-11-07T17:52:36.391Z"
   },
   {
    "duration": -1064,
    "start_time": "2021-11-07T17:52:36.396Z"
   },
   {
    "duration": -1069,
    "start_time": "2021-11-07T17:52:36.402Z"
   },
   {
    "duration": 321,
    "start_time": "2021-11-07T17:52:36.602Z"
   },
   {
    "duration": 204,
    "start_time": "2021-11-07T17:53:02.022Z"
   },
   {
    "duration": 79,
    "start_time": "2021-11-07T17:53:21.119Z"
   },
   {
    "duration": 1484,
    "start_time": "2021-11-07T17:53:39.191Z"
   },
   {
    "duration": 3,
    "start_time": "2021-11-07T17:54:30.789Z"
   },
   {
    "duration": 15,
    "start_time": "2021-11-07T17:54:30.795Z"
   },
   {
    "duration": 69,
    "start_time": "2021-11-07T17:54:30.812Z"
   },
   {
    "duration": 11,
    "start_time": "2021-11-07T17:54:30.884Z"
   },
   {
    "duration": 56,
    "start_time": "2021-11-07T17:54:30.898Z"
   },
   {
    "duration": 156,
    "start_time": "2021-11-07T17:54:30.956Z"
   },
   {
    "duration": 17,
    "start_time": "2021-11-07T17:54:31.124Z"
   },
   {
    "duration": 21,
    "start_time": "2021-11-07T17:54:31.144Z"
   },
   {
    "duration": 78,
    "start_time": "2021-11-07T17:54:31.167Z"
   },
   {
    "duration": 8,
    "start_time": "2021-11-07T17:54:31.248Z"
   },
   {
    "duration": 515,
    "start_time": "2021-11-07T17:54:31.258Z"
   },
   {
    "duration": 7,
    "start_time": "2021-11-07T17:54:31.775Z"
   },
   {
    "duration": 13,
    "start_time": "2021-11-07T17:54:31.784Z"
   },
   {
    "duration": 29,
    "start_time": "2021-11-07T17:54:31.800Z"
   },
   {
    "duration": 17,
    "start_time": "2021-11-07T17:54:31.832Z"
   },
   {
    "duration": 711,
    "start_time": "2021-11-07T17:54:31.851Z"
   },
   {
    "duration": 1113,
    "start_time": "2021-11-07T17:54:32.565Z"
   },
   {
    "duration": 693,
    "start_time": "2021-11-07T17:54:33.681Z"
   },
   {
    "duration": 421,
    "start_time": "2021-11-07T17:54:34.382Z"
   },
   {
    "duration": 364,
    "start_time": "2021-11-07T17:54:34.807Z"
   },
   {
    "duration": 11,
    "start_time": "2021-11-07T17:54:35.174Z"
   },
   {
    "duration": 287,
    "start_time": "2021-11-07T17:54:35.187Z"
   },
   {
    "duration": 4,
    "start_time": "2021-11-07T17:54:35.476Z"
   },
   {
    "duration": 149,
    "start_time": "2021-11-07T17:54:35.482Z"
   },
   {
    "duration": 255,
    "start_time": "2021-11-07T17:54:35.634Z"
   },
   {
    "duration": 1659,
    "start_time": "2021-11-07T17:54:35.892Z"
   },
   {
    "duration": 16440,
    "start_time": "2021-11-07T17:54:37.554Z"
   },
   {
    "duration": 43,
    "start_time": "2021-11-07T17:54:53.954Z"
   },
   {
    "duration": 35,
    "start_time": "2021-11-07T17:54:53.963Z"
   },
   {
    "duration": 29,
    "start_time": "2021-11-07T17:54:53.970Z"
   },
   {
    "duration": 25,
    "start_time": "2021-11-07T17:54:53.977Z"
   },
   {
    "duration": 20,
    "start_time": "2021-11-07T17:54:53.983Z"
   },
   {
    "duration": 16,
    "start_time": "2021-11-07T17:54:53.989Z"
   },
   {
    "duration": 10,
    "start_time": "2021-11-07T17:54:53.996Z"
   },
   {
    "duration": 6,
    "start_time": "2021-11-07T17:54:54.002Z"
   },
   {
    "duration": 2,
    "start_time": "2021-11-07T17:54:54.007Z"
   },
   {
    "duration": -3,
    "start_time": "2021-11-07T17:54:54.014Z"
   },
   {
    "duration": -7,
    "start_time": "2021-11-07T17:54:54.019Z"
   },
   {
    "duration": 5,
    "start_time": "2021-11-07T17:54:58.945Z"
   },
   {
    "duration": 1613,
    "start_time": "2021-11-07T17:54:58.952Z"
   },
   {
    "duration": 69,
    "start_time": "2021-11-07T17:55:00.568Z"
   },
   {
    "duration": 11,
    "start_time": "2021-11-07T17:55:00.639Z"
   },
   {
    "duration": 47,
    "start_time": "2021-11-07T17:55:00.652Z"
   },
   {
    "duration": 40,
    "start_time": "2021-11-07T17:55:00.722Z"
   },
   {
    "duration": 21,
    "start_time": "2021-11-07T17:55:00.765Z"
   },
   {
    "duration": 51,
    "start_time": "2021-11-07T17:55:00.791Z"
   },
   {
    "duration": 44,
    "start_time": "2021-11-07T17:55:00.845Z"
   },
   {
    "duration": 36,
    "start_time": "2021-11-07T17:55:00.891Z"
   },
   {
    "duration": 567,
    "start_time": "2021-11-07T17:55:00.930Z"
   },
   {
    "duration": 8,
    "start_time": "2021-11-07T17:55:01.499Z"
   },
   {
    "duration": 9,
    "start_time": "2021-11-07T17:55:01.523Z"
   },
   {
    "duration": 19,
    "start_time": "2021-11-07T17:55:01.534Z"
   },
   {
    "duration": 28,
    "start_time": "2021-11-07T17:55:01.556Z"
   },
   {
    "duration": 818,
    "start_time": "2021-11-07T17:55:01.586Z"
   },
   {
    "duration": 858,
    "start_time": "2021-11-07T17:55:02.408Z"
   },
   {
    "duration": 516,
    "start_time": "2021-11-07T17:55:03.269Z"
   },
   {
    "duration": 346,
    "start_time": "2021-11-07T17:55:03.788Z"
   },
   {
    "duration": 304,
    "start_time": "2021-11-07T17:55:04.137Z"
   },
   {
    "duration": 10,
    "start_time": "2021-11-07T17:55:04.443Z"
   },
   {
    "duration": 311,
    "start_time": "2021-11-07T17:55:04.456Z"
   },
   {
    "duration": 4,
    "start_time": "2021-11-07T17:55:04.772Z"
   },
   {
    "duration": 251,
    "start_time": "2021-11-07T17:55:04.780Z"
   },
   {
    "duration": 256,
    "start_time": "2021-11-07T17:55:05.034Z"
   },
   {
    "duration": 1940,
    "start_time": "2021-11-07T17:55:05.293Z"
   },
   {
    "duration": 35401,
    "start_time": "2021-11-07T17:55:07.236Z"
   },
   {
    "duration": -210,
    "start_time": "2021-11-07T17:55:42.850Z"
   },
   {
    "duration": -217,
    "start_time": "2021-11-07T17:55:42.858Z"
   },
   {
    "duration": -254,
    "start_time": "2021-11-07T17:55:42.897Z"
   },
   {
    "duration": -259,
    "start_time": "2021-11-07T17:55:42.903Z"
   },
   {
    "duration": -266,
    "start_time": "2021-11-07T17:55:42.912Z"
   },
   {
    "duration": -270,
    "start_time": "2021-11-07T17:55:42.917Z"
   },
   {
    "duration": -274,
    "start_time": "2021-11-07T17:55:42.923Z"
   },
   {
    "duration": -278,
    "start_time": "2021-11-07T17:55:42.928Z"
   },
   {
    "duration": -282,
    "start_time": "2021-11-07T17:55:42.934Z"
   },
   {
    "duration": -287,
    "start_time": "2021-11-07T17:55:42.940Z"
   },
   {
    "duration": -293,
    "start_time": "2021-11-07T17:55:42.948Z"
   },
   {
    "duration": 57,
    "start_time": "2021-11-07T17:55:48.372Z"
   },
   {
    "duration": 4,
    "start_time": "2021-11-07T17:56:25.673Z"
   },
   {
    "duration": 1583,
    "start_time": "2021-11-07T17:56:25.680Z"
   },
   {
    "duration": 64,
    "start_time": "2021-11-07T17:56:27.266Z"
   },
   {
    "duration": 10,
    "start_time": "2021-11-07T17:56:27.332Z"
   },
   {
    "duration": 34,
    "start_time": "2021-11-07T17:56:27.344Z"
   },
   {
    "duration": 71,
    "start_time": "2021-11-07T17:56:27.381Z"
   },
   {
    "duration": 18,
    "start_time": "2021-11-07T17:56:27.457Z"
   },
   {
    "duration": 53,
    "start_time": "2021-11-07T17:56:27.479Z"
   },
   {
    "duration": 42,
    "start_time": "2021-11-07T17:56:27.534Z"
   },
   {
    "duration": 8,
    "start_time": "2021-11-07T17:56:27.578Z"
   },
   {
    "duration": 496,
    "start_time": "2021-11-07T17:56:27.589Z"
   },
   {
    "duration": 7,
    "start_time": "2021-11-07T17:56:28.087Z"
   },
   {
    "duration": 27,
    "start_time": "2021-11-07T17:56:28.096Z"
   },
   {
    "duration": 10,
    "start_time": "2021-11-07T17:56:28.125Z"
   },
   {
    "duration": 7,
    "start_time": "2021-11-07T17:56:28.137Z"
   },
   {
    "duration": 757,
    "start_time": "2021-11-07T17:56:28.147Z"
   },
   {
    "duration": 863,
    "start_time": "2021-11-07T17:56:28.906Z"
   },
   {
    "duration": 581,
    "start_time": "2021-11-07T17:56:29.771Z"
   },
   {
    "duration": 367,
    "start_time": "2021-11-07T17:56:30.356Z"
   },
   {
    "duration": 280,
    "start_time": "2021-11-07T17:56:30.733Z"
   },
   {
    "duration": 15,
    "start_time": "2021-11-07T17:56:31.015Z"
   },
   {
    "duration": 284,
    "start_time": "2021-11-07T17:56:31.032Z"
   },
   {
    "duration": 3,
    "start_time": "2021-11-07T17:56:31.323Z"
   },
   {
    "duration": 102,
    "start_time": "2021-11-07T17:56:31.329Z"
   },
   {
    "duration": 162,
    "start_time": "2021-11-07T17:56:31.525Z"
   },
   {
    "duration": 1484,
    "start_time": "2021-11-07T17:56:31.689Z"
   },
   {
    "duration": 619127,
    "start_time": "2021-11-07T17:56:33.176Z"
   },
   {
    "duration": 918,
    "start_time": "2021-11-07T18:06:52.305Z"
   },
   {
    "duration": 21,
    "start_time": "2021-11-07T18:06:53.226Z"
   },
   {
    "duration": 2142,
    "start_time": "2021-11-07T18:06:53.250Z"
   },
   {
    "duration": 337,
    "start_time": "2021-11-07T18:06:55.395Z"
   },
   {
    "duration": 753557,
    "start_time": "2021-11-07T18:06:55.735Z"
   },
   {
    "duration": 107,
    "start_time": "2021-11-07T18:19:29.187Z"
   },
   {
    "duration": 104,
    "start_time": "2021-11-07T18:19:29.192Z"
   },
   {
    "duration": 97,
    "start_time": "2021-11-07T18:19:29.200Z"
   },
   {
    "duration": 84,
    "start_time": "2021-11-07T18:19:29.214Z"
   },
   {
    "duration": 75,
    "start_time": "2021-11-07T18:19:29.224Z"
   },
   {
    "duration": 68,
    "start_time": "2021-11-07T18:19:29.233Z"
   },
   {
    "duration": 4,
    "start_time": "2021-11-07T18:19:34.650Z"
   },
   {
    "duration": 1649,
    "start_time": "2021-11-07T18:19:34.657Z"
   },
   {
    "duration": 65,
    "start_time": "2021-11-07T18:19:36.310Z"
   },
   {
    "duration": 11,
    "start_time": "2021-11-07T18:19:36.379Z"
   },
   {
    "duration": 58,
    "start_time": "2021-11-07T18:19:36.393Z"
   },
   {
    "duration": 37,
    "start_time": "2021-11-07T18:19:36.453Z"
   },
   {
    "duration": 39,
    "start_time": "2021-11-07T18:19:36.493Z"
   },
   {
    "duration": 21,
    "start_time": "2021-11-07T18:19:36.534Z"
   },
   {
    "duration": 67,
    "start_time": "2021-11-07T18:19:36.559Z"
   },
   {
    "duration": 8,
    "start_time": "2021-11-07T18:19:36.629Z"
   },
   {
    "duration": 642,
    "start_time": "2021-11-07T18:19:36.639Z"
   },
   {
    "duration": 8,
    "start_time": "2021-11-07T18:19:37.283Z"
   },
   {
    "duration": 31,
    "start_time": "2021-11-07T18:19:37.294Z"
   },
   {
    "duration": 12,
    "start_time": "2021-11-07T18:19:37.328Z"
   },
   {
    "duration": 8,
    "start_time": "2021-11-07T18:19:37.343Z"
   },
   {
    "duration": 779,
    "start_time": "2021-11-07T18:19:37.353Z"
   },
   {
    "duration": 943,
    "start_time": "2021-11-07T18:19:38.134Z"
   },
   {
    "duration": 600,
    "start_time": "2021-11-07T18:19:39.079Z"
   },
   {
    "duration": 359,
    "start_time": "2021-11-07T18:19:39.681Z"
   },
   {
    "duration": 292,
    "start_time": "2021-11-07T18:19:40.043Z"
   },
   {
    "duration": 10,
    "start_time": "2021-11-07T18:19:40.337Z"
   },
   {
    "duration": 278,
    "start_time": "2021-11-07T18:19:40.349Z"
   },
   {
    "duration": 4,
    "start_time": "2021-11-07T18:19:40.630Z"
   },
   {
    "duration": 186,
    "start_time": "2021-11-07T18:19:40.637Z"
   },
   {
    "duration": 193,
    "start_time": "2021-11-07T18:19:40.829Z"
   },
   {
    "duration": 2025,
    "start_time": "2021-11-07T18:19:41.031Z"
   },
   {
    "duration": 582922,
    "start_time": "2021-11-07T18:19:43.061Z"
   },
   {
    "duration": 935,
    "start_time": "2021-11-07T18:29:25.987Z"
   },
   {
    "duration": 13,
    "start_time": "2021-11-07T18:29:26.925Z"
   },
   {
    "duration": 1483,
    "start_time": "2021-11-07T18:29:26.940Z"
   },
   {
    "duration": 337,
    "start_time": "2021-11-07T18:29:28.426Z"
   },
   {
    "duration": 1300838,
    "start_time": "2021-11-07T18:29:28.765Z"
   },
   {
    "duration": 383,
    "start_time": "2021-11-07T18:51:09.606Z"
   },
   {
    "duration": 4,
    "start_time": "2021-11-07T18:51:09.992Z"
   },
   {
    "duration": 29,
    "start_time": "2021-11-07T18:51:09.999Z"
   },
   {
    "duration": 476,
    "start_time": "2021-11-07T18:51:10.031Z"
   },
   {
    "duration": 6335,
    "start_time": "2021-11-07T18:51:10.510Z"
   },
   {
    "duration": 519,
    "start_time": "2021-11-07T18:51:16.848Z"
   },
   {
    "duration": 91,
    "start_time": "2021-11-07T18:51:17.372Z"
   },
   {
    "duration": 1176,
    "start_time": "2021-11-07T18:52:13.330Z"
   },
   {
    "duration": 1222,
    "start_time": "2021-11-07T18:52:58.462Z"
   },
   {
    "duration": 1356,
    "start_time": "2021-11-07T18:53:04.081Z"
   },
   {
    "duration": 1416,
    "start_time": "2021-11-07T18:53:10.778Z"
   },
   {
    "duration": 1272,
    "start_time": "2021-11-07T18:53:15.778Z"
   },
   {
    "duration": 2123,
    "start_time": "2021-11-07T18:53:24.753Z"
   },
   {
    "duration": 1419,
    "start_time": "2021-11-07T18:53:32.521Z"
   },
   {
    "duration": 1200,
    "start_time": "2021-11-07T18:53:38.122Z"
   },
   {
    "duration": 1017,
    "start_time": "2021-11-07T18:53:43.328Z"
   },
   {
    "duration": 41106,
    "start_time": "2021-11-07T18:54:12.993Z"
   },
   {
    "duration": 874,
    "start_time": "2021-11-07T18:54:54.102Z"
   },
   {
    "duration": 641,
    "start_time": "2021-11-07T18:56:17.931Z"
   },
   {
    "duration": 604,
    "start_time": "2021-11-07T18:56:49.979Z"
   },
   {
    "duration": 823,
    "start_time": "2021-11-07T18:57:18.649Z"
   },
   {
    "duration": 857,
    "start_time": "2021-11-07T18:57:24.219Z"
   },
   {
    "duration": 815,
    "start_time": "2021-11-07T18:57:31.971Z"
   },
   {
    "duration": 701,
    "start_time": "2021-11-07T18:58:02.222Z"
   },
   {
    "duration": 10,
    "start_time": "2021-11-07T18:59:09.564Z"
   },
   {
    "duration": 12,
    "start_time": "2021-11-07T18:59:17.653Z"
   },
   {
    "duration": 9,
    "start_time": "2021-11-07T18:59:23.285Z"
   },
   {
    "duration": 4,
    "start_time": "2021-11-07T19:14:57.608Z"
   },
   {
    "duration": 1548,
    "start_time": "2021-11-07T19:14:57.615Z"
   },
   {
    "duration": 65,
    "start_time": "2021-11-07T19:14:59.166Z"
   },
   {
    "duration": 9,
    "start_time": "2021-11-07T19:14:59.234Z"
   },
   {
    "duration": 39,
    "start_time": "2021-11-07T19:14:59.246Z"
   },
   {
    "duration": 69,
    "start_time": "2021-11-07T19:14:59.288Z"
   },
   {
    "duration": 15,
    "start_time": "2021-11-07T19:14:59.359Z"
   },
   {
    "duration": 48,
    "start_time": "2021-11-07T19:14:59.376Z"
   },
   {
    "duration": 44,
    "start_time": "2021-11-07T19:14:59.428Z"
   },
   {
    "duration": 7,
    "start_time": "2021-11-07T19:14:59.476Z"
   },
   {
    "duration": 593,
    "start_time": "2021-11-07T19:14:59.486Z"
   },
   {
    "duration": 8,
    "start_time": "2021-11-07T19:15:00.083Z"
   },
   {
    "duration": 34,
    "start_time": "2021-11-07T19:15:00.094Z"
   },
   {
    "duration": 13,
    "start_time": "2021-11-07T19:15:00.131Z"
   },
   {
    "duration": 10,
    "start_time": "2021-11-07T19:15:00.147Z"
   },
   {
    "duration": 697,
    "start_time": "2021-11-07T19:15:00.160Z"
   },
   {
    "duration": 833,
    "start_time": "2021-11-07T19:15:00.861Z"
   },
   {
    "duration": 588,
    "start_time": "2021-11-07T19:15:01.698Z"
   },
   {
    "duration": 346,
    "start_time": "2021-11-07T19:15:02.289Z"
   },
   {
    "duration": 290,
    "start_time": "2021-11-07T19:15:02.638Z"
   },
   {
    "duration": 10,
    "start_time": "2021-11-07T19:15:02.931Z"
   },
   {
    "duration": 290,
    "start_time": "2021-11-07T19:15:02.944Z"
   },
   {
    "duration": 4,
    "start_time": "2021-11-07T19:15:03.237Z"
   },
   {
    "duration": 180,
    "start_time": "2021-11-07T19:15:03.243Z"
   },
   {
    "duration": 162,
    "start_time": "2021-11-07T19:15:03.427Z"
   },
   {
    "duration": 1452,
    "start_time": "2021-11-07T19:15:03.591Z"
   },
   {
    "duration": 39804,
    "start_time": "2021-11-07T19:15:05.049Z"
   },
   {
    "duration": 886,
    "start_time": "2021-11-07T19:15:44.856Z"
   },
   {
    "duration": 13,
    "start_time": "2021-11-07T19:15:45.744Z"
   },
   {
    "duration": 1339,
    "start_time": "2021-11-07T19:15:45.759Z"
   },
   {
    "duration": 330,
    "start_time": "2021-11-07T19:15:47.100Z"
   },
   {
    "duration": 1240027,
    "start_time": "2021-11-07T19:15:47.433Z"
   },
   {
    "duration": 388,
    "start_time": "2021-11-07T19:36:27.463Z"
   },
   {
    "duration": 5,
    "start_time": "2021-11-07T19:36:27.854Z"
   },
   {
    "duration": 23,
    "start_time": "2021-11-07T19:36:27.863Z"
   },
   {
    "duration": 600,
    "start_time": "2021-11-07T19:36:27.890Z"
   },
   {
    "duration": 6929,
    "start_time": "2021-11-07T19:36:28.493Z"
   },
   {
    "duration": 693,
    "start_time": "2021-11-07T19:36:35.425Z"
   },
   {
    "duration": 5,
    "start_time": "2021-11-07T19:37:50.155Z"
   },
   {
    "duration": 1500,
    "start_time": "2021-11-07T19:37:50.163Z"
   },
   {
    "duration": 64,
    "start_time": "2021-11-07T19:37:51.666Z"
   },
   {
    "duration": 9,
    "start_time": "2021-11-07T19:37:51.734Z"
   },
   {
    "duration": 46,
    "start_time": "2021-11-07T19:37:51.745Z"
   },
   {
    "duration": 56,
    "start_time": "2021-11-07T19:37:51.793Z"
   },
   {
    "duration": 13,
    "start_time": "2021-11-07T19:37:51.852Z"
   },
   {
    "duration": 18,
    "start_time": "2021-11-07T19:37:51.869Z"
   },
   {
    "duration": 69,
    "start_time": "2021-11-07T19:37:51.890Z"
   },
   {
    "duration": 8,
    "start_time": "2021-11-07T19:37:51.962Z"
   },
   {
    "duration": 523,
    "start_time": "2021-11-07T19:37:51.972Z"
   },
   {
    "duration": 7,
    "start_time": "2021-11-07T19:37:52.497Z"
   },
   {
    "duration": 23,
    "start_time": "2021-11-07T19:37:52.507Z"
   },
   {
    "duration": 9,
    "start_time": "2021-11-07T19:37:52.532Z"
   },
   {
    "duration": 7,
    "start_time": "2021-11-07T19:37:52.544Z"
   },
   {
    "duration": 683,
    "start_time": "2021-11-07T19:37:52.553Z"
   },
   {
    "duration": 829,
    "start_time": "2021-11-07T19:37:53.238Z"
   },
   {
    "duration": 583,
    "start_time": "2021-11-07T19:37:54.070Z"
   },
   {
    "duration": 280,
    "start_time": "2021-11-07T19:37:54.656Z"
   },
   {
    "duration": 283,
    "start_time": "2021-11-07T19:37:54.939Z"
   },
   {
    "duration": 10,
    "start_time": "2021-11-07T19:37:55.225Z"
   },
   {
    "duration": 266,
    "start_time": "2021-11-07T19:37:55.237Z"
   },
   {
    "duration": 3,
    "start_time": "2021-11-07T19:37:55.508Z"
   },
   {
    "duration": 118,
    "start_time": "2021-11-07T19:37:55.514Z"
   },
   {
    "duration": 220,
    "start_time": "2021-11-07T19:37:55.724Z"
   },
   {
    "duration": 1633,
    "start_time": "2021-11-07T19:37:55.947Z"
   },
   {
    "duration": 41438,
    "start_time": "2021-11-07T19:37:57.583Z"
   },
   {
    "duration": 901,
    "start_time": "2021-11-07T19:38:39.025Z"
   },
   {
    "duration": 13,
    "start_time": "2021-11-07T19:38:39.928Z"
   },
   {
    "duration": 1354,
    "start_time": "2021-11-07T19:38:39.944Z"
   },
   {
    "duration": 325,
    "start_time": "2021-11-07T19:38:41.300Z"
   },
   {
    "duration": 43057,
    "start_time": "2021-11-07T19:38:41.628Z"
   },
   {
    "duration": 484,
    "start_time": "2021-11-07T19:39:24.689Z"
   },
   {
    "duration": 5,
    "start_time": "2021-11-07T19:39:25.176Z"
   },
   {
    "duration": 52,
    "start_time": "2021-11-07T19:39:25.184Z"
   },
   {
    "duration": 585,
    "start_time": "2021-11-07T19:39:25.240Z"
   },
   {
    "duration": 8194,
    "start_time": "2021-11-07T19:39:25.829Z"
   },
   {
    "duration": 750,
    "start_time": "2021-11-07T19:39:34.027Z"
   },
   {
    "duration": 4,
    "start_time": "2021-11-07T20:03:36.427Z"
   },
   {
    "duration": 2702,
    "start_time": "2021-11-07T20:03:36.434Z"
   },
   {
    "duration": 120,
    "start_time": "2021-11-07T20:03:39.140Z"
   },
   {
    "duration": 64,
    "start_time": "2021-11-07T20:03:39.263Z"
   },
   {
    "duration": 102,
    "start_time": "2021-11-07T20:03:39.330Z"
   },
   {
    "duration": 102,
    "start_time": "2021-11-07T20:03:39.435Z"
   },
   {
    "duration": 16,
    "start_time": "2021-11-07T20:03:39.539Z"
   },
   {
    "duration": 88,
    "start_time": "2021-11-07T20:03:39.558Z"
   },
   {
    "duration": 179,
    "start_time": "2021-11-07T20:03:39.651Z"
   },
   {
    "duration": 12,
    "start_time": "2021-11-07T20:03:39.834Z"
   },
   {
    "duration": 879,
    "start_time": "2021-11-07T20:03:39.850Z"
   },
   {
    "duration": 7,
    "start_time": "2021-11-07T20:03:40.732Z"
   },
   {
    "duration": 14,
    "start_time": "2021-11-07T20:03:40.742Z"
   },
   {
    "duration": 15,
    "start_time": "2021-11-07T20:03:40.822Z"
   },
   {
    "duration": 12,
    "start_time": "2021-11-07T20:03:40.840Z"
   },
   {
    "duration": 712,
    "start_time": "2021-11-07T20:03:40.855Z"
   },
   {
    "duration": 912,
    "start_time": "2021-11-07T20:03:41.569Z"
   },
   {
    "duration": 600,
    "start_time": "2021-11-07T20:03:42.483Z"
   },
   {
    "duration": 365,
    "start_time": "2021-11-07T20:03:43.085Z"
   },
   {
    "duration": 291,
    "start_time": "2021-11-07T20:03:43.452Z"
   },
   {
    "duration": 10,
    "start_time": "2021-11-07T20:03:43.745Z"
   },
   {
    "duration": 282,
    "start_time": "2021-11-07T20:03:43.758Z"
   },
   {
    "duration": 4,
    "start_time": "2021-11-07T20:03:44.043Z"
   },
   {
    "duration": 177,
    "start_time": "2021-11-07T20:03:44.050Z"
   },
   {
    "duration": 206,
    "start_time": "2021-11-07T20:03:44.230Z"
   },
   {
    "duration": 2021,
    "start_time": "2021-11-07T20:03:44.439Z"
   },
   {
    "duration": 41226,
    "start_time": "2021-11-07T20:03:46.468Z"
   },
   {
    "duration": 887,
    "start_time": "2021-11-07T20:04:27.698Z"
   },
   {
    "duration": 12,
    "start_time": "2021-11-07T20:04:28.588Z"
   },
   {
    "duration": 1423,
    "start_time": "2021-11-07T20:04:28.603Z"
   },
   {
    "duration": 311,
    "start_time": "2021-11-07T20:04:30.029Z"
   },
   {
    "duration": 40596,
    "start_time": "2021-11-07T20:04:30.342Z"
   },
   {
    "duration": 425,
    "start_time": "2021-11-07T20:05:10.940Z"
   },
   {
    "duration": 5,
    "start_time": "2021-11-07T20:05:11.368Z"
   },
   {
    "duration": 18,
    "start_time": "2021-11-07T20:05:11.376Z"
   },
   {
    "duration": 502,
    "start_time": "2021-11-07T20:05:11.396Z"
   },
   {
    "duration": 7581,
    "start_time": "2021-11-07T20:05:11.901Z"
   },
   {
    "duration": 570,
    "start_time": "2021-11-07T20:05:19.484Z"
   },
   {
    "duration": 52353,
    "start_time": "2021-11-07T20:06:14.340Z"
   },
   {
    "duration": 75485,
    "start_time": "2021-11-07T20:07:28.676Z"
   },
   {
    "duration": 359,
    "start_time": "2021-11-07T20:08:44.164Z"
   },
   {
    "duration": 53727,
    "start_time": "2021-11-07T20:10:14.456Z"
   },
   {
    "duration": 383,
    "start_time": "2021-11-07T20:14:57.637Z"
   },
   {
    "duration": 3,
    "start_time": "2021-11-08T16:29:39.050Z"
   },
   {
    "duration": 1500,
    "start_time": "2021-11-08T16:29:39.055Z"
   },
   {
    "duration": 189,
    "start_time": "2021-11-08T16:29:40.370Z"
   },
   {
    "duration": 187,
    "start_time": "2021-11-08T16:29:40.373Z"
   },
   {
    "duration": 184,
    "start_time": "2021-11-08T16:29:40.377Z"
   },
   {
    "duration": 172,
    "start_time": "2021-11-08T16:29:40.391Z"
   },
   {
    "duration": 170,
    "start_time": "2021-11-08T16:29:40.394Z"
   },
   {
    "duration": 169,
    "start_time": "2021-11-08T16:29:40.397Z"
   },
   {
    "duration": 167,
    "start_time": "2021-11-08T16:29:40.400Z"
   },
   {
    "duration": 165,
    "start_time": "2021-11-08T16:29:40.404Z"
   },
   {
    "duration": 162,
    "start_time": "2021-11-08T16:29:40.408Z"
   },
   {
    "duration": 161,
    "start_time": "2021-11-08T16:29:40.411Z"
   },
   {
    "duration": 159,
    "start_time": "2021-11-08T16:29:40.414Z"
   },
   {
    "duration": 158,
    "start_time": "2021-11-08T16:29:40.417Z"
   },
   {
    "duration": 156,
    "start_time": "2021-11-08T16:29:40.420Z"
   },
   {
    "duration": 155,
    "start_time": "2021-11-08T16:29:40.423Z"
   },
   {
    "duration": 153,
    "start_time": "2021-11-08T16:29:40.426Z"
   },
   {
    "duration": 125,
    "start_time": "2021-11-08T16:29:40.456Z"
   },
   {
    "duration": 121,
    "start_time": "2021-11-08T16:29:40.461Z"
   },
   {
    "duration": 119,
    "start_time": "2021-11-08T16:29:40.465Z"
   },
   {
    "duration": 116,
    "start_time": "2021-11-08T16:29:40.469Z"
   },
   {
    "duration": 113,
    "start_time": "2021-11-08T16:29:40.473Z"
   },
   {
    "duration": 112,
    "start_time": "2021-11-08T16:29:40.476Z"
   },
   {
    "duration": 74,
    "start_time": "2021-11-08T16:29:40.516Z"
   },
   {
    "duration": 71,
    "start_time": "2021-11-08T16:29:40.520Z"
   },
   {
    "duration": 70,
    "start_time": "2021-11-08T16:29:40.523Z"
   },
   {
    "duration": 67,
    "start_time": "2021-11-08T16:29:40.527Z"
   },
   {
    "duration": 65,
    "start_time": "2021-11-08T16:29:40.531Z"
   },
   {
    "duration": 63,
    "start_time": "2021-11-08T16:29:40.534Z"
   },
   {
    "duration": 61,
    "start_time": "2021-11-08T16:29:40.538Z"
   },
   {
    "duration": 57,
    "start_time": "2021-11-08T16:29:40.543Z"
   },
   {
    "duration": 56,
    "start_time": "2021-11-08T16:29:40.546Z"
   },
   {
    "duration": 54,
    "start_time": "2021-11-08T16:29:40.549Z"
   },
   {
    "duration": 52,
    "start_time": "2021-11-08T16:29:40.553Z"
   },
   {
    "duration": 107,
    "start_time": "2021-11-08T16:29:40.557Z"
   },
   {
    "duration": 105,
    "start_time": "2021-11-08T16:29:40.561Z"
   },
   {
    "duration": 103,
    "start_time": "2021-11-08T16:29:40.564Z"
   },
   {
    "duration": 102,
    "start_time": "2021-11-08T16:29:40.567Z"
   },
   {
    "duration": 6643,
    "start_time": "2021-11-08T16:30:03.799Z"
   },
   {
    "duration": 3,
    "start_time": "2021-11-08T16:30:19.254Z"
   },
   {
    "duration": 1303,
    "start_time": "2021-11-08T16:30:19.262Z"
   },
   {
    "duration": 49,
    "start_time": "2021-11-08T16:30:20.567Z"
   },
   {
    "duration": 7,
    "start_time": "2021-11-08T16:30:20.619Z"
   },
   {
    "duration": 37,
    "start_time": "2021-11-08T16:30:20.628Z"
   },
   {
    "duration": 28,
    "start_time": "2021-11-08T16:30:20.666Z"
   },
   {
    "duration": 10,
    "start_time": "2021-11-08T16:30:20.696Z"
   },
   {
    "duration": 17,
    "start_time": "2021-11-08T16:30:20.708Z"
   },
   {
    "duration": 54,
    "start_time": "2021-11-08T16:30:20.726Z"
   },
   {
    "duration": 6,
    "start_time": "2021-11-08T16:30:20.783Z"
   },
   {
    "duration": 426,
    "start_time": "2021-11-08T16:30:20.791Z"
   },
   {
    "duration": 5,
    "start_time": "2021-11-08T16:30:21.219Z"
   },
   {
    "duration": 9,
    "start_time": "2021-11-08T16:30:21.225Z"
   },
   {
    "duration": 7,
    "start_time": "2021-11-08T16:30:21.236Z"
   },
   {
    "duration": 7,
    "start_time": "2021-11-08T16:30:21.264Z"
   },
   {
    "duration": 518,
    "start_time": "2021-11-08T16:30:21.273Z"
   },
   {
    "duration": 604,
    "start_time": "2021-11-08T16:30:21.793Z"
   },
   {
    "duration": 425,
    "start_time": "2021-11-08T16:30:22.398Z"
   },
   {
    "duration": 306,
    "start_time": "2021-11-08T16:30:22.825Z"
   },
   {
    "duration": 198,
    "start_time": "2021-11-08T16:30:23.133Z"
   },
   {
    "duration": 9,
    "start_time": "2021-11-08T16:30:23.333Z"
   },
   {
    "duration": 184,
    "start_time": "2021-11-08T16:30:23.344Z"
   },
   {
    "duration": 4,
    "start_time": "2021-11-08T16:30:23.530Z"
   },
   {
    "duration": 131,
    "start_time": "2021-11-08T16:30:23.536Z"
   },
   {
    "duration": 148,
    "start_time": "2021-11-08T16:30:23.669Z"
   },
   {
    "duration": 1044,
    "start_time": "2021-11-08T16:30:23.819Z"
   },
   {
    "duration": 7942,
    "start_time": "2021-11-08T16:30:24.866Z"
   },
   {
    "duration": 167,
    "start_time": "2021-11-08T16:30:32.644Z"
   },
   {
    "duration": 160,
    "start_time": "2021-11-08T16:30:32.652Z"
   },
   {
    "duration": 157,
    "start_time": "2021-11-08T16:30:32.656Z"
   },
   {
    "duration": 154,
    "start_time": "2021-11-08T16:30:32.660Z"
   },
   {
    "duration": 152,
    "start_time": "2021-11-08T16:30:32.663Z"
   },
   {
    "duration": 149,
    "start_time": "2021-11-08T16:30:32.667Z"
   },
   {
    "duration": 147,
    "start_time": "2021-11-08T16:30:32.670Z"
   },
   {
    "duration": 145,
    "start_time": "2021-11-08T16:30:32.673Z"
   },
   {
    "duration": 143,
    "start_time": "2021-11-08T16:30:32.676Z"
   },
   {
    "duration": 141,
    "start_time": "2021-11-08T16:30:32.679Z"
   },
   {
    "duration": 107,
    "start_time": "2021-11-08T16:30:32.715Z"
   },
   {
    "duration": 12330,
    "start_time": "2021-11-08T16:30:36.908Z"
   },
   {
    "duration": 422,
    "start_time": "2021-11-08T16:30:53.868Z"
   },
   {
    "duration": 15902,
    "start_time": "2021-11-08T16:31:02.764Z"
   },
   {
    "duration": 543,
    "start_time": "2021-11-08T16:31:18.668Z"
   },
   {
    "duration": 3,
    "start_time": "2021-11-08T16:31:29.504Z"
   },
   {
    "duration": 1539,
    "start_time": "2021-11-08T16:31:29.511Z"
   },
   {
    "duration": 49,
    "start_time": "2021-11-08T16:31:31.052Z"
   },
   {
    "duration": 7,
    "start_time": "2021-11-08T16:31:31.104Z"
   },
   {
    "duration": 37,
    "start_time": "2021-11-08T16:31:31.113Z"
   },
   {
    "duration": 34,
    "start_time": "2021-11-08T16:31:31.152Z"
   },
   {
    "duration": 11,
    "start_time": "2021-11-08T16:31:31.188Z"
   },
   {
    "duration": 21,
    "start_time": "2021-11-08T16:31:31.200Z"
   },
   {
    "duration": 49,
    "start_time": "2021-11-08T16:31:31.223Z"
   },
   {
    "duration": 6,
    "start_time": "2021-11-08T16:31:31.275Z"
   },
   {
    "duration": 358,
    "start_time": "2021-11-08T16:31:31.283Z"
   },
   {
    "duration": 6,
    "start_time": "2021-11-08T16:31:31.643Z"
   },
   {
    "duration": 8,
    "start_time": "2021-11-08T16:31:31.664Z"
   },
   {
    "duration": 9,
    "start_time": "2021-11-08T16:31:31.674Z"
   },
   {
    "duration": 7,
    "start_time": "2021-11-08T16:31:31.686Z"
   },
   {
    "duration": 594,
    "start_time": "2021-11-08T16:31:31.695Z"
   },
   {
    "duration": 565,
    "start_time": "2021-11-08T16:31:32.291Z"
   },
   {
    "duration": 444,
    "start_time": "2021-11-08T16:31:32.858Z"
   },
   {
    "duration": 229,
    "start_time": "2021-11-08T16:31:33.304Z"
   },
   {
    "duration": 195,
    "start_time": "2021-11-08T16:31:33.535Z"
   },
   {
    "duration": 7,
    "start_time": "2021-11-08T16:31:33.732Z"
   },
   {
    "duration": 168,
    "start_time": "2021-11-08T16:31:33.741Z"
   },
   {
    "duration": 3,
    "start_time": "2021-11-08T16:31:33.911Z"
   },
   {
    "duration": 155,
    "start_time": "2021-11-08T16:31:33.915Z"
   },
   {
    "duration": 147,
    "start_time": "2021-11-08T16:31:34.074Z"
   },
   {
    "duration": 1218,
    "start_time": "2021-11-08T16:31:34.223Z"
   },
   {
    "duration": 15072,
    "start_time": "2021-11-08T16:31:35.443Z"
   },
   {
    "duration": 505,
    "start_time": "2021-11-08T16:31:50.518Z"
   },
   {
    "duration": 9,
    "start_time": "2021-11-08T16:31:51.025Z"
   },
   {
    "duration": 1299,
    "start_time": "2021-11-08T16:31:51.037Z"
   },
   {
    "duration": 328,
    "start_time": "2021-11-08T16:31:52.338Z"
   },
   {
    "duration": 35727,
    "start_time": "2021-11-08T16:31:52.668Z"
   },
   {
    "duration": 246,
    "start_time": "2021-11-08T16:32:28.397Z"
   },
   {
    "duration": 4,
    "start_time": "2021-11-08T16:32:28.645Z"
   },
   {
    "duration": 21,
    "start_time": "2021-11-08T16:32:28.650Z"
   },
   {
    "duration": 372,
    "start_time": "2021-11-08T16:32:28.673Z"
   },
   {
    "duration": 5407,
    "start_time": "2021-11-08T16:32:29.046Z"
   },
   {
    "duration": 402,
    "start_time": "2021-11-08T16:32:34.455Z"
   }
  ],
  "kernelspec": {
   "display_name": "Python 3",
   "language": "python",
   "name": "python3"
  },
  "language_info": {
   "codemirror_mode": {
    "name": "ipython",
    "version": 3
   },
   "file_extension": ".py",
   "mimetype": "text/x-python",
   "name": "python",
   "nbconvert_exporter": "python",
   "pygments_lexer": "ipython3",
   "version": "3.7.8"
  },
  "toc": {
   "base_numbering": 1,
   "nav_menu": {},
   "number_sections": true,
   "sideBar": true,
   "skip_h1_title": true,
   "title_cell": "Содержание",
   "title_sidebar": "Contents",
   "toc_cell": true,
   "toc_position": {
    "height": "calc(100% - 180px)",
    "left": "10px",
    "top": "150px",
    "width": "217.594px"
   },
   "toc_section_display": true,
   "toc_window_display": true
  }
 },
 "nbformat": 4,
 "nbformat_minor": 2
}
