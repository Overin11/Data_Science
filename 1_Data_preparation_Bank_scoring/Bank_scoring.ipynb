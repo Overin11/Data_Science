{
 "cells": [
  {
   "cell_type": "markdown",
   "metadata": {},
   "source": [
    "# Исследование надёжности заёмщиков\n",
    "\n",
    "Заказчик — кредитный отдел банка. Нужно разобраться, влияет ли семейное положение и количество детей клиента на факт погашения кредита в срок. Входные данные от банка — статистика о платёжеспособности клиентов.\n",
    "\n",
    "Результаты исследования будут учтены при построении модели **кредитного скоринга** — специальной системы, которая оценивает способность потенциального заёмщика вернуть кредит банку."
   ]
  },
  {
   "cell_type": "markdown",
   "metadata": {},
   "source": [
    "## Шаг 1. Откройте файл с данными и изучите общую информацию"
   ]
  },
  {
   "cell_type": "code",
   "execution_count": 11,
   "metadata": {},
   "outputs": [],
   "source": [
    "import pandas as pd\n",
    "\n"
   ]
  },
  {
   "cell_type": "code",
   "execution_count": 12,
   "metadata": {},
   "outputs": [
    {
     "name": "stdout",
     "output_type": "stream",
     "text": [
      "<class 'pandas.core.frame.DataFrame'>\n",
      "RangeIndex: 21525 entries, 0 to 21524\n",
      "Data columns (total 12 columns):\n",
      "children            21525 non-null int64\n",
      "days_employed       19351 non-null float64\n",
      "dob_years           21525 non-null int64\n",
      "education           21525 non-null object\n",
      "education_id        21525 non-null int64\n",
      "family_status       21525 non-null object\n",
      "family_status_id    21525 non-null int64\n",
      "gender              21525 non-null object\n",
      "income_type         21525 non-null object\n",
      "debt                21525 non-null int64\n",
      "total_income        19351 non-null float64\n",
      "purpose             21525 non-null object\n",
      "dtypes: float64(2), int64(5), object(5)\n",
      "memory usage: 2.0+ MB\n"
     ]
    }
   ],
   "source": [
    "data = pd.read_csv('/datasets/data.csv')\n",
    "data.info()"
   ]
  },
  {
   "cell_type": "code",
   "execution_count": 13,
   "metadata": {},
   "outputs": [
    {
     "data": {
      "text/plain": [
       "children\n",
       "-1        47\n",
       " 0     14149\n",
       " 1      4818\n",
       " 2      2055\n",
       " 3       330\n",
       " 4        41\n",
       " 5         9\n",
       " 20       76\n",
       "Name: children, dtype: int64"
      ]
     },
     "metadata": {},
     "output_type": "display_data"
    },
    {
     "data": {
      "text/plain": [
       "dob_years\n",
       "0     101\n",
       "19     14\n",
       "20     51\n",
       "21    111\n",
       "22    183\n",
       "23    254\n",
       "24    264\n",
       "25    357\n",
       "26    408\n",
       "27    493\n",
       "28    503\n",
       "29    545\n",
       "30    540\n",
       "31    560\n",
       "32    510\n",
       "33    581\n",
       "34    603\n",
       "35    617\n",
       "36    555\n",
       "37    537\n",
       "38    598\n",
       "39    573\n",
       "40    609\n",
       "41    607\n",
       "42    597\n",
       "43    513\n",
       "44    547\n",
       "45    497\n",
       "46    475\n",
       "47    480\n",
       "48    538\n",
       "49    508\n",
       "50    514\n",
       "51    448\n",
       "52    484\n",
       "53    459\n",
       "54    479\n",
       "55    443\n",
       "56    487\n",
       "57    460\n",
       "58    461\n",
       "59    444\n",
       "60    377\n",
       "61    355\n",
       "62    352\n",
       "63    269\n",
       "64    265\n",
       "65    194\n",
       "66    183\n",
       "67    167\n",
       "68     99\n",
       "69     85\n",
       "70     65\n",
       "71     58\n",
       "72     33\n",
       "73      8\n",
       "74      6\n",
       "75      1\n",
       "Name: dob_years, dtype: int64"
      ]
     },
     "metadata": {},
     "output_type": "display_data"
    },
    {
     "data": {
      "text/plain": [
       "education_id  education          \n",
       "0             ВЫСШЕЕ                   274\n",
       "              Высшее                   268\n",
       "              высшее                  4718\n",
       "1             СРЕДНЕЕ                  772\n",
       "              Среднее                  711\n",
       "              среднее                13750\n",
       "2             НЕОКОНЧЕННОЕ ВЫСШЕЕ       29\n",
       "              Неоконченное высшее       47\n",
       "              неоконченное высшее      668\n",
       "3             НАЧАЛЬНОЕ                 17\n",
       "              Начальное                 15\n",
       "              начальное                250\n",
       "4             УЧЕНАЯ СТЕПЕНЬ             1\n",
       "              Ученая степень             1\n",
       "              ученая степень             4\n",
       "Name: education_id, dtype: int64"
      ]
     },
     "metadata": {},
     "output_type": "display_data"
    },
    {
     "data": {
      "text/plain": [
       "gender\n",
       "F      14236\n",
       "M       7288\n",
       "XNA        1\n",
       "Name: gender, dtype: int64"
      ]
     },
     "metadata": {},
     "output_type": "display_data"
    },
    {
     "data": {
      "text/plain": [
       "purpose\n",
       "автомобили                                478\n",
       "автомобиль                                495\n",
       "высшее образование                        453\n",
       "дополнительное образование                462\n",
       "жилье                                     647\n",
       "заняться высшим образованием              496\n",
       "заняться образованием                     412\n",
       "на покупку автомобиля                     472\n",
       "на покупку подержанного автомобиля        479\n",
       "на покупку своего автомобиля              505\n",
       "на проведение свадьбы                     777\n",
       "недвижимость                              634\n",
       "образование                               447\n",
       "операции с жильем                         653\n",
       "операции с коммерческой недвижимостью     651\n",
       "операции с недвижимостью                  676\n",
       "операции со своей недвижимостью           630\n",
       "покупка жилой недвижимости                607\n",
       "покупка жилья                             647\n",
       "покупка жилья для сдачи                   653\n",
       "покупка жилья для семьи                   641\n",
       "покупка коммерческой недвижимости         664\n",
       "покупка недвижимости                      624\n",
       "покупка своего жилья                      620\n",
       "получение высшего образования             426\n",
       "получение дополнительного образования     447\n",
       "получение образования                     443\n",
       "приобретение автомобиля                   462\n",
       "профильное образование                    436\n",
       "ремонт жилью                              612\n",
       "свадьба                                   797\n",
       "свой автомобиль                           480\n",
       "сделка с автомобилем                      455\n",
       "сделка с подержанным автомобилем          489\n",
       "строительство жилой недвижимости          626\n",
       "строительство недвижимости                620\n",
       "строительство собственной недвижимости    635\n",
       "сыграть свадьбу                           774\n",
       "Name: purpose, dtype: int64"
      ]
     },
     "metadata": {},
     "output_type": "display_data"
    },
    {
     "data": {
      "text/plain": [
       "family_status          family_status_id\n",
       "Не женат / не замужем  4                    2813\n",
       "в разводе              3                    1195\n",
       "вдовец / вдова         2                     960\n",
       "гражданский брак       1                    4177\n",
       "женат / замужем        0                   12380\n",
       "Name: family_status_id, dtype: int64"
      ]
     },
     "metadata": {},
     "output_type": "display_data"
    }
   ],
   "source": [
    "display(data.groupby('children')['children'].count())                                      # кол-во клиентов по кол-ву детей)\n",
    "display(data.groupby('dob_years')['dob_years'].count())                                    # кол-во клиентов оп возрастам)\n",
    "display(data.groupby(['education_id', 'education'])['education_id'].count())               # образование\n",
    "display(data.groupby('gender')['gender'].count())                                          # пол\n",
    "display(data.groupby('purpose')['purpose'].count())                                        # цели кредитов\n",
    "display(data.groupby(['family_status',  'family_status_id'])['family_status_id'].count())  # семейное положение / кол-во"
   ]
  },
  {
   "cell_type": "markdown",
   "metadata": {},
   "source": [
    "**Вывод**"
   ]
  },
  {
   "cell_type": "markdown",
   "metadata": {},
   "source": [
    "В стобцах days_employed, total_income есть значения NaN\n",
    "В days_employed данные представлены в float64\n",
    "В столбце children есть значения -1 и 20, их сумма составляет меньше 1%, можно убрать\n",
    "В столбце dob_years есть 0 в 101 строке, аналогично\n",
    "В education названия уровня образования написан в разных регистрах, нужно привести к одному виду\n",
    "В gender один клиент не определился с полом, убрать\n",
    "В purpose много одинаковых целей записаны в разной форме, привести к общему виду(лемматизировать)\n",
    "В family_status/family_status_id проблем нет\n"
   ]
  },
  {
   "cell_type": "markdown",
   "metadata": {},
   "source": [
    "## Шаг 2. Предобработка данных"
   ]
  },
  {
   "cell_type": "markdown",
   "metadata": {},
   "source": [
    "### Обработка пропусков"
   ]
  },
  {
   "cell_type": "code",
   "execution_count": 14,
   "metadata": {},
   "outputs": [],
   "source": [
    "def mean_income(df):\n",
    "    income_mean = df.groupby('income_type')['total_income'].mean()         # средний доход по типу знятости\n",
    "    unique_total_income = list(set(df['income_type']))                     # список источников дохода\n",
    "    dict_mean = dict(income_mean)\n",
    "    for i in unique_total_income:                                          # заполнение пропусков средними значениями\n",
    "        df.loc[df[\"income_type\"] == i,'total_income'] = df.loc[df[\"income_type\"] == i,'total_income'].fillna(dict_mean[i])\n",
    "mean_income(data)\n",
    "\n",
    "data['days_employed'] = data['days_employed'].apply(abs)                   #убираю \"-\" в стаже"
   ]
  },
  {
   "cell_type": "code",
   "execution_count": 15,
   "metadata": {},
   "outputs": [],
   "source": [
    "def mean_days_employed(df):\n",
    "    employed_mean = df.groupby('dob_years')['days_employed'].mean()      # ср. стаж по возрасту\n",
    "    unique_employed_mean = list(set(df['dob_years']))                    # список возрастов\n",
    "    for i in unique_employed_mean:                                       # заполнение пропусков средними значениями\n",
    "        df.loc[df[\"dob_years\"] == i,'days_employed'] = df.loc[df[\"dob_years\"] == i,'days_employed'].fillna(dict(employed_mean)[i])\n",
    "mean_days_employed(data)"
   ]
  },
  {
   "cell_type": "code",
   "execution_count": 16,
   "metadata": {},
   "outputs": [],
   "source": [
    "data.loc[data[\"children\"] == 20,'children'] = 2 #сичтаю, что 20 детей опечатка, меняю на 2\n",
    "data['children'] = data['children'].apply(abs)  #аналогично с -1, убираю знак минус\n",
    "data = data[data['gender'] != 'XNA']            #убираю клиента без пола\n",
    "data = data[data['dob_years'] != 0]             #убираю клиентов с возрастом 0"
   ]
  },
  {
   "cell_type": "markdown",
   "metadata": {},
   "source": [
    "**Вывод**"
   ]
  },
  {
   "cell_type": "markdown",
   "metadata": {},
   "source": [
    "Пропуски в столбце days_employed заполнены средними значениями стажа для каждого возраста.\n",
    "В total_income - средними значениями доходов для каждого типа занятости\n",
    "Пропуски, возможно, появились из-за невнимательности менеждера банка или клиента, при запонении/проверке анкеты"
   ]
  },
  {
   "cell_type": "markdown",
   "metadata": {},
   "source": [
    "### Замена типа данных"
   ]
  },
  {
   "cell_type": "code",
   "execution_count": 17,
   "metadata": {},
   "outputs": [],
   "source": [
    "def experience(df):                                        #перевод стажа из дней в года\n",
    "    if df['income_type'] != 'пенсионер':\n",
    "        return df['days_employed']  / 365\n",
    "    else:\n",
    "        return df['days_employed']  / 24 / 365\n",
    "data['years_employed'] =data.apply(experience, axis=1)     #применяю ко всей таблице"
   ]
  },
  {
   "cell_type": "code",
   "execution_count": 18,
   "metadata": {},
   "outputs": [
    {
     "name": "stdout",
     "output_type": "stream",
     "text": [
      "<class 'pandas.core.frame.DataFrame'>\n",
      "Int64Index: 21423 entries, 0 to 21524\n",
      "Data columns (total 13 columns):\n",
      "children            21423 non-null int64\n",
      "days_employed       21423 non-null int64\n",
      "dob_years           21423 non-null int64\n",
      "education           21423 non-null object\n",
      "education_id        21423 non-null int64\n",
      "family_status       21423 non-null object\n",
      "family_status_id    21423 non-null int64\n",
      "gender              21423 non-null object\n",
      "income_type         21423 non-null object\n",
      "debt                21423 non-null int64\n",
      "total_income        21423 non-null int64\n",
      "purpose             21423 non-null object\n",
      "years_employed      21423 non-null int64\n",
      "dtypes: int64(8), object(5)\n",
      "memory usage: 2.3+ MB\n"
     ]
    },
    {
     "data": {
      "text/html": [
       "<div>\n",
       "<style scoped>\n",
       "    .dataframe tbody tr th:only-of-type {\n",
       "        vertical-align: middle;\n",
       "    }\n",
       "\n",
       "    .dataframe tbody tr th {\n",
       "        vertical-align: top;\n",
       "    }\n",
       "\n",
       "    .dataframe thead th {\n",
       "        text-align: right;\n",
       "    }\n",
       "</style>\n",
       "<table border=\"1\" class=\"dataframe\">\n",
       "  <thead>\n",
       "    <tr style=\"text-align: right;\">\n",
       "      <th></th>\n",
       "      <th>children</th>\n",
       "      <th>days_employed</th>\n",
       "      <th>dob_years</th>\n",
       "      <th>education</th>\n",
       "      <th>education_id</th>\n",
       "      <th>family_status</th>\n",
       "      <th>family_status_id</th>\n",
       "      <th>gender</th>\n",
       "      <th>income_type</th>\n",
       "      <th>debt</th>\n",
       "      <th>total_income</th>\n",
       "      <th>purpose</th>\n",
       "      <th>years_employed</th>\n",
       "    </tr>\n",
       "  </thead>\n",
       "  <tbody>\n",
       "    <tr>\n",
       "      <td>0</td>\n",
       "      <td>1</td>\n",
       "      <td>8437</td>\n",
       "      <td>42</td>\n",
       "      <td>высшее</td>\n",
       "      <td>0</td>\n",
       "      <td>женат / замужем</td>\n",
       "      <td>0</td>\n",
       "      <td>F</td>\n",
       "      <td>сотрудник</td>\n",
       "      <td>0</td>\n",
       "      <td>253875</td>\n",
       "      <td>покупка жилья</td>\n",
       "      <td>23</td>\n",
       "    </tr>\n",
       "    <tr>\n",
       "      <td>1</td>\n",
       "      <td>1</td>\n",
       "      <td>4024</td>\n",
       "      <td>36</td>\n",
       "      <td>среднее</td>\n",
       "      <td>1</td>\n",
       "      <td>женат / замужем</td>\n",
       "      <td>0</td>\n",
       "      <td>F</td>\n",
       "      <td>сотрудник</td>\n",
       "      <td>0</td>\n",
       "      <td>112080</td>\n",
       "      <td>приобретение автомобиля</td>\n",
       "      <td>11</td>\n",
       "    </tr>\n",
       "    <tr>\n",
       "      <td>2</td>\n",
       "      <td>0</td>\n",
       "      <td>5623</td>\n",
       "      <td>33</td>\n",
       "      <td>Среднее</td>\n",
       "      <td>1</td>\n",
       "      <td>женат / замужем</td>\n",
       "      <td>0</td>\n",
       "      <td>M</td>\n",
       "      <td>сотрудник</td>\n",
       "      <td>0</td>\n",
       "      <td>145885</td>\n",
       "      <td>покупка жилья</td>\n",
       "      <td>15</td>\n",
       "    </tr>\n",
       "    <tr>\n",
       "      <td>3</td>\n",
       "      <td>3</td>\n",
       "      <td>4124</td>\n",
       "      <td>32</td>\n",
       "      <td>среднее</td>\n",
       "      <td>1</td>\n",
       "      <td>женат / замужем</td>\n",
       "      <td>0</td>\n",
       "      <td>M</td>\n",
       "      <td>сотрудник</td>\n",
       "      <td>0</td>\n",
       "      <td>267628</td>\n",
       "      <td>дополнительное образование</td>\n",
       "      <td>11</td>\n",
       "    </tr>\n",
       "    <tr>\n",
       "      <td>4</td>\n",
       "      <td>0</td>\n",
       "      <td>340266</td>\n",
       "      <td>53</td>\n",
       "      <td>среднее</td>\n",
       "      <td>1</td>\n",
       "      <td>гражданский брак</td>\n",
       "      <td>1</td>\n",
       "      <td>F</td>\n",
       "      <td>пенсионер</td>\n",
       "      <td>0</td>\n",
       "      <td>158616</td>\n",
       "      <td>сыграть свадьбу</td>\n",
       "      <td>38</td>\n",
       "    </tr>\n",
       "  </tbody>\n",
       "</table>\n",
       "</div>"
      ],
      "text/plain": [
       "   children  days_employed  dob_years education  education_id  \\\n",
       "0         1           8437         42    высшее             0   \n",
       "1         1           4024         36   среднее             1   \n",
       "2         0           5623         33   Среднее             1   \n",
       "3         3           4124         32   среднее             1   \n",
       "4         0         340266         53   среднее             1   \n",
       "\n",
       "      family_status  family_status_id gender income_type  debt  total_income  \\\n",
       "0   женат / замужем                 0      F   сотрудник     0        253875   \n",
       "1   женат / замужем                 0      F   сотрудник     0        112080   \n",
       "2   женат / замужем                 0      M   сотрудник     0        145885   \n",
       "3   женат / замужем                 0      M   сотрудник     0        267628   \n",
       "4  гражданский брак                 1      F   пенсионер     0        158616   \n",
       "\n",
       "                      purpose  years_employed  \n",
       "0               покупка жилья              23  \n",
       "1     приобретение автомобиля              11  \n",
       "2               покупка жилья              15  \n",
       "3  дополнительное образование              11  \n",
       "4             сыграть свадьбу              38  "
      ]
     },
     "execution_count": 18,
     "metadata": {},
     "output_type": "execute_result"
    }
   ],
   "source": [
    "data['days_employed'] = data['days_employed'].astype(int)  #замена типа данных на целочисленныый\n",
    "data['years_employed'] = data['years_employed'].astype(int)\n",
    "data['total_income'] = data['total_income'].astype(int)\n",
    "data.info()\n",
    "data.head()"
   ]
  },
  {
   "cell_type": "markdown",
   "metadata": {},
   "source": [
    "**Вывод**"
   ]
  },
  {
   "cell_type": "markdown",
   "metadata": {},
   "source": [
    "Стаж пенсионеров записан неправдоподобно большими числами. При переводе в года получаются сотни лет, если считать, что он записан в днях, как у остальных категорий. Делаю вывод, что стаж записан в часах.\n",
    "Столбец со стажем и общим доходом перевел в целые числа"
   ]
  },
  {
   "cell_type": "markdown",
   "metadata": {},
   "source": [
    "### Обработка дубликатов"
   ]
  },
  {
   "cell_type": "code",
   "execution_count": 19,
   "metadata": {},
   "outputs": [
    {
     "data": {
      "text/plain": [
       "education_id  education          \n",
       "0             ВЫСШЕЕ                   273\n",
       "              Высшее                   266\n",
       "              высшее                  4686\n",
       "1             СРЕДНЕЕ                  770\n",
       "              Среднее                  708\n",
       "              среднее                13691\n",
       "2             НЕОКОНЧЕННОЕ ВЫСШЕЕ       29\n",
       "              Неоконченное высшее       47\n",
       "              неоконченное высшее      665\n",
       "3             НАЧАЛЬНОЕ                 17\n",
       "              Начальное                 15\n",
       "              начальное                250\n",
       "4             УЧЕНАЯ СТЕПЕНЬ             1\n",
       "              Ученая степень             1\n",
       "              ученая степень             4\n",
       "Name: education_id, dtype: int64"
      ]
     },
     "metadata": {},
     "output_type": "display_data"
    },
    {
     "name": "stdout",
     "output_type": "stream",
     "text": [
      "\n"
     ]
    },
    {
     "data": {
      "text/plain": [
       "education_id  education          \n",
       "0             высшее                  5225\n",
       "1             среднее                15169\n",
       "2             неоконченное высшее      741\n",
       "3             начальное                282\n",
       "4             ученая степень             6\n",
       "Name: education_id, dtype: int64"
      ]
     },
     "metadata": {},
     "output_type": "display_data"
    }
   ],
   "source": [
    "display(data.groupby(['education_id', 'education'])['education_id'].count())   #образование / кол-во\n",
    "print()\n",
    "data['education'] = data['education'].str.lower()                            # образвание - в нижний регистр\n",
    "display(data.groupby(['education_id', 'education'])['education_id'].count())"
   ]
  },
  {
   "cell_type": "markdown",
   "metadata": {},
   "source": [
    "**Вывод**"
   ]
  },
  {
   "cell_type": "markdown",
   "metadata": {},
   "source": [
    "Уровень образования клиента бы записан в разных регистрах"
   ]
  },
  {
   "cell_type": "markdown",
   "metadata": {},
   "source": [
    "### Лемматизация"
   ]
  },
  {
   "cell_type": "code",
   "execution_count": 20,
   "metadata": {},
   "outputs": [
    {
     "name": "stdout",
     "output_type": "stream",
     "text": [
      "покупка жилье\n",
      "приобретение автомобиль\n",
      "дополнительный образование\n",
      "сыграть свадьба\n",
      "операция с жилье\n",
      "образование\n",
      "на проведение свадьба\n",
      "покупка жилье для семья\n",
      "покупка недвижимость\n",
      "покупка коммерческий недвижимость\n",
      "покупка жилой недвижимость\n",
      "строительство собственный недвижимость\n",
      "недвижимость\n",
      "строительство недвижимость\n",
      "на покупка подержать автомобиль\n",
      "на покупка свой автомобиль\n",
      "операция с коммерческий недвижимость\n",
      "строительство жилой недвижимость\n",
      "жилье\n",
      "операция со свой недвижимость\n",
      "автомобиль\n",
      "заниматься образование\n",
      "сделка с подержанный автомобиль\n",
      "получение образование\n",
      "автомобиль\n",
      "свадьба\n",
      "получение дополнительный образование\n",
      "покупка свой жилье\n",
      "операция с недвижимость\n",
      "получение высокий образование\n",
      "свой автомобиль\n",
      "сделка с автомобиль\n",
      "профильный образование\n",
      "высокий образование\n",
      "покупка жилье для сдача\n",
      "на покупка автомобиль\n",
      "ремонт жилье\n",
      "заниматься высокий образование\n",
      "\n",
      "Counter({'покупка': 10, 'недвижимость': 10, 'автомобиль': 9, 'образование': 9, 'жилье': 7, 'с': 5, 'операция': 4, 'на': 4, 'свой': 4, 'свадьба': 3, 'строительство': 3, 'получение': 3, 'высокий': 3, 'дополнительный': 2, 'для': 2, 'коммерческий': 2, 'жилой': 2, 'заниматься': 2, 'сделка': 2, 'приобретение': 1, 'сыграть': 1, 'проведение': 1, 'семья': 1, 'собственный': 1, 'подержать': 1, 'со': 1, 'подержанный': 1, 'профильный': 1, 'сдача': 1, 'ремонт': 1})\n"
     ]
    }
   ],
   "source": [
    "from pymystem3 import Mystem\n",
    "from collections import Counter\n",
    "m = Mystem()\n",
    "lemmas_out = ''\n",
    "for purpose in data['purpose'].unique(): # перебор уникальных значений списка целей кредита\n",
    "    lemmas = m.lemmatize(purpose)        # выделение лемм уникальных значений\n",
    "    lemmas_out += ''.join(lemmas)\n",
    "print(lemmas_out)    \n",
    "print(Counter(lemmas_out.split()))"
   ]
  },
  {
   "cell_type": "markdown",
   "metadata": {},
   "source": [
    "**Вывод**"
   ]
  },
  {
   "cell_type": "markdown",
   "metadata": {},
   "source": [
    "Выделил леммы, посчитал самые частоповторяющиеся, на их основе выделил основные категории"
   ]
  },
  {
   "cell_type": "markdown",
   "metadata": {},
   "source": [
    "### Категоризация данных"
   ]
  },
  {
   "cell_type": "code",
   "execution_count": 21,
   "metadata": {},
   "outputs": [],
   "source": [
    "data['parents'] = 0                                               # столбец статус родителей\n",
    "data.loc[data['children'] > 0, 'parents'] = 1"
   ]
  },
  {
   "cell_type": "code",
   "execution_count": 22,
   "metadata": {},
   "outputs": [
    {
     "name": "stdout",
     "output_type": "stream",
     "text": [
      "Недвижимость    10792\n",
      "Автомобиль       4293\n",
      "Образование      4004\n",
      "Свадьба          2334\n",
      "Name: main_purpose, dtype: int64\n"
     ]
    }
   ],
   "source": [
    "from pymystem3 import Mystem                                      # категоризация по цели кредитования\n",
    "m = Mystem()\n",
    "def replace(purpose):\n",
    "    lemmas = m.lemmatize(purpose)\n",
    "    if 'автомобиль' in lemmas:\n",
    "        return 'Автомобиль'\n",
    "    if 'образование' in lemmas:\n",
    "        return 'Образование'\n",
    "    if 'недвижимость' in lemmas or 'жилье' in lemmas:\n",
    "        return 'Недвижимость'\n",
    "    if 'свадьба' in lemmas:\n",
    "        return 'Свадьба' \n",
    "\n",
    "data['main_purpose']=data['purpose'].apply(replace)              #новый столбец с исправленнымим целями\n",
    "print(data['main_purpose'].value_counts())"
   ]
  },
  {
   "cell_type": "code",
   "execution_count": 23,
   "metadata": {},
   "outputs": [
    {
     "name": "stdout",
     "output_type": "stream",
     "text": [
      "children  child_status\n",
      "0         без детей       14079\n",
      "1         1-2 ребенка      4849\n",
      "2         1-2 ребенка      2117\n",
      "3         многодетный       328\n",
      "4         многодетный        41\n",
      "5         многодетный         9\n",
      "Name: child_status, dtype: int64\n"
     ]
    }
   ],
   "source": [
    "def child_status(df):\n",
    "    if df < 1:\n",
    "        return 'без детей'\n",
    "    elif df > 2:\n",
    "        return 'многодетный'\n",
    "    else:\n",
    "        return '1-2 ребенка'\n",
    "     \n",
    "data['child_status'] = data['children'].apply(child_status)\n",
    "print(data.groupby(['children', 'child_status'])['child_status'].count())"
   ]
  },
  {
   "cell_type": "markdown",
   "metadata": {},
   "source": [
    "**Вывод**"
   ]
  },
  {
   "cell_type": "markdown",
   "metadata": {},
   "source": [
    "Исходя из целей кредита добавил категории каждому клиенту, также - категорию по количеству детей\n"
   ]
  },
  {
   "cell_type": "markdown",
   "metadata": {},
   "source": [
    "## Шаг 3. Ответьте на вопросы"
   ]
  },
  {
   "cell_type": "markdown",
   "metadata": {},
   "source": [
    "- Есть ли зависимость между наличием детей и возвратом кредита в срок?"
   ]
  },
  {
   "cell_type": "code",
   "execution_count": 24,
   "metadata": {},
   "outputs": [
    {
     "name": "stdout",
     "output_type": "stream",
     "text": [
      "Просрочили кредит без детей 7.51% от общего числа заемщиков без детей или 1058 человек\n",
      "Просрочили кредит с детьми 9.19% от общего числа заемщиков с детьми или 675 человек\n"
     ]
    }
   ],
   "source": [
    "debt_child_depend = data.groupby(['parents', 'debt'])['debt'].count() #зависимость дети\\просрочка\n",
    "debt_child_depend_short = data.groupby('parents')['debt'].count()     # кол-во родителей с просрочкой и без\n",
    "print('Просрочили кредит без детей {:.2%} от общего числа заемщиков без детей или {} человек'.format(debt_child_depend[0][1] / debt_child_depend_short[0], debt_child_depend[0][1]))\n",
    "print('Просрочили кредит с детьми {:.2%} от общего числа заемщиков с детьми или {} человек'.format(debt_child_depend[1][1] / debt_child_depend_short[1], debt_child_depend[1][1]))"
   ]
  },
  {
   "cell_type": "markdown",
   "metadata": {},
   "source": [
    "**Вывод**"
   ]
  },
  {
   "cell_type": "markdown",
   "metadata": {},
   "source": [
    "Есть небольшая разница между количеством клиентов просрочивших кредит среди бездетных и клиентов с детьми, но она незначительная"
   ]
  },
  {
   "cell_type": "markdown",
   "metadata": {},
   "source": [
    "- Есть ли зависимость между семейным положением и возвратом кредита в срок?"
   ]
  },
  {
   "cell_type": "code",
   "execution_count": 25,
   "metadata": {},
   "outputs": [
    {
     "name": "stdout",
     "output_type": "stream",
     "text": [
      "Просрочили кредит не женат / не замужем         9.76%\n",
      "Просрочили кредит в разводе                     7.17%\n",
      "Просрочили кредит вдовец / вдова                6.49%\n",
      "Просрочили кредит гражданский брак              9.29%\n",
      "Просрочили кредит женат / замужем               7.52%\n"
     ]
    }
   ],
   "source": [
    "family_status_debt = data.groupby(['family_status_id',  'debt'])['debt'].count()     #зависимость семейное положение\\просрочка\n",
    "family_status_debt_short = data.groupby(['family_status_id'])['debt'].count()\n",
    "\n",
    "print('Просрочили кредит не женат / не замужем {: >13.2%}'.format(family_status_debt[4][1] / family_status_debt_short[4]))\n",
    "print('Просрочили кредит в разводе {: >25.2%}'.format(family_status_debt[3][1] / family_status_debt_short[3]))\n",
    "print('Просрочили кредит вдовец / вдова {: >20.2%}'.format(family_status_debt[2][1] / family_status_debt_short[2]))\n",
    "print('Просрочили кредит гражданский брак {: >18.2%}'.format(family_status_debt[1][1] / family_status_debt_short[1]))\n",
    "print('Просрочили кредит женат / замужем {: >19.2%}'.format(family_status_debt[0][1] / family_status_debt_short[0]))"
   ]
  },
  {
   "cell_type": "markdown",
   "metadata": {},
   "source": [
    "**Вывод**"
   ]
  },
  {
   "cell_type": "markdown",
   "metadata": {},
   "source": [
    "Чаще всего, если клиент не женат / не замужем, то он допускает просточку по платежу.\n",
    "Вдовец / вдова реже всех допускают такое"
   ]
  },
  {
   "cell_type": "markdown",
   "metadata": {},
   "source": [
    "- Есть ли зависимость между уровнем дохода и возвратом кредита в срок?"
   ]
  },
  {
   "cell_type": "code",
   "execution_count": 26,
   "metadata": {},
   "outputs": [
    {
     "name": "stdout",
     "output_type": "stream",
     "text": [
      "Просрочили кредит с доходом выше среднего          7.39%\n",
      "Просрочили кредит с доходом ниже среднего          8.16%\n",
      "Просрочили кредит со средним доходом               8.74%\n"
     ]
    }
   ],
   "source": [
    "low_income = data['total_income'].quantile(.33)            #уровень дохода между средним и низким среди клиентов\n",
    "high_income = data['total_income'].quantile(.66)           #уровень дохода между средним и высоким среди клиентов\n",
    "\n",
    "data['income_level'] = 'Средний'\n",
    "data.loc[data['total_income'] > high_income, 'income_level'] = 'Выше среднего'\n",
    "data.loc[data['total_income'] < low_income, 'income_level'] = 'Ниже среднего'\n",
    "\n",
    "income_level_debt = data.groupby(['income_level',  'debt'])['debt'].count()\n",
    "income_level_debt_short = data.groupby('income_level')['debt'].count()\n",
    "print('Просрочили кредит с доходом выше среднего {: >14.2%}'.format(income_level_debt['Выше среднего'][1] / income_level_debt_short['Выше среднего']))\n",
    "print('Просрочили кредит с доходом ниже среднего {: >14.2%}'.format(income_level_debt['Ниже среднего'][1] / income_level_debt_short['Ниже среднего']))\n",
    "print('Просрочили кредит со средним доходом {: >19.2%}'.format(income_level_debt['Средний'][1] / income_level_debt_short['Средний']))"
   ]
  },
  {
   "cell_type": "markdown",
   "metadata": {},
   "source": [
    "**Вывод**"
   ]
  },
  {
   "cell_type": "markdown",
   "metadata": {},
   "source": [
    "Хуже всего дела с возвратом кредита всрок обстоят у клиентов со средним доходом, у клиентов с доходом выше среднего - наоборот"
   ]
  },
  {
   "cell_type": "markdown",
   "metadata": {},
   "source": [
    "- Как разные цели кредита влияют на его возврат в срок?"
   ]
  },
  {
   "cell_type": "code",
   "execution_count": 27,
   "metadata": {},
   "outputs": [
    {
     "name": "stdout",
     "output_type": "stream",
     "text": [
      "Просрочили кредит на автомобиль                  9.32%\n",
      "Просрочили кредит на недвижимость                7.22%\n",
      "Просрочили кредит на оборазование                9.24%\n",
      "Просрочили кредит на свадьбу                     7.88%\n"
     ]
    }
   ],
   "source": [
    "main_purpose_debt = data.groupby(['main_purpose',  'debt'])['debt'].count()     #зависимость семейное цуль кредита\\просрочка\n",
    "main_purpose_debt_short = data.groupby('main_purpose')['debt'].count()\n",
    "\n",
    "print('Просрочили кредит на автомобиль {: >22.2%}'.format(main_purpose_debt['Автомобиль'][1] / main_purpose_debt_short['Автомобиль']))\n",
    "print('Просрочили кредит на недвижимость {: >20.2%}'.format(main_purpose_debt['Недвижимость'][1] / main_purpose_debt_short['Недвижимость']))\n",
    "print('Просрочили кредит на оборазование {: >20.2%}'.format(main_purpose_debt['Образование'][1] / main_purpose_debt_short['Образование']))\n",
    "print('Просрочили кредит на свадьбу {: >25.2%}'.format(main_purpose_debt['Свадьба'][1] / main_purpose_debt_short['Свадьба']))"
   ]
  },
  {
   "cell_type": "markdown",
   "metadata": {},
   "source": [
    "**Вывод**"
   ]
  },
  {
   "cell_type": "markdown",
   "metadata": {},
   "source": [
    "Кредит на автомобиль возвращеют хуже всего, почти как на образование. Клиенты с кредииом на недвидимость самые надёжные"
   ]
  },
  {
   "cell_type": "markdown",
   "metadata": {},
   "source": [
    "## Шаг 4. Общий вывод"
   ]
  },
  {
   "cell_type": "markdown",
   "metadata": {},
   "source": [
    "Самый ответственный клиент - это бездетный вдовец / вдова с доходом выше среднего с целью кредита - на недвижимость. И , если клиент не женат / не замужем со средним доходом и детьми, вероятность просрочка кредит на автомобиль будет выше всех остальных "
   ]
  }
 ],
 "metadata": {
  "ExecuteTimeLog": [
   {
    "duration": 3445,
    "start_time": "2021-06-30T17:55:32.049Z"
   },
   {
    "duration": 68,
    "start_time": "2021-06-30T17:57:05.629Z"
   },
   {
    "duration": 106,
    "start_time": "2021-06-30T17:57:18.058Z"
   },
   {
    "duration": 104,
    "start_time": "2021-06-30T17:57:30.408Z"
   },
   {
    "duration": 77,
    "start_time": "2021-06-30T18:00:28.067Z"
   },
   {
    "duration": 89,
    "start_time": "2021-06-30T18:00:28.146Z"
   },
   {
    "duration": 75,
    "start_time": "2021-06-30T18:00:43.445Z"
   },
   {
    "duration": 327,
    "start_time": "2021-06-30T18:00:43.523Z"
   },
   {
    "duration": 70,
    "start_time": "2021-06-30T18:02:08.910Z"
   },
   {
    "duration": 345,
    "start_time": "2021-06-30T18:02:08.982Z"
   },
   {
    "duration": 315,
    "start_time": "2021-06-30T18:03:33.901Z"
   },
   {
    "duration": 79,
    "start_time": "2021-06-30T18:04:27.913Z"
   },
   {
    "duration": 333,
    "start_time": "2021-06-30T18:04:27.995Z"
   },
   {
    "duration": 73,
    "start_time": "2021-06-30T18:04:58.459Z"
   },
   {
    "duration": 332,
    "start_time": "2021-06-30T18:04:58.535Z"
   },
   {
    "duration": 219,
    "start_time": "2021-07-01T16:31:13.518Z"
   },
   {
    "duration": 655,
    "start_time": "2021-07-01T16:31:25.810Z"
   },
   {
    "duration": 199,
    "start_time": "2021-07-01T16:31:26.467Z"
   },
   {
    "duration": 688,
    "start_time": "2021-07-01T16:31:26.668Z"
   },
   {
    "duration": 66,
    "start_time": "2021-07-01T16:39:02.537Z"
   },
   {
    "duration": 211,
    "start_time": "2021-07-01T16:39:02.605Z"
   },
   {
    "duration": 690,
    "start_time": "2021-07-01T16:39:02.819Z"
   },
   {
    "duration": 64,
    "start_time": "2021-07-01T16:56:38.265Z"
   },
   {
    "duration": 213,
    "start_time": "2021-07-01T16:56:38.331Z"
   },
   {
    "duration": 12,
    "start_time": "2021-07-01T16:56:38.546Z"
   },
   {
    "duration": 704,
    "start_time": "2021-07-01T16:56:38.560Z"
   },
   {
    "duration": 62,
    "start_time": "2021-07-01T17:03:21.328Z"
   },
   {
    "duration": 209,
    "start_time": "2021-07-01T17:03:21.392Z"
   },
   {
    "duration": 44,
    "start_time": "2021-07-01T17:03:21.603Z"
   },
   {
    "duration": 694,
    "start_time": "2021-07-01T17:03:21.648Z"
   },
   {
    "duration": 63,
    "start_time": "2021-07-01T17:06:34.705Z"
   },
   {
    "duration": 199,
    "start_time": "2021-07-01T17:06:34.769Z"
   },
   {
    "duration": 43,
    "start_time": "2021-07-01T17:06:34.970Z"
   },
   {
    "duration": 680,
    "start_time": "2021-07-01T17:06:35.015Z"
   },
   {
    "duration": 41,
    "start_time": "2021-07-01T17:06:55.450Z"
   },
   {
    "duration": 67,
    "start_time": "2021-07-01T17:15:48.055Z"
   },
   {
    "duration": 68,
    "start_time": "2021-07-01T17:15:49.729Z"
   },
   {
    "duration": 213,
    "start_time": "2021-07-01T17:15:49.798Z"
   },
   {
    "duration": 40,
    "start_time": "2021-07-01T17:15:50.013Z"
   },
   {
    "duration": 713,
    "start_time": "2021-07-01T17:15:50.055Z"
   },
   {
    "duration": 73,
    "start_time": "2021-07-01T17:17:07.824Z"
   },
   {
    "duration": 207,
    "start_time": "2021-07-01T17:17:07.899Z"
   },
   {
    "duration": 36,
    "start_time": "2021-07-01T17:17:08.108Z"
   },
   {
    "duration": 727,
    "start_time": "2021-07-01T17:17:08.146Z"
   },
   {
    "duration": 68,
    "start_time": "2021-07-01T17:17:45.183Z"
   },
   {
    "duration": 199,
    "start_time": "2021-07-01T17:17:45.253Z"
   },
   {
    "duration": 50,
    "start_time": "2021-07-01T17:17:45.454Z"
   },
   {
    "duration": 701,
    "start_time": "2021-07-01T17:17:45.505Z"
   },
   {
    "duration": 64,
    "start_time": "2021-07-01T17:35:54.429Z"
   },
   {
    "duration": 204,
    "start_time": "2021-07-01T17:35:54.495Z"
   },
   {
    "duration": 40,
    "start_time": "2021-07-01T17:35:54.701Z"
   },
   {
    "duration": 691,
    "start_time": "2021-07-01T17:35:54.744Z"
   },
   {
    "duration": 69,
    "start_time": "2021-07-01T17:36:12.730Z"
   },
   {
    "duration": 81,
    "start_time": "2021-07-01T17:36:34.034Z"
   },
   {
    "duration": 66,
    "start_time": "2021-07-01T17:37:58.979Z"
   },
   {
    "duration": 68,
    "start_time": "2021-07-01T17:39:23.067Z"
   },
   {
    "duration": 67,
    "start_time": "2021-07-01T17:41:12.840Z"
   },
   {
    "duration": 71,
    "start_time": "2021-07-01T17:58:45.382Z"
   },
   {
    "duration": 273,
    "start_time": "2021-07-01T17:59:10.080Z"
   },
   {
    "duration": 255,
    "start_time": "2021-07-01T18:01:33.011Z"
   },
   {
    "duration": 282,
    "start_time": "2021-07-01T18:01:37.625Z"
   },
   {
    "duration": 30,
    "start_time": "2021-07-01T18:01:37.879Z"
   },
   {
    "duration": 29,
    "start_time": "2021-07-01T18:01:37.881Z"
   },
   {
    "duration": 28,
    "start_time": "2021-07-01T18:01:37.883Z"
   },
   {
    "duration": 241,
    "start_time": "2021-07-01T18:02:03.958Z"
   },
   {
    "duration": 82,
    "start_time": "2021-07-01T18:02:24.269Z"
   },
   {
    "duration": 79,
    "start_time": "2021-07-01T18:03:10.942Z"
   },
   {
    "duration": 85,
    "start_time": "2021-07-01T18:15:03.752Z"
   },
   {
    "duration": 226,
    "start_time": "2021-07-01T18:15:03.839Z"
   },
   {
    "duration": 57,
    "start_time": "2021-07-01T18:15:04.068Z"
   },
   {
    "duration": 719,
    "start_time": "2021-07-01T18:15:04.126Z"
   },
   {
    "duration": 51,
    "start_time": "2021-07-01T18:16:49.402Z"
   },
   {
    "duration": 64,
    "start_time": "2021-07-01T18:17:24.103Z"
   },
   {
    "duration": 80,
    "start_time": "2021-07-01T18:17:30.892Z"
   },
   {
    "duration": 192,
    "start_time": "2021-07-01T18:17:30.974Z"
   },
   {
    "duration": 55,
    "start_time": "2021-07-01T18:17:31.168Z"
   },
   {
    "duration": 668,
    "start_time": "2021-07-01T18:17:31.225Z"
   },
   {
    "duration": 85,
    "start_time": "2021-07-01T18:18:03.203Z"
   },
   {
    "duration": 208,
    "start_time": "2021-07-01T18:18:03.290Z"
   },
   {
    "duration": 43,
    "start_time": "2021-07-01T18:18:03.500Z"
   },
   {
    "duration": 700,
    "start_time": "2021-07-01T18:18:03.546Z"
   },
   {
    "duration": 81,
    "start_time": "2021-07-01T18:19:04.166Z"
   },
   {
    "duration": 199,
    "start_time": "2021-07-01T18:19:04.248Z"
   },
   {
    "duration": 20,
    "start_time": "2021-07-01T18:19:04.449Z"
   },
   {
    "duration": 671,
    "start_time": "2021-07-01T18:19:04.471Z"
   },
   {
    "duration": 5,
    "start_time": "2021-07-01T18:50:44.266Z"
   },
   {
    "duration": 692,
    "start_time": "2021-07-01T18:57:57.488Z"
   },
   {
    "duration": 237,
    "start_time": "2021-07-01T18:57:58.182Z"
   },
   {
    "duration": 17,
    "start_time": "2021-07-01T18:57:58.421Z"
   },
   {
    "duration": 19,
    "start_time": "2021-07-01T18:57:58.440Z"
   },
   {
    "duration": 698,
    "start_time": "2021-07-01T18:57:58.461Z"
   },
   {
    "duration": 5,
    "start_time": "2021-07-01T18:57:59.161Z"
   },
   {
    "duration": 12,
    "start_time": "2021-07-01T18:58:39.090Z"
   },
   {
    "duration": 17,
    "start_time": "2021-07-01T18:59:05.628Z"
   },
   {
    "duration": 12,
    "start_time": "2021-07-01T18:59:53.469Z"
   },
   {
    "duration": 15,
    "start_time": "2021-07-01T19:00:44.452Z"
   },
   {
    "duration": 13,
    "start_time": "2021-07-01T19:00:54.026Z"
   },
   {
    "duration": 187,
    "start_time": "2021-07-01T19:16:58.093Z"
   },
   {
    "duration": 197,
    "start_time": "2021-07-01T19:17:21.509Z"
   },
   {
    "duration": 12,
    "start_time": "2021-07-01T19:24:19.739Z"
   },
   {
    "duration": 75,
    "start_time": "2021-07-01T19:25:10.796Z"
   },
   {
    "duration": 204,
    "start_time": "2021-07-01T19:25:10.873Z"
   },
   {
    "duration": 10,
    "start_time": "2021-07-01T19:25:11.079Z"
   },
   {
    "duration": 18,
    "start_time": "2021-07-01T19:25:11.091Z"
   },
   {
    "duration": 704,
    "start_time": "2021-07-01T19:25:11.111Z"
   },
   {
    "duration": 14,
    "start_time": "2021-07-01T19:25:11.817Z"
   },
   {
    "duration": 84,
    "start_time": "2021-07-01T19:26:26.160Z"
   },
   {
    "duration": 392,
    "start_time": "2021-07-01T19:26:26.246Z"
   },
   {
    "duration": 57,
    "start_time": "2021-07-01T19:26:26.583Z"
   },
   {
    "duration": 55,
    "start_time": "2021-07-01T19:26:26.586Z"
   },
   {
    "duration": 52,
    "start_time": "2021-07-01T19:26:26.590Z"
   },
   {
    "duration": 50,
    "start_time": "2021-07-01T19:26:26.593Z"
   },
   {
    "duration": 77,
    "start_time": "2021-07-01T19:27:04.128Z"
   },
   {
    "duration": 209,
    "start_time": "2021-07-01T19:27:04.207Z"
   },
   {
    "duration": 12,
    "start_time": "2021-07-01T19:27:04.418Z"
   },
   {
    "duration": 20,
    "start_time": "2021-07-01T19:27:04.432Z"
   },
   {
    "duration": 716,
    "start_time": "2021-07-01T19:27:04.454Z"
   },
   {
    "duration": 25,
    "start_time": "2021-07-01T19:27:05.173Z"
   },
   {
    "duration": 82,
    "start_time": "2021-07-01T19:27:44.234Z"
   },
   {
    "duration": 208,
    "start_time": "2021-07-01T19:27:44.318Z"
   },
   {
    "duration": 12,
    "start_time": "2021-07-01T19:27:44.528Z"
   },
   {
    "duration": 21,
    "start_time": "2021-07-01T19:27:44.541Z"
   },
   {
    "duration": 736,
    "start_time": "2021-07-01T19:27:44.564Z"
   },
   {
    "duration": 13,
    "start_time": "2021-07-01T19:27:45.302Z"
   },
   {
    "duration": 888,
    "start_time": "2021-07-02T08:50:38.359Z"
   },
   {
    "duration": 333,
    "start_time": "2021-07-02T08:50:39.251Z"
   },
   {
    "duration": 15,
    "start_time": "2021-07-02T08:50:39.588Z"
   },
   {
    "duration": 43,
    "start_time": "2021-07-02T08:50:39.606Z"
   },
   {
    "duration": 6127,
    "start_time": "2021-07-02T08:50:39.652Z"
   },
   {
    "duration": 18,
    "start_time": "2021-07-02T08:50:45.781Z"
   },
   {
    "duration": 104,
    "start_time": "2021-07-02T09:36:59.809Z"
   },
   {
    "duration": 341,
    "start_time": "2021-07-02T09:36:59.915Z"
   },
   {
    "duration": 16,
    "start_time": "2021-07-02T09:37:00.259Z"
   },
   {
    "duration": 51,
    "start_time": "2021-07-02T09:37:00.277Z"
   },
   {
    "duration": 103,
    "start_time": "2021-07-02T09:38:56.770Z"
   },
   {
    "duration": 348,
    "start_time": "2021-07-02T09:38:56.876Z"
   },
   {
    "duration": 15,
    "start_time": "2021-07-02T09:38:57.227Z"
   },
   {
    "duration": 31,
    "start_time": "2021-07-02T09:38:57.245Z"
   },
   {
    "duration": 101,
    "start_time": "2021-07-02T09:43:24.117Z"
   },
   {
    "duration": 338,
    "start_time": "2021-07-02T09:43:24.225Z"
   },
   {
    "duration": 15,
    "start_time": "2021-07-02T09:43:24.566Z"
   },
   {
    "duration": 43,
    "start_time": "2021-07-02T09:43:24.583Z"
   },
   {
    "duration": 54,
    "start_time": "2021-07-02T09:43:24.629Z"
   },
   {
    "duration": 40,
    "start_time": "2021-07-02T09:43:24.686Z"
   },
   {
    "duration": 350,
    "start_time": "2021-07-02T09:44:02.919Z"
   },
   {
    "duration": 820,
    "start_time": "2021-07-02T09:44:41.370Z"
   },
   {
    "duration": 336,
    "start_time": "2021-07-02T09:44:42.193Z"
   },
   {
    "duration": 16,
    "start_time": "2021-07-02T09:44:42.532Z"
   },
   {
    "duration": 30,
    "start_time": "2021-07-02T09:44:42.551Z"
   },
   {
    "duration": 52,
    "start_time": "2021-07-02T09:44:42.584Z"
   },
   {
    "duration": 16,
    "start_time": "2021-07-02T09:44:42.638Z"
   },
   {
    "duration": 9,
    "start_time": "2021-07-02T09:49:36.710Z"
   },
   {
    "duration": 110,
    "start_time": "2021-07-02T09:49:54.678Z"
   },
   {
    "duration": 333,
    "start_time": "2021-07-02T09:49:54.791Z"
   },
   {
    "duration": 17,
    "start_time": "2021-07-02T09:49:55.127Z"
   },
   {
    "duration": 29,
    "start_time": "2021-07-02T09:49:55.147Z"
   },
   {
    "duration": 61,
    "start_time": "2021-07-02T09:49:55.179Z"
   },
   {
    "duration": 24,
    "start_time": "2021-07-02T09:49:55.242Z"
   },
   {
    "duration": 7,
    "start_time": "2021-07-02T09:49:55.268Z"
   },
   {
    "duration": 10,
    "start_time": "2021-07-02T09:50:26.057Z"
   },
   {
    "duration": 109,
    "start_time": "2021-07-02T09:53:58.139Z"
   },
   {
    "duration": 354,
    "start_time": "2021-07-02T09:54:08.514Z"
   },
   {
    "duration": 911,
    "start_time": "2021-07-02T13:42:00.847Z"
   },
   {
    "duration": 337,
    "start_time": "2021-07-02T13:42:01.761Z"
   },
   {
    "duration": 17,
    "start_time": "2021-07-02T13:42:02.100Z"
   },
   {
    "duration": 34,
    "start_time": "2021-07-02T13:42:02.120Z"
   },
   {
    "duration": 50,
    "start_time": "2021-07-02T13:42:02.157Z"
   },
   {
    "duration": 15,
    "start_time": "2021-07-02T13:42:02.209Z"
   },
   {
    "duration": 436,
    "start_time": "2021-07-02T13:42:02.227Z"
   },
   {
    "duration": 9,
    "start_time": "2021-07-02T13:42:47.583Z"
   },
   {
    "duration": 10,
    "start_time": "2021-07-02T13:42:51.975Z"
   },
   {
    "duration": 105,
    "start_time": "2021-07-02T13:42:56.926Z"
   },
   {
    "duration": 340,
    "start_time": "2021-07-02T13:42:57.033Z"
   },
   {
    "duration": 17,
    "start_time": "2021-07-02T13:42:57.384Z"
   },
   {
    "duration": 31,
    "start_time": "2021-07-02T13:42:57.403Z"
   },
   {
    "duration": 23,
    "start_time": "2021-07-02T13:42:57.436Z"
   },
   {
    "duration": 33,
    "start_time": "2021-07-02T13:42:57.487Z"
   },
   {
    "duration": 8,
    "start_time": "2021-07-02T13:42:57.523Z"
   },
   {
    "duration": 13,
    "start_time": "2021-07-02T13:43:43.560Z"
   },
   {
    "duration": 13,
    "start_time": "2021-07-02T13:44:30.886Z"
   },
   {
    "duration": 12,
    "start_time": "2021-07-02T13:44:36.966Z"
   },
   {
    "duration": 15,
    "start_time": "2021-07-02T13:44:48.948Z"
   },
   {
    "duration": 12,
    "start_time": "2021-07-02T13:44:56.124Z"
   },
   {
    "duration": 11,
    "start_time": "2021-07-02T13:45:06.077Z"
   },
   {
    "duration": 13,
    "start_time": "2021-07-02T13:45:32.269Z"
   },
   {
    "duration": 14,
    "start_time": "2021-07-02T13:46:24.780Z"
   },
   {
    "duration": 15,
    "start_time": "2021-07-02T13:46:44.020Z"
   },
   {
    "duration": 14,
    "start_time": "2021-07-02T13:46:56.492Z"
   },
   {
    "duration": 26,
    "start_time": "2021-07-02T13:47:23.485Z"
   },
   {
    "duration": 13,
    "start_time": "2021-07-02T13:47:56.229Z"
   },
   {
    "duration": 327,
    "start_time": "2021-07-02T13:52:25.078Z"
   },
   {
    "duration": 20,
    "start_time": "2021-07-02T13:52:43.066Z"
   },
   {
    "duration": 18,
    "start_time": "2021-07-02T13:52:50.893Z"
   },
   {
    "duration": 21,
    "start_time": "2021-07-02T13:54:29.941Z"
   },
   {
    "duration": 22,
    "start_time": "2021-07-02T13:55:24.195Z"
   },
   {
    "duration": 21,
    "start_time": "2021-07-02T13:56:46.934Z"
   },
   {
    "duration": 18,
    "start_time": "2021-07-02T14:09:22.452Z"
   },
   {
    "duration": 18,
    "start_time": "2021-07-02T14:12:09.564Z"
   },
   {
    "duration": 13,
    "start_time": "2021-07-02T14:19:29.242Z"
   },
   {
    "duration": 13,
    "start_time": "2021-07-02T14:20:10.050Z"
   },
   {
    "duration": 14,
    "start_time": "2021-07-02T14:21:31.307Z"
   },
   {
    "duration": 13,
    "start_time": "2021-07-02T14:22:06.260Z"
   },
   {
    "duration": 14,
    "start_time": "2021-07-02T14:22:27.763Z"
   },
   {
    "duration": 299,
    "start_time": "2021-07-02T14:27:28.574Z"
   },
   {
    "duration": 22,
    "start_time": "2021-07-02T14:32:04.674Z"
   },
   {
    "duration": 19,
    "start_time": "2021-07-02T14:33:33.323Z"
   },
   {
    "duration": 19,
    "start_time": "2021-07-02T14:34:02.122Z"
   },
   {
    "duration": 247,
    "start_time": "2021-07-02T14:35:32.691Z"
   },
   {
    "duration": 23,
    "start_time": "2021-07-02T14:35:39.243Z"
   },
   {
    "duration": 25,
    "start_time": "2021-07-02T14:35:51.759Z"
   },
   {
    "duration": 26,
    "start_time": "2021-07-02T14:36:20.871Z"
   },
   {
    "duration": 18,
    "start_time": "2021-07-02T14:36:45.945Z"
   },
   {
    "duration": 21,
    "start_time": "2021-07-02T15:01:50.161Z"
   },
   {
    "duration": 12,
    "start_time": "2021-07-02T15:06:21.456Z"
   },
   {
    "duration": 13,
    "start_time": "2021-07-02T15:06:47.407Z"
   },
   {
    "duration": 12,
    "start_time": "2021-07-02T15:06:52.755Z"
   },
   {
    "duration": 55,
    "start_time": "2021-07-02T15:07:53.640Z"
   },
   {
    "duration": 305,
    "start_time": "2021-07-02T15:11:07.522Z"
   },
   {
    "duration": 455,
    "start_time": "2021-07-02T15:11:27.896Z"
   },
   {
    "duration": 419,
    "start_time": "2021-07-02T15:12:23.598Z"
   },
   {
    "duration": 18,
    "start_time": "2021-07-02T15:12:55.941Z"
   },
   {
    "duration": 9,
    "start_time": "2021-07-02T15:13:13.045Z"
   },
   {
    "duration": 559,
    "start_time": "2021-07-02T15:13:23.693Z"
   },
   {
    "duration": 10,
    "start_time": "2021-07-02T15:13:57.199Z"
   },
   {
    "duration": 345,
    "start_time": "2021-07-02T15:16:14.644Z"
   },
   {
    "duration": 332,
    "start_time": "2021-07-02T15:16:19.685Z"
   },
   {
    "duration": 9,
    "start_time": "2021-07-02T15:16:28.536Z"
   },
   {
    "duration": 43,
    "start_time": "2021-07-02T15:20:05.982Z"
   },
   {
    "duration": 40,
    "start_time": "2021-07-02T15:21:28.556Z"
   },
   {
    "duration": 23,
    "start_time": "2021-07-02T15:21:47.923Z"
   },
   {
    "duration": 123,
    "start_time": "2021-07-02T15:24:40.949Z"
   },
   {
    "duration": 159,
    "start_time": "2021-07-02T15:24:55.749Z"
   },
   {
    "duration": 31,
    "start_time": "2021-07-02T15:25:14.461Z"
   },
   {
    "duration": 385,
    "start_time": "2021-07-02T15:29:19.942Z"
   },
   {
    "duration": 26,
    "start_time": "2021-07-02T15:29:41.000Z"
   },
   {
    "duration": 34,
    "start_time": "2021-07-02T15:30:08.470Z"
   },
   {
    "duration": 31,
    "start_time": "2021-07-02T15:30:44.387Z"
   },
   {
    "duration": 30,
    "start_time": "2021-07-02T15:32:45.115Z"
   },
   {
    "duration": 16,
    "start_time": "2021-07-02T15:39:06.780Z"
   },
   {
    "duration": 17,
    "start_time": "2021-07-02T15:39:14.008Z"
   },
   {
    "duration": 21,
    "start_time": "2021-07-02T15:39:25.108Z"
   },
   {
    "duration": 17,
    "start_time": "2021-07-02T15:39:52.901Z"
   },
   {
    "duration": 17,
    "start_time": "2021-07-02T15:40:00.559Z"
   },
   {
    "duration": 17,
    "start_time": "2021-07-02T15:40:04.546Z"
   },
   {
    "duration": 16,
    "start_time": "2021-07-02T15:40:09.519Z"
   },
   {
    "duration": 17,
    "start_time": "2021-07-02T15:40:20.845Z"
   },
   {
    "duration": 25,
    "start_time": "2021-07-02T15:40:29.197Z"
   },
   {
    "duration": 17,
    "start_time": "2021-07-02T15:40:37.341Z"
   },
   {
    "duration": 20,
    "start_time": "2021-07-02T15:40:42.998Z"
   },
   {
    "duration": 30,
    "start_time": "2021-07-02T15:40:59.781Z"
   },
   {
    "duration": 31,
    "start_time": "2021-07-02T15:41:31.171Z"
   },
   {
    "duration": 32,
    "start_time": "2021-07-02T15:41:43.473Z"
   },
   {
    "duration": 33,
    "start_time": "2021-07-02T15:41:48.397Z"
   },
   {
    "duration": 46,
    "start_time": "2021-07-02T15:41:55.076Z"
   },
   {
    "duration": 31,
    "start_time": "2021-07-02T15:42:00.133Z"
   },
   {
    "duration": 927,
    "start_time": "2021-07-02T15:46:43.670Z"
   },
   {
    "duration": 113,
    "start_time": "2021-07-02T15:47:50.436Z"
   },
   {
    "duration": 960,
    "start_time": "2021-07-02T15:47:58.450Z"
   },
   {
    "duration": 8191,
    "start_time": "2021-07-02T15:52:33.045Z"
   },
   {
    "duration": 16,
    "start_time": "2021-07-02T15:52:52.533Z"
   },
   {
    "duration": 115,
    "start_time": "2021-07-02T16:00:13.970Z"
   },
   {
    "duration": 373,
    "start_time": "2021-07-02T16:00:21.850Z"
   },
   {
    "duration": 331,
    "start_time": "2021-07-02T16:01:08.714Z"
   },
   {
    "duration": 12,
    "start_time": "2021-07-02T16:01:16.003Z"
   },
   {
    "duration": 17,
    "start_time": "2021-07-02T16:01:27.266Z"
   },
   {
    "duration": 21,
    "start_time": "2021-07-02T16:02:47.907Z"
   },
   {
    "duration": 19,
    "start_time": "2021-07-02T16:03:08.858Z"
   },
   {
    "duration": 530,
    "start_time": "2021-07-02T16:08:31.740Z"
   },
   {
    "duration": 12,
    "start_time": "2021-07-02T16:08:51.081Z"
   },
   {
    "duration": 14,
    "start_time": "2021-07-02T16:09:20.945Z"
   },
   {
    "duration": 71,
    "start_time": "2021-07-02T16:10:06.321Z"
   },
   {
    "duration": 72,
    "start_time": "2021-07-02T16:10:44.049Z"
   },
   {
    "duration": 124,
    "start_time": "2021-07-02T16:11:04.742Z"
   },
   {
    "duration": 76,
    "start_time": "2021-07-02T16:11:24.305Z"
   },
   {
    "duration": 144,
    "start_time": "2021-07-02T16:26:31.062Z"
   },
   {
    "duration": 393,
    "start_time": "2021-07-02T16:26:31.210Z"
   },
   {
    "duration": 17,
    "start_time": "2021-07-02T16:26:31.606Z"
   },
   {
    "duration": 64,
    "start_time": "2021-07-02T16:26:31.625Z"
   },
   {
    "duration": 20,
    "start_time": "2021-07-02T16:26:31.692Z"
   },
   {
    "duration": 18927,
    "start_time": "2021-07-02T16:26:31.715Z"
   },
   {
    "duration": 47,
    "start_time": "2021-07-02T16:26:50.645Z"
   },
   {
    "duration": 22,
    "start_time": "2021-07-02T16:26:50.695Z"
   },
   {
    "duration": 71,
    "start_time": "2021-07-02T16:26:50.720Z"
   },
   {
    "duration": 17829,
    "start_time": "2021-07-02T16:27:49.210Z"
   },
   {
    "duration": 108,
    "start_time": "2021-07-02T16:28:58.095Z"
   },
   {
    "duration": 334,
    "start_time": "2021-07-02T16:28:58.206Z"
   },
   {
    "duration": 17,
    "start_time": "2021-07-02T16:28:58.543Z"
   },
   {
    "duration": 47,
    "start_time": "2021-07-02T16:28:58.563Z"
   },
   {
    "duration": 46,
    "start_time": "2021-07-02T16:28:58.612Z"
   },
   {
    "duration": 17567,
    "start_time": "2021-07-02T16:28:58.686Z"
   },
   {
    "duration": 43,
    "start_time": "2021-07-02T16:29:16.256Z"
   },
   {
    "duration": 16,
    "start_time": "2021-07-02T16:29:16.303Z"
   },
   {
    "duration": 63,
    "start_time": "2021-07-02T16:29:16.322Z"
   },
   {
    "duration": 15666,
    "start_time": "2021-07-02T16:29:48.088Z"
   },
   {
    "duration": 14864,
    "start_time": "2021-07-02T16:30:13.494Z"
   },
   {
    "duration": 15509,
    "start_time": "2021-07-02T16:30:51.816Z"
   },
   {
    "duration": 15167,
    "start_time": "2021-07-02T16:33:23.140Z"
   },
   {
    "duration": 17862,
    "start_time": "2021-07-02T16:39:43.425Z"
   },
   {
    "duration": 5946,
    "start_time": "2021-07-02T16:41:59.006Z"
   },
   {
    "duration": 6426,
    "start_time": "2021-07-02T16:52:09.489Z"
   },
   {
    "duration": 13938,
    "start_time": "2021-07-02T16:55:33.995Z"
   },
   {
    "duration": 123,
    "start_time": "2021-07-02T16:58:29.740Z"
   },
   {
    "duration": 33108,
    "start_time": "2021-07-02T16:58:34.834Z"
   },
   {
    "duration": 928,
    "start_time": "2021-07-02T16:59:58.700Z"
   },
   {
    "duration": 954,
    "start_time": "2021-07-02T17:00:54.284Z"
   },
   {
    "duration": 108,
    "start_time": "2021-07-02T17:01:36.143Z"
   },
   {
    "duration": 335,
    "start_time": "2021-07-02T17:01:36.254Z"
   },
   {
    "duration": 16,
    "start_time": "2021-07-02T17:01:36.592Z"
   },
   {
    "duration": 30,
    "start_time": "2021-07-02T17:01:36.611Z"
   },
   {
    "duration": 42,
    "start_time": "2021-07-02T17:01:36.644Z"
   },
   {
    "duration": 6520,
    "start_time": "2021-07-02T17:01:36.688Z"
   },
   {
    "duration": 19,
    "start_time": "2021-07-02T17:01:43.210Z"
   },
   {
    "duration": 16,
    "start_time": "2021-07-02T17:01:43.233Z"
   },
   {
    "duration": 58,
    "start_time": "2021-07-02T17:01:43.252Z"
   },
   {
    "duration": 108,
    "start_time": "2021-07-02T17:01:51.830Z"
   },
   {
    "duration": 344,
    "start_time": "2021-07-02T17:01:51.941Z"
   },
   {
    "duration": 18,
    "start_time": "2021-07-02T17:01:52.288Z"
   },
   {
    "duration": 29,
    "start_time": "2021-07-02T17:01:52.309Z"
   },
   {
    "duration": 48,
    "start_time": "2021-07-02T17:01:52.342Z"
   },
   {
    "duration": 6576,
    "start_time": "2021-07-02T17:01:52.393Z"
   },
   {
    "duration": 19,
    "start_time": "2021-07-02T17:01:58.986Z"
   },
   {
    "duration": 16,
    "start_time": "2021-07-02T17:01:59.009Z"
   },
   {
    "duration": 67,
    "start_time": "2021-07-02T17:01:59.028Z"
   },
   {
    "duration": 6010,
    "start_time": "2021-07-02T17:05:27.104Z"
   },
   {
    "duration": 7555,
    "start_time": "2021-07-02T17:07:15.692Z"
   },
   {
    "duration": 8260,
    "start_time": "2021-07-02T17:07:52.985Z"
   },
   {
    "duration": 105,
    "start_time": "2021-07-02T17:08:06.211Z"
   },
   {
    "duration": 345,
    "start_time": "2021-07-02T17:08:06.318Z"
   },
   {
    "duration": 24,
    "start_time": "2021-07-02T17:08:06.666Z"
   },
   {
    "duration": 30,
    "start_time": "2021-07-02T17:08:06.693Z"
   },
   {
    "duration": 67,
    "start_time": "2021-07-02T17:08:06.725Z"
   },
   {
    "duration": 7033,
    "start_time": "2021-07-02T17:08:06.794Z"
   },
   {
    "duration": 561,
    "start_time": "2021-07-02T17:08:13.269Z"
   },
   {
    "duration": 557,
    "start_time": "2021-07-02T17:08:13.274Z"
   },
   {
    "duration": 556,
    "start_time": "2021-07-02T17:08:13.276Z"
   },
   {
    "duration": 5735,
    "start_time": "2021-07-02T17:09:01.586Z"
   },
   {
    "duration": 6176,
    "start_time": "2021-07-02T17:20:50.198Z"
   },
   {
    "duration": 5807,
    "start_time": "2021-07-02T17:21:40.714Z"
   },
   {
    "duration": 860,
    "start_time": "2021-07-02T17:21:59.584Z"
   },
   {
    "duration": 333,
    "start_time": "2021-07-02T17:22:00.447Z"
   },
   {
    "duration": 15,
    "start_time": "2021-07-02T17:22:00.783Z"
   },
   {
    "duration": 32,
    "start_time": "2021-07-02T17:22:00.801Z"
   },
   {
    "duration": 26,
    "start_time": "2021-07-02T17:22:00.836Z"
   },
   {
    "duration": 7027,
    "start_time": "2021-07-02T17:22:00.886Z"
   },
   {
    "duration": 560,
    "start_time": "2021-07-02T17:22:07.356Z"
   },
   {
    "duration": 549,
    "start_time": "2021-07-02T17:22:07.369Z"
   },
   {
    "duration": 541,
    "start_time": "2021-07-02T17:22:07.378Z"
   },
   {
    "duration": 6050,
    "start_time": "2021-07-02T17:22:20.949Z"
   },
   {
    "duration": 13795,
    "start_time": "2021-07-02T17:22:54.005Z"
   },
   {
    "duration": 14647,
    "start_time": "2021-07-02T17:23:22.213Z"
   },
   {
    "duration": 10674,
    "start_time": "2021-07-02T17:24:36.745Z"
   },
   {
    "duration": 22817,
    "start_time": "2021-07-02T17:25:42.710Z"
   },
   {
    "duration": 13315,
    "start_time": "2021-07-02T17:26:30.607Z"
   },
   {
    "duration": 13539,
    "start_time": "2021-07-02T17:28:19.300Z"
   },
   {
    "duration": 893,
    "start_time": "2021-07-02T17:29:34.574Z"
   },
   {
    "duration": 339,
    "start_time": "2021-07-02T17:29:35.470Z"
   },
   {
    "duration": 16,
    "start_time": "2021-07-02T17:29:35.812Z"
   },
   {
    "duration": 29,
    "start_time": "2021-07-02T17:29:35.831Z"
   },
   {
    "duration": 22,
    "start_time": "2021-07-02T17:29:35.886Z"
   },
   {
    "duration": 14456,
    "start_time": "2021-07-02T17:29:35.911Z"
   },
   {
    "duration": 549,
    "start_time": "2021-07-02T17:29:49.821Z"
   },
   {
    "duration": 546,
    "start_time": "2021-07-02T17:29:49.825Z"
   },
   {
    "duration": 546,
    "start_time": "2021-07-02T17:29:49.827Z"
   },
   {
    "duration": 5915,
    "start_time": "2021-07-02T17:35:36.101Z"
   },
   {
    "duration": 6242,
    "start_time": "2021-07-02T17:36:12.845Z"
   },
   {
    "duration": 111,
    "start_time": "2021-07-02T17:51:27.513Z"
   },
   {
    "duration": 127,
    "start_time": "2021-07-02T17:51:34.392Z"
   },
   {
    "duration": 112,
    "start_time": "2021-07-02T17:52:25.420Z"
   },
   {
    "duration": 115,
    "start_time": "2021-07-02T17:52:31.912Z"
   },
   {
    "duration": 119,
    "start_time": "2021-07-02T17:53:36.384Z"
   },
   {
    "duration": 109,
    "start_time": "2021-07-02T18:00:31.648Z"
   },
   {
    "duration": 6144,
    "start_time": "2021-07-02T18:00:48.727Z"
   },
   {
    "duration": 6134,
    "start_time": "2021-07-02T18:04:12.529Z"
   },
   {
    "duration": 5753,
    "start_time": "2021-07-02T18:15:35.799Z"
   },
   {
    "duration": 115,
    "start_time": "2021-07-02T18:23:35.805Z"
   },
   {
    "duration": 116,
    "start_time": "2021-07-02T18:24:11.961Z"
   },
   {
    "duration": 137,
    "start_time": "2021-07-02T18:25:09.646Z"
   },
   {
    "duration": 108,
    "start_time": "2021-07-02T18:26:41.321Z"
   },
   {
    "duration": 115,
    "start_time": "2021-07-02T18:27:48.607Z"
   },
   {
    "duration": 106,
    "start_time": "2021-07-02T18:28:40.486Z"
   },
   {
    "duration": 835,
    "start_time": "2021-07-02T18:28:51.891Z"
   },
   {
    "duration": 332,
    "start_time": "2021-07-02T18:28:52.730Z"
   },
   {
    "duration": 29,
    "start_time": "2021-07-02T18:28:53.065Z"
   },
   {
    "duration": 33,
    "start_time": "2021-07-02T18:28:53.097Z"
   },
   {
    "duration": 22,
    "start_time": "2021-07-02T18:28:53.133Z"
   },
   {
    "duration": 123,
    "start_time": "2021-07-02T18:28:53.158Z"
   },
   {
    "duration": 586,
    "start_time": "2021-07-02T18:28:52.698Z"
   },
   {
    "duration": 584,
    "start_time": "2021-07-02T18:28:52.701Z"
   },
   {
    "duration": 584,
    "start_time": "2021-07-02T18:28:52.703Z"
   },
   {
    "duration": 7407,
    "start_time": "2021-07-02T18:30:21.263Z"
   },
   {
    "duration": 6220,
    "start_time": "2021-07-02T18:31:54.175Z"
   },
   {
    "duration": 5872,
    "start_time": "2021-07-02T18:32:33.167Z"
   },
   {
    "duration": 5647,
    "start_time": "2021-07-02T18:33:07.855Z"
   },
   {
    "duration": 1707,
    "start_time": "2021-07-02T18:33:38.307Z"
   },
   {
    "duration": 899,
    "start_time": "2021-07-03T10:16:25.021Z"
   },
   {
    "duration": 326,
    "start_time": "2021-07-03T10:16:25.923Z"
   },
   {
    "duration": 17,
    "start_time": "2021-07-03T10:16:26.252Z"
   },
   {
    "duration": 32,
    "start_time": "2021-07-03T10:16:26.284Z"
   },
   {
    "duration": 17,
    "start_time": "2021-07-03T10:16:26.319Z"
   },
   {
    "duration": 6,
    "start_time": "2021-07-03T10:16:26.338Z"
   },
   {
    "duration": 268,
    "start_time": "2021-07-03T10:16:26.078Z"
   },
   {
    "duration": 241,
    "start_time": "2021-07-03T10:16:26.107Z"
   },
   {
    "duration": 240,
    "start_time": "2021-07-03T10:16:26.109Z"
   },
   {
    "duration": 933,
    "start_time": "2021-07-03T10:17:23.805Z"
   },
   {
    "duration": 105,
    "start_time": "2021-07-03T10:17:45.189Z"
   },
   {
    "duration": 960,
    "start_time": "2021-07-03T10:17:49.126Z"
   },
   {
    "duration": 969,
    "start_time": "2021-07-03T10:18:02.328Z"
   },
   {
    "duration": 7,
    "start_time": "2021-07-03T10:20:11.382Z"
   },
   {
    "duration": 473,
    "start_time": "2021-07-03T10:20:39.012Z"
   },
   {
    "duration": 403,
    "start_time": "2021-07-03T10:21:08.278Z"
   },
   {
    "duration": 318,
    "start_time": "2021-07-03T10:21:30.677Z"
   },
   {
    "duration": 2585,
    "start_time": "2021-07-03T10:21:42.574Z"
   },
   {
    "duration": 2475,
    "start_time": "2021-07-03T10:22:02.214Z"
   },
   {
    "duration": 2482,
    "start_time": "2021-07-03T10:23:26.937Z"
   },
   {
    "duration": 2708,
    "start_time": "2021-07-03T10:23:32.999Z"
   },
   {
    "duration": 7046,
    "start_time": "2021-07-03T10:25:50.703Z"
   },
   {
    "duration": 4587,
    "start_time": "2021-07-03T10:26:32.839Z"
   },
   {
    "duration": 4975,
    "start_time": "2021-07-03T10:27:27.883Z"
   },
   {
    "duration": 107,
    "start_time": "2021-07-03T10:27:50.367Z"
   },
   {
    "duration": 344,
    "start_time": "2021-07-03T10:27:50.477Z"
   },
   {
    "duration": 16,
    "start_time": "2021-07-03T10:27:50.824Z"
   },
   {
    "duration": 50,
    "start_time": "2021-07-03T10:27:50.842Z"
   },
   {
    "duration": 941,
    "start_time": "2021-07-03T10:27:50.895Z"
   },
   {
    "duration": 12698,
    "start_time": "2021-07-03T10:27:51.839Z"
   },
   {
    "duration": 261,
    "start_time": "2021-07-03T10:28:04.279Z"
   },
   {
    "duration": 259,
    "start_time": "2021-07-03T10:28:04.282Z"
   },
   {
    "duration": 259,
    "start_time": "2021-07-03T10:28:04.284Z"
   },
   {
    "duration": 5152,
    "start_time": "2021-07-03T10:28:23.780Z"
   },
   {
    "duration": 14,
    "start_time": "2021-07-03T10:33:56.271Z"
   },
   {
    "duration": 38,
    "start_time": "2021-07-03T10:34:22.970Z"
   },
   {
    "duration": 6,
    "start_time": "2021-07-03T10:36:08.254Z"
   },
   {
    "duration": 22,
    "start_time": "2021-07-03T10:36:20.875Z"
   },
   {
    "duration": 36,
    "start_time": "2021-07-03T10:38:01.659Z"
   },
   {
    "duration": 316,
    "start_time": "2021-07-03T10:42:50.246Z"
   },
   {
    "duration": 385,
    "start_time": "2021-07-03T10:43:04.526Z"
   },
   {
    "duration": 368,
    "start_time": "2021-07-03T10:43:13.726Z"
   },
   {
    "duration": 627,
    "start_time": "2021-07-03T10:45:37.062Z"
   },
   {
    "duration": 110,
    "start_time": "2021-07-03T10:51:36.823Z"
   },
   {
    "duration": 103,
    "start_time": "2021-07-03T10:52:02.918Z"
   },
   {
    "duration": 106,
    "start_time": "2021-07-03T10:52:24.979Z"
   },
   {
    "duration": 124,
    "start_time": "2021-07-03T10:56:26.462Z"
   },
   {
    "duration": 94,
    "start_time": "2021-07-03T10:56:43.642Z"
   },
   {
    "duration": 182,
    "start_time": "2021-07-03T11:05:01.541Z"
   },
   {
    "duration": 1013,
    "start_time": "2021-07-03T11:05:06.483Z"
   },
   {
    "duration": 1163,
    "start_time": "2021-07-03T11:15:16.501Z"
   },
   {
    "duration": 821,
    "start_time": "2021-07-03T11:17:38.977Z"
   },
   {
    "duration": 619,
    "start_time": "2021-07-03T11:19:13.207Z"
   },
   {
    "duration": 753,
    "start_time": "2021-07-03T11:19:39.026Z"
   },
   {
    "duration": 306,
    "start_time": "2021-07-03T11:21:42.242Z"
   },
   {
    "duration": 104,
    "start_time": "2021-07-03T11:22:10.144Z"
   },
   {
    "duration": 95,
    "start_time": "2021-07-03T11:23:34.313Z"
   },
   {
    "duration": 112,
    "start_time": "2021-07-03T11:23:55.858Z"
   },
   {
    "duration": 111,
    "start_time": "2021-07-03T11:28:17.615Z"
   },
   {
    "duration": 97,
    "start_time": "2021-07-03T11:28:27.967Z"
   },
   {
    "duration": 94,
    "start_time": "2021-07-03T11:28:41.421Z"
   },
   {
    "duration": 159,
    "start_time": "2021-07-03T11:29:02.128Z"
   },
   {
    "duration": 107,
    "start_time": "2021-07-03T11:29:11.650Z"
   },
   {
    "duration": 134,
    "start_time": "2021-07-03T11:29:41.576Z"
   },
   {
    "duration": 198,
    "start_time": "2021-07-03T11:29:49.576Z"
   },
   {
    "duration": 129,
    "start_time": "2021-07-03T11:30:03.720Z"
   },
   {
    "duration": 398,
    "start_time": "2021-07-03T11:31:45.376Z"
   },
   {
    "duration": 8630,
    "start_time": "2021-07-03T11:32:07.813Z"
   },
   {
    "duration": 7445,
    "start_time": "2021-07-03T11:33:27.996Z"
   },
   {
    "duration": 7330,
    "start_time": "2021-07-03T11:34:21.538Z"
   },
   {
    "duration": 7773,
    "start_time": "2021-07-03T11:34:46.809Z"
   },
   {
    "duration": 8355,
    "start_time": "2021-07-03T11:35:53.947Z"
   },
   {
    "duration": 35,
    "start_time": "2021-07-03T11:36:37.216Z"
   },
   {
    "duration": 98,
    "start_time": "2021-07-03T11:44:11.496Z"
   },
   {
    "duration": 526,
    "start_time": "2021-07-03T11:44:21.510Z"
   },
   {
    "duration": 982,
    "start_time": "2021-07-03T11:44:38.206Z"
   },
   {
    "duration": 610,
    "start_time": "2021-07-03T11:44:50.932Z"
   },
   {
    "duration": 3926,
    "start_time": "2021-07-03T11:45:21.008Z"
   },
   {
    "duration": 634,
    "start_time": "2021-07-03T11:45:45.673Z"
   },
   {
    "duration": 114,
    "start_time": "2021-07-03T11:46:03.759Z"
   },
   {
    "duration": 668,
    "start_time": "2021-07-03T11:46:17.400Z"
   },
   {
    "duration": 622,
    "start_time": "2021-07-03T11:47:15.819Z"
   },
   {
    "duration": 672,
    "start_time": "2021-07-03T11:49:06.525Z"
   },
   {
    "duration": 605,
    "start_time": "2021-07-03T11:51:06.285Z"
   },
   {
    "duration": 622,
    "start_time": "2021-07-03T11:51:34.904Z"
   },
   {
    "duration": 4881,
    "start_time": "2021-07-03T11:52:56.277Z"
   },
   {
    "duration": 4629,
    "start_time": "2021-07-03T11:53:23.791Z"
   },
   {
    "duration": 12,
    "start_time": "2021-07-03T11:53:37.458Z"
   },
   {
    "duration": 13,
    "start_time": "2021-07-03T11:53:50.884Z"
   },
   {
    "duration": 104,
    "start_time": "2021-07-03T11:53:56.593Z"
   },
   {
    "duration": 331,
    "start_time": "2021-07-03T11:53:56.699Z"
   },
   {
    "duration": 606,
    "start_time": "2021-07-03T11:53:57.033Z"
   },
   {
    "duration": 46,
    "start_time": "2021-07-03T11:53:57.642Z"
   },
   {
    "duration": 958,
    "start_time": "2021-07-03T11:53:57.690Z"
   },
   {
    "duration": 4564,
    "start_time": "2021-07-03T11:53:58.651Z"
   },
   {
    "duration": 17,
    "start_time": "2021-07-03T11:54:03.218Z"
   },
   {
    "duration": 14,
    "start_time": "2021-07-03T11:54:03.239Z"
   },
   {
    "duration": 37,
    "start_time": "2021-07-03T11:54:03.285Z"
   },
   {
    "duration": 14,
    "start_time": "2021-07-03T11:54:03.325Z"
   },
   {
    "duration": 15,
    "start_time": "2021-07-03T11:54:21.186Z"
   },
   {
    "duration": 24,
    "start_time": "2021-07-03T11:58:00.604Z"
   },
   {
    "duration": 132,
    "start_time": "2021-07-03T12:01:10.765Z"
   },
   {
    "duration": 109,
    "start_time": "2021-07-03T12:02:25.404Z"
   },
   {
    "duration": 9243,
    "start_time": "2021-07-03T12:02:34.051Z"
   },
   {
    "duration": 8534,
    "start_time": "2021-07-03T12:03:46.891Z"
   },
   {
    "duration": 842,
    "start_time": "2021-07-03T12:04:09.987Z"
   },
   {
    "duration": 334,
    "start_time": "2021-07-03T12:04:10.831Z"
   },
   {
    "duration": 624,
    "start_time": "2021-07-03T12:04:11.168Z"
   },
   {
    "duration": 30,
    "start_time": "2021-07-03T12:04:11.795Z"
   },
   {
    "duration": 996,
    "start_time": "2021-07-03T12:04:11.827Z"
   },
   {
    "duration": 4499,
    "start_time": "2021-07-03T12:04:12.826Z"
   },
   {
    "duration": 18,
    "start_time": "2021-07-03T12:04:17.328Z"
   },
   {
    "duration": 44,
    "start_time": "2021-07-03T12:04:17.350Z"
   },
   {
    "duration": 37,
    "start_time": "2021-07-03T12:04:17.396Z"
   },
   {
    "duration": 9579,
    "start_time": "2021-07-03T12:04:17.436Z"
   },
   {
    "duration": 9198,
    "start_time": "2021-07-03T12:04:51.963Z"
   },
   {
    "duration": 320,
    "start_time": "2021-07-03T12:05:44.906Z"
   },
   {
    "duration": 366,
    "start_time": "2021-07-03T12:06:14.228Z"
   },
   {
    "duration": 28,
    "start_time": "2021-07-03T12:06:49.077Z"
   },
   {
    "duration": 34,
    "start_time": "2021-07-03T12:09:28.544Z"
   },
   {
    "duration": 330,
    "start_time": "2021-07-03T12:10:14.907Z"
   },
   {
    "duration": 8203,
    "start_time": "2021-07-03T12:10:33.407Z"
   },
   {
    "duration": 21,
    "start_time": "2021-07-03T12:11:31.116Z"
   },
   {
    "duration": 18,
    "start_time": "2021-07-03T12:11:52.391Z"
   },
   {
    "duration": 106,
    "start_time": "2021-07-03T12:15:32.299Z"
   },
   {
    "duration": 330,
    "start_time": "2021-07-03T12:15:32.408Z"
   },
   {
    "duration": 712,
    "start_time": "2021-07-03T12:15:32.742Z"
   },
   {
    "duration": 43,
    "start_time": "2021-07-03T12:15:33.457Z"
   },
   {
    "duration": 992,
    "start_time": "2021-07-03T12:15:33.502Z"
   },
   {
    "duration": 4560,
    "start_time": "2021-07-03T12:15:34.497Z"
   },
   {
    "duration": 30,
    "start_time": "2021-07-03T12:15:39.059Z"
   },
   {
    "duration": 25,
    "start_time": "2021-07-03T12:15:39.091Z"
   },
   {
    "duration": 66,
    "start_time": "2021-07-03T12:15:39.120Z"
   },
   {
    "duration": 19,
    "start_time": "2021-07-03T12:15:39.188Z"
   },
   {
    "duration": 18,
    "start_time": "2021-07-03T12:15:54.876Z"
   },
   {
    "duration": 16,
    "start_time": "2021-07-03T12:22:00.727Z"
   },
   {
    "duration": 13,
    "start_time": "2021-07-03T12:26:50.251Z"
   },
   {
    "duration": 127,
    "start_time": "2021-07-03T14:18:41.925Z"
   },
   {
    "duration": 108,
    "start_time": "2021-07-03T14:20:54.974Z"
   },
   {
    "duration": 104,
    "start_time": "2021-07-03T14:22:00.854Z"
   },
   {
    "duration": 872,
    "start_time": "2021-07-04T13:19:40.349Z"
   },
   {
    "duration": 328,
    "start_time": "2021-07-04T13:19:41.224Z"
   },
   {
    "duration": 631,
    "start_time": "2021-07-04T13:19:41.555Z"
   },
   {
    "duration": 28,
    "start_time": "2021-07-04T13:19:42.189Z"
   },
   {
    "duration": 968,
    "start_time": "2021-07-04T13:19:42.219Z"
   },
   {
    "duration": 4446,
    "start_time": "2021-07-04T13:19:43.189Z"
   },
   {
    "duration": 18,
    "start_time": "2021-07-04T13:19:47.638Z"
   },
   {
    "duration": 37,
    "start_time": "2021-07-04T13:19:47.659Z"
   },
   {
    "duration": 36,
    "start_time": "2021-07-04T13:19:47.699Z"
   },
   {
    "duration": 18,
    "start_time": "2021-07-04T13:19:47.737Z"
   },
   {
    "duration": 719,
    "start_time": "2021-07-04T13:26:25.620Z"
   },
   {
    "duration": 943,
    "start_time": "2021-07-04T13:29:34.211Z"
   },
   {
    "duration": 1456,
    "start_time": "2021-07-04T13:31:07.513Z"
   },
   {
    "duration": 964,
    "start_time": "2021-07-04T13:31:31.406Z"
   },
   {
    "duration": 994,
    "start_time": "2021-07-04T13:33:06.912Z"
   },
   {
    "duration": 1271,
    "start_time": "2021-07-04T13:34:00.785Z"
   },
   {
    "duration": 1393,
    "start_time": "2021-07-04T13:34:25.606Z"
   },
   {
    "duration": 1075,
    "start_time": "2021-07-04T13:34:45.330Z"
   },
   {
    "duration": 990,
    "start_time": "2021-07-04T13:35:16.631Z"
   },
   {
    "duration": 959,
    "start_time": "2021-07-04T13:35:40.239Z"
   },
   {
    "duration": 953,
    "start_time": "2021-07-04T13:37:55.775Z"
   },
   {
    "duration": 985,
    "start_time": "2021-07-04T13:40:30.375Z"
   },
   {
    "duration": 980,
    "start_time": "2021-07-04T13:41:03.669Z"
   },
   {
    "duration": 966,
    "start_time": "2021-07-04T13:41:27.411Z"
   },
   {
    "duration": 953,
    "start_time": "2021-07-04T13:42:13.681Z"
   },
   {
    "duration": 186,
    "start_time": "2021-07-04T13:42:24.331Z"
   },
   {
    "duration": 965,
    "start_time": "2021-07-04T13:42:32.913Z"
   },
   {
    "duration": 1346,
    "start_time": "2021-07-04T13:44:09.375Z"
   },
   {
    "duration": 1402,
    "start_time": "2021-07-04T13:44:17.070Z"
   },
   {
    "duration": 1011,
    "start_time": "2021-07-04T13:44:24.461Z"
   },
   {
    "duration": 96,
    "start_time": "2021-07-04T13:56:10.252Z"
   },
   {
    "duration": 6441,
    "start_time": "2021-07-04T13:56:24.653Z"
   },
   {
    "duration": 111,
    "start_time": "2021-07-04T13:58:26.510Z"
   },
   {
    "duration": 5984,
    "start_time": "2021-07-04T13:58:45.831Z"
   },
   {
    "duration": 5849,
    "start_time": "2021-07-04T13:59:06.726Z"
   },
   {
    "duration": 13257,
    "start_time": "2021-07-04T14:00:36.840Z"
   },
   {
    "duration": 9000,
    "start_time": "2021-07-04T14:01:14.598Z"
   },
   {
    "duration": 9391,
    "start_time": "2021-07-04T14:01:32.447Z"
   },
   {
    "duration": 9012,
    "start_time": "2021-07-04T14:02:25.716Z"
   },
   {
    "duration": 14110,
    "start_time": "2021-07-04T14:08:03.606Z"
   },
   {
    "duration": 14194,
    "start_time": "2021-07-04T14:08:33.932Z"
   },
   {
    "duration": 14659,
    "start_time": "2021-07-04T14:09:08.781Z"
   },
   {
    "duration": 4967,
    "start_time": "2021-07-04T14:14:01.797Z"
   },
   {
    "duration": 5016,
    "start_time": "2021-07-04T14:14:19.259Z"
   },
   {
    "duration": 17,
    "start_time": "2021-07-04T14:18:56.579Z"
   },
   {
    "duration": 14,
    "start_time": "2021-07-04T14:22:00.551Z"
   },
   {
    "duration": 13,
    "start_time": "2021-07-04T14:22:42.044Z"
   },
   {
    "duration": 1111,
    "start_time": "2021-07-04T14:27:29.904Z"
   },
   {
    "duration": 1258,
    "start_time": "2021-07-04T14:28:25.424Z"
   },
   {
    "duration": 1386,
    "start_time": "2021-07-04T14:28:45.423Z"
   },
   {
    "duration": 117,
    "start_time": "2021-07-05T10:12:53.870Z"
   },
   {
    "duration": 185,
    "start_time": "2021-07-05T10:13:35.273Z"
   },
   {
    "duration": 1130,
    "start_time": "2021-07-05T17:01:56.999Z"
   },
   {
    "duration": 367,
    "start_time": "2021-07-05T17:01:58.132Z"
   },
   {
    "duration": 732,
    "start_time": "2021-07-05T17:01:58.502Z"
   },
   {
    "duration": 34,
    "start_time": "2021-07-05T17:01:59.237Z"
   },
   {
    "duration": 1074,
    "start_time": "2021-07-05T17:01:59.273Z"
   },
   {
    "duration": 5108,
    "start_time": "2021-07-05T17:02:00.351Z"
   },
   {
    "duration": 18,
    "start_time": "2021-07-05T17:02:05.461Z"
   },
   {
    "duration": 23,
    "start_time": "2021-07-05T17:02:05.509Z"
   },
   {
    "duration": 39,
    "start_time": "2021-07-05T17:02:05.535Z"
   },
   {
    "duration": 47,
    "start_time": "2021-07-05T17:02:05.577Z"
   },
   {
    "duration": 1160,
    "start_time": "2021-07-05T17:03:30.488Z"
   },
   {
    "duration": 1040,
    "start_time": "2021-07-05T17:04:20.209Z"
   },
   {
    "duration": 1468,
    "start_time": "2021-07-05T17:04:59.766Z"
   },
   {
    "duration": 1167,
    "start_time": "2021-07-05T17:05:12.455Z"
   },
   {
    "duration": 1033,
    "start_time": "2021-07-05T17:05:54.764Z"
   },
   {
    "duration": 1059,
    "start_time": "2021-07-05T17:06:38.655Z"
   },
   {
    "duration": 1013,
    "start_time": "2021-07-05T17:09:09.268Z"
   },
   {
    "duration": 1043,
    "start_time": "2021-07-05T17:09:23.515Z"
   },
   {
    "duration": 915,
    "start_time": "2021-09-21T12:38:42.528Z"
   },
   {
    "duration": 387,
    "start_time": "2021-09-21T12:38:43.446Z"
   },
   {
    "duration": 680,
    "start_time": "2021-09-21T12:38:43.837Z"
   },
   {
    "duration": 32,
    "start_time": "2021-09-21T12:38:44.521Z"
   },
   {
    "duration": 976,
    "start_time": "2021-09-21T12:38:44.555Z"
   },
   {
    "duration": 4664,
    "start_time": "2021-09-21T12:38:45.534Z"
   },
   {
    "duration": 23,
    "start_time": "2021-09-21T12:38:50.202Z"
   },
   {
    "duration": 18,
    "start_time": "2021-09-21T12:38:50.229Z"
   },
   {
    "duration": 77,
    "start_time": "2021-09-21T12:38:50.250Z"
   },
   {
    "duration": 20,
    "start_time": "2021-09-21T12:38:50.330Z"
   },
   {
    "duration": 952,
    "start_time": "2021-09-28T15:18:50.376Z"
   },
   {
    "duration": 368,
    "start_time": "2021-09-28T15:18:53.476Z"
   },
   {
    "duration": 699,
    "start_time": "2021-09-28T15:18:58.222Z"
   },
   {
    "duration": 37,
    "start_time": "2021-09-28T15:19:12.912Z"
   },
   {
    "duration": 789,
    "start_time": "2021-11-06T15:41:41.796Z"
   },
   {
    "duration": 775,
    "start_time": "2021-11-06T15:41:55.148Z"
   },
   {
    "duration": 273,
    "start_time": "2021-11-06T15:41:55.925Z"
   },
   {
    "duration": 399,
    "start_time": "2021-11-06T15:41:56.200Z"
   },
   {
    "duration": 28,
    "start_time": "2021-11-06T15:41:56.601Z"
   },
   {
    "duration": 737,
    "start_time": "2021-11-06T15:41:56.631Z"
   },
   {
    "duration": 4166,
    "start_time": "2021-11-06T15:41:57.370Z"
   },
   {
    "duration": 27,
    "start_time": "2021-11-06T15:42:01.539Z"
   },
   {
    "duration": 16,
    "start_time": "2021-11-06T15:42:01.571Z"
   },
   {
    "duration": 46,
    "start_time": "2021-11-06T15:42:01.589Z"
   },
   {
    "duration": 13,
    "start_time": "2021-11-06T15:42:01.638Z"
   },
   {
    "duration": 3,
    "start_time": "2021-11-06T16:17:19.654Z"
   },
   {
    "duration": 396,
    "start_time": "2021-11-06T16:17:19.659Z"
   },
   {
    "duration": 32,
    "start_time": "2021-11-06T16:17:20.057Z"
   },
   {
    "duration": 72,
    "start_time": "2021-11-06T16:17:20.091Z"
   },
   {
    "duration": 162,
    "start_time": "2021-11-06T16:17:20.165Z"
   },
   {
    "duration": 17,
    "start_time": "2021-11-06T16:17:20.329Z"
   },
   {
    "duration": 347,
    "start_time": "2021-11-06T16:17:20.348Z"
   },
   {
    "duration": 24,
    "start_time": "2021-11-06T16:17:20.697Z"
   },
   {
    "duration": 47,
    "start_time": "2021-11-06T16:17:20.723Z"
   },
   {
    "duration": 735,
    "start_time": "2021-11-06T16:17:20.772Z"
   },
   {
    "duration": 11,
    "start_time": "2021-11-06T16:17:21.509Z"
   },
   {
    "duration": 3795,
    "start_time": "2021-11-06T16:17:21.522Z"
   },
   {
    "duration": 19,
    "start_time": "2021-11-06T16:17:25.319Z"
   },
   {
    "duration": 10,
    "start_time": "2021-11-06T16:17:25.340Z"
   },
   {
    "duration": 20,
    "start_time": "2021-11-06T16:17:25.352Z"
   },
   {
    "duration": 28,
    "start_time": "2021-11-06T16:17:25.373Z"
   },
   {
    "duration": 12,
    "start_time": "2021-11-06T16:17:25.402Z"
   }
  ],
  "kernelspec": {
   "display_name": "Python 3",
   "language": "python",
   "name": "python3"
  },
  "language_info": {
   "codemirror_mode": {
    "name": "ipython",
    "version": 3
   },
   "file_extension": ".py",
   "mimetype": "text/x-python",
   "name": "python",
   "nbconvert_exporter": "python",
   "pygments_lexer": "ipython3",
   "version": "3.7.8"
  },
  "toc": {
   "base_numbering": 1,
   "nav_menu": {},
   "number_sections": true,
   "sideBar": true,
   "skip_h1_title": true,
   "title_cell": "Table of Contents",
   "title_sidebar": "Contents",
   "toc_cell": false,
   "toc_position": {
    "height": "calc(100% - 180px)",
    "left": "10px",
    "top": "150px",
    "width": "165px"
   },
   "toc_section_display": true,
   "toc_window_display": true
  }
 },
 "nbformat": 4,
 "nbformat_minor": 2
}
